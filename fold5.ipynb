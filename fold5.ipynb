{
  "nbformat": 4,
  "nbformat_minor": 0,
  "metadata": {
    "accelerator": "GPU",
    "colab": {
      "name": "Kodingan Skripsi 3",
      "provenance": [],
      "collapsed_sections": [],
      "include_colab_link": true
    },
    "kernelspec": {
      "display_name": "Python 3",
      "language": "python",
      "name": "python3"
    },
    "language_info": {
      "codemirror_mode": {
        "name": "ipython",
        "version": 3
      },
      "file_extension": ".py",
      "mimetype": "text/x-python",
      "name": "python",
      "nbconvert_exporter": "python",
      "pygments_lexer": "ipython3",
      "version": "3.6.6"
    }
  },
  "cells": [
    {
      "cell_type": "markdown",
      "metadata": {
        "id": "view-in-github",
        "colab_type": "text"
      },
      "source": [
        "<a href=\"https://colab.research.google.com/github/TaufiqIdrus/Aplikasi-Pendeteksi-Mobil-master/blob/master/fold5.ipynb\" target=\"_parent\"><img src=\"https://colab.research.google.com/assets/colab-badge.svg\" alt=\"Open In Colab\"/></a>"
      ]
    },
    {
      "cell_type": "markdown",
      "metadata": {
        "id": "yJT_kQA2lITS"
      },
      "source": [
        "**Identifikasi Penyakit Pada Tanaman Apel menggunakan Convolutional Neural Network**"
      ]
    },
    {
      "cell_type": "code",
      "metadata": {
        "id": "xXeOaYTUzmgT"
      },
      "source": [
        "import numpy as np\n",
        "import pickle\n",
        "import os\n",
        "import cv2\n",
        "import tensorflow as tf\n",
        "import keras\n",
        "from os import listdir\n",
        "from sklearn.preprocessing import LabelBinarizer\n",
        "from sklearn.model_selection import KFold\n",
        "from keras.models import Sequential\n",
        "from keras.layers.normalization import batch_normalization\n",
        "from keras.layers.convolutional import Conv2D\n",
        "from keras.layers.convolutional import MaxPooling2D\n",
        "from keras.layers.core import Activation, Flatten, Dropout, Dense\n",
        "from keras import backend as K\n",
        "from tensorflow.keras.optimizers import Adam\n",
        "from keras.preprocessing import image\n",
        "from sklearn.preprocessing import MultiLabelBinarizer\n",
        "from sklearn.model_selection import train_test_split\n",
        "import matplotlib.pyplot as plt\n",
        "from sklearn.datasets import make_classification\n",
        "from numpy import mean\n",
        "from sklearn.metrics import confusion_matrix, ConfusionMatrixDisplay, accuracy_score, classification_report, recall_score\n"
      ],
      "execution_count": 1,
      "outputs": []
    },
    {
      "cell_type": "markdown",
      "metadata": {
        "id": "fp8C0d28lQok"
      },
      "source": [
        "Importing and Preparing Dataset"
      ]
    },
    {
      "cell_type": "code",
      "metadata": {
        "id": "_0xehllADlUs",
        "colab": {
          "base_uri": "https://localhost:8080/"
        },
        "outputId": "ea952f41-bf08-4010-fac0-858da486b171"
      },
      "source": [
        "!pip install pyunpack\n",
        "!pip install patool\n",
        "from pyunpack import Archive\n",
        "Archive('/content/fold5.rar').extractall('/content/Datasets/')\n",
        "iterasi = 5\n",
        "width=256\n",
        "height=256\n",
        "default_image_size = tuple((height, width))\n",
        "directory_root_train = '/content/Datasets/fold5/Train'\n",
        "directory_root_validation = '/content/Datasets/fold5/Validation'\n",
        "directory_root_test = '/content/Datasets/fold5/Test'\n",
        "image_size = 0\n",
        "depth=3"
      ],
      "execution_count": 2,
      "outputs": [
        {
          "output_type": "stream",
          "name": "stdout",
          "text": [
            "Collecting pyunpack\n",
            "  Downloading pyunpack-0.2.2-py2.py3-none-any.whl (3.8 kB)\n",
            "Collecting entrypoint2\n",
            "  Downloading entrypoint2-1.0-py3-none-any.whl (9.8 kB)\n",
            "Collecting easyprocess\n",
            "  Downloading EasyProcess-1.1-py3-none-any.whl (8.7 kB)\n",
            "Installing collected packages: entrypoint2, easyprocess, pyunpack\n",
            "Successfully installed easyprocess-1.1 entrypoint2-1.0 pyunpack-0.2.2\n",
            "Collecting patool\n",
            "  Downloading patool-1.12-py2.py3-none-any.whl (77 kB)\n",
            "\u001b[K     |████████████████████████████████| 77 kB 3.4 MB/s \n",
            "\u001b[?25hInstalling collected packages: patool\n",
            "Successfully installed patool-1.12\n"
          ]
        }
      ]
    },
    {
      "cell_type": "code",
      "metadata": {
        "id": "KbAwJJTpzmge"
      },
      "source": [
        "def convert_image_to_array(image_dir):\n",
        "    try:\n",
        "        image = cv2.imread(image_dir)\n",
        "        if image is not None :\n",
        "            image = cv2.resize(image, default_image_size)   \n",
        "            return keras.preprocessing.image.img_to_array(image)\n",
        "        else :\n",
        "            return np.array([])\n",
        "    except Exception as e:\n",
        "        print(f\"Error : {e}\")\n",
        "        return None"
      ],
      "execution_count": 3,
      "outputs": []
    },
    {
      "cell_type": "markdown",
      "source": [
        "Converting **Training** Data to Array"
      ],
      "metadata": {
        "id": "bgXxUMO2cI_D"
      }
    },
    {
      "cell_type": "code",
      "metadata": {
        "id": "Erz6IjKXzmgg",
        "colab": {
          "base_uri": "https://localhost:8080/"
        },
        "outputId": "3cccc15c-24b9-456e-d9a6-748e747e4ef9"
      },
      "source": [
        "image_list_train, label_list_train = [], []\n",
        "try:\n",
        "    print(\"[INFO] Loading images ...\")\n",
        "    root_dir = listdir(directory_root_train)\n",
        "\n",
        "    for plant_disease_folder in root_dir:\n",
        "        print(f\"[INFO] Processing {plant_disease_folder} ...\")\n",
        "        plant_disease_image_list = listdir(f\"{directory_root_train}/{plant_disease_folder}/\")\n",
        "      \n",
        "        for image in plant_disease_image_list:\n",
        "            image_directory = f\"{directory_root_train}/{plant_disease_folder}/{image}\"\n",
        "\n",
        "            if image_directory.endswith(\".jpg\") == True or image_directory.endswith(\".JPG\") == True:\n",
        "                image_list_train.append(convert_image_to_array(image_directory))\n",
        "                label_list_train.append(plant_disease_folder)\n",
        "    print(\"[INFO] Image loading completed\")\n",
        "\n",
        "except Exception as e:\n",
        "    print(f\"Error : {e}\")\n",
        "\n",
        "#image labeling\n",
        "image_size = len(image_list_train)\n",
        "label_binarizer = LabelBinarizer()\n",
        "image_labels_train = label_binarizer.fit_transform(label_list_train)\n",
        "pickle.dump(label_binarizer,open('label_transform_train.pkl', 'wb'))\n",
        "n_classes = len(label_binarizer.classes_)\n",
        "np_image_list_train = np.array(image_list_train, dtype=np.float16) / 255.0"
      ],
      "execution_count": 4,
      "outputs": [
        {
          "output_type": "stream",
          "name": "stdout",
          "text": [
            "[INFO] Loading images ...\n",
            "[INFO] Processing Healthy ...\n",
            "[INFO] Processing Diseased ...\n",
            "[INFO] Image loading completed\n"
          ]
        }
      ]
    },
    {
      "cell_type": "markdown",
      "source": [
        "Converting **Validation** Data to Array"
      ],
      "metadata": {
        "id": "7eEMGiqRd_E4"
      }
    },
    {
      "cell_type": "code",
      "source": [
        "image_list_validation, label_list_validation = [], []\n",
        "try:\n",
        "    print(\"[INFO] Loading images ...\")\n",
        "    root_dir = listdir(directory_root_validation)\n",
        "\n",
        "    for plant_disease_folder in root_dir:\n",
        "        print(f\"[INFO] Processing {plant_disease_folder} ...\")\n",
        "        plant_disease_image_list = listdir(f\"{directory_root_validation}/{plant_disease_folder}/\")\n",
        "      \n",
        "        for image in plant_disease_image_list:\n",
        "            image_directory = f\"{directory_root_validation}/{plant_disease_folder}/{image}\"\n",
        "\n",
        "            if image_directory.endswith(\".jpg\") == True or image_directory.endswith(\".JPG\") == True:\n",
        "                image_list_validation.append(convert_image_to_array(image_directory))\n",
        "                label_list_validation.append(plant_disease_folder)\n",
        "    print(\"[INFO] Image loading completed\")\n",
        "\n",
        "except Exception as e:\n",
        "    print(f\"Error : {e}\")\n",
        "\n",
        "#image labeling\n",
        "image_size = len(image_list_validation)\n",
        "label_binarizer = LabelBinarizer()\n",
        "image_labels_validation = label_binarizer.fit_transform(label_list_validation)\n",
        "pickle.dump(label_binarizer,open('label_transform_validation.pkl', 'wb'))\n",
        "n_classes = len(label_binarizer.classes_)\n",
        "np_image_list_validation = np.array(image_list_validation, dtype=np.float16) / 255.0"
      ],
      "metadata": {
        "id": "wfHDdR0ZeEuU",
        "colab": {
          "base_uri": "https://localhost:8080/"
        },
        "outputId": "7ac5e9f4-fde0-4926-a30c-e196e76a2442"
      },
      "execution_count": 5,
      "outputs": [
        {
          "output_type": "stream",
          "name": "stdout",
          "text": [
            "[INFO] Loading images ...\n",
            "[INFO] Processing Healthy ...\n",
            "[INFO] Processing Diseased ...\n",
            "[INFO] Image loading completed\n"
          ]
        }
      ]
    },
    {
      "cell_type": "markdown",
      "source": [
        "Converting **Testing** Data to Array"
      ],
      "metadata": {
        "id": "brwWyZVncTdg"
      }
    },
    {
      "cell_type": "code",
      "metadata": {
        "id": "uNPby5UMcaWY",
        "colab": {
          "base_uri": "https://localhost:8080/"
        },
        "outputId": "4114752c-3042-4e55-8032-f50a361afd99"
      },
      "source": [
        "image_list_test, label_list_test = [], []\n",
        "try:\n",
        "    print(\"[INFO] Loading images ...\")\n",
        "    root_dir = listdir(directory_root_test)\n",
        "\n",
        "    for plant_disease_folder in root_dir:\n",
        "        print(f\"[INFO] Processing {plant_disease_folder} ...\")\n",
        "        plant_disease_image_list = listdir(f\"{directory_root_test}/{plant_disease_folder}/\")\n",
        "      \n",
        "        for image in plant_disease_image_list:\n",
        "            image_directory = f\"{directory_root_test}/{plant_disease_folder}/{image}\"\n",
        "\n",
        "            if image_directory.endswith(\".jpg\") == True or image_directory.endswith(\".JPG\") == True:\n",
        "                image_list_test.append(convert_image_to_array(image_directory))\n",
        "                label_list_test.append(plant_disease_folder)\n",
        "    print(\"[INFO] Image loading completed\")\n",
        "\n",
        "except Exception as e:\n",
        "    print(f\"Error : {e}\")\n",
        "\n",
        "#image labeling\n",
        "image_size = len(image_list_test)\n",
        "label_binarizer = LabelBinarizer()\n",
        "image_labels_test = label_binarizer.fit_transform(label_list_test)\n",
        "pickle.dump(label_binarizer,open('label_transform_test.pkl', 'wb'))\n",
        "n_classes = len(label_binarizer.classes_)\n",
        "np_image_list_test = np.array(image_list_test, dtype=np.float16) / 255.0"
      ],
      "execution_count": 6,
      "outputs": [
        {
          "output_type": "stream",
          "name": "stdout",
          "text": [
            "[INFO] Loading images ...\n",
            "[INFO] Processing Healthy ...\n",
            "[INFO] Processing Diseased ...\n",
            "[INFO] Image loading completed\n"
          ]
        }
      ]
    },
    {
      "cell_type": "markdown",
      "metadata": {
        "id": "jYBTFN0CnAi7"
      },
      "source": [
        "Data Augmenting Initialization"
      ]
    },
    {
      "cell_type": "code",
      "metadata": {
        "id": "TLMxMK2Tzmgr"
      },
      "source": [
        "aug = keras.preprocessing.image.ImageDataGenerator(\n",
        "    rotation_range=25, \n",
        "    width_shift_range=0.1,\n",
        "    height_shift_range=0.1, \n",
        "    shear_range=0.2, \n",
        "    zoom_range=0.2,\n",
        "    horizontal_flip=True, \n",
        "    fill_mode=\"nearest\")"
      ],
      "execution_count": 7,
      "outputs": []
    },
    {
      "cell_type": "markdown",
      "metadata": {
        "id": "H1BfRyYNnGv_"
      },
      "source": [
        "Creating CNN Model"
      ]
    },
    {
      "cell_type": "code",
      "metadata": {
        "id": "WmLX4wm8zmgs"
      },
      "source": [
        "model = keras.models.Sequential()\n",
        "inputShape = (height, width, depth)\n",
        "\n",
        "model.add(Conv2D(32, (3, 3), padding=\"same\",input_shape=inputShape))\n",
        "model.add(Activation(\"relu\"))\n",
        "\n",
        "model.add(MaxPooling2D(pool_size=(3, 3)))\n",
        "\n",
        "model.add(Conv2D(64, (3, 3), padding=\"same\"))\n",
        "model.add(Activation(\"relu\"))\n",
        "\n",
        "model.add(MaxPooling2D(pool_size=(3, 3)))\n",
        "\n",
        "model.add(Flatten())\n",
        "\n",
        "model.add(Dense(1024))\n",
        "model.add(Activation(\"relu\"))\n",
        "\n",
        "model.add(Dense(1))\n",
        "model.add(Activation(\"sigmoid\"))"
      ],
      "execution_count": 8,
      "outputs": []
    },
    {
      "cell_type": "code",
      "source": [
        "#model.summary()"
      ],
      "metadata": {
        "id": "RQIgaph8hW06"
      },
      "execution_count": 9,
      "outputs": []
    },
    {
      "cell_type": "code",
      "source": [
        "#from PIL import Image\n",
        "#from keras.utils.vis_utils import plot_model\n",
        "#plot_model(model, to_file='cnn_model.png', show_shapes=True, show_layer_names=True)\n",
        "#display(Image.open('cnn_model.png'))"
      ],
      "metadata": {
        "id": "T05gPuu1GudW"
      },
      "execution_count": 10,
      "outputs": []
    },
    {
      "cell_type": "markdown",
      "metadata": {
        "id": "Zfsu3lVfnXFG"
      },
      "source": [
        "**Training** Network"
      ]
    },
    {
      "cell_type": "code",
      "metadata": {
        "id": "rvwKwe3Lzmgv",
        "colab": {
          "base_uri": "https://localhost:8080/"
        },
        "outputId": "e1779a3e-5807-4531-81d7-3887a5c5af2b"
      },
      "source": [
        "EPOCHS = 100\n",
        "INIT_LR = 1e-3\n",
        "BS = 32\n",
        "\n",
        "with tf.device('/GPU:0'):\n",
        "  opt = Adam(learning_rate=INIT_LR, decay=INIT_LR / EPOCHS)\n",
        "  model.compile(loss=\"binary_crossentropy\", optimizer=opt,metrics=[\"Accuracy\", \"FalseNegatives\", \"FalsePositives\", \"TrueNegatives\", \"TruePositives\"])\n",
        "  \n",
        "  history = model.fit(\n",
        "      aug.flow(np_image_list_train, image_labels_train, batch_size=BS),\n",
        "      validation_data=(np_image_list_validation, image_labels_validation),\n",
        "      steps_per_epoch=len(np_image_list_train) // BS,\n",
        "      epochs=EPOCHS, \n",
        "      verbose=1,\n",
        "      )\n"
      ],
      "execution_count": 11,
      "outputs": [
        {
          "output_type": "stream",
          "name": "stdout",
          "text": [
            "Epoch 1/100\n",
            "9/9 [==============================] - 20s 452ms/step - loss: 2.6146 - Accuracy: 0.4444 - false_negatives: 75.0000 - false_positives: 85.0000 - true_negatives: 67.0000 - true_positives: 61.0000 - val_loss: 0.7945 - val_Accuracy: 0.4444 - val_false_negatives: 0.0000e+00 - val_false_positives: 40.0000 - val_true_negatives: 0.0000e+00 - val_true_positives: 32.0000\n",
            "Epoch 2/100\n",
            "9/9 [==============================] - 4s 424ms/step - loss: 0.7029 - Accuracy: 0.5868 - false_negatives: 43.0000 - false_positives: 76.0000 - true_negatives: 76.0000 - true_positives: 93.0000 - val_loss: 0.7007 - val_Accuracy: 0.3889 - val_false_negatives: 16.0000 - val_false_positives: 28.0000 - val_true_negatives: 12.0000 - val_true_positives: 16.0000\n",
            "Epoch 3/100\n",
            "9/9 [==============================] - 4s 415ms/step - loss: 0.6748 - Accuracy: 0.5660 - false_negatives: 113.0000 - false_positives: 12.0000 - true_negatives: 140.0000 - true_positives: 23.0000 - val_loss: 0.7417 - val_Accuracy: 0.4583 - val_false_negatives: 0.0000e+00 - val_false_positives: 39.0000 - val_true_negatives: 1.0000 - val_true_positives: 32.0000\n",
            "Epoch 4/100\n",
            "9/9 [==============================] - 4s 427ms/step - loss: 0.6110 - Accuracy: 0.7014 - false_negatives: 35.0000 - false_positives: 51.0000 - true_negatives: 101.0000 - true_positives: 101.0000 - val_loss: 0.7235 - val_Accuracy: 0.5417 - val_false_negatives: 27.0000 - val_false_positives: 6.0000 - val_true_negatives: 34.0000 - val_true_positives: 5.0000\n",
            "Epoch 5/100\n",
            "9/9 [==============================] - 4s 418ms/step - loss: 0.5387 - Accuracy: 0.7500 - false_negatives: 35.0000 - false_positives: 37.0000 - true_negatives: 115.0000 - true_positives: 101.0000 - val_loss: 0.7031 - val_Accuracy: 0.5556 - val_false_negatives: 19.0000 - val_false_positives: 13.0000 - val_true_negatives: 27.0000 - val_true_positives: 13.0000\n",
            "Epoch 6/100\n",
            "9/9 [==============================] - 4s 413ms/step - loss: 0.4832 - Accuracy: 0.7674 - false_negatives: 33.0000 - false_positives: 34.0000 - true_negatives: 118.0000 - true_positives: 103.0000 - val_loss: 0.7433 - val_Accuracy: 0.5833 - val_false_negatives: 13.0000 - val_false_positives: 17.0000 - val_true_negatives: 23.0000 - val_true_positives: 19.0000\n",
            "Epoch 7/100\n",
            "9/9 [==============================] - 4s 428ms/step - loss: 0.4976 - Accuracy: 0.7812 - false_negatives: 30.0000 - false_positives: 33.0000 - true_negatives: 119.0000 - true_positives: 106.0000 - val_loss: 1.0286 - val_Accuracy: 0.5694 - val_false_negatives: 1.0000 - val_false_positives: 30.0000 - val_true_negatives: 10.0000 - val_true_positives: 31.0000\n",
            "Epoch 8/100\n",
            "9/9 [==============================] - 4s 427ms/step - loss: 0.4369 - Accuracy: 0.8229 - false_negatives: 25.0000 - false_positives: 26.0000 - true_negatives: 126.0000 - true_positives: 111.0000 - val_loss: 0.9435 - val_Accuracy: 0.5833 - val_false_negatives: 10.0000 - val_false_positives: 20.0000 - val_true_negatives: 20.0000 - val_true_positives: 22.0000\n",
            "Epoch 9/100\n",
            "9/9 [==============================] - 4s 425ms/step - loss: 0.5219 - Accuracy: 0.7083 - false_negatives: 42.0000 - false_positives: 42.0000 - true_negatives: 110.0000 - true_positives: 94.0000 - val_loss: 1.0850 - val_Accuracy: 0.4583 - val_false_negatives: 0.0000e+00 - val_false_positives: 39.0000 - val_true_negatives: 1.0000 - val_true_positives: 32.0000\n",
            "Epoch 10/100\n",
            "9/9 [==============================] - 4s 420ms/step - loss: 0.5368 - Accuracy: 0.7153 - false_negatives: 41.0000 - false_positives: 41.0000 - true_negatives: 111.0000 - true_positives: 95.0000 - val_loss: 0.7918 - val_Accuracy: 0.5694 - val_false_negatives: 6.0000 - val_false_positives: 25.0000 - val_true_negatives: 15.0000 - val_true_positives: 26.0000\n",
            "Epoch 11/100\n",
            "9/9 [==============================] - 4s 419ms/step - loss: 0.4946 - Accuracy: 0.7674 - false_negatives: 29.0000 - false_positives: 38.0000 - true_negatives: 114.0000 - true_positives: 107.0000 - val_loss: 0.9572 - val_Accuracy: 0.5694 - val_false_negatives: 3.0000 - val_false_positives: 28.0000 - val_true_negatives: 12.0000 - val_true_positives: 29.0000\n",
            "Epoch 12/100\n",
            "9/9 [==============================] - 4s 417ms/step - loss: 0.4884 - Accuracy: 0.7500 - false_negatives: 32.0000 - false_positives: 40.0000 - true_negatives: 112.0000 - true_positives: 104.0000 - val_loss: 0.7115 - val_Accuracy: 0.6528 - val_false_negatives: 3.0000 - val_false_positives: 22.0000 - val_true_negatives: 18.0000 - val_true_positives: 29.0000\n",
            "Epoch 13/100\n",
            "9/9 [==============================] - 4s 414ms/step - loss: 0.4918 - Accuracy: 0.7812 - false_negatives: 31.0000 - false_positives: 32.0000 - true_negatives: 120.0000 - true_positives: 105.0000 - val_loss: 0.6864 - val_Accuracy: 0.6389 - val_false_negatives: 11.0000 - val_false_positives: 15.0000 - val_true_negatives: 25.0000 - val_true_positives: 21.0000\n",
            "Epoch 14/100\n",
            "9/9 [==============================] - 4s 412ms/step - loss: 0.4441 - Accuracy: 0.8125 - false_negatives: 28.0000 - false_positives: 26.0000 - true_negatives: 126.0000 - true_positives: 108.0000 - val_loss: 0.8621 - val_Accuracy: 0.6111 - val_false_negatives: 5.0000 - val_false_positives: 23.0000 - val_true_negatives: 17.0000 - val_true_positives: 27.0000\n",
            "Epoch 15/100\n",
            "9/9 [==============================] - 4s 413ms/step - loss: 0.4253 - Accuracy: 0.8264 - false_negatives: 22.0000 - false_positives: 28.0000 - true_negatives: 124.0000 - true_positives: 114.0000 - val_loss: 0.9111 - val_Accuracy: 0.6250 - val_false_negatives: 3.0000 - val_false_positives: 24.0000 - val_true_negatives: 16.0000 - val_true_positives: 29.0000\n",
            "Epoch 16/100\n",
            "9/9 [==============================] - 4s 417ms/step - loss: 0.4265 - Accuracy: 0.8299 - false_negatives: 22.0000 - false_positives: 27.0000 - true_negatives: 125.0000 - true_positives: 114.0000 - val_loss: 0.6142 - val_Accuracy: 0.6528 - val_false_negatives: 13.0000 - val_false_positives: 12.0000 - val_true_negatives: 28.0000 - val_true_positives: 19.0000\n",
            "Epoch 17/100\n",
            "9/9 [==============================] - 4s 417ms/step - loss: 0.4641 - Accuracy: 0.8299 - false_negatives: 17.0000 - false_positives: 32.0000 - true_negatives: 120.0000 - true_positives: 119.0000 - val_loss: 0.5535 - val_Accuracy: 0.7083 - val_false_negatives: 10.0000 - val_false_positives: 11.0000 - val_true_negatives: 29.0000 - val_true_positives: 22.0000\n",
            "Epoch 18/100\n",
            "9/9 [==============================] - 4s 416ms/step - loss: 0.4338 - Accuracy: 0.8090 - false_negatives: 26.0000 - false_positives: 29.0000 - true_negatives: 123.0000 - true_positives: 110.0000 - val_loss: 0.7035 - val_Accuracy: 0.6528 - val_false_negatives: 16.0000 - val_false_positives: 9.0000 - val_true_negatives: 31.0000 - val_true_positives: 16.0000\n",
            "Epoch 19/100\n",
            "9/9 [==============================] - 4s 415ms/step - loss: 0.4347 - Accuracy: 0.8090 - false_negatives: 33.0000 - false_positives: 22.0000 - true_negatives: 130.0000 - true_positives: 103.0000 - val_loss: 1.1783 - val_Accuracy: 0.5417 - val_false_negatives: 2.0000 - val_false_positives: 31.0000 - val_true_negatives: 9.0000 - val_true_positives: 30.0000\n",
            "Epoch 20/100\n",
            "9/9 [==============================] - 4s 416ms/step - loss: 0.4974 - Accuracy: 0.7396 - false_negatives: 28.0000 - false_positives: 47.0000 - true_negatives: 105.0000 - true_positives: 108.0000 - val_loss: 0.9899 - val_Accuracy: 0.5833 - val_false_negatives: 2.0000 - val_false_positives: 28.0000 - val_true_negatives: 12.0000 - val_true_positives: 30.0000\n",
            "Epoch 21/100\n",
            "9/9 [==============================] - 4s 414ms/step - loss: 0.4604 - Accuracy: 0.7951 - false_negatives: 29.0000 - false_positives: 30.0000 - true_negatives: 122.0000 - true_positives: 107.0000 - val_loss: 0.8305 - val_Accuracy: 0.6528 - val_false_negatives: 3.0000 - val_false_positives: 22.0000 - val_true_negatives: 18.0000 - val_true_positives: 29.0000\n",
            "Epoch 22/100\n",
            "9/9 [==============================] - 4s 416ms/step - loss: 0.4103 - Accuracy: 0.8403 - false_negatives: 23.0000 - false_positives: 23.0000 - true_negatives: 129.0000 - true_positives: 113.0000 - val_loss: 1.1472 - val_Accuracy: 0.5833 - val_false_negatives: 2.0000 - val_false_positives: 28.0000 - val_true_negatives: 12.0000 - val_true_positives: 30.0000\n",
            "Epoch 23/100\n",
            "9/9 [==============================] - 4s 422ms/step - loss: 0.4526 - Accuracy: 0.8194 - false_negatives: 29.0000 - false_positives: 23.0000 - true_negatives: 129.0000 - true_positives: 107.0000 - val_loss: 1.2397 - val_Accuracy: 0.5972 - val_false_negatives: 0.0000e+00 - val_false_positives: 29.0000 - val_true_negatives: 11.0000 - val_true_positives: 32.0000\n",
            "Epoch 24/100\n",
            "9/9 [==============================] - 4s 417ms/step - loss: 0.4095 - Accuracy: 0.8160 - false_negatives: 21.0000 - false_positives: 32.0000 - true_negatives: 120.0000 - true_positives: 115.0000 - val_loss: 0.8798 - val_Accuracy: 0.6111 - val_false_negatives: 5.0000 - val_false_positives: 23.0000 - val_true_negatives: 17.0000 - val_true_positives: 27.0000\n",
            "Epoch 25/100\n",
            "9/9 [==============================] - 5s 571ms/step - loss: 0.3994 - Accuracy: 0.8368 - false_negatives: 21.0000 - false_positives: 26.0000 - true_negatives: 126.0000 - true_positives: 115.0000 - val_loss: 1.2183 - val_Accuracy: 0.5972 - val_false_negatives: 1.0000 - val_false_positives: 28.0000 - val_true_negatives: 12.0000 - val_true_positives: 31.0000\n",
            "Epoch 26/100\n",
            "9/9 [==============================] - 4s 416ms/step - loss: 0.4303 - Accuracy: 0.8125 - false_negatives: 22.0000 - false_positives: 32.0000 - true_negatives: 120.0000 - true_positives: 114.0000 - val_loss: 0.8550 - val_Accuracy: 0.6667 - val_false_negatives: 2.0000 - val_false_positives: 22.0000 - val_true_negatives: 18.0000 - val_true_positives: 30.0000\n",
            "Epoch 27/100\n",
            "9/9 [==============================] - 4s 413ms/step - loss: 0.4236 - Accuracy: 0.8090 - false_negatives: 25.0000 - false_positives: 30.0000 - true_negatives: 122.0000 - true_positives: 111.0000 - val_loss: 0.6830 - val_Accuracy: 0.6944 - val_false_negatives: 5.0000 - val_false_positives: 17.0000 - val_true_negatives: 23.0000 - val_true_positives: 27.0000\n",
            "Epoch 28/100\n",
            "9/9 [==============================] - 4s 417ms/step - loss: 0.4227 - Accuracy: 0.7951 - false_negatives: 31.0000 - false_positives: 28.0000 - true_negatives: 124.0000 - true_positives: 105.0000 - val_loss: 0.5096 - val_Accuracy: 0.7917 - val_false_negatives: 7.0000 - val_false_positives: 8.0000 - val_true_negatives: 32.0000 - val_true_positives: 25.0000\n",
            "Epoch 29/100\n",
            "9/9 [==============================] - 4s 417ms/step - loss: 0.3559 - Accuracy: 0.8681 - false_negatives: 18.0000 - false_positives: 20.0000 - true_negatives: 132.0000 - true_positives: 118.0000 - val_loss: 0.5569 - val_Accuracy: 0.7500 - val_false_negatives: 5.0000 - val_false_positives: 13.0000 - val_true_negatives: 27.0000 - val_true_positives: 27.0000\n",
            "Epoch 30/100\n",
            "9/9 [==============================] - 4s 418ms/step - loss: 0.3625 - Accuracy: 0.8542 - false_negatives: 22.0000 - false_positives: 20.0000 - true_negatives: 132.0000 - true_positives: 114.0000 - val_loss: 0.5722 - val_Accuracy: 0.7083 - val_false_negatives: 6.0000 - val_false_positives: 15.0000 - val_true_negatives: 25.0000 - val_true_positives: 26.0000\n",
            "Epoch 31/100\n",
            "9/9 [==============================] - 4s 421ms/step - loss: 0.3726 - Accuracy: 0.8472 - false_negatives: 18.0000 - false_positives: 26.0000 - true_negatives: 126.0000 - true_positives: 118.0000 - val_loss: 0.6201 - val_Accuracy: 0.7083 - val_false_negatives: 19.0000 - val_false_positives: 2.0000 - val_true_negatives: 38.0000 - val_true_positives: 13.0000\n",
            "Epoch 32/100\n",
            "9/9 [==============================] - 4s 414ms/step - loss: 0.4290 - Accuracy: 0.7882 - false_negatives: 36.0000 - false_positives: 25.0000 - true_negatives: 127.0000 - true_positives: 100.0000 - val_loss: 0.6127 - val_Accuracy: 0.6944 - val_false_negatives: 7.0000 - val_false_positives: 15.0000 - val_true_negatives: 25.0000 - val_true_positives: 25.0000\n",
            "Epoch 33/100\n",
            "9/9 [==============================] - 4s 419ms/step - loss: 0.4186 - Accuracy: 0.8125 - false_negatives: 20.0000 - false_positives: 34.0000 - true_negatives: 118.0000 - true_positives: 116.0000 - val_loss: 0.8249 - val_Accuracy: 0.7083 - val_false_negatives: 1.0000 - val_false_positives: 20.0000 - val_true_negatives: 20.0000 - val_true_positives: 31.0000\n",
            "Epoch 34/100\n",
            "9/9 [==============================] - 4s 416ms/step - loss: 0.4219 - Accuracy: 0.7951 - false_negatives: 27.0000 - false_positives: 32.0000 - true_negatives: 120.0000 - true_positives: 109.0000 - val_loss: 0.5308 - val_Accuracy: 0.7639 - val_false_negatives: 7.0000 - val_false_positives: 10.0000 - val_true_negatives: 30.0000 - val_true_positives: 25.0000\n",
            "Epoch 35/100\n",
            "9/9 [==============================] - 4s 413ms/step - loss: 0.4288 - Accuracy: 0.7917 - false_negatives: 23.0000 - false_positives: 37.0000 - true_negatives: 115.0000 - true_positives: 113.0000 - val_loss: 0.5019 - val_Accuracy: 0.7222 - val_false_negatives: 17.0000 - val_false_positives: 3.0000 - val_true_negatives: 37.0000 - val_true_positives: 15.0000\n",
            "Epoch 36/100\n",
            "9/9 [==============================] - 4s 416ms/step - loss: 0.4450 - Accuracy: 0.7951 - false_negatives: 28.0000 - false_positives: 31.0000 - true_negatives: 121.0000 - true_positives: 108.0000 - val_loss: 0.5691 - val_Accuracy: 0.7222 - val_false_negatives: 9.0000 - val_false_positives: 11.0000 - val_true_negatives: 29.0000 - val_true_positives: 23.0000\n",
            "Epoch 37/100\n",
            "9/9 [==============================] - 4s 415ms/step - loss: 0.3965 - Accuracy: 0.8194 - false_negatives: 29.0000 - false_positives: 23.0000 - true_negatives: 129.0000 - true_positives: 107.0000 - val_loss: 0.7239 - val_Accuracy: 0.7222 - val_false_negatives: 1.0000 - val_false_positives: 19.0000 - val_true_negatives: 21.0000 - val_true_positives: 31.0000\n",
            "Epoch 38/100\n",
            "9/9 [==============================] - 4s 418ms/step - loss: 0.3388 - Accuracy: 0.8715 - false_negatives: 17.0000 - false_positives: 20.0000 - true_negatives: 132.0000 - true_positives: 119.0000 - val_loss: 0.7546 - val_Accuracy: 0.7639 - val_false_negatives: 2.0000 - val_false_positives: 15.0000 - val_true_negatives: 25.0000 - val_true_positives: 30.0000\n",
            "Epoch 39/100\n",
            "9/9 [==============================] - 4s 420ms/step - loss: 0.3578 - Accuracy: 0.8438 - false_negatives: 14.0000 - false_positives: 31.0000 - true_negatives: 121.0000 - true_positives: 122.0000 - val_loss: 0.5138 - val_Accuracy: 0.7639 - val_false_negatives: 9.0000 - val_false_positives: 8.0000 - val_true_negatives: 32.0000 - val_true_positives: 23.0000\n",
            "Epoch 40/100\n",
            "9/9 [==============================] - 4s 418ms/step - loss: 0.3678 - Accuracy: 0.8299 - false_negatives: 19.0000 - false_positives: 30.0000 - true_negatives: 122.0000 - true_positives: 117.0000 - val_loss: 0.5419 - val_Accuracy: 0.7500 - val_false_negatives: 10.0000 - val_false_positives: 8.0000 - val_true_negatives: 32.0000 - val_true_positives: 22.0000\n",
            "Epoch 41/100\n",
            "9/9 [==============================] - 4s 415ms/step - loss: 0.3767 - Accuracy: 0.8472 - false_negatives: 13.0000 - false_positives: 31.0000 - true_negatives: 121.0000 - true_positives: 123.0000 - val_loss: 0.5578 - val_Accuracy: 0.7500 - val_false_negatives: 9.0000 - val_false_positives: 9.0000 - val_true_negatives: 31.0000 - val_true_positives: 23.0000\n",
            "Epoch 42/100\n",
            "9/9 [==============================] - 4s 412ms/step - loss: 0.3950 - Accuracy: 0.8090 - false_negatives: 31.0000 - false_positives: 24.0000 - true_negatives: 128.0000 - true_positives: 105.0000 - val_loss: 0.9919 - val_Accuracy: 0.7083 - val_false_negatives: 2.0000 - val_false_positives: 19.0000 - val_true_negatives: 21.0000 - val_true_positives: 30.0000\n",
            "Epoch 43/100\n",
            "9/9 [==============================] - 4s 413ms/step - loss: 0.3209 - Accuracy: 0.8576 - false_negatives: 21.0000 - false_positives: 20.0000 - true_negatives: 132.0000 - true_positives: 115.0000 - val_loss: 0.6625 - val_Accuracy: 0.7778 - val_false_negatives: 3.0000 - val_false_positives: 13.0000 - val_true_negatives: 27.0000 - val_true_positives: 29.0000\n",
            "Epoch 44/100\n",
            "9/9 [==============================] - 4s 414ms/step - loss: 0.3764 - Accuracy: 0.8368 - false_negatives: 13.0000 - false_positives: 34.0000 - true_negatives: 118.0000 - true_positives: 123.0000 - val_loss: 0.9153 - val_Accuracy: 0.6528 - val_false_negatives: 6.0000 - val_false_positives: 19.0000 - val_true_negatives: 21.0000 - val_true_positives: 26.0000\n",
            "Epoch 45/100\n",
            "9/9 [==============================] - 4s 422ms/step - loss: 0.4176 - Accuracy: 0.7917 - false_negatives: 38.0000 - false_positives: 22.0000 - true_negatives: 130.0000 - true_positives: 98.0000 - val_loss: 1.2129 - val_Accuracy: 0.6250 - val_false_negatives: 1.0000 - val_false_positives: 26.0000 - val_true_negatives: 14.0000 - val_true_positives: 31.0000\n",
            "Epoch 46/100\n",
            "9/9 [==============================] - 4s 416ms/step - loss: 0.3635 - Accuracy: 0.8160 - false_negatives: 26.0000 - false_positives: 27.0000 - true_negatives: 125.0000 - true_positives: 110.0000 - val_loss: 0.8645 - val_Accuracy: 0.7222 - val_false_negatives: 2.0000 - val_false_positives: 18.0000 - val_true_negatives: 22.0000 - val_true_positives: 30.0000\n",
            "Epoch 47/100\n",
            "9/9 [==============================] - 4s 425ms/step - loss: 0.4034 - Accuracy: 0.8160 - false_negatives: 28.0000 - false_positives: 25.0000 - true_negatives: 127.0000 - true_positives: 108.0000 - val_loss: 0.6975 - val_Accuracy: 0.6667 - val_false_negatives: 6.0000 - val_false_positives: 18.0000 - val_true_negatives: 22.0000 - val_true_positives: 26.0000\n",
            "Epoch 48/100\n",
            "9/9 [==============================] - 4s 420ms/step - loss: 0.3834 - Accuracy: 0.8229 - false_negatives: 12.0000 - false_positives: 39.0000 - true_negatives: 113.0000 - true_positives: 124.0000 - val_loss: 0.5726 - val_Accuracy: 0.7361 - val_false_negatives: 9.0000 - val_false_positives: 10.0000 - val_true_negatives: 30.0000 - val_true_positives: 23.0000\n",
            "Epoch 49/100\n",
            "9/9 [==============================] - 4s 418ms/step - loss: 0.3533 - Accuracy: 0.8472 - false_negatives: 21.0000 - false_positives: 23.0000 - true_negatives: 129.0000 - true_positives: 115.0000 - val_loss: 0.8264 - val_Accuracy: 0.7361 - val_false_negatives: 2.0000 - val_false_positives: 17.0000 - val_true_negatives: 23.0000 - val_true_positives: 30.0000\n",
            "Epoch 50/100\n",
            "9/9 [==============================] - 4s 421ms/step - loss: 0.3394 - Accuracy: 0.8542 - false_negatives: 16.0000 - false_positives: 26.0000 - true_negatives: 126.0000 - true_positives: 120.0000 - val_loss: 0.8784 - val_Accuracy: 0.7083 - val_false_negatives: 3.0000 - val_false_positives: 18.0000 - val_true_negatives: 22.0000 - val_true_positives: 29.0000\n",
            "Epoch 51/100\n",
            "9/9 [==============================] - 4s 420ms/step - loss: 0.3424 - Accuracy: 0.8403 - false_negatives: 28.0000 - false_positives: 18.0000 - true_negatives: 134.0000 - true_positives: 108.0000 - val_loss: 1.2756 - val_Accuracy: 0.6944 - val_false_negatives: 0.0000e+00 - val_false_positives: 22.0000 - val_true_negatives: 18.0000 - val_true_positives: 32.0000\n",
            "Epoch 52/100\n",
            "9/9 [==============================] - 4s 421ms/step - loss: 0.3472 - Accuracy: 0.8264 - false_negatives: 19.0000 - false_positives: 31.0000 - true_negatives: 121.0000 - true_positives: 117.0000 - val_loss: 0.8169 - val_Accuracy: 0.7222 - val_false_negatives: 3.0000 - val_false_positives: 17.0000 - val_true_negatives: 23.0000 - val_true_positives: 29.0000\n",
            "Epoch 53/100\n",
            "9/9 [==============================] - 4s 416ms/step - loss: 0.3001 - Accuracy: 0.8576 - false_negatives: 20.0000 - false_positives: 21.0000 - true_negatives: 131.0000 - true_positives: 116.0000 - val_loss: 1.0168 - val_Accuracy: 0.7083 - val_false_negatives: 1.0000 - val_false_positives: 20.0000 - val_true_negatives: 20.0000 - val_true_positives: 31.0000\n",
            "Epoch 54/100\n",
            "9/9 [==============================] - 4s 414ms/step - loss: 0.3201 - Accuracy: 0.8576 - false_negatives: 22.0000 - false_positives: 19.0000 - true_negatives: 133.0000 - true_positives: 114.0000 - val_loss: 0.9745 - val_Accuracy: 0.6944 - val_false_negatives: 2.0000 - val_false_positives: 20.0000 - val_true_negatives: 20.0000 - val_true_positives: 30.0000\n",
            "Epoch 55/100\n",
            "9/9 [==============================] - 4s 430ms/step - loss: 0.3598 - Accuracy: 0.8403 - false_negatives: 18.0000 - false_positives: 28.0000 - true_negatives: 124.0000 - true_positives: 118.0000 - val_loss: 0.6755 - val_Accuracy: 0.7361 - val_false_negatives: 8.0000 - val_false_positives: 11.0000 - val_true_negatives: 29.0000 - val_true_positives: 24.0000\n",
            "Epoch 56/100\n",
            "9/9 [==============================] - 4s 415ms/step - loss: 0.3246 - Accuracy: 0.8576 - false_negatives: 16.0000 - false_positives: 25.0000 - true_negatives: 127.0000 - true_positives: 120.0000 - val_loss: 0.6270 - val_Accuracy: 0.7222 - val_false_negatives: 12.0000 - val_false_positives: 8.0000 - val_true_negatives: 32.0000 - val_true_positives: 20.0000\n",
            "Epoch 57/100\n",
            "9/9 [==============================] - 4s 415ms/step - loss: 0.3423 - Accuracy: 0.8507 - false_negatives: 21.0000 - false_positives: 22.0000 - true_negatives: 130.0000 - true_positives: 115.0000 - val_loss: 0.9247 - val_Accuracy: 0.6806 - val_false_negatives: 6.0000 - val_false_positives: 17.0000 - val_true_negatives: 23.0000 - val_true_positives: 26.0000\n",
            "Epoch 58/100\n",
            "9/9 [==============================] - 4s 414ms/step - loss: 0.3053 - Accuracy: 0.8715 - false_negatives: 21.0000 - false_positives: 16.0000 - true_negatives: 136.0000 - true_positives: 115.0000 - val_loss: 1.0133 - val_Accuracy: 0.7222 - val_false_negatives: 1.0000 - val_false_positives: 19.0000 - val_true_negatives: 21.0000 - val_true_positives: 31.0000\n",
            "Epoch 59/100\n",
            "9/9 [==============================] - 4s 412ms/step - loss: 0.3056 - Accuracy: 0.8576 - false_negatives: 16.0000 - false_positives: 25.0000 - true_negatives: 127.0000 - true_positives: 120.0000 - val_loss: 0.7905 - val_Accuracy: 0.7778 - val_false_negatives: 3.0000 - val_false_positives: 13.0000 - val_true_negatives: 27.0000 - val_true_positives: 29.0000\n",
            "Epoch 60/100\n",
            "9/9 [==============================] - 4s 418ms/step - loss: 0.2883 - Accuracy: 0.8750 - false_negatives: 15.0000 - false_positives: 21.0000 - true_negatives: 131.0000 - true_positives: 121.0000 - val_loss: 0.7446 - val_Accuracy: 0.7917 - val_false_negatives: 3.0000 - val_false_positives: 12.0000 - val_true_negatives: 28.0000 - val_true_positives: 29.0000\n",
            "Epoch 61/100\n",
            "9/9 [==============================] - 4s 415ms/step - loss: 0.2984 - Accuracy: 0.8681 - false_negatives: 18.0000 - false_positives: 20.0000 - true_negatives: 132.0000 - true_positives: 118.0000 - val_loss: 0.6406 - val_Accuracy: 0.8056 - val_false_negatives: 5.0000 - val_false_positives: 9.0000 - val_true_negatives: 31.0000 - val_true_positives: 27.0000\n",
            "Epoch 62/100\n",
            "9/9 [==============================] - 4s 416ms/step - loss: 0.3048 - Accuracy: 0.8715 - false_negatives: 16.0000 - false_positives: 21.0000 - true_negatives: 131.0000 - true_positives: 120.0000 - val_loss: 0.8736 - val_Accuracy: 0.7639 - val_false_negatives: 1.0000 - val_false_positives: 16.0000 - val_true_negatives: 24.0000 - val_true_positives: 31.0000\n",
            "Epoch 63/100\n",
            "9/9 [==============================] - 4s 419ms/step - loss: 0.2673 - Accuracy: 0.8819 - false_negatives: 15.0000 - false_positives: 19.0000 - true_negatives: 133.0000 - true_positives: 121.0000 - val_loss: 0.6420 - val_Accuracy: 0.7500 - val_false_negatives: 7.0000 - val_false_positives: 11.0000 - val_true_negatives: 29.0000 - val_true_positives: 25.0000\n",
            "Epoch 64/100\n",
            "9/9 [==============================] - 4s 418ms/step - loss: 0.2770 - Accuracy: 0.8785 - false_negatives: 16.0000 - false_positives: 19.0000 - true_negatives: 133.0000 - true_positives: 120.0000 - val_loss: 0.8321 - val_Accuracy: 0.7639 - val_false_negatives: 4.0000 - val_false_positives: 13.0000 - val_true_negatives: 27.0000 - val_true_positives: 28.0000\n",
            "Epoch 65/100\n",
            "9/9 [==============================] - 4s 414ms/step - loss: 0.3321 - Accuracy: 0.8715 - false_negatives: 16.0000 - false_positives: 21.0000 - true_negatives: 131.0000 - true_positives: 120.0000 - val_loss: 1.0798 - val_Accuracy: 0.6944 - val_false_negatives: 1.0000 - val_false_positives: 21.0000 - val_true_negatives: 19.0000 - val_true_positives: 31.0000\n",
            "Epoch 66/100\n",
            "9/9 [==============================] - 4s 414ms/step - loss: 0.2669 - Accuracy: 0.8924 - false_negatives: 14.0000 - false_positives: 17.0000 - true_negatives: 135.0000 - true_positives: 122.0000 - val_loss: 0.6517 - val_Accuracy: 0.7917 - val_false_negatives: 5.0000 - val_false_positives: 10.0000 - val_true_negatives: 30.0000 - val_true_positives: 27.0000\n",
            "Epoch 67/100\n",
            "9/9 [==============================] - 4s 425ms/step - loss: 0.3044 - Accuracy: 0.8542 - false_negatives: 20.0000 - false_positives: 22.0000 - true_negatives: 130.0000 - true_positives: 116.0000 - val_loss: 0.6924 - val_Accuracy: 0.7083 - val_false_negatives: 6.0000 - val_false_positives: 15.0000 - val_true_negatives: 25.0000 - val_true_positives: 26.0000\n",
            "Epoch 68/100\n",
            "9/9 [==============================] - 4s 418ms/step - loss: 0.3011 - Accuracy: 0.8750 - false_negatives: 15.0000 - false_positives: 21.0000 - true_negatives: 131.0000 - true_positives: 121.0000 - val_loss: 0.7760 - val_Accuracy: 0.7361 - val_false_negatives: 1.0000 - val_false_positives: 18.0000 - val_true_negatives: 22.0000 - val_true_positives: 31.0000\n",
            "Epoch 69/100\n",
            "9/9 [==============================] - 4s 416ms/step - loss: 0.2751 - Accuracy: 0.8750 - false_negatives: 13.0000 - false_positives: 23.0000 - true_negatives: 129.0000 - true_positives: 123.0000 - val_loss: 0.6229 - val_Accuracy: 0.8056 - val_false_negatives: 8.0000 - val_false_positives: 6.0000 - val_true_negatives: 34.0000 - val_true_positives: 24.0000\n",
            "Epoch 70/100\n",
            "9/9 [==============================] - 4s 415ms/step - loss: 0.3013 - Accuracy: 0.8646 - false_negatives: 19.0000 - false_positives: 20.0000 - true_negatives: 132.0000 - true_positives: 117.0000 - val_loss: 0.8041 - val_Accuracy: 0.7639 - val_false_negatives: 1.0000 - val_false_positives: 16.0000 - val_true_negatives: 24.0000 - val_true_positives: 31.0000\n",
            "Epoch 71/100\n",
            "9/9 [==============================] - 4s 420ms/step - loss: 0.2626 - Accuracy: 0.8958 - false_negatives: 12.0000 - false_positives: 18.0000 - true_negatives: 134.0000 - true_positives: 124.0000 - val_loss: 0.7674 - val_Accuracy: 0.7639 - val_false_negatives: 4.0000 - val_false_positives: 13.0000 - val_true_negatives: 27.0000 - val_true_positives: 28.0000\n",
            "Epoch 72/100\n",
            "9/9 [==============================] - 4s 419ms/step - loss: 0.2812 - Accuracy: 0.8924 - false_negatives: 12.0000 - false_positives: 19.0000 - true_negatives: 133.0000 - true_positives: 124.0000 - val_loss: 0.8341 - val_Accuracy: 0.7639 - val_false_negatives: 2.0000 - val_false_positives: 15.0000 - val_true_negatives: 25.0000 - val_true_positives: 30.0000\n",
            "Epoch 73/100\n",
            "9/9 [==============================] - 4s 452ms/step - loss: 0.2805 - Accuracy: 0.8646 - false_negatives: 20.0000 - false_positives: 19.0000 - true_negatives: 133.0000 - true_positives: 116.0000 - val_loss: 0.6549 - val_Accuracy: 0.7917 - val_false_negatives: 4.0000 - val_false_positives: 11.0000 - val_true_negatives: 29.0000 - val_true_positives: 28.0000\n",
            "Epoch 74/100\n",
            "9/9 [==============================] - 4s 413ms/step - loss: 0.2876 - Accuracy: 0.8507 - false_negatives: 22.0000 - false_positives: 21.0000 - true_negatives: 131.0000 - true_positives: 114.0000 - val_loss: 0.8305 - val_Accuracy: 0.7500 - val_false_negatives: 1.0000 - val_false_positives: 17.0000 - val_true_negatives: 23.0000 - val_true_positives: 31.0000\n",
            "Epoch 75/100\n",
            "9/9 [==============================] - 4s 417ms/step - loss: 0.2697 - Accuracy: 0.8958 - false_negatives: 10.0000 - false_positives: 20.0000 - true_negatives: 132.0000 - true_positives: 126.0000 - val_loss: 0.6173 - val_Accuracy: 0.7778 - val_false_negatives: 5.0000 - val_false_positives: 11.0000 - val_true_negatives: 29.0000 - val_true_positives: 27.0000\n",
            "Epoch 76/100\n",
            "9/9 [==============================] - 4s 419ms/step - loss: 0.3095 - Accuracy: 0.8715 - false_negatives: 15.0000 - false_positives: 22.0000 - true_negatives: 130.0000 - true_positives: 121.0000 - val_loss: 0.7811 - val_Accuracy: 0.7361 - val_false_negatives: 3.0000 - val_false_positives: 16.0000 - val_true_negatives: 24.0000 - val_true_positives: 29.0000\n",
            "Epoch 77/100\n",
            "9/9 [==============================] - 4s 419ms/step - loss: 0.3005 - Accuracy: 0.8715 - false_negatives: 20.0000 - false_positives: 17.0000 - true_negatives: 135.0000 - true_positives: 116.0000 - val_loss: 0.9028 - val_Accuracy: 0.7222 - val_false_negatives: 1.0000 - val_false_positives: 19.0000 - val_true_negatives: 21.0000 - val_true_positives: 31.0000\n",
            "Epoch 78/100\n",
            "9/9 [==============================] - 4s 419ms/step - loss: 0.2981 - Accuracy: 0.8924 - false_negatives: 10.0000 - false_positives: 21.0000 - true_negatives: 131.0000 - true_positives: 126.0000 - val_loss: 0.7949 - val_Accuracy: 0.7500 - val_false_negatives: 1.0000 - val_false_positives: 17.0000 - val_true_negatives: 23.0000 - val_true_positives: 31.0000\n",
            "Epoch 79/100\n",
            "9/9 [==============================] - 4s 422ms/step - loss: 0.2563 - Accuracy: 0.8889 - false_negatives: 18.0000 - false_positives: 14.0000 - true_negatives: 138.0000 - true_positives: 118.0000 - val_loss: 0.7423 - val_Accuracy: 0.7500 - val_false_negatives: 1.0000 - val_false_positives: 17.0000 - val_true_negatives: 23.0000 - val_true_positives: 31.0000\n",
            "Epoch 80/100\n",
            "9/9 [==============================] - 4s 419ms/step - loss: 0.2810 - Accuracy: 0.8750 - false_negatives: 13.0000 - false_positives: 23.0000 - true_negatives: 129.0000 - true_positives: 123.0000 - val_loss: 0.9155 - val_Accuracy: 0.7083 - val_false_negatives: 1.0000 - val_false_positives: 20.0000 - val_true_negatives: 20.0000 - val_true_positives: 31.0000\n",
            "Epoch 81/100\n",
            "9/9 [==============================] - 4s 423ms/step - loss: 0.2962 - Accuracy: 0.8681 - false_negatives: 17.0000 - false_positives: 21.0000 - true_negatives: 131.0000 - true_positives: 119.0000 - val_loss: 0.7704 - val_Accuracy: 0.7083 - val_false_negatives: 1.0000 - val_false_positives: 20.0000 - val_true_negatives: 20.0000 - val_true_positives: 31.0000\n",
            "Epoch 82/100\n",
            "9/9 [==============================] - 4s 417ms/step - loss: 0.2694 - Accuracy: 0.8889 - false_negatives: 13.0000 - false_positives: 19.0000 - true_negatives: 133.0000 - true_positives: 123.0000 - val_loss: 0.6450 - val_Accuracy: 0.8194 - val_false_negatives: 1.0000 - val_false_positives: 12.0000 - val_true_negatives: 28.0000 - val_true_positives: 31.0000\n",
            "Epoch 83/100\n",
            "9/9 [==============================] - 4s 414ms/step - loss: 0.2485 - Accuracy: 0.8715 - false_negatives: 13.0000 - false_positives: 24.0000 - true_negatives: 128.0000 - true_positives: 123.0000 - val_loss: 0.6343 - val_Accuracy: 0.7917 - val_false_negatives: 4.0000 - val_false_positives: 11.0000 - val_true_negatives: 29.0000 - val_true_positives: 28.0000\n",
            "Epoch 84/100\n",
            "9/9 [==============================] - 4s 416ms/step - loss: 0.2827 - Accuracy: 0.8854 - false_negatives: 14.0000 - false_positives: 19.0000 - true_negatives: 133.0000 - true_positives: 122.0000 - val_loss: 0.6365 - val_Accuracy: 0.7917 - val_false_negatives: 3.0000 - val_false_positives: 12.0000 - val_true_negatives: 28.0000 - val_true_positives: 29.0000\n",
            "Epoch 85/100\n",
            "9/9 [==============================] - 4s 415ms/step - loss: 0.3295 - Accuracy: 0.8542 - false_negatives: 21.0000 - false_positives: 21.0000 - true_negatives: 131.0000 - true_positives: 115.0000 - val_loss: 0.6986 - val_Accuracy: 0.7222 - val_false_negatives: 1.0000 - val_false_positives: 19.0000 - val_true_negatives: 21.0000 - val_true_positives: 31.0000\n",
            "Epoch 86/100\n",
            "9/9 [==============================] - 4s 418ms/step - loss: 0.2959 - Accuracy: 0.8542 - false_negatives: 22.0000 - false_positives: 20.0000 - true_negatives: 132.0000 - true_positives: 114.0000 - val_loss: 0.5902 - val_Accuracy: 0.7917 - val_false_negatives: 1.0000 - val_false_positives: 14.0000 - val_true_negatives: 26.0000 - val_true_positives: 31.0000\n",
            "Epoch 87/100\n",
            "9/9 [==============================] - 4s 427ms/step - loss: 0.2835 - Accuracy: 0.8785 - false_negatives: 13.0000 - false_positives: 22.0000 - true_negatives: 130.0000 - true_positives: 123.0000 - val_loss: 0.5449 - val_Accuracy: 0.8194 - val_false_negatives: 2.0000 - val_false_positives: 11.0000 - val_true_negatives: 29.0000 - val_true_positives: 30.0000\n",
            "Epoch 88/100\n",
            "9/9 [==============================] - 4s 422ms/step - loss: 0.2712 - Accuracy: 0.8889 - false_negatives: 13.0000 - false_positives: 19.0000 - true_negatives: 133.0000 - true_positives: 123.0000 - val_loss: 0.6485 - val_Accuracy: 0.7500 - val_false_negatives: 1.0000 - val_false_positives: 17.0000 - val_true_negatives: 23.0000 - val_true_positives: 31.0000\n",
            "Epoch 89/100\n",
            "9/9 [==============================] - 4s 417ms/step - loss: 0.2546 - Accuracy: 0.9028 - false_negatives: 10.0000 - false_positives: 18.0000 - true_negatives: 134.0000 - true_positives: 126.0000 - val_loss: 0.5756 - val_Accuracy: 0.8333 - val_false_negatives: 1.0000 - val_false_positives: 11.0000 - val_true_negatives: 29.0000 - val_true_positives: 31.0000\n",
            "Epoch 90/100\n",
            "9/9 [==============================] - 4s 416ms/step - loss: 0.2690 - Accuracy: 0.8750 - false_negatives: 17.0000 - false_positives: 19.0000 - true_negatives: 133.0000 - true_positives: 119.0000 - val_loss: 0.6381 - val_Accuracy: 0.7778 - val_false_negatives: 1.0000 - val_false_positives: 15.0000 - val_true_negatives: 25.0000 - val_true_positives: 31.0000\n",
            "Epoch 91/100\n",
            "9/9 [==============================] - 4s 421ms/step - loss: 0.2791 - Accuracy: 0.8715 - false_negatives: 15.0000 - false_positives: 22.0000 - true_negatives: 130.0000 - true_positives: 121.0000 - val_loss: 0.5207 - val_Accuracy: 0.8333 - val_false_negatives: 3.0000 - val_false_positives: 9.0000 - val_true_negatives: 31.0000 - val_true_positives: 29.0000\n",
            "Epoch 92/100\n",
            "9/9 [==============================] - 4s 422ms/step - loss: 0.2350 - Accuracy: 0.9028 - false_negatives: 16.0000 - false_positives: 12.0000 - true_negatives: 140.0000 - true_positives: 120.0000 - val_loss: 0.7614 - val_Accuracy: 0.7639 - val_false_negatives: 1.0000 - val_false_positives: 16.0000 - val_true_negatives: 24.0000 - val_true_positives: 31.0000\n",
            "Epoch 93/100\n",
            "9/9 [==============================] - 4s 419ms/step - loss: 0.2718 - Accuracy: 0.8924 - false_negatives: 12.0000 - false_positives: 19.0000 - true_negatives: 133.0000 - true_positives: 124.0000 - val_loss: 0.6980 - val_Accuracy: 0.7917 - val_false_negatives: 1.0000 - val_false_positives: 14.0000 - val_true_negatives: 26.0000 - val_true_positives: 31.0000\n",
            "Epoch 94/100\n",
            "9/9 [==============================] - 4s 417ms/step - loss: 0.2724 - Accuracy: 0.8750 - false_negatives: 17.0000 - false_positives: 19.0000 - true_negatives: 133.0000 - true_positives: 119.0000 - val_loss: 0.8683 - val_Accuracy: 0.7083 - val_false_negatives: 1.0000 - val_false_positives: 20.0000 - val_true_negatives: 20.0000 - val_true_positives: 31.0000\n",
            "Epoch 95/100\n",
            "9/9 [==============================] - 4s 423ms/step - loss: 0.2704 - Accuracy: 0.8819 - false_negatives: 18.0000 - false_positives: 16.0000 - true_negatives: 136.0000 - true_positives: 118.0000 - val_loss: 0.5438 - val_Accuracy: 0.8056 - val_false_negatives: 3.0000 - val_false_positives: 11.0000 - val_true_negatives: 29.0000 - val_true_positives: 29.0000\n",
            "Epoch 96/100\n",
            "9/9 [==============================] - 4s 416ms/step - loss: 0.2513 - Accuracy: 0.8958 - false_negatives: 14.0000 - false_positives: 16.0000 - true_negatives: 136.0000 - true_positives: 122.0000 - val_loss: 0.7226 - val_Accuracy: 0.7361 - val_false_negatives: 2.0000 - val_false_positives: 17.0000 - val_true_negatives: 23.0000 - val_true_positives: 30.0000\n",
            "Epoch 97/100\n",
            "9/9 [==============================] - 4s 415ms/step - loss: 0.2526 - Accuracy: 0.8924 - false_negatives: 14.0000 - false_positives: 17.0000 - true_negatives: 135.0000 - true_positives: 122.0000 - val_loss: 0.6362 - val_Accuracy: 0.8056 - val_false_negatives: 1.0000 - val_false_positives: 13.0000 - val_true_negatives: 27.0000 - val_true_positives: 31.0000\n",
            "Epoch 98/100\n",
            "9/9 [==============================] - 4s 427ms/step - loss: 0.2484 - Accuracy: 0.8924 - false_negatives: 12.0000 - false_positives: 19.0000 - true_negatives: 133.0000 - true_positives: 124.0000 - val_loss: 0.5419 - val_Accuracy: 0.7917 - val_false_negatives: 6.0000 - val_false_positives: 9.0000 - val_true_negatives: 31.0000 - val_true_positives: 26.0000\n",
            "Epoch 99/100\n",
            "9/9 [==============================] - 4s 425ms/step - loss: 0.2687 - Accuracy: 0.8681 - false_negatives: 17.0000 - false_positives: 21.0000 - true_negatives: 131.0000 - true_positives: 119.0000 - val_loss: 0.6226 - val_Accuracy: 0.8194 - val_false_negatives: 4.0000 - val_false_positives: 9.0000 - val_true_negatives: 31.0000 - val_true_positives: 28.0000\n",
            "Epoch 100/100\n",
            "9/9 [==============================] - 4s 424ms/step - loss: 0.2818 - Accuracy: 0.8542 - false_negatives: 25.0000 - false_positives: 17.0000 - true_negatives: 135.0000 - true_positives: 111.0000 - val_loss: 0.8693 - val_Accuracy: 0.7222 - val_false_negatives: 0.0000e+00 - val_false_positives: 20.0000 - val_true_negatives: 20.0000 - val_true_positives: 32.0000\n"
          ]
        }
      ]
    },
    {
      "cell_type": "markdown",
      "source": [
        "Plotting Traning Result"
      ],
      "metadata": {
        "id": "XZSFG8fXqz7c"
      }
    },
    {
      "cell_type": "code",
      "source": [
        "  #plotting\n",
        "  epochs = range(1, len(history.history['loss'])+1)\n",
        "  plt.title(f\"Grafik loss training iterasi {iterasi}\")\n",
        "  plt.plot(epochs, history.history['loss'], 'r', label='Training Loss')\n",
        "  plt.plot(epochs, history.history['val_loss'], 'b', label='Validation Loss')    \n",
        "  plt.xlabel(\"Epoch\")\n",
        "  plt.ylabel(\"Loss\")\n",
        "  plt.legend()\n",
        "  plt.show()\n"
      ],
      "metadata": {
        "id": "3dXbDrJpY1NK",
        "colab": {
          "base_uri": "https://localhost:8080/",
          "height": 295
        },
        "outputId": "21cfb582-585c-431c-e080-56610d700de1"
      },
      "execution_count": 12,
      "outputs": [
        {
          "output_type": "display_data",
          "data": {
            "text/plain": [
              "<Figure size 432x288 with 1 Axes>"
            ],
            "image/png": "[encoded data removed]"
          },
          "metadata": {
            "needs_background": "light"
          }
        }
      ]
    },
    {
      "cell_type": "code",
      "source": [
        "  #plotting\n",
        "  epochs = range(1, len(history.history['loss'])+1)\n",
        "  plt.title(f\"Grafik Akurasi training iterasi {iterasi}\")\n",
        "  plt.plot(epochs, history.history['Accuracy'], 'r', label='Training Accuracy')\n",
        "  plt.plot(epochs, history.history['val_Accuracy'], 'b', label='Validation Accuracy')    \n",
        "  plt.xlabel(\"Epoch\")\n",
        "  plt.ylabel(\"Accuracy\")\n",
        "  plt.legend()\n",
        "  plt.show()"
      ],
      "metadata": {
        "id": "j3xigprPwlSX",
        "colab": {
          "base_uri": "https://localhost:8080/",
          "height": 295
        },
        "outputId": "039a7748-b661-4ae5-c993-0500695a79b7"
      },
      "execution_count": 13,
      "outputs": [
        {
          "output_type": "display_data",
          "data": {
            "text/plain": [
              "<Figure size 432x288 with 1 Axes>"
            ],
            "image/png": "[encoded data removed]"
          },
          "metadata": {
            "needs_background": "light"
          }
        }
      ]
    },
    {
      "cell_type": "markdown",
      "metadata": {
        "id": "bTgk1-sdzmgy"
      },
      "source": [
        "**Validating** Network"
      ]
    },
    {
      "cell_type": "code",
      "source": [
        "import matplotlib.pyplot as plt\n",
        "from sklearn.datasets import make_classification\n",
        "from numpy import mean\n",
        "from sklearn.metrics import confusion_matrix, ConfusionMatrixDisplay, accuracy_score, classification_report, recall_score\n",
        "\n",
        "#Creating list for correct label\n",
        "correct_labels = []\n",
        "for i in range(len(image_labels_validation)):\n",
        "  pr = image_labels_validation[i]\n",
        "  output = label_binarizer.inverse_transform(pr)\n",
        "  correct_labels.append(output[0])\n",
        "\n",
        "#Creating list for predicted label\n",
        "predicted_labels = []\n",
        "for i in range(len(np_image_list_validation)):\n",
        "  test_img = np_image_list_validation[i]\n",
        "  test_img = np.expand_dims(test_img, axis=0)\n",
        "  pr=model.predict(test_img)\n",
        "  output = label_binarizer.inverse_transform(pr)\n",
        "  predicted_labels.append(output[0])\n",
        "\n",
        "#creating confusion matrix by comparing both list\n",
        "confusion_matrix = confusion_matrix(correct_labels, predicted_labels)\n",
        "disp = ConfusionMatrixDisplay(confusion_matrix=confusion_matrix)  \n",
        "disp.plot()\n",
        "plt.show()\n",
        "print('--------')\n",
        "\n",
        "FP = confusion_matrix.sum(axis=0) - np.diag(confusion_matrix)  \n",
        "FN = confusion_matrix.sum(axis=1) - np.diag(confusion_matrix)\n",
        "TP = np.diag(confusion_matrix)\n",
        "TN = confusion_matrix.sum() - (FP + FN + TP)\n",
        "\n",
        "# Sensitivity, hit rate, recall, or true positive rate\n",
        "sensitivity = TP/(TP+FN)\n",
        "# Specificity or true negative rate\n",
        "specificity = TN/(TN+FP) \n",
        "# Overall accuracy\n",
        "accuracy = (TP+TN)/(TP+FP+FN+TN)\n",
        "\n",
        "print(TP)\n",
        "print(TN)\n",
        "print(FP)\n",
        "print(FN)\n",
        "print('--------')\n",
        "print(accuracy)\n",
        "print(sensitivity)\n",
        "print(specificity)\n",
        "print('--------')"
      ],
      "metadata": {
        "colab": {
          "base_uri": "https://localhost:8080/",
          "height": 453
        },
        "id": "d_NBE4KkWuhu",
        "outputId": "f597efab-cc1e-4228-fa31-cdec89e95291"
      },
      "execution_count": 14,
      "outputs": [
        {
          "output_type": "display_data",
          "data": {
            "text/plain": [
              "<Figure size 432x288 with 2 Axes>"
            ],
            "image/png": "[encoded data removed]"
          },
          "metadata": {
            "needs_background": "light"
          }
        },
        {
          "output_type": "stream",
          "name": "stdout",
          "text": [
            "--------\n",
            "[20 32]\n",
            "[32 20]\n",
            "[ 0 20]\n",
            "[20  0]\n",
            "--------\n",
            "[0.72222222 0.72222222]\n",
            "[0.5 1. ]\n",
            "[1.  0.5]\n",
            "--------\n"
          ]
        }
      ]
    },
    {
      "cell_type": "markdown",
      "source": [
        "**Testing** Network"
      ],
      "metadata": {
        "id": "saJYjKqX9tRL"
      }
    },
    {
      "cell_type": "code",
      "source": [
        "import matplotlib.pyplot as plt\n",
        "from sklearn.datasets import make_classification\n",
        "from numpy import mean\n",
        "from sklearn.metrics import confusion_matrix, ConfusionMatrixDisplay, accuracy_score, classification_report, recall_score\n",
        "\n",
        "#Creating list for correct label\n",
        "correct_labels = []\n",
        "for i in range(len(image_labels_test)):\n",
        "  pr = image_labels_test[i]\n",
        "  output = label_binarizer.inverse_transform(pr)\n",
        "  correct_labels.append(output[0])\n",
        "\n",
        "#Creating list for predicted label\n",
        "predicted_labels = []\n",
        "for i in range(len(np_image_list_test)):\n",
        "  test_img = np_image_list_test[i]\n",
        "  test_img = np.expand_dims(test_img, axis=0)\n",
        "  pr=model.predict(test_img)\n",
        "  output = label_binarizer.inverse_transform(pr)\n",
        "  predicted_labels.append(output[0])\n",
        "\n",
        "#creating confusion matrix by comparing both list\n",
        "confusion_matrix = confusion_matrix(correct_labels, predicted_labels)\n",
        "disp = ConfusionMatrixDisplay(confusion_matrix=confusion_matrix)  \n",
        "disp.plot()\n",
        "plt.show()\n",
        "print('--------')\n",
        "\n",
        "FP = confusion_matrix.sum(axis=0) - np.diag(confusion_matrix)  \n",
        "FN = confusion_matrix.sum(axis=1) - np.diag(confusion_matrix)\n",
        "TP = np.diag(confusion_matrix)\n",
        "TN = confusion_matrix.sum() - (FP + FN + TP)\n",
        "\n",
        "# Sensitivity, hit rate, recall, or true positive rate\n",
        "sensitivity = TP/(TP+FN)\n",
        "# Specificity or true negative rate\n",
        "specificity = TN/(TN+FP) \n",
        "# Overall accuracy\n",
        "accuracy = (TP+TN)/(TP+FP+FN+TN)\n",
        "\n",
        "print(TP)\n",
        "print(TN)\n",
        "print(FP)\n",
        "print(FN)\n",
        "print('--------')\n",
        "print(accuracy)\n",
        "print(sensitivity)\n",
        "print(specificity)\n",
        "print('--------')"
      ],
      "metadata": {
        "colab": {
          "base_uri": "https://localhost:8080/",
          "height": 457
        },
        "id": "A7DR52hmTc75",
        "outputId": "6c8beda9-b5dc-478e-f8ac-e1344cae6a05"
      },
      "execution_count": 15,
      "outputs": [
        {
          "output_type": "display_data",
          "data": {
            "text/plain": [
              "<Figure size 432x288 with 2 Axes>"
            ],
            "image/png": "[encoded data removed]"
          },
          "metadata": {
            "needs_background": "light"
          }
        },
        {
          "output_type": "stream",
          "name": "stdout",
          "text": [
            "--------\n",
            "[25 40]\n",
            "[40 25]\n",
            "[ 2 23]\n",
            "[23  2]\n",
            "--------\n",
            "[0.72222222 0.72222222]\n",
            "[0.52083333 0.95238095]\n",
            "[0.95238095 0.52083333]\n",
            "--------\n"
          ]
        }
      ]
    }
  ]
}