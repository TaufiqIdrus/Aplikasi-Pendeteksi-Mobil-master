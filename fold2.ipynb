{
  "nbformat": 4,
  "nbformat_minor": 0,
  "metadata": {
    "accelerator": "GPU",
    "colab": {
      "name": "Kodingan Skripsi 3",
      "provenance": [],
      "collapsed_sections": [],
      "include_colab_link": true
    },
    "kernelspec": {
      "display_name": "Python 3",
      "language": "python",
      "name": "python3"
    },
    "language_info": {
      "codemirror_mode": {
        "name": "ipython",
        "version": 3
      },
      "file_extension": ".py",
      "mimetype": "text/x-python",
      "name": "python",
      "nbconvert_exporter": "python",
      "pygments_lexer": "ipython3",
      "version": "3.6.6"
    }
  },
  "cells": [
    {
      "cell_type": "markdown",
      "metadata": {
        "id": "view-in-github",
        "colab_type": "text"
      },
      "source": [
        "<a href=\"https://colab.research.google.com/github/TaufiqIdrus/Aplikasi-Pendeteksi-Mobil-master/blob/master/fold2.ipynb\" target=\"_parent\"><img src=\"https://colab.research.google.com/assets/colab-badge.svg\" alt=\"Open In Colab\"/></a>"
      ]
    },
    {
      "cell_type": "markdown",
      "metadata": {
        "id": "yJT_kQA2lITS"
      },
      "source": [
        "**Identifikasi Penyakit Pada Tanaman Apel menggunakan Convolutional Neural Network**"
      ]
    },
    {
      "cell_type": "code",
      "metadata": {
        "id": "xXeOaYTUzmgT"
      },
      "source": [
        "import numpy as np\n",
        "import pickle\n",
        "import os\n",
        "import cv2\n",
        "import tensorflow as tf\n",
        "import keras\n",
        "from os import listdir\n",
        "from sklearn.preprocessing import LabelBinarizer\n",
        "from sklearn.model_selection import KFold\n",
        "from keras.models import Sequential\n",
        "from keras.layers.normalization import batch_normalization\n",
        "from keras.layers.convolutional import Conv2D\n",
        "from keras.layers.convolutional import MaxPooling2D\n",
        "from keras.layers.core import Activation, Flatten, Dropout, Dense\n",
        "from keras import backend as K\n",
        "from tensorflow.keras.optimizers import Adam\n",
        "from keras.preprocessing import image\n",
        "from sklearn.preprocessing import MultiLabelBinarizer\n",
        "from sklearn.model_selection import train_test_split\n",
        "import matplotlib.pyplot as plt\n",
        "from sklearn.datasets import make_classification\n",
        "from numpy import mean\n",
        "from sklearn.metrics import confusion_matrix, ConfusionMatrixDisplay, accuracy_score, classification_report, recall_score\n"
      ],
      "execution_count": 1,
      "outputs": []
    },
    {
      "cell_type": "markdown",
      "metadata": {
        "id": "fp8C0d28lQok"
      },
      "source": [
        "Importing and Preparing Dataset"
      ]
    },
    {
      "cell_type": "code",
      "metadata": {
        "id": "_0xehllADlUs",
        "colab": {
          "base_uri": "https://localhost:8080/"
        },
        "outputId": "6591896e-0d7d-410a-ef5f-a7ad05a4453b"
      },
      "source": [
        "!pip install pyunpack\n",
        "!pip install patool\n",
        "from pyunpack import Archive\n",
        "Archive('/content/fold2.rar').extractall('/content/Datasets/')\n",
        "iterasi = 2\n",
        "width=256\n",
        "height=256\n",
        "default_image_size = tuple((height, width))\n",
        "directory_root_train = '/content/Datasets/fold2/Train'\n",
        "directory_root_validation = '/content/Datasets/fold2/Validation'\n",
        "directory_root_test = '/content/Datasets/fold2/Test'\n",
        "image_size = 0\n",
        "depth=3"
      ],
      "execution_count": 2,
      "outputs": [
        {
          "output_type": "stream",
          "name": "stdout",
          "text": [
            "Requirement already satisfied: pyunpack in /usr/local/lib/python3.7/dist-packages (0.2.2)\n",
            "Requirement already satisfied: easyprocess in /usr/local/lib/python3.7/dist-packages (from pyunpack) (1.1)\n",
            "Requirement already satisfied: entrypoint2 in /usr/local/lib/python3.7/dist-packages (from pyunpack) (1.0)\n",
            "Requirement already satisfied: patool in /usr/local/lib/python3.7/dist-packages (1.12)\n"
          ]
        }
      ]
    },
    {
      "cell_type": "code",
      "metadata": {
        "id": "KbAwJJTpzmge"
      },
      "source": [
        "def convert_image_to_array(image_dir):\n",
        "    try:\n",
        "        image = cv2.imread(image_dir)\n",
        "        if image is not None :\n",
        "            image = cv2.resize(image, default_image_size)   \n",
        "            return keras.preprocessing.image.img_to_array(image)\n",
        "        else :\n",
        "            return np.array([])\n",
        "    except Exception as e:\n",
        "        print(f\"Error : {e}\")\n",
        "        return None"
      ],
      "execution_count": 3,
      "outputs": []
    },
    {
      "cell_type": "markdown",
      "source": [
        "Converting **Training** Data to Array"
      ],
      "metadata": {
        "id": "bgXxUMO2cI_D"
      }
    },
    {
      "cell_type": "code",
      "metadata": {
        "id": "Erz6IjKXzmgg",
        "colab": {
          "base_uri": "https://localhost:8080/"
        },
        "outputId": "5e8df259-984c-4489-b4aa-aa6943ad3040"
      },
      "source": [
        "image_list_train, label_list_train = [], []\n",
        "try:\n",
        "    print(\"[INFO] Loading images ...\")\n",
        "    root_dir = listdir(directory_root_train)\n",
        "\n",
        "    for plant_disease_folder in root_dir:\n",
        "        print(f\"[INFO] Processing {plant_disease_folder} ...\")\n",
        "        plant_disease_image_list = listdir(f\"{directory_root_train}/{plant_disease_folder}/\")\n",
        "      \n",
        "        for image in plant_disease_image_list:\n",
        "            image_directory = f\"{directory_root_train}/{plant_disease_folder}/{image}\"\n",
        "\n",
        "            if image_directory.endswith(\".jpg\") == True or image_directory.endswith(\".JPG\") == True:\n",
        "                image_list_train.append(convert_image_to_array(image_directory))\n",
        "                label_list_train.append(plant_disease_folder)\n",
        "    print(\"[INFO] Image loading completed\")\n",
        "\n",
        "except Exception as e:\n",
        "    print(f\"Error : {e}\")\n",
        "\n",
        "#image labeling\n",
        "image_size = len(image_list_train)\n",
        "label_binarizer = LabelBinarizer()\n",
        "image_labels_train = label_binarizer.fit_transform(label_list_train)\n",
        "pickle.dump(label_binarizer,open('label_transform_train.pkl', 'wb'))\n",
        "n_classes = len(label_binarizer.classes_)\n",
        "np_image_list_train = np.array(image_list_train, dtype=np.float16) / 255.0"
      ],
      "execution_count": 4,
      "outputs": [
        {
          "output_type": "stream",
          "name": "stdout",
          "text": [
            "[INFO] Loading images ...\n",
            "[INFO] Processing Healthy ...\n",
            "[INFO] Processing Diseased ...\n",
            "[INFO] Image loading completed\n"
          ]
        }
      ]
    },
    {
      "cell_type": "markdown",
      "source": [
        "Converting **Validation** Data to Array"
      ],
      "metadata": {
        "id": "7eEMGiqRd_E4"
      }
    },
    {
      "cell_type": "code",
      "source": [
        "image_list_validation, label_list_validation = [], []\n",
        "try:\n",
        "    print(\"[INFO] Loading images ...\")\n",
        "    root_dir = listdir(directory_root_validation)\n",
        "\n",
        "    for plant_disease_folder in root_dir:\n",
        "        print(f\"[INFO] Processing {plant_disease_folder} ...\")\n",
        "        plant_disease_image_list = listdir(f\"{directory_root_validation}/{plant_disease_folder}/\")\n",
        "      \n",
        "        for image in plant_disease_image_list:\n",
        "            image_directory = f\"{directory_root_validation}/{plant_disease_folder}/{image}\"\n",
        "\n",
        "            if image_directory.endswith(\".jpg\") == True or image_directory.endswith(\".JPG\") == True:\n",
        "                image_list_validation.append(convert_image_to_array(image_directory))\n",
        "                label_list_validation.append(plant_disease_folder)\n",
        "    print(\"[INFO] Image loading completed\")\n",
        "\n",
        "except Exception as e:\n",
        "    print(f\"Error : {e}\")\n",
        "\n",
        "#image labeling\n",
        "image_size = len(image_list_validation)\n",
        "label_binarizer = LabelBinarizer()\n",
        "image_labels_validation = label_binarizer.fit_transform(label_list_validation)\n",
        "pickle.dump(label_binarizer,open('label_transform_validation.pkl', 'wb'))\n",
        "n_classes = len(label_binarizer.classes_)\n",
        "np_image_list_validation = np.array(image_list_validation, dtype=np.float16) / 255.0"
      ],
      "metadata": {
        "id": "wfHDdR0ZeEuU",
        "colab": {
          "base_uri": "https://localhost:8080/"
        },
        "outputId": "784fc1ab-014c-462b-d344-41904eeef4e4"
      },
      "execution_count": 5,
      "outputs": [
        {
          "output_type": "stream",
          "name": "stdout",
          "text": [
            "[INFO] Loading images ...\n",
            "[INFO] Processing Healthy ...\n",
            "[INFO] Processing Diseased ...\n",
            "[INFO] Image loading completed\n"
          ]
        }
      ]
    },
    {
      "cell_type": "markdown",
      "source": [
        "Converting **Testing** Data to Array"
      ],
      "metadata": {
        "id": "brwWyZVncTdg"
      }
    },
    {
      "cell_type": "code",
      "metadata": {
        "id": "uNPby5UMcaWY",
        "colab": {
          "base_uri": "https://localhost:8080/"
        },
        "outputId": "eac6cb5c-81e7-4191-e7a6-f7aca37760e2"
      },
      "source": [
        "image_list_test, label_list_test = [], []\n",
        "try:\n",
        "    print(\"[INFO] Loading images ...\")\n",
        "    root_dir = listdir(directory_root_test)\n",
        "\n",
        "    for plant_disease_folder in root_dir:\n",
        "        print(f\"[INFO] Processing {plant_disease_folder} ...\")\n",
        "        plant_disease_image_list = listdir(f\"{directory_root_test}/{plant_disease_folder}/\")\n",
        "      \n",
        "        for image in plant_disease_image_list:\n",
        "            image_directory = f\"{directory_root_test}/{plant_disease_folder}/{image}\"\n",
        "\n",
        "            if image_directory.endswith(\".jpg\") == True or image_directory.endswith(\".JPG\") == True:\n",
        "                image_list_test.append(convert_image_to_array(image_directory))\n",
        "                label_list_test.append(plant_disease_folder)\n",
        "    print(\"[INFO] Image loading completed\")\n",
        "\n",
        "except Exception as e:\n",
        "    print(f\"Error : {e}\")\n",
        "\n",
        "#image labeling\n",
        "image_size = len(image_list_test)\n",
        "label_binarizer = LabelBinarizer()\n",
        "image_labels_test = label_binarizer.fit_transform(label_list_test)\n",
        "pickle.dump(label_binarizer,open('label_transform_test.pkl', 'wb'))\n",
        "n_classes = len(label_binarizer.classes_)\n",
        "np_image_list_test = np.array(image_list_test, dtype=np.float16) / 255.0"
      ],
      "execution_count": 6,
      "outputs": [
        {
          "output_type": "stream",
          "name": "stdout",
          "text": [
            "[INFO] Loading images ...\n",
            "[INFO] Processing Healthy ...\n",
            "[INFO] Processing Diseased ...\n",
            "[INFO] Image loading completed\n"
          ]
        }
      ]
    },
    {
      "cell_type": "markdown",
      "metadata": {
        "id": "jYBTFN0CnAi7"
      },
      "source": [
        "Data Augmenting Initialization"
      ]
    },
    {
      "cell_type": "code",
      "metadata": {
        "id": "TLMxMK2Tzmgr"
      },
      "source": [
        "aug = keras.preprocessing.image.ImageDataGenerator(\n",
        "    rotation_range=25, \n",
        "    width_shift_range=0.1,\n",
        "    height_shift_range=0.1, \n",
        "    shear_range=0.2, \n",
        "    zoom_range=0.2,\n",
        "    horizontal_flip=True, \n",
        "    fill_mode=\"nearest\")"
      ],
      "execution_count": 7,
      "outputs": []
    },
    {
      "cell_type": "markdown",
      "metadata": {
        "id": "H1BfRyYNnGv_"
      },
      "source": [
        "Creating CNN Model"
      ]
    },
    {
      "cell_type": "code",
      "metadata": {
        "id": "WmLX4wm8zmgs"
      },
      "source": [
        "model = keras.models.Sequential()\n",
        "inputShape = (height, width, depth)\n",
        "\n",
        "model.add(Conv2D(32, (3, 3), padding=\"same\",input_shape=inputShape))\n",
        "model.add(Activation(\"relu\"))\n",
        "\n",
        "model.add(MaxPooling2D(pool_size=(3, 3)))\n",
        "\n",
        "model.add(Conv2D(64, (3, 3), padding=\"same\"))\n",
        "model.add(Activation(\"relu\"))\n",
        "\n",
        "model.add(MaxPooling2D(pool_size=(3, 3)))\n",
        "\n",
        "model.add(Flatten())\n",
        "\n",
        "model.add(Dense(1024))\n",
        "model.add(Activation(\"relu\"))\n",
        "\n",
        "model.add(Dense(1))\n",
        "model.add(Activation(\"sigmoid\"))"
      ],
      "execution_count": 8,
      "outputs": []
    },
    {
      "cell_type": "code",
      "source": [
        "#model.summary()"
      ],
      "metadata": {
        "id": "RQIgaph8hW06"
      },
      "execution_count": null,
      "outputs": []
    },
    {
      "cell_type": "code",
      "source": [
        "#from PIL import Image\n",
        "#from keras.utils.vis_utils import plot_model\n",
        "#plot_model(model, to_file='cnn_model.png', show_shapes=True, show_layer_names=True)\n",
        "#display(Image.open('cnn_model.png'))"
      ],
      "metadata": {
        "id": "T05gPuu1GudW"
      },
      "execution_count": 9,
      "outputs": []
    },
    {
      "cell_type": "markdown",
      "metadata": {
        "id": "Zfsu3lVfnXFG"
      },
      "source": [
        "**Training** Network"
      ]
    },
    {
      "cell_type": "code",
      "metadata": {
        "id": "rvwKwe3Lzmgv",
        "colab": {
          "base_uri": "https://localhost:8080/"
        },
        "outputId": "26fa256c-a597-481b-e5ab-d96503770ff2"
      },
      "source": [
        "EPOCHS = 100\n",
        "INIT_LR = 1e-3\n",
        "BS = 32\n",
        "\n",
        "with tf.device('/GPU:0'):\n",
        "  opt = Adam(learning_rate=INIT_LR, decay=INIT_LR / EPOCHS)\n",
        "  model.compile(loss=\"binary_crossentropy\", optimizer=opt,metrics=[\"Accuracy\", \"FalseNegatives\", \"FalsePositives\", \"TrueNegatives\", \"TruePositives\"])\n",
        "  \n",
        "  history = model.fit(\n",
        "      aug.flow(np_image_list_train, image_labels_train, batch_size=BS),\n",
        "      validation_data=(np_image_list_validation, image_labels_validation),\n",
        "      steps_per_epoch=len(np_image_list_train) // BS,\n",
        "      epochs=EPOCHS, \n",
        "      verbose=1,\n",
        "      )\n"
      ],
      "execution_count": 10,
      "outputs": [
        {
          "output_type": "stream",
          "name": "stdout",
          "text": [
            "Epoch 1/100\n",
            "9/9 [==============================] - 13s 991ms/step - loss: 2.4129 - Accuracy: 0.5382 - false_negatives: 53.0000 - false_positives: 80.0000 - true_negatives: 74.0000 - true_positives: 81.0000 - val_loss: 0.6874 - val_Accuracy: 0.5278 - val_false_negatives: 34.0000 - val_false_positives: 0.0000e+00 - val_true_negatives: 38.0000 - val_true_positives: 0.0000e+00\n",
            "Epoch 2/100\n",
            "9/9 [==============================] - 4s 428ms/step - loss: 0.6896 - Accuracy: 0.5174 - false_negatives: 122.0000 - false_positives: 17.0000 - true_negatives: 137.0000 - true_positives: 12.0000 - val_loss: 0.6885 - val_Accuracy: 0.5278 - val_false_negatives: 34.0000 - val_false_positives: 0.0000e+00 - val_true_negatives: 38.0000 - val_true_positives: 0.0000e+00\n",
            "Epoch 3/100\n",
            "9/9 [==============================] - 4s 425ms/step - loss: 0.6886 - Accuracy: 0.5486 - false_negatives: 89.0000 - false_positives: 41.0000 - true_negatives: 113.0000 - true_positives: 45.0000 - val_loss: 0.6820 - val_Accuracy: 0.5278 - val_false_negatives: 34.0000 - val_false_positives: 0.0000e+00 - val_true_negatives: 38.0000 - val_true_positives: 0.0000e+00\n",
            "Epoch 4/100\n",
            "9/9 [==============================] - 4s 422ms/step - loss: 0.6824 - Accuracy: 0.5729 - false_negatives: 117.0000 - false_positives: 6.0000 - true_negatives: 148.0000 - true_positives: 17.0000 - val_loss: 0.6881 - val_Accuracy: 0.5139 - val_false_negatives: 0.0000e+00 - val_false_positives: 35.0000 - val_true_negatives: 3.0000 - val_true_positives: 34.0000\n",
            "Epoch 5/100\n",
            "9/9 [==============================] - 4s 423ms/step - loss: 0.6861 - Accuracy: 0.4896 - false_negatives: 97.0000 - false_positives: 50.0000 - true_negatives: 104.0000 - true_positives: 37.0000 - val_loss: 0.6728 - val_Accuracy: 0.5278 - val_false_negatives: 34.0000 - val_false_positives: 0.0000e+00 - val_true_negatives: 38.0000 - val_true_positives: 0.0000e+00\n",
            "Epoch 6/100\n",
            "9/9 [==============================] - 4s 423ms/step - loss: 0.6615 - Accuracy: 0.5556 - false_negatives: 122.0000 - false_positives: 6.0000 - true_negatives: 148.0000 - true_positives: 12.0000 - val_loss: 0.6755 - val_Accuracy: 0.5556 - val_false_negatives: 0.0000e+00 - val_false_positives: 32.0000 - val_true_negatives: 6.0000 - val_true_positives: 34.0000\n",
            "Epoch 7/100\n",
            "9/9 [==============================] - 4s 426ms/step - loss: 0.6380 - Accuracy: 0.6597 - false_negatives: 46.0000 - false_positives: 52.0000 - true_negatives: 102.0000 - true_positives: 88.0000 - val_loss: 0.6174 - val_Accuracy: 0.5833 - val_false_negatives: 29.0000 - val_false_positives: 1.0000 - val_true_negatives: 37.0000 - val_true_positives: 5.0000\n",
            "Epoch 8/100\n",
            "9/9 [==============================] - 4s 424ms/step - loss: 0.6234 - Accuracy: 0.5972 - false_negatives: 65.0000 - false_positives: 51.0000 - true_negatives: 103.0000 - true_positives: 69.0000 - val_loss: 0.6163 - val_Accuracy: 0.6667 - val_false_negatives: 0.0000e+00 - val_false_positives: 24.0000 - val_true_negatives: 14.0000 - val_true_positives: 34.0000\n",
            "Epoch 9/100\n",
            "9/9 [==============================] - 4s 423ms/step - loss: 0.6330 - Accuracy: 0.6424 - false_negatives: 41.0000 - false_positives: 62.0000 - true_negatives: 92.0000 - true_positives: 93.0000 - val_loss: 0.5923 - val_Accuracy: 0.6944 - val_false_negatives: 18.0000 - val_false_positives: 4.0000 - val_true_negatives: 34.0000 - val_true_positives: 16.0000\n",
            "Epoch 10/100\n",
            "9/9 [==============================] - 4s 424ms/step - loss: 0.6175 - Accuracy: 0.6562 - false_negatives: 54.0000 - false_positives: 45.0000 - true_negatives: 109.0000 - true_positives: 80.0000 - val_loss: 0.5978 - val_Accuracy: 0.8056 - val_false_negatives: 3.0000 - val_false_positives: 11.0000 - val_true_negatives: 27.0000 - val_true_positives: 31.0000\n",
            "Epoch 11/100\n",
            "9/9 [==============================] - 4s 427ms/step - loss: 0.5666 - Accuracy: 0.7118 - false_negatives: 49.0000 - false_positives: 34.0000 - true_negatives: 120.0000 - true_positives: 85.0000 - val_loss: 0.5692 - val_Accuracy: 0.7083 - val_false_negatives: 2.0000 - val_false_positives: 19.0000 - val_true_negatives: 19.0000 - val_true_positives: 32.0000\n",
            "Epoch 12/100\n",
            "9/9 [==============================] - 4s 424ms/step - loss: 0.4963 - Accuracy: 0.7569 - false_negatives: 24.0000 - false_positives: 46.0000 - true_negatives: 108.0000 - true_positives: 110.0000 - val_loss: 0.5080 - val_Accuracy: 0.8056 - val_false_negatives: 5.0000 - val_false_positives: 9.0000 - val_true_negatives: 29.0000 - val_true_positives: 29.0000\n",
            "Epoch 13/100\n",
            "9/9 [==============================] - 4s 421ms/step - loss: 0.4597 - Accuracy: 0.8056 - false_negatives: 33.0000 - false_positives: 23.0000 - true_negatives: 131.0000 - true_positives: 101.0000 - val_loss: 0.7674 - val_Accuracy: 0.5972 - val_false_negatives: 0.0000e+00 - val_false_positives: 29.0000 - val_true_negatives: 9.0000 - val_true_positives: 34.0000\n",
            "Epoch 14/100\n",
            "9/9 [==============================] - 4s 421ms/step - loss: 0.4994 - Accuracy: 0.7604 - false_negatives: 36.0000 - false_positives: 33.0000 - true_negatives: 121.0000 - true_positives: 98.0000 - val_loss: 0.5945 - val_Accuracy: 0.6528 - val_false_negatives: 0.0000e+00 - val_false_positives: 25.0000 - val_true_negatives: 13.0000 - val_true_positives: 34.0000\n",
            "Epoch 15/100\n",
            "9/9 [==============================] - 4s 427ms/step - loss: 0.4804 - Accuracy: 0.7847 - false_negatives: 19.0000 - false_positives: 43.0000 - true_negatives: 111.0000 - true_positives: 115.0000 - val_loss: 0.4904 - val_Accuracy: 0.7639 - val_false_negatives: 2.0000 - val_false_positives: 15.0000 - val_true_negatives: 23.0000 - val_true_positives: 32.0000\n",
            "Epoch 16/100\n",
            "9/9 [==============================] - 4s 420ms/step - loss: 0.4670 - Accuracy: 0.7847 - false_negatives: 26.0000 - false_positives: 36.0000 - true_negatives: 118.0000 - true_positives: 108.0000 - val_loss: 0.5758 - val_Accuracy: 0.6944 - val_false_negatives: 0.0000e+00 - val_false_positives: 22.0000 - val_true_negatives: 16.0000 - val_true_positives: 34.0000\n",
            "Epoch 17/100\n",
            "9/9 [==============================] - 4s 425ms/step - loss: 0.4403 - Accuracy: 0.7743 - false_negatives: 35.0000 - false_positives: 30.0000 - true_negatives: 124.0000 - true_positives: 99.0000 - val_loss: 0.6345 - val_Accuracy: 0.6528 - val_false_negatives: 0.0000e+00 - val_false_positives: 25.0000 - val_true_negatives: 13.0000 - val_true_positives: 34.0000\n",
            "Epoch 18/100\n",
            "9/9 [==============================] - 4s 422ms/step - loss: 0.4141 - Accuracy: 0.8229 - false_negatives: 20.0000 - false_positives: 31.0000 - true_negatives: 123.0000 - true_positives: 114.0000 - val_loss: 0.4626 - val_Accuracy: 0.7639 - val_false_negatives: 5.0000 - val_false_positives: 12.0000 - val_true_negatives: 26.0000 - val_true_positives: 29.0000\n",
            "Epoch 19/100\n",
            "9/9 [==============================] - 4s 420ms/step - loss: 0.4194 - Accuracy: 0.8264 - false_negatives: 21.0000 - false_positives: 29.0000 - true_negatives: 125.0000 - true_positives: 113.0000 - val_loss: 0.5589 - val_Accuracy: 0.7083 - val_false_negatives: 0.0000e+00 - val_false_positives: 21.0000 - val_true_negatives: 17.0000 - val_true_positives: 34.0000\n",
            "Epoch 20/100\n",
            "9/9 [==============================] - 4s 431ms/step - loss: 0.4219 - Accuracy: 0.8125 - false_negatives: 25.0000 - false_positives: 29.0000 - true_negatives: 125.0000 - true_positives: 109.0000 - val_loss: 0.5004 - val_Accuracy: 0.7778 - val_false_negatives: 0.0000e+00 - val_false_positives: 16.0000 - val_true_negatives: 22.0000 - val_true_positives: 34.0000\n",
            "Epoch 21/100\n",
            "9/9 [==============================] - 4s 424ms/step - loss: 0.4065 - Accuracy: 0.8160 - false_negatives: 19.0000 - false_positives: 34.0000 - true_negatives: 120.0000 - true_positives: 115.0000 - val_loss: 0.4971 - val_Accuracy: 0.7500 - val_false_negatives: 1.0000 - val_false_positives: 17.0000 - val_true_negatives: 21.0000 - val_true_positives: 33.0000\n",
            "Epoch 22/100\n",
            "9/9 [==============================] - 4s 426ms/step - loss: 0.3757 - Accuracy: 0.8438 - false_negatives: 13.0000 - false_positives: 32.0000 - true_negatives: 122.0000 - true_positives: 121.0000 - val_loss: 0.4458 - val_Accuracy: 0.7778 - val_false_negatives: 5.0000 - val_false_positives: 11.0000 - val_true_negatives: 27.0000 - val_true_positives: 29.0000\n",
            "Epoch 23/100\n",
            "9/9 [==============================] - 5s 572ms/step - loss: 0.3357 - Accuracy: 0.8715 - false_negatives: 10.0000 - false_positives: 27.0000 - true_negatives: 127.0000 - true_positives: 124.0000 - val_loss: 0.4424 - val_Accuracy: 0.7917 - val_false_negatives: 5.0000 - val_false_positives: 10.0000 - val_true_negatives: 28.0000 - val_true_positives: 29.0000\n",
            "Epoch 24/100\n",
            "9/9 [==============================] - 4s 422ms/step - loss: 0.3748 - Accuracy: 0.8472 - false_negatives: 18.0000 - false_positives: 26.0000 - true_negatives: 128.0000 - true_positives: 116.0000 - val_loss: 0.4262 - val_Accuracy: 0.7639 - val_false_negatives: 9.0000 - val_false_positives: 8.0000 - val_true_negatives: 30.0000 - val_true_positives: 25.0000\n",
            "Epoch 25/100\n",
            "9/9 [==============================] - 4s 424ms/step - loss: 0.3820 - Accuracy: 0.8056 - false_negatives: 25.0000 - false_positives: 31.0000 - true_negatives: 123.0000 - true_positives: 109.0000 - val_loss: 0.4441 - val_Accuracy: 0.7361 - val_false_negatives: 11.0000 - val_false_positives: 8.0000 - val_true_negatives: 30.0000 - val_true_positives: 23.0000\n",
            "Epoch 26/100\n",
            "9/9 [==============================] - 4s 423ms/step - loss: 0.3890 - Accuracy: 0.8299 - false_negatives: 12.0000 - false_positives: 37.0000 - true_negatives: 117.0000 - true_positives: 122.0000 - val_loss: 0.4630 - val_Accuracy: 0.8194 - val_false_negatives: 2.0000 - val_false_positives: 11.0000 - val_true_negatives: 27.0000 - val_true_positives: 32.0000\n",
            "Epoch 27/100\n",
            "9/9 [==============================] - 4s 423ms/step - loss: 0.3703 - Accuracy: 0.8542 - false_negatives: 13.0000 - false_positives: 29.0000 - true_negatives: 125.0000 - true_positives: 121.0000 - val_loss: 0.4374 - val_Accuracy: 0.7917 - val_false_negatives: 4.0000 - val_false_positives: 11.0000 - val_true_negatives: 27.0000 - val_true_positives: 30.0000\n",
            "Epoch 28/100\n",
            "9/9 [==============================] - 4s 425ms/step - loss: 0.3659 - Accuracy: 0.8472 - false_negatives: 14.0000 - false_positives: 30.0000 - true_negatives: 124.0000 - true_positives: 120.0000 - val_loss: 0.4264 - val_Accuracy: 0.7778 - val_false_negatives: 6.0000 - val_false_positives: 10.0000 - val_true_negatives: 28.0000 - val_true_positives: 28.0000\n",
            "Epoch 29/100\n",
            "9/9 [==============================] - 4s 423ms/step - loss: 0.3733 - Accuracy: 0.8264 - false_negatives: 15.0000 - false_positives: 35.0000 - true_negatives: 119.0000 - true_positives: 119.0000 - val_loss: 0.4224 - val_Accuracy: 0.7917 - val_false_negatives: 7.0000 - val_false_positives: 8.0000 - val_true_negatives: 30.0000 - val_true_positives: 27.0000\n",
            "Epoch 30/100\n",
            "9/9 [==============================] - 4s 423ms/step - loss: 0.3534 - Accuracy: 0.8472 - false_negatives: 17.0000 - false_positives: 27.0000 - true_negatives: 127.0000 - true_positives: 117.0000 - val_loss: 0.4595 - val_Accuracy: 0.8056 - val_false_negatives: 0.0000e+00 - val_false_positives: 14.0000 - val_true_negatives: 24.0000 - val_true_positives: 34.0000\n",
            "Epoch 31/100\n",
            "9/9 [==============================] - 4s 429ms/step - loss: 0.3631 - Accuracy: 0.8403 - false_negatives: 16.0000 - false_positives: 30.0000 - true_negatives: 124.0000 - true_positives: 118.0000 - val_loss: 0.4313 - val_Accuracy: 0.7639 - val_false_negatives: 9.0000 - val_false_positives: 8.0000 - val_true_negatives: 30.0000 - val_true_positives: 25.0000\n",
            "Epoch 32/100\n",
            "9/9 [==============================] - 4s 421ms/step - loss: 0.3499 - Accuracy: 0.8507 - false_negatives: 12.0000 - false_positives: 31.0000 - true_negatives: 123.0000 - true_positives: 122.0000 - val_loss: 0.4176 - val_Accuracy: 0.7778 - val_false_negatives: 7.0000 - val_false_positives: 9.0000 - val_true_negatives: 29.0000 - val_true_positives: 27.0000\n",
            "Epoch 33/100\n",
            "9/9 [==============================] - 4s 426ms/step - loss: 0.3407 - Accuracy: 0.8333 - false_negatives: 16.0000 - false_positives: 32.0000 - true_negatives: 122.0000 - true_positives: 118.0000 - val_loss: 0.4386 - val_Accuracy: 0.7778 - val_false_negatives: 7.0000 - val_false_positives: 9.0000 - val_true_negatives: 29.0000 - val_true_positives: 27.0000\n",
            "Epoch 34/100\n",
            "9/9 [==============================] - 4s 432ms/step - loss: 0.3639 - Accuracy: 0.8472 - false_negatives: 13.0000 - false_positives: 31.0000 - true_negatives: 123.0000 - true_positives: 121.0000 - val_loss: 0.4526 - val_Accuracy: 0.7639 - val_false_negatives: 11.0000 - val_false_positives: 6.0000 - val_true_negatives: 32.0000 - val_true_positives: 23.0000\n",
            "Epoch 35/100\n",
            "9/9 [==============================] - 4s 420ms/step - loss: 0.3567 - Accuracy: 0.8438 - false_negatives: 14.0000 - false_positives: 31.0000 - true_negatives: 123.0000 - true_positives: 120.0000 - val_loss: 0.4306 - val_Accuracy: 0.7778 - val_false_negatives: 6.0000 - val_false_positives: 10.0000 - val_true_negatives: 28.0000 - val_true_positives: 28.0000\n",
            "Epoch 36/100\n",
            "9/9 [==============================] - 4s 423ms/step - loss: 0.3377 - Accuracy: 0.8438 - false_negatives: 17.0000 - false_positives: 28.0000 - true_negatives: 126.0000 - true_positives: 117.0000 - val_loss: 0.5451 - val_Accuracy: 0.7361 - val_false_negatives: 0.0000e+00 - val_false_positives: 19.0000 - val_true_negatives: 19.0000 - val_true_positives: 34.0000\n",
            "Epoch 37/100\n",
            "9/9 [==============================] - 4s 424ms/step - loss: 0.3584 - Accuracy: 0.8229 - false_negatives: 26.0000 - false_positives: 25.0000 - true_negatives: 129.0000 - true_positives: 108.0000 - val_loss: 0.4755 - val_Accuracy: 0.7778 - val_false_negatives: 2.0000 - val_false_positives: 14.0000 - val_true_negatives: 24.0000 - val_true_positives: 32.0000\n",
            "Epoch 38/100\n",
            "9/9 [==============================] - 4s 425ms/step - loss: 0.3543 - Accuracy: 0.8472 - false_negatives: 13.0000 - false_positives: 31.0000 - true_negatives: 123.0000 - true_positives: 121.0000 - val_loss: 0.4735 - val_Accuracy: 0.7917 - val_false_negatives: 0.0000e+00 - val_false_positives: 15.0000 - val_true_negatives: 23.0000 - val_true_positives: 34.0000\n",
            "Epoch 39/100\n",
            "9/9 [==============================] - 4s 434ms/step - loss: 0.3350 - Accuracy: 0.8472 - false_negatives: 16.0000 - false_positives: 28.0000 - true_negatives: 126.0000 - true_positives: 118.0000 - val_loss: 0.4548 - val_Accuracy: 0.7639 - val_false_negatives: 1.0000 - val_false_positives: 16.0000 - val_true_negatives: 22.0000 - val_true_positives: 33.0000\n",
            "Epoch 40/100\n",
            "9/9 [==============================] - 4s 425ms/step - loss: 0.3243 - Accuracy: 0.8750 - false_negatives: 11.0000 - false_positives: 25.0000 - true_negatives: 129.0000 - true_positives: 123.0000 - val_loss: 0.4568 - val_Accuracy: 0.7639 - val_false_negatives: 2.0000 - val_false_positives: 15.0000 - val_true_negatives: 23.0000 - val_true_positives: 32.0000\n",
            "Epoch 41/100\n",
            "9/9 [==============================] - 4s 428ms/step - loss: 0.3367 - Accuracy: 0.8542 - false_negatives: 18.0000 - false_positives: 24.0000 - true_negatives: 130.0000 - true_positives: 116.0000 - val_loss: 0.4732 - val_Accuracy: 0.7639 - val_false_negatives: 0.0000e+00 - val_false_positives: 17.0000 - val_true_negatives: 21.0000 - val_true_positives: 34.0000\n",
            "Epoch 42/100\n",
            "9/9 [==============================] - 4s 426ms/step - loss: 0.3404 - Accuracy: 0.8333 - false_negatives: 13.0000 - false_positives: 35.0000 - true_negatives: 119.0000 - true_positives: 121.0000 - val_loss: 0.4159 - val_Accuracy: 0.7917 - val_false_negatives: 7.0000 - val_false_positives: 8.0000 - val_true_negatives: 30.0000 - val_true_positives: 27.0000\n",
            "Epoch 43/100\n",
            "9/9 [==============================] - 4s 425ms/step - loss: 0.3076 - Accuracy: 0.8750 - false_negatives: 15.0000 - false_positives: 21.0000 - true_negatives: 133.0000 - true_positives: 119.0000 - val_loss: 0.4919 - val_Accuracy: 0.7500 - val_false_negatives: 0.0000e+00 - val_false_positives: 18.0000 - val_true_negatives: 20.0000 - val_true_positives: 34.0000\n",
            "Epoch 44/100\n",
            "9/9 [==============================] - 4s 424ms/step - loss: 0.3241 - Accuracy: 0.8611 - false_negatives: 11.0000 - false_positives: 29.0000 - true_negatives: 125.0000 - true_positives: 123.0000 - val_loss: 0.4266 - val_Accuracy: 0.8056 - val_false_negatives: 2.0000 - val_false_positives: 12.0000 - val_true_negatives: 26.0000 - val_true_positives: 32.0000\n",
            "Epoch 45/100\n",
            "9/9 [==============================] - 4s 424ms/step - loss: 0.3507 - Accuracy: 0.8368 - false_negatives: 19.0000 - false_positives: 28.0000 - true_negatives: 126.0000 - true_positives: 115.0000 - val_loss: 0.4050 - val_Accuracy: 0.8333 - val_false_negatives: 5.0000 - val_false_positives: 7.0000 - val_true_negatives: 31.0000 - val_true_positives: 29.0000\n",
            "Epoch 46/100\n",
            "9/9 [==============================] - 4s 425ms/step - loss: 0.3412 - Accuracy: 0.8611 - false_negatives: 17.0000 - false_positives: 23.0000 - true_negatives: 131.0000 - true_positives: 117.0000 - val_loss: 0.4211 - val_Accuracy: 0.7917 - val_false_negatives: 2.0000 - val_false_positives: 13.0000 - val_true_negatives: 25.0000 - val_true_positives: 32.0000\n",
            "Epoch 47/100\n",
            "9/9 [==============================] - 4s 424ms/step - loss: 0.2901 - Accuracy: 0.8819 - false_negatives: 13.0000 - false_positives: 21.0000 - true_negatives: 133.0000 - true_positives: 121.0000 - val_loss: 0.4970 - val_Accuracy: 0.7500 - val_false_negatives: 1.0000 - val_false_positives: 17.0000 - val_true_negatives: 21.0000 - val_true_positives: 33.0000\n",
            "Epoch 48/100\n",
            "9/9 [==============================] - 4s 421ms/step - loss: 0.3128 - Accuracy: 0.8681 - false_negatives: 15.0000 - false_positives: 23.0000 - true_negatives: 131.0000 - true_positives: 119.0000 - val_loss: 0.4177 - val_Accuracy: 0.8194 - val_false_negatives: 3.0000 - val_false_positives: 10.0000 - val_true_negatives: 28.0000 - val_true_positives: 31.0000\n",
            "Epoch 49/100\n",
            "9/9 [==============================] - 4s 428ms/step - loss: 0.3073 - Accuracy: 0.8785 - false_negatives: 6.0000 - false_positives: 29.0000 - true_negatives: 125.0000 - true_positives: 128.0000 - val_loss: 0.4436 - val_Accuracy: 0.8056 - val_false_negatives: 2.0000 - val_false_positives: 12.0000 - val_true_negatives: 26.0000 - val_true_positives: 32.0000\n",
            "Epoch 50/100\n",
            "9/9 [==============================] - 4s 425ms/step - loss: 0.3053 - Accuracy: 0.8681 - false_negatives: 15.0000 - false_positives: 23.0000 - true_negatives: 131.0000 - true_positives: 119.0000 - val_loss: 0.4660 - val_Accuracy: 0.7917 - val_false_negatives: 1.0000 - val_false_positives: 14.0000 - val_true_negatives: 24.0000 - val_true_positives: 33.0000\n",
            "Epoch 51/100\n",
            "9/9 [==============================] - 4s 424ms/step - loss: 0.3019 - Accuracy: 0.8819 - false_negatives: 7.0000 - false_positives: 27.0000 - true_negatives: 127.0000 - true_positives: 127.0000 - val_loss: 0.4317 - val_Accuracy: 0.8056 - val_false_negatives: 4.0000 - val_false_positives: 10.0000 - val_true_negatives: 28.0000 - val_true_positives: 30.0000\n",
            "Epoch 52/100\n",
            "9/9 [==============================] - 4s 422ms/step - loss: 0.2943 - Accuracy: 0.8785 - false_negatives: 11.0000 - false_positives: 24.0000 - true_negatives: 130.0000 - true_positives: 123.0000 - val_loss: 0.4765 - val_Accuracy: 0.7639 - val_false_negatives: 2.0000 - val_false_positives: 15.0000 - val_true_negatives: 23.0000 - val_true_positives: 32.0000\n",
            "Epoch 53/100\n",
            "9/9 [==============================] - 6s 652ms/step - loss: 0.2895 - Accuracy: 0.8576 - false_negatives: 17.0000 - false_positives: 24.0000 - true_negatives: 130.0000 - true_positives: 117.0000 - val_loss: 0.5580 - val_Accuracy: 0.7500 - val_false_negatives: 0.0000e+00 - val_false_positives: 18.0000 - val_true_negatives: 20.0000 - val_true_positives: 34.0000\n",
            "Epoch 54/100\n",
            "9/9 [==============================] - 4s 419ms/step - loss: 0.2981 - Accuracy: 0.8750 - false_negatives: 11.0000 - false_positives: 25.0000 - true_negatives: 129.0000 - true_positives: 123.0000 - val_loss: 0.4434 - val_Accuracy: 0.7778 - val_false_negatives: 4.0000 - val_false_positives: 12.0000 - val_true_negatives: 26.0000 - val_true_positives: 30.0000\n",
            "Epoch 55/100\n",
            "9/9 [==============================] - 4s 423ms/step - loss: 0.3195 - Accuracy: 0.8611 - false_negatives: 9.0000 - false_positives: 31.0000 - true_negatives: 123.0000 - true_positives: 125.0000 - val_loss: 0.4393 - val_Accuracy: 0.7639 - val_false_negatives: 3.0000 - val_false_positives: 14.0000 - val_true_negatives: 24.0000 - val_true_positives: 31.0000\n",
            "Epoch 56/100\n",
            "9/9 [==============================] - 4s 421ms/step - loss: 0.3577 - Accuracy: 0.8299 - false_negatives: 20.0000 - false_positives: 29.0000 - true_negatives: 125.0000 - true_positives: 114.0000 - val_loss: 0.5607 - val_Accuracy: 0.7500 - val_false_negatives: 0.0000e+00 - val_false_positives: 18.0000 - val_true_negatives: 20.0000 - val_true_positives: 34.0000\n",
            "Epoch 57/100\n",
            "9/9 [==============================] - 4s 422ms/step - loss: 0.3671 - Accuracy: 0.8299 - false_negatives: 24.0000 - false_positives: 25.0000 - true_negatives: 129.0000 - true_positives: 110.0000 - val_loss: 0.4432 - val_Accuracy: 0.7500 - val_false_negatives: 9.0000 - val_false_positives: 9.0000 - val_true_negatives: 29.0000 - val_true_positives: 25.0000\n",
            "Epoch 58/100\n",
            "9/9 [==============================] - 4s 422ms/step - loss: 0.2918 - Accuracy: 0.8611 - false_negatives: 13.0000 - false_positives: 27.0000 - true_negatives: 127.0000 - true_positives: 121.0000 - val_loss: 0.4293 - val_Accuracy: 0.7917 - val_false_negatives: 5.0000 - val_false_positives: 10.0000 - val_true_negatives: 28.0000 - val_true_positives: 29.0000\n",
            "Epoch 59/100\n",
            "9/9 [==============================] - 4s 423ms/step - loss: 0.3179 - Accuracy: 0.8333 - false_negatives: 16.0000 - false_positives: 32.0000 - true_negatives: 122.0000 - true_positives: 118.0000 - val_loss: 0.4119 - val_Accuracy: 0.8333 - val_false_negatives: 1.0000 - val_false_positives: 11.0000 - val_true_negatives: 27.0000 - val_true_positives: 33.0000\n",
            "Epoch 60/100\n",
            "9/9 [==============================] - 4s 425ms/step - loss: 0.2762 - Accuracy: 0.8819 - false_negatives: 10.0000 - false_positives: 24.0000 - true_negatives: 130.0000 - true_positives: 124.0000 - val_loss: 0.3866 - val_Accuracy: 0.8056 - val_false_negatives: 6.0000 - val_false_positives: 8.0000 - val_true_negatives: 30.0000 - val_true_positives: 28.0000\n",
            "Epoch 61/100\n",
            "9/9 [==============================] - 4s 424ms/step - loss: 0.3135 - Accuracy: 0.8576 - false_negatives: 13.0000 - false_positives: 28.0000 - true_negatives: 126.0000 - true_positives: 121.0000 - val_loss: 0.4252 - val_Accuracy: 0.7917 - val_false_negatives: 7.0000 - val_false_positives: 8.0000 - val_true_negatives: 30.0000 - val_true_positives: 27.0000\n",
            "Epoch 62/100\n",
            "9/9 [==============================] - 4s 430ms/step - loss: 0.3447 - Accuracy: 0.8611 - false_negatives: 21.0000 - false_positives: 19.0000 - true_negatives: 135.0000 - true_positives: 113.0000 - val_loss: 0.5141 - val_Accuracy: 0.7639 - val_false_negatives: 0.0000e+00 - val_false_positives: 17.0000 - val_true_negatives: 21.0000 - val_true_positives: 34.0000\n",
            "Epoch 63/100\n",
            "9/9 [==============================] - 4s 424ms/step - loss: 0.3481 - Accuracy: 0.8611 - false_negatives: 7.0000 - false_positives: 33.0000 - true_negatives: 121.0000 - true_positives: 127.0000 - val_loss: 0.4318 - val_Accuracy: 0.7639 - val_false_negatives: 7.0000 - val_false_positives: 10.0000 - val_true_negatives: 28.0000 - val_true_positives: 27.0000\n",
            "Epoch 64/100\n",
            "9/9 [==============================] - 4s 427ms/step - loss: 0.3299 - Accuracy: 0.8438 - false_negatives: 17.0000 - false_positives: 28.0000 - true_negatives: 126.0000 - true_positives: 117.0000 - val_loss: 0.4521 - val_Accuracy: 0.7639 - val_false_negatives: 1.0000 - val_false_positives: 16.0000 - val_true_negatives: 22.0000 - val_true_positives: 33.0000\n",
            "Epoch 65/100\n",
            "9/9 [==============================] - 4s 428ms/step - loss: 0.2721 - Accuracy: 0.8750 - false_negatives: 12.0000 - false_positives: 24.0000 - true_negatives: 130.0000 - true_positives: 122.0000 - val_loss: 0.4125 - val_Accuracy: 0.7639 - val_false_negatives: 11.0000 - val_false_positives: 6.0000 - val_true_negatives: 32.0000 - val_true_positives: 23.0000\n",
            "Epoch 66/100\n",
            "9/9 [==============================] - 5s 509ms/step - loss: 0.3232 - Accuracy: 0.8681 - false_negatives: 16.0000 - false_positives: 22.0000 - true_negatives: 132.0000 - true_positives: 118.0000 - val_loss: 0.4033 - val_Accuracy: 0.7917 - val_false_negatives: 10.0000 - val_false_positives: 5.0000 - val_true_negatives: 33.0000 - val_true_positives: 24.0000\n",
            "Epoch 67/100\n",
            "9/9 [==============================] - 4s 422ms/step - loss: 0.2851 - Accuracy: 0.8854 - false_negatives: 17.0000 - false_positives: 16.0000 - true_negatives: 138.0000 - true_positives: 117.0000 - val_loss: 0.4722 - val_Accuracy: 0.7639 - val_false_negatives: 0.0000e+00 - val_false_positives: 17.0000 - val_true_negatives: 21.0000 - val_true_positives: 34.0000\n",
            "Epoch 68/100\n",
            "9/9 [==============================] - 4s 427ms/step - loss: 0.3135 - Accuracy: 0.8681 - false_negatives: 11.0000 - false_positives: 27.0000 - true_negatives: 127.0000 - true_positives: 123.0000 - val_loss: 0.3747 - val_Accuracy: 0.8333 - val_false_negatives: 3.0000 - val_false_positives: 9.0000 - val_true_negatives: 29.0000 - val_true_positives: 31.0000\n",
            "Epoch 69/100\n",
            "9/9 [==============================] - 4s 422ms/step - loss: 0.3015 - Accuracy: 0.8750 - false_negatives: 12.0000 - false_positives: 24.0000 - true_negatives: 130.0000 - true_positives: 122.0000 - val_loss: 0.3873 - val_Accuracy: 0.8194 - val_false_negatives: 4.0000 - val_false_positives: 9.0000 - val_true_negatives: 29.0000 - val_true_positives: 30.0000\n",
            "Epoch 70/100\n",
            "9/9 [==============================] - 4s 423ms/step - loss: 0.2742 - Accuracy: 0.8750 - false_negatives: 15.0000 - false_positives: 21.0000 - true_negatives: 133.0000 - true_positives: 119.0000 - val_loss: 0.3882 - val_Accuracy: 0.8333 - val_false_negatives: 3.0000 - val_false_positives: 9.0000 - val_true_negatives: 29.0000 - val_true_positives: 31.0000\n",
            "Epoch 71/100\n",
            "9/9 [==============================] - 4s 422ms/step - loss: 0.2856 - Accuracy: 0.8576 - false_negatives: 13.0000 - false_positives: 28.0000 - true_negatives: 126.0000 - true_positives: 121.0000 - val_loss: 0.3995 - val_Accuracy: 0.7778 - val_false_negatives: 9.0000 - val_false_positives: 7.0000 - val_true_negatives: 31.0000 - val_true_positives: 25.0000\n",
            "Epoch 72/100\n",
            "9/9 [==============================] - 4s 420ms/step - loss: 0.2858 - Accuracy: 0.8924 - false_negatives: 12.0000 - false_positives: 19.0000 - true_negatives: 135.0000 - true_positives: 122.0000 - val_loss: 0.4719 - val_Accuracy: 0.7917 - val_false_negatives: 2.0000 - val_false_positives: 13.0000 - val_true_negatives: 25.0000 - val_true_positives: 32.0000\n",
            "Epoch 73/100\n",
            "9/9 [==============================] - 4s 423ms/step - loss: 0.3071 - Accuracy: 0.8438 - false_negatives: 19.0000 - false_positives: 26.0000 - true_negatives: 128.0000 - true_positives: 115.0000 - val_loss: 0.4016 - val_Accuracy: 0.8194 - val_false_negatives: 2.0000 - val_false_positives: 11.0000 - val_true_negatives: 27.0000 - val_true_positives: 32.0000\n",
            "Epoch 74/100\n",
            "9/9 [==============================] - 4s 419ms/step - loss: 0.2872 - Accuracy: 0.8715 - false_negatives: 13.0000 - false_positives: 24.0000 - true_negatives: 130.0000 - true_positives: 121.0000 - val_loss: 0.3847 - val_Accuracy: 0.8056 - val_false_negatives: 4.0000 - val_false_positives: 10.0000 - val_true_negatives: 28.0000 - val_true_positives: 30.0000\n",
            "Epoch 75/100\n",
            "9/9 [==============================] - 4s 420ms/step - loss: 0.2675 - Accuracy: 0.8854 - false_negatives: 11.0000 - false_positives: 22.0000 - true_negatives: 132.0000 - true_positives: 123.0000 - val_loss: 0.4187 - val_Accuracy: 0.8333 - val_false_negatives: 2.0000 - val_false_positives: 10.0000 - val_true_negatives: 28.0000 - val_true_positives: 32.0000\n",
            "Epoch 76/100\n",
            "9/9 [==============================] - 4s 420ms/step - loss: 0.2930 - Accuracy: 0.8542 - false_negatives: 17.0000 - false_positives: 25.0000 - true_negatives: 129.0000 - true_positives: 117.0000 - val_loss: 0.4265 - val_Accuracy: 0.7778 - val_false_negatives: 6.0000 - val_false_positives: 10.0000 - val_true_negatives: 28.0000 - val_true_positives: 28.0000\n",
            "Epoch 77/100\n",
            "9/9 [==============================] - 4s 421ms/step - loss: 0.2675 - Accuracy: 0.8924 - false_negatives: 8.0000 - false_positives: 23.0000 - true_negatives: 131.0000 - true_positives: 126.0000 - val_loss: 0.4426 - val_Accuracy: 0.7639 - val_false_negatives: 10.0000 - val_false_positives: 7.0000 - val_true_negatives: 31.0000 - val_true_positives: 24.0000\n",
            "Epoch 78/100\n",
            "9/9 [==============================] - 4s 426ms/step - loss: 0.2728 - Accuracy: 0.8958 - false_negatives: 18.0000 - false_positives: 12.0000 - true_negatives: 142.0000 - true_positives: 116.0000 - val_loss: 0.6161 - val_Accuracy: 0.7500 - val_false_negatives: 0.0000e+00 - val_false_positives: 18.0000 - val_true_negatives: 20.0000 - val_true_positives: 34.0000\n",
            "Epoch 79/100\n",
            "9/9 [==============================] - 4s 420ms/step - loss: 0.2845 - Accuracy: 0.8750 - false_negatives: 11.0000 - false_positives: 25.0000 - true_negatives: 129.0000 - true_positives: 123.0000 - val_loss: 0.4384 - val_Accuracy: 0.7639 - val_false_negatives: 10.0000 - val_false_positives: 7.0000 - val_true_negatives: 31.0000 - val_true_positives: 24.0000\n",
            "Epoch 80/100\n",
            "9/9 [==============================] - 4s 422ms/step - loss: 0.2665 - Accuracy: 0.8889 - false_negatives: 11.0000 - false_positives: 21.0000 - true_negatives: 133.0000 - true_positives: 123.0000 - val_loss: 0.4269 - val_Accuracy: 0.8056 - val_false_negatives: 7.0000 - val_false_positives: 7.0000 - val_true_negatives: 31.0000 - val_true_positives: 27.0000\n",
            "Epoch 81/100\n",
            "9/9 [==============================] - 4s 424ms/step - loss: 0.2633 - Accuracy: 0.8958 - false_negatives: 11.0000 - false_positives: 19.0000 - true_negatives: 135.0000 - true_positives: 123.0000 - val_loss: 0.4181 - val_Accuracy: 0.7639 - val_false_negatives: 7.0000 - val_false_positives: 10.0000 - val_true_negatives: 28.0000 - val_true_positives: 27.0000\n",
            "Epoch 82/100\n",
            "9/9 [==============================] - 4s 424ms/step - loss: 0.2428 - Accuracy: 0.8958 - false_negatives: 16.0000 - false_positives: 14.0000 - true_negatives: 140.0000 - true_positives: 118.0000 - val_loss: 0.5238 - val_Accuracy: 0.8056 - val_false_negatives: 0.0000e+00 - val_false_positives: 14.0000 - val_true_negatives: 24.0000 - val_true_positives: 34.0000\n",
            "Epoch 83/100\n",
            "9/9 [==============================] - 4s 424ms/step - loss: 0.3174 - Accuracy: 0.8611 - false_negatives: 19.0000 - false_positives: 21.0000 - true_negatives: 133.0000 - true_positives: 115.0000 - val_loss: 0.5273 - val_Accuracy: 0.7778 - val_false_negatives: 0.0000e+00 - val_false_positives: 16.0000 - val_true_negatives: 22.0000 - val_true_positives: 34.0000\n",
            "Epoch 84/100\n",
            "9/9 [==============================] - 4s 419ms/step - loss: 0.3296 - Accuracy: 0.8438 - false_negatives: 13.0000 - false_positives: 32.0000 - true_negatives: 122.0000 - true_positives: 121.0000 - val_loss: 0.3949 - val_Accuracy: 0.8056 - val_false_negatives: 6.0000 - val_false_positives: 8.0000 - val_true_negatives: 30.0000 - val_true_positives: 28.0000\n",
            "Epoch 85/100\n",
            "9/9 [==============================] - 4s 423ms/step - loss: 0.2647 - Accuracy: 0.8993 - false_negatives: 8.0000 - false_positives: 21.0000 - true_negatives: 133.0000 - true_positives: 126.0000 - val_loss: 0.4803 - val_Accuracy: 0.7917 - val_false_negatives: 1.0000 - val_false_positives: 14.0000 - val_true_negatives: 24.0000 - val_true_positives: 33.0000\n",
            "Epoch 86/100\n",
            "9/9 [==============================] - 4s 421ms/step - loss: 0.2876 - Accuracy: 0.8750 - false_negatives: 12.0000 - false_positives: 24.0000 - true_negatives: 130.0000 - true_positives: 122.0000 - val_loss: 0.4749 - val_Accuracy: 0.7778 - val_false_negatives: 2.0000 - val_false_positives: 14.0000 - val_true_negatives: 24.0000 - val_true_positives: 32.0000\n",
            "Epoch 87/100\n",
            "9/9 [==============================] - 4s 424ms/step - loss: 0.3125 - Accuracy: 0.8507 - false_negatives: 21.0000 - false_positives: 22.0000 - true_negatives: 132.0000 - true_positives: 113.0000 - val_loss: 0.4685 - val_Accuracy: 0.8056 - val_false_negatives: 2.0000 - val_false_positives: 12.0000 - val_true_negatives: 26.0000 - val_true_positives: 32.0000\n",
            "Epoch 88/100\n",
            "9/9 [==============================] - 4s 422ms/step - loss: 0.2883 - Accuracy: 0.8611 - false_negatives: 20.0000 - false_positives: 20.0000 - true_negatives: 134.0000 - true_positives: 114.0000 - val_loss: 0.5070 - val_Accuracy: 0.7917 - val_false_negatives: 2.0000 - val_false_positives: 13.0000 - val_true_negatives: 25.0000 - val_true_positives: 32.0000\n",
            "Epoch 89/100\n",
            "9/9 [==============================] - 4s 425ms/step - loss: 0.2576 - Accuracy: 0.8819 - false_negatives: 13.0000 - false_positives: 21.0000 - true_negatives: 133.0000 - true_positives: 121.0000 - val_loss: 0.4543 - val_Accuracy: 0.7500 - val_false_negatives: 10.0000 - val_false_positives: 8.0000 - val_true_negatives: 30.0000 - val_true_positives: 24.0000\n",
            "Epoch 90/100\n",
            "9/9 [==============================] - 4s 423ms/step - loss: 0.3055 - Accuracy: 0.8472 - false_negatives: 22.0000 - false_positives: 22.0000 - true_negatives: 132.0000 - true_positives: 112.0000 - val_loss: 0.4578 - val_Accuracy: 0.8056 - val_false_negatives: 3.0000 - val_false_positives: 11.0000 - val_true_negatives: 27.0000 - val_true_positives: 31.0000\n",
            "Epoch 91/100\n",
            "9/9 [==============================] - 4s 421ms/step - loss: 0.2537 - Accuracy: 0.8785 - false_negatives: 14.0000 - false_positives: 21.0000 - true_negatives: 133.0000 - true_positives: 120.0000 - val_loss: 0.4701 - val_Accuracy: 0.7500 - val_false_negatives: 8.0000 - val_false_positives: 10.0000 - val_true_negatives: 28.0000 - val_true_positives: 26.0000\n",
            "Epoch 92/100\n",
            "9/9 [==============================] - 4s 420ms/step - loss: 0.2645 - Accuracy: 0.8819 - false_negatives: 13.0000 - false_positives: 21.0000 - true_negatives: 133.0000 - true_positives: 121.0000 - val_loss: 0.4553 - val_Accuracy: 0.7500 - val_false_negatives: 9.0000 - val_false_positives: 9.0000 - val_true_negatives: 29.0000 - val_true_positives: 25.0000\n",
            "Epoch 93/100\n",
            "9/9 [==============================] - 4s 421ms/step - loss: 0.2605 - Accuracy: 0.8819 - false_negatives: 15.0000 - false_positives: 19.0000 - true_negatives: 135.0000 - true_positives: 119.0000 - val_loss: 0.4358 - val_Accuracy: 0.8056 - val_false_negatives: 5.0000 - val_false_positives: 9.0000 - val_true_negatives: 29.0000 - val_true_positives: 29.0000\n",
            "Epoch 94/100\n",
            "9/9 [==============================] - 4s 428ms/step - loss: 0.2753 - Accuracy: 0.8646 - false_negatives: 15.0000 - false_positives: 24.0000 - true_negatives: 130.0000 - true_positives: 119.0000 - val_loss: 0.4273 - val_Accuracy: 0.7639 - val_false_negatives: 7.0000 - val_false_positives: 10.0000 - val_true_negatives: 28.0000 - val_true_positives: 27.0000\n",
            "Epoch 95/100\n",
            "9/9 [==============================] - 4s 436ms/step - loss: 0.2393 - Accuracy: 0.8993 - false_negatives: 11.0000 - false_positives: 18.0000 - true_negatives: 136.0000 - true_positives: 123.0000 - val_loss: 0.4602 - val_Accuracy: 0.7917 - val_false_negatives: 6.0000 - val_false_positives: 9.0000 - val_true_negatives: 29.0000 - val_true_positives: 28.0000\n",
            "Epoch 96/100\n",
            "9/9 [==============================] - 4s 422ms/step - loss: 0.2489 - Accuracy: 0.8958 - false_negatives: 13.0000 - false_positives: 17.0000 - true_negatives: 137.0000 - true_positives: 121.0000 - val_loss: 0.4530 - val_Accuracy: 0.7778 - val_false_negatives: 10.0000 - val_false_positives: 6.0000 - val_true_negatives: 32.0000 - val_true_positives: 24.0000\n",
            "Epoch 97/100\n",
            "9/9 [==============================] - 4s 423ms/step - loss: 0.2711 - Accuracy: 0.8889 - false_negatives: 8.0000 - false_positives: 24.0000 - true_negatives: 130.0000 - true_positives: 126.0000 - val_loss: 0.4627 - val_Accuracy: 0.7778 - val_false_negatives: 9.0000 - val_false_positives: 7.0000 - val_true_negatives: 31.0000 - val_true_positives: 25.0000\n",
            "Epoch 98/100\n",
            "9/9 [==============================] - 4s 429ms/step - loss: 0.2520 - Accuracy: 0.8924 - false_negatives: 14.0000 - false_positives: 17.0000 - true_negatives: 137.0000 - true_positives: 120.0000 - val_loss: 0.5318 - val_Accuracy: 0.7778 - val_false_negatives: 4.0000 - val_false_positives: 12.0000 - val_true_negatives: 26.0000 - val_true_positives: 30.0000\n",
            "Epoch 99/100\n",
            "9/9 [==============================] - 4s 434ms/step - loss: 0.2304 - Accuracy: 0.9028 - false_negatives: 10.0000 - false_positives: 18.0000 - true_negatives: 136.0000 - true_positives: 124.0000 - val_loss: 0.4749 - val_Accuracy: 0.7778 - val_false_negatives: 7.0000 - val_false_positives: 9.0000 - val_true_negatives: 29.0000 - val_true_positives: 27.0000\n",
            "Epoch 100/100\n",
            "9/9 [==============================] - 4s 424ms/step - loss: 0.2675 - Accuracy: 0.8611 - false_negatives: 19.0000 - false_positives: 21.0000 - true_negatives: 133.0000 - true_positives: 115.0000 - val_loss: 0.5205 - val_Accuracy: 0.8194 - val_false_negatives: 0.0000e+00 - val_false_positives: 13.0000 - val_true_negatives: 25.0000 - val_true_positives: 34.0000\n"
          ]
        }
      ]
    },
    {
      "cell_type": "markdown",
      "source": [
        "Plotting Traning Result"
      ],
      "metadata": {
        "id": "XZSFG8fXqz7c"
      }
    },
    {
      "cell_type": "code",
      "source": [
        "  #plotting\n",
        "  epochs = range(1, len(history.history['loss'])+1)\n",
        "  plt.title(f\"Grafik loss training iterasi {iterasi}\")\n",
        "  plt.plot(epochs, history.history['loss'], 'r', label='Training Loss')\n",
        "  plt.plot(epochs, history.history['val_loss'], 'b', label='Validation Loss')    \n",
        "  plt.xlabel(\"Epoch\")\n",
        "  plt.ylabel(\"Loss\")\n",
        "  plt.legend()\n",
        "  plt.show()\n"
      ],
      "metadata": {
        "id": "3dXbDrJpY1NK",
        "colab": {
          "base_uri": "https://localhost:8080/",
          "height": 295
        },
        "outputId": "f7742b1f-793f-4f6e-eda2-067aa9982370"
      },
      "execution_count": 11,
      "outputs": [
        {
          "output_type": "display_data",
          "data": {
            "text/plain": [
              "<Figure size 432x288 with 1 Axes>"
            ],
            "image/png": "[encoded data removed]"
          },
          "metadata": {
            "needs_background": "light"
          }
        }
      ]
    },
    {
      "cell_type": "code",
      "source": [
        "  #plotting\n",
        "  epochs = range(1, len(history.history['loss'])+1)\n",
        "  plt.title(f\"Grafik Akurasi training iterasi {iterasi}\")\n",
        "  plt.plot(epochs, history.history['Accuracy'], 'r', label='Training Accuracy')\n",
        "  plt.plot(epochs, history.history['val_Accuracy'], 'b', label='Validation Accuracy')    \n",
        "  plt.xlabel(\"Epoch\")\n",
        "  plt.ylabel(\"Accuracy\")\n",
        "  plt.legend()\n",
        "  plt.show()"
      ],
      "metadata": {
        "id": "j3xigprPwlSX",
        "colab": {
          "base_uri": "https://localhost:8080/",
          "height": 295
        },
        "outputId": "f62c16a5-8777-4eda-d536-520545cccf95"
      },
      "execution_count": 12,
      "outputs": [
        {
          "output_type": "display_data",
          "data": {
            "text/plain": [
              "<Figure size 432x288 with 1 Axes>"
            ],
            "image/png": "[encoded data removed]"
          },
          "metadata": {
            "needs_background": "light"
          }
        }
      ]
    },
    {
      "cell_type": "markdown",
      "metadata": {
        "id": "bTgk1-sdzmgy"
      },
      "source": [
        "**Validating** Network"
      ]
    },
    {
      "cell_type": "code",
      "source": [
        "import matplotlib.pyplot as plt\n",
        "from sklearn.datasets import make_classification\n",
        "from numpy import mean\n",
        "from sklearn.metrics import confusion_matrix, ConfusionMatrixDisplay, accuracy_score, classification_report, recall_score\n",
        "\n",
        "#Creating list for correct label\n",
        "correct_labels = []\n",
        "for i in range(len(image_labels_validation)):\n",
        "  pr = image_labels_validation[i]\n",
        "  output = label_binarizer.inverse_transform(pr)\n",
        "  correct_labels.append(output[0])\n",
        "\n",
        "#Creating list for predicted label\n",
        "predicted_labels = []\n",
        "for i in range(len(np_image_list_validation)):\n",
        "  test_img = np_image_list_validation[i]\n",
        "  test_img = np.expand_dims(test_img, axis=0)\n",
        "  pr=model.predict(test_img)\n",
        "  output = label_binarizer.inverse_transform(pr)\n",
        "  predicted_labels.append(output[0])\n",
        "\n",
        "#creating confusion matrix by comparing both list\n",
        "confusion_matrix = confusion_matrix(correct_labels, predicted_labels)\n",
        "disp = ConfusionMatrixDisplay(confusion_matrix=confusion_matrix)  \n",
        "disp.plot()\n",
        "plt.show()\n",
        "print('--------')\n",
        "\n",
        "FP = confusion_matrix.sum(axis=0) - np.diag(confusion_matrix)  \n",
        "FN = confusion_matrix.sum(axis=1) - np.diag(confusion_matrix)\n",
        "TP = np.diag(confusion_matrix)\n",
        "TN = confusion_matrix.sum() - (FP + FN + TP)\n",
        "\n",
        "# Sensitivity, hit rate, recall, or true positive rate\n",
        "sensitivity = TP/(TP+FN)\n",
        "# Specificity or true negative rate\n",
        "specificity = TN/(TN+FP) \n",
        "# Overall accuracy\n",
        "accuracy = (TP+TN)/(TP+FP+FN+TN)\n",
        "\n",
        "print(TP)\n",
        "print(TN)\n",
        "print(FP)\n",
        "print(FN)\n",
        "print('--------')\n",
        "print(accuracy)\n",
        "print(sensitivity)\n",
        "print(specificity)\n",
        "print('--------')"
      ],
      "metadata": {
        "colab": {
          "base_uri": "https://localhost:8080/",
          "height": 453
        },
        "id": "d_NBE4KkWuhu",
        "outputId": "3105e497-d0b3-45c8-bed4-c29dc98f15f6"
      },
      "execution_count": 13,
      "outputs": [
        {
          "output_type": "display_data",
          "data": {
            "text/plain": [
              "<Figure size 432x288 with 2 Axes>"
            ],
            "image/png": "[encoded data removed]"
          },
          "metadata": {
            "needs_background": "light"
          }
        },
        {
          "output_type": "stream",
          "name": "stdout",
          "text": [
            "--------\n",
            "[25 34]\n",
            "[34 25]\n",
            "[ 0 13]\n",
            "[13  0]\n",
            "--------\n",
            "[0.81944444 0.81944444]\n",
            "[0.65789474 1.        ]\n",
            "[1.         0.65789474]\n",
            "--------\n"
          ]
        }
      ]
    },
    {
      "cell_type": "markdown",
      "source": [
        "**Testing** Network"
      ],
      "metadata": {
        "id": "saJYjKqX9tRL"
      }
    },
    {
      "cell_type": "code",
      "source": [
        "import matplotlib.pyplot as plt\n",
        "from sklearn.datasets import make_classification\n",
        "from numpy import mean\n",
        "from sklearn.metrics import confusion_matrix, ConfusionMatrixDisplay, accuracy_score, classification_report, recall_score\n",
        "\n",
        "#Creating list for correct label\n",
        "correct_labels = []\n",
        "for i in range(len(image_labels_test)):\n",
        "  pr = image_labels_test[i]\n",
        "  output = label_binarizer.inverse_transform(pr)\n",
        "  correct_labels.append(output[0])\n",
        "\n",
        "#Creating list for predicted label\n",
        "predicted_labels = []\n",
        "for i in range(len(np_image_list_test)):\n",
        "  test_img = np_image_list_test[i]\n",
        "  test_img = np.expand_dims(test_img, axis=0)\n",
        "  pr=model.predict(test_img)\n",
        "  output = label_binarizer.inverse_transform(pr)\n",
        "  predicted_labels.append(output[0])\n",
        "\n",
        "#creating confusion matrix by comparing both list\n",
        "confusion_matrix = confusion_matrix(correct_labels, predicted_labels)\n",
        "disp = ConfusionMatrixDisplay(confusion_matrix=confusion_matrix)  \n",
        "disp.plot()\n",
        "plt.show()\n",
        "print('--------')\n",
        "\n",
        "FP = confusion_matrix.sum(axis=0) - np.diag(confusion_matrix)  \n",
        "FN = confusion_matrix.sum(axis=1) - np.diag(confusion_matrix)\n",
        "TP = np.diag(confusion_matrix)\n",
        "TN = confusion_matrix.sum() - (FP + FN + TP)\n",
        "\n",
        "# Sensitivity, hit rate, recall, or true positive rate\n",
        "sensitivity = TP/(TP+FN)\n",
        "# Specificity or true negative rate\n",
        "specificity = TN/(TN+FP) \n",
        "# Overall accuracy\n",
        "accuracy = (TP+TN)/(TP+FP+FN+TN)\n",
        "\n",
        "print(TP)\n",
        "print(TN)\n",
        "print(FP)\n",
        "print(FN)\n",
        "print('--------')\n",
        "print(accuracy)\n",
        "print(sensitivity)\n",
        "print(specificity)\n",
        "print('--------')"
      ],
      "metadata": {
        "colab": {
          "base_uri": "https://localhost:8080/",
          "height": 453
        },
        "id": "A7DR52hmTc75",
        "outputId": "ea7e9fb6-bd57-4dbe-e91c-ff1ce0f97f72"
      },
      "execution_count": 14,
      "outputs": [
        {
          "output_type": "display_data",
          "data": {
            "text/plain": [
              "<Figure size 432x288 with 2 Axes>"
            ],
            "image/png": "[encoded data removed]"
          },
          "metadata": {
            "needs_background": "light"
          }
        },
        {
          "output_type": "stream",
          "name": "stdout",
          "text": [
            "--------\n",
            "[27 39]\n",
            "[39 27]\n",
            "[ 3 21]\n",
            "[21  3]\n",
            "--------\n",
            "[0.73333333 0.73333333]\n",
            "[0.5625     0.92857143]\n",
            "[0.92857143 0.5625    ]\n",
            "--------\n"
          ]
        }
      ]
    }
  ]
}