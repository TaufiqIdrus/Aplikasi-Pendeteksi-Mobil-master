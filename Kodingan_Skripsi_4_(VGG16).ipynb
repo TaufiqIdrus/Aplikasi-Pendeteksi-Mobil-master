{
  "nbformat": 4,
  "nbformat_minor": 0,
  "metadata": {
    "accelerator": "GPU",
    "colab": {
      "name": "Kodingan Skripsi 4 (VGG16)",
      "provenance": [],
      "collapsed_sections": [],
      "include_colab_link": true
    },
    "kernelspec": {
      "display_name": "Python 3",
      "language": "python",
      "name": "python3"
    },
    "language_info": {
      "codemirror_mode": {
        "name": "ipython",
        "version": 3
      },
      "file_extension": ".py",
      "mimetype": "text/x-python",
      "name": "python",
      "nbconvert_exporter": "python",
      "pygments_lexer": "ipython3",
      "version": "3.6.6"
    }
  },
  "cells": [
    {
      "cell_type": "markdown",
      "metadata": {
        "id": "view-in-github",
        "colab_type": "text"
      },
      "source": [
        "<a href=\"https://colab.research.google.com/github/TaufiqIdrus/Aplikasi-Pendeteksi-Mobil-master/blob/master/Kodingan_Skripsi_4_(VGG16).ipynb\" target=\"_parent\"><img src=\"https://colab.research.google.com/assets/colab-badge.svg\" alt=\"Open In Colab\"/></a>"
      ]
    },
    {
      "cell_type": "markdown",
      "metadata": {
        "id": "yJT_kQA2lITS"
      },
      "source": [
        "**Identifikasi Penyakit Pada Tanaman Apel menggunakan Convolutional Neural Network**"
      ]
    },
    {
      "cell_type": "code",
      "metadata": {
        "id": "xXeOaYTUzmgT"
      },
      "source": [
        "import numpy as np\n",
        "import pickle\n",
        "import os\n",
        "import cv2\n",
        "import tensorflow as tf\n",
        "import keras\n",
        "from os import listdir\n",
        "from sklearn.preprocessing import LabelBinarizer\n",
        "from sklearn.model_selection import KFold\n",
        "from keras.models import Sequential\n",
        "from keras.layers.normalization import batch_normalization\n",
        "from keras.layers.convolutional import Conv2D\n",
        "from keras.layers.convolutional import MaxPooling2D\n",
        "from keras.layers.core import Activation, Flatten, Dropout, Dense\n",
        "from keras import backend as K\n",
        "from tensorflow.keras.optimizers import Adam\n",
        "from keras.preprocessing import image\n",
        "from sklearn.preprocessing import MultiLabelBinarizer\n",
        "from sklearn.model_selection import train_test_split\n",
        "import matplotlib.pyplot as plt\n",
        "from sklearn.datasets import make_classification\n",
        "from numpy import mean\n",
        "from sklearn.metrics import confusion_matrix, ConfusionMatrixDisplay, accuracy_score, classification_report, recall_score\n"
      ],
      "execution_count": 1,
      "outputs": []
    },
    {
      "cell_type": "markdown",
      "metadata": {
        "id": "fp8C0d28lQok"
      },
      "source": [
        "Importing and Preparing Dataset"
      ]
    },
    {
      "cell_type": "code",
      "metadata": {
        "id": "_0xehllADlUs",
        "colab": {
          "base_uri": "https://localhost:8080/"
        },
        "outputId": "81c75a61-7d92-48e6-b02a-9cdbf335439d"
      },
      "source": [
        "!pip install pyunpack\n",
        "!pip install patool\n",
        "from pyunpack import Archive\n",
        "Archive('/content/Fold 1.rar').extractall('/content/Datasets/')\n",
        "iterasi = 1\n",
        "width=224\n",
        "height=224\n",
        "default_image_size = tuple((height, width))\n",
        "directory_root_train = '/content/Datasets/Fold 1/Train'\n",
        "directory_root_validation = '/content/Datasets/Fold 1/Validation'\n",
        "directory_root_test = '/content/Datasets/Fold 1/Test'\n",
        "image_size = 0\n",
        "depth=3"
      ],
      "execution_count": 2,
      "outputs": [
        {
          "output_type": "stream",
          "name": "stdout",
          "text": [
            "Requirement already satisfied: pyunpack in /usr/local/lib/python3.7/dist-packages (0.2.2)\n",
            "Requirement already satisfied: easyprocess in /usr/local/lib/python3.7/dist-packages (from pyunpack) (1.1)\n",
            "Requirement already satisfied: entrypoint2 in /usr/local/lib/python3.7/dist-packages (from pyunpack) (1.0)\n",
            "Requirement already satisfied: patool in /usr/local/lib/python3.7/dist-packages (1.12)\n"
          ]
        }
      ]
    },
    {
      "cell_type": "code",
      "metadata": {
        "id": "KbAwJJTpzmge"
      },
      "source": [
        "def convert_image_to_array(image_dir):\n",
        "    try:\n",
        "        image = cv2.imread(image_dir)\n",
        "        if image is not None :\n",
        "            image = cv2.resize(image, default_image_size)   \n",
        "            return keras.preprocessing.image.img_to_array(image)\n",
        "        else :\n",
        "            return np.array([])\n",
        "    except Exception as e:\n",
        "        print(f\"Error : {e}\")\n",
        "        return None"
      ],
      "execution_count": 3,
      "outputs": []
    },
    {
      "cell_type": "markdown",
      "source": [
        "Converting **Training** Data to Array"
      ],
      "metadata": {
        "id": "bgXxUMO2cI_D"
      }
    },
    {
      "cell_type": "code",
      "metadata": {
        "id": "Erz6IjKXzmgg",
        "colab": {
          "base_uri": "https://localhost:8080/"
        },
        "outputId": "00b439b1-0f51-40e0-c635-3c5a652123eb"
      },
      "source": [
        "image_list_train, label_list_train = [], []\n",
        "try:\n",
        "    print(\"[INFO] Loading images ...\")\n",
        "    root_dir = listdir(directory_root_train)\n",
        "\n",
        "    for plant_disease_folder in root_dir:\n",
        "        print(f\"[INFO] Processing {plant_disease_folder} ...\")\n",
        "        plant_disease_image_list = listdir(f\"{directory_root_train}/{plant_disease_folder}/\")\n",
        "      \n",
        "        for image in plant_disease_image_list:\n",
        "            image_directory = f\"{directory_root_train}/{plant_disease_folder}/{image}\"\n",
        "\n",
        "            if image_directory.endswith(\".jpg\") == True or image_directory.endswith(\".JPG\") == True:\n",
        "                image_list_train.append(convert_image_to_array(image_directory))\n",
        "                label_list_train.append(plant_disease_folder)\n",
        "    print(\"[INFO] Image loading completed\")\n",
        "\n",
        "except Exception as e:\n",
        "    print(f\"Error : {e}\")\n",
        "\n",
        "#image labeling\n",
        "image_size = len(image_list_train)\n",
        "label_binarizer = LabelBinarizer()\n",
        "image_labels_train = label_binarizer.fit_transform(label_list_train)\n",
        "pickle.dump(label_binarizer,open('label_transform_train.pkl', 'wb'))\n",
        "n_classes = len(label_binarizer.classes_)\n",
        "np_image_list_train = np.array(image_list_train, dtype=np.float16) / 255.0"
      ],
      "execution_count": 4,
      "outputs": [
        {
          "output_type": "stream",
          "name": "stdout",
          "text": [
            "[INFO] Loading images ...\n",
            "[INFO] Processing Apple___Apple_scab ...\n",
            "[INFO] Processing Apple___healthy ...\n",
            "[INFO] Processing Apple___Cedar_apple_rust ...\n",
            "[INFO] Processing Apple___Black_rot ...\n",
            "[INFO] Image loading completed\n"
          ]
        }
      ]
    },
    {
      "cell_type": "markdown",
      "source": [
        "Converting **Validation** Data to Array"
      ],
      "metadata": {
        "id": "7eEMGiqRd_E4"
      }
    },
    {
      "cell_type": "code",
      "source": [
        "image_list_validation, label_list_validation = [], []\n",
        "try:\n",
        "    print(\"[INFO] Loading images ...\")\n",
        "    root_dir = listdir(directory_root_validation)\n",
        "\n",
        "    for plant_disease_folder in root_dir:\n",
        "        print(f\"[INFO] Processing {plant_disease_folder} ...\")\n",
        "        plant_disease_image_list = listdir(f\"{directory_root_validation}/{plant_disease_folder}/\")\n",
        "      \n",
        "        for image in plant_disease_image_list:\n",
        "            image_directory = f\"{directory_root_validation}/{plant_disease_folder}/{image}\"\n",
        "\n",
        "            if image_directory.endswith(\".jpg\") == True or image_directory.endswith(\".JPG\") == True:\n",
        "                image_list_validation.append(convert_image_to_array(image_directory))\n",
        "                label_list_validation.append(plant_disease_folder)\n",
        "    print(\"[INFO] Image loading completed\")\n",
        "\n",
        "except Exception as e:\n",
        "    print(f\"Error : {e}\")\n",
        "\n",
        "#image labeling\n",
        "image_size = len(image_list_validation)\n",
        "label_binarizer = LabelBinarizer()\n",
        "image_labels_validation = label_binarizer.fit_transform(label_list_validation)\n",
        "pickle.dump(label_binarizer,open('label_transform_validation.pkl', 'wb'))\n",
        "n_classes = len(label_binarizer.classes_)\n",
        "np_image_list_validation = np.array(image_list_validation, dtype=np.float16) / 255.0"
      ],
      "metadata": {
        "id": "wfHDdR0ZeEuU",
        "colab": {
          "base_uri": "https://localhost:8080/"
        },
        "outputId": "dc6740dd-bea5-4beb-ed5a-6307d4a30954"
      },
      "execution_count": 5,
      "outputs": [
        {
          "output_type": "stream",
          "name": "stdout",
          "text": [
            "[INFO] Loading images ...\n",
            "[INFO] Processing Apple___Apple_scab ...\n",
            "[INFO] Processing Apple___healthy ...\n",
            "[INFO] Processing Apple___Cedar_apple_rust ...\n",
            "[INFO] Processing Apple___Black_rot ...\n",
            "[INFO] Image loading completed\n"
          ]
        }
      ]
    },
    {
      "cell_type": "markdown",
      "source": [
        "Converting **Testing** Data to Array"
      ],
      "metadata": {
        "id": "brwWyZVncTdg"
      }
    },
    {
      "cell_type": "code",
      "metadata": {
        "id": "uNPby5UMcaWY",
        "colab": {
          "base_uri": "https://localhost:8080/"
        },
        "outputId": "b629baf3-6db9-4023-aa52-8a3ac0584a63"
      },
      "source": [
        "image_list_test, label_list_test = [], []\n",
        "try:\n",
        "    print(\"[INFO] Loading images ...\")\n",
        "    root_dir = listdir(directory_root_test)\n",
        "\n",
        "    for plant_disease_folder in root_dir:\n",
        "        print(f\"[INFO] Processing {plant_disease_folder} ...\")\n",
        "        plant_disease_image_list = listdir(f\"{directory_root_test}/{plant_disease_folder}/\")\n",
        "      \n",
        "        for image in plant_disease_image_list:\n",
        "            image_directory = f\"{directory_root_test}/{plant_disease_folder}/{image}\"\n",
        "\n",
        "            if image_directory.endswith(\".jpg\") == True or image_directory.endswith(\".JPG\") == True:\n",
        "                image_list_test.append(convert_image_to_array(image_directory))\n",
        "                label_list_test.append(plant_disease_folder)\n",
        "    print(\"[INFO] Image loading completed\")\n",
        "\n",
        "except Exception as e:\n",
        "    print(f\"Error : {e}\")\n",
        "\n",
        "#image labeling\n",
        "image_size = len(image_list_test)\n",
        "label_binarizer = LabelBinarizer()\n",
        "image_labels_test = label_binarizer.fit_transform(label_list_test)\n",
        "pickle.dump(label_binarizer,open('label_transform_test.pkl', 'wb'))\n",
        "n_classes = len(label_binarizer.classes_)\n",
        "np_image_list_test = np.array(image_list_test, dtype=np.float16) / 255.0"
      ],
      "execution_count": 6,
      "outputs": [
        {
          "output_type": "stream",
          "name": "stdout",
          "text": [
            "[INFO] Loading images ...\n",
            "[INFO] Processing Apple___Apple_scab ...\n",
            "[INFO] Processing Apple___healthy ...\n",
            "[INFO] Processing Apple___Cedar_apple_rust ...\n",
            "[INFO] Processing Apple___Black_rot ...\n",
            "[INFO] Image loading completed\n"
          ]
        }
      ]
    },
    {
      "cell_type": "markdown",
      "metadata": {
        "id": "jYBTFN0CnAi7"
      },
      "source": [
        "Data Augmenting Initialization"
      ]
    },
    {
      "cell_type": "code",
      "metadata": {
        "id": "TLMxMK2Tzmgr"
      },
      "source": [
        "aug = keras.preprocessing.image.ImageDataGenerator(\n",
        "    rotation_range=25, \n",
        "    width_shift_range=0.1,\n",
        "    height_shift_range=0.1, \n",
        "    shear_range=0.2, \n",
        "    zoom_range=0.2,\n",
        "    horizontal_flip=True, \n",
        "    fill_mode=\"nearest\")"
      ],
      "execution_count": 7,
      "outputs": []
    },
    {
      "cell_type": "markdown",
      "metadata": {
        "id": "H1BfRyYNnGv_"
      },
      "source": [
        "Creating CNN Model"
      ]
    },
    {
      "cell_type": "code",
      "source": [
        "from tensorflow.keras.layers import Input, Conv2D \n",
        "from tensorflow.keras.layers import MaxPool2D, Flatten, Dense \n",
        "from tensorflow.keras import Model\n",
        "# input\n",
        "\n",
        "input = Input(shape =(224,224,3))\n",
        "# 1st Conv Block\n",
        "\n",
        "x = Conv2D (filters =64, kernel_size =3, padding ='same', activation='relu')(input)\n",
        "x = Conv2D (filters =64, kernel_size =3, padding ='same', activation='relu')(x)\n",
        "x = MaxPool2D(pool_size =2, strides =2, padding ='same')(x)\n",
        "# 2nd Conv Block\n",
        "\n",
        "x = Conv2D (filters =128, kernel_size =3, padding ='same', activation='relu')(x)\n",
        "x = Conv2D (filters =128, kernel_size =3, padding ='same', activation='relu')(x)\n",
        "x = MaxPool2D(pool_size =2, strides =2, padding ='same')(x)\n",
        "# 3rd Conv block\n",
        "\n",
        "x = Conv2D (filters =256, kernel_size =3, padding ='same', activation='relu')(x)\n",
        "x = Conv2D (filters =256, kernel_size =3, padding ='same', activation='relu')(x)\n",
        "x = Conv2D (filters =256, kernel_size =3, padding ='same', activation='relu')(x)\n",
        "x = MaxPool2D(pool_size =2, strides =2, padding ='same')(x)\n",
        "# 4th Conv block\n",
        "\n",
        "x = Conv2D (filters =512, kernel_size =3, padding ='same', activation='relu')(x)\n",
        "x = Conv2D (filters =512, kernel_size =3, padding ='same', activation='relu')(x)\n",
        "x = Conv2D (filters =512, kernel_size =3, padding ='same', activation='relu')(x)\n",
        "x = MaxPool2D(pool_size =2, strides =2, padding ='same')(x)\n",
        "\n",
        "# 5th Conv block\n",
        "\n",
        "x = Conv2D (filters =512, kernel_size =3, padding ='same', activation='relu')(x)\n",
        "x = Conv2D (filters =512, kernel_size =3, padding ='same', activation='relu')(x)\n",
        "x = Conv2D (filters =512, kernel_size =3, padding ='same', activation='relu')(x)\n",
        "x = MaxPool2D(pool_size =2, strides =2, padding ='same')(x)\n",
        "# Fully connected layers\n",
        "\n",
        "x = Flatten()(x)\n",
        "x = Dense(units = 1024, activation ='relu')(x)\n",
        "output = Dense(units = 4, activation ='softmax')(x)\n",
        "# creating the model\n",
        "\n",
        "model = Model (inputs=input, outputs =output)"
      ],
      "metadata": {
        "id": "n3ba8ezfA9sp"
      },
      "execution_count": 8,
      "outputs": []
    },
    {
      "cell_type": "markdown",
      "metadata": {
        "id": "Zfsu3lVfnXFG"
      },
      "source": [
        "**Training** Network"
      ]
    },
    {
      "cell_type": "code",
      "metadata": {
        "id": "rvwKwe3Lzmgv",
        "colab": {
          "base_uri": "https://localhost:8080/"
        },
        "outputId": "40cf5df4-8c91-4099-8bf7-bcdad7631dc3"
      },
      "source": [
        "EPOCHS = 100\n",
        "INIT_LR = 1e-4\n",
        "BS = 32\n",
        "\n",
        "with tf.device('/GPU:0'):\n",
        "  opt = Adam(learning_rate=INIT_LR, decay=INIT_LR / EPOCHS)\n",
        "  model.compile(loss=\"categorical_crossentropy\", optimizer=opt,metrics=[\"Accuracy\", \"FalseNegatives\", \"FalsePositives\", \"TrueNegatives\", \"TruePositives\"])\n",
        "  \n",
        "  history = model.fit(\n",
        "      aug.flow(np_image_list_train, image_labels_train, batch_size=BS),\n",
        "      validation_data=(np_image_list_validation, image_labels_validation),\n",
        "      steps_per_epoch=len(np_image_list_train) // BS,\n",
        "      epochs=EPOCHS, \n",
        "      verbose=1,\n",
        "      )\n"
      ],
      "execution_count": 9,
      "outputs": [
        {
          "output_type": "stream",
          "name": "stdout",
          "text": [
            "Epoch 1/100\n",
            "63/63 [==============================] - 68s 780ms/step - loss: 1.1457 - Accuracy: 0.5338 - false_negatives: 1407.0000 - false_positives: 349.0000 - true_negatives: 5642.0000 - true_positives: 590.0000 - val_loss: 1.0216 - val_Accuracy: 0.6765 - val_false_negatives: 486.0000 - val_false_positives: 8.0000 - val_true_negatives: 1513.0000 - val_true_positives: 21.0000\n",
            "Epoch 2/100\n",
            "63/63 [==============================] - 34s 544ms/step - loss: 0.7985 - Accuracy: 0.6905 - false_negatives: 828.0000 - false_positives: 323.0000 - true_negatives: 5668.0000 - true_positives: 1169.0000 - val_loss: 0.6569 - val_Accuracy: 0.7811 - val_false_negatives: 136.0000 - val_false_positives: 96.0000 - val_true_negatives: 1425.0000 - val_true_positives: 371.0000\n",
            "Epoch 3/100\n",
            "63/63 [==============================] - 36s 575ms/step - loss: 0.6491 - Accuracy: 0.7596 - false_negatives: 596.0000 - false_positives: 323.0000 - true_negatives: 5668.0000 - true_positives: 1401.0000 - val_loss: 0.7373 - val_Accuracy: 0.7298 - val_false_negatives: 144.0000 - val_false_positives: 123.0000 - val_true_negatives: 1398.0000 - val_true_positives: 363.0000\n",
            "Epoch 4/100\n",
            "63/63 [==============================] - 34s 541ms/step - loss: 0.5807 - Accuracy: 0.7917 - false_negatives: 521.0000 - false_positives: 312.0000 - true_negatives: 5679.0000 - true_positives: 1476.0000 - val_loss: 0.3502 - val_Accuracy: 0.8757 - val_false_negatives: 77.0000 - val_false_positives: 51.0000 - val_true_negatives: 1470.0000 - val_true_positives: 430.0000\n",
            "Epoch 5/100\n",
            "63/63 [==============================] - 34s 542ms/step - loss: 0.4776 - Accuracy: 0.8332 - false_negatives: 398.0000 - false_positives: 255.0000 - true_negatives: 5736.0000 - true_positives: 1599.0000 - val_loss: 0.4305 - val_Accuracy: 0.8619 - val_false_negatives: 104.0000 - val_false_positives: 55.0000 - val_true_negatives: 1466.0000 - val_true_positives: 403.0000\n",
            "Epoch 6/100\n",
            "63/63 [==============================] - 34s 544ms/step - loss: 0.3856 - Accuracy: 0.8538 - false_negatives: 341.0000 - false_positives: 243.0000 - true_negatives: 5748.0000 - true_positives: 1656.0000 - val_loss: 0.4537 - val_Accuracy: 0.8422 - val_false_negatives: 98.0000 - val_false_positives: 56.0000 - val_true_negatives: 1465.0000 - val_true_positives: 409.0000\n",
            "Epoch 7/100\n",
            "63/63 [==============================] - 34s 542ms/step - loss: 0.3934 - Accuracy: 0.8618 - false_negatives: 334.0000 - false_positives: 219.0000 - true_negatives: 5772.0000 - true_positives: 1663.0000 - val_loss: 0.3032 - val_Accuracy: 0.8994 - val_false_negatives: 66.0000 - val_false_positives: 42.0000 - val_true_negatives: 1479.0000 - val_true_positives: 441.0000\n",
            "Epoch 8/100\n",
            "63/63 [==============================] - 34s 539ms/step - loss: 0.3594 - Accuracy: 0.8673 - false_negatives: 315.0000 - false_positives: 205.0000 - true_negatives: 5786.0000 - true_positives: 1682.0000 - val_loss: 0.3598 - val_Accuracy: 0.8915 - val_false_negatives: 68.0000 - val_false_positives: 51.0000 - val_true_negatives: 1470.0000 - val_true_positives: 439.0000\n",
            "Epoch 9/100\n",
            "63/63 [==============================] - 34s 533ms/step - loss: 0.2872 - Accuracy: 0.8998 - false_negatives: 232.0000 - false_positives: 171.0000 - true_negatives: 5820.0000 - true_positives: 1765.0000 - val_loss: 0.4646 - val_Accuracy: 0.8540 - val_false_negatives: 76.0000 - val_false_positives: 62.0000 - val_true_negatives: 1459.0000 - val_true_positives: 431.0000\n",
            "Epoch 10/100\n",
            "63/63 [==============================] - 34s 529ms/step - loss: 0.3338 - Accuracy: 0.8838 - false_negatives: 280.0000 - false_positives: 188.0000 - true_negatives: 5803.0000 - true_positives: 1717.0000 - val_loss: 0.2456 - val_Accuracy: 0.9172 - val_false_negatives: 46.0000 - val_false_positives: 39.0000 - val_true_negatives: 1482.0000 - val_true_positives: 461.0000\n",
            "Epoch 11/100\n",
            "63/63 [==============================] - 34s 533ms/step - loss: 0.2613 - Accuracy: 0.9039 - false_negatives: 219.0000 - false_positives: 159.0000 - true_negatives: 5832.0000 - true_positives: 1778.0000 - val_loss: 0.2427 - val_Accuracy: 0.9073 - val_false_negatives: 53.0000 - val_false_positives: 39.0000 - val_true_negatives: 1482.0000 - val_true_positives: 454.0000\n",
            "Epoch 12/100\n",
            "63/63 [==============================] - 34s 533ms/step - loss: 0.2366 - Accuracy: 0.9119 - false_negatives: 190.0000 - false_positives: 149.0000 - true_negatives: 5842.0000 - true_positives: 1807.0000 - val_loss: 0.2181 - val_Accuracy: 0.9152 - val_false_negatives: 44.0000 - val_false_positives: 41.0000 - val_true_negatives: 1480.0000 - val_true_positives: 463.0000\n",
            "Epoch 13/100\n",
            "63/63 [==============================] - 34s 535ms/step - loss: 0.2202 - Accuracy: 0.9294 - false_negatives: 164.0000 - false_positives: 128.0000 - true_negatives: 5863.0000 - true_positives: 1833.0000 - val_loss: 0.2441 - val_Accuracy: 0.9172 - val_false_negatives: 49.0000 - val_false_positives: 38.0000 - val_true_negatives: 1483.0000 - val_true_positives: 458.0000\n",
            "Epoch 14/100\n",
            "63/63 [==============================] - 34s 531ms/step - loss: 0.2222 - Accuracy: 0.9194 - false_negatives: 177.0000 - false_positives: 137.0000 - true_negatives: 5854.0000 - true_positives: 1820.0000 - val_loss: 0.2230 - val_Accuracy: 0.9132 - val_false_negatives: 50.0000 - val_false_positives: 37.0000 - val_true_negatives: 1484.0000 - val_true_positives: 457.0000\n",
            "Epoch 15/100\n",
            "63/63 [==============================] - 34s 528ms/step - loss: 0.1845 - Accuracy: 0.9324 - false_negatives: 153.0000 - false_positives: 120.0000 - true_negatives: 5871.0000 - true_positives: 1844.0000 - val_loss: 0.1402 - val_Accuracy: 0.9527 - val_false_negatives: 24.0000 - val_false_positives: 23.0000 - val_true_negatives: 1498.0000 - val_true_positives: 483.0000\n",
            "Epoch 16/100\n",
            "63/63 [==============================] - 33s 525ms/step - loss: 0.2164 - Accuracy: 0.9254 - false_negatives: 167.0000 - false_positives: 137.0000 - true_negatives: 5854.0000 - true_positives: 1830.0000 - val_loss: 0.2285 - val_Accuracy: 0.9290 - val_false_negatives: 38.0000 - val_false_positives: 34.0000 - val_true_negatives: 1487.0000 - val_true_positives: 469.0000\n",
            "Epoch 17/100\n",
            "63/63 [==============================] - 34s 528ms/step - loss: 0.1490 - Accuracy: 0.9434 - false_negatives: 119.0000 - false_positives: 108.0000 - true_negatives: 5883.0000 - true_positives: 1878.0000 - val_loss: 0.1351 - val_Accuracy: 0.9546 - val_false_negatives: 23.0000 - val_false_positives: 23.0000 - val_true_negatives: 1498.0000 - val_true_positives: 484.0000\n",
            "Epoch 18/100\n",
            "63/63 [==============================] - 33s 527ms/step - loss: 0.1467 - Accuracy: 0.9469 - false_negatives: 112.0000 - false_positives: 98.0000 - true_negatives: 5893.0000 - true_positives: 1885.0000 - val_loss: 0.1892 - val_Accuracy: 0.9250 - val_false_negatives: 38.0000 - val_false_positives: 38.0000 - val_true_negatives: 1483.0000 - val_true_positives: 469.0000\n",
            "Epoch 19/100\n",
            "63/63 [==============================] - 34s 529ms/step - loss: 0.1348 - Accuracy: 0.9514 - false_negatives: 102.0000 - false_positives: 89.0000 - true_negatives: 5902.0000 - true_positives: 1895.0000 - val_loss: 0.1076 - val_Accuracy: 0.9566 - val_false_negatives: 24.0000 - val_false_positives: 21.0000 - val_true_negatives: 1500.0000 - val_true_positives: 483.0000\n",
            "Epoch 20/100\n",
            "63/63 [==============================] - 34s 533ms/step - loss: 0.1244 - Accuracy: 0.9569 - false_negatives: 93.0000 - false_positives: 84.0000 - true_negatives: 5907.0000 - true_positives: 1904.0000 - val_loss: 0.1812 - val_Accuracy: 0.9329 - val_false_negatives: 35.0000 - val_false_positives: 32.0000 - val_true_negatives: 1489.0000 - val_true_positives: 472.0000\n",
            "Epoch 21/100\n",
            "63/63 [==============================] - 34s 533ms/step - loss: 0.1021 - Accuracy: 0.9624 - false_negatives: 77.0000 - false_positives: 70.0000 - true_negatives: 5921.0000 - true_positives: 1920.0000 - val_loss: 0.0757 - val_Accuracy: 0.9803 - val_false_negatives: 11.0000 - val_false_positives: 10.0000 - val_true_negatives: 1511.0000 - val_true_positives: 496.0000\n",
            "Epoch 22/100\n",
            "63/63 [==============================] - 33s 525ms/step - loss: 0.0883 - Accuracy: 0.9659 - false_negatives: 70.0000 - false_positives: 66.0000 - true_negatives: 5925.0000 - true_positives: 1927.0000 - val_loss: 0.1421 - val_Accuracy: 0.9428 - val_false_negatives: 29.0000 - val_false_positives: 29.0000 - val_true_negatives: 1492.0000 - val_true_positives: 478.0000\n",
            "Epoch 23/100\n",
            "63/63 [==============================] - 33s 523ms/step - loss: 0.0713 - Accuracy: 0.9740 - false_negatives: 53.0000 - false_positives: 52.0000 - true_negatives: 5939.0000 - true_positives: 1944.0000 - val_loss: 0.0518 - val_Accuracy: 0.9882 - val_false_negatives: 6.0000 - val_false_positives: 6.0000 - val_true_negatives: 1515.0000 - val_true_positives: 501.0000\n",
            "Epoch 24/100\n",
            "63/63 [==============================] - 33s 526ms/step - loss: 0.1669 - Accuracy: 0.9479 - false_negatives: 113.0000 - false_positives: 91.0000 - true_negatives: 5900.0000 - true_positives: 1884.0000 - val_loss: 0.2092 - val_Accuracy: 0.9487 - val_false_negatives: 27.0000 - val_false_positives: 26.0000 - val_true_negatives: 1495.0000 - val_true_positives: 480.0000\n",
            "Epoch 25/100\n",
            "63/63 [==============================] - 33s 519ms/step - loss: 0.0872 - Accuracy: 0.9695 - false_negatives: 62.0000 - false_positives: 57.0000 - true_negatives: 5934.0000 - true_positives: 1935.0000 - val_loss: 0.0861 - val_Accuracy: 0.9744 - val_false_negatives: 13.0000 - val_false_positives: 13.0000 - val_true_negatives: 1508.0000 - val_true_positives: 494.0000\n",
            "Epoch 26/100\n",
            "63/63 [==============================] - 33s 526ms/step - loss: 0.0597 - Accuracy: 0.9775 - false_negatives: 47.0000 - false_positives: 42.0000 - true_negatives: 5949.0000 - true_positives: 1950.0000 - val_loss: 0.0361 - val_Accuracy: 0.9882 - val_false_negatives: 6.0000 - val_false_positives: 6.0000 - val_true_negatives: 1515.0000 - val_true_positives: 501.0000\n",
            "Epoch 27/100\n",
            "63/63 [==============================] - 33s 524ms/step - loss: 0.0398 - Accuracy: 0.9875 - false_negatives: 26.0000 - false_positives: 25.0000 - true_negatives: 5966.0000 - true_positives: 1971.0000 - val_loss: 0.0275 - val_Accuracy: 0.9941 - val_false_negatives: 4.0000 - val_false_positives: 3.0000 - val_true_negatives: 1518.0000 - val_true_positives: 503.0000\n",
            "Epoch 28/100\n",
            "63/63 [==============================] - 34s 533ms/step - loss: 0.0903 - Accuracy: 0.9664 - false_negatives: 70.0000 - false_positives: 64.0000 - true_negatives: 5927.0000 - true_positives: 1927.0000 - val_loss: 0.0240 - val_Accuracy: 0.9921 - val_false_negatives: 4.0000 - val_false_positives: 4.0000 - val_true_negatives: 1517.0000 - val_true_positives: 503.0000\n",
            "Epoch 29/100\n",
            "63/63 [==============================] - 34s 533ms/step - loss: 0.0476 - Accuracy: 0.9845 - false_negatives: 34.0000 - false_positives: 27.0000 - true_negatives: 5964.0000 - true_positives: 1963.0000 - val_loss: 0.0465 - val_Accuracy: 0.9862 - val_false_negatives: 7.0000 - val_false_positives: 7.0000 - val_true_negatives: 1514.0000 - val_true_positives: 500.0000\n",
            "Epoch 30/100\n",
            "63/63 [==============================] - 34s 529ms/step - loss: 0.0431 - Accuracy: 0.9865 - false_negatives: 30.0000 - false_positives: 27.0000 - true_negatives: 5964.0000 - true_positives: 1967.0000 - val_loss: 0.0257 - val_Accuracy: 0.9901 - val_false_negatives: 6.0000 - val_false_positives: 5.0000 - val_true_negatives: 1516.0000 - val_true_positives: 501.0000\n",
            "Epoch 31/100\n",
            "63/63 [==============================] - 34s 534ms/step - loss: 0.0521 - Accuracy: 0.9815 - false_negatives: 37.0000 - false_positives: 34.0000 - true_negatives: 5957.0000 - true_positives: 1960.0000 - val_loss: 0.0145 - val_Accuracy: 0.9961 - val_false_negatives: 2.0000 - val_false_positives: 2.0000 - val_true_negatives: 1519.0000 - val_true_positives: 505.0000\n",
            "Epoch 32/100\n",
            "63/63 [==============================] - 34s 535ms/step - loss: 0.0595 - Accuracy: 0.9795 - false_negatives: 42.0000 - false_positives: 39.0000 - true_negatives: 5952.0000 - true_positives: 1955.0000 - val_loss: 0.0160 - val_Accuracy: 0.9961 - val_false_negatives: 2.0000 - val_false_positives: 2.0000 - val_true_negatives: 1519.0000 - val_true_positives: 505.0000\n",
            "Epoch 33/100\n",
            "63/63 [==============================] - 34s 533ms/step - loss: 0.0378 - Accuracy: 0.9850 - false_negatives: 30.0000 - false_positives: 30.0000 - true_negatives: 5961.0000 - true_positives: 1967.0000 - val_loss: 0.0192 - val_Accuracy: 0.9901 - val_false_negatives: 5.0000 - val_false_positives: 5.0000 - val_true_negatives: 1516.0000 - val_true_positives: 502.0000\n",
            "Epoch 34/100\n",
            "63/63 [==============================] - 33s 524ms/step - loss: 0.0357 - Accuracy: 0.9910 - false_negatives: 20.0000 - false_positives: 18.0000 - true_negatives: 5973.0000 - true_positives: 1977.0000 - val_loss: 0.0227 - val_Accuracy: 0.9901 - val_false_negatives: 5.0000 - val_false_positives: 5.0000 - val_true_negatives: 1516.0000 - val_true_positives: 502.0000\n",
            "Epoch 35/100\n",
            "63/63 [==============================] - 34s 530ms/step - loss: 0.0362 - Accuracy: 0.9870 - false_negatives: 26.0000 - false_positives: 24.0000 - true_negatives: 5967.0000 - true_positives: 1971.0000 - val_loss: 0.0269 - val_Accuracy: 0.9882 - val_false_negatives: 6.0000 - val_false_positives: 6.0000 - val_true_negatives: 1515.0000 - val_true_positives: 501.0000\n",
            "Epoch 36/100\n",
            "63/63 [==============================] - 33s 524ms/step - loss: 0.0258 - Accuracy: 0.9915 - false_negatives: 17.0000 - false_positives: 17.0000 - true_negatives: 5974.0000 - true_positives: 1980.0000 - val_loss: 0.0112 - val_Accuracy: 0.9980 - val_false_negatives: 1.0000 - val_false_positives: 1.0000 - val_true_negatives: 1520.0000 - val_true_positives: 506.0000\n",
            "Epoch 37/100\n",
            "63/63 [==============================] - 33s 526ms/step - loss: 0.0132 - Accuracy: 0.9970 - false_negatives: 7.0000 - false_positives: 6.0000 - true_negatives: 5985.0000 - true_positives: 1990.0000 - val_loss: 0.0213 - val_Accuracy: 0.9941 - val_false_negatives: 3.0000 - val_false_positives: 3.0000 - val_true_negatives: 1518.0000 - val_true_positives: 504.0000\n",
            "Epoch 38/100\n",
            "63/63 [==============================] - 33s 532ms/step - loss: 0.0309 - Accuracy: 0.9875 - false_negatives: 25.0000 - false_positives: 25.0000 - true_negatives: 5966.0000 - true_positives: 1972.0000 - val_loss: 0.0222 - val_Accuracy: 0.9941 - val_false_negatives: 3.0000 - val_false_positives: 3.0000 - val_true_negatives: 1518.0000 - val_true_positives: 504.0000\n",
            "Epoch 39/100\n",
            "63/63 [==============================] - 33s 522ms/step - loss: 0.0590 - Accuracy: 0.9835 - false_negatives: 34.0000 - false_positives: 33.0000 - true_negatives: 5958.0000 - true_positives: 1963.0000 - val_loss: 0.8058 - val_Accuracy: 0.8817 - val_false_negatives: 60.0000 - val_false_positives: 59.0000 - val_true_negatives: 1462.0000 - val_true_positives: 447.0000\n",
            "Epoch 40/100\n",
            "63/63 [==============================] - 33s 519ms/step - loss: 0.1314 - Accuracy: 0.9649 - false_negatives: 74.0000 - false_positives: 64.0000 - true_negatives: 5927.0000 - true_positives: 1923.0000 - val_loss: 0.0051 - val_Accuracy: 1.0000 - val_false_negatives: 0.0000e+00 - val_false_positives: 0.0000e+00 - val_true_negatives: 1521.0000 - val_true_positives: 507.0000\n",
            "Epoch 41/100\n",
            "63/63 [==============================] - 33s 528ms/step - loss: 0.0220 - Accuracy: 0.9930 - false_negatives: 14.0000 - false_positives: 13.0000 - true_negatives: 5978.0000 - true_positives: 1983.0000 - val_loss: 0.0142 - val_Accuracy: 0.9980 - val_false_negatives: 1.0000 - val_false_positives: 1.0000 - val_true_negatives: 1520.0000 - val_true_positives: 506.0000\n",
            "Epoch 42/100\n",
            "63/63 [==============================] - 33s 524ms/step - loss: 0.0412 - Accuracy: 0.9855 - false_negatives: 30.0000 - false_positives: 29.0000 - true_negatives: 5962.0000 - true_positives: 1967.0000 - val_loss: 0.0072 - val_Accuracy: 0.9980 - val_false_negatives: 1.0000 - val_false_positives: 1.0000 - val_true_negatives: 1520.0000 - val_true_positives: 506.0000\n",
            "Epoch 43/100\n",
            "63/63 [==============================] - 33s 522ms/step - loss: 0.0480 - Accuracy: 0.9835 - false_negatives: 33.0000 - false_positives: 32.0000 - true_negatives: 5959.0000 - true_positives: 1964.0000 - val_loss: 0.0293 - val_Accuracy: 0.9882 - val_false_negatives: 6.0000 - val_false_positives: 6.0000 - val_true_negatives: 1515.0000 - val_true_positives: 501.0000\n",
            "Epoch 44/100\n",
            "63/63 [==============================] - 33s 521ms/step - loss: 0.0603 - Accuracy: 0.9765 - false_negatives: 48.0000 - false_positives: 46.0000 - true_negatives: 5945.0000 - true_positives: 1949.0000 - val_loss: 0.0118 - val_Accuracy: 0.9980 - val_false_negatives: 1.0000 - val_false_positives: 1.0000 - val_true_negatives: 1520.0000 - val_true_positives: 506.0000\n",
            "Epoch 45/100\n",
            "63/63 [==============================] - 34s 529ms/step - loss: 0.0163 - Accuracy: 0.9950 - false_negatives: 10.0000 - false_positives: 10.0000 - true_negatives: 5981.0000 - true_positives: 1987.0000 - val_loss: 0.0241 - val_Accuracy: 0.9882 - val_false_negatives: 6.0000 - val_false_positives: 6.0000 - val_true_negatives: 1515.0000 - val_true_positives: 501.0000\n",
            "Epoch 46/100\n",
            "63/63 [==============================] - 33s 526ms/step - loss: 0.0567 - Accuracy: 0.9830 - false_negatives: 35.0000 - false_positives: 32.0000 - true_negatives: 5959.0000 - true_positives: 1962.0000 - val_loss: 0.0072 - val_Accuracy: 0.9980 - val_false_negatives: 1.0000 - val_false_positives: 1.0000 - val_true_negatives: 1520.0000 - val_true_positives: 506.0000\n",
            "Epoch 47/100\n",
            "63/63 [==============================] - 33s 522ms/step - loss: 0.0264 - Accuracy: 0.9920 - false_negatives: 16.0000 - false_positives: 16.0000 - true_negatives: 5975.0000 - true_positives: 1981.0000 - val_loss: 0.0154 - val_Accuracy: 0.9961 - val_false_negatives: 2.0000 - val_false_positives: 2.0000 - val_true_negatives: 1519.0000 - val_true_positives: 505.0000\n",
            "Epoch 48/100\n",
            "63/63 [==============================] - 33s 523ms/step - loss: 0.0184 - Accuracy: 0.9940 - false_negatives: 12.0000 - false_positives: 11.0000 - true_negatives: 5980.0000 - true_positives: 1985.0000 - val_loss: 7.2859e-04 - val_Accuracy: 1.0000 - val_false_negatives: 0.0000e+00 - val_false_positives: 0.0000e+00 - val_true_negatives: 1521.0000 - val_true_positives: 507.0000\n",
            "Epoch 49/100\n",
            "63/63 [==============================] - 33s 521ms/step - loss: 0.0313 - Accuracy: 0.9915 - false_negatives: 17.0000 - false_positives: 16.0000 - true_negatives: 5975.0000 - true_positives: 1980.0000 - val_loss: 0.0596 - val_Accuracy: 0.9822 - val_false_negatives: 9.0000 - val_false_positives: 9.0000 - val_true_negatives: 1512.0000 - val_true_positives: 498.0000\n",
            "Epoch 50/100\n",
            "63/63 [==============================] - 33s 525ms/step - loss: 0.0280 - Accuracy: 0.9925 - false_negatives: 15.0000 - false_positives: 15.0000 - true_negatives: 5976.0000 - true_positives: 1982.0000 - val_loss: 0.0128 - val_Accuracy: 0.9941 - val_false_negatives: 3.0000 - val_false_positives: 3.0000 - val_true_negatives: 1518.0000 - val_true_positives: 504.0000\n",
            "Epoch 51/100\n",
            "63/63 [==============================] - 33s 518ms/step - loss: 0.0184 - Accuracy: 0.9945 - false_negatives: 11.0000 - false_positives: 11.0000 - true_negatives: 5980.0000 - true_positives: 1986.0000 - val_loss: 0.0088 - val_Accuracy: 0.9961 - val_false_negatives: 2.0000 - val_false_positives: 2.0000 - val_true_negatives: 1519.0000 - val_true_positives: 505.0000\n",
            "Epoch 52/100\n",
            "63/63 [==============================] - 33s 523ms/step - loss: 0.0176 - Accuracy: 0.9920 - false_negatives: 16.0000 - false_positives: 16.0000 - true_negatives: 5975.0000 - true_positives: 1981.0000 - val_loss: 0.0079 - val_Accuracy: 0.9980 - val_false_negatives: 1.0000 - val_false_positives: 1.0000 - val_true_negatives: 1520.0000 - val_true_positives: 506.0000\n",
            "Epoch 53/100\n",
            "63/63 [==============================] - 33s 527ms/step - loss: 0.0171 - Accuracy: 0.9940 - false_negatives: 12.0000 - false_positives: 12.0000 - true_negatives: 5979.0000 - true_positives: 1985.0000 - val_loss: 0.0103 - val_Accuracy: 0.9980 - val_false_negatives: 1.0000 - val_false_positives: 1.0000 - val_true_negatives: 1520.0000 - val_true_positives: 506.0000\n",
            "Epoch 54/100\n",
            "63/63 [==============================] - 33s 521ms/step - loss: 0.0177 - Accuracy: 0.9925 - false_negatives: 15.0000 - false_positives: 15.0000 - true_negatives: 5976.0000 - true_positives: 1982.0000 - val_loss: 0.0124 - val_Accuracy: 0.9980 - val_false_negatives: 1.0000 - val_false_positives: 1.0000 - val_true_negatives: 1520.0000 - val_true_positives: 506.0000\n",
            "Epoch 55/100\n",
            "63/63 [==============================] - 34s 529ms/step - loss: 0.0702 - Accuracy: 0.9790 - false_negatives: 43.0000 - false_positives: 39.0000 - true_negatives: 5952.0000 - true_positives: 1954.0000 - val_loss: 0.0176 - val_Accuracy: 0.9980 - val_false_negatives: 1.0000 - val_false_positives: 1.0000 - val_true_negatives: 1520.0000 - val_true_positives: 506.0000\n",
            "Epoch 56/100\n",
            "63/63 [==============================] - 34s 532ms/step - loss: 0.0317 - Accuracy: 0.9900 - false_negatives: 20.0000 - false_positives: 20.0000 - true_negatives: 5971.0000 - true_positives: 1977.0000 - val_loss: 0.0085 - val_Accuracy: 0.9980 - val_false_negatives: 1.0000 - val_false_positives: 1.0000 - val_true_negatives: 1520.0000 - val_true_positives: 506.0000\n",
            "Epoch 57/100\n",
            "63/63 [==============================] - 35s 559ms/step - loss: 0.0177 - Accuracy: 0.9955 - false_negatives: 9.0000 - false_positives: 9.0000 - true_negatives: 5982.0000 - true_positives: 1988.0000 - val_loss: 0.0054 - val_Accuracy: 0.9980 - val_false_negatives: 1.0000 - val_false_positives: 1.0000 - val_true_negatives: 1520.0000 - val_true_positives: 506.0000\n",
            "Epoch 58/100\n",
            "63/63 [==============================] - 35s 547ms/step - loss: 0.0092 - Accuracy: 0.9970 - false_negatives: 6.0000 - false_positives: 6.0000 - true_negatives: 5985.0000 - true_positives: 1991.0000 - val_loss: 0.0154 - val_Accuracy: 0.9941 - val_false_negatives: 3.0000 - val_false_positives: 3.0000 - val_true_negatives: 1518.0000 - val_true_positives: 504.0000\n",
            "Epoch 59/100\n",
            "63/63 [==============================] - 35s 548ms/step - loss: 0.0255 - Accuracy: 0.9910 - false_negatives: 18.0000 - false_positives: 18.0000 - true_negatives: 5973.0000 - true_positives: 1979.0000 - val_loss: 0.0142 - val_Accuracy: 0.9941 - val_false_negatives: 3.0000 - val_false_positives: 3.0000 - val_true_negatives: 1518.0000 - val_true_positives: 504.0000\n",
            "Epoch 60/100\n",
            "63/63 [==============================] - 35s 553ms/step - loss: 0.0169 - Accuracy: 0.9935 - false_negatives: 13.0000 - false_positives: 12.0000 - true_negatives: 5979.0000 - true_positives: 1984.0000 - val_loss: 0.0042 - val_Accuracy: 0.9980 - val_false_negatives: 1.0000 - val_false_positives: 0.0000e+00 - val_true_negatives: 1521.0000 - val_true_positives: 506.0000\n",
            "Epoch 61/100\n",
            "63/63 [==============================] - 35s 552ms/step - loss: 0.0237 - Accuracy: 0.9920 - false_negatives: 16.0000 - false_positives: 15.0000 - true_negatives: 5976.0000 - true_positives: 1981.0000 - val_loss: 0.0637 - val_Accuracy: 0.9763 - val_false_negatives: 12.0000 - val_false_positives: 12.0000 - val_true_negatives: 1509.0000 - val_true_positives: 495.0000\n",
            "Epoch 62/100\n",
            "63/63 [==============================] - 35s 554ms/step - loss: 0.0309 - Accuracy: 0.9890 - false_negatives: 22.0000 - false_positives: 22.0000 - true_negatives: 5969.0000 - true_positives: 1975.0000 - val_loss: 0.0244 - val_Accuracy: 0.9901 - val_false_negatives: 5.0000 - val_false_positives: 5.0000 - val_true_negatives: 1516.0000 - val_true_positives: 502.0000\n",
            "Epoch 63/100\n",
            "63/63 [==============================] - 35s 553ms/step - loss: 0.0146 - Accuracy: 0.9935 - false_negatives: 13.0000 - false_positives: 13.0000 - true_negatives: 5978.0000 - true_positives: 1984.0000 - val_loss: 0.0047 - val_Accuracy: 0.9980 - val_false_negatives: 1.0000 - val_false_positives: 1.0000 - val_true_negatives: 1520.0000 - val_true_positives: 506.0000\n",
            "Epoch 64/100\n",
            "63/63 [==============================] - 35s 551ms/step - loss: 0.0272 - Accuracy: 0.9935 - false_negatives: 13.0000 - false_positives: 13.0000 - true_negatives: 5978.0000 - true_positives: 1984.0000 - val_loss: 0.0378 - val_Accuracy: 0.9882 - val_false_negatives: 6.0000 - val_false_positives: 6.0000 - val_true_negatives: 1515.0000 - val_true_positives: 501.0000\n",
            "Epoch 65/100\n",
            "63/63 [==============================] - 35s 550ms/step - loss: 0.0517 - Accuracy: 0.9840 - false_negatives: 33.0000 - false_positives: 32.0000 - true_negatives: 5959.0000 - true_positives: 1964.0000 - val_loss: 0.0108 - val_Accuracy: 0.9961 - val_false_negatives: 2.0000 - val_false_positives: 2.0000 - val_true_negatives: 1519.0000 - val_true_positives: 505.0000\n",
            "Epoch 66/100\n",
            "63/63 [==============================] - 35s 554ms/step - loss: 0.0180 - Accuracy: 0.9945 - false_negatives: 11.0000 - false_positives: 11.0000 - true_negatives: 5980.0000 - true_positives: 1986.0000 - val_loss: 0.0068 - val_Accuracy: 0.9980 - val_false_negatives: 1.0000 - val_false_positives: 1.0000 - val_true_negatives: 1520.0000 - val_true_positives: 506.0000\n",
            "Epoch 67/100\n",
            "63/63 [==============================] - 35s 553ms/step - loss: 0.0144 - Accuracy: 0.9965 - false_negatives: 7.0000 - false_positives: 7.0000 - true_negatives: 5984.0000 - true_positives: 1990.0000 - val_loss: 0.0012 - val_Accuracy: 1.0000 - val_false_negatives: 0.0000e+00 - val_false_positives: 0.0000e+00 - val_true_negatives: 1521.0000 - val_true_positives: 507.0000\n",
            "Epoch 68/100\n",
            "63/63 [==============================] - 35s 555ms/step - loss: 0.0366 - Accuracy: 0.9880 - false_negatives: 25.0000 - false_positives: 24.0000 - true_negatives: 5967.0000 - true_positives: 1972.0000 - val_loss: 0.0046 - val_Accuracy: 0.9980 - val_false_negatives: 1.0000 - val_false_positives: 1.0000 - val_true_negatives: 1520.0000 - val_true_positives: 506.0000\n",
            "Epoch 69/100\n",
            "63/63 [==============================] - 35s 554ms/step - loss: 0.0088 - Accuracy: 0.9970 - false_negatives: 6.0000 - false_positives: 6.0000 - true_negatives: 5985.0000 - true_positives: 1991.0000 - val_loss: 0.0111 - val_Accuracy: 0.9961 - val_false_negatives: 2.0000 - val_false_positives: 2.0000 - val_true_negatives: 1519.0000 - val_true_positives: 505.0000\n",
            "Epoch 70/100\n",
            "63/63 [==============================] - 35s 554ms/step - loss: 0.0159 - Accuracy: 0.9930 - false_negatives: 14.0000 - false_positives: 14.0000 - true_negatives: 5977.0000 - true_positives: 1983.0000 - val_loss: 0.0557 - val_Accuracy: 0.9803 - val_false_negatives: 10.0000 - val_false_positives: 9.0000 - val_true_negatives: 1512.0000 - val_true_positives: 497.0000\n",
            "Epoch 71/100\n",
            "63/63 [==============================] - 35s 556ms/step - loss: 0.0193 - Accuracy: 0.9945 - false_negatives: 11.0000 - false_positives: 10.0000 - true_negatives: 5981.0000 - true_positives: 1986.0000 - val_loss: 0.0013 - val_Accuracy: 1.0000 - val_false_negatives: 0.0000e+00 - val_false_positives: 0.0000e+00 - val_true_negatives: 1521.0000 - val_true_positives: 507.0000\n",
            "Epoch 72/100\n",
            "63/63 [==============================] - 35s 550ms/step - loss: 0.0260 - Accuracy: 0.9925 - false_negatives: 15.0000 - false_positives: 15.0000 - true_negatives: 5976.0000 - true_positives: 1982.0000 - val_loss: 0.0564 - val_Accuracy: 0.9842 - val_false_negatives: 8.0000 - val_false_positives: 8.0000 - val_true_negatives: 1513.0000 - val_true_positives: 499.0000\n",
            "Epoch 73/100\n",
            "63/63 [==============================] - 35s 554ms/step - loss: 0.0323 - Accuracy: 0.9910 - false_negatives: 18.0000 - false_positives: 17.0000 - true_negatives: 5974.0000 - true_positives: 1979.0000 - val_loss: 0.0025 - val_Accuracy: 1.0000 - val_false_negatives: 0.0000e+00 - val_false_positives: 0.0000e+00 - val_true_negatives: 1521.0000 - val_true_positives: 507.0000\n",
            "Epoch 74/100\n",
            "63/63 [==============================] - 35s 552ms/step - loss: 0.0107 - Accuracy: 0.9965 - false_negatives: 7.0000 - false_positives: 7.0000 - true_negatives: 5984.0000 - true_positives: 1990.0000 - val_loss: 6.2953e-04 - val_Accuracy: 1.0000 - val_false_negatives: 0.0000e+00 - val_false_positives: 0.0000e+00 - val_true_negatives: 1521.0000 - val_true_positives: 507.0000\n",
            "Epoch 75/100\n",
            "63/63 [==============================] - 35s 550ms/step - loss: 0.0064 - Accuracy: 0.9975 - false_negatives: 5.0000 - false_positives: 4.0000 - true_negatives: 5987.0000 - true_positives: 1992.0000 - val_loss: 0.0045 - val_Accuracy: 0.9980 - val_false_negatives: 1.0000 - val_false_positives: 1.0000 - val_true_negatives: 1520.0000 - val_true_positives: 506.0000\n",
            "Epoch 76/100\n",
            "63/63 [==============================] - 35s 553ms/step - loss: 0.0041 - Accuracy: 0.9985 - false_negatives: 3.0000 - false_positives: 3.0000 - true_negatives: 5988.0000 - true_positives: 1994.0000 - val_loss: 0.0024 - val_Accuracy: 1.0000 - val_false_negatives: 0.0000e+00 - val_false_positives: 0.0000e+00 - val_true_negatives: 1521.0000 - val_true_positives: 507.0000\n",
            "Epoch 77/100\n",
            "63/63 [==============================] - 35s 550ms/step - loss: 0.0037 - Accuracy: 0.9995 - false_negatives: 1.0000 - false_positives: 1.0000 - true_negatives: 5990.0000 - true_positives: 1996.0000 - val_loss: 0.0016 - val_Accuracy: 1.0000 - val_false_negatives: 0.0000e+00 - val_false_positives: 0.0000e+00 - val_true_negatives: 1521.0000 - val_true_positives: 507.0000\n",
            "Epoch 78/100\n",
            "63/63 [==============================] - 35s 554ms/step - loss: 0.0074 - Accuracy: 0.9980 - false_negatives: 4.0000 - false_positives: 4.0000 - true_negatives: 5987.0000 - true_positives: 1993.0000 - val_loss: 0.0360 - val_Accuracy: 0.9842 - val_false_negatives: 8.0000 - val_false_positives: 8.0000 - val_true_negatives: 1513.0000 - val_true_positives: 499.0000\n",
            "Epoch 79/100\n",
            "63/63 [==============================] - 35s 550ms/step - loss: 0.0403 - Accuracy: 0.9890 - false_negatives: 22.0000 - false_positives: 22.0000 - true_negatives: 5969.0000 - true_positives: 1975.0000 - val_loss: 0.0023 - val_Accuracy: 1.0000 - val_false_negatives: 0.0000e+00 - val_false_positives: 0.0000e+00 - val_true_negatives: 1521.0000 - val_true_positives: 507.0000\n",
            "Epoch 80/100\n",
            "63/63 [==============================] - 35s 552ms/step - loss: 0.0109 - Accuracy: 0.9960 - false_negatives: 8.0000 - false_positives: 8.0000 - true_negatives: 5983.0000 - true_positives: 1989.0000 - val_loss: 0.0023 - val_Accuracy: 1.0000 - val_false_negatives: 0.0000e+00 - val_false_positives: 0.0000e+00 - val_true_negatives: 1521.0000 - val_true_positives: 507.0000\n",
            "Epoch 81/100\n",
            "63/63 [==============================] - 35s 552ms/step - loss: 0.0033 - Accuracy: 0.9995 - false_negatives: 1.0000 - false_positives: 1.0000 - true_negatives: 5990.0000 - true_positives: 1996.0000 - val_loss: 0.0012 - val_Accuracy: 1.0000 - val_false_negatives: 0.0000e+00 - val_false_positives: 0.0000e+00 - val_true_negatives: 1521.0000 - val_true_positives: 507.0000\n",
            "Epoch 82/100\n",
            "63/63 [==============================] - 35s 550ms/step - loss: 0.0591 - Accuracy: 0.9825 - false_negatives: 35.0000 - false_positives: 34.0000 - true_negatives: 5957.0000 - true_positives: 1962.0000 - val_loss: 0.2137 - val_Accuracy: 0.9290 - val_false_negatives: 37.0000 - val_false_positives: 34.0000 - val_true_negatives: 1487.0000 - val_true_positives: 470.0000\n",
            "Epoch 83/100\n",
            "63/63 [==============================] - 35s 556ms/step - loss: 0.0592 - Accuracy: 0.9815 - false_negatives: 42.0000 - false_positives: 32.0000 - true_negatives: 5959.0000 - true_positives: 1955.0000 - val_loss: 0.0068 - val_Accuracy: 0.9961 - val_false_negatives: 2.0000 - val_false_positives: 2.0000 - val_true_negatives: 1519.0000 - val_true_positives: 505.0000\n",
            "Epoch 84/100\n",
            "63/63 [==============================] - 35s 553ms/step - loss: 0.0054 - Accuracy: 0.9975 - false_negatives: 5.0000 - false_positives: 4.0000 - true_negatives: 5987.0000 - true_positives: 1992.0000 - val_loss: 0.0050 - val_Accuracy: 0.9980 - val_false_negatives: 1.0000 - val_false_positives: 1.0000 - val_true_negatives: 1520.0000 - val_true_positives: 506.0000\n",
            "Epoch 85/100\n",
            "63/63 [==============================] - 35s 551ms/step - loss: 0.0200 - Accuracy: 0.9940 - false_negatives: 12.0000 - false_positives: 11.0000 - true_negatives: 5980.0000 - true_positives: 1985.0000 - val_loss: 0.0079 - val_Accuracy: 1.0000 - val_false_negatives: 0.0000e+00 - val_false_positives: 0.0000e+00 - val_true_negatives: 1521.0000 - val_true_positives: 507.0000\n",
            "Epoch 86/100\n",
            "63/63 [==============================] - 36s 561ms/step - loss: 0.0200 - Accuracy: 0.9935 - false_negatives: 13.0000 - false_positives: 13.0000 - true_negatives: 5978.0000 - true_positives: 1984.0000 - val_loss: 0.0043 - val_Accuracy: 0.9980 - val_false_negatives: 1.0000 - val_false_positives: 1.0000 - val_true_negatives: 1520.0000 - val_true_positives: 506.0000\n",
            "Epoch 87/100\n",
            "63/63 [==============================] - 35s 555ms/step - loss: 0.0089 - Accuracy: 0.9980 - false_negatives: 4.0000 - false_positives: 4.0000 - true_negatives: 5987.0000 - true_positives: 1993.0000 - val_loss: 0.0090 - val_Accuracy: 0.9961 - val_false_negatives: 2.0000 - val_false_positives: 2.0000 - val_true_negatives: 1519.0000 - val_true_positives: 505.0000\n",
            "Epoch 88/100\n",
            "63/63 [==============================] - 35s 554ms/step - loss: 0.0045 - Accuracy: 0.9995 - false_negatives: 1.0000 - false_positives: 1.0000 - true_negatives: 5990.0000 - true_positives: 1996.0000 - val_loss: 0.0052 - val_Accuracy: 0.9980 - val_false_negatives: 1.0000 - val_false_positives: 1.0000 - val_true_negatives: 1520.0000 - val_true_positives: 506.0000\n",
            "Epoch 89/100\n",
            "63/63 [==============================] - 35s 559ms/step - loss: 0.0267 - Accuracy: 0.9885 - false_negatives: 23.0000 - false_positives: 23.0000 - true_negatives: 5968.0000 - true_positives: 1974.0000 - val_loss: 0.0047 - val_Accuracy: 0.9980 - val_false_negatives: 1.0000 - val_false_positives: 1.0000 - val_true_negatives: 1520.0000 - val_true_positives: 506.0000\n",
            "Epoch 90/100\n",
            "63/63 [==============================] - 35s 559ms/step - loss: 0.0121 - Accuracy: 0.9955 - false_negatives: 9.0000 - false_positives: 9.0000 - true_negatives: 5982.0000 - true_positives: 1988.0000 - val_loss: 0.0075 - val_Accuracy: 0.9980 - val_false_negatives: 1.0000 - val_false_positives: 1.0000 - val_true_negatives: 1520.0000 - val_true_positives: 506.0000\n",
            "Epoch 91/100\n",
            "63/63 [==============================] - 35s 553ms/step - loss: 0.0041 - Accuracy: 0.9990 - false_negatives: 2.0000 - false_positives: 2.0000 - true_negatives: 5989.0000 - true_positives: 1995.0000 - val_loss: 0.0082 - val_Accuracy: 0.9921 - val_false_negatives: 4.0000 - val_false_positives: 4.0000 - val_true_negatives: 1517.0000 - val_true_positives: 503.0000\n",
            "Epoch 92/100\n",
            "63/63 [==============================] - 35s 556ms/step - loss: 0.0117 - Accuracy: 0.9960 - false_negatives: 8.0000 - false_positives: 8.0000 - true_negatives: 5983.0000 - true_positives: 1989.0000 - val_loss: 0.0015 - val_Accuracy: 1.0000 - val_false_negatives: 0.0000e+00 - val_false_positives: 0.0000e+00 - val_true_negatives: 1521.0000 - val_true_positives: 507.0000\n",
            "Epoch 93/100\n",
            "63/63 [==============================] - 35s 555ms/step - loss: 0.0686 - Accuracy: 0.9765 - false_negatives: 48.0000 - false_positives: 47.0000 - true_negatives: 5944.0000 - true_positives: 1949.0000 - val_loss: 0.0196 - val_Accuracy: 0.9941 - val_false_negatives: 3.0000 - val_false_positives: 3.0000 - val_true_negatives: 1518.0000 - val_true_positives: 504.0000\n",
            "Epoch 94/100\n",
            "63/63 [==============================] - 35s 558ms/step - loss: 0.0248 - Accuracy: 0.9915 - false_negatives: 17.0000 - false_positives: 17.0000 - true_negatives: 5974.0000 - true_positives: 1980.0000 - val_loss: 0.0047 - val_Accuracy: 0.9980 - val_false_negatives: 1.0000 - val_false_positives: 1.0000 - val_true_negatives: 1520.0000 - val_true_positives: 506.0000\n",
            "Epoch 95/100\n",
            "63/63 [==============================] - 35s 551ms/step - loss: 0.0072 - Accuracy: 0.9970 - false_negatives: 6.0000 - false_positives: 6.0000 - true_negatives: 5985.0000 - true_positives: 1991.0000 - val_loss: 0.0044 - val_Accuracy: 0.9980 - val_false_negatives: 1.0000 - val_false_positives: 1.0000 - val_true_negatives: 1520.0000 - val_true_positives: 506.0000\n",
            "Epoch 96/100\n",
            "63/63 [==============================] - 35s 556ms/step - loss: 0.0121 - Accuracy: 0.9965 - false_negatives: 7.0000 - false_positives: 7.0000 - true_negatives: 5984.0000 - true_positives: 1990.0000 - val_loss: 6.1839e-04 - val_Accuracy: 1.0000 - val_false_negatives: 0.0000e+00 - val_false_positives: 0.0000e+00 - val_true_negatives: 1521.0000 - val_true_positives: 507.0000\n",
            "Epoch 97/100\n",
            "63/63 [==============================] - 35s 553ms/step - loss: 0.0347 - Accuracy: 0.9890 - false_negatives: 22.0000 - false_positives: 22.0000 - true_negatives: 5969.0000 - true_positives: 1975.0000 - val_loss: 0.0355 - val_Accuracy: 0.9882 - val_false_negatives: 6.0000 - val_false_positives: 5.0000 - val_true_negatives: 1516.0000 - val_true_positives: 501.0000\n",
            "Epoch 98/100\n",
            "63/63 [==============================] - 35s 552ms/step - loss: 0.0229 - Accuracy: 0.9915 - false_negatives: 17.0000 - false_positives: 17.0000 - true_negatives: 5974.0000 - true_positives: 1980.0000 - val_loss: 0.0073 - val_Accuracy: 0.9980 - val_false_negatives: 2.0000 - val_false_positives: 1.0000 - val_true_negatives: 1520.0000 - val_true_positives: 505.0000\n",
            "Epoch 99/100\n",
            "63/63 [==============================] - 35s 556ms/step - loss: 0.0036 - Accuracy: 0.9995 - false_negatives: 1.0000 - false_positives: 1.0000 - true_negatives: 5990.0000 - true_positives: 1996.0000 - val_loss: 8.8118e-04 - val_Accuracy: 1.0000 - val_false_negatives: 0.0000e+00 - val_false_positives: 0.0000e+00 - val_true_negatives: 1521.0000 - val_true_positives: 507.0000\n",
            "Epoch 100/100\n",
            "63/63 [==============================] - 35s 554ms/step - loss: 0.0264 - Accuracy: 0.9915 - false_negatives: 17.0000 - false_positives: 16.0000 - true_negatives: 5975.0000 - true_positives: 1980.0000 - val_loss: 0.0134 - val_Accuracy: 0.9961 - val_false_negatives: 2.0000 - val_false_positives: 2.0000 - val_true_negatives: 1519.0000 - val_true_positives: 505.0000\n"
          ]
        }
      ]
    },
    {
      "cell_type": "markdown",
      "source": [
        "Plotting Traning Result"
      ],
      "metadata": {
        "id": "XZSFG8fXqz7c"
      }
    },
    {
      "cell_type": "code",
      "source": [
        "  #plotting\n",
        "  epochs = range(1, len(history.history['loss'])+1)\n",
        "  plt.title(f\"Grafik loss training iterasi {iterasi}\")\n",
        "  plt.plot(epochs, history.history['loss'], 'r', label='Training Loss')\n",
        "  plt.plot(epochs, history.history['val_loss'], 'b', label='Validation Loss')    \n",
        "  plt.xlabel(\"Epoch\")\n",
        "  plt.ylabel(\"Loss\")\n",
        "  plt.legend()\n",
        "  plt.show()\n"
      ],
      "metadata": {
        "id": "3dXbDrJpY1NK",
        "colab": {
          "base_uri": "https://localhost:8080/",
          "height": 294
        },
        "outputId": "93643001-3f2f-427c-c30f-90b49811473a"
      },
      "execution_count": 10,
      "outputs": [
        {
          "output_type": "display_data",
          "data": {
            "image/png": "[encoded data removed]",
            "text/plain": [
              "<Figure size 432x288 with 1 Axes>"
            ]
          },
          "metadata": {
            "needs_background": "light"
          }
        }
      ]
    },
    {
      "cell_type": "code",
      "source": [
        "  #plotting\n",
        "  epochs = range(1, len(history.history['loss'])+1)\n",
        "  plt.title(f\"Grafik Akurasi training iterasi {iterasi}\")\n",
        "  plt.plot(epochs, history.history['Accuracy'], 'r', label='Training Accuracy')\n",
        "  plt.plot(epochs, history.history['val_Accuracy'], 'b', label='Validation Accuracy')    \n",
        "  plt.xlabel(\"Epoch\")\n",
        "  plt.ylabel(\"Accuracy\")\n",
        "  plt.legend()\n",
        "  plt.show()"
      ],
      "metadata": {
        "id": "j3xigprPwlSX",
        "colab": {
          "base_uri": "https://localhost:8080/",
          "height": 294
        },
        "outputId": "8eb00df5-f41c-4b7c-bd0b-c1be4dd6c3b0"
      },
      "execution_count": 11,
      "outputs": [
        {
          "output_type": "display_data",
          "data": {
            "image/png": "[encoded data removed]",
            "text/plain": [
              "<Figure size 432x288 with 1 Axes>"
            ]
          },
          "metadata": {
            "needs_background": "light"
          }
        }
      ]
    },
    {
      "cell_type": "markdown",
      "metadata": {
        "id": "bTgk1-sdzmgy"
      },
      "source": [
        "**Validating** Network"
      ]
    },
    {
      "cell_type": "code",
      "source": [
        "import matplotlib.pyplot as plt\n",
        "from sklearn.datasets import make_classification\n",
        "from numpy import mean\n",
        "from sklearn.metrics import confusion_matrix, ConfusionMatrixDisplay, accuracy_score, classification_report, recall_score\n",
        "\n",
        "validation = model.predict(np_image_list_validation)\n",
        "\n",
        "predicted_labels = []\n",
        "correct_labels = []\n",
        "for i in range (len(validation)):\n",
        "  predicted_labels.append(np.argmax(validation[i]))\n",
        "\n",
        "for i in range (len(image_labels_validation)):\n",
        "  correct_labels.append(np.argmax(image_labels_validation[i]))\n",
        "\n",
        "\n",
        "confusion_matrix = confusion_matrix(correct_labels, predicted_labels)\n",
        "disp = ConfusionMatrixDisplay(confusion_matrix=confusion_matrix)  \n",
        "disp.plot()\n",
        "plt.show()\n",
        "print('--------')\n",
        "FP = confusion_matrix.sum(axis=0) - np.diag(confusion_matrix)  \n",
        "FN = confusion_matrix.sum(axis=1) - np.diag(confusion_matrix)\n",
        "TP = np.diag(confusion_matrix)\n",
        "TN = confusion_matrix.sum() - (FP + FN + TP)\n",
        "\n",
        "# Sensitivity, hit rate, recall, or true positive rate\n",
        "TPR = TP/(TP+FN)\n",
        "# Specificity or true negative rate\n",
        "TNR = TN/(TN+FP) \n",
        "# Overall accuracy\n",
        "ACC = (TP+TN)/(TP+FP+FN+TN)\n",
        "\n",
        "print(TP)\n",
        "print(TN)\n",
        "print(FP)\n",
        "print(FN)\n",
        "print('--------')\n",
        "print(ACC)\n",
        "print(TPR)\n",
        "print(TNR)\n",
        "print('--------')\n",
        "\n",
        "TP = sum(TP)\n",
        "TN = sum(TN)\n",
        "FP = sum(FP)\n",
        "FN = sum(FN)\n",
        "\n",
        "# Sensitivity, hit rate, recall, or true positive rate\n",
        "TPR = TP/(TP+FN)\n",
        "# Specificity or true negative rate\n",
        "TNR = TN/(TN+FP) \n",
        "# Overall accuracy\n",
        "ACC = (TP+TN)/(TP+FP+FN+TN)\n",
        "\n",
        "print(TP)\n",
        "print(TN)\n",
        "print(FP)\n",
        "print(FN)\n",
        "print('--------')\n",
        "print(ACC)\n",
        "print(TPR)\n",
        "print(TNR)\n"
      ],
      "metadata": {
        "id": "z9NBaYvZ61d7",
        "colab": {
          "base_uri": "https://localhost:8080/",
          "height": 611
        },
        "outputId": "86cfbb16-87ea-4f6e-a1a5-764d24ce8ae3"
      },
      "execution_count": 12,
      "outputs": [
        {
          "output_type": "display_data",
          "data": {
            "image/png": "[encoded data removed]",
            "text/plain": [
              "<Figure size 432x288 with 2 Axes>"
            ]
          },
          "metadata": {
            "needs_background": "light"
          }
        },
        {
          "output_type": "stream",
          "name": "stdout",
          "text": [
            "--------\n",
            "[100  99  43 263]\n",
            "[406 407 463 243]\n",
            "[0 1 0 1]\n",
            "[1 0 1 0]\n",
            "--------\n",
            "[0.99802761 0.99802761 0.99802761 0.99802761]\n",
            "[0.99009901 1.         0.97727273 1.        ]\n",
            "[1.         0.99754902 1.         0.99590164]\n",
            "--------\n",
            "505\n",
            "1519\n",
            "2\n",
            "2\n",
            "--------\n",
            "0.9980276134122288\n",
            "0.9960552268244576\n",
            "0.9986850756081526\n"
          ]
        }
      ]
    },
    {
      "cell_type": "markdown",
      "source": [
        "**Testing** Network"
      ],
      "metadata": {
        "id": "saJYjKqX9tRL"
      }
    },
    {
      "cell_type": "code",
      "source": [
        "import matplotlib.pyplot as plt\n",
        "from sklearn.datasets import make_classification\n",
        "from numpy import mean\n",
        "from sklearn.metrics import confusion_matrix, ConfusionMatrixDisplay, accuracy_score, classification_report, recall_score\n",
        "\n",
        "test = model.predict(np_image_list_test)\n",
        "\n",
        "predicted_labels = []\n",
        "correct_labels = []\n",
        "for i in range (len(test)):\n",
        "  predicted_labels.append(np.argmax(test[i]))\n",
        "\n",
        "for i in range (len(image_labels_test)):\n",
        "  correct_labels.append(np.argmax(image_labels_test[i]))\n",
        "\n",
        "\n",
        "confusion_matrix = confusion_matrix(correct_labels, predicted_labels)\n",
        "disp = ConfusionMatrixDisplay(confusion_matrix=confusion_matrix)  \n",
        "disp.plot()\n",
        "plt.show()\n",
        "print('--------')\n",
        "FP = confusion_matrix.sum(axis=0) - np.diag(confusion_matrix)  \n",
        "FN = confusion_matrix.sum(axis=1) - np.diag(confusion_matrix)\n",
        "TP = np.diag(confusion_matrix)\n",
        "TN = confusion_matrix.sum() - (FP + FN + TP)\n",
        "\n",
        "# Sensitivity, hit rate, recall, or true positive rate\n",
        "TPR = TP/(TP+FN)\n",
        "# Specificity or true negative rate\n",
        "TNR = TN/(TN+FP) \n",
        "# Overall accuracy\n",
        "ACC = (TP+TN)/(TP+FP+FN+TN)\n",
        "\n",
        "print(TP)\n",
        "print(TN)\n",
        "print(FP)\n",
        "print(FN)\n",
        "print('--------')\n",
        "print(ACC)\n",
        "print(TPR)\n",
        "print(TNR)\n",
        "print('--------')\n",
        "\n",
        "TP = sum(TP)\n",
        "TN = sum(TN)\n",
        "FP = sum(FP)\n",
        "FN = sum(FN)\n",
        "\n",
        "# Sensitivity, hit rate, recall, or true positive rate\n",
        "TPR = TP/(TP+FN)\n",
        "# Specificity or true negative rate\n",
        "TNR = TN/(TN+FP) \n",
        "# Overall accuracy\n",
        "ACC = (TP+TN)/(TP+FP+FN+TN)\n",
        "\n",
        "print(TP)\n",
        "print(TN)\n",
        "print(FP)\n",
        "print(FN)\n",
        "print('--------')\n",
        "print(ACC)\n",
        "print(TPR)\n",
        "print(TNR)"
      ],
      "metadata": {
        "id": "3a1AYdsF4FoY",
        "colab": {
          "base_uri": "https://localhost:8080/",
          "height": 611
        },
        "outputId": "6b0f662c-526c-4e96-8bed-d5e97b90241b"
      },
      "execution_count": 13,
      "outputs": [
        {
          "output_type": "display_data",
          "data": {
            "image/png": "[encoded data removed]",
            "text/plain": [
              "<Figure size 432x288 with 2 Axes>"
            ]
          },
          "metadata": {
            "needs_background": "light"
          }
        },
        {
          "output_type": "stream",
          "name": "stdout",
          "text": [
            "--------\n",
            "[120 124  51 329]\n",
            "[508 506 579 299]\n",
            "[0 4 0 6]\n",
            "[6 0 4 0]\n",
            "--------\n",
            "[0.99053628 0.99369085 0.99369085 0.99053628]\n",
            "[0.95238095 1.         0.92727273 1.        ]\n",
            "[1.         0.99215686 1.         0.98032787]\n",
            "--------\n",
            "624\n",
            "1892\n",
            "10\n",
            "10\n",
            "--------\n",
            "0.9921135646687698\n",
            "0.9842271293375394\n",
            "0.9947423764458465\n"
          ]
        }
      ]
    },
    {
      "cell_type": "code",
      "metadata": {
        "id": "AKd6Tu7mzmg2"
      },
      "source": [
        "# save the model to disk\n",
        "#print(\"[INFO] Saving model...\")\n",
        "# pickle.dump(model,open('cnn_model.pkl', 'wb'))\n",
        "model.save('/content/vgg16.h5')    "
      ],
      "execution_count": 16,
      "outputs": []
    },
    {
      "cell_type": "code",
      "metadata": {
        "id": "O6iIKa7Jzmg7"
      },
      "source": [
        "#test_img = cv2.imread('/content/datasets/Apple/Apple___Black_rot/0139bc6d-391c-4fd1-bcae-cc74dabfddd7___JR_FrgE.S 2734.JPG')\n",
        "\n",
        "#plt.imshow(test_img)\n",
        "#test_img = test_img / 255\n",
        "#test_img = np.expand_dims(test_img, axis=0)\n",
        "#pr=model.predict(test_img)\n",
        "\n",
        "#print(pr)\n",
        "#output = label_binarizer.inverse_transform(pr)\n",
        "#print(output)\n"
      ],
      "execution_count": 15,
      "outputs": []
    }
  ]
}