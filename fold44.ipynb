{
  "nbformat": 4,
  "nbformat_minor": 0,
  "metadata": {
    "accelerator": "GPU",
    "colab": {
      "name": "Kodingan Skripsi 3",
      "provenance": [],
      "collapsed_sections": [],
      "include_colab_link": true
    },
    "kernelspec": {
      "display_name": "Python 3",
      "language": "python",
      "name": "python3"
    },
    "language_info": {
      "codemirror_mode": {
        "name": "ipython",
        "version": 3
      },
      "file_extension": ".py",
      "mimetype": "text/x-python",
      "name": "python",
      "nbconvert_exporter": "python",
      "pygments_lexer": "ipython3",
      "version": "3.6.6"
    }
  },
  "cells": [
    {
      "cell_type": "markdown",
      "metadata": {
        "id": "view-in-github",
        "colab_type": "text"
      },
      "source": [
        "<a href=\"https://colab.research.google.com/github/TaufiqIdrus/Aplikasi-Pendeteksi-Mobil-master/blob/master/fold44.ipynb\" target=\"_parent\"><img src=\"https://colab.research.google.com/assets/colab-badge.svg\" alt=\"Open In Colab\"/></a>"
      ]
    },
    {
      "cell_type": "markdown",
      "metadata": {
        "id": "yJT_kQA2lITS"
      },
      "source": [
        "**Identifikasi Penyakit Pada Tanaman Apel menggunakan Convolutional Neural Network**"
      ]
    },
    {
      "cell_type": "code",
      "metadata": {
        "id": "xXeOaYTUzmgT"
      },
      "source": [
        "import numpy as np\n",
        "import pickle\n",
        "import os\n",
        "import cv2\n",
        "import tensorflow as tf\n",
        "import keras\n",
        "from os import listdir\n",
        "from sklearn.preprocessing import LabelBinarizer\n",
        "from sklearn.model_selection import KFold\n",
        "from keras.models import Sequential\n",
        "from keras.layers.normalization import batch_normalization\n",
        "from keras.layers.convolutional import Conv2D\n",
        "from keras.layers.convolutional import MaxPooling2D\n",
        "from keras.layers.core import Activation, Flatten, Dropout, Dense\n",
        "from keras import backend as K\n",
        "from tensorflow.keras.optimizers import Adam\n",
        "from keras.preprocessing import image\n",
        "from sklearn.preprocessing import MultiLabelBinarizer\n",
        "from sklearn.model_selection import train_test_split\n",
        "import matplotlib.pyplot as plt\n",
        "from sklearn.datasets import make_classification\n",
        "from numpy import mean\n",
        "from sklearn.metrics import confusion_matrix, ConfusionMatrixDisplay, accuracy_score, classification_report, recall_score\n"
      ],
      "execution_count": 1,
      "outputs": []
    },
    {
      "cell_type": "markdown",
      "metadata": {
        "id": "fp8C0d28lQok"
      },
      "source": [
        "Importing and Preparing Dataset"
      ]
    },
    {
      "cell_type": "code",
      "metadata": {
        "id": "_0xehllADlUs",
        "colab": {
          "base_uri": "https://localhost:8080/"
        },
        "outputId": "ad183d16-fc40-4ac7-e0c6-99f0d8f85256"
      },
      "source": [
        "!pip install pyunpack\n",
        "!pip install patool\n",
        "from pyunpack import Archive\n",
        "Archive('/content/fold4.rar').extractall('/content/Datasets/')\n",
        "iterasi = 4\n",
        "width=256\n",
        "height=256\n",
        "default_image_size = tuple((height, width))\n",
        "directory_root_train = '/content/Datasets/fold4/Train'\n",
        "directory_root_validation = '/content/Datasets/fold4/Validation'\n",
        "directory_root_test = '/content/Datasets/fold4/Test'\n",
        "image_size = 0\n",
        "depth=3"
      ],
      "execution_count": 2,
      "outputs": [
        {
          "output_type": "stream",
          "name": "stdout",
          "text": [
            "Collecting pyunpack\n",
            "  Downloading pyunpack-0.2.2-py2.py3-none-any.whl (3.8 kB)\n",
            "Collecting easyprocess\n",
            "  Downloading EasyProcess-1.1-py3-none-any.whl (8.7 kB)\n",
            "Collecting entrypoint2\n",
            "  Downloading entrypoint2-1.0-py3-none-any.whl (9.8 kB)\n",
            "Installing collected packages: entrypoint2, easyprocess, pyunpack\n",
            "Successfully installed easyprocess-1.1 entrypoint2-1.0 pyunpack-0.2.2\n",
            "Collecting patool\n",
            "  Downloading patool-1.12-py2.py3-none-any.whl (77 kB)\n",
            "\u001b[K     |████████████████████████████████| 77 kB 6.7 MB/s \n",
            "\u001b[?25hInstalling collected packages: patool\n",
            "Successfully installed patool-1.12\n"
          ]
        }
      ]
    },
    {
      "cell_type": "code",
      "metadata": {
        "id": "KbAwJJTpzmge"
      },
      "source": [
        "def convert_image_to_array(image_dir):\n",
        "    try:\n",
        "        image = cv2.imread(image_dir)\n",
        "        if image is not None :\n",
        "            image = cv2.resize(image, default_image_size)   \n",
        "            return keras.preprocessing.image.img_to_array(image)\n",
        "        else :\n",
        "            return np.array([])\n",
        "    except Exception as e:\n",
        "        print(f\"Error : {e}\")\n",
        "        return None"
      ],
      "execution_count": 3,
      "outputs": []
    },
    {
      "cell_type": "markdown",
      "source": [
        "Converting **Training** Data to Array"
      ],
      "metadata": {
        "id": "bgXxUMO2cI_D"
      }
    },
    {
      "cell_type": "code",
      "metadata": {
        "id": "Erz6IjKXzmgg",
        "colab": {
          "base_uri": "https://localhost:8080/"
        },
        "outputId": "4c46195c-eb1b-4df6-9b2f-ac480bb8f0ff"
      },
      "source": [
        "image_list_train, label_list_train = [], []\n",
        "try:\n",
        "    print(\"[INFO] Loading images ...\")\n",
        "    root_dir = listdir(directory_root_train)\n",
        "\n",
        "    for plant_disease_folder in root_dir:\n",
        "        print(f\"[INFO] Processing {plant_disease_folder} ...\")\n",
        "        plant_disease_image_list = listdir(f\"{directory_root_train}/{plant_disease_folder}/\")\n",
        "      \n",
        "        for image in plant_disease_image_list:\n",
        "            image_directory = f\"{directory_root_train}/{plant_disease_folder}/{image}\"\n",
        "\n",
        "            if image_directory.endswith(\".jpg\") == True or image_directory.endswith(\".JPG\") == True:\n",
        "                image_list_train.append(convert_image_to_array(image_directory))\n",
        "                label_list_train.append(plant_disease_folder)\n",
        "    print(\"[INFO] Image loading completed\")\n",
        "\n",
        "except Exception as e:\n",
        "    print(f\"Error : {e}\")\n",
        "\n",
        "#image labeling\n",
        "image_size = len(image_list_train)\n",
        "label_binarizer = LabelBinarizer()\n",
        "image_labels_train = label_binarizer.fit_transform(label_list_train)\n",
        "pickle.dump(label_binarizer,open('label_transform_train.pkl', 'wb'))\n",
        "n_classes = len(label_binarizer.classes_)\n",
        "np_image_list_train = np.array(image_list_train, dtype=np.float16) / 255.0"
      ],
      "execution_count": 4,
      "outputs": [
        {
          "output_type": "stream",
          "name": "stdout",
          "text": [
            "[INFO] Loading images ...\n",
            "[INFO] Processing Healthy ...\n",
            "[INFO] Processing Diseased ...\n",
            "[INFO] Image loading completed\n"
          ]
        }
      ]
    },
    {
      "cell_type": "markdown",
      "source": [
        "Converting **Validation** Data to Array"
      ],
      "metadata": {
        "id": "7eEMGiqRd_E4"
      }
    },
    {
      "cell_type": "code",
      "source": [
        "image_list_validation, label_list_validation = [], []\n",
        "try:\n",
        "    print(\"[INFO] Loading images ...\")\n",
        "    root_dir = listdir(directory_root_validation)\n",
        "\n",
        "    for plant_disease_folder in root_dir:\n",
        "        print(f\"[INFO] Processing {plant_disease_folder} ...\")\n",
        "        plant_disease_image_list = listdir(f\"{directory_root_validation}/{plant_disease_folder}/\")\n",
        "      \n",
        "        for image in plant_disease_image_list:\n",
        "            image_directory = f\"{directory_root_validation}/{plant_disease_folder}/{image}\"\n",
        "\n",
        "            if image_directory.endswith(\".jpg\") == True or image_directory.endswith(\".JPG\") == True:\n",
        "                image_list_validation.append(convert_image_to_array(image_directory))\n",
        "                label_list_validation.append(plant_disease_folder)\n",
        "    print(\"[INFO] Image loading completed\")\n",
        "\n",
        "except Exception as e:\n",
        "    print(f\"Error : {e}\")\n",
        "\n",
        "#image labeling\n",
        "image_size = len(image_list_validation)\n",
        "label_binarizer = LabelBinarizer()\n",
        "image_labels_validation = label_binarizer.fit_transform(label_list_validation)\n",
        "pickle.dump(label_binarizer,open('label_transform_validation.pkl', 'wb'))\n",
        "n_classes = len(label_binarizer.classes_)\n",
        "np_image_list_validation = np.array(image_list_validation, dtype=np.float16) / 255.0"
      ],
      "metadata": {
        "id": "wfHDdR0ZeEuU",
        "colab": {
          "base_uri": "https://localhost:8080/"
        },
        "outputId": "2b7668c2-e342-451e-a59d-70f00f335db0"
      },
      "execution_count": 5,
      "outputs": [
        {
          "output_type": "stream",
          "name": "stdout",
          "text": [
            "[INFO] Loading images ...\n",
            "[INFO] Processing Healthy ...\n",
            "[INFO] Processing Diseased ...\n",
            "[INFO] Image loading completed\n"
          ]
        }
      ]
    },
    {
      "cell_type": "markdown",
      "source": [
        "Converting **Testing** Data to Array"
      ],
      "metadata": {
        "id": "brwWyZVncTdg"
      }
    },
    {
      "cell_type": "code",
      "metadata": {
        "id": "uNPby5UMcaWY",
        "colab": {
          "base_uri": "https://localhost:8080/"
        },
        "outputId": "d105f88d-14ab-4e1f-8556-594ed6135251"
      },
      "source": [
        "image_list_test, label_list_test = [], []\n",
        "try:\n",
        "    print(\"[INFO] Loading images ...\")\n",
        "    root_dir = listdir(directory_root_test)\n",
        "\n",
        "    for plant_disease_folder in root_dir:\n",
        "        print(f\"[INFO] Processing {plant_disease_folder} ...\")\n",
        "        plant_disease_image_list = listdir(f\"{directory_root_test}/{plant_disease_folder}/\")\n",
        "      \n",
        "        for image in plant_disease_image_list:\n",
        "            image_directory = f\"{directory_root_test}/{plant_disease_folder}/{image}\"\n",
        "\n",
        "            if image_directory.endswith(\".jpg\") == True or image_directory.endswith(\".JPG\") == True:\n",
        "                image_list_test.append(convert_image_to_array(image_directory))\n",
        "                label_list_test.append(plant_disease_folder)\n",
        "    print(\"[INFO] Image loading completed\")\n",
        "\n",
        "except Exception as e:\n",
        "    print(f\"Error : {e}\")\n",
        "\n",
        "#image labeling\n",
        "image_size = len(image_list_test)\n",
        "label_binarizer = LabelBinarizer()\n",
        "image_labels_test = label_binarizer.fit_transform(label_list_test)\n",
        "pickle.dump(label_binarizer,open('label_transform_test.pkl', 'wb'))\n",
        "n_classes = len(label_binarizer.classes_)\n",
        "np_image_list_test = np.array(image_list_test, dtype=np.float16) / 255.0"
      ],
      "execution_count": 6,
      "outputs": [
        {
          "output_type": "stream",
          "name": "stdout",
          "text": [
            "[INFO] Loading images ...\n",
            "[INFO] Processing Healthy ...\n",
            "[INFO] Processing Diseased ...\n",
            "[INFO] Image loading completed\n"
          ]
        }
      ]
    },
    {
      "cell_type": "markdown",
      "metadata": {
        "id": "jYBTFN0CnAi7"
      },
      "source": [
        "Data Augmenting Initialization"
      ]
    },
    {
      "cell_type": "code",
      "metadata": {
        "id": "TLMxMK2Tzmgr"
      },
      "source": [
        "aug = keras.preprocessing.image.ImageDataGenerator(\n",
        "    rotation_range=25, \n",
        "    width_shift_range=0.1,\n",
        "    height_shift_range=0.1, \n",
        "    shear_range=0.2, \n",
        "    zoom_range=0.2,\n",
        "    horizontal_flip=True, \n",
        "    fill_mode=\"nearest\")"
      ],
      "execution_count": 7,
      "outputs": []
    },
    {
      "cell_type": "markdown",
      "metadata": {
        "id": "H1BfRyYNnGv_"
      },
      "source": [
        "Creating CNN Model"
      ]
    },
    {
      "cell_type": "code",
      "metadata": {
        "id": "WmLX4wm8zmgs"
      },
      "source": [
        "model = keras.models.Sequential()\n",
        "inputShape = (height, width, depth)\n",
        "\n",
        "model.add(Conv2D(32, (3, 3), padding=\"same\",input_shape=inputShape))\n",
        "model.add(Activation(\"relu\"))\n",
        "\n",
        "model.add(MaxPooling2D(pool_size=(3, 3)))\n",
        "\n",
        "model.add(Conv2D(64, (3, 3), padding=\"same\"))\n",
        "model.add(Activation(\"relu\"))\n",
        "\n",
        "model.add(MaxPooling2D(pool_size=(3, 3)))\n",
        "\n",
        "model.add(Flatten())\n",
        "\n",
        "model.add(Dense(1024))\n",
        "model.add(Activation(\"relu\"))\n",
        "\n",
        "model.add(Dense(1))\n",
        "model.add(Activation(\"sigmoid\"))"
      ],
      "execution_count": 8,
      "outputs": []
    },
    {
      "cell_type": "code",
      "source": [
        "#model.summary()"
      ],
      "metadata": {
        "id": "RQIgaph8hW06"
      },
      "execution_count": 9,
      "outputs": []
    },
    {
      "cell_type": "code",
      "source": [
        "#from PIL import Image\n",
        "#from keras.utils.vis_utils import plot_model\n",
        "#plot_model(model, to_file='cnn_model.png', show_shapes=True, show_layer_names=True)\n",
        "#display(Image.open('cnn_model.png'))"
      ],
      "metadata": {
        "id": "T05gPuu1GudW"
      },
      "execution_count": 10,
      "outputs": []
    },
    {
      "cell_type": "markdown",
      "metadata": {
        "id": "Zfsu3lVfnXFG"
      },
      "source": [
        "**Training** Network"
      ]
    },
    {
      "cell_type": "code",
      "metadata": {
        "id": "rvwKwe3Lzmgv",
        "colab": {
          "base_uri": "https://localhost:8080/"
        },
        "outputId": "b8d1d36d-050b-455c-a29d-2408b9f43167"
      },
      "source": [
        "EPOCHS = 100\n",
        "INIT_LR = 1e-3\n",
        "BS = 32\n",
        "\n",
        "with tf.device('/GPU:0'):\n",
        "  opt = Adam(learning_rate=INIT_LR, decay=INIT_LR / EPOCHS)\n",
        "  model.compile(loss=\"binary_crossentropy\", optimizer=opt,metrics=[\"Accuracy\", \"FalseNegatives\", \"FalsePositives\", \"TrueNegatives\", \"TruePositives\"])\n",
        "  \n",
        "  history = model.fit(\n",
        "      aug.flow(np_image_list_train, image_labels_train, batch_size=BS),\n",
        "      validation_data=(np_image_list_validation, image_labels_validation),\n",
        "      steps_per_epoch=len(np_image_list_train) // BS,\n",
        "      epochs=EPOCHS, \n",
        "      verbose=1,\n",
        "      )\n"
      ],
      "execution_count": 11,
      "outputs": [
        {
          "output_type": "stream",
          "name": "stdout",
          "text": [
            "Epoch 1/100\n",
            "9/9 [==============================] - 20s 459ms/step - loss: 1.8659 - Accuracy: 0.4792 - false_negatives: 113.0000 - false_positives: 37.0000 - true_negatives: 117.0000 - true_positives: 21.0000 - val_loss: 0.6963 - val_Accuracy: 0.5556 - val_false_negatives: 30.0000 - val_false_positives: 2.0000 - val_true_negatives: 36.0000 - val_true_positives: 4.0000\n",
            "Epoch 2/100\n",
            "9/9 [==============================] - 4s 417ms/step - loss: 0.6988 - Accuracy: 0.4688 - false_negatives: 17.0000 - false_positives: 136.0000 - true_negatives: 18.0000 - true_positives: 117.0000 - val_loss: 0.6915 - val_Accuracy: 0.5972 - val_false_negatives: 21.0000 - val_false_positives: 8.0000 - val_true_negatives: 30.0000 - val_true_positives: 13.0000\n",
            "Epoch 3/100\n",
            "9/9 [==============================] - 4s 409ms/step - loss: 0.6844 - Accuracy: 0.5278 - false_negatives: 130.0000 - false_positives: 6.0000 - true_negatives: 148.0000 - true_positives: 4.0000 - val_loss: 0.6891 - val_Accuracy: 0.5278 - val_false_negatives: 34.0000 - val_false_positives: 0.0000e+00 - val_true_negatives: 38.0000 - val_true_positives: 0.0000e+00\n",
            "Epoch 4/100\n",
            "9/9 [==============================] - 4s 411ms/step - loss: 0.6644 - Accuracy: 0.5347 - false_negatives: 134.0000 - false_positives: 0.0000e+00 - true_negatives: 154.0000 - true_positives: 0.0000e+00 - val_loss: 0.6725 - val_Accuracy: 0.5278 - val_false_negatives: 34.0000 - val_false_positives: 0.0000e+00 - val_true_negatives: 38.0000 - val_true_positives: 0.0000e+00\n",
            "Epoch 5/100\n",
            "9/9 [==============================] - 4s 410ms/step - loss: 0.6258 - Accuracy: 0.6528 - false_negatives: 82.0000 - false_positives: 18.0000 - true_negatives: 136.0000 - true_positives: 52.0000 - val_loss: 0.6710 - val_Accuracy: 0.6528 - val_false_negatives: 19.0000 - val_false_positives: 6.0000 - val_true_negatives: 32.0000 - val_true_positives: 15.0000\n",
            "Epoch 6/100\n",
            "9/9 [==============================] - 4s 409ms/step - loss: 0.5851 - Accuracy: 0.7014 - false_negatives: 59.0000 - false_positives: 27.0000 - true_negatives: 127.0000 - true_positives: 75.0000 - val_loss: 0.8525 - val_Accuracy: 0.5833 - val_false_negatives: 28.0000 - val_false_positives: 2.0000 - val_true_negatives: 36.0000 - val_true_positives: 6.0000\n",
            "Epoch 7/100\n",
            "9/9 [==============================] - 4s 414ms/step - loss: 0.5756 - Accuracy: 0.6736 - false_negatives: 43.0000 - false_positives: 51.0000 - true_negatives: 103.0000 - true_positives: 91.0000 - val_loss: 0.9313 - val_Accuracy: 0.6250 - val_false_negatives: 25.0000 - val_false_positives: 2.0000 - val_true_negatives: 36.0000 - val_true_positives: 9.0000\n",
            "Epoch 8/100\n",
            "9/9 [==============================] - 4s 420ms/step - loss: 0.5714 - Accuracy: 0.6979 - false_negatives: 35.0000 - false_positives: 52.0000 - true_negatives: 102.0000 - true_positives: 99.0000 - val_loss: 0.8740 - val_Accuracy: 0.6528 - val_false_negatives: 21.0000 - val_false_positives: 4.0000 - val_true_negatives: 34.0000 - val_true_positives: 13.0000\n",
            "Epoch 9/100\n",
            "9/9 [==============================] - 4s 415ms/step - loss: 0.5388 - Accuracy: 0.7431 - false_negatives: 30.0000 - false_positives: 44.0000 - true_negatives: 110.0000 - true_positives: 104.0000 - val_loss: 1.0960 - val_Accuracy: 0.6667 - val_false_negatives: 22.0000 - val_false_positives: 2.0000 - val_true_negatives: 36.0000 - val_true_positives: 12.0000\n",
            "Epoch 10/100\n",
            "9/9 [==============================] - 4s 416ms/step - loss: 0.5240 - Accuracy: 0.7569 - false_negatives: 26.0000 - false_positives: 44.0000 - true_negatives: 110.0000 - true_positives: 108.0000 - val_loss: 0.6136 - val_Accuracy: 0.6944 - val_false_negatives: 14.0000 - val_false_positives: 8.0000 - val_true_negatives: 30.0000 - val_true_positives: 20.0000\n",
            "Epoch 11/100\n",
            "9/9 [==============================] - 4s 412ms/step - loss: 0.5205 - Accuracy: 0.7292 - false_negatives: 34.0000 - false_positives: 44.0000 - true_negatives: 110.0000 - true_positives: 100.0000 - val_loss: 0.5203 - val_Accuracy: 0.7639 - val_false_negatives: 9.0000 - val_false_positives: 8.0000 - val_true_negatives: 30.0000 - val_true_positives: 25.0000\n",
            "Epoch 12/100\n",
            "9/9 [==============================] - 4s 416ms/step - loss: 0.4400 - Accuracy: 0.8125 - false_negatives: 27.0000 - false_positives: 27.0000 - true_negatives: 127.0000 - true_positives: 107.0000 - val_loss: 0.6269 - val_Accuracy: 0.7361 - val_false_negatives: 12.0000 - val_false_positives: 7.0000 - val_true_negatives: 31.0000 - val_true_positives: 22.0000\n",
            "Epoch 13/100\n",
            "9/9 [==============================] - 4s 410ms/step - loss: 0.4257 - Accuracy: 0.8056 - false_negatives: 13.0000 - false_positives: 43.0000 - true_negatives: 111.0000 - true_positives: 121.0000 - val_loss: 0.5036 - val_Accuracy: 0.7778 - val_false_negatives: 7.0000 - val_false_positives: 9.0000 - val_true_negatives: 29.0000 - val_true_positives: 27.0000\n",
            "Epoch 14/100\n",
            "9/9 [==============================] - 4s 410ms/step - loss: 0.4159 - Accuracy: 0.8090 - false_negatives: 20.0000 - false_positives: 35.0000 - true_negatives: 119.0000 - true_positives: 114.0000 - val_loss: 0.5911 - val_Accuracy: 0.7639 - val_false_negatives: 9.0000 - val_false_positives: 8.0000 - val_true_negatives: 30.0000 - val_true_positives: 25.0000\n",
            "Epoch 15/100\n",
            "9/9 [==============================] - 4s 415ms/step - loss: 0.4045 - Accuracy: 0.8194 - false_negatives: 17.0000 - false_positives: 35.0000 - true_negatives: 119.0000 - true_positives: 117.0000 - val_loss: 0.4914 - val_Accuracy: 0.7917 - val_false_negatives: 7.0000 - val_false_positives: 8.0000 - val_true_negatives: 30.0000 - val_true_positives: 27.0000\n",
            "Epoch 16/100\n",
            "9/9 [==============================] - 4s 420ms/step - loss: 0.3834 - Accuracy: 0.8056 - false_negatives: 23.0000 - false_positives: 33.0000 - true_negatives: 121.0000 - true_positives: 111.0000 - val_loss: 0.5092 - val_Accuracy: 0.7917 - val_false_negatives: 9.0000 - val_false_positives: 6.0000 - val_true_negatives: 32.0000 - val_true_positives: 25.0000\n",
            "Epoch 17/100\n",
            "9/9 [==============================] - 4s 418ms/step - loss: 0.3602 - Accuracy: 0.8611 - false_negatives: 15.0000 - false_positives: 25.0000 - true_negatives: 129.0000 - true_positives: 119.0000 - val_loss: 0.4722 - val_Accuracy: 0.8333 - val_false_negatives: 6.0000 - val_false_positives: 6.0000 - val_true_negatives: 32.0000 - val_true_positives: 28.0000\n",
            "Epoch 18/100\n",
            "9/9 [==============================] - 4s 418ms/step - loss: 0.4015 - Accuracy: 0.8090 - false_negatives: 27.0000 - false_positives: 28.0000 - true_negatives: 126.0000 - true_positives: 107.0000 - val_loss: 0.6315 - val_Accuracy: 0.7500 - val_false_negatives: 12.0000 - val_false_positives: 6.0000 - val_true_negatives: 32.0000 - val_true_positives: 22.0000\n",
            "Epoch 19/100\n",
            "9/9 [==============================] - 4s 417ms/step - loss: 0.3781 - Accuracy: 0.8368 - false_negatives: 14.0000 - false_positives: 33.0000 - true_negatives: 121.0000 - true_positives: 120.0000 - val_loss: 0.8154 - val_Accuracy: 0.6944 - val_false_negatives: 18.0000 - val_false_positives: 4.0000 - val_true_negatives: 34.0000 - val_true_positives: 16.0000\n",
            "Epoch 20/100\n",
            "9/9 [==============================] - 4s 416ms/step - loss: 0.3383 - Accuracy: 0.8576 - false_negatives: 11.0000 - false_positives: 30.0000 - true_negatives: 124.0000 - true_positives: 123.0000 - val_loss: 0.7081 - val_Accuracy: 0.7361 - val_false_negatives: 14.0000 - val_false_positives: 5.0000 - val_true_negatives: 33.0000 - val_true_positives: 20.0000\n",
            "Epoch 21/100\n",
            "9/9 [==============================] - 4s 419ms/step - loss: 0.3155 - Accuracy: 0.8681 - false_negatives: 18.0000 - false_positives: 20.0000 - true_negatives: 134.0000 - true_positives: 116.0000 - val_loss: 0.5812 - val_Accuracy: 0.8333 - val_false_negatives: 5.0000 - val_false_positives: 7.0000 - val_true_negatives: 31.0000 - val_true_positives: 29.0000\n",
            "Epoch 22/100\n",
            "9/9 [==============================] - 4s 425ms/step - loss: 0.3481 - Accuracy: 0.8507 - false_negatives: 15.0000 - false_positives: 28.0000 - true_negatives: 126.0000 - true_positives: 119.0000 - val_loss: 0.6063 - val_Accuracy: 0.7500 - val_false_negatives: 12.0000 - val_false_positives: 6.0000 - val_true_negatives: 32.0000 - val_true_positives: 22.0000\n",
            "Epoch 23/100\n",
            "9/9 [==============================] - 4s 415ms/step - loss: 0.3292 - Accuracy: 0.8472 - false_negatives: 17.0000 - false_positives: 27.0000 - true_negatives: 127.0000 - true_positives: 117.0000 - val_loss: 0.5959 - val_Accuracy: 0.7917 - val_false_negatives: 9.0000 - val_false_positives: 6.0000 - val_true_negatives: 32.0000 - val_true_positives: 25.0000\n",
            "Epoch 24/100\n",
            "9/9 [==============================] - 4s 441ms/step - loss: 0.3157 - Accuracy: 0.8681 - false_negatives: 12.0000 - false_positives: 26.0000 - true_negatives: 128.0000 - true_positives: 122.0000 - val_loss: 0.7482 - val_Accuracy: 0.7222 - val_false_negatives: 14.0000 - val_false_positives: 6.0000 - val_true_negatives: 32.0000 - val_true_positives: 20.0000\n",
            "Epoch 25/100\n",
            "9/9 [==============================] - 4s 414ms/step - loss: 0.2994 - Accuracy: 0.8819 - false_negatives: 11.0000 - false_positives: 23.0000 - true_negatives: 131.0000 - true_positives: 123.0000 - val_loss: 0.6725 - val_Accuracy: 0.7778 - val_false_negatives: 10.0000 - val_false_positives: 6.0000 - val_true_negatives: 32.0000 - val_true_positives: 24.0000\n",
            "Epoch 26/100\n",
            "9/9 [==============================] - 4s 414ms/step - loss: 0.3192 - Accuracy: 0.8750 - false_negatives: 16.0000 - false_positives: 20.0000 - true_negatives: 134.0000 - true_positives: 118.0000 - val_loss: 0.6436 - val_Accuracy: 0.8333 - val_false_negatives: 5.0000 - val_false_positives: 7.0000 - val_true_negatives: 31.0000 - val_true_positives: 29.0000\n",
            "Epoch 27/100\n",
            "9/9 [==============================] - 4s 412ms/step - loss: 0.4065 - Accuracy: 0.8160 - false_negatives: 18.0000 - false_positives: 35.0000 - true_negatives: 119.0000 - true_positives: 116.0000 - val_loss: 0.5829 - val_Accuracy: 0.7917 - val_false_negatives: 9.0000 - val_false_positives: 6.0000 - val_true_negatives: 32.0000 - val_true_positives: 25.0000\n",
            "Epoch 28/100\n",
            "9/9 [==============================] - 4s 466ms/step - loss: 0.3449 - Accuracy: 0.8542 - false_negatives: 21.0000 - false_positives: 21.0000 - true_negatives: 133.0000 - true_positives: 113.0000 - val_loss: 0.5729 - val_Accuracy: 0.7639 - val_false_negatives: 11.0000 - val_false_positives: 6.0000 - val_true_negatives: 32.0000 - val_true_positives: 23.0000\n",
            "Epoch 29/100\n",
            "9/9 [==============================] - 4s 415ms/step - loss: 0.3301 - Accuracy: 0.8889 - false_negatives: 10.0000 - false_positives: 22.0000 - true_negatives: 132.0000 - true_positives: 124.0000 - val_loss: 0.4870 - val_Accuracy: 0.8194 - val_false_negatives: 6.0000 - val_false_positives: 7.0000 - val_true_negatives: 31.0000 - val_true_positives: 28.0000\n",
            "Epoch 30/100\n",
            "9/9 [==============================] - 5s 510ms/step - loss: 0.3770 - Accuracy: 0.8333 - false_negatives: 11.0000 - false_positives: 37.0000 - true_negatives: 117.0000 - true_positives: 123.0000 - val_loss: 0.7898 - val_Accuracy: 0.6944 - val_false_negatives: 16.0000 - val_false_positives: 6.0000 - val_true_negatives: 32.0000 - val_true_positives: 18.0000\n",
            "Epoch 31/100\n",
            "9/9 [==============================] - 4s 414ms/step - loss: 0.3280 - Accuracy: 0.8403 - false_negatives: 17.0000 - false_positives: 29.0000 - true_negatives: 125.0000 - true_positives: 117.0000 - val_loss: 0.9035 - val_Accuracy: 0.6528 - val_false_negatives: 19.0000 - val_false_positives: 6.0000 - val_true_negatives: 32.0000 - val_true_positives: 15.0000\n",
            "Epoch 32/100\n",
            "9/9 [==============================] - 4s 420ms/step - loss: 0.3134 - Accuracy: 0.8576 - false_negatives: 13.0000 - false_positives: 28.0000 - true_negatives: 126.0000 - true_positives: 121.0000 - val_loss: 0.7902 - val_Accuracy: 0.6806 - val_false_negatives: 17.0000 - val_false_positives: 6.0000 - val_true_negatives: 32.0000 - val_true_positives: 17.0000\n",
            "Epoch 33/100\n",
            "9/9 [==============================] - 4s 413ms/step - loss: 0.3079 - Accuracy: 0.8750 - false_negatives: 14.0000 - false_positives: 22.0000 - true_negatives: 132.0000 - true_positives: 120.0000 - val_loss: 0.8578 - val_Accuracy: 0.6944 - val_false_negatives: 16.0000 - val_false_positives: 6.0000 - val_true_negatives: 32.0000 - val_true_positives: 18.0000\n",
            "Epoch 34/100\n",
            "9/9 [==============================] - 4s 425ms/step - loss: 0.2905 - Accuracy: 0.8681 - false_negatives: 15.0000 - false_positives: 23.0000 - true_negatives: 131.0000 - true_positives: 119.0000 - val_loss: 0.7000 - val_Accuracy: 0.7500 - val_false_negatives: 12.0000 - val_false_positives: 6.0000 - val_true_negatives: 32.0000 - val_true_positives: 22.0000\n",
            "Epoch 35/100\n",
            "9/9 [==============================] - 4s 417ms/step - loss: 0.3073 - Accuracy: 0.8576 - false_negatives: 15.0000 - false_positives: 26.0000 - true_negatives: 128.0000 - true_positives: 119.0000 - val_loss: 0.7306 - val_Accuracy: 0.7639 - val_false_negatives: 11.0000 - val_false_positives: 6.0000 - val_true_negatives: 32.0000 - val_true_positives: 23.0000\n",
            "Epoch 36/100\n",
            "9/9 [==============================] - 4s 420ms/step - loss: 0.2838 - Accuracy: 0.8750 - false_negatives: 13.0000 - false_positives: 23.0000 - true_negatives: 131.0000 - true_positives: 121.0000 - val_loss: 0.7795 - val_Accuracy: 0.7361 - val_false_negatives: 13.0000 - val_false_positives: 6.0000 - val_true_negatives: 32.0000 - val_true_positives: 21.0000\n",
            "Epoch 37/100\n",
            "9/9 [==============================] - 4s 415ms/step - loss: 0.3362 - Accuracy: 0.8681 - false_negatives: 18.0000 - false_positives: 20.0000 - true_negatives: 134.0000 - true_positives: 116.0000 - val_loss: 1.3100 - val_Accuracy: 0.5694 - val_false_negatives: 27.0000 - val_false_positives: 4.0000 - val_true_negatives: 34.0000 - val_true_positives: 7.0000\n",
            "Epoch 38/100\n",
            "9/9 [==============================] - 4s 422ms/step - loss: 0.3718 - Accuracy: 0.8472 - false_negatives: 16.0000 - false_positives: 28.0000 - true_negatives: 126.0000 - true_positives: 118.0000 - val_loss: 1.1243 - val_Accuracy: 0.6250 - val_false_negatives: 23.0000 - val_false_positives: 4.0000 - val_true_negatives: 34.0000 - val_true_positives: 11.0000\n",
            "Epoch 39/100\n",
            "9/9 [==============================] - 4s 421ms/step - loss: 0.3249 - Accuracy: 0.8681 - false_negatives: 15.0000 - false_positives: 23.0000 - true_negatives: 131.0000 - true_positives: 119.0000 - val_loss: 0.8223 - val_Accuracy: 0.7083 - val_false_negatives: 15.0000 - val_false_positives: 6.0000 - val_true_negatives: 32.0000 - val_true_positives: 19.0000\n",
            "Epoch 40/100\n",
            "9/9 [==============================] - 4s 425ms/step - loss: 0.2800 - Accuracy: 0.8924 - false_negatives: 9.0000 - false_positives: 22.0000 - true_negatives: 132.0000 - true_positives: 125.0000 - val_loss: 0.7785 - val_Accuracy: 0.7083 - val_false_negatives: 15.0000 - val_false_positives: 6.0000 - val_true_negatives: 32.0000 - val_true_positives: 19.0000\n",
            "Epoch 41/100\n",
            "9/9 [==============================] - 4s 415ms/step - loss: 0.2515 - Accuracy: 0.8993 - false_negatives: 12.0000 - false_positives: 17.0000 - true_negatives: 137.0000 - true_positives: 122.0000 - val_loss: 0.8610 - val_Accuracy: 0.7500 - val_false_negatives: 13.0000 - val_false_positives: 5.0000 - val_true_negatives: 33.0000 - val_true_positives: 21.0000\n",
            "Epoch 42/100\n",
            "9/9 [==============================] - 4s 424ms/step - loss: 0.2864 - Accuracy: 0.8785 - false_negatives: 15.0000 - false_positives: 20.0000 - true_negatives: 134.0000 - true_positives: 119.0000 - val_loss: 0.9400 - val_Accuracy: 0.6806 - val_false_negatives: 17.0000 - val_false_positives: 6.0000 - val_true_negatives: 32.0000 - val_true_positives: 17.0000\n",
            "Epoch 43/100\n",
            "9/9 [==============================] - 4s 427ms/step - loss: 0.2881 - Accuracy: 0.8889 - false_negatives: 12.0000 - false_positives: 20.0000 - true_negatives: 134.0000 - true_positives: 122.0000 - val_loss: 0.6877 - val_Accuracy: 0.7917 - val_false_negatives: 9.0000 - val_false_positives: 6.0000 - val_true_negatives: 32.0000 - val_true_positives: 25.0000\n",
            "Epoch 44/100\n",
            "9/9 [==============================] - 4s 417ms/step - loss: 0.2714 - Accuracy: 0.8785 - false_negatives: 13.0000 - false_positives: 22.0000 - true_negatives: 132.0000 - true_positives: 121.0000 - val_loss: 0.7575 - val_Accuracy: 0.7778 - val_false_negatives: 10.0000 - val_false_positives: 6.0000 - val_true_negatives: 32.0000 - val_true_positives: 24.0000\n",
            "Epoch 45/100\n",
            "9/9 [==============================] - 4s 416ms/step - loss: 0.2455 - Accuracy: 0.9062 - false_negatives: 9.0000 - false_positives: 18.0000 - true_negatives: 136.0000 - true_positives: 125.0000 - val_loss: 1.3994 - val_Accuracy: 0.6389 - val_false_negatives: 23.0000 - val_false_positives: 3.0000 - val_true_negatives: 35.0000 - val_true_positives: 11.0000\n",
            "Epoch 46/100\n",
            "9/9 [==============================] - 4s 417ms/step - loss: 0.3746 - Accuracy: 0.8472 - false_negatives: 23.0000 - false_positives: 21.0000 - true_negatives: 133.0000 - true_positives: 111.0000 - val_loss: 1.0428 - val_Accuracy: 0.6111 - val_false_negatives: 24.0000 - val_false_positives: 4.0000 - val_true_negatives: 34.0000 - val_true_positives: 10.0000\n",
            "Epoch 47/100\n",
            "9/9 [==============================] - 4s 418ms/step - loss: 0.2906 - Accuracy: 0.8750 - false_negatives: 12.0000 - false_positives: 24.0000 - true_negatives: 130.0000 - true_positives: 122.0000 - val_loss: 0.7433 - val_Accuracy: 0.7361 - val_false_negatives: 12.0000 - val_false_positives: 7.0000 - val_true_negatives: 31.0000 - val_true_positives: 22.0000\n",
            "Epoch 48/100\n",
            "9/9 [==============================] - 4s 420ms/step - loss: 0.3125 - Accuracy: 0.8715 - false_negatives: 14.0000 - false_positives: 23.0000 - true_negatives: 131.0000 - true_positives: 120.0000 - val_loss: 0.8019 - val_Accuracy: 0.7639 - val_false_negatives: 11.0000 - val_false_positives: 6.0000 - val_true_negatives: 32.0000 - val_true_positives: 23.0000\n",
            "Epoch 49/100\n",
            "9/9 [==============================] - 4s 415ms/step - loss: 0.2891 - Accuracy: 0.8785 - false_negatives: 14.0000 - false_positives: 21.0000 - true_negatives: 133.0000 - true_positives: 120.0000 - val_loss: 0.7289 - val_Accuracy: 0.7639 - val_false_negatives: 10.0000 - val_false_positives: 7.0000 - val_true_negatives: 31.0000 - val_true_positives: 24.0000\n",
            "Epoch 50/100\n",
            "9/9 [==============================] - 4s 417ms/step - loss: 0.3866 - Accuracy: 0.8333 - false_negatives: 21.0000 - false_positives: 27.0000 - true_negatives: 127.0000 - true_positives: 113.0000 - val_loss: 0.5843 - val_Accuracy: 0.7639 - val_false_negatives: 4.0000 - val_false_positives: 13.0000 - val_true_negatives: 25.0000 - val_true_positives: 30.0000\n",
            "Epoch 51/100\n",
            "9/9 [==============================] - 4s 421ms/step - loss: 0.4367 - Accuracy: 0.7917 - false_negatives: 35.0000 - false_positives: 25.0000 - true_negatives: 129.0000 - true_positives: 99.0000 - val_loss: 0.6101 - val_Accuracy: 0.7222 - val_false_negatives: 13.0000 - val_false_positives: 7.0000 - val_true_negatives: 31.0000 - val_true_positives: 21.0000\n",
            "Epoch 52/100\n",
            "9/9 [==============================] - 4s 420ms/step - loss: 0.3246 - Accuracy: 0.8750 - false_negatives: 11.0000 - false_positives: 25.0000 - true_negatives: 129.0000 - true_positives: 123.0000 - val_loss: 0.8383 - val_Accuracy: 0.7083 - val_false_negatives: 16.0000 - val_false_positives: 5.0000 - val_true_negatives: 33.0000 - val_true_positives: 18.0000\n",
            "Epoch 53/100\n",
            "9/9 [==============================] - 4s 420ms/step - loss: 0.3010 - Accuracy: 0.8854 - false_negatives: 8.0000 - false_positives: 25.0000 - true_negatives: 129.0000 - true_positives: 126.0000 - val_loss: 0.6961 - val_Accuracy: 0.7222 - val_false_negatives: 13.0000 - val_false_positives: 7.0000 - val_true_negatives: 31.0000 - val_true_positives: 21.0000\n",
            "Epoch 54/100\n",
            "9/9 [==============================] - 4s 418ms/step - loss: 0.2582 - Accuracy: 0.9062 - false_negatives: 9.0000 - false_positives: 18.0000 - true_negatives: 136.0000 - true_positives: 125.0000 - val_loss: 0.7441 - val_Accuracy: 0.7222 - val_false_negatives: 13.0000 - val_false_positives: 7.0000 - val_true_negatives: 31.0000 - val_true_positives: 21.0000\n",
            "Epoch 55/100\n",
            "9/9 [==============================] - 4s 419ms/step - loss: 0.2785 - Accuracy: 0.8889 - false_negatives: 11.0000 - false_positives: 21.0000 - true_negatives: 133.0000 - true_positives: 123.0000 - val_loss: 0.9587 - val_Accuracy: 0.6806 - val_false_negatives: 16.0000 - val_false_positives: 7.0000 - val_true_negatives: 31.0000 - val_true_positives: 18.0000\n",
            "Epoch 56/100\n",
            "9/9 [==============================] - 4s 420ms/step - loss: 0.2783 - Accuracy: 0.8819 - false_negatives: 12.0000 - false_positives: 22.0000 - true_negatives: 132.0000 - true_positives: 122.0000 - val_loss: 0.8328 - val_Accuracy: 0.7361 - val_false_negatives: 13.0000 - val_false_positives: 6.0000 - val_true_negatives: 32.0000 - val_true_positives: 21.0000\n",
            "Epoch 57/100\n",
            "9/9 [==============================] - 4s 416ms/step - loss: 0.2444 - Accuracy: 0.8958 - false_negatives: 7.0000 - false_positives: 23.0000 - true_negatives: 131.0000 - true_positives: 127.0000 - val_loss: 1.0221 - val_Accuracy: 0.6806 - val_false_negatives: 18.0000 - val_false_positives: 5.0000 - val_true_negatives: 33.0000 - val_true_positives: 16.0000\n",
            "Epoch 58/100\n",
            "9/9 [==============================] - 4s 415ms/step - loss: 0.2945 - Accuracy: 0.8681 - false_negatives: 19.0000 - false_positives: 19.0000 - true_negatives: 135.0000 - true_positives: 115.0000 - val_loss: 0.8101 - val_Accuracy: 0.7361 - val_false_negatives: 13.0000 - val_false_positives: 6.0000 - val_true_negatives: 32.0000 - val_true_positives: 21.0000\n",
            "Epoch 59/100\n",
            "9/9 [==============================] - 4s 418ms/step - loss: 0.2419 - Accuracy: 0.8924 - false_negatives: 10.0000 - false_positives: 21.0000 - true_negatives: 133.0000 - true_positives: 124.0000 - val_loss: 0.7783 - val_Accuracy: 0.7500 - val_false_negatives: 12.0000 - val_false_positives: 6.0000 - val_true_negatives: 32.0000 - val_true_positives: 22.0000\n",
            "Epoch 60/100\n",
            "9/9 [==============================] - 4s 417ms/step - loss: 0.2605 - Accuracy: 0.8993 - false_negatives: 9.0000 - false_positives: 20.0000 - true_negatives: 134.0000 - true_positives: 125.0000 - val_loss: 1.1375 - val_Accuracy: 0.6528 - val_false_negatives: 21.0000 - val_false_positives: 4.0000 - val_true_negatives: 34.0000 - val_true_positives: 13.0000\n",
            "Epoch 61/100\n",
            "9/9 [==============================] - 4s 415ms/step - loss: 0.2684 - Accuracy: 0.8715 - false_negatives: 11.0000 - false_positives: 26.0000 - true_negatives: 128.0000 - true_positives: 123.0000 - val_loss: 0.8976 - val_Accuracy: 0.6806 - val_false_negatives: 17.0000 - val_false_positives: 6.0000 - val_true_negatives: 32.0000 - val_true_positives: 17.0000\n",
            "Epoch 62/100\n",
            "9/9 [==============================] - 4s 413ms/step - loss: 0.2178 - Accuracy: 0.9062 - false_negatives: 9.0000 - false_positives: 18.0000 - true_negatives: 136.0000 - true_positives: 125.0000 - val_loss: 1.0528 - val_Accuracy: 0.6528 - val_false_negatives: 19.0000 - val_false_positives: 6.0000 - val_true_negatives: 32.0000 - val_true_positives: 15.0000\n",
            "Epoch 63/100\n",
            "9/9 [==============================] - 4s 422ms/step - loss: 0.2684 - Accuracy: 0.8785 - false_negatives: 17.0000 - false_positives: 18.0000 - true_negatives: 136.0000 - true_positives: 117.0000 - val_loss: 0.9736 - val_Accuracy: 0.7083 - val_false_negatives: 15.0000 - val_false_positives: 6.0000 - val_true_negatives: 32.0000 - val_true_positives: 19.0000\n",
            "Epoch 64/100\n",
            "9/9 [==============================] - 4s 421ms/step - loss: 0.2233 - Accuracy: 0.9167 - false_negatives: 9.0000 - false_positives: 15.0000 - true_negatives: 139.0000 - true_positives: 125.0000 - val_loss: 0.8206 - val_Accuracy: 0.7361 - val_false_negatives: 13.0000 - val_false_positives: 6.0000 - val_true_negatives: 32.0000 - val_true_positives: 21.0000\n",
            "Epoch 65/100\n",
            "9/9 [==============================] - 4s 416ms/step - loss: 0.2497 - Accuracy: 0.8889 - false_negatives: 10.0000 - false_positives: 22.0000 - true_negatives: 132.0000 - true_positives: 124.0000 - val_loss: 1.1392 - val_Accuracy: 0.6250 - val_false_negatives: 21.0000 - val_false_positives: 6.0000 - val_true_negatives: 32.0000 - val_true_positives: 13.0000\n",
            "Epoch 66/100\n",
            "9/9 [==============================] - 4s 415ms/step - loss: 0.2354 - Accuracy: 0.8924 - false_negatives: 10.0000 - false_positives: 21.0000 - true_negatives: 133.0000 - true_positives: 124.0000 - val_loss: 1.0152 - val_Accuracy: 0.6806 - val_false_negatives: 17.0000 - val_false_positives: 6.0000 - val_true_negatives: 32.0000 - val_true_positives: 17.0000\n",
            "Epoch 67/100\n",
            "9/9 [==============================] - 4s 414ms/step - loss: 0.2572 - Accuracy: 0.9132 - false_negatives: 9.0000 - false_positives: 16.0000 - true_negatives: 138.0000 - true_positives: 125.0000 - val_loss: 0.9840 - val_Accuracy: 0.7222 - val_false_negatives: 13.0000 - val_false_positives: 7.0000 - val_true_negatives: 31.0000 - val_true_positives: 21.0000\n",
            "Epoch 68/100\n",
            "9/9 [==============================] - 4s 417ms/step - loss: 0.2804 - Accuracy: 0.8819 - false_negatives: 18.0000 - false_positives: 16.0000 - true_negatives: 138.0000 - true_positives: 116.0000 - val_loss: 1.1487 - val_Accuracy: 0.7083 - val_false_negatives: 15.0000 - val_false_positives: 6.0000 - val_true_negatives: 32.0000 - val_true_positives: 19.0000\n",
            "Epoch 69/100\n",
            "9/9 [==============================] - 4s 412ms/step - loss: 0.2691 - Accuracy: 0.8958 - false_negatives: 11.0000 - false_positives: 19.0000 - true_negatives: 135.0000 - true_positives: 123.0000 - val_loss: 0.7612 - val_Accuracy: 0.7083 - val_false_negatives: 14.0000 - val_false_positives: 7.0000 - val_true_negatives: 31.0000 - val_true_positives: 20.0000\n",
            "Epoch 70/100\n",
            "9/9 [==============================] - 4s 419ms/step - loss: 0.2557 - Accuracy: 0.8854 - false_negatives: 15.0000 - false_positives: 18.0000 - true_negatives: 136.0000 - true_positives: 119.0000 - val_loss: 1.1588 - val_Accuracy: 0.6528 - val_false_negatives: 20.0000 - val_false_positives: 5.0000 - val_true_negatives: 33.0000 - val_true_positives: 14.0000\n",
            "Epoch 71/100\n",
            "9/9 [==============================] - 4s 421ms/step - loss: 0.3102 - Accuracy: 0.8715 - false_negatives: 15.0000 - false_positives: 22.0000 - true_negatives: 132.0000 - true_positives: 119.0000 - val_loss: 0.8785 - val_Accuracy: 0.7083 - val_false_negatives: 15.0000 - val_false_positives: 6.0000 - val_true_negatives: 32.0000 - val_true_positives: 19.0000\n",
            "Epoch 72/100\n",
            "9/9 [==============================] - 4s 418ms/step - loss: 0.2530 - Accuracy: 0.8889 - false_negatives: 16.0000 - false_positives: 16.0000 - true_negatives: 138.0000 - true_positives: 118.0000 - val_loss: 0.8693 - val_Accuracy: 0.7083 - val_false_negatives: 15.0000 - val_false_positives: 6.0000 - val_true_negatives: 32.0000 - val_true_positives: 19.0000\n",
            "Epoch 73/100\n",
            "9/9 [==============================] - 4s 414ms/step - loss: 0.2597 - Accuracy: 0.9028 - false_negatives: 12.0000 - false_positives: 16.0000 - true_negatives: 138.0000 - true_positives: 122.0000 - val_loss: 0.9360 - val_Accuracy: 0.7222 - val_false_negatives: 15.0000 - val_false_positives: 5.0000 - val_true_negatives: 33.0000 - val_true_positives: 19.0000\n",
            "Epoch 74/100\n",
            "9/9 [==============================] - 4s 412ms/step - loss: 0.3085 - Accuracy: 0.8576 - false_negatives: 17.0000 - false_positives: 24.0000 - true_negatives: 130.0000 - true_positives: 117.0000 - val_loss: 0.6806 - val_Accuracy: 0.7917 - val_false_negatives: 9.0000 - val_false_positives: 6.0000 - val_true_negatives: 32.0000 - val_true_positives: 25.0000\n",
            "Epoch 75/100\n",
            "9/9 [==============================] - 4s 419ms/step - loss: 0.2331 - Accuracy: 0.8993 - false_negatives: 11.0000 - false_positives: 18.0000 - true_negatives: 136.0000 - true_positives: 123.0000 - val_loss: 0.7021 - val_Accuracy: 0.7778 - val_false_negatives: 10.0000 - val_false_positives: 6.0000 - val_true_negatives: 32.0000 - val_true_positives: 24.0000\n",
            "Epoch 76/100\n",
            "9/9 [==============================] - 4s 412ms/step - loss: 0.2668 - Accuracy: 0.8993 - false_negatives: 9.0000 - false_positives: 20.0000 - true_negatives: 134.0000 - true_positives: 125.0000 - val_loss: 0.8284 - val_Accuracy: 0.7778 - val_false_negatives: 10.0000 - val_false_positives: 6.0000 - val_true_negatives: 32.0000 - val_true_positives: 24.0000\n",
            "Epoch 77/100\n",
            "9/9 [==============================] - 4s 410ms/step - loss: 0.2493 - Accuracy: 0.8819 - false_negatives: 14.0000 - false_positives: 20.0000 - true_negatives: 134.0000 - true_positives: 120.0000 - val_loss: 0.8084 - val_Accuracy: 0.7500 - val_false_negatives: 12.0000 - val_false_positives: 6.0000 - val_true_negatives: 32.0000 - val_true_positives: 22.0000\n",
            "Epoch 78/100\n",
            "9/9 [==============================] - 4s 412ms/step - loss: 0.2256 - Accuracy: 0.8993 - false_negatives: 11.0000 - false_positives: 18.0000 - true_negatives: 136.0000 - true_positives: 123.0000 - val_loss: 0.8181 - val_Accuracy: 0.7361 - val_false_negatives: 13.0000 - val_false_positives: 6.0000 - val_true_negatives: 32.0000 - val_true_positives: 21.0000\n",
            "Epoch 79/100\n",
            "9/9 [==============================] - 4s 414ms/step - loss: 0.2227 - Accuracy: 0.8958 - false_negatives: 10.0000 - false_positives: 20.0000 - true_negatives: 134.0000 - true_positives: 124.0000 - val_loss: 0.8128 - val_Accuracy: 0.7222 - val_false_negatives: 14.0000 - val_false_positives: 6.0000 - val_true_negatives: 32.0000 - val_true_positives: 20.0000\n",
            "Epoch 80/100\n",
            "9/9 [==============================] - 4s 414ms/step - loss: 0.2378 - Accuracy: 0.9062 - false_negatives: 11.0000 - false_positives: 16.0000 - true_negatives: 138.0000 - true_positives: 123.0000 - val_loss: 0.6905 - val_Accuracy: 0.7917 - val_false_negatives: 9.0000 - val_false_positives: 6.0000 - val_true_negatives: 32.0000 - val_true_positives: 25.0000\n",
            "Epoch 81/100\n",
            "9/9 [==============================] - 4s 423ms/step - loss: 0.2217 - Accuracy: 0.9167 - false_negatives: 7.0000 - false_positives: 17.0000 - true_negatives: 137.0000 - true_positives: 127.0000 - val_loss: 0.8607 - val_Accuracy: 0.7361 - val_false_negatives: 13.0000 - val_false_positives: 6.0000 - val_true_negatives: 32.0000 - val_true_positives: 21.0000\n",
            "Epoch 82/100\n",
            "9/9 [==============================] - 4s 415ms/step - loss: 0.2138 - Accuracy: 0.9132 - false_negatives: 11.0000 - false_positives: 14.0000 - true_negatives: 140.0000 - true_positives: 123.0000 - val_loss: 1.0144 - val_Accuracy: 0.7500 - val_false_negatives: 12.0000 - val_false_positives: 6.0000 - val_true_negatives: 32.0000 - val_true_positives: 22.0000\n",
            "Epoch 83/100\n",
            "9/9 [==============================] - 4s 416ms/step - loss: 0.2361 - Accuracy: 0.8715 - false_negatives: 15.0000 - false_positives: 22.0000 - true_negatives: 132.0000 - true_positives: 119.0000 - val_loss: 0.8899 - val_Accuracy: 0.7778 - val_false_negatives: 10.0000 - val_false_positives: 6.0000 - val_true_negatives: 32.0000 - val_true_positives: 24.0000\n",
            "Epoch 84/100\n",
            "9/9 [==============================] - 4s 411ms/step - loss: 0.1988 - Accuracy: 0.9062 - false_negatives: 10.0000 - false_positives: 17.0000 - true_negatives: 137.0000 - true_positives: 124.0000 - val_loss: 1.0262 - val_Accuracy: 0.7083 - val_false_negatives: 15.0000 - val_false_positives: 6.0000 - val_true_negatives: 32.0000 - val_true_positives: 19.0000\n",
            "Epoch 85/100\n",
            "9/9 [==============================] - 4s 421ms/step - loss: 0.2411 - Accuracy: 0.9028 - false_negatives: 8.0000 - false_positives: 20.0000 - true_negatives: 134.0000 - true_positives: 126.0000 - val_loss: 1.0648 - val_Accuracy: 0.7083 - val_false_negatives: 15.0000 - val_false_positives: 6.0000 - val_true_negatives: 32.0000 - val_true_positives: 19.0000\n",
            "Epoch 86/100\n",
            "9/9 [==============================] - 4s 412ms/step - loss: 0.2253 - Accuracy: 0.8854 - false_negatives: 12.0000 - false_positives: 21.0000 - true_negatives: 133.0000 - true_positives: 122.0000 - val_loss: 1.3298 - val_Accuracy: 0.6944 - val_false_negatives: 17.0000 - val_false_positives: 5.0000 - val_true_negatives: 33.0000 - val_true_positives: 17.0000\n",
            "Epoch 87/100\n",
            "9/9 [==============================] - 4s 417ms/step - loss: 0.3063 - Accuracy: 0.8785 - false_negatives: 13.0000 - false_positives: 22.0000 - true_negatives: 132.0000 - true_positives: 121.0000 - val_loss: 1.2146 - val_Accuracy: 0.6667 - val_false_negatives: 19.0000 - val_false_positives: 5.0000 - val_true_negatives: 33.0000 - val_true_positives: 15.0000\n",
            "Epoch 88/100\n",
            "9/9 [==============================] - 4s 410ms/step - loss: 0.2587 - Accuracy: 0.8958 - false_negatives: 16.0000 - false_positives: 14.0000 - true_negatives: 140.0000 - true_positives: 118.0000 - val_loss: 0.7921 - val_Accuracy: 0.7361 - val_false_negatives: 12.0000 - val_false_positives: 7.0000 - val_true_negatives: 31.0000 - val_true_positives: 22.0000\n",
            "Epoch 89/100\n",
            "9/9 [==============================] - 4s 425ms/step - loss: 0.2270 - Accuracy: 0.9097 - false_negatives: 12.0000 - false_positives: 14.0000 - true_negatives: 140.0000 - true_positives: 122.0000 - val_loss: 1.3641 - val_Accuracy: 0.6667 - val_false_negatives: 19.0000 - val_false_positives: 5.0000 - val_true_negatives: 33.0000 - val_true_positives: 15.0000\n",
            "Epoch 90/100\n",
            "9/9 [==============================] - 4s 415ms/step - loss: 0.1936 - Accuracy: 0.8993 - false_negatives: 12.0000 - false_positives: 17.0000 - true_negatives: 137.0000 - true_positives: 122.0000 - val_loss: 0.9236 - val_Accuracy: 0.7500 - val_false_negatives: 11.0000 - val_false_positives: 7.0000 - val_true_negatives: 31.0000 - val_true_positives: 23.0000\n",
            "Epoch 91/100\n",
            "9/9 [==============================] - 4s 456ms/step - loss: 0.2789 - Accuracy: 0.8889 - false_negatives: 12.0000 - false_positives: 20.0000 - true_negatives: 134.0000 - true_positives: 122.0000 - val_loss: 0.8704 - val_Accuracy: 0.7778 - val_false_negatives: 9.0000 - val_false_positives: 7.0000 - val_true_negatives: 31.0000 - val_true_positives: 25.0000\n",
            "Epoch 92/100\n",
            "9/9 [==============================] - 4s 415ms/step - loss: 0.2392 - Accuracy: 0.9132 - false_negatives: 9.0000 - false_positives: 16.0000 - true_negatives: 138.0000 - true_positives: 125.0000 - val_loss: 0.9996 - val_Accuracy: 0.7361 - val_false_negatives: 13.0000 - val_false_positives: 6.0000 - val_true_negatives: 32.0000 - val_true_positives: 21.0000\n",
            "Epoch 93/100\n",
            "9/9 [==============================] - 4s 415ms/step - loss: 0.2256 - Accuracy: 0.9028 - false_negatives: 13.0000 - false_positives: 15.0000 - true_negatives: 139.0000 - true_positives: 121.0000 - val_loss: 0.9453 - val_Accuracy: 0.7222 - val_false_negatives: 14.0000 - val_false_positives: 6.0000 - val_true_negatives: 32.0000 - val_true_positives: 20.0000\n",
            "Epoch 94/100\n",
            "9/9 [==============================] - 4s 415ms/step - loss: 0.2308 - Accuracy: 0.9028 - false_negatives: 10.0000 - false_positives: 18.0000 - true_negatives: 136.0000 - true_positives: 124.0000 - val_loss: 1.0336 - val_Accuracy: 0.7083 - val_false_negatives: 15.0000 - val_false_positives: 6.0000 - val_true_negatives: 32.0000 - val_true_positives: 19.0000\n",
            "Epoch 95/100\n",
            "9/9 [==============================] - 4s 413ms/step - loss: 0.2422 - Accuracy: 0.8924 - false_negatives: 12.0000 - false_positives: 19.0000 - true_negatives: 135.0000 - true_positives: 122.0000 - val_loss: 1.1279 - val_Accuracy: 0.6806 - val_false_negatives: 18.0000 - val_false_positives: 5.0000 - val_true_negatives: 33.0000 - val_true_positives: 16.0000\n",
            "Epoch 96/100\n",
            "9/9 [==============================] - 4s 419ms/step - loss: 0.2239 - Accuracy: 0.9097 - false_negatives: 14.0000 - false_positives: 12.0000 - true_negatives: 142.0000 - true_positives: 120.0000 - val_loss: 1.4099 - val_Accuracy: 0.6528 - val_false_negatives: 21.0000 - val_false_positives: 4.0000 - val_true_negatives: 34.0000 - val_true_positives: 13.0000\n",
            "Epoch 97/100\n",
            "9/9 [==============================] - 4s 424ms/step - loss: 0.2608 - Accuracy: 0.8993 - false_negatives: 11.0000 - false_positives: 18.0000 - true_negatives: 136.0000 - true_positives: 123.0000 - val_loss: 1.2143 - val_Accuracy: 0.6667 - val_false_negatives: 19.0000 - val_false_positives: 5.0000 - val_true_negatives: 33.0000 - val_true_positives: 15.0000\n",
            "Epoch 98/100\n",
            "9/9 [==============================] - 4s 413ms/step - loss: 0.1995 - Accuracy: 0.9236 - false_negatives: 7.0000 - false_positives: 15.0000 - true_negatives: 139.0000 - true_positives: 127.0000 - val_loss: 1.2194 - val_Accuracy: 0.6667 - val_false_negatives: 19.0000 - val_false_positives: 5.0000 - val_true_negatives: 33.0000 - val_true_positives: 15.0000\n",
            "Epoch 99/100\n",
            "9/9 [==============================] - 4s 413ms/step - loss: 0.2229 - Accuracy: 0.9028 - false_negatives: 11.0000 - false_positives: 17.0000 - true_negatives: 137.0000 - true_positives: 123.0000 - val_loss: 1.1161 - val_Accuracy: 0.6667 - val_false_negatives: 18.0000 - val_false_positives: 6.0000 - val_true_negatives: 32.0000 - val_true_positives: 16.0000\n",
            "Epoch 100/100\n",
            "9/9 [==============================] - 4s 413ms/step - loss: 0.1850 - Accuracy: 0.9236 - false_negatives: 9.0000 - false_positives: 13.0000 - true_negatives: 141.0000 - true_positives: 125.0000 - val_loss: 0.9904 - val_Accuracy: 0.7083 - val_false_negatives: 15.0000 - val_false_positives: 6.0000 - val_true_negatives: 32.0000 - val_true_positives: 19.0000\n"
          ]
        }
      ]
    },
    {
      "cell_type": "markdown",
      "source": [
        "Plotting Traning Result"
      ],
      "metadata": {
        "id": "XZSFG8fXqz7c"
      }
    },
    {
      "cell_type": "code",
      "source": [
        "  #plotting\n",
        "  epochs = range(1, len(history.history['loss'])+1)\n",
        "  plt.title(f\"Grafik loss training iterasi {iterasi}\")\n",
        "  plt.plot(epochs, history.history['loss'], 'r', label='Training Loss')\n",
        "  plt.plot(epochs, history.history['val_loss'], 'b', label='Validation Loss')    \n",
        "  plt.xlabel(\"Epoch\")\n",
        "  plt.ylabel(\"Loss\")\n",
        "  plt.legend()\n",
        "  plt.show()\n"
      ],
      "metadata": {
        "id": "3dXbDrJpY1NK",
        "colab": {
          "base_uri": "https://localhost:8080/",
          "height": 295
        },
        "outputId": "a2f8ce6e-60ed-47d7-9c40-45add2553d31"
      },
      "execution_count": 12,
      "outputs": [
        {
          "output_type": "display_data",
          "data": {
            "text/plain": [
              "<Figure size 432x288 with 1 Axes>"
            ],
            "image/png": "[encoded data removed]"
          },
          "metadata": {
            "needs_background": "light"
          }
        }
      ]
    },
    {
      "cell_type": "code",
      "source": [
        "  #plotting\n",
        "  epochs = range(1, len(history.history['loss'])+1)\n",
        "  plt.title(f\"Grafik Akurasi training iterasi {iterasi}\")\n",
        "  plt.plot(epochs, history.history['Accuracy'], 'r', label='Training Accuracy')\n",
        "  plt.plot(epochs, history.history['val_Accuracy'], 'b', label='Validation Accuracy')    \n",
        "  plt.xlabel(\"Epoch\")\n",
        "  plt.ylabel(\"Accuracy\")\n",
        "  plt.legend()\n",
        "  plt.show()"
      ],
      "metadata": {
        "id": "j3xigprPwlSX",
        "colab": {
          "base_uri": "https://localhost:8080/",
          "height": 295
        },
        "outputId": "d3df5c27-6a4c-4ffd-ae66-fabe88bf1b8a"
      },
      "execution_count": 13,
      "outputs": [
        {
          "output_type": "display_data",
          "data": {
            "text/plain": [
              "<Figure size 432x288 with 1 Axes>"
            ],
            "image/png": "[encoded data removed]"
          },
          "metadata": {
            "needs_background": "light"
          }
        }
      ]
    },
    {
      "cell_type": "markdown",
      "metadata": {
        "id": "bTgk1-sdzmgy"
      },
      "source": [
        "**Validating** Network"
      ]
    },
    {
      "cell_type": "code",
      "source": [
        "import matplotlib.pyplot as plt\n",
        "from sklearn.datasets import make_classification\n",
        "from numpy import mean\n",
        "from sklearn.metrics import confusion_matrix, ConfusionMatrixDisplay, accuracy_score, classification_report, recall_score\n",
        "\n",
        "#Creating list for correct label\n",
        "correct_labels = []\n",
        "for i in range(len(image_labels_validation)):\n",
        "  pr = image_labels_validation[i]\n",
        "  output = label_binarizer.inverse_transform(pr)\n",
        "  correct_labels.append(output[0])\n",
        "\n",
        "#Creating list for predicted label\n",
        "predicted_labels = []\n",
        "for i in range(len(np_image_list_validation)):\n",
        "  test_img = np_image_list_validation[i]\n",
        "  test_img = np.expand_dims(test_img, axis=0)\n",
        "  pr=model.predict(test_img)\n",
        "  output = label_binarizer.inverse_transform(pr)\n",
        "  predicted_labels.append(output[0])\n",
        "\n",
        "#creating confusion matrix by comparing both list\n",
        "confusion_matrix = confusion_matrix(correct_labels, predicted_labels)\n",
        "disp = ConfusionMatrixDisplay(confusion_matrix=confusion_matrix)  \n",
        "disp.plot()\n",
        "plt.show()\n",
        "print('--------')\n",
        "\n",
        "FP = confusion_matrix.sum(axis=0) - np.diag(confusion_matrix)  \n",
        "FN = confusion_matrix.sum(axis=1) - np.diag(confusion_matrix)\n",
        "TP = np.diag(confusion_matrix)\n",
        "TN = confusion_matrix.sum() - (FP + FN + TP)\n",
        "\n",
        "# Sensitivity, hit rate, recall, or true positive rate\n",
        "sensitivity = TP/(TP+FN)\n",
        "# Specificity or true negative rate\n",
        "specificity = TN/(TN+FP) \n",
        "# Overall accuracy\n",
        "accuracy = (TP+TN)/(TP+FP+FN+TN)\n",
        "\n",
        "print(TP)\n",
        "print(TN)\n",
        "print(FP)\n",
        "print(FN)\n",
        "print('--------')\n",
        "print(accuracy)\n",
        "print(sensitivity)\n",
        "print(specificity)\n",
        "print('--------')\n",
        "\n"
      ],
      "metadata": {
        "colab": {
          "base_uri": "https://localhost:8080/",
          "height": 453
        },
        "id": "d_NBE4KkWuhu",
        "outputId": "b6c4ed59-713f-46a0-95ae-f98ee7111abe"
      },
      "execution_count": 14,
      "outputs": [
        {
          "output_type": "display_data",
          "data": {
            "text/plain": [
              "<Figure size 432x288 with 2 Axes>"
            ],
            "image/png": "[encoded data removed]"
          },
          "metadata": {
            "needs_background": "light"
          }
        },
        {
          "output_type": "stream",
          "name": "stdout",
          "text": [
            "--------\n",
            "[32 19]\n",
            "[19 32]\n",
            "[15  6]\n",
            "[ 6 15]\n",
            "--------\n",
            "[0.70833333 0.70833333]\n",
            "[0.84210526 0.55882353]\n",
            "[0.55882353 0.84210526]\n",
            "--------\n"
          ]
        }
      ]
    },
    {
      "cell_type": "code",
      "source": [
        "import matplotlib.pyplot as plt\n",
        "from sklearn.datasets import make_classification\n",
        "from numpy import mean\n",
        "from sklearn.metrics import confusion_matrix, ConfusionMatrixDisplay, accuracy_score, classification_report, recall_score\n",
        "\n",
        "TP = 35\n",
        "TN = 30\n",
        "FP = 3\n",
        "FN = 4\n",
        "\n",
        "# Sensitivity, hit rate, recall, or true positive rate\n",
        "sensitivity = TP/(TP+FN)\n",
        "# Specificity or true negative rate\n",
        "specificity = TN/(TN+FP) \n",
        "# Overall accuracy\n",
        "accuracy = (TP+TN)/(TP+FP+FN+TN)\n",
        "\n",
        "print(TP)\n",
        "print(TN)\n",
        "print(FP)\n",
        "print(FN)\n",
        "print('--------')\n",
        "print(accuracy)\n",
        "print(sensitivity)\n",
        "print(specificity)\n",
        "print('--------')"
      ],
      "metadata": {
        "colab": {
          "base_uri": "https://localhost:8080/"
        },
        "id": "xUv-wKhthZxh",
        "outputId": "bc1377fd-f370-42c5-fb30-7bacf61de174"
      },
      "execution_count": 19,
      "outputs": [
        {
          "output_type": "stream",
          "name": "stdout",
          "text": [
            "35\n",
            "30\n",
            "3\n",
            "4\n",
            "--------\n",
            "0.9027777777777778\n",
            "0.8974358974358975\n",
            "0.9090909090909091\n",
            "--------\n"
          ]
        }
      ]
    },
    {
      "cell_type": "markdown",
      "source": [
        "**Testing** Network"
      ],
      "metadata": {
        "id": "saJYjKqX9tRL"
      }
    },
    {
      "cell_type": "code",
      "source": [
        "import matplotlib.pyplot as plt\n",
        "from sklearn.datasets import make_classification\n",
        "from numpy import mean\n",
        "from sklearn.metrics import confusion_matrix, ConfusionMatrixDisplay, accuracy_score, classification_report, recall_score\n",
        "\n",
        "#Creating list for correct label\n",
        "correct_labels = []\n",
        "for i in range(len(image_labels_test)):\n",
        "  pr = image_labels_test[i]\n",
        "  output = label_binarizer.inverse_transform(pr)\n",
        "  correct_labels.append(output[0])\n",
        "\n",
        "#Creating list for predicted label\n",
        "predicted_labels = []\n",
        "for i in range(len(np_image_list_test)):\n",
        "  test_img = np_image_list_test[i]\n",
        "  test_img = np.expand_dims(test_img, axis=0)\n",
        "  pr=model.predict(test_img)\n",
        "  output = label_binarizer.inverse_transform(pr)\n",
        "  predicted_labels.append(output[0])\n",
        "\n",
        "#creating confusion matrix by comparing both list\n",
        "confusion_matrix = confusion_matrix(correct_labels, predicted_labels)\n",
        "disp = ConfusionMatrixDisplay(confusion_matrix=confusion_matrix)  \n",
        "disp.plot()\n",
        "plt.show()\n",
        "print('--------')\n",
        "\n",
        "FP = confusion_matrix.sum(axis=0) - np.diag(confusion_matrix)  \n",
        "FN = confusion_matrix.sum(axis=1) - np.diag(confusion_matrix)\n",
        "TP = np.diag(confusion_matrix)\n",
        "TN = confusion_matrix.sum() - (FP + FN + TP)\n",
        "\n",
        "# Sensitivity, hit rate, recall, or true positive rate\n",
        "sensitivity = TP/(TP+FN)\n",
        "# Specificity or true negative rate\n",
        "specificity = TN/(TN+FP) \n",
        "# Overall accuracy\n",
        "accuracy = (TP+TN)/(TP+FP+FN+TN)\n",
        "\n",
        "print(TP)\n",
        "print(TN)\n",
        "print(FP)\n",
        "print(FN)\n",
        "print('--------')\n",
        "print(accuracy)\n",
        "print(sensitivity)\n",
        "print(specificity)\n",
        "print('--------')"
      ],
      "metadata": {
        "colab": {
          "base_uri": "https://localhost:8080/",
          "height": 457
        },
        "id": "A7DR52hmTc75",
        "outputId": "8ba26649-d370-4f50-b52c-3311de75e965"
      },
      "execution_count": 16,
      "outputs": [
        {
          "output_type": "display_data",
          "data": {
            "text/plain": [
              "<Figure size 432x288 with 2 Axes>"
            ],
            "image/png": "[encoded data removed]"
          },
          "metadata": {
            "needs_background": "light"
          }
        },
        {
          "output_type": "stream",
          "name": "stdout",
          "text": [
            "--------\n",
            "[32 40]\n",
            "[40 32]\n",
            "[ 2 16]\n",
            "[16  2]\n",
            "--------\n",
            "[0.8 0.8]\n",
            "[0.66666667 0.95238095]\n",
            "[0.95238095 0.66666667]\n",
            "--------\n"
          ]
        }
      ]
    }
  ]
}