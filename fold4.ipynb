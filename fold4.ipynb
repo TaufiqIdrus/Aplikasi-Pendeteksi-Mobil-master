{
  "nbformat": 4,
  "nbformat_minor": 0,
  "metadata": {
    "accelerator": "GPU",
    "colab": {
      "name": "Kodingan Skripsi 3",
      "provenance": [],
      "collapsed_sections": [],
      "include_colab_link": true
    },
    "kernelspec": {
      "display_name": "Python 3",
      "language": "python",
      "name": "python3"
    },
    "language_info": {
      "codemirror_mode": {
        "name": "ipython",
        "version": 3
      },
      "file_extension": ".py",
      "mimetype": "text/x-python",
      "name": "python",
      "nbconvert_exporter": "python",
      "pygments_lexer": "ipython3",
      "version": "3.6.6"
    }
  },
  "cells": [
    {
      "cell_type": "markdown",
      "metadata": {
        "id": "view-in-github",
        "colab_type": "text"
      },
      "source": [
        "<a href=\"https://colab.research.google.com/github/TaufiqIdrus/Aplikasi-Pendeteksi-Mobil-master/blob/master/fold4.ipynb\" target=\"_parent\"><img src=\"https://colab.research.google.com/assets/colab-badge.svg\" alt=\"Open In Colab\"/></a>"
      ]
    },
    {
      "cell_type": "markdown",
      "metadata": {
        "id": "yJT_kQA2lITS"
      },
      "source": [
        "**Identifikasi Penyakit Pada Tanaman Apel menggunakan Convolutional Neural Network**"
      ]
    },
    {
      "cell_type": "code",
      "metadata": {
        "id": "xXeOaYTUzmgT"
      },
      "source": [
        "import numpy as np\n",
        "import pickle\n",
        "import os\n",
        "import cv2\n",
        "import tensorflow as tf\n",
        "import keras\n",
        "from os import listdir\n",
        "from sklearn.preprocessing import LabelBinarizer\n",
        "from sklearn.model_selection import KFold\n",
        "from keras.models import Sequential\n",
        "from keras.layers.normalization import batch_normalization\n",
        "from keras.layers.convolutional import Conv2D\n",
        "from keras.layers.convolutional import MaxPooling2D\n",
        "from keras.layers.core import Activation, Flatten, Dropout, Dense\n",
        "from keras import backend as K\n",
        "from tensorflow.keras.optimizers import Adam\n",
        "from keras.preprocessing import image\n",
        "from sklearn.preprocessing import MultiLabelBinarizer\n",
        "from sklearn.model_selection import train_test_split\n",
        "import matplotlib.pyplot as plt\n",
        "from sklearn.datasets import make_classification\n",
        "from numpy import mean\n",
        "from sklearn.metrics import confusion_matrix, ConfusionMatrixDisplay, accuracy_score, classification_report, recall_score\n"
      ],
      "execution_count": 1,
      "outputs": []
    },
    {
      "cell_type": "markdown",
      "metadata": {
        "id": "fp8C0d28lQok"
      },
      "source": [
        "Importing and Preparing Dataset"
      ]
    },
    {
      "cell_type": "code",
      "metadata": {
        "id": "_0xehllADlUs",
        "colab": {
          "base_uri": "https://localhost:8080/"
        },
        "outputId": "dad63c71-82b4-4fb9-e6fe-a10b6dfc2bca"
      },
      "source": [
        "!pip install pyunpack\n",
        "!pip install patool\n",
        "from pyunpack import Archive\n",
        "Archive('/content/fold4.rar').extractall('/content/Datasets/')\n",
        "iterasi = 4\n",
        "width=256\n",
        "height=256\n",
        "default_image_size = tuple((height, width))\n",
        "directory_root_train = '/content/Datasets/fold4/Train'\n",
        "directory_root_validation = '/content/Datasets/fold4/Validation'\n",
        "directory_root_test = '/content/Datasets/fold4/Test'\n",
        "image_size = 0\n",
        "depth=3"
      ],
      "execution_count": 2,
      "outputs": [
        {
          "output_type": "stream",
          "name": "stdout",
          "text": [
            "Collecting pyunpack\n",
            "  Downloading pyunpack-0.2.2-py2.py3-none-any.whl (3.8 kB)\n",
            "Collecting entrypoint2\n",
            "  Downloading entrypoint2-1.0-py3-none-any.whl (9.8 kB)\n",
            "Collecting easyprocess\n",
            "  Downloading EasyProcess-1.1-py3-none-any.whl (8.7 kB)\n",
            "Installing collected packages: entrypoint2, easyprocess, pyunpack\n",
            "Successfully installed easyprocess-1.1 entrypoint2-1.0 pyunpack-0.2.2\n",
            "Collecting patool\n",
            "  Downloading patool-1.12-py2.py3-none-any.whl (77 kB)\n",
            "\u001b[K     |████████████████████████████████| 77 kB 2.2 MB/s \n",
            "\u001b[?25hInstalling collected packages: patool\n",
            "Successfully installed patool-1.12\n"
          ]
        }
      ]
    },
    {
      "cell_type": "code",
      "metadata": {
        "id": "KbAwJJTpzmge"
      },
      "source": [
        "def convert_image_to_array(image_dir):\n",
        "    try:\n",
        "        image = cv2.imread(image_dir)\n",
        "        if image is not None :\n",
        "            image = cv2.resize(image, default_image_size)   \n",
        "            return keras.preprocessing.image.img_to_array(image)\n",
        "        else :\n",
        "            return np.array([])\n",
        "    except Exception as e:\n",
        "        print(f\"Error : {e}\")\n",
        "        return None"
      ],
      "execution_count": 3,
      "outputs": []
    },
    {
      "cell_type": "markdown",
      "source": [
        "Converting **Training** Data to Array"
      ],
      "metadata": {
        "id": "bgXxUMO2cI_D"
      }
    },
    {
      "cell_type": "code",
      "metadata": {
        "id": "Erz6IjKXzmgg",
        "colab": {
          "base_uri": "https://localhost:8080/"
        },
        "outputId": "d9bc756b-2b93-4c04-f708-cff6f2d48488"
      },
      "source": [
        "image_list_train, label_list_train = [], []\n",
        "try:\n",
        "    print(\"[INFO] Loading images ...\")\n",
        "    root_dir = listdir(directory_root_train)\n",
        "\n",
        "    for plant_disease_folder in root_dir:\n",
        "        print(f\"[INFO] Processing {plant_disease_folder} ...\")\n",
        "        plant_disease_image_list = listdir(f\"{directory_root_train}/{plant_disease_folder}/\")\n",
        "      \n",
        "        for image in plant_disease_image_list:\n",
        "            image_directory = f\"{directory_root_train}/{plant_disease_folder}/{image}\"\n",
        "\n",
        "            if image_directory.endswith(\".jpg\") == True or image_directory.endswith(\".JPG\") == True:\n",
        "                image_list_train.append(convert_image_to_array(image_directory))\n",
        "                label_list_train.append(plant_disease_folder)\n",
        "    print(\"[INFO] Image loading completed\")\n",
        "\n",
        "except Exception as e:\n",
        "    print(f\"Error : {e}\")\n",
        "\n",
        "#image labeling\n",
        "image_size = len(image_list_train)\n",
        "label_binarizer = LabelBinarizer()\n",
        "image_labels_train = label_binarizer.fit_transform(label_list_train)\n",
        "pickle.dump(label_binarizer,open('label_transform_train.pkl', 'wb'))\n",
        "n_classes = len(label_binarizer.classes_)\n",
        "np_image_list_train = np.array(image_list_train, dtype=np.float16) / 255.0"
      ],
      "execution_count": 4,
      "outputs": [
        {
          "output_type": "stream",
          "name": "stdout",
          "text": [
            "[INFO] Loading images ...\n",
            "[INFO] Processing Healthy ...\n",
            "[INFO] Processing Diseased ...\n",
            "[INFO] Image loading completed\n"
          ]
        }
      ]
    },
    {
      "cell_type": "markdown",
      "source": [
        "Converting **Validation** Data to Array"
      ],
      "metadata": {
        "id": "7eEMGiqRd_E4"
      }
    },
    {
      "cell_type": "code",
      "source": [
        "image_list_validation, label_list_validation = [], []\n",
        "try:\n",
        "    print(\"[INFO] Loading images ...\")\n",
        "    root_dir = listdir(directory_root_validation)\n",
        "\n",
        "    for plant_disease_folder in root_dir:\n",
        "        print(f\"[INFO] Processing {plant_disease_folder} ...\")\n",
        "        plant_disease_image_list = listdir(f\"{directory_root_validation}/{plant_disease_folder}/\")\n",
        "      \n",
        "        for image in plant_disease_image_list:\n",
        "            image_directory = f\"{directory_root_validation}/{plant_disease_folder}/{image}\"\n",
        "\n",
        "            if image_directory.endswith(\".jpg\") == True or image_directory.endswith(\".JPG\") == True:\n",
        "                image_list_validation.append(convert_image_to_array(image_directory))\n",
        "                label_list_validation.append(plant_disease_folder)\n",
        "    print(\"[INFO] Image loading completed\")\n",
        "\n",
        "except Exception as e:\n",
        "    print(f\"Error : {e}\")\n",
        "\n",
        "#image labeling\n",
        "image_size = len(image_list_validation)\n",
        "label_binarizer = LabelBinarizer()\n",
        "image_labels_validation = label_binarizer.fit_transform(label_list_validation)\n",
        "pickle.dump(label_binarizer,open('label_transform_validation.pkl', 'wb'))\n",
        "n_classes = len(label_binarizer.classes_)\n",
        "np_image_list_validation = np.array(image_list_validation, dtype=np.float16) / 255.0"
      ],
      "metadata": {
        "id": "wfHDdR0ZeEuU",
        "colab": {
          "base_uri": "https://localhost:8080/"
        },
        "outputId": "b2bae591-94cd-4142-d52e-551cd0adb30e"
      },
      "execution_count": 5,
      "outputs": [
        {
          "output_type": "stream",
          "name": "stdout",
          "text": [
            "[INFO] Loading images ...\n",
            "[INFO] Processing Healthy ...\n",
            "[INFO] Processing Diseased ...\n",
            "[INFO] Image loading completed\n"
          ]
        }
      ]
    },
    {
      "cell_type": "markdown",
      "source": [
        "Converting **Testing** Data to Array"
      ],
      "metadata": {
        "id": "brwWyZVncTdg"
      }
    },
    {
      "cell_type": "code",
      "metadata": {
        "id": "uNPby5UMcaWY",
        "colab": {
          "base_uri": "https://localhost:8080/"
        },
        "outputId": "c4ae4d0b-a99d-47e6-8262-9d6eed5e9a54"
      },
      "source": [
        "image_list_test, label_list_test = [], []\n",
        "try:\n",
        "    print(\"[INFO] Loading images ...\")\n",
        "    root_dir = listdir(directory_root_test)\n",
        "\n",
        "    for plant_disease_folder in root_dir:\n",
        "        print(f\"[INFO] Processing {plant_disease_folder} ...\")\n",
        "        plant_disease_image_list = listdir(f\"{directory_root_test}/{plant_disease_folder}/\")\n",
        "      \n",
        "        for image in plant_disease_image_list:\n",
        "            image_directory = f\"{directory_root_test}/{plant_disease_folder}/{image}\"\n",
        "\n",
        "            if image_directory.endswith(\".jpg\") == True or image_directory.endswith(\".JPG\") == True:\n",
        "                image_list_test.append(convert_image_to_array(image_directory))\n",
        "                label_list_test.append(plant_disease_folder)\n",
        "    print(\"[INFO] Image loading completed\")\n",
        "\n",
        "except Exception as e:\n",
        "    print(f\"Error : {e}\")\n",
        "\n",
        "#image labeling\n",
        "image_size = len(image_list_test)\n",
        "label_binarizer = LabelBinarizer()\n",
        "image_labels_test = label_binarizer.fit_transform(label_list_test)\n",
        "pickle.dump(label_binarizer,open('label_transform_test.pkl', 'wb'))\n",
        "n_classes = len(label_binarizer.classes_)\n",
        "np_image_list_test = np.array(image_list_test, dtype=np.float16) / 255.0"
      ],
      "execution_count": 6,
      "outputs": [
        {
          "output_type": "stream",
          "name": "stdout",
          "text": [
            "[INFO] Loading images ...\n",
            "[INFO] Processing Healthy ...\n",
            "[INFO] Processing Diseased ...\n",
            "[INFO] Image loading completed\n"
          ]
        }
      ]
    },
    {
      "cell_type": "markdown",
      "metadata": {
        "id": "jYBTFN0CnAi7"
      },
      "source": [
        "Data Augmenting Initialization"
      ]
    },
    {
      "cell_type": "code",
      "metadata": {
        "id": "TLMxMK2Tzmgr"
      },
      "source": [
        "aug = keras.preprocessing.image.ImageDataGenerator(\n",
        "    rotation_range=25, \n",
        "    width_shift_range=0.1,\n",
        "    height_shift_range=0.1, \n",
        "    shear_range=0.2, \n",
        "    zoom_range=0.2,\n",
        "    horizontal_flip=True, \n",
        "    fill_mode=\"nearest\")"
      ],
      "execution_count": 7,
      "outputs": []
    },
    {
      "cell_type": "markdown",
      "metadata": {
        "id": "H1BfRyYNnGv_"
      },
      "source": [
        "Creating CNN Model"
      ]
    },
    {
      "cell_type": "code",
      "metadata": {
        "id": "WmLX4wm8zmgs"
      },
      "source": [
        "model = keras.models.Sequential()\n",
        "inputShape = (height, width, depth)\n",
        "\n",
        "model.add(Conv2D(32, (3, 3), padding=\"same\",input_shape=inputShape))\n",
        "model.add(Activation(\"relu\"))\n",
        "\n",
        "model.add(MaxPooling2D(pool_size=(3, 3)))\n",
        "\n",
        "model.add(Conv2D(64, (3, 3), padding=\"same\"))\n",
        "model.add(Activation(\"relu\"))\n",
        "\n",
        "model.add(MaxPooling2D(pool_size=(3, 3)))\n",
        "\n",
        "model.add(Flatten())\n",
        "\n",
        "model.add(Dense(1024))\n",
        "model.add(Activation(\"relu\"))\n",
        "\n",
        "model.add(Dense(1))\n",
        "model.add(Activation(\"sigmoid\"))"
      ],
      "execution_count": 8,
      "outputs": []
    },
    {
      "cell_type": "code",
      "source": [
        "#model.summary()"
      ],
      "metadata": {
        "id": "RQIgaph8hW06"
      },
      "execution_count": 9,
      "outputs": []
    },
    {
      "cell_type": "code",
      "source": [
        "#from PIL import Image\n",
        "#from keras.utils.vis_utils import plot_model\n",
        "#plot_model(model, to_file='cnn_model.png', show_shapes=True, show_layer_names=True)\n",
        "#display(Image.open('cnn_model.png'))"
      ],
      "metadata": {
        "id": "T05gPuu1GudW"
      },
      "execution_count": 10,
      "outputs": []
    },
    {
      "cell_type": "markdown",
      "metadata": {
        "id": "Zfsu3lVfnXFG"
      },
      "source": [
        "**Training** Network"
      ]
    },
    {
      "cell_type": "code",
      "metadata": {
        "id": "rvwKwe3Lzmgv",
        "colab": {
          "base_uri": "https://localhost:8080/"
        },
        "outputId": "d8ed7cf5-3933-42b9-fe20-8a504d2116dd"
      },
      "source": [
        "EPOCHS = 100\n",
        "INIT_LR = 1e-3\n",
        "BS = 32\n",
        "\n",
        "with tf.device('/GPU:0'):\n",
        "  opt = Adam(learning_rate=INIT_LR, decay=INIT_LR / EPOCHS)\n",
        "  model.compile(loss=\"binary_crossentropy\", optimizer=opt,metrics=[\"Accuracy\", \"FalseNegatives\", \"FalsePositives\", \"TrueNegatives\", \"TruePositives\"])\n",
        "  \n",
        "  history = model.fit(\n",
        "      aug.flow(np_image_list_train, image_labels_train, batch_size=BS),\n",
        "      validation_data=(np_image_list_validation, image_labels_validation),\n",
        "      steps_per_epoch=len(np_image_list_train) // BS,\n",
        "      epochs=EPOCHS, \n",
        "      verbose=1,\n",
        "      )\n"
      ],
      "execution_count": 11,
      "outputs": [
        {
          "output_type": "stream",
          "name": "stdout",
          "text": [
            "Epoch 1/100\n",
            "9/9 [==============================] - 22s 508ms/step - loss: 1.7002 - Accuracy: 0.5486 - false_negatives: 63.0000 - false_positives: 67.0000 - true_negatives: 87.0000 - true_positives: 71.0000 - val_loss: 0.7882 - val_Accuracy: 0.5278 - val_false_negatives: 34.0000 - val_false_positives: 0.0000e+00 - val_true_negatives: 38.0000 - val_true_positives: 0.0000e+00\n",
            "Epoch 2/100\n",
            "9/9 [==============================] - 4s 471ms/step - loss: 0.6449 - Accuracy: 0.5868 - false_negatives: 76.0000 - false_positives: 43.0000 - true_negatives: 111.0000 - true_positives: 58.0000 - val_loss: 0.6896 - val_Accuracy: 0.5972 - val_false_negatives: 18.0000 - val_false_positives: 11.0000 - val_true_negatives: 27.0000 - val_true_positives: 16.0000\n",
            "Epoch 3/100\n",
            "9/9 [==============================] - 4s 471ms/step - loss: 0.5909 - Accuracy: 0.6701 - false_negatives: 41.0000 - false_positives: 54.0000 - true_negatives: 100.0000 - true_positives: 93.0000 - val_loss: 0.6631 - val_Accuracy: 0.6389 - val_false_negatives: 18.0000 - val_false_positives: 8.0000 - val_true_negatives: 30.0000 - val_true_positives: 16.0000\n",
            "Epoch 4/100\n",
            "9/9 [==============================] - 4s 472ms/step - loss: 0.5323 - Accuracy: 0.7188 - false_negatives: 37.0000 - false_positives: 44.0000 - true_negatives: 110.0000 - true_positives: 97.0000 - val_loss: 0.6254 - val_Accuracy: 0.6944 - val_false_negatives: 14.0000 - val_false_positives: 8.0000 - val_true_negatives: 30.0000 - val_true_positives: 20.0000\n",
            "Epoch 5/100\n",
            "9/9 [==============================] - 4s 472ms/step - loss: 0.4969 - Accuracy: 0.7674 - false_negatives: 25.0000 - false_positives: 42.0000 - true_negatives: 112.0000 - true_positives: 109.0000 - val_loss: 0.6086 - val_Accuracy: 0.7222 - val_false_negatives: 15.0000 - val_false_positives: 5.0000 - val_true_negatives: 33.0000 - val_true_positives: 19.0000\n",
            "Epoch 6/100\n",
            "9/9 [==============================] - 4s 473ms/step - loss: 0.4653 - Accuracy: 0.7778 - false_negatives: 27.0000 - false_positives: 37.0000 - true_negatives: 117.0000 - true_positives: 107.0000 - val_loss: 0.5129 - val_Accuracy: 0.7778 - val_false_negatives: 8.0000 - val_false_positives: 8.0000 - val_true_negatives: 30.0000 - val_true_positives: 26.0000\n",
            "Epoch 7/100\n",
            "9/9 [==============================] - 4s 472ms/step - loss: 0.4246 - Accuracy: 0.8160 - false_negatives: 15.0000 - false_positives: 38.0000 - true_negatives: 116.0000 - true_positives: 119.0000 - val_loss: 0.6894 - val_Accuracy: 0.7222 - val_false_negatives: 15.0000 - val_false_positives: 5.0000 - val_true_negatives: 33.0000 - val_true_positives: 19.0000\n",
            "Epoch 8/100\n",
            "9/9 [==============================] - 4s 472ms/step - loss: 0.4003 - Accuracy: 0.8125 - false_negatives: 20.0000 - false_positives: 34.0000 - true_negatives: 120.0000 - true_positives: 114.0000 - val_loss: 0.6785 - val_Accuracy: 0.7361 - val_false_negatives: 15.0000 - val_false_positives: 4.0000 - val_true_negatives: 34.0000 - val_true_positives: 19.0000\n",
            "Epoch 9/100\n",
            "9/9 [==============================] - 4s 474ms/step - loss: 0.4337 - Accuracy: 0.8160 - false_negatives: 21.0000 - false_positives: 32.0000 - true_negatives: 122.0000 - true_positives: 113.0000 - val_loss: 0.7820 - val_Accuracy: 0.6667 - val_false_negatives: 21.0000 - val_false_positives: 3.0000 - val_true_negatives: 35.0000 - val_true_positives: 13.0000\n",
            "Epoch 10/100\n",
            "9/9 [==============================] - 4s 469ms/step - loss: 0.3837 - Accuracy: 0.8472 - false_negatives: 20.0000 - false_positives: 24.0000 - true_negatives: 130.0000 - true_positives: 114.0000 - val_loss: 0.6111 - val_Accuracy: 0.7778 - val_false_negatives: 10.0000 - val_false_positives: 6.0000 - val_true_negatives: 32.0000 - val_true_positives: 24.0000\n",
            "Epoch 11/100\n",
            "9/9 [==============================] - 4s 471ms/step - loss: 0.4595 - Accuracy: 0.7708 - false_negatives: 32.0000 - false_positives: 34.0000 - true_negatives: 120.0000 - true_positives: 102.0000 - val_loss: 0.5338 - val_Accuracy: 0.7917 - val_false_negatives: 6.0000 - val_false_positives: 9.0000 - val_true_negatives: 29.0000 - val_true_positives: 28.0000\n",
            "Epoch 12/100\n",
            "9/9 [==============================] - 4s 474ms/step - loss: 0.4035 - Accuracy: 0.8090 - false_negatives: 14.0000 - false_positives: 41.0000 - true_negatives: 113.0000 - true_positives: 120.0000 - val_loss: 0.8062 - val_Accuracy: 0.6944 - val_false_negatives: 17.0000 - val_false_positives: 5.0000 - val_true_negatives: 33.0000 - val_true_positives: 17.0000\n",
            "Epoch 13/100\n",
            "9/9 [==============================] - 4s 479ms/step - loss: 0.4097 - Accuracy: 0.8264 - false_negatives: 19.0000 - false_positives: 31.0000 - true_negatives: 123.0000 - true_positives: 115.0000 - val_loss: 0.9293 - val_Accuracy: 0.6806 - val_false_negatives: 19.0000 - val_false_positives: 4.0000 - val_true_negatives: 34.0000 - val_true_positives: 15.0000\n",
            "Epoch 14/100\n",
            "9/9 [==============================] - 4s 473ms/step - loss: 0.4112 - Accuracy: 0.8194 - false_negatives: 20.0000 - false_positives: 32.0000 - true_negatives: 122.0000 - true_positives: 114.0000 - val_loss: 0.5702 - val_Accuracy: 0.7639 - val_false_negatives: 11.0000 - val_false_positives: 6.0000 - val_true_negatives: 32.0000 - val_true_positives: 23.0000\n",
            "Epoch 15/100\n",
            "9/9 [==============================] - 4s 469ms/step - loss: 0.3780 - Accuracy: 0.8403 - false_negatives: 14.0000 - false_positives: 32.0000 - true_negatives: 122.0000 - true_positives: 120.0000 - val_loss: 0.8133 - val_Accuracy: 0.6944 - val_false_negatives: 16.0000 - val_false_positives: 6.0000 - val_true_negatives: 32.0000 - val_true_positives: 18.0000\n",
            "Epoch 16/100\n",
            "9/9 [==============================] - 4s 467ms/step - loss: 0.3614 - Accuracy: 0.8507 - false_negatives: 18.0000 - false_positives: 25.0000 - true_negatives: 129.0000 - true_positives: 116.0000 - val_loss: 0.6250 - val_Accuracy: 0.7500 - val_false_negatives: 11.0000 - val_false_positives: 7.0000 - val_true_negatives: 31.0000 - val_true_positives: 23.0000\n",
            "Epoch 17/100\n",
            "9/9 [==============================] - 4s 471ms/step - loss: 0.3331 - Accuracy: 0.8750 - false_negatives: 14.0000 - false_positives: 22.0000 - true_negatives: 132.0000 - true_positives: 120.0000 - val_loss: 0.7088 - val_Accuracy: 0.7500 - val_false_negatives: 12.0000 - val_false_positives: 6.0000 - val_true_negatives: 32.0000 - val_true_positives: 22.0000\n",
            "Epoch 18/100\n",
            "9/9 [==============================] - 5s 515ms/step - loss: 0.3652 - Accuracy: 0.8403 - false_negatives: 20.0000 - false_positives: 26.0000 - true_negatives: 128.0000 - true_positives: 114.0000 - val_loss: 0.5303 - val_Accuracy: 0.7778 - val_false_negatives: 9.0000 - val_false_positives: 7.0000 - val_true_negatives: 31.0000 - val_true_positives: 25.0000\n",
            "Epoch 19/100\n",
            "9/9 [==============================] - 4s 471ms/step - loss: 0.3532 - Accuracy: 0.8507 - false_negatives: 21.0000 - false_positives: 22.0000 - true_negatives: 132.0000 - true_positives: 113.0000 - val_loss: 0.6740 - val_Accuracy: 0.7639 - val_false_negatives: 9.0000 - val_false_positives: 8.0000 - val_true_negatives: 30.0000 - val_true_positives: 25.0000\n",
            "Epoch 20/100\n",
            "9/9 [==============================] - 5s 511ms/step - loss: 0.3522 - Accuracy: 0.8507 - false_negatives: 16.0000 - false_positives: 27.0000 - true_negatives: 127.0000 - true_positives: 118.0000 - val_loss: 0.7501 - val_Accuracy: 0.7222 - val_false_negatives: 16.0000 - val_false_positives: 4.0000 - val_true_negatives: 34.0000 - val_true_positives: 18.0000\n",
            "Epoch 21/100\n",
            "9/9 [==============================] - 5s 582ms/step - loss: 0.3639 - Accuracy: 0.8333 - false_negatives: 18.0000 - false_positives: 30.0000 - true_negatives: 124.0000 - true_positives: 116.0000 - val_loss: 0.7217 - val_Accuracy: 0.7083 - val_false_negatives: 15.0000 - val_false_positives: 6.0000 - val_true_negatives: 32.0000 - val_true_positives: 19.0000\n",
            "Epoch 22/100\n",
            "9/9 [==============================] - 4s 474ms/step - loss: 0.3728 - Accuracy: 0.8438 - false_negatives: 16.0000 - false_positives: 29.0000 - true_negatives: 125.0000 - true_positives: 118.0000 - val_loss: 0.9533 - val_Accuracy: 0.6667 - val_false_negatives: 20.0000 - val_false_positives: 4.0000 - val_true_negatives: 34.0000 - val_true_positives: 14.0000\n",
            "Epoch 23/100\n",
            "9/9 [==============================] - 4s 466ms/step - loss: 0.3313 - Accuracy: 0.8681 - false_negatives: 13.0000 - false_positives: 25.0000 - true_negatives: 129.0000 - true_positives: 121.0000 - val_loss: 0.9581 - val_Accuracy: 0.6806 - val_false_negatives: 20.0000 - val_false_positives: 3.0000 - val_true_negatives: 35.0000 - val_true_positives: 14.0000\n",
            "Epoch 24/100\n",
            "9/9 [==============================] - 4s 471ms/step - loss: 0.3240 - Accuracy: 0.8611 - false_negatives: 18.0000 - false_positives: 22.0000 - true_negatives: 132.0000 - true_positives: 116.0000 - val_loss: 0.8045 - val_Accuracy: 0.6944 - val_false_negatives: 17.0000 - val_false_positives: 5.0000 - val_true_negatives: 33.0000 - val_true_positives: 17.0000\n",
            "Epoch 25/100\n",
            "9/9 [==============================] - 4s 469ms/step - loss: 0.3196 - Accuracy: 0.8542 - false_negatives: 16.0000 - false_positives: 26.0000 - true_negatives: 128.0000 - true_positives: 118.0000 - val_loss: 0.7642 - val_Accuracy: 0.7083 - val_false_negatives: 16.0000 - val_false_positives: 5.0000 - val_true_negatives: 33.0000 - val_true_positives: 18.0000\n",
            "Epoch 26/100\n",
            "9/9 [==============================] - 4s 471ms/step - loss: 0.3117 - Accuracy: 0.8611 - false_negatives: 15.0000 - false_positives: 25.0000 - true_negatives: 129.0000 - true_positives: 119.0000 - val_loss: 0.8049 - val_Accuracy: 0.7083 - val_false_negatives: 15.0000 - val_false_positives: 6.0000 - val_true_negatives: 32.0000 - val_true_positives: 19.0000\n",
            "Epoch 27/100\n",
            "9/9 [==============================] - 4s 468ms/step - loss: 0.3134 - Accuracy: 0.8681 - false_negatives: 13.0000 - false_positives: 25.0000 - true_negatives: 129.0000 - true_positives: 121.0000 - val_loss: 0.6574 - val_Accuracy: 0.7361 - val_false_negatives: 13.0000 - val_false_positives: 6.0000 - val_true_negatives: 32.0000 - val_true_positives: 21.0000\n",
            "Epoch 28/100\n",
            "9/9 [==============================] - 4s 469ms/step - loss: 0.3246 - Accuracy: 0.8403 - false_negatives: 16.0000 - false_positives: 30.0000 - true_negatives: 124.0000 - true_positives: 118.0000 - val_loss: 0.6078 - val_Accuracy: 0.7500 - val_false_negatives: 11.0000 - val_false_positives: 7.0000 - val_true_negatives: 31.0000 - val_true_positives: 23.0000\n",
            "Epoch 29/100\n",
            "9/9 [==============================] - 4s 469ms/step - loss: 0.3498 - Accuracy: 0.8333 - false_negatives: 20.0000 - false_positives: 28.0000 - true_negatives: 126.0000 - true_positives: 114.0000 - val_loss: 0.9530 - val_Accuracy: 0.6944 - val_false_negatives: 16.0000 - val_false_positives: 6.0000 - val_true_negatives: 32.0000 - val_true_positives: 18.0000\n",
            "Epoch 30/100\n",
            "9/9 [==============================] - 4s 469ms/step - loss: 0.4177 - Accuracy: 0.7986 - false_negatives: 27.0000 - false_positives: 31.0000 - true_negatives: 123.0000 - true_positives: 107.0000 - val_loss: 0.4717 - val_Accuracy: 0.7778 - val_false_negatives: 1.0000 - val_false_positives: 15.0000 - val_true_negatives: 23.0000 - val_true_positives: 33.0000\n",
            "Epoch 31/100\n",
            "9/9 [==============================] - 4s 470ms/step - loss: 0.3954 - Accuracy: 0.8125 - false_negatives: 22.0000 - false_positives: 32.0000 - true_negatives: 122.0000 - true_positives: 112.0000 - val_loss: 0.6386 - val_Accuracy: 0.7361 - val_false_negatives: 11.0000 - val_false_positives: 8.0000 - val_true_negatives: 30.0000 - val_true_positives: 23.0000\n",
            "Epoch 32/100\n",
            "9/9 [==============================] - 4s 472ms/step - loss: 0.3718 - Accuracy: 0.8472 - false_negatives: 12.0000 - false_positives: 32.0000 - true_negatives: 122.0000 - true_positives: 122.0000 - val_loss: 0.6857 - val_Accuracy: 0.7222 - val_false_negatives: 13.0000 - val_false_positives: 7.0000 - val_true_negatives: 31.0000 - val_true_positives: 21.0000\n",
            "Epoch 33/100\n",
            "9/9 [==============================] - 4s 469ms/step - loss: 0.3091 - Accuracy: 0.8854 - false_negatives: 13.0000 - false_positives: 20.0000 - true_negatives: 134.0000 - true_positives: 121.0000 - val_loss: 0.7330 - val_Accuracy: 0.7222 - val_false_negatives: 13.0000 - val_false_positives: 7.0000 - val_true_negatives: 31.0000 - val_true_positives: 21.0000\n",
            "Epoch 34/100\n",
            "9/9 [==============================] - 4s 468ms/step - loss: 0.2999 - Accuracy: 0.8646 - false_negatives: 17.0000 - false_positives: 22.0000 - true_negatives: 132.0000 - true_positives: 117.0000 - val_loss: 0.9921 - val_Accuracy: 0.6944 - val_false_negatives: 17.0000 - val_false_positives: 5.0000 - val_true_negatives: 33.0000 - val_true_positives: 17.0000\n",
            "Epoch 35/100\n",
            "9/9 [==============================] - 4s 468ms/step - loss: 0.3756 - Accuracy: 0.8125 - false_negatives: 29.0000 - false_positives: 25.0000 - true_negatives: 129.0000 - true_positives: 105.0000 - val_loss: 0.6333 - val_Accuracy: 0.7639 - val_false_negatives: 10.0000 - val_false_positives: 7.0000 - val_true_negatives: 31.0000 - val_true_positives: 24.0000\n",
            "Epoch 36/100\n",
            "9/9 [==============================] - 4s 467ms/step - loss: 0.3356 - Accuracy: 0.8646 - false_negatives: 14.0000 - false_positives: 25.0000 - true_negatives: 129.0000 - true_positives: 120.0000 - val_loss: 0.5956 - val_Accuracy: 0.7361 - val_false_negatives: 13.0000 - val_false_positives: 6.0000 - val_true_negatives: 32.0000 - val_true_positives: 21.0000\n",
            "Epoch 37/100\n",
            "9/9 [==============================] - 5s 514ms/step - loss: 0.3428 - Accuracy: 0.8576 - false_negatives: 19.0000 - false_positives: 22.0000 - true_negatives: 132.0000 - true_positives: 115.0000 - val_loss: 0.6321 - val_Accuracy: 0.7222 - val_false_negatives: 14.0000 - val_false_positives: 6.0000 - val_true_negatives: 32.0000 - val_true_positives: 20.0000\n",
            "Epoch 38/100\n",
            "9/9 [==============================] - 4s 468ms/step - loss: 0.2851 - Accuracy: 0.8715 - false_negatives: 13.0000 - false_positives: 24.0000 - true_negatives: 130.0000 - true_positives: 121.0000 - val_loss: 0.8868 - val_Accuracy: 0.7083 - val_false_negatives: 16.0000 - val_false_positives: 5.0000 - val_true_negatives: 33.0000 - val_true_positives: 18.0000\n",
            "Epoch 39/100\n",
            "9/9 [==============================] - 4s 466ms/step - loss: 0.3500 - Accuracy: 0.8438 - false_negatives: 22.0000 - false_positives: 23.0000 - true_negatives: 131.0000 - true_positives: 112.0000 - val_loss: 0.7179 - val_Accuracy: 0.7361 - val_false_negatives: 12.0000 - val_false_positives: 7.0000 - val_true_negatives: 31.0000 - val_true_positives: 22.0000\n",
            "Epoch 40/100\n",
            "9/9 [==============================] - 4s 470ms/step - loss: 0.3190 - Accuracy: 0.8611 - false_negatives: 12.0000 - false_positives: 28.0000 - true_negatives: 126.0000 - true_positives: 122.0000 - val_loss: 0.7847 - val_Accuracy: 0.7500 - val_false_negatives: 11.0000 - val_false_positives: 7.0000 - val_true_negatives: 31.0000 - val_true_positives: 23.0000\n",
            "Epoch 41/100\n",
            "9/9 [==============================] - 4s 465ms/step - loss: 0.3521 - Accuracy: 0.8611 - false_negatives: 21.0000 - false_positives: 19.0000 - true_negatives: 135.0000 - true_positives: 113.0000 - val_loss: 0.5717 - val_Accuracy: 0.8472 - val_false_negatives: 4.0000 - val_false_positives: 7.0000 - val_true_negatives: 31.0000 - val_true_positives: 30.0000\n",
            "Epoch 42/100\n",
            "9/9 [==============================] - 4s 470ms/step - loss: 0.3922 - Accuracy: 0.8090 - false_negatives: 18.0000 - false_positives: 37.0000 - true_negatives: 117.0000 - true_positives: 116.0000 - val_loss: 0.7858 - val_Accuracy: 0.7083 - val_false_negatives: 16.0000 - val_false_positives: 5.0000 - val_true_negatives: 33.0000 - val_true_positives: 18.0000\n",
            "Epoch 43/100\n",
            "9/9 [==============================] - 4s 468ms/step - loss: 0.3560 - Accuracy: 0.8646 - false_negatives: 8.0000 - false_positives: 31.0000 - true_negatives: 123.0000 - true_positives: 126.0000 - val_loss: 0.9995 - val_Accuracy: 0.6944 - val_false_negatives: 18.0000 - val_false_positives: 4.0000 - val_true_negatives: 34.0000 - val_true_positives: 16.0000\n",
            "Epoch 44/100\n",
            "9/9 [==============================] - 4s 465ms/step - loss: 0.3062 - Accuracy: 0.8819 - false_negatives: 10.0000 - false_positives: 24.0000 - true_negatives: 130.0000 - true_positives: 124.0000 - val_loss: 0.5381 - val_Accuracy: 0.7917 - val_false_negatives: 8.0000 - val_false_positives: 7.0000 - val_true_negatives: 31.0000 - val_true_positives: 26.0000\n",
            "Epoch 45/100\n",
            "9/9 [==============================] - 4s 470ms/step - loss: 0.3006 - Accuracy: 0.8889 - false_negatives: 14.0000 - false_positives: 18.0000 - true_negatives: 136.0000 - true_positives: 120.0000 - val_loss: 0.7635 - val_Accuracy: 0.7500 - val_false_negatives: 11.0000 - val_false_positives: 7.0000 - val_true_negatives: 31.0000 - val_true_positives: 23.0000\n",
            "Epoch 46/100\n",
            "9/9 [==============================] - 4s 477ms/step - loss: 0.3218 - Accuracy: 0.8854 - false_negatives: 14.0000 - false_positives: 19.0000 - true_negatives: 135.0000 - true_positives: 120.0000 - val_loss: 0.7363 - val_Accuracy: 0.7639 - val_false_negatives: 10.0000 - val_false_positives: 7.0000 - val_true_negatives: 31.0000 - val_true_positives: 24.0000\n",
            "Epoch 47/100\n",
            "9/9 [==============================] - 4s 473ms/step - loss: 0.3186 - Accuracy: 0.8576 - false_negatives: 13.0000 - false_positives: 28.0000 - true_negatives: 126.0000 - true_positives: 121.0000 - val_loss: 0.7022 - val_Accuracy: 0.7222 - val_false_negatives: 15.0000 - val_false_positives: 5.0000 - val_true_negatives: 33.0000 - val_true_positives: 19.0000\n",
            "Epoch 48/100\n",
            "9/9 [==============================] - 4s 474ms/step - loss: 0.2801 - Accuracy: 0.8750 - false_negatives: 15.0000 - false_positives: 21.0000 - true_negatives: 133.0000 - true_positives: 119.0000 - val_loss: 0.8467 - val_Accuracy: 0.7083 - val_false_negatives: 15.0000 - val_false_positives: 6.0000 - val_true_negatives: 32.0000 - val_true_positives: 19.0000\n",
            "Epoch 49/100\n",
            "9/9 [==============================] - 4s 471ms/step - loss: 0.2704 - Accuracy: 0.8889 - false_negatives: 16.0000 - false_positives: 16.0000 - true_negatives: 138.0000 - true_positives: 118.0000 - val_loss: 0.7610 - val_Accuracy: 0.7222 - val_false_negatives: 13.0000 - val_false_positives: 7.0000 - val_true_negatives: 31.0000 - val_true_positives: 21.0000\n",
            "Epoch 50/100\n",
            "9/9 [==============================] - 4s 473ms/step - loss: 0.2602 - Accuracy: 0.8854 - false_negatives: 10.0000 - false_positives: 23.0000 - true_negatives: 131.0000 - true_positives: 124.0000 - val_loss: 0.9201 - val_Accuracy: 0.7083 - val_false_negatives: 15.0000 - val_false_positives: 6.0000 - val_true_negatives: 32.0000 - val_true_positives: 19.0000\n",
            "Epoch 51/100\n",
            "9/9 [==============================] - 4s 467ms/step - loss: 0.3132 - Accuracy: 0.8854 - false_negatives: 17.0000 - false_positives: 16.0000 - true_negatives: 138.0000 - true_positives: 117.0000 - val_loss: 0.9956 - val_Accuracy: 0.6806 - val_false_negatives: 16.0000 - val_false_positives: 7.0000 - val_true_negatives: 31.0000 - val_true_positives: 18.0000\n",
            "Epoch 52/100\n",
            "9/9 [==============================] - 4s 473ms/step - loss: 0.2608 - Accuracy: 0.8785 - false_negatives: 9.0000 - false_positives: 26.0000 - true_negatives: 128.0000 - true_positives: 125.0000 - val_loss: 0.8644 - val_Accuracy: 0.6389 - val_false_negatives: 19.0000 - val_false_positives: 7.0000 - val_true_negatives: 31.0000 - val_true_positives: 15.0000\n",
            "Epoch 53/100\n",
            "9/9 [==============================] - 4s 474ms/step - loss: 0.2704 - Accuracy: 0.8854 - false_negatives: 12.0000 - false_positives: 21.0000 - true_negatives: 133.0000 - true_positives: 122.0000 - val_loss: 1.1683 - val_Accuracy: 0.6111 - val_false_negatives: 22.0000 - val_false_positives: 6.0000 - val_true_negatives: 32.0000 - val_true_positives: 12.0000\n",
            "Epoch 54/100\n",
            "9/9 [==============================] - 4s 472ms/step - loss: 0.3184 - Accuracy: 0.8715 - false_negatives: 14.0000 - false_positives: 23.0000 - true_negatives: 131.0000 - true_positives: 120.0000 - val_loss: 1.6214 - val_Accuracy: 0.5972 - val_false_negatives: 26.0000 - val_false_positives: 3.0000 - val_true_negatives: 35.0000 - val_true_positives: 8.0000\n",
            "Epoch 55/100\n",
            "9/9 [==============================] - 4s 474ms/step - loss: 0.4086 - Accuracy: 0.8264 - false_negatives: 20.0000 - false_positives: 30.0000 - true_negatives: 124.0000 - true_positives: 114.0000 - val_loss: 0.9244 - val_Accuracy: 0.6667 - val_false_negatives: 19.0000 - val_false_positives: 5.0000 - val_true_negatives: 33.0000 - val_true_positives: 15.0000\n",
            "Epoch 56/100\n",
            "9/9 [==============================] - 4s 472ms/step - loss: 0.2990 - Accuracy: 0.8611 - false_negatives: 16.0000 - false_positives: 24.0000 - true_negatives: 130.0000 - true_positives: 118.0000 - val_loss: 0.6805 - val_Accuracy: 0.7639 - val_false_negatives: 10.0000 - val_false_positives: 7.0000 - val_true_negatives: 31.0000 - val_true_positives: 24.0000\n",
            "Epoch 57/100\n",
            "9/9 [==============================] - 4s 468ms/step - loss: 0.2749 - Accuracy: 0.8819 - false_negatives: 14.0000 - false_positives: 20.0000 - true_negatives: 134.0000 - true_positives: 120.0000 - val_loss: 0.7591 - val_Accuracy: 0.7639 - val_false_negatives: 10.0000 - val_false_positives: 7.0000 - val_true_negatives: 31.0000 - val_true_positives: 24.0000\n",
            "Epoch 58/100\n",
            "9/9 [==============================] - 4s 465ms/step - loss: 0.2459 - Accuracy: 0.8785 - false_negatives: 14.0000 - false_positives: 21.0000 - true_negatives: 133.0000 - true_positives: 120.0000 - val_loss: 0.8313 - val_Accuracy: 0.7500 - val_false_negatives: 11.0000 - val_false_positives: 7.0000 - val_true_negatives: 31.0000 - val_true_positives: 23.0000\n",
            "Epoch 59/100\n",
            "9/9 [==============================] - 4s 468ms/step - loss: 0.2576 - Accuracy: 0.8854 - false_negatives: 14.0000 - false_positives: 19.0000 - true_negatives: 135.0000 - true_positives: 120.0000 - val_loss: 0.9050 - val_Accuracy: 0.7083 - val_false_negatives: 14.0000 - val_false_positives: 7.0000 - val_true_negatives: 31.0000 - val_true_positives: 20.0000\n",
            "Epoch 60/100\n",
            "9/9 [==============================] - 4s 473ms/step - loss: 0.2338 - Accuracy: 0.9132 - false_negatives: 11.0000 - false_positives: 14.0000 - true_negatives: 140.0000 - true_positives: 123.0000 - val_loss: 1.0899 - val_Accuracy: 0.7639 - val_false_negatives: 1.0000 - val_false_positives: 16.0000 - val_true_negatives: 22.0000 - val_true_positives: 33.0000\n",
            "Epoch 61/100\n",
            "9/9 [==============================] - 4s 472ms/step - loss: 0.3814 - Accuracy: 0.8681 - false_negatives: 10.0000 - false_positives: 28.0000 - true_negatives: 126.0000 - true_positives: 124.0000 - val_loss: 0.7330 - val_Accuracy: 0.7500 - val_false_negatives: 11.0000 - val_false_positives: 7.0000 - val_true_negatives: 31.0000 - val_true_positives: 23.0000\n",
            "Epoch 62/100\n",
            "9/9 [==============================] - 4s 474ms/step - loss: 0.2802 - Accuracy: 0.8715 - false_negatives: 16.0000 - false_positives: 21.0000 - true_negatives: 133.0000 - true_positives: 118.0000 - val_loss: 1.0931 - val_Accuracy: 0.6667 - val_false_negatives: 17.0000 - val_false_positives: 7.0000 - val_true_negatives: 31.0000 - val_true_positives: 17.0000\n",
            "Epoch 63/100\n",
            "9/9 [==============================] - 4s 468ms/step - loss: 0.2762 - Accuracy: 0.8924 - false_negatives: 12.0000 - false_positives: 19.0000 - true_negatives: 135.0000 - true_positives: 122.0000 - val_loss: 1.1068 - val_Accuracy: 0.6667 - val_false_negatives: 17.0000 - val_false_positives: 7.0000 - val_true_negatives: 31.0000 - val_true_positives: 17.0000\n",
            "Epoch 64/100\n",
            "9/9 [==============================] - 4s 468ms/step - loss: 0.2671 - Accuracy: 0.8785 - false_negatives: 17.0000 - false_positives: 18.0000 - true_negatives: 136.0000 - true_positives: 117.0000 - val_loss: 1.0515 - val_Accuracy: 0.7083 - val_false_negatives: 15.0000 - val_false_positives: 6.0000 - val_true_negatives: 32.0000 - val_true_positives: 19.0000\n",
            "Epoch 65/100\n",
            "9/9 [==============================] - 4s 465ms/step - loss: 0.2533 - Accuracy: 0.8958 - false_negatives: 12.0000 - false_positives: 18.0000 - true_negatives: 136.0000 - true_positives: 122.0000 - val_loss: 1.2159 - val_Accuracy: 0.6667 - val_false_negatives: 18.0000 - val_false_positives: 6.0000 - val_true_negatives: 32.0000 - val_true_positives: 16.0000\n",
            "Epoch 66/100\n",
            "9/9 [==============================] - 4s 468ms/step - loss: 0.2399 - Accuracy: 0.9028 - false_negatives: 10.0000 - false_positives: 18.0000 - true_negatives: 136.0000 - true_positives: 124.0000 - val_loss: 0.8800 - val_Accuracy: 0.7222 - val_false_negatives: 13.0000 - val_false_positives: 7.0000 - val_true_negatives: 31.0000 - val_true_positives: 21.0000\n",
            "Epoch 67/100\n",
            "9/9 [==============================] - 4s 465ms/step - loss: 0.2629 - Accuracy: 0.8993 - false_negatives: 8.0000 - false_positives: 21.0000 - true_negatives: 133.0000 - true_positives: 126.0000 - val_loss: 1.4683 - val_Accuracy: 0.6667 - val_false_negatives: 18.0000 - val_false_positives: 6.0000 - val_true_negatives: 32.0000 - val_true_positives: 16.0000\n",
            "Epoch 68/100\n",
            "9/9 [==============================] - 4s 463ms/step - loss: 0.2725 - Accuracy: 0.8889 - false_negatives: 13.0000 - false_positives: 19.0000 - true_negatives: 135.0000 - true_positives: 121.0000 - val_loss: 1.4057 - val_Accuracy: 0.6528 - val_false_negatives: 19.0000 - val_false_positives: 6.0000 - val_true_negatives: 32.0000 - val_true_positives: 15.0000\n",
            "Epoch 69/100\n",
            "9/9 [==============================] - 4s 467ms/step - loss: 0.2722 - Accuracy: 0.9062 - false_negatives: 11.0000 - false_positives: 16.0000 - true_negatives: 138.0000 - true_positives: 123.0000 - val_loss: 1.2784 - val_Accuracy: 0.6806 - val_false_negatives: 17.0000 - val_false_positives: 6.0000 - val_true_negatives: 32.0000 - val_true_positives: 17.0000\n",
            "Epoch 70/100\n",
            "9/9 [==============================] - 4s 471ms/step - loss: 0.2414 - Accuracy: 0.8958 - false_negatives: 9.0000 - false_positives: 21.0000 - true_negatives: 133.0000 - true_positives: 125.0000 - val_loss: 1.1733 - val_Accuracy: 0.6528 - val_false_negatives: 18.0000 - val_false_positives: 7.0000 - val_true_negatives: 31.0000 - val_true_positives: 16.0000\n",
            "Epoch 71/100\n",
            "9/9 [==============================] - 4s 465ms/step - loss: 0.2352 - Accuracy: 0.9028 - false_negatives: 11.0000 - false_positives: 17.0000 - true_negatives: 137.0000 - true_positives: 123.0000 - val_loss: 1.0603 - val_Accuracy: 0.6806 - val_false_negatives: 16.0000 - val_false_positives: 7.0000 - val_true_negatives: 31.0000 - val_true_positives: 18.0000\n",
            "Epoch 72/100\n",
            "9/9 [==============================] - 4s 464ms/step - loss: 0.2444 - Accuracy: 0.9201 - false_negatives: 6.0000 - false_positives: 17.0000 - true_negatives: 137.0000 - true_positives: 128.0000 - val_loss: 1.5494 - val_Accuracy: 0.6667 - val_false_negatives: 19.0000 - val_false_positives: 5.0000 - val_true_negatives: 33.0000 - val_true_positives: 15.0000\n",
            "Epoch 73/100\n",
            "9/9 [==============================] - 4s 469ms/step - loss: 0.2542 - Accuracy: 0.8889 - false_negatives: 13.0000 - false_positives: 19.0000 - true_negatives: 135.0000 - true_positives: 121.0000 - val_loss: 1.0444 - val_Accuracy: 0.7083 - val_false_negatives: 14.0000 - val_false_positives: 7.0000 - val_true_negatives: 31.0000 - val_true_positives: 20.0000\n",
            "Epoch 74/100\n",
            "9/9 [==============================] - 4s 471ms/step - loss: 0.2272 - Accuracy: 0.8819 - false_negatives: 13.0000 - false_positives: 21.0000 - true_negatives: 133.0000 - true_positives: 121.0000 - val_loss: 1.4218 - val_Accuracy: 0.6389 - val_false_negatives: 19.0000 - val_false_positives: 7.0000 - val_true_negatives: 31.0000 - val_true_positives: 15.0000\n",
            "Epoch 75/100\n",
            "9/9 [==============================] - 4s 467ms/step - loss: 0.2499 - Accuracy: 0.9062 - false_negatives: 13.0000 - false_positives: 14.0000 - true_negatives: 140.0000 - true_positives: 121.0000 - val_loss: 0.9426 - val_Accuracy: 0.7083 - val_false_negatives: 14.0000 - val_false_positives: 7.0000 - val_true_negatives: 31.0000 - val_true_positives: 20.0000\n",
            "Epoch 76/100\n",
            "9/9 [==============================] - 4s 468ms/step - loss: 0.1925 - Accuracy: 0.9167 - false_negatives: 7.0000 - false_positives: 17.0000 - true_negatives: 137.0000 - true_positives: 127.0000 - val_loss: 1.4907 - val_Accuracy: 0.6250 - val_false_negatives: 20.0000 - val_false_positives: 7.0000 - val_true_negatives: 31.0000 - val_true_positives: 14.0000\n",
            "Epoch 77/100\n",
            "9/9 [==============================] - 4s 466ms/step - loss: 0.3236 - Accuracy: 0.8785 - false_negatives: 19.0000 - false_positives: 16.0000 - true_negatives: 138.0000 - true_positives: 115.0000 - val_loss: 0.7908 - val_Accuracy: 0.7222 - val_false_negatives: 13.0000 - val_false_positives: 7.0000 - val_true_negatives: 31.0000 - val_true_positives: 21.0000\n",
            "Epoch 78/100\n",
            "9/9 [==============================] - 4s 459ms/step - loss: 0.2643 - Accuracy: 0.8819 - false_negatives: 15.0000 - false_positives: 19.0000 - true_negatives: 135.0000 - true_positives: 119.0000 - val_loss: 0.8911 - val_Accuracy: 0.7500 - val_false_negatives: 11.0000 - val_false_positives: 7.0000 - val_true_negatives: 31.0000 - val_true_positives: 23.0000\n",
            "Epoch 79/100\n",
            "9/9 [==============================] - 4s 456ms/step - loss: 0.2519 - Accuracy: 0.8785 - false_negatives: 14.0000 - false_positives: 21.0000 - true_negatives: 133.0000 - true_positives: 120.0000 - val_loss: 0.7959 - val_Accuracy: 0.7222 - val_false_negatives: 13.0000 - val_false_positives: 7.0000 - val_true_negatives: 31.0000 - val_true_positives: 21.0000\n",
            "Epoch 80/100\n",
            "9/9 [==============================] - 4s 456ms/step - loss: 0.2758 - Accuracy: 0.8681 - false_negatives: 12.0000 - false_positives: 26.0000 - true_negatives: 128.0000 - true_positives: 122.0000 - val_loss: 1.4851 - val_Accuracy: 0.6389 - val_false_negatives: 22.0000 - val_false_positives: 4.0000 - val_true_negatives: 34.0000 - val_true_positives: 12.0000\n",
            "Epoch 81/100\n",
            "9/9 [==============================] - 4s 456ms/step - loss: 0.2686 - Accuracy: 0.9028 - false_negatives: 10.0000 - false_positives: 18.0000 - true_negatives: 136.0000 - true_positives: 124.0000 - val_loss: 0.9944 - val_Accuracy: 0.7361 - val_false_negatives: 12.0000 - val_false_positives: 7.0000 - val_true_negatives: 31.0000 - val_true_positives: 22.0000\n",
            "Epoch 82/100\n",
            "9/9 [==============================] - 4s 456ms/step - loss: 0.2055 - Accuracy: 0.9201 - false_negatives: 8.0000 - false_positives: 15.0000 - true_negatives: 139.0000 - true_positives: 126.0000 - val_loss: 0.8794 - val_Accuracy: 0.7361 - val_false_negatives: 12.0000 - val_false_positives: 7.0000 - val_true_negatives: 31.0000 - val_true_positives: 22.0000\n",
            "Epoch 83/100\n",
            "9/9 [==============================] - 4s 460ms/step - loss: 0.2126 - Accuracy: 0.8993 - false_negatives: 15.0000 - false_positives: 14.0000 - true_negatives: 140.0000 - true_positives: 119.0000 - val_loss: 1.3161 - val_Accuracy: 0.6806 - val_false_negatives: 16.0000 - val_false_positives: 7.0000 - val_true_negatives: 31.0000 - val_true_positives: 18.0000\n",
            "Epoch 84/100\n",
            "9/9 [==============================] - 4s 458ms/step - loss: 0.1940 - Accuracy: 0.9132 - false_negatives: 10.0000 - false_positives: 15.0000 - true_negatives: 139.0000 - true_positives: 124.0000 - val_loss: 1.1327 - val_Accuracy: 0.7222 - val_false_negatives: 13.0000 - val_false_positives: 7.0000 - val_true_negatives: 31.0000 - val_true_positives: 21.0000\n",
            "Epoch 85/100\n",
            "9/9 [==============================] - 4s 454ms/step - loss: 0.2571 - Accuracy: 0.9028 - false_negatives: 13.0000 - false_positives: 15.0000 - true_negatives: 139.0000 - true_positives: 121.0000 - val_loss: 0.9022 - val_Accuracy: 0.7361 - val_false_negatives: 12.0000 - val_false_positives: 7.0000 - val_true_negatives: 31.0000 - val_true_positives: 22.0000\n",
            "Epoch 86/100\n",
            "9/9 [==============================] - 4s 464ms/step - loss: 0.2584 - Accuracy: 0.9062 - false_negatives: 7.0000 - false_positives: 20.0000 - true_negatives: 134.0000 - true_positives: 127.0000 - val_loss: 1.0339 - val_Accuracy: 0.7222 - val_false_negatives: 13.0000 - val_false_positives: 7.0000 - val_true_negatives: 31.0000 - val_true_positives: 21.0000\n",
            "Epoch 87/100\n",
            "9/9 [==============================] - 4s 456ms/step - loss: 0.2516 - Accuracy: 0.8958 - false_negatives: 12.0000 - false_positives: 18.0000 - true_negatives: 136.0000 - true_positives: 122.0000 - val_loss: 1.2644 - val_Accuracy: 0.6806 - val_false_negatives: 19.0000 - val_false_positives: 4.0000 - val_true_negatives: 34.0000 - val_true_positives: 15.0000\n",
            "Epoch 88/100\n",
            "9/9 [==============================] - 4s 459ms/step - loss: 0.2580 - Accuracy: 0.8819 - false_negatives: 12.0000 - false_positives: 22.0000 - true_negatives: 132.0000 - true_positives: 122.0000 - val_loss: 1.1866 - val_Accuracy: 0.7083 - val_false_negatives: 14.0000 - val_false_positives: 7.0000 - val_true_negatives: 31.0000 - val_true_positives: 20.0000\n",
            "Epoch 89/100\n",
            "9/9 [==============================] - 4s 454ms/step - loss: 0.2720 - Accuracy: 0.8854 - false_negatives: 10.0000 - false_positives: 23.0000 - true_negatives: 131.0000 - true_positives: 124.0000 - val_loss: 1.0791 - val_Accuracy: 0.7222 - val_false_negatives: 13.0000 - val_false_positives: 7.0000 - val_true_negatives: 31.0000 - val_true_positives: 21.0000\n",
            "Epoch 90/100\n",
            "9/9 [==============================] - 4s 464ms/step - loss: 0.2877 - Accuracy: 0.8715 - false_negatives: 23.0000 - false_positives: 14.0000 - true_negatives: 140.0000 - true_positives: 111.0000 - val_loss: 0.7741 - val_Accuracy: 0.7500 - val_false_negatives: 11.0000 - val_false_positives: 7.0000 - val_true_negatives: 31.0000 - val_true_positives: 23.0000\n",
            "Epoch 91/100\n",
            "9/9 [==============================] - 4s 457ms/step - loss: 0.2982 - Accuracy: 0.8750 - false_negatives: 18.0000 - false_positives: 18.0000 - true_negatives: 136.0000 - true_positives: 116.0000 - val_loss: 0.8663 - val_Accuracy: 0.7083 - val_false_negatives: 14.0000 - val_false_positives: 7.0000 - val_true_negatives: 31.0000 - val_true_positives: 20.0000\n",
            "Epoch 92/100\n",
            "9/9 [==============================] - 4s 456ms/step - loss: 0.2656 - Accuracy: 0.8819 - false_negatives: 9.0000 - false_positives: 25.0000 - true_negatives: 129.0000 - true_positives: 125.0000 - val_loss: 0.8837 - val_Accuracy: 0.7222 - val_false_negatives: 14.0000 - val_false_positives: 6.0000 - val_true_negatives: 32.0000 - val_true_positives: 20.0000\n",
            "Epoch 93/100\n",
            "9/9 [==============================] - 4s 454ms/step - loss: 0.2687 - Accuracy: 0.8819 - false_negatives: 13.0000 - false_positives: 21.0000 - true_negatives: 133.0000 - true_positives: 121.0000 - val_loss: 1.0918 - val_Accuracy: 0.6944 - val_false_negatives: 17.0000 - val_false_positives: 5.0000 - val_true_negatives: 33.0000 - val_true_positives: 17.0000\n",
            "Epoch 94/100\n",
            "9/9 [==============================] - 4s 455ms/step - loss: 0.2257 - Accuracy: 0.9028 - false_negatives: 13.0000 - false_positives: 15.0000 - true_negatives: 139.0000 - true_positives: 121.0000 - val_loss: 0.8370 - val_Accuracy: 0.7500 - val_false_negatives: 11.0000 - val_false_positives: 7.0000 - val_true_negatives: 31.0000 - val_true_positives: 23.0000\n",
            "Epoch 95/100\n",
            "9/9 [==============================] - 4s 463ms/step - loss: 0.2238 - Accuracy: 0.9132 - false_negatives: 9.0000 - false_positives: 16.0000 - true_negatives: 138.0000 - true_positives: 125.0000 - val_loss: 1.1026 - val_Accuracy: 0.7361 - val_false_negatives: 14.0000 - val_false_positives: 5.0000 - val_true_negatives: 33.0000 - val_true_positives: 20.0000\n",
            "Epoch 96/100\n",
            "9/9 [==============================] - 4s 456ms/step - loss: 0.2277 - Accuracy: 0.9201 - false_negatives: 8.0000 - false_positives: 15.0000 - true_negatives: 139.0000 - true_positives: 126.0000 - val_loss: 1.0023 - val_Accuracy: 0.7222 - val_false_negatives: 13.0000 - val_false_positives: 7.0000 - val_true_negatives: 31.0000 - val_true_positives: 21.0000\n",
            "Epoch 97/100\n",
            "9/9 [==============================] - 4s 455ms/step - loss: 0.2146 - Accuracy: 0.9132 - false_negatives: 12.0000 - false_positives: 13.0000 - true_negatives: 141.0000 - true_positives: 122.0000 - val_loss: 0.9149 - val_Accuracy: 0.7361 - val_false_negatives: 12.0000 - val_false_positives: 7.0000 - val_true_negatives: 31.0000 - val_true_positives: 22.0000\n",
            "Epoch 98/100\n",
            "9/9 [==============================] - 4s 455ms/step - loss: 0.2242 - Accuracy: 0.8958 - false_negatives: 12.0000 - false_positives: 18.0000 - true_negatives: 136.0000 - true_positives: 122.0000 - val_loss: 0.9131 - val_Accuracy: 0.7361 - val_false_negatives: 12.0000 - val_false_positives: 7.0000 - val_true_negatives: 31.0000 - val_true_positives: 22.0000\n",
            "Epoch 99/100\n",
            "9/9 [==============================] - 4s 458ms/step - loss: 0.2538 - Accuracy: 0.8993 - false_negatives: 10.0000 - false_positives: 19.0000 - true_negatives: 135.0000 - true_positives: 124.0000 - val_loss: 0.9856 - val_Accuracy: 0.7500 - val_false_negatives: 13.0000 - val_false_positives: 5.0000 - val_true_negatives: 33.0000 - val_true_positives: 21.0000\n",
            "Epoch 100/100\n",
            "9/9 [==============================] - 4s 453ms/step - loss: 0.2850 - Accuracy: 0.9097 - false_negatives: 9.0000 - false_positives: 17.0000 - true_negatives: 137.0000 - true_positives: 125.0000 - val_loss: 1.2616 - val_Accuracy: 0.6528 - val_false_negatives: 21.0000 - val_false_positives: 4.0000 - val_true_negatives: 34.0000 - val_true_positives: 13.0000\n"
          ]
        }
      ]
    },
    {
      "cell_type": "markdown",
      "source": [
        "Plotting Traning Result"
      ],
      "metadata": {
        "id": "XZSFG8fXqz7c"
      }
    },
    {
      "cell_type": "code",
      "source": [
        "  #plotting\n",
        "  epochs = range(1, len(history.history['loss'])+1)\n",
        "  plt.title(f\"Grafik loss training iterasi {iterasi}\")\n",
        "  plt.plot(epochs, history.history['loss'], 'r', label='Training Loss')\n",
        "  plt.plot(epochs, history.history['val_loss'], 'b', label='Validation Loss')    \n",
        "  plt.xlabel(\"Epoch\")\n",
        "  plt.ylabel(\"Loss\")\n",
        "  plt.legend()\n",
        "  plt.show()\n"
      ],
      "metadata": {
        "id": "3dXbDrJpY1NK",
        "colab": {
          "base_uri": "https://localhost:8080/",
          "height": 295
        },
        "outputId": "93fa954f-3619-4e94-a347-929a64dc2228"
      },
      "execution_count": 12,
      "outputs": [
        {
          "output_type": "display_data",
          "data": {
            "text/plain": [
              "<Figure size 432x288 with 1 Axes>"
            ],
            "image/png": "[encoded data removed]"
          },
          "metadata": {
            "needs_background": "light"
          }
        }
      ]
    },
    {
      "cell_type": "code",
      "source": [
        "  #plotting\n",
        "  epochs = range(1, len(history.history['loss'])+1)\n",
        "  plt.title(f\"Grafik Akurasi training iterasi {iterasi}\")\n",
        "  plt.plot(epochs, history.history['Accuracy'], 'r', label='Training Accuracy')\n",
        "  plt.plot(epochs, history.history['val_Accuracy'], 'b', label='Validation Accuracy')    \n",
        "  plt.xlabel(\"Epoch\")\n",
        "  plt.ylabel(\"Accuracy\")\n",
        "  plt.legend()\n",
        "  plt.show()"
      ],
      "metadata": {
        "id": "j3xigprPwlSX",
        "colab": {
          "base_uri": "https://localhost:8080/",
          "height": 295
        },
        "outputId": "6337c55a-4d08-4f0f-f337-2b177ab39a23"
      },
      "execution_count": 13,
      "outputs": [
        {
          "output_type": "display_data",
          "data": {
            "text/plain": [
              "<Figure size 432x288 with 1 Axes>"
            ],
            "image/png": "[encoded data removed]"
          },
          "metadata": {
            "needs_background": "light"
          }
        }
      ]
    },
    {
      "cell_type": "markdown",
      "metadata": {
        "id": "bTgk1-sdzmgy"
      },
      "source": [
        "**Validating** Network"
      ]
    },
    {
      "cell_type": "code",
      "source": [
        "import matplotlib.pyplot as plt\n",
        "from sklearn.datasets import make_classification\n",
        "from numpy import mean\n",
        "from sklearn.metrics import confusion_matrix, ConfusionMatrixDisplay, accuracy_score, classification_report, recall_score\n",
        "\n",
        "#Creating list for correct label\n",
        "correct_labels = []\n",
        "for i in range(len(image_labels_validation)):\n",
        "  pr = image_labels_validation[i]\n",
        "  output = label_binarizer.inverse_transform(pr)\n",
        "  correct_labels.append(output[0])\n",
        "\n",
        "#Creating list for predicted label\n",
        "predicted_labels = []\n",
        "for i in range(len(np_image_list_validation)):\n",
        "  test_img = np_image_list_validation[i]\n",
        "  test_img = np.expand_dims(test_img, axis=0)\n",
        "  pr=model.predict(test_img)\n",
        "  output = label_binarizer.inverse_transform(pr)\n",
        "  predicted_labels.append(output[0])\n",
        "\n",
        "#creating confusion matrix by comparing both list\n",
        "confusion_matrix = confusion_matrix(correct_labels, predicted_labels)\n",
        "disp = ConfusionMatrixDisplay(confusion_matrix=confusion_matrix)  \n",
        "disp.plot()\n",
        "plt.show()\n",
        "print('--------')\n",
        "\n",
        "FP = confusion_matrix.sum(axis=0) - np.diag(confusion_matrix)  \n",
        "FN = confusion_matrix.sum(axis=1) - np.diag(confusion_matrix)\n",
        "TP = np.diag(confusion_matrix)\n",
        "TN = confusion_matrix.sum() - (FP + FN + TP)\n",
        "\n",
        "# Sensitivity, hit rate, recall, or true positive rate\n",
        "sensitivity = TP/(TP+FN)\n",
        "# Specificity or true negative rate\n",
        "specificity = TN/(TN+FP) \n",
        "# Overall accuracy\n",
        "accuracy = (TP+TN)/(TP+FP+FN+TN)\n",
        "\n",
        "print(TP)\n",
        "print(TN)\n",
        "print(FP)\n",
        "print(FN)\n",
        "print('--------')\n",
        "print(accuracy)\n",
        "print(sensitivity)\n",
        "print(specificity)\n",
        "print('--------')"
      ],
      "metadata": {
        "colab": {
          "base_uri": "https://localhost:8080/",
          "height": 453
        },
        "id": "d_NBE4KkWuhu",
        "outputId": "c04411eb-1e7e-47da-e0c6-14cdb3df3ac0"
      },
      "execution_count": 14,
      "outputs": [
        {
          "output_type": "display_data",
          "data": {
            "text/plain": [
              "<Figure size 432x288 with 2 Axes>"
            ],
            "image/png": "[encoded data removed]"
          },
          "metadata": {
            "needs_background": "light"
          }
        },
        {
          "output_type": "stream",
          "name": "stdout",
          "text": [
            "--------\n",
            "[34 13]\n",
            "[13 34]\n",
            "[21  4]\n",
            "[ 4 21]\n",
            "--------\n",
            "[0.65277778 0.65277778]\n",
            "[0.89473684 0.38235294]\n",
            "[0.38235294 0.89473684]\n",
            "--------\n"
          ]
        }
      ]
    },
    {
      "cell_type": "markdown",
      "source": [
        "**Testing** Network"
      ],
      "metadata": {
        "id": "saJYjKqX9tRL"
      }
    },
    {
      "cell_type": "code",
      "source": [
        "import matplotlib.pyplot as plt\n",
        "from sklearn.datasets import make_classification\n",
        "from numpy import mean\n",
        "from sklearn.metrics import confusion_matrix, ConfusionMatrixDisplay, accuracy_score, classification_report, recall_score\n",
        "\n",
        "#Creating list for correct label\n",
        "correct_labels = []\n",
        "for i in range(len(image_labels_test)):\n",
        "  pr = image_labels_test[i]\n",
        "  output = label_binarizer.inverse_transform(pr)\n",
        "  correct_labels.append(output[0])\n",
        "\n",
        "#Creating list for predicted label\n",
        "predicted_labels = []\n",
        "for i in range(len(np_image_list_test)):\n",
        "  test_img = np_image_list_test[i]\n",
        "  test_img = np.expand_dims(test_img, axis=0)\n",
        "  pr=model.predict(test_img)\n",
        "  output = label_binarizer.inverse_transform(pr)\n",
        "  predicted_labels.append(output[0])\n",
        "\n",
        "#creating confusion matrix by comparing both list\n",
        "confusion_matrix = confusion_matrix(correct_labels, predicted_labels)\n",
        "disp = ConfusionMatrixDisplay(confusion_matrix=confusion_matrix)  \n",
        "disp.plot()\n",
        "plt.show()\n",
        "print('--------')\n",
        "\n",
        "FP = confusion_matrix.sum(axis=0) - np.diag(confusion_matrix)  \n",
        "FN = confusion_matrix.sum(axis=1) - np.diag(confusion_matrix)\n",
        "TP = np.diag(confusion_matrix)\n",
        "TN = confusion_matrix.sum() - (FP + FN + TP)\n",
        "\n",
        "# Sensitivity, hit rate, recall, or true positive rate\n",
        "sensitivity = TP/(TP+FN)\n",
        "# Specificity or true negative rate\n",
        "specificity = TN/(TN+FP) \n",
        "# Overall accuracy\n",
        "accuracy = (TP+TN)/(TP+FP+FN+TN)\n",
        "\n",
        "print(TP)\n",
        "print(TN)\n",
        "print(FP)\n",
        "print(FN)\n",
        "print('--------')\n",
        "print(accuracy)\n",
        "print(sensitivity)\n",
        "print(specificity)\n",
        "print('--------')"
      ],
      "metadata": {
        "colab": {
          "base_uri": "https://localhost:8080/",
          "height": 457
        },
        "id": "A7DR52hmTc75",
        "outputId": "152223f3-0019-46ec-d61a-828564dc8dcd"
      },
      "execution_count": 15,
      "outputs": [
        {
          "output_type": "display_data",
          "data": {
            "text/plain": [
              "<Figure size 432x288 with 2 Axes>"
            ],
            "image/png": "[encoded data removed]"
          },
          "metadata": {
            "needs_background": "light"
          }
        },
        {
          "output_type": "stream",
          "name": "stdout",
          "text": [
            "--------\n",
            "[40 28]\n",
            "[28 40]\n",
            "[14  8]\n",
            "[ 8 14]\n",
            "--------\n",
            "[0.75555556 0.75555556]\n",
            "[0.83333333 0.66666667]\n",
            "[0.66666667 0.83333333]\n",
            "--------\n"
          ]
        }
      ]
    }
  ]
}