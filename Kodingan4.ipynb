{
  "nbformat": 4,
  "nbformat_minor": 0,
  "metadata": {
    "accelerator": "GPU",
    "colab": {
      "name": "Kodingan Skripsi 3",
      "provenance": [],
      "collapsed_sections": [],
      "include_colab_link": true
    },
    "kernelspec": {
      "display_name": "Python 3",
      "language": "python",
      "name": "python3"
    },
    "language_info": {
      "codemirror_mode": {
        "name": "ipython",
        "version": 3
      },
      "file_extension": ".py",
      "mimetype": "text/x-python",
      "name": "python",
      "nbconvert_exporter": "python",
      "pygments_lexer": "ipython3",
      "version": "3.6.6"
    }
  },
  "cells": [
    {
      "cell_type": "markdown",
      "metadata": {
        "id": "view-in-github",
        "colab_type": "text"
      },
      "source": [
        "<a href=\"https://colab.research.google.com/github/TaufiqIdrus/Aplikasi-Pendeteksi-Mobil-master/blob/master/Kodingan4.ipynb\" target=\"_parent\"><img src=\"https://colab.research.google.com/assets/colab-badge.svg\" alt=\"Open In Colab\"/></a>"
      ]
    },
    {
      "cell_type": "markdown",
      "metadata": {
        "id": "yJT_kQA2lITS"
      },
      "source": [
        "**Identifikasi Penyakit Pada Tanaman Apel menggunakan Convolutional Neural Network**"
      ]
    },
    {
      "cell_type": "code",
      "metadata": {
        "id": "xXeOaYTUzmgT"
      },
      "source": [
        "import numpy as np\n",
        "import pickle\n",
        "import os\n",
        "import cv2\n",
        "import tensorflow as tf\n",
        "import keras\n",
        "from os import listdir\n",
        "from sklearn.preprocessing import LabelBinarizer\n",
        "from sklearn.model_selection import KFold\n",
        "from keras.models import Sequential\n",
        "from keras.layers.normalization import batch_normalization\n",
        "from keras.layers.convolutional import Conv2D\n",
        "from keras.layers.convolutional import MaxPooling2D\n",
        "from keras.layers.core import Activation, Flatten, Dropout, Dense\n",
        "from keras import backend as K\n",
        "from tensorflow.keras.optimizers import Adam\n",
        "from keras.preprocessing import image\n",
        "from sklearn.preprocessing import MultiLabelBinarizer\n",
        "from sklearn.model_selection import train_test_split\n",
        "import matplotlib.pyplot as plt\n",
        "from sklearn.datasets import make_classification\n",
        "from numpy import mean\n",
        "from sklearn.metrics import confusion_matrix, ConfusionMatrixDisplay, accuracy_score, classification_report, recall_score\n"
      ],
      "execution_count": 1,
      "outputs": []
    },
    {
      "cell_type": "markdown",
      "metadata": {
        "id": "fp8C0d28lQok"
      },
      "source": [
        "Importing and Preparing Dataset"
      ]
    },
    {
      "cell_type": "code",
      "metadata": {
        "id": "_0xehllADlUs",
        "colab": {
          "base_uri": "https://localhost:8080/"
        },
        "outputId": "52f5e260-deef-4ace-ba17-deb4bcf18574"
      },
      "source": [
        "!pip install pyunpack\n",
        "!pip install patool\n",
        "from pyunpack import Archive\n",
        "Archive('/content/fold4.rar').extractall('/content/Datasets/')\n",
        "iterasi = 4\n",
        "width=256\n",
        "height=256\n",
        "default_image_size = tuple((height, width))\n",
        "directory_root_train = '/content/Datasets/fold4/Train'\n",
        "directory_root_validation = '/content/Datasets/fold4/Validation'\n",
        "directory_root_test = '/content/Datasets/fold4/Test'\n",
        "image_size = 0\n",
        "depth=3"
      ],
      "execution_count": 2,
      "outputs": [
        {
          "output_type": "stream",
          "name": "stdout",
          "text": [
            "Looking in indexes: https://pypi.org/simple, https://us-python.pkg.dev/colab-wheels/public/simple/\n",
            "Requirement already satisfied: pyunpack in /usr/local/lib/python3.7/dist-packages (0.2.2)\n",
            "Requirement already satisfied: entrypoint2 in /usr/local/lib/python3.7/dist-packages (from pyunpack) (1.0)\n",
            "Requirement already satisfied: easyprocess in /usr/local/lib/python3.7/dist-packages (from pyunpack) (1.1)\n",
            "Looking in indexes: https://pypi.org/simple, https://us-python.pkg.dev/colab-wheels/public/simple/\n",
            "Requirement already satisfied: patool in /usr/local/lib/python3.7/dist-packages (1.12)\n"
          ]
        }
      ]
    },
    {
      "cell_type": "code",
      "metadata": {
        "id": "KbAwJJTpzmge"
      },
      "source": [
        "def convert_image_to_array(image_dir):\n",
        "    try:\n",
        "        image = cv2.imread(image_dir)\n",
        "        if image is not None :\n",
        "            image = cv2.resize(image, default_image_size)   \n",
        "            return keras.preprocessing.image.img_to_array(image)\n",
        "        else :\n",
        "            return np.array([])\n",
        "    except Exception as e:\n",
        "        print(f\"Error : {e}\")\n",
        "        return None"
      ],
      "execution_count": 3,
      "outputs": []
    },
    {
      "cell_type": "markdown",
      "source": [
        "Converting **Training** Data to Array"
      ],
      "metadata": {
        "id": "bgXxUMO2cI_D"
      }
    },
    {
      "cell_type": "code",
      "metadata": {
        "id": "Erz6IjKXzmgg",
        "colab": {
          "base_uri": "https://localhost:8080/"
        },
        "outputId": "d99a75f0-b5c8-4bc4-970a-ef9605be26bb"
      },
      "source": [
        "image_list_train, label_list_train = [], []\n",
        "try:\n",
        "    print(\"[INFO] Loading images ...\")\n",
        "    root_dir = listdir(directory_root_train)\n",
        "\n",
        "    for plant_disease_folder in root_dir:\n",
        "        print(f\"[INFO] Processing {plant_disease_folder} ...\")\n",
        "        plant_disease_image_list = listdir(f\"{directory_root_train}/{plant_disease_folder}/\")\n",
        "      \n",
        "        for image in plant_disease_image_list:\n",
        "            image_directory = f\"{directory_root_train}/{plant_disease_folder}/{image}\"\n",
        "\n",
        "            if image_directory.endswith(\".jpg\") == True or image_directory.endswith(\".JPG\") == True:\n",
        "                image_list_train.append(convert_image_to_array(image_directory))\n",
        "                label_list_train.append(plant_disease_folder)\n",
        "    print(\"[INFO] Image loading completed\")\n",
        "\n",
        "except Exception as e:\n",
        "    print(f\"Error : {e}\")\n",
        "\n",
        "#image labeling\n",
        "image_size = len(image_list_train)\n",
        "label_binarizer = LabelBinarizer()\n",
        "image_labels_train = label_binarizer.fit_transform(label_list_train)\n",
        "pickle.dump(label_binarizer,open('label_transform_train.pkl', 'wb'))\n",
        "n_classes = len(label_binarizer.classes_)\n",
        "np_image_list_train = np.array(image_list_train, dtype=np.float16) / 255.0"
      ],
      "execution_count": 4,
      "outputs": [
        {
          "output_type": "stream",
          "name": "stdout",
          "text": [
            "[INFO] Loading images ...\n",
            "[INFO] Processing Diseased ...\n",
            "[INFO] Processing Healthy ...\n",
            "[INFO] Image loading completed\n"
          ]
        }
      ]
    },
    {
      "cell_type": "markdown",
      "source": [
        "Converting **Validation** Data to Array"
      ],
      "metadata": {
        "id": "7eEMGiqRd_E4"
      }
    },
    {
      "cell_type": "code",
      "source": [
        "image_list_validation, label_list_validation = [], []\n",
        "try:\n",
        "    print(\"[INFO] Loading images ...\")\n",
        "    root_dir = listdir(directory_root_validation)\n",
        "\n",
        "    for plant_disease_folder in root_dir:\n",
        "        print(f\"[INFO] Processing {plant_disease_folder} ...\")\n",
        "        plant_disease_image_list = listdir(f\"{directory_root_validation}/{plant_disease_folder}/\")\n",
        "      \n",
        "        for image in plant_disease_image_list:\n",
        "            image_directory = f\"{directory_root_validation}/{plant_disease_folder}/{image}\"\n",
        "\n",
        "            if image_directory.endswith(\".jpg\") == True or image_directory.endswith(\".JPG\") == True:\n",
        "                image_list_validation.append(convert_image_to_array(image_directory))\n",
        "                label_list_validation.append(plant_disease_folder)\n",
        "    print(\"[INFO] Image loading completed\")\n",
        "\n",
        "except Exception as e:\n",
        "    print(f\"Error : {e}\")\n",
        "\n",
        "#image labeling\n",
        "image_size = len(image_list_validation)\n",
        "label_binarizer = LabelBinarizer()\n",
        "image_labels_validation = label_binarizer.fit_transform(label_list_validation)\n",
        "pickle.dump(label_binarizer,open('label_transform_validation.pkl', 'wb'))\n",
        "n_classes = len(label_binarizer.classes_)\n",
        "np_image_list_validation = np.array(image_list_validation, dtype=np.float16) / 255.0"
      ],
      "metadata": {
        "id": "wfHDdR0ZeEuU",
        "colab": {
          "base_uri": "https://localhost:8080/"
        },
        "outputId": "a1a70581-ea11-4fce-bf75-6c6e797dd5d6"
      },
      "execution_count": 5,
      "outputs": [
        {
          "output_type": "stream",
          "name": "stdout",
          "text": [
            "[INFO] Loading images ...\n",
            "[INFO] Processing Diseased ...\n",
            "[INFO] Processing Healthy ...\n",
            "[INFO] Image loading completed\n"
          ]
        }
      ]
    },
    {
      "cell_type": "markdown",
      "source": [
        "Converting **Testing** Data to Array"
      ],
      "metadata": {
        "id": "brwWyZVncTdg"
      }
    },
    {
      "cell_type": "code",
      "metadata": {
        "id": "uNPby5UMcaWY",
        "colab": {
          "base_uri": "https://localhost:8080/"
        },
        "outputId": "b5aaa99d-b359-4576-8aae-d472d54db0e2"
      },
      "source": [
        "image_list_test, label_list_test = [], []\n",
        "try:\n",
        "    print(\"[INFO] Loading images ...\")\n",
        "    root_dir = listdir(directory_root_test)\n",
        "\n",
        "    for plant_disease_folder in root_dir:\n",
        "        print(f\"[INFO] Processing {plant_disease_folder} ...\")\n",
        "        plant_disease_image_list = listdir(f\"{directory_root_test}/{plant_disease_folder}/\")\n",
        "      \n",
        "        for image in plant_disease_image_list:\n",
        "            image_directory = f\"{directory_root_test}/{plant_disease_folder}/{image}\"\n",
        "\n",
        "            if image_directory.endswith(\".jpg\") == True or image_directory.endswith(\".JPG\") == True:\n",
        "                image_list_test.append(convert_image_to_array(image_directory))\n",
        "                label_list_test.append(plant_disease_folder)\n",
        "    print(\"[INFO] Image loading completed\")\n",
        "\n",
        "except Exception as e:\n",
        "    print(f\"Error : {e}\")\n",
        "\n",
        "#image labeling\n",
        "image_size = len(image_list_test)\n",
        "label_binarizer = LabelBinarizer()\n",
        "image_labels_test = label_binarizer.fit_transform(label_list_test)\n",
        "pickle.dump(label_binarizer,open('label_transform_test.pkl', 'wb'))\n",
        "n_classes = len(label_binarizer.classes_)\n",
        "np_image_list_test = np.array(image_list_test, dtype=np.float16) / 255.0"
      ],
      "execution_count": 6,
      "outputs": [
        {
          "output_type": "stream",
          "name": "stdout",
          "text": [
            "[INFO] Loading images ...\n",
            "[INFO] Processing Diseased ...\n",
            "[INFO] Processing Healthy ...\n",
            "[INFO] Image loading completed\n"
          ]
        }
      ]
    },
    {
      "cell_type": "markdown",
      "metadata": {
        "id": "jYBTFN0CnAi7"
      },
      "source": [
        "Data Augmenting Initialization"
      ]
    },
    {
      "cell_type": "code",
      "metadata": {
        "id": "TLMxMK2Tzmgr"
      },
      "source": [
        "aug = keras.preprocessing.image.ImageDataGenerator(\n",
        "    rotation_range=25, \n",
        "    width_shift_range=0.1,\n",
        "    height_shift_range=0.1, \n",
        "    shear_range=0.2, \n",
        "    zoom_range=0.2,\n",
        "    horizontal_flip=True, \n",
        "    fill_mode=\"nearest\")"
      ],
      "execution_count": 7,
      "outputs": []
    },
    {
      "cell_type": "markdown",
      "metadata": {
        "id": "H1BfRyYNnGv_"
      },
      "source": [
        "Creating CNN Model"
      ]
    },
    {
      "cell_type": "code",
      "metadata": {
        "id": "WmLX4wm8zmgs"
      },
      "source": [
        "model = keras.models.Sequential()\n",
        "inputShape = (height, width, depth)\n",
        "\n",
        "model.add(Conv2D(32, (3, 3), padding=\"same\",input_shape=inputShape))\n",
        "model.add(Activation(\"relu\"))\n",
        "\n",
        "model.add(MaxPooling2D(pool_size=(3, 3)))\n",
        "\n",
        "model.add(Conv2D(64, (3, 3), padding=\"same\"))\n",
        "model.add(Activation(\"relu\"))\n",
        "\n",
        "model.add(MaxPooling2D(pool_size=(3, 3)))\n",
        "\n",
        "model.add(Flatten())\n",
        "\n",
        "model.add(Dense(1024))\n",
        "model.add(Activation(\"relu\"))\n",
        "\n",
        "model.add(Dense(1))\n",
        "model.add(Activation(\"sigmoid\"))"
      ],
      "execution_count": 8,
      "outputs": []
    },
    {
      "cell_type": "code",
      "source": [
        "#model.summary()"
      ],
      "metadata": {
        "id": "RQIgaph8hW06"
      },
      "execution_count": 9,
      "outputs": []
    },
    {
      "cell_type": "code",
      "source": [
        "#from PIL import Image\n",
        "#from keras.utils.vis_utils import plot_model\n",
        "#plot_model(model, to_file='cnn_model.png', show_shapes=True, show_layer_names=True)\n",
        "#display(Image.open('cnn_model.png'))"
      ],
      "metadata": {
        "id": "T05gPuu1GudW"
      },
      "execution_count": 10,
      "outputs": []
    },
    {
      "cell_type": "markdown",
      "metadata": {
        "id": "Zfsu3lVfnXFG"
      },
      "source": [
        "**Training** Network"
      ]
    },
    {
      "cell_type": "code",
      "metadata": {
        "id": "rvwKwe3Lzmgv",
        "colab": {
          "base_uri": "https://localhost:8080/"
        },
        "outputId": "704cd7b3-376f-4fbf-9b16-0a53468ba3c8"
      },
      "source": [
        "EPOCHS = 100\n",
        "INIT_LR = 1e-3\n",
        "BS = 32\n",
        "\n",
        "with tf.device('/GPU:0'):\n",
        "  opt = Adam(learning_rate=INIT_LR, decay=INIT_LR / EPOCHS)\n",
        "  model.compile(loss=\"binary_crossentropy\", optimizer=opt,metrics=[\"Accuracy\", \"FalseNegatives\", \"FalsePositives\", \"TrueNegatives\", \"TruePositives\"])\n",
        "  \n",
        "  history = model.fit(\n",
        "      aug.flow(np_image_list_train, image_labels_train, batch_size=BS),\n",
        "      validation_data=(np_image_list_validation, image_labels_validation),\n",
        "      steps_per_epoch=len(np_image_list_train) // BS,\n",
        "      epochs=EPOCHS, \n",
        "      verbose=1,\n",
        "      )\n"
      ],
      "execution_count": 11,
      "outputs": [
        {
          "output_type": "stream",
          "name": "stdout",
          "text": [
            "Epoch 1/100\n",
            "40/40 [==============================] - 34s 441ms/step - loss: 1.1394 - Accuracy: 0.6422 - false_negatives: 280.0000 - false_positives: 178.0000 - true_negatives: 462.0000 - true_positives: 360.0000 - val_loss: 0.3374 - val_Accuracy: 0.8813 - val_false_negatives: 25.0000 - val_false_positives: 13.0000 - val_true_negatives: 147.0000 - val_true_positives: 135.0000\n",
            "Epoch 2/100\n",
            "40/40 [==============================] - 17s 430ms/step - loss: 0.3268 - Accuracy: 0.8664 - false_negatives: 81.0000 - false_positives: 90.0000 - true_negatives: 550.0000 - true_positives: 559.0000 - val_loss: 0.2943 - val_Accuracy: 0.8844 - val_false_negatives: 4.0000 - val_false_positives: 33.0000 - val_true_negatives: 127.0000 - val_true_positives: 156.0000\n",
            "Epoch 3/100\n",
            "40/40 [==============================] - 17s 421ms/step - loss: 0.2741 - Accuracy: 0.9016 - false_negatives: 57.0000 - false_positives: 69.0000 - true_negatives: 571.0000 - true_positives: 583.0000 - val_loss: 0.2528 - val_Accuracy: 0.8906 - val_false_negatives: 7.0000 - val_false_positives: 28.0000 - val_true_negatives: 132.0000 - val_true_positives: 153.0000\n",
            "Epoch 4/100\n",
            "40/40 [==============================] - 17s 422ms/step - loss: 0.2328 - Accuracy: 0.9094 - false_negatives: 55.0000 - false_positives: 61.0000 - true_negatives: 579.0000 - true_positives: 585.0000 - val_loss: 0.1586 - val_Accuracy: 0.9281 - val_false_negatives: 20.0000 - val_false_positives: 3.0000 - val_true_negatives: 157.0000 - val_true_positives: 140.0000\n",
            "Epoch 5/100\n",
            "40/40 [==============================] - 17s 421ms/step - loss: 0.2367 - Accuracy: 0.9148 - false_negatives: 50.0000 - false_positives: 59.0000 - true_negatives: 581.0000 - true_positives: 590.0000 - val_loss: 0.1542 - val_Accuracy: 0.9375 - val_false_negatives: 13.0000 - val_false_positives: 7.0000 - val_true_negatives: 153.0000 - val_true_positives: 147.0000\n",
            "Epoch 6/100\n",
            "40/40 [==============================] - 18s 449ms/step - loss: 0.2040 - Accuracy: 0.9172 - false_negatives: 53.0000 - false_positives: 53.0000 - true_negatives: 587.0000 - true_positives: 587.0000 - val_loss: 0.1235 - val_Accuracy: 0.9469 - val_false_negatives: 15.0000 - val_false_positives: 2.0000 - val_true_negatives: 158.0000 - val_true_positives: 145.0000\n",
            "Epoch 7/100\n",
            "40/40 [==============================] - 17s 419ms/step - loss: 0.3055 - Accuracy: 0.8742 - false_negatives: 75.0000 - false_positives: 86.0000 - true_negatives: 554.0000 - true_positives: 565.0000 - val_loss: 0.1620 - val_Accuracy: 0.9469 - val_false_negatives: 9.0000 - val_false_positives: 8.0000 - val_true_negatives: 152.0000 - val_true_positives: 151.0000\n",
            "Epoch 8/100\n",
            "40/40 [==============================] - 17s 424ms/step - loss: 0.1987 - Accuracy: 0.9312 - false_negatives: 38.0000 - false_positives: 50.0000 - true_negatives: 590.0000 - true_positives: 602.0000 - val_loss: 0.2752 - val_Accuracy: 0.8844 - val_false_negatives: 36.0000 - val_false_positives: 1.0000 - val_true_negatives: 159.0000 - val_true_positives: 124.0000\n",
            "Epoch 9/100\n",
            "40/40 [==============================] - 17s 415ms/step - loss: 0.2054 - Accuracy: 0.9242 - false_negatives: 47.0000 - false_positives: 50.0000 - true_negatives: 590.0000 - true_positives: 593.0000 - val_loss: 0.1168 - val_Accuracy: 0.9563 - val_false_negatives: 4.0000 - val_false_positives: 10.0000 - val_true_negatives: 150.0000 - val_true_positives: 156.0000\n",
            "Epoch 10/100\n",
            "40/40 [==============================] - 17s 415ms/step - loss: 0.1816 - Accuracy: 0.9391 - false_negatives: 38.0000 - false_positives: 40.0000 - true_negatives: 600.0000 - true_positives: 602.0000 - val_loss: 0.1143 - val_Accuracy: 0.9656 - val_false_negatives: 8.0000 - val_false_positives: 3.0000 - val_true_negatives: 157.0000 - val_true_positives: 152.0000\n",
            "Epoch 11/100\n",
            "40/40 [==============================] - 17s 421ms/step - loss: 0.1513 - Accuracy: 0.9398 - false_negatives: 40.0000 - false_positives: 37.0000 - true_negatives: 603.0000 - true_positives: 600.0000 - val_loss: 0.1439 - val_Accuracy: 0.9531 - val_false_negatives: 12.0000 - val_false_positives: 3.0000 - val_true_negatives: 157.0000 - val_true_positives: 148.0000\n",
            "Epoch 12/100\n",
            "40/40 [==============================] - 17s 420ms/step - loss: 0.1548 - Accuracy: 0.9398 - false_negatives: 38.0000 - false_positives: 39.0000 - true_negatives: 601.0000 - true_positives: 602.0000 - val_loss: 0.1943 - val_Accuracy: 0.9281 - val_false_negatives: 23.0000 - val_false_positives: 0.0000e+00 - val_true_negatives: 160.0000 - val_true_positives: 137.0000\n",
            "Epoch 13/100\n",
            "40/40 [==============================] - 17s 420ms/step - loss: 0.2074 - Accuracy: 0.9266 - false_negatives: 47.0000 - false_positives: 47.0000 - true_negatives: 593.0000 - true_positives: 593.0000 - val_loss: 0.1061 - val_Accuracy: 0.9594 - val_false_negatives: 9.0000 - val_false_positives: 4.0000 - val_true_negatives: 156.0000 - val_true_positives: 151.0000\n",
            "Epoch 14/100\n",
            "40/40 [==============================] - 17s 418ms/step - loss: 0.1471 - Accuracy: 0.9445 - false_negatives: 34.0000 - false_positives: 37.0000 - true_negatives: 603.0000 - true_positives: 606.0000 - val_loss: 0.1347 - val_Accuracy: 0.9625 - val_false_negatives: 3.0000 - val_false_positives: 9.0000 - val_true_negatives: 151.0000 - val_true_positives: 157.0000\n",
            "Epoch 15/100\n",
            "40/40 [==============================] - 17s 423ms/step - loss: 0.1209 - Accuracy: 0.9563 - false_negatives: 28.0000 - false_positives: 28.0000 - true_negatives: 612.0000 - true_positives: 612.0000 - val_loss: 0.0840 - val_Accuracy: 0.9719 - val_false_negatives: 5.0000 - val_false_positives: 4.0000 - val_true_negatives: 156.0000 - val_true_positives: 155.0000\n",
            "Epoch 16/100\n",
            "40/40 [==============================] - 17s 429ms/step - loss: 0.1389 - Accuracy: 0.9469 - false_negatives: 34.0000 - false_positives: 34.0000 - true_negatives: 606.0000 - true_positives: 606.0000 - val_loss: 0.1103 - val_Accuracy: 0.9625 - val_false_negatives: 12.0000 - val_false_positives: 0.0000e+00 - val_true_negatives: 160.0000 - val_true_positives: 148.0000\n",
            "Epoch 17/100\n",
            "40/40 [==============================] - 17s 421ms/step - loss: 0.1339 - Accuracy: 0.9500 - false_negatives: 28.0000 - false_positives: 36.0000 - true_negatives: 604.0000 - true_positives: 612.0000 - val_loss: 0.4210 - val_Accuracy: 0.9125 - val_false_negatives: 28.0000 - val_false_positives: 0.0000e+00 - val_true_negatives: 160.0000 - val_true_positives: 132.0000\n",
            "Epoch 18/100\n",
            "40/40 [==============================] - 17s 420ms/step - loss: 0.1518 - Accuracy: 0.9461 - false_negatives: 39.0000 - false_positives: 30.0000 - true_negatives: 610.0000 - true_positives: 601.0000 - val_loss: 0.1455 - val_Accuracy: 0.9531 - val_false_negatives: 14.0000 - val_false_positives: 1.0000 - val_true_negatives: 159.0000 - val_true_positives: 146.0000\n",
            "Epoch 19/100\n",
            "40/40 [==============================] - 17s 427ms/step - loss: 0.1654 - Accuracy: 0.9430 - false_negatives: 35.0000 - false_positives: 38.0000 - true_negatives: 602.0000 - true_positives: 605.0000 - val_loss: 0.0875 - val_Accuracy: 0.9656 - val_false_negatives: 8.0000 - val_false_positives: 3.0000 - val_true_negatives: 157.0000 - val_true_positives: 152.0000\n",
            "Epoch 20/100\n",
            "40/40 [==============================] - 17s 419ms/step - loss: 0.1414 - Accuracy: 0.9516 - false_negatives: 30.0000 - false_positives: 32.0000 - true_negatives: 608.0000 - true_positives: 610.0000 - val_loss: 0.0774 - val_Accuracy: 0.9750 - val_false_negatives: 6.0000 - val_false_positives: 2.0000 - val_true_negatives: 158.0000 - val_true_positives: 154.0000\n",
            "Epoch 21/100\n",
            "40/40 [==============================] - 17s 419ms/step - loss: 0.1399 - Accuracy: 0.9484 - false_negatives: 34.0000 - false_positives: 32.0000 - true_negatives: 608.0000 - true_positives: 606.0000 - val_loss: 0.1010 - val_Accuracy: 0.9750 - val_false_negatives: 7.0000 - val_false_positives: 1.0000 - val_true_negatives: 159.0000 - val_true_positives: 153.0000\n",
            "Epoch 22/100\n",
            "40/40 [==============================] - 17s 423ms/step - loss: 0.1170 - Accuracy: 0.9539 - false_negatives: 28.0000 - false_positives: 31.0000 - true_negatives: 609.0000 - true_positives: 612.0000 - val_loss: 0.4456 - val_Accuracy: 0.8875 - val_false_negatives: 36.0000 - val_false_positives: 0.0000e+00 - val_true_negatives: 160.0000 - val_true_positives: 124.0000\n",
            "Epoch 23/100\n",
            "40/40 [==============================] - 17s 419ms/step - loss: 0.1192 - Accuracy: 0.9555 - false_negatives: 29.0000 - false_positives: 28.0000 - true_negatives: 612.0000 - true_positives: 611.0000 - val_loss: 0.0785 - val_Accuracy: 0.9750 - val_false_negatives: 6.0000 - val_false_positives: 2.0000 - val_true_negatives: 158.0000 - val_true_positives: 154.0000\n",
            "Epoch 24/100\n",
            "40/40 [==============================] - 17s 422ms/step - loss: 0.1403 - Accuracy: 0.9445 - false_negatives: 38.0000 - false_positives: 33.0000 - true_negatives: 607.0000 - true_positives: 602.0000 - val_loss: 0.0769 - val_Accuracy: 0.9719 - val_false_negatives: 7.0000 - val_false_positives: 2.0000 - val_true_negatives: 158.0000 - val_true_positives: 153.0000\n",
            "Epoch 25/100\n",
            "40/40 [==============================] - 17s 423ms/step - loss: 0.1343 - Accuracy: 0.9484 - false_negatives: 30.0000 - false_positives: 36.0000 - true_negatives: 604.0000 - true_positives: 610.0000 - val_loss: 0.0488 - val_Accuracy: 0.9875 - val_false_negatives: 4.0000 - val_false_positives: 0.0000e+00 - val_true_negatives: 160.0000 - val_true_positives: 156.0000\n",
            "Epoch 26/100\n",
            "40/40 [==============================] - 17s 423ms/step - loss: 0.0977 - Accuracy: 0.9664 - false_negatives: 20.0000 - false_positives: 23.0000 - true_negatives: 617.0000 - true_positives: 620.0000 - val_loss: 0.1858 - val_Accuracy: 0.9438 - val_false_negatives: 18.0000 - val_false_positives: 0.0000e+00 - val_true_negatives: 160.0000 - val_true_positives: 142.0000\n",
            "Epoch 27/100\n",
            "40/40 [==============================] - 17s 420ms/step - loss: 0.0955 - Accuracy: 0.9656 - false_negatives: 26.0000 - false_positives: 18.0000 - true_negatives: 622.0000 - true_positives: 614.0000 - val_loss: 0.2719 - val_Accuracy: 0.9344 - val_false_negatives: 21.0000 - val_false_positives: 0.0000e+00 - val_true_negatives: 160.0000 - val_true_positives: 139.0000\n",
            "Epoch 28/100\n",
            "40/40 [==============================] - 17s 422ms/step - loss: 0.1154 - Accuracy: 0.9531 - false_negatives: 32.0000 - false_positives: 28.0000 - true_negatives: 612.0000 - true_positives: 608.0000 - val_loss: 0.0748 - val_Accuracy: 0.9781 - val_false_negatives: 7.0000 - val_false_positives: 0.0000e+00 - val_true_negatives: 160.0000 - val_true_positives: 153.0000\n",
            "Epoch 29/100\n",
            "40/40 [==============================] - 17s 424ms/step - loss: 0.1078 - Accuracy: 0.9539 - false_negatives: 31.0000 - false_positives: 28.0000 - true_negatives: 612.0000 - true_positives: 609.0000 - val_loss: 0.1430 - val_Accuracy: 0.9469 - val_false_negatives: 17.0000 - val_false_positives: 0.0000e+00 - val_true_negatives: 160.0000 - val_true_positives: 143.0000\n",
            "Epoch 30/100\n",
            "40/40 [==============================] - 17s 424ms/step - loss: 0.1096 - Accuracy: 0.9570 - false_negatives: 28.0000 - false_positives: 27.0000 - true_negatives: 613.0000 - true_positives: 612.0000 - val_loss: 0.1533 - val_Accuracy: 0.9531 - val_false_negatives: 15.0000 - val_false_positives: 0.0000e+00 - val_true_negatives: 160.0000 - val_true_positives: 145.0000\n",
            "Epoch 31/100\n",
            "40/40 [==============================] - 17s 422ms/step - loss: 0.0962 - Accuracy: 0.9680 - false_negatives: 21.0000 - false_positives: 20.0000 - true_negatives: 620.0000 - true_positives: 619.0000 - val_loss: 0.0357 - val_Accuracy: 0.9812 - val_false_negatives: 4.0000 - val_false_positives: 2.0000 - val_true_negatives: 158.0000 - val_true_positives: 156.0000\n",
            "Epoch 32/100\n",
            "40/40 [==============================] - 17s 420ms/step - loss: 0.1237 - Accuracy: 0.9453 - false_negatives: 36.0000 - false_positives: 34.0000 - true_negatives: 606.0000 - true_positives: 604.0000 - val_loss: 0.1013 - val_Accuracy: 0.9594 - val_false_negatives: 12.0000 - val_false_positives: 1.0000 - val_true_negatives: 159.0000 - val_true_positives: 148.0000\n",
            "Epoch 33/100\n",
            "40/40 [==============================] - 17s 425ms/step - loss: 0.1071 - Accuracy: 0.9539 - false_negatives: 32.0000 - false_positives: 27.0000 - true_negatives: 613.0000 - true_positives: 608.0000 - val_loss: 0.0947 - val_Accuracy: 0.9688 - val_false_negatives: 10.0000 - val_false_positives: 0.0000e+00 - val_true_negatives: 160.0000 - val_true_positives: 150.0000\n",
            "Epoch 34/100\n",
            "40/40 [==============================] - 17s 430ms/step - loss: 0.0926 - Accuracy: 0.9633 - false_negatives: 26.0000 - false_positives: 21.0000 - true_negatives: 619.0000 - true_positives: 614.0000 - val_loss: 0.1921 - val_Accuracy: 0.9500 - val_false_negatives: 16.0000 - val_false_positives: 0.0000e+00 - val_true_negatives: 160.0000 - val_true_positives: 144.0000\n",
            "Epoch 35/100\n",
            "40/40 [==============================] - 17s 422ms/step - loss: 0.1288 - Accuracy: 0.9516 - false_negatives: 31.0000 - false_positives: 31.0000 - true_negatives: 609.0000 - true_positives: 609.0000 - val_loss: 0.0660 - val_Accuracy: 0.9781 - val_false_negatives: 6.0000 - val_false_positives: 1.0000 - val_true_negatives: 159.0000 - val_true_positives: 154.0000\n",
            "Epoch 36/100\n",
            "40/40 [==============================] - 17s 420ms/step - loss: 0.0783 - Accuracy: 0.9672 - false_negatives: 23.0000 - false_positives: 19.0000 - true_negatives: 621.0000 - true_positives: 617.0000 - val_loss: 0.0440 - val_Accuracy: 0.9875 - val_false_negatives: 4.0000 - val_false_positives: 0.0000e+00 - val_true_negatives: 160.0000 - val_true_positives: 156.0000\n",
            "Epoch 37/100\n",
            "40/40 [==============================] - 17s 422ms/step - loss: 0.0753 - Accuracy: 0.9727 - false_negatives: 17.0000 - false_positives: 18.0000 - true_negatives: 622.0000 - true_positives: 623.0000 - val_loss: 0.1518 - val_Accuracy: 0.9594 - val_false_negatives: 13.0000 - val_false_positives: 0.0000e+00 - val_true_negatives: 160.0000 - val_true_positives: 147.0000\n",
            "Epoch 38/100\n",
            "40/40 [==============================] - 17s 422ms/step - loss: 0.0880 - Accuracy: 0.9688 - false_negatives: 20.0000 - false_positives: 20.0000 - true_negatives: 620.0000 - true_positives: 620.0000 - val_loss: 0.0454 - val_Accuracy: 0.9844 - val_false_negatives: 5.0000 - val_false_positives: 0.0000e+00 - val_true_negatives: 160.0000 - val_true_positives: 155.0000\n",
            "Epoch 39/100\n",
            "40/40 [==============================] - 17s 421ms/step - loss: 0.0940 - Accuracy: 0.9695 - false_negatives: 20.0000 - false_positives: 19.0000 - true_negatives: 621.0000 - true_positives: 620.0000 - val_loss: 0.0600 - val_Accuracy: 0.9906 - val_false_negatives: 3.0000 - val_false_positives: 0.0000e+00 - val_true_negatives: 160.0000 - val_true_positives: 157.0000\n",
            "Epoch 40/100\n",
            "40/40 [==============================] - 21s 537ms/step - loss: 0.1078 - Accuracy: 0.9578 - false_negatives: 29.0000 - false_positives: 25.0000 - true_negatives: 615.0000 - true_positives: 611.0000 - val_loss: 0.0952 - val_Accuracy: 0.9719 - val_false_negatives: 3.0000 - val_false_positives: 6.0000 - val_true_negatives: 154.0000 - val_true_positives: 157.0000\n",
            "Epoch 41/100\n",
            "40/40 [==============================] - 17s 418ms/step - loss: 0.0728 - Accuracy: 0.9695 - false_negatives: 20.0000 - false_positives: 19.0000 - true_negatives: 621.0000 - true_positives: 620.0000 - val_loss: 0.0681 - val_Accuracy: 0.9656 - val_false_negatives: 10.0000 - val_false_positives: 1.0000 - val_true_negatives: 159.0000 - val_true_positives: 150.0000\n",
            "Epoch 42/100\n",
            "40/40 [==============================] - 17s 418ms/step - loss: 0.0871 - Accuracy: 0.9664 - false_negatives: 22.0000 - false_positives: 21.0000 - true_negatives: 619.0000 - true_positives: 618.0000 - val_loss: 0.3232 - val_Accuracy: 0.9375 - val_false_negatives: 20.0000 - val_false_positives: 0.0000e+00 - val_true_negatives: 160.0000 - val_true_positives: 140.0000\n",
            "Epoch 43/100\n",
            "40/40 [==============================] - 18s 441ms/step - loss: 0.0802 - Accuracy: 0.9672 - false_negatives: 21.0000 - false_positives: 21.0000 - true_negatives: 619.0000 - true_positives: 619.0000 - val_loss: 0.1195 - val_Accuracy: 0.9625 - val_false_negatives: 12.0000 - val_false_positives: 0.0000e+00 - val_true_negatives: 160.0000 - val_true_positives: 148.0000\n",
            "Epoch 44/100\n",
            "40/40 [==============================] - 17s 416ms/step - loss: 0.0741 - Accuracy: 0.9695 - false_negatives: 20.0000 - false_positives: 19.0000 - true_negatives: 621.0000 - true_positives: 620.0000 - val_loss: 0.0478 - val_Accuracy: 0.9844 - val_false_negatives: 5.0000 - val_false_positives: 0.0000e+00 - val_true_negatives: 160.0000 - val_true_positives: 155.0000\n",
            "Epoch 45/100\n",
            "40/40 [==============================] - 17s 412ms/step - loss: 0.0906 - Accuracy: 0.9688 - false_negatives: 22.0000 - false_positives: 18.0000 - true_negatives: 622.0000 - true_positives: 618.0000 - val_loss: 0.0787 - val_Accuracy: 0.9688 - val_false_negatives: 10.0000 - val_false_positives: 0.0000e+00 - val_true_negatives: 160.0000 - val_true_positives: 150.0000\n",
            "Epoch 46/100\n",
            "40/40 [==============================] - 17s 415ms/step - loss: 0.0595 - Accuracy: 0.9742 - false_negatives: 17.0000 - false_positives: 16.0000 - true_negatives: 624.0000 - true_positives: 623.0000 - val_loss: 0.1029 - val_Accuracy: 0.9656 - val_false_negatives: 11.0000 - val_false_positives: 0.0000e+00 - val_true_negatives: 160.0000 - val_true_positives: 149.0000\n",
            "Epoch 47/100\n",
            "40/40 [==============================] - 17s 416ms/step - loss: 0.1050 - Accuracy: 0.9531 - false_negatives: 33.0000 - false_positives: 27.0000 - true_negatives: 613.0000 - true_positives: 607.0000 - val_loss: 0.0502 - val_Accuracy: 0.9750 - val_false_negatives: 7.0000 - val_false_positives: 1.0000 - val_true_negatives: 159.0000 - val_true_positives: 153.0000\n",
            "Epoch 48/100\n",
            "40/40 [==============================] - 17s 416ms/step - loss: 0.1012 - Accuracy: 0.9609 - false_negatives: 28.0000 - false_positives: 22.0000 - true_negatives: 618.0000 - true_positives: 612.0000 - val_loss: 0.0661 - val_Accuracy: 0.9719 - val_false_negatives: 6.0000 - val_false_positives: 3.0000 - val_true_negatives: 157.0000 - val_true_positives: 154.0000\n",
            "Epoch 49/100\n",
            "40/40 [==============================] - 17s 417ms/step - loss: 0.0784 - Accuracy: 0.9750 - false_negatives: 16.0000 - false_positives: 16.0000 - true_negatives: 624.0000 - true_positives: 624.0000 - val_loss: 0.1316 - val_Accuracy: 0.9563 - val_false_negatives: 14.0000 - val_false_positives: 0.0000e+00 - val_true_negatives: 160.0000 - val_true_positives: 146.0000\n",
            "Epoch 50/100\n",
            "40/40 [==============================] - 17s 418ms/step - loss: 0.0563 - Accuracy: 0.9789 - false_negatives: 14.0000 - false_positives: 13.0000 - true_negatives: 627.0000 - true_positives: 626.0000 - val_loss: 0.0446 - val_Accuracy: 0.9875 - val_false_negatives: 2.0000 - val_false_positives: 2.0000 - val_true_negatives: 158.0000 - val_true_positives: 158.0000\n",
            "Epoch 51/100\n",
            "40/40 [==============================] - 17s 421ms/step - loss: 0.0995 - Accuracy: 0.9641 - false_negatives: 26.0000 - false_positives: 20.0000 - true_negatives: 620.0000 - true_positives: 614.0000 - val_loss: 0.0347 - val_Accuracy: 0.9875 - val_false_negatives: 3.0000 - val_false_positives: 1.0000 - val_true_negatives: 159.0000 - val_true_positives: 157.0000\n",
            "Epoch 52/100\n",
            "40/40 [==============================] - 17s 420ms/step - loss: 0.0624 - Accuracy: 0.9773 - false_negatives: 15.0000 - false_positives: 14.0000 - true_negatives: 626.0000 - true_positives: 625.0000 - val_loss: 0.0207 - val_Accuracy: 0.9906 - val_false_negatives: 3.0000 - val_false_positives: 0.0000e+00 - val_true_negatives: 160.0000 - val_true_positives: 157.0000\n",
            "Epoch 53/100\n",
            "40/40 [==============================] - 17s 421ms/step - loss: 0.0644 - Accuracy: 0.9797 - false_negatives: 12.0000 - false_positives: 14.0000 - true_negatives: 626.0000 - true_positives: 628.0000 - val_loss: 0.1379 - val_Accuracy: 0.9594 - val_false_negatives: 13.0000 - val_false_positives: 0.0000e+00 - val_true_negatives: 160.0000 - val_true_positives: 147.0000\n",
            "Epoch 54/100\n",
            "40/40 [==============================] - 17s 419ms/step - loss: 0.0651 - Accuracy: 0.9758 - false_negatives: 17.0000 - false_positives: 14.0000 - true_negatives: 626.0000 - true_positives: 623.0000 - val_loss: 0.0597 - val_Accuracy: 0.9781 - val_false_negatives: 6.0000 - val_false_positives: 1.0000 - val_true_negatives: 159.0000 - val_true_positives: 154.0000\n",
            "Epoch 55/100\n",
            "40/40 [==============================] - 17s 421ms/step - loss: 0.0516 - Accuracy: 0.9828 - false_negatives: 10.0000 - false_positives: 12.0000 - true_negatives: 628.0000 - true_positives: 630.0000 - val_loss: 0.1093 - val_Accuracy: 0.9688 - val_false_negatives: 10.0000 - val_false_positives: 0.0000e+00 - val_true_negatives: 160.0000 - val_true_positives: 150.0000\n",
            "Epoch 56/100\n",
            "40/40 [==============================] - 17s 422ms/step - loss: 0.0706 - Accuracy: 0.9758 - false_negatives: 15.0000 - false_positives: 16.0000 - true_negatives: 624.0000 - true_positives: 625.0000 - val_loss: 0.4900 - val_Accuracy: 0.9156 - val_false_negatives: 27.0000 - val_false_positives: 0.0000e+00 - val_true_negatives: 160.0000 - val_true_positives: 133.0000\n",
            "Epoch 57/100\n",
            "40/40 [==============================] - 17s 423ms/step - loss: 0.0846 - Accuracy: 0.9688 - false_negatives: 18.0000 - false_positives: 22.0000 - true_negatives: 618.0000 - true_positives: 622.0000 - val_loss: 0.0698 - val_Accuracy: 0.9812 - val_false_negatives: 6.0000 - val_false_positives: 0.0000e+00 - val_true_negatives: 160.0000 - val_true_positives: 154.0000\n",
            "Epoch 58/100\n",
            "40/40 [==============================] - 17s 419ms/step - loss: 0.0554 - Accuracy: 0.9836 - false_negatives: 12.0000 - false_positives: 9.0000 - true_negatives: 631.0000 - true_positives: 628.0000 - val_loss: 0.1364 - val_Accuracy: 0.9625 - val_false_negatives: 11.0000 - val_false_positives: 1.0000 - val_true_negatives: 159.0000 - val_true_positives: 149.0000\n",
            "Epoch 59/100\n",
            "40/40 [==============================] - 17s 423ms/step - loss: 0.0727 - Accuracy: 0.9711 - false_negatives: 18.0000 - false_positives: 19.0000 - true_negatives: 621.0000 - true_positives: 622.0000 - val_loss: 0.0164 - val_Accuracy: 0.9969 - val_false_negatives: 0.0000e+00 - val_false_positives: 1.0000 - val_true_negatives: 159.0000 - val_true_positives: 160.0000\n",
            "Epoch 60/100\n",
            "40/40 [==============================] - 17s 429ms/step - loss: 0.0539 - Accuracy: 0.9789 - false_negatives: 18.0000 - false_positives: 9.0000 - true_negatives: 631.0000 - true_positives: 622.0000 - val_loss: 0.0207 - val_Accuracy: 0.9937 - val_false_negatives: 1.0000 - val_false_positives: 1.0000 - val_true_negatives: 159.0000 - val_true_positives: 159.0000\n",
            "Epoch 61/100\n",
            "40/40 [==============================] - 17s 425ms/step - loss: 0.0422 - Accuracy: 0.9852 - false_negatives: 8.0000 - false_positives: 11.0000 - true_negatives: 629.0000 - true_positives: 632.0000 - val_loss: 0.0183 - val_Accuracy: 0.9875 - val_false_negatives: 3.0000 - val_false_positives: 1.0000 - val_true_negatives: 159.0000 - val_true_positives: 157.0000\n",
            "Epoch 62/100\n",
            "40/40 [==============================] - 17s 423ms/step - loss: 0.0517 - Accuracy: 0.9773 - false_negatives: 17.0000 - false_positives: 12.0000 - true_negatives: 628.0000 - true_positives: 623.0000 - val_loss: 0.1460 - val_Accuracy: 0.9656 - val_false_negatives: 11.0000 - val_false_positives: 0.0000e+00 - val_true_negatives: 160.0000 - val_true_positives: 149.0000\n",
            "Epoch 63/100\n",
            "40/40 [==============================] - 17s 420ms/step - loss: 0.0672 - Accuracy: 0.9734 - false_negatives: 19.0000 - false_positives: 15.0000 - true_negatives: 625.0000 - true_positives: 621.0000 - val_loss: 0.0166 - val_Accuracy: 0.9906 - val_false_negatives: 3.0000 - val_false_positives: 0.0000e+00 - val_true_negatives: 160.0000 - val_true_positives: 157.0000\n",
            "Epoch 64/100\n",
            "40/40 [==============================] - 17s 423ms/step - loss: 0.0591 - Accuracy: 0.9820 - false_negatives: 14.0000 - false_positives: 9.0000 - true_negatives: 631.0000 - true_positives: 626.0000 - val_loss: 0.0263 - val_Accuracy: 0.9937 - val_false_negatives: 0.0000e+00 - val_false_positives: 2.0000 - val_true_negatives: 158.0000 - val_true_positives: 160.0000\n",
            "Epoch 65/100\n",
            "40/40 [==============================] - 17s 420ms/step - loss: 0.0645 - Accuracy: 0.9758 - false_negatives: 15.0000 - false_positives: 16.0000 - true_negatives: 624.0000 - true_positives: 625.0000 - val_loss: 0.0902 - val_Accuracy: 0.9656 - val_false_negatives: 11.0000 - val_false_positives: 0.0000e+00 - val_true_negatives: 160.0000 - val_true_positives: 149.0000\n",
            "Epoch 66/100\n",
            "40/40 [==============================] - 17s 422ms/step - loss: 0.0518 - Accuracy: 0.9781 - false_negatives: 16.0000 - false_positives: 12.0000 - true_negatives: 628.0000 - true_positives: 624.0000 - val_loss: 0.0290 - val_Accuracy: 0.9875 - val_false_negatives: 3.0000 - val_false_positives: 1.0000 - val_true_negatives: 159.0000 - val_true_positives: 157.0000\n",
            "Epoch 67/100\n",
            "40/40 [==============================] - 17s 416ms/step - loss: 0.0328 - Accuracy: 0.9914 - false_negatives: 5.0000 - false_positives: 6.0000 - true_negatives: 634.0000 - true_positives: 635.0000 - val_loss: 0.0500 - val_Accuracy: 0.9750 - val_false_negatives: 7.0000 - val_false_positives: 1.0000 - val_true_negatives: 159.0000 - val_true_positives: 153.0000\n",
            "Epoch 68/100\n",
            "40/40 [==============================] - 17s 419ms/step - loss: 0.0335 - Accuracy: 0.9883 - false_negatives: 7.0000 - false_positives: 8.0000 - true_negatives: 632.0000 - true_positives: 633.0000 - val_loss: 0.0379 - val_Accuracy: 0.9844 - val_false_negatives: 4.0000 - val_false_positives: 1.0000 - val_true_negatives: 159.0000 - val_true_positives: 156.0000\n",
            "Epoch 69/100\n",
            "40/40 [==============================] - 17s 417ms/step - loss: 0.0577 - Accuracy: 0.9805 - false_negatives: 15.0000 - false_positives: 10.0000 - true_negatives: 630.0000 - true_positives: 625.0000 - val_loss: 0.0334 - val_Accuracy: 0.9844 - val_false_negatives: 5.0000 - val_false_positives: 0.0000e+00 - val_true_negatives: 160.0000 - val_true_positives: 155.0000\n",
            "Epoch 70/100\n",
            "40/40 [==============================] - 17s 419ms/step - loss: 0.0306 - Accuracy: 0.9922 - false_negatives: 6.0000 - false_positives: 4.0000 - true_negatives: 636.0000 - true_positives: 634.0000 - val_loss: 0.0247 - val_Accuracy: 0.9906 - val_false_negatives: 3.0000 - val_false_positives: 0.0000e+00 - val_true_negatives: 160.0000 - val_true_positives: 157.0000\n",
            "Epoch 71/100\n",
            "40/40 [==============================] - 17s 419ms/step - loss: 0.0457 - Accuracy: 0.9828 - false_negatives: 14.0000 - false_positives: 8.0000 - true_negatives: 632.0000 - true_positives: 626.0000 - val_loss: 0.0542 - val_Accuracy: 0.9812 - val_false_negatives: 5.0000 - val_false_positives: 1.0000 - val_true_negatives: 159.0000 - val_true_positives: 155.0000\n",
            "Epoch 72/100\n",
            "40/40 [==============================] - 17s 422ms/step - loss: 0.0818 - Accuracy: 0.9680 - false_negatives: 20.0000 - false_positives: 21.0000 - true_negatives: 619.0000 - true_positives: 620.0000 - val_loss: 0.0355 - val_Accuracy: 0.9781 - val_false_negatives: 5.0000 - val_false_positives: 2.0000 - val_true_negatives: 158.0000 - val_true_positives: 155.0000\n",
            "Epoch 73/100\n",
            "40/40 [==============================] - 17s 416ms/step - loss: 0.0352 - Accuracy: 0.9867 - false_negatives: 11.0000 - false_positives: 6.0000 - true_negatives: 634.0000 - true_positives: 629.0000 - val_loss: 0.0232 - val_Accuracy: 0.9937 - val_false_negatives: 2.0000 - val_false_positives: 0.0000e+00 - val_true_negatives: 160.0000 - val_true_positives: 158.0000\n",
            "Epoch 74/100\n",
            "40/40 [==============================] - 17s 417ms/step - loss: 0.0281 - Accuracy: 0.9937 - false_negatives: 4.0000 - false_positives: 4.0000 - true_negatives: 636.0000 - true_positives: 636.0000 - val_loss: 0.0344 - val_Accuracy: 0.9937 - val_false_negatives: 2.0000 - val_false_positives: 0.0000e+00 - val_true_negatives: 160.0000 - val_true_positives: 158.0000\n",
            "Epoch 75/100\n",
            "40/40 [==============================] - 17s 424ms/step - loss: 0.0379 - Accuracy: 0.9852 - false_negatives: 8.0000 - false_positives: 11.0000 - true_negatives: 629.0000 - true_positives: 632.0000 - val_loss: 0.2821 - val_Accuracy: 0.9281 - val_false_negatives: 23.0000 - val_false_positives: 0.0000e+00 - val_true_negatives: 160.0000 - val_true_positives: 137.0000\n",
            "Epoch 76/100\n",
            "40/40 [==============================] - 17s 419ms/step - loss: 0.0798 - Accuracy: 0.9688 - false_negatives: 21.0000 - false_positives: 19.0000 - true_negatives: 621.0000 - true_positives: 619.0000 - val_loss: 0.1164 - val_Accuracy: 0.9688 - val_false_negatives: 9.0000 - val_false_positives: 1.0000 - val_true_negatives: 159.0000 - val_true_positives: 151.0000\n",
            "Epoch 77/100\n",
            "40/40 [==============================] - 20s 513ms/step - loss: 0.0816 - Accuracy: 0.9688 - false_negatives: 23.0000 - false_positives: 17.0000 - true_negatives: 623.0000 - true_positives: 617.0000 - val_loss: 0.0737 - val_Accuracy: 0.9812 - val_false_negatives: 6.0000 - val_false_positives: 0.0000e+00 - val_true_negatives: 160.0000 - val_true_positives: 154.0000\n",
            "Epoch 78/100\n",
            "40/40 [==============================] - 17s 422ms/step - loss: 0.0301 - Accuracy: 0.9875 - false_negatives: 9.0000 - false_positives: 7.0000 - true_negatives: 633.0000 - true_positives: 631.0000 - val_loss: 0.1260 - val_Accuracy: 0.9563 - val_false_negatives: 14.0000 - val_false_positives: 0.0000e+00 - val_true_negatives: 160.0000 - val_true_positives: 146.0000\n",
            "Epoch 79/100\n",
            "40/40 [==============================] - 17s 418ms/step - loss: 0.0400 - Accuracy: 0.9844 - false_negatives: 10.0000 - false_positives: 10.0000 - true_negatives: 630.0000 - true_positives: 630.0000 - val_loss: 0.5466 - val_Accuracy: 0.9125 - val_false_negatives: 28.0000 - val_false_positives: 0.0000e+00 - val_true_negatives: 160.0000 - val_true_positives: 132.0000\n",
            "Epoch 80/100\n",
            "40/40 [==============================] - 17s 420ms/step - loss: 0.0421 - Accuracy: 0.9859 - false_negatives: 9.0000 - false_positives: 9.0000 - true_negatives: 631.0000 - true_positives: 631.0000 - val_loss: 0.2783 - val_Accuracy: 0.9344 - val_false_negatives: 21.0000 - val_false_positives: 0.0000e+00 - val_true_negatives: 160.0000 - val_true_positives: 139.0000\n",
            "Epoch 81/100\n",
            "40/40 [==============================] - 18s 438ms/step - loss: 0.0297 - Accuracy: 0.9898 - false_negatives: 7.0000 - false_positives: 6.0000 - true_negatives: 634.0000 - true_positives: 633.0000 - val_loss: 0.0543 - val_Accuracy: 0.9875 - val_false_negatives: 0.0000e+00 - val_false_positives: 4.0000 - val_true_negatives: 156.0000 - val_true_positives: 160.0000\n",
            "Epoch 82/100\n",
            "40/40 [==============================] - 17s 420ms/step - loss: 0.0617 - Accuracy: 0.9781 - false_negatives: 15.0000 - false_positives: 13.0000 - true_negatives: 627.0000 - true_positives: 625.0000 - val_loss: 0.0111 - val_Accuracy: 0.9969 - val_false_negatives: 0.0000e+00 - val_false_positives: 1.0000 - val_true_negatives: 159.0000 - val_true_positives: 160.0000\n",
            "Epoch 83/100\n",
            "40/40 [==============================] - 17s 416ms/step - loss: 0.0329 - Accuracy: 0.9898 - false_negatives: 8.0000 - false_positives: 5.0000 - true_negatives: 635.0000 - true_positives: 632.0000 - val_loss: 0.0107 - val_Accuracy: 1.0000 - val_false_negatives: 0.0000e+00 - val_false_positives: 0.0000e+00 - val_true_negatives: 160.0000 - val_true_positives: 160.0000\n",
            "Epoch 84/100\n",
            "40/40 [==============================] - 17s 419ms/step - loss: 0.0336 - Accuracy: 0.9898 - false_negatives: 5.0000 - false_positives: 8.0000 - true_negatives: 632.0000 - true_positives: 635.0000 - val_loss: 0.0101 - val_Accuracy: 0.9937 - val_false_negatives: 2.0000 - val_false_positives: 0.0000e+00 - val_true_negatives: 160.0000 - val_true_positives: 158.0000\n",
            "Epoch 85/100\n",
            "40/40 [==============================] - 17s 419ms/step - loss: 0.0301 - Accuracy: 0.9875 - false_negatives: 8.0000 - false_positives: 8.0000 - true_negatives: 632.0000 - true_positives: 632.0000 - val_loss: 0.0153 - val_Accuracy: 0.9875 - val_false_negatives: 3.0000 - val_false_positives: 1.0000 - val_true_negatives: 159.0000 - val_true_positives: 157.0000\n",
            "Epoch 86/100\n",
            "40/40 [==============================] - 17s 421ms/step - loss: 0.0565 - Accuracy: 0.9805 - false_negatives: 14.0000 - false_positives: 11.0000 - true_negatives: 629.0000 - true_positives: 626.0000 - val_loss: 0.0307 - val_Accuracy: 0.9875 - val_false_negatives: 4.0000 - val_false_positives: 0.0000e+00 - val_true_negatives: 160.0000 - val_true_positives: 156.0000\n",
            "Epoch 87/100\n",
            "40/40 [==============================] - 17s 420ms/step - loss: 0.0549 - Accuracy: 0.9773 - false_negatives: 14.0000 - false_positives: 15.0000 - true_negatives: 625.0000 - true_positives: 626.0000 - val_loss: 0.2931 - val_Accuracy: 0.9344 - val_false_negatives: 21.0000 - val_false_positives: 0.0000e+00 - val_true_negatives: 160.0000 - val_true_positives: 139.0000\n",
            "Epoch 88/100\n",
            "40/40 [==============================] - 17s 418ms/step - loss: 0.0308 - Accuracy: 0.9906 - false_negatives: 7.0000 - false_positives: 5.0000 - true_negatives: 635.0000 - true_positives: 633.0000 - val_loss: 0.0130 - val_Accuracy: 0.9937 - val_false_negatives: 2.0000 - val_false_positives: 0.0000e+00 - val_true_negatives: 160.0000 - val_true_positives: 158.0000\n",
            "Epoch 89/100\n",
            "40/40 [==============================] - 17s 422ms/step - loss: 0.0231 - Accuracy: 0.9906 - false_negatives: 6.0000 - false_positives: 6.0000 - true_negatives: 634.0000 - true_positives: 634.0000 - val_loss: 0.0682 - val_Accuracy: 0.9688 - val_false_negatives: 10.0000 - val_false_positives: 0.0000e+00 - val_true_negatives: 160.0000 - val_true_positives: 150.0000\n",
            "Epoch 90/100\n",
            "40/40 [==============================] - 17s 417ms/step - loss: 0.0275 - Accuracy: 0.9906 - false_negatives: 6.0000 - false_positives: 6.0000 - true_negatives: 634.0000 - true_positives: 634.0000 - val_loss: 0.0619 - val_Accuracy: 0.9781 - val_false_negatives: 7.0000 - val_false_positives: 0.0000e+00 - val_true_negatives: 160.0000 - val_true_positives: 153.0000\n",
            "Epoch 91/100\n",
            "40/40 [==============================] - 17s 419ms/step - loss: 0.0310 - Accuracy: 0.9891 - false_negatives: 6.0000 - false_positives: 8.0000 - true_negatives: 632.0000 - true_positives: 634.0000 - val_loss: 0.1961 - val_Accuracy: 0.9531 - val_false_negatives: 15.0000 - val_false_positives: 0.0000e+00 - val_true_negatives: 160.0000 - val_true_positives: 145.0000\n",
            "Epoch 92/100\n",
            "40/40 [==============================] - 17s 422ms/step - loss: 0.0472 - Accuracy: 0.9836 - false_negatives: 11.0000 - false_positives: 10.0000 - true_negatives: 630.0000 - true_positives: 629.0000 - val_loss: 0.2210 - val_Accuracy: 0.9406 - val_false_negatives: 19.0000 - val_false_positives: 0.0000e+00 - val_true_negatives: 160.0000 - val_true_positives: 141.0000\n",
            "Epoch 93/100\n",
            "40/40 [==============================] - 17s 421ms/step - loss: 0.0478 - Accuracy: 0.9812 - false_negatives: 13.0000 - false_positives: 11.0000 - true_negatives: 629.0000 - true_positives: 627.0000 - val_loss: 0.0208 - val_Accuracy: 0.9937 - val_false_negatives: 1.0000 - val_false_positives: 1.0000 - val_true_negatives: 159.0000 - val_true_positives: 159.0000\n",
            "Epoch 94/100\n",
            "40/40 [==============================] - 17s 416ms/step - loss: 0.0414 - Accuracy: 0.9867 - false_negatives: 8.0000 - false_positives: 9.0000 - true_negatives: 631.0000 - true_positives: 632.0000 - val_loss: 0.0041 - val_Accuracy: 1.0000 - val_false_negatives: 0.0000e+00 - val_false_positives: 0.0000e+00 - val_true_negatives: 160.0000 - val_true_positives: 160.0000\n",
            "Epoch 95/100\n",
            "40/40 [==============================] - 17s 424ms/step - loss: 0.0211 - Accuracy: 0.9937 - false_negatives: 4.0000 - false_positives: 4.0000 - true_negatives: 636.0000 - true_positives: 636.0000 - val_loss: 0.0261 - val_Accuracy: 0.9906 - val_false_negatives: 3.0000 - val_false_positives: 0.0000e+00 - val_true_negatives: 160.0000 - val_true_positives: 157.0000\n",
            "Epoch 96/100\n",
            "40/40 [==============================] - 17s 423ms/step - loss: 0.0330 - Accuracy: 0.9891 - false_negatives: 6.0000 - false_positives: 8.0000 - true_negatives: 632.0000 - true_positives: 634.0000 - val_loss: 0.0855 - val_Accuracy: 0.9812 - val_false_negatives: 6.0000 - val_false_positives: 0.0000e+00 - val_true_negatives: 160.0000 - val_true_positives: 154.0000\n",
            "Epoch 97/100\n",
            "40/40 [==============================] - 17s 419ms/step - loss: 0.0366 - Accuracy: 0.9828 - false_negatives: 10.0000 - false_positives: 12.0000 - true_negatives: 628.0000 - true_positives: 630.0000 - val_loss: 0.0641 - val_Accuracy: 0.9750 - val_false_negatives: 8.0000 - val_false_positives: 0.0000e+00 - val_true_negatives: 160.0000 - val_true_positives: 152.0000\n",
            "Epoch 98/100\n",
            "40/40 [==============================] - 17s 418ms/step - loss: 0.0287 - Accuracy: 0.9891 - false_negatives: 7.0000 - false_positives: 7.0000 - true_negatives: 633.0000 - true_positives: 633.0000 - val_loss: 0.0093 - val_Accuracy: 0.9969 - val_false_negatives: 1.0000 - val_false_positives: 0.0000e+00 - val_true_negatives: 160.0000 - val_true_positives: 159.0000\n",
            "Epoch 99/100\n",
            "40/40 [==============================] - 17s 424ms/step - loss: 0.0168 - Accuracy: 0.9945 - false_negatives: 4.0000 - false_positives: 3.0000 - true_negatives: 637.0000 - true_positives: 636.0000 - val_loss: 0.0613 - val_Accuracy: 0.9812 - val_false_negatives: 6.0000 - val_false_positives: 0.0000e+00 - val_true_negatives: 160.0000 - val_true_positives: 154.0000\n",
            "Epoch 100/100\n",
            "40/40 [==============================] - 17s 419ms/step - loss: 0.0161 - Accuracy: 0.9953 - false_negatives: 3.0000 - false_positives: 3.0000 - true_negatives: 637.0000 - true_positives: 637.0000 - val_loss: 0.1285 - val_Accuracy: 0.9625 - val_false_negatives: 12.0000 - val_false_positives: 0.0000e+00 - val_true_negatives: 160.0000 - val_true_positives: 148.0000\n"
          ]
        }
      ]
    },
    {
      "cell_type": "markdown",
      "source": [
        "Plotting Traning Result"
      ],
      "metadata": {
        "id": "XZSFG8fXqz7c"
      }
    },
    {
      "cell_type": "code",
      "source": [
        "  #plotting\n",
        "  epochs = range(1, len(history.history['loss'])+1)\n",
        "  plt.title(f\"Grafik loss training iterasi {iterasi}\")\n",
        "  plt.plot(epochs, history.history['loss'], 'r', label='Training Loss')\n",
        "  plt.plot(epochs, history.history['val_loss'], 'b', label='Validation Loss')    \n",
        "  plt.xlabel(\"Epoch\")\n",
        "  plt.ylabel(\"Loss\")\n",
        "  plt.legend()\n",
        "  plt.show()\n"
      ],
      "metadata": {
        "id": "3dXbDrJpY1NK",
        "colab": {
          "base_uri": "https://localhost:8080/",
          "height": 295
        },
        "outputId": "335f2c07-7db5-4ae3-cbee-a983ed9d027b"
      },
      "execution_count": 12,
      "outputs": [
        {
          "output_type": "display_data",
          "data": {
            "text/plain": [
              "<Figure size 432x288 with 1 Axes>"
            ],
            "image/png": "[encoded data removed]"
          },
          "metadata": {
            "needs_background": "light"
          }
        }
      ]
    },
    {
      "cell_type": "code",
      "source": [
        "  #plotting\n",
        "  epochs = range(1, len(history.history['loss'])+1)\n",
        "  plt.title(f\"Grafik Akurasi training iterasi {iterasi}\")\n",
        "  plt.plot(epochs, history.history['Accuracy'], 'r', label='Training Accuracy')\n",
        "  plt.plot(epochs, history.history['val_Accuracy'], 'b', label='Validation Accuracy')    \n",
        "  plt.xlabel(\"Epoch\")\n",
        "  plt.ylabel(\"Accuracy\")\n",
        "  plt.legend()\n",
        "  plt.show()"
      ],
      "metadata": {
        "id": "j3xigprPwlSX",
        "colab": {
          "base_uri": "https://localhost:8080/",
          "height": 295
        },
        "outputId": "8736a2f4-098d-4cca-b0fc-c1b56e8fdcc6"
      },
      "execution_count": 13,
      "outputs": [
        {
          "output_type": "display_data",
          "data": {
            "text/plain": [
              "<Figure size 432x288 with 1 Axes>"
            ],
            "image/png": "[encoded data removed]"
          },
          "metadata": {
            "needs_background": "light"
          }
        }
      ]
    },
    {
      "cell_type": "markdown",
      "metadata": {
        "id": "bTgk1-sdzmgy"
      },
      "source": [
        "**Validating** Network"
      ]
    },
    {
      "cell_type": "code",
      "source": [
        "import matplotlib.pyplot as plt\n",
        "from sklearn.datasets import make_classification\n",
        "from numpy import mean\n",
        "from sklearn.metrics import confusion_matrix, ConfusionMatrixDisplay, accuracy_score, classification_report, recall_score\n",
        "\n",
        "#Creating list for correct label\n",
        "correct_labels = []\n",
        "for i in range(len(image_labels_validation)):\n",
        "  pr = image_labels_validation[i]\n",
        "  output = label_binarizer.inverse_transform(pr)\n",
        "  correct_labels.append(output[0])\n",
        "\n",
        "#Creating list for predicted label\n",
        "predicted_labels = []\n",
        "for i in range(len(np_image_list_validation)):\n",
        "  test_img = np_image_list_validation[i]\n",
        "  test_img = np.expand_dims(test_img, axis=0)\n",
        "  pr=model.predict(test_img)\n",
        "  output = label_binarizer.inverse_transform(pr)\n",
        "  predicted_labels.append(output[0])\n",
        "\n",
        "#creating confusion matrix by comparing both list\n",
        "confusion_matrix = confusion_matrix(correct_labels, predicted_labels)\n",
        "disp = ConfusionMatrixDisplay(confusion_matrix=confusion_matrix)  \n",
        "disp.plot()\n",
        "plt.show()\n",
        "print('--------')\n",
        "\n",
        "FP = confusion_matrix.sum(axis=0) - np.diag(confusion_matrix)  \n",
        "FN = confusion_matrix.sum(axis=1) - np.diag(confusion_matrix)\n",
        "TP = np.diag(confusion_matrix)\n",
        "TN = confusion_matrix.sum() - (FP + FN + TP)\n",
        "\n",
        "# Sensitivity, hit rate, recall, or true positive rate\n",
        "sensitivity = TP/(TP+FN)\n",
        "# Specificity or true negative rate\n",
        "specificity = TN/(TN+FP) \n",
        "# Overall accuracy\n",
        "accuracy = (TP+TN)/(TP+FP+FN+TN)\n",
        "\n",
        "print(TP)\n",
        "print(TN)\n",
        "print(FP)\n",
        "print(FN)\n",
        "print('--------')\n",
        "print(accuracy)\n",
        "print(sensitivity)\n",
        "print(specificity)\n",
        "print('--------')\n",
        "\n"
      ],
      "metadata": {
        "colab": {
          "base_uri": "https://localhost:8080/",
          "height": 457
        },
        "id": "d_NBE4KkWuhu",
        "outputId": "5175363a-3a4b-4a26-8d65-39dd8ae12112"
      },
      "execution_count": 14,
      "outputs": [
        {
          "output_type": "display_data",
          "data": {
            "text/plain": [
              "<Figure size 432x288 with 2 Axes>"
            ],
            "image/png": "[encoded data removed]"
          },
          "metadata": {
            "needs_background": "light"
          }
        },
        {
          "output_type": "stream",
          "name": "stdout",
          "text": [
            "--------\n",
            "[160 148]\n",
            "[148 160]\n",
            "[12  0]\n",
            "[ 0 12]\n",
            "--------\n",
            "[0.9625 0.9625]\n",
            "[1.    0.925]\n",
            "[0.925 1.   ]\n",
            "--------\n"
          ]
        }
      ]
    },
    {
      "cell_type": "markdown",
      "source": [
        "**Testing** Network"
      ],
      "metadata": {
        "id": "saJYjKqX9tRL"
      }
    },
    {
      "cell_type": "code",
      "source": [
        "import matplotlib.pyplot as plt\n",
        "from sklearn.datasets import make_classification\n",
        "from numpy import mean\n",
        "from sklearn.metrics import confusion_matrix, ConfusionMatrixDisplay, accuracy_score, classification_report, recall_score\n",
        "\n",
        "#Creating list for correct label\n",
        "correct_labels = []\n",
        "for i in range(len(image_labels_test)):\n",
        "  pr = image_labels_test[i]\n",
        "  output = label_binarizer.inverse_transform(pr)\n",
        "  correct_labels.append(output[0])\n",
        "\n",
        "#Creating list for predicted label\n",
        "predicted_labels = []\n",
        "for i in range(len(np_image_list_test)):\n",
        "  test_img = np_image_list_test[i]\n",
        "  test_img = np.expand_dims(test_img, axis=0)\n",
        "  pr=model.predict(test_img)\n",
        "  output = label_binarizer.inverse_transform(pr)\n",
        "  predicted_labels.append(output[0])\n",
        "\n",
        "#creating confusion matrix by comparing both list\n",
        "confusion_matrix = confusion_matrix(correct_labels, predicted_labels)\n",
        "disp = ConfusionMatrixDisplay(confusion_matrix=confusion_matrix)  \n",
        "disp.plot()\n",
        "plt.show()\n",
        "print('--------')\n",
        "\n",
        "FP = confusion_matrix.sum(axis=0) - np.diag(confusion_matrix)  \n",
        "FN = confusion_matrix.sum(axis=1) - np.diag(confusion_matrix)\n",
        "TP = np.diag(confusion_matrix)\n",
        "TN = confusion_matrix.sum() - (FP + FN + TP)\n",
        "\n",
        "# Sensitivity, hit rate, recall, or true positive rate\n",
        "sensitivity = TP/(TP+FN)\n",
        "# Specificity or true negative rate\n",
        "specificity = TN/(TN+FP) \n",
        "# Overall accuracy\n",
        "accuracy = (TP+TN)/(TP+FP+FN+TN)\n",
        "\n",
        "print(TP)\n",
        "print(TN)\n",
        "print(FP)\n",
        "print(FN)\n",
        "print('--------')\n",
        "print(accuracy)\n",
        "print(sensitivity)\n",
        "print(specificity)\n",
        "print('--------')"
      ],
      "metadata": {
        "colab": {
          "base_uri": "https://localhost:8080/",
          "height": 453
        },
        "id": "A7DR52hmTc75",
        "outputId": "b5302028-5669-4f5b-d273-10415d9c78df"
      },
      "execution_count": 15,
      "outputs": [
        {
          "output_type": "display_data",
          "data": {
            "text/plain": [
              "<Figure size 432x288 with 2 Axes>"
            ],
            "image/png": "[encoded data removed]"
          },
          "metadata": {
            "needs_background": "light"
          }
        },
        {
          "output_type": "stream",
          "name": "stdout",
          "text": [
            "--------\n",
            "[197 189]\n",
            "[189 197]\n",
            "[11  3]\n",
            "[ 3 11]\n",
            "--------\n",
            "[0.965 0.965]\n",
            "[0.985 0.945]\n",
            "[0.945 0.985]\n",
            "--------\n"
          ]
        }
      ]
    }
  ]
}