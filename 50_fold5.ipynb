{
  "nbformat": 4,
  "nbformat_minor": 0,
  "metadata": {
    "accelerator": "GPU",
    "colab": {
      "name": "Kodingan Skripsi 3",
      "provenance": [],
      "collapsed_sections": [],
      "include_colab_link": true
    },
    "kernelspec": {
      "display_name": "Python 3",
      "language": "python",
      "name": "python3"
    },
    "language_info": {
      "codemirror_mode": {
        "name": "ipython",
        "version": 3
      },
      "file_extension": ".py",
      "mimetype": "text/x-python",
      "name": "python",
      "nbconvert_exporter": "python",
      "pygments_lexer": "ipython3",
      "version": "3.6.6"
    }
  },
  "cells": [
    {
      "cell_type": "markdown",
      "metadata": {
        "id": "view-in-github",
        "colab_type": "text"
      },
      "source": [
        "<a href=\"https://colab.research.google.com/github/TaufiqIdrus/Aplikasi-Pendeteksi-Mobil-master/blob/master/50_fold5.ipynb\" target=\"_parent\"><img src=\"https://colab.research.google.com/assets/colab-badge.svg\" alt=\"Open In Colab\"/></a>"
      ]
    },
    {
      "cell_type": "markdown",
      "metadata": {
        "id": "yJT_kQA2lITS"
      },
      "source": [
        "**Identifikasi Penyakit Pada Tanaman Apel menggunakan Convolutional Neural Network**"
      ]
    },
    {
      "cell_type": "code",
      "metadata": {
        "id": "xXeOaYTUzmgT"
      },
      "source": [
        "import numpy as np\n",
        "import pickle\n",
        "import os\n",
        "import cv2\n",
        "import tensorflow as tf\n",
        "import keras\n",
        "from os import listdir\n",
        "from sklearn.preprocessing import LabelBinarizer\n",
        "from keras.models import Sequential\n",
        "from keras.layers.convolutional import Conv2D\n",
        "from keras.layers.convolutional import MaxPooling2D\n",
        "from keras.layers.core import Activation, Flatten, Dropout, Dense\n",
        "from keras import backend as K\n",
        "from tensorflow.keras.optimizers import Adam\n",
        "from keras.preprocessing import image\n",
        "import matplotlib.pyplot as plt\n",
        "from sklearn.datasets import make_classification\n",
        "from numpy import mean\n"
      ],
      "execution_count": 1,
      "outputs": []
    },
    {
      "cell_type": "markdown",
      "metadata": {
        "id": "fp8C0d28lQok"
      },
      "source": [
        "Importing and Preparing Dataset"
      ]
    },
    {
      "cell_type": "code",
      "metadata": {
        "id": "_0xehllADlUs",
        "colab": {
          "base_uri": "https://localhost:8080/"
        },
        "outputId": "a504c782-35a4-4f87-b5f6-b25a1530b941"
      },
      "source": [
        "!pip install pyunpack\n",
        "!pip install patool\n",
        "from pyunpack import Archive\n",
        "Archive('/content/fold5.rar').extractall('/content/Datasets/')\n",
        "iterasi = 5\n",
        "width=60\n",
        "height=60\n",
        "default_image_size = tuple((height, width))\n",
        "directory_root_train = '/content/Datasets/fold5/Train'\n",
        "directory_root_validation = '/content/Datasets/fold5/Validation'\n",
        "directory_root_test = '/content/Datasets/fold5/Test'\n",
        "image_size = 0\n",
        "depth=3"
      ],
      "execution_count": 2,
      "outputs": [
        {
          "output_type": "stream",
          "name": "stdout",
          "text": [
            "Looking in indexes: https://pypi.org/simple, https://us-python.pkg.dev/colab-wheels/public/simple/\n",
            "Collecting pyunpack\n",
            "  Downloading pyunpack-0.3-py2.py3-none-any.whl (4.1 kB)\n",
            "Collecting entrypoint2\n",
            "  Downloading entrypoint2-1.1-py2.py3-none-any.whl (9.9 kB)\n",
            "Collecting easyprocess\n",
            "  Downloading EasyProcess-1.1-py3-none-any.whl (8.7 kB)\n",
            "Installing collected packages: entrypoint2, easyprocess, pyunpack\n",
            "Successfully installed easyprocess-1.1 entrypoint2-1.1 pyunpack-0.3\n",
            "Looking in indexes: https://pypi.org/simple, https://us-python.pkg.dev/colab-wheels/public/simple/\n",
            "Collecting patool\n",
            "  Downloading patool-1.12-py2.py3-none-any.whl (77 kB)\n",
            "\u001b[K     |████████████████████████████████| 77 kB 4.4 MB/s \n",
            "\u001b[?25hInstalling collected packages: patool\n",
            "Successfully installed patool-1.12\n"
          ]
        }
      ]
    },
    {
      "cell_type": "code",
      "metadata": {
        "id": "KbAwJJTpzmge"
      },
      "source": [
        "def convert_image_to_array(image_dir):\n",
        "    try:\n",
        "        image = cv2.imread(image_dir)\n",
        "        if image is not None :\n",
        "            image = cv2.resize(image, default_image_size)   \n",
        "            return keras.preprocessing.image.img_to_array(image)\n",
        "        else :\n",
        "            return np.array([])\n",
        "    except Exception as e:\n",
        "        print(f\"Error : {e}\")\n",
        "        return None"
      ],
      "execution_count": 3,
      "outputs": []
    },
    {
      "cell_type": "markdown",
      "source": [
        "Converting **Training** Data to Array"
      ],
      "metadata": {
        "id": "bgXxUMO2cI_D"
      }
    },
    {
      "cell_type": "code",
      "metadata": {
        "id": "Erz6IjKXzmgg",
        "colab": {
          "base_uri": "https://localhost:8080/"
        },
        "outputId": "517c0dc5-cccf-4763-8732-43bb21f9c4d1"
      },
      "source": [
        "image_list_train, label_list_train = [], []\n",
        "try:\n",
        "    print(\"[INFO] Loading images ...\")\n",
        "    root_dir = listdir(directory_root_train)\n",
        "\n",
        "    for plant_disease_folder in root_dir:\n",
        "        print(f\"[INFO] Processing {plant_disease_folder} ...\")\n",
        "        plant_disease_image_list = listdir(f\"{directory_root_train}/{plant_disease_folder}/\")\n",
        "      \n",
        "        for image in plant_disease_image_list:\n",
        "            image_directory = f\"{directory_root_train}/{plant_disease_folder}/{image}\"\n",
        "\n",
        "            if image_directory.endswith(\".jpg\") == True or image_directory.endswith(\".JPG\") == True:\n",
        "                image_list_train.append(convert_image_to_array(image_directory))\n",
        "                label_list_train.append(plant_disease_folder)\n",
        "    print(\"[INFO] Image loading completed\")\n",
        "\n",
        "except Exception as e:\n",
        "    print(f\"Error : {e}\")\n",
        "\n",
        "#image labeling\n",
        "image_size = len(image_list_train)\n",
        "label_binarizer = LabelBinarizer()\n",
        "image_labels_train = label_binarizer.fit_transform(label_list_train)\n",
        "pickle.dump(label_binarizer,open('label_transform_train.pkl', 'wb'))\n",
        "n_classes = len(label_binarizer.classes_)\n",
        "np_image_list_train = np.array(image_list_train, dtype=np.float16) / 255.0"
      ],
      "execution_count": 4,
      "outputs": [
        {
          "output_type": "stream",
          "name": "stdout",
          "text": [
            "[INFO] Loading images ...\n",
            "[INFO] Processing apel_sehat ...\n",
            "[INFO] Processing apel_bercak_daun ...\n",
            "[INFO] Processing apel_cacar_daun ...\n",
            "[INFO] Processing apel_busuk_buah ...\n",
            "[INFO] Image loading completed\n"
          ]
        }
      ]
    },
    {
      "cell_type": "markdown",
      "source": [
        "Converting **Validation** Data to Array"
      ],
      "metadata": {
        "id": "7eEMGiqRd_E4"
      }
    },
    {
      "cell_type": "code",
      "source": [
        "image_list_validation, label_list_validation = [], []\n",
        "try:\n",
        "    print(\"[INFO] Loading images ...\")\n",
        "    root_dir = listdir(directory_root_validation)\n",
        "\n",
        "    for plant_disease_folder in root_dir:\n",
        "        print(f\"[INFO] Processing {plant_disease_folder} ...\")\n",
        "        plant_disease_image_list = listdir(f\"{directory_root_validation}/{plant_disease_folder}/\")\n",
        "      \n",
        "        for image in plant_disease_image_list:\n",
        "            image_directory = f\"{directory_root_validation}/{plant_disease_folder}/{image}\"\n",
        "\n",
        "            if image_directory.endswith(\".jpg\") == True or image_directory.endswith(\".JPG\") == True:\n",
        "                image_list_validation.append(convert_image_to_array(image_directory))\n",
        "                label_list_validation.append(plant_disease_folder)\n",
        "    print(\"[INFO] Image loading completed\")\n",
        "\n",
        "except Exception as e:\n",
        "    print(f\"Error : {e}\")\n",
        "\n",
        "#image labeling\n",
        "image_size = len(image_list_validation)\n",
        "label_binarizer = LabelBinarizer()\n",
        "image_labels_validation = label_binarizer.fit_transform(label_list_validation)\n",
        "pickle.dump(label_binarizer,open('label_transform_validation.pkl', 'wb'))\n",
        "n_classes = len(label_binarizer.classes_)\n",
        "np_image_list_validation = np.array(image_list_validation, dtype=np.float16) / 255.0"
      ],
      "metadata": {
        "id": "wfHDdR0ZeEuU",
        "colab": {
          "base_uri": "https://localhost:8080/"
        },
        "outputId": "be64d447-f11c-48d0-f841-e69cbad5fa6b"
      },
      "execution_count": 5,
      "outputs": [
        {
          "output_type": "stream",
          "name": "stdout",
          "text": [
            "[INFO] Loading images ...\n",
            "[INFO] Processing apel_sehat ...\n",
            "[INFO] Processing apel_bercak_daun ...\n",
            "[INFO] Processing apel_cacar_daun ...\n",
            "[INFO] Processing apel_busuk_buah ...\n",
            "[INFO] Image loading completed\n"
          ]
        }
      ]
    },
    {
      "cell_type": "markdown",
      "source": [
        "Converting **Testing** Data to Array"
      ],
      "metadata": {
        "id": "brwWyZVncTdg"
      }
    },
    {
      "cell_type": "code",
      "metadata": {
        "id": "uNPby5UMcaWY",
        "colab": {
          "base_uri": "https://localhost:8080/"
        },
        "outputId": "662ca130-301f-446f-cd93-41ed2b567e4b"
      },
      "source": [
        "image_list_test, label_list_test = [], []\n",
        "try:\n",
        "    print(\"[INFO] Loading images ...\")\n",
        "    root_dir = listdir(directory_root_test)\n",
        "\n",
        "    for plant_disease_folder in root_dir:\n",
        "        print(f\"[INFO] Processing {plant_disease_folder} ...\")\n",
        "        plant_disease_image_list = listdir(f\"{directory_root_test}/{plant_disease_folder}/\")\n",
        "      \n",
        "        for image in plant_disease_image_list:\n",
        "            image_directory = f\"{directory_root_test}/{plant_disease_folder}/{image}\"\n",
        "\n",
        "            if image_directory.endswith(\".jpg\") == True or image_directory.endswith(\".JPG\") == True:\n",
        "                image_list_test.append(convert_image_to_array(image_directory))\n",
        "                label_list_test.append(plant_disease_folder)\n",
        "    print(\"[INFO] Image loading completed\")\n",
        "\n",
        "except Exception as e:\n",
        "    print(f\"Error : {e}\")\n",
        "\n",
        "#image labeling\n",
        "image_size = len(image_list_test)\n",
        "label_binarizer = LabelBinarizer()\n",
        "image_labels_test = label_binarizer.fit_transform(label_list_test)\n",
        "pickle.dump(label_binarizer,open('label_transform_test.pkl', 'wb'))\n",
        "n_classes = len(label_binarizer.classes_)\n",
        "np_image_list_test = np.array(image_list_test, dtype=np.float16) / 255.0"
      ],
      "execution_count": 6,
      "outputs": [
        {
          "output_type": "stream",
          "name": "stdout",
          "text": [
            "[INFO] Loading images ...\n",
            "[INFO] Processing apel_sehat ...\n",
            "[INFO] Processing apel_bercak_daun ...\n",
            "[INFO] Processing apel_cacar_daun ...\n",
            "[INFO] Processing apel_busuk_buah ...\n",
            "[INFO] Image loading completed\n"
          ]
        }
      ]
    },
    {
      "cell_type": "markdown",
      "metadata": {
        "id": "jYBTFN0CnAi7"
      },
      "source": [
        "Data Augmenting Initialization"
      ]
    },
    {
      "cell_type": "code",
      "metadata": {
        "id": "TLMxMK2Tzmgr"
      },
      "source": [
        "aug = keras.preprocessing.image.ImageDataGenerator(\n",
        "    rotation_range=25, \n",
        "    width_shift_range=0.1,\n",
        "    height_shift_range=0.1, \n",
        "    shear_range=0.2, \n",
        "    zoom_range=0.2,\n",
        "    horizontal_flip=True, \n",
        "    fill_mode=\"nearest\")"
      ],
      "execution_count": 7,
      "outputs": []
    },
    {
      "cell_type": "markdown",
      "metadata": {
        "id": "H1BfRyYNnGv_"
      },
      "source": [
        "Creating CNN Model"
      ]
    },
    {
      "cell_type": "code",
      "metadata": {
        "id": "WmLX4wm8zmgs"
      },
      "source": [
        "model = keras.models.Sequential()\n",
        "inputShape = (height, width, depth)\n",
        "\n",
        "model.add(Conv2D(20, (5, 5), padding=\"same\",input_shape=inputShape))\n",
        "model.add(Activation(\"relu\"))\n",
        "\n",
        "model.add(MaxPooling2D(pool_size=(2, 2), strides=2))\n",
        "\n",
        "model.add(Conv2D(50, (5, 5), padding=\"same\"))\n",
        "model.add(Activation(\"relu\"))\n",
        "\n",
        "model.add(MaxPooling2D(pool_size=(2, 2),strides=2))\n",
        "\n",
        "model.add(Flatten())\n",
        "\n",
        "model.add(Dense(500))\n",
        "model.add(Activation(\"relu\"))\n",
        "\n",
        "model.add(Dense(4))\n",
        "model.add(Activation(\"softmax\"))"
      ],
      "execution_count": 8,
      "outputs": []
    },
    {
      "cell_type": "code",
      "source": [
        "#model.summary()"
      ],
      "metadata": {
        "id": "RQIgaph8hW06"
      },
      "execution_count": 9,
      "outputs": []
    },
    {
      "cell_type": "code",
      "source": [
        "#from PIL import Image\n",
        "#from keras.utils.vis_utils import plot_model\n",
        "#plot_model(model, to_file='cnn_model.png', show_shapes=True, show_layer_names=True)\n",
        "#display(Image.open('cnn_model.png'))"
      ],
      "metadata": {
        "id": "T05gPuu1GudW"
      },
      "execution_count": 10,
      "outputs": []
    },
    {
      "cell_type": "markdown",
      "metadata": {
        "id": "Zfsu3lVfnXFG"
      },
      "source": [
        "**Training** Network"
      ]
    },
    {
      "cell_type": "code",
      "metadata": {
        "id": "rvwKwe3Lzmgv",
        "colab": {
          "base_uri": "https://localhost:8080/"
        },
        "outputId": "31df4c8e-b746-4daf-d565-5fb0fb5eae4e"
      },
      "source": [
        "EPOCHS = 200\n",
        "INIT_LR = 1e-3\n",
        "BS = 8\n",
        "\n",
        "with tf.device('/GPU:0'):\n",
        "  opt = Adam(learning_rate=INIT_LR, decay=INIT_LR / EPOCHS)\n",
        "  model.compile(loss=\"categorical_crossentropy\", optimizer=opt,metrics=[\"Accuracy\", \"FalseNegatives\", \"FalsePositives\", \"TrueNegatives\", \"TruePositives\"])\n",
        "  \n",
        "  history = model.fit(\n",
        "      aug.flow(np_image_list_train, image_labels_train, batch_size=BS),\n",
        "      validation_data=(np_image_list_validation, image_labels_validation),\n",
        "      steps_per_epoch=len(np_image_list_train) // BS,\n",
        "      epochs=EPOCHS, \n",
        "      verbose=1,\n",
        "      )\n"
      ],
      "execution_count": 11,
      "outputs": [
        {
          "output_type": "stream",
          "name": "stdout",
          "text": [
            "Epoch 1/200\n",
            "44/44 [==============================] - 18s 61ms/step - loss: 1.4448 - Accuracy: 0.4119 - false_negatives: 313.0000 - false_positives: 52.0000 - true_negatives: 1004.0000 - true_positives: 39.0000 - val_loss: 1.2913 - val_Accuracy: 0.4348 - val_false_negatives: 92.0000 - val_false_positives: 0.0000e+00 - val_true_negatives: 276.0000 - val_true_positives: 0.0000e+00\n",
            "Epoch 2/200\n",
            "44/44 [==============================] - 1s 17ms/step - loss: 1.2308 - Accuracy: 0.4545 - false_negatives: 308.0000 - false_positives: 25.0000 - true_negatives: 1031.0000 - true_positives: 44.0000 - val_loss: 1.2580 - val_Accuracy: 0.4348 - val_false_negatives: 54.0000 - val_false_positives: 31.0000 - val_true_negatives: 245.0000 - val_true_positives: 38.0000\n",
            "Epoch 3/200\n",
            "44/44 [==============================] - 1s 14ms/step - loss: 1.1395 - Accuracy: 0.5341 - false_negatives: 244.0000 - false_positives: 40.0000 - true_negatives: 1016.0000 - true_positives: 108.0000 - val_loss: 1.0996 - val_Accuracy: 0.5978 - val_false_negatives: 61.0000 - val_false_positives: 11.0000 - val_true_negatives: 265.0000 - val_true_positives: 31.0000\n",
            "Epoch 4/200\n",
            "44/44 [==============================] - 1s 14ms/step - loss: 1.0804 - Accuracy: 0.5625 - false_negatives: 253.0000 - false_positives: 35.0000 - true_negatives: 1021.0000 - true_positives: 99.0000 - val_loss: 1.2353 - val_Accuracy: 0.5652 - val_false_negatives: 56.0000 - val_false_positives: 22.0000 - val_true_negatives: 254.0000 - val_true_positives: 36.0000\n",
            "Epoch 5/200\n",
            "44/44 [==============================] - 1s 14ms/step - loss: 1.0244 - Accuracy: 0.5966 - false_negatives: 210.0000 - false_positives: 59.0000 - true_negatives: 997.0000 - true_positives: 142.0000 - val_loss: 1.1003 - val_Accuracy: 0.6630 - val_false_negatives: 67.0000 - val_false_positives: 8.0000 - val_true_negatives: 268.0000 - val_true_positives: 25.0000\n",
            "Epoch 6/200\n",
            "44/44 [==============================] - 1s 14ms/step - loss: 1.0275 - Accuracy: 0.5653 - false_negatives: 227.0000 - false_positives: 55.0000 - true_negatives: 1001.0000 - true_positives: 125.0000 - val_loss: 1.1310 - val_Accuracy: 0.6087 - val_false_negatives: 61.0000 - val_false_positives: 10.0000 - val_true_negatives: 266.0000 - val_true_positives: 31.0000\n",
            "Epoch 7/200\n",
            "44/44 [==============================] - 1s 14ms/step - loss: 0.9393 - Accuracy: 0.6364 - false_negatives: 179.0000 - false_positives: 62.0000 - true_negatives: 994.0000 - true_positives: 173.0000 - val_loss: 1.1805 - val_Accuracy: 0.6196 - val_false_negatives: 62.0000 - val_false_positives: 7.0000 - val_true_negatives: 269.0000 - val_true_positives: 30.0000\n",
            "Epoch 8/200\n",
            "44/44 [==============================] - 1s 14ms/step - loss: 0.9124 - Accuracy: 0.6392 - false_negatives: 182.0000 - false_positives: 62.0000 - true_negatives: 994.0000 - true_positives: 170.0000 - val_loss: 1.2392 - val_Accuracy: 0.4891 - val_false_negatives: 58.0000 - val_false_positives: 15.0000 - val_true_negatives: 261.0000 - val_true_positives: 34.0000\n",
            "Epoch 9/200\n",
            "44/44 [==============================] - 1s 14ms/step - loss: 0.9126 - Accuracy: 0.6449 - false_negatives: 198.0000 - false_positives: 46.0000 - true_negatives: 1010.0000 - true_positives: 154.0000 - val_loss: 1.2540 - val_Accuracy: 0.5978 - val_false_negatives: 57.0000 - val_false_positives: 19.0000 - val_true_negatives: 257.0000 - val_true_positives: 35.0000\n",
            "Epoch 10/200\n",
            "44/44 [==============================] - 1s 14ms/step - loss: 0.8269 - Accuracy: 0.7045 - false_negatives: 154.0000 - false_positives: 63.0000 - true_negatives: 993.0000 - true_positives: 198.0000 - val_loss: 1.2290 - val_Accuracy: 0.5870 - val_false_negatives: 51.0000 - val_false_positives: 18.0000 - val_true_negatives: 258.0000 - val_true_positives: 41.0000\n",
            "Epoch 11/200\n",
            "44/44 [==============================] - 1s 14ms/step - loss: 0.8231 - Accuracy: 0.6761 - false_negatives: 156.0000 - false_positives: 66.0000 - true_negatives: 990.0000 - true_positives: 196.0000 - val_loss: 1.2453 - val_Accuracy: 0.6196 - val_false_negatives: 38.0000 - val_false_positives: 25.0000 - val_true_negatives: 251.0000 - val_true_positives: 54.0000\n",
            "Epoch 12/200\n",
            "44/44 [==============================] - 1s 14ms/step - loss: 0.8796 - Accuracy: 0.6648 - false_negatives: 152.0000 - false_positives: 81.0000 - true_negatives: 975.0000 - true_positives: 200.0000 - val_loss: 1.1396 - val_Accuracy: 0.6413 - val_false_negatives: 34.0000 - val_false_positives: 30.0000 - val_true_negatives: 246.0000 - val_true_positives: 58.0000\n",
            "Epoch 13/200\n",
            "44/44 [==============================] - 1s 14ms/step - loss: 0.8099 - Accuracy: 0.6989 - false_negatives: 144.0000 - false_positives: 68.0000 - true_negatives: 988.0000 - true_positives: 208.0000 - val_loss: 1.2815 - val_Accuracy: 0.5652 - val_false_negatives: 56.0000 - val_false_positives: 25.0000 - val_true_negatives: 251.0000 - val_true_positives: 36.0000\n",
            "Epoch 14/200\n",
            "44/44 [==============================] - 1s 15ms/step - loss: 0.7831 - Accuracy: 0.7074 - false_negatives: 133.0000 - false_positives: 64.0000 - true_negatives: 992.0000 - true_positives: 219.0000 - val_loss: 1.4976 - val_Accuracy: 0.5435 - val_false_negatives: 50.0000 - val_false_positives: 32.0000 - val_true_negatives: 244.0000 - val_true_positives: 42.0000\n",
            "Epoch 15/200\n",
            "44/44 [==============================] - 1s 14ms/step - loss: 0.8095 - Accuracy: 0.6932 - false_negatives: 142.0000 - false_positives: 74.0000 - true_negatives: 982.0000 - true_positives: 210.0000 - val_loss: 1.2270 - val_Accuracy: 0.5978 - val_false_negatives: 45.0000 - val_false_positives: 32.0000 - val_true_negatives: 244.0000 - val_true_positives: 47.0000\n",
            "Epoch 16/200\n",
            "44/44 [==============================] - 1s 14ms/step - loss: 0.8211 - Accuracy: 0.6676 - false_negatives: 147.0000 - false_positives: 71.0000 - true_negatives: 985.0000 - true_positives: 205.0000 - val_loss: 1.1428 - val_Accuracy: 0.5761 - val_false_negatives: 43.0000 - val_false_positives: 29.0000 - val_true_negatives: 247.0000 - val_true_positives: 49.0000\n",
            "Epoch 17/200\n",
            "44/44 [==============================] - 1s 14ms/step - loss: 0.7475 - Accuracy: 0.7415 - false_negatives: 115.0000 - false_positives: 65.0000 - true_negatives: 991.0000 - true_positives: 237.0000 - val_loss: 1.2249 - val_Accuracy: 0.6087 - val_false_negatives: 40.0000 - val_false_positives: 33.0000 - val_true_negatives: 243.0000 - val_true_positives: 52.0000\n",
            "Epoch 18/200\n",
            "44/44 [==============================] - 1s 14ms/step - loss: 0.7566 - Accuracy: 0.7159 - false_negatives: 124.0000 - false_positives: 72.0000 - true_negatives: 984.0000 - true_positives: 228.0000 - val_loss: 1.1563 - val_Accuracy: 0.5652 - val_false_negatives: 42.0000 - val_false_positives: 35.0000 - val_true_negatives: 241.0000 - val_true_positives: 50.0000\n",
            "Epoch 19/200\n",
            "44/44 [==============================] - 1s 15ms/step - loss: 0.7237 - Accuracy: 0.7159 - false_negatives: 117.0000 - false_positives: 70.0000 - true_negatives: 986.0000 - true_positives: 235.0000 - val_loss: 1.3303 - val_Accuracy: 0.5543 - val_false_negatives: 50.0000 - val_false_positives: 31.0000 - val_true_negatives: 245.0000 - val_true_positives: 42.0000\n",
            "Epoch 20/200\n",
            "44/44 [==============================] - 1s 14ms/step - loss: 0.7277 - Accuracy: 0.7443 - false_negatives: 120.0000 - false_positives: 62.0000 - true_negatives: 994.0000 - true_positives: 232.0000 - val_loss: 1.2813 - val_Accuracy: 0.6522 - val_false_negatives: 40.0000 - val_false_positives: 29.0000 - val_true_negatives: 247.0000 - val_true_positives: 52.0000\n",
            "Epoch 21/200\n",
            "44/44 [==============================] - 1s 14ms/step - loss: 0.6889 - Accuracy: 0.7386 - false_negatives: 109.0000 - false_positives: 63.0000 - true_negatives: 993.0000 - true_positives: 243.0000 - val_loss: 1.2135 - val_Accuracy: 0.6630 - val_false_negatives: 36.0000 - val_false_positives: 26.0000 - val_true_negatives: 250.0000 - val_true_positives: 56.0000\n",
            "Epoch 22/200\n",
            "44/44 [==============================] - 1s 14ms/step - loss: 0.6963 - Accuracy: 0.7415 - false_negatives: 116.0000 - false_positives: 61.0000 - true_negatives: 995.0000 - true_positives: 236.0000 - val_loss: 1.2926 - val_Accuracy: 0.5652 - val_false_negatives: 46.0000 - val_false_positives: 33.0000 - val_true_negatives: 243.0000 - val_true_positives: 46.0000\n",
            "Epoch 23/200\n",
            "44/44 [==============================] - 1s 14ms/step - loss: 0.7004 - Accuracy: 0.7273 - false_negatives: 114.0000 - false_positives: 66.0000 - true_negatives: 990.0000 - true_positives: 238.0000 - val_loss: 1.0429 - val_Accuracy: 0.7283 - val_false_negatives: 29.0000 - val_false_positives: 21.0000 - val_true_negatives: 255.0000 - val_true_positives: 63.0000\n",
            "Epoch 24/200\n",
            "44/44 [==============================] - 1s 14ms/step - loss: 0.7240 - Accuracy: 0.7216 - false_negatives: 115.0000 - false_positives: 59.0000 - true_negatives: 997.0000 - true_positives: 237.0000 - val_loss: 1.3254 - val_Accuracy: 0.6304 - val_false_negatives: 38.0000 - val_false_positives: 28.0000 - val_true_negatives: 248.0000 - val_true_positives: 54.0000\n",
            "Epoch 25/200\n",
            "44/44 [==============================] - 1s 14ms/step - loss: 0.6636 - Accuracy: 0.7557 - false_negatives: 102.0000 - false_positives: 66.0000 - true_negatives: 990.0000 - true_positives: 250.0000 - val_loss: 1.1754 - val_Accuracy: 0.5978 - val_false_negatives: 40.0000 - val_false_positives: 33.0000 - val_true_negatives: 243.0000 - val_true_positives: 52.0000\n",
            "Epoch 26/200\n",
            "44/44 [==============================] - 1s 15ms/step - loss: 0.6682 - Accuracy: 0.7614 - false_negatives: 107.0000 - false_positives: 63.0000 - true_negatives: 993.0000 - true_positives: 245.0000 - val_loss: 1.1811 - val_Accuracy: 0.6304 - val_false_negatives: 38.0000 - val_false_positives: 30.0000 - val_true_negatives: 246.0000 - val_true_positives: 54.0000\n",
            "Epoch 27/200\n",
            "44/44 [==============================] - 1s 14ms/step - loss: 0.6727 - Accuracy: 0.7386 - false_negatives: 113.0000 - false_positives: 65.0000 - true_negatives: 991.0000 - true_positives: 239.0000 - val_loss: 1.3630 - val_Accuracy: 0.6413 - val_false_negatives: 35.0000 - val_false_positives: 32.0000 - val_true_negatives: 244.0000 - val_true_positives: 57.0000\n",
            "Epoch 28/200\n",
            "44/44 [==============================] - 1s 14ms/step - loss: 0.6894 - Accuracy: 0.7415 - false_negatives: 108.0000 - false_positives: 66.0000 - true_negatives: 990.0000 - true_positives: 244.0000 - val_loss: 1.1862 - val_Accuracy: 0.6522 - val_false_negatives: 36.0000 - val_false_positives: 25.0000 - val_true_negatives: 251.0000 - val_true_positives: 56.0000\n",
            "Epoch 29/200\n",
            "44/44 [==============================] - 1s 15ms/step - loss: 0.7225 - Accuracy: 0.7358 - false_negatives: 110.0000 - false_positives: 73.0000 - true_negatives: 983.0000 - true_positives: 242.0000 - val_loss: 1.2721 - val_Accuracy: 0.6630 - val_false_negatives: 34.0000 - val_false_positives: 28.0000 - val_true_negatives: 248.0000 - val_true_positives: 58.0000\n",
            "Epoch 30/200\n",
            "44/44 [==============================] - 1s 15ms/step - loss: 0.6685 - Accuracy: 0.7528 - false_negatives: 108.0000 - false_positives: 67.0000 - true_negatives: 989.0000 - true_positives: 244.0000 - val_loss: 1.5384 - val_Accuracy: 0.6087 - val_false_negatives: 38.0000 - val_false_positives: 34.0000 - val_true_negatives: 242.0000 - val_true_positives: 54.0000\n",
            "Epoch 31/200\n",
            "44/44 [==============================] - 1s 14ms/step - loss: 0.7092 - Accuracy: 0.7358 - false_negatives: 101.0000 - false_positives: 69.0000 - true_negatives: 987.0000 - true_positives: 251.0000 - val_loss: 1.1891 - val_Accuracy: 0.5870 - val_false_negatives: 44.0000 - val_false_positives: 35.0000 - val_true_negatives: 241.0000 - val_true_positives: 48.0000\n",
            "Epoch 32/200\n",
            "44/44 [==============================] - 1s 14ms/step - loss: 0.6663 - Accuracy: 0.7443 - false_negatives: 110.0000 - false_positives: 66.0000 - true_negatives: 990.0000 - true_positives: 242.0000 - val_loss: 1.0218 - val_Accuracy: 0.7391 - val_false_negatives: 32.0000 - val_false_positives: 19.0000 - val_true_negatives: 257.0000 - val_true_positives: 60.0000\n",
            "Epoch 33/200\n",
            "44/44 [==============================] - 1s 14ms/step - loss: 0.6342 - Accuracy: 0.7415 - false_negatives: 106.0000 - false_positives: 61.0000 - true_negatives: 995.0000 - true_positives: 246.0000 - val_loss: 1.0818 - val_Accuracy: 0.7174 - val_false_negatives: 28.0000 - val_false_positives: 25.0000 - val_true_negatives: 251.0000 - val_true_positives: 64.0000\n",
            "Epoch 34/200\n",
            "44/44 [==============================] - 1s 14ms/step - loss: 0.6184 - Accuracy: 0.7585 - false_negatives: 100.0000 - false_positives: 64.0000 - true_negatives: 992.0000 - true_positives: 252.0000 - val_loss: 1.5417 - val_Accuracy: 0.5870 - val_false_negatives: 44.0000 - val_false_positives: 31.0000 - val_true_negatives: 245.0000 - val_true_positives: 48.0000\n",
            "Epoch 35/200\n",
            "44/44 [==============================] - 1s 14ms/step - loss: 0.6241 - Accuracy: 0.7727 - false_negatives: 98.0000 - false_positives: 57.0000 - true_negatives: 999.0000 - true_positives: 254.0000 - val_loss: 1.2546 - val_Accuracy: 0.5870 - val_false_negatives: 42.0000 - val_false_positives: 33.0000 - val_true_negatives: 243.0000 - val_true_positives: 50.0000\n",
            "Epoch 36/200\n",
            "44/44 [==============================] - 1s 14ms/step - loss: 0.6404 - Accuracy: 0.7585 - false_negatives: 107.0000 - false_positives: 67.0000 - true_negatives: 989.0000 - true_positives: 245.0000 - val_loss: 1.0925 - val_Accuracy: 0.6848 - val_false_negatives: 36.0000 - val_false_positives: 19.0000 - val_true_negatives: 257.0000 - val_true_positives: 56.0000\n",
            "Epoch 37/200\n",
            "44/44 [==============================] - 1s 14ms/step - loss: 0.6259 - Accuracy: 0.7727 - false_negatives: 95.0000 - false_positives: 61.0000 - true_negatives: 995.0000 - true_positives: 257.0000 - val_loss: 1.2702 - val_Accuracy: 0.6630 - val_false_negatives: 35.0000 - val_false_positives: 27.0000 - val_true_negatives: 249.0000 - val_true_positives: 57.0000\n",
            "Epoch 38/200\n",
            "44/44 [==============================] - 1s 14ms/step - loss: 0.6884 - Accuracy: 0.7301 - false_negatives: 106.0000 - false_positives: 67.0000 - true_negatives: 989.0000 - true_positives: 246.0000 - val_loss: 1.3334 - val_Accuracy: 0.6304 - val_false_negatives: 36.0000 - val_false_positives: 32.0000 - val_true_negatives: 244.0000 - val_true_positives: 56.0000\n",
            "Epoch 39/200\n",
            "44/44 [==============================] - 1s 14ms/step - loss: 0.6602 - Accuracy: 0.7472 - false_negatives: 103.0000 - false_positives: 63.0000 - true_negatives: 993.0000 - true_positives: 249.0000 - val_loss: 1.4484 - val_Accuracy: 0.6304 - val_false_negatives: 37.0000 - val_false_positives: 30.0000 - val_true_negatives: 246.0000 - val_true_positives: 55.0000\n",
            "Epoch 40/200\n",
            "44/44 [==============================] - 1s 14ms/step - loss: 0.6195 - Accuracy: 0.7784 - false_negatives: 95.0000 - false_positives: 61.0000 - true_negatives: 995.0000 - true_positives: 257.0000 - val_loss: 1.0835 - val_Accuracy: 0.6630 - val_false_negatives: 37.0000 - val_false_positives: 30.0000 - val_true_negatives: 246.0000 - val_true_positives: 55.0000\n",
            "Epoch 41/200\n",
            "44/44 [==============================] - 1s 15ms/step - loss: 0.5808 - Accuracy: 0.7869 - false_negatives: 91.0000 - false_positives: 52.0000 - true_negatives: 1004.0000 - true_positives: 261.0000 - val_loss: 1.1313 - val_Accuracy: 0.6413 - val_false_negatives: 36.0000 - val_false_positives: 29.0000 - val_true_negatives: 247.0000 - val_true_positives: 56.0000\n",
            "Epoch 42/200\n",
            "44/44 [==============================] - 1s 14ms/step - loss: 0.6126 - Accuracy: 0.7670 - false_negatives: 94.0000 - false_positives: 56.0000 - true_negatives: 1000.0000 - true_positives: 258.0000 - val_loss: 1.1374 - val_Accuracy: 0.6957 - val_false_negatives: 31.0000 - val_false_positives: 25.0000 - val_true_negatives: 251.0000 - val_true_positives: 61.0000\n",
            "Epoch 43/200\n",
            "44/44 [==============================] - 1s 14ms/step - loss: 0.5833 - Accuracy: 0.8068 - false_negatives: 79.0000 - false_positives: 55.0000 - true_negatives: 1001.0000 - true_positives: 273.0000 - val_loss: 1.1021 - val_Accuracy: 0.7391 - val_false_negatives: 27.0000 - val_false_positives: 21.0000 - val_true_negatives: 255.0000 - val_true_positives: 65.0000\n",
            "Epoch 44/200\n",
            "44/44 [==============================] - 1s 15ms/step - loss: 0.5717 - Accuracy: 0.7955 - false_negatives: 91.0000 - false_positives: 54.0000 - true_negatives: 1002.0000 - true_positives: 261.0000 - val_loss: 1.2027 - val_Accuracy: 0.6522 - val_false_negatives: 41.0000 - val_false_positives: 30.0000 - val_true_negatives: 246.0000 - val_true_positives: 51.0000\n",
            "Epoch 45/200\n",
            "44/44 [==============================] - 1s 15ms/step - loss: 0.5479 - Accuracy: 0.8182 - false_negatives: 79.0000 - false_positives: 48.0000 - true_negatives: 1008.0000 - true_positives: 273.0000 - val_loss: 1.5171 - val_Accuracy: 0.6087 - val_false_negatives: 39.0000 - val_false_positives: 32.0000 - val_true_negatives: 244.0000 - val_true_positives: 53.0000\n",
            "Epoch 46/200\n",
            "44/44 [==============================] - 1s 15ms/step - loss: 0.5723 - Accuracy: 0.7812 - false_negatives: 92.0000 - false_positives: 58.0000 - true_negatives: 998.0000 - true_positives: 260.0000 - val_loss: 1.1966 - val_Accuracy: 0.5978 - val_false_negatives: 40.0000 - val_false_positives: 32.0000 - val_true_negatives: 244.0000 - val_true_positives: 52.0000\n",
            "Epoch 47/200\n",
            "44/44 [==============================] - 1s 14ms/step - loss: 0.5728 - Accuracy: 0.7926 - false_negatives: 86.0000 - false_positives: 53.0000 - true_negatives: 1003.0000 - true_positives: 266.0000 - val_loss: 1.1076 - val_Accuracy: 0.7391 - val_false_negatives: 26.0000 - val_false_positives: 22.0000 - val_true_negatives: 254.0000 - val_true_positives: 66.0000\n",
            "Epoch 48/200\n",
            "44/44 [==============================] - 1s 14ms/step - loss: 0.5547 - Accuracy: 0.8040 - false_negatives: 80.0000 - false_positives: 58.0000 - true_negatives: 998.0000 - true_positives: 272.0000 - val_loss: 1.3698 - val_Accuracy: 0.5870 - val_false_negatives: 41.0000 - val_false_positives: 34.0000 - val_true_negatives: 242.0000 - val_true_positives: 51.0000\n",
            "Epoch 49/200\n",
            "44/44 [==============================] - 1s 14ms/step - loss: 0.5831 - Accuracy: 0.7898 - false_negatives: 84.0000 - false_positives: 56.0000 - true_negatives: 1000.0000 - true_positives: 268.0000 - val_loss: 0.9759 - val_Accuracy: 0.7174 - val_false_negatives: 27.0000 - val_false_positives: 23.0000 - val_true_negatives: 253.0000 - val_true_positives: 65.0000\n",
            "Epoch 50/200\n",
            "44/44 [==============================] - 1s 14ms/step - loss: 0.5814 - Accuracy: 0.7898 - false_negatives: 100.0000 - false_positives: 51.0000 - true_negatives: 1005.0000 - true_positives: 252.0000 - val_loss: 1.0274 - val_Accuracy: 0.7065 - val_false_negatives: 29.0000 - val_false_positives: 23.0000 - val_true_negatives: 253.0000 - val_true_positives: 63.0000\n",
            "Epoch 51/200\n",
            "44/44 [==============================] - 1s 14ms/step - loss: 0.5724 - Accuracy: 0.7926 - false_negatives: 84.0000 - false_positives: 51.0000 - true_negatives: 1005.0000 - true_positives: 268.0000 - val_loss: 1.4016 - val_Accuracy: 0.6196 - val_false_negatives: 38.0000 - val_false_positives: 32.0000 - val_true_negatives: 244.0000 - val_true_positives: 54.0000\n",
            "Epoch 52/200\n",
            "44/44 [==============================] - 1s 15ms/step - loss: 0.5012 - Accuracy: 0.8153 - false_negatives: 76.0000 - false_positives: 50.0000 - true_negatives: 1006.0000 - true_positives: 276.0000 - val_loss: 1.3572 - val_Accuracy: 0.5870 - val_false_negatives: 42.0000 - val_false_positives: 36.0000 - val_true_negatives: 240.0000 - val_true_positives: 50.0000\n",
            "Epoch 53/200\n",
            "44/44 [==============================] - 1s 14ms/step - loss: 0.5402 - Accuracy: 0.8068 - false_negatives: 79.0000 - false_positives: 56.0000 - true_negatives: 1000.0000 - true_positives: 273.0000 - val_loss: 1.3057 - val_Accuracy: 0.6630 - val_false_negatives: 32.0000 - val_false_positives: 27.0000 - val_true_negatives: 249.0000 - val_true_positives: 60.0000\n",
            "Epoch 54/200\n",
            "44/44 [==============================] - 1s 14ms/step - loss: 0.5087 - Accuracy: 0.8153 - false_negatives: 76.0000 - false_positives: 46.0000 - true_negatives: 1010.0000 - true_positives: 276.0000 - val_loss: 1.4479 - val_Accuracy: 0.5978 - val_false_negatives: 38.0000 - val_false_positives: 35.0000 - val_true_negatives: 241.0000 - val_true_positives: 54.0000\n",
            "Epoch 55/200\n",
            "44/44 [==============================] - 1s 14ms/step - loss: 0.5805 - Accuracy: 0.7670 - false_negatives: 97.0000 - false_positives: 65.0000 - true_negatives: 991.0000 - true_positives: 255.0000 - val_loss: 1.2008 - val_Accuracy: 0.6630 - val_false_negatives: 33.0000 - val_false_positives: 26.0000 - val_true_negatives: 250.0000 - val_true_positives: 59.0000\n",
            "Epoch 56/200\n",
            "44/44 [==============================] - 1s 14ms/step - loss: 0.4908 - Accuracy: 0.8352 - false_negatives: 78.0000 - false_positives: 44.0000 - true_negatives: 1012.0000 - true_positives: 274.0000 - val_loss: 1.5518 - val_Accuracy: 0.5652 - val_false_negatives: 42.0000 - val_false_positives: 37.0000 - val_true_negatives: 239.0000 - val_true_positives: 50.0000\n",
            "Epoch 57/200\n",
            "44/44 [==============================] - 1s 14ms/step - loss: 0.5455 - Accuracy: 0.7756 - false_negatives: 88.0000 - false_positives: 59.0000 - true_negatives: 997.0000 - true_positives: 264.0000 - val_loss: 1.3193 - val_Accuracy: 0.6413 - val_false_negatives: 35.0000 - val_false_positives: 31.0000 - val_true_negatives: 245.0000 - val_true_positives: 57.0000\n",
            "Epoch 58/200\n",
            "44/44 [==============================] - 1s 14ms/step - loss: 0.4846 - Accuracy: 0.8295 - false_negatives: 66.0000 - false_positives: 46.0000 - true_negatives: 1010.0000 - true_positives: 286.0000 - val_loss: 1.1731 - val_Accuracy: 0.6848 - val_false_negatives: 30.0000 - val_false_positives: 23.0000 - val_true_negatives: 253.0000 - val_true_positives: 62.0000\n",
            "Epoch 59/200\n",
            "44/44 [==============================] - 1s 14ms/step - loss: 0.5436 - Accuracy: 0.8040 - false_negatives: 78.0000 - false_positives: 52.0000 - true_negatives: 1004.0000 - true_positives: 274.0000 - val_loss: 1.2589 - val_Accuracy: 0.6522 - val_false_negatives: 32.0000 - val_false_positives: 28.0000 - val_true_negatives: 248.0000 - val_true_positives: 60.0000\n",
            "Epoch 60/200\n",
            "44/44 [==============================] - 1s 15ms/step - loss: 0.5072 - Accuracy: 0.7955 - false_negatives: 80.0000 - false_positives: 57.0000 - true_negatives: 999.0000 - true_positives: 272.0000 - val_loss: 1.5377 - val_Accuracy: 0.5978 - val_false_negatives: 37.0000 - val_false_positives: 36.0000 - val_true_negatives: 240.0000 - val_true_positives: 55.0000\n",
            "Epoch 61/200\n",
            "44/44 [==============================] - 1s 15ms/step - loss: 0.4871 - Accuracy: 0.8409 - false_negatives: 66.0000 - false_positives: 45.0000 - true_negatives: 1011.0000 - true_positives: 286.0000 - val_loss: 1.1328 - val_Accuracy: 0.7065 - val_false_negatives: 29.0000 - val_false_positives: 25.0000 - val_true_negatives: 251.0000 - val_true_positives: 63.0000\n",
            "Epoch 62/200\n",
            "44/44 [==============================] - 1s 14ms/step - loss: 0.5437 - Accuracy: 0.8011 - false_negatives: 83.0000 - false_positives: 57.0000 - true_negatives: 999.0000 - true_positives: 269.0000 - val_loss: 1.2911 - val_Accuracy: 0.6413 - val_false_negatives: 35.0000 - val_false_positives: 30.0000 - val_true_negatives: 246.0000 - val_true_positives: 57.0000\n",
            "Epoch 63/200\n",
            "44/44 [==============================] - 1s 15ms/step - loss: 0.5335 - Accuracy: 0.8182 - false_negatives: 81.0000 - false_positives: 51.0000 - true_negatives: 1005.0000 - true_positives: 271.0000 - val_loss: 2.1367 - val_Accuracy: 0.5978 - val_false_negatives: 40.0000 - val_false_positives: 36.0000 - val_true_negatives: 240.0000 - val_true_positives: 52.0000\n",
            "Epoch 64/200\n",
            "44/44 [==============================] - 1s 14ms/step - loss: 0.5374 - Accuracy: 0.7784 - false_negatives: 85.0000 - false_positives: 62.0000 - true_negatives: 994.0000 - true_positives: 267.0000 - val_loss: 1.5844 - val_Accuracy: 0.6304 - val_false_negatives: 36.0000 - val_false_positives: 30.0000 - val_true_negatives: 246.0000 - val_true_positives: 56.0000\n",
            "Epoch 65/200\n",
            "44/44 [==============================] - 1s 15ms/step - loss: 0.5184 - Accuracy: 0.8267 - false_negatives: 78.0000 - false_positives: 51.0000 - true_negatives: 1005.0000 - true_positives: 274.0000 - val_loss: 1.3316 - val_Accuracy: 0.6304 - val_false_negatives: 36.0000 - val_false_positives: 29.0000 - val_true_negatives: 247.0000 - val_true_positives: 56.0000\n",
            "Epoch 66/200\n",
            "44/44 [==============================] - 1s 14ms/step - loss: 0.4753 - Accuracy: 0.8324 - false_negatives: 71.0000 - false_positives: 46.0000 - true_negatives: 1010.0000 - true_positives: 281.0000 - val_loss: 1.1932 - val_Accuracy: 0.7500 - val_false_negatives: 26.0000 - val_false_positives: 23.0000 - val_true_negatives: 253.0000 - val_true_positives: 66.0000\n",
            "Epoch 67/200\n",
            "44/44 [==============================] - 1s 15ms/step - loss: 0.5224 - Accuracy: 0.8097 - false_negatives: 81.0000 - false_positives: 50.0000 - true_negatives: 1006.0000 - true_positives: 271.0000 - val_loss: 1.3533 - val_Accuracy: 0.6196 - val_false_negatives: 36.0000 - val_false_positives: 32.0000 - val_true_negatives: 244.0000 - val_true_positives: 56.0000\n",
            "Epoch 68/200\n",
            "44/44 [==============================] - 1s 14ms/step - loss: 0.4777 - Accuracy: 0.8295 - false_negatives: 73.0000 - false_positives: 47.0000 - true_negatives: 1009.0000 - true_positives: 279.0000 - val_loss: 1.6444 - val_Accuracy: 0.5652 - val_false_negatives: 43.0000 - val_false_positives: 34.0000 - val_true_negatives: 242.0000 - val_true_positives: 49.0000\n",
            "Epoch 69/200\n",
            "44/44 [==============================] - 1s 14ms/step - loss: 0.4573 - Accuracy: 0.8324 - false_negatives: 66.0000 - false_positives: 48.0000 - true_negatives: 1008.0000 - true_positives: 286.0000 - val_loss: 1.2098 - val_Accuracy: 0.6087 - val_false_negatives: 36.0000 - val_false_positives: 35.0000 - val_true_negatives: 241.0000 - val_true_positives: 56.0000\n",
            "Epoch 70/200\n",
            "44/44 [==============================] - 1s 14ms/step - loss: 0.4613 - Accuracy: 0.8267 - false_negatives: 70.0000 - false_positives: 49.0000 - true_negatives: 1007.0000 - true_positives: 282.0000 - val_loss: 1.1436 - val_Accuracy: 0.7065 - val_false_negatives: 28.0000 - val_false_positives: 26.0000 - val_true_negatives: 250.0000 - val_true_positives: 64.0000\n",
            "Epoch 71/200\n",
            "44/44 [==============================] - 1s 14ms/step - loss: 0.4878 - Accuracy: 0.8182 - false_negatives: 79.0000 - false_positives: 51.0000 - true_negatives: 1005.0000 - true_positives: 273.0000 - val_loss: 1.4876 - val_Accuracy: 0.6304 - val_false_negatives: 34.0000 - val_false_positives: 34.0000 - val_true_negatives: 242.0000 - val_true_positives: 58.0000\n",
            "Epoch 72/200\n",
            "44/44 [==============================] - 1s 15ms/step - loss: 0.5650 - Accuracy: 0.7869 - false_negatives: 82.0000 - false_positives: 59.0000 - true_negatives: 997.0000 - true_positives: 270.0000 - val_loss: 1.0803 - val_Accuracy: 0.7065 - val_false_negatives: 28.0000 - val_false_positives: 21.0000 - val_true_negatives: 255.0000 - val_true_positives: 64.0000\n",
            "Epoch 73/200\n",
            "44/44 [==============================] - 1s 14ms/step - loss: 0.4697 - Accuracy: 0.8295 - false_negatives: 77.0000 - false_positives: 46.0000 - true_negatives: 1010.0000 - true_positives: 275.0000 - val_loss: 1.7816 - val_Accuracy: 0.5761 - val_false_negatives: 41.0000 - val_false_positives: 39.0000 - val_true_negatives: 237.0000 - val_true_positives: 51.0000\n",
            "Epoch 74/200\n",
            "44/44 [==============================] - 1s 14ms/step - loss: 0.4886 - Accuracy: 0.8267 - false_negatives: 66.0000 - false_positives: 51.0000 - true_negatives: 1005.0000 - true_positives: 286.0000 - val_loss: 1.5698 - val_Accuracy: 0.5978 - val_false_negatives: 37.0000 - val_false_positives: 33.0000 - val_true_negatives: 243.0000 - val_true_positives: 55.0000\n",
            "Epoch 75/200\n",
            "44/44 [==============================] - 1s 15ms/step - loss: 0.4900 - Accuracy: 0.8210 - false_negatives: 71.0000 - false_positives: 53.0000 - true_negatives: 1003.0000 - true_positives: 281.0000 - val_loss: 1.0176 - val_Accuracy: 0.6522 - val_false_negatives: 33.0000 - val_false_positives: 29.0000 - val_true_negatives: 247.0000 - val_true_positives: 59.0000\n",
            "Epoch 76/200\n",
            "44/44 [==============================] - 1s 14ms/step - loss: 0.4761 - Accuracy: 0.8409 - false_negatives: 63.0000 - false_positives: 42.0000 - true_negatives: 1014.0000 - true_positives: 289.0000 - val_loss: 1.2026 - val_Accuracy: 0.6522 - val_false_negatives: 33.0000 - val_false_positives: 29.0000 - val_true_negatives: 247.0000 - val_true_positives: 59.0000\n",
            "Epoch 77/200\n",
            "44/44 [==============================] - 1s 15ms/step - loss: 0.4074 - Accuracy: 0.8523 - false_negatives: 55.0000 - false_positives: 41.0000 - true_negatives: 1015.0000 - true_positives: 297.0000 - val_loss: 1.4233 - val_Accuracy: 0.6087 - val_false_negatives: 36.0000 - val_false_positives: 34.0000 - val_true_negatives: 242.0000 - val_true_positives: 56.0000\n",
            "Epoch 78/200\n",
            "44/44 [==============================] - 1s 15ms/step - loss: 0.4226 - Accuracy: 0.8523 - false_negatives: 62.0000 - false_positives: 41.0000 - true_negatives: 1015.0000 - true_positives: 290.0000 - val_loss: 1.1306 - val_Accuracy: 0.7065 - val_false_negatives: 29.0000 - val_false_positives: 25.0000 - val_true_negatives: 251.0000 - val_true_positives: 63.0000\n",
            "Epoch 79/200\n",
            "44/44 [==============================] - 1s 14ms/step - loss: 0.4156 - Accuracy: 0.8381 - false_negatives: 64.0000 - false_positives: 46.0000 - true_negatives: 1010.0000 - true_positives: 288.0000 - val_loss: 1.5200 - val_Accuracy: 0.5978 - val_false_negatives: 38.0000 - val_false_positives: 35.0000 - val_true_negatives: 241.0000 - val_true_positives: 54.0000\n",
            "Epoch 80/200\n",
            "44/44 [==============================] - 1s 15ms/step - loss: 0.4577 - Accuracy: 0.8267 - false_negatives: 70.0000 - false_positives: 51.0000 - true_negatives: 1005.0000 - true_positives: 282.0000 - val_loss: 1.2691 - val_Accuracy: 0.6957 - val_false_negatives: 31.0000 - val_false_positives: 25.0000 - val_true_negatives: 251.0000 - val_true_positives: 61.0000\n",
            "Epoch 81/200\n",
            "44/44 [==============================] - 1s 15ms/step - loss: 0.4487 - Accuracy: 0.8295 - false_negatives: 67.0000 - false_positives: 46.0000 - true_negatives: 1010.0000 - true_positives: 285.0000 - val_loss: 1.2958 - val_Accuracy: 0.6304 - val_false_negatives: 34.0000 - val_false_positives: 30.0000 - val_true_negatives: 246.0000 - val_true_positives: 58.0000\n",
            "Epoch 82/200\n",
            "44/44 [==============================] - 1s 15ms/step - loss: 0.4431 - Accuracy: 0.8580 - false_negatives: 66.0000 - false_positives: 40.0000 - true_negatives: 1016.0000 - true_positives: 286.0000 - val_loss: 1.2961 - val_Accuracy: 0.6630 - val_false_negatives: 32.0000 - val_false_positives: 28.0000 - val_true_negatives: 248.0000 - val_true_positives: 60.0000\n",
            "Epoch 83/200\n",
            "44/44 [==============================] - 1s 15ms/step - loss: 0.3744 - Accuracy: 0.8551 - false_negatives: 55.0000 - false_positives: 42.0000 - true_negatives: 1014.0000 - true_positives: 297.0000 - val_loss: 1.5620 - val_Accuracy: 0.6413 - val_false_negatives: 34.0000 - val_false_positives: 31.0000 - val_true_negatives: 245.0000 - val_true_positives: 58.0000\n",
            "Epoch 84/200\n",
            "44/44 [==============================] - 1s 15ms/step - loss: 0.4292 - Accuracy: 0.8409 - false_negatives: 71.0000 - false_positives: 45.0000 - true_negatives: 1011.0000 - true_positives: 281.0000 - val_loss: 1.6943 - val_Accuracy: 0.6196 - val_false_negatives: 37.0000 - val_false_positives: 31.0000 - val_true_negatives: 245.0000 - val_true_positives: 55.0000\n",
            "Epoch 85/200\n",
            "44/44 [==============================] - 1s 14ms/step - loss: 0.4597 - Accuracy: 0.8324 - false_negatives: 71.0000 - false_positives: 47.0000 - true_negatives: 1009.0000 - true_positives: 281.0000 - val_loss: 1.8259 - val_Accuracy: 0.5652 - val_false_negatives: 42.0000 - val_false_positives: 39.0000 - val_true_negatives: 237.0000 - val_true_positives: 50.0000\n",
            "Epoch 86/200\n",
            "44/44 [==============================] - 1s 14ms/step - loss: 0.4470 - Accuracy: 0.8494 - false_negatives: 65.0000 - false_positives: 44.0000 - true_negatives: 1012.0000 - true_positives: 287.0000 - val_loss: 1.6973 - val_Accuracy: 0.6196 - val_false_negatives: 37.0000 - val_false_positives: 34.0000 - val_true_negatives: 242.0000 - val_true_positives: 55.0000\n",
            "Epoch 87/200\n",
            "44/44 [==============================] - 1s 15ms/step - loss: 0.4217 - Accuracy: 0.8409 - false_negatives: 65.0000 - false_positives: 39.0000 - true_negatives: 1017.0000 - true_positives: 287.0000 - val_loss: 1.4659 - val_Accuracy: 0.6739 - val_false_negatives: 30.0000 - val_false_positives: 29.0000 - val_true_negatives: 247.0000 - val_true_positives: 62.0000\n",
            "Epoch 88/200\n",
            "44/44 [==============================] - 1s 14ms/step - loss: 0.3945 - Accuracy: 0.8835 - false_negatives: 54.0000 - false_positives: 34.0000 - true_negatives: 1022.0000 - true_positives: 298.0000 - val_loss: 1.6240 - val_Accuracy: 0.6630 - val_false_negatives: 32.0000 - val_false_positives: 31.0000 - val_true_negatives: 245.0000 - val_true_positives: 60.0000\n",
            "Epoch 89/200\n",
            "44/44 [==============================] - 1s 15ms/step - loss: 0.3996 - Accuracy: 0.8551 - false_negatives: 57.0000 - false_positives: 41.0000 - true_negatives: 1015.0000 - true_positives: 295.0000 - val_loss: 1.6374 - val_Accuracy: 0.6304 - val_false_negatives: 34.0000 - val_false_positives: 32.0000 - val_true_negatives: 244.0000 - val_true_positives: 58.0000\n",
            "Epoch 90/200\n",
            "44/44 [==============================] - 1s 15ms/step - loss: 0.4641 - Accuracy: 0.8324 - false_negatives: 67.0000 - false_positives: 54.0000 - true_negatives: 1002.0000 - true_positives: 285.0000 - val_loss: 1.6071 - val_Accuracy: 0.6522 - val_false_negatives: 32.0000 - val_false_positives: 29.0000 - val_true_negatives: 247.0000 - val_true_positives: 60.0000\n",
            "Epoch 91/200\n",
            "44/44 [==============================] - 1s 15ms/step - loss: 0.3869 - Accuracy: 0.8636 - false_negatives: 53.0000 - false_positives: 39.0000 - true_negatives: 1017.0000 - true_positives: 299.0000 - val_loss: 1.6094 - val_Accuracy: 0.6413 - val_false_negatives: 33.0000 - val_false_positives: 32.0000 - val_true_negatives: 244.0000 - val_true_positives: 59.0000\n",
            "Epoch 92/200\n",
            "44/44 [==============================] - 1s 15ms/step - loss: 0.4147 - Accuracy: 0.8608 - false_negatives: 58.0000 - false_positives: 35.0000 - true_negatives: 1021.0000 - true_positives: 294.0000 - val_loss: 1.5623 - val_Accuracy: 0.5870 - val_false_negatives: 39.0000 - val_false_positives: 36.0000 - val_true_negatives: 240.0000 - val_true_positives: 53.0000\n",
            "Epoch 93/200\n",
            "44/44 [==============================] - 1s 15ms/step - loss: 0.4409 - Accuracy: 0.8580 - false_negatives: 61.0000 - false_positives: 44.0000 - true_negatives: 1012.0000 - true_positives: 291.0000 - val_loss: 1.5954 - val_Accuracy: 0.6413 - val_false_negatives: 35.0000 - val_false_positives: 33.0000 - val_true_negatives: 243.0000 - val_true_positives: 57.0000\n",
            "Epoch 94/200\n",
            "44/44 [==============================] - 1s 14ms/step - loss: 0.4493 - Accuracy: 0.8182 - false_negatives: 74.0000 - false_positives: 54.0000 - true_negatives: 1002.0000 - true_positives: 278.0000 - val_loss: 1.1700 - val_Accuracy: 0.6522 - val_false_negatives: 32.0000 - val_false_positives: 27.0000 - val_true_negatives: 249.0000 - val_true_positives: 60.0000\n",
            "Epoch 95/200\n",
            "44/44 [==============================] - 1s 15ms/step - loss: 0.3921 - Accuracy: 0.8608 - false_negatives: 61.0000 - false_positives: 42.0000 - true_negatives: 1014.0000 - true_positives: 291.0000 - val_loss: 1.2056 - val_Accuracy: 0.6522 - val_false_negatives: 36.0000 - val_false_positives: 32.0000 - val_true_negatives: 244.0000 - val_true_positives: 56.0000\n",
            "Epoch 96/200\n",
            "44/44 [==============================] - 1s 14ms/step - loss: 0.4490 - Accuracy: 0.8267 - false_negatives: 69.0000 - false_positives: 47.0000 - true_negatives: 1009.0000 - true_positives: 283.0000 - val_loss: 1.4280 - val_Accuracy: 0.5978 - val_false_negatives: 39.0000 - val_false_positives: 36.0000 - val_true_negatives: 240.0000 - val_true_positives: 53.0000\n",
            "Epoch 97/200\n",
            "44/44 [==============================] - 1s 14ms/step - loss: 0.4341 - Accuracy: 0.8523 - false_negatives: 62.0000 - false_positives: 43.0000 - true_negatives: 1013.0000 - true_positives: 290.0000 - val_loss: 1.2578 - val_Accuracy: 0.6304 - val_false_negatives: 35.0000 - val_false_positives: 33.0000 - val_true_negatives: 243.0000 - val_true_positives: 57.0000\n",
            "Epoch 98/200\n",
            "44/44 [==============================] - 1s 15ms/step - loss: 0.4003 - Accuracy: 0.8523 - false_negatives: 57.0000 - false_positives: 42.0000 - true_negatives: 1014.0000 - true_positives: 295.0000 - val_loss: 1.3189 - val_Accuracy: 0.6196 - val_false_negatives: 35.0000 - val_false_positives: 33.0000 - val_true_negatives: 243.0000 - val_true_positives: 57.0000\n",
            "Epoch 99/200\n",
            "44/44 [==============================] - 1s 14ms/step - loss: 0.4162 - Accuracy: 0.8636 - false_negatives: 59.0000 - false_positives: 39.0000 - true_negatives: 1017.0000 - true_positives: 293.0000 - val_loss: 1.5911 - val_Accuracy: 0.5978 - val_false_negatives: 38.0000 - val_false_positives: 35.0000 - val_true_negatives: 241.0000 - val_true_positives: 54.0000\n",
            "Epoch 100/200\n",
            "44/44 [==============================] - 1s 15ms/step - loss: 0.3561 - Accuracy: 0.8693 - false_negatives: 53.0000 - false_positives: 37.0000 - true_negatives: 1019.0000 - true_positives: 299.0000 - val_loss: 1.4892 - val_Accuracy: 0.5978 - val_false_negatives: 38.0000 - val_false_positives: 35.0000 - val_true_negatives: 241.0000 - val_true_positives: 54.0000\n",
            "Epoch 101/200\n",
            "44/44 [==============================] - 1s 15ms/step - loss: 0.3755 - Accuracy: 0.8523 - false_negatives: 63.0000 - false_positives: 44.0000 - true_negatives: 1012.0000 - true_positives: 289.0000 - val_loss: 1.2674 - val_Accuracy: 0.7174 - val_false_negatives: 26.0000 - val_false_positives: 23.0000 - val_true_negatives: 253.0000 - val_true_positives: 66.0000\n",
            "Epoch 102/200\n",
            "44/44 [==============================] - 1s 15ms/step - loss: 0.4379 - Accuracy: 0.8381 - false_negatives: 61.0000 - false_positives: 47.0000 - true_negatives: 1009.0000 - true_positives: 291.0000 - val_loss: 1.6901 - val_Accuracy: 0.5978 - val_false_negatives: 38.0000 - val_false_positives: 36.0000 - val_true_negatives: 240.0000 - val_true_positives: 54.0000\n",
            "Epoch 103/200\n",
            "44/44 [==============================] - 1s 15ms/step - loss: 0.4106 - Accuracy: 0.8409 - false_negatives: 62.0000 - false_positives: 46.0000 - true_negatives: 1010.0000 - true_positives: 290.0000 - val_loss: 1.3799 - val_Accuracy: 0.6630 - val_false_negatives: 32.0000 - val_false_positives: 28.0000 - val_true_negatives: 248.0000 - val_true_positives: 60.0000\n",
            "Epoch 104/200\n",
            "44/44 [==============================] - 1s 15ms/step - loss: 0.4078 - Accuracy: 0.8523 - false_negatives: 62.0000 - false_positives: 42.0000 - true_negatives: 1014.0000 - true_positives: 290.0000 - val_loss: 1.4012 - val_Accuracy: 0.6304 - val_false_negatives: 35.0000 - val_false_positives: 33.0000 - val_true_negatives: 243.0000 - val_true_positives: 57.0000\n",
            "Epoch 105/200\n",
            "44/44 [==============================] - 1s 15ms/step - loss: 0.3649 - Accuracy: 0.8608 - false_negatives: 53.0000 - false_positives: 39.0000 - true_negatives: 1017.0000 - true_positives: 299.0000 - val_loss: 1.7080 - val_Accuracy: 0.6087 - val_false_negatives: 36.0000 - val_false_positives: 35.0000 - val_true_negatives: 241.0000 - val_true_positives: 56.0000\n",
            "Epoch 106/200\n",
            "44/44 [==============================] - 1s 15ms/step - loss: 0.3424 - Accuracy: 0.8835 - false_negatives: 53.0000 - false_positives: 34.0000 - true_negatives: 1022.0000 - true_positives: 299.0000 - val_loss: 1.6421 - val_Accuracy: 0.6848 - val_false_negatives: 29.0000 - val_false_positives: 29.0000 - val_true_negatives: 247.0000 - val_true_positives: 63.0000\n",
            "Epoch 107/200\n",
            "44/44 [==============================] - 1s 15ms/step - loss: 0.3719 - Accuracy: 0.8636 - false_negatives: 55.0000 - false_positives: 41.0000 - true_negatives: 1015.0000 - true_positives: 297.0000 - val_loss: 1.5964 - val_Accuracy: 0.5761 - val_false_negatives: 41.0000 - val_false_positives: 37.0000 - val_true_negatives: 239.0000 - val_true_positives: 51.0000\n",
            "Epoch 108/200\n",
            "44/44 [==============================] - 1s 15ms/step - loss: 0.3188 - Accuracy: 0.8864 - false_negatives: 46.0000 - false_positives: 35.0000 - true_negatives: 1021.0000 - true_positives: 306.0000 - val_loss: 1.5834 - val_Accuracy: 0.5870 - val_false_negatives: 39.0000 - val_false_positives: 37.0000 - val_true_negatives: 239.0000 - val_true_positives: 53.0000\n",
            "Epoch 109/200\n",
            "44/44 [==============================] - 1s 14ms/step - loss: 0.3384 - Accuracy: 0.8494 - false_negatives: 57.0000 - false_positives: 45.0000 - true_negatives: 1011.0000 - true_positives: 295.0000 - val_loss: 2.4561 - val_Accuracy: 0.5761 - val_false_negatives: 40.0000 - val_false_positives: 36.0000 - val_true_negatives: 240.0000 - val_true_positives: 52.0000\n",
            "Epoch 110/200\n",
            "44/44 [==============================] - 1s 15ms/step - loss: 0.3555 - Accuracy: 0.8778 - false_negatives: 48.0000 - false_positives: 38.0000 - true_negatives: 1018.0000 - true_positives: 304.0000 - val_loss: 1.4821 - val_Accuracy: 0.6304 - val_false_negatives: 34.0000 - val_false_positives: 34.0000 - val_true_negatives: 242.0000 - val_true_positives: 58.0000\n",
            "Epoch 111/200\n",
            "44/44 [==============================] - 1s 15ms/step - loss: 0.3714 - Accuracy: 0.8551 - false_negatives: 58.0000 - false_positives: 38.0000 - true_negatives: 1018.0000 - true_positives: 294.0000 - val_loss: 1.4945 - val_Accuracy: 0.5978 - val_false_negatives: 37.0000 - val_false_positives: 37.0000 - val_true_negatives: 239.0000 - val_true_positives: 55.0000\n",
            "Epoch 112/200\n",
            "44/44 [==============================] - 1s 15ms/step - loss: 0.3661 - Accuracy: 0.8494 - false_negatives: 58.0000 - false_positives: 44.0000 - true_negatives: 1012.0000 - true_positives: 294.0000 - val_loss: 1.4055 - val_Accuracy: 0.6848 - val_false_negatives: 30.0000 - val_false_positives: 28.0000 - val_true_negatives: 248.0000 - val_true_positives: 62.0000\n",
            "Epoch 113/200\n",
            "44/44 [==============================] - 1s 15ms/step - loss: 0.3774 - Accuracy: 0.8580 - false_negatives: 54.0000 - false_positives: 38.0000 - true_negatives: 1018.0000 - true_positives: 298.0000 - val_loss: 1.8923 - val_Accuracy: 0.5870 - val_false_negatives: 39.0000 - val_false_positives: 38.0000 - val_true_negatives: 238.0000 - val_true_positives: 53.0000\n",
            "Epoch 114/200\n",
            "44/44 [==============================] - 1s 15ms/step - loss: 0.4209 - Accuracy: 0.8295 - false_negatives: 69.0000 - false_positives: 52.0000 - true_negatives: 1004.0000 - true_positives: 283.0000 - val_loss: 2.0477 - val_Accuracy: 0.6413 - val_false_negatives: 34.0000 - val_false_positives: 33.0000 - val_true_negatives: 243.0000 - val_true_positives: 58.0000\n",
            "Epoch 115/200\n",
            "44/44 [==============================] - 1s 15ms/step - loss: 0.3488 - Accuracy: 0.8864 - false_negatives: 47.0000 - false_positives: 35.0000 - true_negatives: 1021.0000 - true_positives: 305.0000 - val_loss: 1.5072 - val_Accuracy: 0.6413 - val_false_negatives: 34.0000 - val_false_positives: 31.0000 - val_true_negatives: 245.0000 - val_true_positives: 58.0000\n",
            "Epoch 116/200\n",
            "44/44 [==============================] - 1s 18ms/step - loss: 0.3086 - Accuracy: 0.8864 - false_negatives: 49.0000 - false_positives: 36.0000 - true_negatives: 1020.0000 - true_positives: 303.0000 - val_loss: 1.8752 - val_Accuracy: 0.5978 - val_false_negatives: 37.0000 - val_false_positives: 37.0000 - val_true_negatives: 239.0000 - val_true_positives: 55.0000\n",
            "Epoch 117/200\n",
            "44/44 [==============================] - 1s 15ms/step - loss: 0.3458 - Accuracy: 0.8494 - false_negatives: 55.0000 - false_positives: 43.0000 - true_negatives: 1013.0000 - true_positives: 297.0000 - val_loss: 1.2722 - val_Accuracy: 0.6739 - val_false_negatives: 31.0000 - val_false_positives: 27.0000 - val_true_negatives: 249.0000 - val_true_positives: 61.0000\n",
            "Epoch 118/200\n",
            "44/44 [==============================] - 1s 15ms/step - loss: 0.3430 - Accuracy: 0.8750 - false_negatives: 53.0000 - false_positives: 39.0000 - true_negatives: 1017.0000 - true_positives: 299.0000 - val_loss: 1.9993 - val_Accuracy: 0.5761 - val_false_negatives: 39.0000 - val_false_positives: 37.0000 - val_true_negatives: 239.0000 - val_true_positives: 53.0000\n",
            "Epoch 119/200\n",
            "44/44 [==============================] - 1s 15ms/step - loss: 0.3430 - Accuracy: 0.8636 - false_negatives: 54.0000 - false_positives: 44.0000 - true_negatives: 1012.0000 - true_positives: 298.0000 - val_loss: 1.5415 - val_Accuracy: 0.6196 - val_false_negatives: 37.0000 - val_false_positives: 32.0000 - val_true_negatives: 244.0000 - val_true_positives: 55.0000\n",
            "Epoch 120/200\n",
            "44/44 [==============================] - 1s 15ms/step - loss: 0.3536 - Accuracy: 0.8920 - false_negatives: 50.0000 - false_positives: 34.0000 - true_negatives: 1022.0000 - true_positives: 302.0000 - val_loss: 1.5537 - val_Accuracy: 0.7065 - val_false_negatives: 28.0000 - val_false_positives: 27.0000 - val_true_negatives: 249.0000 - val_true_positives: 64.0000\n",
            "Epoch 121/200\n",
            "44/44 [==============================] - 1s 15ms/step - loss: 0.3724 - Accuracy: 0.8778 - false_negatives: 45.0000 - false_positives: 37.0000 - true_negatives: 1019.0000 - true_positives: 307.0000 - val_loss: 1.4053 - val_Accuracy: 0.5761 - val_false_negatives: 41.0000 - val_false_positives: 37.0000 - val_true_negatives: 239.0000 - val_true_positives: 51.0000\n",
            "Epoch 122/200\n",
            "44/44 [==============================] - 1s 15ms/step - loss: 0.3477 - Accuracy: 0.8864 - false_negatives: 51.0000 - false_positives: 32.0000 - true_negatives: 1024.0000 - true_positives: 301.0000 - val_loss: 1.7565 - val_Accuracy: 0.6304 - val_false_negatives: 35.0000 - val_false_positives: 34.0000 - val_true_negatives: 242.0000 - val_true_positives: 57.0000\n",
            "Epoch 123/200\n",
            "44/44 [==============================] - 1s 16ms/step - loss: 0.3377 - Accuracy: 0.8807 - false_negatives: 48.0000 - false_positives: 36.0000 - true_negatives: 1020.0000 - true_positives: 304.0000 - val_loss: 1.4194 - val_Accuracy: 0.6087 - val_false_negatives: 36.0000 - val_false_positives: 35.0000 - val_true_negatives: 241.0000 - val_true_positives: 56.0000\n",
            "Epoch 124/200\n",
            "44/44 [==============================] - 1s 15ms/step - loss: 0.3435 - Accuracy: 0.8750 - false_negatives: 52.0000 - false_positives: 39.0000 - true_negatives: 1017.0000 - true_positives: 300.0000 - val_loss: 1.3177 - val_Accuracy: 0.6739 - val_false_negatives: 31.0000 - val_false_positives: 29.0000 - val_true_negatives: 247.0000 - val_true_positives: 61.0000\n",
            "Epoch 125/200\n",
            "44/44 [==============================] - 1s 16ms/step - loss: 0.4905 - Accuracy: 0.8153 - false_negatives: 74.0000 - false_positives: 55.0000 - true_negatives: 1001.0000 - true_positives: 278.0000 - val_loss: 1.5780 - val_Accuracy: 0.6739 - val_false_negatives: 30.0000 - val_false_positives: 30.0000 - val_true_negatives: 246.0000 - val_true_positives: 62.0000\n",
            "Epoch 126/200\n",
            "44/44 [==============================] - 1s 15ms/step - loss: 0.3639 - Accuracy: 0.8580 - false_negatives: 57.0000 - false_positives: 44.0000 - true_negatives: 1012.0000 - true_positives: 295.0000 - val_loss: 2.2803 - val_Accuracy: 0.5870 - val_false_negatives: 39.0000 - val_false_positives: 37.0000 - val_true_negatives: 239.0000 - val_true_positives: 53.0000\n",
            "Epoch 127/200\n",
            "44/44 [==============================] - 1s 15ms/step - loss: 0.3548 - Accuracy: 0.8722 - false_negatives: 50.0000 - false_positives: 40.0000 - true_negatives: 1016.0000 - true_positives: 302.0000 - val_loss: 1.6820 - val_Accuracy: 0.6413 - val_false_negatives: 33.0000 - val_false_positives: 33.0000 - val_true_negatives: 243.0000 - val_true_positives: 59.0000\n",
            "Epoch 128/200\n",
            "44/44 [==============================] - 1s 15ms/step - loss: 0.3044 - Accuracy: 0.8864 - false_negatives: 51.0000 - false_positives: 34.0000 - true_negatives: 1022.0000 - true_positives: 301.0000 - val_loss: 1.8496 - val_Accuracy: 0.6087 - val_false_negatives: 37.0000 - val_false_positives: 34.0000 - val_true_negatives: 242.0000 - val_true_positives: 55.0000\n",
            "Epoch 129/200\n",
            "44/44 [==============================] - 1s 15ms/step - loss: 0.5071 - Accuracy: 0.8438 - false_negatives: 63.0000 - false_positives: 48.0000 - true_negatives: 1008.0000 - true_positives: 289.0000 - val_loss: 1.7511 - val_Accuracy: 0.5543 - val_false_negatives: 41.0000 - val_false_positives: 36.0000 - val_true_negatives: 240.0000 - val_true_positives: 51.0000\n",
            "Epoch 130/200\n",
            "44/44 [==============================] - 1s 15ms/step - loss: 0.3752 - Accuracy: 0.8636 - false_negatives: 57.0000 - false_positives: 35.0000 - true_negatives: 1021.0000 - true_positives: 295.0000 - val_loss: 1.5407 - val_Accuracy: 0.6087 - val_false_negatives: 36.0000 - val_false_positives: 35.0000 - val_true_negatives: 241.0000 - val_true_positives: 56.0000\n",
            "Epoch 131/200\n",
            "44/44 [==============================] - 1s 15ms/step - loss: 0.2680 - Accuracy: 0.9119 - false_negatives: 36.0000 - false_positives: 25.0000 - true_negatives: 1031.0000 - true_positives: 316.0000 - val_loss: 1.6955 - val_Accuracy: 0.6739 - val_false_negatives: 32.0000 - val_false_positives: 30.0000 - val_true_negatives: 246.0000 - val_true_positives: 60.0000\n",
            "Epoch 132/200\n",
            "44/44 [==============================] - 1s 16ms/step - loss: 0.3155 - Accuracy: 0.8807 - false_negatives: 45.0000 - false_positives: 37.0000 - true_negatives: 1019.0000 - true_positives: 307.0000 - val_loss: 1.6659 - val_Accuracy: 0.6413 - val_false_negatives: 33.0000 - val_false_positives: 33.0000 - val_true_negatives: 243.0000 - val_true_positives: 59.0000\n",
            "Epoch 133/200\n",
            "44/44 [==============================] - 1s 15ms/step - loss: 0.2912 - Accuracy: 0.8977 - false_negatives: 41.0000 - false_positives: 33.0000 - true_negatives: 1023.0000 - true_positives: 311.0000 - val_loss: 2.4090 - val_Accuracy: 0.5870 - val_false_negatives: 40.0000 - val_false_positives: 37.0000 - val_true_negatives: 239.0000 - val_true_positives: 52.0000\n",
            "Epoch 134/200\n",
            "44/44 [==============================] - 1s 16ms/step - loss: 0.3257 - Accuracy: 0.8892 - false_negatives: 46.0000 - false_positives: 36.0000 - true_negatives: 1020.0000 - true_positives: 306.0000 - val_loss: 1.5966 - val_Accuracy: 0.6413 - val_false_negatives: 34.0000 - val_false_positives: 30.0000 - val_true_negatives: 246.0000 - val_true_positives: 58.0000\n",
            "Epoch 135/200\n",
            "44/44 [==============================] - 1s 16ms/step - loss: 0.2446 - Accuracy: 0.9062 - false_negatives: 37.0000 - false_positives: 28.0000 - true_negatives: 1028.0000 - true_positives: 315.0000 - val_loss: 1.7759 - val_Accuracy: 0.6087 - val_false_negatives: 36.0000 - val_false_positives: 33.0000 - val_true_negatives: 243.0000 - val_true_positives: 56.0000\n",
            "Epoch 136/200\n",
            "44/44 [==============================] - 1s 15ms/step - loss: 0.2875 - Accuracy: 0.8864 - false_negatives: 45.0000 - false_positives: 34.0000 - true_negatives: 1022.0000 - true_positives: 307.0000 - val_loss: 2.2113 - val_Accuracy: 0.5978 - val_false_negatives: 39.0000 - val_false_positives: 37.0000 - val_true_negatives: 239.0000 - val_true_positives: 53.0000\n",
            "Epoch 137/200\n",
            "44/44 [==============================] - 1s 15ms/step - loss: 0.2466 - Accuracy: 0.9062 - false_negatives: 35.0000 - false_positives: 28.0000 - true_negatives: 1028.0000 - true_positives: 317.0000 - val_loss: 1.7857 - val_Accuracy: 0.6196 - val_false_negatives: 35.0000 - val_false_positives: 31.0000 - val_true_negatives: 245.0000 - val_true_positives: 57.0000\n",
            "Epoch 138/200\n",
            "44/44 [==============================] - 1s 16ms/step - loss: 0.2589 - Accuracy: 0.9034 - false_negatives: 38.0000 - false_positives: 29.0000 - true_negatives: 1027.0000 - true_positives: 314.0000 - val_loss: 2.0469 - val_Accuracy: 0.5543 - val_false_negatives: 42.0000 - val_false_positives: 36.0000 - val_true_negatives: 240.0000 - val_true_positives: 50.0000\n",
            "Epoch 139/200\n",
            "44/44 [==============================] - 1s 15ms/step - loss: 0.3068 - Accuracy: 0.8892 - false_negatives: 44.0000 - false_positives: 33.0000 - true_negatives: 1023.0000 - true_positives: 308.0000 - val_loss: 1.7867 - val_Accuracy: 0.6087 - val_false_negatives: 37.0000 - val_false_positives: 33.0000 - val_true_negatives: 243.0000 - val_true_positives: 55.0000\n",
            "Epoch 140/200\n",
            "44/44 [==============================] - 1s 15ms/step - loss: 0.2524 - Accuracy: 0.8949 - false_negatives: 40.0000 - false_positives: 33.0000 - true_negatives: 1023.0000 - true_positives: 312.0000 - val_loss: 1.9845 - val_Accuracy: 0.6304 - val_false_negatives: 34.0000 - val_false_positives: 32.0000 - val_true_negatives: 244.0000 - val_true_positives: 58.0000\n",
            "Epoch 141/200\n",
            "44/44 [==============================] - 1s 15ms/step - loss: 0.3426 - Accuracy: 0.8523 - false_negatives: 54.0000 - false_positives: 44.0000 - true_negatives: 1012.0000 - true_positives: 298.0000 - val_loss: 1.6097 - val_Accuracy: 0.6630 - val_false_negatives: 31.0000 - val_false_positives: 28.0000 - val_true_negatives: 248.0000 - val_true_positives: 61.0000\n",
            "Epoch 142/200\n",
            "44/44 [==============================] - 1s 16ms/step - loss: 0.2691 - Accuracy: 0.9006 - false_negatives: 38.0000 - false_positives: 32.0000 - true_negatives: 1024.0000 - true_positives: 314.0000 - val_loss: 1.1443 - val_Accuracy: 0.6957 - val_false_negatives: 29.0000 - val_false_positives: 26.0000 - val_true_negatives: 250.0000 - val_true_positives: 63.0000\n",
            "Epoch 143/200\n",
            "44/44 [==============================] - 1s 15ms/step - loss: 0.2775 - Accuracy: 0.8778 - false_negatives: 47.0000 - false_positives: 37.0000 - true_negatives: 1019.0000 - true_positives: 305.0000 - val_loss: 1.7879 - val_Accuracy: 0.6957 - val_false_negatives: 28.0000 - val_false_positives: 28.0000 - val_true_negatives: 248.0000 - val_true_positives: 64.0000\n",
            "Epoch 144/200\n",
            "44/44 [==============================] - 1s 15ms/step - loss: 0.2700 - Accuracy: 0.8949 - false_negatives: 43.0000 - false_positives: 31.0000 - true_negatives: 1025.0000 - true_positives: 309.0000 - val_loss: 1.5314 - val_Accuracy: 0.5978 - val_false_negatives: 38.0000 - val_false_positives: 37.0000 - val_true_negatives: 239.0000 - val_true_positives: 54.0000\n",
            "Epoch 145/200\n",
            "44/44 [==============================] - 1s 16ms/step - loss: 0.2880 - Accuracy: 0.8920 - false_negatives: 42.0000 - false_positives: 35.0000 - true_negatives: 1021.0000 - true_positives: 310.0000 - val_loss: 1.8556 - val_Accuracy: 0.5761 - val_false_negatives: 39.0000 - val_false_positives: 36.0000 - val_true_negatives: 240.0000 - val_true_positives: 53.0000\n",
            "Epoch 146/200\n",
            "44/44 [==============================] - 1s 16ms/step - loss: 0.3001 - Accuracy: 0.8722 - false_negatives: 54.0000 - false_positives: 39.0000 - true_negatives: 1017.0000 - true_positives: 298.0000 - val_loss: 1.5120 - val_Accuracy: 0.6304 - val_false_negatives: 36.0000 - val_false_positives: 32.0000 - val_true_negatives: 244.0000 - val_true_positives: 56.0000\n",
            "Epoch 147/200\n",
            "44/44 [==============================] - 1s 15ms/step - loss: 0.2708 - Accuracy: 0.8920 - false_negatives: 43.0000 - false_positives: 36.0000 - true_negatives: 1020.0000 - true_positives: 309.0000 - val_loss: 1.7634 - val_Accuracy: 0.6739 - val_false_negatives: 33.0000 - val_false_positives: 30.0000 - val_true_negatives: 246.0000 - val_true_positives: 59.0000\n",
            "Epoch 148/200\n",
            "44/44 [==============================] - 1s 15ms/step - loss: 0.2569 - Accuracy: 0.9119 - false_negatives: 35.0000 - false_positives: 31.0000 - true_negatives: 1025.0000 - true_positives: 317.0000 - val_loss: 1.8331 - val_Accuracy: 0.6739 - val_false_negatives: 31.0000 - val_false_positives: 30.0000 - val_true_negatives: 246.0000 - val_true_positives: 61.0000\n",
            "Epoch 149/200\n",
            "44/44 [==============================] - 1s 25ms/step - loss: 0.3355 - Accuracy: 0.8722 - false_negatives: 47.0000 - false_positives: 38.0000 - true_negatives: 1018.0000 - true_positives: 305.0000 - val_loss: 2.0810 - val_Accuracy: 0.6196 - val_false_negatives: 35.0000 - val_false_positives: 32.0000 - val_true_negatives: 244.0000 - val_true_positives: 57.0000\n",
            "Epoch 150/200\n",
            "44/44 [==============================] - 1s 15ms/step - loss: 0.3103 - Accuracy: 0.8722 - false_negatives: 49.0000 - false_positives: 39.0000 - true_negatives: 1017.0000 - true_positives: 303.0000 - val_loss: 1.6187 - val_Accuracy: 0.6630 - val_false_negatives: 34.0000 - val_false_positives: 30.0000 - val_true_negatives: 246.0000 - val_true_positives: 58.0000\n",
            "Epoch 151/200\n",
            "44/44 [==============================] - 1s 16ms/step - loss: 0.2536 - Accuracy: 0.9233 - false_negatives: 33.0000 - false_positives: 24.0000 - true_negatives: 1032.0000 - true_positives: 319.0000 - val_loss: 2.0197 - val_Accuracy: 0.6087 - val_false_negatives: 39.0000 - val_false_positives: 35.0000 - val_true_negatives: 241.0000 - val_true_positives: 53.0000\n",
            "Epoch 152/200\n",
            "44/44 [==============================] - 1s 16ms/step - loss: 0.2283 - Accuracy: 0.9261 - false_negatives: 32.0000 - false_positives: 24.0000 - true_negatives: 1032.0000 - true_positives: 320.0000 - val_loss: 2.5858 - val_Accuracy: 0.5978 - val_false_negatives: 37.0000 - val_false_positives: 37.0000 - val_true_negatives: 239.0000 - val_true_positives: 55.0000\n",
            "Epoch 153/200\n",
            "44/44 [==============================] - 1s 16ms/step - loss: 0.2524 - Accuracy: 0.9062 - false_negatives: 36.0000 - false_positives: 32.0000 - true_negatives: 1024.0000 - true_positives: 316.0000 - val_loss: 2.0591 - val_Accuracy: 0.6087 - val_false_negatives: 36.0000 - val_false_positives: 35.0000 - val_true_negatives: 241.0000 - val_true_positives: 56.0000\n",
            "Epoch 154/200\n",
            "44/44 [==============================] - 1s 16ms/step - loss: 0.2452 - Accuracy: 0.9148 - false_negatives: 34.0000 - false_positives: 25.0000 - true_negatives: 1031.0000 - true_positives: 318.0000 - val_loss: 1.7015 - val_Accuracy: 0.6739 - val_false_negatives: 30.0000 - val_false_positives: 29.0000 - val_true_negatives: 247.0000 - val_true_positives: 62.0000\n",
            "Epoch 155/200\n",
            "44/44 [==============================] - 1s 16ms/step - loss: 0.2605 - Accuracy: 0.8864 - false_negatives: 42.0000 - false_positives: 35.0000 - true_negatives: 1021.0000 - true_positives: 310.0000 - val_loss: 1.7865 - val_Accuracy: 0.6848 - val_false_negatives: 30.0000 - val_false_positives: 28.0000 - val_true_negatives: 248.0000 - val_true_positives: 62.0000\n",
            "Epoch 156/200\n",
            "44/44 [==============================] - 1s 16ms/step - loss: 0.2201 - Accuracy: 0.9205 - false_negatives: 31.0000 - false_positives: 24.0000 - true_negatives: 1032.0000 - true_positives: 321.0000 - val_loss: 1.8871 - val_Accuracy: 0.6522 - val_false_negatives: 32.0000 - val_false_positives: 30.0000 - val_true_negatives: 246.0000 - val_true_positives: 60.0000\n",
            "Epoch 157/200\n",
            "44/44 [==============================] - 1s 15ms/step - loss: 0.2947 - Accuracy: 0.9034 - false_negatives: 39.0000 - false_positives: 31.0000 - true_negatives: 1025.0000 - true_positives: 313.0000 - val_loss: 2.8076 - val_Accuracy: 0.5435 - val_false_negatives: 44.0000 - val_false_positives: 42.0000 - val_true_negatives: 234.0000 - val_true_positives: 48.0000\n",
            "Epoch 158/200\n",
            "44/44 [==============================] - 1s 16ms/step - loss: 0.3544 - Accuracy: 0.8580 - false_negatives: 55.0000 - false_positives: 46.0000 - true_negatives: 1010.0000 - true_positives: 297.0000 - val_loss: 2.1275 - val_Accuracy: 0.5761 - val_false_negatives: 40.0000 - val_false_positives: 37.0000 - val_true_negatives: 239.0000 - val_true_positives: 52.0000\n",
            "Epoch 159/200\n",
            "44/44 [==============================] - 1s 16ms/step - loss: 0.2700 - Accuracy: 0.8949 - false_negatives: 40.0000 - false_positives: 30.0000 - true_negatives: 1026.0000 - true_positives: 312.0000 - val_loss: 1.9051 - val_Accuracy: 0.6304 - val_false_negatives: 34.0000 - val_false_positives: 32.0000 - val_true_negatives: 244.0000 - val_true_positives: 58.0000\n",
            "Epoch 160/200\n",
            "44/44 [==============================] - 1s 15ms/step - loss: 0.2212 - Accuracy: 0.9006 - false_negatives: 38.0000 - false_positives: 31.0000 - true_negatives: 1025.0000 - true_positives: 314.0000 - val_loss: 2.0930 - val_Accuracy: 0.6087 - val_false_negatives: 36.0000 - val_false_positives: 36.0000 - val_true_negatives: 240.0000 - val_true_positives: 56.0000\n",
            "Epoch 161/200\n",
            "44/44 [==============================] - 1s 15ms/step - loss: 0.2104 - Accuracy: 0.9119 - false_negatives: 33.0000 - false_positives: 30.0000 - true_negatives: 1026.0000 - true_positives: 319.0000 - val_loss: 1.7525 - val_Accuracy: 0.5978 - val_false_negatives: 37.0000 - val_false_positives: 33.0000 - val_true_negatives: 243.0000 - val_true_positives: 55.0000\n",
            "Epoch 162/200\n",
            "44/44 [==============================] - 1s 16ms/step - loss: 0.3014 - Accuracy: 0.8864 - false_negatives: 42.0000 - false_positives: 38.0000 - true_negatives: 1018.0000 - true_positives: 310.0000 - val_loss: 1.5376 - val_Accuracy: 0.6957 - val_false_negatives: 30.0000 - val_false_positives: 28.0000 - val_true_negatives: 248.0000 - val_true_positives: 62.0000\n",
            "Epoch 163/200\n",
            "44/44 [==============================] - 1s 16ms/step - loss: 0.3244 - Accuracy: 0.8750 - false_negatives: 48.0000 - false_positives: 38.0000 - true_negatives: 1018.0000 - true_positives: 304.0000 - val_loss: 1.8138 - val_Accuracy: 0.6413 - val_false_negatives: 33.0000 - val_false_positives: 31.0000 - val_true_negatives: 245.0000 - val_true_positives: 59.0000\n",
            "Epoch 164/200\n",
            "44/44 [==============================] - 1s 15ms/step - loss: 0.1774 - Accuracy: 0.9261 - false_negatives: 28.0000 - false_positives: 23.0000 - true_negatives: 1033.0000 - true_positives: 324.0000 - val_loss: 2.4251 - val_Accuracy: 0.6196 - val_false_negatives: 37.0000 - val_false_positives: 35.0000 - val_true_negatives: 241.0000 - val_true_positives: 55.0000\n",
            "Epoch 165/200\n",
            "44/44 [==============================] - 1s 16ms/step - loss: 0.2130 - Accuracy: 0.9176 - false_negatives: 34.0000 - false_positives: 28.0000 - true_negatives: 1028.0000 - true_positives: 318.0000 - val_loss: 2.0264 - val_Accuracy: 0.6196 - val_false_negatives: 36.0000 - val_false_positives: 34.0000 - val_true_negatives: 242.0000 - val_true_positives: 56.0000\n",
            "Epoch 166/200\n",
            "44/44 [==============================] - 1s 16ms/step - loss: 0.2073 - Accuracy: 0.9261 - false_negatives: 30.0000 - false_positives: 25.0000 - true_negatives: 1031.0000 - true_positives: 322.0000 - val_loss: 2.4553 - val_Accuracy: 0.5761 - val_false_negatives: 40.0000 - val_false_positives: 36.0000 - val_true_negatives: 240.0000 - val_true_positives: 52.0000\n",
            "Epoch 167/200\n",
            "44/44 [==============================] - 1s 16ms/step - loss: 0.2469 - Accuracy: 0.9233 - false_negatives: 32.0000 - false_positives: 26.0000 - true_negatives: 1030.0000 - true_positives: 320.0000 - val_loss: 3.4762 - val_Accuracy: 0.5652 - val_false_negatives: 41.0000 - val_false_positives: 37.0000 - val_true_negatives: 239.0000 - val_true_positives: 51.0000\n",
            "Epoch 168/200\n",
            "44/44 [==============================] - 1s 16ms/step - loss: 0.2126 - Accuracy: 0.9176 - false_negatives: 31.0000 - false_positives: 26.0000 - true_negatives: 1030.0000 - true_positives: 321.0000 - val_loss: 2.6032 - val_Accuracy: 0.5543 - val_false_negatives: 41.0000 - val_false_positives: 40.0000 - val_true_negatives: 236.0000 - val_true_positives: 51.0000\n",
            "Epoch 169/200\n",
            "44/44 [==============================] - 1s 16ms/step - loss: 0.2224 - Accuracy: 0.9233 - false_negatives: 31.0000 - false_positives: 25.0000 - true_negatives: 1031.0000 - true_positives: 321.0000 - val_loss: 3.7665 - val_Accuracy: 0.5652 - val_false_negatives: 41.0000 - val_false_positives: 39.0000 - val_true_negatives: 237.0000 - val_true_positives: 51.0000\n",
            "Epoch 170/200\n",
            "44/44 [==============================] - 1s 16ms/step - loss: 0.2743 - Accuracy: 0.9148 - false_negatives: 31.0000 - false_positives: 28.0000 - true_negatives: 1028.0000 - true_positives: 321.0000 - val_loss: 2.7464 - val_Accuracy: 0.6087 - val_false_negatives: 37.0000 - val_false_positives: 35.0000 - val_true_negatives: 241.0000 - val_true_positives: 55.0000\n",
            "Epoch 171/200\n",
            "44/44 [==============================] - 1s 25ms/step - loss: 0.3706 - Accuracy: 0.8551 - false_negatives: 56.0000 - false_positives: 47.0000 - true_negatives: 1009.0000 - true_positives: 296.0000 - val_loss: 2.1137 - val_Accuracy: 0.6196 - val_false_negatives: 35.0000 - val_false_positives: 34.0000 - val_true_negatives: 242.0000 - val_true_positives: 57.0000\n",
            "Epoch 172/200\n",
            "44/44 [==============================] - 1s 25ms/step - loss: 0.2482 - Accuracy: 0.9006 - false_negatives: 37.0000 - false_positives: 31.0000 - true_negatives: 1025.0000 - true_positives: 315.0000 - val_loss: 2.3704 - val_Accuracy: 0.6087 - val_false_negatives: 37.0000 - val_false_positives: 36.0000 - val_true_negatives: 240.0000 - val_true_positives: 55.0000\n",
            "Epoch 173/200\n",
            "44/44 [==============================] - 1s 16ms/step - loss: 0.1699 - Accuracy: 0.9403 - false_negatives: 22.0000 - false_positives: 19.0000 - true_negatives: 1037.0000 - true_positives: 330.0000 - val_loss: 2.5190 - val_Accuracy: 0.5652 - val_false_negatives: 40.0000 - val_false_positives: 40.0000 - val_true_negatives: 236.0000 - val_true_positives: 52.0000\n",
            "Epoch 174/200\n",
            "44/44 [==============================] - 1s 15ms/step - loss: 0.2426 - Accuracy: 0.8920 - false_negatives: 44.0000 - false_positives: 33.0000 - true_negatives: 1023.0000 - true_positives: 308.0000 - val_loss: 2.4123 - val_Accuracy: 0.6087 - val_false_negatives: 39.0000 - val_false_positives: 36.0000 - val_true_negatives: 240.0000 - val_true_positives: 53.0000\n",
            "Epoch 175/200\n",
            "44/44 [==============================] - 1s 16ms/step - loss: 0.2100 - Accuracy: 0.9205 - false_negatives: 28.0000 - false_positives: 23.0000 - true_negatives: 1033.0000 - true_positives: 324.0000 - val_loss: 2.7311 - val_Accuracy: 0.6087 - val_false_negatives: 36.0000 - val_false_positives: 35.0000 - val_true_negatives: 241.0000 - val_true_positives: 56.0000\n",
            "Epoch 176/200\n",
            "44/44 [==============================] - 1s 15ms/step - loss: 0.1913 - Accuracy: 0.9290 - false_negatives: 28.0000 - false_positives: 21.0000 - true_negatives: 1035.0000 - true_positives: 324.0000 - val_loss: 1.9581 - val_Accuracy: 0.6522 - val_false_negatives: 33.0000 - val_false_positives: 31.0000 - val_true_negatives: 245.0000 - val_true_positives: 59.0000\n",
            "Epoch 177/200\n",
            "44/44 [==============================] - 1s 16ms/step - loss: 0.2652 - Accuracy: 0.9034 - false_negatives: 38.0000 - false_positives: 33.0000 - true_negatives: 1023.0000 - true_positives: 314.0000 - val_loss: 2.0803 - val_Accuracy: 0.6739 - val_false_negatives: 30.0000 - val_false_positives: 29.0000 - val_true_negatives: 247.0000 - val_true_positives: 62.0000\n",
            "Epoch 178/200\n",
            "44/44 [==============================] - 1s 16ms/step - loss: 0.2597 - Accuracy: 0.9034 - false_negatives: 37.0000 - false_positives: 31.0000 - true_negatives: 1025.0000 - true_positives: 315.0000 - val_loss: 2.2400 - val_Accuracy: 0.5978 - val_false_negatives: 37.0000 - val_false_positives: 35.0000 - val_true_negatives: 241.0000 - val_true_positives: 55.0000\n",
            "Epoch 179/200\n",
            "44/44 [==============================] - 1s 15ms/step - loss: 0.3059 - Accuracy: 0.8949 - false_negatives: 42.0000 - false_positives: 32.0000 - true_negatives: 1024.0000 - true_positives: 310.0000 - val_loss: 3.2122 - val_Accuracy: 0.5435 - val_false_negatives: 42.0000 - val_false_positives: 41.0000 - val_true_negatives: 235.0000 - val_true_positives: 50.0000\n",
            "Epoch 180/200\n",
            "44/44 [==============================] - 1s 16ms/step - loss: 0.2528 - Accuracy: 0.9062 - false_negatives: 34.0000 - false_positives: 31.0000 - true_negatives: 1025.0000 - true_positives: 318.0000 - val_loss: 1.6307 - val_Accuracy: 0.6087 - val_false_negatives: 37.0000 - val_false_positives: 35.0000 - val_true_negatives: 241.0000 - val_true_positives: 55.0000\n",
            "Epoch 181/200\n",
            "44/44 [==============================] - 1s 16ms/step - loss: 0.2152 - Accuracy: 0.9062 - false_negatives: 35.0000 - false_positives: 31.0000 - true_negatives: 1025.0000 - true_positives: 317.0000 - val_loss: 3.0260 - val_Accuracy: 0.5761 - val_false_negatives: 40.0000 - val_false_positives: 38.0000 - val_true_negatives: 238.0000 - val_true_positives: 52.0000\n",
            "Epoch 182/200\n",
            "44/44 [==============================] - 1s 16ms/step - loss: 0.1938 - Accuracy: 0.9318 - false_negatives: 26.0000 - false_positives: 23.0000 - true_negatives: 1033.0000 - true_positives: 326.0000 - val_loss: 2.0731 - val_Accuracy: 0.6304 - val_false_negatives: 34.0000 - val_false_positives: 33.0000 - val_true_negatives: 243.0000 - val_true_positives: 58.0000\n",
            "Epoch 183/200\n",
            "44/44 [==============================] - 1s 16ms/step - loss: 0.2284 - Accuracy: 0.9034 - false_negatives: 35.0000 - false_positives: 30.0000 - true_negatives: 1026.0000 - true_positives: 317.0000 - val_loss: 2.0549 - val_Accuracy: 0.5870 - val_false_negatives: 38.0000 - val_false_positives: 37.0000 - val_true_negatives: 239.0000 - val_true_positives: 54.0000\n",
            "Epoch 184/200\n",
            "44/44 [==============================] - 1s 15ms/step - loss: 0.2051 - Accuracy: 0.9261 - false_negatives: 28.0000 - false_positives: 24.0000 - true_negatives: 1032.0000 - true_positives: 324.0000 - val_loss: 2.3991 - val_Accuracy: 0.5870 - val_false_negatives: 38.0000 - val_false_positives: 38.0000 - val_true_negatives: 238.0000 - val_true_positives: 54.0000\n",
            "Epoch 185/200\n",
            "44/44 [==============================] - 1s 16ms/step - loss: 0.1755 - Accuracy: 0.9347 - false_negatives: 23.0000 - false_positives: 21.0000 - true_negatives: 1035.0000 - true_positives: 329.0000 - val_loss: 2.7084 - val_Accuracy: 0.6196 - val_false_negatives: 36.0000 - val_false_positives: 34.0000 - val_true_negatives: 242.0000 - val_true_positives: 56.0000\n",
            "Epoch 186/200\n",
            "44/44 [==============================] - 1s 16ms/step - loss: 0.2139 - Accuracy: 0.9176 - false_negatives: 30.0000 - false_positives: 27.0000 - true_negatives: 1029.0000 - true_positives: 322.0000 - val_loss: 2.3752 - val_Accuracy: 0.6196 - val_false_negatives: 35.0000 - val_false_positives: 35.0000 - val_true_negatives: 241.0000 - val_true_positives: 57.0000\n",
            "Epoch 187/200\n",
            "44/44 [==============================] - 1s 16ms/step - loss: 0.2156 - Accuracy: 0.9233 - false_negatives: 29.0000 - false_positives: 23.0000 - true_negatives: 1033.0000 - true_positives: 323.0000 - val_loss: 2.4255 - val_Accuracy: 0.5870 - val_false_negatives: 39.0000 - val_false_positives: 38.0000 - val_true_negatives: 238.0000 - val_true_positives: 53.0000\n",
            "Epoch 188/200\n",
            "44/44 [==============================] - 1s 16ms/step - loss: 0.2022 - Accuracy: 0.9176 - false_negatives: 31.0000 - false_positives: 27.0000 - true_negatives: 1029.0000 - true_positives: 321.0000 - val_loss: 2.5829 - val_Accuracy: 0.5978 - val_false_negatives: 37.0000 - val_false_positives: 37.0000 - val_true_negatives: 239.0000 - val_true_positives: 55.0000\n",
            "Epoch 189/200\n",
            "44/44 [==============================] - 1s 16ms/step - loss: 0.1954 - Accuracy: 0.9375 - false_negatives: 27.0000 - false_positives: 22.0000 - true_negatives: 1034.0000 - true_positives: 325.0000 - val_loss: 1.8204 - val_Accuracy: 0.6304 - val_false_negatives: 38.0000 - val_false_positives: 33.0000 - val_true_negatives: 243.0000 - val_true_positives: 54.0000\n",
            "Epoch 190/200\n",
            "44/44 [==============================] - 1s 16ms/step - loss: 0.1876 - Accuracy: 0.9403 - false_negatives: 22.0000 - false_positives: 18.0000 - true_negatives: 1038.0000 - true_positives: 330.0000 - val_loss: 2.2678 - val_Accuracy: 0.6413 - val_false_negatives: 35.0000 - val_false_positives: 33.0000 - val_true_negatives: 243.0000 - val_true_positives: 57.0000\n",
            "Epoch 191/200\n",
            "44/44 [==============================] - 1s 16ms/step - loss: 0.1945 - Accuracy: 0.9318 - false_negatives: 26.0000 - false_positives: 23.0000 - true_negatives: 1033.0000 - true_positives: 326.0000 - val_loss: 2.8769 - val_Accuracy: 0.5870 - val_false_negatives: 39.0000 - val_false_positives: 38.0000 - val_true_negatives: 238.0000 - val_true_positives: 53.0000\n",
            "Epoch 192/200\n",
            "44/44 [==============================] - 1s 17ms/step - loss: 0.1984 - Accuracy: 0.9290 - false_negatives: 28.0000 - false_positives: 21.0000 - true_negatives: 1035.0000 - true_positives: 324.0000 - val_loss: 3.2750 - val_Accuracy: 0.5652 - val_false_negatives: 42.0000 - val_false_positives: 38.0000 - val_true_negatives: 238.0000 - val_true_positives: 50.0000\n",
            "Epoch 193/200\n",
            "44/44 [==============================] - 1s 15ms/step - loss: 0.2197 - Accuracy: 0.9091 - false_negatives: 34.0000 - false_positives: 30.0000 - true_negatives: 1026.0000 - true_positives: 318.0000 - val_loss: 2.3030 - val_Accuracy: 0.6196 - val_false_negatives: 35.0000 - val_false_positives: 33.0000 - val_true_negatives: 243.0000 - val_true_positives: 57.0000\n",
            "Epoch 194/200\n",
            "44/44 [==============================] - 1s 16ms/step - loss: 0.1952 - Accuracy: 0.9233 - false_negatives: 27.0000 - false_positives: 25.0000 - true_negatives: 1031.0000 - true_positives: 325.0000 - val_loss: 3.3805 - val_Accuracy: 0.5217 - val_false_negatives: 45.0000 - val_false_positives: 44.0000 - val_true_negatives: 232.0000 - val_true_positives: 47.0000\n",
            "Epoch 195/200\n",
            "44/44 [==============================] - 1s 16ms/step - loss: 0.1812 - Accuracy: 0.9318 - false_negatives: 26.0000 - false_positives: 22.0000 - true_negatives: 1034.0000 - true_positives: 326.0000 - val_loss: 3.1141 - val_Accuracy: 0.5870 - val_false_negatives: 39.0000 - val_false_positives: 37.0000 - val_true_negatives: 239.0000 - val_true_positives: 53.0000\n",
            "Epoch 196/200\n",
            "44/44 [==============================] - 1s 16ms/step - loss: 0.1787 - Accuracy: 0.9233 - false_negatives: 30.0000 - false_positives: 23.0000 - true_negatives: 1033.0000 - true_positives: 322.0000 - val_loss: 2.8333 - val_Accuracy: 0.5326 - val_false_negatives: 43.0000 - val_false_positives: 41.0000 - val_true_negatives: 235.0000 - val_true_positives: 49.0000\n",
            "Epoch 197/200\n",
            "44/44 [==============================] - 1s 16ms/step - loss: 0.2146 - Accuracy: 0.9119 - false_negatives: 35.0000 - false_positives: 26.0000 - true_negatives: 1030.0000 - true_positives: 317.0000 - val_loss: 2.0987 - val_Accuracy: 0.6522 - val_false_negatives: 35.0000 - val_false_positives: 30.0000 - val_true_negatives: 246.0000 - val_true_positives: 57.0000\n",
            "Epoch 198/200\n",
            "44/44 [==============================] - 1s 16ms/step - loss: 0.1837 - Accuracy: 0.9233 - false_negatives: 29.0000 - false_positives: 27.0000 - true_negatives: 1029.0000 - true_positives: 323.0000 - val_loss: 3.4855 - val_Accuracy: 0.5326 - val_false_negatives: 43.0000 - val_false_positives: 41.0000 - val_true_negatives: 235.0000 - val_true_positives: 49.0000\n",
            "Epoch 199/200\n",
            "44/44 [==============================] - 1s 16ms/step - loss: 0.1774 - Accuracy: 0.9290 - false_negatives: 31.0000 - false_positives: 20.0000 - true_negatives: 1036.0000 - true_positives: 321.0000 - val_loss: 2.5665 - val_Accuracy: 0.6304 - val_false_negatives: 34.0000 - val_false_positives: 33.0000 - val_true_negatives: 243.0000 - val_true_positives: 58.0000\n",
            "Epoch 200/200\n",
            "44/44 [==============================] - 1s 16ms/step - loss: 0.1384 - Accuracy: 0.9517 - false_negatives: 17.0000 - false_positives: 16.0000 - true_negatives: 1040.0000 - true_positives: 335.0000 - val_loss: 2.8106 - val_Accuracy: 0.6196 - val_false_negatives: 36.0000 - val_false_positives: 34.0000 - val_true_negatives: 242.0000 - val_true_positives: 56.0000\n"
          ]
        }
      ]
    },
    {
      "cell_type": "markdown",
      "source": [
        "Plotting Traning Result"
      ],
      "metadata": {
        "id": "XZSFG8fXqz7c"
      }
    },
    {
      "cell_type": "code",
      "source": [
        "  #plotting\n",
        "  epochs = range(1, len(history.history['loss'])+1)\n",
        "  plt.title(f\"Grafik loss training iterasi {iterasi}\")\n",
        "  plt.plot(epochs, history.history['loss'], 'r', label='Training Loss')\n",
        "  plt.plot(epochs, history.history['val_loss'], 'b', label='Validation Loss')    \n",
        "  plt.xlabel(\"Epoch\")\n",
        "  plt.ylabel(\"Loss\")\n",
        "  plt.legend()\n",
        "  plt.show()\n"
      ],
      "metadata": {
        "id": "3dXbDrJpY1NK",
        "colab": {
          "base_uri": "https://localhost:8080/",
          "height": 295
        },
        "outputId": "ffe60160-51cc-4c76-ca95-b4347f50e0d4"
      },
      "execution_count": 12,
      "outputs": [
        {
          "output_type": "display_data",
          "data": {
            "text/plain": [
              "<Figure size 432x288 with 1 Axes>"
            ],
            "image/png": "[encoded data removed]"
          },
          "metadata": {
            "needs_background": "light"
          }
        }
      ]
    },
    {
      "cell_type": "code",
      "source": [
        "  #plotting\n",
        "  epochs = range(1, len(history.history['loss'])+1)\n",
        "  plt.title(f\"Grafik Akurasi training iterasi {iterasi}\")\n",
        "  plt.plot(epochs, history.history['Accuracy'], 'r', label='Training Accuracy')\n",
        "  plt.plot(epochs, history.history['val_Accuracy'], 'b', label='Validation Accuracy')    \n",
        "  plt.xlabel(\"Epoch\")\n",
        "  plt.ylabel(\"Accuracy\")\n",
        "  plt.legend()\n",
        "  plt.show()"
      ],
      "metadata": {
        "id": "j3xigprPwlSX",
        "colab": {
          "base_uri": "https://localhost:8080/",
          "height": 295
        },
        "outputId": "7acf3cf2-6507-4437-d7ba-39ae69293f8c"
      },
      "execution_count": 13,
      "outputs": [
        {
          "output_type": "display_data",
          "data": {
            "text/plain": [
              "<Figure size 432x288 with 1 Axes>"
            ],
            "image/png": "[encoded data removed]"
          },
          "metadata": {
            "needs_background": "light"
          }
        }
      ]
    },
    {
      "cell_type": "code",
      "source": [
        "import matplotlib.pyplot as plt\n",
        "from sklearn.datasets import make_classification\n",
        "from numpy import mean\n",
        "from sklearn.metrics import confusion_matrix, ConfusionMatrixDisplay, accuracy_score, classification_report, recall_score\n",
        "\n",
        "validation = model.predict(np_image_list_validation)\n",
        "\n",
        "predicted_labels = []\n",
        "correct_labels = []\n",
        "for i in range (len(validation)):\n",
        "  predicted_labels.append(np.argmax(validation[i]))\n",
        "\n",
        "for i in range (len(image_labels_validation)):\n",
        "  correct_labels.append(np.argmax(image_labels_validation[i]))\n",
        "\n",
        "\n",
        "confusion_matrix = confusion_matrix(correct_labels, predicted_labels)\n",
        "disp = ConfusionMatrixDisplay(confusion_matrix=confusion_matrix)  \n",
        "disp.plot()\n",
        "plt.show()\n",
        "print('--------')\n",
        "FP = confusion_matrix.sum(axis=0) - np.diag(confusion_matrix)  \n",
        "FN = confusion_matrix.sum(axis=1) - np.diag(confusion_matrix)\n",
        "TP = np.diag(confusion_matrix)\n",
        "TN = confusion_matrix.sum() - (FP + FN + TP)\n",
        "\n",
        "# Sensitivity, hit rate, recall, or true positive rate\n",
        "TPR = TP/(TP+FN)\n",
        "# Specificity or true negative rate\n",
        "TNR = TN/(TN+FP) \n",
        "# Overall accuracy\n",
        "ACC = (TP+TN)/(TP+FP+FN+TN)\n",
        "\n",
        "print(TP)\n",
        "print(TN)\n",
        "print(FP)\n",
        "print(FN)\n",
        "print('--------')\n",
        "print(ACC)\n",
        "print(TPR)\n",
        "print(TNR)\n",
        "print('--------')\n",
        "\n",
        "TP = sum(TP)\n",
        "TN = sum(TN)\n",
        "FP = sum(FP)\n",
        "FN = sum(FN)\n",
        "\n",
        "# Sensitivity, hit rate, recall, or true positive rate\n",
        "TPR = TP/(TP+FN)\n",
        "# Specificity or true negative rate\n",
        "TNR = TN/(TN+FP) \n",
        "# Overall accuracy\n",
        "ACC = (TP+TN)/(TP+FP+FN+TN)\n",
        "\n",
        "print(TP)\n",
        "print(TN)\n",
        "print(FP)\n",
        "print(FN)\n",
        "print('--------')\n",
        "print(ACC)\n",
        "print(TPR)\n",
        "print(TNR)"
      ],
      "metadata": {
        "colab": {
          "base_uri": "https://localhost:8080/",
          "height": 591
        },
        "id": "y0RigLm76Rpg",
        "outputId": "f0e65603-e32e-481c-a75b-4f8b5612b6ec"
      },
      "execution_count": 14,
      "outputs": [
        {
          "output_type": "display_data",
          "data": {
            "text/plain": [
              "<Figure size 432x288 with 2 Axes>"
            ],
            "image/png": "[encoded data removed]"
          },
          "metadata": {
            "needs_background": "light"
          }
        },
        {
          "output_type": "stream",
          "name": "stdout",
          "text": [
            "--------\n",
            "[ 2  7 26 22]\n",
            "[67 73 52 49]\n",
            "[15  5 12  3]\n",
            "[ 8  7  2 18]\n",
            "--------\n",
            "[0.75       0.86956522 0.84782609 0.77173913]\n",
            "[0.2        0.5        0.92857143 0.55      ]\n",
            "[0.81707317 0.93589744 0.8125     0.94230769]\n",
            "--------\n",
            "57\n",
            "241\n",
            "35\n",
            "35\n",
            "--------\n",
            "0.8097826086956522\n",
            "0.6195652173913043\n",
            "0.8731884057971014\n"
          ]
        }
      ]
    },
    {
      "cell_type": "code",
      "source": [
        "import matplotlib.pyplot as plt\n",
        "from sklearn.datasets import make_classification\n",
        "from numpy import mean\n",
        "from sklearn.metrics import confusion_matrix, ConfusionMatrixDisplay, accuracy_score, classification_report, recall_score\n",
        "\n",
        "test = model.predict(np_image_list_test)\n",
        "\n",
        "predicted_labels = []\n",
        "correct_labels = []\n",
        "for i in range (len(test)):\n",
        "  predicted_labels.append(np.argmax(test[i]))\n",
        "\n",
        "for i in range (len(image_labels_test)):\n",
        "  correct_labels.append(np.argmax(image_labels_test[i]))\n",
        "\n",
        "\n",
        "confusion_matrix = confusion_matrix(correct_labels, predicted_labels)\n",
        "disp = ConfusionMatrixDisplay(confusion_matrix=confusion_matrix)  \n",
        "disp.plot()\n",
        "plt.show()\n",
        "print('--------')\n",
        "FP = confusion_matrix.sum(axis=0) - np.diag(confusion_matrix)  \n",
        "FN = confusion_matrix.sum(axis=1) - np.diag(confusion_matrix)\n",
        "TP = np.diag(confusion_matrix)\n",
        "TN = confusion_matrix.sum() - (FP + FN + TP)\n",
        "\n",
        "# Sensitivity, hit rate, recall, or true positive rate\n",
        "TPR = TP/(TP+FN)\n",
        "# Specificity or true negative rate\n",
        "TNR = TN/(TN+FP) \n",
        "# Overall accuracy\n",
        "ACC = (TP+TN)/(TP+FP+FN+TN)\n",
        "\n",
        "print(TP)\n",
        "print(TN)\n",
        "print(FP)\n",
        "print(FN)\n",
        "print('--------')\n",
        "print(ACC)\n",
        "print(TPR)\n",
        "print(TNR)\n",
        "print('--------')\n",
        "\n",
        "TP = sum(TP)\n",
        "TN = sum(TN)\n",
        "FP = sum(FP)\n",
        "FN = sum(FN)\n",
        "\n",
        "# Sensitivity, hit rate, recall, or true positive rate\n",
        "TPR = TP/(TP+FN)\n",
        "# Specificity or true negative rate\n",
        "TNR = TN/(TN+FP) \n",
        "# Overall accuracy\n",
        "ACC = (TP+TN)/(TP+FP+FN+TN)\n",
        "\n",
        "print(TP)\n",
        "print(TN)\n",
        "print(FP)\n",
        "print(FN)\n",
        "print('--------')\n",
        "print(ACC)\n",
        "print(TPR)\n",
        "print(TNR)"
      ],
      "metadata": {
        "colab": {
          "base_uri": "https://localhost:8080/",
          "height": 591
        },
        "id": "xufCN02P5v4A",
        "outputId": "db70d8fc-b2a8-4dbc-ee7b-05b9e9b82dca"
      },
      "execution_count": 15,
      "outputs": [
        {
          "output_type": "display_data",
          "data": {
            "text/plain": [
              "<Figure size 432x288 with 2 Axes>"
            ],
            "image/png": "[encoded data removed]"
          },
          "metadata": {
            "needs_background": "light"
          }
        },
        {
          "output_type": "stream",
          "name": "stdout",
          "text": [
            "--------\n",
            "[ 0  6 11 36]\n",
            "[90 82 58 43]\n",
            "[ 8 12 20 17]\n",
            "[12 10 21 14]\n",
            "--------\n",
            "[0.81818182 0.8        0.62727273 0.71818182]\n",
            "[0.      0.375   0.34375 0.72   ]\n",
            "[0.91836735 0.87234043 0.74358974 0.71666667]\n",
            "--------\n",
            "53\n",
            "273\n",
            "57\n",
            "57\n",
            "--------\n",
            "0.740909090909091\n",
            "0.4818181818181818\n",
            "0.8272727272727273\n"
          ]
        }
      ]
    },
    {
      "cell_type": "markdown",
      "metadata": {
        "id": "bTgk1-sdzmgy"
      },
      "source": [
        "**Validating** Network"
      ]
    },
    {
      "cell_type": "code",
      "source": [
        "\n"
      ],
      "metadata": {
        "id": "d_NBE4KkWuhu"
      },
      "execution_count": 15,
      "outputs": []
    },
    {
      "cell_type": "markdown",
      "source": [
        "**Testing** Network"
      ],
      "metadata": {
        "id": "saJYjKqX9tRL"
      }
    },
    {
      "cell_type": "code",
      "source": [
        "\n"
      ],
      "metadata": {
        "id": "A7DR52hmTc75"
      },
      "execution_count": 15,
      "outputs": []
    },
    {
      "cell_type": "code",
      "source": [
        "test_img = cv2.imread('/content/Datasets/fold5/Test/apel_sehat/apel_sehat (1).jpg')\n",
        "\n",
        "plt.imshow(test_img)\n",
        "test_img = test_img / 255\n",
        "test_img = np.expand_dims(test_img, axis=0)\n",
        "pr=model.predict(test_img)\n",
        "\n",
        "print(pr)\n",
        "output = label_binarizer.inverse_transform(pr)\n",
        "print(output)"
      ],
      "metadata": {
        "colab": {
          "base_uri": "https://localhost:8080/",
          "height": 303
        },
        "id": "zkMI6CwJArvo",
        "outputId": "abe799dc-d749-4d09-c904-de2d45f1e4fe"
      },
      "execution_count": 16,
      "outputs": [
        {
          "output_type": "stream",
          "name": "stdout",
          "text": [
            "[[2.6490976e-04 4.1579187e-05 3.0280894e-04 9.9939060e-01]]\n",
            "['apel_sehat']\n"
          ]
        },
        {
          "output_type": "display_data",
          "data": {
            "text/plain": [
              "<Figure size 432x288 with 1 Axes>"
            ],
            "image/png": "[encoded data removed]"
          },
          "metadata": {
            "needs_background": "light"
          }
        }
      ]
    },
    {
      "cell_type": "code",
      "source": [
        "# save the model to disk\n",
        "#print(\"[INFO] Saving model...\")\n",
        "#pickle.dump(model,open('cnn_model.pkl', 'wb'))\n",
        "#model.save('/content/fold1.h5')"
      ],
      "metadata": {
        "id": "Wr_b8qBuCAIS"
      },
      "execution_count": 17,
      "outputs": []
    }
  ]
}