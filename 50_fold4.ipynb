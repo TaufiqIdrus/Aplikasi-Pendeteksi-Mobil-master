{
  "nbformat": 4,
  "nbformat_minor": 0,
  "metadata": {
    "accelerator": "GPU",
    "colab": {
      "name": "Kodingan Skripsi 3",
      "provenance": [],
      "collapsed_sections": [],
      "include_colab_link": true
    },
    "kernelspec": {
      "display_name": "Python 3",
      "language": "python",
      "name": "python3"
    },
    "language_info": {
      "codemirror_mode": {
        "name": "ipython",
        "version": 3
      },
      "file_extension": ".py",
      "mimetype": "text/x-python",
      "name": "python",
      "nbconvert_exporter": "python",
      "pygments_lexer": "ipython3",
      "version": "3.6.6"
    }
  },
  "cells": [
    {
      "cell_type": "markdown",
      "metadata": {
        "id": "view-in-github",
        "colab_type": "text"
      },
      "source": [
        "<a href=\"https://colab.research.google.com/github/TaufiqIdrus/Aplikasi-Pendeteksi-Mobil-master/blob/master/50_fold4.ipynb\" target=\"_parent\"><img src=\"https://colab.research.google.com/assets/colab-badge.svg\" alt=\"Open In Colab\"/></a>"
      ]
    },
    {
      "cell_type": "markdown",
      "metadata": {
        "id": "yJT_kQA2lITS"
      },
      "source": [
        "**Identifikasi Penyakit Pada Tanaman Apel menggunakan Convolutional Neural Network**"
      ]
    },
    {
      "cell_type": "code",
      "metadata": {
        "id": "xXeOaYTUzmgT"
      },
      "source": [
        "import numpy as np\n",
        "import pickle\n",
        "import os\n",
        "import cv2\n",
        "import tensorflow as tf\n",
        "import keras\n",
        "from os import listdir\n",
        "from sklearn.preprocessing import LabelBinarizer\n",
        "from keras.models import Sequential\n",
        "from keras.layers.convolutional import Conv2D\n",
        "from keras.layers.convolutional import MaxPooling2D\n",
        "from keras.layers.core import Activation, Flatten, Dropout, Dense\n",
        "from keras import backend as K\n",
        "from tensorflow.keras.optimizers import Adam\n",
        "from keras.preprocessing import image\n",
        "import matplotlib.pyplot as plt\n",
        "from sklearn.datasets import make_classification\n",
        "from numpy import mean\n"
      ],
      "execution_count": 1,
      "outputs": []
    },
    {
      "cell_type": "markdown",
      "metadata": {
        "id": "fp8C0d28lQok"
      },
      "source": [
        "Importing and Preparing Dataset"
      ]
    },
    {
      "cell_type": "code",
      "metadata": {
        "id": "_0xehllADlUs",
        "colab": {
          "base_uri": "https://localhost:8080/"
        },
        "outputId": "37aa67d1-413c-4849-dadf-7b8ae2d1af50"
      },
      "source": [
        "!pip install pyunpack\n",
        "!pip install patool\n",
        "from pyunpack import Archive\n",
        "Archive('/content/fold4.rar').extractall('/content/Datasets/')\n",
        "iterasi = 4\n",
        "width=60\n",
        "height=60\n",
        "default_image_size = tuple((height, width))\n",
        "directory_root_train = '/content/Datasets/fold4/Train'\n",
        "directory_root_validation = '/content/Datasets/fold4/Validation'\n",
        "directory_root_test = '/content/Datasets/fold4/Test'\n",
        "image_size = 0\n",
        "depth=3"
      ],
      "execution_count": 2,
      "outputs": [
        {
          "output_type": "stream",
          "name": "stdout",
          "text": [
            "Looking in indexes: https://pypi.org/simple, https://us-python.pkg.dev/colab-wheels/public/simple/\n",
            "Collecting pyunpack\n",
            "  Downloading pyunpack-0.3-py2.py3-none-any.whl (4.1 kB)\n",
            "Collecting entrypoint2\n",
            "  Downloading entrypoint2-1.1-py2.py3-none-any.whl (9.9 kB)\n",
            "Collecting easyprocess\n",
            "  Downloading EasyProcess-1.1-py3-none-any.whl (8.7 kB)\n",
            "Installing collected packages: entrypoint2, easyprocess, pyunpack\n",
            "Successfully installed easyprocess-1.1 entrypoint2-1.1 pyunpack-0.3\n",
            "Looking in indexes: https://pypi.org/simple, https://us-python.pkg.dev/colab-wheels/public/simple/\n",
            "Collecting patool\n",
            "  Downloading patool-1.12-py2.py3-none-any.whl (77 kB)\n",
            "\u001b[K     |████████████████████████████████| 77 kB 5.1 MB/s \n",
            "\u001b[?25hInstalling collected packages: patool\n",
            "Successfully installed patool-1.12\n"
          ]
        }
      ]
    },
    {
      "cell_type": "code",
      "metadata": {
        "id": "KbAwJJTpzmge"
      },
      "source": [
        "def convert_image_to_array(image_dir):\n",
        "    try:\n",
        "        image = cv2.imread(image_dir)\n",
        "        if image is not None :\n",
        "            image = cv2.resize(image, default_image_size)   \n",
        "            return keras.preprocessing.image.img_to_array(image)\n",
        "        else :\n",
        "            return np.array([])\n",
        "    except Exception as e:\n",
        "        print(f\"Error : {e}\")\n",
        "        return None"
      ],
      "execution_count": 3,
      "outputs": []
    },
    {
      "cell_type": "markdown",
      "source": [
        "Converting **Training** Data to Array"
      ],
      "metadata": {
        "id": "bgXxUMO2cI_D"
      }
    },
    {
      "cell_type": "code",
      "metadata": {
        "id": "Erz6IjKXzmgg",
        "colab": {
          "base_uri": "https://localhost:8080/"
        },
        "outputId": "f838bdb6-1655-40d2-ed27-414facdaade0"
      },
      "source": [
        "image_list_train, label_list_train = [], []\n",
        "try:\n",
        "    print(\"[INFO] Loading images ...\")\n",
        "    root_dir = listdir(directory_root_train)\n",
        "\n",
        "    for plant_disease_folder in root_dir:\n",
        "        print(f\"[INFO] Processing {plant_disease_folder} ...\")\n",
        "        plant_disease_image_list = listdir(f\"{directory_root_train}/{plant_disease_folder}/\")\n",
        "      \n",
        "        for image in plant_disease_image_list:\n",
        "            image_directory = f\"{directory_root_train}/{plant_disease_folder}/{image}\"\n",
        "\n",
        "            if image_directory.endswith(\".jpg\") == True or image_directory.endswith(\".JPG\") == True:\n",
        "                image_list_train.append(convert_image_to_array(image_directory))\n",
        "                label_list_train.append(plant_disease_folder)\n",
        "    print(\"[INFO] Image loading completed\")\n",
        "\n",
        "except Exception as e:\n",
        "    print(f\"Error : {e}\")\n",
        "\n",
        "#image labeling\n",
        "image_size = len(image_list_train)\n",
        "label_binarizer = LabelBinarizer()\n",
        "image_labels_train = label_binarizer.fit_transform(label_list_train)\n",
        "pickle.dump(label_binarizer,open('label_transform_train.pkl', 'wb'))\n",
        "n_classes = len(label_binarizer.classes_)\n",
        "np_image_list_train = np.array(image_list_train, dtype=np.float16) / 255.0"
      ],
      "execution_count": 4,
      "outputs": [
        {
          "output_type": "stream",
          "name": "stdout",
          "text": [
            "[INFO] Loading images ...\n",
            "[INFO] Processing apel_sehat ...\n",
            "[INFO] Processing apel_bercak_daun ...\n",
            "[INFO] Processing apel_cacar_daun ...\n",
            "[INFO] Processing apel_busuk_buah ...\n",
            "[INFO] Image loading completed\n"
          ]
        }
      ]
    },
    {
      "cell_type": "markdown",
      "source": [
        "Converting **Validation** Data to Array"
      ],
      "metadata": {
        "id": "7eEMGiqRd_E4"
      }
    },
    {
      "cell_type": "code",
      "source": [
        "image_list_validation, label_list_validation = [], []\n",
        "try:\n",
        "    print(\"[INFO] Loading images ...\")\n",
        "    root_dir = listdir(directory_root_validation)\n",
        "\n",
        "    for plant_disease_folder in root_dir:\n",
        "        print(f\"[INFO] Processing {plant_disease_folder} ...\")\n",
        "        plant_disease_image_list = listdir(f\"{directory_root_validation}/{plant_disease_folder}/\")\n",
        "      \n",
        "        for image in plant_disease_image_list:\n",
        "            image_directory = f\"{directory_root_validation}/{plant_disease_folder}/{image}\"\n",
        "\n",
        "            if image_directory.endswith(\".jpg\") == True or image_directory.endswith(\".JPG\") == True:\n",
        "                image_list_validation.append(convert_image_to_array(image_directory))\n",
        "                label_list_validation.append(plant_disease_folder)\n",
        "    print(\"[INFO] Image loading completed\")\n",
        "\n",
        "except Exception as e:\n",
        "    print(f\"Error : {e}\")\n",
        "\n",
        "#image labeling\n",
        "image_size = len(image_list_validation)\n",
        "label_binarizer = LabelBinarizer()\n",
        "image_labels_validation = label_binarizer.fit_transform(label_list_validation)\n",
        "pickle.dump(label_binarizer,open('label_transform_validation.pkl', 'wb'))\n",
        "n_classes = len(label_binarizer.classes_)\n",
        "np_image_list_validation = np.array(image_list_validation, dtype=np.float16) / 255.0"
      ],
      "metadata": {
        "id": "wfHDdR0ZeEuU",
        "colab": {
          "base_uri": "https://localhost:8080/"
        },
        "outputId": "3241106f-03f4-40f4-f422-9388f16bcf6e"
      },
      "execution_count": 5,
      "outputs": [
        {
          "output_type": "stream",
          "name": "stdout",
          "text": [
            "[INFO] Loading images ...\n",
            "[INFO] Processing apel_sehat ...\n",
            "[INFO] Processing apel_bercak_daun ...\n",
            "[INFO] Processing apel_cacar_daun ...\n",
            "[INFO] Processing apel_busuk_buah ...\n",
            "[INFO] Image loading completed\n"
          ]
        }
      ]
    },
    {
      "cell_type": "markdown",
      "source": [
        "Converting **Testing** Data to Array"
      ],
      "metadata": {
        "id": "brwWyZVncTdg"
      }
    },
    {
      "cell_type": "code",
      "metadata": {
        "id": "uNPby5UMcaWY",
        "colab": {
          "base_uri": "https://localhost:8080/"
        },
        "outputId": "21d66693-8c6b-4b46-9070-cc623459b04f"
      },
      "source": [
        "image_list_test, label_list_test = [], []\n",
        "try:\n",
        "    print(\"[INFO] Loading images ...\")\n",
        "    root_dir = listdir(directory_root_test)\n",
        "\n",
        "    for plant_disease_folder in root_dir:\n",
        "        print(f\"[INFO] Processing {plant_disease_folder} ...\")\n",
        "        plant_disease_image_list = listdir(f\"{directory_root_test}/{plant_disease_folder}/\")\n",
        "      \n",
        "        for image in plant_disease_image_list:\n",
        "            image_directory = f\"{directory_root_test}/{plant_disease_folder}/{image}\"\n",
        "\n",
        "            if image_directory.endswith(\".jpg\") == True or image_directory.endswith(\".JPG\") == True:\n",
        "                image_list_test.append(convert_image_to_array(image_directory))\n",
        "                label_list_test.append(plant_disease_folder)\n",
        "    print(\"[INFO] Image loading completed\")\n",
        "\n",
        "except Exception as e:\n",
        "    print(f\"Error : {e}\")\n",
        "\n",
        "#image labeling\n",
        "image_size = len(image_list_test)\n",
        "label_binarizer = LabelBinarizer()\n",
        "image_labels_test = label_binarizer.fit_transform(label_list_test)\n",
        "pickle.dump(label_binarizer,open('label_transform_test.pkl', 'wb'))\n",
        "n_classes = len(label_binarizer.classes_)\n",
        "np_image_list_test = np.array(image_list_test, dtype=np.float16) / 255.0"
      ],
      "execution_count": 6,
      "outputs": [
        {
          "output_type": "stream",
          "name": "stdout",
          "text": [
            "[INFO] Loading images ...\n",
            "[INFO] Processing apel_sehat ...\n",
            "[INFO] Processing apel_bercak_daun ...\n",
            "[INFO] Processing apel_cacar_daun ...\n",
            "[INFO] Processing apel_busuk_buah ...\n",
            "[INFO] Image loading completed\n"
          ]
        }
      ]
    },
    {
      "cell_type": "markdown",
      "metadata": {
        "id": "jYBTFN0CnAi7"
      },
      "source": [
        "Data Augmenting Initialization"
      ]
    },
    {
      "cell_type": "code",
      "metadata": {
        "id": "TLMxMK2Tzmgr"
      },
      "source": [
        "aug = keras.preprocessing.image.ImageDataGenerator(\n",
        "    rotation_range=25, \n",
        "    width_shift_range=0.1,\n",
        "    height_shift_range=0.1, \n",
        "    shear_range=0.2, \n",
        "    zoom_range=0.2,\n",
        "    horizontal_flip=True, \n",
        "    fill_mode=\"nearest\")"
      ],
      "execution_count": 7,
      "outputs": []
    },
    {
      "cell_type": "markdown",
      "metadata": {
        "id": "H1BfRyYNnGv_"
      },
      "source": [
        "Creating CNN Model"
      ]
    },
    {
      "cell_type": "code",
      "metadata": {
        "id": "WmLX4wm8zmgs"
      },
      "source": [
        "model = keras.models.Sequential()\n",
        "inputShape = (height, width, depth)\n",
        "\n",
        "model.add(Conv2D(20, (5, 5), padding=\"same\",input_shape=inputShape))\n",
        "model.add(Activation(\"relu\"))\n",
        "\n",
        "model.add(MaxPooling2D(pool_size=(2, 2), strides=2))\n",
        "\n",
        "model.add(Conv2D(50, (5, 5), padding=\"same\"))\n",
        "model.add(Activation(\"relu\"))\n",
        "\n",
        "model.add(MaxPooling2D(pool_size=(2, 2),strides=2))\n",
        "\n",
        "model.add(Flatten())\n",
        "\n",
        "model.add(Dense(500))\n",
        "model.add(Activation(\"relu\"))\n",
        "\n",
        "model.add(Dense(4))\n",
        "model.add(Activation(\"softmax\"))"
      ],
      "execution_count": 8,
      "outputs": []
    },
    {
      "cell_type": "code",
      "source": [
        "#model.summary()"
      ],
      "metadata": {
        "id": "RQIgaph8hW06"
      },
      "execution_count": 9,
      "outputs": []
    },
    {
      "cell_type": "code",
      "source": [
        "#from PIL import Image\n",
        "#from keras.utils.vis_utils import plot_model\n",
        "#plot_model(model, to_file='cnn_model.png', show_shapes=True, show_layer_names=True)\n",
        "#display(Image.open('cnn_model.png'))"
      ],
      "metadata": {
        "id": "T05gPuu1GudW"
      },
      "execution_count": 10,
      "outputs": []
    },
    {
      "cell_type": "markdown",
      "metadata": {
        "id": "Zfsu3lVfnXFG"
      },
      "source": [
        "**Training** Network"
      ]
    },
    {
      "cell_type": "code",
      "metadata": {
        "id": "rvwKwe3Lzmgv",
        "colab": {
          "base_uri": "https://localhost:8080/"
        },
        "outputId": "669fcfd8-4623-4cd8-cd67-e544af71d34b"
      },
      "source": [
        "EPOCHS = 200\n",
        "INIT_LR = 1e-3\n",
        "BS = 8\n",
        "\n",
        "with tf.device('/GPU:0'):\n",
        "  opt = Adam(learning_rate=INIT_LR, decay=INIT_LR / EPOCHS)\n",
        "  model.compile(loss=\"categorical_crossentropy\", optimizer=opt,metrics=[\"Accuracy\", \"FalseNegatives\", \"FalsePositives\", \"TrueNegatives\", \"TruePositives\"])\n",
        "  \n",
        "  history = model.fit(\n",
        "      aug.flow(np_image_list_train, image_labels_train, batch_size=BS),\n",
        "      validation_data=(np_image_list_validation, image_labels_validation),\n",
        "      steps_per_epoch=len(np_image_list_train) // BS,\n",
        "      epochs=EPOCHS, \n",
        "      verbose=1,\n",
        "      )\n"
      ],
      "execution_count": 11,
      "outputs": [
        {
          "output_type": "stream",
          "name": "stdout",
          "text": [
            "Epoch 1/200\n",
            "44/44 [==============================] - 20s 85ms/step - loss: 1.4556 - Accuracy: 0.4368 - false_negatives: 300.0000 - false_positives: 52.0000 - true_negatives: 992.0000 - true_positives: 48.0000 - val_loss: 1.2621 - val_Accuracy: 0.4545 - val_false_negatives: 88.0000 - val_false_positives: 0.0000e+00 - val_true_negatives: 264.0000 - val_true_positives: 0.0000e+00\n",
            "Epoch 2/200\n",
            "44/44 [==============================] - 1s 31ms/step - loss: 1.2094 - Accuracy: 0.4454 - false_negatives: 294.0000 - false_positives: 21.0000 - true_negatives: 1023.0000 - true_positives: 54.0000 - val_loss: 1.1067 - val_Accuracy: 0.4545 - val_false_negatives: 50.0000 - val_false_positives: 10.0000 - val_true_negatives: 254.0000 - val_true_positives: 38.0000\n",
            "Epoch 3/200\n",
            "44/44 [==============================] - 2s 36ms/step - loss: 1.1435 - Accuracy: 0.5201 - false_negatives: 248.0000 - false_positives: 44.0000 - true_negatives: 1000.0000 - true_positives: 100.0000 - val_loss: 1.0430 - val_Accuracy: 0.5455 - val_false_negatives: 48.0000 - val_false_positives: 18.0000 - val_true_negatives: 246.0000 - val_true_positives: 40.0000\n",
            "Epoch 4/200\n",
            "44/44 [==============================] - 2s 35ms/step - loss: 1.0801 - Accuracy: 0.5690 - false_negatives: 244.0000 - false_positives: 38.0000 - true_negatives: 1006.0000 - true_positives: 104.0000 - val_loss: 1.0216 - val_Accuracy: 0.6591 - val_false_negatives: 67.0000 - val_false_positives: 2.0000 - val_true_negatives: 262.0000 - val_true_positives: 21.0000\n",
            "Epoch 5/200\n",
            "44/44 [==============================] - 1s 23ms/step - loss: 1.0735 - Accuracy: 0.5603 - false_negatives: 239.0000 - false_positives: 44.0000 - true_negatives: 1000.0000 - true_positives: 109.0000 - val_loss: 1.1255 - val_Accuracy: 0.6136 - val_false_negatives: 48.0000 - val_false_positives: 21.0000 - val_true_negatives: 243.0000 - val_true_positives: 40.0000\n",
            "Epoch 6/200\n",
            "44/44 [==============================] - 1s 15ms/step - loss: 1.0279 - Accuracy: 0.5517 - false_negatives: 239.0000 - false_positives: 36.0000 - true_negatives: 1008.0000 - true_positives: 109.0000 - val_loss: 0.9491 - val_Accuracy: 0.6705 - val_false_negatives: 49.0000 - val_false_positives: 11.0000 - val_true_negatives: 253.0000 - val_true_positives: 39.0000\n",
            "Epoch 7/200\n",
            "44/44 [==============================] - 1s 14ms/step - loss: 1.0016 - Accuracy: 0.6006 - false_negatives: 214.0000 - false_positives: 58.0000 - true_negatives: 986.0000 - true_positives: 134.0000 - val_loss: 1.0073 - val_Accuracy: 0.6477 - val_false_negatives: 48.0000 - val_false_positives: 16.0000 - val_true_negatives: 248.0000 - val_true_positives: 40.0000\n",
            "Epoch 8/200\n",
            "44/44 [==============================] - 1s 14ms/step - loss: 0.9980 - Accuracy: 0.5977 - false_negatives: 224.0000 - false_positives: 47.0000 - true_negatives: 997.0000 - true_positives: 124.0000 - val_loss: 0.9660 - val_Accuracy: 0.6705 - val_false_negatives: 40.0000 - val_false_positives: 10.0000 - val_true_negatives: 254.0000 - val_true_positives: 48.0000\n",
            "Epoch 9/200\n",
            "44/44 [==============================] - 1s 14ms/step - loss: 1.0061 - Accuracy: 0.6034 - false_negatives: 202.0000 - false_positives: 65.0000 - true_negatives: 979.0000 - true_positives: 146.0000 - val_loss: 0.9508 - val_Accuracy: 0.6705 - val_false_negatives: 40.0000 - val_false_positives: 14.0000 - val_true_negatives: 250.0000 - val_true_positives: 48.0000\n",
            "Epoch 10/200\n",
            "44/44 [==============================] - 1s 14ms/step - loss: 0.9720 - Accuracy: 0.6149 - false_negatives: 215.0000 - false_positives: 43.0000 - true_negatives: 1001.0000 - true_positives: 133.0000 - val_loss: 0.9457 - val_Accuracy: 0.7045 - val_false_negatives: 28.0000 - val_false_positives: 19.0000 - val_true_negatives: 245.0000 - val_true_positives: 60.0000\n",
            "Epoch 11/200\n",
            "44/44 [==============================] - 1s 14ms/step - loss: 1.0253 - Accuracy: 0.5891 - false_negatives: 203.0000 - false_positives: 65.0000 - true_negatives: 979.0000 - true_positives: 145.0000 - val_loss: 0.9654 - val_Accuracy: 0.6818 - val_false_negatives: 49.0000 - val_false_positives: 7.0000 - val_true_negatives: 257.0000 - val_true_positives: 39.0000\n",
            "Epoch 12/200\n",
            "44/44 [==============================] - 1s 14ms/step - loss: 0.9570 - Accuracy: 0.6121 - false_negatives: 204.0000 - false_positives: 64.0000 - true_negatives: 980.0000 - true_positives: 144.0000 - val_loss: 0.9508 - val_Accuracy: 0.6818 - val_false_negatives: 46.0000 - val_false_positives: 11.0000 - val_true_negatives: 253.0000 - val_true_positives: 42.0000\n",
            "Epoch 13/200\n",
            "44/44 [==============================] - 1s 14ms/step - loss: 0.9595 - Accuracy: 0.6092 - false_negatives: 189.0000 - false_positives: 67.0000 - true_negatives: 977.0000 - true_positives: 159.0000 - val_loss: 0.9744 - val_Accuracy: 0.6818 - val_false_negatives: 31.0000 - val_false_positives: 24.0000 - val_true_negatives: 240.0000 - val_true_positives: 57.0000\n",
            "Epoch 14/200\n",
            "44/44 [==============================] - 1s 15ms/step - loss: 0.9156 - Accuracy: 0.6006 - false_negatives: 180.0000 - false_positives: 61.0000 - true_negatives: 983.0000 - true_positives: 168.0000 - val_loss: 0.9346 - val_Accuracy: 0.6705 - val_false_negatives: 32.0000 - val_false_positives: 16.0000 - val_true_negatives: 248.0000 - val_true_positives: 56.0000\n",
            "Epoch 15/200\n",
            "44/44 [==============================] - 1s 14ms/step - loss: 0.9324 - Accuracy: 0.6236 - false_negatives: 173.0000 - false_positives: 73.0000 - true_negatives: 971.0000 - true_positives: 175.0000 - val_loss: 0.8972 - val_Accuracy: 0.6818 - val_false_negatives: 35.0000 - val_false_positives: 12.0000 - val_true_negatives: 252.0000 - val_true_positives: 53.0000\n",
            "Epoch 16/200\n",
            "44/44 [==============================] - 1s 14ms/step - loss: 0.9159 - Accuracy: 0.6351 - false_negatives: 172.0000 - false_positives: 71.0000 - true_negatives: 973.0000 - true_positives: 176.0000 - val_loss: 0.9510 - val_Accuracy: 0.6932 - val_false_negatives: 32.0000 - val_false_positives: 20.0000 - val_true_negatives: 244.0000 - val_true_positives: 56.0000\n",
            "Epoch 17/200\n",
            "44/44 [==============================] - 1s 14ms/step - loss: 0.8976 - Accuracy: 0.6264 - false_negatives: 173.0000 - false_positives: 79.0000 - true_negatives: 965.0000 - true_positives: 175.0000 - val_loss: 0.9512 - val_Accuracy: 0.6818 - val_false_negatives: 41.0000 - val_false_positives: 13.0000 - val_true_negatives: 251.0000 - val_true_positives: 47.0000\n",
            "Epoch 18/200\n",
            "44/44 [==============================] - 1s 14ms/step - loss: 0.8844 - Accuracy: 0.6322 - false_negatives: 182.0000 - false_positives: 74.0000 - true_negatives: 970.0000 - true_positives: 166.0000 - val_loss: 0.9496 - val_Accuracy: 0.6818 - val_false_negatives: 31.0000 - val_false_positives: 21.0000 - val_true_negatives: 243.0000 - val_true_positives: 57.0000\n",
            "Epoch 19/200\n",
            "44/44 [==============================] - 1s 14ms/step - loss: 0.8900 - Accuracy: 0.6293 - false_negatives: 157.0000 - false_positives: 77.0000 - true_negatives: 967.0000 - true_positives: 191.0000 - val_loss: 0.9204 - val_Accuracy: 0.6818 - val_false_negatives: 35.0000 - val_false_positives: 11.0000 - val_true_negatives: 253.0000 - val_true_positives: 53.0000\n",
            "Epoch 20/200\n",
            "44/44 [==============================] - 1s 15ms/step - loss: 0.8801 - Accuracy: 0.6638 - false_negatives: 161.0000 - false_positives: 67.0000 - true_negatives: 977.0000 - true_positives: 187.0000 - val_loss: 0.9500 - val_Accuracy: 0.7045 - val_false_negatives: 29.0000 - val_false_positives: 19.0000 - val_true_negatives: 245.0000 - val_true_positives: 59.0000\n",
            "Epoch 21/200\n",
            "44/44 [==============================] - 1s 14ms/step - loss: 0.8876 - Accuracy: 0.6466 - false_negatives: 153.0000 - false_positives: 75.0000 - true_negatives: 969.0000 - true_positives: 195.0000 - val_loss: 0.9221 - val_Accuracy: 0.6932 - val_false_negatives: 29.0000 - val_false_positives: 19.0000 - val_true_negatives: 245.0000 - val_true_positives: 59.0000\n",
            "Epoch 22/200\n",
            "44/44 [==============================] - 1s 14ms/step - loss: 0.9179 - Accuracy: 0.6207 - false_negatives: 167.0000 - false_positives: 83.0000 - true_negatives: 961.0000 - true_positives: 181.0000 - val_loss: 1.0636 - val_Accuracy: 0.6477 - val_false_negatives: 38.0000 - val_false_positives: 24.0000 - val_true_negatives: 240.0000 - val_true_positives: 50.0000\n",
            "Epoch 23/200\n",
            "44/44 [==============================] - 1s 14ms/step - loss: 0.8905 - Accuracy: 0.6351 - false_negatives: 168.0000 - false_positives: 78.0000 - true_negatives: 966.0000 - true_positives: 180.0000 - val_loss: 0.9484 - val_Accuracy: 0.7159 - val_false_negatives: 28.0000 - val_false_positives: 19.0000 - val_true_negatives: 245.0000 - val_true_positives: 60.0000\n",
            "Epoch 24/200\n",
            "44/44 [==============================] - 1s 14ms/step - loss: 0.8464 - Accuracy: 0.6782 - false_negatives: 147.0000 - false_positives: 78.0000 - true_negatives: 966.0000 - true_positives: 201.0000 - val_loss: 0.9324 - val_Accuracy: 0.7045 - val_false_negatives: 29.0000 - val_false_positives: 19.0000 - val_true_negatives: 245.0000 - val_true_positives: 59.0000\n",
            "Epoch 25/200\n",
            "44/44 [==============================] - 1s 14ms/step - loss: 0.8342 - Accuracy: 0.6954 - false_negatives: 133.0000 - false_positives: 74.0000 - true_negatives: 970.0000 - true_positives: 215.0000 - val_loss: 0.9070 - val_Accuracy: 0.7045 - val_false_negatives: 29.0000 - val_false_positives: 20.0000 - val_true_negatives: 244.0000 - val_true_positives: 59.0000\n",
            "Epoch 26/200\n",
            "44/44 [==============================] - 1s 14ms/step - loss: 0.8528 - Accuracy: 0.6408 - false_negatives: 152.0000 - false_positives: 83.0000 - true_negatives: 961.0000 - true_positives: 196.0000 - val_loss: 0.9030 - val_Accuracy: 0.7159 - val_false_negatives: 31.0000 - val_false_positives: 12.0000 - val_true_negatives: 252.0000 - val_true_positives: 57.0000\n",
            "Epoch 27/200\n",
            "44/44 [==============================] - 1s 14ms/step - loss: 0.8703 - Accuracy: 0.6695 - false_negatives: 151.0000 - false_positives: 74.0000 - true_negatives: 970.0000 - true_positives: 197.0000 - val_loss: 0.9343 - val_Accuracy: 0.7159 - val_false_negatives: 30.0000 - val_false_positives: 19.0000 - val_true_negatives: 245.0000 - val_true_positives: 58.0000\n",
            "Epoch 28/200\n",
            "44/44 [==============================] - 1s 14ms/step - loss: 0.8163 - Accuracy: 0.6983 - false_negatives: 129.0000 - false_positives: 75.0000 - true_negatives: 969.0000 - true_positives: 219.0000 - val_loss: 0.8605 - val_Accuracy: 0.7386 - val_false_negatives: 27.0000 - val_false_positives: 14.0000 - val_true_negatives: 250.0000 - val_true_positives: 61.0000\n",
            "Epoch 29/200\n",
            "44/44 [==============================] - 1s 14ms/step - loss: 0.8093 - Accuracy: 0.7074 - false_negatives: 137.0000 - false_positives: 80.0000 - true_negatives: 976.0000 - true_positives: 215.0000 - val_loss: 0.8242 - val_Accuracy: 0.7386 - val_false_negatives: 24.0000 - val_false_positives: 13.0000 - val_true_negatives: 251.0000 - val_true_positives: 64.0000\n",
            "Epoch 30/200\n",
            "44/44 [==============================] - 1s 14ms/step - loss: 0.8446 - Accuracy: 0.6523 - false_negatives: 151.0000 - false_positives: 79.0000 - true_negatives: 965.0000 - true_positives: 197.0000 - val_loss: 0.8392 - val_Accuracy: 0.7045 - val_false_negatives: 27.0000 - val_false_positives: 13.0000 - val_true_negatives: 251.0000 - val_true_positives: 61.0000\n",
            "Epoch 31/200\n",
            "44/44 [==============================] - 1s 14ms/step - loss: 0.8371 - Accuracy: 0.6782 - false_negatives: 136.0000 - false_positives: 84.0000 - true_negatives: 960.0000 - true_positives: 212.0000 - val_loss: 0.7976 - val_Accuracy: 0.7500 - val_false_negatives: 27.0000 - val_false_positives: 19.0000 - val_true_negatives: 245.0000 - val_true_positives: 61.0000\n",
            "Epoch 32/200\n",
            "44/44 [==============================] - 1s 15ms/step - loss: 0.7727 - Accuracy: 0.7299 - false_negatives: 121.0000 - false_positives: 72.0000 - true_negatives: 972.0000 - true_positives: 227.0000 - val_loss: 0.8158 - val_Accuracy: 0.7273 - val_false_negatives: 26.0000 - val_false_positives: 15.0000 - val_true_negatives: 249.0000 - val_true_positives: 62.0000\n",
            "Epoch 33/200\n",
            "44/44 [==============================] - 1s 14ms/step - loss: 0.7631 - Accuracy: 0.6810 - false_negatives: 129.0000 - false_positives: 74.0000 - true_negatives: 970.0000 - true_positives: 219.0000 - val_loss: 0.9398 - val_Accuracy: 0.6705 - val_false_negatives: 34.0000 - val_false_positives: 25.0000 - val_true_negatives: 239.0000 - val_true_positives: 54.0000\n",
            "Epoch 34/200\n",
            "44/44 [==============================] - 1s 15ms/step - loss: 0.7946 - Accuracy: 0.6897 - false_negatives: 128.0000 - false_positives: 86.0000 - true_negatives: 958.0000 - true_positives: 220.0000 - val_loss: 0.7989 - val_Accuracy: 0.7614 - val_false_negatives: 28.0000 - val_false_positives: 14.0000 - val_true_negatives: 250.0000 - val_true_positives: 60.0000\n",
            "Epoch 35/200\n",
            "44/44 [==============================] - 1s 14ms/step - loss: 0.7786 - Accuracy: 0.7241 - false_negatives: 127.0000 - false_positives: 72.0000 - true_negatives: 972.0000 - true_positives: 221.0000 - val_loss: 0.9246 - val_Accuracy: 0.6705 - val_false_negatives: 33.0000 - val_false_positives: 21.0000 - val_true_negatives: 243.0000 - val_true_positives: 55.0000\n",
            "Epoch 36/200\n",
            "44/44 [==============================] - 1s 14ms/step - loss: 0.7855 - Accuracy: 0.7069 - false_negatives: 126.0000 - false_positives: 77.0000 - true_negatives: 967.0000 - true_positives: 222.0000 - val_loss: 0.9053 - val_Accuracy: 0.6932 - val_false_negatives: 28.0000 - val_false_positives: 19.0000 - val_true_negatives: 245.0000 - val_true_positives: 60.0000\n",
            "Epoch 37/200\n",
            "44/44 [==============================] - 1s 14ms/step - loss: 0.7562 - Accuracy: 0.7155 - false_negatives: 122.0000 - false_positives: 71.0000 - true_negatives: 973.0000 - true_positives: 226.0000 - val_loss: 0.7798 - val_Accuracy: 0.7500 - val_false_negatives: 25.0000 - val_false_positives: 17.0000 - val_true_negatives: 247.0000 - val_true_positives: 63.0000\n",
            "Epoch 38/200\n",
            "44/44 [==============================] - 1s 15ms/step - loss: 0.7430 - Accuracy: 0.7443 - false_negatives: 111.0000 - false_positives: 76.0000 - true_negatives: 968.0000 - true_positives: 237.0000 - val_loss: 0.8463 - val_Accuracy: 0.7386 - val_false_negatives: 28.0000 - val_false_positives: 17.0000 - val_true_negatives: 247.0000 - val_true_positives: 60.0000\n",
            "Epoch 39/200\n",
            "44/44 [==============================] - 1s 14ms/step - loss: 0.7779 - Accuracy: 0.7213 - false_negatives: 118.0000 - false_positives: 74.0000 - true_negatives: 970.0000 - true_positives: 230.0000 - val_loss: 0.7998 - val_Accuracy: 0.7273 - val_false_negatives: 26.0000 - val_false_positives: 18.0000 - val_true_negatives: 246.0000 - val_true_positives: 62.0000\n",
            "Epoch 40/200\n",
            "44/44 [==============================] - 1s 14ms/step - loss: 0.7749 - Accuracy: 0.7299 - false_negatives: 117.0000 - false_positives: 75.0000 - true_negatives: 969.0000 - true_positives: 231.0000 - val_loss: 0.8622 - val_Accuracy: 0.7159 - val_false_negatives: 32.0000 - val_false_positives: 16.0000 - val_true_negatives: 248.0000 - val_true_positives: 56.0000\n",
            "Epoch 41/200\n",
            "44/44 [==============================] - 1s 14ms/step - loss: 0.7750 - Accuracy: 0.6954 - false_negatives: 139.0000 - false_positives: 78.0000 - true_negatives: 966.0000 - true_positives: 209.0000 - val_loss: 0.8666 - val_Accuracy: 0.7159 - val_false_negatives: 26.0000 - val_false_positives: 18.0000 - val_true_negatives: 246.0000 - val_true_positives: 62.0000\n",
            "Epoch 42/200\n",
            "44/44 [==============================] - 1s 14ms/step - loss: 0.7095 - Accuracy: 0.7471 - false_negatives: 112.0000 - false_positives: 71.0000 - true_negatives: 973.0000 - true_positives: 236.0000 - val_loss: 1.0239 - val_Accuracy: 0.6818 - val_false_negatives: 31.0000 - val_false_positives: 26.0000 - val_true_negatives: 238.0000 - val_true_positives: 57.0000\n",
            "Epoch 43/200\n",
            "44/44 [==============================] - 1s 15ms/step - loss: 0.7505 - Accuracy: 0.7213 - false_negatives: 120.0000 - false_positives: 70.0000 - true_negatives: 974.0000 - true_positives: 228.0000 - val_loss: 0.8996 - val_Accuracy: 0.6932 - val_false_negatives: 31.0000 - val_false_positives: 21.0000 - val_true_negatives: 243.0000 - val_true_positives: 57.0000\n",
            "Epoch 44/200\n",
            "44/44 [==============================] - 1s 14ms/step - loss: 0.7731 - Accuracy: 0.7213 - false_negatives: 116.0000 - false_positives: 77.0000 - true_negatives: 967.0000 - true_positives: 232.0000 - val_loss: 0.8070 - val_Accuracy: 0.7273 - val_false_negatives: 25.0000 - val_false_positives: 19.0000 - val_true_negatives: 245.0000 - val_true_positives: 63.0000\n",
            "Epoch 45/200\n",
            "44/44 [==============================] - 1s 14ms/step - loss: 0.7355 - Accuracy: 0.7328 - false_negatives: 121.0000 - false_positives: 74.0000 - true_negatives: 970.0000 - true_positives: 227.0000 - val_loss: 0.8221 - val_Accuracy: 0.7159 - val_false_negatives: 29.0000 - val_false_positives: 22.0000 - val_true_negatives: 242.0000 - val_true_positives: 59.0000\n",
            "Epoch 46/200\n",
            "44/44 [==============================] - 1s 14ms/step - loss: 0.7474 - Accuracy: 0.7155 - false_negatives: 118.0000 - false_positives: 71.0000 - true_negatives: 973.0000 - true_positives: 230.0000 - val_loss: 0.8071 - val_Accuracy: 0.7273 - val_false_negatives: 24.0000 - val_false_positives: 18.0000 - val_true_negatives: 246.0000 - val_true_positives: 64.0000\n",
            "Epoch 47/200\n",
            "44/44 [==============================] - 1s 14ms/step - loss: 0.8426 - Accuracy: 0.6638 - false_negatives: 144.0000 - false_positives: 83.0000 - true_negatives: 961.0000 - true_positives: 204.0000 - val_loss: 0.8991 - val_Accuracy: 0.7386 - val_false_negatives: 30.0000 - val_false_positives: 15.0000 - val_true_negatives: 249.0000 - val_true_positives: 58.0000\n",
            "Epoch 48/200\n",
            "44/44 [==============================] - 1s 14ms/step - loss: 0.7888 - Accuracy: 0.6868 - false_negatives: 134.0000 - false_positives: 73.0000 - true_negatives: 971.0000 - true_positives: 214.0000 - val_loss: 0.9109 - val_Accuracy: 0.7045 - val_false_negatives: 29.0000 - val_false_positives: 20.0000 - val_true_negatives: 244.0000 - val_true_positives: 59.0000\n",
            "Epoch 49/200\n",
            "44/44 [==============================] - 1s 14ms/step - loss: 0.7829 - Accuracy: 0.7184 - false_negatives: 122.0000 - false_positives: 68.0000 - true_negatives: 976.0000 - true_positives: 226.0000 - val_loss: 0.8753 - val_Accuracy: 0.7273 - val_false_negatives: 27.0000 - val_false_positives: 18.0000 - val_true_negatives: 246.0000 - val_true_positives: 61.0000\n",
            "Epoch 50/200\n",
            "44/44 [==============================] - 1s 14ms/step - loss: 0.7564 - Accuracy: 0.6925 - false_negatives: 123.0000 - false_positives: 75.0000 - true_negatives: 969.0000 - true_positives: 225.0000 - val_loss: 0.8013 - val_Accuracy: 0.7500 - val_false_negatives: 27.0000 - val_false_positives: 17.0000 - val_true_negatives: 247.0000 - val_true_positives: 61.0000\n",
            "Epoch 51/200\n",
            "44/44 [==============================] - 1s 14ms/step - loss: 0.7121 - Accuracy: 0.7414 - false_negatives: 118.0000 - false_positives: 75.0000 - true_negatives: 969.0000 - true_positives: 230.0000 - val_loss: 0.8357 - val_Accuracy: 0.7159 - val_false_negatives: 27.0000 - val_false_positives: 19.0000 - val_true_negatives: 245.0000 - val_true_positives: 61.0000\n",
            "Epoch 52/200\n",
            "44/44 [==============================] - 1s 14ms/step - loss: 0.6800 - Accuracy: 0.7586 - false_negatives: 110.0000 - false_positives: 65.0000 - true_negatives: 979.0000 - true_positives: 238.0000 - val_loss: 0.9091 - val_Accuracy: 0.7159 - val_false_negatives: 27.0000 - val_false_positives: 19.0000 - val_true_negatives: 245.0000 - val_true_positives: 61.0000\n",
            "Epoch 53/200\n",
            "44/44 [==============================] - 1s 14ms/step - loss: 0.6960 - Accuracy: 0.7529 - false_negatives: 107.0000 - false_positives: 64.0000 - true_negatives: 980.0000 - true_positives: 241.0000 - val_loss: 0.8330 - val_Accuracy: 0.7159 - val_false_negatives: 28.0000 - val_false_positives: 19.0000 - val_true_negatives: 245.0000 - val_true_positives: 60.0000\n",
            "Epoch 54/200\n",
            "44/44 [==============================] - 1s 14ms/step - loss: 0.7054 - Accuracy: 0.7500 - false_negatives: 113.0000 - false_positives: 65.0000 - true_negatives: 979.0000 - true_positives: 235.0000 - val_loss: 0.8222 - val_Accuracy: 0.7273 - val_false_negatives: 26.0000 - val_false_positives: 19.0000 - val_true_negatives: 245.0000 - val_true_positives: 62.0000\n",
            "Epoch 55/200\n",
            "44/44 [==============================] - 1s 14ms/step - loss: 0.7730 - Accuracy: 0.7241 - false_negatives: 117.0000 - false_positives: 75.0000 - true_negatives: 969.0000 - true_positives: 231.0000 - val_loss: 0.7968 - val_Accuracy: 0.7386 - val_false_negatives: 24.0000 - val_false_positives: 17.0000 - val_true_negatives: 247.0000 - val_true_positives: 64.0000\n",
            "Epoch 56/200\n",
            "44/44 [==============================] - 1s 14ms/step - loss: 0.7303 - Accuracy: 0.7356 - false_negatives: 113.0000 - false_positives: 73.0000 - true_negatives: 971.0000 - true_positives: 235.0000 - val_loss: 0.7565 - val_Accuracy: 0.7727 - val_false_negatives: 24.0000 - val_false_positives: 14.0000 - val_true_negatives: 250.0000 - val_true_positives: 64.0000\n",
            "Epoch 57/200\n",
            "44/44 [==============================] - 1s 15ms/step - loss: 0.7801 - Accuracy: 0.7155 - false_negatives: 127.0000 - false_positives: 70.0000 - true_negatives: 974.0000 - true_positives: 221.0000 - val_loss: 0.9905 - val_Accuracy: 0.7159 - val_false_negatives: 29.0000 - val_false_positives: 23.0000 - val_true_negatives: 241.0000 - val_true_positives: 59.0000\n",
            "Epoch 58/200\n",
            "44/44 [==============================] - 1s 14ms/step - loss: 0.6998 - Accuracy: 0.7385 - false_negatives: 103.0000 - false_positives: 66.0000 - true_negatives: 978.0000 - true_positives: 245.0000 - val_loss: 1.0305 - val_Accuracy: 0.6932 - val_false_negatives: 35.0000 - val_false_positives: 20.0000 - val_true_negatives: 244.0000 - val_true_positives: 53.0000\n",
            "Epoch 59/200\n",
            "44/44 [==============================] - 1s 14ms/step - loss: 0.6960 - Accuracy: 0.7529 - false_negatives: 113.0000 - false_positives: 70.0000 - true_negatives: 974.0000 - true_positives: 235.0000 - val_loss: 0.7982 - val_Accuracy: 0.7386 - val_false_negatives: 25.0000 - val_false_positives: 17.0000 - val_true_negatives: 247.0000 - val_true_positives: 63.0000\n",
            "Epoch 60/200\n",
            "44/44 [==============================] - 1s 14ms/step - loss: 0.7049 - Accuracy: 0.7500 - false_negatives: 115.0000 - false_positives: 69.0000 - true_negatives: 975.0000 - true_positives: 233.0000 - val_loss: 0.8772 - val_Accuracy: 0.7159 - val_false_negatives: 29.0000 - val_false_positives: 19.0000 - val_true_negatives: 245.0000 - val_true_positives: 59.0000\n",
            "Epoch 61/200\n",
            "44/44 [==============================] - 1s 14ms/step - loss: 0.7307 - Accuracy: 0.7069 - false_negatives: 115.0000 - false_positives: 80.0000 - true_negatives: 964.0000 - true_positives: 233.0000 - val_loss: 0.8284 - val_Accuracy: 0.7159 - val_false_negatives: 27.0000 - val_false_positives: 18.0000 - val_true_negatives: 246.0000 - val_true_positives: 61.0000\n",
            "Epoch 62/200\n",
            "44/44 [==============================] - 1s 14ms/step - loss: 0.6978 - Accuracy: 0.7471 - false_negatives: 110.0000 - false_positives: 65.0000 - true_negatives: 979.0000 - true_positives: 238.0000 - val_loss: 0.7660 - val_Accuracy: 0.7500 - val_false_negatives: 25.0000 - val_false_positives: 17.0000 - val_true_negatives: 247.0000 - val_true_positives: 63.0000\n",
            "Epoch 63/200\n",
            "44/44 [==============================] - 1s 14ms/step - loss: 0.6795 - Accuracy: 0.7586 - false_negatives: 104.0000 - false_positives: 63.0000 - true_negatives: 981.0000 - true_positives: 244.0000 - val_loss: 0.7524 - val_Accuracy: 0.7727 - val_false_negatives: 24.0000 - val_false_positives: 16.0000 - val_true_negatives: 248.0000 - val_true_positives: 64.0000\n",
            "Epoch 64/200\n",
            "44/44 [==============================] - 1s 14ms/step - loss: 0.7006 - Accuracy: 0.7299 - false_negatives: 109.0000 - false_positives: 76.0000 - true_negatives: 968.0000 - true_positives: 239.0000 - val_loss: 0.7508 - val_Accuracy: 0.7273 - val_false_negatives: 28.0000 - val_false_positives: 16.0000 - val_true_negatives: 248.0000 - val_true_positives: 60.0000\n",
            "Epoch 65/200\n",
            "44/44 [==============================] - 1s 14ms/step - loss: 0.7133 - Accuracy: 0.7299 - false_negatives: 110.0000 - false_positives: 74.0000 - true_negatives: 970.0000 - true_positives: 238.0000 - val_loss: 0.7566 - val_Accuracy: 0.7727 - val_false_negatives: 24.0000 - val_false_positives: 16.0000 - val_true_negatives: 248.0000 - val_true_positives: 64.0000\n",
            "Epoch 66/200\n",
            "44/44 [==============================] - 1s 14ms/step - loss: 0.7148 - Accuracy: 0.7155 - false_negatives: 114.0000 - false_positives: 74.0000 - true_negatives: 970.0000 - true_positives: 234.0000 - val_loss: 0.8393 - val_Accuracy: 0.6591 - val_false_negatives: 33.0000 - val_false_positives: 17.0000 - val_true_negatives: 247.0000 - val_true_positives: 55.0000\n",
            "Epoch 67/200\n",
            "44/44 [==============================] - 1s 15ms/step - loss: 0.7371 - Accuracy: 0.7213 - false_negatives: 115.0000 - false_positives: 75.0000 - true_negatives: 969.0000 - true_positives: 233.0000 - val_loss: 0.8205 - val_Accuracy: 0.7386 - val_false_negatives: 26.0000 - val_false_positives: 17.0000 - val_true_negatives: 247.0000 - val_true_positives: 62.0000\n",
            "Epoch 68/200\n",
            "44/44 [==============================] - 1s 14ms/step - loss: 0.6622 - Accuracy: 0.7471 - false_negatives: 108.0000 - false_positives: 69.0000 - true_negatives: 975.0000 - true_positives: 240.0000 - val_loss: 0.7655 - val_Accuracy: 0.7500 - val_false_negatives: 27.0000 - val_false_positives: 16.0000 - val_true_negatives: 248.0000 - val_true_positives: 61.0000\n",
            "Epoch 69/200\n",
            "44/44 [==============================] - 1s 15ms/step - loss: 0.6632 - Accuracy: 0.7471 - false_negatives: 109.0000 - false_positives: 65.0000 - true_negatives: 979.0000 - true_positives: 239.0000 - val_loss: 0.8059 - val_Accuracy: 0.7273 - val_false_negatives: 26.0000 - val_false_positives: 16.0000 - val_true_negatives: 248.0000 - val_true_positives: 62.0000\n",
            "Epoch 70/200\n",
            "44/44 [==============================] - 1s 15ms/step - loss: 0.6970 - Accuracy: 0.7414 - false_negatives: 110.0000 - false_positives: 67.0000 - true_negatives: 977.0000 - true_positives: 238.0000 - val_loss: 0.7355 - val_Accuracy: 0.7386 - val_false_negatives: 25.0000 - val_false_positives: 18.0000 - val_true_negatives: 246.0000 - val_true_positives: 63.0000\n",
            "Epoch 71/200\n",
            "44/44 [==============================] - 1s 15ms/step - loss: 0.7153 - Accuracy: 0.7155 - false_negatives: 115.0000 - false_positives: 74.0000 - true_negatives: 970.0000 - true_positives: 233.0000 - val_loss: 0.9192 - val_Accuracy: 0.7045 - val_false_negatives: 29.0000 - val_false_positives: 19.0000 - val_true_negatives: 245.0000 - val_true_positives: 59.0000\n",
            "Epoch 72/200\n",
            "44/44 [==============================] - 1s 15ms/step - loss: 0.7163 - Accuracy: 0.7270 - false_negatives: 115.0000 - false_positives: 74.0000 - true_negatives: 970.0000 - true_positives: 233.0000 - val_loss: 0.9701 - val_Accuracy: 0.7273 - val_false_negatives: 33.0000 - val_false_positives: 20.0000 - val_true_negatives: 244.0000 - val_true_positives: 55.0000\n",
            "Epoch 73/200\n",
            "44/44 [==============================] - 1s 15ms/step - loss: 0.6617 - Accuracy: 0.7586 - false_negatives: 102.0000 - false_positives: 66.0000 - true_negatives: 978.0000 - true_positives: 246.0000 - val_loss: 0.8066 - val_Accuracy: 0.7273 - val_false_negatives: 25.0000 - val_false_positives: 20.0000 - val_true_negatives: 244.0000 - val_true_positives: 63.0000\n",
            "Epoch 74/200\n",
            "44/44 [==============================] - 1s 16ms/step - loss: 0.6613 - Accuracy: 0.7701 - false_negatives: 100.0000 - false_positives: 58.0000 - true_negatives: 986.0000 - true_positives: 248.0000 - val_loss: 0.8460 - val_Accuracy: 0.7159 - val_false_negatives: 25.0000 - val_false_positives: 19.0000 - val_true_negatives: 245.0000 - val_true_positives: 63.0000\n",
            "Epoch 75/200\n",
            "44/44 [==============================] - 1s 16ms/step - loss: 0.6142 - Accuracy: 0.7960 - false_negatives: 86.0000 - false_positives: 56.0000 - true_negatives: 988.0000 - true_positives: 262.0000 - val_loss: 0.8161 - val_Accuracy: 0.7273 - val_false_negatives: 26.0000 - val_false_positives: 16.0000 - val_true_negatives: 248.0000 - val_true_positives: 62.0000\n",
            "Epoch 76/200\n",
            "44/44 [==============================] - 1s 15ms/step - loss: 0.6421 - Accuracy: 0.7615 - false_negatives: 102.0000 - false_positives: 62.0000 - true_negatives: 982.0000 - true_positives: 246.0000 - val_loss: 0.8329 - val_Accuracy: 0.7273 - val_false_negatives: 26.0000 - val_false_positives: 18.0000 - val_true_negatives: 246.0000 - val_true_positives: 62.0000\n",
            "Epoch 77/200\n",
            "44/44 [==============================] - 1s 16ms/step - loss: 0.6854 - Accuracy: 0.7299 - false_negatives: 118.0000 - false_positives: 71.0000 - true_negatives: 973.0000 - true_positives: 230.0000 - val_loss: 0.8340 - val_Accuracy: 0.7386 - val_false_negatives: 25.0000 - val_false_positives: 19.0000 - val_true_negatives: 245.0000 - val_true_positives: 63.0000\n",
            "Epoch 78/200\n",
            "44/44 [==============================] - 1s 15ms/step - loss: 0.6405 - Accuracy: 0.7787 - false_negatives: 96.0000 - false_positives: 56.0000 - true_negatives: 988.0000 - true_positives: 252.0000 - val_loss: 0.7888 - val_Accuracy: 0.7273 - val_false_negatives: 26.0000 - val_false_positives: 18.0000 - val_true_negatives: 246.0000 - val_true_positives: 62.0000\n",
            "Epoch 79/200\n",
            "44/44 [==============================] - 1s 15ms/step - loss: 0.6322 - Accuracy: 0.7471 - false_negatives: 105.0000 - false_positives: 71.0000 - true_negatives: 973.0000 - true_positives: 243.0000 - val_loss: 0.7678 - val_Accuracy: 0.7614 - val_false_negatives: 26.0000 - val_false_positives: 18.0000 - val_true_negatives: 246.0000 - val_true_positives: 62.0000\n",
            "Epoch 80/200\n",
            "44/44 [==============================] - 1s 15ms/step - loss: 0.6359 - Accuracy: 0.7644 - false_negatives: 93.0000 - false_positives: 61.0000 - true_negatives: 983.0000 - true_positives: 255.0000 - val_loss: 0.8148 - val_Accuracy: 0.7386 - val_false_negatives: 28.0000 - val_false_positives: 18.0000 - val_true_negatives: 246.0000 - val_true_positives: 60.0000\n",
            "Epoch 81/200\n",
            "44/44 [==============================] - 1s 15ms/step - loss: 0.6465 - Accuracy: 0.7443 - false_negatives: 104.0000 - false_positives: 63.0000 - true_negatives: 981.0000 - true_positives: 244.0000 - val_loss: 0.8657 - val_Accuracy: 0.7045 - val_false_negatives: 31.0000 - val_false_positives: 15.0000 - val_true_negatives: 249.0000 - val_true_positives: 57.0000\n",
            "Epoch 82/200\n",
            "44/44 [==============================] - 1s 15ms/step - loss: 0.6612 - Accuracy: 0.7069 - false_negatives: 114.0000 - false_positives: 65.0000 - true_negatives: 979.0000 - true_positives: 234.0000 - val_loss: 0.8074 - val_Accuracy: 0.7386 - val_false_negatives: 27.0000 - val_false_positives: 15.0000 - val_true_negatives: 249.0000 - val_true_positives: 61.0000\n",
            "Epoch 83/200\n",
            "44/44 [==============================] - 1s 15ms/step - loss: 0.6123 - Accuracy: 0.7586 - false_negatives: 97.0000 - false_positives: 66.0000 - true_negatives: 978.0000 - true_positives: 251.0000 - val_loss: 0.8611 - val_Accuracy: 0.7386 - val_false_negatives: 24.0000 - val_false_positives: 20.0000 - val_true_negatives: 244.0000 - val_true_positives: 64.0000\n",
            "Epoch 84/200\n",
            "44/44 [==============================] - 1s 16ms/step - loss: 0.6541 - Accuracy: 0.7672 - false_negatives: 98.0000 - false_positives: 66.0000 - true_negatives: 978.0000 - true_positives: 250.0000 - val_loss: 0.8064 - val_Accuracy: 0.7386 - val_false_negatives: 27.0000 - val_false_positives: 13.0000 - val_true_negatives: 251.0000 - val_true_positives: 61.0000\n",
            "Epoch 85/200\n",
            "44/44 [==============================] - 1s 14ms/step - loss: 0.6484 - Accuracy: 0.7500 - false_negatives: 102.0000 - false_positives: 65.0000 - true_negatives: 979.0000 - true_positives: 246.0000 - val_loss: 0.8880 - val_Accuracy: 0.7045 - val_false_negatives: 30.0000 - val_false_positives: 23.0000 - val_true_negatives: 241.0000 - val_true_positives: 58.0000\n",
            "Epoch 86/200\n",
            "44/44 [==============================] - 1s 15ms/step - loss: 0.6800 - Accuracy: 0.7586 - false_negatives: 102.0000 - false_positives: 66.0000 - true_negatives: 978.0000 - true_positives: 246.0000 - val_loss: 0.8439 - val_Accuracy: 0.6818 - val_false_negatives: 33.0000 - val_false_positives: 21.0000 - val_true_negatives: 243.0000 - val_true_positives: 55.0000\n",
            "Epoch 87/200\n",
            "44/44 [==============================] - 1s 14ms/step - loss: 0.6657 - Accuracy: 0.7385 - false_negatives: 108.0000 - false_positives: 57.0000 - true_negatives: 987.0000 - true_positives: 240.0000 - val_loss: 0.7792 - val_Accuracy: 0.7386 - val_false_negatives: 27.0000 - val_false_positives: 17.0000 - val_true_negatives: 247.0000 - val_true_positives: 61.0000\n",
            "Epoch 88/200\n",
            "44/44 [==============================] - 1s 14ms/step - loss: 0.6417 - Accuracy: 0.7356 - false_negatives: 109.0000 - false_positives: 65.0000 - true_negatives: 979.0000 - true_positives: 239.0000 - val_loss: 0.8135 - val_Accuracy: 0.7386 - val_false_negatives: 25.0000 - val_false_positives: 19.0000 - val_true_negatives: 245.0000 - val_true_positives: 63.0000\n",
            "Epoch 89/200\n",
            "44/44 [==============================] - 1s 15ms/step - loss: 0.6358 - Accuracy: 0.7759 - false_negatives: 95.0000 - false_positives: 61.0000 - true_negatives: 983.0000 - true_positives: 253.0000 - val_loss: 0.8672 - val_Accuracy: 0.7045 - val_false_negatives: 28.0000 - val_false_positives: 19.0000 - val_true_negatives: 245.0000 - val_true_positives: 60.0000\n",
            "Epoch 90/200\n",
            "44/44 [==============================] - 1s 15ms/step - loss: 0.6235 - Accuracy: 0.7701 - false_negatives: 98.0000 - false_positives: 58.0000 - true_negatives: 986.0000 - true_positives: 250.0000 - val_loss: 0.8232 - val_Accuracy: 0.7386 - val_false_negatives: 26.0000 - val_false_positives: 16.0000 - val_true_negatives: 248.0000 - val_true_positives: 62.0000\n",
            "Epoch 91/200\n",
            "44/44 [==============================] - 1s 19ms/step - loss: 0.5852 - Accuracy: 0.7845 - false_negatives: 103.0000 - false_positives: 56.0000 - true_negatives: 988.0000 - true_positives: 245.0000 - val_loss: 0.9048 - val_Accuracy: 0.7273 - val_false_negatives: 29.0000 - val_false_positives: 22.0000 - val_true_negatives: 242.0000 - val_true_positives: 59.0000\n",
            "Epoch 92/200\n",
            "44/44 [==============================] - 1s 14ms/step - loss: 0.5489 - Accuracy: 0.8075 - false_negatives: 89.0000 - false_positives: 51.0000 - true_negatives: 993.0000 - true_positives: 259.0000 - val_loss: 0.8969 - val_Accuracy: 0.7273 - val_false_negatives: 26.0000 - val_false_positives: 19.0000 - val_true_negatives: 245.0000 - val_true_positives: 62.0000\n",
            "Epoch 93/200\n",
            "44/44 [==============================] - 1s 15ms/step - loss: 0.6227 - Accuracy: 0.7644 - false_negatives: 99.0000 - false_positives: 58.0000 - true_negatives: 986.0000 - true_positives: 249.0000 - val_loss: 0.8584 - val_Accuracy: 0.7273 - val_false_negatives: 27.0000 - val_false_positives: 20.0000 - val_true_negatives: 244.0000 - val_true_positives: 61.0000\n",
            "Epoch 94/200\n",
            "44/44 [==============================] - 1s 14ms/step - loss: 0.7436 - Accuracy: 0.7356 - false_negatives: 114.0000 - false_positives: 70.0000 - true_negatives: 974.0000 - true_positives: 234.0000 - val_loss: 0.7632 - val_Accuracy: 0.7500 - val_false_negatives: 25.0000 - val_false_positives: 15.0000 - val_true_negatives: 249.0000 - val_true_positives: 63.0000\n",
            "Epoch 95/200\n",
            "44/44 [==============================] - 1s 22ms/step - loss: 0.6276 - Accuracy: 0.7443 - false_negatives: 100.0000 - false_positives: 63.0000 - true_negatives: 981.0000 - true_positives: 248.0000 - val_loss: 0.8821 - val_Accuracy: 0.7045 - val_false_negatives: 28.0000 - val_false_positives: 22.0000 - val_true_negatives: 242.0000 - val_true_positives: 60.0000\n",
            "Epoch 96/200\n",
            "44/44 [==============================] - 1s 15ms/step - loss: 0.5830 - Accuracy: 0.7730 - false_negatives: 87.0000 - false_positives: 58.0000 - true_negatives: 986.0000 - true_positives: 261.0000 - val_loss: 0.7956 - val_Accuracy: 0.7273 - val_false_negatives: 27.0000 - val_false_positives: 17.0000 - val_true_negatives: 247.0000 - val_true_positives: 61.0000\n",
            "Epoch 97/200\n",
            "44/44 [==============================] - 1s 15ms/step - loss: 0.6135 - Accuracy: 0.7989 - false_negatives: 84.0000 - false_positives: 55.0000 - true_negatives: 989.0000 - true_positives: 264.0000 - val_loss: 0.8085 - val_Accuracy: 0.7273 - val_false_negatives: 27.0000 - val_false_positives: 19.0000 - val_true_negatives: 245.0000 - val_true_positives: 61.0000\n",
            "Epoch 98/200\n",
            "44/44 [==============================] - 1s 15ms/step - loss: 0.5267 - Accuracy: 0.7902 - false_negatives: 88.0000 - false_positives: 58.0000 - true_negatives: 986.0000 - true_positives: 260.0000 - val_loss: 0.7940 - val_Accuracy: 0.7159 - val_false_negatives: 30.0000 - val_false_positives: 19.0000 - val_true_negatives: 245.0000 - val_true_positives: 58.0000\n",
            "Epoch 99/200\n",
            "44/44 [==============================] - 1s 15ms/step - loss: 0.6402 - Accuracy: 0.7385 - false_negatives: 104.0000 - false_positives: 67.0000 - true_negatives: 977.0000 - true_positives: 244.0000 - val_loss: 0.7356 - val_Accuracy: 0.7159 - val_false_negatives: 27.0000 - val_false_positives: 19.0000 - val_true_negatives: 245.0000 - val_true_positives: 61.0000\n",
            "Epoch 100/200\n",
            "44/44 [==============================] - 1s 15ms/step - loss: 0.6004 - Accuracy: 0.7931 - false_negatives: 89.0000 - false_positives: 51.0000 - true_negatives: 993.0000 - true_positives: 259.0000 - val_loss: 0.7081 - val_Accuracy: 0.7386 - val_false_negatives: 25.0000 - val_false_positives: 15.0000 - val_true_negatives: 249.0000 - val_true_positives: 63.0000\n",
            "Epoch 101/200\n",
            "44/44 [==============================] - 1s 15ms/step - loss: 0.5972 - Accuracy: 0.7960 - false_negatives: 82.0000 - false_positives: 48.0000 - true_negatives: 996.0000 - true_positives: 266.0000 - val_loss: 0.8171 - val_Accuracy: 0.6932 - val_false_negatives: 29.0000 - val_false_positives: 23.0000 - val_true_negatives: 241.0000 - val_true_positives: 59.0000\n",
            "Epoch 102/200\n",
            "44/44 [==============================] - 1s 14ms/step - loss: 0.5663 - Accuracy: 0.7672 - false_negatives: 95.0000 - false_positives: 57.0000 - true_negatives: 987.0000 - true_positives: 253.0000 - val_loss: 0.8756 - val_Accuracy: 0.7159 - val_false_negatives: 28.0000 - val_false_positives: 19.0000 - val_true_negatives: 245.0000 - val_true_positives: 60.0000\n",
            "Epoch 103/200\n",
            "44/44 [==============================] - 1s 15ms/step - loss: 0.5704 - Accuracy: 0.7759 - false_negatives: 88.0000 - false_positives: 60.0000 - true_negatives: 984.0000 - true_positives: 260.0000 - val_loss: 0.7792 - val_Accuracy: 0.7045 - val_false_negatives: 28.0000 - val_false_positives: 14.0000 - val_true_negatives: 250.0000 - val_true_positives: 60.0000\n",
            "Epoch 104/200\n",
            "44/44 [==============================] - 1s 14ms/step - loss: 0.5648 - Accuracy: 0.7902 - false_negatives: 95.0000 - false_positives: 57.0000 - true_negatives: 987.0000 - true_positives: 253.0000 - val_loss: 0.8259 - val_Accuracy: 0.7500 - val_false_negatives: 24.0000 - val_false_positives: 20.0000 - val_true_negatives: 244.0000 - val_true_positives: 64.0000\n",
            "Epoch 105/200\n",
            "44/44 [==============================] - 1s 15ms/step - loss: 0.4997 - Accuracy: 0.8218 - false_negatives: 81.0000 - false_positives: 56.0000 - true_negatives: 988.0000 - true_positives: 267.0000 - val_loss: 0.9700 - val_Accuracy: 0.6932 - val_false_negatives: 27.0000 - val_false_positives: 24.0000 - val_true_negatives: 240.0000 - val_true_positives: 61.0000\n",
            "Epoch 106/200\n",
            "44/44 [==============================] - 1s 15ms/step - loss: 0.5743 - Accuracy: 0.7586 - false_negatives: 96.0000 - false_positives: 60.0000 - true_negatives: 984.0000 - true_positives: 252.0000 - val_loss: 0.8567 - val_Accuracy: 0.7500 - val_false_negatives: 23.0000 - val_false_positives: 20.0000 - val_true_negatives: 244.0000 - val_true_positives: 65.0000\n",
            "Epoch 107/200\n",
            "44/44 [==============================] - 1s 14ms/step - loss: 0.5621 - Accuracy: 0.7644 - false_negatives: 93.0000 - false_positives: 61.0000 - true_negatives: 983.0000 - true_positives: 255.0000 - val_loss: 0.8585 - val_Accuracy: 0.7273 - val_false_negatives: 27.0000 - val_false_positives: 21.0000 - val_true_negatives: 243.0000 - val_true_positives: 61.0000\n",
            "Epoch 108/200\n",
            "44/44 [==============================] - 1s 15ms/step - loss: 0.5665 - Accuracy: 0.8075 - false_negatives: 83.0000 - false_positives: 52.0000 - true_negatives: 992.0000 - true_positives: 265.0000 - val_loss: 0.7854 - val_Accuracy: 0.7500 - val_false_negatives: 27.0000 - val_false_positives: 17.0000 - val_true_negatives: 247.0000 - val_true_positives: 61.0000\n",
            "Epoch 109/200\n",
            "44/44 [==============================] - 1s 15ms/step - loss: 0.5829 - Accuracy: 0.7874 - false_negatives: 83.0000 - false_positives: 56.0000 - true_negatives: 988.0000 - true_positives: 265.0000 - val_loss: 0.8499 - val_Accuracy: 0.7273 - val_false_negatives: 27.0000 - val_false_positives: 20.0000 - val_true_negatives: 244.0000 - val_true_positives: 61.0000\n",
            "Epoch 110/200\n",
            "44/44 [==============================] - 1s 15ms/step - loss: 0.5690 - Accuracy: 0.8017 - false_negatives: 93.0000 - false_positives: 55.0000 - true_negatives: 989.0000 - true_positives: 255.0000 - val_loss: 0.8390 - val_Accuracy: 0.7045 - val_false_negatives: 28.0000 - val_false_positives: 19.0000 - val_true_negatives: 245.0000 - val_true_positives: 60.0000\n",
            "Epoch 111/200\n",
            "44/44 [==============================] - 1s 15ms/step - loss: 0.5669 - Accuracy: 0.7845 - false_negatives: 93.0000 - false_positives: 50.0000 - true_negatives: 994.0000 - true_positives: 255.0000 - val_loss: 0.9004 - val_Accuracy: 0.7045 - val_false_negatives: 28.0000 - val_false_positives: 22.0000 - val_true_negatives: 242.0000 - val_true_positives: 60.0000\n",
            "Epoch 112/200\n",
            "44/44 [==============================] - 1s 15ms/step - loss: 0.5250 - Accuracy: 0.7816 - false_negatives: 90.0000 - false_positives: 61.0000 - true_negatives: 983.0000 - true_positives: 258.0000 - val_loss: 0.8366 - val_Accuracy: 0.7727 - val_false_negatives: 23.0000 - val_false_positives: 18.0000 - val_true_negatives: 246.0000 - val_true_positives: 65.0000\n",
            "Epoch 113/200\n",
            "44/44 [==============================] - 1s 15ms/step - loss: 0.5395 - Accuracy: 0.7989 - false_negatives: 85.0000 - false_positives: 52.0000 - true_negatives: 992.0000 - true_positives: 263.0000 - val_loss: 0.7882 - val_Accuracy: 0.7727 - val_false_negatives: 24.0000 - val_false_positives: 17.0000 - val_true_negatives: 247.0000 - val_true_positives: 64.0000\n",
            "Epoch 114/200\n",
            "44/44 [==============================] - 1s 15ms/step - loss: 0.4910 - Accuracy: 0.8103 - false_negatives: 87.0000 - false_positives: 52.0000 - true_negatives: 992.0000 - true_positives: 261.0000 - val_loss: 1.0497 - val_Accuracy: 0.6818 - val_false_negatives: 30.0000 - val_false_positives: 25.0000 - val_true_negatives: 239.0000 - val_true_positives: 58.0000\n",
            "Epoch 115/200\n",
            "44/44 [==============================] - 1s 24ms/step - loss: 0.5385 - Accuracy: 0.7816 - false_negatives: 88.0000 - false_positives: 57.0000 - true_negatives: 987.0000 - true_positives: 260.0000 - val_loss: 0.8603 - val_Accuracy: 0.7045 - val_false_negatives: 27.0000 - val_false_positives: 23.0000 - val_true_negatives: 241.0000 - val_true_positives: 61.0000\n",
            "Epoch 116/200\n",
            "44/44 [==============================] - 1s 15ms/step - loss: 0.5122 - Accuracy: 0.7931 - false_negatives: 89.0000 - false_positives: 53.0000 - true_negatives: 991.0000 - true_positives: 259.0000 - val_loss: 0.9956 - val_Accuracy: 0.7159 - val_false_negatives: 28.0000 - val_false_positives: 21.0000 - val_true_negatives: 243.0000 - val_true_positives: 60.0000\n",
            "Epoch 117/200\n",
            "44/44 [==============================] - 1s 15ms/step - loss: 0.4896 - Accuracy: 0.8075 - false_negatives: 79.0000 - false_positives: 48.0000 - true_negatives: 996.0000 - true_positives: 269.0000 - val_loss: 0.8561 - val_Accuracy: 0.7500 - val_false_negatives: 25.0000 - val_false_positives: 17.0000 - val_true_negatives: 247.0000 - val_true_positives: 63.0000\n",
            "Epoch 118/200\n",
            "44/44 [==============================] - 1s 15ms/step - loss: 0.4874 - Accuracy: 0.8295 - false_negatives: 72.0000 - false_positives: 50.0000 - true_negatives: 1006.0000 - true_positives: 280.0000 - val_loss: 0.9400 - val_Accuracy: 0.7841 - val_false_negatives: 22.0000 - val_false_positives: 17.0000 - val_true_negatives: 247.0000 - val_true_positives: 66.0000\n",
            "Epoch 119/200\n",
            "44/44 [==============================] - 1s 15ms/step - loss: 0.5393 - Accuracy: 0.8017 - false_negatives: 82.0000 - false_positives: 57.0000 - true_negatives: 987.0000 - true_positives: 266.0000 - val_loss: 0.8491 - val_Accuracy: 0.7273 - val_false_negatives: 27.0000 - val_false_positives: 18.0000 - val_true_negatives: 246.0000 - val_true_positives: 61.0000\n",
            "Epoch 120/200\n",
            "44/44 [==============================] - 1s 15ms/step - loss: 0.4533 - Accuracy: 0.8218 - false_negatives: 73.0000 - false_positives: 47.0000 - true_negatives: 997.0000 - true_positives: 275.0000 - val_loss: 0.8919 - val_Accuracy: 0.7273 - val_false_negatives: 27.0000 - val_false_positives: 19.0000 - val_true_negatives: 245.0000 - val_true_positives: 61.0000\n",
            "Epoch 121/200\n",
            "44/44 [==============================] - 1s 15ms/step - loss: 0.4979 - Accuracy: 0.8132 - false_negatives: 76.0000 - false_positives: 48.0000 - true_negatives: 996.0000 - true_positives: 272.0000 - val_loss: 0.8960 - val_Accuracy: 0.7159 - val_false_negatives: 30.0000 - val_false_positives: 21.0000 - val_true_negatives: 243.0000 - val_true_positives: 58.0000\n",
            "Epoch 122/200\n",
            "44/44 [==============================] - 1s 15ms/step - loss: 0.4881 - Accuracy: 0.8247 - false_negatives: 78.0000 - false_positives: 47.0000 - true_negatives: 997.0000 - true_positives: 270.0000 - val_loss: 0.8892 - val_Accuracy: 0.7045 - val_false_negatives: 30.0000 - val_false_positives: 23.0000 - val_true_negatives: 241.0000 - val_true_positives: 58.0000\n",
            "Epoch 123/200\n",
            "44/44 [==============================] - 1s 21ms/step - loss: 0.4431 - Accuracy: 0.8276 - false_negatives: 68.0000 - false_positives: 47.0000 - true_negatives: 997.0000 - true_positives: 280.0000 - val_loss: 0.9261 - val_Accuracy: 0.7273 - val_false_negatives: 26.0000 - val_false_positives: 21.0000 - val_true_negatives: 243.0000 - val_true_positives: 62.0000\n",
            "Epoch 124/200\n",
            "44/44 [==============================] - 1s 15ms/step - loss: 0.4755 - Accuracy: 0.7960 - false_negatives: 81.0000 - false_positives: 52.0000 - true_negatives: 992.0000 - true_positives: 267.0000 - val_loss: 0.8780 - val_Accuracy: 0.7386 - val_false_negatives: 27.0000 - val_false_positives: 19.0000 - val_true_negatives: 245.0000 - val_true_positives: 61.0000\n",
            "Epoch 125/200\n",
            "44/44 [==============================] - 1s 15ms/step - loss: 0.4942 - Accuracy: 0.8190 - false_negatives: 76.0000 - false_positives: 51.0000 - true_negatives: 993.0000 - true_positives: 272.0000 - val_loss: 0.8374 - val_Accuracy: 0.7727 - val_false_negatives: 24.0000 - val_false_positives: 18.0000 - val_true_negatives: 246.0000 - val_true_positives: 64.0000\n",
            "Epoch 126/200\n",
            "44/44 [==============================] - 1s 15ms/step - loss: 0.5330 - Accuracy: 0.8017 - false_negatives: 76.0000 - false_positives: 52.0000 - true_negatives: 992.0000 - true_positives: 272.0000 - val_loss: 0.9408 - val_Accuracy: 0.6932 - val_false_negatives: 30.0000 - val_false_positives: 21.0000 - val_true_negatives: 243.0000 - val_true_positives: 58.0000\n",
            "Epoch 127/200\n",
            "44/44 [==============================] - 1s 15ms/step - loss: 0.5101 - Accuracy: 0.7787 - false_negatives: 88.0000 - false_positives: 57.0000 - true_negatives: 987.0000 - true_positives: 260.0000 - val_loss: 0.8199 - val_Accuracy: 0.7386 - val_false_negatives: 25.0000 - val_false_positives: 17.0000 - val_true_negatives: 247.0000 - val_true_positives: 63.0000\n",
            "Epoch 128/200\n",
            "44/44 [==============================] - 1s 15ms/step - loss: 0.4832 - Accuracy: 0.8132 - false_negatives: 70.0000 - false_positives: 49.0000 - true_negatives: 995.0000 - true_positives: 278.0000 - val_loss: 0.8525 - val_Accuracy: 0.7045 - val_false_negatives: 27.0000 - val_false_positives: 21.0000 - val_true_negatives: 243.0000 - val_true_positives: 61.0000\n",
            "Epoch 129/200\n",
            "44/44 [==============================] - 1s 15ms/step - loss: 0.4576 - Accuracy: 0.8276 - false_negatives: 71.0000 - false_positives: 50.0000 - true_negatives: 994.0000 - true_positives: 277.0000 - val_loss: 0.9735 - val_Accuracy: 0.7159 - val_false_negatives: 29.0000 - val_false_positives: 23.0000 - val_true_negatives: 241.0000 - val_true_positives: 59.0000\n",
            "Epoch 130/200\n",
            "44/44 [==============================] - 1s 15ms/step - loss: 0.4686 - Accuracy: 0.8420 - false_negatives: 68.0000 - false_positives: 46.0000 - true_negatives: 998.0000 - true_positives: 280.0000 - val_loss: 0.8449 - val_Accuracy: 0.7386 - val_false_negatives: 25.0000 - val_false_positives: 19.0000 - val_true_negatives: 245.0000 - val_true_positives: 63.0000\n",
            "Epoch 131/200\n",
            "44/44 [==============================] - 1s 15ms/step - loss: 0.4952 - Accuracy: 0.8017 - false_negatives: 83.0000 - false_positives: 51.0000 - true_negatives: 993.0000 - true_positives: 265.0000 - val_loss: 0.9899 - val_Accuracy: 0.7159 - val_false_negatives: 27.0000 - val_false_positives: 22.0000 - val_true_negatives: 242.0000 - val_true_positives: 61.0000\n",
            "Epoch 132/200\n",
            "44/44 [==============================] - 1s 15ms/step - loss: 0.4803 - Accuracy: 0.8132 - false_negatives: 77.0000 - false_positives: 50.0000 - true_negatives: 994.0000 - true_positives: 271.0000 - val_loss: 1.0676 - val_Accuracy: 0.6818 - val_false_negatives: 30.0000 - val_false_positives: 22.0000 - val_true_negatives: 242.0000 - val_true_positives: 58.0000\n",
            "Epoch 133/200\n",
            "44/44 [==============================] - 1s 15ms/step - loss: 0.4521 - Accuracy: 0.8276 - false_negatives: 74.0000 - false_positives: 48.0000 - true_negatives: 996.0000 - true_positives: 274.0000 - val_loss: 0.8056 - val_Accuracy: 0.7500 - val_false_negatives: 25.0000 - val_false_positives: 19.0000 - val_true_negatives: 245.0000 - val_true_positives: 63.0000\n",
            "Epoch 134/200\n",
            "44/44 [==============================] - 1s 16ms/step - loss: 0.4503 - Accuracy: 0.8333 - false_negatives: 67.0000 - false_positives: 48.0000 - true_negatives: 996.0000 - true_positives: 281.0000 - val_loss: 1.0402 - val_Accuracy: 0.6705 - val_false_negatives: 33.0000 - val_false_positives: 27.0000 - val_true_negatives: 237.0000 - val_true_positives: 55.0000\n",
            "Epoch 135/200\n",
            "44/44 [==============================] - 1s 15ms/step - loss: 0.4708 - Accuracy: 0.8362 - false_negatives: 72.0000 - false_positives: 47.0000 - true_negatives: 997.0000 - true_positives: 276.0000 - val_loss: 0.8707 - val_Accuracy: 0.7045 - val_false_negatives: 29.0000 - val_false_positives: 22.0000 - val_true_negatives: 242.0000 - val_true_positives: 59.0000\n",
            "Epoch 136/200\n",
            "44/44 [==============================] - 1s 15ms/step - loss: 0.4804 - Accuracy: 0.8103 - false_negatives: 75.0000 - false_positives: 52.0000 - true_negatives: 992.0000 - true_positives: 273.0000 - val_loss: 0.7377 - val_Accuracy: 0.7159 - val_false_negatives: 29.0000 - val_false_positives: 15.0000 - val_true_negatives: 249.0000 - val_true_positives: 59.0000\n",
            "Epoch 137/200\n",
            "44/44 [==============================] - 1s 15ms/step - loss: 0.4473 - Accuracy: 0.8391 - false_negatives: 70.0000 - false_positives: 44.0000 - true_negatives: 1000.0000 - true_positives: 278.0000 - val_loss: 1.0067 - val_Accuracy: 0.6932 - val_false_negatives: 28.0000 - val_false_positives: 24.0000 - val_true_negatives: 240.0000 - val_true_positives: 60.0000\n",
            "Epoch 138/200\n",
            "44/44 [==============================] - 1s 15ms/step - loss: 0.4398 - Accuracy: 0.8247 - false_negatives: 67.0000 - false_positives: 50.0000 - true_negatives: 994.0000 - true_positives: 281.0000 - val_loss: 0.9263 - val_Accuracy: 0.7386 - val_false_negatives: 27.0000 - val_false_positives: 21.0000 - val_true_negatives: 243.0000 - val_true_positives: 61.0000\n",
            "Epoch 139/200\n",
            "44/44 [==============================] - 1s 25ms/step - loss: 0.4086 - Accuracy: 0.8218 - false_negatives: 65.0000 - false_positives: 49.0000 - true_negatives: 995.0000 - true_positives: 283.0000 - val_loss: 1.0532 - val_Accuracy: 0.7159 - val_false_negatives: 29.0000 - val_false_positives: 19.0000 - val_true_negatives: 245.0000 - val_true_positives: 59.0000\n",
            "Epoch 140/200\n",
            "44/44 [==============================] - 1s 21ms/step - loss: 0.4948 - Accuracy: 0.8103 - false_negatives: 71.0000 - false_positives: 53.0000 - true_negatives: 991.0000 - true_positives: 277.0000 - val_loss: 0.8690 - val_Accuracy: 0.7500 - val_false_negatives: 25.0000 - val_false_positives: 18.0000 - val_true_negatives: 246.0000 - val_true_positives: 63.0000\n",
            "Epoch 141/200\n",
            "44/44 [==============================] - 1s 15ms/step - loss: 0.4215 - Accuracy: 0.8477 - false_negatives: 61.0000 - false_positives: 47.0000 - true_negatives: 997.0000 - true_positives: 287.0000 - val_loss: 0.8814 - val_Accuracy: 0.7159 - val_false_negatives: 29.0000 - val_false_positives: 22.0000 - val_true_negatives: 242.0000 - val_true_positives: 59.0000\n",
            "Epoch 142/200\n",
            "44/44 [==============================] - 1s 16ms/step - loss: 0.4088 - Accuracy: 0.8506 - false_negatives: 62.0000 - false_positives: 38.0000 - true_negatives: 1006.0000 - true_positives: 286.0000 - val_loss: 0.8687 - val_Accuracy: 0.7273 - val_false_negatives: 25.0000 - val_false_positives: 21.0000 - val_true_negatives: 243.0000 - val_true_positives: 63.0000\n",
            "Epoch 143/200\n",
            "44/44 [==============================] - 1s 15ms/step - loss: 0.4419 - Accuracy: 0.8506 - false_negatives: 62.0000 - false_positives: 39.0000 - true_negatives: 1005.0000 - true_positives: 286.0000 - val_loss: 0.8861 - val_Accuracy: 0.7159 - val_false_negatives: 27.0000 - val_false_positives: 24.0000 - val_true_negatives: 240.0000 - val_true_positives: 61.0000\n",
            "Epoch 144/200\n",
            "44/44 [==============================] - 1s 15ms/step - loss: 0.4888 - Accuracy: 0.8362 - false_negatives: 69.0000 - false_positives: 46.0000 - true_negatives: 998.0000 - true_positives: 279.0000 - val_loss: 0.8296 - val_Accuracy: 0.7159 - val_false_negatives: 28.0000 - val_false_positives: 19.0000 - val_true_negatives: 245.0000 - val_true_positives: 60.0000\n",
            "Epoch 145/200\n",
            "44/44 [==============================] - 1s 15ms/step - loss: 0.4731 - Accuracy: 0.8190 - false_negatives: 72.0000 - false_positives: 47.0000 - true_negatives: 997.0000 - true_positives: 276.0000 - val_loss: 0.9018 - val_Accuracy: 0.6818 - val_false_negatives: 29.0000 - val_false_positives: 21.0000 - val_true_negatives: 243.0000 - val_true_positives: 59.0000\n",
            "Epoch 146/200\n",
            "44/44 [==============================] - 1s 15ms/step - loss: 0.4281 - Accuracy: 0.8448 - false_negatives: 62.0000 - false_positives: 37.0000 - true_negatives: 1007.0000 - true_positives: 286.0000 - val_loss: 0.7977 - val_Accuracy: 0.7386 - val_false_negatives: 25.0000 - val_false_positives: 18.0000 - val_true_negatives: 246.0000 - val_true_positives: 63.0000\n",
            "Epoch 147/200\n",
            "44/44 [==============================] - 1s 15ms/step - loss: 0.4649 - Accuracy: 0.8161 - false_negatives: 69.0000 - false_positives: 55.0000 - true_negatives: 989.0000 - true_positives: 279.0000 - val_loss: 0.9026 - val_Accuracy: 0.7159 - val_false_negatives: 30.0000 - val_false_positives: 20.0000 - val_true_negatives: 244.0000 - val_true_positives: 58.0000\n",
            "Epoch 148/200\n",
            "44/44 [==============================] - 1s 15ms/step - loss: 0.4089 - Accuracy: 0.8391 - false_negatives: 64.0000 - false_positives: 44.0000 - true_negatives: 1000.0000 - true_positives: 284.0000 - val_loss: 0.9202 - val_Accuracy: 0.7045 - val_false_negatives: 27.0000 - val_false_positives: 21.0000 - val_true_negatives: 243.0000 - val_true_positives: 61.0000\n",
            "Epoch 149/200\n",
            "44/44 [==============================] - 1s 15ms/step - loss: 0.4284 - Accuracy: 0.8190 - false_negatives: 68.0000 - false_positives: 51.0000 - true_negatives: 993.0000 - true_positives: 280.0000 - val_loss: 1.1680 - val_Accuracy: 0.6705 - val_false_negatives: 30.0000 - val_false_positives: 26.0000 - val_true_negatives: 238.0000 - val_true_positives: 58.0000\n",
            "Epoch 150/200\n",
            "44/44 [==============================] - 1s 15ms/step - loss: 0.3893 - Accuracy: 0.8333 - false_negatives: 66.0000 - false_positives: 47.0000 - true_negatives: 997.0000 - true_positives: 282.0000 - val_loss: 1.0102 - val_Accuracy: 0.7159 - val_false_negatives: 27.0000 - val_false_positives: 23.0000 - val_true_negatives: 241.0000 - val_true_positives: 61.0000\n",
            "Epoch 151/200\n",
            "44/44 [==============================] - 1s 15ms/step - loss: 0.3657 - Accuracy: 0.8534 - false_negatives: 60.0000 - false_positives: 40.0000 - true_negatives: 1004.0000 - true_positives: 288.0000 - val_loss: 0.9687 - val_Accuracy: 0.6818 - val_false_negatives: 30.0000 - val_false_positives: 24.0000 - val_true_negatives: 240.0000 - val_true_positives: 58.0000\n",
            "Epoch 152/200\n",
            "44/44 [==============================] - 1s 15ms/step - loss: 0.3987 - Accuracy: 0.8391 - false_negatives: 61.0000 - false_positives: 44.0000 - true_negatives: 1000.0000 - true_positives: 287.0000 - val_loss: 1.0323 - val_Accuracy: 0.6705 - val_false_negatives: 29.0000 - val_false_positives: 24.0000 - val_true_negatives: 240.0000 - val_true_positives: 59.0000\n",
            "Epoch 153/200\n",
            "44/44 [==============================] - 1s 15ms/step - loss: 0.4396 - Accuracy: 0.8362 - false_negatives: 60.0000 - false_positives: 48.0000 - true_negatives: 996.0000 - true_positives: 288.0000 - val_loss: 0.8674 - val_Accuracy: 0.7159 - val_false_negatives: 26.0000 - val_false_positives: 22.0000 - val_true_negatives: 242.0000 - val_true_positives: 62.0000\n",
            "Epoch 154/200\n",
            "44/44 [==============================] - 1s 15ms/step - loss: 0.3789 - Accuracy: 0.8506 - false_negatives: 59.0000 - false_positives: 37.0000 - true_negatives: 1007.0000 - true_positives: 289.0000 - val_loss: 0.9262 - val_Accuracy: 0.7273 - val_false_negatives: 26.0000 - val_false_positives: 20.0000 - val_true_negatives: 244.0000 - val_true_positives: 62.0000\n",
            "Epoch 155/200\n",
            "44/44 [==============================] - 1s 15ms/step - loss: 0.4012 - Accuracy: 0.8534 - false_negatives: 53.0000 - false_positives: 43.0000 - true_negatives: 1001.0000 - true_positives: 295.0000 - val_loss: 1.0303 - val_Accuracy: 0.7159 - val_false_negatives: 25.0000 - val_false_positives: 23.0000 - val_true_negatives: 241.0000 - val_true_positives: 63.0000\n",
            "Epoch 156/200\n",
            "44/44 [==============================] - 1s 15ms/step - loss: 0.3908 - Accuracy: 0.8649 - false_negatives: 51.0000 - false_positives: 40.0000 - true_negatives: 1004.0000 - true_positives: 297.0000 - val_loss: 0.9289 - val_Accuracy: 0.6705 - val_false_negatives: 31.0000 - val_false_positives: 25.0000 - val_true_negatives: 239.0000 - val_true_positives: 57.0000\n",
            "Epoch 157/200\n",
            "44/44 [==============================] - 1s 15ms/step - loss: 0.3867 - Accuracy: 0.8333 - false_negatives: 66.0000 - false_positives: 49.0000 - true_negatives: 995.0000 - true_positives: 282.0000 - val_loss: 0.9511 - val_Accuracy: 0.7045 - val_false_negatives: 30.0000 - val_false_positives: 25.0000 - val_true_negatives: 239.0000 - val_true_positives: 58.0000\n",
            "Epoch 158/200\n",
            "44/44 [==============================] - 1s 15ms/step - loss: 0.3979 - Accuracy: 0.8649 - false_negatives: 53.0000 - false_positives: 40.0000 - true_negatives: 1004.0000 - true_positives: 295.0000 - val_loss: 0.9844 - val_Accuracy: 0.7159 - val_false_negatives: 26.0000 - val_false_positives: 24.0000 - val_true_negatives: 240.0000 - val_true_positives: 62.0000\n",
            "Epoch 159/200\n",
            "44/44 [==============================] - 1s 15ms/step - loss: 0.3856 - Accuracy: 0.8420 - false_negatives: 60.0000 - false_positives: 44.0000 - true_negatives: 1000.0000 - true_positives: 288.0000 - val_loss: 1.1552 - val_Accuracy: 0.6023 - val_false_negatives: 37.0000 - val_false_positives: 29.0000 - val_true_negatives: 235.0000 - val_true_positives: 51.0000\n",
            "Epoch 160/200\n",
            "44/44 [==============================] - 1s 16ms/step - loss: 0.3518 - Accuracy: 0.8506 - false_negatives: 56.0000 - false_positives: 44.0000 - true_negatives: 1000.0000 - true_positives: 292.0000 - val_loss: 1.0588 - val_Accuracy: 0.6591 - val_false_negatives: 31.0000 - val_false_positives: 26.0000 - val_true_negatives: 238.0000 - val_true_positives: 57.0000\n",
            "Epoch 161/200\n",
            "44/44 [==============================] - 1s 15ms/step - loss: 0.3767 - Accuracy: 0.8420 - false_negatives: 62.0000 - false_positives: 44.0000 - true_negatives: 1000.0000 - true_positives: 286.0000 - val_loss: 1.0388 - val_Accuracy: 0.7500 - val_false_negatives: 24.0000 - val_false_positives: 20.0000 - val_true_negatives: 244.0000 - val_true_positives: 64.0000\n",
            "Epoch 162/200\n",
            "44/44 [==============================] - 1s 16ms/step - loss: 0.3506 - Accuracy: 0.8707 - false_negatives: 53.0000 - false_positives: 36.0000 - true_negatives: 1008.0000 - true_positives: 295.0000 - val_loss: 0.9347 - val_Accuracy: 0.6932 - val_false_negatives: 27.0000 - val_false_positives: 23.0000 - val_true_negatives: 241.0000 - val_true_positives: 61.0000\n",
            "Epoch 163/200\n",
            "44/44 [==============================] - 1s 15ms/step - loss: 0.3296 - Accuracy: 0.8764 - false_negatives: 50.0000 - false_positives: 36.0000 - true_negatives: 1008.0000 - true_positives: 298.0000 - val_loss: 1.0168 - val_Accuracy: 0.7045 - val_false_negatives: 27.0000 - val_false_positives: 25.0000 - val_true_negatives: 239.0000 - val_true_positives: 61.0000\n",
            "Epoch 164/200\n",
            "44/44 [==============================] - 1s 15ms/step - loss: 0.3842 - Accuracy: 0.8678 - false_negatives: 55.0000 - false_positives: 39.0000 - true_negatives: 1005.0000 - true_positives: 293.0000 - val_loss: 0.9834 - val_Accuracy: 0.6705 - val_false_negatives: 29.0000 - val_false_positives: 24.0000 - val_true_negatives: 240.0000 - val_true_positives: 59.0000\n",
            "Epoch 165/200\n",
            "44/44 [==============================] - 1s 16ms/step - loss: 0.3894 - Accuracy: 0.8736 - false_negatives: 56.0000 - false_positives: 35.0000 - true_negatives: 1009.0000 - true_positives: 292.0000 - val_loss: 1.0815 - val_Accuracy: 0.6705 - val_false_negatives: 32.0000 - val_false_positives: 27.0000 - val_true_negatives: 237.0000 - val_true_positives: 56.0000\n",
            "Epoch 166/200\n",
            "44/44 [==============================] - 1s 15ms/step - loss: 0.3540 - Accuracy: 0.8707 - false_negatives: 58.0000 - false_positives: 43.0000 - true_negatives: 1001.0000 - true_positives: 290.0000 - val_loss: 0.9602 - val_Accuracy: 0.6591 - val_false_negatives: 31.0000 - val_false_positives: 29.0000 - val_true_negatives: 235.0000 - val_true_positives: 57.0000\n",
            "Epoch 167/200\n",
            "44/44 [==============================] - 1s 15ms/step - loss: 0.4324 - Accuracy: 0.8448 - false_negatives: 58.0000 - false_positives: 45.0000 - true_negatives: 999.0000 - true_positives: 290.0000 - val_loss: 0.8923 - val_Accuracy: 0.7159 - val_false_negatives: 26.0000 - val_false_positives: 23.0000 - val_true_negatives: 241.0000 - val_true_positives: 62.0000\n",
            "Epoch 168/200\n",
            "44/44 [==============================] - 1s 15ms/step - loss: 0.3326 - Accuracy: 0.8534 - false_negatives: 58.0000 - false_positives: 44.0000 - true_negatives: 1000.0000 - true_positives: 290.0000 - val_loss: 1.0733 - val_Accuracy: 0.7159 - val_false_negatives: 25.0000 - val_false_positives: 23.0000 - val_true_negatives: 241.0000 - val_true_positives: 63.0000\n",
            "Epoch 169/200\n",
            "44/44 [==============================] - 1s 15ms/step - loss: 0.3116 - Accuracy: 0.8879 - false_negatives: 46.0000 - false_positives: 33.0000 - true_negatives: 1011.0000 - true_positives: 302.0000 - val_loss: 1.1656 - val_Accuracy: 0.6818 - val_false_negatives: 30.0000 - val_false_positives: 26.0000 - val_true_negatives: 238.0000 - val_true_positives: 58.0000\n",
            "Epoch 170/200\n",
            "44/44 [==============================] - 1s 15ms/step - loss: 0.4099 - Accuracy: 0.8333 - false_negatives: 67.0000 - false_positives: 46.0000 - true_negatives: 998.0000 - true_positives: 281.0000 - val_loss: 1.1647 - val_Accuracy: 0.6705 - val_false_negatives: 31.0000 - val_false_positives: 27.0000 - val_true_negatives: 237.0000 - val_true_positives: 57.0000\n",
            "Epoch 171/200\n",
            "44/44 [==============================] - 1s 16ms/step - loss: 0.3434 - Accuracy: 0.8563 - false_negatives: 60.0000 - false_positives: 42.0000 - true_negatives: 1002.0000 - true_positives: 288.0000 - val_loss: 1.0196 - val_Accuracy: 0.7386 - val_false_negatives: 25.0000 - val_false_positives: 20.0000 - val_true_negatives: 244.0000 - val_true_positives: 63.0000\n",
            "Epoch 172/200\n",
            "44/44 [==============================] - 1s 15ms/step - loss: 0.2950 - Accuracy: 0.8908 - false_negatives: 41.0000 - false_positives: 31.0000 - true_negatives: 1013.0000 - true_positives: 307.0000 - val_loss: 1.2129 - val_Accuracy: 0.6591 - val_false_negatives: 32.0000 - val_false_positives: 30.0000 - val_true_negatives: 234.0000 - val_true_positives: 56.0000\n",
            "Epoch 173/200\n",
            "44/44 [==============================] - 1s 15ms/step - loss: 0.2944 - Accuracy: 0.8736 - false_negatives: 47.0000 - false_positives: 39.0000 - true_negatives: 1005.0000 - true_positives: 301.0000 - val_loss: 1.0363 - val_Accuracy: 0.7273 - val_false_negatives: 25.0000 - val_false_positives: 22.0000 - val_true_negatives: 242.0000 - val_true_positives: 63.0000\n",
            "Epoch 174/200\n",
            "44/44 [==============================] - 1s 15ms/step - loss: 0.3279 - Accuracy: 0.8822 - false_negatives: 48.0000 - false_positives: 35.0000 - true_negatives: 1009.0000 - true_positives: 300.0000 - val_loss: 1.0791 - val_Accuracy: 0.6818 - val_false_negatives: 28.0000 - val_false_positives: 23.0000 - val_true_negatives: 241.0000 - val_true_positives: 60.0000\n",
            "Epoch 175/200\n",
            "44/44 [==============================] - 1s 15ms/step - loss: 0.3348 - Accuracy: 0.8736 - false_negatives: 48.0000 - false_positives: 38.0000 - true_negatives: 1006.0000 - true_positives: 300.0000 - val_loss: 0.9965 - val_Accuracy: 0.6818 - val_false_negatives: 32.0000 - val_false_positives: 24.0000 - val_true_negatives: 240.0000 - val_true_positives: 56.0000\n",
            "Epoch 176/200\n",
            "44/44 [==============================] - 1s 16ms/step - loss: 0.3051 - Accuracy: 0.8736 - false_negatives: 48.0000 - false_positives: 38.0000 - true_negatives: 1006.0000 - true_positives: 300.0000 - val_loss: 1.0453 - val_Accuracy: 0.6591 - val_false_negatives: 31.0000 - val_false_positives: 28.0000 - val_true_negatives: 236.0000 - val_true_positives: 57.0000\n",
            "Epoch 177/200\n",
            "44/44 [==============================] - 1s 16ms/step - loss: 0.3088 - Accuracy: 0.8764 - false_negatives: 53.0000 - false_positives: 37.0000 - true_negatives: 1007.0000 - true_positives: 295.0000 - val_loss: 1.1282 - val_Accuracy: 0.7159 - val_false_negatives: 26.0000 - val_false_positives: 23.0000 - val_true_negatives: 241.0000 - val_true_positives: 62.0000\n",
            "Epoch 178/200\n",
            "44/44 [==============================] - 1s 16ms/step - loss: 0.3690 - Accuracy: 0.8580 - false_negatives: 59.0000 - false_positives: 48.0000 - true_negatives: 1008.0000 - true_positives: 293.0000 - val_loss: 1.0365 - val_Accuracy: 0.7045 - val_false_negatives: 26.0000 - val_false_positives: 21.0000 - val_true_negatives: 243.0000 - val_true_positives: 62.0000\n",
            "Epoch 179/200\n",
            "44/44 [==============================] - 1s 16ms/step - loss: 0.3337 - Accuracy: 0.8534 - false_negatives: 53.0000 - false_positives: 39.0000 - true_negatives: 1005.0000 - true_positives: 295.0000 - val_loss: 1.0502 - val_Accuracy: 0.6818 - val_false_negatives: 30.0000 - val_false_positives: 22.0000 - val_true_negatives: 242.0000 - val_true_positives: 58.0000\n",
            "Epoch 180/200\n",
            "44/44 [==============================] - 1s 16ms/step - loss: 0.3568 - Accuracy: 0.8764 - false_negatives: 47.0000 - false_positives: 37.0000 - true_negatives: 1007.0000 - true_positives: 301.0000 - val_loss: 1.2145 - val_Accuracy: 0.6477 - val_false_negatives: 33.0000 - val_false_positives: 28.0000 - val_true_negatives: 236.0000 - val_true_positives: 55.0000\n",
            "Epoch 181/200\n",
            "44/44 [==============================] - 1s 15ms/step - loss: 0.3980 - Accuracy: 0.8592 - false_negatives: 57.0000 - false_positives: 40.0000 - true_negatives: 1004.0000 - true_positives: 291.0000 - val_loss: 0.9271 - val_Accuracy: 0.7500 - val_false_negatives: 25.0000 - val_false_positives: 16.0000 - val_true_negatives: 248.0000 - val_true_positives: 63.0000\n",
            "Epoch 182/200\n",
            "44/44 [==============================] - 1s 15ms/step - loss: 0.3585 - Accuracy: 0.8678 - false_negatives: 59.0000 - false_positives: 40.0000 - true_negatives: 1004.0000 - true_positives: 289.0000 - val_loss: 1.1446 - val_Accuracy: 0.6477 - val_false_negatives: 33.0000 - val_false_positives: 26.0000 - val_true_negatives: 238.0000 - val_true_positives: 55.0000\n",
            "Epoch 183/200\n",
            "44/44 [==============================] - 1s 15ms/step - loss: 0.3195 - Accuracy: 0.8764 - false_negatives: 48.0000 - false_positives: 38.0000 - true_negatives: 1006.0000 - true_positives: 300.0000 - val_loss: 1.2884 - val_Accuracy: 0.6250 - val_false_negatives: 33.0000 - val_false_positives: 32.0000 - val_true_negatives: 232.0000 - val_true_positives: 55.0000\n",
            "Epoch 184/200\n",
            "44/44 [==============================] - 1s 16ms/step - loss: 0.3146 - Accuracy: 0.8937 - false_negatives: 44.0000 - false_positives: 32.0000 - true_negatives: 1012.0000 - true_positives: 304.0000 - val_loss: 1.1688 - val_Accuracy: 0.7159 - val_false_negatives: 25.0000 - val_false_positives: 21.0000 - val_true_negatives: 243.0000 - val_true_positives: 63.0000\n",
            "Epoch 185/200\n",
            "44/44 [==============================] - 1s 15ms/step - loss: 0.3338 - Accuracy: 0.8592 - false_negatives: 56.0000 - false_positives: 39.0000 - true_negatives: 1005.0000 - true_positives: 292.0000 - val_loss: 1.0536 - val_Accuracy: 0.7273 - val_false_negatives: 25.0000 - val_false_positives: 18.0000 - val_true_negatives: 246.0000 - val_true_positives: 63.0000\n",
            "Epoch 186/200\n",
            "44/44 [==============================] - 1s 16ms/step - loss: 0.2850 - Accuracy: 0.8879 - false_negatives: 43.0000 - false_positives: 36.0000 - true_negatives: 1008.0000 - true_positives: 305.0000 - val_loss: 1.0817 - val_Accuracy: 0.7045 - val_false_negatives: 27.0000 - val_false_positives: 24.0000 - val_true_negatives: 240.0000 - val_true_positives: 61.0000\n",
            "Epoch 187/200\n",
            "44/44 [==============================] - 1s 15ms/step - loss: 0.2750 - Accuracy: 0.9023 - false_negatives: 40.0000 - false_positives: 26.0000 - true_negatives: 1018.0000 - true_positives: 308.0000 - val_loss: 1.2707 - val_Accuracy: 0.7045 - val_false_negatives: 26.0000 - val_false_positives: 26.0000 - val_true_negatives: 238.0000 - val_true_positives: 62.0000\n",
            "Epoch 188/200\n",
            "44/44 [==============================] - 1s 15ms/step - loss: 0.3102 - Accuracy: 0.8764 - false_negatives: 50.0000 - false_positives: 35.0000 - true_negatives: 1009.0000 - true_positives: 298.0000 - val_loss: 0.9670 - val_Accuracy: 0.7045 - val_false_negatives: 27.0000 - val_false_positives: 22.0000 - val_true_negatives: 242.0000 - val_true_positives: 61.0000\n",
            "Epoch 189/200\n",
            "44/44 [==============================] - 1s 16ms/step - loss: 0.2613 - Accuracy: 0.9109 - false_negatives: 38.0000 - false_positives: 28.0000 - true_negatives: 1016.0000 - true_positives: 310.0000 - val_loss: 1.1473 - val_Accuracy: 0.6364 - val_false_negatives: 32.0000 - val_false_positives: 30.0000 - val_true_negatives: 234.0000 - val_true_positives: 56.0000\n",
            "Epoch 190/200\n",
            "44/44 [==============================] - 1s 15ms/step - loss: 0.2854 - Accuracy: 0.8879 - false_negatives: 45.0000 - false_positives: 32.0000 - true_negatives: 1012.0000 - true_positives: 303.0000 - val_loss: 1.3728 - val_Accuracy: 0.6364 - val_false_negatives: 32.0000 - val_false_positives: 30.0000 - val_true_negatives: 234.0000 - val_true_positives: 56.0000\n",
            "Epoch 191/200\n",
            "44/44 [==============================] - 1s 16ms/step - loss: 0.3373 - Accuracy: 0.8649 - false_negatives: 51.0000 - false_positives: 37.0000 - true_negatives: 1007.0000 - true_positives: 297.0000 - val_loss: 1.1766 - val_Accuracy: 0.6705 - val_false_negatives: 29.0000 - val_false_positives: 23.0000 - val_true_negatives: 241.0000 - val_true_positives: 59.0000\n",
            "Epoch 192/200\n",
            "44/44 [==============================] - 1s 15ms/step - loss: 0.3021 - Accuracy: 0.8966 - false_negatives: 39.0000 - false_positives: 31.0000 - true_negatives: 1013.0000 - true_positives: 309.0000 - val_loss: 1.0119 - val_Accuracy: 0.6818 - val_false_negatives: 28.0000 - val_false_positives: 24.0000 - val_true_negatives: 240.0000 - val_true_positives: 60.0000\n",
            "Epoch 193/200\n",
            "44/44 [==============================] - 1s 16ms/step - loss: 0.2832 - Accuracy: 0.8937 - false_negatives: 45.0000 - false_positives: 35.0000 - true_negatives: 1009.0000 - true_positives: 303.0000 - val_loss: 1.1254 - val_Accuracy: 0.7273 - val_false_negatives: 24.0000 - val_false_positives: 23.0000 - val_true_negatives: 241.0000 - val_true_positives: 64.0000\n",
            "Epoch 194/200\n",
            "44/44 [==============================] - 1s 16ms/step - loss: 0.2668 - Accuracy: 0.8994 - false_negatives: 42.0000 - false_positives: 27.0000 - true_negatives: 1017.0000 - true_positives: 306.0000 - val_loss: 0.9469 - val_Accuracy: 0.7273 - val_false_negatives: 25.0000 - val_false_positives: 21.0000 - val_true_negatives: 243.0000 - val_true_positives: 63.0000\n",
            "Epoch 195/200\n",
            "44/44 [==============================] - 1s 16ms/step - loss: 0.2642 - Accuracy: 0.8707 - false_negatives: 50.0000 - false_positives: 39.0000 - true_negatives: 1005.0000 - true_positives: 298.0000 - val_loss: 1.0186 - val_Accuracy: 0.7386 - val_false_negatives: 25.0000 - val_false_positives: 21.0000 - val_true_negatives: 243.0000 - val_true_positives: 63.0000\n",
            "Epoch 196/200\n",
            "44/44 [==============================] - 1s 15ms/step - loss: 0.2983 - Accuracy: 0.9023 - false_negatives: 36.0000 - false_positives: 28.0000 - true_negatives: 1016.0000 - true_positives: 312.0000 - val_loss: 1.2029 - val_Accuracy: 0.6136 - val_false_negatives: 34.0000 - val_false_positives: 30.0000 - val_true_negatives: 234.0000 - val_true_positives: 54.0000\n",
            "Epoch 197/200\n",
            "44/44 [==============================] - 1s 15ms/step - loss: 0.2716 - Accuracy: 0.8994 - false_negatives: 36.0000 - false_positives: 28.0000 - true_negatives: 1016.0000 - true_positives: 312.0000 - val_loss: 1.2230 - val_Accuracy: 0.7045 - val_false_negatives: 28.0000 - val_false_positives: 26.0000 - val_true_negatives: 238.0000 - val_true_positives: 60.0000\n",
            "Epoch 198/200\n",
            "44/44 [==============================] - 1s 16ms/step - loss: 0.2861 - Accuracy: 0.8879 - false_negatives: 44.0000 - false_positives: 34.0000 - true_negatives: 1010.0000 - true_positives: 304.0000 - val_loss: 1.1555 - val_Accuracy: 0.6705 - val_false_negatives: 31.0000 - val_false_positives: 27.0000 - val_true_negatives: 237.0000 - val_true_positives: 57.0000\n",
            "Epoch 199/200\n",
            "44/44 [==============================] - 1s 16ms/step - loss: 0.2509 - Accuracy: 0.9052 - false_negatives: 39.0000 - false_positives: 29.0000 - true_negatives: 1015.0000 - true_positives: 309.0000 - val_loss: 1.1447 - val_Accuracy: 0.7273 - val_false_negatives: 26.0000 - val_false_positives: 23.0000 - val_true_negatives: 241.0000 - val_true_positives: 62.0000\n",
            "Epoch 200/200\n",
            "44/44 [==============================] - 1s 15ms/step - loss: 0.2902 - Accuracy: 0.8764 - false_negatives: 45.0000 - false_positives: 35.0000 - true_negatives: 1009.0000 - true_positives: 303.0000 - val_loss: 1.3030 - val_Accuracy: 0.6932 - val_false_negatives: 27.0000 - val_false_positives: 24.0000 - val_true_negatives: 240.0000 - val_true_positives: 61.0000\n"
          ]
        }
      ]
    },
    {
      "cell_type": "markdown",
      "source": [
        "Plotting Traning Result"
      ],
      "metadata": {
        "id": "XZSFG8fXqz7c"
      }
    },
    {
      "cell_type": "code",
      "source": [
        "  #plotting\n",
        "  epochs = range(1, len(history.history['loss'])+1)\n",
        "  plt.title(f\"Grafik loss training iterasi {iterasi}\")\n",
        "  plt.plot(epochs, history.history['loss'], 'r', label='Training Loss')\n",
        "  plt.plot(epochs, history.history['val_loss'], 'b', label='Validation Loss')    \n",
        "  plt.xlabel(\"Epoch\")\n",
        "  plt.ylabel(\"Loss\")\n",
        "  plt.legend()\n",
        "  plt.show()\n"
      ],
      "metadata": {
        "id": "3dXbDrJpY1NK",
        "colab": {
          "base_uri": "https://localhost:8080/",
          "height": 295
        },
        "outputId": "0e552a1e-25fe-46f5-aa89-6fa0c3296d46"
      },
      "execution_count": 12,
      "outputs": [
        {
          "output_type": "display_data",
          "data": {
            "text/plain": [
              "<Figure size 432x288 with 1 Axes>"
            ],
            "image/png": "[encoded data removed]"
          },
          "metadata": {
            "needs_background": "light"
          }
        }
      ]
    },
    {
      "cell_type": "code",
      "source": [
        "  #plotting\n",
        "  epochs = range(1, len(history.history['loss'])+1)\n",
        "  plt.title(f\"Grafik Akurasi training iterasi {iterasi}\")\n",
        "  plt.plot(epochs, history.history['Accuracy'], 'r', label='Training Accuracy')\n",
        "  plt.plot(epochs, history.history['val_Accuracy'], 'b', label='Validation Accuracy')    \n",
        "  plt.xlabel(\"Epoch\")\n",
        "  plt.ylabel(\"Accuracy\")\n",
        "  plt.legend()\n",
        "  plt.show()"
      ],
      "metadata": {
        "id": "j3xigprPwlSX",
        "colab": {
          "base_uri": "https://localhost:8080/",
          "height": 295
        },
        "outputId": "686bf0ba-35bd-44af-eda7-1d8ea99da25e"
      },
      "execution_count": 13,
      "outputs": [
        {
          "output_type": "display_data",
          "data": {
            "text/plain": [
              "<Figure size 432x288 with 1 Axes>"
            ],
            "image/png": "[encoded data removed]"
          },
          "metadata": {
            "needs_background": "light"
          }
        }
      ]
    },
    {
      "cell_type": "code",
      "source": [
        "import matplotlib.pyplot as plt\n",
        "from sklearn.datasets import make_classification\n",
        "from numpy import mean\n",
        "from sklearn.metrics import confusion_matrix, ConfusionMatrixDisplay, accuracy_score, classification_report, recall_score\n",
        "\n",
        "validation = model.predict(np_image_list_validation)\n",
        "\n",
        "predicted_labels = []\n",
        "correct_labels = []\n",
        "for i in range (len(validation)):\n",
        "  predicted_labels.append(np.argmax(validation[i]))\n",
        "\n",
        "for i in range (len(image_labels_validation)):\n",
        "  correct_labels.append(np.argmax(image_labels_validation[i]))\n",
        "\n",
        "\n",
        "confusion_matrix = confusion_matrix(correct_labels, predicted_labels)\n",
        "disp = ConfusionMatrixDisplay(confusion_matrix=confusion_matrix)  \n",
        "disp.plot()\n",
        "plt.show()\n",
        "print('--------')\n",
        "FP = confusion_matrix.sum(axis=0) - np.diag(confusion_matrix)  \n",
        "FN = confusion_matrix.sum(axis=1) - np.diag(confusion_matrix)\n",
        "TP = np.diag(confusion_matrix)\n",
        "TN = confusion_matrix.sum() - (FP + FN + TP)\n",
        "\n",
        "# Sensitivity, hit rate, recall, or true positive rate\n",
        "TPR = TP/(TP+FN)\n",
        "# Specificity or true negative rate\n",
        "TNR = TN/(TN+FP) \n",
        "# Overall accuracy\n",
        "ACC = (TP+TN)/(TP+FP+FN+TN)\n",
        "\n",
        "print(TP)\n",
        "print(TN)\n",
        "print(FP)\n",
        "print(FN)\n",
        "print('--------')\n",
        "print(ACC)\n",
        "print(TPR)\n",
        "print(TNR)\n",
        "print('--------')\n",
        "\n",
        "TP = sum(TP)\n",
        "TN = sum(TN)\n",
        "FP = sum(FP)\n",
        "FN = sum(FN)\n",
        "\n",
        "# Sensitivity, hit rate, recall, or true positive rate\n",
        "TPR = TP/(TP+FN)\n",
        "# Specificity or true negative rate\n",
        "TNR = TN/(TN+FP) \n",
        "# Overall accuracy\n",
        "ACC = (TP+TN)/(TP+FP+FN+TN)\n",
        "\n",
        "print(TP)\n",
        "print(TN)\n",
        "print(FP)\n",
        "print(FN)\n",
        "print('--------')\n",
        "print(ACC)\n",
        "print(TPR)\n",
        "print(TNR)"
      ],
      "metadata": {
        "colab": {
          "base_uri": "https://localhost:8080/",
          "height": 591
        },
        "id": "y0RigLm76Rpg",
        "outputId": "5fcbf31f-d1d3-4026-8bb3-41ea0c9db310"
      },
      "execution_count": 14,
      "outputs": [
        {
          "output_type": "display_data",
          "data": {
            "text/plain": [
              "<Figure size 432x288 with 2 Axes>"
            ],
            "image/png": "[encoded data removed]"
          },
          "metadata": {
            "needs_background": "light"
          }
        },
        {
          "output_type": "stream",
          "name": "stdout",
          "text": [
            "--------\n",
            "[ 3  4 17 37]\n",
            "[70 68 57 42]\n",
            "[8 7 6 6]\n",
            "[7 9 8 3]\n",
            "--------\n",
            "[0.82954545 0.81818182 0.84090909 0.89772727]\n",
            "[0.3        0.30769231 0.68       0.925     ]\n",
            "[0.8974359  0.90666667 0.9047619  0.875     ]\n",
            "--------\n",
            "61\n",
            "237\n",
            "27\n",
            "27\n",
            "--------\n",
            "0.8465909090909091\n",
            "0.6931818181818182\n",
            "0.8977272727272727\n"
          ]
        }
      ]
    },
    {
      "cell_type": "code",
      "source": [
        "import matplotlib.pyplot as plt\n",
        "from sklearn.datasets import make_classification\n",
        "from numpy import mean\n",
        "from sklearn.metrics import confusion_matrix, ConfusionMatrixDisplay, accuracy_score, classification_report, recall_score\n",
        "\n",
        "test = model.predict(np_image_list_test)\n",
        "\n",
        "predicted_labels = []\n",
        "correct_labels = []\n",
        "for i in range (len(test)):\n",
        "  predicted_labels.append(np.argmax(test[i]))\n",
        "\n",
        "for i in range (len(image_labels_test)):\n",
        "  correct_labels.append(np.argmax(image_labels_test[i]))\n",
        "\n",
        "\n",
        "confusion_matrix = confusion_matrix(correct_labels, predicted_labels)\n",
        "disp = ConfusionMatrixDisplay(confusion_matrix=confusion_matrix)  \n",
        "disp.plot()\n",
        "plt.show()\n",
        "print('--------')\n",
        "FP = confusion_matrix.sum(axis=0) - np.diag(confusion_matrix)  \n",
        "FN = confusion_matrix.sum(axis=1) - np.diag(confusion_matrix)\n",
        "TP = np.diag(confusion_matrix)\n",
        "TN = confusion_matrix.sum() - (FP + FN + TP)\n",
        "\n",
        "# Sensitivity, hit rate, recall, or true positive rate\n",
        "TPR = TP/(TP+FN)\n",
        "# Specificity or true negative rate\n",
        "TNR = TN/(TN+FP) \n",
        "# Overall accuracy\n",
        "ACC = (TP+TN)/(TP+FP+FN+TN)\n",
        "\n",
        "print(TP)\n",
        "print(TN)\n",
        "print(FP)\n",
        "print(FN)\n",
        "print('--------')\n",
        "print(ACC)\n",
        "print(TPR)\n",
        "print(TNR)\n",
        "print('--------')\n",
        "\n",
        "TP = sum(TP)\n",
        "TN = sum(TN)\n",
        "FP = sum(FP)\n",
        "FN = sum(FN)\n",
        "\n",
        "# Sensitivity, hit rate, recall, or true positive rate\n",
        "TPR = TP/(TP+FN)\n",
        "# Specificity or true negative rate\n",
        "TNR = TN/(TN+FP) \n",
        "# Overall accuracy\n",
        "ACC = (TP+TN)/(TP+FP+FN+TN)\n",
        "\n",
        "print(TP)\n",
        "print(TN)\n",
        "print(FP)\n",
        "print(FN)\n",
        "print('--------')\n",
        "print(ACC)\n",
        "print(TPR)\n",
        "print(TNR)"
      ],
      "metadata": {
        "colab": {
          "base_uri": "https://localhost:8080/",
          "height": 591
        },
        "id": "xufCN02P5v4A",
        "outputId": "fd6787df-55cf-47f9-8e1f-5c3c37e26abd"
      },
      "execution_count": 15,
      "outputs": [
        {
          "output_type": "display_data",
          "data": {
            "text/plain": [
              "<Figure size 432x288 with 2 Axes>"
            ],
            "image/png": "[encoded data removed]"
          },
          "metadata": {
            "needs_background": "light"
          }
        },
        {
          "output_type": "stream",
          "name": "stdout",
          "text": [
            "--------\n",
            "[ 5  5 12 42]\n",
            "[83 93 66 42]\n",
            "[15  1 12 18]\n",
            "[ 7 11 20  8]\n",
            "--------\n",
            "[0.8        0.89090909 0.70909091 0.76363636]\n",
            "[0.41666667 0.3125     0.375      0.84      ]\n",
            "[0.84693878 0.9893617  0.84615385 0.7       ]\n",
            "--------\n",
            "64\n",
            "284\n",
            "46\n",
            "46\n",
            "--------\n",
            "0.7909090909090909\n",
            "0.5818181818181818\n",
            "0.8606060606060606\n"
          ]
        }
      ]
    },
    {
      "cell_type": "markdown",
      "metadata": {
        "id": "bTgk1-sdzmgy"
      },
      "source": [
        "**Validating** Network"
      ]
    },
    {
      "cell_type": "code",
      "source": [
        "\n"
      ],
      "metadata": {
        "id": "d_NBE4KkWuhu"
      },
      "execution_count": 15,
      "outputs": []
    },
    {
      "cell_type": "markdown",
      "source": [
        "**Testing** Network"
      ],
      "metadata": {
        "id": "saJYjKqX9tRL"
      }
    },
    {
      "cell_type": "code",
      "source": [
        "\n"
      ],
      "metadata": {
        "id": "A7DR52hmTc75"
      },
      "execution_count": 15,
      "outputs": []
    },
    {
      "cell_type": "code",
      "source": [
        "test_img = cv2.imread('/content/Datasets/fold4/Test/apel_sehat/apel_sehat (1).jpg')\n",
        "\n",
        "plt.imshow(test_img)\n",
        "test_img = test_img / 255\n",
        "test_img = np.expand_dims(test_img, axis=0)\n",
        "pr=model.predict(test_img)\n",
        "\n",
        "print(pr)\n",
        "output = label_binarizer.inverse_transform(pr)\n",
        "print(output)"
      ],
      "metadata": {
        "colab": {
          "base_uri": "https://localhost:8080/",
          "height": 303
        },
        "id": "zkMI6CwJArvo",
        "outputId": "d9e86331-5b2f-4dbc-9d60-b580af87a31e"
      },
      "execution_count": 16,
      "outputs": [
        {
          "output_type": "stream",
          "name": "stdout",
          "text": [
            "[[1.2505497e-03 1.9622581e-05 6.1177411e-03 9.9261218e-01]]\n",
            "['apel_sehat']\n"
          ]
        },
        {
          "output_type": "display_data",
          "data": {
            "text/plain": [
              "<Figure size 432x288 with 1 Axes>"
            ],
            "image/png": "[encoded data removed]"
          },
          "metadata": {
            "needs_background": "light"
          }
        }
      ]
    },
    {
      "cell_type": "code",
      "source": [
        "# save the model to disk\n",
        "#print(\"[INFO] Saving model...\")\n",
        "#pickle.dump(model,open('cnn_model.pkl', 'wb'))\n",
        "#model.save('/content/fold1.h5')"
      ],
      "metadata": {
        "id": "Wr_b8qBuCAIS"
      },
      "execution_count": 17,
      "outputs": []
    }
  ]
}