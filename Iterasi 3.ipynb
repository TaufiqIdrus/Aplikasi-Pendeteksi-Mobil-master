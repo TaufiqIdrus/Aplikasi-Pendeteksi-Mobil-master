{
  "nbformat": 4,
  "nbformat_minor": 0,
  "metadata": {
    "accelerator": "GPU",
    "colab": {
      "name": "Kodingan Skripsi 3",
      "provenance": [],
      "collapsed_sections": [],
      "include_colab_link": true
    },
    "kernelspec": {
      "display_name": "Python 3",
      "language": "python",
      "name": "python3"
    },
    "language_info": {
      "codemirror_mode": {
        "name": "ipython",
        "version": 3
      },
      "file_extension": ".py",
      "mimetype": "text/x-python",
      "name": "python",
      "nbconvert_exporter": "python",
      "pygments_lexer": "ipython3",
      "version": "3.6.6"
    }
  },
  "cells": [
    {
      "cell_type": "markdown",
      "metadata": {
        "id": "view-in-github",
        "colab_type": "text"
      },
      "source": [
        "<a href=\"https://colab.research.google.com/github/TaufiqIdrus/Aplikasi-Pendeteksi-Mobil-master/blob/master/Iterasi%203.ipynb\" target=\"_parent\"><img src=\"https://colab.research.google.com/assets/colab-badge.svg\" alt=\"Open In Colab\"/></a>"
      ]
    },
    {
      "cell_type": "markdown",
      "metadata": {
        "id": "yJT_kQA2lITS"
      },
      "source": [
        "**Identifikasi Penyakit Pada Tanaman Apel menggunakan Convolutional Neural Network**"
      ]
    },
    {
      "cell_type": "code",
      "metadata": {
        "id": "xXeOaYTUzmgT"
      },
      "source": [
        "import numpy as np\n",
        "import pickle\n",
        "import os\n",
        "import cv2\n",
        "import tensorflow as tf\n",
        "import keras\n",
        "from os import listdir\n",
        "from sklearn.preprocessing import LabelBinarizer\n",
        "from sklearn.model_selection import KFold\n",
        "from keras.models import Sequential\n",
        "from keras.layers.normalization import batch_normalization\n",
        "from keras.layers.convolutional import Conv2D\n",
        "from keras.layers.convolutional import MaxPooling2D\n",
        "from keras.layers.core import Activation, Flatten, Dropout, Dense\n",
        "from keras import backend as K\n",
        "from tensorflow.keras.optimizers import Adam\n",
        "from keras.preprocessing import image\n",
        "from sklearn.preprocessing import MultiLabelBinarizer\n",
        "from sklearn.model_selection import train_test_split\n",
        "import matplotlib.pyplot as plt\n",
        "from sklearn.datasets import make_classification\n",
        "from numpy import mean\n",
        "from sklearn.metrics import confusion_matrix, ConfusionMatrixDisplay, accuracy_score, classification_report, recall_score\n"
      ],
      "execution_count": null,
      "outputs": []
    },
    {
      "cell_type": "markdown",
      "metadata": {
        "id": "fp8C0d28lQok"
      },
      "source": [
        "Importing and Preparing Dataset"
      ]
    },
    {
      "cell_type": "code",
      "metadata": {
        "id": "_0xehllADlUs",
        "colab": {
          "base_uri": "https://localhost:8080/"
        },
        "outputId": "6bcba7fb-2941-41ba-e0d2-1f346a4b1e45"
      },
      "source": [
        "!pip install pyunpack\n",
        "!pip install patool\n",
        "from pyunpack import Archive\n",
        "Archive('/content/Fold 3.rar').extractall('/content/Datasets/')\n",
        "iterasi = 3\n",
        "width=256\n",
        "height=256\n",
        "default_image_size = tuple((height, width))\n",
        "directory_root_train = '/content/Datasets/Fold 3/Train'\n",
        "directory_root_validation = '/content/Datasets/Fold 3/Validation'\n",
        "directory_root_test = '/content/Datasets/Fold 3/Test'\n",
        "image_size = 0\n",
        "depth=3"
      ],
      "execution_count": null,
      "outputs": [
        {
          "output_type": "stream",
          "name": "stdout",
          "text": [
            "Collecting pyunpack\n",
            "  Downloading pyunpack-0.2.2-py2.py3-none-any.whl (3.8 kB)\n",
            "Collecting entrypoint2\n",
            "  Downloading entrypoint2-1.0-py3-none-any.whl (9.8 kB)\n",
            "Collecting easyprocess\n",
            "  Downloading EasyProcess-1.1-py3-none-any.whl (8.7 kB)\n",
            "Installing collected packages: entrypoint2, easyprocess, pyunpack\n",
            "Successfully installed easyprocess-1.1 entrypoint2-1.0 pyunpack-0.2.2\n",
            "Collecting patool\n",
            "  Downloading patool-1.12-py2.py3-none-any.whl (77 kB)\n",
            "\u001b[K     |████████████████████████████████| 77 kB 3.5 MB/s \n",
            "\u001b[?25hInstalling collected packages: patool\n",
            "Successfully installed patool-1.12\n"
          ]
        }
      ]
    },
    {
      "cell_type": "code",
      "metadata": {
        "id": "KbAwJJTpzmge"
      },
      "source": [
        "def convert_image_to_array(image_dir):\n",
        "    try:\n",
        "        image = cv2.imread(image_dir)\n",
        "        if image is not None :\n",
        "            image = cv2.resize(image, default_image_size)   \n",
        "            return keras.preprocessing.image.img_to_array(image)\n",
        "        else :\n",
        "            return np.array([])\n",
        "    except Exception as e:\n",
        "        print(f\"Error : {e}\")\n",
        "        return None"
      ],
      "execution_count": null,
      "outputs": []
    },
    {
      "cell_type": "markdown",
      "source": [
        "Converting **Training** Data to Array"
      ],
      "metadata": {
        "id": "bgXxUMO2cI_D"
      }
    },
    {
      "cell_type": "code",
      "metadata": {
        "id": "Erz6IjKXzmgg",
        "colab": {
          "base_uri": "https://localhost:8080/"
        },
        "outputId": "1358fa6f-22da-4226-dfaa-795244437d4a"
      },
      "source": [
        "image_list_train, label_list_train = [], []\n",
        "try:\n",
        "    print(\"[INFO] Loading images ...\")\n",
        "    root_dir = listdir(directory_root_train)\n",
        "\n",
        "    for plant_disease_folder in root_dir:\n",
        "        print(f\"[INFO] Processing {plant_disease_folder} ...\")\n",
        "        plant_disease_image_list = listdir(f\"{directory_root_train}/{plant_disease_folder}/\")\n",
        "      \n",
        "        for image in plant_disease_image_list:\n",
        "            image_directory = f\"{directory_root_train}/{plant_disease_folder}/{image}\"\n",
        "\n",
        "            if image_directory.endswith(\".jpg\") == True or image_directory.endswith(\".JPG\") == True:\n",
        "                image_list_train.append(convert_image_to_array(image_directory))\n",
        "                label_list_train.append(plant_disease_folder)\n",
        "    print(\"[INFO] Image loading completed\")\n",
        "\n",
        "except Exception as e:\n",
        "    print(f\"Error : {e}\")\n",
        "\n",
        "#image labeling\n",
        "image_size = len(image_list_train)\n",
        "label_binarizer = LabelBinarizer()\n",
        "image_labels_train = label_binarizer.fit_transform(label_list_train)\n",
        "pickle.dump(label_binarizer,open('label_transform_train.pkl', 'wb'))\n",
        "n_classes = len(label_binarizer.classes_)\n",
        "np_image_list_train = np.array(image_list_train, dtype=np.float16) / 255.0"
      ],
      "execution_count": null,
      "outputs": [
        {
          "output_type": "stream",
          "name": "stdout",
          "text": [
            "[INFO] Loading images ...\n",
            "[INFO] Processing Apple___Black_rot ...\n",
            "[INFO] Processing Apple___Cedar_apple_rust ...\n",
            "[INFO] Processing Apple___healthy ...\n",
            "[INFO] Processing Apple___Apple_scab ...\n",
            "[INFO] Image loading completed\n"
          ]
        }
      ]
    },
    {
      "cell_type": "markdown",
      "source": [
        "Converting **Validation** Data to Array"
      ],
      "metadata": {
        "id": "7eEMGiqRd_E4"
      }
    },
    {
      "cell_type": "code",
      "source": [
        "image_list_validation, label_list_validation = [], []\n",
        "try:\n",
        "    print(\"[INFO] Loading images ...\")\n",
        "    root_dir = listdir(directory_root_validation)\n",
        "\n",
        "    for plant_disease_folder in root_dir:\n",
        "        print(f\"[INFO] Processing {plant_disease_folder} ...\")\n",
        "        plant_disease_image_list = listdir(f\"{directory_root_validation}/{plant_disease_folder}/\")\n",
        "      \n",
        "        for image in plant_disease_image_list:\n",
        "            image_directory = f\"{directory_root_validation}/{plant_disease_folder}/{image}\"\n",
        "\n",
        "            if image_directory.endswith(\".jpg\") == True or image_directory.endswith(\".JPG\") == True:\n",
        "                image_list_validation.append(convert_image_to_array(image_directory))\n",
        "                label_list_validation.append(plant_disease_folder)\n",
        "    print(\"[INFO] Image loading completed\")\n",
        "\n",
        "except Exception as e:\n",
        "    print(f\"Error : {e}\")\n",
        "\n",
        "#image labeling\n",
        "image_size = len(image_list_validation)\n",
        "label_binarizer = LabelBinarizer()\n",
        "image_labels_validation = label_binarizer.fit_transform(label_list_validation)\n",
        "pickle.dump(label_binarizer,open('label_transform_validation.pkl', 'wb'))\n",
        "n_classes = len(label_binarizer.classes_)\n",
        "np_image_list_validation = np.array(image_list_validation, dtype=np.float16) / 255.0"
      ],
      "metadata": {
        "id": "wfHDdR0ZeEuU",
        "colab": {
          "base_uri": "https://localhost:8080/"
        },
        "outputId": "6d26b184-8d3c-4118-817c-e9ea77c06ee4"
      },
      "execution_count": null,
      "outputs": [
        {
          "output_type": "stream",
          "name": "stdout",
          "text": [
            "[INFO] Loading images ...\n",
            "[INFO] Processing Apple___Black_rot ...\n",
            "[INFO] Processing Apple___Cedar_apple_rust ...\n",
            "[INFO] Processing Apple___healthy ...\n",
            "[INFO] Processing Apple___Apple_scab ...\n",
            "[INFO] Image loading completed\n"
          ]
        }
      ]
    },
    {
      "cell_type": "markdown",
      "source": [
        "Converting **Testing** Data to Array"
      ],
      "metadata": {
        "id": "brwWyZVncTdg"
      }
    },
    {
      "cell_type": "code",
      "metadata": {
        "id": "uNPby5UMcaWY",
        "colab": {
          "base_uri": "https://localhost:8080/"
        },
        "outputId": "f2a73f23-7f89-47e3-a2fb-7566091a0892"
      },
      "source": [
        "image_list_test, label_list_test = [], []\n",
        "try:\n",
        "    print(\"[INFO] Loading images ...\")\n",
        "    root_dir = listdir(directory_root_test)\n",
        "\n",
        "    for plant_disease_folder in root_dir:\n",
        "        print(f\"[INFO] Processing {plant_disease_folder} ...\")\n",
        "        plant_disease_image_list = listdir(f\"{directory_root_test}/{plant_disease_folder}/\")\n",
        "      \n",
        "        for image in plant_disease_image_list:\n",
        "            image_directory = f\"{directory_root_test}/{plant_disease_folder}/{image}\"\n",
        "\n",
        "            if image_directory.endswith(\".jpg\") == True or image_directory.endswith(\".JPG\") == True:\n",
        "                image_list_test.append(convert_image_to_array(image_directory))\n",
        "                label_list_test.append(plant_disease_folder)\n",
        "    print(\"[INFO] Image loading completed\")\n",
        "\n",
        "except Exception as e:\n",
        "    print(f\"Error : {e}\")\n",
        "\n",
        "#image labeling\n",
        "image_size = len(image_list_test)\n",
        "label_binarizer = LabelBinarizer()\n",
        "image_labels_test = label_binarizer.fit_transform(label_list_test)\n",
        "pickle.dump(label_binarizer,open('label_transform_test.pkl', 'wb'))\n",
        "n_classes = len(label_binarizer.classes_)\n",
        "np_image_list_test = np.array(image_list_test, dtype=np.float16) / 255.0"
      ],
      "execution_count": null,
      "outputs": [
        {
          "output_type": "stream",
          "name": "stdout",
          "text": [
            "[INFO] Loading images ...\n",
            "[INFO] Processing Apple___Black_rot ...\n",
            "[INFO] Processing Apple___Cedar_apple_rust ...\n",
            "[INFO] Processing Apple___healthy ...\n",
            "[INFO] Processing Apple___Apple_scab ...\n",
            "[INFO] Image loading completed\n"
          ]
        }
      ]
    },
    {
      "cell_type": "markdown",
      "metadata": {
        "id": "jYBTFN0CnAi7"
      },
      "source": [
        "Data Augmenting Initialization"
      ]
    },
    {
      "cell_type": "code",
      "metadata": {
        "id": "TLMxMK2Tzmgr"
      },
      "source": [
        "aug = keras.preprocessing.image.ImageDataGenerator(\n",
        "    rotation_range=25, \n",
        "    width_shift_range=0.1,\n",
        "    height_shift_range=0.1, \n",
        "    shear_range=0.2, \n",
        "    zoom_range=0.2,\n",
        "    horizontal_flip=True, \n",
        "    fill_mode=\"nearest\")"
      ],
      "execution_count": null,
      "outputs": []
    },
    {
      "cell_type": "markdown",
      "metadata": {
        "id": "H1BfRyYNnGv_"
      },
      "source": [
        "Creating CNN Model"
      ]
    },
    {
      "cell_type": "code",
      "metadata": {
        "id": "WmLX4wm8zmgs"
      },
      "source": [
        "model = keras.models.Sequential()\n",
        "inputShape = (height, width, depth)\n",
        "\n",
        "model.add(Conv2D(32, (3, 3), padding=\"same\",input_shape=inputShape))\n",
        "model.add(Activation(\"relu\"))\n",
        "\n",
        "model.add(MaxPooling2D(pool_size=(3, 3)))\n",
        "\n",
        "model.add(Conv2D(64, (3, 3), padding=\"same\"))\n",
        "model.add(Activation(\"relu\"))\n",
        "\n",
        "model.add(MaxPooling2D(pool_size=(3, 3)))\n",
        "\n",
        "model.add(Conv2D(128, (3, 3), padding=\"same\"))\n",
        "model.add(Activation(\"relu\"))\n",
        "\n",
        "model.add(MaxPooling2D(pool_size=(2, 2)))\n",
        "\n",
        "model.add(Conv2D(256, (3, 3), padding=\"same\"))\n",
        "model.add(Activation(\"relu\"))\n",
        "\n",
        "model.add(MaxPooling2D(pool_size=(2, 2)))\n",
        "\n",
        "model.add(Flatten())\n",
        "\n",
        "model.add(Dense(1024))\n",
        "model.add(Activation(\"relu\"))\n",
        "\n",
        "model.add(Dense(n_classes))\n",
        "model.add(Activation(\"softmax\"))"
      ],
      "execution_count": null,
      "outputs": []
    },
    {
      "cell_type": "markdown",
      "metadata": {
        "id": "Zfsu3lVfnXFG"
      },
      "source": [
        "**Training** Network"
      ]
    },
    {
      "cell_type": "code",
      "metadata": {
        "id": "rvwKwe3Lzmgv",
        "colab": {
          "base_uri": "https://localhost:8080/"
        },
        "outputId": "4c0cb293-84ca-4774-c026-73bcc224daed"
      },
      "source": [
        "EPOCHS = 50\n",
        "INIT_LR = 1e-3\n",
        "BS = 32\n",
        "\n",
        "with tf.device('/GPU:0'):\n",
        "  opt = Adam(learning_rate=INIT_LR, decay=INIT_LR / EPOCHS)\n",
        "  model.compile(loss=\"categorical_crossentropy\", optimizer=opt,metrics=[\"Accuracy\", \"FalseNegatives\", \"FalsePositives\", \"TrueNegatives\", \"TruePositives\"])\n",
        "  \n",
        "  history = model.fit(\n",
        "      aug.flow(np_image_list_train, image_labels_train, batch_size=BS),\n",
        "      validation_data=(np_image_list_validation, image_labels_validation),\n",
        "      steps_per_epoch=len(np_image_list_train) // BS,\n",
        "      epochs=EPOCHS, \n",
        "      verbose=1,\n",
        "      )\n"
      ],
      "execution_count": null,
      "outputs": [
        {
          "output_type": "stream",
          "name": "stdout",
          "text": [
            "Epoch 1/50\n",
            "63/63 [==============================] - 42s 493ms/step - loss: 0.9408 - Accuracy: 0.6284 - false_negatives: 1131.0000 - false_positives: 301.0000 - true_negatives: 5690.0000 - true_positives: 866.0000 - val_loss: 0.4717 - val_Accuracy: 0.8225 - val_false_negatives: 96.0000 - val_false_positives: 74.0000 - val_true_negatives: 1447.0000 - val_true_positives: 411.0000\n",
            "Epoch 2/50\n",
            "63/63 [==============================] - 29s 467ms/step - loss: 0.4718 - Accuracy: 0.8207 - false_negatives: 421.0000 - false_positives: 277.0000 - true_negatives: 5714.0000 - true_positives: 1576.0000 - val_loss: 0.6493 - val_Accuracy: 0.7870 - val_false_negatives: 115.0000 - val_false_positives: 99.0000 - val_true_negatives: 1422.0000 - val_true_positives: 392.0000\n",
            "Epoch 3/50\n",
            "63/63 [==============================] - 29s 464ms/step - loss: 0.3714 - Accuracy: 0.8593 - false_negatives: 307.0000 - false_positives: 245.0000 - true_negatives: 5746.0000 - true_positives: 1690.0000 - val_loss: 0.6822 - val_Accuracy: 0.7988 - val_false_negatives: 109.0000 - val_false_positives: 92.0000 - val_true_negatives: 1429.0000 - val_true_positives: 398.0000\n",
            "Epoch 4/50\n",
            "63/63 [==============================] - 30s 471ms/step - loss: 0.2922 - Accuracy: 0.8848 - false_negatives: 256.0000 - false_positives: 198.0000 - true_negatives: 5793.0000 - true_positives: 1741.0000 - val_loss: 0.4234 - val_Accuracy: 0.8521 - val_false_negatives: 78.0000 - val_false_positives: 67.0000 - val_true_negatives: 1454.0000 - val_true_positives: 429.0000\n",
            "Epoch 5/50\n",
            "63/63 [==============================] - 29s 467ms/step - loss: 0.2805 - Accuracy: 0.8973 - false_negatives: 231.0000 - false_positives: 175.0000 - true_negatives: 5816.0000 - true_positives: 1766.0000 - val_loss: 0.6654 - val_Accuracy: 0.8442 - val_false_negatives: 80.0000 - val_false_positives: 78.0000 - val_true_negatives: 1443.0000 - val_true_positives: 427.0000\n",
            "Epoch 6/50\n",
            "63/63 [==============================] - 30s 468ms/step - loss: 0.2701 - Accuracy: 0.8948 - false_negatives: 224.0000 - false_positives: 183.0000 - true_negatives: 5808.0000 - true_positives: 1773.0000 - val_loss: 0.6357 - val_Accuracy: 0.8383 - val_false_negatives: 86.0000 - val_false_positives: 74.0000 - val_true_negatives: 1447.0000 - val_true_positives: 421.0000\n",
            "Epoch 7/50\n",
            "63/63 [==============================] - 29s 464ms/step - loss: 0.2473 - Accuracy: 0.9119 - false_negatives: 195.0000 - false_positives: 162.0000 - true_negatives: 5829.0000 - true_positives: 1802.0000 - val_loss: 0.6951 - val_Accuracy: 0.8264 - val_false_negatives: 92.0000 - val_false_positives: 83.0000 - val_true_negatives: 1438.0000 - val_true_positives: 415.0000\n",
            "Epoch 8/50\n",
            "63/63 [==============================] - 30s 471ms/step - loss: 0.2324 - Accuracy: 0.9159 - false_negatives: 192.0000 - false_positives: 150.0000 - true_negatives: 5841.0000 - true_positives: 1805.0000 - val_loss: 0.7491 - val_Accuracy: 0.8205 - val_false_negatives: 93.0000 - val_false_positives: 88.0000 - val_true_negatives: 1433.0000 - val_true_positives: 414.0000\n",
            "Epoch 9/50\n",
            "63/63 [==============================] - 30s 469ms/step - loss: 0.2326 - Accuracy: 0.9189 - false_negatives: 168.0000 - false_positives: 150.0000 - true_negatives: 5841.0000 - true_positives: 1829.0000 - val_loss: 0.9744 - val_Accuracy: 0.7692 - val_false_negatives: 126.0000 - val_false_positives: 109.0000 - val_true_negatives: 1412.0000 - val_true_positives: 381.0000\n",
            "Epoch 10/50\n",
            "63/63 [==============================] - 29s 464ms/step - loss: 0.1985 - Accuracy: 0.9274 - false_negatives: 158.0000 - false_positives: 129.0000 - true_negatives: 5862.0000 - true_positives: 1839.0000 - val_loss: 0.2747 - val_Accuracy: 0.9132 - val_false_negatives: 45.0000 - val_false_positives: 44.0000 - val_true_negatives: 1477.0000 - val_true_positives: 462.0000\n",
            "Epoch 11/50\n",
            "63/63 [==============================] - 29s 461ms/step - loss: 0.1981 - Accuracy: 0.9284 - false_negatives: 150.0000 - false_positives: 136.0000 - true_negatives: 5855.0000 - true_positives: 1847.0000 - val_loss: 0.2928 - val_Accuracy: 0.9053 - val_false_negatives: 50.0000 - val_false_positives: 47.0000 - val_true_negatives: 1474.0000 - val_true_positives: 457.0000\n",
            "Epoch 12/50\n",
            "63/63 [==============================] - 29s 467ms/step - loss: 0.1752 - Accuracy: 0.9394 - false_negatives: 125.0000 - false_positives: 112.0000 - true_negatives: 5879.0000 - true_positives: 1872.0000 - val_loss: 0.4960 - val_Accuracy: 0.8659 - val_false_negatives: 71.0000 - val_false_positives: 67.0000 - val_true_negatives: 1454.0000 - val_true_positives: 436.0000\n",
            "Epoch 13/50\n",
            "63/63 [==============================] - 30s 470ms/step - loss: 0.1764 - Accuracy: 0.9399 - false_negatives: 127.0000 - false_positives: 118.0000 - true_negatives: 5873.0000 - true_positives: 1870.0000 - val_loss: 0.4773 - val_Accuracy: 0.8659 - val_false_negatives: 68.0000 - val_false_positives: 66.0000 - val_true_negatives: 1455.0000 - val_true_positives: 439.0000\n",
            "Epoch 14/50\n",
            "63/63 [==============================] - 29s 467ms/step - loss: 0.1525 - Accuracy: 0.9429 - false_negatives: 119.0000 - false_positives: 107.0000 - true_negatives: 5884.0000 - true_positives: 1878.0000 - val_loss: 0.1540 - val_Accuracy: 0.9487 - val_false_negatives: 27.0000 - val_false_positives: 25.0000 - val_true_negatives: 1496.0000 - val_true_positives: 480.0000\n",
            "Epoch 15/50\n",
            "63/63 [==============================] - 29s 463ms/step - loss: 0.1788 - Accuracy: 0.9329 - false_negatives: 148.0000 - false_positives: 119.0000 - true_negatives: 5872.0000 - true_positives: 1849.0000 - val_loss: 0.3196 - val_Accuracy: 0.8955 - val_false_negatives: 56.0000 - val_false_positives: 51.0000 - val_true_negatives: 1470.0000 - val_true_positives: 451.0000\n",
            "Epoch 16/50\n",
            "63/63 [==============================] - 30s 471ms/step - loss: 0.1683 - Accuracy: 0.9389 - false_negatives: 129.0000 - false_positives: 113.0000 - true_negatives: 5878.0000 - true_positives: 1868.0000 - val_loss: 0.3202 - val_Accuracy: 0.9073 - val_false_negatives: 49.0000 - val_false_positives: 46.0000 - val_true_negatives: 1475.0000 - val_true_positives: 458.0000\n",
            "Epoch 17/50\n",
            "63/63 [==============================] - 30s 471ms/step - loss: 0.1666 - Accuracy: 0.9379 - false_negatives: 134.0000 - false_positives: 115.0000 - true_negatives: 5876.0000 - true_positives: 1863.0000 - val_loss: 0.4770 - val_Accuracy: 0.8540 - val_false_negatives: 77.0000 - val_false_positives: 69.0000 - val_true_negatives: 1452.0000 - val_true_positives: 430.0000\n",
            "Epoch 18/50\n",
            "63/63 [==============================] - 29s 462ms/step - loss: 0.1353 - Accuracy: 0.9489 - false_negatives: 105.0000 - false_positives: 96.0000 - true_negatives: 5895.0000 - true_positives: 1892.0000 - val_loss: 0.1305 - val_Accuracy: 0.9546 - val_false_negatives: 23.0000 - val_false_positives: 23.0000 - val_true_negatives: 1498.0000 - val_true_positives: 484.0000\n",
            "Epoch 19/50\n",
            "63/63 [==============================] - 29s 467ms/step - loss: 0.1225 - Accuracy: 0.9519 - false_negatives: 99.0000 - false_positives: 91.0000 - true_negatives: 5900.0000 - true_positives: 1898.0000 - val_loss: 0.2917 - val_Accuracy: 0.9053 - val_false_negatives: 50.0000 - val_false_positives: 45.0000 - val_true_negatives: 1476.0000 - val_true_positives: 457.0000\n",
            "Epoch 20/50\n",
            "63/63 [==============================] - 30s 469ms/step - loss: 0.1195 - Accuracy: 0.9514 - false_negatives: 98.0000 - false_positives: 94.0000 - true_negatives: 5897.0000 - true_positives: 1899.0000 - val_loss: 0.3511 - val_Accuracy: 0.9014 - val_false_negatives: 52.0000 - val_false_positives: 50.0000 - val_true_negatives: 1471.0000 - val_true_positives: 455.0000\n",
            "Epoch 21/50\n",
            "63/63 [==============================] - 29s 457ms/step - loss: 0.1197 - Accuracy: 0.9534 - false_negatives: 94.0000 - false_positives: 91.0000 - true_negatives: 5900.0000 - true_positives: 1903.0000 - val_loss: 0.4101 - val_Accuracy: 0.8895 - val_false_negatives: 56.0000 - val_false_positives: 55.0000 - val_true_negatives: 1466.0000 - val_true_positives: 451.0000\n",
            "Epoch 22/50\n",
            "63/63 [==============================] - 29s 457ms/step - loss: 0.1297 - Accuracy: 0.9494 - false_negatives: 103.0000 - false_positives: 98.0000 - true_negatives: 5893.0000 - true_positives: 1894.0000 - val_loss: 0.2034 - val_Accuracy: 0.9408 - val_false_negatives: 33.0000 - val_false_positives: 30.0000 - val_true_negatives: 1491.0000 - val_true_positives: 474.0000\n",
            "Epoch 23/50\n",
            "63/63 [==============================] - 29s 457ms/step - loss: 0.0996 - Accuracy: 0.9634 - false_negatives: 76.0000 - false_positives: 69.0000 - true_negatives: 5922.0000 - true_positives: 1921.0000 - val_loss: 0.4348 - val_Accuracy: 0.8895 - val_false_negatives: 57.0000 - val_false_positives: 54.0000 - val_true_negatives: 1467.0000 - val_true_positives: 450.0000\n",
            "Epoch 24/50\n",
            "63/63 [==============================] - 29s 463ms/step - loss: 0.0971 - Accuracy: 0.9589 - false_negatives: 84.0000 - false_positives: 81.0000 - true_negatives: 5910.0000 - true_positives: 1913.0000 - val_loss: 0.0996 - val_Accuracy: 0.9684 - val_false_negatives: 16.0000 - val_false_positives: 16.0000 - val_true_negatives: 1505.0000 - val_true_positives: 491.0000\n",
            "Epoch 25/50\n",
            "63/63 [==============================] - 29s 462ms/step - loss: 0.1174 - Accuracy: 0.9614 - false_negatives: 82.0000 - false_positives: 73.0000 - true_negatives: 5918.0000 - true_positives: 1915.0000 - val_loss: 0.1582 - val_Accuracy: 0.9428 - val_false_negatives: 29.0000 - val_false_positives: 28.0000 - val_true_negatives: 1493.0000 - val_true_positives: 478.0000\n",
            "Epoch 26/50\n",
            "63/63 [==============================] - 29s 462ms/step - loss: 0.0871 - Accuracy: 0.9700 - false_negatives: 61.0000 - false_positives: 59.0000 - true_negatives: 5932.0000 - true_positives: 1936.0000 - val_loss: 0.4046 - val_Accuracy: 0.8876 - val_false_negatives: 59.0000 - val_false_positives: 55.0000 - val_true_negatives: 1466.0000 - val_true_positives: 448.0000\n",
            "Epoch 27/50\n",
            "63/63 [==============================] - 29s 463ms/step - loss: 0.0881 - Accuracy: 0.9695 - false_negatives: 64.0000 - false_positives: 60.0000 - true_negatives: 5931.0000 - true_positives: 1933.0000 - val_loss: 0.1248 - val_Accuracy: 0.9684 - val_false_negatives: 16.0000 - val_false_positives: 14.0000 - val_true_negatives: 1507.0000 - val_true_positives: 491.0000\n",
            "Epoch 28/50\n",
            "63/63 [==============================] - 29s 468ms/step - loss: 0.0873 - Accuracy: 0.9675 - false_negatives: 69.0000 - false_positives: 61.0000 - true_negatives: 5930.0000 - true_positives: 1928.0000 - val_loss: 0.1584 - val_Accuracy: 0.9586 - val_false_negatives: 22.0000 - val_false_positives: 21.0000 - val_true_negatives: 1500.0000 - val_true_positives: 485.0000\n",
            "Epoch 29/50\n",
            "63/63 [==============================] - 29s 459ms/step - loss: 0.0845 - Accuracy: 0.9740 - false_negatives: 53.0000 - false_positives: 51.0000 - true_negatives: 5940.0000 - true_positives: 1944.0000 - val_loss: 0.2775 - val_Accuracy: 0.9270 - val_false_negatives: 38.0000 - val_false_positives: 35.0000 - val_true_negatives: 1486.0000 - val_true_positives: 469.0000\n",
            "Epoch 30/50\n",
            "63/63 [==============================] - 29s 466ms/step - loss: 0.0593 - Accuracy: 0.9785 - false_negatives: 44.0000 - false_positives: 43.0000 - true_negatives: 5948.0000 - true_positives: 1953.0000 - val_loss: 0.1088 - val_Accuracy: 0.9684 - val_false_negatives: 16.0000 - val_false_positives: 16.0000 - val_true_negatives: 1505.0000 - val_true_positives: 491.0000\n",
            "Epoch 31/50\n",
            "63/63 [==============================] - 31s 486ms/step - loss: 0.0897 - Accuracy: 0.9675 - false_negatives: 66.0000 - false_positives: 60.0000 - true_negatives: 5931.0000 - true_positives: 1931.0000 - val_loss: 0.3020 - val_Accuracy: 0.9093 - val_false_negatives: 48.0000 - val_false_positives: 42.0000 - val_true_negatives: 1479.0000 - val_true_positives: 459.0000\n",
            "Epoch 32/50\n",
            "63/63 [==============================] - 30s 475ms/step - loss: 0.1118 - Accuracy: 0.9564 - false_negatives: 87.0000 - false_positives: 84.0000 - true_negatives: 5907.0000 - true_positives: 1910.0000 - val_loss: 0.1694 - val_Accuracy: 0.9487 - val_false_negatives: 28.0000 - val_false_positives: 26.0000 - val_true_negatives: 1495.0000 - val_true_positives: 479.0000\n",
            "Epoch 33/50\n",
            "63/63 [==============================] - 30s 469ms/step - loss: 0.0845 - Accuracy: 0.9670 - false_negatives: 67.0000 - false_positives: 65.0000 - true_negatives: 5926.0000 - true_positives: 1930.0000 - val_loss: 0.2316 - val_Accuracy: 0.9290 - val_false_negatives: 36.0000 - val_false_positives: 33.0000 - val_true_negatives: 1488.0000 - val_true_positives: 471.0000\n",
            "Epoch 34/50\n",
            "63/63 [==============================] - 30s 477ms/step - loss: 0.0748 - Accuracy: 0.9705 - false_negatives: 61.0000 - false_positives: 56.0000 - true_negatives: 5935.0000 - true_positives: 1936.0000 - val_loss: 0.1308 - val_Accuracy: 0.9566 - val_false_negatives: 23.0000 - val_false_positives: 22.0000 - val_true_negatives: 1499.0000 - val_true_positives: 484.0000\n",
            "Epoch 35/50\n",
            "63/63 [==============================] - 29s 466ms/step - loss: 0.0703 - Accuracy: 0.9735 - false_negatives: 53.0000 - false_positives: 52.0000 - true_negatives: 5939.0000 - true_positives: 1944.0000 - val_loss: 0.1038 - val_Accuracy: 0.9665 - val_false_negatives: 17.0000 - val_false_positives: 17.0000 - val_true_negatives: 1504.0000 - val_true_positives: 490.0000\n",
            "Epoch 36/50\n",
            "63/63 [==============================] - 29s 460ms/step - loss: 0.0487 - Accuracy: 0.9805 - false_negatives: 39.0000 - false_positives: 37.0000 - true_negatives: 5954.0000 - true_positives: 1958.0000 - val_loss: 0.4999 - val_Accuracy: 0.8836 - val_false_negatives: 60.0000 - val_false_positives: 59.0000 - val_true_negatives: 1462.0000 - val_true_positives: 447.0000\n",
            "Epoch 37/50\n",
            "63/63 [==============================] - 29s 459ms/step - loss: 0.0737 - Accuracy: 0.9715 - false_negatives: 58.0000 - false_positives: 56.0000 - true_negatives: 5935.0000 - true_positives: 1939.0000 - val_loss: 0.2567 - val_Accuracy: 0.9369 - val_false_negatives: 32.0000 - val_false_positives: 31.0000 - val_true_negatives: 1490.0000 - val_true_positives: 475.0000\n",
            "Epoch 38/50\n",
            "63/63 [==============================] - 29s 467ms/step - loss: 0.0758 - Accuracy: 0.9725 - false_negatives: 56.0000 - false_positives: 53.0000 - true_negatives: 5938.0000 - true_positives: 1941.0000 - val_loss: 0.1095 - val_Accuracy: 0.9744 - val_false_negatives: 13.0000 - val_false_positives: 13.0000 - val_true_negatives: 1508.0000 - val_true_positives: 494.0000\n",
            "Epoch 39/50\n",
            "63/63 [==============================] - 29s 464ms/step - loss: 0.0517 - Accuracy: 0.9790 - false_negatives: 42.0000 - false_positives: 42.0000 - true_negatives: 5949.0000 - true_positives: 1955.0000 - val_loss: 0.2447 - val_Accuracy: 0.9408 - val_false_negatives: 30.0000 - val_false_positives: 30.0000 - val_true_negatives: 1491.0000 - val_true_positives: 477.0000\n",
            "Epoch 40/50\n",
            "63/63 [==============================] - 29s 462ms/step - loss: 0.0556 - Accuracy: 0.9800 - false_negatives: 40.0000 - false_positives: 40.0000 - true_negatives: 5951.0000 - true_positives: 1957.0000 - val_loss: 0.1040 - val_Accuracy: 0.9606 - val_false_negatives: 21.0000 - val_false_positives: 19.0000 - val_true_negatives: 1502.0000 - val_true_positives: 486.0000\n",
            "Epoch 41/50\n",
            "63/63 [==============================] - 30s 473ms/step - loss: 0.1254 - Accuracy: 0.9564 - false_negatives: 92.0000 - false_positives: 85.0000 - true_negatives: 5906.0000 - true_positives: 1905.0000 - val_loss: 0.1668 - val_Accuracy: 0.9507 - val_false_negatives: 25.0000 - val_false_positives: 24.0000 - val_true_negatives: 1497.0000 - val_true_positives: 482.0000\n",
            "Epoch 42/50\n",
            "63/63 [==============================] - 29s 462ms/step - loss: 0.0541 - Accuracy: 0.9820 - false_negatives: 36.0000 - false_positives: 35.0000 - true_negatives: 5956.0000 - true_positives: 1961.0000 - val_loss: 0.1231 - val_Accuracy: 0.9625 - val_false_negatives: 19.0000 - val_false_positives: 17.0000 - val_true_negatives: 1504.0000 - val_true_positives: 488.0000\n",
            "Epoch 43/50\n",
            "63/63 [==============================] - 29s 456ms/step - loss: 0.0544 - Accuracy: 0.9795 - false_negatives: 41.0000 - false_positives: 40.0000 - true_negatives: 5951.0000 - true_positives: 1956.0000 - val_loss: 0.2273 - val_Accuracy: 0.9507 - val_false_negatives: 25.0000 - val_false_positives: 25.0000 - val_true_negatives: 1496.0000 - val_true_positives: 482.0000\n",
            "Epoch 44/50\n",
            "63/63 [==============================] - 29s 462ms/step - loss: 0.1019 - Accuracy: 0.9619 - false_negatives: 78.0000 - false_positives: 73.0000 - true_negatives: 5918.0000 - true_positives: 1919.0000 - val_loss: 0.2131 - val_Accuracy: 0.9448 - val_false_negatives: 28.0000 - val_false_positives: 27.0000 - val_true_negatives: 1494.0000 - val_true_positives: 479.0000\n",
            "Epoch 45/50\n",
            "63/63 [==============================] - 29s 462ms/step - loss: 0.0846 - Accuracy: 0.9730 - false_negatives: 57.0000 - false_positives: 53.0000 - true_negatives: 5938.0000 - true_positives: 1940.0000 - val_loss: 0.1417 - val_Accuracy: 0.9428 - val_false_negatives: 31.0000 - val_false_positives: 28.0000 - val_true_negatives: 1493.0000 - val_true_positives: 476.0000\n",
            "Epoch 46/50\n",
            "63/63 [==============================] - 29s 455ms/step - loss: 0.0873 - Accuracy: 0.9695 - false_negatives: 63.0000 - false_positives: 59.0000 - true_negatives: 5932.0000 - true_positives: 1934.0000 - val_loss: 0.2781 - val_Accuracy: 0.8974 - val_false_negatives: 52.0000 - val_false_positives: 52.0000 - val_true_negatives: 1469.0000 - val_true_positives: 455.0000\n",
            "Epoch 47/50\n",
            "63/63 [==============================] - 29s 463ms/step - loss: 0.0548 - Accuracy: 0.9770 - false_negatives: 46.0000 - false_positives: 45.0000 - true_negatives: 5946.0000 - true_positives: 1951.0000 - val_loss: 0.2444 - val_Accuracy: 0.9211 - val_false_negatives: 40.0000 - val_false_positives: 40.0000 - val_true_negatives: 1481.0000 - val_true_positives: 467.0000\n",
            "Epoch 48/50\n",
            "63/63 [==============================] - 29s 462ms/step - loss: 0.0568 - Accuracy: 0.9790 - false_negatives: 42.0000 - false_positives: 41.0000 - true_negatives: 5950.0000 - true_positives: 1955.0000 - val_loss: 0.4167 - val_Accuracy: 0.9053 - val_false_negatives: 49.0000 - val_false_positives: 48.0000 - val_true_negatives: 1473.0000 - val_true_positives: 458.0000\n",
            "Epoch 49/50\n",
            "63/63 [==============================] - 29s 458ms/step - loss: 0.0517 - Accuracy: 0.9790 - false_negatives: 43.0000 - false_positives: 42.0000 - true_negatives: 5949.0000 - true_positives: 1954.0000 - val_loss: 0.2137 - val_Accuracy: 0.9329 - val_false_negatives: 34.0000 - val_false_positives: 34.0000 - val_true_negatives: 1487.0000 - val_true_positives: 473.0000\n",
            "Epoch 50/50\n",
            "63/63 [==============================] - 29s 456ms/step - loss: 0.0353 - Accuracy: 0.9865 - false_negatives: 27.0000 - false_positives: 25.0000 - true_negatives: 5966.0000 - true_positives: 1970.0000 - val_loss: 0.0589 - val_Accuracy: 0.9763 - val_false_negatives: 12.0000 - val_false_positives: 12.0000 - val_true_negatives: 1509.0000 - val_true_positives: 495.0000\n"
          ]
        }
      ]
    },
    {
      "cell_type": "markdown",
      "source": [
        "Plotting Traning Result"
      ],
      "metadata": {
        "id": "XZSFG8fXqz7c"
      }
    },
    {
      "cell_type": "code",
      "source": [
        "  #plotting\n",
        "  epochs = range(1, len(history.history['loss'])+1)\n",
        "  plt.title(f\"Grafik loss training iterasi {iterasi}\")\n",
        "  plt.plot(epochs, history.history['loss'], 'r', label='Training Loss')\n",
        "  plt.plot(epochs, history.history['val_loss'], 'b', label='Validation Loss')    \n",
        "  plt.xlabel(\"Epoch\")\n",
        "  plt.ylabel(\"Loss\")\n",
        "  plt.legend()\n",
        "  plt.show()\n"
      ],
      "metadata": {
        "id": "3dXbDrJpY1NK",
        "colab": {
          "base_uri": "https://localhost:8080/",
          "height": 295
        },
        "outputId": "1d4e1557-1fa9-47ca-ea42-12ce59511d23"
      },
      "execution_count": null,
      "outputs": [
        {
          "output_type": "display_data",
          "data": {
            "image/png": "[encoded data removed]",
            "text/plain": [
              "<Figure size 432x288 with 1 Axes>"
            ]
          },
          "metadata": {
            "needs_background": "light"
          }
        }
      ]
    },
    {
      "cell_type": "code",
      "source": [
        "  #plotting\n",
        "  epochs = range(1, len(history.history['loss'])+1)\n",
        "  plt.title(f\"Grafik Akurasi training iterasi {iterasi}\")\n",
        "  plt.plot(epochs, history.history['Accuracy'], 'r', label='Training Accuracy')\n",
        "  plt.plot(epochs, history.history['val_Accuracy'], 'b', label='Validation Accuracy')    \n",
        "  plt.xlabel(\"Epoch\")\n",
        "  plt.ylabel(\"Accuracy\")\n",
        "  plt.legend()\n",
        "  plt.show()"
      ],
      "metadata": {
        "colab": {
          "base_uri": "https://localhost:8080/",
          "height": 295
        },
        "id": "j3xigprPwlSX",
        "outputId": "508a3bc0-ff9b-4a53-9018-03adb4625432"
      },
      "execution_count": null,
      "outputs": [
        {
          "output_type": "display_data",
          "data": {
            "image/png": "[encoded data removed]",
            "text/plain": [
              "<Figure size 432x288 with 1 Axes>"
            ]
          },
          "metadata": {
            "needs_background": "light"
          }
        }
      ]
    },
    {
      "cell_type": "markdown",
      "metadata": {
        "id": "bTgk1-sdzmgy"
      },
      "source": [
        "**Validating** Network"
      ]
    },
    {
      "cell_type": "code",
      "source": [
        "import matplotlib.pyplot as plt\n",
        "from sklearn.datasets import make_classification\n",
        "from numpy import mean\n",
        "from sklearn.metrics import confusion_matrix, ConfusionMatrixDisplay, accuracy_score, classification_report, recall_score\n",
        "\n",
        "validation = model.predict(np_image_list_validation)\n",
        "\n",
        "predicted_labels = []\n",
        "correct_labels = []\n",
        "for i in range (len(validation)):\n",
        "  predicted_labels.append(np.argmax(validation[i]))\n",
        "\n",
        "for i in range (len(image_labels_validation)):\n",
        "  correct_labels.append(np.argmax(image_labels_validation[i]))\n",
        "\n",
        "\n",
        "confusion_matrix = confusion_matrix(correct_labels, predicted_labels)\n",
        "disp = ConfusionMatrixDisplay(confusion_matrix=confusion_matrix)  \n",
        "disp.plot()\n",
        "plt.show()\n",
        "print('--------')\n",
        "FP = confusion_matrix.sum(axis=0) - np.diag(confusion_matrix)  \n",
        "FN = confusion_matrix.sum(axis=1) - np.diag(confusion_matrix)\n",
        "TP = np.diag(confusion_matrix)\n",
        "TN = confusion_matrix.sum() - (FP + FN + TP)\n",
        "\n",
        "# Sensitivity, hit rate, recall, or true positive rate\n",
        "TPR = TP/(TP+FN)\n",
        "# Specificity or true negative rate\n",
        "TNR = TN/(TN+FP) \n",
        "# Overall accuracy\n",
        "ACC = (TP+TN)/(TP+FP+FN+TN)\n",
        "\n",
        "print(TP)\n",
        "print(TN)\n",
        "print(FP)\n",
        "print(FN)\n",
        "print('--------')\n",
        "print(ACC)\n",
        "print(TPR)\n",
        "print(TNR)\n",
        "print('--------')\n",
        "\n",
        "TP = sum(TP)\n",
        "TN = sum(TN)\n",
        "FP = sum(FP)\n",
        "FN = sum(FN)\n",
        "\n",
        "# Sensitivity, hit rate, recall, or true positive rate\n",
        "TPR = TP/(TP+FN)\n",
        "# Specificity or true negative rate\n",
        "TNR = TN/(TN+FP) \n",
        "# Overall accuracy\n",
        "ACC = (TP+TN)/(TP+FP+FN+TN)\n",
        "\n",
        "print(TP)\n",
        "print(TN)\n",
        "print(FP)\n",
        "print(FN)\n",
        "print('--------')\n",
        "print(ACC)\n",
        "print(TPR)\n",
        "print(TNR)\n"
      ],
      "metadata": {
        "colab": {
          "base_uri": "https://localhost:8080/",
          "height": 591
        },
        "id": "z9NBaYvZ61d7",
        "outputId": "61231f07-7b14-4bc6-ab20-ca70df72801c"
      },
      "execution_count": null,
      "outputs": [
        {
          "output_type": "display_data",
          "data": {
            "image/png": "[encoded data removed]",
            "text/plain": [
              "<Figure size 432x288 with 2 Axes>"
            ]
          },
          "metadata": {
            "needs_background": "light"
          }
        },
        {
          "output_type": "stream",
          "name": "stdout",
          "text": [
            "--------\n",
            "[ 94  99  44 258]\n",
            "[401 407 462 239]\n",
            "[5 1 1 5]\n",
            "[7 0 0 5]\n",
            "--------\n",
            "[0.97633136 0.99802761 0.99802761 0.98027613]\n",
            "[0.93069307 1.         1.         0.98098859]\n",
            "[0.98768473 0.99754902 0.99784017 0.9795082 ]\n",
            "--------\n",
            "495\n",
            "1509\n",
            "12\n",
            "12\n",
            "--------\n",
            "0.9881656804733728\n",
            "0.9763313609467456\n",
            "0.9921104536489151\n"
          ]
        }
      ]
    },
    {
      "cell_type": "markdown",
      "source": [
        "**Testing** Network"
      ],
      "metadata": {
        "id": "saJYjKqX9tRL"
      }
    },
    {
      "cell_type": "code",
      "source": [
        "import matplotlib.pyplot as plt\n",
        "from sklearn.datasets import make_classification\n",
        "from numpy import mean\n",
        "from sklearn.metrics import confusion_matrix, ConfusionMatrixDisplay, accuracy_score, classification_report, recall_score\n",
        "\n",
        "test = model.predict(np_image_list_test)\n",
        "\n",
        "predicted_labels = []\n",
        "correct_labels = []\n",
        "for i in range (len(test)):\n",
        "  predicted_labels.append(np.argmax(test[i]))\n",
        "\n",
        "for i in range (len(image_labels_test)):\n",
        "  correct_labels.append(np.argmax(image_labels_test[i]))\n",
        "\n",
        "\n",
        "confusion_matrix = confusion_matrix(correct_labels, predicted_labels)\n",
        "disp = ConfusionMatrixDisplay(confusion_matrix=confusion_matrix)  \n",
        "disp.plot()\n",
        "plt.show()\n",
        "print('--------')\n",
        "FP = confusion_matrix.sum(axis=0) - np.diag(confusion_matrix)  \n",
        "FN = confusion_matrix.sum(axis=1) - np.diag(confusion_matrix)\n",
        "TP = np.diag(confusion_matrix)\n",
        "TN = confusion_matrix.sum() - (FP + FN + TP)\n",
        "\n",
        "# Sensitivity, hit rate, recall, or true positive rate\n",
        "TPR = TP/(TP+FN)\n",
        "# Specificity or true negative rate\n",
        "TNR = TN/(TN+FP) \n",
        "# Overall accuracy\n",
        "ACC = (TP+TN)/(TP+FP+FN+TN)\n",
        "\n",
        "print(TP)\n",
        "print(TN)\n",
        "print(FP)\n",
        "print(FN)\n",
        "print('--------')\n",
        "print(ACC)\n",
        "print(TPR)\n",
        "print(TNR)\n",
        "print('--------')\n",
        "\n",
        "TP = sum(TP)\n",
        "TN = sum(TN)\n",
        "FP = sum(FP)\n",
        "FN = sum(FN)\n",
        "\n",
        "# Sensitivity, hit rate, recall, or true positive rate\n",
        "TPR = TP/(TP+FN)\n",
        "# Specificity or true negative rate\n",
        "TNR = TN/(TN+FP) \n",
        "# Overall accuracy\n",
        "ACC = (TP+TN)/(TP+FP+FN+TN)\n",
        "\n",
        "print(TP)\n",
        "print(TN)\n",
        "print(FP)\n",
        "print(FN)\n",
        "print('--------')\n",
        "print(ACC)\n",
        "print(TPR)\n",
        "print(TNR)"
      ],
      "metadata": {
        "colab": {
          "base_uri": "https://localhost:8080/",
          "height": 591
        },
        "id": "3a1AYdsF4FoY",
        "outputId": "6dc437f3-e3f0-4711-8820-7665747082d4"
      },
      "execution_count": null,
      "outputs": [
        {
          "output_type": "display_data",
          "data": {
            "image/png": "[encoded data removed]",
            "text/plain": [
              "<Figure size 432x288 with 2 Axes>"
            ]
          },
          "metadata": {
            "needs_background": "light"
          }
        },
        {
          "output_type": "stream",
          "name": "stdout",
          "text": [
            "--------\n",
            "[115 122  55 322]\n",
            "[501 508 576 297]\n",
            "[7 2 3 8]\n",
            "[11  2  0  7]\n",
            "--------\n",
            "[0.97160883 0.99369085 0.99526814 0.97634069]\n",
            "[0.91269841 0.98387097 1.         0.9787234 ]\n",
            "[0.98622047 0.99607843 0.99481865 0.97377049]\n",
            "--------\n",
            "614\n",
            "1882\n",
            "20\n",
            "20\n",
            "--------\n",
            "0.9842271293375394\n",
            "0.9684542586750788\n",
            "0.9894847528916929\n"
          ]
        }
      ]
    },
    {
      "cell_type": "code",
      "metadata": {
        "id": "AKd6Tu7mzmg2"
      },
      "source": [
        "# save the model to disk\n",
        "#print(\"[INFO] Saving model...\")\n",
        "# pickle.dump(model,open('cnn_model.pkl', 'wb'))\n",
        "model.save('/content/fold5.h5')    "
      ],
      "execution_count": null,
      "outputs": []
    },
    {
      "cell_type": "code",
      "metadata": {
        "id": "O6iIKa7Jzmg7"
      },
      "source": [
        "#test_img = cv2.imread('/content/datasets/Apple/Apple___Black_rot/0139bc6d-391c-4fd1-bcae-cc74dabfddd7___JR_FrgE.S 2734.JPG')\n",
        "\n",
        "#plt.imshow(test_img)\n",
        "#test_img = test_img / 255\n",
        "#test_img = np.expand_dims(test_img, axis=0)\n",
        "#pr=model.predict(test_img)\n",
        "\n",
        "#print(pr)\n",
        "#output = label_binarizer.inverse_transform(pr)\n",
        "#print(output)\n"
      ],
      "execution_count": null,
      "outputs": []
    }
  ]
}