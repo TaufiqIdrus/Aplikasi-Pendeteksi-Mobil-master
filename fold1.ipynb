{
  "nbformat": 4,
  "nbformat_minor": 0,
  "metadata": {
    "accelerator": "GPU",
    "colab": {
      "name": "Kodingan Skripsi 3",
      "provenance": [],
      "collapsed_sections": [],
      "include_colab_link": true
    },
    "kernelspec": {
      "display_name": "Python 3",
      "language": "python",
      "name": "python3"
    },
    "language_info": {
      "codemirror_mode": {
        "name": "ipython",
        "version": 3
      },
      "file_extension": ".py",
      "mimetype": "text/x-python",
      "name": "python",
      "nbconvert_exporter": "python",
      "pygments_lexer": "ipython3",
      "version": "3.6.6"
    }
  },
  "cells": [
    {
      "cell_type": "markdown",
      "metadata": {
        "id": "view-in-github",
        "colab_type": "text"
      },
      "source": [
        "<a href=\"https://colab.research.google.com/github/TaufiqIdrus/Aplikasi-Pendeteksi-Mobil-master/blob/master/fold1.ipynb\" target=\"_parent\"><img src=\"https://colab.research.google.com/assets/colab-badge.svg\" alt=\"Open In Colab\"/></a>"
      ]
    },
    {
      "cell_type": "markdown",
      "metadata": {
        "id": "yJT_kQA2lITS"
      },
      "source": [
        "**Identifikasi Penyakit Pada Tanaman Apel menggunakan Convolutional Neural Network**"
      ]
    },
    {
      "cell_type": "code",
      "metadata": {
        "id": "xXeOaYTUzmgT"
      },
      "source": [
        "import numpy as np\n",
        "import pickle\n",
        "import os\n",
        "import cv2\n",
        "import tensorflow as tf\n",
        "import keras\n",
        "from os import listdir\n",
        "from sklearn.preprocessing import LabelBinarizer\n",
        "from sklearn.model_selection import KFold\n",
        "from keras.models import Sequential\n",
        "from keras.layers.normalization import batch_normalization\n",
        "from keras.layers.convolutional import Conv2D\n",
        "from keras.layers.convolutional import MaxPooling2D\n",
        "from keras.layers.core import Activation, Flatten, Dropout, Dense\n",
        "from keras import backend as K\n",
        "from tensorflow.keras.optimizers import Adam\n",
        "from keras.preprocessing import image\n",
        "from sklearn.preprocessing import MultiLabelBinarizer\n",
        "from sklearn.model_selection import train_test_split\n",
        "import matplotlib.pyplot as plt\n",
        "from sklearn.datasets import make_classification\n",
        "from numpy import mean\n",
        "from sklearn.metrics import confusion_matrix, ConfusionMatrixDisplay, accuracy_score, classification_report, recall_score\n"
      ],
      "execution_count": 1,
      "outputs": []
    },
    {
      "cell_type": "markdown",
      "metadata": {
        "id": "fp8C0d28lQok"
      },
      "source": [
        "Importing and Preparing Dataset"
      ]
    },
    {
      "cell_type": "code",
      "metadata": {
        "id": "_0xehllADlUs",
        "colab": {
          "base_uri": "https://localhost:8080/"
        },
        "outputId": "480c0359-c05e-4a5c-f257-86119140bccf"
      },
      "source": [
        "!pip install pyunpack\n",
        "!pip install patool\n",
        "from pyunpack import Archive\n",
        "Archive('/content/fold1.rar').extractall('/content/Datasets/')\n",
        "iterasi = 1\n",
        "width=256\n",
        "height=256\n",
        "default_image_size = tuple((height, width))\n",
        "directory_root_train = '/content/Datasets/fold1/Train'\n",
        "directory_root_validation = '/content/Datasets/fold1/Validation'\n",
        "directory_root_test = '/content/Datasets/fold1/Test'\n",
        "image_size = 0\n",
        "depth=3"
      ],
      "execution_count": 2,
      "outputs": [
        {
          "output_type": "stream",
          "name": "stdout",
          "text": [
            "Collecting pyunpack\n",
            "  Downloading pyunpack-0.2.2-py2.py3-none-any.whl (3.8 kB)\n",
            "Collecting easyprocess\n",
            "  Downloading EasyProcess-1.1-py3-none-any.whl (8.7 kB)\n",
            "Collecting entrypoint2\n",
            "  Downloading entrypoint2-1.0-py3-none-any.whl (9.8 kB)\n",
            "Installing collected packages: entrypoint2, easyprocess, pyunpack\n",
            "Successfully installed easyprocess-1.1 entrypoint2-1.0 pyunpack-0.2.2\n",
            "Collecting patool\n",
            "  Downloading patool-1.12-py2.py3-none-any.whl (77 kB)\n",
            "\u001b[K     |████████████████████████████████| 77 kB 4.8 MB/s \n",
            "\u001b[?25hInstalling collected packages: patool\n",
            "Successfully installed patool-1.12\n"
          ]
        }
      ]
    },
    {
      "cell_type": "code",
      "metadata": {
        "id": "KbAwJJTpzmge"
      },
      "source": [
        "def convert_image_to_array(image_dir):\n",
        "    try:\n",
        "        image = cv2.imread(image_dir)\n",
        "        if image is not None :\n",
        "            image = cv2.resize(image, default_image_size)   \n",
        "            return keras.preprocessing.image.img_to_array(image)\n",
        "        else :\n",
        "            return np.array([])\n",
        "    except Exception as e:\n",
        "        print(f\"Error : {e}\")\n",
        "        return None"
      ],
      "execution_count": 3,
      "outputs": []
    },
    {
      "cell_type": "markdown",
      "source": [
        "Converting **Training** Data to Array"
      ],
      "metadata": {
        "id": "bgXxUMO2cI_D"
      }
    },
    {
      "cell_type": "code",
      "metadata": {
        "id": "Erz6IjKXzmgg",
        "colab": {
          "base_uri": "https://localhost:8080/"
        },
        "outputId": "c5b33880-7d2b-454d-d028-695011badba3"
      },
      "source": [
        "image_list_train, label_list_train = [], []\n",
        "try:\n",
        "    print(\"[INFO] Loading images ...\")\n",
        "    root_dir = listdir(directory_root_train)\n",
        "\n",
        "    for plant_disease_folder in root_dir:\n",
        "        print(f\"[INFO] Processing {plant_disease_folder} ...\")\n",
        "        plant_disease_image_list = listdir(f\"{directory_root_train}/{plant_disease_folder}/\")\n",
        "      \n",
        "        for image in plant_disease_image_list:\n",
        "            image_directory = f\"{directory_root_train}/{plant_disease_folder}/{image}\"\n",
        "\n",
        "            if image_directory.endswith(\".jpg\") == True or image_directory.endswith(\".JPG\") == True:\n",
        "                image_list_train.append(convert_image_to_array(image_directory))\n",
        "                label_list_train.append(plant_disease_folder)\n",
        "    print(\"[INFO] Image loading completed\")\n",
        "\n",
        "except Exception as e:\n",
        "    print(f\"Error : {e}\")\n",
        "\n",
        "#image labeling\n",
        "image_size = len(image_list_train)\n",
        "label_binarizer = LabelBinarizer()\n",
        "image_labels_train = label_binarizer.fit_transform(label_list_train)\n",
        "pickle.dump(label_binarizer,open('label_transform_train.pkl', 'wb'))\n",
        "n_classes = len(label_binarizer.classes_)\n",
        "np_image_list_train = np.array(image_list_train, dtype=np.float16) / 255.0"
      ],
      "execution_count": 4,
      "outputs": [
        {
          "output_type": "stream",
          "name": "stdout",
          "text": [
            "[INFO] Loading images ...\n",
            "[INFO] Processing Healthy ...\n",
            "[INFO] Processing Diseased ...\n",
            "[INFO] Image loading completed\n"
          ]
        }
      ]
    },
    {
      "cell_type": "markdown",
      "source": [
        "Converting **Validation** Data to Array"
      ],
      "metadata": {
        "id": "7eEMGiqRd_E4"
      }
    },
    {
      "cell_type": "code",
      "source": [
        "image_list_validation, label_list_validation = [], []\n",
        "try:\n",
        "    print(\"[INFO] Loading images ...\")\n",
        "    root_dir = listdir(directory_root_validation)\n",
        "\n",
        "    for plant_disease_folder in root_dir:\n",
        "        print(f\"[INFO] Processing {plant_disease_folder} ...\")\n",
        "        plant_disease_image_list = listdir(f\"{directory_root_validation}/{plant_disease_folder}/\")\n",
        "      \n",
        "        for image in plant_disease_image_list:\n",
        "            image_directory = f\"{directory_root_validation}/{plant_disease_folder}/{image}\"\n",
        "\n",
        "            if image_directory.endswith(\".jpg\") == True or image_directory.endswith(\".JPG\") == True:\n",
        "                image_list_validation.append(convert_image_to_array(image_directory))\n",
        "                label_list_validation.append(plant_disease_folder)\n",
        "    print(\"[INFO] Image loading completed\")\n",
        "\n",
        "except Exception as e:\n",
        "    print(f\"Error : {e}\")\n",
        "\n",
        "#image labeling\n",
        "image_size = len(image_list_validation)\n",
        "label_binarizer = LabelBinarizer()\n",
        "image_labels_validation = label_binarizer.fit_transform(label_list_validation)\n",
        "pickle.dump(label_binarizer,open('label_transform_validation.pkl', 'wb'))\n",
        "n_classes = len(label_binarizer.classes_)\n",
        "np_image_list_validation = np.array(image_list_validation, dtype=np.float16) / 255.0"
      ],
      "metadata": {
        "id": "wfHDdR0ZeEuU",
        "colab": {
          "base_uri": "https://localhost:8080/"
        },
        "outputId": "3c746e2f-da48-4971-cacf-e6664e75a876"
      },
      "execution_count": 5,
      "outputs": [
        {
          "output_type": "stream",
          "name": "stdout",
          "text": [
            "[INFO] Loading images ...\n",
            "[INFO] Processing Healthy ...\n",
            "[INFO] Processing Diseased ...\n",
            "[INFO] Image loading completed\n"
          ]
        }
      ]
    },
    {
      "cell_type": "markdown",
      "source": [
        "Converting **Testing** Data to Array"
      ],
      "metadata": {
        "id": "brwWyZVncTdg"
      }
    },
    {
      "cell_type": "code",
      "metadata": {
        "id": "uNPby5UMcaWY",
        "colab": {
          "base_uri": "https://localhost:8080/"
        },
        "outputId": "87dc51d1-e70d-4dde-da4d-a21e649292d5"
      },
      "source": [
        "image_list_test, label_list_test = [], []\n",
        "try:\n",
        "    print(\"[INFO] Loading images ...\")\n",
        "    root_dir = listdir(directory_root_test)\n",
        "\n",
        "    for plant_disease_folder in root_dir:\n",
        "        print(f\"[INFO] Processing {plant_disease_folder} ...\")\n",
        "        plant_disease_image_list = listdir(f\"{directory_root_test}/{plant_disease_folder}/\")\n",
        "      \n",
        "        for image in plant_disease_image_list:\n",
        "            image_directory = f\"{directory_root_test}/{plant_disease_folder}/{image}\"\n",
        "\n",
        "            if image_directory.endswith(\".jpg\") == True or image_directory.endswith(\".JPG\") == True:\n",
        "                image_list_test.append(convert_image_to_array(image_directory))\n",
        "                label_list_test.append(plant_disease_folder)\n",
        "    print(\"[INFO] Image loading completed\")\n",
        "\n",
        "except Exception as e:\n",
        "    print(f\"Error : {e}\")\n",
        "\n",
        "#image labeling\n",
        "image_size = len(image_list_test)\n",
        "label_binarizer = LabelBinarizer()\n",
        "image_labels_test = label_binarizer.fit_transform(label_list_test)\n",
        "pickle.dump(label_binarizer,open('label_transform_test.pkl', 'wb'))\n",
        "n_classes = len(label_binarizer.classes_)\n",
        "np_image_list_test = np.array(image_list_test, dtype=np.float16) / 255.0"
      ],
      "execution_count": 6,
      "outputs": [
        {
          "output_type": "stream",
          "name": "stdout",
          "text": [
            "[INFO] Loading images ...\n",
            "[INFO] Processing Healthy ...\n",
            "[INFO] Processing Diseased ...\n",
            "[INFO] Image loading completed\n"
          ]
        }
      ]
    },
    {
      "cell_type": "markdown",
      "metadata": {
        "id": "jYBTFN0CnAi7"
      },
      "source": [
        "Data Augmenting Initialization"
      ]
    },
    {
      "cell_type": "code",
      "metadata": {
        "id": "TLMxMK2Tzmgr"
      },
      "source": [
        "aug = keras.preprocessing.image.ImageDataGenerator(\n",
        "    rotation_range=25, \n",
        "    width_shift_range=0.1,\n",
        "    height_shift_range=0.1, \n",
        "    shear_range=0.2, \n",
        "    zoom_range=0.2,\n",
        "    horizontal_flip=True, \n",
        "    fill_mode=\"nearest\")"
      ],
      "execution_count": 7,
      "outputs": []
    },
    {
      "cell_type": "markdown",
      "metadata": {
        "id": "H1BfRyYNnGv_"
      },
      "source": [
        "Creating CNN Model"
      ]
    },
    {
      "cell_type": "code",
      "metadata": {
        "id": "WmLX4wm8zmgs"
      },
      "source": [
        "model = keras.models.Sequential()\n",
        "inputShape = (height, width, depth)\n",
        "\n",
        "model.add(Conv2D(32, (3, 3), padding=\"same\",input_shape=inputShape))\n",
        "model.add(Activation(\"relu\"))\n",
        "\n",
        "model.add(MaxPooling2D(pool_size=(3, 3)))\n",
        "\n",
        "model.add(Conv2D(64, (3, 3), padding=\"same\"))\n",
        "model.add(Activation(\"relu\"))\n",
        "\n",
        "model.add(MaxPooling2D(pool_size=(3, 3)))\n",
        "\n",
        "model.add(Flatten())\n",
        "\n",
        "model.add(Dense(1024))\n",
        "model.add(Activation(\"relu\"))\n",
        "\n",
        "model.add(Dense(1))\n",
        "model.add(Activation(\"sigmoid\"))"
      ],
      "execution_count": 8,
      "outputs": []
    },
    {
      "cell_type": "code",
      "source": [
        "#from PIL import Image\n",
        "#from keras.utils.vis_utils import plot_model\n",
        "#plot_model(model, to_file='cnn_model.png', show_shapes=True, show_layer_names=True)\n",
        "#display(Image.open('cnn_model.png'))"
      ],
      "metadata": {
        "id": "T05gPuu1GudW"
      },
      "execution_count": 9,
      "outputs": []
    },
    {
      "cell_type": "markdown",
      "metadata": {
        "id": "Zfsu3lVfnXFG"
      },
      "source": [
        "**Training** Network"
      ]
    },
    {
      "cell_type": "code",
      "metadata": {
        "id": "rvwKwe3Lzmgv",
        "colab": {
          "base_uri": "https://localhost:8080/"
        },
        "outputId": "920d4e7f-ae59-4bad-d476-99fffc20037c"
      },
      "source": [
        "EPOCHS = 100\n",
        "INIT_LR = 1e-4\n",
        "BS = 32\n",
        "\n",
        "with tf.device('/GPU:0'):\n",
        "  opt = Adam(learning_rate=INIT_LR, decay=INIT_LR / EPOCHS)\n",
        "  model.compile(loss=\"binary_crossentropy\", optimizer=opt,metrics=[\"Accuracy\", \"FalseNegatives\", \"FalsePositives\", \"TrueNegatives\", \"TruePositives\"])\n",
        "  \n",
        "  history = model.fit(\n",
        "      aug.flow(np_image_list_train, image_labels_train, batch_size=BS),\n",
        "      validation_data=(np_image_list_validation, image_labels_validation),\n",
        "      steps_per_epoch=len(np_image_list_train) // BS,\n",
        "      epochs=EPOCHS, \n",
        "      verbose=1,\n",
        "      )\n"
      ],
      "execution_count": 10,
      "outputs": [
        {
          "output_type": "stream",
          "name": "stdout",
          "text": [
            "Epoch 1/100\n",
            "9/9 [==============================] - 21s 452ms/step - loss: 0.9248 - Accuracy: 0.4653 - false_negatives: 51.0000 - false_positives: 103.0000 - true_negatives: 51.0000 - true_positives: 83.0000 - val_loss: 0.7084 - val_Accuracy: 0.5278 - val_false_negatives: 34.0000 - val_false_positives: 0.0000e+00 - val_true_negatives: 38.0000 - val_true_positives: 0.0000e+00\n",
            "Epoch 2/100\n",
            "9/9 [==============================] - 4s 421ms/step - loss: 0.7919 - Accuracy: 0.5382 - false_negatives: 114.0000 - false_positives: 19.0000 - true_negatives: 135.0000 - true_positives: 20.0000 - val_loss: 0.7649 - val_Accuracy: 0.4722 - val_false_negatives: 0.0000e+00 - val_false_positives: 38.0000 - val_true_negatives: 0.0000e+00 - val_true_positives: 34.0000\n",
            "Epoch 3/100\n",
            "9/9 [==============================] - 4s 422ms/step - loss: 0.7327 - Accuracy: 0.4618 - false_negatives: 50.0000 - false_positives: 105.0000 - true_negatives: 49.0000 - true_positives: 84.0000 - val_loss: 0.6876 - val_Accuracy: 0.5278 - val_false_negatives: 34.0000 - val_false_positives: 0.0000e+00 - val_true_negatives: 38.0000 - val_true_positives: 0.0000e+00\n",
            "Epoch 4/100\n",
            "9/9 [==============================] - 4s 422ms/step - loss: 0.6675 - Accuracy: 0.5521 - false_negatives: 129.0000 - false_positives: 0.0000e+00 - true_negatives: 154.0000 - true_positives: 5.0000 - val_loss: 0.6736 - val_Accuracy: 0.6111 - val_false_negatives: 15.0000 - val_false_positives: 13.0000 - val_true_negatives: 25.0000 - val_true_positives: 19.0000\n",
            "Epoch 5/100\n",
            "9/9 [==============================] - 4s 427ms/step - loss: 0.6530 - Accuracy: 0.5694 - false_negatives: 105.0000 - false_positives: 19.0000 - true_negatives: 135.0000 - true_positives: 29.0000 - val_loss: 0.6592 - val_Accuracy: 0.5417 - val_false_negatives: 33.0000 - val_false_positives: 0.0000e+00 - val_true_negatives: 38.0000 - val_true_positives: 1.0000\n",
            "Epoch 6/100\n",
            "9/9 [==============================] - 4s 425ms/step - loss: 0.6394 - Accuracy: 0.6076 - false_negatives: 86.0000 - false_positives: 27.0000 - true_negatives: 127.0000 - true_positives: 48.0000 - val_loss: 0.6460 - val_Accuracy: 0.6667 - val_false_negatives: 10.0000 - val_false_positives: 14.0000 - val_true_negatives: 24.0000 - val_true_positives: 24.0000\n",
            "Epoch 7/100\n",
            "9/9 [==============================] - 4s 424ms/step - loss: 0.6172 - Accuracy: 0.6806 - false_negatives: 69.0000 - false_positives: 23.0000 - true_negatives: 131.0000 - true_positives: 65.0000 - val_loss: 0.6277 - val_Accuracy: 0.6806 - val_false_negatives: 21.0000 - val_false_positives: 2.0000 - val_true_negatives: 36.0000 - val_true_positives: 13.0000\n",
            "Epoch 8/100\n",
            "9/9 [==============================] - 4s 434ms/step - loss: 0.6110 - Accuracy: 0.6736 - false_negatives: 50.0000 - false_positives: 44.0000 - true_negatives: 110.0000 - true_positives: 84.0000 - val_loss: 0.6316 - val_Accuracy: 0.6667 - val_false_negatives: 0.0000e+00 - val_false_positives: 24.0000 - val_true_negatives: 14.0000 - val_true_positives: 34.0000\n",
            "Epoch 9/100\n",
            "9/9 [==============================] - 4s 420ms/step - loss: 0.6004 - Accuracy: 0.6458 - false_negatives: 67.0000 - false_positives: 35.0000 - true_negatives: 119.0000 - true_positives: 67.0000 - val_loss: 0.6148 - val_Accuracy: 0.7222 - val_false_negatives: 0.0000e+00 - val_false_positives: 20.0000 - val_true_negatives: 18.0000 - val_true_positives: 34.0000\n",
            "Epoch 10/100\n",
            "9/9 [==============================] - 5s 624ms/step - loss: 0.5792 - Accuracy: 0.7083 - false_negatives: 48.0000 - false_positives: 36.0000 - true_negatives: 118.0000 - true_positives: 86.0000 - val_loss: 0.6031 - val_Accuracy: 0.7222 - val_false_negatives: 0.0000e+00 - val_false_positives: 20.0000 - val_true_negatives: 18.0000 - val_true_positives: 34.0000\n",
            "Epoch 11/100\n",
            "9/9 [==============================] - 4s 424ms/step - loss: 0.5611 - Accuracy: 0.7361 - false_negatives: 45.0000 - false_positives: 31.0000 - true_negatives: 123.0000 - true_positives: 89.0000 - val_loss: 0.5890 - val_Accuracy: 0.6944 - val_false_negatives: 1.0000 - val_false_positives: 21.0000 - val_true_negatives: 17.0000 - val_true_positives: 33.0000\n",
            "Epoch 12/100\n",
            "9/9 [==============================] - 4s 432ms/step - loss: 0.5511 - Accuracy: 0.7257 - false_negatives: 46.0000 - false_positives: 33.0000 - true_negatives: 121.0000 - true_positives: 88.0000 - val_loss: 0.5726 - val_Accuracy: 0.6944 - val_false_negatives: 1.0000 - val_false_positives: 21.0000 - val_true_negatives: 17.0000 - val_true_positives: 33.0000\n",
            "Epoch 13/100\n",
            "9/9 [==============================] - 4s 421ms/step - loss: 0.5386 - Accuracy: 0.7465 - false_negatives: 22.0000 - false_positives: 51.0000 - true_negatives: 103.0000 - true_positives: 112.0000 - val_loss: 0.5429 - val_Accuracy: 0.7500 - val_false_negatives: 11.0000 - val_false_positives: 7.0000 - val_true_negatives: 31.0000 - val_true_positives: 23.0000\n",
            "Epoch 14/100\n",
            "9/9 [==============================] - 4s 426ms/step - loss: 0.5518 - Accuracy: 0.7014 - false_negatives: 36.0000 - false_positives: 50.0000 - true_negatives: 104.0000 - true_positives: 98.0000 - val_loss: 0.5646 - val_Accuracy: 0.6944 - val_false_negatives: 1.0000 - val_false_positives: 21.0000 - val_true_negatives: 17.0000 - val_true_positives: 33.0000\n",
            "Epoch 15/100\n",
            "9/9 [==============================] - 4s 422ms/step - loss: 0.5060 - Accuracy: 0.7396 - false_negatives: 52.0000 - false_positives: 23.0000 - true_negatives: 131.0000 - true_positives: 82.0000 - val_loss: 0.5646 - val_Accuracy: 0.6944 - val_false_negatives: 0.0000e+00 - val_false_positives: 22.0000 - val_true_negatives: 16.0000 - val_true_positives: 34.0000\n",
            "Epoch 16/100\n",
            "9/9 [==============================] - 4s 423ms/step - loss: 0.5288 - Accuracy: 0.7083 - false_negatives: 36.0000 - false_positives: 48.0000 - true_negatives: 106.0000 - true_positives: 98.0000 - val_loss: 0.5152 - val_Accuracy: 0.7917 - val_false_negatives: 5.0000 - val_false_positives: 10.0000 - val_true_negatives: 28.0000 - val_true_positives: 29.0000\n",
            "Epoch 17/100\n",
            "9/9 [==============================] - 4s 425ms/step - loss: 0.5191 - Accuracy: 0.7569 - false_negatives: 23.0000 - false_positives: 47.0000 - true_negatives: 107.0000 - true_positives: 111.0000 - val_loss: 0.5106 - val_Accuracy: 0.7917 - val_false_negatives: 5.0000 - val_false_positives: 10.0000 - val_true_negatives: 28.0000 - val_true_positives: 29.0000\n",
            "Epoch 18/100\n",
            "9/9 [==============================] - 4s 423ms/step - loss: 0.4925 - Accuracy: 0.7847 - false_negatives: 29.0000 - false_positives: 33.0000 - true_negatives: 121.0000 - true_positives: 105.0000 - val_loss: 0.5331 - val_Accuracy: 0.7083 - val_false_negatives: 0.0000e+00 - val_false_positives: 21.0000 - val_true_negatives: 17.0000 - val_true_positives: 34.0000\n",
            "Epoch 19/100\n",
            "9/9 [==============================] - 4s 426ms/step - loss: 0.4712 - Accuracy: 0.7778 - false_negatives: 26.0000 - false_positives: 38.0000 - true_negatives: 116.0000 - true_positives: 108.0000 - val_loss: 0.4990 - val_Accuracy: 0.7917 - val_false_negatives: 3.0000 - val_false_positives: 12.0000 - val_true_negatives: 26.0000 - val_true_positives: 31.0000\n",
            "Epoch 20/100\n",
            "9/9 [==============================] - 4s 432ms/step - loss: 0.4786 - Accuracy: 0.7569 - false_negatives: 23.0000 - false_positives: 47.0000 - true_negatives: 107.0000 - true_positives: 111.0000 - val_loss: 0.4898 - val_Accuracy: 0.8056 - val_false_negatives: 3.0000 - val_false_positives: 11.0000 - val_true_negatives: 27.0000 - val_true_positives: 31.0000\n",
            "Epoch 21/100\n",
            "9/9 [==============================] - 4s 425ms/step - loss: 0.4670 - Accuracy: 0.7986 - false_negatives: 31.0000 - false_positives: 27.0000 - true_negatives: 127.0000 - true_positives: 103.0000 - val_loss: 0.5216 - val_Accuracy: 0.7083 - val_false_negatives: 0.0000e+00 - val_false_positives: 21.0000 - val_true_negatives: 17.0000 - val_true_positives: 34.0000\n",
            "Epoch 22/100\n",
            "9/9 [==============================] - 4s 423ms/step - loss: 0.4659 - Accuracy: 0.7882 - false_negatives: 16.0000 - false_positives: 45.0000 - true_negatives: 109.0000 - true_positives: 118.0000 - val_loss: 0.4991 - val_Accuracy: 0.7222 - val_false_negatives: 0.0000e+00 - val_false_positives: 20.0000 - val_true_negatives: 18.0000 - val_true_positives: 34.0000\n",
            "Epoch 23/100\n",
            "9/9 [==============================] - 4s 425ms/step - loss: 0.4622 - Accuracy: 0.7917 - false_negatives: 31.0000 - false_positives: 29.0000 - true_negatives: 125.0000 - true_positives: 103.0000 - val_loss: 0.4805 - val_Accuracy: 0.7500 - val_false_negatives: 1.0000 - val_false_positives: 17.0000 - val_true_negatives: 21.0000 - val_true_positives: 33.0000\n",
            "Epoch 24/100\n",
            "9/9 [==============================] - 4s 426ms/step - loss: 0.4617 - Accuracy: 0.7917 - false_negatives: 13.0000 - false_positives: 47.0000 - true_negatives: 107.0000 - true_positives: 121.0000 - val_loss: 0.4669 - val_Accuracy: 0.8611 - val_false_negatives: 8.0000 - val_false_positives: 2.0000 - val_true_negatives: 36.0000 - val_true_positives: 26.0000\n",
            "Epoch 25/100\n",
            "9/9 [==============================] - 4s 428ms/step - loss: 0.4696 - Accuracy: 0.7778 - false_negatives: 29.0000 - false_positives: 35.0000 - true_negatives: 119.0000 - true_positives: 105.0000 - val_loss: 0.5262 - val_Accuracy: 0.7083 - val_false_negatives: 0.0000e+00 - val_false_positives: 21.0000 - val_true_negatives: 17.0000 - val_true_positives: 34.0000\n",
            "Epoch 26/100\n",
            "9/9 [==============================] - 4s 422ms/step - loss: 0.4277 - Accuracy: 0.8229 - false_negatives: 20.0000 - false_positives: 31.0000 - true_negatives: 123.0000 - true_positives: 114.0000 - val_loss: 0.4679 - val_Accuracy: 0.7500 - val_false_negatives: 1.0000 - val_false_positives: 17.0000 - val_true_negatives: 21.0000 - val_true_positives: 33.0000\n",
            "Epoch 27/100\n",
            "9/9 [==============================] - 4s 423ms/step - loss: 0.4361 - Accuracy: 0.8090 - false_negatives: 19.0000 - false_positives: 36.0000 - true_negatives: 118.0000 - true_positives: 115.0000 - val_loss: 0.4853 - val_Accuracy: 0.7222 - val_false_negatives: 0.0000e+00 - val_false_positives: 20.0000 - val_true_negatives: 18.0000 - val_true_positives: 34.0000\n",
            "Epoch 28/100\n",
            "9/9 [==============================] - 4s 426ms/step - loss: 0.4279 - Accuracy: 0.8160 - false_negatives: 19.0000 - false_positives: 34.0000 - true_negatives: 120.0000 - true_positives: 115.0000 - val_loss: 0.4559 - val_Accuracy: 0.7778 - val_false_negatives: 1.0000 - val_false_positives: 15.0000 - val_true_negatives: 23.0000 - val_true_positives: 33.0000\n",
            "Epoch 29/100\n",
            "9/9 [==============================] - 4s 424ms/step - loss: 0.4278 - Accuracy: 0.8125 - false_negatives: 25.0000 - false_positives: 29.0000 - true_negatives: 125.0000 - true_positives: 109.0000 - val_loss: 0.4773 - val_Accuracy: 0.7222 - val_false_negatives: 0.0000e+00 - val_false_positives: 20.0000 - val_true_negatives: 18.0000 - val_true_positives: 34.0000\n",
            "Epoch 30/100\n",
            "9/9 [==============================] - 4s 430ms/step - loss: 0.4222 - Accuracy: 0.8021 - false_negatives: 17.0000 - false_positives: 40.0000 - true_negatives: 114.0000 - true_positives: 117.0000 - val_loss: 0.4318 - val_Accuracy: 0.8472 - val_false_negatives: 3.0000 - val_false_positives: 8.0000 - val_true_negatives: 30.0000 - val_true_positives: 31.0000\n",
            "Epoch 31/100\n",
            "9/9 [==============================] - 4s 430ms/step - loss: 0.4246 - Accuracy: 0.8229 - false_negatives: 18.0000 - false_positives: 33.0000 - true_negatives: 121.0000 - true_positives: 116.0000 - val_loss: 0.4400 - val_Accuracy: 0.8333 - val_false_negatives: 1.0000 - val_false_positives: 11.0000 - val_true_negatives: 27.0000 - val_true_positives: 33.0000\n",
            "Epoch 32/100\n",
            "9/9 [==============================] - 4s 430ms/step - loss: 0.4192 - Accuracy: 0.8194 - false_negatives: 22.0000 - false_positives: 30.0000 - true_negatives: 124.0000 - true_positives: 112.0000 - val_loss: 0.4306 - val_Accuracy: 0.8750 - val_false_negatives: 1.0000 - val_false_positives: 8.0000 - val_true_negatives: 30.0000 - val_true_positives: 33.0000\n",
            "Epoch 33/100\n",
            "9/9 [==============================] - 4s 428ms/step - loss: 0.4149 - Accuracy: 0.8125 - false_negatives: 19.0000 - false_positives: 35.0000 - true_negatives: 119.0000 - true_positives: 115.0000 - val_loss: 0.4418 - val_Accuracy: 0.8056 - val_false_negatives: 1.0000 - val_false_positives: 13.0000 - val_true_negatives: 25.0000 - val_true_positives: 33.0000\n",
            "Epoch 34/100\n",
            "9/9 [==============================] - 4s 427ms/step - loss: 0.4159 - Accuracy: 0.8333 - false_negatives: 18.0000 - false_positives: 30.0000 - true_negatives: 124.0000 - true_positives: 116.0000 - val_loss: 0.4710 - val_Accuracy: 0.7361 - val_false_negatives: 0.0000e+00 - val_false_positives: 19.0000 - val_true_negatives: 19.0000 - val_true_positives: 34.0000\n",
            "Epoch 35/100\n",
            "9/9 [==============================] - 4s 426ms/step - loss: 0.3940 - Accuracy: 0.8472 - false_negatives: 18.0000 - false_positives: 26.0000 - true_negatives: 128.0000 - true_positives: 116.0000 - val_loss: 0.5186 - val_Accuracy: 0.6944 - val_false_negatives: 0.0000e+00 - val_false_positives: 22.0000 - val_true_negatives: 16.0000 - val_true_positives: 34.0000\n",
            "Epoch 36/100\n",
            "9/9 [==============================] - 4s 433ms/step - loss: 0.4032 - Accuracy: 0.8368 - false_negatives: 19.0000 - false_positives: 28.0000 - true_negatives: 126.0000 - true_positives: 115.0000 - val_loss: 0.4686 - val_Accuracy: 0.7222 - val_false_negatives: 0.0000e+00 - val_false_positives: 20.0000 - val_true_negatives: 18.0000 - val_true_positives: 34.0000\n",
            "Epoch 37/100\n",
            "9/9 [==============================] - 4s 427ms/step - loss: 0.4279 - Accuracy: 0.7743 - false_negatives: 28.0000 - false_positives: 37.0000 - true_negatives: 117.0000 - true_positives: 106.0000 - val_loss: 0.4160 - val_Accuracy: 0.8889 - val_false_negatives: 1.0000 - val_false_positives: 7.0000 - val_true_negatives: 31.0000 - val_true_positives: 33.0000\n",
            "Epoch 38/100\n",
            "9/9 [==============================] - 4s 430ms/step - loss: 0.3903 - Accuracy: 0.8333 - false_negatives: 10.0000 - false_positives: 38.0000 - true_negatives: 116.0000 - true_positives: 124.0000 - val_loss: 0.4575 - val_Accuracy: 0.7361 - val_false_negatives: 0.0000e+00 - val_false_positives: 19.0000 - val_true_negatives: 19.0000 - val_true_positives: 34.0000\n",
            "Epoch 39/100\n",
            "9/9 [==============================] - 4s 423ms/step - loss: 0.4187 - Accuracy: 0.8056 - false_negatives: 31.0000 - false_positives: 25.0000 - true_negatives: 129.0000 - true_positives: 103.0000 - val_loss: 0.6462 - val_Accuracy: 0.6250 - val_false_negatives: 0.0000e+00 - val_false_positives: 27.0000 - val_true_negatives: 11.0000 - val_true_positives: 34.0000\n",
            "Epoch 40/100\n",
            "9/9 [==============================] - 4s 425ms/step - loss: 0.4297 - Accuracy: 0.7917 - false_negatives: 26.0000 - false_positives: 34.0000 - true_negatives: 120.0000 - true_positives: 108.0000 - val_loss: 0.3972 - val_Accuracy: 0.8889 - val_false_negatives: 1.0000 - val_false_positives: 7.0000 - val_true_negatives: 31.0000 - val_true_positives: 33.0000\n",
            "Epoch 41/100\n",
            "9/9 [==============================] - 4s 425ms/step - loss: 0.3833 - Accuracy: 0.8299 - false_negatives: 13.0000 - false_positives: 36.0000 - true_negatives: 118.0000 - true_positives: 121.0000 - val_loss: 0.4642 - val_Accuracy: 0.7083 - val_false_negatives: 0.0000e+00 - val_false_positives: 21.0000 - val_true_negatives: 17.0000 - val_true_positives: 34.0000\n",
            "Epoch 42/100\n",
            "9/9 [==============================] - 4s 426ms/step - loss: 0.3723 - Accuracy: 0.8611 - false_negatives: 19.0000 - false_positives: 21.0000 - true_negatives: 133.0000 - true_positives: 115.0000 - val_loss: 0.4715 - val_Accuracy: 0.7222 - val_false_negatives: 0.0000e+00 - val_false_positives: 20.0000 - val_true_negatives: 18.0000 - val_true_positives: 34.0000\n",
            "Epoch 43/100\n",
            "9/9 [==============================] - 4s 430ms/step - loss: 0.4158 - Accuracy: 0.8090 - false_negatives: 21.0000 - false_positives: 34.0000 - true_negatives: 120.0000 - true_positives: 113.0000 - val_loss: 0.4062 - val_Accuracy: 0.8472 - val_false_negatives: 1.0000 - val_false_positives: 10.0000 - val_true_negatives: 28.0000 - val_true_positives: 33.0000\n",
            "Epoch 44/100\n",
            "9/9 [==============================] - 4s 430ms/step - loss: 0.3878 - Accuracy: 0.8438 - false_negatives: 11.0000 - false_positives: 34.0000 - true_negatives: 120.0000 - true_positives: 123.0000 - val_loss: 0.4219 - val_Accuracy: 0.8194 - val_false_negatives: 1.0000 - val_false_positives: 12.0000 - val_true_negatives: 26.0000 - val_true_positives: 33.0000\n",
            "Epoch 45/100\n",
            "9/9 [==============================] - 4s 430ms/step - loss: 0.3842 - Accuracy: 0.8542 - false_negatives: 16.0000 - false_positives: 26.0000 - true_negatives: 128.0000 - true_positives: 118.0000 - val_loss: 0.4247 - val_Accuracy: 0.8056 - val_false_negatives: 1.0000 - val_false_positives: 13.0000 - val_true_negatives: 25.0000 - val_true_positives: 33.0000\n",
            "Epoch 46/100\n",
            "9/9 [==============================] - 4s 432ms/step - loss: 0.3822 - Accuracy: 0.8472 - false_negatives: 22.0000 - false_positives: 22.0000 - true_negatives: 132.0000 - true_positives: 112.0000 - val_loss: 0.4406 - val_Accuracy: 0.7500 - val_false_negatives: 1.0000 - val_false_positives: 17.0000 - val_true_negatives: 21.0000 - val_true_positives: 33.0000\n",
            "Epoch 47/100\n",
            "9/9 [==============================] - 4s 428ms/step - loss: 0.3705 - Accuracy: 0.8542 - false_negatives: 13.0000 - false_positives: 29.0000 - true_negatives: 125.0000 - true_positives: 121.0000 - val_loss: 0.4177 - val_Accuracy: 0.8194 - val_false_negatives: 1.0000 - val_false_positives: 12.0000 - val_true_negatives: 26.0000 - val_true_positives: 33.0000\n",
            "Epoch 48/100\n",
            "9/9 [==============================] - 4s 432ms/step - loss: 0.3516 - Accuracy: 0.8438 - false_negatives: 12.0000 - false_positives: 33.0000 - true_negatives: 121.0000 - true_positives: 122.0000 - val_loss: 0.3912 - val_Accuracy: 0.8472 - val_false_negatives: 3.0000 - val_false_positives: 8.0000 - val_true_negatives: 30.0000 - val_true_positives: 31.0000\n",
            "Epoch 49/100\n",
            "9/9 [==============================] - 4s 430ms/step - loss: 0.3772 - Accuracy: 0.8229 - false_negatives: 18.0000 - false_positives: 33.0000 - true_negatives: 121.0000 - true_positives: 116.0000 - val_loss: 0.4054 - val_Accuracy: 0.8194 - val_false_negatives: 1.0000 - val_false_positives: 12.0000 - val_true_negatives: 26.0000 - val_true_positives: 33.0000\n",
            "Epoch 50/100\n",
            "9/9 [==============================] - 4s 428ms/step - loss: 0.3677 - Accuracy: 0.8368 - false_negatives: 21.0000 - false_positives: 26.0000 - true_negatives: 128.0000 - true_positives: 113.0000 - val_loss: 0.4493 - val_Accuracy: 0.7639 - val_false_negatives: 1.0000 - val_false_positives: 16.0000 - val_true_negatives: 22.0000 - val_true_positives: 33.0000\n",
            "Epoch 51/100\n",
            "9/9 [==============================] - 4s 432ms/step - loss: 0.3812 - Accuracy: 0.8403 - false_negatives: 12.0000 - false_positives: 34.0000 - true_negatives: 120.0000 - true_positives: 122.0000 - val_loss: 0.4058 - val_Accuracy: 0.7917 - val_false_negatives: 1.0000 - val_false_positives: 14.0000 - val_true_negatives: 24.0000 - val_true_positives: 33.0000\n",
            "Epoch 52/100\n",
            "9/9 [==============================] - 4s 434ms/step - loss: 0.3693 - Accuracy: 0.8576 - false_negatives: 20.0000 - false_positives: 21.0000 - true_negatives: 133.0000 - true_positives: 114.0000 - val_loss: 0.4552 - val_Accuracy: 0.7639 - val_false_negatives: 1.0000 - val_false_positives: 16.0000 - val_true_negatives: 22.0000 - val_true_positives: 33.0000\n",
            "Epoch 53/100\n",
            "9/9 [==============================] - 4s 428ms/step - loss: 0.3461 - Accuracy: 0.8819 - false_negatives: 12.0000 - false_positives: 22.0000 - true_negatives: 132.0000 - true_positives: 122.0000 - val_loss: 0.4034 - val_Accuracy: 0.7917 - val_false_negatives: 1.0000 - val_false_positives: 14.0000 - val_true_negatives: 24.0000 - val_true_positives: 33.0000\n",
            "Epoch 54/100\n",
            "9/9 [==============================] - 4s 425ms/step - loss: 0.3509 - Accuracy: 0.8542 - false_negatives: 19.0000 - false_positives: 23.0000 - true_negatives: 131.0000 - true_positives: 115.0000 - val_loss: 0.5409 - val_Accuracy: 0.6667 - val_false_negatives: 0.0000e+00 - val_false_positives: 24.0000 - val_true_negatives: 14.0000 - val_true_positives: 34.0000\n",
            "Epoch 55/100\n",
            "9/9 [==============================] - 4s 426ms/step - loss: 0.3682 - Accuracy: 0.8472 - false_negatives: 24.0000 - false_positives: 20.0000 - true_negatives: 134.0000 - true_positives: 110.0000 - val_loss: 0.4489 - val_Accuracy: 0.7639 - val_false_negatives: 0.0000e+00 - val_false_positives: 17.0000 - val_true_negatives: 21.0000 - val_true_positives: 34.0000\n",
            "Epoch 56/100\n",
            "9/9 [==============================] - 4s 423ms/step - loss: 0.3443 - Accuracy: 0.8646 - false_negatives: 8.0000 - false_positives: 31.0000 - true_negatives: 123.0000 - true_positives: 126.0000 - val_loss: 0.3789 - val_Accuracy: 0.9028 - val_false_negatives: 1.0000 - val_false_positives: 6.0000 - val_true_negatives: 32.0000 - val_true_positives: 33.0000\n",
            "Epoch 57/100\n",
            "9/9 [==============================] - 4s 433ms/step - loss: 0.3619 - Accuracy: 0.8611 - false_negatives: 20.0000 - false_positives: 20.0000 - true_negatives: 134.0000 - true_positives: 114.0000 - val_loss: 0.4002 - val_Accuracy: 0.7917 - val_false_negatives: 1.0000 - val_false_positives: 14.0000 - val_true_negatives: 24.0000 - val_true_positives: 33.0000\n",
            "Epoch 58/100\n",
            "9/9 [==============================] - 4s 423ms/step - loss: 0.3405 - Accuracy: 0.8681 - false_negatives: 12.0000 - false_positives: 26.0000 - true_negatives: 128.0000 - true_positives: 122.0000 - val_loss: 0.3951 - val_Accuracy: 0.7917 - val_false_negatives: 1.0000 - val_false_positives: 14.0000 - val_true_negatives: 24.0000 - val_true_positives: 33.0000\n",
            "Epoch 59/100\n",
            "9/9 [==============================] - 4s 426ms/step - loss: 0.3415 - Accuracy: 0.8681 - false_negatives: 17.0000 - false_positives: 21.0000 - true_negatives: 133.0000 - true_positives: 117.0000 - val_loss: 0.4715 - val_Accuracy: 0.7500 - val_false_negatives: 0.0000e+00 - val_false_positives: 18.0000 - val_true_negatives: 20.0000 - val_true_positives: 34.0000\n",
            "Epoch 60/100\n",
            "9/9 [==============================] - 4s 436ms/step - loss: 0.3857 - Accuracy: 0.8368 - false_negatives: 18.0000 - false_positives: 29.0000 - true_negatives: 125.0000 - true_positives: 116.0000 - val_loss: 0.4802 - val_Accuracy: 0.7361 - val_false_negatives: 0.0000e+00 - val_false_positives: 19.0000 - val_true_negatives: 19.0000 - val_true_positives: 34.0000\n",
            "Epoch 61/100\n",
            "9/9 [==============================] - 4s 423ms/step - loss: 0.3568 - Accuracy: 0.8576 - false_negatives: 17.0000 - false_positives: 24.0000 - true_negatives: 130.0000 - true_positives: 117.0000 - val_loss: 0.3976 - val_Accuracy: 0.7778 - val_false_negatives: 1.0000 - val_false_positives: 15.0000 - val_true_negatives: 23.0000 - val_true_positives: 33.0000\n",
            "Epoch 62/100\n",
            "9/9 [==============================] - 4s 434ms/step - loss: 0.3311 - Accuracy: 0.8819 - false_negatives: 11.0000 - false_positives: 23.0000 - true_negatives: 131.0000 - true_positives: 123.0000 - val_loss: 0.4146 - val_Accuracy: 0.7778 - val_false_negatives: 1.0000 - val_false_positives: 15.0000 - val_true_negatives: 23.0000 - val_true_positives: 33.0000\n",
            "Epoch 63/100\n",
            "9/9 [==============================] - 4s 421ms/step - loss: 0.3263 - Accuracy: 0.8507 - false_negatives: 17.0000 - false_positives: 26.0000 - true_negatives: 128.0000 - true_positives: 117.0000 - val_loss: 0.4095 - val_Accuracy: 0.7778 - val_false_negatives: 1.0000 - val_false_positives: 15.0000 - val_true_negatives: 23.0000 - val_true_positives: 33.0000\n",
            "Epoch 64/100\n",
            "9/9 [==============================] - 4s 424ms/step - loss: 0.3253 - Accuracy: 0.8611 - false_negatives: 14.0000 - false_positives: 26.0000 - true_negatives: 128.0000 - true_positives: 120.0000 - val_loss: 0.3890 - val_Accuracy: 0.8472 - val_false_negatives: 1.0000 - val_false_positives: 10.0000 - val_true_negatives: 28.0000 - val_true_positives: 33.0000\n",
            "Epoch 65/100\n",
            "9/9 [==============================] - 4s 432ms/step - loss: 0.3286 - Accuracy: 0.8611 - false_negatives: 16.0000 - false_positives: 24.0000 - true_negatives: 130.0000 - true_positives: 118.0000 - val_loss: 0.3777 - val_Accuracy: 0.8472 - val_false_negatives: 5.0000 - val_false_positives: 6.0000 - val_true_negatives: 32.0000 - val_true_positives: 29.0000\n",
            "Epoch 66/100\n",
            "9/9 [==============================] - 4s 424ms/step - loss: 0.3347 - Accuracy: 0.8819 - false_negatives: 12.0000 - false_positives: 22.0000 - true_negatives: 132.0000 - true_positives: 122.0000 - val_loss: 0.3746 - val_Accuracy: 0.8472 - val_false_negatives: 4.0000 - val_false_positives: 7.0000 - val_true_negatives: 31.0000 - val_true_positives: 30.0000\n",
            "Epoch 67/100\n",
            "9/9 [==============================] - 4s 427ms/step - loss: 0.3158 - Accuracy: 0.8854 - false_negatives: 14.0000 - false_positives: 19.0000 - true_negatives: 135.0000 - true_positives: 120.0000 - val_loss: 0.4594 - val_Accuracy: 0.7500 - val_false_negatives: 1.0000 - val_false_positives: 17.0000 - val_true_negatives: 21.0000 - val_true_positives: 33.0000\n",
            "Epoch 68/100\n",
            "9/9 [==============================] - 4s 427ms/step - loss: 0.3200 - Accuracy: 0.8854 - false_negatives: 17.0000 - false_positives: 16.0000 - true_negatives: 138.0000 - true_positives: 117.0000 - val_loss: 0.4162 - val_Accuracy: 0.7917 - val_false_negatives: 1.0000 - val_false_positives: 14.0000 - val_true_negatives: 24.0000 - val_true_positives: 33.0000\n",
            "Epoch 69/100\n",
            "9/9 [==============================] - 4s 425ms/step - loss: 0.3196 - Accuracy: 0.8611 - false_negatives: 12.0000 - false_positives: 28.0000 - true_negatives: 126.0000 - true_positives: 122.0000 - val_loss: 0.4137 - val_Accuracy: 0.8056 - val_false_negatives: 12.0000 - val_false_positives: 2.0000 - val_true_negatives: 36.0000 - val_true_positives: 22.0000\n",
            "Epoch 70/100\n",
            "9/9 [==============================] - 4s 427ms/step - loss: 0.3407 - Accuracy: 0.8576 - false_negatives: 16.0000 - false_positives: 25.0000 - true_negatives: 129.0000 - true_positives: 118.0000 - val_loss: 0.4089 - val_Accuracy: 0.8056 - val_false_negatives: 1.0000 - val_false_positives: 13.0000 - val_true_negatives: 25.0000 - val_true_positives: 33.0000\n",
            "Epoch 71/100\n",
            "9/9 [==============================] - 4s 422ms/step - loss: 0.3417 - Accuracy: 0.8785 - false_negatives: 17.0000 - false_positives: 18.0000 - true_negatives: 136.0000 - true_positives: 117.0000 - val_loss: 0.4614 - val_Accuracy: 0.7639 - val_false_negatives: 1.0000 - val_false_positives: 16.0000 - val_true_negatives: 22.0000 - val_true_positives: 33.0000\n",
            "Epoch 72/100\n",
            "9/9 [==============================] - 4s 425ms/step - loss: 0.3325 - Accuracy: 0.8715 - false_negatives: 17.0000 - false_positives: 20.0000 - true_negatives: 134.0000 - true_positives: 117.0000 - val_loss: 0.4536 - val_Accuracy: 0.7778 - val_false_negatives: 1.0000 - val_false_positives: 15.0000 - val_true_negatives: 23.0000 - val_true_positives: 33.0000\n",
            "Epoch 73/100\n",
            "9/9 [==============================] - 4s 429ms/step - loss: 0.3342 - Accuracy: 0.8403 - false_negatives: 11.0000 - false_positives: 35.0000 - true_negatives: 119.0000 - true_positives: 123.0000 - val_loss: 0.3904 - val_Accuracy: 0.8472 - val_false_negatives: 7.0000 - val_false_positives: 4.0000 - val_true_negatives: 34.0000 - val_true_positives: 27.0000\n",
            "Epoch 74/100\n",
            "9/9 [==============================] - 4s 429ms/step - loss: 0.3017 - Accuracy: 0.8681 - false_negatives: 17.0000 - false_positives: 21.0000 - true_negatives: 133.0000 - true_positives: 117.0000 - val_loss: 0.4262 - val_Accuracy: 0.7917 - val_false_negatives: 1.0000 - val_false_positives: 14.0000 - val_true_negatives: 24.0000 - val_true_positives: 33.0000\n",
            "Epoch 75/100\n",
            "9/9 [==============================] - 4s 438ms/step - loss: 0.3129 - Accuracy: 0.9028 - false_negatives: 14.0000 - false_positives: 14.0000 - true_negatives: 140.0000 - true_positives: 120.0000 - val_loss: 0.4799 - val_Accuracy: 0.7639 - val_false_negatives: 0.0000e+00 - val_false_positives: 17.0000 - val_true_negatives: 21.0000 - val_true_positives: 34.0000\n",
            "Epoch 76/100\n",
            "9/9 [==============================] - 4s 428ms/step - loss: 0.3353 - Accuracy: 0.8681 - false_negatives: 14.0000 - false_positives: 24.0000 - true_negatives: 130.0000 - true_positives: 120.0000 - val_loss: 0.4173 - val_Accuracy: 0.8056 - val_false_negatives: 1.0000 - val_false_positives: 13.0000 - val_true_negatives: 25.0000 - val_true_positives: 33.0000\n",
            "Epoch 77/100\n",
            "9/9 [==============================] - 4s 427ms/step - loss: 0.3484 - Accuracy: 0.8542 - false_negatives: 9.0000 - false_positives: 33.0000 - true_negatives: 121.0000 - true_positives: 125.0000 - val_loss: 0.3834 - val_Accuracy: 0.8472 - val_false_negatives: 7.0000 - val_false_positives: 4.0000 - val_true_negatives: 34.0000 - val_true_positives: 27.0000\n",
            "Epoch 78/100\n",
            "9/9 [==============================] - 4s 443ms/step - loss: 0.3188 - Accuracy: 0.8542 - false_negatives: 15.0000 - false_positives: 27.0000 - true_negatives: 127.0000 - true_positives: 119.0000 - val_loss: 0.4086 - val_Accuracy: 0.8194 - val_false_negatives: 1.0000 - val_false_positives: 12.0000 - val_true_negatives: 26.0000 - val_true_positives: 33.0000\n",
            "Epoch 79/100\n",
            "9/9 [==============================] - 4s 422ms/step - loss: 0.3115 - Accuracy: 0.8750 - false_negatives: 18.0000 - false_positives: 18.0000 - true_negatives: 136.0000 - true_positives: 116.0000 - val_loss: 0.4040 - val_Accuracy: 0.8194 - val_false_negatives: 1.0000 - val_false_positives: 12.0000 - val_true_negatives: 26.0000 - val_true_positives: 33.0000\n",
            "Epoch 80/100\n",
            "9/9 [==============================] - 4s 425ms/step - loss: 0.3072 - Accuracy: 0.8785 - false_negatives: 14.0000 - false_positives: 21.0000 - true_negatives: 133.0000 - true_positives: 120.0000 - val_loss: 0.3833 - val_Accuracy: 0.8194 - val_false_negatives: 5.0000 - val_false_positives: 8.0000 - val_true_negatives: 30.0000 - val_true_positives: 29.0000\n",
            "Epoch 81/100\n",
            "9/9 [==============================] - 4s 423ms/step - loss: 0.3039 - Accuracy: 0.8785 - false_negatives: 16.0000 - false_positives: 19.0000 - true_negatives: 135.0000 - true_positives: 118.0000 - val_loss: 0.4081 - val_Accuracy: 0.8194 - val_false_negatives: 1.0000 - val_false_positives: 12.0000 - val_true_negatives: 26.0000 - val_true_positives: 33.0000\n",
            "Epoch 82/100\n",
            "9/9 [==============================] - 4s 425ms/step - loss: 0.3205 - Accuracy: 0.8542 - false_negatives: 13.0000 - false_positives: 29.0000 - true_negatives: 125.0000 - true_positives: 121.0000 - val_loss: 0.4047 - val_Accuracy: 0.7917 - val_false_negatives: 11.0000 - val_false_positives: 4.0000 - val_true_negatives: 34.0000 - val_true_positives: 23.0000\n",
            "Epoch 83/100\n",
            "9/9 [==============================] - 4s 429ms/step - loss: 0.3301 - Accuracy: 0.8681 - false_negatives: 17.0000 - false_positives: 21.0000 - true_negatives: 133.0000 - true_positives: 117.0000 - val_loss: 0.4120 - val_Accuracy: 0.8194 - val_false_negatives: 1.0000 - val_false_positives: 12.0000 - val_true_negatives: 26.0000 - val_true_positives: 33.0000\n",
            "Epoch 84/100\n",
            "9/9 [==============================] - 4s 426ms/step - loss: 0.3020 - Accuracy: 0.8819 - false_negatives: 13.0000 - false_positives: 21.0000 - true_negatives: 133.0000 - true_positives: 121.0000 - val_loss: 0.3978 - val_Accuracy: 0.8194 - val_false_negatives: 1.0000 - val_false_positives: 12.0000 - val_true_negatives: 26.0000 - val_true_positives: 33.0000\n",
            "Epoch 85/100\n",
            "9/9 [==============================] - 4s 426ms/step - loss: 0.3091 - Accuracy: 0.8750 - false_negatives: 15.0000 - false_positives: 21.0000 - true_negatives: 133.0000 - true_positives: 119.0000 - val_loss: 0.4479 - val_Accuracy: 0.7917 - val_false_negatives: 1.0000 - val_false_positives: 14.0000 - val_true_negatives: 24.0000 - val_true_positives: 33.0000\n",
            "Epoch 86/100\n",
            "9/9 [==============================] - 4s 424ms/step - loss: 0.2896 - Accuracy: 0.8576 - false_negatives: 10.0000 - false_positives: 31.0000 - true_negatives: 123.0000 - true_positives: 124.0000 - val_loss: 0.3956 - val_Accuracy: 0.7917 - val_false_negatives: 10.0000 - val_false_positives: 5.0000 - val_true_negatives: 33.0000 - val_true_positives: 24.0000\n",
            "Epoch 87/100\n",
            "9/9 [==============================] - 4s 421ms/step - loss: 0.3334 - Accuracy: 0.8611 - false_negatives: 17.0000 - false_positives: 23.0000 - true_negatives: 131.0000 - true_positives: 117.0000 - val_loss: 0.3715 - val_Accuracy: 0.8750 - val_false_negatives: 3.0000 - val_false_positives: 6.0000 - val_true_negatives: 32.0000 - val_true_positives: 31.0000\n",
            "Epoch 88/100\n",
            "9/9 [==============================] - 4s 423ms/step - loss: 0.3120 - Accuracy: 0.8542 - false_negatives: 23.0000 - false_positives: 19.0000 - true_negatives: 135.0000 - true_positives: 111.0000 - val_loss: 0.4697 - val_Accuracy: 0.7639 - val_false_negatives: 1.0000 - val_false_positives: 16.0000 - val_true_negatives: 22.0000 - val_true_positives: 33.0000\n",
            "Epoch 89/100\n",
            "9/9 [==============================] - 4s 425ms/step - loss: 0.3168 - Accuracy: 0.8576 - false_negatives: 21.0000 - false_positives: 20.0000 - true_negatives: 134.0000 - true_positives: 113.0000 - val_loss: 0.3669 - val_Accuracy: 0.8472 - val_false_negatives: 3.0000 - val_false_positives: 8.0000 - val_true_negatives: 30.0000 - val_true_positives: 31.0000\n",
            "Epoch 90/100\n",
            "9/9 [==============================] - 4s 426ms/step - loss: 0.2778 - Accuracy: 0.8785 - false_negatives: 11.0000 - false_positives: 24.0000 - true_negatives: 130.0000 - true_positives: 123.0000 - val_loss: 0.4302 - val_Accuracy: 0.7778 - val_false_negatives: 1.0000 - val_false_positives: 15.0000 - val_true_negatives: 23.0000 - val_true_positives: 33.0000\n",
            "Epoch 91/100\n",
            "9/9 [==============================] - 4s 431ms/step - loss: 0.2906 - Accuracy: 0.8750 - false_negatives: 14.0000 - false_positives: 22.0000 - true_negatives: 132.0000 - true_positives: 120.0000 - val_loss: 0.3820 - val_Accuracy: 0.8194 - val_false_negatives: 2.0000 - val_false_positives: 11.0000 - val_true_negatives: 27.0000 - val_true_positives: 32.0000\n",
            "Epoch 92/100\n",
            "9/9 [==============================] - 4s 424ms/step - loss: 0.2872 - Accuracy: 0.8854 - false_negatives: 12.0000 - false_positives: 21.0000 - true_negatives: 133.0000 - true_positives: 122.0000 - val_loss: 0.4297 - val_Accuracy: 0.7917 - val_false_negatives: 1.0000 - val_false_positives: 14.0000 - val_true_negatives: 24.0000 - val_true_positives: 33.0000\n",
            "Epoch 93/100\n",
            "9/9 [==============================] - 4s 423ms/step - loss: 0.2987 - Accuracy: 0.8681 - false_negatives: 18.0000 - false_positives: 20.0000 - true_negatives: 134.0000 - true_positives: 116.0000 - val_loss: 0.4889 - val_Accuracy: 0.7500 - val_false_negatives: 1.0000 - val_false_positives: 17.0000 - val_true_negatives: 21.0000 - val_true_positives: 33.0000\n",
            "Epoch 94/100\n",
            "9/9 [==============================] - 4s 434ms/step - loss: 0.2950 - Accuracy: 0.8681 - false_negatives: 17.0000 - false_positives: 21.0000 - true_negatives: 133.0000 - true_positives: 117.0000 - val_loss: 0.4101 - val_Accuracy: 0.7778 - val_false_negatives: 1.0000 - val_false_positives: 15.0000 - val_true_negatives: 23.0000 - val_true_positives: 33.0000\n",
            "Epoch 95/100\n",
            "9/9 [==============================] - 4s 424ms/step - loss: 0.2703 - Accuracy: 0.8993 - false_negatives: 7.0000 - false_positives: 22.0000 - true_negatives: 132.0000 - true_positives: 127.0000 - val_loss: 0.3600 - val_Accuracy: 0.8333 - val_false_negatives: 6.0000 - val_false_positives: 6.0000 - val_true_negatives: 32.0000 - val_true_positives: 28.0000\n",
            "Epoch 96/100\n",
            "9/9 [==============================] - 4s 423ms/step - loss: 0.2582 - Accuracy: 0.9062 - false_negatives: 17.0000 - false_positives: 10.0000 - true_negatives: 144.0000 - true_positives: 117.0000 - val_loss: 0.5044 - val_Accuracy: 0.7222 - val_false_negatives: 1.0000 - val_false_positives: 19.0000 - val_true_negatives: 19.0000 - val_true_positives: 33.0000\n",
            "Epoch 97/100\n",
            "9/9 [==============================] - 4s 423ms/step - loss: 0.3025 - Accuracy: 0.8993 - false_negatives: 13.0000 - false_positives: 16.0000 - true_negatives: 138.0000 - true_positives: 121.0000 - val_loss: 0.4755 - val_Accuracy: 0.7500 - val_false_negatives: 0.0000e+00 - val_false_positives: 18.0000 - val_true_negatives: 20.0000 - val_true_positives: 34.0000\n",
            "Epoch 98/100\n",
            "9/9 [==============================] - 4s 424ms/step - loss: 0.2660 - Accuracy: 0.8924 - false_negatives: 9.0000 - false_positives: 22.0000 - true_negatives: 132.0000 - true_positives: 125.0000 - val_loss: 0.3971 - val_Accuracy: 0.7917 - val_false_negatives: 1.0000 - val_false_positives: 14.0000 - val_true_negatives: 24.0000 - val_true_positives: 33.0000\n",
            "Epoch 99/100\n",
            "9/9 [==============================] - 4s 441ms/step - loss: 0.2785 - Accuracy: 0.8958 - false_negatives: 11.0000 - false_positives: 19.0000 - true_negatives: 135.0000 - true_positives: 123.0000 - val_loss: 0.3641 - val_Accuracy: 0.8472 - val_false_negatives: 2.0000 - val_false_positives: 9.0000 - val_true_negatives: 29.0000 - val_true_positives: 32.0000\n",
            "Epoch 100/100\n",
            "9/9 [==============================] - 4s 426ms/step - loss: 0.2980 - Accuracy: 0.8785 - false_negatives: 12.0000 - false_positives: 23.0000 - true_negatives: 131.0000 - true_positives: 122.0000 - val_loss: 0.3669 - val_Accuracy: 0.8472 - val_false_negatives: 2.0000 - val_false_positives: 9.0000 - val_true_negatives: 29.0000 - val_true_positives: 32.0000\n"
          ]
        }
      ]
    },
    {
      "cell_type": "markdown",
      "source": [
        "Plotting Traning Result"
      ],
      "metadata": {
        "id": "XZSFG8fXqz7c"
      }
    },
    {
      "cell_type": "code",
      "source": [
        "  #plotting\n",
        "  epochs = range(1, len(history.history['loss'])+1)\n",
        "  plt.title(f\"Grafik loss training iterasi {iterasi}\")\n",
        "  plt.plot(epochs, history.history['loss'], 'r', label='Training Loss')\n",
        "  plt.plot(epochs, history.history['val_loss'], 'b', label='Validation Loss')    \n",
        "  plt.xlabel(\"Epoch\")\n",
        "  plt.ylabel(\"Loss\")\n",
        "  plt.legend()\n",
        "  plt.show()\n"
      ],
      "metadata": {
        "id": "3dXbDrJpY1NK",
        "colab": {
          "base_uri": "https://localhost:8080/",
          "height": 295
        },
        "outputId": "11d3cad6-37fc-4d29-f7cf-377b8403d7ce"
      },
      "execution_count": 11,
      "outputs": [
        {
          "output_type": "display_data",
          "data": {
            "text/plain": [
              "<Figure size 432x288 with 1 Axes>"
            ],
            "image/png": "[encoded data removed]"
          },
          "metadata": {
            "needs_background": "light"
          }
        }
      ]
    },
    {
      "cell_type": "code",
      "source": [
        "  #plotting\n",
        "  epochs = range(1, len(history.history['loss'])+1)\n",
        "  plt.title(f\"Grafik Akurasi training iterasi {iterasi}\")\n",
        "  plt.plot(epochs, history.history['Accuracy'], 'r', label='Training Accuracy')\n",
        "  plt.plot(epochs, history.history['val_Accuracy'], 'b', label='Validation Accuracy')    \n",
        "  plt.xlabel(\"Epoch\")\n",
        "  plt.ylabel(\"Accuracy\")\n",
        "  plt.legend()\n",
        "  plt.show()"
      ],
      "metadata": {
        "id": "j3xigprPwlSX",
        "colab": {
          "base_uri": "https://localhost:8080/",
          "height": 295
        },
        "outputId": "7476e64a-5f78-4fff-cc6f-53dbb721befd"
      },
      "execution_count": 12,
      "outputs": [
        {
          "output_type": "display_data",
          "data": {
            "text/plain": [
              "<Figure size 432x288 with 1 Axes>"
            ],
            "image/png": "[encoded data removed]"
          },
          "metadata": {
            "needs_background": "light"
          }
        }
      ]
    },
    {
      "cell_type": "markdown",
      "metadata": {
        "id": "bTgk1-sdzmgy"
      },
      "source": [
        "**Validating** Network"
      ]
    },
    {
      "cell_type": "code",
      "source": [
        "import matplotlib.pyplot as plt\n",
        "from sklearn.datasets import make_classification\n",
        "from numpy import mean\n",
        "from sklearn.metrics import confusion_matrix, ConfusionMatrixDisplay, accuracy_score, classification_report, recall_score\n",
        "\n",
        "#Creating list for correct label\n",
        "correct_labels = []\n",
        "for i in range(len(image_labels_validation)):\n",
        "  pr = image_labels_validation[i]\n",
        "  output = label_binarizer.inverse_transform(pr)\n",
        "  correct_labels.append(output[0])\n",
        "\n",
        "#Creating list for predicted label\n",
        "predicted_labels = []\n",
        "for i in range(len(np_image_list_validation)):\n",
        "  test_img = np_image_list_validation[i]\n",
        "  test_img = np.expand_dims(test_img, axis=0)\n",
        "  pr=model.predict(test_img)\n",
        "  output = label_binarizer.inverse_transform(pr)\n",
        "  predicted_labels.append(output[0])\n",
        "\n",
        "#creating confusion matrix by comparing both list\n",
        "confusion_matrix = confusion_matrix(correct_labels, predicted_labels)\n",
        "disp = ConfusionMatrixDisplay(confusion_matrix=confusion_matrix)  \n",
        "disp.plot()\n",
        "plt.show()\n",
        "print('--------')\n",
        "\n",
        "FP = confusion_matrix.sum(axis=0) - np.diag(confusion_matrix)  \n",
        "FN = confusion_matrix.sum(axis=1) - np.diag(confusion_matrix)\n",
        "TP = np.diag(confusion_matrix)\n",
        "TN = confusion_matrix.sum() - (FP + FN + TP)\n",
        "\n",
        "# Sensitivity, hit rate, recall, or true positive rate\n",
        "sensitivity = TP/(TP+FN)\n",
        "# Specificity or true negative rate\n",
        "specificity = TN/(TN+FP) \n",
        "# Overall accuracy\n",
        "accuracy = (TP+TN)/(TP+FP+FN+TN)\n",
        "\n",
        "print(TP)\n",
        "print(TN)\n",
        "print(FP)\n",
        "print(FN)\n",
        "print('--------')\n",
        "print(accuracy)\n",
        "print(sensitivity)\n",
        "print(specificity)\n",
        "print('--------')"
      ],
      "metadata": {
        "colab": {
          "base_uri": "https://localhost:8080/",
          "height": 453
        },
        "id": "d_NBE4KkWuhu",
        "outputId": "1aa080a5-d784-4fb1-9139-1e22b04fbdd4"
      },
      "execution_count": 53,
      "outputs": [
        {
          "output_type": "display_data",
          "data": {
            "text/plain": [
              "<Figure size 432x288 with 2 Axes>"
            ],
            "image/png": "[encoded data removed]"
          },
          "metadata": {
            "needs_background": "light"
          }
        },
        {
          "output_type": "stream",
          "name": "stdout",
          "text": [
            "--------\n",
            "[29 32]\n",
            "[32 29]\n",
            "[2 9]\n",
            "[9 2]\n",
            "--------\n",
            "[0.84722222 0.84722222]\n",
            "[0.76315789 0.94117647]\n",
            "[0.94117647 0.76315789]\n",
            "--------\n"
          ]
        }
      ]
    },
    {
      "cell_type": "markdown",
      "source": [
        "**Testing** Network"
      ],
      "metadata": {
        "id": "saJYjKqX9tRL"
      }
    },
    {
      "cell_type": "code",
      "source": [
        "import matplotlib.pyplot as plt\n",
        "from sklearn.datasets import make_classification\n",
        "from numpy import mean\n",
        "from sklearn.metrics import confusion_matrix, ConfusionMatrixDisplay, accuracy_score, classification_report, recall_score\n",
        "\n",
        "#Creating list for correct label\n",
        "correct_labels = []\n",
        "for i in range(len(image_labels_test)):\n",
        "  pr = image_labels_test[i]\n",
        "  output = label_binarizer.inverse_transform(pr)\n",
        "  correct_labels.append(output[0])\n",
        "\n",
        "#Creating list for predicted label\n",
        "predicted_labels = []\n",
        "for i in range(len(np_image_list_test)):\n",
        "  test_img = np_image_list_test[i]\n",
        "  test_img = np.expand_dims(test_img, axis=0)\n",
        "  pr=model.predict(test_img)\n",
        "  output = label_binarizer.inverse_transform(pr)\n",
        "  predicted_labels.append(output[0])\n",
        "\n",
        "#creating confusion matrix by comparing both list\n",
        "confusion_matrix = confusion_matrix(correct_labels, predicted_labels)\n",
        "disp = ConfusionMatrixDisplay(confusion_matrix=confusion_matrix)  \n",
        "disp.plot()\n",
        "plt.show()\n",
        "print('--------')\n",
        "\n",
        "FP = confusion_matrix.sum(axis=0) - np.diag(confusion_matrix)  \n",
        "FN = confusion_matrix.sum(axis=1) - np.diag(confusion_matrix)\n",
        "TP = np.diag(confusion_matrix)\n",
        "TN = confusion_matrix.sum() - (FP + FN + TP)\n",
        "\n",
        "# Sensitivity, hit rate, recall, or true positive rate\n",
        "sensitivity = TP/(TP+FN)\n",
        "# Specificity or true negative rate\n",
        "specificity = TN/(TN+FP) \n",
        "# Overall accuracy\n",
        "accuracy = (TP+TN)/(TP+FP+FN+TN)\n",
        "\n",
        "print(TP)\n",
        "print(TN)\n",
        "print(FP)\n",
        "print(FN)\n",
        "print('--------')\n",
        "print(accuracy)\n",
        "print(sensitivity)\n",
        "print(specificity)\n",
        "print('--------')"
      ],
      "metadata": {
        "colab": {
          "base_uri": "https://localhost:8080/",
          "height": 453
        },
        "id": "A7DR52hmTc75",
        "outputId": "8327a912-2b20-4397-8066-a17fac1f9f88"
      },
      "execution_count": 54,
      "outputs": [
        {
          "output_type": "display_data",
          "data": {
            "text/plain": [
              "<Figure size 432x288 with 2 Axes>"
            ],
            "image/png": "[encoded data removed]"
          },
          "metadata": {
            "needs_background": "light"
          }
        },
        {
          "output_type": "stream",
          "name": "stdout",
          "text": [
            "--------\n",
            "[37 36]\n",
            "[36 37]\n",
            "[ 6 11]\n",
            "[11  6]\n",
            "--------\n",
            "[0.81111111 0.81111111]\n",
            "[0.77083333 0.85714286]\n",
            "[0.85714286 0.77083333]\n",
            "--------\n"
          ]
        }
      ]
    }
  ]
}