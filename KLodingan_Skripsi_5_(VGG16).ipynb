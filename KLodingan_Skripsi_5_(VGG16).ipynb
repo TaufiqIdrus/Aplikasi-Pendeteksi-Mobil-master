{
  "nbformat": 4,
  "nbformat_minor": 0,
  "metadata": {
    "accelerator": "GPU",
    "colab": {
      "name": "Kodingan Skripsi 5 (VGG16)",
      "provenance": [],
      "collapsed_sections": [],
      "include_colab_link": true
    },
    "kernelspec": {
      "display_name": "Python 3",
      "language": "python",
      "name": "python3"
    },
    "language_info": {
      "codemirror_mode": {
        "name": "ipython",
        "version": 3
      },
      "file_extension": ".py",
      "mimetype": "text/x-python",
      "name": "python",
      "nbconvert_exporter": "python",
      "pygments_lexer": "ipython3",
      "version": "3.6.6"
    }
  },
  "cells": [
    {
      "cell_type": "markdown",
      "metadata": {
        "id": "view-in-github",
        "colab_type": "text"
      },
      "source": [
        "<a href=\"https://colab.research.google.com/github/TaufiqIdrus/Aplikasi-Pendeteksi-Mobil-master/blob/master/KLodingan_Skripsi_5_(VGG16).ipynb\" target=\"_parent\"><img src=\"https://colab.research.google.com/assets/colab-badge.svg\" alt=\"Open In Colab\"/></a>"
      ]
    },
    {
      "cell_type": "markdown",
      "metadata": {
        "id": "yJT_kQA2lITS"
      },
      "source": [
        "**Identifikasi Penyakit Pada Tanaman Apel menggunakan Convolutional Neural Network**"
      ]
    },
    {
      "cell_type": "code",
      "metadata": {
        "id": "xXeOaYTUzmgT"
      },
      "source": [
        "import numpy as np\n",
        "import pickle\n",
        "import os\n",
        "import cv2\n",
        "import tensorflow as tf\n",
        "import keras\n",
        "from os import listdir\n",
        "from sklearn.preprocessing import LabelBinarizer\n",
        "from sklearn.model_selection import KFold\n",
        "from keras.models import Sequential\n",
        "from keras.layers.normalization import batch_normalization\n",
        "from keras.layers.convolutional import Conv2D\n",
        "from keras.layers.convolutional import MaxPooling2D\n",
        "from keras.layers.core import Activation, Flatten, Dropout, Dense\n",
        "from keras import backend as K\n",
        "from tensorflow.keras.optimizers import Adam\n",
        "from keras.preprocessing import image\n",
        "from sklearn.preprocessing import MultiLabelBinarizer\n",
        "from sklearn.model_selection import train_test_split\n",
        "import matplotlib.pyplot as plt\n",
        "from sklearn.datasets import make_classification\n",
        "from numpy import mean\n",
        "from sklearn.metrics import confusion_matrix, ConfusionMatrixDisplay, accuracy_score, classification_report, recall_score\n"
      ],
      "execution_count": 1,
      "outputs": []
    },
    {
      "cell_type": "markdown",
      "metadata": {
        "id": "fp8C0d28lQok"
      },
      "source": [
        "Importing and Preparing Dataset"
      ]
    },
    {
      "cell_type": "code",
      "metadata": {
        "id": "_0xehllADlUs",
        "colab": {
          "base_uri": "https://localhost:8080/"
        },
        "outputId": "c13cfb35-cb11-49ed-8fdc-f6bb8a1dab7a"
      },
      "source": [
        "!pip install pyunpack\n",
        "!pip install patool\n",
        "from pyunpack import Archive\n",
        "Archive('/content/fold1.rar').extractall('/content/Datasets/')\n",
        "iterasi = 1\n",
        "width=256\n",
        "height=256\n",
        "default_image_size = tuple((height, width))\n",
        "directory_root_train = '/content/Datasets/fold1/Train'\n",
        "directory_root_validation = '/content/Datasets/fold1/Validation'\n",
        "directory_root_test = '/content/Datasets/fold1/Test'\n",
        "image_size = 0\n",
        "depth=3"
      ],
      "execution_count": 2,
      "outputs": [
        {
          "output_type": "stream",
          "name": "stdout",
          "text": [
            "Looking in indexes: https://pypi.org/simple, https://us-python.pkg.dev/colab-wheels/public/simple/\n",
            "Collecting pyunpack\n",
            "  Downloading pyunpack-0.2.2-py2.py3-none-any.whl (3.8 kB)\n",
            "Collecting easyprocess\n",
            "  Downloading EasyProcess-1.1-py3-none-any.whl (8.7 kB)\n",
            "Collecting entrypoint2\n",
            "  Downloading entrypoint2-1.0-py3-none-any.whl (9.8 kB)\n",
            "Installing collected packages: entrypoint2, easyprocess, pyunpack\n",
            "Successfully installed easyprocess-1.1 entrypoint2-1.0 pyunpack-0.2.2\n",
            "Looking in indexes: https://pypi.org/simple, https://us-python.pkg.dev/colab-wheels/public/simple/\n",
            "Collecting patool\n",
            "  Downloading patool-1.12-py2.py3-none-any.whl (77 kB)\n",
            "\u001b[K     |████████████████████████████████| 77 kB 4.1 MB/s \n",
            "\u001b[?25hInstalling collected packages: patool\n",
            "Successfully installed patool-1.12\n"
          ]
        }
      ]
    },
    {
      "cell_type": "code",
      "metadata": {
        "id": "KbAwJJTpzmge"
      },
      "source": [
        "def convert_image_to_array(image_dir):\n",
        "    try:\n",
        "        image = cv2.imread(image_dir)\n",
        "        if image is not None :\n",
        "            image = cv2.resize(image, default_image_size)   \n",
        "            return keras.preprocessing.image.img_to_array(image)\n",
        "        else :\n",
        "            return np.array([])\n",
        "    except Exception as e:\n",
        "        print(f\"Error : {e}\")\n",
        "        return None"
      ],
      "execution_count": 3,
      "outputs": []
    },
    {
      "cell_type": "markdown",
      "source": [
        "Converting **Training** Data to Array"
      ],
      "metadata": {
        "id": "bgXxUMO2cI_D"
      }
    },
    {
      "cell_type": "code",
      "metadata": {
        "id": "Erz6IjKXzmgg",
        "colab": {
          "base_uri": "https://localhost:8080/"
        },
        "outputId": "1c587ab5-2c7f-44f1-a2a8-61f34e57a6fb"
      },
      "source": [
        "import numpy as np\n",
        "from os import listdir\n",
        "from sklearn.preprocessing import LabelBinarizer\n",
        "import pickle\n",
        "image_list_train, label_list_train = [], []\n",
        "try:\n",
        "    print(\"[INFO] Loading images ...\")\n",
        "    root_dir = listdir(directory_root_train)\n",
        "\n",
        "    for plant_disease_folder in root_dir:\n",
        "        print(f\"[INFO] Processing {plant_disease_folder} ...\")\n",
        "        plant_disease_image_list = listdir(f\"{directory_root_train}/{plant_disease_folder}/\")\n",
        "      \n",
        "        for image in plant_disease_image_list:\n",
        "            image_directory = f\"{directory_root_train}/{plant_disease_folder}/{image}\"\n",
        "\n",
        "            if image_directory.endswith(\".jpg\") == True or image_directory.endswith(\".JPG\") == True:\n",
        "                image_list_train.append(convert_image_to_array(image_directory))\n",
        "                label_list_train.append(plant_disease_folder)\n",
        "    print(\"[INFO] Image loading completed\")\n",
        "\n",
        "except Exception as e:\n",
        "    print(f\"Error : {e}\")\n",
        "\n",
        "#image labeling\n",
        "image_size = len(image_list_train)\n",
        "label_binarizer = LabelBinarizer()\n",
        "image_labels_train = label_binarizer.fit_transform(label_list_train)\n",
        "pickle.dump(label_binarizer,open('label_transform_train.pkl', 'wb'))\n",
        "n_classes = len(label_binarizer.classes_)\n",
        "np_image_list_train = np.array(image_list_train, dtype=np.float16) / 255.0"
      ],
      "execution_count": 4,
      "outputs": [
        {
          "output_type": "stream",
          "name": "stdout",
          "text": [
            "[INFO] Loading images ...\n",
            "[INFO] Processing Diseased ...\n",
            "[INFO] Processing Healthy ...\n",
            "[INFO] Image loading completed\n"
          ]
        }
      ]
    },
    {
      "cell_type": "markdown",
      "source": [
        "Converting **Validation** Data to Array"
      ],
      "metadata": {
        "id": "7eEMGiqRd_E4"
      }
    },
    {
      "cell_type": "code",
      "source": [
        "image_list_validation, label_list_validation = [], []\n",
        "try:\n",
        "    print(\"[INFO] Loading images ...\")\n",
        "    root_dir = listdir(directory_root_validation)\n",
        "\n",
        "    for plant_disease_folder in root_dir:\n",
        "        print(f\"[INFO] Processing {plant_disease_folder} ...\")\n",
        "        plant_disease_image_list = listdir(f\"{directory_root_validation}/{plant_disease_folder}/\")\n",
        "      \n",
        "        for image in plant_disease_image_list:\n",
        "            image_directory = f\"{directory_root_validation}/{plant_disease_folder}/{image}\"\n",
        "\n",
        "            if image_directory.endswith(\".jpg\") == True or image_directory.endswith(\".JPG\") == True:\n",
        "                image_list_validation.append(convert_image_to_array(image_directory))\n",
        "                label_list_validation.append(plant_disease_folder)\n",
        "    print(\"[INFO] Image loading completed\")\n",
        "\n",
        "except Exception as e:\n",
        "    print(f\"Error : {e}\")\n",
        "\n",
        "#image labeling\n",
        "image_size = len(image_list_validation)\n",
        "label_binarizer = LabelBinarizer()\n",
        "image_labels_validation = label_binarizer.fit_transform(label_list_validation)\n",
        "pickle.dump(label_binarizer,open('label_transform_validation.pkl', 'wb'))\n",
        "n_classes = len(label_binarizer.classes_)\n",
        "np_image_list_validation = np.array(image_list_validation, dtype=np.float16) / 255.0"
      ],
      "metadata": {
        "id": "wfHDdR0ZeEuU",
        "colab": {
          "base_uri": "https://localhost:8080/"
        },
        "outputId": "6894ba4a-33c2-4838-9550-08daca94eaa5"
      },
      "execution_count": 5,
      "outputs": [
        {
          "output_type": "stream",
          "name": "stdout",
          "text": [
            "[INFO] Loading images ...\n",
            "[INFO] Processing Diseased ...\n",
            "[INFO] Processing Healthy ...\n",
            "[INFO] Image loading completed\n"
          ]
        }
      ]
    },
    {
      "cell_type": "markdown",
      "source": [
        "Converting **Testing** Data to Array"
      ],
      "metadata": {
        "id": "brwWyZVncTdg"
      }
    },
    {
      "cell_type": "code",
      "metadata": {
        "id": "uNPby5UMcaWY",
        "colab": {
          "base_uri": "https://localhost:8080/"
        },
        "outputId": "80ae13aa-6fe1-4a21-fb99-dd095ac1f91f"
      },
      "source": [
        "image_list_test, label_list_test = [], []\n",
        "try:\n",
        "    print(\"[INFO] Loading images ...\")\n",
        "    root_dir = listdir(directory_root_test)\n",
        "\n",
        "    for plant_disease_folder in root_dir:\n",
        "        print(f\"[INFO] Processing {plant_disease_folder} ...\")\n",
        "        plant_disease_image_list = listdir(f\"{directory_root_test}/{plant_disease_folder}/\")\n",
        "      \n",
        "        for image in plant_disease_image_list:\n",
        "            image_directory = f\"{directory_root_test}/{plant_disease_folder}/{image}\"\n",
        "\n",
        "            if image_directory.endswith(\".jpg\") == True or image_directory.endswith(\".JPG\") == True:\n",
        "                image_list_test.append(convert_image_to_array(image_directory))\n",
        "                label_list_test.append(plant_disease_folder)\n",
        "    print(\"[INFO] Image loading completed\")\n",
        "\n",
        "except Exception as e:\n",
        "    print(f\"Error : {e}\")\n",
        "\n",
        "#image labeling\n",
        "image_size = len(image_list_test)\n",
        "label_binarizer = LabelBinarizer()\n",
        "image_labels_test = label_binarizer.fit_transform(label_list_test)\n",
        "pickle.dump(label_binarizer,open('label_transform_test.pkl', 'wb'))\n",
        "n_classes = len(label_binarizer.classes_)\n",
        "np_image_list_test = np.array(image_list_test, dtype=np.float16) / 255.0"
      ],
      "execution_count": 6,
      "outputs": [
        {
          "output_type": "stream",
          "name": "stdout",
          "text": [
            "[INFO] Loading images ...\n",
            "[INFO] Processing Diseased ...\n",
            "[INFO] Processing Healthy ...\n",
            "[INFO] Image loading completed\n"
          ]
        }
      ]
    },
    {
      "cell_type": "markdown",
      "metadata": {
        "id": "jYBTFN0CnAi7"
      },
      "source": [
        "Data Augmenting Initialization"
      ]
    },
    {
      "cell_type": "code",
      "metadata": {
        "id": "TLMxMK2Tzmgr"
      },
      "source": [
        "aug = keras.preprocessing.image.ImageDataGenerator(\n",
        "    rotation_range=25, \n",
        "    width_shift_range=0.1,\n",
        "    height_shift_range=0.1, \n",
        "    shear_range=0.2, \n",
        "    zoom_range=0.2,\n",
        "    horizontal_flip=True, \n",
        "    fill_mode=\"nearest\")"
      ],
      "execution_count": 7,
      "outputs": []
    },
    {
      "cell_type": "markdown",
      "metadata": {
        "id": "H1BfRyYNnGv_"
      },
      "source": [
        "Creating CNN Model"
      ]
    },
    {
      "cell_type": "code",
      "source": [
        "from tensorflow.keras.layers import Input, Conv2D \n",
        "from tensorflow.keras.layers import MaxPool2D, Flatten, Dense, AveragePooling2D\n",
        "from tensorflow.keras import Model\n",
        "# input\n",
        "\n",
        "input = Input(shape =(256,256,3))\n",
        "# 1st Conv Block\n",
        "\n",
        "x = Conv2D (filters =64, kernel_size =3, padding ='same', activation='relu')(input)\n",
        "x = Conv2D (filters =64, kernel_size =3, padding ='same', activation='relu')(x)\n",
        "x = AveragePooling2D(pool_size =2, strides =2, padding ='same')(x)\n",
        "# 2nd Conv Block\n",
        "\n",
        "x = Conv2D (filters =128, kernel_size =3, padding ='same', activation='relu')(x)\n",
        "x = Conv2D (filters =128, kernel_size =3, padding ='same', activation='relu')(x)\n",
        "x = MaxPool2D(pool_size =2, strides =2, padding ='same')(x)\n",
        "# 3rd Conv block\n",
        "\n",
        "x = Conv2D (filters =256, kernel_size =3, padding ='same', activation='relu')(x)\n",
        "x = Conv2D (filters =256, kernel_size =3, padding ='same', activation='relu')(x)\n",
        "x = Conv2D (filters =256, kernel_size =3, padding ='same', activation='relu')(x)\n",
        "x = MaxPool2D(pool_size =2, strides =2, padding ='same')(x)\n",
        "# 4th Conv block\n",
        "\n",
        "x = Conv2D (filters =512, kernel_size =3, padding ='same', activation='relu')(x)\n",
        "x = Conv2D (filters =512, kernel_size =3, padding ='same', activation='relu')(x)\n",
        "x = Conv2D (filters =512, kernel_size =3, padding ='same', activation='relu')(x)\n",
        "x = MaxPool2D(pool_size =2, strides =2, padding ='same')(x)\n",
        "\n",
        "# 5th Conv block\n",
        "\n",
        "x = Conv2D (filters =512, kernel_size =3, padding ='same', activation='relu')(x)\n",
        "x = Conv2D (filters =512, kernel_size =3, padding ='same', activation='relu')(x)\n",
        "x = Conv2D (filters =512, kernel_size =3, padding ='same', activation='relu')(x)\n",
        "x = MaxPool2D(pool_size =2, strides =2, padding ='same')(x)\n",
        "# Fully connected layers\n",
        "\n",
        "x = Flatten()(x)\n",
        "x = Dense(units = 1024, activation ='relu')(x)\n",
        "output = Dense(units = 1, activation ='sigmoid')(x)\n",
        "# creating the model\n",
        "\n",
        "model = Model (inputs=input, outputs =output)"
      ],
      "metadata": {
        "id": "n3ba8ezfA9sp"
      },
      "execution_count": 8,
      "outputs": []
    },
    {
      "cell_type": "markdown",
      "metadata": {
        "id": "Zfsu3lVfnXFG"
      },
      "source": [
        "**Training** Network"
      ]
    },
    {
      "cell_type": "code",
      "source": [
        "history = None"
      ],
      "metadata": {
        "id": "_Q14CGsDVk8H"
      },
      "execution_count": 9,
      "outputs": []
    },
    {
      "cell_type": "code",
      "metadata": {
        "id": "rvwKwe3Lzmgv",
        "colab": {
          "base_uri": "https://localhost:8080/"
        },
        "outputId": "23245337-9b97-42cf-e72c-25ed73c280cc"
      },
      "source": [
        "EPOCHS = 100\n",
        "INIT_LR = 1e-4\n",
        "BS = 32\n",
        "with tf.device('/GPU:0'):\n",
        "  opt = Adam(learning_rate=INIT_LR, decay=INIT_LR / EPOCHS)\n",
        "  model.compile(loss=\"binary_crossentropy\", optimizer=opt,metrics=[\"Accuracy\", \"FalseNegatives\", \"FalsePositives\", \"TrueNegatives\", \"TruePositives\"])\n",
        "  \n",
        "  history = model.fit(\n",
        "      aug.flow(np_image_list_train, image_labels_train, batch_size=BS),\n",
        "      validation_data=(np_image_list_validation, image_labels_validation),\n",
        "      steps_per_epoch=len(np_image_list_train) // BS,\n",
        "      epochs=EPOCHS, \n",
        "      verbose=1,\n",
        "      )\n"
      ],
      "execution_count": 10,
      "outputs": [
        {
          "output_type": "stream",
          "name": "stdout",
          "text": [
            "Epoch 1/100\n",
            "40/40 [==============================] - 49s 657ms/step - loss: 0.6934 - Accuracy: 0.4719 - false_negatives: 371.0000 - false_positives: 305.0000 - true_negatives: 335.0000 - true_positives: 269.0000 - val_loss: 0.6923 - val_Accuracy: 0.8031 - val_false_negatives: 13.0000 - val_false_positives: 50.0000 - val_true_negatives: 110.0000 - val_true_positives: 147.0000\n",
            "Epoch 2/100\n",
            "40/40 [==============================] - 27s 660ms/step - loss: 0.5757 - Accuracy: 0.7227 - false_negatives: 230.0000 - false_positives: 125.0000 - true_negatives: 515.0000 - true_positives: 410.0000 - val_loss: 0.4154 - val_Accuracy: 0.8344 - val_false_negatives: 29.0000 - val_false_positives: 24.0000 - val_true_negatives: 136.0000 - val_true_positives: 131.0000\n",
            "Epoch 3/100\n",
            "40/40 [==============================] - 26s 646ms/step - loss: 0.3666 - Accuracy: 0.8492 - false_negatives: 101.0000 - false_positives: 92.0000 - true_negatives: 548.0000 - true_positives: 539.0000 - val_loss: 0.3168 - val_Accuracy: 0.8844 - val_false_negatives: 21.0000 - val_false_positives: 16.0000 - val_true_negatives: 144.0000 - val_true_positives: 139.0000\n",
            "Epoch 4/100\n",
            "40/40 [==============================] - 26s 652ms/step - loss: 0.3378 - Accuracy: 0.8469 - false_negatives: 116.0000 - false_positives: 80.0000 - true_negatives: 560.0000 - true_positives: 524.0000 - val_loss: 0.3404 - val_Accuracy: 0.8531 - val_false_negatives: 23.0000 - val_false_positives: 24.0000 - val_true_negatives: 136.0000 - val_true_positives: 137.0000\n",
            "Epoch 5/100\n",
            "40/40 [==============================] - 27s 672ms/step - loss: 0.3120 - Accuracy: 0.8742 - false_negatives: 81.0000 - false_positives: 80.0000 - true_negatives: 560.0000 - true_positives: 559.0000 - val_loss: 0.2950 - val_Accuracy: 0.8906 - val_false_negatives: 30.0000 - val_false_positives: 5.0000 - val_true_negatives: 155.0000 - val_true_positives: 130.0000\n",
            "Epoch 6/100\n",
            "40/40 [==============================] - 31s 750ms/step - loss: 0.2598 - Accuracy: 0.9039 - false_negatives: 72.0000 - false_positives: 51.0000 - true_negatives: 589.0000 - true_positives: 568.0000 - val_loss: 0.2924 - val_Accuracy: 0.8906 - val_false_negatives: 31.0000 - val_false_positives: 4.0000 - val_true_negatives: 156.0000 - val_true_positives: 129.0000\n",
            "Epoch 7/100\n",
            "40/40 [==============================] - 27s 673ms/step - loss: 0.2611 - Accuracy: 0.8945 - false_negatives: 83.0000 - false_positives: 52.0000 - true_negatives: 588.0000 - true_positives: 557.0000 - val_loss: 0.3371 - val_Accuracy: 0.8531 - val_false_negatives: 25.0000 - val_false_positives: 22.0000 - val_true_negatives: 138.0000 - val_true_positives: 135.0000\n",
            "Epoch 8/100\n",
            "40/40 [==============================] - 27s 674ms/step - loss: 0.2447 - Accuracy: 0.9000 - false_negatives: 64.0000 - false_positives: 64.0000 - true_negatives: 576.0000 - true_positives: 576.0000 - val_loss: 0.2804 - val_Accuracy: 0.8813 - val_false_negatives: 25.0000 - val_false_positives: 13.0000 - val_true_negatives: 147.0000 - val_true_positives: 135.0000\n",
            "Epoch 9/100\n",
            "40/40 [==============================] - 27s 663ms/step - loss: 0.1862 - Accuracy: 0.9289 - false_negatives: 55.0000 - false_positives: 36.0000 - true_negatives: 604.0000 - true_positives: 585.0000 - val_loss: 0.2840 - val_Accuracy: 0.8781 - val_false_negatives: 25.0000 - val_false_positives: 14.0000 - val_true_negatives: 146.0000 - val_true_positives: 135.0000\n",
            "Epoch 10/100\n",
            "40/40 [==============================] - 27s 662ms/step - loss: 0.1959 - Accuracy: 0.9195 - false_negatives: 54.0000 - false_positives: 49.0000 - true_negatives: 591.0000 - true_positives: 586.0000 - val_loss: 1.0787 - val_Accuracy: 0.8250 - val_false_negatives: 50.0000 - val_false_positives: 6.0000 - val_true_negatives: 154.0000 - val_true_positives: 110.0000\n",
            "Epoch 11/100\n",
            "40/40 [==============================] - 27s 657ms/step - loss: 0.1825 - Accuracy: 0.9320 - false_negatives: 54.0000 - false_positives: 33.0000 - true_negatives: 607.0000 - true_positives: 586.0000 - val_loss: 0.1937 - val_Accuracy: 0.9125 - val_false_negatives: 16.0000 - val_false_positives: 12.0000 - val_true_negatives: 148.0000 - val_true_positives: 144.0000\n",
            "Epoch 12/100\n",
            "40/40 [==============================] - 27s 662ms/step - loss: 0.1944 - Accuracy: 0.9227 - false_negatives: 53.0000 - false_positives: 46.0000 - true_negatives: 594.0000 - true_positives: 587.0000 - val_loss: 0.1836 - val_Accuracy: 0.9312 - val_false_negatives: 19.0000 - val_false_positives: 3.0000 - val_true_negatives: 157.0000 - val_true_positives: 141.0000\n",
            "Epoch 13/100\n",
            "40/40 [==============================] - 27s 657ms/step - loss: 0.1413 - Accuracy: 0.9375 - false_negatives: 45.0000 - false_positives: 35.0000 - true_negatives: 605.0000 - true_positives: 595.0000 - val_loss: 0.3468 - val_Accuracy: 0.8531 - val_false_negatives: 4.0000 - val_false_positives: 43.0000 - val_true_negatives: 117.0000 - val_true_positives: 156.0000\n",
            "Epoch 14/100\n",
            "40/40 [==============================] - 27s 658ms/step - loss: 0.1681 - Accuracy: 0.9375 - false_negatives: 44.0000 - false_positives: 36.0000 - true_negatives: 604.0000 - true_positives: 596.0000 - val_loss: 0.2691 - val_Accuracy: 0.9094 - val_false_negatives: 20.0000 - val_false_positives: 9.0000 - val_true_negatives: 151.0000 - val_true_positives: 140.0000\n",
            "Epoch 15/100\n",
            "40/40 [==============================] - 27s 658ms/step - loss: 0.1413 - Accuracy: 0.9406 - false_negatives: 37.0000 - false_positives: 39.0000 - true_negatives: 601.0000 - true_positives: 603.0000 - val_loss: 0.2829 - val_Accuracy: 0.8844 - val_false_negatives: 11.0000 - val_false_positives: 26.0000 - val_true_negatives: 134.0000 - val_true_positives: 149.0000\n",
            "Epoch 16/100\n",
            "40/40 [==============================] - 27s 663ms/step - loss: 0.1493 - Accuracy: 0.9461 - false_negatives: 34.0000 - false_positives: 35.0000 - true_negatives: 605.0000 - true_positives: 606.0000 - val_loss: 0.3547 - val_Accuracy: 0.8875 - val_false_negatives: 19.0000 - val_false_positives: 17.0000 - val_true_negatives: 143.0000 - val_true_positives: 141.0000\n",
            "Epoch 17/100\n",
            "40/40 [==============================] - 27s 657ms/step - loss: 0.1232 - Accuracy: 0.9516 - false_negatives: 30.0000 - false_positives: 32.0000 - true_negatives: 608.0000 - true_positives: 610.0000 - val_loss: 0.3904 - val_Accuracy: 0.8938 - val_false_negatives: 23.0000 - val_false_positives: 11.0000 - val_true_negatives: 149.0000 - val_true_positives: 137.0000\n",
            "Epoch 18/100\n",
            "40/40 [==============================] - 27s 659ms/step - loss: 0.1258 - Accuracy: 0.9539 - false_negatives: 32.0000 - false_positives: 27.0000 - true_negatives: 613.0000 - true_positives: 608.0000 - val_loss: 0.1521 - val_Accuracy: 0.9438 - val_false_negatives: 7.0000 - val_false_positives: 11.0000 - val_true_negatives: 149.0000 - val_true_positives: 153.0000\n",
            "Epoch 19/100\n",
            "40/40 [==============================] - 27s 661ms/step - loss: 0.1395 - Accuracy: 0.9445 - false_negatives: 36.0000 - false_positives: 35.0000 - true_negatives: 605.0000 - true_positives: 604.0000 - val_loss: 0.4407 - val_Accuracy: 0.8813 - val_false_negatives: 35.0000 - val_false_positives: 3.0000 - val_true_negatives: 157.0000 - val_true_positives: 125.0000\n",
            "Epoch 20/100\n",
            "40/40 [==============================] - 27s 660ms/step - loss: 0.1179 - Accuracy: 0.9500 - false_negatives: 34.0000 - false_positives: 30.0000 - true_negatives: 610.0000 - true_positives: 606.0000 - val_loss: 0.2421 - val_Accuracy: 0.9187 - val_false_negatives: 16.0000 - val_false_positives: 10.0000 - val_true_negatives: 150.0000 - val_true_positives: 144.0000\n",
            "Epoch 21/100\n",
            "40/40 [==============================] - 27s 659ms/step - loss: 0.1415 - Accuracy: 0.9414 - false_negatives: 39.0000 - false_positives: 36.0000 - true_negatives: 604.0000 - true_positives: 601.0000 - val_loss: 0.6116 - val_Accuracy: 0.8750 - val_false_negatives: 33.0000 - val_false_positives: 7.0000 - val_true_negatives: 153.0000 - val_true_positives: 127.0000\n",
            "Epoch 22/100\n",
            "40/40 [==============================] - 27s 657ms/step - loss: 0.1101 - Accuracy: 0.9516 - false_negatives: 26.0000 - false_positives: 36.0000 - true_negatives: 604.0000 - true_positives: 614.0000 - val_loss: 0.1302 - val_Accuracy: 0.9594 - val_false_negatives: 6.0000 - val_false_positives: 7.0000 - val_true_negatives: 153.0000 - val_true_positives: 154.0000\n",
            "Epoch 23/100\n",
            "40/40 [==============================] - 27s 661ms/step - loss: 0.1363 - Accuracy: 0.9523 - false_negatives: 29.0000 - false_positives: 32.0000 - true_negatives: 608.0000 - true_positives: 611.0000 - val_loss: 0.1402 - val_Accuracy: 0.9500 - val_false_negatives: 9.0000 - val_false_positives: 7.0000 - val_true_negatives: 153.0000 - val_true_positives: 151.0000\n",
            "Epoch 24/100\n",
            "40/40 [==============================] - 27s 657ms/step - loss: 0.1055 - Accuracy: 0.9617 - false_negatives: 24.0000 - false_positives: 25.0000 - true_negatives: 615.0000 - true_positives: 616.0000 - val_loss: 0.1046 - val_Accuracy: 0.9594 - val_false_negatives: 10.0000 - val_false_positives: 3.0000 - val_true_negatives: 157.0000 - val_true_positives: 150.0000\n",
            "Epoch 25/100\n",
            "40/40 [==============================] - 27s 661ms/step - loss: 0.0729 - Accuracy: 0.9711 - false_negatives: 19.0000 - false_positives: 18.0000 - true_negatives: 622.0000 - true_positives: 621.0000 - val_loss: 0.2098 - val_Accuracy: 0.9469 - val_false_negatives: 9.0000 - val_false_positives: 8.0000 - val_true_negatives: 152.0000 - val_true_positives: 151.0000\n",
            "Epoch 26/100\n",
            "40/40 [==============================] - 27s 657ms/step - loss: 0.0826 - Accuracy: 0.9680 - false_negatives: 19.0000 - false_positives: 22.0000 - true_negatives: 618.0000 - true_positives: 621.0000 - val_loss: 0.3557 - val_Accuracy: 0.9031 - val_false_negatives: 28.0000 - val_false_positives: 3.0000 - val_true_negatives: 157.0000 - val_true_positives: 132.0000\n",
            "Epoch 27/100\n",
            "40/40 [==============================] - 27s 663ms/step - loss: 0.0921 - Accuracy: 0.9656 - false_negatives: 24.0000 - false_positives: 20.0000 - true_negatives: 620.0000 - true_positives: 616.0000 - val_loss: 0.1433 - val_Accuracy: 0.9500 - val_false_negatives: 15.0000 - val_false_positives: 1.0000 - val_true_negatives: 159.0000 - val_true_positives: 145.0000\n",
            "Epoch 28/100\n",
            "40/40 [==============================] - 27s 656ms/step - loss: 0.0775 - Accuracy: 0.9672 - false_negatives: 19.0000 - false_positives: 23.0000 - true_negatives: 617.0000 - true_positives: 621.0000 - val_loss: 0.1156 - val_Accuracy: 0.9656 - val_false_negatives: 3.0000 - val_false_positives: 8.0000 - val_true_negatives: 152.0000 - val_true_positives: 157.0000\n",
            "Epoch 29/100\n",
            "40/40 [==============================] - 27s 659ms/step - loss: 0.0664 - Accuracy: 0.9766 - false_negatives: 15.0000 - false_positives: 15.0000 - true_negatives: 625.0000 - true_positives: 625.0000 - val_loss: 0.2254 - val_Accuracy: 0.9187 - val_false_negatives: 8.0000 - val_false_positives: 18.0000 - val_true_negatives: 142.0000 - val_true_positives: 152.0000\n",
            "Epoch 30/100\n",
            "40/40 [==============================] - 27s 657ms/step - loss: 0.0467 - Accuracy: 0.9844 - false_negatives: 9.0000 - false_positives: 11.0000 - true_negatives: 629.0000 - true_positives: 631.0000 - val_loss: 0.1346 - val_Accuracy: 0.9531 - val_false_negatives: 4.0000 - val_false_positives: 11.0000 - val_true_negatives: 149.0000 - val_true_positives: 156.0000\n",
            "Epoch 31/100\n",
            "40/40 [==============================] - 27s 657ms/step - loss: 0.0595 - Accuracy: 0.9789 - false_negatives: 13.0000 - false_positives: 14.0000 - true_negatives: 626.0000 - true_positives: 627.0000 - val_loss: 0.1120 - val_Accuracy: 0.9688 - val_false_negatives: 6.0000 - val_false_positives: 4.0000 - val_true_negatives: 156.0000 - val_true_positives: 154.0000\n",
            "Epoch 32/100\n",
            "40/40 [==============================] - 27s 676ms/step - loss: 0.0424 - Accuracy: 0.9844 - false_negatives: 6.0000 - false_positives: 14.0000 - true_negatives: 626.0000 - true_positives: 634.0000 - val_loss: 0.1040 - val_Accuracy: 0.9812 - val_false_negatives: 3.0000 - val_false_positives: 3.0000 - val_true_negatives: 157.0000 - val_true_positives: 157.0000\n",
            "Epoch 33/100\n",
            "40/40 [==============================] - 27s 671ms/step - loss: 0.0574 - Accuracy: 0.9797 - false_negatives: 13.0000 - false_positives: 13.0000 - true_negatives: 627.0000 - true_positives: 627.0000 - val_loss: 0.0751 - val_Accuracy: 0.9719 - val_false_negatives: 7.0000 - val_false_positives: 2.0000 - val_true_negatives: 158.0000 - val_true_positives: 153.0000\n",
            "Epoch 34/100\n",
            "40/40 [==============================] - 27s 668ms/step - loss: 0.0373 - Accuracy: 0.9891 - false_negatives: 7.0000 - false_positives: 7.0000 - true_negatives: 633.0000 - true_positives: 633.0000 - val_loss: 0.0729 - val_Accuracy: 0.9688 - val_false_negatives: 8.0000 - val_false_positives: 2.0000 - val_true_negatives: 158.0000 - val_true_positives: 152.0000\n",
            "Epoch 35/100\n",
            "40/40 [==============================] - 27s 662ms/step - loss: 0.0359 - Accuracy: 0.9867 - false_negatives: 6.0000 - false_positives: 11.0000 - true_negatives: 629.0000 - true_positives: 634.0000 - val_loss: 0.8539 - val_Accuracy: 0.9031 - val_false_negatives: 31.0000 - val_false_positives: 0.0000e+00 - val_true_negatives: 160.0000 - val_true_positives: 129.0000\n",
            "Epoch 36/100\n",
            "40/40 [==============================] - 27s 667ms/step - loss: 0.0829 - Accuracy: 0.9734 - false_negatives: 15.0000 - false_positives: 19.0000 - true_negatives: 621.0000 - true_positives: 625.0000 - val_loss: 0.0499 - val_Accuracy: 0.9844 - val_false_negatives: 1.0000 - val_false_positives: 4.0000 - val_true_negatives: 156.0000 - val_true_positives: 159.0000\n",
            "Epoch 37/100\n",
            "40/40 [==============================] - 27s 662ms/step - loss: 0.0550 - Accuracy: 0.9773 - false_negatives: 15.0000 - false_positives: 14.0000 - true_negatives: 626.0000 - true_positives: 625.0000 - val_loss: 0.1526 - val_Accuracy: 0.9656 - val_false_negatives: 8.0000 - val_false_positives: 3.0000 - val_true_negatives: 157.0000 - val_true_positives: 152.0000\n",
            "Epoch 38/100\n",
            "40/40 [==============================] - 27s 660ms/step - loss: 0.0744 - Accuracy: 0.9766 - false_negatives: 9.0000 - false_positives: 21.0000 - true_negatives: 619.0000 - true_positives: 631.0000 - val_loss: 0.1772 - val_Accuracy: 0.9375 - val_false_negatives: 19.0000 - val_false_positives: 1.0000 - val_true_negatives: 159.0000 - val_true_positives: 141.0000\n",
            "Epoch 39/100\n",
            "40/40 [==============================] - 27s 661ms/step - loss: 0.0757 - Accuracy: 0.9766 - false_negatives: 14.0000 - false_positives: 16.0000 - true_negatives: 624.0000 - true_positives: 626.0000 - val_loss: 0.0417 - val_Accuracy: 0.9812 - val_false_negatives: 5.0000 - val_false_positives: 1.0000 - val_true_negatives: 159.0000 - val_true_positives: 155.0000\n",
            "Epoch 40/100\n",
            "40/40 [==============================] - 27s 659ms/step - loss: 0.0200 - Accuracy: 0.9922 - false_negatives: 6.0000 - false_positives: 4.0000 - true_negatives: 636.0000 - true_positives: 634.0000 - val_loss: 0.0845 - val_Accuracy: 0.9844 - val_false_negatives: 3.0000 - val_false_positives: 2.0000 - val_true_negatives: 158.0000 - val_true_positives: 157.0000\n",
            "Epoch 41/100\n",
            "40/40 [==============================] - 27s 658ms/step - loss: 0.0283 - Accuracy: 0.9906 - false_negatives: 7.0000 - false_positives: 5.0000 - true_negatives: 635.0000 - true_positives: 633.0000 - val_loss: 0.0687 - val_Accuracy: 0.9750 - val_false_negatives: 5.0000 - val_false_positives: 3.0000 - val_true_negatives: 157.0000 - val_true_positives: 155.0000\n",
            "Epoch 42/100\n",
            "40/40 [==============================] - 27s 658ms/step - loss: 0.0324 - Accuracy: 0.9867 - false_negatives: 8.0000 - false_positives: 9.0000 - true_negatives: 631.0000 - true_positives: 632.0000 - val_loss: 0.0414 - val_Accuracy: 0.9812 - val_false_negatives: 0.0000e+00 - val_false_positives: 6.0000 - val_true_negatives: 154.0000 - val_true_positives: 160.0000\n",
            "Epoch 43/100\n",
            "40/40 [==============================] - 26s 655ms/step - loss: 0.0124 - Accuracy: 0.9961 - false_negatives: 2.0000 - false_positives: 3.0000 - true_negatives: 637.0000 - true_positives: 638.0000 - val_loss: 0.2472 - val_Accuracy: 0.9594 - val_false_negatives: 12.0000 - val_false_positives: 1.0000 - val_true_negatives: 159.0000 - val_true_positives: 148.0000\n",
            "Epoch 44/100\n",
            "40/40 [==============================] - 26s 655ms/step - loss: 0.0270 - Accuracy: 0.9891 - false_negatives: 6.0000 - false_positives: 8.0000 - true_negatives: 632.0000 - true_positives: 634.0000 - val_loss: 0.1147 - val_Accuracy: 0.9812 - val_false_negatives: 4.0000 - val_false_positives: 2.0000 - val_true_negatives: 158.0000 - val_true_positives: 156.0000\n",
            "Epoch 45/100\n",
            "40/40 [==============================] - 27s 657ms/step - loss: 0.0115 - Accuracy: 0.9953 - false_negatives: 3.0000 - false_positives: 3.0000 - true_negatives: 637.0000 - true_positives: 637.0000 - val_loss: 0.0222 - val_Accuracy: 0.9937 - val_false_negatives: 1.0000 - val_false_positives: 1.0000 - val_true_negatives: 159.0000 - val_true_positives: 159.0000\n",
            "Epoch 46/100\n",
            "40/40 [==============================] - 27s 658ms/step - loss: 0.0095 - Accuracy: 0.9953 - false_negatives: 4.0000 - false_positives: 2.0000 - true_negatives: 638.0000 - true_positives: 636.0000 - val_loss: 0.1631 - val_Accuracy: 0.9812 - val_false_negatives: 4.0000 - val_false_positives: 2.0000 - val_true_negatives: 158.0000 - val_true_positives: 156.0000\n",
            "Epoch 47/100\n",
            "40/40 [==============================] - 26s 655ms/step - loss: 0.0264 - Accuracy: 0.9922 - false_negatives: 5.0000 - false_positives: 5.0000 - true_negatives: 635.0000 - true_positives: 635.0000 - val_loss: 0.0679 - val_Accuracy: 0.9875 - val_false_negatives: 3.0000 - val_false_positives: 1.0000 - val_true_negatives: 159.0000 - val_true_positives: 157.0000\n",
            "Epoch 48/100\n",
            "40/40 [==============================] - 27s 657ms/step - loss: 0.0264 - Accuracy: 0.9898 - false_negatives: 7.0000 - false_positives: 6.0000 - true_negatives: 634.0000 - true_positives: 633.0000 - val_loss: 0.0603 - val_Accuracy: 0.9781 - val_false_negatives: 6.0000 - val_false_positives: 1.0000 - val_true_negatives: 159.0000 - val_true_positives: 154.0000\n",
            "Epoch 49/100\n",
            "40/40 [==============================] - 27s 661ms/step - loss: 0.0209 - Accuracy: 0.9922 - false_negatives: 3.0000 - false_positives: 7.0000 - true_negatives: 633.0000 - true_positives: 637.0000 - val_loss: 0.0643 - val_Accuracy: 0.9812 - val_false_negatives: 4.0000 - val_false_positives: 2.0000 - val_true_negatives: 158.0000 - val_true_positives: 156.0000\n",
            "Epoch 50/100\n",
            "40/40 [==============================] - 26s 655ms/step - loss: 0.0519 - Accuracy: 0.9836 - false_negatives: 7.0000 - false_positives: 14.0000 - true_negatives: 626.0000 - true_positives: 633.0000 - val_loss: 0.1385 - val_Accuracy: 0.9531 - val_false_negatives: 10.0000 - val_false_positives: 5.0000 - val_true_negatives: 155.0000 - val_true_positives: 150.0000\n",
            "Epoch 51/100\n",
            "40/40 [==============================] - 27s 657ms/step - loss: 0.0813 - Accuracy: 0.9727 - false_negatives: 16.0000 - false_positives: 19.0000 - true_negatives: 621.0000 - true_positives: 624.0000 - val_loss: 0.1028 - val_Accuracy: 0.9656 - val_false_negatives: 10.0000 - val_false_positives: 1.0000 - val_true_negatives: 159.0000 - val_true_positives: 150.0000\n",
            "Epoch 52/100\n",
            "40/40 [==============================] - 27s 657ms/step - loss: 0.0284 - Accuracy: 0.9883 - false_negatives: 7.0000 - false_positives: 8.0000 - true_negatives: 632.0000 - true_positives: 633.0000 - val_loss: 0.0161 - val_Accuracy: 0.9937 - val_false_negatives: 0.0000e+00 - val_false_positives: 2.0000 - val_true_negatives: 158.0000 - val_true_positives: 160.0000\n",
            "Epoch 53/100\n",
            "40/40 [==============================] - 26s 655ms/step - loss: 0.0035 - Accuracy: 1.0000 - false_negatives: 0.0000e+00 - false_positives: 0.0000e+00 - true_negatives: 640.0000 - true_positives: 640.0000 - val_loss: 0.0386 - val_Accuracy: 0.9875 - val_false_negatives: 3.0000 - val_false_positives: 1.0000 - val_true_negatives: 159.0000 - val_true_positives: 157.0000\n",
            "Epoch 54/100\n",
            "40/40 [==============================] - 27s 656ms/step - loss: 0.0069 - Accuracy: 0.9984 - false_negatives: 1.0000 - false_positives: 1.0000 - true_negatives: 639.0000 - true_positives: 639.0000 - val_loss: 0.1082 - val_Accuracy: 0.9812 - val_false_negatives: 4.0000 - val_false_positives: 2.0000 - val_true_negatives: 158.0000 - val_true_positives: 156.0000\n",
            "Epoch 55/100\n",
            "40/40 [==============================] - 27s 657ms/step - loss: 0.0042 - Accuracy: 0.9992 - false_negatives: 1.0000 - false_positives: 0.0000e+00 - true_negatives: 640.0000 - true_positives: 639.0000 - val_loss: 0.0696 - val_Accuracy: 0.9906 - val_false_negatives: 1.0000 - val_false_positives: 2.0000 - val_true_negatives: 158.0000 - val_true_positives: 159.0000\n",
            "Epoch 56/100\n",
            "40/40 [==============================] - 27s 658ms/step - loss: 0.0347 - Accuracy: 0.9898 - false_negatives: 5.0000 - false_positives: 8.0000 - true_negatives: 632.0000 - true_positives: 635.0000 - val_loss: 0.1783 - val_Accuracy: 0.9531 - val_false_negatives: 14.0000 - val_false_positives: 1.0000 - val_true_negatives: 159.0000 - val_true_positives: 146.0000\n",
            "Epoch 57/100\n",
            "40/40 [==============================] - 27s 664ms/step - loss: 0.0240 - Accuracy: 0.9914 - false_negatives: 6.0000 - false_positives: 5.0000 - true_negatives: 635.0000 - true_positives: 634.0000 - val_loss: 0.0089 - val_Accuracy: 0.9937 - val_false_negatives: 1.0000 - val_false_positives: 1.0000 - val_true_negatives: 159.0000 - val_true_positives: 159.0000\n",
            "Epoch 58/100\n",
            "40/40 [==============================] - 27s 657ms/step - loss: 0.0035 - Accuracy: 0.9992 - false_negatives: 0.0000e+00 - false_positives: 1.0000 - true_negatives: 639.0000 - true_positives: 640.0000 - val_loss: 0.0218 - val_Accuracy: 0.9969 - val_false_negatives: 0.0000e+00 - val_false_positives: 1.0000 - val_true_negatives: 159.0000 - val_true_positives: 160.0000\n",
            "Epoch 59/100\n",
            "40/40 [==============================] - 26s 654ms/step - loss: 9.6556e-04 - Accuracy: 1.0000 - false_negatives: 0.0000e+00 - false_positives: 0.0000e+00 - true_negatives: 640.0000 - true_positives: 640.0000 - val_loss: 0.0181 - val_Accuracy: 0.9906 - val_false_negatives: 3.0000 - val_false_positives: 0.0000e+00 - val_true_negatives: 160.0000 - val_true_positives: 157.0000\n",
            "Epoch 60/100\n",
            "40/40 [==============================] - 26s 656ms/step - loss: 0.0095 - Accuracy: 0.9977 - false_negatives: 2.0000 - false_positives: 1.0000 - true_negatives: 639.0000 - true_positives: 638.0000 - val_loss: 0.2837 - val_Accuracy: 0.9500 - val_false_negatives: 0.0000e+00 - val_false_positives: 16.0000 - val_true_negatives: 144.0000 - val_true_positives: 160.0000\n",
            "Epoch 61/100\n",
            "40/40 [==============================] - 27s 659ms/step - loss: 0.0825 - Accuracy: 0.9727 - false_negatives: 14.0000 - false_positives: 21.0000 - true_negatives: 619.0000 - true_positives: 626.0000 - val_loss: 0.0145 - val_Accuracy: 0.9937 - val_false_negatives: 2.0000 - val_false_positives: 0.0000e+00 - val_true_negatives: 160.0000 - val_true_positives: 158.0000\n",
            "Epoch 62/100\n",
            "40/40 [==============================] - 26s 655ms/step - loss: 0.0120 - Accuracy: 0.9961 - false_negatives: 2.0000 - false_positives: 3.0000 - true_negatives: 637.0000 - true_positives: 638.0000 - val_loss: 0.0114 - val_Accuracy: 0.9937 - val_false_negatives: 2.0000 - val_false_positives: 0.0000e+00 - val_true_negatives: 160.0000 - val_true_positives: 158.0000\n",
            "Epoch 63/100\n",
            "40/40 [==============================] - 26s 654ms/step - loss: 0.0184 - Accuracy: 0.9945 - false_negatives: 4.0000 - false_positives: 3.0000 - true_negatives: 637.0000 - true_positives: 636.0000 - val_loss: 0.0974 - val_Accuracy: 0.9719 - val_false_negatives: 4.0000 - val_false_positives: 5.0000 - val_true_negatives: 155.0000 - val_true_positives: 156.0000\n",
            "Epoch 64/100\n",
            "40/40 [==============================] - 27s 658ms/step - loss: 0.0117 - Accuracy: 0.9953 - false_negatives: 1.0000 - false_positives: 5.0000 - true_negatives: 635.0000 - true_positives: 639.0000 - val_loss: 0.0082 - val_Accuracy: 0.9969 - val_false_negatives: 0.0000e+00 - val_false_positives: 1.0000 - val_true_negatives: 159.0000 - val_true_positives: 160.0000\n",
            "Epoch 65/100\n",
            "40/40 [==============================] - 27s 662ms/step - loss: 0.0030 - Accuracy: 0.9992 - false_negatives: 0.0000e+00 - false_positives: 1.0000 - true_negatives: 639.0000 - true_positives: 640.0000 - val_loss: 0.0030 - val_Accuracy: 1.0000 - val_false_negatives: 0.0000e+00 - val_false_positives: 0.0000e+00 - val_true_negatives: 160.0000 - val_true_positives: 160.0000\n",
            "Epoch 66/100\n",
            "40/40 [==============================] - 26s 655ms/step - loss: 0.0112 - Accuracy: 0.9969 - false_negatives: 1.0000 - false_positives: 3.0000 - true_negatives: 637.0000 - true_positives: 639.0000 - val_loss: 0.0217 - val_Accuracy: 0.9844 - val_false_negatives: 5.0000 - val_false_positives: 0.0000e+00 - val_true_negatives: 160.0000 - val_true_positives: 155.0000\n",
            "Epoch 67/100\n",
            "40/40 [==============================] - 26s 652ms/step - loss: 0.0375 - Accuracy: 0.9867 - false_negatives: 7.0000 - false_positives: 10.0000 - true_negatives: 630.0000 - true_positives: 633.0000 - val_loss: 0.0120 - val_Accuracy: 0.9969 - val_false_negatives: 1.0000 - val_false_positives: 0.0000e+00 - val_true_negatives: 160.0000 - val_true_positives: 159.0000\n",
            "Epoch 68/100\n",
            "40/40 [==============================] - 26s 656ms/step - loss: 0.0085 - Accuracy: 0.9969 - false_negatives: 2.0000 - false_positives: 2.0000 - true_negatives: 638.0000 - true_positives: 638.0000 - val_loss: 0.0061 - val_Accuracy: 0.9969 - val_false_negatives: 1.0000 - val_false_positives: 0.0000e+00 - val_true_negatives: 160.0000 - val_true_positives: 159.0000\n",
            "Epoch 69/100\n",
            "40/40 [==============================] - 26s 652ms/step - loss: 0.0047 - Accuracy: 0.9977 - false_negatives: 1.0000 - false_positives: 2.0000 - true_negatives: 638.0000 - true_positives: 639.0000 - val_loss: 0.0025 - val_Accuracy: 1.0000 - val_false_negatives: 0.0000e+00 - val_false_positives: 0.0000e+00 - val_true_negatives: 160.0000 - val_true_positives: 160.0000\n",
            "Epoch 70/100\n",
            "40/40 [==============================] - 26s 656ms/step - loss: 6.3151e-04 - Accuracy: 1.0000 - false_negatives: 0.0000e+00 - false_positives: 0.0000e+00 - true_negatives: 640.0000 - true_positives: 640.0000 - val_loss: 0.0014 - val_Accuracy: 1.0000 - val_false_negatives: 0.0000e+00 - val_false_positives: 0.0000e+00 - val_true_negatives: 160.0000 - val_true_positives: 160.0000\n",
            "Epoch 71/100\n",
            "40/40 [==============================] - 26s 654ms/step - loss: 0.0166 - Accuracy: 0.9961 - false_negatives: 3.0000 - false_positives: 2.0000 - true_negatives: 638.0000 - true_positives: 637.0000 - val_loss: 0.0630 - val_Accuracy: 0.9812 - val_false_negatives: 0.0000e+00 - val_false_positives: 6.0000 - val_true_negatives: 154.0000 - val_true_positives: 160.0000\n",
            "Epoch 72/100\n",
            "40/40 [==============================] - 26s 656ms/step - loss: 0.0417 - Accuracy: 0.9867 - false_negatives: 7.0000 - false_positives: 10.0000 - true_negatives: 630.0000 - true_positives: 633.0000 - val_loss: 0.0289 - val_Accuracy: 0.9937 - val_false_negatives: 2.0000 - val_false_positives: 0.0000e+00 - val_true_negatives: 160.0000 - val_true_positives: 158.0000\n",
            "Epoch 73/100\n",
            "40/40 [==============================] - 26s 653ms/step - loss: 0.0179 - Accuracy: 0.9937 - false_negatives: 4.0000 - false_positives: 4.0000 - true_negatives: 636.0000 - true_positives: 636.0000 - val_loss: 0.0424 - val_Accuracy: 0.9875 - val_false_negatives: 0.0000e+00 - val_false_positives: 4.0000 - val_true_negatives: 156.0000 - val_true_positives: 160.0000\n",
            "Epoch 74/100\n",
            "40/40 [==============================] - 26s 653ms/step - loss: 0.0190 - Accuracy: 0.9945 - false_negatives: 3.0000 - false_positives: 4.0000 - true_negatives: 636.0000 - true_positives: 637.0000 - val_loss: 0.0109 - val_Accuracy: 0.9969 - val_false_negatives: 1.0000 - val_false_positives: 0.0000e+00 - val_true_negatives: 160.0000 - val_true_positives: 159.0000\n",
            "Epoch 75/100\n",
            "40/40 [==============================] - 26s 651ms/step - loss: 0.0194 - Accuracy: 0.9945 - false_negatives: 3.0000 - false_positives: 4.0000 - true_negatives: 636.0000 - true_positives: 637.0000 - val_loss: 0.0325 - val_Accuracy: 0.9875 - val_false_negatives: 3.0000 - val_false_positives: 1.0000 - val_true_negatives: 159.0000 - val_true_positives: 157.0000\n",
            "Epoch 76/100\n",
            "40/40 [==============================] - 26s 653ms/step - loss: 0.0106 - Accuracy: 0.9961 - false_negatives: 2.0000 - false_positives: 3.0000 - true_negatives: 637.0000 - true_positives: 638.0000 - val_loss: 0.0134 - val_Accuracy: 0.9937 - val_false_negatives: 2.0000 - val_false_positives: 0.0000e+00 - val_true_negatives: 160.0000 - val_true_positives: 158.0000\n",
            "Epoch 77/100\n",
            "40/40 [==============================] - 26s 653ms/step - loss: 0.0142 - Accuracy: 0.9953 - false_negatives: 2.0000 - false_positives: 4.0000 - true_negatives: 636.0000 - true_positives: 638.0000 - val_loss: 0.0201 - val_Accuracy: 0.9906 - val_false_negatives: 3.0000 - val_false_positives: 0.0000e+00 - val_true_negatives: 160.0000 - val_true_positives: 157.0000\n",
            "Epoch 78/100\n",
            "40/40 [==============================] - 26s 653ms/step - loss: 0.0213 - Accuracy: 0.9937 - false_negatives: 4.0000 - false_positives: 4.0000 - true_negatives: 636.0000 - true_positives: 636.0000 - val_loss: 0.0101 - val_Accuracy: 0.9937 - val_false_negatives: 1.0000 - val_false_positives: 1.0000 - val_true_negatives: 159.0000 - val_true_positives: 159.0000\n",
            "Epoch 79/100\n",
            "40/40 [==============================] - 26s 654ms/step - loss: 0.0110 - Accuracy: 0.9977 - false_negatives: 0.0000e+00 - false_positives: 3.0000 - true_negatives: 637.0000 - true_positives: 640.0000 - val_loss: 0.0189 - val_Accuracy: 0.9906 - val_false_negatives: 2.0000 - val_false_positives: 1.0000 - val_true_negatives: 159.0000 - val_true_positives: 158.0000\n",
            "Epoch 80/100\n",
            "40/40 [==============================] - 26s 652ms/step - loss: 0.0057 - Accuracy: 0.9977 - false_negatives: 1.0000 - false_positives: 2.0000 - true_negatives: 638.0000 - true_positives: 639.0000 - val_loss: 0.0256 - val_Accuracy: 0.9937 - val_false_negatives: 2.0000 - val_false_positives: 0.0000e+00 - val_true_negatives: 160.0000 - val_true_positives: 158.0000\n",
            "Epoch 81/100\n",
            "40/40 [==============================] - 26s 653ms/step - loss: 0.0133 - Accuracy: 0.9961 - false_negatives: 3.0000 - false_positives: 2.0000 - true_negatives: 638.0000 - true_positives: 637.0000 - val_loss: 0.0242 - val_Accuracy: 0.9906 - val_false_negatives: 2.0000 - val_false_positives: 1.0000 - val_true_negatives: 159.0000 - val_true_positives: 158.0000\n",
            "Epoch 82/100\n",
            "40/40 [==============================] - 26s 653ms/step - loss: 0.0011 - Accuracy: 1.0000 - false_negatives: 0.0000e+00 - false_positives: 0.0000e+00 - true_negatives: 640.0000 - true_positives: 640.0000 - val_loss: 0.0348 - val_Accuracy: 0.9875 - val_false_negatives: 1.0000 - val_false_positives: 3.0000 - val_true_negatives: 157.0000 - val_true_positives: 159.0000\n",
            "Epoch 83/100\n",
            "40/40 [==============================] - 27s 659ms/step - loss: 0.0031 - Accuracy: 0.9992 - false_negatives: 0.0000e+00 - false_positives: 1.0000 - true_negatives: 639.0000 - true_positives: 640.0000 - val_loss: 0.0602 - val_Accuracy: 0.9875 - val_false_negatives: 4.0000 - val_false_positives: 0.0000e+00 - val_true_negatives: 160.0000 - val_true_positives: 156.0000\n",
            "Epoch 84/100\n",
            "40/40 [==============================] - 26s 651ms/step - loss: 0.0141 - Accuracy: 0.9953 - false_negatives: 3.0000 - false_positives: 3.0000 - true_negatives: 637.0000 - true_positives: 637.0000 - val_loss: 0.0295 - val_Accuracy: 0.9937 - val_false_negatives: 0.0000e+00 - val_false_positives: 2.0000 - val_true_negatives: 158.0000 - val_true_positives: 160.0000\n",
            "Epoch 85/100\n",
            "40/40 [==============================] - 26s 652ms/step - loss: 0.0306 - Accuracy: 0.9906 - false_negatives: 4.0000 - false_positives: 8.0000 - true_negatives: 632.0000 - true_positives: 636.0000 - val_loss: 0.0055 - val_Accuracy: 1.0000 - val_false_negatives: 0.0000e+00 - val_false_positives: 0.0000e+00 - val_true_negatives: 160.0000 - val_true_positives: 160.0000\n",
            "Epoch 86/100\n",
            "40/40 [==============================] - 26s 655ms/step - loss: 0.0074 - Accuracy: 0.9953 - false_negatives: 2.0000 - false_positives: 4.0000 - true_negatives: 636.0000 - true_positives: 638.0000 - val_loss: 0.0152 - val_Accuracy: 0.9969 - val_false_negatives: 0.0000e+00 - val_false_positives: 1.0000 - val_true_negatives: 159.0000 - val_true_positives: 160.0000\n",
            "Epoch 87/100\n",
            "40/40 [==============================] - 26s 653ms/step - loss: 0.0067 - Accuracy: 0.9977 - false_negatives: 2.0000 - false_positives: 1.0000 - true_negatives: 639.0000 - true_positives: 638.0000 - val_loss: 0.0194 - val_Accuracy: 0.9937 - val_false_negatives: 2.0000 - val_false_positives: 0.0000e+00 - val_true_negatives: 160.0000 - val_true_positives: 158.0000\n",
            "Epoch 88/100\n",
            "40/40 [==============================] - 27s 656ms/step - loss: 0.0691 - Accuracy: 0.9812 - false_negatives: 9.0000 - false_positives: 15.0000 - true_negatives: 625.0000 - true_positives: 631.0000 - val_loss: 0.0523 - val_Accuracy: 0.9875 - val_false_negatives: 2.0000 - val_false_positives: 2.0000 - val_true_negatives: 158.0000 - val_true_positives: 158.0000\n",
            "Epoch 89/100\n",
            "40/40 [==============================] - 27s 657ms/step - loss: 0.0258 - Accuracy: 0.9937 - false_negatives: 2.0000 - false_positives: 6.0000 - true_negatives: 634.0000 - true_positives: 638.0000 - val_loss: 0.0098 - val_Accuracy: 0.9969 - val_false_negatives: 0.0000e+00 - val_false_positives: 1.0000 - val_true_negatives: 159.0000 - val_true_positives: 160.0000\n",
            "Epoch 90/100\n",
            "40/40 [==============================] - 26s 655ms/step - loss: 0.0076 - Accuracy: 0.9953 - false_negatives: 4.0000 - false_positives: 2.0000 - true_negatives: 638.0000 - true_positives: 636.0000 - val_loss: 0.0100 - val_Accuracy: 0.9969 - val_false_negatives: 0.0000e+00 - val_false_positives: 1.0000 - val_true_negatives: 159.0000 - val_true_positives: 160.0000\n",
            "Epoch 91/100\n",
            "40/40 [==============================] - 26s 651ms/step - loss: 0.0163 - Accuracy: 0.9969 - false_negatives: 1.0000 - false_positives: 3.0000 - true_negatives: 637.0000 - true_positives: 639.0000 - val_loss: 0.0300 - val_Accuracy: 0.9906 - val_false_negatives: 3.0000 - val_false_positives: 0.0000e+00 - val_true_negatives: 160.0000 - val_true_positives: 157.0000\n",
            "Epoch 92/100\n",
            "40/40 [==============================] - 26s 653ms/step - loss: 0.0114 - Accuracy: 0.9969 - false_negatives: 1.0000 - false_positives: 3.0000 - true_negatives: 637.0000 - true_positives: 639.0000 - val_loss: 0.0118 - val_Accuracy: 0.9969 - val_false_negatives: 1.0000 - val_false_positives: 0.0000e+00 - val_true_negatives: 160.0000 - val_true_positives: 159.0000\n",
            "Epoch 93/100\n",
            "40/40 [==============================] - 26s 655ms/step - loss: 0.0048 - Accuracy: 0.9992 - false_negatives: 1.0000 - false_positives: 0.0000e+00 - true_negatives: 640.0000 - true_positives: 639.0000 - val_loss: 0.0053 - val_Accuracy: 0.9969 - val_false_negatives: 1.0000 - val_false_positives: 0.0000e+00 - val_true_negatives: 160.0000 - val_true_positives: 159.0000\n",
            "Epoch 94/100\n",
            "40/40 [==============================] - 26s 654ms/step - loss: 0.0057 - Accuracy: 0.9992 - false_negatives: 0.0000e+00 - false_positives: 1.0000 - true_negatives: 639.0000 - true_positives: 640.0000 - val_loss: 0.0184 - val_Accuracy: 0.9937 - val_false_negatives: 0.0000e+00 - val_false_positives: 2.0000 - val_true_negatives: 158.0000 - val_true_positives: 160.0000\n",
            "Epoch 95/100\n",
            "40/40 [==============================] - 26s 656ms/step - loss: 0.0046 - Accuracy: 0.9984 - false_negatives: 0.0000e+00 - false_positives: 2.0000 - true_negatives: 638.0000 - true_positives: 640.0000 - val_loss: 0.0280 - val_Accuracy: 0.9906 - val_false_negatives: 3.0000 - val_false_positives: 0.0000e+00 - val_true_negatives: 160.0000 - val_true_positives: 157.0000\n",
            "Epoch 96/100\n",
            "40/40 [==============================] - 26s 652ms/step - loss: 0.0291 - Accuracy: 0.9906 - false_negatives: 6.0000 - false_positives: 6.0000 - true_negatives: 634.0000 - true_positives: 634.0000 - val_loss: 0.0468 - val_Accuracy: 0.9812 - val_false_negatives: 0.0000e+00 - val_false_positives: 6.0000 - val_true_negatives: 154.0000 - val_true_positives: 160.0000\n",
            "Epoch 97/100\n",
            "40/40 [==============================] - 26s 653ms/step - loss: 0.0199 - Accuracy: 0.9953 - false_negatives: 1.0000 - false_positives: 5.0000 - true_negatives: 635.0000 - true_positives: 639.0000 - val_loss: 0.0278 - val_Accuracy: 0.9937 - val_false_negatives: 2.0000 - val_false_positives: 0.0000e+00 - val_true_negatives: 160.0000 - val_true_positives: 158.0000\n",
            "Epoch 98/100\n",
            "40/40 [==============================] - 26s 654ms/step - loss: 0.0033 - Accuracy: 1.0000 - false_negatives: 0.0000e+00 - false_positives: 0.0000e+00 - true_negatives: 640.0000 - true_positives: 640.0000 - val_loss: 0.0522 - val_Accuracy: 0.9906 - val_false_negatives: 2.0000 - val_false_positives: 1.0000 - val_true_negatives: 159.0000 - val_true_positives: 158.0000\n",
            "Epoch 99/100\n",
            "40/40 [==============================] - 27s 660ms/step - loss: 0.0056 - Accuracy: 0.9984 - false_negatives: 1.0000 - false_positives: 1.0000 - true_negatives: 639.0000 - true_positives: 639.0000 - val_loss: 0.0221 - val_Accuracy: 0.9937 - val_false_negatives: 1.0000 - val_false_positives: 1.0000 - val_true_negatives: 159.0000 - val_true_positives: 159.0000\n",
            "Epoch 100/100\n",
            "40/40 [==============================] - 27s 657ms/step - loss: 0.0109 - Accuracy: 0.9953 - false_negatives: 2.0000 - false_positives: 4.0000 - true_negatives: 636.0000 - true_positives: 638.0000 - val_loss: 0.1014 - val_Accuracy: 0.9719 - val_false_negatives: 9.0000 - val_false_positives: 0.0000e+00 - val_true_negatives: 160.0000 - val_true_positives: 151.0000\n"
          ]
        }
      ]
    },
    {
      "cell_type": "markdown",
      "source": [
        "Plotting Traning Result"
      ],
      "metadata": {
        "id": "XZSFG8fXqz7c"
      }
    },
    {
      "cell_type": "code",
      "source": [
        "  #plotting\n",
        "  epochs = range(1, len(history.history['loss'])+1)\n",
        "  #plt.title(f\"Grafik loss training iterasi {iterasi}\")\n",
        "  plt.title(f\"Grafik loss training VGG16\")\n",
        "  plt.plot(epochs, history.history['loss'], 'r', label='Training Loss')\n",
        "  plt.plot(epochs, history.history['val_loss'], 'b', label='Validation Loss')    \n",
        "  plt.xlabel(\"Epoch\")\n",
        "  plt.ylabel(\"Loss\")\n",
        "  plt.legend()\n",
        "  plt.show()\n"
      ],
      "metadata": {
        "id": "3dXbDrJpY1NK",
        "colab": {
          "base_uri": "https://localhost:8080/",
          "height": 295
        },
        "outputId": "719d42d4-dcc7-4b09-d414-97f24f4ae633"
      },
      "execution_count": 11,
      "outputs": [
        {
          "output_type": "display_data",
          "data": {
            "text/plain": [
              "<Figure size 432x288 with 1 Axes>"
            ],
            "image/png": "[encoded data removed]"
          },
          "metadata": {
            "needs_background": "light"
          }
        }
      ]
    },
    {
      "cell_type": "code",
      "source": [
        "  #plotting\n",
        "  epochs = range(1, len(history.history['loss'])+1)\n",
        "  #plt.title(f\"Grafik Akurasi training iterasi {iterasi}\")\n",
        "  plt.title(f\"Grafik Akurasi training VGG16\")\n",
        "  plt.plot(epochs, history.history['Accuracy'], 'r', label='Training Accuracy')\n",
        "  plt.plot(epochs, history.history['val_Accuracy'], 'b', label='Validation Accuracy')    \n",
        "  plt.xlabel(\"Epoch\")\n",
        "  plt.ylabel(\"Accuracy\")\n",
        "  plt.legend()\n",
        "  plt.show()"
      ],
      "metadata": {
        "id": "j3xigprPwlSX",
        "colab": {
          "base_uri": "https://localhost:8080/",
          "height": 295
        },
        "outputId": "73dc750c-c5a6-40d6-e9a9-4c666c21ce32"
      },
      "execution_count": 12,
      "outputs": [
        {
          "output_type": "display_data",
          "data": {
            "text/plain": [
              "<Figure size 432x288 with 1 Axes>"
            ],
            "image/png": "[encoded data removed]"
          },
          "metadata": {
            "needs_background": "light"
          }
        }
      ]
    },
    {
      "cell_type": "markdown",
      "metadata": {
        "id": "bTgk1-sdzmgy"
      },
      "source": [
        "**Validating** Network"
      ]
    },
    {
      "cell_type": "code",
      "source": [
        "import matplotlib.pyplot as plt\n",
        "from sklearn.datasets import make_classification\n",
        "from numpy import mean\n",
        "from sklearn.metrics import confusion_matrix, ConfusionMatrixDisplay, accuracy_score, classification_report, recall_score\n",
        "\n",
        "#Creating list for correct label\n",
        "correct_labels = []\n",
        "for i in range(len(image_labels_validation)):\n",
        "  pr = image_labels_validation[i]\n",
        "  output = label_binarizer.inverse_transform(pr)\n",
        "  correct_labels.append(output[0])\n",
        "\n",
        "#Creating list for predicted label\n",
        "predicted_labels = []\n",
        "for i in range(len(np_image_list_validation)):\n",
        "  test_img = np_image_list_validation[i]\n",
        "  test_img = np.expand_dims(test_img, axis=0)\n",
        "  pr=model.predict(test_img)\n",
        "  output = label_binarizer.inverse_transform(pr)\n",
        "  predicted_labels.append(output[0])\n",
        "\n",
        "#creating confusion matrix by comparing both list\n",
        "confusion_matrix = confusion_matrix(correct_labels, predicted_labels)\n",
        "disp = ConfusionMatrixDisplay(confusion_matrix=confusion_matrix)  \n",
        "disp.plot()\n",
        "plt.show()\n",
        "print('--------')\n"
      ],
      "metadata": {
        "id": "z9NBaYvZ61d7",
        "colab": {
          "base_uri": "https://localhost:8080/",
          "height": 300
        },
        "outputId": "64df5a80-7182-46c6-ff03-fdf7d03dddac"
      },
      "execution_count": 13,
      "outputs": [
        {
          "output_type": "display_data",
          "data": {
            "text/plain": [
              "<Figure size 432x288 with 2 Axes>"
            ],
            "image/png": "[encoded data removed]"
          },
          "metadata": {
            "needs_background": "light"
          }
        },
        {
          "output_type": "stream",
          "name": "stdout",
          "text": [
            "--------\n"
          ]
        }
      ]
    },
    {
      "cell_type": "markdown",
      "source": [
        "**Testing** Network"
      ],
      "metadata": {
        "id": "saJYjKqX9tRL"
      }
    },
    {
      "cell_type": "code",
      "source": [
        "import matplotlib.pyplot as plt\n",
        "from sklearn.datasets import make_classification\n",
        "from numpy import mean\n",
        "from sklearn.metrics import confusion_matrix, ConfusionMatrixDisplay, accuracy_score, classification_report, recall_score\n",
        "\n",
        "#Creating list for correct label\n",
        "correct_labels = []\n",
        "for i in range(len(image_labels_test)):\n",
        "  pr = image_labels_test[i]\n",
        "  output = label_binarizer.inverse_transform(pr)\n",
        "  correct_labels.append(output[0])\n",
        "\n",
        "#Creating list for predicted label\n",
        "predicted_labels = []\n",
        "for i in range(len(np_image_list_test)):\n",
        "  test_img = np_image_list_test[i]\n",
        "  test_img = np.expand_dims(test_img, axis=0)\n",
        "  pr=model.predict(test_img)\n",
        "  output = label_binarizer.inverse_transform(pr)\n",
        "  predicted_labels.append(output[0])\n",
        "\n",
        "#creating confusion matrix by comparing both list\n",
        "confusion_matrix = confusion_matrix(correct_labels, predicted_labels)\n",
        "disp = ConfusionMatrixDisplay(confusion_matrix=confusion_matrix)  \n",
        "disp.plot()\n",
        "plt.show()\n",
        "print('--------')"
      ],
      "metadata": {
        "id": "3a1AYdsF4FoY",
        "colab": {
          "base_uri": "https://localhost:8080/",
          "height": 300
        },
        "outputId": "af5800e6-9b15-4a0c-ea1f-a077923c1a53"
      },
      "execution_count": 14,
      "outputs": [
        {
          "output_type": "display_data",
          "data": {
            "text/plain": [
              "<Figure size 432x288 with 2 Axes>"
            ],
            "image/png": "[encoded data removed]"
          },
          "metadata": {
            "needs_background": "light"
          }
        },
        {
          "output_type": "stream",
          "name": "stdout",
          "text": [
            "--------\n"
          ]
        }
      ]
    },
    {
      "cell_type": "code",
      "metadata": {
        "id": "AKd6Tu7mzmg2"
      },
      "source": [
        "# save the model to disk\n",
        "#print(\"[INFO] Saving model...\")\n",
        "# pickle.dump(model,open('cnn_model.pkl', 'wb'))\n",
        "#model.save('/content/vgg16.h5')    "
      ],
      "execution_count": 15,
      "outputs": []
    },
    {
      "cell_type": "code",
      "metadata": {
        "id": "O6iIKa7Jzmg7"
      },
      "source": [
        "#test_img = cv2.imread('/content/datasets/Apple/Apple___Black_rot/0139bc6d-391c-4fd1-bcae-cc74dabfddd7___JR_FrgE.S 2734.JPG')\n",
        "\n",
        "#plt.imshow(test_img)\n",
        "#test_img = test_img / 255\n",
        "#test_img = np.expand_dims(test_img, axis=0)\n",
        "#pr=model.predict(test_img)\n",
        "\n",
        "#print(pr)\n",
        "#output = label_binarizer.inverse_transform(pr)\n",
        "#print(output)\n"
      ],
      "execution_count": 16,
      "outputs": []
    }
  ]
}