{
  "nbformat": 4,
  "nbformat_minor": 0,
  "metadata": {
    "accelerator": "GPU",
    "colab": {
      "name": "Kodingan Skripsi 5 (VGG16)",
      "provenance": [],
      "collapsed_sections": [],
      "include_colab_link": true
    },
    "kernelspec": {
      "display_name": "Python 3",
      "language": "python",
      "name": "python3"
    },
    "language_info": {
      "codemirror_mode": {
        "name": "ipython",
        "version": 3
      },
      "file_extension": ".py",
      "mimetype": "text/x-python",
      "name": "python",
      "nbconvert_exporter": "python",
      "pygments_lexer": "ipython3",
      "version": "3.6.6"
    }
  },
  "cells": [
    {
      "cell_type": "markdown",
      "metadata": {
        "id": "view-in-github",
        "colab_type": "text"
      },
      "source": [
        "<a href=\"https://colab.research.google.com/github/TaufiqIdrus/Aplikasi-Pendeteksi-Mobil-master/blob/master/Kodingan_Skripsi_5_(VGG16).ipynb\" target=\"_parent\"><img src=\"https://colab.research.google.com/assets/colab-badge.svg\" alt=\"Open In Colab\"/></a>"
      ]
    },
    {
      "cell_type": "markdown",
      "metadata": {
        "id": "yJT_kQA2lITS"
      },
      "source": [
        "**Identifikasi Penyakit Pada Tanaman Apel menggunakan Convolutional Neural Network**"
      ]
    },
    {
      "cell_type": "code",
      "metadata": {
        "id": "xXeOaYTUzmgT"
      },
      "source": [
        "import numpy as np\n",
        "import pickle\n",
        "import os\n",
        "import cv2\n",
        "import tensorflow as tf\n",
        "import keras\n",
        "from os import listdir\n",
        "from sklearn.preprocessing import LabelBinarizer\n",
        "from sklearn.model_selection import KFold\n",
        "from keras.models import Sequential\n",
        "from keras.layers.normalization import batch_normalization\n",
        "from keras.layers.convolutional import Conv2D\n",
        "from keras.layers.convolutional import MaxPooling2D\n",
        "from keras.layers.core import Activation, Flatten, Dropout, Dense\n",
        "from keras import backend as K\n",
        "from tensorflow.keras.optimizers import Adam\n",
        "from keras.preprocessing import image\n",
        "from sklearn.preprocessing import MultiLabelBinarizer\n",
        "from sklearn.model_selection import train_test_split\n",
        "import matplotlib.pyplot as plt\n",
        "from sklearn.datasets import make_classification\n",
        "from numpy import mean\n",
        "from sklearn.metrics import confusion_matrix, ConfusionMatrixDisplay, accuracy_score, classification_report, recall_score\n"
      ],
      "execution_count": 1,
      "outputs": []
    },
    {
      "cell_type": "markdown",
      "metadata": {
        "id": "fp8C0d28lQok"
      },
      "source": [
        "Importing and Preparing Dataset"
      ]
    },
    {
      "cell_type": "code",
      "metadata": {
        "id": "_0xehllADlUs",
        "colab": {
          "base_uri": "https://localhost:8080/"
        },
        "outputId": "775969c8-306d-479a-d792-33461bf416d3"
      },
      "source": [
        "!pip install pyunpack\n",
        "!pip install patool\n",
        "from pyunpack import Archive\n",
        "Archive('/content/fold1.rar').extractall('/content/Datasets/')\n",
        "iterasi = 1\n",
        "width=256\n",
        "height=256\n",
        "default_image_size = tuple((height, width))\n",
        "directory_root_train = '/content/Datasets/fold1/Train'\n",
        "directory_root_validation = '/content/Datasets/fold1/Validation'\n",
        "directory_root_test = '/content/Datasets/fold1/Test'\n",
        "image_size = 0\n",
        "depth=3"
      ],
      "execution_count": 2,
      "outputs": [
        {
          "output_type": "stream",
          "name": "stdout",
          "text": [
            "Requirement already satisfied: pyunpack in /usr/local/lib/python3.7/dist-packages (0.2.2)\n",
            "Requirement already satisfied: easyprocess in /usr/local/lib/python3.7/dist-packages (from pyunpack) (1.1)\n",
            "Requirement already satisfied: entrypoint2 in /usr/local/lib/python3.7/dist-packages (from pyunpack) (1.0)\n",
            "Requirement already satisfied: patool in /usr/local/lib/python3.7/dist-packages (1.12)\n"
          ]
        }
      ]
    },
    {
      "cell_type": "code",
      "metadata": {
        "id": "KbAwJJTpzmge"
      },
      "source": [
        "def convert_image_to_array(image_dir):\n",
        "    try:\n",
        "        image = cv2.imread(image_dir)\n",
        "        if image is not None :\n",
        "            image = cv2.resize(image, default_image_size)   \n",
        "            return keras.preprocessing.image.img_to_array(image)\n",
        "        else :\n",
        "            return np.array([])\n",
        "    except Exception as e:\n",
        "        print(f\"Error : {e}\")\n",
        "        return None"
      ],
      "execution_count": 3,
      "outputs": []
    },
    {
      "cell_type": "markdown",
      "source": [
        "Converting **Training** Data to Array"
      ],
      "metadata": {
        "id": "bgXxUMO2cI_D"
      }
    },
    {
      "cell_type": "code",
      "metadata": {
        "id": "Erz6IjKXzmgg",
        "colab": {
          "base_uri": "https://localhost:8080/"
        },
        "outputId": "f0c9634a-4b67-4c74-cafe-21bce2ff1678"
      },
      "source": [
        "import numpy as np\n",
        "from os import listdir\n",
        "from sklearn.preprocessing import LabelBinarizer\n",
        "import pickle\n",
        "image_list_train, label_list_train = [], []\n",
        "try:\n",
        "    print(\"[INFO] Loading images ...\")\n",
        "    root_dir = listdir(directory_root_train)\n",
        "\n",
        "    for plant_disease_folder in root_dir:\n",
        "        print(f\"[INFO] Processing {plant_disease_folder} ...\")\n",
        "        plant_disease_image_list = listdir(f\"{directory_root_train}/{plant_disease_folder}/\")\n",
        "      \n",
        "        for image in plant_disease_image_list:\n",
        "            image_directory = f\"{directory_root_train}/{plant_disease_folder}/{image}\"\n",
        "\n",
        "            if image_directory.endswith(\".jpg\") == True or image_directory.endswith(\".JPG\") == True:\n",
        "                image_list_train.append(convert_image_to_array(image_directory))\n",
        "                label_list_train.append(plant_disease_folder)\n",
        "    print(\"[INFO] Image loading completed\")\n",
        "\n",
        "except Exception as e:\n",
        "    print(f\"Error : {e}\")\n",
        "\n",
        "#image labeling\n",
        "image_size = len(image_list_train)\n",
        "label_binarizer = LabelBinarizer()\n",
        "image_labels_train = label_binarizer.fit_transform(label_list_train)\n",
        "pickle.dump(label_binarizer,open('label_transform_train.pkl', 'wb'))\n",
        "n_classes = len(label_binarizer.classes_)\n",
        "np_image_list_train = np.array(image_list_train, dtype=np.float16) / 255.0"
      ],
      "execution_count": 4,
      "outputs": [
        {
          "output_type": "stream",
          "name": "stdout",
          "text": [
            "[INFO] Loading images ...\n",
            "[INFO] Processing Healthy ...\n",
            "[INFO] Processing Diseased ...\n",
            "[INFO] Image loading completed\n"
          ]
        }
      ]
    },
    {
      "cell_type": "markdown",
      "source": [
        "Converting **Validation** Data to Array"
      ],
      "metadata": {
        "id": "7eEMGiqRd_E4"
      }
    },
    {
      "cell_type": "code",
      "source": [
        "image_list_validation, label_list_validation = [], []\n",
        "try:\n",
        "    print(\"[INFO] Loading images ...\")\n",
        "    root_dir = listdir(directory_root_validation)\n",
        "\n",
        "    for plant_disease_folder in root_dir:\n",
        "        print(f\"[INFO] Processing {plant_disease_folder} ...\")\n",
        "        plant_disease_image_list = listdir(f\"{directory_root_validation}/{plant_disease_folder}/\")\n",
        "      \n",
        "        for image in plant_disease_image_list:\n",
        "            image_directory = f\"{directory_root_validation}/{plant_disease_folder}/{image}\"\n",
        "\n",
        "            if image_directory.endswith(\".jpg\") == True or image_directory.endswith(\".JPG\") == True:\n",
        "                image_list_validation.append(convert_image_to_array(image_directory))\n",
        "                label_list_validation.append(plant_disease_folder)\n",
        "    print(\"[INFO] Image loading completed\")\n",
        "\n",
        "except Exception as e:\n",
        "    print(f\"Error : {e}\")\n",
        "\n",
        "#image labeling\n",
        "image_size = len(image_list_validation)\n",
        "label_binarizer = LabelBinarizer()\n",
        "image_labels_validation = label_binarizer.fit_transform(label_list_validation)\n",
        "pickle.dump(label_binarizer,open('label_transform_validation.pkl', 'wb'))\n",
        "n_classes = len(label_binarizer.classes_)\n",
        "np_image_list_validation = np.array(image_list_validation, dtype=np.float16) / 255.0"
      ],
      "metadata": {
        "id": "wfHDdR0ZeEuU",
        "colab": {
          "base_uri": "https://localhost:8080/"
        },
        "outputId": "bbbf269e-1f7b-4a66-ffc2-6d9f14043b71"
      },
      "execution_count": 5,
      "outputs": [
        {
          "output_type": "stream",
          "name": "stdout",
          "text": [
            "[INFO] Loading images ...\n",
            "[INFO] Processing Healthy ...\n",
            "[INFO] Processing Diseased ...\n",
            "[INFO] Image loading completed\n"
          ]
        }
      ]
    },
    {
      "cell_type": "markdown",
      "source": [
        "Converting **Testing** Data to Array"
      ],
      "metadata": {
        "id": "brwWyZVncTdg"
      }
    },
    {
      "cell_type": "code",
      "metadata": {
        "id": "uNPby5UMcaWY",
        "colab": {
          "base_uri": "https://localhost:8080/"
        },
        "outputId": "d3cb9c96-aed8-4b6b-f58a-a5026a05643f"
      },
      "source": [
        "image_list_test, label_list_test = [], []\n",
        "try:\n",
        "    print(\"[INFO] Loading images ...\")\n",
        "    root_dir = listdir(directory_root_test)\n",
        "\n",
        "    for plant_disease_folder in root_dir:\n",
        "        print(f\"[INFO] Processing {plant_disease_folder} ...\")\n",
        "        plant_disease_image_list = listdir(f\"{directory_root_test}/{plant_disease_folder}/\")\n",
        "      \n",
        "        for image in plant_disease_image_list:\n",
        "            image_directory = f\"{directory_root_test}/{plant_disease_folder}/{image}\"\n",
        "\n",
        "            if image_directory.endswith(\".jpg\") == True or image_directory.endswith(\".JPG\") == True:\n",
        "                image_list_test.append(convert_image_to_array(image_directory))\n",
        "                label_list_test.append(plant_disease_folder)\n",
        "    print(\"[INFO] Image loading completed\")\n",
        "\n",
        "except Exception as e:\n",
        "    print(f\"Error : {e}\")\n",
        "\n",
        "#image labeling\n",
        "image_size = len(image_list_test)\n",
        "label_binarizer = LabelBinarizer()\n",
        "image_labels_test = label_binarizer.fit_transform(label_list_test)\n",
        "pickle.dump(label_binarizer,open('label_transform_test.pkl', 'wb'))\n",
        "n_classes = len(label_binarizer.classes_)\n",
        "np_image_list_test = np.array(image_list_test, dtype=np.float16) / 255.0"
      ],
      "execution_count": 6,
      "outputs": [
        {
          "output_type": "stream",
          "name": "stdout",
          "text": [
            "[INFO] Loading images ...\n",
            "[INFO] Processing Healthy ...\n",
            "[INFO] Processing Diseased ...\n",
            "[INFO] Image loading completed\n"
          ]
        }
      ]
    },
    {
      "cell_type": "markdown",
      "metadata": {
        "id": "jYBTFN0CnAi7"
      },
      "source": [
        "Data Augmenting Initialization"
      ]
    },
    {
      "cell_type": "code",
      "metadata": {
        "id": "TLMxMK2Tzmgr"
      },
      "source": [
        "aug = keras.preprocessing.image.ImageDataGenerator(\n",
        "    rotation_range=25, \n",
        "    width_shift_range=0.1,\n",
        "    height_shift_range=0.1, \n",
        "    shear_range=0.2, \n",
        "    zoom_range=0.2,\n",
        "    horizontal_flip=True, \n",
        "    fill_mode=\"nearest\")"
      ],
      "execution_count": 7,
      "outputs": []
    },
    {
      "cell_type": "markdown",
      "metadata": {
        "id": "H1BfRyYNnGv_"
      },
      "source": [
        "Creating CNN Model"
      ]
    },
    {
      "cell_type": "code",
      "source": [
        "from tensorflow.keras.layers import Input, Conv2D \n",
        "from tensorflow.keras.layers import MaxPool2D, Flatten, Dense, AveragePooling2D\n",
        "from tensorflow.keras import Model\n",
        "# input\n",
        "\n",
        "input = Input(shape =(256,256,3))\n",
        "# 1st Conv Block\n",
        "\n",
        "x = Conv2D (filters =64, kernel_size =3, padding ='same', activation='relu')(input)\n",
        "x = Conv2D (filters =64, kernel_size =3, padding ='same', activation='relu')(x)\n",
        "x = AveragePooling2D(pool_size =2, strides =2, padding ='same')(x)\n",
        "# 2nd Conv Block\n",
        "\n",
        "x = Conv2D (filters =128, kernel_size =3, padding ='same', activation='relu')(x)\n",
        "x = Conv2D (filters =128, kernel_size =3, padding ='same', activation='relu')(x)\n",
        "x = MaxPool2D(pool_size =2, strides =2, padding ='same')(x)\n",
        "# 3rd Conv block\n",
        "\n",
        "x = Conv2D (filters =256, kernel_size =3, padding ='same', activation='relu')(x)\n",
        "x = Conv2D (filters =256, kernel_size =3, padding ='same', activation='relu')(x)\n",
        "x = Conv2D (filters =256, kernel_size =3, padding ='same', activation='relu')(x)\n",
        "x = MaxPool2D(pool_size =2, strides =2, padding ='same')(x)\n",
        "# 4th Conv block\n",
        "\n",
        "x = Conv2D (filters =512, kernel_size =3, padding ='same', activation='relu')(x)\n",
        "x = Conv2D (filters =512, kernel_size =3, padding ='same', activation='relu')(x)\n",
        "x = Conv2D (filters =512, kernel_size =3, padding ='same', activation='relu')(x)\n",
        "x = MaxPool2D(pool_size =2, strides =2, padding ='same')(x)\n",
        "\n",
        "# 5th Conv block\n",
        "\n",
        "x = Conv2D (filters =512, kernel_size =3, padding ='same', activation='relu')(x)\n",
        "x = Conv2D (filters =512, kernel_size =3, padding ='same', activation='relu')(x)\n",
        "x = Conv2D (filters =512, kernel_size =3, padding ='same', activation='relu')(x)\n",
        "x = MaxPool2D(pool_size =2, strides =2, padding ='same')(x)\n",
        "# Fully connected layers\n",
        "\n",
        "x = Flatten()(x)\n",
        "x = Dense(units = 1024, activation ='relu')(x)\n",
        "output = Dense(units = 1, activation ='sigmoid')(x)\n",
        "# creating the model\n",
        "\n",
        "model = Model (inputs=input, outputs =output)"
      ],
      "metadata": {
        "id": "n3ba8ezfA9sp"
      },
      "execution_count": 8,
      "outputs": []
    },
    {
      "cell_type": "markdown",
      "metadata": {
        "id": "Zfsu3lVfnXFG"
      },
      "source": [
        "**Training** Network"
      ]
    },
    {
      "cell_type": "code",
      "source": [
        "history = None"
      ],
      "metadata": {
        "id": "_Q14CGsDVk8H"
      },
      "execution_count": 9,
      "outputs": []
    },
    {
      "cell_type": "code",
      "metadata": {
        "id": "rvwKwe3Lzmgv",
        "colab": {
          "base_uri": "https://localhost:8080/"
        },
        "outputId": "2ba4e081-8224-4796-ac57-4c6851622250"
      },
      "source": [
        "EPOCHS = 100\n",
        "INIT_LR = 1e-4\n",
        "BS = 32\n",
        "with tf.device('/GPU:0'):\n",
        "  opt = Adam(learning_rate=INIT_LR, decay=INIT_LR / EPOCHS)\n",
        "  model.compile(loss=\"binary_crossentropy\", optimizer=opt,metrics=[\"Accuracy\", \"FalseNegatives\", \"FalsePositives\", \"TrueNegatives\", \"TruePositives\"])\n",
        "  \n",
        "  history = model.fit(\n",
        "      aug.flow(np_image_list_train, image_labels_train, batch_size=BS),\n",
        "      validation_data=(np_image_list_validation, image_labels_validation),\n",
        "      steps_per_epoch=len(np_image_list_train) // BS,\n",
        "      epochs=EPOCHS, \n",
        "      verbose=1,\n",
        "      )\n"
      ],
      "execution_count": 11,
      "outputs": [
        {
          "output_type": "stream",
          "name": "stdout",
          "text": [
            "Epoch 1/100\n",
            "9/9 [==============================] - 20s 922ms/step - loss: 0.6949 - Accuracy: 0.5347 - false_negatives: 134.0000 - false_positives: 0.0000e+00 - true_negatives: 154.0000 - true_positives: 0.0000e+00 - val_loss: 0.6927 - val_Accuracy: 0.5278 - val_false_negatives: 34.0000 - val_false_positives: 0.0000e+00 - val_true_negatives: 38.0000 - val_true_positives: 0.0000e+00\n",
            "Epoch 2/100\n",
            "9/9 [==============================] - 7s 711ms/step - loss: 0.6917 - Accuracy: 0.5347 - false_negatives: 134.0000 - false_positives: 0.0000e+00 - true_negatives: 154.0000 - true_positives: 0.0000e+00 - val_loss: 0.6897 - val_Accuracy: 0.5278 - val_false_negatives: 34.0000 - val_false_positives: 0.0000e+00 - val_true_negatives: 38.0000 - val_true_positives: 0.0000e+00\n",
            "Epoch 3/100\n",
            "9/9 [==============================] - 7s 712ms/step - loss: 0.6919 - Accuracy: 0.5347 - false_negatives: 134.0000 - false_positives: 0.0000e+00 - true_negatives: 154.0000 - true_positives: 0.0000e+00 - val_loss: 0.6912 - val_Accuracy: 0.5278 - val_false_negatives: 34.0000 - val_false_positives: 0.0000e+00 - val_true_negatives: 38.0000 - val_true_positives: 0.0000e+00\n",
            "Epoch 4/100\n",
            "9/9 [==============================] - 7s 714ms/step - loss: 0.6913 - Accuracy: 0.5347 - false_negatives: 134.0000 - false_positives: 0.0000e+00 - true_negatives: 154.0000 - true_positives: 0.0000e+00 - val_loss: 0.6922 - val_Accuracy: 0.5278 - val_false_negatives: 34.0000 - val_false_positives: 0.0000e+00 - val_true_negatives: 38.0000 - val_true_positives: 0.0000e+00\n",
            "Epoch 5/100\n",
            "9/9 [==============================] - 7s 713ms/step - loss: 0.6917 - Accuracy: 0.5347 - false_negatives: 134.0000 - false_positives: 0.0000e+00 - true_negatives: 154.0000 - true_positives: 0.0000e+00 - val_loss: 0.6905 - val_Accuracy: 0.5278 - val_false_negatives: 34.0000 - val_false_positives: 0.0000e+00 - val_true_negatives: 38.0000 - val_true_positives: 0.0000e+00\n",
            "Epoch 6/100\n",
            "9/9 [==============================] - 7s 710ms/step - loss: 0.6895 - Accuracy: 0.5347 - false_negatives: 134.0000 - false_positives: 0.0000e+00 - true_negatives: 154.0000 - true_positives: 0.0000e+00 - val_loss: 0.6859 - val_Accuracy: 0.5278 - val_false_negatives: 34.0000 - val_false_positives: 0.0000e+00 - val_true_negatives: 38.0000 - val_true_positives: 0.0000e+00\n",
            "Epoch 7/100\n",
            "9/9 [==============================] - 7s 713ms/step - loss: 0.6842 - Accuracy: 0.5729 - false_negatives: 122.0000 - false_positives: 1.0000 - true_negatives: 153.0000 - true_positives: 12.0000 - val_loss: 0.6894 - val_Accuracy: 0.5278 - val_false_negatives: 34.0000 - val_false_positives: 0.0000e+00 - val_true_negatives: 38.0000 - val_true_positives: 0.0000e+00\n",
            "Epoch 8/100\n",
            "9/9 [==============================] - 7s 706ms/step - loss: 0.6826 - Accuracy: 0.5382 - false_negatives: 89.0000 - false_positives: 44.0000 - true_negatives: 110.0000 - true_positives: 45.0000 - val_loss: 0.6931 - val_Accuracy: 0.4722 - val_false_negatives: 0.0000e+00 - val_false_positives: 38.0000 - val_true_negatives: 0.0000e+00 - val_true_positives: 34.0000\n",
            "Epoch 9/100\n",
            "9/9 [==============================] - 7s 706ms/step - loss: 0.6920 - Accuracy: 0.4757 - false_negatives: 0.0000e+00 - false_positives: 151.0000 - true_negatives: 3.0000 - true_positives: 134.0000 - val_loss: 0.6878 - val_Accuracy: 0.4722 - val_false_negatives: 0.0000e+00 - val_false_positives: 38.0000 - val_true_negatives: 0.0000e+00 - val_true_positives: 34.0000\n",
            "Epoch 10/100\n",
            "9/9 [==============================] - 7s 706ms/step - loss: 0.6816 - Accuracy: 0.5868 - false_negatives: 14.0000 - false_positives: 105.0000 - true_negatives: 49.0000 - true_positives: 120.0000 - val_loss: 0.6773 - val_Accuracy: 0.6667 - val_false_negatives: 16.0000 - val_false_positives: 8.0000 - val_true_negatives: 30.0000 - val_true_positives: 18.0000\n",
            "Epoch 11/100\n",
            "9/9 [==============================] - 7s 699ms/step - loss: 0.6413 - Accuracy: 0.6736 - false_negatives: 49.0000 - false_positives: 45.0000 - true_negatives: 109.0000 - true_positives: 85.0000 - val_loss: 0.7032 - val_Accuracy: 0.5278 - val_false_negatives: 34.0000 - val_false_positives: 0.0000e+00 - val_true_negatives: 38.0000 - val_true_positives: 0.0000e+00\n",
            "Epoch 12/100\n",
            "9/9 [==============================] - 7s 705ms/step - loss: 0.6848 - Accuracy: 0.5625 - false_negatives: 126.0000 - false_positives: 0.0000e+00 - true_negatives: 154.0000 - true_positives: 8.0000 - val_loss: 0.6848 - val_Accuracy: 0.6389 - val_false_negatives: 25.0000 - val_false_positives: 1.0000 - val_true_negatives: 37.0000 - val_true_positives: 9.0000\n",
            "Epoch 13/100\n",
            "9/9 [==============================] - 7s 737ms/step - loss: 0.6620 - Accuracy: 0.6076 - false_negatives: 22.0000 - false_positives: 91.0000 - true_negatives: 63.0000 - true_positives: 112.0000 - val_loss: 0.6340 - val_Accuracy: 0.5972 - val_false_negatives: 0.0000e+00 - val_false_positives: 29.0000 - val_true_negatives: 9.0000 - val_true_positives: 34.0000\n",
            "Epoch 14/100\n",
            "9/9 [==============================] - 7s 706ms/step - loss: 0.6328 - Accuracy: 0.7153 - false_negatives: 43.0000 - false_positives: 39.0000 - true_negatives: 115.0000 - true_positives: 91.0000 - val_loss: 0.7388 - val_Accuracy: 0.5833 - val_false_negatives: 0.0000e+00 - val_false_positives: 30.0000 - val_true_negatives: 8.0000 - val_true_positives: 34.0000\n",
            "Epoch 15/100\n",
            "9/9 [==============================] - 7s 711ms/step - loss: 0.6060 - Accuracy: 0.6944 - false_negatives: 43.0000 - false_positives: 45.0000 - true_negatives: 109.0000 - true_positives: 91.0000 - val_loss: 0.5966 - val_Accuracy: 0.7361 - val_false_negatives: 1.0000 - val_false_positives: 18.0000 - val_true_negatives: 20.0000 - val_true_positives: 33.0000\n",
            "Epoch 16/100\n",
            "9/9 [==============================] - 7s 709ms/step - loss: 0.5731 - Accuracy: 0.7292 - false_negatives: 41.0000 - false_positives: 37.0000 - true_negatives: 117.0000 - true_positives: 93.0000 - val_loss: 0.4654 - val_Accuracy: 0.8194 - val_false_negatives: 5.0000 - val_false_positives: 8.0000 - val_true_negatives: 30.0000 - val_true_positives: 29.0000\n",
            "Epoch 17/100\n",
            "9/9 [==============================] - 7s 701ms/step - loss: 0.6050 - Accuracy: 0.6910 - false_negatives: 32.0000 - false_positives: 57.0000 - true_negatives: 97.0000 - true_positives: 102.0000 - val_loss: 0.6598 - val_Accuracy: 0.5278 - val_false_negatives: 0.0000e+00 - val_false_positives: 34.0000 - val_true_negatives: 4.0000 - val_true_positives: 34.0000\n",
            "Epoch 18/100\n",
            "9/9 [==============================] - 7s 706ms/step - loss: 0.6177 - Accuracy: 0.6632 - false_negatives: 6.0000 - false_positives: 91.0000 - true_negatives: 63.0000 - true_positives: 128.0000 - val_loss: 0.6253 - val_Accuracy: 0.6389 - val_false_negatives: 0.0000e+00 - val_false_positives: 26.0000 - val_true_negatives: 12.0000 - val_true_positives: 34.0000\n",
            "Epoch 19/100\n",
            "9/9 [==============================] - 7s 711ms/step - loss: 0.5654 - Accuracy: 0.7257 - false_negatives: 37.0000 - false_positives: 42.0000 - true_negatives: 112.0000 - true_positives: 97.0000 - val_loss: 0.5384 - val_Accuracy: 0.6944 - val_false_negatives: 0.0000e+00 - val_false_positives: 22.0000 - val_true_negatives: 16.0000 - val_true_positives: 34.0000\n",
            "Epoch 20/100\n",
            "9/9 [==============================] - 7s 703ms/step - loss: 0.5288 - Accuracy: 0.7569 - false_negatives: 37.0000 - false_positives: 33.0000 - true_negatives: 121.0000 - true_positives: 97.0000 - val_loss: 0.6294 - val_Accuracy: 0.5972 - val_false_negatives: 0.0000e+00 - val_false_positives: 29.0000 - val_true_negatives: 9.0000 - val_true_positives: 34.0000\n",
            "Epoch 21/100\n",
            "9/9 [==============================] - 7s 705ms/step - loss: 0.5442 - Accuracy: 0.7465 - false_negatives: 33.0000 - false_positives: 40.0000 - true_negatives: 114.0000 - true_positives: 101.0000 - val_loss: 0.7253 - val_Accuracy: 0.5833 - val_false_negatives: 0.0000e+00 - val_false_positives: 30.0000 - val_true_negatives: 8.0000 - val_true_positives: 34.0000\n",
            "Epoch 22/100\n",
            "9/9 [==============================] - 7s 701ms/step - loss: 0.5928 - Accuracy: 0.7049 - false_negatives: 33.0000 - false_positives: 52.0000 - true_negatives: 102.0000 - true_positives: 101.0000 - val_loss: 0.5587 - val_Accuracy: 0.8056 - val_false_negatives: 6.0000 - val_false_positives: 8.0000 - val_true_negatives: 30.0000 - val_true_positives: 28.0000\n",
            "Epoch 23/100\n",
            "9/9 [==============================] - 7s 703ms/step - loss: 0.5127 - Accuracy: 0.7951 - false_negatives: 31.0000 - false_positives: 28.0000 - true_negatives: 126.0000 - true_positives: 103.0000 - val_loss: 0.5704 - val_Accuracy: 0.6528 - val_false_negatives: 0.0000e+00 - val_false_positives: 25.0000 - val_true_negatives: 13.0000 - val_true_positives: 34.0000\n",
            "Epoch 24/100\n",
            "9/9 [==============================] - 7s 708ms/step - loss: 0.4840 - Accuracy: 0.7604 - false_negatives: 15.0000 - false_positives: 54.0000 - true_negatives: 100.0000 - true_positives: 119.0000 - val_loss: 0.5911 - val_Accuracy: 0.6667 - val_false_negatives: 0.0000e+00 - val_false_positives: 24.0000 - val_true_negatives: 14.0000 - val_true_positives: 34.0000\n",
            "Epoch 25/100\n",
            "9/9 [==============================] - 7s 711ms/step - loss: 0.4389 - Accuracy: 0.7917 - false_negatives: 20.0000 - false_positives: 40.0000 - true_negatives: 114.0000 - true_positives: 114.0000 - val_loss: 0.4786 - val_Accuracy: 0.7500 - val_false_negatives: 0.0000e+00 - val_false_positives: 18.0000 - val_true_negatives: 20.0000 - val_true_positives: 34.0000\n",
            "Epoch 26/100\n",
            "9/9 [==============================] - 7s 707ms/step - loss: 0.5365 - Accuracy: 0.7812 - false_negatives: 26.0000 - false_positives: 37.0000 - true_negatives: 117.0000 - true_positives: 108.0000 - val_loss: 0.7609 - val_Accuracy: 0.5139 - val_false_negatives: 0.0000e+00 - val_false_positives: 35.0000 - val_true_negatives: 3.0000 - val_true_positives: 34.0000\n",
            "Epoch 27/100\n",
            "9/9 [==============================] - 7s 711ms/step - loss: 0.5653 - Accuracy: 0.7257 - false_negatives: 21.0000 - false_positives: 58.0000 - true_negatives: 96.0000 - true_positives: 113.0000 - val_loss: 0.6016 - val_Accuracy: 0.7083 - val_false_negatives: 8.0000 - val_false_positives: 13.0000 - val_true_negatives: 25.0000 - val_true_positives: 26.0000\n",
            "Epoch 28/100\n",
            "9/9 [==============================] - 7s 704ms/step - loss: 0.5786 - Accuracy: 0.7465 - false_negatives: 24.0000 - false_positives: 49.0000 - true_negatives: 105.0000 - true_positives: 110.0000 - val_loss: 0.5773 - val_Accuracy: 0.7083 - val_false_negatives: 1.0000 - val_false_positives: 20.0000 - val_true_negatives: 18.0000 - val_true_positives: 33.0000\n",
            "Epoch 29/100\n",
            "9/9 [==============================] - 7s 707ms/step - loss: 0.5376 - Accuracy: 0.7326 - false_negatives: 30.0000 - false_positives: 47.0000 - true_negatives: 107.0000 - true_positives: 104.0000 - val_loss: 0.4885 - val_Accuracy: 0.8333 - val_false_negatives: 2.0000 - val_false_positives: 10.0000 - val_true_negatives: 28.0000 - val_true_positives: 32.0000\n",
            "Epoch 30/100\n",
            "9/9 [==============================] - 7s 702ms/step - loss: 0.5522 - Accuracy: 0.7222 - false_negatives: 37.0000 - false_positives: 43.0000 - true_negatives: 111.0000 - true_positives: 97.0000 - val_loss: 0.5341 - val_Accuracy: 0.7083 - val_false_negatives: 0.0000e+00 - val_false_positives: 21.0000 - val_true_negatives: 17.0000 - val_true_positives: 34.0000\n",
            "Epoch 31/100\n",
            "9/9 [==============================] - 7s 702ms/step - loss: 0.5232 - Accuracy: 0.7569 - false_negatives: 18.0000 - false_positives: 52.0000 - true_negatives: 102.0000 - true_positives: 116.0000 - val_loss: 0.5530 - val_Accuracy: 0.6806 - val_false_negatives: 21.0000 - val_false_positives: 2.0000 - val_true_negatives: 36.0000 - val_true_positives: 13.0000\n",
            "Epoch 32/100\n",
            "9/9 [==============================] - 7s 707ms/step - loss: 0.6372 - Accuracy: 0.6493 - false_negatives: 39.0000 - false_positives: 62.0000 - true_negatives: 92.0000 - true_positives: 95.0000 - val_loss: 0.7078 - val_Accuracy: 0.5000 - val_false_negatives: 0.0000e+00 - val_false_positives: 36.0000 - val_true_negatives: 2.0000 - val_true_positives: 34.0000\n",
            "Epoch 33/100\n",
            "9/9 [==============================] - 7s 702ms/step - loss: 0.5942 - Accuracy: 0.6944 - false_negatives: 23.0000 - false_positives: 65.0000 - true_negatives: 89.0000 - true_positives: 111.0000 - val_loss: 0.5312 - val_Accuracy: 0.8472 - val_false_negatives: 3.0000 - val_false_positives: 8.0000 - val_true_negatives: 30.0000 - val_true_positives: 31.0000\n",
            "Epoch 34/100\n",
            "9/9 [==============================] - 7s 707ms/step - loss: 0.5361 - Accuracy: 0.7361 - false_negatives: 29.0000 - false_positives: 47.0000 - true_negatives: 107.0000 - true_positives: 105.0000 - val_loss: 0.6424 - val_Accuracy: 0.5694 - val_false_negatives: 0.0000e+00 - val_false_positives: 31.0000 - val_true_negatives: 7.0000 - val_true_positives: 34.0000\n",
            "Epoch 35/100\n",
            "9/9 [==============================] - 7s 709ms/step - loss: 0.5142 - Accuracy: 0.7604 - false_negatives: 25.0000 - false_positives: 44.0000 - true_negatives: 110.0000 - true_positives: 109.0000 - val_loss: 0.6242 - val_Accuracy: 0.5972 - val_false_negatives: 0.0000e+00 - val_false_positives: 29.0000 - val_true_negatives: 9.0000 - val_true_positives: 34.0000\n",
            "Epoch 36/100\n",
            "9/9 [==============================] - 7s 702ms/step - loss: 0.5308 - Accuracy: 0.7257 - false_negatives: 29.0000 - false_positives: 50.0000 - true_negatives: 104.0000 - true_positives: 105.0000 - val_loss: 0.8361 - val_Accuracy: 0.5139 - val_false_negatives: 0.0000e+00 - val_false_positives: 35.0000 - val_true_negatives: 3.0000 - val_true_positives: 34.0000\n",
            "Epoch 37/100\n",
            "9/9 [==============================] - 7s 705ms/step - loss: 0.5648 - Accuracy: 0.7257 - false_negatives: 33.0000 - false_positives: 46.0000 - true_negatives: 108.0000 - true_positives: 101.0000 - val_loss: 0.5555 - val_Accuracy: 0.7500 - val_false_negatives: 0.0000e+00 - val_false_positives: 18.0000 - val_true_negatives: 20.0000 - val_true_positives: 34.0000\n",
            "Epoch 38/100\n",
            "9/9 [==============================] - 7s 706ms/step - loss: 0.5101 - Accuracy: 0.7500 - false_negatives: 12.0000 - false_positives: 60.0000 - true_negatives: 94.0000 - true_positives: 122.0000 - val_loss: 0.5617 - val_Accuracy: 0.7083 - val_false_negatives: 0.0000e+00 - val_false_positives: 21.0000 - val_true_negatives: 17.0000 - val_true_positives: 34.0000\n",
            "Epoch 39/100\n",
            "9/9 [==============================] - 7s 707ms/step - loss: 0.4955 - Accuracy: 0.7847 - false_negatives: 31.0000 - false_positives: 31.0000 - true_negatives: 123.0000 - true_positives: 103.0000 - val_loss: 0.4687 - val_Accuracy: 0.7778 - val_false_negatives: 1.0000 - val_false_positives: 15.0000 - val_true_negatives: 23.0000 - val_true_positives: 33.0000\n",
            "Epoch 40/100\n",
            "9/9 [==============================] - 7s 705ms/step - loss: 0.4684 - Accuracy: 0.7778 - false_negatives: 25.0000 - false_positives: 39.0000 - true_negatives: 115.0000 - true_positives: 109.0000 - val_loss: 0.4712 - val_Accuracy: 0.7639 - val_false_negatives: 0.0000e+00 - val_false_positives: 17.0000 - val_true_negatives: 21.0000 - val_true_positives: 34.0000\n",
            "Epoch 41/100\n",
            "9/9 [==============================] - 7s 706ms/step - loss: 0.4276 - Accuracy: 0.8021 - false_negatives: 20.0000 - false_positives: 37.0000 - true_negatives: 117.0000 - true_positives: 114.0000 - val_loss: 0.5408 - val_Accuracy: 0.6667 - val_false_negatives: 0.0000e+00 - val_false_positives: 24.0000 - val_true_negatives: 14.0000 - val_true_positives: 34.0000\n",
            "Epoch 42/100\n",
            "9/9 [==============================] - 7s 708ms/step - loss: 0.4012 - Accuracy: 0.8403 - false_negatives: 16.0000 - false_positives: 30.0000 - true_negatives: 124.0000 - true_positives: 118.0000 - val_loss: 0.5718 - val_Accuracy: 0.6806 - val_false_negatives: 0.0000e+00 - val_false_positives: 23.0000 - val_true_negatives: 15.0000 - val_true_positives: 34.0000\n",
            "Epoch 43/100\n",
            "9/9 [==============================] - 7s 709ms/step - loss: 0.3915 - Accuracy: 0.8160 - false_negatives: 26.0000 - false_positives: 27.0000 - true_negatives: 127.0000 - true_positives: 108.0000 - val_loss: 0.5637 - val_Accuracy: 0.6667 - val_false_negatives: 0.0000e+00 - val_false_positives: 24.0000 - val_true_negatives: 14.0000 - val_true_positives: 34.0000\n",
            "Epoch 44/100\n",
            "9/9 [==============================] - 7s 712ms/step - loss: 0.3675 - Accuracy: 0.8368 - false_negatives: 13.0000 - false_positives: 34.0000 - true_negatives: 120.0000 - true_positives: 121.0000 - val_loss: 0.4321 - val_Accuracy: 0.7639 - val_false_negatives: 1.0000 - val_false_positives: 16.0000 - val_true_negatives: 22.0000 - val_true_positives: 33.0000\n",
            "Epoch 45/100\n",
            "9/9 [==============================] - 7s 706ms/step - loss: 0.3776 - Accuracy: 0.8368 - false_negatives: 18.0000 - false_positives: 29.0000 - true_negatives: 125.0000 - true_positives: 116.0000 - val_loss: 0.5048 - val_Accuracy: 0.7222 - val_false_negatives: 0.0000e+00 - val_false_positives: 20.0000 - val_true_negatives: 18.0000 - val_true_positives: 34.0000\n",
            "Epoch 46/100\n",
            "9/9 [==============================] - 7s 707ms/step - loss: 0.3722 - Accuracy: 0.8438 - false_negatives: 25.0000 - false_positives: 20.0000 - true_negatives: 134.0000 - true_positives: 109.0000 - val_loss: 0.6226 - val_Accuracy: 0.6667 - val_false_negatives: 0.0000e+00 - val_false_positives: 24.0000 - val_true_negatives: 14.0000 - val_true_positives: 34.0000\n",
            "Epoch 47/100\n",
            "9/9 [==============================] - 7s 704ms/step - loss: 0.3975 - Accuracy: 0.8438 - false_negatives: 16.0000 - false_positives: 29.0000 - true_negatives: 125.0000 - true_positives: 118.0000 - val_loss: 0.4846 - val_Accuracy: 0.7083 - val_false_negatives: 1.0000 - val_false_positives: 20.0000 - val_true_negatives: 18.0000 - val_true_positives: 33.0000\n",
            "Epoch 48/100\n",
            "9/9 [==============================] - 7s 708ms/step - loss: 0.3899 - Accuracy: 0.8438 - false_negatives: 18.0000 - false_positives: 27.0000 - true_negatives: 127.0000 - true_positives: 116.0000 - val_loss: 0.4584 - val_Accuracy: 0.7500 - val_false_negatives: 1.0000 - val_false_positives: 17.0000 - val_true_negatives: 21.0000 - val_true_positives: 33.0000\n",
            "Epoch 49/100\n",
            "9/9 [==============================] - 7s 708ms/step - loss: 0.3558 - Accuracy: 0.8403 - false_negatives: 14.0000 - false_positives: 32.0000 - true_negatives: 122.0000 - true_positives: 120.0000 - val_loss: 0.4006 - val_Accuracy: 0.7778 - val_false_negatives: 4.0000 - val_false_positives: 12.0000 - val_true_negatives: 26.0000 - val_true_positives: 30.0000\n",
            "Epoch 50/100\n",
            "9/9 [==============================] - 7s 707ms/step - loss: 0.4142 - Accuracy: 0.8264 - false_negatives: 21.0000 - false_positives: 29.0000 - true_negatives: 125.0000 - true_positives: 113.0000 - val_loss: 0.5166 - val_Accuracy: 0.6944 - val_false_negatives: 0.0000e+00 - val_false_positives: 22.0000 - val_true_negatives: 16.0000 - val_true_positives: 34.0000\n",
            "Epoch 51/100\n",
            "9/9 [==============================] - 7s 704ms/step - loss: 0.3871 - Accuracy: 0.8299 - false_negatives: 25.0000 - false_positives: 24.0000 - true_negatives: 130.0000 - true_positives: 109.0000 - val_loss: 0.4946 - val_Accuracy: 0.7361 - val_false_negatives: 0.0000e+00 - val_false_positives: 19.0000 - val_true_negatives: 19.0000 - val_true_positives: 34.0000\n",
            "Epoch 52/100\n",
            "9/9 [==============================] - 7s 708ms/step - loss: 0.3987 - Accuracy: 0.8264 - false_negatives: 15.0000 - false_positives: 35.0000 - true_negatives: 119.0000 - true_positives: 119.0000 - val_loss: 0.4538 - val_Accuracy: 0.7917 - val_false_negatives: 1.0000 - val_false_positives: 14.0000 - val_true_negatives: 24.0000 - val_true_positives: 33.0000\n",
            "Epoch 53/100\n",
            "9/9 [==============================] - 7s 709ms/step - loss: 0.3646 - Accuracy: 0.8299 - false_negatives: 8.0000 - false_positives: 41.0000 - true_negatives: 113.0000 - true_positives: 126.0000 - val_loss: 0.5235 - val_Accuracy: 0.6806 - val_false_negatives: 0.0000e+00 - val_false_positives: 23.0000 - val_true_negatives: 15.0000 - val_true_positives: 34.0000\n",
            "Epoch 54/100\n",
            "9/9 [==============================] - 7s 728ms/step - loss: 0.3370 - Accuracy: 0.8681 - false_negatives: 14.0000 - false_positives: 24.0000 - true_negatives: 130.0000 - true_positives: 120.0000 - val_loss: 0.5166 - val_Accuracy: 0.7222 - val_false_negatives: 0.0000e+00 - val_false_positives: 20.0000 - val_true_negatives: 18.0000 - val_true_positives: 34.0000\n",
            "Epoch 55/100\n",
            "9/9 [==============================] - 7s 728ms/step - loss: 0.3415 - Accuracy: 0.8750 - false_negatives: 12.0000 - false_positives: 24.0000 - true_negatives: 130.0000 - true_positives: 122.0000 - val_loss: 0.4749 - val_Accuracy: 0.7500 - val_false_negatives: 1.0000 - val_false_positives: 17.0000 - val_true_negatives: 21.0000 - val_true_positives: 33.0000\n",
            "Epoch 56/100\n",
            "9/9 [==============================] - 7s 703ms/step - loss: 0.3291 - Accuracy: 0.8472 - false_negatives: 19.0000 - false_positives: 25.0000 - true_negatives: 129.0000 - true_positives: 115.0000 - val_loss: 0.5679 - val_Accuracy: 0.7222 - val_false_negatives: 0.0000e+00 - val_false_positives: 20.0000 - val_true_negatives: 18.0000 - val_true_positives: 34.0000\n",
            "Epoch 57/100\n",
            "9/9 [==============================] - 7s 712ms/step - loss: 0.3335 - Accuracy: 0.8715 - false_negatives: 15.0000 - false_positives: 22.0000 - true_negatives: 132.0000 - true_positives: 119.0000 - val_loss: 0.7926 - val_Accuracy: 0.6806 - val_false_negatives: 0.0000e+00 - val_false_positives: 23.0000 - val_true_negatives: 15.0000 - val_true_positives: 34.0000\n",
            "Epoch 58/100\n",
            "9/9 [==============================] - 7s 708ms/step - loss: 0.3505 - Accuracy: 0.8576 - false_negatives: 16.0000 - false_positives: 25.0000 - true_negatives: 129.0000 - true_positives: 118.0000 - val_loss: 0.5352 - val_Accuracy: 0.6944 - val_false_negatives: 0.0000e+00 - val_false_positives: 22.0000 - val_true_negatives: 16.0000 - val_true_positives: 34.0000\n",
            "Epoch 59/100\n",
            "9/9 [==============================] - 7s 705ms/step - loss: 0.3123 - Accuracy: 0.8715 - false_negatives: 10.0000 - false_positives: 27.0000 - true_negatives: 127.0000 - true_positives: 124.0000 - val_loss: 0.5154 - val_Accuracy: 0.7500 - val_false_negatives: 0.0000e+00 - val_false_positives: 18.0000 - val_true_negatives: 20.0000 - val_true_positives: 34.0000\n",
            "Epoch 60/100\n",
            "9/9 [==============================] - 7s 706ms/step - loss: 0.3194 - Accuracy: 0.8819 - false_negatives: 16.0000 - false_positives: 18.0000 - true_negatives: 136.0000 - true_positives: 118.0000 - val_loss: 0.8161 - val_Accuracy: 0.6806 - val_false_negatives: 0.0000e+00 - val_false_positives: 23.0000 - val_true_negatives: 15.0000 - val_true_positives: 34.0000\n",
            "Epoch 61/100\n",
            "9/9 [==============================] - 7s 700ms/step - loss: 0.3392 - Accuracy: 0.8576 - false_negatives: 13.0000 - false_positives: 28.0000 - true_negatives: 126.0000 - true_positives: 121.0000 - val_loss: 0.4851 - val_Accuracy: 0.7222 - val_false_negatives: 0.0000e+00 - val_false_positives: 20.0000 - val_true_negatives: 18.0000 - val_true_positives: 34.0000\n",
            "Epoch 62/100\n",
            "9/9 [==============================] - 7s 699ms/step - loss: 0.3045 - Accuracy: 0.8750 - false_negatives: 16.0000 - false_positives: 20.0000 - true_negatives: 134.0000 - true_positives: 118.0000 - val_loss: 0.6448 - val_Accuracy: 0.7083 - val_false_negatives: 0.0000e+00 - val_false_positives: 21.0000 - val_true_negatives: 17.0000 - val_true_positives: 34.0000\n",
            "Epoch 63/100\n",
            "9/9 [==============================] - 7s 701ms/step - loss: 0.2987 - Accuracy: 0.8715 - false_negatives: 10.0000 - false_positives: 27.0000 - true_negatives: 127.0000 - true_positives: 124.0000 - val_loss: 0.5003 - val_Accuracy: 0.7361 - val_false_negatives: 1.0000 - val_false_positives: 18.0000 - val_true_negatives: 20.0000 - val_true_positives: 33.0000\n",
            "Epoch 64/100\n",
            "9/9 [==============================] - 7s 695ms/step - loss: 0.3337 - Accuracy: 0.8681 - false_negatives: 14.0000 - false_positives: 24.0000 - true_negatives: 130.0000 - true_positives: 120.0000 - val_loss: 0.4229 - val_Accuracy: 0.7500 - val_false_negatives: 1.0000 - val_false_positives: 17.0000 - val_true_negatives: 21.0000 - val_true_positives: 33.0000\n",
            "Epoch 65/100\n",
            "9/9 [==============================] - 7s 703ms/step - loss: 0.3280 - Accuracy: 0.8542 - false_negatives: 13.0000 - false_positives: 29.0000 - true_negatives: 125.0000 - true_positives: 121.0000 - val_loss: 0.4416 - val_Accuracy: 0.7917 - val_false_negatives: 1.0000 - val_false_positives: 14.0000 - val_true_negatives: 24.0000 - val_true_positives: 33.0000\n",
            "Epoch 66/100\n",
            "9/9 [==============================] - 7s 698ms/step - loss: 0.3329 - Accuracy: 0.8438 - false_negatives: 24.0000 - false_positives: 21.0000 - true_negatives: 133.0000 - true_positives: 110.0000 - val_loss: 0.8001 - val_Accuracy: 0.6528 - val_false_negatives: 0.0000e+00 - val_false_positives: 25.0000 - val_true_negatives: 13.0000 - val_true_positives: 34.0000\n",
            "Epoch 67/100\n",
            "9/9 [==============================] - 7s 695ms/step - loss: 0.3409 - Accuracy: 0.8542 - false_negatives: 14.0000 - false_positives: 28.0000 - true_negatives: 126.0000 - true_positives: 120.0000 - val_loss: 0.5218 - val_Accuracy: 0.7222 - val_false_negatives: 0.0000e+00 - val_false_positives: 20.0000 - val_true_negatives: 18.0000 - val_true_positives: 34.0000\n",
            "Epoch 68/100\n",
            "9/9 [==============================] - 7s 699ms/step - loss: 0.3002 - Accuracy: 0.8750 - false_negatives: 11.0000 - false_positives: 25.0000 - true_negatives: 129.0000 - true_positives: 123.0000 - val_loss: 0.5084 - val_Accuracy: 0.7361 - val_false_negatives: 1.0000 - val_false_positives: 18.0000 - val_true_negatives: 20.0000 - val_true_positives: 33.0000\n",
            "Epoch 69/100\n",
            "9/9 [==============================] - 7s 701ms/step - loss: 0.2956 - Accuracy: 0.8854 - false_negatives: 15.0000 - false_positives: 18.0000 - true_negatives: 136.0000 - true_positives: 119.0000 - val_loss: 0.7056 - val_Accuracy: 0.7361 - val_false_negatives: 0.0000e+00 - val_false_positives: 19.0000 - val_true_negatives: 19.0000 - val_true_positives: 34.0000\n",
            "Epoch 70/100\n",
            "9/9 [==============================] - 7s 707ms/step - loss: 0.2839 - Accuracy: 0.8889 - false_negatives: 10.0000 - false_positives: 22.0000 - true_negatives: 132.0000 - true_positives: 124.0000 - val_loss: 0.5773 - val_Accuracy: 0.7083 - val_false_negatives: 0.0000e+00 - val_false_positives: 21.0000 - val_true_negatives: 17.0000 - val_true_positives: 34.0000\n",
            "Epoch 71/100\n",
            "9/9 [==============================] - 7s 705ms/step - loss: 0.2982 - Accuracy: 0.8819 - false_negatives: 16.0000 - false_positives: 18.0000 - true_negatives: 136.0000 - true_positives: 118.0000 - val_loss: 0.4929 - val_Accuracy: 0.7361 - val_false_negatives: 1.0000 - val_false_positives: 18.0000 - val_true_negatives: 20.0000 - val_true_positives: 33.0000\n",
            "Epoch 72/100\n",
            "9/9 [==============================] - 7s 705ms/step - loss: 0.3066 - Accuracy: 0.8715 - false_negatives: 9.0000 - false_positives: 28.0000 - true_negatives: 126.0000 - true_positives: 125.0000 - val_loss: 0.4907 - val_Accuracy: 0.7361 - val_false_negatives: 1.0000 - val_false_positives: 18.0000 - val_true_negatives: 20.0000 - val_true_positives: 33.0000\n",
            "Epoch 73/100\n",
            "9/9 [==============================] - 7s 704ms/step - loss: 0.3194 - Accuracy: 0.8646 - false_negatives: 13.0000 - false_positives: 26.0000 - true_negatives: 128.0000 - true_positives: 121.0000 - val_loss: 0.5957 - val_Accuracy: 0.7500 - val_false_negatives: 0.0000e+00 - val_false_positives: 18.0000 - val_true_negatives: 20.0000 - val_true_positives: 34.0000\n",
            "Epoch 74/100\n",
            "9/9 [==============================] - 7s 703ms/step - loss: 0.2799 - Accuracy: 0.8715 - false_negatives: 19.0000 - false_positives: 18.0000 - true_negatives: 136.0000 - true_positives: 115.0000 - val_loss: 0.7269 - val_Accuracy: 0.6667 - val_false_negatives: 0.0000e+00 - val_false_positives: 24.0000 - val_true_negatives: 14.0000 - val_true_positives: 34.0000\n",
            "Epoch 75/100\n",
            "9/9 [==============================] - 7s 700ms/step - loss: 0.3277 - Accuracy: 0.8646 - false_negatives: 8.0000 - false_positives: 31.0000 - true_negatives: 123.0000 - true_positives: 126.0000 - val_loss: 0.4525 - val_Accuracy: 0.7500 - val_false_negatives: 1.0000 - val_false_positives: 17.0000 - val_true_negatives: 21.0000 - val_true_positives: 33.0000\n",
            "Epoch 76/100\n",
            "9/9 [==============================] - 7s 707ms/step - loss: 0.2848 - Accuracy: 0.8854 - false_negatives: 8.0000 - false_positives: 25.0000 - true_negatives: 129.0000 - true_positives: 126.0000 - val_loss: 0.5338 - val_Accuracy: 0.7500 - val_false_negatives: 1.0000 - val_false_positives: 17.0000 - val_true_negatives: 21.0000 - val_true_positives: 33.0000\n",
            "Epoch 77/100\n",
            "9/9 [==============================] - 7s 703ms/step - loss: 0.2993 - Accuracy: 0.8785 - false_negatives: 13.0000 - false_positives: 22.0000 - true_negatives: 132.0000 - true_positives: 121.0000 - val_loss: 0.8030 - val_Accuracy: 0.6667 - val_false_negatives: 0.0000e+00 - val_false_positives: 24.0000 - val_true_negatives: 14.0000 - val_true_positives: 34.0000\n",
            "Epoch 78/100\n",
            "9/9 [==============================] - 7s 698ms/step - loss: 0.2819 - Accuracy: 0.8854 - false_negatives: 12.0000 - false_positives: 21.0000 - true_negatives: 133.0000 - true_positives: 122.0000 - val_loss: 0.6036 - val_Accuracy: 0.7222 - val_false_negatives: 1.0000 - val_false_positives: 19.0000 - val_true_negatives: 19.0000 - val_true_positives: 33.0000\n",
            "Epoch 79/100\n",
            "9/9 [==============================] - 7s 699ms/step - loss: 0.2694 - Accuracy: 0.8854 - false_negatives: 9.0000 - false_positives: 24.0000 - true_negatives: 130.0000 - true_positives: 125.0000 - val_loss: 0.5203 - val_Accuracy: 0.7778 - val_false_negatives: 1.0000 - val_false_positives: 15.0000 - val_true_negatives: 23.0000 - val_true_positives: 33.0000\n",
            "Epoch 80/100\n",
            "9/9 [==============================] - 7s 702ms/step - loss: 0.2659 - Accuracy: 0.8715 - false_negatives: 20.0000 - false_positives: 17.0000 - true_negatives: 137.0000 - true_positives: 114.0000 - val_loss: 0.6219 - val_Accuracy: 0.7222 - val_false_negatives: 1.0000 - val_false_positives: 19.0000 - val_true_negatives: 19.0000 - val_true_positives: 33.0000\n",
            "Epoch 81/100\n",
            "9/9 [==============================] - 7s 704ms/step - loss: 0.2561 - Accuracy: 0.8924 - false_negatives: 11.0000 - false_positives: 20.0000 - true_negatives: 134.0000 - true_positives: 123.0000 - val_loss: 0.7057 - val_Accuracy: 0.7083 - val_false_negatives: 0.0000e+00 - val_false_positives: 21.0000 - val_true_negatives: 17.0000 - val_true_positives: 34.0000\n",
            "Epoch 82/100\n",
            "9/9 [==============================] - 7s 696ms/step - loss: 0.2588 - Accuracy: 0.8854 - false_negatives: 13.0000 - false_positives: 20.0000 - true_negatives: 134.0000 - true_positives: 121.0000 - val_loss: 0.7604 - val_Accuracy: 0.7083 - val_false_negatives: 0.0000e+00 - val_false_positives: 21.0000 - val_true_negatives: 17.0000 - val_true_positives: 34.0000\n",
            "Epoch 83/100\n",
            "9/9 [==============================] - 7s 705ms/step - loss: 0.2429 - Accuracy: 0.8958 - false_negatives: 9.0000 - false_positives: 21.0000 - true_negatives: 133.0000 - true_positives: 125.0000 - val_loss: 0.5436 - val_Accuracy: 0.7361 - val_false_negatives: 3.0000 - val_false_positives: 16.0000 - val_true_negatives: 22.0000 - val_true_positives: 31.0000\n",
            "Epoch 84/100\n",
            "9/9 [==============================] - 7s 696ms/step - loss: 0.2548 - Accuracy: 0.8785 - false_negatives: 12.0000 - false_positives: 23.0000 - true_negatives: 131.0000 - true_positives: 122.0000 - val_loss: 0.4951 - val_Accuracy: 0.7917 - val_false_negatives: 1.0000 - val_false_positives: 14.0000 - val_true_negatives: 24.0000 - val_true_positives: 33.0000\n",
            "Epoch 85/100\n",
            "9/9 [==============================] - 6s 695ms/step - loss: 0.2968 - Accuracy: 0.8611 - false_negatives: 18.0000 - false_positives: 22.0000 - true_negatives: 132.0000 - true_positives: 116.0000 - val_loss: 0.5100 - val_Accuracy: 0.7778 - val_false_negatives: 1.0000 - val_false_positives: 15.0000 - val_true_negatives: 23.0000 - val_true_positives: 33.0000\n",
            "Epoch 86/100\n",
            "9/9 [==============================] - 7s 704ms/step - loss: 0.2677 - Accuracy: 0.8889 - false_negatives: 12.0000 - false_positives: 20.0000 - true_negatives: 134.0000 - true_positives: 122.0000 - val_loss: 0.5637 - val_Accuracy: 0.7361 - val_false_negatives: 0.0000e+00 - val_false_positives: 19.0000 - val_true_negatives: 19.0000 - val_true_positives: 34.0000\n",
            "Epoch 87/100\n",
            "9/9 [==============================] - 7s 697ms/step - loss: 0.2612 - Accuracy: 0.8854 - false_negatives: 12.0000 - false_positives: 21.0000 - true_negatives: 133.0000 - true_positives: 122.0000 - val_loss: 0.8435 - val_Accuracy: 0.7083 - val_false_negatives: 0.0000e+00 - val_false_positives: 21.0000 - val_true_negatives: 17.0000 - val_true_positives: 34.0000\n",
            "Epoch 88/100\n",
            "9/9 [==============================] - 7s 698ms/step - loss: 0.2625 - Accuracy: 0.8993 - false_negatives: 9.0000 - false_positives: 20.0000 - true_negatives: 134.0000 - true_positives: 125.0000 - val_loss: 0.5316 - val_Accuracy: 0.7222 - val_false_negatives: 1.0000 - val_false_positives: 19.0000 - val_true_negatives: 19.0000 - val_true_positives: 33.0000\n",
            "Epoch 89/100\n",
            "9/9 [==============================] - 7s 698ms/step - loss: 0.3135 - Accuracy: 0.8681 - false_negatives: 8.0000 - false_positives: 30.0000 - true_negatives: 124.0000 - true_positives: 126.0000 - val_loss: 0.5506 - val_Accuracy: 0.7083 - val_false_negatives: 1.0000 - val_false_positives: 20.0000 - val_true_negatives: 18.0000 - val_true_positives: 33.0000\n",
            "Epoch 90/100\n",
            "9/9 [==============================] - 7s 696ms/step - loss: 0.2962 - Accuracy: 0.8854 - false_negatives: 14.0000 - false_positives: 19.0000 - true_negatives: 135.0000 - true_positives: 120.0000 - val_loss: 0.6341 - val_Accuracy: 0.7083 - val_false_negatives: 0.0000e+00 - val_false_positives: 21.0000 - val_true_negatives: 17.0000 - val_true_positives: 34.0000\n",
            "Epoch 91/100\n",
            "9/9 [==============================] - 7s 697ms/step - loss: 0.2635 - Accuracy: 0.8924 - false_negatives: 9.0000 - false_positives: 22.0000 - true_negatives: 132.0000 - true_positives: 125.0000 - val_loss: 0.4750 - val_Accuracy: 0.7500 - val_false_negatives: 1.0000 - val_false_positives: 17.0000 - val_true_negatives: 21.0000 - val_true_positives: 33.0000\n",
            "Epoch 92/100\n",
            "9/9 [==============================] - 6s 694ms/step - loss: 0.2655 - Accuracy: 0.8785 - false_negatives: 15.0000 - false_positives: 20.0000 - true_negatives: 134.0000 - true_positives: 119.0000 - val_loss: 0.6049 - val_Accuracy: 0.7222 - val_false_negatives: 1.0000 - val_false_positives: 19.0000 - val_true_negatives: 19.0000 - val_true_positives: 33.0000\n",
            "Epoch 93/100\n",
            "9/9 [==============================] - 7s 696ms/step - loss: 0.2390 - Accuracy: 0.8993 - false_negatives: 10.0000 - false_positives: 19.0000 - true_negatives: 135.0000 - true_positives: 124.0000 - val_loss: 0.5813 - val_Accuracy: 0.7361 - val_false_negatives: 0.0000e+00 - val_false_positives: 19.0000 - val_true_negatives: 19.0000 - val_true_positives: 34.0000\n",
            "Epoch 94/100\n",
            "9/9 [==============================] - 6s 694ms/step - loss: 0.2546 - Accuracy: 0.8819 - false_negatives: 15.0000 - false_positives: 19.0000 - true_negatives: 135.0000 - true_positives: 119.0000 - val_loss: 0.8461 - val_Accuracy: 0.6944 - val_false_negatives: 0.0000e+00 - val_false_positives: 22.0000 - val_true_negatives: 16.0000 - val_true_positives: 34.0000\n",
            "Epoch 95/100\n",
            "9/9 [==============================] - 7s 700ms/step - loss: 0.2665 - Accuracy: 0.8715 - false_negatives: 13.0000 - false_positives: 24.0000 - true_negatives: 130.0000 - true_positives: 121.0000 - val_loss: 0.6952 - val_Accuracy: 0.6944 - val_false_negatives: 0.0000e+00 - val_false_positives: 22.0000 - val_true_negatives: 16.0000 - val_true_positives: 34.0000\n",
            "Epoch 96/100\n",
            "9/9 [==============================] - 7s 695ms/step - loss: 0.2516 - Accuracy: 0.9028 - false_negatives: 11.0000 - false_positives: 17.0000 - true_negatives: 137.0000 - true_positives: 123.0000 - val_loss: 0.7486 - val_Accuracy: 0.6944 - val_false_negatives: 0.0000e+00 - val_false_positives: 22.0000 - val_true_negatives: 16.0000 - val_true_positives: 34.0000\n",
            "Epoch 97/100\n",
            "9/9 [==============================] - 7s 697ms/step - loss: 0.2619 - Accuracy: 0.8854 - false_negatives: 10.0000 - false_positives: 23.0000 - true_negatives: 131.0000 - true_positives: 124.0000 - val_loss: 0.5067 - val_Accuracy: 0.7222 - val_false_negatives: 5.0000 - val_false_positives: 15.0000 - val_true_negatives: 23.0000 - val_true_positives: 29.0000\n",
            "Epoch 98/100\n",
            "9/9 [==============================] - 7s 697ms/step - loss: 0.2667 - Accuracy: 0.8819 - false_negatives: 7.0000 - false_positives: 27.0000 - true_negatives: 127.0000 - true_positives: 127.0000 - val_loss: 0.4561 - val_Accuracy: 0.7361 - val_false_negatives: 2.0000 - val_false_positives: 17.0000 - val_true_negatives: 21.0000 - val_true_positives: 32.0000\n",
            "Epoch 99/100\n",
            "9/9 [==============================] - 7s 699ms/step - loss: 0.2865 - Accuracy: 0.8646 - false_negatives: 13.0000 - false_positives: 26.0000 - true_negatives: 128.0000 - true_positives: 121.0000 - val_loss: 0.5108 - val_Accuracy: 0.7361 - val_false_negatives: 3.0000 - val_false_positives: 16.0000 - val_true_negatives: 22.0000 - val_true_positives: 31.0000\n",
            "Epoch 100/100\n",
            "9/9 [==============================] - 7s 700ms/step - loss: 0.2542 - Accuracy: 0.9062 - false_negatives: 9.0000 - false_positives: 18.0000 - true_negatives: 136.0000 - true_positives: 125.0000 - val_loss: 0.6767 - val_Accuracy: 0.6806 - val_false_negatives: 0.0000e+00 - val_false_positives: 23.0000 - val_true_negatives: 15.0000 - val_true_positives: 34.0000\n"
          ]
        }
      ]
    },
    {
      "cell_type": "markdown",
      "source": [
        "Plotting Traning Result"
      ],
      "metadata": {
        "id": "XZSFG8fXqz7c"
      }
    },
    {
      "cell_type": "code",
      "source": [
        "  #plotting\n",
        "  epochs = range(1, len(history.history['loss'])+1)\n",
        "  #plt.title(f\"Grafik loss training iterasi {iterasi}\")\n",
        "  plt.title(f\"Grafik loss training VGG16\")\n",
        "  plt.plot(epochs, history.history['loss'], 'r', label='Training Loss')\n",
        "  plt.plot(epochs, history.history['val_loss'], 'b', label='Validation Loss')    \n",
        "  plt.xlabel(\"Epoch\")\n",
        "  plt.ylabel(\"Loss\")\n",
        "  plt.legend()\n",
        "  plt.show()\n"
      ],
      "metadata": {
        "id": "3dXbDrJpY1NK",
        "colab": {
          "base_uri": "https://localhost:8080/",
          "height": 295
        },
        "outputId": "85e611d3-fdf6-4e25-bbc5-3e68af44573e"
      },
      "execution_count": 16,
      "outputs": [
        {
          "output_type": "display_data",
          "data": {
            "text/plain": [
              "<Figure size 432x288 with 1 Axes>"
            ],
            "image/png": "[encoded data removed]"
          },
          "metadata": {
            "needs_background": "light"
          }
        }
      ]
    },
    {
      "cell_type": "code",
      "source": [
        "  #plotting\n",
        "  epochs = range(1, len(history.history['loss'])+1)\n",
        "  #plt.title(f\"Grafik Akurasi training iterasi {iterasi}\")\n",
        "  plt.title(f\"Grafik Akurasi training VGG16\")\n",
        "  plt.plot(epochs, history.history['Accuracy'], 'r', label='Training Accuracy')\n",
        "  plt.plot(epochs, history.history['val_Accuracy'], 'b', label='Validation Accuracy')    \n",
        "  plt.xlabel(\"Epoch\")\n",
        "  plt.ylabel(\"Accuracy\")\n",
        "  plt.legend()\n",
        "  plt.show()"
      ],
      "metadata": {
        "id": "j3xigprPwlSX",
        "colab": {
          "base_uri": "https://localhost:8080/",
          "height": 295
        },
        "outputId": "0bf2328d-290c-487e-9501-0b31348e9600"
      },
      "execution_count": 17,
      "outputs": [
        {
          "output_type": "display_data",
          "data": {
            "text/plain": [
              "<Figure size 432x288 with 1 Axes>"
            ],
            "image/png": "[encoded data removed]"
          },
          "metadata": {
            "needs_background": "light"
          }
        }
      ]
    },
    {
      "cell_type": "markdown",
      "metadata": {
        "id": "bTgk1-sdzmgy"
      },
      "source": [
        "**Validating** Network"
      ]
    },
    {
      "cell_type": "code",
      "source": [
        "import matplotlib.pyplot as plt\n",
        "from sklearn.datasets import make_classification\n",
        "from numpy import mean\n",
        "from sklearn.metrics import confusion_matrix, ConfusionMatrixDisplay, accuracy_score, classification_report, recall_score\n",
        "\n",
        "#Creating list for correct label\n",
        "correct_labels = []\n",
        "for i in range(len(image_labels_validation)):\n",
        "  pr = image_labels_validation[i]\n",
        "  output = label_binarizer.inverse_transform(pr)\n",
        "  correct_labels.append(output[0])\n",
        "\n",
        "#Creating list for predicted label\n",
        "predicted_labels = []\n",
        "for i in range(len(np_image_list_validation)):\n",
        "  test_img = np_image_list_validation[i]\n",
        "  test_img = np.expand_dims(test_img, axis=0)\n",
        "  pr=model.predict(test_img)\n",
        "  output = label_binarizer.inverse_transform(pr)\n",
        "  predicted_labels.append(output[0])\n",
        "\n",
        "#creating confusion matrix by comparing both list\n",
        "confusion_matrix = confusion_matrix(correct_labels, predicted_labels)\n",
        "disp = ConfusionMatrixDisplay(confusion_matrix=confusion_matrix)  \n",
        "disp.plot()\n",
        "plt.show()\n",
        "print('--------')\n"
      ],
      "metadata": {
        "id": "z9NBaYvZ61d7",
        "colab": {
          "base_uri": "https://localhost:8080/",
          "height": 296
        },
        "outputId": "fae31995-4999-4759-c942-c697abad19c6"
      },
      "execution_count": 14,
      "outputs": [
        {
          "output_type": "display_data",
          "data": {
            "text/plain": [
              "<Figure size 432x288 with 2 Axes>"
            ],
            "image/png": "[encoded data removed]"
          },
          "metadata": {
            "needs_background": "light"
          }
        },
        {
          "output_type": "stream",
          "name": "stdout",
          "text": [
            "--------\n"
          ]
        }
      ]
    },
    {
      "cell_type": "markdown",
      "source": [
        "**Testing** Network"
      ],
      "metadata": {
        "id": "saJYjKqX9tRL"
      }
    },
    {
      "cell_type": "code",
      "source": [
        "import matplotlib.pyplot as plt\n",
        "from sklearn.datasets import make_classification\n",
        "from numpy import mean\n",
        "from sklearn.metrics import confusion_matrix, ConfusionMatrixDisplay, accuracy_score, classification_report, recall_score\n",
        "\n",
        "#Creating list for correct label\n",
        "correct_labels = []\n",
        "for i in range(len(image_labels_test)):\n",
        "  pr = image_labels_test[i]\n",
        "  output = label_binarizer.inverse_transform(pr)\n",
        "  correct_labels.append(output[0])\n",
        "\n",
        "#Creating list for predicted label\n",
        "predicted_labels = []\n",
        "for i in range(len(np_image_list_test)):\n",
        "  test_img = np_image_list_test[i]\n",
        "  test_img = np.expand_dims(test_img, axis=0)\n",
        "  pr=model.predict(test_img)\n",
        "  output = label_binarizer.inverse_transform(pr)\n",
        "  predicted_labels.append(output[0])\n",
        "\n",
        "#creating confusion matrix by comparing both list\n",
        "confusion_matrix = confusion_matrix(correct_labels, predicted_labels)\n",
        "disp = ConfusionMatrixDisplay(confusion_matrix=confusion_matrix)  \n",
        "disp.plot()\n",
        "plt.show()\n",
        "print('--------')"
      ],
      "metadata": {
        "id": "3a1AYdsF4FoY",
        "colab": {
          "base_uri": "https://localhost:8080/",
          "height": 296
        },
        "outputId": "0a8ad140-1dcd-4194-a868-4eee53545b88"
      },
      "execution_count": 15,
      "outputs": [
        {
          "output_type": "display_data",
          "data": {
            "text/plain": [
              "<Figure size 432x288 with 2 Axes>"
            ],
            "image/png": "[encoded data removed]"
          },
          "metadata": {
            "needs_background": "light"
          }
        },
        {
          "output_type": "stream",
          "name": "stdout",
          "text": [
            "--------\n"
          ]
        }
      ]
    },
    {
      "cell_type": "code",
      "metadata": {
        "id": "AKd6Tu7mzmg2"
      },
      "source": [
        "# save the model to disk\n",
        "#print(\"[INFO] Saving model...\")\n",
        "# pickle.dump(model,open('cnn_model.pkl', 'wb'))\n",
        "#model.save('/content/vgg16.h5')    "
      ],
      "execution_count": null,
      "outputs": []
    },
    {
      "cell_type": "code",
      "metadata": {
        "id": "O6iIKa7Jzmg7"
      },
      "source": [
        "#test_img = cv2.imread('/content/datasets/Apple/Apple___Black_rot/0139bc6d-391c-4fd1-bcae-cc74dabfddd7___JR_FrgE.S 2734.JPG')\n",
        "\n",
        "#plt.imshow(test_img)\n",
        "#test_img = test_img / 255\n",
        "#test_img = np.expand_dims(test_img, axis=0)\n",
        "#pr=model.predict(test_img)\n",
        "\n",
        "#print(pr)\n",
        "#output = label_binarizer.inverse_transform(pr)\n",
        "#print(output)\n"
      ],
      "execution_count": null,
      "outputs": []
    }
  ]
}