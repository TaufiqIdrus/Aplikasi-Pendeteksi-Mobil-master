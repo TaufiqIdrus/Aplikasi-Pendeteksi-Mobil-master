{
  "nbformat": 4,
  "nbformat_minor": 0,
  "metadata": {
    "accelerator": "GPU",
    "colab": {
      "name": "Kodingan Skripsi 3",
      "provenance": [],
      "collapsed_sections": [],
      "include_colab_link": true
    },
    "kernelspec": {
      "display_name": "Python 3",
      "language": "python",
      "name": "python3"
    },
    "language_info": {
      "codemirror_mode": {
        "name": "ipython",
        "version": 3
      },
      "file_extension": ".py",
      "mimetype": "text/x-python",
      "name": "python",
      "nbconvert_exporter": "python",
      "pygments_lexer": "ipython3",
      "version": "3.6.6"
    }
  },
  "cells": [
    {
      "cell_type": "markdown",
      "metadata": {
        "id": "view-in-github",
        "colab_type": "text"
      },
      "source": [
        "<a href=\"https://colab.research.google.com/github/TaufiqIdrus/Aplikasi-Pendeteksi-Mobil-master/blob/master/30_fold3.ipynb\" target=\"_parent\"><img src=\"https://colab.research.google.com/assets/colab-badge.svg\" alt=\"Open In Colab\"/></a>"
      ]
    },
    {
      "cell_type": "markdown",
      "metadata": {
        "id": "yJT_kQA2lITS"
      },
      "source": [
        "**Identifikasi Penyakit Pada Tanaman Apel menggunakan Convolutional Neural Network**"
      ]
    },
    {
      "cell_type": "code",
      "metadata": {
        "id": "xXeOaYTUzmgT"
      },
      "source": [
        "import numpy as np\n",
        "import pickle\n",
        "import os\n",
        "import cv2\n",
        "import tensorflow as tf\n",
        "import keras\n",
        "from os import listdir\n",
        "from sklearn.preprocessing import LabelBinarizer\n",
        "from keras.models import Sequential\n",
        "from keras.layers.convolutional import Conv2D\n",
        "from keras.layers.convolutional import MaxPooling2D\n",
        "from keras.layers.core import Activation, Flatten, Dropout, Dense\n",
        "from keras import backend as K\n",
        "from tensorflow.keras.optimizers import Adam\n",
        "from keras.preprocessing import image\n",
        "import matplotlib.pyplot as plt\n",
        "from sklearn.datasets import make_classification\n",
        "from numpy import mean\n"
      ],
      "execution_count": 1,
      "outputs": []
    },
    {
      "cell_type": "markdown",
      "metadata": {
        "id": "fp8C0d28lQok"
      },
      "source": [
        "Importing and Preparing Dataset"
      ]
    },
    {
      "cell_type": "code",
      "metadata": {
        "id": "_0xehllADlUs",
        "colab": {
          "base_uri": "https://localhost:8080/"
        },
        "outputId": "4535ceed-4528-4e97-ece1-d07e5e1b3e13"
      },
      "source": [
        "!pip install pyunpack\n",
        "!pip install patool\n",
        "from pyunpack import Archive\n",
        "Archive('/content/fold4.rar').extractall('/content/Datasets/')\n",
        "iterasi = 4\n",
        "width=60\n",
        "height=60\n",
        "default_image_size = tuple((height, width))\n",
        "directory_root_train = '/content/Datasets/fold4/Train'\n",
        "directory_root_validation = '/content/Datasets/fold4/Validation'\n",
        "directory_root_test = '/content/Datasets/fold4/Test'\n",
        "image_size = 0\n",
        "depth=3"
      ],
      "execution_count": 2,
      "outputs": [
        {
          "output_type": "stream",
          "name": "stdout",
          "text": [
            "Looking in indexes: https://pypi.org/simple, https://us-python.pkg.dev/colab-wheels/public/simple/\n",
            "Collecting pyunpack\n",
            "  Downloading pyunpack-0.3-py2.py3-none-any.whl (4.1 kB)\n",
            "Collecting easyprocess\n",
            "  Downloading EasyProcess-1.1-py3-none-any.whl (8.7 kB)\n",
            "Collecting entrypoint2\n",
            "  Downloading entrypoint2-1.1-py2.py3-none-any.whl (9.9 kB)\n",
            "Installing collected packages: entrypoint2, easyprocess, pyunpack\n",
            "Successfully installed easyprocess-1.1 entrypoint2-1.1 pyunpack-0.3\n",
            "Looking in indexes: https://pypi.org/simple, https://us-python.pkg.dev/colab-wheels/public/simple/\n",
            "Collecting patool\n",
            "  Downloading patool-1.12-py2.py3-none-any.whl (77 kB)\n",
            "\u001b[K     |████████████████████████████████| 77 kB 3.2 MB/s \n",
            "\u001b[?25hInstalling collected packages: patool\n",
            "Successfully installed patool-1.12\n"
          ]
        }
      ]
    },
    {
      "cell_type": "code",
      "metadata": {
        "id": "KbAwJJTpzmge"
      },
      "source": [
        "def convert_image_to_array(image_dir):\n",
        "    try:\n",
        "        image = cv2.imread(image_dir)\n",
        "        if image is not None :\n",
        "            image = cv2.resize(image, default_image_size)   \n",
        "            return keras.preprocessing.image.img_to_array(image)\n",
        "        else :\n",
        "            return np.array([])\n",
        "    except Exception as e:\n",
        "        print(f\"Error : {e}\")\n",
        "        return None"
      ],
      "execution_count": 3,
      "outputs": []
    },
    {
      "cell_type": "markdown",
      "source": [
        "Converting **Training** Data to Array"
      ],
      "metadata": {
        "id": "bgXxUMO2cI_D"
      }
    },
    {
      "cell_type": "code",
      "metadata": {
        "id": "Erz6IjKXzmgg",
        "colab": {
          "base_uri": "https://localhost:8080/"
        },
        "outputId": "a3420367-5edd-40b4-f79c-62c1d0200750"
      },
      "source": [
        "image_list_train, label_list_train = [], []\n",
        "try:\n",
        "    print(\"[INFO] Loading images ...\")\n",
        "    root_dir = listdir(directory_root_train)\n",
        "\n",
        "    for plant_disease_folder in root_dir:\n",
        "        print(f\"[INFO] Processing {plant_disease_folder} ...\")\n",
        "        plant_disease_image_list = listdir(f\"{directory_root_train}/{plant_disease_folder}/\")\n",
        "      \n",
        "        for image in plant_disease_image_list:\n",
        "            image_directory = f\"{directory_root_train}/{plant_disease_folder}/{image}\"\n",
        "\n",
        "            if image_directory.endswith(\".jpg\") == True or image_directory.endswith(\".JPG\") == True:\n",
        "                image_list_train.append(convert_image_to_array(image_directory))\n",
        "                label_list_train.append(plant_disease_folder)\n",
        "    print(\"[INFO] Image loading completed\")\n",
        "\n",
        "except Exception as e:\n",
        "    print(f\"Error : {e}\")\n",
        "\n",
        "#image labeling\n",
        "image_size = len(image_list_train)\n",
        "label_binarizer = LabelBinarizer()\n",
        "image_labels_train = label_binarizer.fit_transform(label_list_train)\n",
        "pickle.dump(label_binarizer,open('label_transform_train.pkl', 'wb'))\n",
        "n_classes = len(label_binarizer.classes_)\n",
        "np_image_list_train = np.array(image_list_train, dtype=np.float16) / 255.0"
      ],
      "execution_count": 4,
      "outputs": [
        {
          "output_type": "stream",
          "name": "stdout",
          "text": [
            "[INFO] Loading images ...\n",
            "[INFO] Processing apel_sehat ...\n",
            "[INFO] Processing apel_busuk_buah ...\n",
            "[INFO] Processing apel_bercak_daun ...\n",
            "[INFO] Processing apel_cacar_daun ...\n",
            "[INFO] Image loading completed\n"
          ]
        }
      ]
    },
    {
      "cell_type": "markdown",
      "source": [
        "Converting **Validation** Data to Array"
      ],
      "metadata": {
        "id": "7eEMGiqRd_E4"
      }
    },
    {
      "cell_type": "code",
      "source": [
        "image_list_validation, label_list_validation = [], []\n",
        "try:\n",
        "    print(\"[INFO] Loading images ...\")\n",
        "    root_dir = listdir(directory_root_validation)\n",
        "\n",
        "    for plant_disease_folder in root_dir:\n",
        "        print(f\"[INFO] Processing {plant_disease_folder} ...\")\n",
        "        plant_disease_image_list = listdir(f\"{directory_root_validation}/{plant_disease_folder}/\")\n",
        "      \n",
        "        for image in plant_disease_image_list:\n",
        "            image_directory = f\"{directory_root_validation}/{plant_disease_folder}/{image}\"\n",
        "\n",
        "            if image_directory.endswith(\".jpg\") == True or image_directory.endswith(\".JPG\") == True:\n",
        "                image_list_validation.append(convert_image_to_array(image_directory))\n",
        "                label_list_validation.append(plant_disease_folder)\n",
        "    print(\"[INFO] Image loading completed\")\n",
        "\n",
        "except Exception as e:\n",
        "    print(f\"Error : {e}\")\n",
        "\n",
        "#image labeling\n",
        "image_size = len(image_list_validation)\n",
        "label_binarizer = LabelBinarizer()\n",
        "image_labels_validation = label_binarizer.fit_transform(label_list_validation)\n",
        "pickle.dump(label_binarizer,open('label_transform_validation.pkl', 'wb'))\n",
        "n_classes = len(label_binarizer.classes_)\n",
        "np_image_list_validation = np.array(image_list_validation, dtype=np.float16) / 255.0"
      ],
      "metadata": {
        "id": "wfHDdR0ZeEuU",
        "colab": {
          "base_uri": "https://localhost:8080/"
        },
        "outputId": "6a91588e-23d2-47ce-ab7b-875c084cb32d"
      },
      "execution_count": 5,
      "outputs": [
        {
          "output_type": "stream",
          "name": "stdout",
          "text": [
            "[INFO] Loading images ...\n",
            "[INFO] Processing apel_sehat ...\n",
            "[INFO] Processing apel_busuk_buah ...\n",
            "[INFO] Processing apel_bercak_daun ...\n",
            "[INFO] Processing apel_cacar_daun ...\n",
            "[INFO] Image loading completed\n"
          ]
        }
      ]
    },
    {
      "cell_type": "markdown",
      "source": [
        "Converting **Testing** Data to Array"
      ],
      "metadata": {
        "id": "brwWyZVncTdg"
      }
    },
    {
      "cell_type": "code",
      "metadata": {
        "id": "uNPby5UMcaWY",
        "colab": {
          "base_uri": "https://localhost:8080/"
        },
        "outputId": "649689b9-182b-4ca4-9c27-4f89a938b138"
      },
      "source": [
        "image_list_test, label_list_test = [], []\n",
        "try:\n",
        "    print(\"[INFO] Loading images ...\")\n",
        "    root_dir = listdir(directory_root_test)\n",
        "\n",
        "    for plant_disease_folder in root_dir:\n",
        "        print(f\"[INFO] Processing {plant_disease_folder} ...\")\n",
        "        plant_disease_image_list = listdir(f\"{directory_root_test}/{plant_disease_folder}/\")\n",
        "      \n",
        "        for image in plant_disease_image_list:\n",
        "            image_directory = f\"{directory_root_test}/{plant_disease_folder}/{image}\"\n",
        "\n",
        "            if image_directory.endswith(\".jpg\") == True or image_directory.endswith(\".JPG\") == True:\n",
        "                image_list_test.append(convert_image_to_array(image_directory))\n",
        "                label_list_test.append(plant_disease_folder)\n",
        "    print(\"[INFO] Image loading completed\")\n",
        "\n",
        "except Exception as e:\n",
        "    print(f\"Error : {e}\")\n",
        "\n",
        "#image labeling\n",
        "image_size = len(image_list_test)\n",
        "label_binarizer = LabelBinarizer()\n",
        "image_labels_test = label_binarizer.fit_transform(label_list_test)\n",
        "pickle.dump(label_binarizer,open('label_transform_test.pkl', 'wb'))\n",
        "n_classes = len(label_binarizer.classes_)\n",
        "np_image_list_test = np.array(image_list_test, dtype=np.float16) / 255.0"
      ],
      "execution_count": 6,
      "outputs": [
        {
          "output_type": "stream",
          "name": "stdout",
          "text": [
            "[INFO] Loading images ...\n",
            "[INFO] Processing apel_sehat ...\n",
            "[INFO] Processing apel_busuk_buah ...\n",
            "[INFO] Processing apel_bercak_daun ...\n",
            "[INFO] Processing apel_cacar_daun ...\n",
            "[INFO] Image loading completed\n"
          ]
        }
      ]
    },
    {
      "cell_type": "markdown",
      "metadata": {
        "id": "jYBTFN0CnAi7"
      },
      "source": [
        "Data Augmenting Initialization"
      ]
    },
    {
      "cell_type": "code",
      "metadata": {
        "id": "TLMxMK2Tzmgr"
      },
      "source": [
        "aug = keras.preprocessing.image.ImageDataGenerator(\n",
        "    rotation_range=25, \n",
        "    width_shift_range=0.1,\n",
        "    height_shift_range=0.1, \n",
        "    shear_range=0.2, \n",
        "    zoom_range=0.2,\n",
        "    horizontal_flip=True, \n",
        "    fill_mode=\"nearest\")"
      ],
      "execution_count": 7,
      "outputs": []
    },
    {
      "cell_type": "markdown",
      "metadata": {
        "id": "H1BfRyYNnGv_"
      },
      "source": [
        "Creating CNN Model"
      ]
    },
    {
      "cell_type": "code",
      "metadata": {
        "id": "WmLX4wm8zmgs"
      },
      "source": [
        "model = keras.models.Sequential()\n",
        "#inputShape = (height, width, depth)\n",
        "inputShape = (60,60,3)\n",
        "\n",
        "model.add(Conv2D(20, (5, 5), padding=\"same\",input_shape=inputShape))\n",
        "model.add(Activation(\"relu\"))\n",
        "\n",
        "model.add(MaxPooling2D(pool_size=(2, 2), strides=2))\n",
        "\n",
        "model.add(Conv2D(50, (5, 5), padding=\"same\"))\n",
        "model.add(Activation(\"relu\"))\n",
        "\n",
        "model.add(MaxPooling2D(pool_size=(2, 2),strides=2))\n",
        "\n",
        "model.add(Flatten())\n",
        "\n",
        "model.add(Dense(500))\n",
        "model.add(Activation(\"relu\"))\n",
        "\n",
        "model.add(Dense(4))\n",
        "model.add(Activation(\"softmax\"))"
      ],
      "execution_count": 8,
      "outputs": []
    },
    {
      "cell_type": "code",
      "source": [
        "model.summary()"
      ],
      "metadata": {
        "id": "RQIgaph8hW06",
        "colab": {
          "base_uri": "https://localhost:8080/"
        },
        "outputId": "255832c3-83dd-42aa-bc0b-c36a57b1b5b4"
      },
      "execution_count": 9,
      "outputs": [
        {
          "output_type": "stream",
          "name": "stdout",
          "text": [
            "Model: \"sequential\"\n",
            "_________________________________________________________________\n",
            " Layer (type)                Output Shape              Param #   \n",
            "=================================================================\n",
            " conv2d (Conv2D)             (None, 60, 60, 20)        1520      \n",
            "                                                                 \n",
            " activation (Activation)     (None, 60, 60, 20)        0         \n",
            "                                                                 \n",
            " max_pooling2d (MaxPooling2D  (None, 30, 30, 20)       0         \n",
            " )                                                               \n",
            "                                                                 \n",
            " conv2d_1 (Conv2D)           (None, 30, 30, 50)        25050     \n",
            "                                                                 \n",
            " activation_1 (Activation)   (None, 30, 30, 50)        0         \n",
            "                                                                 \n",
            " max_pooling2d_1 (MaxPooling  (None, 15, 15, 50)       0         \n",
            " 2D)                                                             \n",
            "                                                                 \n",
            " flatten (Flatten)           (None, 11250)             0         \n",
            "                                                                 \n",
            " dense (Dense)               (None, 500)               5625500   \n",
            "                                                                 \n",
            " activation_2 (Activation)   (None, 500)               0         \n",
            "                                                                 \n",
            " dense_1 (Dense)             (None, 4)                 2004      \n",
            "                                                                 \n",
            " activation_3 (Activation)   (None, 4)                 0         \n",
            "                                                                 \n",
            "=================================================================\n",
            "Total params: 5,654,074\n",
            "Trainable params: 5,654,074\n",
            "Non-trainable params: 0\n",
            "_________________________________________________________________\n"
          ]
        }
      ]
    },
    {
      "cell_type": "code",
      "source": [
        "#from PIL import Image\n",
        "#from keras.utils.vis_utils import plot_model\n",
        "#plot_model(model, to_file='cnn_model.png', show_shapes=True, show_layer_names=True)\n",
        "#display(Image.open('cnn_model.png'))"
      ],
      "metadata": {
        "id": "T05gPuu1GudW"
      },
      "execution_count": 10,
      "outputs": []
    },
    {
      "cell_type": "markdown",
      "metadata": {
        "id": "Zfsu3lVfnXFG"
      },
      "source": [
        "**Training** Network"
      ]
    },
    {
      "cell_type": "code",
      "metadata": {
        "id": "rvwKwe3Lzmgv",
        "colab": {
          "base_uri": "https://localhost:8080/"
        },
        "outputId": "ab5fe3d4-d6b4-4fae-fcda-a60f6d036d0f"
      },
      "source": [
        "EPOCHS = 200\n",
        "INIT_LR = 1e-3\n",
        "BS = 8\n",
        "\n",
        "with tf.device('/GPU:0'):\n",
        "  opt = Adam(learning_rate=INIT_LR, decay=INIT_LR / EPOCHS)\n",
        "  model.compile(loss=\"categorical_crossentropy\", optimizer=opt,metrics=[\"Accuracy\", \"FalseNegatives\", \"FalsePositives\", \"TrueNegatives\", \"TruePositives\"])\n",
        "  \n",
        "  history = model.fit(\n",
        "      aug.flow(np_image_list_train, image_labels_train, batch_size=BS),\n",
        "      validation_data=(np_image_list_validation, image_labels_validation),\n",
        "      steps_per_epoch=len(np_image_list_train) // BS,\n",
        "      epochs=EPOCHS, \n",
        "      verbose=1,\n",
        "      )\n"
      ],
      "execution_count": 11,
      "outputs": [
        {
          "output_type": "stream",
          "name": "stdout",
          "text": [
            "Epoch 1/200\n",
            "44/44 [==============================] - 17s 51ms/step - loss: 1.4481 - Accuracy: 0.4454 - false_negatives: 305.0000 - false_positives: 63.0000 - true_negatives: 981.0000 - true_positives: 43.0000 - val_loss: 1.2674 - val_Accuracy: 0.4545 - val_false_negatives: 88.0000 - val_false_positives: 0.0000e+00 - val_true_negatives: 264.0000 - val_true_positives: 0.0000e+00\n",
            "Epoch 2/200\n",
            "44/44 [==============================] - 1s 14ms/step - loss: 1.2568 - Accuracy: 0.4483 - false_negatives: 318.0000 - false_positives: 25.0000 - true_negatives: 1019.0000 - true_positives: 30.0000 - val_loss: 1.1757 - val_Accuracy: 0.4545 - val_false_negatives: 86.0000 - val_false_positives: 0.0000e+00 - val_true_negatives: 264.0000 - val_true_positives: 2.0000\n",
            "Epoch 3/200\n",
            "44/44 [==============================] - 1s 19ms/step - loss: 1.2318 - Accuracy: 0.4454 - false_negatives: 293.0000 - false_positives: 48.0000 - true_negatives: 996.0000 - true_positives: 55.0000 - val_loss: 1.1504 - val_Accuracy: 0.4545 - val_false_negatives: 48.0000 - val_false_positives: 36.0000 - val_true_negatives: 228.0000 - val_true_positives: 40.0000\n",
            "Epoch 4/200\n",
            "44/44 [==============================] - 1s 28ms/step - loss: 1.2010 - Accuracy: 0.4626 - false_negatives: 276.0000 - false_positives: 42.0000 - true_negatives: 1002.0000 - true_positives: 72.0000 - val_loss: 1.0483 - val_Accuracy: 0.4773 - val_false_negatives: 48.0000 - val_false_positives: 19.0000 - val_true_negatives: 245.0000 - val_true_positives: 40.0000\n",
            "Epoch 5/200\n",
            "44/44 [==============================] - 1s 23ms/step - loss: 1.1255 - Accuracy: 0.5115 - false_negatives: 244.0000 - false_positives: 44.0000 - true_negatives: 1000.0000 - true_positives: 104.0000 - val_loss: 0.9052 - val_Accuracy: 0.5795 - val_false_negatives: 48.0000 - val_false_positives: 10.0000 - val_true_negatives: 254.0000 - val_true_positives: 40.0000\n",
            "Epoch 6/200\n",
            "44/44 [==============================] - 1s 29ms/step - loss: 1.1179 - Accuracy: 0.5546 - false_negatives: 243.0000 - false_positives: 44.0000 - true_negatives: 1000.0000 - true_positives: 105.0000 - val_loss: 0.7910 - val_Accuracy: 0.7045 - val_false_negatives: 48.0000 - val_false_positives: 6.0000 - val_true_negatives: 258.0000 - val_true_positives: 40.0000\n",
            "Epoch 7/200\n",
            "44/44 [==============================] - 1s 28ms/step - loss: 1.0766 - Accuracy: 0.5374 - false_negatives: 237.0000 - false_positives: 49.0000 - true_negatives: 995.0000 - true_positives: 111.0000 - val_loss: 0.7575 - val_Accuracy: 0.7273 - val_false_negatives: 48.0000 - val_false_positives: 0.0000e+00 - val_true_negatives: 264.0000 - val_true_positives: 40.0000\n",
            "Epoch 8/200\n",
            "44/44 [==============================] - 1s 18ms/step - loss: 1.0015 - Accuracy: 0.6264 - false_negatives: 222.0000 - false_positives: 36.0000 - true_negatives: 1008.0000 - true_positives: 126.0000 - val_loss: 0.6829 - val_Accuracy: 0.8182 - val_false_negatives: 36.0000 - val_false_positives: 7.0000 - val_true_negatives: 257.0000 - val_true_positives: 52.0000\n",
            "Epoch 9/200\n",
            "44/44 [==============================] - 1s 14ms/step - loss: 1.0049 - Accuracy: 0.6092 - false_negatives: 201.0000 - false_positives: 62.0000 - true_negatives: 982.0000 - true_positives: 147.0000 - val_loss: 0.6873 - val_Accuracy: 0.7045 - val_false_negatives: 40.0000 - val_false_positives: 13.0000 - val_true_negatives: 251.0000 - val_true_positives: 48.0000\n",
            "Epoch 10/200\n",
            "44/44 [==============================] - 1s 14ms/step - loss: 0.9530 - Accuracy: 0.6322 - false_negatives: 177.0000 - false_positives: 69.0000 - true_negatives: 975.0000 - true_positives: 171.0000 - val_loss: 0.6877 - val_Accuracy: 0.7614 - val_false_negatives: 28.0000 - val_false_positives: 10.0000 - val_true_negatives: 254.0000 - val_true_positives: 60.0000\n",
            "Epoch 11/200\n",
            "44/44 [==============================] - 1s 14ms/step - loss: 0.9931 - Accuracy: 0.6092 - false_negatives: 199.0000 - false_positives: 59.0000 - true_negatives: 985.0000 - true_positives: 149.0000 - val_loss: 0.6063 - val_Accuracy: 0.7841 - val_false_negatives: 39.0000 - val_false_positives: 11.0000 - val_true_negatives: 253.0000 - val_true_positives: 49.0000\n",
            "Epoch 12/200\n",
            "44/44 [==============================] - 1s 14ms/step - loss: 0.9773 - Accuracy: 0.6034 - false_negatives: 195.0000 - false_positives: 66.0000 - true_negatives: 978.0000 - true_positives: 153.0000 - val_loss: 0.5140 - val_Accuracy: 0.8523 - val_false_negatives: 23.0000 - val_false_positives: 9.0000 - val_true_negatives: 255.0000 - val_true_positives: 65.0000\n",
            "Epoch 13/200\n",
            "44/44 [==============================] - 1s 15ms/step - loss: 1.0139 - Accuracy: 0.5948 - false_negatives: 206.0000 - false_positives: 61.0000 - true_negatives: 983.0000 - true_positives: 142.0000 - val_loss: 0.8335 - val_Accuracy: 0.7045 - val_false_negatives: 43.0000 - val_false_positives: 12.0000 - val_true_negatives: 252.0000 - val_true_positives: 45.0000\n",
            "Epoch 14/200\n",
            "44/44 [==============================] - 1s 15ms/step - loss: 0.9472 - Accuracy: 0.6437 - false_negatives: 170.0000 - false_positives: 67.0000 - true_negatives: 977.0000 - true_positives: 178.0000 - val_loss: 0.5361 - val_Accuracy: 0.8068 - val_false_negatives: 23.0000 - val_false_positives: 11.0000 - val_true_negatives: 253.0000 - val_true_positives: 65.0000\n",
            "Epoch 15/200\n",
            "44/44 [==============================] - 1s 14ms/step - loss: 0.9182 - Accuracy: 0.6494 - false_negatives: 156.0000 - false_positives: 71.0000 - true_negatives: 973.0000 - true_positives: 192.0000 - val_loss: 0.5721 - val_Accuracy: 0.8295 - val_false_negatives: 17.0000 - val_false_positives: 12.0000 - val_true_negatives: 252.0000 - val_true_positives: 71.0000\n",
            "Epoch 16/200\n",
            "44/44 [==============================] - 1s 15ms/step - loss: 0.8968 - Accuracy: 0.6392 - false_negatives: 172.0000 - false_positives: 71.0000 - true_negatives: 985.0000 - true_positives: 180.0000 - val_loss: 0.5153 - val_Accuracy: 0.8750 - val_false_negatives: 23.0000 - val_false_positives: 5.0000 - val_true_negatives: 259.0000 - val_true_positives: 65.0000\n",
            "Epoch 17/200\n",
            "44/44 [==============================] - 1s 14ms/step - loss: 0.8770 - Accuracy: 0.6868 - false_negatives: 145.0000 - false_positives: 75.0000 - true_negatives: 969.0000 - true_positives: 203.0000 - val_loss: 0.6042 - val_Accuracy: 0.8523 - val_false_negatives: 22.0000 - val_false_positives: 10.0000 - val_true_negatives: 254.0000 - val_true_positives: 66.0000\n",
            "Epoch 18/200\n",
            "44/44 [==============================] - 1s 14ms/step - loss: 0.8767 - Accuracy: 0.6897 - false_negatives: 145.0000 - false_positives: 70.0000 - true_negatives: 974.0000 - true_positives: 203.0000 - val_loss: 0.6237 - val_Accuracy: 0.7386 - val_false_negatives: 28.0000 - val_false_positives: 15.0000 - val_true_negatives: 249.0000 - val_true_positives: 60.0000\n",
            "Epoch 19/200\n",
            "44/44 [==============================] - 1s 14ms/step - loss: 0.9121 - Accuracy: 0.6379 - false_negatives: 166.0000 - false_positives: 77.0000 - true_negatives: 967.0000 - true_positives: 182.0000 - val_loss: 0.5168 - val_Accuracy: 0.8409 - val_false_negatives: 19.0000 - val_false_positives: 10.0000 - val_true_negatives: 254.0000 - val_true_positives: 69.0000\n",
            "Epoch 20/200\n",
            "44/44 [==============================] - 1s 15ms/step - loss: 0.8497 - Accuracy: 0.7040 - false_negatives: 145.0000 - false_positives: 67.0000 - true_negatives: 977.0000 - true_positives: 203.0000 - val_loss: 0.3986 - val_Accuracy: 0.8750 - val_false_negatives: 15.0000 - val_false_positives: 10.0000 - val_true_negatives: 254.0000 - val_true_positives: 73.0000\n",
            "Epoch 21/200\n",
            "44/44 [==============================] - 1s 15ms/step - loss: 0.8116 - Accuracy: 0.6638 - false_negatives: 135.0000 - false_positives: 79.0000 - true_negatives: 965.0000 - true_positives: 213.0000 - val_loss: 0.4440 - val_Accuracy: 0.8295 - val_false_negatives: 20.0000 - val_false_positives: 11.0000 - val_true_negatives: 253.0000 - val_true_positives: 68.0000\n",
            "Epoch 22/200\n",
            "44/44 [==============================] - 1s 14ms/step - loss: 0.8514 - Accuracy: 0.6753 - false_negatives: 160.0000 - false_positives: 57.0000 - true_negatives: 987.0000 - true_positives: 188.0000 - val_loss: 0.6105 - val_Accuracy: 0.8182 - val_false_negatives: 27.0000 - val_false_positives: 13.0000 - val_true_negatives: 251.0000 - val_true_positives: 61.0000\n",
            "Epoch 23/200\n",
            "44/44 [==============================] - 1s 14ms/step - loss: 0.8283 - Accuracy: 0.6782 - false_negatives: 136.0000 - false_positives: 66.0000 - true_negatives: 978.0000 - true_positives: 212.0000 - val_loss: 0.5187 - val_Accuracy: 0.7955 - val_false_negatives: 24.0000 - val_false_positives: 10.0000 - val_true_negatives: 254.0000 - val_true_positives: 64.0000\n",
            "Epoch 24/200\n",
            "44/44 [==============================] - 1s 14ms/step - loss: 0.7776 - Accuracy: 0.7040 - false_negatives: 128.0000 - false_positives: 63.0000 - true_negatives: 981.0000 - true_positives: 220.0000 - val_loss: 0.4751 - val_Accuracy: 0.8409 - val_false_negatives: 15.0000 - val_false_positives: 11.0000 - val_true_negatives: 253.0000 - val_true_positives: 73.0000\n",
            "Epoch 25/200\n",
            "44/44 [==============================] - 1s 15ms/step - loss: 0.7987 - Accuracy: 0.6810 - false_negatives: 133.0000 - false_positives: 77.0000 - true_negatives: 967.0000 - true_positives: 215.0000 - val_loss: 0.4137 - val_Accuracy: 0.8636 - val_false_negatives: 16.0000 - val_false_positives: 8.0000 - val_true_negatives: 256.0000 - val_true_positives: 72.0000\n",
            "Epoch 26/200\n",
            "44/44 [==============================] - 1s 14ms/step - loss: 0.8410 - Accuracy: 0.6925 - false_negatives: 137.0000 - false_positives: 73.0000 - true_negatives: 971.0000 - true_positives: 211.0000 - val_loss: 0.5083 - val_Accuracy: 0.8295 - val_false_negatives: 21.0000 - val_false_positives: 10.0000 - val_true_negatives: 254.0000 - val_true_positives: 67.0000\n",
            "Epoch 27/200\n",
            "44/44 [==============================] - 1s 15ms/step - loss: 0.7704 - Accuracy: 0.7299 - false_negatives: 131.0000 - false_positives: 61.0000 - true_negatives: 983.0000 - true_positives: 217.0000 - val_loss: 0.4357 - val_Accuracy: 0.8295 - val_false_negatives: 19.0000 - val_false_positives: 10.0000 - val_true_negatives: 254.0000 - val_true_positives: 69.0000\n",
            "Epoch 28/200\n",
            "44/44 [==============================] - 1s 14ms/step - loss: 0.7542 - Accuracy: 0.7241 - false_negatives: 130.0000 - false_positives: 72.0000 - true_negatives: 972.0000 - true_positives: 218.0000 - val_loss: 0.4043 - val_Accuracy: 0.8750 - val_false_negatives: 14.0000 - val_false_positives: 8.0000 - val_true_negatives: 256.0000 - val_true_positives: 74.0000\n",
            "Epoch 29/200\n",
            "44/44 [==============================] - 1s 14ms/step - loss: 0.7251 - Accuracy: 0.7098 - false_negatives: 121.0000 - false_positives: 68.0000 - true_negatives: 976.0000 - true_positives: 227.0000 - val_loss: 0.5023 - val_Accuracy: 0.8182 - val_false_negatives: 26.0000 - val_false_positives: 11.0000 - val_true_negatives: 253.0000 - val_true_positives: 62.0000\n",
            "Epoch 30/200\n",
            "44/44 [==============================] - 1s 14ms/step - loss: 0.7364 - Accuracy: 0.7040 - false_negatives: 131.0000 - false_positives: 67.0000 - true_negatives: 977.0000 - true_positives: 217.0000 - val_loss: 0.4609 - val_Accuracy: 0.8068 - val_false_negatives: 19.0000 - val_false_positives: 14.0000 - val_true_negatives: 250.0000 - val_true_positives: 69.0000\n",
            "Epoch 31/200\n",
            "44/44 [==============================] - 1s 14ms/step - loss: 0.7935 - Accuracy: 0.7155 - false_negatives: 127.0000 - false_positives: 70.0000 - true_negatives: 974.0000 - true_positives: 221.0000 - val_loss: 0.4920 - val_Accuracy: 0.8295 - val_false_negatives: 22.0000 - val_false_positives: 12.0000 - val_true_negatives: 252.0000 - val_true_positives: 66.0000\n",
            "Epoch 32/200\n",
            "44/44 [==============================] - 1s 15ms/step - loss: 0.7888 - Accuracy: 0.7069 - false_negatives: 135.0000 - false_positives: 64.0000 - true_negatives: 980.0000 - true_positives: 213.0000 - val_loss: 0.5205 - val_Accuracy: 0.8182 - val_false_negatives: 21.0000 - val_false_positives: 10.0000 - val_true_negatives: 254.0000 - val_true_positives: 67.0000\n",
            "Epoch 33/200\n",
            "44/44 [==============================] - 1s 15ms/step - loss: 0.7775 - Accuracy: 0.6925 - false_negatives: 141.0000 - false_positives: 66.0000 - true_negatives: 978.0000 - true_positives: 207.0000 - val_loss: 0.3951 - val_Accuracy: 0.8864 - val_false_negatives: 13.0000 - val_false_positives: 9.0000 - val_true_negatives: 255.0000 - val_true_positives: 75.0000\n",
            "Epoch 34/200\n",
            "44/44 [==============================] - 1s 15ms/step - loss: 0.7094 - Accuracy: 0.7213 - false_negatives: 119.0000 - false_positives: 65.0000 - true_negatives: 979.0000 - true_positives: 229.0000 - val_loss: 0.5120 - val_Accuracy: 0.8295 - val_false_negatives: 24.0000 - val_false_positives: 11.0000 - val_true_negatives: 253.0000 - val_true_positives: 64.0000\n",
            "Epoch 35/200\n",
            "44/44 [==============================] - 1s 14ms/step - loss: 0.6771 - Accuracy: 0.7471 - false_negatives: 123.0000 - false_positives: 53.0000 - true_negatives: 991.0000 - true_positives: 225.0000 - val_loss: 0.5898 - val_Accuracy: 0.8295 - val_false_negatives: 18.0000 - val_false_positives: 12.0000 - val_true_negatives: 252.0000 - val_true_positives: 70.0000\n",
            "Epoch 36/200\n",
            "44/44 [==============================] - 1s 14ms/step - loss: 0.7537 - Accuracy: 0.7126 - false_negatives: 125.0000 - false_positives: 76.0000 - true_negatives: 968.0000 - true_positives: 223.0000 - val_loss: 0.4589 - val_Accuracy: 0.8409 - val_false_negatives: 15.0000 - val_false_positives: 10.0000 - val_true_negatives: 254.0000 - val_true_positives: 73.0000\n",
            "Epoch 37/200\n",
            "44/44 [==============================] - 1s 14ms/step - loss: 0.7043 - Accuracy: 0.7241 - false_negatives: 123.0000 - false_positives: 69.0000 - true_negatives: 975.0000 - true_positives: 225.0000 - val_loss: 0.4401 - val_Accuracy: 0.8523 - val_false_negatives: 17.0000 - val_false_positives: 9.0000 - val_true_negatives: 255.0000 - val_true_positives: 71.0000\n",
            "Epoch 38/200\n",
            "44/44 [==============================] - 1s 23ms/step - loss: 0.6924 - Accuracy: 0.7213 - false_negatives: 127.0000 - false_positives: 63.0000 - true_negatives: 981.0000 - true_positives: 221.0000 - val_loss: 0.3883 - val_Accuracy: 0.8523 - val_false_negatives: 14.0000 - val_false_positives: 9.0000 - val_true_negatives: 255.0000 - val_true_positives: 74.0000\n",
            "Epoch 39/200\n",
            "44/44 [==============================] - 1s 16ms/step - loss: 0.6855 - Accuracy: 0.7557 - false_negatives: 107.0000 - false_positives: 53.0000 - true_negatives: 991.0000 - true_positives: 241.0000 - val_loss: 0.4908 - val_Accuracy: 0.8523 - val_false_negatives: 19.0000 - val_false_positives: 10.0000 - val_true_negatives: 254.0000 - val_true_positives: 69.0000\n",
            "Epoch 40/200\n",
            "44/44 [==============================] - 1s 14ms/step - loss: 0.6951 - Accuracy: 0.7328 - false_negatives: 127.0000 - false_positives: 59.0000 - true_negatives: 985.0000 - true_positives: 221.0000 - val_loss: 0.4438 - val_Accuracy: 0.8295 - val_false_negatives: 16.0000 - val_false_positives: 11.0000 - val_true_negatives: 253.0000 - val_true_positives: 72.0000\n",
            "Epoch 41/200\n",
            "44/44 [==============================] - 1s 15ms/step - loss: 0.7138 - Accuracy: 0.7270 - false_negatives: 118.0000 - false_positives: 60.0000 - true_negatives: 984.0000 - true_positives: 230.0000 - val_loss: 0.4779 - val_Accuracy: 0.8523 - val_false_negatives: 18.0000 - val_false_positives: 10.0000 - val_true_negatives: 254.0000 - val_true_positives: 70.0000\n",
            "Epoch 42/200\n",
            "44/44 [==============================] - 1s 15ms/step - loss: 0.6584 - Accuracy: 0.7414 - false_negatives: 110.0000 - false_positives: 66.0000 - true_negatives: 978.0000 - true_positives: 238.0000 - val_loss: 0.5315 - val_Accuracy: 0.7955 - val_false_negatives: 19.0000 - val_false_positives: 12.0000 - val_true_negatives: 252.0000 - val_true_positives: 69.0000\n",
            "Epoch 43/200\n",
            "44/44 [==============================] - 1s 14ms/step - loss: 0.7072 - Accuracy: 0.7241 - false_negatives: 117.0000 - false_positives: 77.0000 - true_negatives: 967.0000 - true_positives: 231.0000 - val_loss: 0.5129 - val_Accuracy: 0.8182 - val_false_negatives: 20.0000 - val_false_positives: 11.0000 - val_true_negatives: 253.0000 - val_true_positives: 68.0000\n",
            "Epoch 44/200\n",
            "44/44 [==============================] - 1s 14ms/step - loss: 0.7033 - Accuracy: 0.7040 - false_negatives: 121.0000 - false_positives: 64.0000 - true_negatives: 980.0000 - true_positives: 227.0000 - val_loss: 0.4736 - val_Accuracy: 0.8068 - val_false_negatives: 20.0000 - val_false_positives: 11.0000 - val_true_negatives: 253.0000 - val_true_positives: 68.0000\n",
            "Epoch 45/200\n",
            "44/44 [==============================] - 1s 14ms/step - loss: 0.6609 - Accuracy: 0.7500 - false_negatives: 113.0000 - false_positives: 54.0000 - true_negatives: 990.0000 - true_positives: 235.0000 - val_loss: 0.4495 - val_Accuracy: 0.8523 - val_false_negatives: 17.0000 - val_false_positives: 10.0000 - val_true_negatives: 254.0000 - val_true_positives: 71.0000\n",
            "Epoch 46/200\n",
            "44/44 [==============================] - 1s 15ms/step - loss: 0.6606 - Accuracy: 0.7644 - false_negatives: 102.0000 - false_positives: 58.0000 - true_negatives: 986.0000 - true_positives: 246.0000 - val_loss: 0.4846 - val_Accuracy: 0.8068 - val_false_negatives: 21.0000 - val_false_positives: 14.0000 - val_true_negatives: 250.0000 - val_true_positives: 67.0000\n",
            "Epoch 47/200\n",
            "44/44 [==============================] - 1s 15ms/step - loss: 0.6923 - Accuracy: 0.7529 - false_negatives: 115.0000 - false_positives: 62.0000 - true_negatives: 982.0000 - true_positives: 233.0000 - val_loss: 0.4077 - val_Accuracy: 0.8409 - val_false_negatives: 16.0000 - val_false_positives: 10.0000 - val_true_negatives: 254.0000 - val_true_positives: 72.0000\n",
            "Epoch 48/200\n",
            "44/44 [==============================] - 1s 14ms/step - loss: 0.6246 - Accuracy: 0.7701 - false_negatives: 103.0000 - false_positives: 49.0000 - true_negatives: 995.0000 - true_positives: 245.0000 - val_loss: 0.8105 - val_Accuracy: 0.7614 - val_false_negatives: 26.0000 - val_false_positives: 15.0000 - val_true_negatives: 249.0000 - val_true_positives: 62.0000\n",
            "Epoch 49/200\n",
            "44/44 [==============================] - 1s 14ms/step - loss: 0.6532 - Accuracy: 0.7356 - false_negatives: 108.0000 - false_positives: 58.0000 - true_negatives: 986.0000 - true_positives: 240.0000 - val_loss: 0.4552 - val_Accuracy: 0.8068 - val_false_negatives: 18.0000 - val_false_positives: 13.0000 - val_true_negatives: 251.0000 - val_true_positives: 70.0000\n",
            "Epoch 50/200\n",
            "44/44 [==============================] - 1s 14ms/step - loss: 0.6601 - Accuracy: 0.7557 - false_negatives: 106.0000 - false_positives: 55.0000 - true_negatives: 989.0000 - true_positives: 242.0000 - val_loss: 0.5394 - val_Accuracy: 0.8523 - val_false_negatives: 18.0000 - val_false_positives: 7.0000 - val_true_negatives: 257.0000 - val_true_positives: 70.0000\n",
            "Epoch 51/200\n",
            "44/44 [==============================] - 1s 15ms/step - loss: 0.6082 - Accuracy: 0.7730 - false_negatives: 101.0000 - false_positives: 57.0000 - true_negatives: 987.0000 - true_positives: 247.0000 - val_loss: 0.4176 - val_Accuracy: 0.8523 - val_false_negatives: 14.0000 - val_false_positives: 8.0000 - val_true_negatives: 256.0000 - val_true_positives: 74.0000\n",
            "Epoch 52/200\n",
            "44/44 [==============================] - 1s 15ms/step - loss: 0.6488 - Accuracy: 0.7672 - false_negatives: 101.0000 - false_positives: 59.0000 - true_negatives: 985.0000 - true_positives: 247.0000 - val_loss: 0.6387 - val_Accuracy: 0.7955 - val_false_negatives: 22.0000 - val_false_positives: 15.0000 - val_true_negatives: 249.0000 - val_true_positives: 66.0000\n",
            "Epoch 53/200\n",
            "44/44 [==============================] - 1s 14ms/step - loss: 0.6605 - Accuracy: 0.7529 - false_negatives: 107.0000 - false_positives: 60.0000 - true_negatives: 984.0000 - true_positives: 241.0000 - val_loss: 0.5126 - val_Accuracy: 0.8182 - val_false_negatives: 19.0000 - val_false_positives: 12.0000 - val_true_negatives: 252.0000 - val_true_positives: 69.0000\n",
            "Epoch 54/200\n",
            "44/44 [==============================] - 1s 14ms/step - loss: 0.5940 - Accuracy: 0.7759 - false_negatives: 100.0000 - false_positives: 57.0000 - true_negatives: 987.0000 - true_positives: 248.0000 - val_loss: 0.5243 - val_Accuracy: 0.8295 - val_false_negatives: 15.0000 - val_false_positives: 11.0000 - val_true_negatives: 253.0000 - val_true_positives: 73.0000\n",
            "Epoch 55/200\n",
            "44/44 [==============================] - 1s 14ms/step - loss: 0.6820 - Accuracy: 0.7356 - false_negatives: 117.0000 - false_positives: 63.0000 - true_negatives: 981.0000 - true_positives: 231.0000 - val_loss: 0.4738 - val_Accuracy: 0.8409 - val_false_negatives: 16.0000 - val_false_positives: 11.0000 - val_true_negatives: 253.0000 - val_true_positives: 72.0000\n",
            "Epoch 56/200\n",
            "44/44 [==============================] - 1s 14ms/step - loss: 0.5936 - Accuracy: 0.8046 - false_negatives: 90.0000 - false_positives: 50.0000 - true_negatives: 994.0000 - true_positives: 258.0000 - val_loss: 0.4204 - val_Accuracy: 0.8409 - val_false_negatives: 15.0000 - val_false_positives: 10.0000 - val_true_negatives: 254.0000 - val_true_positives: 73.0000\n",
            "Epoch 57/200\n",
            "44/44 [==============================] - 1s 15ms/step - loss: 0.5954 - Accuracy: 0.7672 - false_negatives: 98.0000 - false_positives: 65.0000 - true_negatives: 979.0000 - true_positives: 250.0000 - val_loss: 0.5830 - val_Accuracy: 0.8182 - val_false_negatives: 19.0000 - val_false_positives: 11.0000 - val_true_negatives: 253.0000 - val_true_positives: 69.0000\n",
            "Epoch 58/200\n",
            "44/44 [==============================] - 1s 15ms/step - loss: 0.6137 - Accuracy: 0.7644 - false_negatives: 106.0000 - false_positives: 57.0000 - true_negatives: 987.0000 - true_positives: 242.0000 - val_loss: 0.4767 - val_Accuracy: 0.8182 - val_false_negatives: 18.0000 - val_false_positives: 13.0000 - val_true_negatives: 251.0000 - val_true_positives: 70.0000\n",
            "Epoch 59/200\n",
            "44/44 [==============================] - 1s 15ms/step - loss: 0.6445 - Accuracy: 0.7414 - false_negatives: 115.0000 - false_positives: 56.0000 - true_negatives: 988.0000 - true_positives: 233.0000 - val_loss: 0.5750 - val_Accuracy: 0.7841 - val_false_negatives: 21.0000 - val_false_positives: 16.0000 - val_true_negatives: 248.0000 - val_true_positives: 67.0000\n",
            "Epoch 60/200\n",
            "44/44 [==============================] - 1s 14ms/step - loss: 0.6205 - Accuracy: 0.7529 - false_negatives: 100.0000 - false_positives: 59.0000 - true_negatives: 985.0000 - true_positives: 248.0000 - val_loss: 0.4717 - val_Accuracy: 0.7955 - val_false_negatives: 19.0000 - val_false_positives: 15.0000 - val_true_negatives: 249.0000 - val_true_positives: 69.0000\n",
            "Epoch 61/200\n",
            "44/44 [==============================] - 1s 15ms/step - loss: 0.5466 - Accuracy: 0.8075 - false_negatives: 83.0000 - false_positives: 48.0000 - true_negatives: 996.0000 - true_positives: 265.0000 - val_loss: 0.4697 - val_Accuracy: 0.8182 - val_false_negatives: 16.0000 - val_false_positives: 13.0000 - val_true_negatives: 251.0000 - val_true_positives: 72.0000\n",
            "Epoch 62/200\n",
            "44/44 [==============================] - 1s 14ms/step - loss: 0.5579 - Accuracy: 0.7730 - false_negatives: 95.0000 - false_positives: 54.0000 - true_negatives: 990.0000 - true_positives: 253.0000 - val_loss: 0.5326 - val_Accuracy: 0.8295 - val_false_negatives: 16.0000 - val_false_positives: 10.0000 - val_true_negatives: 254.0000 - val_true_positives: 72.0000\n",
            "Epoch 63/200\n",
            "44/44 [==============================] - 1s 14ms/step - loss: 0.5507 - Accuracy: 0.8103 - false_negatives: 82.0000 - false_positives: 50.0000 - true_negatives: 994.0000 - true_positives: 266.0000 - val_loss: 0.4099 - val_Accuracy: 0.8750 - val_false_negatives: 12.0000 - val_false_positives: 9.0000 - val_true_negatives: 255.0000 - val_true_positives: 76.0000\n",
            "Epoch 64/200\n",
            "44/44 [==============================] - 1s 15ms/step - loss: 0.5656 - Accuracy: 0.7874 - false_negatives: 94.0000 - false_positives: 56.0000 - true_negatives: 988.0000 - true_positives: 254.0000 - val_loss: 0.4535 - val_Accuracy: 0.8068 - val_false_negatives: 18.0000 - val_false_positives: 12.0000 - val_true_negatives: 252.0000 - val_true_positives: 70.0000\n",
            "Epoch 65/200\n",
            "44/44 [==============================] - 1s 15ms/step - loss: 0.5776 - Accuracy: 0.7816 - false_negatives: 90.0000 - false_positives: 55.0000 - true_negatives: 989.0000 - true_positives: 258.0000 - val_loss: 0.4679 - val_Accuracy: 0.8523 - val_false_negatives: 18.0000 - val_false_positives: 11.0000 - val_true_negatives: 253.0000 - val_true_positives: 70.0000\n",
            "Epoch 66/200\n",
            "44/44 [==============================] - 1s 14ms/step - loss: 0.5418 - Accuracy: 0.7787 - false_negatives: 96.0000 - false_positives: 43.0000 - true_negatives: 1001.0000 - true_positives: 252.0000 - val_loss: 0.5444 - val_Accuracy: 0.8182 - val_false_negatives: 17.0000 - val_false_positives: 12.0000 - val_true_negatives: 252.0000 - val_true_positives: 71.0000\n",
            "Epoch 67/200\n",
            "44/44 [==============================] - 1s 15ms/step - loss: 0.6128 - Accuracy: 0.7644 - false_negatives: 98.0000 - false_positives: 64.0000 - true_negatives: 980.0000 - true_positives: 250.0000 - val_loss: 0.4796 - val_Accuracy: 0.8409 - val_false_negatives: 17.0000 - val_false_positives: 10.0000 - val_true_negatives: 254.0000 - val_true_positives: 71.0000\n",
            "Epoch 68/200\n",
            "44/44 [==============================] - 1s 15ms/step - loss: 0.5528 - Accuracy: 0.7672 - false_negatives: 100.0000 - false_positives: 59.0000 - true_negatives: 985.0000 - true_positives: 248.0000 - val_loss: 0.5008 - val_Accuracy: 0.8409 - val_false_negatives: 16.0000 - val_false_positives: 11.0000 - val_true_negatives: 253.0000 - val_true_positives: 72.0000\n",
            "Epoch 69/200\n",
            "44/44 [==============================] - 1s 14ms/step - loss: 0.5810 - Accuracy: 0.7845 - false_negatives: 88.0000 - false_positives: 51.0000 - true_negatives: 993.0000 - true_positives: 260.0000 - val_loss: 0.5294 - val_Accuracy: 0.8068 - val_false_negatives: 19.0000 - val_false_positives: 14.0000 - val_true_negatives: 250.0000 - val_true_positives: 69.0000\n",
            "Epoch 70/200\n",
            "44/44 [==============================] - 1s 15ms/step - loss: 0.5552 - Accuracy: 0.7902 - false_negatives: 90.0000 - false_positives: 59.0000 - true_negatives: 985.0000 - true_positives: 258.0000 - val_loss: 0.5543 - val_Accuracy: 0.8182 - val_false_negatives: 19.0000 - val_false_positives: 13.0000 - val_true_negatives: 251.0000 - val_true_positives: 69.0000\n",
            "Epoch 71/200\n",
            "44/44 [==============================] - 1s 15ms/step - loss: 0.5801 - Accuracy: 0.7615 - false_negatives: 94.0000 - false_positives: 57.0000 - true_negatives: 987.0000 - true_positives: 254.0000 - val_loss: 0.5390 - val_Accuracy: 0.7955 - val_false_negatives: 19.0000 - val_false_positives: 13.0000 - val_true_negatives: 251.0000 - val_true_positives: 69.0000\n",
            "Epoch 72/200\n",
            "44/44 [==============================] - 1s 15ms/step - loss: 0.5369 - Accuracy: 0.7931 - false_negatives: 92.0000 - false_positives: 54.0000 - true_negatives: 990.0000 - true_positives: 256.0000 - val_loss: 0.4797 - val_Accuracy: 0.8409 - val_false_negatives: 17.0000 - val_false_positives: 12.0000 - val_true_negatives: 252.0000 - val_true_positives: 71.0000\n",
            "Epoch 73/200\n",
            "44/44 [==============================] - 1s 15ms/step - loss: 0.5447 - Accuracy: 0.7845 - false_negatives: 86.0000 - false_positives: 58.0000 - true_negatives: 986.0000 - true_positives: 262.0000 - val_loss: 0.4358 - val_Accuracy: 0.8182 - val_false_negatives: 17.0000 - val_false_positives: 13.0000 - val_true_negatives: 251.0000 - val_true_positives: 71.0000\n",
            "Epoch 74/200\n",
            "44/44 [==============================] - 1s 15ms/step - loss: 0.5104 - Accuracy: 0.8103 - false_negatives: 84.0000 - false_positives: 51.0000 - true_negatives: 993.0000 - true_positives: 264.0000 - val_loss: 0.5060 - val_Accuracy: 0.8068 - val_false_negatives: 17.0000 - val_false_positives: 15.0000 - val_true_negatives: 249.0000 - val_true_positives: 71.0000\n",
            "Epoch 75/200\n",
            "44/44 [==============================] - 1s 14ms/step - loss: 0.6048 - Accuracy: 0.7644 - false_negatives: 101.0000 - false_positives: 58.0000 - true_negatives: 986.0000 - true_positives: 247.0000 - val_loss: 0.5104 - val_Accuracy: 0.8068 - val_false_negatives: 18.0000 - val_false_positives: 12.0000 - val_true_negatives: 252.0000 - val_true_positives: 70.0000\n",
            "Epoch 76/200\n",
            "44/44 [==============================] - 1s 16ms/step - loss: 0.6041 - Accuracy: 0.7730 - false_negatives: 96.0000 - false_positives: 56.0000 - true_negatives: 988.0000 - true_positives: 252.0000 - val_loss: 0.4899 - val_Accuracy: 0.8068 - val_false_negatives: 19.0000 - val_false_positives: 12.0000 - val_true_negatives: 252.0000 - val_true_positives: 69.0000\n",
            "Epoch 77/200\n",
            "44/44 [==============================] - 1s 15ms/step - loss: 0.5520 - Accuracy: 0.7989 - false_negatives: 85.0000 - false_positives: 56.0000 - true_negatives: 988.0000 - true_positives: 263.0000 - val_loss: 0.6141 - val_Accuracy: 0.7841 - val_false_negatives: 23.0000 - val_false_positives: 18.0000 - val_true_negatives: 246.0000 - val_true_positives: 65.0000\n",
            "Epoch 78/200\n",
            "44/44 [==============================] - 1s 14ms/step - loss: 0.5747 - Accuracy: 0.7644 - false_negatives: 103.0000 - false_positives: 56.0000 - true_negatives: 988.0000 - true_positives: 245.0000 - val_loss: 0.4904 - val_Accuracy: 0.8295 - val_false_negatives: 15.0000 - val_false_positives: 13.0000 - val_true_negatives: 251.0000 - val_true_positives: 73.0000\n",
            "Epoch 79/200\n",
            "44/44 [==============================] - 1s 15ms/step - loss: 0.6021 - Accuracy: 0.7644 - false_negatives: 100.0000 - false_positives: 66.0000 - true_negatives: 978.0000 - true_positives: 248.0000 - val_loss: 0.3994 - val_Accuracy: 0.8750 - val_false_negatives: 13.0000 - val_false_positives: 8.0000 - val_true_negatives: 256.0000 - val_true_positives: 75.0000\n",
            "Epoch 80/200\n",
            "44/44 [==============================] - 1s 14ms/step - loss: 0.5680 - Accuracy: 0.7816 - false_negatives: 97.0000 - false_positives: 57.0000 - true_negatives: 987.0000 - true_positives: 251.0000 - val_loss: 0.6793 - val_Accuracy: 0.8068 - val_false_negatives: 20.0000 - val_false_positives: 13.0000 - val_true_negatives: 251.0000 - val_true_positives: 68.0000\n",
            "Epoch 81/200\n",
            "44/44 [==============================] - 1s 14ms/step - loss: 0.5632 - Accuracy: 0.7787 - false_negatives: 92.0000 - false_positives: 54.0000 - true_negatives: 990.0000 - true_positives: 256.0000 - val_loss: 0.4408 - val_Accuracy: 0.8295 - val_false_negatives: 16.0000 - val_false_positives: 11.0000 - val_true_negatives: 253.0000 - val_true_positives: 72.0000\n",
            "Epoch 82/200\n",
            "44/44 [==============================] - 1s 15ms/step - loss: 0.5273 - Accuracy: 0.7874 - false_negatives: 83.0000 - false_positives: 58.0000 - true_negatives: 986.0000 - true_positives: 265.0000 - val_loss: 0.6152 - val_Accuracy: 0.7841 - val_false_negatives: 22.0000 - val_false_positives: 15.0000 - val_true_negatives: 249.0000 - val_true_positives: 66.0000\n",
            "Epoch 83/200\n",
            "44/44 [==============================] - 1s 15ms/step - loss: 0.5912 - Accuracy: 0.7730 - false_negatives: 92.0000 - false_positives: 58.0000 - true_negatives: 986.0000 - true_positives: 256.0000 - val_loss: 0.6453 - val_Accuracy: 0.8068 - val_false_negatives: 24.0000 - val_false_positives: 11.0000 - val_true_negatives: 253.0000 - val_true_positives: 64.0000\n",
            "Epoch 84/200\n",
            "44/44 [==============================] - 1s 15ms/step - loss: 0.4948 - Accuracy: 0.7902 - false_negatives: 82.0000 - false_positives: 51.0000 - true_negatives: 993.0000 - true_positives: 266.0000 - val_loss: 0.6957 - val_Accuracy: 0.7386 - val_false_negatives: 26.0000 - val_false_positives: 19.0000 - val_true_negatives: 245.0000 - val_true_positives: 62.0000\n",
            "Epoch 85/200\n",
            "44/44 [==============================] - 1s 15ms/step - loss: 0.4855 - Accuracy: 0.8190 - false_negatives: 82.0000 - false_positives: 43.0000 - true_negatives: 1001.0000 - true_positives: 266.0000 - val_loss: 0.5266 - val_Accuracy: 0.8068 - val_false_negatives: 17.0000 - val_false_positives: 13.0000 - val_true_negatives: 251.0000 - val_true_positives: 71.0000\n",
            "Epoch 86/200\n",
            "44/44 [==============================] - 1s 15ms/step - loss: 0.5541 - Accuracy: 0.7816 - false_negatives: 97.0000 - false_positives: 53.0000 - true_negatives: 991.0000 - true_positives: 251.0000 - val_loss: 0.5503 - val_Accuracy: 0.8068 - val_false_negatives: 19.0000 - val_false_positives: 12.0000 - val_true_negatives: 252.0000 - val_true_positives: 69.0000\n",
            "Epoch 87/200\n",
            "44/44 [==============================] - 1s 15ms/step - loss: 0.5099 - Accuracy: 0.7989 - false_negatives: 81.0000 - false_positives: 55.0000 - true_negatives: 989.0000 - true_positives: 267.0000 - val_loss: 0.4283 - val_Accuracy: 0.8523 - val_false_negatives: 15.0000 - val_false_positives: 11.0000 - val_true_negatives: 253.0000 - val_true_positives: 73.0000\n",
            "Epoch 88/200\n",
            "44/44 [==============================] - 1s 15ms/step - loss: 0.5071 - Accuracy: 0.8190 - false_negatives: 81.0000 - false_positives: 48.0000 - true_negatives: 996.0000 - true_positives: 267.0000 - val_loss: 0.5128 - val_Accuracy: 0.8409 - val_false_negatives: 16.0000 - val_false_positives: 11.0000 - val_true_negatives: 253.0000 - val_true_positives: 72.0000\n",
            "Epoch 89/200\n",
            "44/44 [==============================] - 1s 15ms/step - loss: 0.5002 - Accuracy: 0.7902 - false_negatives: 82.0000 - false_positives: 55.0000 - true_negatives: 989.0000 - true_positives: 266.0000 - val_loss: 0.4304 - val_Accuracy: 0.8409 - val_false_negatives: 17.0000 - val_false_positives: 13.0000 - val_true_negatives: 251.0000 - val_true_positives: 71.0000\n",
            "Epoch 90/200\n",
            "44/44 [==============================] - 1s 15ms/step - loss: 0.5619 - Accuracy: 0.7759 - false_negatives: 90.0000 - false_positives: 59.0000 - true_negatives: 985.0000 - true_positives: 258.0000 - val_loss: 0.5715 - val_Accuracy: 0.8182 - val_false_negatives: 18.0000 - val_false_positives: 15.0000 - val_true_negatives: 249.0000 - val_true_positives: 70.0000\n",
            "Epoch 91/200\n",
            "44/44 [==============================] - 1s 15ms/step - loss: 0.4777 - Accuracy: 0.8161 - false_negatives: 76.0000 - false_positives: 53.0000 - true_negatives: 991.0000 - true_positives: 272.0000 - val_loss: 0.5387 - val_Accuracy: 0.7955 - val_false_negatives: 20.0000 - val_false_positives: 16.0000 - val_true_negatives: 248.0000 - val_true_positives: 68.0000\n",
            "Epoch 92/200\n",
            "44/44 [==============================] - 1s 15ms/step - loss: 0.4644 - Accuracy: 0.8190 - false_negatives: 77.0000 - false_positives: 50.0000 - true_negatives: 994.0000 - true_positives: 271.0000 - val_loss: 0.4768 - val_Accuracy: 0.8523 - val_false_negatives: 15.0000 - val_false_positives: 12.0000 - val_true_negatives: 252.0000 - val_true_positives: 73.0000\n",
            "Epoch 93/200\n",
            "44/44 [==============================] - 1s 15ms/step - loss: 0.4781 - Accuracy: 0.8075 - false_negatives: 76.0000 - false_positives: 54.0000 - true_negatives: 990.0000 - true_positives: 272.0000 - val_loss: 0.6260 - val_Accuracy: 0.7386 - val_false_negatives: 25.0000 - val_false_positives: 21.0000 - val_true_negatives: 243.0000 - val_true_positives: 63.0000\n",
            "Epoch 94/200\n",
            "44/44 [==============================] - 1s 15ms/step - loss: 0.4370 - Accuracy: 0.8161 - false_negatives: 75.0000 - false_positives: 47.0000 - true_negatives: 997.0000 - true_positives: 273.0000 - val_loss: 0.5490 - val_Accuracy: 0.7955 - val_false_negatives: 18.0000 - val_false_positives: 15.0000 - val_true_negatives: 249.0000 - val_true_positives: 70.0000\n",
            "Epoch 95/200\n",
            "44/44 [==============================] - 1s 15ms/step - loss: 0.4654 - Accuracy: 0.8333 - false_negatives: 70.0000 - false_positives: 46.0000 - true_negatives: 998.0000 - true_positives: 278.0000 - val_loss: 0.6303 - val_Accuracy: 0.7955 - val_false_negatives: 19.0000 - val_false_positives: 16.0000 - val_true_negatives: 248.0000 - val_true_positives: 69.0000\n",
            "Epoch 96/200\n",
            "44/44 [==============================] - 1s 15ms/step - loss: 0.4798 - Accuracy: 0.8132 - false_negatives: 76.0000 - false_positives: 52.0000 - true_negatives: 992.0000 - true_positives: 272.0000 - val_loss: 1.0242 - val_Accuracy: 0.7045 - val_false_negatives: 31.0000 - val_false_positives: 21.0000 - val_true_negatives: 243.0000 - val_true_positives: 57.0000\n",
            "Epoch 97/200\n",
            "44/44 [==============================] - 1s 15ms/step - loss: 0.5339 - Accuracy: 0.7874 - false_negatives: 86.0000 - false_positives: 54.0000 - true_negatives: 990.0000 - true_positives: 262.0000 - val_loss: 0.5695 - val_Accuracy: 0.8182 - val_false_negatives: 18.0000 - val_false_positives: 12.0000 - val_true_negatives: 252.0000 - val_true_positives: 70.0000\n",
            "Epoch 98/200\n",
            "44/44 [==============================] - 1s 15ms/step - loss: 0.4905 - Accuracy: 0.7931 - false_negatives: 82.0000 - false_positives: 55.0000 - true_negatives: 989.0000 - true_positives: 266.0000 - val_loss: 0.5470 - val_Accuracy: 0.8182 - val_false_negatives: 19.0000 - val_false_positives: 15.0000 - val_true_negatives: 249.0000 - val_true_positives: 69.0000\n",
            "Epoch 99/200\n",
            "44/44 [==============================] - 1s 16ms/step - loss: 0.4636 - Accuracy: 0.8333 - false_negatives: 72.0000 - false_positives: 40.0000 - true_negatives: 1004.0000 - true_positives: 276.0000 - val_loss: 0.5220 - val_Accuracy: 0.8182 - val_false_negatives: 17.0000 - val_false_positives: 16.0000 - val_true_negatives: 248.0000 - val_true_positives: 71.0000\n",
            "Epoch 100/200\n",
            "44/44 [==============================] - 1s 15ms/step - loss: 0.4959 - Accuracy: 0.8132 - false_negatives: 79.0000 - false_positives: 52.0000 - true_negatives: 992.0000 - true_positives: 269.0000 - val_loss: 0.6788 - val_Accuracy: 0.7841 - val_false_negatives: 20.0000 - val_false_positives: 17.0000 - val_true_negatives: 247.0000 - val_true_positives: 68.0000\n",
            "Epoch 101/200\n",
            "44/44 [==============================] - 1s 15ms/step - loss: 0.4769 - Accuracy: 0.8132 - false_negatives: 77.0000 - false_positives: 55.0000 - true_negatives: 989.0000 - true_positives: 271.0000 - val_loss: 0.6001 - val_Accuracy: 0.7841 - val_false_negatives: 22.0000 - val_false_positives: 17.0000 - val_true_negatives: 247.0000 - val_true_positives: 66.0000\n",
            "Epoch 102/200\n",
            "44/44 [==============================] - 1s 15ms/step - loss: 0.4682 - Accuracy: 0.8276 - false_negatives: 79.0000 - false_positives: 45.0000 - true_negatives: 999.0000 - true_positives: 269.0000 - val_loss: 0.4151 - val_Accuracy: 0.8750 - val_false_negatives: 12.0000 - val_false_positives: 8.0000 - val_true_negatives: 256.0000 - val_true_positives: 76.0000\n",
            "Epoch 103/200\n",
            "44/44 [==============================] - 1s 15ms/step - loss: 0.4467 - Accuracy: 0.8391 - false_negatives: 72.0000 - false_positives: 43.0000 - true_negatives: 1001.0000 - true_positives: 276.0000 - val_loss: 0.6152 - val_Accuracy: 0.7727 - val_false_negatives: 22.0000 - val_false_positives: 16.0000 - val_true_negatives: 248.0000 - val_true_positives: 66.0000\n",
            "Epoch 104/200\n",
            "44/44 [==============================] - 1s 15ms/step - loss: 0.4342 - Accuracy: 0.8190 - false_negatives: 72.0000 - false_positives: 50.0000 - true_negatives: 994.0000 - true_positives: 276.0000 - val_loss: 0.4924 - val_Accuracy: 0.8409 - val_false_negatives: 15.0000 - val_false_positives: 11.0000 - val_true_negatives: 253.0000 - val_true_positives: 73.0000\n",
            "Epoch 105/200\n",
            "44/44 [==============================] - 1s 16ms/step - loss: 0.4391 - Accuracy: 0.8477 - false_negatives: 64.0000 - false_positives: 45.0000 - true_negatives: 999.0000 - true_positives: 284.0000 - val_loss: 0.6688 - val_Accuracy: 0.7614 - val_false_negatives: 22.0000 - val_false_positives: 18.0000 - val_true_negatives: 246.0000 - val_true_positives: 66.0000\n",
            "Epoch 106/200\n",
            "44/44 [==============================] - 1s 16ms/step - loss: 0.4386 - Accuracy: 0.8362 - false_negatives: 68.0000 - false_positives: 45.0000 - true_negatives: 999.0000 - true_positives: 280.0000 - val_loss: 0.6707 - val_Accuracy: 0.8068 - val_false_negatives: 19.0000 - val_false_positives: 14.0000 - val_true_negatives: 250.0000 - val_true_positives: 69.0000\n",
            "Epoch 107/200\n",
            "44/44 [==============================] - 1s 15ms/step - loss: 0.4094 - Accuracy: 0.8420 - false_negatives: 70.0000 - false_positives: 46.0000 - true_negatives: 998.0000 - true_positives: 278.0000 - val_loss: 0.6166 - val_Accuracy: 0.7614 - val_false_negatives: 22.0000 - val_false_positives: 17.0000 - val_true_negatives: 247.0000 - val_true_positives: 66.0000\n",
            "Epoch 108/200\n",
            "44/44 [==============================] - 1s 25ms/step - loss: 0.4979 - Accuracy: 0.8046 - false_negatives: 74.0000 - false_positives: 56.0000 - true_negatives: 988.0000 - true_positives: 274.0000 - val_loss: 0.5431 - val_Accuracy: 0.8523 - val_false_negatives: 16.0000 - val_false_positives: 11.0000 - val_true_negatives: 253.0000 - val_true_positives: 72.0000\n",
            "Epoch 109/200\n",
            "44/44 [==============================] - 1s 15ms/step - loss: 0.3962 - Accuracy: 0.8362 - false_negatives: 66.0000 - false_positives: 44.0000 - true_negatives: 1000.0000 - true_positives: 282.0000 - val_loss: 0.6760 - val_Accuracy: 0.8068 - val_false_negatives: 18.0000 - val_false_positives: 15.0000 - val_true_negatives: 249.0000 - val_true_positives: 70.0000\n",
            "Epoch 110/200\n",
            "44/44 [==============================] - 1s 16ms/step - loss: 0.4494 - Accuracy: 0.8391 - false_negatives: 71.0000 - false_positives: 47.0000 - true_negatives: 997.0000 - true_positives: 277.0000 - val_loss: 0.5432 - val_Accuracy: 0.8295 - val_false_negatives: 17.0000 - val_false_positives: 13.0000 - val_true_negatives: 251.0000 - val_true_positives: 71.0000\n",
            "Epoch 111/200\n",
            "44/44 [==============================] - 1s 15ms/step - loss: 0.4481 - Accuracy: 0.8420 - false_negatives: 71.0000 - false_positives: 46.0000 - true_negatives: 998.0000 - true_positives: 277.0000 - val_loss: 0.5177 - val_Accuracy: 0.8409 - val_false_negatives: 14.0000 - val_false_positives: 12.0000 - val_true_negatives: 252.0000 - val_true_positives: 74.0000\n",
            "Epoch 112/200\n",
            "44/44 [==============================] - 1s 15ms/step - loss: 0.4545 - Accuracy: 0.8103 - false_negatives: 78.0000 - false_positives: 44.0000 - true_negatives: 1000.0000 - true_positives: 270.0000 - val_loss: 0.5642 - val_Accuracy: 0.8295 - val_false_negatives: 17.0000 - val_false_positives: 14.0000 - val_true_negatives: 250.0000 - val_true_positives: 71.0000\n",
            "Epoch 113/200\n",
            "44/44 [==============================] - 1s 15ms/step - loss: 0.4151 - Accuracy: 0.8391 - false_negatives: 66.0000 - false_positives: 43.0000 - true_negatives: 1001.0000 - true_positives: 282.0000 - val_loss: 0.4922 - val_Accuracy: 0.8523 - val_false_negatives: 15.0000 - val_false_positives: 11.0000 - val_true_negatives: 253.0000 - val_true_positives: 73.0000\n",
            "Epoch 114/200\n",
            "44/44 [==============================] - 1s 16ms/step - loss: 0.4354 - Accuracy: 0.8276 - false_negatives: 73.0000 - false_positives: 45.0000 - true_negatives: 999.0000 - true_positives: 275.0000 - val_loss: 0.6502 - val_Accuracy: 0.8068 - val_false_negatives: 19.0000 - val_false_positives: 14.0000 - val_true_negatives: 250.0000 - val_true_positives: 69.0000\n",
            "Epoch 115/200\n",
            "44/44 [==============================] - 1s 16ms/step - loss: 0.4552 - Accuracy: 0.8391 - false_negatives: 66.0000 - false_positives: 44.0000 - true_negatives: 1000.0000 - true_positives: 282.0000 - val_loss: 0.6476 - val_Accuracy: 0.7955 - val_false_negatives: 18.0000 - val_false_positives: 18.0000 - val_true_negatives: 246.0000 - val_true_positives: 70.0000\n",
            "Epoch 116/200\n",
            "44/44 [==============================] - 1s 15ms/step - loss: 0.4106 - Accuracy: 0.8534 - false_negatives: 62.0000 - false_positives: 40.0000 - true_negatives: 1004.0000 - true_positives: 286.0000 - val_loss: 0.6846 - val_Accuracy: 0.7614 - val_false_negatives: 21.0000 - val_false_positives: 18.0000 - val_true_negatives: 246.0000 - val_true_positives: 67.0000\n",
            "Epoch 117/200\n",
            "44/44 [==============================] - 1s 16ms/step - loss: 0.4470 - Accuracy: 0.8190 - false_negatives: 70.0000 - false_positives: 47.0000 - true_negatives: 997.0000 - true_positives: 278.0000 - val_loss: 0.5446 - val_Accuracy: 0.8295 - val_false_negatives: 15.0000 - val_false_positives: 14.0000 - val_true_negatives: 250.0000 - val_true_positives: 73.0000\n",
            "Epoch 118/200\n",
            "44/44 [==============================] - 1s 15ms/step - loss: 0.4437 - Accuracy: 0.8276 - false_negatives: 69.0000 - false_positives: 47.0000 - true_negatives: 997.0000 - true_positives: 279.0000 - val_loss: 0.6829 - val_Accuracy: 0.7273 - val_false_negatives: 26.0000 - val_false_positives: 19.0000 - val_true_negatives: 245.0000 - val_true_positives: 62.0000\n",
            "Epoch 119/200\n",
            "44/44 [==============================] - 1s 15ms/step - loss: 0.4768 - Accuracy: 0.8075 - false_negatives: 77.0000 - false_positives: 53.0000 - true_negatives: 991.0000 - true_positives: 271.0000 - val_loss: 0.6456 - val_Accuracy: 0.8182 - val_false_negatives: 21.0000 - val_false_positives: 15.0000 - val_true_negatives: 249.0000 - val_true_positives: 67.0000\n",
            "Epoch 120/200\n",
            "44/44 [==============================] - 1s 15ms/step - loss: 0.4066 - Accuracy: 0.8362 - false_negatives: 62.0000 - false_positives: 45.0000 - true_negatives: 999.0000 - true_positives: 286.0000 - val_loss: 0.4623 - val_Accuracy: 0.8409 - val_false_negatives: 16.0000 - val_false_positives: 10.0000 - val_true_negatives: 254.0000 - val_true_positives: 72.0000\n",
            "Epoch 121/200\n",
            "44/44 [==============================] - 1s 16ms/step - loss: 0.3669 - Accuracy: 0.8592 - false_negatives: 60.0000 - false_positives: 42.0000 - true_negatives: 1002.0000 - true_positives: 288.0000 - val_loss: 0.6293 - val_Accuracy: 0.8295 - val_false_negatives: 16.0000 - val_false_positives: 13.0000 - val_true_negatives: 251.0000 - val_true_positives: 72.0000\n",
            "Epoch 122/200\n",
            "44/44 [==============================] - 1s 15ms/step - loss: 0.3889 - Accuracy: 0.8678 - false_negatives: 60.0000 - false_positives: 36.0000 - true_negatives: 1008.0000 - true_positives: 288.0000 - val_loss: 0.6162 - val_Accuracy: 0.8182 - val_false_negatives: 16.0000 - val_false_positives: 12.0000 - val_true_negatives: 252.0000 - val_true_positives: 72.0000\n",
            "Epoch 123/200\n",
            "44/44 [==============================] - 1s 15ms/step - loss: 0.4065 - Accuracy: 0.8592 - false_negatives: 59.0000 - false_positives: 41.0000 - true_negatives: 1003.0000 - true_positives: 289.0000 - val_loss: 0.6140 - val_Accuracy: 0.8295 - val_false_negatives: 16.0000 - val_false_positives: 14.0000 - val_true_negatives: 250.0000 - val_true_positives: 72.0000\n",
            "Epoch 124/200\n",
            "44/44 [==============================] - 1s 15ms/step - loss: 0.4138 - Accuracy: 0.8477 - false_negatives: 63.0000 - false_positives: 42.0000 - true_negatives: 1002.0000 - true_positives: 285.0000 - val_loss: 0.7276 - val_Accuracy: 0.7614 - val_false_negatives: 22.0000 - val_false_positives: 18.0000 - val_true_negatives: 246.0000 - val_true_positives: 66.0000\n",
            "Epoch 125/200\n",
            "44/44 [==============================] - 1s 15ms/step - loss: 0.4345 - Accuracy: 0.8621 - false_negatives: 61.0000 - false_positives: 40.0000 - true_negatives: 1004.0000 - true_positives: 287.0000 - val_loss: 0.6335 - val_Accuracy: 0.8182 - val_false_negatives: 17.0000 - val_false_positives: 14.0000 - val_true_negatives: 250.0000 - val_true_positives: 71.0000\n",
            "Epoch 126/200\n",
            "44/44 [==============================] - 1s 15ms/step - loss: 0.3997 - Accuracy: 0.8563 - false_negatives: 57.0000 - false_positives: 45.0000 - true_negatives: 999.0000 - true_positives: 291.0000 - val_loss: 0.6856 - val_Accuracy: 0.7841 - val_false_negatives: 21.0000 - val_false_positives: 17.0000 - val_true_negatives: 247.0000 - val_true_positives: 67.0000\n",
            "Epoch 127/200\n",
            "44/44 [==============================] - 1s 15ms/step - loss: 0.5079 - Accuracy: 0.8017 - false_negatives: 84.0000 - false_positives: 53.0000 - true_negatives: 991.0000 - true_positives: 264.0000 - val_loss: 0.6955 - val_Accuracy: 0.8068 - val_false_negatives: 19.0000 - val_false_positives: 16.0000 - val_true_negatives: 248.0000 - val_true_positives: 69.0000\n",
            "Epoch 128/200\n",
            "44/44 [==============================] - 1s 15ms/step - loss: 0.4144 - Accuracy: 0.8506 - false_negatives: 67.0000 - false_positives: 44.0000 - true_negatives: 1000.0000 - true_positives: 281.0000 - val_loss: 0.7397 - val_Accuracy: 0.7841 - val_false_negatives: 19.0000 - val_false_positives: 16.0000 - val_true_negatives: 248.0000 - val_true_positives: 69.0000\n",
            "Epoch 129/200\n",
            "44/44 [==============================] - 1s 15ms/step - loss: 0.4193 - Accuracy: 0.8391 - false_negatives: 70.0000 - false_positives: 44.0000 - true_negatives: 1000.0000 - true_positives: 278.0000 - val_loss: 0.6978 - val_Accuracy: 0.7614 - val_false_negatives: 21.0000 - val_false_positives: 14.0000 - val_true_negatives: 250.0000 - val_true_positives: 67.0000\n",
            "Epoch 130/200\n",
            "44/44 [==============================] - 1s 15ms/step - loss: 0.4299 - Accuracy: 0.8161 - false_negatives: 72.0000 - false_positives: 48.0000 - true_negatives: 996.0000 - true_positives: 276.0000 - val_loss: 0.5925 - val_Accuracy: 0.7955 - val_false_negatives: 20.0000 - val_false_positives: 15.0000 - val_true_negatives: 249.0000 - val_true_positives: 68.0000\n",
            "Epoch 131/200\n",
            "44/44 [==============================] - 1s 15ms/step - loss: 0.4188 - Accuracy: 0.8391 - false_negatives: 66.0000 - false_positives: 44.0000 - true_negatives: 1000.0000 - true_positives: 282.0000 - val_loss: 0.8107 - val_Accuracy: 0.7727 - val_false_negatives: 22.0000 - val_false_positives: 15.0000 - val_true_negatives: 249.0000 - val_true_positives: 66.0000\n",
            "Epoch 132/200\n",
            "44/44 [==============================] - 1s 15ms/step - loss: 0.4118 - Accuracy: 0.8448 - false_negatives: 69.0000 - false_positives: 43.0000 - true_negatives: 1001.0000 - true_positives: 279.0000 - val_loss: 0.6014 - val_Accuracy: 0.7955 - val_false_negatives: 19.0000 - val_false_positives: 15.0000 - val_true_negatives: 249.0000 - val_true_positives: 69.0000\n",
            "Epoch 133/200\n",
            "44/44 [==============================] - 1s 15ms/step - loss: 0.3724 - Accuracy: 0.8621 - false_negatives: 61.0000 - false_positives: 39.0000 - true_negatives: 1005.0000 - true_positives: 287.0000 - val_loss: 0.6865 - val_Accuracy: 0.7500 - val_false_negatives: 22.0000 - val_false_positives: 17.0000 - val_true_negatives: 247.0000 - val_true_positives: 66.0000\n",
            "Epoch 134/200\n",
            "44/44 [==============================] - 1s 16ms/step - loss: 0.3959 - Accuracy: 0.8649 - false_negatives: 60.0000 - false_positives: 39.0000 - true_negatives: 1005.0000 - true_positives: 288.0000 - val_loss: 0.7045 - val_Accuracy: 0.7841 - val_false_negatives: 19.0000 - val_false_positives: 16.0000 - val_true_negatives: 248.0000 - val_true_positives: 69.0000\n",
            "Epoch 135/200\n",
            "44/44 [==============================] - 1s 15ms/step - loss: 0.3810 - Accuracy: 0.8649 - false_negatives: 57.0000 - false_positives: 37.0000 - true_negatives: 1007.0000 - true_positives: 291.0000 - val_loss: 0.5971 - val_Accuracy: 0.8409 - val_false_negatives: 15.0000 - val_false_positives: 13.0000 - val_true_negatives: 251.0000 - val_true_positives: 73.0000\n",
            "Epoch 136/200\n",
            "44/44 [==============================] - 1s 15ms/step - loss: 0.3476 - Accuracy: 0.8534 - false_negatives: 57.0000 - false_positives: 40.0000 - true_negatives: 1004.0000 - true_positives: 291.0000 - val_loss: 0.6277 - val_Accuracy: 0.8295 - val_false_negatives: 18.0000 - val_false_positives: 12.0000 - val_true_negatives: 252.0000 - val_true_positives: 70.0000\n",
            "Epoch 137/200\n",
            "44/44 [==============================] - 1s 16ms/step - loss: 0.3463 - Accuracy: 0.8707 - false_negatives: 54.0000 - false_positives: 36.0000 - true_negatives: 1008.0000 - true_positives: 294.0000 - val_loss: 0.8086 - val_Accuracy: 0.7727 - val_false_negatives: 21.0000 - val_false_positives: 20.0000 - val_true_negatives: 244.0000 - val_true_positives: 67.0000\n",
            "Epoch 138/200\n",
            "44/44 [==============================] - 1s 16ms/step - loss: 0.3437 - Accuracy: 0.8707 - false_negatives: 52.0000 - false_positives: 38.0000 - true_negatives: 1006.0000 - true_positives: 296.0000 - val_loss: 0.6327 - val_Accuracy: 0.7841 - val_false_negatives: 21.0000 - val_false_positives: 19.0000 - val_true_negatives: 245.0000 - val_true_positives: 67.0000\n",
            "Epoch 139/200\n",
            "44/44 [==============================] - 1s 16ms/step - loss: 0.3503 - Accuracy: 0.8764 - false_negatives: 52.0000 - false_positives: 31.0000 - true_negatives: 1013.0000 - true_positives: 296.0000 - val_loss: 0.6091 - val_Accuracy: 0.8295 - val_false_negatives: 15.0000 - val_false_positives: 14.0000 - val_true_negatives: 250.0000 - val_true_positives: 73.0000\n",
            "Epoch 140/200\n",
            "44/44 [==============================] - 1s 15ms/step - loss: 0.3649 - Accuracy: 0.8621 - false_negatives: 59.0000 - false_positives: 39.0000 - true_negatives: 1005.0000 - true_positives: 289.0000 - val_loss: 0.6551 - val_Accuracy: 0.8182 - val_false_negatives: 18.0000 - val_false_positives: 14.0000 - val_true_negatives: 250.0000 - val_true_positives: 70.0000\n",
            "Epoch 141/200\n",
            "44/44 [==============================] - 1s 15ms/step - loss: 0.3275 - Accuracy: 0.8994 - false_negatives: 42.0000 - false_positives: 30.0000 - true_negatives: 1014.0000 - true_positives: 306.0000 - val_loss: 0.6714 - val_Accuracy: 0.8068 - val_false_negatives: 19.0000 - val_false_positives: 16.0000 - val_true_negatives: 248.0000 - val_true_positives: 69.0000\n",
            "Epoch 142/200\n",
            "44/44 [==============================] - 1s 16ms/step - loss: 0.3029 - Accuracy: 0.8937 - false_negatives: 42.0000 - false_positives: 31.0000 - true_negatives: 1013.0000 - true_positives: 306.0000 - val_loss: 0.7453 - val_Accuracy: 0.7955 - val_false_negatives: 20.0000 - val_false_positives: 17.0000 - val_true_negatives: 247.0000 - val_true_positives: 68.0000\n",
            "Epoch 143/200\n",
            "44/44 [==============================] - 1s 16ms/step - loss: 0.3107 - Accuracy: 0.8937 - false_negatives: 41.0000 - false_positives: 31.0000 - true_negatives: 1013.0000 - true_positives: 307.0000 - val_loss: 0.7443 - val_Accuracy: 0.7727 - val_false_negatives: 20.0000 - val_false_positives: 19.0000 - val_true_negatives: 245.0000 - val_true_positives: 68.0000\n",
            "Epoch 144/200\n",
            "44/44 [==============================] - 1s 15ms/step - loss: 0.3365 - Accuracy: 0.8678 - false_negatives: 49.0000 - false_positives: 36.0000 - true_negatives: 1008.0000 - true_positives: 299.0000 - val_loss: 0.8237 - val_Accuracy: 0.7841 - val_false_negatives: 20.0000 - val_false_positives: 18.0000 - val_true_negatives: 246.0000 - val_true_positives: 68.0000\n",
            "Epoch 145/200\n",
            "44/44 [==============================] - 1s 16ms/step - loss: 0.3259 - Accuracy: 0.8678 - false_negatives: 49.0000 - false_positives: 41.0000 - true_negatives: 1003.0000 - true_positives: 299.0000 - val_loss: 0.7306 - val_Accuracy: 0.8182 - val_false_negatives: 18.0000 - val_false_positives: 16.0000 - val_true_negatives: 248.0000 - val_true_positives: 70.0000\n",
            "Epoch 146/200\n",
            "44/44 [==============================] - 1s 16ms/step - loss: 0.3323 - Accuracy: 0.8793 - false_negatives: 47.0000 - false_positives: 34.0000 - true_negatives: 1010.0000 - true_positives: 301.0000 - val_loss: 0.6943 - val_Accuracy: 0.7955 - val_false_negatives: 18.0000 - val_false_positives: 18.0000 - val_true_negatives: 246.0000 - val_true_positives: 70.0000\n",
            "Epoch 147/200\n",
            "44/44 [==============================] - 1s 16ms/step - loss: 0.3252 - Accuracy: 0.8707 - false_negatives: 50.0000 - false_positives: 39.0000 - true_negatives: 1005.0000 - true_positives: 298.0000 - val_loss: 0.7459 - val_Accuracy: 0.8182 - val_false_negatives: 17.0000 - val_false_positives: 14.0000 - val_true_negatives: 250.0000 - val_true_positives: 71.0000\n",
            "Epoch 148/200\n",
            "44/44 [==============================] - 1s 15ms/step - loss: 0.3468 - Accuracy: 0.8707 - false_negatives: 52.0000 - false_positives: 36.0000 - true_negatives: 1008.0000 - true_positives: 296.0000 - val_loss: 0.5989 - val_Accuracy: 0.8409 - val_false_negatives: 14.0000 - val_false_positives: 12.0000 - val_true_negatives: 252.0000 - val_true_positives: 74.0000\n",
            "Epoch 149/200\n",
            "44/44 [==============================] - 1s 16ms/step - loss: 0.3186 - Accuracy: 0.8937 - false_negatives: 43.0000 - false_positives: 31.0000 - true_negatives: 1013.0000 - true_positives: 305.0000 - val_loss: 0.7716 - val_Accuracy: 0.7955 - val_false_negatives: 18.0000 - val_false_positives: 16.0000 - val_true_negatives: 248.0000 - val_true_positives: 70.0000\n",
            "Epoch 150/200\n",
            "44/44 [==============================] - 1s 15ms/step - loss: 0.3381 - Accuracy: 0.8851 - false_negatives: 46.0000 - false_positives: 35.0000 - true_negatives: 1009.0000 - true_positives: 302.0000 - val_loss: 0.7343 - val_Accuracy: 0.7955 - val_false_negatives: 19.0000 - val_false_positives: 17.0000 - val_true_negatives: 247.0000 - val_true_positives: 69.0000\n",
            "Epoch 151/200\n",
            "44/44 [==============================] - 1s 16ms/step - loss: 0.3272 - Accuracy: 0.8793 - false_negatives: 46.0000 - false_positives: 33.0000 - true_negatives: 1011.0000 - true_positives: 302.0000 - val_loss: 0.7414 - val_Accuracy: 0.7500 - val_false_negatives: 22.0000 - val_false_positives: 20.0000 - val_true_negatives: 244.0000 - val_true_positives: 66.0000\n",
            "Epoch 152/200\n",
            "44/44 [==============================] - 1s 15ms/step - loss: 0.3259 - Accuracy: 0.8678 - false_negatives: 51.0000 - false_positives: 41.0000 - true_negatives: 1003.0000 - true_positives: 297.0000 - val_loss: 0.7820 - val_Accuracy: 0.8068 - val_false_negatives: 19.0000 - val_false_positives: 17.0000 - val_true_negatives: 247.0000 - val_true_positives: 69.0000\n",
            "Epoch 153/200\n",
            "44/44 [==============================] - 1s 15ms/step - loss: 0.3280 - Accuracy: 0.8764 - false_negatives: 48.0000 - false_positives: 37.0000 - true_negatives: 1007.0000 - true_positives: 300.0000 - val_loss: 0.7598 - val_Accuracy: 0.8182 - val_false_negatives: 18.0000 - val_false_positives: 14.0000 - val_true_negatives: 250.0000 - val_true_positives: 70.0000\n",
            "Epoch 154/200\n",
            "44/44 [==============================] - 1s 15ms/step - loss: 0.3599 - Accuracy: 0.8649 - false_negatives: 49.0000 - false_positives: 40.0000 - true_negatives: 1004.0000 - true_positives: 299.0000 - val_loss: 0.6105 - val_Accuracy: 0.8295 - val_false_negatives: 15.0000 - val_false_positives: 14.0000 - val_true_negatives: 250.0000 - val_true_positives: 73.0000\n",
            "Epoch 155/200\n",
            "44/44 [==============================] - 1s 15ms/step - loss: 0.3120 - Accuracy: 0.8937 - false_negatives: 46.0000 - false_positives: 29.0000 - true_negatives: 1015.0000 - true_positives: 302.0000 - val_loss: 0.6041 - val_Accuracy: 0.8636 - val_false_negatives: 14.0000 - val_false_positives: 10.0000 - val_true_negatives: 254.0000 - val_true_positives: 74.0000\n",
            "Epoch 156/200\n",
            "44/44 [==============================] - 1s 16ms/step - loss: 0.3462 - Accuracy: 0.8736 - false_negatives: 52.0000 - false_positives: 36.0000 - true_negatives: 1008.0000 - true_positives: 296.0000 - val_loss: 0.4941 - val_Accuracy: 0.8182 - val_false_negatives: 19.0000 - val_false_positives: 12.0000 - val_true_negatives: 252.0000 - val_true_positives: 69.0000\n",
            "Epoch 157/200\n",
            "44/44 [==============================] - 1s 16ms/step - loss: 0.3177 - Accuracy: 0.8678 - false_negatives: 51.0000 - false_positives: 42.0000 - true_negatives: 1002.0000 - true_positives: 297.0000 - val_loss: 0.6974 - val_Accuracy: 0.8182 - val_false_negatives: 19.0000 - val_false_positives: 12.0000 - val_true_negatives: 252.0000 - val_true_positives: 69.0000\n",
            "Epoch 158/200\n",
            "44/44 [==============================] - 1s 15ms/step - loss: 0.3689 - Accuracy: 0.8333 - false_negatives: 65.0000 - false_positives: 46.0000 - true_negatives: 998.0000 - true_positives: 283.0000 - val_loss: 0.6532 - val_Accuracy: 0.8182 - val_false_negatives: 16.0000 - val_false_positives: 16.0000 - val_true_negatives: 248.0000 - val_true_positives: 72.0000\n",
            "Epoch 159/200\n",
            "44/44 [==============================] - 1s 16ms/step - loss: 0.4168 - Accuracy: 0.8132 - false_negatives: 72.0000 - false_positives: 51.0000 - true_negatives: 993.0000 - true_positives: 276.0000 - val_loss: 0.5081 - val_Accuracy: 0.8523 - val_false_negatives: 14.0000 - val_false_positives: 12.0000 - val_true_negatives: 252.0000 - val_true_positives: 74.0000\n",
            "Epoch 160/200\n",
            "44/44 [==============================] - 1s 16ms/step - loss: 0.2878 - Accuracy: 0.8994 - false_negatives: 41.0000 - false_positives: 26.0000 - true_negatives: 1018.0000 - true_positives: 307.0000 - val_loss: 0.5993 - val_Accuracy: 0.8523 - val_false_negatives: 14.0000 - val_false_positives: 13.0000 - val_true_negatives: 251.0000 - val_true_positives: 74.0000\n",
            "Epoch 161/200\n",
            "44/44 [==============================] - 1s 15ms/step - loss: 0.2698 - Accuracy: 0.8908 - false_negatives: 44.0000 - false_positives: 32.0000 - true_negatives: 1012.0000 - true_positives: 304.0000 - val_loss: 0.6638 - val_Accuracy: 0.8182 - val_false_negatives: 16.0000 - val_false_positives: 14.0000 - val_true_negatives: 250.0000 - val_true_positives: 72.0000\n",
            "Epoch 162/200\n",
            "44/44 [==============================] - 1s 16ms/step - loss: 0.2989 - Accuracy: 0.8879 - false_negatives: 45.0000 - false_positives: 38.0000 - true_negatives: 1006.0000 - true_positives: 303.0000 - val_loss: 0.7065 - val_Accuracy: 0.7841 - val_false_negatives: 19.0000 - val_false_positives: 18.0000 - val_true_negatives: 246.0000 - val_true_positives: 69.0000\n",
            "Epoch 163/200\n",
            "44/44 [==============================] - 1s 15ms/step - loss: 0.3411 - Accuracy: 0.8793 - false_negatives: 49.0000 - false_positives: 38.0000 - true_negatives: 1006.0000 - true_positives: 299.0000 - val_loss: 0.6943 - val_Accuracy: 0.8409 - val_false_negatives: 15.0000 - val_false_positives: 12.0000 - val_true_negatives: 252.0000 - val_true_positives: 73.0000\n",
            "Epoch 164/200\n",
            "44/44 [==============================] - 1s 16ms/step - loss: 0.3183 - Accuracy: 0.8764 - false_negatives: 52.0000 - false_positives: 37.0000 - true_negatives: 1007.0000 - true_positives: 296.0000 - val_loss: 0.6350 - val_Accuracy: 0.8068 - val_false_negatives: 17.0000 - val_false_positives: 13.0000 - val_true_negatives: 251.0000 - val_true_positives: 71.0000\n",
            "Epoch 165/200\n",
            "44/44 [==============================] - 1s 16ms/step - loss: 0.2816 - Accuracy: 0.8764 - false_negatives: 46.0000 - false_positives: 32.0000 - true_negatives: 1012.0000 - true_positives: 302.0000 - val_loss: 0.8218 - val_Accuracy: 0.7159 - val_false_negatives: 26.0000 - val_false_positives: 24.0000 - val_true_negatives: 240.0000 - val_true_positives: 62.0000\n",
            "Epoch 166/200\n",
            "44/44 [==============================] - 1s 16ms/step - loss: 0.3075 - Accuracy: 0.8908 - false_negatives: 42.0000 - false_positives: 30.0000 - true_negatives: 1014.0000 - true_positives: 306.0000 - val_loss: 0.8246 - val_Accuracy: 0.8068 - val_false_negatives: 17.0000 - val_false_positives: 15.0000 - val_true_negatives: 249.0000 - val_true_positives: 71.0000\n",
            "Epoch 167/200\n",
            "44/44 [==============================] - 1s 15ms/step - loss: 0.3364 - Accuracy: 0.8937 - false_negatives: 48.0000 - false_positives: 31.0000 - true_negatives: 1013.0000 - true_positives: 300.0000 - val_loss: 0.6580 - val_Accuracy: 0.8295 - val_false_negatives: 15.0000 - val_false_positives: 13.0000 - val_true_negatives: 251.0000 - val_true_positives: 73.0000\n",
            "Epoch 168/200\n",
            "44/44 [==============================] - 1s 15ms/step - loss: 0.3251 - Accuracy: 0.8793 - false_negatives: 52.0000 - false_positives: 36.0000 - true_negatives: 1008.0000 - true_positives: 296.0000 - val_loss: 0.6754 - val_Accuracy: 0.7841 - val_false_negatives: 20.0000 - val_false_positives: 18.0000 - val_true_negatives: 246.0000 - val_true_positives: 68.0000\n",
            "Epoch 169/200\n",
            "44/44 [==============================] - 1s 16ms/step - loss: 0.3004 - Accuracy: 0.8736 - false_negatives: 50.0000 - false_positives: 38.0000 - true_negatives: 1006.0000 - true_positives: 298.0000 - val_loss: 0.6331 - val_Accuracy: 0.8068 - val_false_negatives: 17.0000 - val_false_positives: 14.0000 - val_true_negatives: 250.0000 - val_true_positives: 71.0000\n",
            "Epoch 170/200\n",
            "44/44 [==============================] - 1s 16ms/step - loss: 0.2770 - Accuracy: 0.8994 - false_negatives: 43.0000 - false_positives: 30.0000 - true_negatives: 1014.0000 - true_positives: 305.0000 - val_loss: 0.6296 - val_Accuracy: 0.7955 - val_false_negatives: 19.0000 - val_false_positives: 16.0000 - val_true_negatives: 248.0000 - val_true_positives: 69.0000\n",
            "Epoch 171/200\n",
            "44/44 [==============================] - 1s 16ms/step - loss: 0.2965 - Accuracy: 0.8908 - false_negatives: 41.0000 - false_positives: 32.0000 - true_negatives: 1012.0000 - true_positives: 307.0000 - val_loss: 0.6617 - val_Accuracy: 0.7841 - val_false_negatives: 20.0000 - val_false_positives: 16.0000 - val_true_negatives: 248.0000 - val_true_positives: 68.0000\n",
            "Epoch 172/200\n",
            "44/44 [==============================] - 1s 16ms/step - loss: 0.2686 - Accuracy: 0.8908 - false_negatives: 43.0000 - false_positives: 33.0000 - true_negatives: 1011.0000 - true_positives: 305.0000 - val_loss: 0.6463 - val_Accuracy: 0.8636 - val_false_negatives: 14.0000 - val_false_positives: 10.0000 - val_true_negatives: 254.0000 - val_true_positives: 74.0000\n",
            "Epoch 173/200\n",
            "44/44 [==============================] - 1s 16ms/step - loss: 0.2563 - Accuracy: 0.9109 - false_negatives: 36.0000 - false_positives: 28.0000 - true_negatives: 1016.0000 - true_positives: 312.0000 - val_loss: 0.6278 - val_Accuracy: 0.8409 - val_false_negatives: 15.0000 - val_false_positives: 13.0000 - val_true_negatives: 251.0000 - val_true_positives: 73.0000\n",
            "Epoch 174/200\n",
            "44/44 [==============================] - 1s 16ms/step - loss: 0.2457 - Accuracy: 0.9195 - false_negatives: 33.0000 - false_positives: 27.0000 - true_negatives: 1017.0000 - true_positives: 315.0000 - val_loss: 0.6657 - val_Accuracy: 0.8182 - val_false_negatives: 16.0000 - val_false_positives: 15.0000 - val_true_negatives: 249.0000 - val_true_positives: 72.0000\n",
            "Epoch 175/200\n",
            "44/44 [==============================] - 1s 16ms/step - loss: 0.2293 - Accuracy: 0.9023 - false_negatives: 37.0000 - false_positives: 26.0000 - true_negatives: 1018.0000 - true_positives: 311.0000 - val_loss: 0.6356 - val_Accuracy: 0.7841 - val_false_negatives: 20.0000 - val_false_positives: 18.0000 - val_true_negatives: 246.0000 - val_true_positives: 68.0000\n",
            "Epoch 176/200\n",
            "44/44 [==============================] - 1s 16ms/step - loss: 0.2381 - Accuracy: 0.9138 - false_negatives: 35.0000 - false_positives: 27.0000 - true_negatives: 1017.0000 - true_positives: 313.0000 - val_loss: 0.5687 - val_Accuracy: 0.8068 - val_false_negatives: 18.0000 - val_false_positives: 15.0000 - val_true_negatives: 249.0000 - val_true_positives: 70.0000\n",
            "Epoch 177/200\n",
            "44/44 [==============================] - 1s 16ms/step - loss: 0.2907 - Accuracy: 0.8966 - false_negatives: 40.0000 - false_positives: 32.0000 - true_negatives: 1012.0000 - true_positives: 308.0000 - val_loss: 0.8871 - val_Accuracy: 0.7386 - val_false_negatives: 23.0000 - val_false_positives: 22.0000 - val_true_negatives: 242.0000 - val_true_positives: 65.0000\n",
            "Epoch 178/200\n",
            "44/44 [==============================] - 1s 15ms/step - loss: 0.2448 - Accuracy: 0.9052 - false_negatives: 37.0000 - false_positives: 27.0000 - true_negatives: 1017.0000 - true_positives: 311.0000 - val_loss: 0.6131 - val_Accuracy: 0.8182 - val_false_negatives: 17.0000 - val_false_positives: 15.0000 - val_true_negatives: 249.0000 - val_true_positives: 71.0000\n",
            "Epoch 179/200\n",
            "44/44 [==============================] - 1s 16ms/step - loss: 0.2609 - Accuracy: 0.8966 - false_negatives: 43.0000 - false_positives: 34.0000 - true_negatives: 1010.0000 - true_positives: 305.0000 - val_loss: 0.6355 - val_Accuracy: 0.8182 - val_false_negatives: 17.0000 - val_false_positives: 15.0000 - val_true_negatives: 249.0000 - val_true_positives: 71.0000\n",
            "Epoch 180/200\n",
            "44/44 [==============================] - 1s 15ms/step - loss: 0.2622 - Accuracy: 0.9052 - false_negatives: 36.0000 - false_positives: 30.0000 - true_negatives: 1014.0000 - true_positives: 312.0000 - val_loss: 0.7159 - val_Accuracy: 0.8409 - val_false_negatives: 15.0000 - val_false_positives: 12.0000 - val_true_negatives: 252.0000 - val_true_positives: 73.0000\n",
            "Epoch 181/200\n",
            "44/44 [==============================] - 1s 16ms/step - loss: 0.3270 - Accuracy: 0.8707 - false_negatives: 51.0000 - false_positives: 37.0000 - true_negatives: 1007.0000 - true_positives: 297.0000 - val_loss: 0.8670 - val_Accuracy: 0.7955 - val_false_negatives: 19.0000 - val_false_positives: 16.0000 - val_true_negatives: 248.0000 - val_true_positives: 69.0000\n",
            "Epoch 182/200\n",
            "44/44 [==============================] - 1s 15ms/step - loss: 0.3028 - Accuracy: 0.8764 - false_negatives: 50.0000 - false_positives: 38.0000 - true_negatives: 1006.0000 - true_positives: 298.0000 - val_loss: 0.6899 - val_Accuracy: 0.8295 - val_false_negatives: 15.0000 - val_false_positives: 13.0000 - val_true_negatives: 251.0000 - val_true_positives: 73.0000\n",
            "Epoch 183/200\n",
            "44/44 [==============================] - 1s 16ms/step - loss: 0.2751 - Accuracy: 0.8807 - false_negatives: 46.0000 - false_positives: 36.0000 - true_negatives: 1020.0000 - true_positives: 306.0000 - val_loss: 0.7567 - val_Accuracy: 0.7841 - val_false_negatives: 20.0000 - val_false_positives: 19.0000 - val_true_negatives: 245.0000 - val_true_positives: 68.0000\n",
            "Epoch 184/200\n",
            "44/44 [==============================] - 1s 16ms/step - loss: 0.2223 - Accuracy: 0.9253 - false_negatives: 29.0000 - false_positives: 23.0000 - true_negatives: 1021.0000 - true_positives: 319.0000 - val_loss: 0.5652 - val_Accuracy: 0.8636 - val_false_negatives: 15.0000 - val_false_positives: 12.0000 - val_true_negatives: 252.0000 - val_true_positives: 73.0000\n",
            "Epoch 185/200\n",
            "44/44 [==============================] - 1s 25ms/step - loss: 0.2205 - Accuracy: 0.9224 - false_negatives: 32.0000 - false_positives: 23.0000 - true_negatives: 1021.0000 - true_positives: 316.0000 - val_loss: 0.6453 - val_Accuracy: 0.8409 - val_false_negatives: 15.0000 - val_false_positives: 14.0000 - val_true_negatives: 250.0000 - val_true_positives: 73.0000\n",
            "Epoch 186/200\n",
            "44/44 [==============================] - 1s 25ms/step - loss: 0.2652 - Accuracy: 0.8937 - false_negatives: 41.0000 - false_positives: 33.0000 - true_negatives: 1011.0000 - true_positives: 307.0000 - val_loss: 0.6971 - val_Accuracy: 0.7614 - val_false_negatives: 21.0000 - val_false_positives: 20.0000 - val_true_negatives: 244.0000 - val_true_positives: 67.0000\n",
            "Epoch 187/200\n",
            "44/44 [==============================] - 1s 15ms/step - loss: 0.2432 - Accuracy: 0.9052 - false_negatives: 39.0000 - false_positives: 28.0000 - true_negatives: 1016.0000 - true_positives: 309.0000 - val_loss: 0.6533 - val_Accuracy: 0.7955 - val_false_negatives: 20.0000 - val_false_positives: 18.0000 - val_true_negatives: 246.0000 - val_true_positives: 68.0000\n",
            "Epoch 188/200\n",
            "44/44 [==============================] - 1s 16ms/step - loss: 0.2508 - Accuracy: 0.9138 - false_negatives: 35.0000 - false_positives: 26.0000 - true_negatives: 1018.0000 - true_positives: 313.0000 - val_loss: 0.7133 - val_Accuracy: 0.7500 - val_false_negatives: 22.0000 - val_false_positives: 19.0000 - val_true_negatives: 245.0000 - val_true_positives: 66.0000\n",
            "Epoch 189/200\n",
            "44/44 [==============================] - 1s 16ms/step - loss: 0.3499 - Accuracy: 0.8736 - false_negatives: 49.0000 - false_positives: 38.0000 - true_negatives: 1006.0000 - true_positives: 299.0000 - val_loss: 0.7952 - val_Accuracy: 0.8295 - val_false_negatives: 19.0000 - val_false_positives: 14.0000 - val_true_negatives: 250.0000 - val_true_positives: 69.0000\n",
            "Epoch 190/200\n",
            "44/44 [==============================] - 1s 16ms/step - loss: 0.3646 - Accuracy: 0.8678 - false_negatives: 54.0000 - false_positives: 42.0000 - true_negatives: 1002.0000 - true_positives: 294.0000 - val_loss: 0.5136 - val_Accuracy: 0.8636 - val_false_negatives: 13.0000 - val_false_positives: 11.0000 - val_true_negatives: 253.0000 - val_true_positives: 75.0000\n",
            "Epoch 191/200\n",
            "44/44 [==============================] - 1s 16ms/step - loss: 0.3002 - Accuracy: 0.8966 - false_negatives: 39.0000 - false_positives: 25.0000 - true_negatives: 1019.0000 - true_positives: 309.0000 - val_loss: 0.6317 - val_Accuracy: 0.7727 - val_false_negatives: 20.0000 - val_false_positives: 18.0000 - val_true_negatives: 246.0000 - val_true_positives: 68.0000\n",
            "Epoch 192/200\n",
            "44/44 [==============================] - 1s 16ms/step - loss: 0.2485 - Accuracy: 0.9167 - false_negatives: 35.0000 - false_positives: 25.0000 - true_negatives: 1019.0000 - true_positives: 313.0000 - val_loss: 0.6124 - val_Accuracy: 0.8409 - val_false_negatives: 16.0000 - val_false_positives: 13.0000 - val_true_negatives: 251.0000 - val_true_positives: 72.0000\n",
            "Epoch 193/200\n",
            "44/44 [==============================] - 1s 16ms/step - loss: 0.2466 - Accuracy: 0.9138 - false_negatives: 37.0000 - false_positives: 23.0000 - true_negatives: 1021.0000 - true_positives: 311.0000 - val_loss: 0.5738 - val_Accuracy: 0.8068 - val_false_negatives: 18.0000 - val_false_positives: 16.0000 - val_true_negatives: 248.0000 - val_true_positives: 70.0000\n",
            "Epoch 194/200\n",
            "44/44 [==============================] - 1s 16ms/step - loss: 0.2078 - Accuracy: 0.9253 - false_negatives: 29.0000 - false_positives: 23.0000 - true_negatives: 1021.0000 - true_positives: 319.0000 - val_loss: 0.5303 - val_Accuracy: 0.8182 - val_false_negatives: 17.0000 - val_false_positives: 16.0000 - val_true_negatives: 248.0000 - val_true_positives: 71.0000\n",
            "Epoch 195/200\n",
            "44/44 [==============================] - 1s 16ms/step - loss: 0.2094 - Accuracy: 0.9224 - false_negatives: 31.0000 - false_positives: 23.0000 - true_negatives: 1021.0000 - true_positives: 317.0000 - val_loss: 0.6578 - val_Accuracy: 0.7955 - val_false_negatives: 19.0000 - val_false_positives: 16.0000 - val_true_negatives: 248.0000 - val_true_positives: 69.0000\n",
            "Epoch 196/200\n",
            "44/44 [==============================] - 1s 16ms/step - loss: 0.3183 - Accuracy: 0.8793 - false_negatives: 46.0000 - false_positives: 38.0000 - true_negatives: 1006.0000 - true_positives: 302.0000 - val_loss: 0.6027 - val_Accuracy: 0.8068 - val_false_negatives: 17.0000 - val_false_positives: 15.0000 - val_true_negatives: 249.0000 - val_true_positives: 71.0000\n",
            "Epoch 197/200\n",
            "44/44 [==============================] - 1s 16ms/step - loss: 0.2483 - Accuracy: 0.9080 - false_negatives: 37.0000 - false_positives: 28.0000 - true_negatives: 1016.0000 - true_positives: 311.0000 - val_loss: 0.6585 - val_Accuracy: 0.7841 - val_false_negatives: 19.0000 - val_false_positives: 18.0000 - val_true_negatives: 246.0000 - val_true_positives: 69.0000\n",
            "Epoch 198/200\n",
            "44/44 [==============================] - 1s 16ms/step - loss: 0.2175 - Accuracy: 0.9224 - false_negatives: 33.0000 - false_positives: 23.0000 - true_negatives: 1021.0000 - true_positives: 315.0000 - val_loss: 0.6877 - val_Accuracy: 0.7841 - val_false_negatives: 19.0000 - val_false_positives: 18.0000 - val_true_negatives: 246.0000 - val_true_positives: 69.0000\n",
            "Epoch 199/200\n",
            "44/44 [==============================] - 1s 16ms/step - loss: 0.1826 - Accuracy: 0.9282 - false_negatives: 28.0000 - false_positives: 23.0000 - true_negatives: 1021.0000 - true_positives: 320.0000 - val_loss: 0.6012 - val_Accuracy: 0.8409 - val_false_negatives: 15.0000 - val_false_positives: 14.0000 - val_true_negatives: 250.0000 - val_true_positives: 73.0000\n",
            "Epoch 200/200\n",
            "44/44 [==============================] - 1s 16ms/step - loss: 0.1848 - Accuracy: 0.9282 - false_negatives: 29.0000 - false_positives: 20.0000 - true_negatives: 1024.0000 - true_positives: 319.0000 - val_loss: 0.6403 - val_Accuracy: 0.8068 - val_false_negatives: 17.0000 - val_false_positives: 14.0000 - val_true_negatives: 250.0000 - val_true_positives: 71.0000\n"
          ]
        }
      ]
    },
    {
      "cell_type": "markdown",
      "source": [
        "Plotting Traning Result"
      ],
      "metadata": {
        "id": "XZSFG8fXqz7c"
      }
    },
    {
      "cell_type": "code",
      "source": [
        "  #plotting\n",
        "  epochs = range(1, len(history.history['loss'])+1)\n",
        "  plt.title(f\"Grafik loss training iterasi {iterasi}\")\n",
        "  plt.plot(epochs, history.history['loss'], 'r', label='Training Loss')\n",
        "  plt.plot(epochs, history.history['val_loss'], 'b', label='Validation Loss')    \n",
        "  plt.xlabel(\"Epoch\")\n",
        "  plt.ylabel(\"Loss\")\n",
        "  plt.legend()\n",
        "  plt.show()\n"
      ],
      "metadata": {
        "id": "3dXbDrJpY1NK",
        "colab": {
          "base_uri": "https://localhost:8080/",
          "height": 295
        },
        "outputId": "87095442-a364-4e6b-d453-9f242f9ec8a4"
      },
      "execution_count": 12,
      "outputs": [
        {
          "output_type": "display_data",
          "data": {
            "text/plain": [
              "<Figure size 432x288 with 1 Axes>"
            ],
            "image/png": "[encoded data removed]"
          },
          "metadata": {
            "needs_background": "light"
          }
        }
      ]
    },
    {
      "cell_type": "code",
      "source": [
        "  #plotting\n",
        "  epochs = range(1, len(history.history['loss'])+1)\n",
        "  plt.title(f\"Grafik Akurasi training iterasi {iterasi}\")\n",
        "  plt.plot(epochs, history.history['Accuracy'], 'r', label='Training Accuracy')\n",
        "  plt.plot(epochs, history.history['val_Accuracy'], 'b', label='Validation Accuracy')    \n",
        "  plt.xlabel(\"Epoch\")\n",
        "  plt.ylabel(\"Accuracy\")\n",
        "  plt.legend()\n",
        "  plt.show()"
      ],
      "metadata": {
        "id": "j3xigprPwlSX",
        "colab": {
          "base_uri": "https://localhost:8080/",
          "height": 295
        },
        "outputId": "824664eb-c154-4b92-edaf-8f51d796700c"
      },
      "execution_count": 13,
      "outputs": [
        {
          "output_type": "display_data",
          "data": {
            "text/plain": [
              "<Figure size 432x288 with 1 Axes>"
            ],
            "image/png": "[encoded data removed]"
          },
          "metadata": {
            "needs_background": "light"
          }
        }
      ]
    },
    {
      "cell_type": "code",
      "source": [
        "import matplotlib.pyplot as plt\n",
        "from sklearn.datasets import make_classification\n",
        "from numpy import mean\n",
        "from sklearn.metrics import confusion_matrix, ConfusionMatrixDisplay, accuracy_score, classification_report, recall_score\n",
        "\n",
        "validation = model.predict(np_image_list_validation)\n",
        "\n",
        "predicted_labels = []\n",
        "correct_labels = []\n",
        "for i in range (len(validation)):\n",
        "  predicted_labels.append(np.argmax(validation[i]))\n",
        "\n",
        "for i in range (len(image_labels_validation)):\n",
        "  correct_labels.append(np.argmax(image_labels_validation[i]))\n",
        "\n",
        "\n",
        "confusion_matrix = confusion_matrix(correct_labels, predicted_labels)\n",
        "disp = ConfusionMatrixDisplay(confusion_matrix=confusion_matrix)  \n",
        "disp.plot()\n",
        "plt.show()\n",
        "print('--------')\n",
        "FP = confusion_matrix.sum(axis=0) - np.diag(confusion_matrix)  \n",
        "FN = confusion_matrix.sum(axis=1) - np.diag(confusion_matrix)\n",
        "TP = np.diag(confusion_matrix)\n",
        "TN = confusion_matrix.sum() - (FP + FN + TP)\n",
        "\n",
        "# Sensitivity, hit rate, recall, or true positive rate\n",
        "TPR = TP/(TP+FN)\n",
        "# Specificity or true negative rate\n",
        "TNR = TN/(TN+FP) \n",
        "# Overall accuracy\n",
        "ACC = (TP+TN)/(TP+FP+FN+TN)\n",
        "\n",
        "print(TP)\n",
        "print(TN)\n",
        "print(FP)\n",
        "print(FN)\n",
        "print('--------')\n",
        "print(ACC)\n",
        "print(TPR)\n",
        "print(TNR)\n",
        "print('--------')\n",
        "\n",
        "TP = sum(TP)\n",
        "TN = sum(TN)\n",
        "FP = sum(FP)\n",
        "FN = sum(FN)\n",
        "\n",
        "# Sensitivity, hit rate, recall, or true positive rate\n",
        "TPR = TP/(TP+FN)\n",
        "# Specificity or true negative rate\n",
        "TNR = TN/(TN+FP) \n",
        "# Overall accuracy\n",
        "ACC = (TP+TN)/(TP+FP+FN+TN)\n",
        "\n",
        "print(TP)\n",
        "print(TN)\n",
        "print(FP)\n",
        "print(FN)\n",
        "print('--------')\n",
        "print(ACC)\n",
        "print(TPR)\n",
        "print(TNR)"
      ],
      "metadata": {
        "colab": {
          "base_uri": "https://localhost:8080/",
          "height": 591
        },
        "id": "y0RigLm76Rpg",
        "outputId": "9eb41639-c309-47b6-e235-2d98c257be11"
      },
      "execution_count": 14,
      "outputs": [
        {
          "output_type": "display_data",
          "data": {
            "text/plain": [
              "<Figure size 432x288 with 2 Axes>"
            ],
            "image/png": "[encoded data removed]"
          },
          "metadata": {
            "needs_background": "light"
          }
        },
        {
          "output_type": "stream",
          "name": "stdout",
          "text": [
            "--------\n",
            "[ 6  8 20 37]\n",
            "[73 72 56 46]\n",
            "[5 3 7 2]\n",
            "[4 5 5 3]\n",
            "--------\n",
            "[0.89772727 0.90909091 0.86363636 0.94318182]\n",
            "[0.6        0.61538462 0.8        0.925     ]\n",
            "[0.93589744 0.96       0.88888889 0.95833333]\n",
            "--------\n",
            "71\n",
            "247\n",
            "17\n",
            "17\n",
            "--------\n",
            "0.9034090909090909\n",
            "0.8068181818181818\n",
            "0.9356060606060606\n"
          ]
        }
      ]
    },
    {
      "cell_type": "code",
      "source": [
        "import matplotlib.pyplot as plt\n",
        "from sklearn.datasets import make_classification\n",
        "from numpy import mean\n",
        "from sklearn.metrics import confusion_matrix, ConfusionMatrixDisplay, accuracy_score, classification_report, recall_score\n",
        "\n",
        "test = model.predict(np_image_list_test)\n",
        "\n",
        "predicted_labels = []\n",
        "correct_labels = []\n",
        "for i in range (len(test)):\n",
        "  predicted_labels.append(np.argmax(test[i]))\n",
        "\n",
        "for i in range (len(image_labels_test)):\n",
        "  correct_labels.append(np.argmax(image_labels_test[i]))\n",
        "\n",
        "\n",
        "confusion_matrix = confusion_matrix(correct_labels, predicted_labels)\n",
        "disp = ConfusionMatrixDisplay(confusion_matrix=confusion_matrix)  \n",
        "disp.plot()\n",
        "plt.show()\n",
        "print('--------')\n",
        "FP = confusion_matrix.sum(axis=0) - np.diag(confusion_matrix)  \n",
        "FN = confusion_matrix.sum(axis=1) - np.diag(confusion_matrix)\n",
        "TP = np.diag(confusion_matrix)\n",
        "TN = confusion_matrix.sum() - (FP + FN + TP)\n",
        "\n",
        "# Sensitivity, hit rate, recall, or true positive rate\n",
        "TPR = TP/(TP+FN)\n",
        "# Specificity or true negative rate\n",
        "TNR = TN/(TN+FP) \n",
        "# Overall accuracy\n",
        "ACC = (TP+TN)/(TP+FP+FN+TN)\n",
        "\n",
        "print(TP)\n",
        "print(TN)\n",
        "print(FP)\n",
        "print(FN)\n",
        "print('--------')\n",
        "print(ACC)\n",
        "print(TPR)\n",
        "print(TNR)\n",
        "print('--------')\n",
        "\n",
        "TP = sum(TP)\n",
        "TN = sum(TN)\n",
        "FP = sum(FP)\n",
        "FN = sum(FN)\n",
        "\n",
        "# Sensitivity, hit rate, recall, or true positive rate\n",
        "TPR = TP/(TP+FN)\n",
        "# Specificity or true negative rate\n",
        "TNR = TN/(TN+FP) \n",
        "# Overall accuracy\n",
        "ACC = (TP+TN)/(TP+FP+FN+TN)\n",
        "\n",
        "print(TP)\n",
        "print(TN)\n",
        "print(FP)\n",
        "print(FN)\n",
        "print('--------')\n",
        "print(ACC)\n",
        "print(TPR)\n",
        "print(TNR)"
      ],
      "metadata": {
        "colab": {
          "base_uri": "https://localhost:8080/",
          "height": 595
        },
        "id": "xufCN02P5v4A",
        "outputId": "4f1fe285-5307-440e-8c1d-9cc05566109d"
      },
      "execution_count": 15,
      "outputs": [
        {
          "output_type": "display_data",
          "data": {
            "text/plain": [
              "<Figure size 432x288 with 2 Axes>"
            ],
            "image/png": "[encoded data removed]"
          },
          "metadata": {
            "needs_background": "light"
          }
        },
        {
          "output_type": "stream",
          "name": "stdout",
          "text": [
            "--------\n",
            "[ 1  8 12 35]\n",
            "[90 84 61 41]\n",
            "[ 8 10 17 19]\n",
            "[11  8 20 15]\n",
            "--------\n",
            "[0.82727273 0.83636364 0.66363636 0.69090909]\n",
            "[0.08333333 0.5        0.375      0.7       ]\n",
            "[0.91836735 0.89361702 0.78205128 0.68333333]\n",
            "--------\n",
            "56\n",
            "276\n",
            "54\n",
            "54\n",
            "--------\n",
            "0.7545454545454545\n",
            "0.509090909090909\n",
            "0.8363636363636363\n"
          ]
        }
      ]
    },
    {
      "cell_type": "markdown",
      "metadata": {
        "id": "bTgk1-sdzmgy"
      },
      "source": [
        "**Validating** Network"
      ]
    },
    {
      "cell_type": "code",
      "source": [
        "\n"
      ],
      "metadata": {
        "id": "d_NBE4KkWuhu"
      },
      "execution_count": 15,
      "outputs": []
    },
    {
      "cell_type": "markdown",
      "source": [
        "**Testing** Network"
      ],
      "metadata": {
        "id": "saJYjKqX9tRL"
      }
    },
    {
      "cell_type": "code",
      "source": [
        "\n"
      ],
      "metadata": {
        "id": "A7DR52hmTc75"
      },
      "execution_count": 15,
      "outputs": []
    },
    {
      "cell_type": "code",
      "source": [
        "#test_img = cv2.imread('/content/Datasets/fold5/Test/apel_sehat/apel_sehat (1).jpg')\n",
        "\n",
        "#plt.imshow(test_img)\n",
        "#test_img = test_img / 255\n",
        "#test_img = np.expand_dims(test_img, axis=0)\n",
        "#pr=model.predict(test_img)\n",
        "\n",
        "#print(pr)\n",
        "#output = label_binarizer.inverse_transform(pr)\n",
        "#print(output)"
      ],
      "metadata": {
        "id": "zkMI6CwJArvo"
      },
      "execution_count": 16,
      "outputs": []
    },
    {
      "cell_type": "code",
      "source": [
        "# save the model to disk\n",
        "#print(\"[INFO] Saving model...\")\n",
        "#pickle.dump(model,open('cnn_model.pkl', 'wb'))\n",
        "#model.save('/content/fold1.h5')"
      ],
      "metadata": {
        "id": "Wr_b8qBuCAIS"
      },
      "execution_count": 17,
      "outputs": []
    }
  ]
}