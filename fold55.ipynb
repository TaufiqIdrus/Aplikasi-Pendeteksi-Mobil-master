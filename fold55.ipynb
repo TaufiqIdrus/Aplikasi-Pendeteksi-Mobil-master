{
  "nbformat": 4,
  "nbformat_minor": 0,
  "metadata": {
    "accelerator": "GPU",
    "colab": {
      "name": "Kodingan Skripsi 3",
      "provenance": [],
      "collapsed_sections": [],
      "include_colab_link": true
    },
    "kernelspec": {
      "display_name": "Python 3",
      "language": "python",
      "name": "python3"
    },
    "language_info": {
      "codemirror_mode": {
        "name": "ipython",
        "version": 3
      },
      "file_extension": ".py",
      "mimetype": "text/x-python",
      "name": "python",
      "nbconvert_exporter": "python",
      "pygments_lexer": "ipython3",
      "version": "3.6.6"
    }
  },
  "cells": [
    {
      "cell_type": "markdown",
      "metadata": {
        "id": "view-in-github",
        "colab_type": "text"
      },
      "source": [
        "<a href=\"https://colab.research.google.com/github/TaufiqIdrus/Aplikasi-Pendeteksi-Mobil-master/blob/master/fold55.ipynb\" target=\"_parent\"><img src=\"https://colab.research.google.com/assets/colab-badge.svg\" alt=\"Open In Colab\"/></a>"
      ]
    },
    {
      "cell_type": "markdown",
      "metadata": {
        "id": "yJT_kQA2lITS"
      },
      "source": [
        "**Identifikasi Penyakit Pada Tanaman Apel menggunakan Convolutional Neural Network**"
      ]
    },
    {
      "cell_type": "code",
      "metadata": {
        "id": "xXeOaYTUzmgT"
      },
      "source": [
        "import numpy as np\n",
        "import pickle\n",
        "import os\n",
        "import cv2\n",
        "import tensorflow as tf\n",
        "import keras\n",
        "from os import listdir\n",
        "from sklearn.preprocessing import LabelBinarizer\n",
        "from sklearn.model_selection import KFold\n",
        "from keras.models import Sequential\n",
        "from keras.layers.normalization import batch_normalization\n",
        "from keras.layers.convolutional import Conv2D\n",
        "from keras.layers.convolutional import MaxPooling2D\n",
        "from keras.layers.core import Activation, Flatten, Dropout, Dense\n",
        "from keras import backend as K\n",
        "from tensorflow.keras.optimizers import Adam\n",
        "from keras.preprocessing import image\n",
        "from sklearn.preprocessing import MultiLabelBinarizer\n",
        "from sklearn.model_selection import train_test_split\n",
        "import matplotlib.pyplot as plt\n",
        "from sklearn.datasets import make_classification\n",
        "from numpy import mean\n",
        "from sklearn.metrics import confusion_matrix, ConfusionMatrixDisplay, accuracy_score, classification_report, recall_score\n"
      ],
      "execution_count": 5,
      "outputs": []
    },
    {
      "cell_type": "markdown",
      "metadata": {
        "id": "fp8C0d28lQok"
      },
      "source": [
        "Importing and Preparing Dataset"
      ]
    },
    {
      "cell_type": "code",
      "metadata": {
        "id": "_0xehllADlUs",
        "colab": {
          "base_uri": "https://localhost:8080/"
        },
        "outputId": "c5511a49-c3aa-4e14-e163-2aa9790dda22"
      },
      "source": [
        "!pip install pyunpack\n",
        "!pip install patool\n",
        "from pyunpack import Archive\n",
        "Archive('/content/fold5.rar').extractall('/content/Datasets/')\n",
        "iterasi = 5\n",
        "width=256\n",
        "height=256\n",
        "default_image_size = tuple((height, width))\n",
        "directory_root_train = '/content/Datasets/fold5/Train'\n",
        "directory_root_validation = '/content/Datasets/fold5/Validation'\n",
        "directory_root_test = '/content/Datasets/fold5/Test'\n",
        "image_size = 0\n",
        "depth=3"
      ],
      "execution_count": 6,
      "outputs": [
        {
          "output_type": "stream",
          "name": "stdout",
          "text": [
            "Collecting pyunpack\n",
            "  Downloading pyunpack-0.2.2-py2.py3-none-any.whl (3.8 kB)\n",
            "Collecting entrypoint2\n",
            "  Downloading entrypoint2-1.0-py3-none-any.whl (9.8 kB)\n",
            "Collecting easyprocess\n",
            "  Downloading EasyProcess-1.1-py3-none-any.whl (8.7 kB)\n",
            "Installing collected packages: entrypoint2, easyprocess, pyunpack\n",
            "Successfully installed easyprocess-1.1 entrypoint2-1.0 pyunpack-0.2.2\n",
            "Collecting patool\n",
            "  Downloading patool-1.12-py2.py3-none-any.whl (77 kB)\n",
            "\u001b[K     |████████████████████████████████| 77 kB 4.2 MB/s \n",
            "\u001b[?25hInstalling collected packages: patool\n",
            "Successfully installed patool-1.12\n"
          ]
        }
      ]
    },
    {
      "cell_type": "code",
      "metadata": {
        "id": "KbAwJJTpzmge"
      },
      "source": [
        "def convert_image_to_array(image_dir):\n",
        "    try:\n",
        "        image = cv2.imread(image_dir)\n",
        "        if image is not None :\n",
        "            image = cv2.resize(image, default_image_size)   \n",
        "            return keras.preprocessing.image.img_to_array(image)\n",
        "        else :\n",
        "            return np.array([])\n",
        "    except Exception as e:\n",
        "        print(f\"Error : {e}\")\n",
        "        return None"
      ],
      "execution_count": 7,
      "outputs": []
    },
    {
      "cell_type": "markdown",
      "source": [
        "Converting **Training** Data to Array"
      ],
      "metadata": {
        "id": "bgXxUMO2cI_D"
      }
    },
    {
      "cell_type": "code",
      "metadata": {
        "id": "Erz6IjKXzmgg",
        "colab": {
          "base_uri": "https://localhost:8080/"
        },
        "outputId": "7a2cf02e-02e2-4df9-ba6e-4ccf80d9a80f"
      },
      "source": [
        "image_list_train, label_list_train = [], []\n",
        "try:\n",
        "    print(\"[INFO] Loading images ...\")\n",
        "    root_dir = listdir(directory_root_train)\n",
        "\n",
        "    for plant_disease_folder in root_dir:\n",
        "        print(f\"[INFO] Processing {plant_disease_folder} ...\")\n",
        "        plant_disease_image_list = listdir(f\"{directory_root_train}/{plant_disease_folder}/\")\n",
        "      \n",
        "        for image in plant_disease_image_list:\n",
        "            image_directory = f\"{directory_root_train}/{plant_disease_folder}/{image}\"\n",
        "\n",
        "            if image_directory.endswith(\".jpg\") == True or image_directory.endswith(\".JPG\") == True:\n",
        "                image_list_train.append(convert_image_to_array(image_directory))\n",
        "                label_list_train.append(plant_disease_folder)\n",
        "    print(\"[INFO] Image loading completed\")\n",
        "\n",
        "except Exception as e:\n",
        "    print(f\"Error : {e}\")\n",
        "\n",
        "#image labeling\n",
        "image_size = len(image_list_train)\n",
        "label_binarizer = LabelBinarizer()\n",
        "image_labels_train = label_binarizer.fit_transform(label_list_train)\n",
        "pickle.dump(label_binarizer,open('label_transform_train.pkl', 'wb'))\n",
        "n_classes = len(label_binarizer.classes_)\n",
        "np_image_list_train = np.array(image_list_train, dtype=np.float16) / 255.0"
      ],
      "execution_count": 8,
      "outputs": [
        {
          "output_type": "stream",
          "name": "stdout",
          "text": [
            "[INFO] Loading images ...\n",
            "[INFO] Processing Healthy ...\n",
            "[INFO] Processing Diseased ...\n",
            "[INFO] Image loading completed\n"
          ]
        }
      ]
    },
    {
      "cell_type": "markdown",
      "source": [
        "Converting **Validation** Data to Array"
      ],
      "metadata": {
        "id": "7eEMGiqRd_E4"
      }
    },
    {
      "cell_type": "code",
      "source": [
        "image_list_validation, label_list_validation = [], []\n",
        "try:\n",
        "    print(\"[INFO] Loading images ...\")\n",
        "    root_dir = listdir(directory_root_validation)\n",
        "\n",
        "    for plant_disease_folder in root_dir:\n",
        "        print(f\"[INFO] Processing {plant_disease_folder} ...\")\n",
        "        plant_disease_image_list = listdir(f\"{directory_root_validation}/{plant_disease_folder}/\")\n",
        "      \n",
        "        for image in plant_disease_image_list:\n",
        "            image_directory = f\"{directory_root_validation}/{plant_disease_folder}/{image}\"\n",
        "\n",
        "            if image_directory.endswith(\".jpg\") == True or image_directory.endswith(\".JPG\") == True:\n",
        "                image_list_validation.append(convert_image_to_array(image_directory))\n",
        "                label_list_validation.append(plant_disease_folder)\n",
        "    print(\"[INFO] Image loading completed\")\n",
        "\n",
        "except Exception as e:\n",
        "    print(f\"Error : {e}\")\n",
        "\n",
        "#image labeling\n",
        "image_size = len(image_list_validation)\n",
        "label_binarizer = LabelBinarizer()\n",
        "image_labels_validation = label_binarizer.fit_transform(label_list_validation)\n",
        "pickle.dump(label_binarizer,open('label_transform_validation.pkl', 'wb'))\n",
        "n_classes = len(label_binarizer.classes_)\n",
        "np_image_list_validation = np.array(image_list_validation, dtype=np.float16) / 255.0"
      ],
      "metadata": {
        "id": "wfHDdR0ZeEuU",
        "colab": {
          "base_uri": "https://localhost:8080/"
        },
        "outputId": "f883f389-638c-4699-e697-763ed91acdae"
      },
      "execution_count": 9,
      "outputs": [
        {
          "output_type": "stream",
          "name": "stdout",
          "text": [
            "[INFO] Loading images ...\n",
            "[INFO] Processing Healthy ...\n",
            "[INFO] Processing Diseased ...\n",
            "[INFO] Image loading completed\n"
          ]
        }
      ]
    },
    {
      "cell_type": "markdown",
      "source": [
        "Converting **Testing** Data to Array"
      ],
      "metadata": {
        "id": "brwWyZVncTdg"
      }
    },
    {
      "cell_type": "code",
      "metadata": {
        "id": "uNPby5UMcaWY",
        "colab": {
          "base_uri": "https://localhost:8080/"
        },
        "outputId": "98ae771d-9a4e-49bb-da27-4c6ac0744379"
      },
      "source": [
        "image_list_test, label_list_test = [], []\n",
        "try:\n",
        "    print(\"[INFO] Loading images ...\")\n",
        "    root_dir = listdir(directory_root_test)\n",
        "\n",
        "    for plant_disease_folder in root_dir:\n",
        "        print(f\"[INFO] Processing {plant_disease_folder} ...\")\n",
        "        plant_disease_image_list = listdir(f\"{directory_root_test}/{plant_disease_folder}/\")\n",
        "      \n",
        "        for image in plant_disease_image_list:\n",
        "            image_directory = f\"{directory_root_test}/{plant_disease_folder}/{image}\"\n",
        "\n",
        "            if image_directory.endswith(\".jpg\") == True or image_directory.endswith(\".JPG\") == True:\n",
        "                image_list_test.append(convert_image_to_array(image_directory))\n",
        "                label_list_test.append(plant_disease_folder)\n",
        "    print(\"[INFO] Image loading completed\")\n",
        "\n",
        "except Exception as e:\n",
        "    print(f\"Error : {e}\")\n",
        "\n",
        "#image labeling\n",
        "image_size = len(image_list_test)\n",
        "label_binarizer = LabelBinarizer()\n",
        "image_labels_test = label_binarizer.fit_transform(label_list_test)\n",
        "pickle.dump(label_binarizer,open('label_transform_test.pkl', 'wb'))\n",
        "n_classes = len(label_binarizer.classes_)\n",
        "np_image_list_test = np.array(image_list_test, dtype=np.float16) / 255.0"
      ],
      "execution_count": 10,
      "outputs": [
        {
          "output_type": "stream",
          "name": "stdout",
          "text": [
            "[INFO] Loading images ...\n",
            "[INFO] Processing Healthy ...\n",
            "[INFO] Processing Diseased ...\n",
            "[INFO] Image loading completed\n"
          ]
        }
      ]
    },
    {
      "cell_type": "markdown",
      "metadata": {
        "id": "jYBTFN0CnAi7"
      },
      "source": [
        "Data Augmenting Initialization"
      ]
    },
    {
      "cell_type": "code",
      "metadata": {
        "id": "TLMxMK2Tzmgr"
      },
      "source": [
        "aug = keras.preprocessing.image.ImageDataGenerator(\n",
        "    rotation_range=25, \n",
        "    width_shift_range=0.1,\n",
        "    height_shift_range=0.1, \n",
        "    shear_range=0.2, \n",
        "    zoom_range=0.2,\n",
        "    horizontal_flip=True, \n",
        "    fill_mode=\"nearest\")"
      ],
      "execution_count": 11,
      "outputs": []
    },
    {
      "cell_type": "markdown",
      "metadata": {
        "id": "H1BfRyYNnGv_"
      },
      "source": [
        "Creating CNN Model"
      ]
    },
    {
      "cell_type": "code",
      "metadata": {
        "id": "WmLX4wm8zmgs"
      },
      "source": [
        "model = keras.models.Sequential()\n",
        "inputShape = (height, width, depth)\n",
        "\n",
        "model.add(Conv2D(32, (3, 3), padding=\"same\",input_shape=inputShape))\n",
        "model.add(Activation(\"relu\"))\n",
        "\n",
        "model.add(MaxPooling2D(pool_size=(3, 3)))\n",
        "\n",
        "model.add(Conv2D(64, (3, 3), padding=\"same\"))\n",
        "model.add(Activation(\"relu\"))\n",
        "\n",
        "model.add(MaxPooling2D(pool_size=(3, 3)))\n",
        "\n",
        "model.add(Flatten())\n",
        "\n",
        "model.add(Dense(1024))\n",
        "model.add(Activation(\"relu\"))\n",
        "\n",
        "model.add(Dense(1))\n",
        "model.add(Activation(\"sigmoid\"))"
      ],
      "execution_count": 12,
      "outputs": []
    },
    {
      "cell_type": "code",
      "source": [
        "#model.summary()"
      ],
      "metadata": {
        "id": "RQIgaph8hW06"
      },
      "execution_count": 13,
      "outputs": []
    },
    {
      "cell_type": "code",
      "source": [
        "#from PIL import Image\n",
        "#from keras.utils.vis_utils import plot_model\n",
        "#plot_model(model, to_file='cnn_model.png', show_shapes=True, show_layer_names=True)\n",
        "#display(Image.open('cnn_model.png'))"
      ],
      "metadata": {
        "id": "T05gPuu1GudW"
      },
      "execution_count": 14,
      "outputs": []
    },
    {
      "cell_type": "markdown",
      "metadata": {
        "id": "Zfsu3lVfnXFG"
      },
      "source": [
        "**Training** Network"
      ]
    },
    {
      "cell_type": "code",
      "metadata": {
        "id": "rvwKwe3Lzmgv",
        "colab": {
          "base_uri": "https://localhost:8080/"
        },
        "outputId": "4be46191-b2d4-4f11-aeca-f0b096bea9ed"
      },
      "source": [
        "EPOCHS = 100\n",
        "INIT_LR = 1e-3\n",
        "BS = 32\n",
        "\n",
        "with tf.device('/GPU:0'):\n",
        "  opt = Adam(learning_rate=INIT_LR, decay=INIT_LR / EPOCHS)\n",
        "  model.compile(loss=\"binary_crossentropy\", optimizer=opt,metrics=[\"Accuracy\", \"FalseNegatives\", \"FalsePositives\", \"TrueNegatives\", \"TruePositives\"])\n",
        "  \n",
        "  history = model.fit(\n",
        "      aug.flow(np_image_list_train, image_labels_train, batch_size=BS),\n",
        "      validation_data=(np_image_list_validation, image_labels_validation),\n",
        "      steps_per_epoch=len(np_image_list_train) // BS,\n",
        "      epochs=EPOCHS, \n",
        "      verbose=1,\n",
        "      )\n"
      ],
      "execution_count": 15,
      "outputs": [
        {
          "output_type": "stream",
          "name": "stdout",
          "text": [
            "Epoch 1/100\n",
            "9/9 [==============================] - 21s 488ms/step - loss: 1.7215 - Accuracy: 0.5590 - false_negatives: 80.0000 - false_positives: 47.0000 - true_negatives: 105.0000 - true_positives: 56.0000 - val_loss: 0.6567 - val_Accuracy: 0.5417 - val_false_negatives: 32.0000 - val_false_positives: 1.0000 - val_true_negatives: 39.0000 - val_true_positives: 0.0000e+00\n",
            "Epoch 2/100\n",
            "9/9 [==============================] - 4s 427ms/step - loss: 0.6523 - Accuracy: 0.6146 - false_negatives: 65.0000 - false_positives: 46.0000 - true_negatives: 106.0000 - true_positives: 71.0000 - val_loss: 0.6649 - val_Accuracy: 0.6111 - val_false_negatives: 2.0000 - val_false_positives: 26.0000 - val_true_negatives: 14.0000 - val_true_positives: 30.0000\n",
            "Epoch 3/100\n",
            "9/9 [==============================] - 4s 430ms/step - loss: 0.5867 - Accuracy: 0.6875 - false_negatives: 51.0000 - false_positives: 39.0000 - true_negatives: 113.0000 - true_positives: 85.0000 - val_loss: 0.7353 - val_Accuracy: 0.6111 - val_false_negatives: 0.0000e+00 - val_false_positives: 28.0000 - val_true_negatives: 12.0000 - val_true_positives: 32.0000\n",
            "Epoch 4/100\n",
            "9/9 [==============================] - 4s 429ms/step - loss: 0.5092 - Accuracy: 0.7396 - false_negatives: 26.0000 - false_positives: 49.0000 - true_negatives: 103.0000 - true_positives: 110.0000 - val_loss: 0.7386 - val_Accuracy: 0.6250 - val_false_negatives: 8.0000 - val_false_positives: 19.0000 - val_true_negatives: 21.0000 - val_true_positives: 24.0000\n",
            "Epoch 5/100\n",
            "9/9 [==============================] - 4s 428ms/step - loss: 0.4707 - Accuracy: 0.7743 - false_negatives: 28.0000 - false_positives: 37.0000 - true_negatives: 115.0000 - true_positives: 108.0000 - val_loss: 0.6660 - val_Accuracy: 0.6389 - val_false_negatives: 11.0000 - val_false_positives: 15.0000 - val_true_negatives: 25.0000 - val_true_positives: 21.0000\n",
            "Epoch 6/100\n",
            "9/9 [==============================] - 4s 428ms/step - loss: 0.4403 - Accuracy: 0.7951 - false_negatives: 31.0000 - false_positives: 28.0000 - true_negatives: 124.0000 - true_positives: 105.0000 - val_loss: 0.8690 - val_Accuracy: 0.6528 - val_false_negatives: 3.0000 - val_false_positives: 22.0000 - val_true_negatives: 18.0000 - val_true_positives: 29.0000\n",
            "Epoch 7/100\n",
            "9/9 [==============================] - 4s 427ms/step - loss: 0.4521 - Accuracy: 0.8264 - false_negatives: 18.0000 - false_positives: 32.0000 - true_negatives: 120.0000 - true_positives: 118.0000 - val_loss: 0.7003 - val_Accuracy: 0.6528 - val_false_negatives: 9.0000 - val_false_positives: 16.0000 - val_true_negatives: 24.0000 - val_true_positives: 23.0000\n",
            "Epoch 8/100\n",
            "9/9 [==============================] - 4s 430ms/step - loss: 0.3953 - Accuracy: 0.8299 - false_negatives: 19.0000 - false_positives: 30.0000 - true_negatives: 122.0000 - true_positives: 117.0000 - val_loss: 0.7333 - val_Accuracy: 0.7361 - val_false_negatives: 2.0000 - val_false_positives: 17.0000 - val_true_negatives: 23.0000 - val_true_positives: 30.0000\n",
            "Epoch 9/100\n",
            "9/9 [==============================] - 4s 435ms/step - loss: 0.4179 - Accuracy: 0.7951 - false_negatives: 22.0000 - false_positives: 37.0000 - true_negatives: 115.0000 - true_positives: 114.0000 - val_loss: 0.5330 - val_Accuracy: 0.6944 - val_false_negatives: 12.0000 - val_false_positives: 10.0000 - val_true_negatives: 30.0000 - val_true_positives: 20.0000\n",
            "Epoch 10/100\n",
            "9/9 [==============================] - 4s 429ms/step - loss: 0.4531 - Accuracy: 0.7604 - false_negatives: 30.0000 - false_positives: 39.0000 - true_negatives: 113.0000 - true_positives: 106.0000 - val_loss: 0.4910 - val_Accuracy: 0.7083 - val_false_negatives: 10.0000 - val_false_positives: 11.0000 - val_true_negatives: 29.0000 - val_true_positives: 22.0000\n",
            "Epoch 11/100\n",
            "9/9 [==============================] - 4s 430ms/step - loss: 0.3865 - Accuracy: 0.8438 - false_negatives: 18.0000 - false_positives: 27.0000 - true_negatives: 125.0000 - true_positives: 118.0000 - val_loss: 0.7713 - val_Accuracy: 0.7222 - val_false_negatives: 1.0000 - val_false_positives: 19.0000 - val_true_negatives: 21.0000 - val_true_positives: 31.0000\n",
            "Epoch 12/100\n",
            "9/9 [==============================] - 4s 430ms/step - loss: 0.4105 - Accuracy: 0.8090 - false_negatives: 17.0000 - false_positives: 38.0000 - true_negatives: 114.0000 - true_positives: 119.0000 - val_loss: 0.7114 - val_Accuracy: 0.7361 - val_false_negatives: 1.0000 - val_false_positives: 18.0000 - val_true_negatives: 22.0000 - val_true_positives: 31.0000\n",
            "Epoch 13/100\n",
            "9/9 [==============================] - 4s 433ms/step - loss: 0.4237 - Accuracy: 0.7951 - false_negatives: 29.0000 - false_positives: 30.0000 - true_negatives: 122.0000 - true_positives: 107.0000 - val_loss: 0.8752 - val_Accuracy: 0.6528 - val_false_negatives: 1.0000 - val_false_positives: 24.0000 - val_true_negatives: 16.0000 - val_true_positives: 31.0000\n",
            "Epoch 14/100\n",
            "9/9 [==============================] - 4s 432ms/step - loss: 0.4230 - Accuracy: 0.7917 - false_negatives: 33.0000 - false_positives: 27.0000 - true_negatives: 125.0000 - true_positives: 103.0000 - val_loss: 0.7499 - val_Accuracy: 0.6944 - val_false_negatives: 1.0000 - val_false_positives: 21.0000 - val_true_negatives: 19.0000 - val_true_positives: 31.0000\n",
            "Epoch 15/100\n",
            "9/9 [==============================] - 4s 427ms/step - loss: 0.4051 - Accuracy: 0.8194 - false_negatives: 14.0000 - false_positives: 38.0000 - true_negatives: 114.0000 - true_positives: 122.0000 - val_loss: 0.4845 - val_Accuracy: 0.7500 - val_false_negatives: 7.0000 - val_false_positives: 11.0000 - val_true_negatives: 29.0000 - val_true_positives: 25.0000\n",
            "Epoch 16/100\n",
            "9/9 [==============================] - 4s 473ms/step - loss: 0.3554 - Accuracy: 0.8368 - false_negatives: 13.0000 - false_positives: 34.0000 - true_negatives: 118.0000 - true_positives: 123.0000 - val_loss: 0.5313 - val_Accuracy: 0.7639 - val_false_negatives: 3.0000 - val_false_positives: 14.0000 - val_true_negatives: 26.0000 - val_true_positives: 29.0000\n",
            "Epoch 17/100\n",
            "9/9 [==============================] - 4s 425ms/step - loss: 0.3807 - Accuracy: 0.8368 - false_negatives: 15.0000 - false_positives: 32.0000 - true_negatives: 120.0000 - true_positives: 121.0000 - val_loss: 0.5042 - val_Accuracy: 0.7639 - val_false_negatives: 9.0000 - val_false_positives: 8.0000 - val_true_negatives: 32.0000 - val_true_positives: 23.0000\n",
            "Epoch 18/100\n",
            "9/9 [==============================] - 4s 439ms/step - loss: 0.3718 - Accuracy: 0.8090 - false_negatives: 18.0000 - false_positives: 37.0000 - true_negatives: 115.0000 - true_positives: 118.0000 - val_loss: 0.5385 - val_Accuracy: 0.7500 - val_false_negatives: 3.0000 - val_false_positives: 15.0000 - val_true_negatives: 25.0000 - val_true_positives: 29.0000\n",
            "Epoch 19/100\n",
            "9/9 [==============================] - 4s 426ms/step - loss: 0.3778 - Accuracy: 0.8229 - false_negatives: 28.0000 - false_positives: 23.0000 - true_negatives: 129.0000 - true_positives: 108.0000 - val_loss: 0.7721 - val_Accuracy: 0.7361 - val_false_negatives: 1.0000 - val_false_positives: 18.0000 - val_true_negatives: 22.0000 - val_true_positives: 31.0000\n",
            "Epoch 20/100\n",
            "9/9 [==============================] - 4s 425ms/step - loss: 0.4432 - Accuracy: 0.8021 - false_negatives: 19.0000 - false_positives: 38.0000 - true_negatives: 114.0000 - true_positives: 117.0000 - val_loss: 0.6472 - val_Accuracy: 0.7500 - val_false_negatives: 1.0000 - val_false_positives: 17.0000 - val_true_negatives: 23.0000 - val_true_positives: 31.0000\n",
            "Epoch 21/100\n",
            "9/9 [==============================] - 4s 501ms/step - loss: 0.3635 - Accuracy: 0.8542 - false_negatives: 12.0000 - false_positives: 30.0000 - true_negatives: 122.0000 - true_positives: 124.0000 - val_loss: 0.6051 - val_Accuracy: 0.7222 - val_false_negatives: 7.0000 - val_false_positives: 13.0000 - val_true_negatives: 27.0000 - val_true_positives: 25.0000\n",
            "Epoch 22/100\n",
            "9/9 [==============================] - 4s 429ms/step - loss: 0.3543 - Accuracy: 0.8507 - false_negatives: 22.0000 - false_positives: 21.0000 - true_negatives: 131.0000 - true_positives: 114.0000 - val_loss: 0.9046 - val_Accuracy: 0.7083 - val_false_negatives: 1.0000 - val_false_positives: 20.0000 - val_true_negatives: 20.0000 - val_true_positives: 31.0000\n",
            "Epoch 23/100\n",
            "9/9 [==============================] - 4s 433ms/step - loss: 0.3648 - Accuracy: 0.8299 - false_negatives: 19.0000 - false_positives: 30.0000 - true_negatives: 122.0000 - true_positives: 117.0000 - val_loss: 1.1775 - val_Accuracy: 0.6944 - val_false_negatives: 1.0000 - val_false_positives: 21.0000 - val_true_negatives: 19.0000 - val_true_positives: 31.0000\n",
            "Epoch 24/100\n",
            "9/9 [==============================] - 4s 428ms/step - loss: 0.4013 - Accuracy: 0.8090 - false_negatives: 28.0000 - false_positives: 27.0000 - true_negatives: 125.0000 - true_positives: 108.0000 - val_loss: 0.7526 - val_Accuracy: 0.7222 - val_false_negatives: 1.0000 - val_false_positives: 19.0000 - val_true_negatives: 21.0000 - val_true_positives: 31.0000\n",
            "Epoch 25/100\n",
            "9/9 [==============================] - 4s 428ms/step - loss: 0.3698 - Accuracy: 0.8229 - false_negatives: 18.0000 - false_positives: 33.0000 - true_negatives: 119.0000 - true_positives: 118.0000 - val_loss: 0.6276 - val_Accuracy: 0.7778 - val_false_negatives: 2.0000 - val_false_positives: 14.0000 - val_true_negatives: 26.0000 - val_true_positives: 30.0000\n",
            "Epoch 26/100\n",
            "9/9 [==============================] - 4s 426ms/step - loss: 0.3693 - Accuracy: 0.8438 - false_negatives: 10.0000 - false_positives: 35.0000 - true_negatives: 117.0000 - true_positives: 126.0000 - val_loss: 0.4697 - val_Accuracy: 0.7917 - val_false_negatives: 6.0000 - val_false_positives: 9.0000 - val_true_negatives: 31.0000 - val_true_positives: 26.0000\n",
            "Epoch 27/100\n",
            "9/9 [==============================] - 4s 429ms/step - loss: 0.3630 - Accuracy: 0.8160 - false_negatives: 16.0000 - false_positives: 37.0000 - true_negatives: 115.0000 - true_positives: 120.0000 - val_loss: 0.6898 - val_Accuracy: 0.7500 - val_false_negatives: 2.0000 - val_false_positives: 16.0000 - val_true_negatives: 24.0000 - val_true_positives: 30.0000\n",
            "Epoch 28/100\n",
            "9/9 [==============================] - 4s 429ms/step - loss: 0.3268 - Accuracy: 0.8750 - false_negatives: 18.0000 - false_positives: 18.0000 - true_negatives: 134.0000 - true_positives: 118.0000 - val_loss: 0.6534 - val_Accuracy: 0.7500 - val_false_negatives: 4.0000 - val_false_positives: 14.0000 - val_true_negatives: 26.0000 - val_true_positives: 28.0000\n",
            "Epoch 29/100\n",
            "9/9 [==============================] - 4s 428ms/step - loss: 0.3651 - Accuracy: 0.8403 - false_negatives: 19.0000 - false_positives: 27.0000 - true_negatives: 125.0000 - true_positives: 117.0000 - val_loss: 0.6114 - val_Accuracy: 0.7222 - val_false_negatives: 6.0000 - val_false_positives: 14.0000 - val_true_negatives: 26.0000 - val_true_positives: 26.0000\n",
            "Epoch 30/100\n",
            "9/9 [==============================] - 4s 429ms/step - loss: 0.3360 - Accuracy: 0.8542 - false_negatives: 16.0000 - false_positives: 26.0000 - true_negatives: 126.0000 - true_positives: 120.0000 - val_loss: 0.6764 - val_Accuracy: 0.7500 - val_false_negatives: 2.0000 - val_false_positives: 16.0000 - val_true_negatives: 24.0000 - val_true_positives: 30.0000\n",
            "Epoch 31/100\n",
            "9/9 [==============================] - 4s 426ms/step - loss: 0.3327 - Accuracy: 0.8542 - false_negatives: 14.0000 - false_positives: 28.0000 - true_negatives: 124.0000 - true_positives: 122.0000 - val_loss: 0.8913 - val_Accuracy: 0.7222 - val_false_negatives: 3.0000 - val_false_positives: 17.0000 - val_true_negatives: 23.0000 - val_true_positives: 29.0000\n",
            "Epoch 32/100\n",
            "9/9 [==============================] - 4s 434ms/step - loss: 0.3064 - Accuracy: 0.8542 - false_negatives: 17.0000 - false_positives: 25.0000 - true_negatives: 127.0000 - true_positives: 119.0000 - val_loss: 0.8396 - val_Accuracy: 0.7222 - val_false_negatives: 6.0000 - val_false_positives: 14.0000 - val_true_negatives: 26.0000 - val_true_positives: 26.0000\n",
            "Epoch 33/100\n",
            "9/9 [==============================] - 4s 426ms/step - loss: 0.2915 - Accuracy: 0.8785 - false_negatives: 16.0000 - false_positives: 19.0000 - true_negatives: 133.0000 - true_positives: 120.0000 - val_loss: 0.8317 - val_Accuracy: 0.7778 - val_false_negatives: 1.0000 - val_false_positives: 15.0000 - val_true_negatives: 25.0000 - val_true_positives: 31.0000\n",
            "Epoch 34/100\n",
            "9/9 [==============================] - 4s 425ms/step - loss: 0.3011 - Accuracy: 0.8681 - false_negatives: 17.0000 - false_positives: 21.0000 - true_negatives: 131.0000 - true_positives: 119.0000 - val_loss: 0.8418 - val_Accuracy: 0.7361 - val_false_negatives: 3.0000 - val_false_positives: 16.0000 - val_true_negatives: 24.0000 - val_true_positives: 29.0000\n",
            "Epoch 35/100\n",
            "9/9 [==============================] - 4s 430ms/step - loss: 0.3656 - Accuracy: 0.8229 - false_negatives: 25.0000 - false_positives: 26.0000 - true_negatives: 126.0000 - true_positives: 111.0000 - val_loss: 0.7757 - val_Accuracy: 0.7639 - val_false_negatives: 2.0000 - val_false_positives: 15.0000 - val_true_negatives: 25.0000 - val_true_positives: 30.0000\n",
            "Epoch 36/100\n",
            "9/9 [==============================] - 4s 428ms/step - loss: 0.3632 - Accuracy: 0.8403 - false_negatives: 10.0000 - false_positives: 36.0000 - true_negatives: 116.0000 - true_positives: 126.0000 - val_loss: 0.5231 - val_Accuracy: 0.7222 - val_false_negatives: 10.0000 - val_false_positives: 10.0000 - val_true_negatives: 30.0000 - val_true_positives: 22.0000\n",
            "Epoch 37/100\n",
            "9/9 [==============================] - 4s 428ms/step - loss: 0.3385 - Accuracy: 0.8507 - false_negatives: 20.0000 - false_positives: 23.0000 - true_negatives: 129.0000 - true_positives: 116.0000 - val_loss: 0.7960 - val_Accuracy: 0.7500 - val_false_negatives: 1.0000 - val_false_positives: 17.0000 - val_true_negatives: 23.0000 - val_true_positives: 31.0000\n",
            "Epoch 38/100\n",
            "9/9 [==============================] - 4s 430ms/step - loss: 0.3462 - Accuracy: 0.8368 - false_negatives: 16.0000 - false_positives: 31.0000 - true_negatives: 121.0000 - true_positives: 120.0000 - val_loss: 1.1537 - val_Accuracy: 0.6944 - val_false_negatives: 1.0000 - val_false_positives: 21.0000 - val_true_negatives: 19.0000 - val_true_positives: 31.0000\n",
            "Epoch 39/100\n",
            "9/9 [==============================] - 4s 428ms/step - loss: 0.3099 - Accuracy: 0.8611 - false_negatives: 16.0000 - false_positives: 24.0000 - true_negatives: 128.0000 - true_positives: 120.0000 - val_loss: 0.8060 - val_Accuracy: 0.7083 - val_false_negatives: 5.0000 - val_false_positives: 16.0000 - val_true_negatives: 24.0000 - val_true_positives: 27.0000\n",
            "Epoch 40/100\n",
            "9/9 [==============================] - 4s 433ms/step - loss: 0.3482 - Accuracy: 0.8403 - false_negatives: 18.0000 - false_positives: 28.0000 - true_negatives: 124.0000 - true_positives: 118.0000 - val_loss: 0.8539 - val_Accuracy: 0.7500 - val_false_negatives: 1.0000 - val_false_positives: 17.0000 - val_true_negatives: 23.0000 - val_true_positives: 31.0000\n",
            "Epoch 41/100\n",
            "9/9 [==============================] - 4s 432ms/step - loss: 0.3176 - Accuracy: 0.8576 - false_negatives: 19.0000 - false_positives: 22.0000 - true_negatives: 130.0000 - true_positives: 117.0000 - val_loss: 0.9877 - val_Accuracy: 0.7083 - val_false_negatives: 1.0000 - val_false_positives: 20.0000 - val_true_negatives: 20.0000 - val_true_positives: 31.0000\n",
            "Epoch 42/100\n",
            "9/9 [==============================] - 4s 429ms/step - loss: 0.3189 - Accuracy: 0.8507 - false_negatives: 17.0000 - false_positives: 26.0000 - true_negatives: 126.0000 - true_positives: 119.0000 - val_loss: 0.6611 - val_Accuracy: 0.7222 - val_false_negatives: 6.0000 - val_false_positives: 14.0000 - val_true_negatives: 26.0000 - val_true_positives: 26.0000\n",
            "Epoch 43/100\n",
            "9/9 [==============================] - 4s 442ms/step - loss: 0.2955 - Accuracy: 0.8681 - false_negatives: 13.0000 - false_positives: 25.0000 - true_negatives: 127.0000 - true_positives: 123.0000 - val_loss: 0.7297 - val_Accuracy: 0.7361 - val_false_negatives: 4.0000 - val_false_positives: 15.0000 - val_true_negatives: 25.0000 - val_true_positives: 28.0000\n",
            "Epoch 44/100\n",
            "9/9 [==============================] - 4s 430ms/step - loss: 0.2875 - Accuracy: 0.8785 - false_negatives: 15.0000 - false_positives: 20.0000 - true_negatives: 132.0000 - true_positives: 121.0000 - val_loss: 0.9579 - val_Accuracy: 0.7222 - val_false_negatives: 1.0000 - val_false_positives: 19.0000 - val_true_negatives: 21.0000 - val_true_positives: 31.0000\n",
            "Epoch 45/100\n",
            "9/9 [==============================] - 4s 428ms/step - loss: 0.3082 - Accuracy: 0.8611 - false_negatives: 17.0000 - false_positives: 23.0000 - true_negatives: 129.0000 - true_positives: 119.0000 - val_loss: 0.9605 - val_Accuracy: 0.7222 - val_false_negatives: 2.0000 - val_false_positives: 18.0000 - val_true_negatives: 22.0000 - val_true_positives: 30.0000\n",
            "Epoch 46/100\n",
            "9/9 [==============================] - 4s 427ms/step - loss: 0.2887 - Accuracy: 0.8681 - false_negatives: 16.0000 - false_positives: 22.0000 - true_negatives: 130.0000 - true_positives: 120.0000 - val_loss: 0.9960 - val_Accuracy: 0.7500 - val_false_negatives: 1.0000 - val_false_positives: 17.0000 - val_true_negatives: 23.0000 - val_true_positives: 31.0000\n",
            "Epoch 47/100\n",
            "9/9 [==============================] - 4s 431ms/step - loss: 0.2689 - Accuracy: 0.8924 - false_negatives: 10.0000 - false_positives: 21.0000 - true_negatives: 131.0000 - true_positives: 126.0000 - val_loss: 0.6689 - val_Accuracy: 0.7222 - val_false_negatives: 7.0000 - val_false_positives: 13.0000 - val_true_negatives: 27.0000 - val_true_positives: 25.0000\n",
            "Epoch 48/100\n",
            "9/9 [==============================] - 4s 428ms/step - loss: 0.3080 - Accuracy: 0.8715 - false_negatives: 16.0000 - false_positives: 21.0000 - true_negatives: 131.0000 - true_positives: 120.0000 - val_loss: 0.8170 - val_Accuracy: 0.7222 - val_false_negatives: 4.0000 - val_false_positives: 16.0000 - val_true_negatives: 24.0000 - val_true_positives: 28.0000\n",
            "Epoch 49/100\n",
            "9/9 [==============================] - 4s 427ms/step - loss: 0.2879 - Accuracy: 0.8646 - false_negatives: 18.0000 - false_positives: 21.0000 - true_negatives: 131.0000 - true_positives: 118.0000 - val_loss: 0.9022 - val_Accuracy: 0.7639 - val_false_negatives: 1.0000 - val_false_positives: 16.0000 - val_true_negatives: 24.0000 - val_true_positives: 31.0000\n",
            "Epoch 50/100\n",
            "9/9 [==============================] - 4s 422ms/step - loss: 0.2731 - Accuracy: 0.8681 - false_negatives: 16.0000 - false_positives: 22.0000 - true_negatives: 130.0000 - true_positives: 120.0000 - val_loss: 0.8178 - val_Accuracy: 0.7361 - val_false_negatives: 3.0000 - val_false_positives: 16.0000 - val_true_negatives: 24.0000 - val_true_positives: 29.0000\n",
            "Epoch 51/100\n",
            "9/9 [==============================] - 4s 423ms/step - loss: 0.3386 - Accuracy: 0.8646 - false_negatives: 14.0000 - false_positives: 25.0000 - true_negatives: 127.0000 - true_positives: 122.0000 - val_loss: 0.6032 - val_Accuracy: 0.6667 - val_false_negatives: 15.0000 - val_false_positives: 9.0000 - val_true_negatives: 31.0000 - val_true_positives: 17.0000\n",
            "Epoch 52/100\n",
            "9/9 [==============================] - 4s 431ms/step - loss: 0.3097 - Accuracy: 0.8576 - false_negatives: 17.0000 - false_positives: 24.0000 - true_negatives: 128.0000 - true_positives: 119.0000 - val_loss: 0.7558 - val_Accuracy: 0.7639 - val_false_negatives: 1.0000 - val_false_positives: 16.0000 - val_true_negatives: 24.0000 - val_true_positives: 31.0000\n",
            "Epoch 53/100\n",
            "9/9 [==============================] - 4s 430ms/step - loss: 0.2808 - Accuracy: 0.8681 - false_negatives: 15.0000 - false_positives: 23.0000 - true_negatives: 129.0000 - true_positives: 121.0000 - val_loss: 0.8166 - val_Accuracy: 0.7500 - val_false_negatives: 1.0000 - val_false_positives: 17.0000 - val_true_negatives: 23.0000 - val_true_positives: 31.0000\n",
            "Epoch 54/100\n",
            "9/9 [==============================] - 4s 429ms/step - loss: 0.2799 - Accuracy: 0.8819 - false_negatives: 11.0000 - false_positives: 23.0000 - true_negatives: 129.0000 - true_positives: 125.0000 - val_loss: 0.6853 - val_Accuracy: 0.7083 - val_false_negatives: 8.0000 - val_false_positives: 13.0000 - val_true_negatives: 27.0000 - val_true_positives: 24.0000\n",
            "Epoch 55/100\n",
            "9/9 [==============================] - 4s 438ms/step - loss: 0.2734 - Accuracy: 0.8785 - false_negatives: 12.0000 - false_positives: 23.0000 - true_negatives: 129.0000 - true_positives: 124.0000 - val_loss: 0.7529 - val_Accuracy: 0.7083 - val_false_negatives: 6.0000 - val_false_positives: 15.0000 - val_true_negatives: 25.0000 - val_true_positives: 26.0000\n",
            "Epoch 56/100\n",
            "9/9 [==============================] - 4s 428ms/step - loss: 0.2972 - Accuracy: 0.8681 - false_negatives: 25.0000 - false_positives: 13.0000 - true_negatives: 139.0000 - true_positives: 111.0000 - val_loss: 0.9483 - val_Accuracy: 0.7639 - val_false_negatives: 1.0000 - val_false_positives: 16.0000 - val_true_negatives: 24.0000 - val_true_positives: 31.0000\n",
            "Epoch 57/100\n",
            "9/9 [==============================] - 4s 427ms/step - loss: 0.2597 - Accuracy: 0.8958 - false_negatives: 10.0000 - false_positives: 20.0000 - true_negatives: 132.0000 - true_positives: 126.0000 - val_loss: 0.8169 - val_Accuracy: 0.7500 - val_false_negatives: 2.0000 - val_false_positives: 16.0000 - val_true_negatives: 24.0000 - val_true_positives: 30.0000\n",
            "Epoch 58/100\n",
            "9/9 [==============================] - 4s 428ms/step - loss: 0.2696 - Accuracy: 0.8854 - false_negatives: 13.0000 - false_positives: 20.0000 - true_negatives: 132.0000 - true_positives: 123.0000 - val_loss: 0.7378 - val_Accuracy: 0.7083 - val_false_negatives: 7.0000 - val_false_positives: 14.0000 - val_true_negatives: 26.0000 - val_true_positives: 25.0000\n",
            "Epoch 59/100\n",
            "9/9 [==============================] - 4s 427ms/step - loss: 0.2548 - Accuracy: 0.9028 - false_negatives: 9.0000 - false_positives: 19.0000 - true_negatives: 133.0000 - true_positives: 127.0000 - val_loss: 0.8714 - val_Accuracy: 0.7500 - val_false_negatives: 3.0000 - val_false_positives: 15.0000 - val_true_negatives: 25.0000 - val_true_positives: 29.0000\n",
            "Epoch 60/100\n",
            "9/9 [==============================] - 4s 431ms/step - loss: 0.3036 - Accuracy: 0.8750 - false_negatives: 12.0000 - false_positives: 24.0000 - true_negatives: 128.0000 - true_positives: 124.0000 - val_loss: 0.8007 - val_Accuracy: 0.6528 - val_false_negatives: 11.0000 - val_false_positives: 14.0000 - val_true_negatives: 26.0000 - val_true_positives: 21.0000\n",
            "Epoch 61/100\n",
            "9/9 [==============================] - 4s 427ms/step - loss: 0.2721 - Accuracy: 0.8924 - false_negatives: 13.0000 - false_positives: 18.0000 - true_negatives: 134.0000 - true_positives: 123.0000 - val_loss: 0.8688 - val_Accuracy: 0.7500 - val_false_negatives: 3.0000 - val_false_positives: 15.0000 - val_true_negatives: 25.0000 - val_true_positives: 29.0000\n",
            "Epoch 62/100\n",
            "9/9 [==============================] - 4s 430ms/step - loss: 0.2469 - Accuracy: 0.8889 - false_negatives: 12.0000 - false_positives: 20.0000 - true_negatives: 132.0000 - true_positives: 124.0000 - val_loss: 0.8522 - val_Accuracy: 0.6806 - val_false_negatives: 5.0000 - val_false_positives: 18.0000 - val_true_negatives: 22.0000 - val_true_positives: 27.0000\n",
            "Epoch 63/100\n",
            "9/9 [==============================] - 4s 436ms/step - loss: 0.2822 - Accuracy: 0.8854 - false_negatives: 13.0000 - false_positives: 20.0000 - true_negatives: 132.0000 - true_positives: 123.0000 - val_loss: 0.9635 - val_Accuracy: 0.7361 - val_false_negatives: 2.0000 - val_false_positives: 17.0000 - val_true_negatives: 23.0000 - val_true_positives: 30.0000\n",
            "Epoch 64/100\n",
            "9/9 [==============================] - 4s 437ms/step - loss: 0.2507 - Accuracy: 0.8715 - false_negatives: 18.0000 - false_positives: 19.0000 - true_negatives: 133.0000 - true_positives: 118.0000 - val_loss: 1.2185 - val_Accuracy: 0.7083 - val_false_negatives: 2.0000 - val_false_positives: 19.0000 - val_true_negatives: 21.0000 - val_true_positives: 30.0000\n",
            "Epoch 65/100\n",
            "9/9 [==============================] - 4s 427ms/step - loss: 0.3084 - Accuracy: 0.8819 - false_negatives: 14.0000 - false_positives: 20.0000 - true_negatives: 132.0000 - true_positives: 122.0000 - val_loss: 0.6664 - val_Accuracy: 0.6667 - val_false_negatives: 10.0000 - val_false_positives: 14.0000 - val_true_negatives: 26.0000 - val_true_positives: 22.0000\n",
            "Epoch 66/100\n",
            "9/9 [==============================] - 4s 422ms/step - loss: 0.3147 - Accuracy: 0.8576 - false_negatives: 14.0000 - false_positives: 27.0000 - true_negatives: 125.0000 - true_positives: 122.0000 - val_loss: 0.7022 - val_Accuracy: 0.6667 - val_false_negatives: 9.0000 - val_false_positives: 15.0000 - val_true_negatives: 25.0000 - val_true_positives: 23.0000\n",
            "Epoch 67/100\n",
            "9/9 [==============================] - 4s 423ms/step - loss: 0.2863 - Accuracy: 0.8646 - false_negatives: 15.0000 - false_positives: 24.0000 - true_negatives: 128.0000 - true_positives: 121.0000 - val_loss: 0.7510 - val_Accuracy: 0.7222 - val_false_negatives: 7.0000 - val_false_positives: 13.0000 - val_true_negatives: 27.0000 - val_true_positives: 25.0000\n",
            "Epoch 68/100\n",
            "9/9 [==============================] - 4s 427ms/step - loss: 0.2588 - Accuracy: 0.8819 - false_negatives: 10.0000 - false_positives: 24.0000 - true_negatives: 128.0000 - true_positives: 126.0000 - val_loss: 0.8605 - val_Accuracy: 0.6944 - val_false_negatives: 7.0000 - val_false_positives: 15.0000 - val_true_negatives: 25.0000 - val_true_positives: 25.0000\n",
            "Epoch 69/100\n",
            "9/9 [==============================] - 4s 430ms/step - loss: 0.2882 - Accuracy: 0.8819 - false_negatives: 19.0000 - false_positives: 15.0000 - true_negatives: 137.0000 - true_positives: 117.0000 - val_loss: 0.8438 - val_Accuracy: 0.7639 - val_false_negatives: 1.0000 - val_false_positives: 16.0000 - val_true_negatives: 24.0000 - val_true_positives: 31.0000\n",
            "Epoch 70/100\n",
            "9/9 [==============================] - 4s 426ms/step - loss: 0.2603 - Accuracy: 0.8924 - false_negatives: 16.0000 - false_positives: 15.0000 - true_negatives: 137.0000 - true_positives: 120.0000 - val_loss: 1.0319 - val_Accuracy: 0.7500 - val_false_negatives: 1.0000 - val_false_positives: 17.0000 - val_true_negatives: 23.0000 - val_true_positives: 31.0000\n",
            "Epoch 71/100\n",
            "9/9 [==============================] - 4s 432ms/step - loss: 0.2913 - Accuracy: 0.8750 - false_negatives: 16.0000 - false_positives: 20.0000 - true_negatives: 132.0000 - true_positives: 120.0000 - val_loss: 0.8516 - val_Accuracy: 0.6806 - val_false_negatives: 8.0000 - val_false_positives: 15.0000 - val_true_negatives: 25.0000 - val_true_positives: 24.0000\n",
            "Epoch 72/100\n",
            "9/9 [==============================] - 4s 425ms/step - loss: 0.2602 - Accuracy: 0.8958 - false_negatives: 10.0000 - false_positives: 20.0000 - true_negatives: 132.0000 - true_positives: 126.0000 - val_loss: 0.7986 - val_Accuracy: 0.6944 - val_false_negatives: 8.0000 - val_false_positives: 14.0000 - val_true_negatives: 26.0000 - val_true_positives: 24.0000\n",
            "Epoch 73/100\n",
            "9/9 [==============================] - 4s 427ms/step - loss: 0.2486 - Accuracy: 0.8958 - false_negatives: 11.0000 - false_positives: 19.0000 - true_negatives: 133.0000 - true_positives: 125.0000 - val_loss: 1.0733 - val_Accuracy: 0.7083 - val_false_negatives: 4.0000 - val_false_positives: 17.0000 - val_true_negatives: 23.0000 - val_true_positives: 28.0000\n",
            "Epoch 74/100\n",
            "9/9 [==============================] - 4s 431ms/step - loss: 0.2529 - Accuracy: 0.8924 - false_negatives: 14.0000 - false_positives: 17.0000 - true_negatives: 135.0000 - true_positives: 122.0000 - val_loss: 0.9618 - val_Accuracy: 0.7639 - val_false_negatives: 2.0000 - val_false_positives: 15.0000 - val_true_negatives: 25.0000 - val_true_positives: 30.0000\n",
            "Epoch 75/100\n",
            "9/9 [==============================] - 4s 436ms/step - loss: 0.2337 - Accuracy: 0.8958 - false_negatives: 13.0000 - false_positives: 17.0000 - true_negatives: 135.0000 - true_positives: 123.0000 - val_loss: 0.9909 - val_Accuracy: 0.6806 - val_false_negatives: 8.0000 - val_false_positives: 15.0000 - val_true_negatives: 25.0000 - val_true_positives: 24.0000\n",
            "Epoch 76/100\n",
            "9/9 [==============================] - 4s 431ms/step - loss: 0.2705 - Accuracy: 0.8681 - false_negatives: 13.0000 - false_positives: 25.0000 - true_negatives: 127.0000 - true_positives: 123.0000 - val_loss: 0.7798 - val_Accuracy: 0.6667 - val_false_negatives: 11.0000 - val_false_positives: 13.0000 - val_true_negatives: 27.0000 - val_true_positives: 21.0000\n",
            "Epoch 77/100\n",
            "9/9 [==============================] - 4s 428ms/step - loss: 0.2455 - Accuracy: 0.9097 - false_negatives: 14.0000 - false_positives: 12.0000 - true_negatives: 140.0000 - true_positives: 122.0000 - val_loss: 0.7896 - val_Accuracy: 0.7222 - val_false_negatives: 6.0000 - val_false_positives: 14.0000 - val_true_negatives: 26.0000 - val_true_positives: 26.0000\n",
            "Epoch 78/100\n",
            "9/9 [==============================] - 4s 428ms/step - loss: 0.2502 - Accuracy: 0.8924 - false_negatives: 9.0000 - false_positives: 22.0000 - true_negatives: 130.0000 - true_positives: 127.0000 - val_loss: 0.8625 - val_Accuracy: 0.7222 - val_false_negatives: 6.0000 - val_false_positives: 14.0000 - val_true_negatives: 26.0000 - val_true_positives: 26.0000\n",
            "Epoch 79/100\n",
            "9/9 [==============================] - 4s 426ms/step - loss: 0.2209 - Accuracy: 0.9062 - false_negatives: 13.0000 - false_positives: 14.0000 - true_negatives: 138.0000 - true_positives: 123.0000 - val_loss: 0.9861 - val_Accuracy: 0.7500 - val_false_negatives: 3.0000 - val_false_positives: 15.0000 - val_true_negatives: 25.0000 - val_true_positives: 29.0000\n",
            "Epoch 80/100\n",
            "9/9 [==============================] - 4s 426ms/step - loss: 0.2703 - Accuracy: 0.8889 - false_negatives: 17.0000 - false_positives: 15.0000 - true_negatives: 137.0000 - true_positives: 119.0000 - val_loss: 1.3729 - val_Accuracy: 0.6528 - val_false_negatives: 2.0000 - val_false_positives: 23.0000 - val_true_negatives: 17.0000 - val_true_positives: 30.0000\n",
            "Epoch 81/100\n",
            "9/9 [==============================] - 4s 425ms/step - loss: 0.3240 - Accuracy: 0.8507 - false_negatives: 22.0000 - false_positives: 21.0000 - true_negatives: 131.0000 - true_positives: 114.0000 - val_loss: 0.9790 - val_Accuracy: 0.6806 - val_false_negatives: 5.0000 - val_false_positives: 18.0000 - val_true_negatives: 22.0000 - val_true_positives: 27.0000\n",
            "Epoch 82/100\n",
            "9/9 [==============================] - 4s 425ms/step - loss: 0.3028 - Accuracy: 0.8785 - false_negatives: 13.0000 - false_positives: 22.0000 - true_negatives: 130.0000 - true_positives: 123.0000 - val_loss: 0.8533 - val_Accuracy: 0.6667 - val_false_negatives: 12.0000 - val_false_positives: 12.0000 - val_true_negatives: 28.0000 - val_true_positives: 20.0000\n",
            "Epoch 83/100\n",
            "9/9 [==============================] - 4s 425ms/step - loss: 0.2963 - Accuracy: 0.8924 - false_negatives: 11.0000 - false_positives: 20.0000 - true_negatives: 132.0000 - true_positives: 125.0000 - val_loss: 0.8552 - val_Accuracy: 0.6111 - val_false_negatives: 13.0000 - val_false_positives: 15.0000 - val_true_negatives: 25.0000 - val_true_positives: 19.0000\n",
            "Epoch 84/100\n",
            "9/9 [==============================] - 4s 425ms/step - loss: 0.2499 - Accuracy: 0.8854 - false_negatives: 15.0000 - false_positives: 18.0000 - true_negatives: 134.0000 - true_positives: 121.0000 - val_loss: 0.8108 - val_Accuracy: 0.6944 - val_false_negatives: 9.0000 - val_false_positives: 13.0000 - val_true_negatives: 27.0000 - val_true_positives: 23.0000\n",
            "Epoch 85/100\n",
            "9/9 [==============================] - 4s 420ms/step - loss: 0.2350 - Accuracy: 0.8958 - false_negatives: 14.0000 - false_positives: 16.0000 - true_negatives: 136.0000 - true_positives: 122.0000 - val_loss: 0.9370 - val_Accuracy: 0.6944 - val_false_negatives: 8.0000 - val_false_positives: 14.0000 - val_true_negatives: 26.0000 - val_true_positives: 24.0000\n",
            "Epoch 86/100\n",
            "9/9 [==============================] - 4s 427ms/step - loss: 0.2525 - Accuracy: 0.9062 - false_negatives: 9.0000 - false_positives: 18.0000 - true_negatives: 134.0000 - true_positives: 127.0000 - val_loss: 0.9390 - val_Accuracy: 0.7222 - val_false_negatives: 6.0000 - val_false_positives: 14.0000 - val_true_negatives: 26.0000 - val_true_positives: 26.0000\n",
            "Epoch 87/100\n",
            "9/9 [==============================] - 4s 421ms/step - loss: 0.2317 - Accuracy: 0.8993 - false_negatives: 15.0000 - false_positives: 14.0000 - true_negatives: 138.0000 - true_positives: 121.0000 - val_loss: 0.7364 - val_Accuracy: 0.6667 - val_false_negatives: 10.0000 - val_false_positives: 14.0000 - val_true_negatives: 26.0000 - val_true_positives: 22.0000\n",
            "Epoch 88/100\n",
            "9/9 [==============================] - 4s 422ms/step - loss: 0.2201 - Accuracy: 0.8958 - false_negatives: 12.0000 - false_positives: 18.0000 - true_negatives: 134.0000 - true_positives: 124.0000 - val_loss: 0.9501 - val_Accuracy: 0.7361 - val_false_negatives: 4.0000 - val_false_positives: 15.0000 - val_true_negatives: 25.0000 - val_true_positives: 28.0000\n",
            "Epoch 89/100\n",
            "9/9 [==============================] - 4s 428ms/step - loss: 0.2533 - Accuracy: 0.8924 - false_negatives: 12.0000 - false_positives: 19.0000 - true_negatives: 133.0000 - true_positives: 124.0000 - val_loss: 1.1269 - val_Accuracy: 0.7083 - val_false_negatives: 5.0000 - val_false_positives: 16.0000 - val_true_negatives: 24.0000 - val_true_positives: 27.0000\n",
            "Epoch 90/100\n",
            "9/9 [==============================] - 4s 428ms/step - loss: 0.2250 - Accuracy: 0.9097 - false_negatives: 9.0000 - false_positives: 17.0000 - true_negatives: 135.0000 - true_positives: 127.0000 - val_loss: 1.1628 - val_Accuracy: 0.7083 - val_false_negatives: 5.0000 - val_false_positives: 16.0000 - val_true_negatives: 24.0000 - val_true_positives: 27.0000\n",
            "Epoch 91/100\n",
            "9/9 [==============================] - 4s 428ms/step - loss: 0.2203 - Accuracy: 0.9201 - false_negatives: 8.0000 - false_positives: 15.0000 - true_negatives: 137.0000 - true_positives: 128.0000 - val_loss: 0.9824 - val_Accuracy: 0.7222 - val_false_negatives: 5.0000 - val_false_positives: 15.0000 - val_true_negatives: 25.0000 - val_true_positives: 27.0000\n",
            "Epoch 92/100\n",
            "9/9 [==============================] - 4s 430ms/step - loss: 0.2254 - Accuracy: 0.9062 - false_negatives: 13.0000 - false_positives: 14.0000 - true_negatives: 138.0000 - true_positives: 123.0000 - val_loss: 1.2091 - val_Accuracy: 0.7361 - val_false_negatives: 2.0000 - val_false_positives: 17.0000 - val_true_negatives: 23.0000 - val_true_positives: 30.0000\n",
            "Epoch 93/100\n",
            "9/9 [==============================] - 4s 436ms/step - loss: 0.2210 - Accuracy: 0.8958 - false_negatives: 10.0000 - false_positives: 20.0000 - true_negatives: 132.0000 - true_positives: 126.0000 - val_loss: 0.7601 - val_Accuracy: 0.6667 - val_false_negatives: 12.0000 - val_false_positives: 12.0000 - val_true_negatives: 28.0000 - val_true_positives: 20.0000\n",
            "Epoch 94/100\n",
            "9/9 [==============================] - 4s 433ms/step - loss: 0.2133 - Accuracy: 0.9028 - false_negatives: 11.0000 - false_positives: 17.0000 - true_negatives: 135.0000 - true_positives: 125.0000 - val_loss: 0.8401 - val_Accuracy: 0.6667 - val_false_negatives: 9.0000 - val_false_positives: 15.0000 - val_true_negatives: 25.0000 - val_true_positives: 23.0000\n",
            "Epoch 95/100\n",
            "9/9 [==============================] - 4s 426ms/step - loss: 0.2064 - Accuracy: 0.9097 - false_negatives: 9.0000 - false_positives: 17.0000 - true_negatives: 135.0000 - true_positives: 127.0000 - val_loss: 0.9457 - val_Accuracy: 0.6944 - val_false_negatives: 7.0000 - val_false_positives: 15.0000 - val_true_negatives: 25.0000 - val_true_positives: 25.0000\n",
            "Epoch 96/100\n",
            "9/9 [==============================] - 4s 426ms/step - loss: 0.2256 - Accuracy: 0.9028 - false_negatives: 8.0000 - false_positives: 20.0000 - true_negatives: 132.0000 - true_positives: 128.0000 - val_loss: 0.9577 - val_Accuracy: 0.6806 - val_false_negatives: 13.0000 - val_false_positives: 10.0000 - val_true_negatives: 30.0000 - val_true_positives: 19.0000\n",
            "Epoch 97/100\n",
            "9/9 [==============================] - 4s 428ms/step - loss: 0.2808 - Accuracy: 0.8854 - false_negatives: 16.0000 - false_positives: 17.0000 - true_negatives: 135.0000 - true_positives: 120.0000 - val_loss: 0.8640 - val_Accuracy: 0.7222 - val_false_negatives: 4.0000 - val_false_positives: 16.0000 - val_true_negatives: 24.0000 - val_true_positives: 28.0000\n",
            "Epoch 98/100\n",
            "9/9 [==============================] - 4s 425ms/step - loss: 0.2090 - Accuracy: 0.9167 - false_negatives: 8.0000 - false_positives: 16.0000 - true_negatives: 136.0000 - true_positives: 128.0000 - val_loss: 0.9529 - val_Accuracy: 0.7639 - val_false_negatives: 3.0000 - val_false_positives: 14.0000 - val_true_negatives: 26.0000 - val_true_positives: 29.0000\n",
            "Epoch 99/100\n",
            "9/9 [==============================] - 4s 424ms/step - loss: 0.2374 - Accuracy: 0.8889 - false_negatives: 15.0000 - false_positives: 17.0000 - true_negatives: 135.0000 - true_positives: 121.0000 - val_loss: 0.7399 - val_Accuracy: 0.6944 - val_false_negatives: 10.0000 - val_false_positives: 12.0000 - val_true_negatives: 28.0000 - val_true_positives: 22.0000\n",
            "Epoch 100/100\n",
            "9/9 [==============================] - 4s 424ms/step - loss: 0.1990 - Accuracy: 0.9097 - false_negatives: 8.0000 - false_positives: 18.0000 - true_negatives: 134.0000 - true_positives: 128.0000 - val_loss: 0.6938 - val_Accuracy: 0.7361 - val_false_negatives: 9.0000 - val_false_positives: 10.0000 - val_true_negatives: 30.0000 - val_true_positives: 23.0000\n"
          ]
        }
      ]
    },
    {
      "cell_type": "markdown",
      "source": [
        "Plotting Traning Result"
      ],
      "metadata": {
        "id": "XZSFG8fXqz7c"
      }
    },
    {
      "cell_type": "code",
      "source": [
        "  #plotting\n",
        "  epochs = range(1, len(history.history['loss'])+1)\n",
        "  plt.title(f\"Grafik loss training iterasi {iterasi}\")\n",
        "  plt.plot(epochs, history.history['loss'], 'r', label='Training Loss')\n",
        "  plt.plot(epochs, history.history['val_loss'], 'b', label='Validation Loss')    \n",
        "  plt.xlabel(\"Epoch\")\n",
        "  plt.ylabel(\"Loss\")\n",
        "  plt.legend()\n",
        "  plt.show()\n"
      ],
      "metadata": {
        "id": "3dXbDrJpY1NK",
        "colab": {
          "base_uri": "https://localhost:8080/",
          "height": 295
        },
        "outputId": "6814b421-f5b9-4d6b-984e-0330835bf0e9"
      },
      "execution_count": 16,
      "outputs": [
        {
          "output_type": "display_data",
          "data": {
            "text/plain": [
              "<Figure size 432x288 with 1 Axes>"
            ],
            "image/png": "[encoded data removed]"
          },
          "metadata": {
            "needs_background": "light"
          }
        }
      ]
    },
    {
      "cell_type": "code",
      "source": [
        "  #plotting\n",
        "  epochs = range(1, len(history.history['loss'])+1)\n",
        "  plt.title(f\"Grafik Akurasi training iterasi {iterasi}\")\n",
        "  plt.plot(epochs, history.history['Accuracy'], 'r', label='Training Accuracy')\n",
        "  plt.plot(epochs, history.history['val_Accuracy'], 'b', label='Validation Accuracy')    \n",
        "  plt.xlabel(\"Epoch\")\n",
        "  plt.ylabel(\"Accuracy\")\n",
        "  plt.legend()\n",
        "  plt.show()"
      ],
      "metadata": {
        "id": "j3xigprPwlSX",
        "colab": {
          "base_uri": "https://localhost:8080/",
          "height": 295
        },
        "outputId": "649b92d0-af9e-484b-94c3-acf6ddf2be76"
      },
      "execution_count": 17,
      "outputs": [
        {
          "output_type": "display_data",
          "data": {
            "text/plain": [
              "<Figure size 432x288 with 1 Axes>"
            ],
            "image/png": "[encoded data removed]"
          },
          "metadata": {
            "needs_background": "light"
          }
        }
      ]
    },
    {
      "cell_type": "markdown",
      "metadata": {
        "id": "bTgk1-sdzmgy"
      },
      "source": [
        "**Validating** Network"
      ]
    },
    {
      "cell_type": "code",
      "source": [
        "import matplotlib.pyplot as plt\n",
        "from sklearn.datasets import make_classification\n",
        "from numpy import mean\n",
        "from sklearn.metrics import confusion_matrix, ConfusionMatrixDisplay, accuracy_score, classification_report, recall_score\n",
        "\n",
        "#Creating list for correct label\n",
        "correct_labels = []\n",
        "for i in range(len(image_labels_validation)):\n",
        "  pr = image_labels_validation[i]\n",
        "  output = label_binarizer.inverse_transform(pr)\n",
        "  correct_labels.append(output[0])\n",
        "\n",
        "#Creating list for predicted label\n",
        "predicted_labels = []\n",
        "for i in range(len(np_image_list_validation)):\n",
        "  test_img = np_image_list_validation[i]\n",
        "  test_img = np.expand_dims(test_img, axis=0)\n",
        "  pr=model.predict(test_img)\n",
        "  output = label_binarizer.inverse_transform(pr)\n",
        "  predicted_labels.append(output[0])\n",
        "\n",
        "#creating confusion matrix by comparing both list\n",
        "confusion_matrix = confusion_matrix(correct_labels, predicted_labels)\n",
        "disp = ConfusionMatrixDisplay(confusion_matrix=confusion_matrix)  \n",
        "disp.plot()\n",
        "plt.show()\n",
        "print('--------')\n",
        "\n",
        "FP = confusion_matrix.sum(axis=0) - np.diag(confusion_matrix)  \n",
        "FN = confusion_matrix.sum(axis=1) - np.diag(confusion_matrix)\n",
        "TP = np.diag(confusion_matrix)\n",
        "TN = confusion_matrix.sum() - (FP + FN + TP)\n",
        "\n",
        "# Sensitivity, hit rate, recall, or true positive rate\n",
        "sensitivity = TP/(TP+FN)\n",
        "# Specificity or true negative rate\n",
        "specificity = TN/(TN+FP) \n",
        "# Overall accuracy\n",
        "accuracy = (TP+TN)/(TP+FP+FN+TN)\n",
        "\n",
        "print(TP)\n",
        "print(TN)\n",
        "print(FP)\n",
        "print(FN)\n",
        "print('--------')\n",
        "print(accuracy)\n",
        "print(sensitivity)\n",
        "print(specificity)\n",
        "print('--------')\n",
        "\n"
      ],
      "metadata": {
        "colab": {
          "base_uri": "https://localhost:8080/",
          "height": 457
        },
        "id": "d_NBE4KkWuhu",
        "outputId": "0c68bf6e-2b84-4b68-c5fe-2cd55f7e397f"
      },
      "execution_count": 18,
      "outputs": [
        {
          "output_type": "display_data",
          "data": {
            "text/plain": [
              "<Figure size 432x288 with 2 Axes>"
            ],
            "image/png": "[encoded data removed]"
          },
          "metadata": {
            "needs_background": "light"
          }
        },
        {
          "output_type": "stream",
          "name": "stdout",
          "text": [
            "--------\n",
            "[30 23]\n",
            "[23 30]\n",
            "[ 9 10]\n",
            "[10  9]\n",
            "--------\n",
            "[0.73611111 0.73611111]\n",
            "[0.75    0.71875]\n",
            "[0.71875 0.75   ]\n",
            "--------\n"
          ]
        }
      ]
    },
    {
      "cell_type": "code",
      "source": [
        "import matplotlib.pyplot as plt\n",
        "from sklearn.datasets import make_classification\n",
        "from numpy import mean\n",
        "from sklearn.metrics import confusion_matrix, ConfusionMatrixDisplay, accuracy_score, classification_report, recall_score\n",
        "\n",
        "TP = 32\n",
        "TN = 40\n",
        "FP = 16\n",
        "FN = 2\n",
        "\n",
        "# Sensitivity, hit rate, recall, or true positive rate\n",
        "sensitivity = TP/(TP+FN)\n",
        "# Specificity or true negative rate\n",
        "specificity = TN/(TN+FP) \n",
        "# Overall accuracy\n",
        "accuracy = (TP+TN)/(TP+FP+FN+TN)\n",
        "\n",
        "print(accuracy)\n",
        "print(sensitivity)\n",
        "print(specificity)\n",
        "print('--------')"
      ],
      "metadata": {
        "colab": {
          "base_uri": "https://localhost:8080/"
        },
        "id": "xUv-wKhthZxh",
        "outputId": "bc77e98a-354b-48f0-b1f3-680f81524bfc"
      },
      "execution_count": 19,
      "outputs": [
        {
          "output_type": "stream",
          "name": "stdout",
          "text": [
            "0.8\n",
            "0.9411764705882353\n",
            "0.7142857142857143\n",
            "--------\n"
          ]
        }
      ]
    },
    {
      "cell_type": "markdown",
      "source": [
        "**Testing** Network"
      ],
      "metadata": {
        "id": "saJYjKqX9tRL"
      }
    },
    {
      "cell_type": "code",
      "source": [
        "import matplotlib.pyplot as plt\n",
        "from sklearn.datasets import make_classification\n",
        "from numpy import mean\n",
        "from sklearn.metrics import confusion_matrix, ConfusionMatrixDisplay, accuracy_score, classification_report, recall_score\n",
        "\n",
        "#Creating list for correct label\n",
        "correct_labels = []\n",
        "for i in range(len(image_labels_test)):\n",
        "  pr = image_labels_test[i]\n",
        "  output = label_binarizer.inverse_transform(pr)\n",
        "  correct_labels.append(output[0])\n",
        "\n",
        "#Creating list for predicted label\n",
        "predicted_labels = []\n",
        "for i in range(len(np_image_list_test)):\n",
        "  test_img = np_image_list_test[i]\n",
        "  test_img = np.expand_dims(test_img, axis=0)\n",
        "  pr=model.predict(test_img)\n",
        "  output = label_binarizer.inverse_transform(pr)\n",
        "  predicted_labels.append(output[0])\n",
        "\n",
        "#creating confusion matrix by comparing both list\n",
        "confusion_matrix = confusion_matrix(correct_labels, predicted_labels)\n",
        "disp = ConfusionMatrixDisplay(confusion_matrix=confusion_matrix)  \n",
        "disp.plot()\n",
        "plt.show()\n",
        "print('--------')\n",
        "\n",
        "FP = confusion_matrix.sum(axis=0) - np.diag(confusion_matrix)  \n",
        "FN = confusion_matrix.sum(axis=1) - np.diag(confusion_matrix)\n",
        "TP = np.diag(confusion_matrix)\n",
        "TN = confusion_matrix.sum() - (FP + FN + TP)\n",
        "\n",
        "# Sensitivity, hit rate, recall, or true positive rate\n",
        "sensitivity = TP/(TP+FN)\n",
        "# Specificity or true negative rate\n",
        "specificity = TN/(TN+FP) \n",
        "# Overall accuracy\n",
        "accuracy = (TP+TN)/(TP+FP+FN+TN)\n",
        "\n",
        "print(TP)\n",
        "print(TN)\n",
        "print(FP)\n",
        "print(FN)\n",
        "print('--------')\n",
        "print(accuracy)\n",
        "print(sensitivity)\n",
        "print(specificity)\n",
        "print('--------')"
      ],
      "metadata": {
        "colab": {
          "base_uri": "https://localhost:8080/",
          "height": 453
        },
        "id": "A7DR52hmTc75",
        "outputId": "15194f49-7d0d-4544-9e6f-5543041f0057"
      },
      "execution_count": 20,
      "outputs": [
        {
          "output_type": "display_data",
          "data": {
            "text/plain": [
              "<Figure size 432x288 with 2 Axes>"
            ],
            "image/png": "[encoded data removed]"
          },
          "metadata": {
            "needs_background": "light"
          }
        },
        {
          "output_type": "stream",
          "name": "stdout",
          "text": [
            "--------\n",
            "[33 30]\n",
            "[30 33]\n",
            "[12 15]\n",
            "[15 12]\n",
            "--------\n",
            "[0.7 0.7]\n",
            "[0.6875     0.71428571]\n",
            "[0.71428571 0.6875    ]\n",
            "--------\n"
          ]
        }
      ]
    }
  ]
}