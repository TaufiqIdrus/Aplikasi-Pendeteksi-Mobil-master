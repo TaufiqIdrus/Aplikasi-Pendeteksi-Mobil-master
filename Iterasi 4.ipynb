{
  "nbformat": 4,
  "nbformat_minor": 0,
  "metadata": {
    "accelerator": "GPU",
    "colab": {
      "name": "Kodingan Skripsi 3",
      "provenance": [],
      "collapsed_sections": [],
      "include_colab_link": true
    },
    "kernelspec": {
      "display_name": "Python 3",
      "language": "python",
      "name": "python3"
    },
    "language_info": {
      "codemirror_mode": {
        "name": "ipython",
        "version": 3
      },
      "file_extension": ".py",
      "mimetype": "text/x-python",
      "name": "python",
      "nbconvert_exporter": "python",
      "pygments_lexer": "ipython3",
      "version": "3.6.6"
    }
  },
  "cells": [
    {
      "cell_type": "markdown",
      "metadata": {
        "id": "view-in-github",
        "colab_type": "text"
      },
      "source": [
        "<a href=\"https://colab.research.google.com/github/TaufiqIdrus/Aplikasi-Pendeteksi-Mobil-master/blob/master/Iterasi%204.ipynb\" target=\"_parent\"><img src=\"https://colab.research.google.com/assets/colab-badge.svg\" alt=\"Open In Colab\"/></a>"
      ]
    },
    {
      "cell_type": "markdown",
      "metadata": {
        "id": "yJT_kQA2lITS"
      },
      "source": [
        "**Identifikasi Penyakit Pada Tanaman Apel menggunakan Convolutional Neural Network**"
      ]
    },
    {
      "cell_type": "code",
      "metadata": {
        "id": "xXeOaYTUzmgT"
      },
      "source": [
        "import numpy as np\n",
        "import pickle\n",
        "import os\n",
        "import cv2\n",
        "import tensorflow as tf\n",
        "import keras\n",
        "from os import listdir\n",
        "from sklearn.preprocessing import LabelBinarizer\n",
        "from sklearn.model_selection import KFold\n",
        "from keras.models import Sequential\n",
        "from keras.layers.normalization import batch_normalization\n",
        "from keras.layers.convolutional import Conv2D\n",
        "from keras.layers.convolutional import MaxPooling2D\n",
        "from keras.layers.core import Activation, Flatten, Dropout, Dense\n",
        "from keras import backend as K\n",
        "from tensorflow.keras.optimizers import Adam\n",
        "from keras.preprocessing import image\n",
        "from sklearn.preprocessing import MultiLabelBinarizer\n",
        "from sklearn.model_selection import train_test_split\n",
        "import matplotlib.pyplot as plt\n",
        "from sklearn.datasets import make_classification\n",
        "from numpy import mean\n",
        "from sklearn.metrics import confusion_matrix, ConfusionMatrixDisplay, accuracy_score, classification_report, recall_score\n"
      ],
      "execution_count": 1,
      "outputs": []
    },
    {
      "cell_type": "markdown",
      "metadata": {
        "id": "fp8C0d28lQok"
      },
      "source": [
        "Importing and Preparing Dataset"
      ]
    },
    {
      "cell_type": "code",
      "metadata": {
        "id": "_0xehllADlUs",
        "colab": {
          "base_uri": "https://localhost:8080/"
        },
        "outputId": "bb897b3b-e01a-4b16-f13b-110c409f1206"
      },
      "source": [
        "!pip install pyunpack\n",
        "!pip install patool\n",
        "from pyunpack import Archive\n",
        "Archive('/content/Fold 4.rar').extractall('/content/Datasets/')\n",
        "iterasi = 4\n",
        "width=256\n",
        "height=256\n",
        "default_image_size = tuple((height, width))\n",
        "directory_root_train = '/content/Datasets/Fold 4/Train'\n",
        "directory_root_validation = '/content/Datasets/Fold 4/Validation'\n",
        "directory_root_test = '/content/Datasets/Fold 4/Test'\n",
        "image_size = 0\n",
        "depth=3"
      ],
      "execution_count": 2,
      "outputs": [
        {
          "output_type": "stream",
          "name": "stdout",
          "text": [
            "Collecting pyunpack\n",
            "  Downloading pyunpack-0.2.2-py2.py3-none-any.whl (3.8 kB)\n",
            "Collecting entrypoint2\n",
            "  Downloading entrypoint2-1.0-py3-none-any.whl (9.8 kB)\n",
            "Collecting easyprocess\n",
            "  Downloading EasyProcess-1.1-py3-none-any.whl (8.7 kB)\n",
            "Installing collected packages: entrypoint2, easyprocess, pyunpack\n",
            "Successfully installed easyprocess-1.1 entrypoint2-1.0 pyunpack-0.2.2\n",
            "Collecting patool\n",
            "  Downloading patool-1.12-py2.py3-none-any.whl (77 kB)\n",
            "\u001b[K     |████████████████████████████████| 77 kB 3.4 MB/s \n",
            "\u001b[?25hInstalling collected packages: patool\n",
            "Successfully installed patool-1.12\n"
          ]
        }
      ]
    },
    {
      "cell_type": "code",
      "metadata": {
        "id": "KbAwJJTpzmge"
      },
      "source": [
        "def convert_image_to_array(image_dir):\n",
        "    try:\n",
        "        image = cv2.imread(image_dir)\n",
        "        if image is not None :\n",
        "            image = cv2.resize(image, default_image_size)   \n",
        "            return keras.preprocessing.image.img_to_array(image)\n",
        "        else :\n",
        "            return np.array([])\n",
        "    except Exception as e:\n",
        "        print(f\"Error : {e}\")\n",
        "        return None"
      ],
      "execution_count": 3,
      "outputs": []
    },
    {
      "cell_type": "markdown",
      "source": [
        "Converting **Training** Data to Array"
      ],
      "metadata": {
        "id": "bgXxUMO2cI_D"
      }
    },
    {
      "cell_type": "code",
      "metadata": {
        "id": "Erz6IjKXzmgg",
        "colab": {
          "base_uri": "https://localhost:8080/"
        },
        "outputId": "9ab630d3-7ca0-4d5b-fb1b-60ba1c3056b8"
      },
      "source": [
        "image_list_train, label_list_train = [], []\n",
        "try:\n",
        "    print(\"[INFO] Loading images ...\")\n",
        "    root_dir = listdir(directory_root_train)\n",
        "\n",
        "    for plant_disease_folder in root_dir:\n",
        "        print(f\"[INFO] Processing {plant_disease_folder} ...\")\n",
        "        plant_disease_image_list = listdir(f\"{directory_root_train}/{plant_disease_folder}/\")\n",
        "      \n",
        "        for image in plant_disease_image_list:\n",
        "            image_directory = f\"{directory_root_train}/{plant_disease_folder}/{image}\"\n",
        "\n",
        "            if image_directory.endswith(\".jpg\") == True or image_directory.endswith(\".JPG\") == True:\n",
        "                image_list_train.append(convert_image_to_array(image_directory))\n",
        "                label_list_train.append(plant_disease_folder)\n",
        "    print(\"[INFO] Image loading completed\")\n",
        "\n",
        "except Exception as e:\n",
        "    print(f\"Error : {e}\")\n",
        "\n",
        "#image labeling\n",
        "image_size = len(image_list_train)\n",
        "label_binarizer = LabelBinarizer()\n",
        "image_labels_train = label_binarizer.fit_transform(label_list_train)\n",
        "pickle.dump(label_binarizer,open('label_transform_train.pkl', 'wb'))\n",
        "n_classes = len(label_binarizer.classes_)\n",
        "np_image_list_train = np.array(image_list_train, dtype=np.float16) / 255.0"
      ],
      "execution_count": 4,
      "outputs": [
        {
          "output_type": "stream",
          "name": "stdout",
          "text": [
            "[INFO] Loading images ...\n",
            "[INFO] Processing Apple___Black_rot ...\n",
            "[INFO] Processing Apple___Cedar_apple_rust ...\n",
            "[INFO] Processing Apple___healthy ...\n",
            "[INFO] Processing Apple___Apple_scab ...\n",
            "[INFO] Image loading completed\n"
          ]
        }
      ]
    },
    {
      "cell_type": "markdown",
      "source": [
        "Converting **Validation** Data to Array"
      ],
      "metadata": {
        "id": "7eEMGiqRd_E4"
      }
    },
    {
      "cell_type": "code",
      "source": [
        "image_list_validation, label_list_validation = [], []\n",
        "try:\n",
        "    print(\"[INFO] Loading images ...\")\n",
        "    root_dir = listdir(directory_root_validation)\n",
        "\n",
        "    for plant_disease_folder in root_dir:\n",
        "        print(f\"[INFO] Processing {plant_disease_folder} ...\")\n",
        "        plant_disease_image_list = listdir(f\"{directory_root_validation}/{plant_disease_folder}/\")\n",
        "      \n",
        "        for image in plant_disease_image_list:\n",
        "            image_directory = f\"{directory_root_validation}/{plant_disease_folder}/{image}\"\n",
        "\n",
        "            if image_directory.endswith(\".jpg\") == True or image_directory.endswith(\".JPG\") == True:\n",
        "                image_list_validation.append(convert_image_to_array(image_directory))\n",
        "                label_list_validation.append(plant_disease_folder)\n",
        "    print(\"[INFO] Image loading completed\")\n",
        "\n",
        "except Exception as e:\n",
        "    print(f\"Error : {e}\")\n",
        "\n",
        "#image labeling\n",
        "image_size = len(image_list_validation)\n",
        "label_binarizer = LabelBinarizer()\n",
        "image_labels_validation = label_binarizer.fit_transform(label_list_validation)\n",
        "pickle.dump(label_binarizer,open('label_transform_validation.pkl', 'wb'))\n",
        "n_classes = len(label_binarizer.classes_)\n",
        "np_image_list_validation = np.array(image_list_validation, dtype=np.float16) / 255.0"
      ],
      "metadata": {
        "id": "wfHDdR0ZeEuU",
        "colab": {
          "base_uri": "https://localhost:8080/"
        },
        "outputId": "dcc4cb72-5fef-47e7-9937-e381767e5641"
      },
      "execution_count": 5,
      "outputs": [
        {
          "output_type": "stream",
          "name": "stdout",
          "text": [
            "[INFO] Loading images ...\n",
            "[INFO] Processing Apple___Black_rot ...\n",
            "[INFO] Processing Apple___Cedar_apple_rust ...\n",
            "[INFO] Processing Apple___healthy ...\n",
            "[INFO] Processing Apple___Apple_scab ...\n",
            "[INFO] Image loading completed\n"
          ]
        }
      ]
    },
    {
      "cell_type": "markdown",
      "source": [
        "Converting **Testing** Data to Array"
      ],
      "metadata": {
        "id": "brwWyZVncTdg"
      }
    },
    {
      "cell_type": "code",
      "metadata": {
        "id": "uNPby5UMcaWY",
        "colab": {
          "base_uri": "https://localhost:8080/"
        },
        "outputId": "2ab8d417-1cf0-4f9e-c273-cb8d63b0306d"
      },
      "source": [
        "image_list_test, label_list_test = [], []\n",
        "try:\n",
        "    print(\"[INFO] Loading images ...\")\n",
        "    root_dir = listdir(directory_root_test)\n",
        "\n",
        "    for plant_disease_folder in root_dir:\n",
        "        print(f\"[INFO] Processing {plant_disease_folder} ...\")\n",
        "        plant_disease_image_list = listdir(f\"{directory_root_test}/{plant_disease_folder}/\")\n",
        "      \n",
        "        for image in plant_disease_image_list:\n",
        "            image_directory = f\"{directory_root_test}/{plant_disease_folder}/{image}\"\n",
        "\n",
        "            if image_directory.endswith(\".jpg\") == True or image_directory.endswith(\".JPG\") == True:\n",
        "                image_list_test.append(convert_image_to_array(image_directory))\n",
        "                label_list_test.append(plant_disease_folder)\n",
        "    print(\"[INFO] Image loading completed\")\n",
        "\n",
        "except Exception as e:\n",
        "    print(f\"Error : {e}\")\n",
        "\n",
        "#image labeling\n",
        "image_size = len(image_list_test)\n",
        "label_binarizer = LabelBinarizer()\n",
        "image_labels_test = label_binarizer.fit_transform(label_list_test)\n",
        "pickle.dump(label_binarizer,open('label_transform_test.pkl', 'wb'))\n",
        "n_classes = len(label_binarizer.classes_)\n",
        "np_image_list_test = np.array(image_list_test, dtype=np.float16) / 255.0"
      ],
      "execution_count": 6,
      "outputs": [
        {
          "output_type": "stream",
          "name": "stdout",
          "text": [
            "[INFO] Loading images ...\n",
            "[INFO] Processing Apple___Black_rot ...\n",
            "[INFO] Processing Apple___Cedar_apple_rust ...\n",
            "[INFO] Processing Apple___healthy ...\n",
            "[INFO] Processing Apple___Apple_scab ...\n",
            "[INFO] Image loading completed\n"
          ]
        }
      ]
    },
    {
      "cell_type": "markdown",
      "metadata": {
        "id": "jYBTFN0CnAi7"
      },
      "source": [
        "Data Augmenting Initialization"
      ]
    },
    {
      "cell_type": "code",
      "metadata": {
        "id": "TLMxMK2Tzmgr"
      },
      "source": [
        "aug = keras.preprocessing.image.ImageDataGenerator(\n",
        "    rotation_range=25, \n",
        "    width_shift_range=0.1,\n",
        "    height_shift_range=0.1, \n",
        "    shear_range=0.2, \n",
        "    zoom_range=0.2,\n",
        "    horizontal_flip=True, \n",
        "    fill_mode=\"nearest\")"
      ],
      "execution_count": 7,
      "outputs": []
    },
    {
      "cell_type": "markdown",
      "metadata": {
        "id": "H1BfRyYNnGv_"
      },
      "source": [
        "Creating CNN Model"
      ]
    },
    {
      "cell_type": "code",
      "metadata": {
        "id": "WmLX4wm8zmgs"
      },
      "source": [
        "model = keras.models.Sequential()\n",
        "inputShape = (height, width, depth)\n",
        "\n",
        "model.add(Conv2D(32, (3, 3), padding=\"same\",input_shape=inputShape))\n",
        "model.add(Activation(\"relu\"))\n",
        "\n",
        "model.add(MaxPooling2D(pool_size=(3, 3)))\n",
        "\n",
        "model.add(Conv2D(64, (3, 3), padding=\"same\"))\n",
        "model.add(Activation(\"relu\"))\n",
        "\n",
        "model.add(MaxPooling2D(pool_size=(3, 3)))\n",
        "\n",
        "model.add(Conv2D(128, (3, 3), padding=\"same\"))\n",
        "model.add(Activation(\"relu\"))\n",
        "\n",
        "model.add(MaxPooling2D(pool_size=(2, 2)))\n",
        "\n",
        "model.add(Conv2D(256, (3, 3), padding=\"same\"))\n",
        "model.add(Activation(\"relu\"))\n",
        "\n",
        "model.add(MaxPooling2D(pool_size=(2, 2)))\n",
        "\n",
        "model.add(Flatten())\n",
        "\n",
        "model.add(Dense(1024))\n",
        "model.add(Activation(\"relu\"))\n",
        "\n",
        "model.add(Dense(n_classes))\n",
        "model.add(Activation(\"softmax\"))"
      ],
      "execution_count": 8,
      "outputs": []
    },
    {
      "cell_type": "markdown",
      "metadata": {
        "id": "Zfsu3lVfnXFG"
      },
      "source": [
        "**Training** Network"
      ]
    },
    {
      "cell_type": "code",
      "metadata": {
        "id": "rvwKwe3Lzmgv",
        "colab": {
          "base_uri": "https://localhost:8080/"
        },
        "outputId": "608e3f1d-5580-49d1-9359-f5d1e51aac7c"
      },
      "source": [
        "EPOCHS = 50\n",
        "INIT_LR = 1e-3\n",
        "BS = 32\n",
        "\n",
        "with tf.device('/GPU:0'):\n",
        "  opt = Adam(learning_rate=INIT_LR, decay=INIT_LR / EPOCHS)\n",
        "  model.compile(loss=\"categorical_crossentropy\", optimizer=opt,metrics=[\"Accuracy\", \"FalseNegatives\", \"FalsePositives\", \"TrueNegatives\", \"TruePositives\"])\n",
        "  \n",
        "  history = model.fit(\n",
        "      aug.flow(np_image_list_train, image_labels_train, batch_size=BS),\n",
        "      validation_data=(np_image_list_validation, image_labels_validation),\n",
        "      steps_per_epoch=len(np_image_list_train) // BS,\n",
        "      epochs=EPOCHS, \n",
        "      verbose=1,\n",
        "      )\n"
      ],
      "execution_count": 9,
      "outputs": [
        {
          "output_type": "stream",
          "name": "stdout",
          "text": [
            "Epoch 1/50\n",
            "63/63 [==============================] - 43s 508ms/step - loss: 1.1699 - Accuracy: 0.5258 - false_negatives: 1463.0000 - false_positives: 353.0000 - true_negatives: 5638.0000 - true_positives: 534.0000 - val_loss: 0.7393 - val_Accuracy: 0.6765 - val_false_negatives: 200.0000 - val_false_positives: 87.0000 - val_true_negatives: 1434.0000 - val_true_positives: 307.0000\n",
            "Epoch 2/50\n",
            "63/63 [==============================] - 31s 485ms/step - loss: 0.6393 - Accuracy: 0.7677 - false_negatives: 617.0000 - false_positives: 321.0000 - true_negatives: 5670.0000 - true_positives: 1380.0000 - val_loss: 0.4393 - val_Accuracy: 0.8205 - val_false_negatives: 111.0000 - val_false_positives: 77.0000 - val_true_negatives: 1444.0000 - val_true_positives: 396.0000\n",
            "Epoch 3/50\n",
            "63/63 [==============================] - 31s 485ms/step - loss: 0.4125 - Accuracy: 0.8473 - false_negatives: 350.0000 - false_positives: 261.0000 - true_negatives: 5730.0000 - true_positives: 1647.0000 - val_loss: 0.5150 - val_Accuracy: 0.8008 - val_false_negatives: 113.0000 - val_false_positives: 90.0000 - val_true_negatives: 1431.0000 - val_true_positives: 394.0000\n",
            "Epoch 4/50\n",
            "63/63 [==============================] - 30s 473ms/step - loss: 0.3847 - Accuracy: 0.8483 - false_negatives: 335.0000 - false_positives: 256.0000 - true_negatives: 5735.0000 - true_positives: 1662.0000 - val_loss: 0.6603 - val_Accuracy: 0.7870 - val_false_negatives: 112.0000 - val_false_positives: 97.0000 - val_true_negatives: 1424.0000 - val_true_positives: 395.0000\n",
            "Epoch 5/50\n",
            "63/63 [==============================] - 31s 483ms/step - loss: 0.4119 - Accuracy: 0.8327 - false_negatives: 364.0000 - false_positives: 274.0000 - true_negatives: 5717.0000 - true_positives: 1633.0000 - val_loss: 0.3384 - val_Accuracy: 0.8679 - val_false_negatives: 73.0000 - val_false_positives: 55.0000 - val_true_negatives: 1466.0000 - val_true_positives: 434.0000\n",
            "Epoch 6/50\n",
            "63/63 [==============================] - 30s 483ms/step - loss: 0.3256 - Accuracy: 0.8748 - false_negatives: 270.0000 - false_positives: 222.0000 - true_negatives: 5769.0000 - true_positives: 1727.0000 - val_loss: 0.6703 - val_Accuracy: 0.7949 - val_false_negatives: 107.0000 - val_false_positives: 98.0000 - val_true_negatives: 1423.0000 - val_true_positives: 400.0000\n",
            "Epoch 7/50\n",
            "63/63 [==============================] - 30s 480ms/step - loss: 0.3074 - Accuracy: 0.8813 - false_negatives: 253.0000 - false_positives: 219.0000 - true_negatives: 5772.0000 - true_positives: 1744.0000 - val_loss: 0.3570 - val_Accuracy: 0.8580 - val_false_negatives: 73.0000 - val_false_positives: 67.0000 - val_true_negatives: 1454.0000 - val_true_positives: 434.0000\n",
            "Epoch 8/50\n",
            "63/63 [==============================] - 30s 482ms/step - loss: 0.2520 - Accuracy: 0.9119 - false_negatives: 197.0000 - false_positives: 161.0000 - true_negatives: 5830.0000 - true_positives: 1800.0000 - val_loss: 0.3773 - val_Accuracy: 0.8383 - val_false_negatives: 86.0000 - val_false_positives: 59.0000 - val_true_negatives: 1462.0000 - val_true_positives: 421.0000\n",
            "Epoch 9/50\n",
            "63/63 [==============================] - 30s 481ms/step - loss: 0.2247 - Accuracy: 0.9169 - false_negatives: 177.0000 - false_positives: 151.0000 - true_negatives: 5840.0000 - true_positives: 1820.0000 - val_loss: 0.1536 - val_Accuracy: 0.9369 - val_false_negatives: 35.0000 - val_false_positives: 28.0000 - val_true_negatives: 1493.0000 - val_true_positives: 472.0000\n",
            "Epoch 10/50\n",
            "63/63 [==============================] - 30s 470ms/step - loss: 0.1969 - Accuracy: 0.9234 - false_negatives: 167.0000 - false_positives: 147.0000 - true_negatives: 5844.0000 - true_positives: 1830.0000 - val_loss: 0.4373 - val_Accuracy: 0.8580 - val_false_negatives: 75.0000 - val_false_positives: 67.0000 - val_true_negatives: 1454.0000 - val_true_positives: 432.0000\n",
            "Epoch 11/50\n",
            "63/63 [==============================] - 30s 481ms/step - loss: 0.1994 - Accuracy: 0.9264 - false_negatives: 153.0000 - false_positives: 137.0000 - true_negatives: 5854.0000 - true_positives: 1844.0000 - val_loss: 0.2051 - val_Accuracy: 0.9369 - val_false_negatives: 35.0000 - val_false_positives: 29.0000 - val_true_negatives: 1492.0000 - val_true_positives: 472.0000\n",
            "Epoch 12/50\n",
            "63/63 [==============================] - 30s 477ms/step - loss: 0.1888 - Accuracy: 0.9319 - false_negatives: 146.0000 - false_positives: 120.0000 - true_negatives: 5871.0000 - true_positives: 1851.0000 - val_loss: 0.2639 - val_Accuracy: 0.8955 - val_false_negatives: 61.0000 - val_false_positives: 42.0000 - val_true_negatives: 1479.0000 - val_true_positives: 446.0000\n",
            "Epoch 13/50\n",
            "63/63 [==============================] - 30s 472ms/step - loss: 0.1445 - Accuracy: 0.9479 - false_negatives: 109.0000 - false_positives: 95.0000 - true_negatives: 5896.0000 - true_positives: 1888.0000 - val_loss: 0.1587 - val_Accuracy: 0.9448 - val_false_negatives: 30.0000 - val_false_positives: 26.0000 - val_true_negatives: 1495.0000 - val_true_positives: 477.0000\n",
            "Epoch 14/50\n",
            "63/63 [==============================] - 30s 480ms/step - loss: 0.1539 - Accuracy: 0.9424 - false_negatives: 120.0000 - false_positives: 107.0000 - true_negatives: 5884.0000 - true_positives: 1877.0000 - val_loss: 0.1546 - val_Accuracy: 0.9310 - val_false_negatives: 37.0000 - val_false_positives: 33.0000 - val_true_negatives: 1488.0000 - val_true_positives: 470.0000\n",
            "Epoch 15/50\n",
            "63/63 [==============================] - 30s 480ms/step - loss: 0.1613 - Accuracy: 0.9374 - false_negatives: 131.0000 - false_positives: 116.0000 - true_negatives: 5875.0000 - true_positives: 1866.0000 - val_loss: 0.1082 - val_Accuracy: 0.9625 - val_false_negatives: 20.0000 - val_false_positives: 18.0000 - val_true_negatives: 1503.0000 - val_true_positives: 487.0000\n",
            "Epoch 16/50\n",
            "63/63 [==============================] - 30s 472ms/step - loss: 0.1398 - Accuracy: 0.9509 - false_negatives: 101.0000 - false_positives: 93.0000 - true_negatives: 5898.0000 - true_positives: 1896.0000 - val_loss: 0.1305 - val_Accuracy: 0.9566 - val_false_negatives: 26.0000 - val_false_positives: 20.0000 - val_true_negatives: 1501.0000 - val_true_positives: 481.0000\n",
            "Epoch 17/50\n",
            "63/63 [==============================] - 30s 481ms/step - loss: 0.1407 - Accuracy: 0.9504 - false_negatives: 106.0000 - false_positives: 94.0000 - true_negatives: 5897.0000 - true_positives: 1891.0000 - val_loss: 0.2366 - val_Accuracy: 0.9152 - val_false_negatives: 44.0000 - val_false_positives: 37.0000 - val_true_negatives: 1484.0000 - val_true_positives: 463.0000\n",
            "Epoch 18/50\n",
            "63/63 [==============================] - 30s 478ms/step - loss: 0.1271 - Accuracy: 0.9534 - false_negatives: 99.0000 - false_positives: 88.0000 - true_negatives: 5903.0000 - true_positives: 1898.0000 - val_loss: 0.1571 - val_Accuracy: 0.9389 - val_false_negatives: 32.0000 - val_false_positives: 29.0000 - val_true_negatives: 1492.0000 - val_true_positives: 475.0000\n",
            "Epoch 19/50\n",
            "63/63 [==============================] - 30s 474ms/step - loss: 0.1125 - Accuracy: 0.9574 - false_negatives: 86.0000 - false_positives: 79.0000 - true_negatives: 5912.0000 - true_positives: 1911.0000 - val_loss: 0.1223 - val_Accuracy: 0.9566 - val_false_negatives: 23.0000 - val_false_positives: 22.0000 - val_true_negatives: 1499.0000 - val_true_positives: 484.0000\n",
            "Epoch 20/50\n",
            "63/63 [==============================] - 31s 487ms/step - loss: 0.1079 - Accuracy: 0.9604 - false_negatives: 83.0000 - false_positives: 74.0000 - true_negatives: 5917.0000 - true_positives: 1914.0000 - val_loss: 0.1174 - val_Accuracy: 0.9665 - val_false_negatives: 18.0000 - val_false_positives: 17.0000 - val_true_negatives: 1504.0000 - val_true_positives: 489.0000\n",
            "Epoch 21/50\n",
            "63/63 [==============================] - 31s 486ms/step - loss: 0.0871 - Accuracy: 0.9644 - false_negatives: 71.0000 - false_positives: 69.0000 - true_negatives: 5922.0000 - true_positives: 1926.0000 - val_loss: 0.1714 - val_Accuracy: 0.9408 - val_false_negatives: 30.0000 - val_false_positives: 29.0000 - val_true_negatives: 1492.0000 - val_true_positives: 477.0000\n",
            "Epoch 22/50\n",
            "63/63 [==============================] - 30s 479ms/step - loss: 0.1111 - Accuracy: 0.9579 - false_negatives: 86.0000 - false_positives: 82.0000 - true_negatives: 5909.0000 - true_positives: 1911.0000 - val_loss: 0.1149 - val_Accuracy: 0.9665 - val_false_negatives: 17.0000 - val_false_positives: 16.0000 - val_true_negatives: 1505.0000 - val_true_positives: 490.0000\n",
            "Epoch 23/50\n",
            "63/63 [==============================] - 30s 476ms/step - loss: 0.1630 - Accuracy: 0.9399 - false_negatives: 125.0000 - false_positives: 114.0000 - true_negatives: 5877.0000 - true_positives: 1872.0000 - val_loss: 0.0905 - val_Accuracy: 0.9665 - val_false_negatives: 20.0000 - val_false_positives: 16.0000 - val_true_negatives: 1505.0000 - val_true_positives: 487.0000\n",
            "Epoch 24/50\n",
            "63/63 [==============================] - 31s 488ms/step - loss: 0.0909 - Accuracy: 0.9675 - false_negatives: 66.0000 - false_positives: 61.0000 - true_negatives: 5930.0000 - true_positives: 1931.0000 - val_loss: 0.0823 - val_Accuracy: 0.9704 - val_false_negatives: 16.0000 - val_false_positives: 15.0000 - val_true_negatives: 1506.0000 - val_true_positives: 491.0000\n",
            "Epoch 25/50\n",
            "63/63 [==============================] - 30s 483ms/step - loss: 0.0887 - Accuracy: 0.9670 - false_negatives: 68.0000 - false_positives: 66.0000 - true_negatives: 5925.0000 - true_positives: 1929.0000 - val_loss: 0.1051 - val_Accuracy: 0.9566 - val_false_negatives: 22.0000 - val_false_positives: 20.0000 - val_true_negatives: 1501.0000 - val_true_positives: 485.0000\n",
            "Epoch 26/50\n",
            "63/63 [==============================] - 31s 487ms/step - loss: 0.0839 - Accuracy: 0.9715 - false_negatives: 62.0000 - false_positives: 56.0000 - true_negatives: 5935.0000 - true_positives: 1935.0000 - val_loss: 0.2958 - val_Accuracy: 0.8895 - val_false_negatives: 58.0000 - val_false_positives: 49.0000 - val_true_negatives: 1472.0000 - val_true_positives: 449.0000\n",
            "Epoch 27/50\n",
            "63/63 [==============================] - 30s 479ms/step - loss: 0.0824 - Accuracy: 0.9680 - false_negatives: 64.0000 - false_positives: 61.0000 - true_negatives: 5930.0000 - true_positives: 1933.0000 - val_loss: 0.0488 - val_Accuracy: 0.9803 - val_false_negatives: 10.0000 - val_false_positives: 10.0000 - val_true_negatives: 1511.0000 - val_true_positives: 497.0000\n",
            "Epoch 28/50\n",
            "63/63 [==============================] - 31s 485ms/step - loss: 0.0682 - Accuracy: 0.9720 - false_negatives: 56.0000 - false_positives: 55.0000 - true_negatives: 5936.0000 - true_positives: 1941.0000 - val_loss: 0.0868 - val_Accuracy: 0.9684 - val_false_negatives: 16.0000 - val_false_positives: 15.0000 - val_true_negatives: 1506.0000 - val_true_positives: 491.0000\n",
            "Epoch 29/50\n",
            "63/63 [==============================] - 30s 481ms/step - loss: 0.0565 - Accuracy: 0.9820 - false_negatives: 37.0000 - false_positives: 36.0000 - true_negatives: 5955.0000 - true_positives: 1960.0000 - val_loss: 0.0916 - val_Accuracy: 0.9763 - val_false_negatives: 12.0000 - val_false_positives: 11.0000 - val_true_negatives: 1510.0000 - val_true_positives: 495.0000\n",
            "Epoch 30/50\n",
            "63/63 [==============================] - 30s 474ms/step - loss: 0.0434 - Accuracy: 0.9860 - false_negatives: 28.0000 - false_positives: 28.0000 - true_negatives: 5963.0000 - true_positives: 1969.0000 - val_loss: 0.0489 - val_Accuracy: 0.9803 - val_false_negatives: 11.0000 - val_false_positives: 10.0000 - val_true_negatives: 1511.0000 - val_true_positives: 496.0000\n",
            "Epoch 31/50\n",
            "63/63 [==============================] - 31s 484ms/step - loss: 0.0510 - Accuracy: 0.9810 - false_negatives: 39.0000 - false_positives: 36.0000 - true_negatives: 5955.0000 - true_positives: 1958.0000 - val_loss: 0.1424 - val_Accuracy: 0.9566 - val_false_negatives: 22.0000 - val_false_positives: 22.0000 - val_true_negatives: 1499.0000 - val_true_positives: 485.0000\n",
            "Epoch 32/50\n",
            "63/63 [==============================] - 31s 483ms/step - loss: 0.0755 - Accuracy: 0.9700 - false_negatives: 60.0000 - false_positives: 58.0000 - true_negatives: 5933.0000 - true_positives: 1937.0000 - val_loss: 0.1097 - val_Accuracy: 0.9625 - val_false_negatives: 21.0000 - val_false_positives: 19.0000 - val_true_negatives: 1502.0000 - val_true_positives: 486.0000\n",
            "Epoch 33/50\n",
            "63/63 [==============================] - 30s 481ms/step - loss: 0.0617 - Accuracy: 0.9775 - false_negatives: 45.0000 - false_positives: 45.0000 - true_negatives: 5946.0000 - true_positives: 1952.0000 - val_loss: 0.0623 - val_Accuracy: 0.9744 - val_false_negatives: 13.0000 - val_false_positives: 13.0000 - val_true_negatives: 1508.0000 - val_true_positives: 494.0000\n",
            "Epoch 34/50\n",
            "63/63 [==============================] - 30s 478ms/step - loss: 0.0547 - Accuracy: 0.9780 - false_negatives: 45.0000 - false_positives: 44.0000 - true_negatives: 5947.0000 - true_positives: 1952.0000 - val_loss: 0.1027 - val_Accuracy: 0.9704 - val_false_negatives: 15.0000 - val_false_positives: 15.0000 - val_true_negatives: 1506.0000 - val_true_positives: 492.0000\n",
            "Epoch 35/50\n",
            "63/63 [==============================] - 30s 483ms/step - loss: 0.0439 - Accuracy: 0.9835 - false_negatives: 34.0000 - false_positives: 32.0000 - true_negatives: 5959.0000 - true_positives: 1963.0000 - val_loss: 0.4443 - val_Accuracy: 0.8974 - val_false_negatives: 53.0000 - val_false_positives: 51.0000 - val_true_negatives: 1470.0000 - val_true_positives: 454.0000\n",
            "Epoch 36/50\n",
            "63/63 [==============================] - 30s 476ms/step - loss: 0.0754 - Accuracy: 0.9745 - false_negatives: 57.0000 - false_positives: 50.0000 - true_negatives: 5941.0000 - true_positives: 1940.0000 - val_loss: 0.0678 - val_Accuracy: 0.9704 - val_false_negatives: 15.0000 - val_false_positives: 15.0000 - val_true_negatives: 1506.0000 - val_true_positives: 492.0000\n",
            "Epoch 37/50\n",
            "63/63 [==============================] - 31s 485ms/step - loss: 0.0351 - Accuracy: 0.9900 - false_negatives: 20.0000 - false_positives: 20.0000 - true_negatives: 5971.0000 - true_positives: 1977.0000 - val_loss: 0.0469 - val_Accuracy: 0.9842 - val_false_negatives: 8.0000 - val_false_positives: 8.0000 - val_true_negatives: 1513.0000 - val_true_positives: 499.0000\n",
            "Epoch 38/50\n",
            "63/63 [==============================] - 30s 482ms/step - loss: 0.0418 - Accuracy: 0.9845 - false_negatives: 31.0000 - false_positives: 30.0000 - true_negatives: 5961.0000 - true_positives: 1966.0000 - val_loss: 0.0839 - val_Accuracy: 0.9744 - val_false_negatives: 13.0000 - val_false_positives: 13.0000 - val_true_negatives: 1508.0000 - val_true_positives: 494.0000\n",
            "Epoch 39/50\n",
            "63/63 [==============================] - 30s 480ms/step - loss: 0.0631 - Accuracy: 0.9770 - false_negatives: 47.0000 - false_positives: 45.0000 - true_negatives: 5946.0000 - true_positives: 1950.0000 - val_loss: 0.0519 - val_Accuracy: 0.9882 - val_false_negatives: 6.0000 - val_false_positives: 6.0000 - val_true_negatives: 1515.0000 - val_true_positives: 501.0000\n",
            "Epoch 40/50\n",
            "63/63 [==============================] - 30s 475ms/step - loss: 0.0326 - Accuracy: 0.9905 - false_negatives: 20.0000 - false_positives: 19.0000 - true_negatives: 5972.0000 - true_positives: 1977.0000 - val_loss: 0.0552 - val_Accuracy: 0.9763 - val_false_negatives: 12.0000 - val_false_positives: 12.0000 - val_true_negatives: 1509.0000 - val_true_positives: 495.0000\n",
            "Epoch 41/50\n",
            "63/63 [==============================] - 30s 482ms/step - loss: 0.0456 - Accuracy: 0.9840 - false_negatives: 32.0000 - false_positives: 30.0000 - true_negatives: 5961.0000 - true_positives: 1965.0000 - val_loss: 0.0248 - val_Accuracy: 0.9941 - val_false_negatives: 3.0000 - val_false_positives: 3.0000 - val_true_negatives: 1518.0000 - val_true_positives: 504.0000\n",
            "Epoch 42/50\n",
            "63/63 [==============================] - 30s 479ms/step - loss: 0.0268 - Accuracy: 0.9915 - false_negatives: 17.0000 - false_positives: 17.0000 - true_negatives: 5974.0000 - true_positives: 1980.0000 - val_loss: 0.0268 - val_Accuracy: 0.9882 - val_false_negatives: 6.0000 - val_false_positives: 6.0000 - val_true_negatives: 1515.0000 - val_true_positives: 501.0000\n",
            "Epoch 43/50\n",
            "63/63 [==============================] - 30s 479ms/step - loss: 0.0262 - Accuracy: 0.9905 - false_negatives: 19.0000 - false_positives: 19.0000 - true_negatives: 5972.0000 - true_positives: 1978.0000 - val_loss: 0.0290 - val_Accuracy: 0.9862 - val_false_negatives: 7.0000 - val_false_positives: 7.0000 - val_true_negatives: 1514.0000 - val_true_positives: 500.0000\n",
            "Epoch 44/50\n",
            "63/63 [==============================] - 30s 478ms/step - loss: 0.0134 - Accuracy: 0.9950 - false_negatives: 10.0000 - false_positives: 10.0000 - true_negatives: 5981.0000 - true_positives: 1987.0000 - val_loss: 0.0297 - val_Accuracy: 0.9901 - val_false_negatives: 5.0000 - val_false_positives: 5.0000 - val_true_negatives: 1516.0000 - val_true_positives: 502.0000\n",
            "Epoch 45/50\n",
            "63/63 [==============================] - 31s 485ms/step - loss: 0.0166 - Accuracy: 0.9955 - false_negatives: 9.0000 - false_positives: 9.0000 - true_negatives: 5982.0000 - true_positives: 1988.0000 - val_loss: 0.0461 - val_Accuracy: 0.9862 - val_false_negatives: 7.0000 - val_false_positives: 7.0000 - val_true_negatives: 1514.0000 - val_true_positives: 500.0000\n",
            "Epoch 46/50\n",
            "63/63 [==============================] - 30s 477ms/step - loss: 0.0291 - Accuracy: 0.9910 - false_negatives: 18.0000 - false_positives: 17.0000 - true_negatives: 5974.0000 - true_positives: 1979.0000 - val_loss: 0.0250 - val_Accuracy: 0.9941 - val_false_negatives: 3.0000 - val_false_positives: 3.0000 - val_true_negatives: 1518.0000 - val_true_positives: 504.0000\n",
            "Epoch 47/50\n",
            "63/63 [==============================] - 30s 475ms/step - loss: 0.0532 - Accuracy: 0.9790 - false_negatives: 42.0000 - false_positives: 41.0000 - true_negatives: 5950.0000 - true_positives: 1955.0000 - val_loss: 0.0567 - val_Accuracy: 0.9803 - val_false_negatives: 10.0000 - val_false_positives: 10.0000 - val_true_negatives: 1511.0000 - val_true_positives: 497.0000\n",
            "Epoch 48/50\n",
            "63/63 [==============================] - 31s 488ms/step - loss: 0.0356 - Accuracy: 0.9860 - false_negatives: 28.0000 - false_positives: 28.0000 - true_negatives: 5963.0000 - true_positives: 1969.0000 - val_loss: 0.0293 - val_Accuracy: 0.9901 - val_false_negatives: 5.0000 - val_false_positives: 5.0000 - val_true_negatives: 1516.0000 - val_true_positives: 502.0000\n",
            "Epoch 49/50\n",
            "63/63 [==============================] - 31s 484ms/step - loss: 0.0248 - Accuracy: 0.9905 - false_negatives: 19.0000 - false_positives: 18.0000 - true_negatives: 5973.0000 - true_positives: 1978.0000 - val_loss: 0.0428 - val_Accuracy: 0.9842 - val_false_negatives: 8.0000 - val_false_positives: 8.0000 - val_true_negatives: 1513.0000 - val_true_positives: 499.0000\n",
            "Epoch 50/50\n",
            "63/63 [==============================] - 31s 488ms/step - loss: 0.0784 - Accuracy: 0.9780 - false_negatives: 44.0000 - false_positives: 44.0000 - true_negatives: 5947.0000 - true_positives: 1953.0000 - val_loss: 0.0303 - val_Accuracy: 0.9862 - val_false_negatives: 7.0000 - val_false_positives: 6.0000 - val_true_negatives: 1515.0000 - val_true_positives: 500.0000\n"
          ]
        }
      ]
    },
    {
      "cell_type": "markdown",
      "source": [
        "Plotting Traning Result"
      ],
      "metadata": {
        "id": "XZSFG8fXqz7c"
      }
    },
    {
      "cell_type": "code",
      "source": [
        "  #plotting\n",
        "  epochs = range(1, len(history.history['loss'])+1)\n",
        "  plt.title(f\"Grafik loss training iterasi {iterasi}\")\n",
        "  plt.plot(epochs, history.history['loss'], 'r', label='Training Loss')\n",
        "  plt.plot(epochs, history.history['val_loss'], 'b', label='Validation Loss')    \n",
        "  plt.xlabel(\"Epoch\")\n",
        "  plt.ylabel(\"Loss\")\n",
        "  plt.legend()\n",
        "  plt.show()\n"
      ],
      "metadata": {
        "id": "3dXbDrJpY1NK",
        "colab": {
          "base_uri": "https://localhost:8080/",
          "height": 295
        },
        "outputId": "97420d1c-8cfe-43b6-f1c1-350e854164b3"
      },
      "execution_count": 10,
      "outputs": [
        {
          "output_type": "display_data",
          "data": {
            "image/png": "[encoded data removed]",
            "text/plain": [
              "<Figure size 432x288 with 1 Axes>"
            ]
          },
          "metadata": {
            "needs_background": "light"
          }
        }
      ]
    },
    {
      "cell_type": "code",
      "source": [
        "  #plotting\n",
        "  epochs = range(1, len(history.history['loss'])+1)\n",
        "  plt.title(f\"Grafik Akurasi training iterasi {iterasi}\")\n",
        "  plt.plot(epochs, history.history['Accuracy'], 'r', label='Training Accuracy')\n",
        "  plt.plot(epochs, history.history['val_Accuracy'], 'b', label='Validation Accuracy')    \n",
        "  plt.xlabel(\"Epoch\")\n",
        "  plt.ylabel(\"Accuracy\")\n",
        "  plt.legend()\n",
        "  plt.show()"
      ],
      "metadata": {
        "colab": {
          "base_uri": "https://localhost:8080/",
          "height": 295
        },
        "id": "j3xigprPwlSX",
        "outputId": "8514e135-b73d-4c79-cf6a-8cadcbfcfe88"
      },
      "execution_count": 11,
      "outputs": [
        {
          "output_type": "display_data",
          "data": {
            "image/png": "[encoded data removed]",
            "text/plain": [
              "<Figure size 432x288 with 1 Axes>"
            ]
          },
          "metadata": {
            "needs_background": "light"
          }
        }
      ]
    },
    {
      "cell_type": "markdown",
      "metadata": {
        "id": "bTgk1-sdzmgy"
      },
      "source": [
        "**Validating** Network"
      ]
    },
    {
      "cell_type": "code",
      "source": [
        "import matplotlib.pyplot as plt\n",
        "from sklearn.datasets import make_classification\n",
        "from numpy import mean\n",
        "from sklearn.metrics import confusion_matrix, ConfusionMatrixDisplay, accuracy_score, classification_report, recall_score\n",
        "\n",
        "validation = model.predict(np_image_list_validation)\n",
        "\n",
        "predicted_labels = []\n",
        "correct_labels = []\n",
        "for i in range (len(validation)):\n",
        "  predicted_labels.append(np.argmax(validation[i]))\n",
        "\n",
        "for i in range (len(image_labels_validation)):\n",
        "  correct_labels.append(np.argmax(image_labels_validation[i]))\n",
        "\n",
        "\n",
        "confusion_matrix = confusion_matrix(correct_labels, predicted_labels)\n",
        "disp = ConfusionMatrixDisplay(confusion_matrix=confusion_matrix)  \n",
        "disp.plot()\n",
        "plt.show()\n",
        "print('--------')\n",
        "FP = confusion_matrix.sum(axis=0) - np.diag(confusion_matrix)  \n",
        "FN = confusion_matrix.sum(axis=1) - np.diag(confusion_matrix)\n",
        "TP = np.diag(confusion_matrix)\n",
        "TN = confusion_matrix.sum() - (FP + FN + TP)\n",
        "\n",
        "# Sensitivity, hit rate, recall, or true positive rate\n",
        "TPR = TP/(TP+FN)\n",
        "# Specificity or true negative rate\n",
        "TNR = TN/(TN+FP) \n",
        "# Overall accuracy\n",
        "ACC = (TP+TN)/(TP+FP+FN+TN)\n",
        "\n",
        "print(TP)\n",
        "print(TN)\n",
        "print(FP)\n",
        "print(FN)\n",
        "print('--------')\n",
        "print(ACC)\n",
        "print(TPR)\n",
        "print(TNR)\n",
        "print('--------')\n",
        "\n",
        "TP = sum(TP)\n",
        "TN = sum(TN)\n",
        "FP = sum(FP)\n",
        "FN = sum(FN)\n",
        "\n",
        "# Sensitivity, hit rate, recall, or true positive rate\n",
        "TPR = TP/(TP+FN)\n",
        "# Specificity or true negative rate\n",
        "TNR = TN/(TN+FP) \n",
        "# Overall accuracy\n",
        "ACC = (TP+TN)/(TP+FP+FN+TN)\n",
        "\n",
        "print(TP)\n",
        "print(TN)\n",
        "print(FP)\n",
        "print(FN)\n",
        "print('--------')\n",
        "print(ACC)\n",
        "print(TPR)\n",
        "print(TNR)\n"
      ],
      "metadata": {
        "colab": {
          "base_uri": "https://localhost:8080/",
          "height": 591
        },
        "id": "z9NBaYvZ61d7",
        "outputId": "c3e37dbd-3e84-4378-922e-2e242c0ce473"
      },
      "execution_count": 12,
      "outputs": [
        {
          "output_type": "display_data",
          "data": {
            "image/png": "[encoded data removed]",
            "text/plain": [
              "<Figure size 432x288 with 2 Axes>"
            ]
          },
          "metadata": {
            "needs_background": "light"
          }
        },
        {
          "output_type": "stream",
          "name": "stdout",
          "text": [
            "--------\n",
            "[ 95  98  44 263]\n",
            "[405 408 462 239]\n",
            "[1 0 1 5]\n",
            "[6 1 0 0]\n",
            "--------\n",
            "[0.98619329 0.99802761 0.99802761 0.99013807]\n",
            "[0.94059406 0.98989899 1.         1.        ]\n",
            "[0.99753695 1.         0.99784017 0.9795082 ]\n",
            "--------\n",
            "500\n",
            "1514\n",
            "7\n",
            "7\n",
            "--------\n",
            "0.9930966469428008\n",
            "0.9861932938856016\n",
            "0.9953977646285339\n"
          ]
        }
      ]
    },
    {
      "cell_type": "markdown",
      "source": [
        "**Testing** Network"
      ],
      "metadata": {
        "id": "saJYjKqX9tRL"
      }
    },
    {
      "cell_type": "code",
      "source": [
        "import matplotlib.pyplot as plt\n",
        "from sklearn.datasets import make_classification\n",
        "from numpy import mean\n",
        "from sklearn.metrics import confusion_matrix, ConfusionMatrixDisplay, accuracy_score, classification_report, recall_score\n",
        "\n",
        "test = model.predict(np_image_list_test)\n",
        "\n",
        "predicted_labels = []\n",
        "correct_labels = []\n",
        "for i in range (len(test)):\n",
        "  predicted_labels.append(np.argmax(test[i]))\n",
        "\n",
        "for i in range (len(image_labels_test)):\n",
        "  correct_labels.append(np.argmax(image_labels_test[i]))\n",
        "\n",
        "\n",
        "confusion_matrix = confusion_matrix(correct_labels, predicted_labels)\n",
        "disp = ConfusionMatrixDisplay(confusion_matrix=confusion_matrix)  \n",
        "disp.plot()\n",
        "plt.show()\n",
        "print('--------')\n",
        "FP = confusion_matrix.sum(axis=0) - np.diag(confusion_matrix)  \n",
        "FN = confusion_matrix.sum(axis=1) - np.diag(confusion_matrix)\n",
        "TP = np.diag(confusion_matrix)\n",
        "TN = confusion_matrix.sum() - (FP + FN + TP)\n",
        "\n",
        "# Sensitivity, hit rate, recall, or true positive rate\n",
        "TPR = TP/(TP+FN)\n",
        "# Specificity or true negative rate\n",
        "TNR = TN/(TN+FP) \n",
        "# Overall accuracy\n",
        "ACC = (TP+TN)/(TP+FP+FN+TN)\n",
        "\n",
        "print(TP)\n",
        "print(TN)\n",
        "print(FP)\n",
        "print(FN)\n",
        "print('--------')\n",
        "print(ACC)\n",
        "print(TPR)\n",
        "print(TNR)\n",
        "print('--------')\n",
        "\n",
        "TP = sum(TP)\n",
        "TN = sum(TN)\n",
        "FP = sum(FP)\n",
        "FN = sum(FN)\n",
        "\n",
        "# Sensitivity, hit rate, recall, or true positive rate\n",
        "TPR = TP/(TP+FN)\n",
        "# Specificity or true negative rate\n",
        "TNR = TN/(TN+FP) \n",
        "# Overall accuracy\n",
        "ACC = (TP+TN)/(TP+FP+FN+TN)\n",
        "\n",
        "print(TP)\n",
        "print(TN)\n",
        "print(FP)\n",
        "print(FN)\n",
        "print('--------')\n",
        "print(ACC)\n",
        "print(TPR)\n",
        "print(TNR)"
      ],
      "metadata": {
        "colab": {
          "base_uri": "https://localhost:8080/",
          "height": 591
        },
        "id": "3a1AYdsF4FoY",
        "outputId": "b220aa2c-40e9-4488-b035-1be5dbb996d5"
      },
      "execution_count": 13,
      "outputs": [
        {
          "output_type": "display_data",
          "data": {
            "image/png": "[encoded data removed]",
            "text/plain": [
              "<Figure size 432x288 with 2 Axes>"
            ]
          },
          "metadata": {
            "needs_background": "light"
          }
        },
        {
          "output_type": "stream",
          "name": "stdout",
          "text": [
            "--------\n",
            "[111 124  55 328]\n",
            "[507 509 576 294]\n",
            "[ 1  1  3 11]\n",
            "[15  0  0  1]\n",
            "--------\n",
            "[0.97476341 0.99842271 0.99526814 0.98107256]\n",
            "[0.88095238 1.         1.         0.99696049]\n",
            "[0.9980315  0.99803922 0.99481865 0.96393443]\n",
            "--------\n",
            "618\n",
            "1886\n",
            "16\n",
            "16\n",
            "--------\n",
            "0.9873817034700315\n",
            "0.9747634069400631\n",
            "0.9915878023133544\n"
          ]
        }
      ]
    },
    {
      "cell_type": "code",
      "metadata": {
        "id": "AKd6Tu7mzmg2"
      },
      "source": [
        "# save the model to disk\n",
        "#print(\"[INFO] Saving model...\")\n",
        "# pickle.dump(model,open('cnn_model.pkl', 'wb'))\n",
        "model.save('/content/fold5.h5')    "
      ],
      "execution_count": 14,
      "outputs": []
    },
    {
      "cell_type": "code",
      "metadata": {
        "id": "O6iIKa7Jzmg7"
      },
      "source": [
        "#test_img = cv2.imread('/content/datasets/Apple/Apple___Black_rot/0139bc6d-391c-4fd1-bcae-cc74dabfddd7___JR_FrgE.S 2734.JPG')\n",
        "\n",
        "#plt.imshow(test_img)\n",
        "#test_img = test_img / 255\n",
        "#test_img = np.expand_dims(test_img, axis=0)\n",
        "#pr=model.predict(test_img)\n",
        "\n",
        "#print(pr)\n",
        "#output = label_binarizer.inverse_transform(pr)\n",
        "#print(output)\n"
      ],
      "execution_count": 15,
      "outputs": []
    }
  ]
}