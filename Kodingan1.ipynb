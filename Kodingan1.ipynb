{
  "nbformat": 4,
  "nbformat_minor": 0,
  "metadata": {
    "accelerator": "GPU",
    "colab": {
      "name": "Kodingan Skripsi 3",
      "provenance": [],
      "collapsed_sections": [],
      "include_colab_link": true
    },
    "kernelspec": {
      "display_name": "Python 3",
      "language": "python",
      "name": "python3"
    },
    "language_info": {
      "codemirror_mode": {
        "name": "ipython",
        "version": 3
      },
      "file_extension": ".py",
      "mimetype": "text/x-python",
      "name": "python",
      "nbconvert_exporter": "python",
      "pygments_lexer": "ipython3",
      "version": "3.6.6"
    }
  },
  "cells": [
    {
      "cell_type": "markdown",
      "metadata": {
        "id": "view-in-github",
        "colab_type": "text"
      },
      "source": [
        "<a href=\"https://colab.research.google.com/github/TaufiqIdrus/Aplikasi-Pendeteksi-Mobil-master/blob/master/Kodingan1.ipynb\" target=\"_parent\"><img src=\"https://colab.research.google.com/assets/colab-badge.svg\" alt=\"Open In Colab\"/></a>"
      ]
    },
    {
      "cell_type": "markdown",
      "metadata": {
        "id": "yJT_kQA2lITS"
      },
      "source": [
        "**Identifikasi Penyakit Pada Tanaman Apel menggunakan Convolutional Neural Network**"
      ]
    },
    {
      "cell_type": "code",
      "metadata": {
        "id": "xXeOaYTUzmgT"
      },
      "source": [
        "import numpy as np\n",
        "import pickle\n",
        "import os\n",
        "import cv2\n",
        "import tensorflow as tf\n",
        "import keras\n",
        "from os import listdir\n",
        "from sklearn.preprocessing import LabelBinarizer\n",
        "from sklearn.model_selection import KFold\n",
        "from keras.models import Sequential\n",
        "from keras.layers.normalization import batch_normalization\n",
        "from keras.layers.convolutional import Conv2D\n",
        "from keras.layers.convolutional import MaxPooling2D\n",
        "from keras.layers.core import Activation, Flatten, Dropout, Dense\n",
        "from keras import backend as K\n",
        "from tensorflow.keras.optimizers import Adam\n",
        "from keras.preprocessing import image\n",
        "from sklearn.preprocessing import MultiLabelBinarizer\n",
        "from sklearn.model_selection import train_test_split\n",
        "import matplotlib.pyplot as plt\n",
        "from sklearn.datasets import make_classification\n",
        "from numpy import mean\n",
        "from sklearn.metrics import confusion_matrix, ConfusionMatrixDisplay, accuracy_score, classification_report, recall_score\n"
      ],
      "execution_count": 1,
      "outputs": []
    },
    {
      "cell_type": "markdown",
      "metadata": {
        "id": "fp8C0d28lQok"
      },
      "source": [
        "Importing and Preparing Dataset"
      ]
    },
    {
      "cell_type": "code",
      "metadata": {
        "id": "_0xehllADlUs",
        "colab": {
          "base_uri": "https://localhost:8080/"
        },
        "outputId": "8414f0ea-6fd2-43a1-8b5d-310e2111d640"
      },
      "source": [
        "!pip install pyunpack\n",
        "!pip install patool\n",
        "from pyunpack import Archive\n",
        "Archive('/content/fold1.rar').extractall('/content/Datasets/')\n",
        "iterasi = 1\n",
        "width=256\n",
        "height=256\n",
        "default_image_size = tuple((height, width))\n",
        "directory_root_train = '/content/Datasets/fold1/Train'\n",
        "directory_root_validation = '/content/Datasets/fold1/Validation'\n",
        "directory_root_test = '/content/Datasets/fold1/Test'\n",
        "image_size = 0\n",
        "depth=3"
      ],
      "execution_count": 2,
      "outputs": [
        {
          "output_type": "stream",
          "name": "stdout",
          "text": [
            "Looking in indexes: https://pypi.org/simple, https://us-python.pkg.dev/colab-wheels/public/simple/\n",
            "Collecting pyunpack\n",
            "  Downloading pyunpack-0.2.2-py2.py3-none-any.whl (3.8 kB)\n",
            "Collecting easyprocess\n",
            "  Downloading EasyProcess-1.1-py3-none-any.whl (8.7 kB)\n",
            "Collecting entrypoint2\n",
            "  Downloading entrypoint2-1.0-py3-none-any.whl (9.8 kB)\n",
            "Installing collected packages: entrypoint2, easyprocess, pyunpack\n",
            "Successfully installed easyprocess-1.1 entrypoint2-1.0 pyunpack-0.2.2\n",
            "Looking in indexes: https://pypi.org/simple, https://us-python.pkg.dev/colab-wheels/public/simple/\n",
            "Collecting patool\n",
            "  Downloading patool-1.12-py2.py3-none-any.whl (77 kB)\n",
            "\u001b[K     |████████████████████████████████| 77 kB 4.2 MB/s \n",
            "\u001b[?25hInstalling collected packages: patool\n",
            "Successfully installed patool-1.12\n"
          ]
        }
      ]
    },
    {
      "cell_type": "code",
      "metadata": {
        "id": "KbAwJJTpzmge"
      },
      "source": [
        "def convert_image_to_array(image_dir):\n",
        "    try:\n",
        "        image = cv2.imread(image_dir)\n",
        "        if image is not None :\n",
        "            image = cv2.resize(image, default_image_size)   \n",
        "            return keras.preprocessing.image.img_to_array(image)\n",
        "        else :\n",
        "            return np.array([])\n",
        "    except Exception as e:\n",
        "        print(f\"Error : {e}\")\n",
        "        return None"
      ],
      "execution_count": 3,
      "outputs": []
    },
    {
      "cell_type": "markdown",
      "source": [
        "Converting **Training** Data to Array"
      ],
      "metadata": {
        "id": "bgXxUMO2cI_D"
      }
    },
    {
      "cell_type": "code",
      "metadata": {
        "id": "Erz6IjKXzmgg",
        "colab": {
          "base_uri": "https://localhost:8080/"
        },
        "outputId": "56015bbc-41a6-4bc5-d80a-42ac4c4bacf7"
      },
      "source": [
        "image_list_train, label_list_train = [], []\n",
        "try:\n",
        "    print(\"[INFO] Loading images ...\")\n",
        "    root_dir = listdir(directory_root_train)\n",
        "\n",
        "    for plant_disease_folder in root_dir:\n",
        "        print(f\"[INFO] Processing {plant_disease_folder} ...\")\n",
        "        plant_disease_image_list = listdir(f\"{directory_root_train}/{plant_disease_folder}/\")\n",
        "      \n",
        "        for image in plant_disease_image_list:\n",
        "            image_directory = f\"{directory_root_train}/{plant_disease_folder}/{image}\"\n",
        "\n",
        "            if image_directory.endswith(\".jpg\") == True or image_directory.endswith(\".JPG\") == True:\n",
        "                image_list_train.append(convert_image_to_array(image_directory))\n",
        "                label_list_train.append(plant_disease_folder)\n",
        "    print(\"[INFO] Image loading completed\")\n",
        "\n",
        "except Exception as e:\n",
        "    print(f\"Error : {e}\")\n",
        "\n",
        "#image labeling\n",
        "image_size = len(image_list_train)\n",
        "label_binarizer = LabelBinarizer()\n",
        "image_labels_train = label_binarizer.fit_transform(label_list_train)\n",
        "pickle.dump(label_binarizer,open('label_transform_train.pkl', 'wb'))\n",
        "n_classes = len(label_binarizer.classes_)\n",
        "np_image_list_train = np.array(image_list_train, dtype=np.float16) / 255.0"
      ],
      "execution_count": 4,
      "outputs": [
        {
          "output_type": "stream",
          "name": "stdout",
          "text": [
            "[INFO] Loading images ...\n",
            "[INFO] Processing Diseased ...\n",
            "[INFO] Processing Healthy ...\n",
            "[INFO] Image loading completed\n"
          ]
        }
      ]
    },
    {
      "cell_type": "markdown",
      "source": [
        "Converting **Validation** Data to Array"
      ],
      "metadata": {
        "id": "7eEMGiqRd_E4"
      }
    },
    {
      "cell_type": "code",
      "source": [
        "image_list_validation, label_list_validation = [], []\n",
        "try:\n",
        "    print(\"[INFO] Loading images ...\")\n",
        "    root_dir = listdir(directory_root_validation)\n",
        "\n",
        "    for plant_disease_folder in root_dir:\n",
        "        print(f\"[INFO] Processing {plant_disease_folder} ...\")\n",
        "        plant_disease_image_list = listdir(f\"{directory_root_validation}/{plant_disease_folder}/\")\n",
        "      \n",
        "        for image in plant_disease_image_list:\n",
        "            image_directory = f\"{directory_root_validation}/{plant_disease_folder}/{image}\"\n",
        "\n",
        "            if image_directory.endswith(\".jpg\") == True or image_directory.endswith(\".JPG\") == True:\n",
        "                image_list_validation.append(convert_image_to_array(image_directory))\n",
        "                label_list_validation.append(plant_disease_folder)\n",
        "    print(\"[INFO] Image loading completed\")\n",
        "\n",
        "except Exception as e:\n",
        "    print(f\"Error : {e}\")\n",
        "\n",
        "#image labeling\n",
        "image_size = len(image_list_validation)\n",
        "label_binarizer = LabelBinarizer()\n",
        "image_labels_validation = label_binarizer.fit_transform(label_list_validation)\n",
        "pickle.dump(label_binarizer,open('label_transform_validation.pkl', 'wb'))\n",
        "n_classes = len(label_binarizer.classes_)\n",
        "np_image_list_validation = np.array(image_list_validation, dtype=np.float16) / 255.0"
      ],
      "metadata": {
        "id": "wfHDdR0ZeEuU",
        "colab": {
          "base_uri": "https://localhost:8080/"
        },
        "outputId": "be41cbf1-0c6e-487d-aae3-fa6efad9ab18"
      },
      "execution_count": 5,
      "outputs": [
        {
          "output_type": "stream",
          "name": "stdout",
          "text": [
            "[INFO] Loading images ...\n",
            "[INFO] Processing Diseased ...\n",
            "[INFO] Processing Healthy ...\n",
            "[INFO] Image loading completed\n"
          ]
        }
      ]
    },
    {
      "cell_type": "markdown",
      "source": [
        "Converting **Testing** Data to Array"
      ],
      "metadata": {
        "id": "brwWyZVncTdg"
      }
    },
    {
      "cell_type": "code",
      "metadata": {
        "id": "uNPby5UMcaWY",
        "colab": {
          "base_uri": "https://localhost:8080/"
        },
        "outputId": "52996061-4186-4f5c-880b-e63111f81cd1"
      },
      "source": [
        "image_list_test, label_list_test = [], []\n",
        "try:\n",
        "    print(\"[INFO] Loading images ...\")\n",
        "    root_dir = listdir(directory_root_test)\n",
        "\n",
        "    for plant_disease_folder in root_dir:\n",
        "        print(f\"[INFO] Processing {plant_disease_folder} ...\")\n",
        "        plant_disease_image_list = listdir(f\"{directory_root_test}/{plant_disease_folder}/\")\n",
        "      \n",
        "        for image in plant_disease_image_list:\n",
        "            image_directory = f\"{directory_root_test}/{plant_disease_folder}/{image}\"\n",
        "\n",
        "            if image_directory.endswith(\".jpg\") == True or image_directory.endswith(\".JPG\") == True:\n",
        "                image_list_test.append(convert_image_to_array(image_directory))\n",
        "                label_list_test.append(plant_disease_folder)\n",
        "    print(\"[INFO] Image loading completed\")\n",
        "\n",
        "except Exception as e:\n",
        "    print(f\"Error : {e}\")\n",
        "\n",
        "#image labeling\n",
        "image_size = len(image_list_test)\n",
        "label_binarizer = LabelBinarizer()\n",
        "image_labels_test = label_binarizer.fit_transform(label_list_test)\n",
        "pickle.dump(label_binarizer,open('label_transform_test.pkl', 'wb'))\n",
        "n_classes = len(label_binarizer.classes_)\n",
        "np_image_list_test = np.array(image_list_test, dtype=np.float16) / 255.0"
      ],
      "execution_count": 6,
      "outputs": [
        {
          "output_type": "stream",
          "name": "stdout",
          "text": [
            "[INFO] Loading images ...\n",
            "[INFO] Processing Diseased ...\n",
            "[INFO] Processing Healthy ...\n",
            "[INFO] Image loading completed\n"
          ]
        }
      ]
    },
    {
      "cell_type": "markdown",
      "metadata": {
        "id": "jYBTFN0CnAi7"
      },
      "source": [
        "Data Augmenting Initialization"
      ]
    },
    {
      "cell_type": "code",
      "metadata": {
        "id": "TLMxMK2Tzmgr"
      },
      "source": [
        "aug = keras.preprocessing.image.ImageDataGenerator(\n",
        "    rotation_range=25, \n",
        "    width_shift_range=0.1,\n",
        "    height_shift_range=0.1, \n",
        "    shear_range=0.2, \n",
        "    zoom_range=0.2,\n",
        "    horizontal_flip=True, \n",
        "    fill_mode=\"nearest\")"
      ],
      "execution_count": 7,
      "outputs": []
    },
    {
      "cell_type": "markdown",
      "metadata": {
        "id": "H1BfRyYNnGv_"
      },
      "source": [
        "Creating CNN Model"
      ]
    },
    {
      "cell_type": "code",
      "metadata": {
        "id": "WmLX4wm8zmgs"
      },
      "source": [
        "model = keras.models.Sequential()\n",
        "inputShape = (height, width, depth)\n",
        "\n",
        "model.add(Conv2D(32, (3, 3), padding=\"same\",input_shape=inputShape))\n",
        "model.add(Activation(\"relu\"))\n",
        "\n",
        "model.add(MaxPooling2D(pool_size=(3, 3)))\n",
        "\n",
        "model.add(Conv2D(64, (3, 3), padding=\"same\"))\n",
        "model.add(Activation(\"relu\"))\n",
        "\n",
        "model.add(MaxPooling2D(pool_size=(3, 3)))\n",
        "\n",
        "model.add(Flatten())\n",
        "\n",
        "model.add(Dense(1024))\n",
        "model.add(Activation(\"relu\"))\n",
        "\n",
        "model.add(Dense(1))\n",
        "model.add(Activation(\"sigmoid\"))"
      ],
      "execution_count": 8,
      "outputs": []
    },
    {
      "cell_type": "code",
      "source": [
        "#model.summary()"
      ],
      "metadata": {
        "id": "RQIgaph8hW06"
      },
      "execution_count": 9,
      "outputs": []
    },
    {
      "cell_type": "code",
      "source": [
        "#from PIL import Image\n",
        "#from keras.utils.vis_utils import plot_model\n",
        "#plot_model(model, to_file='cnn_model.png', show_shapes=True, show_layer_names=True)\n",
        "#display(Image.open('cnn_model.png'))"
      ],
      "metadata": {
        "id": "T05gPuu1GudW"
      },
      "execution_count": 10,
      "outputs": []
    },
    {
      "cell_type": "markdown",
      "metadata": {
        "id": "Zfsu3lVfnXFG"
      },
      "source": [
        "**Training** Network"
      ]
    },
    {
      "cell_type": "code",
      "metadata": {
        "id": "rvwKwe3Lzmgv",
        "colab": {
          "base_uri": "https://localhost:8080/"
        },
        "outputId": "cb085d40-6ae9-4741-8db0-af69b0689055"
      },
      "source": [
        "EPOCHS = 100\n",
        "INIT_LR = 1e-3\n",
        "BS = 32\n",
        "\n",
        "with tf.device('/GPU:0'):\n",
        "  opt = Adam(learning_rate=INIT_LR, decay=INIT_LR / EPOCHS)\n",
        "  model.compile(loss=\"binary_crossentropy\", optimizer=opt,metrics=[\"Accuracy\", \"FalseNegatives\", \"FalsePositives\", \"TrueNegatives\", \"TruePositives\"])\n",
        "  \n",
        "  history = model.fit(\n",
        "      aug.flow(np_image_list_train, image_labels_train, batch_size=BS),\n",
        "      validation_data=(np_image_list_validation, image_labels_validation),\n",
        "      steps_per_epoch=len(np_image_list_train) // BS,\n",
        "      epochs=EPOCHS, \n",
        "      verbose=1,\n",
        "      )\n"
      ],
      "execution_count": 11,
      "outputs": [
        {
          "output_type": "stream",
          "name": "stdout",
          "text": [
            "Epoch 1/100\n",
            "40/40 [==============================] - 33s 435ms/step - loss: 1.2184 - Accuracy: 0.6445 - false_negatives: 326.0000 - false_positives: 129.0000 - true_negatives: 511.0000 - true_positives: 314.0000 - val_loss: 0.4342 - val_Accuracy: 0.7812 - val_false_negatives: 7.0000 - val_false_positives: 63.0000 - val_true_negatives: 97.0000 - val_true_positives: 153.0000\n",
            "Epoch 2/100\n",
            "40/40 [==============================] - 17s 422ms/step - loss: 0.3725 - Accuracy: 0.8469 - false_negatives: 95.0000 - false_positives: 101.0000 - true_negatives: 539.0000 - true_positives: 545.0000 - val_loss: 0.2748 - val_Accuracy: 0.9156 - val_false_negatives: 21.0000 - val_false_positives: 6.0000 - val_true_negatives: 154.0000 - val_true_positives: 139.0000\n",
            "Epoch 3/100\n",
            "40/40 [==============================] - 17s 423ms/step - loss: 0.3258 - Accuracy: 0.8687 - false_negatives: 93.0000 - false_positives: 75.0000 - true_negatives: 565.0000 - true_positives: 547.0000 - val_loss: 0.2055 - val_Accuracy: 0.9344 - val_false_negatives: 16.0000 - val_false_positives: 5.0000 - val_true_negatives: 155.0000 - val_true_positives: 144.0000\n",
            "Epoch 4/100\n",
            "40/40 [==============================] - 17s 423ms/step - loss: 0.2647 - Accuracy: 0.8906 - false_negatives: 74.0000 - false_positives: 66.0000 - true_negatives: 574.0000 - true_positives: 566.0000 - val_loss: 0.4248 - val_Accuracy: 0.8500 - val_false_negatives: 44.0000 - val_false_positives: 4.0000 - val_true_negatives: 156.0000 - val_true_positives: 116.0000\n",
            "Epoch 5/100\n",
            "40/40 [==============================] - 22s 540ms/step - loss: 0.2167 - Accuracy: 0.9195 - false_negatives: 51.0000 - false_positives: 52.0000 - true_negatives: 588.0000 - true_positives: 589.0000 - val_loss: 0.3360 - val_Accuracy: 0.8469 - val_false_negatives: 8.0000 - val_false_positives: 41.0000 - val_true_negatives: 119.0000 - val_true_positives: 152.0000\n",
            "Epoch 6/100\n",
            "40/40 [==============================] - 18s 454ms/step - loss: 0.2344 - Accuracy: 0.8969 - false_negatives: 71.0000 - false_positives: 61.0000 - true_negatives: 579.0000 - true_positives: 569.0000 - val_loss: 0.2144 - val_Accuracy: 0.9250 - val_false_negatives: 15.0000 - val_false_positives: 9.0000 - val_true_negatives: 151.0000 - val_true_positives: 145.0000\n",
            "Epoch 7/100\n",
            "40/40 [==============================] - 17s 429ms/step - loss: 0.2002 - Accuracy: 0.9141 - false_negatives: 59.0000 - false_positives: 51.0000 - true_negatives: 589.0000 - true_positives: 581.0000 - val_loss: 0.1923 - val_Accuracy: 0.9344 - val_false_negatives: 11.0000 - val_false_positives: 10.0000 - val_true_negatives: 150.0000 - val_true_positives: 149.0000\n",
            "Epoch 8/100\n",
            "40/40 [==============================] - 17s 420ms/step - loss: 0.1794 - Accuracy: 0.9289 - false_negatives: 48.0000 - false_positives: 43.0000 - true_negatives: 597.0000 - true_positives: 592.0000 - val_loss: 0.2878 - val_Accuracy: 0.8969 - val_false_negatives: 17.0000 - val_false_positives: 16.0000 - val_true_negatives: 144.0000 - val_true_positives: 143.0000\n",
            "Epoch 9/100\n",
            "40/40 [==============================] - 17s 419ms/step - loss: 0.1458 - Accuracy: 0.9367 - false_negatives: 39.0000 - false_positives: 42.0000 - true_negatives: 598.0000 - true_positives: 601.0000 - val_loss: 0.1730 - val_Accuracy: 0.9469 - val_false_negatives: 9.0000 - val_false_positives: 8.0000 - val_true_negatives: 152.0000 - val_true_positives: 151.0000\n",
            "Epoch 10/100\n",
            "40/40 [==============================] - 17s 430ms/step - loss: 0.1515 - Accuracy: 0.9375 - false_negatives: 41.0000 - false_positives: 39.0000 - true_negatives: 601.0000 - true_positives: 599.0000 - val_loss: 0.2797 - val_Accuracy: 0.9219 - val_false_negatives: 19.0000 - val_false_positives: 6.0000 - val_true_negatives: 154.0000 - val_true_positives: 141.0000\n",
            "Epoch 11/100\n",
            "40/40 [==============================] - 17s 420ms/step - loss: 0.1504 - Accuracy: 0.9391 - false_negatives: 41.0000 - false_positives: 37.0000 - true_negatives: 603.0000 - true_positives: 599.0000 - val_loss: 0.3185 - val_Accuracy: 0.9125 - val_false_negatives: 10.0000 - val_false_positives: 18.0000 - val_true_negatives: 142.0000 - val_true_positives: 150.0000\n",
            "Epoch 12/100\n",
            "40/40 [==============================] - 17s 419ms/step - loss: 0.1592 - Accuracy: 0.9336 - false_negatives: 45.0000 - false_positives: 40.0000 - true_negatives: 600.0000 - true_positives: 595.0000 - val_loss: 0.1845 - val_Accuracy: 0.9531 - val_false_negatives: 11.0000 - val_false_positives: 4.0000 - val_true_negatives: 156.0000 - val_true_positives: 149.0000\n",
            "Epoch 13/100\n",
            "40/40 [==============================] - 17s 419ms/step - loss: 0.1424 - Accuracy: 0.9430 - false_negatives: 40.0000 - false_positives: 33.0000 - true_negatives: 607.0000 - true_positives: 600.0000 - val_loss: 0.3478 - val_Accuracy: 0.8750 - val_false_negatives: 4.0000 - val_false_positives: 36.0000 - val_true_negatives: 124.0000 - val_true_positives: 156.0000\n",
            "Epoch 14/100\n",
            "40/40 [==============================] - 17s 424ms/step - loss: 0.1269 - Accuracy: 0.9492 - false_negatives: 34.0000 - false_positives: 31.0000 - true_negatives: 609.0000 - true_positives: 606.0000 - val_loss: 0.2738 - val_Accuracy: 0.9250 - val_false_negatives: 16.0000 - val_false_positives: 8.0000 - val_true_negatives: 152.0000 - val_true_positives: 144.0000\n",
            "Epoch 15/100\n",
            "40/40 [==============================] - 17s 420ms/step - loss: 0.1104 - Accuracy: 0.9633 - false_negatives: 28.0000 - false_positives: 19.0000 - true_negatives: 621.0000 - true_positives: 612.0000 - val_loss: 0.7668 - val_Accuracy: 0.8531 - val_false_negatives: 31.0000 - val_false_positives: 16.0000 - val_true_negatives: 144.0000 - val_true_positives: 129.0000\n",
            "Epoch 16/100\n",
            "40/40 [==============================] - 17s 419ms/step - loss: 0.1608 - Accuracy: 0.9391 - false_negatives: 40.0000 - false_positives: 38.0000 - true_negatives: 602.0000 - true_positives: 600.0000 - val_loss: 0.3722 - val_Accuracy: 0.9125 - val_false_negatives: 15.0000 - val_false_positives: 13.0000 - val_true_negatives: 147.0000 - val_true_positives: 145.0000\n",
            "Epoch 17/100\n",
            "40/40 [==============================] - 17s 423ms/step - loss: 0.1323 - Accuracy: 0.9484 - false_negatives: 38.0000 - false_positives: 28.0000 - true_negatives: 612.0000 - true_positives: 602.0000 - val_loss: 0.5690 - val_Accuracy: 0.8938 - val_false_negatives: 29.0000 - val_false_positives: 5.0000 - val_true_negatives: 155.0000 - val_true_positives: 131.0000\n",
            "Epoch 18/100\n",
            "40/40 [==============================] - 17s 422ms/step - loss: 0.1169 - Accuracy: 0.9547 - false_negatives: 31.0000 - false_positives: 27.0000 - true_negatives: 613.0000 - true_positives: 609.0000 - val_loss: 0.5227 - val_Accuracy: 0.8969 - val_false_negatives: 29.0000 - val_false_positives: 4.0000 - val_true_negatives: 156.0000 - val_true_positives: 131.0000\n",
            "Epoch 19/100\n",
            "40/40 [==============================] - 17s 420ms/step - loss: 0.0994 - Accuracy: 0.9586 - false_negatives: 30.0000 - false_positives: 23.0000 - true_negatives: 617.0000 - true_positives: 610.0000 - val_loss: 0.6731 - val_Accuracy: 0.9000 - val_false_negatives: 29.0000 - val_false_positives: 3.0000 - val_true_negatives: 157.0000 - val_true_positives: 131.0000\n",
            "Epoch 20/100\n",
            "40/40 [==============================] - 17s 421ms/step - loss: 0.0962 - Accuracy: 0.9586 - false_negatives: 27.0000 - false_positives: 26.0000 - true_negatives: 614.0000 - true_positives: 613.0000 - val_loss: 0.3354 - val_Accuracy: 0.9187 - val_false_negatives: 20.0000 - val_false_positives: 6.0000 - val_true_negatives: 154.0000 - val_true_positives: 140.0000\n",
            "Epoch 21/100\n",
            "40/40 [==============================] - 17s 427ms/step - loss: 0.1229 - Accuracy: 0.9477 - false_negatives: 32.0000 - false_positives: 35.0000 - true_negatives: 605.0000 - true_positives: 608.0000 - val_loss: 0.8332 - val_Accuracy: 0.8656 - val_false_negatives: 37.0000 - val_false_positives: 6.0000 - val_true_negatives: 154.0000 - val_true_positives: 123.0000\n",
            "Epoch 22/100\n",
            "40/40 [==============================] - 17s 418ms/step - loss: 0.1347 - Accuracy: 0.9555 - false_negatives: 32.0000 - false_positives: 25.0000 - true_negatives: 615.0000 - true_positives: 608.0000 - val_loss: 0.3083 - val_Accuracy: 0.9250 - val_false_negatives: 20.0000 - val_false_positives: 4.0000 - val_true_negatives: 156.0000 - val_true_positives: 140.0000\n",
            "Epoch 23/100\n",
            "40/40 [==============================] - 17s 418ms/step - loss: 0.1045 - Accuracy: 0.9602 - false_negatives: 27.0000 - false_positives: 24.0000 - true_negatives: 616.0000 - true_positives: 613.0000 - val_loss: 0.2589 - val_Accuracy: 0.9344 - val_false_negatives: 18.0000 - val_false_positives: 3.0000 - val_true_negatives: 157.0000 - val_true_positives: 142.0000\n",
            "Epoch 24/100\n",
            "40/40 [==============================] - 17s 421ms/step - loss: 0.0969 - Accuracy: 0.9594 - false_negatives: 25.0000 - false_positives: 27.0000 - true_negatives: 613.0000 - true_positives: 615.0000 - val_loss: 0.1605 - val_Accuracy: 0.9469 - val_false_negatives: 7.0000 - val_false_positives: 10.0000 - val_true_negatives: 150.0000 - val_true_positives: 153.0000\n",
            "Epoch 25/100\n",
            "40/40 [==============================] - 17s 417ms/step - loss: 0.1023 - Accuracy: 0.9578 - false_negatives: 28.0000 - false_positives: 26.0000 - true_negatives: 614.0000 - true_positives: 612.0000 - val_loss: 0.6814 - val_Accuracy: 0.8875 - val_false_negatives: 32.0000 - val_false_positives: 4.0000 - val_true_negatives: 156.0000 - val_true_positives: 128.0000\n",
            "Epoch 26/100\n",
            "40/40 [==============================] - 17s 419ms/step - loss: 0.0977 - Accuracy: 0.9672 - false_negatives: 24.0000 - false_positives: 18.0000 - true_negatives: 622.0000 - true_positives: 616.0000 - val_loss: 0.4887 - val_Accuracy: 0.8906 - val_false_negatives: 15.0000 - val_false_positives: 20.0000 - val_true_negatives: 140.0000 - val_true_positives: 145.0000\n",
            "Epoch 27/100\n",
            "40/40 [==============================] - 17s 420ms/step - loss: 0.0983 - Accuracy: 0.9633 - false_negatives: 22.0000 - false_positives: 25.0000 - true_negatives: 615.0000 - true_positives: 618.0000 - val_loss: 0.3849 - val_Accuracy: 0.8938 - val_false_negatives: 17.0000 - val_false_positives: 17.0000 - val_true_negatives: 143.0000 - val_true_positives: 143.0000\n",
            "Epoch 28/100\n",
            "40/40 [==============================] - 17s 419ms/step - loss: 0.0821 - Accuracy: 0.9734 - false_negatives: 18.0000 - false_positives: 16.0000 - true_negatives: 624.0000 - true_positives: 622.0000 - val_loss: 0.5110 - val_Accuracy: 0.9000 - val_false_negatives: 25.0000 - val_false_positives: 7.0000 - val_true_negatives: 153.0000 - val_true_positives: 135.0000\n",
            "Epoch 29/100\n",
            "40/40 [==============================] - 17s 419ms/step - loss: 0.1152 - Accuracy: 0.9594 - false_negatives: 26.0000 - false_positives: 26.0000 - true_negatives: 614.0000 - true_positives: 614.0000 - val_loss: 0.2541 - val_Accuracy: 0.8969 - val_false_negatives: 4.0000 - val_false_positives: 29.0000 - val_true_negatives: 131.0000 - val_true_positives: 156.0000\n",
            "Epoch 30/100\n",
            "40/40 [==============================] - 17s 417ms/step - loss: 0.1287 - Accuracy: 0.9508 - false_negatives: 33.0000 - false_positives: 30.0000 - true_negatives: 610.0000 - true_positives: 607.0000 - val_loss: 0.3497 - val_Accuracy: 0.8719 - val_false_negatives: 10.0000 - val_false_positives: 31.0000 - val_true_negatives: 129.0000 - val_true_positives: 150.0000\n",
            "Epoch 31/100\n",
            "40/40 [==============================] - 17s 420ms/step - loss: 0.1111 - Accuracy: 0.9625 - false_negatives: 24.0000 - false_positives: 24.0000 - true_negatives: 616.0000 - true_positives: 616.0000 - val_loss: 0.3122 - val_Accuracy: 0.9125 - val_false_negatives: 15.0000 - val_false_positives: 13.0000 - val_true_negatives: 147.0000 - val_true_positives: 145.0000\n",
            "Epoch 32/100\n",
            "40/40 [==============================] - 17s 419ms/step - loss: 0.0846 - Accuracy: 0.9680 - false_negatives: 23.0000 - false_positives: 18.0000 - true_negatives: 622.0000 - true_positives: 617.0000 - val_loss: 0.4668 - val_Accuracy: 0.9094 - val_false_negatives: 27.0000 - val_false_positives: 2.0000 - val_true_negatives: 158.0000 - val_true_positives: 133.0000\n",
            "Epoch 33/100\n",
            "40/40 [==============================] - 17s 420ms/step - loss: 0.0675 - Accuracy: 0.9773 - false_negatives: 15.0000 - false_positives: 14.0000 - true_negatives: 626.0000 - true_positives: 625.0000 - val_loss: 0.2857 - val_Accuracy: 0.9312 - val_false_negatives: 12.0000 - val_false_positives: 10.0000 - val_true_negatives: 150.0000 - val_true_positives: 148.0000\n",
            "Epoch 34/100\n",
            "40/40 [==============================] - 17s 419ms/step - loss: 0.0810 - Accuracy: 0.9688 - false_negatives: 21.0000 - false_positives: 19.0000 - true_negatives: 621.0000 - true_positives: 619.0000 - val_loss: 0.3187 - val_Accuracy: 0.9156 - val_false_negatives: 9.0000 - val_false_positives: 18.0000 - val_true_negatives: 142.0000 - val_true_positives: 151.0000\n",
            "Epoch 35/100\n",
            "40/40 [==============================] - 17s 423ms/step - loss: 0.0670 - Accuracy: 0.9766 - false_negatives: 14.0000 - false_positives: 16.0000 - true_negatives: 624.0000 - true_positives: 626.0000 - val_loss: 0.2071 - val_Accuracy: 0.9438 - val_false_negatives: 11.0000 - val_false_positives: 7.0000 - val_true_negatives: 153.0000 - val_true_positives: 149.0000\n",
            "Epoch 36/100\n",
            "40/40 [==============================] - 17s 416ms/step - loss: 0.0709 - Accuracy: 0.9727 - false_negatives: 20.0000 - false_positives: 15.0000 - true_negatives: 625.0000 - true_positives: 620.0000 - val_loss: 0.2981 - val_Accuracy: 0.9125 - val_false_negatives: 15.0000 - val_false_positives: 13.0000 - val_true_negatives: 147.0000 - val_true_positives: 145.0000\n",
            "Epoch 37/100\n",
            "40/40 [==============================] - 17s 418ms/step - loss: 0.0872 - Accuracy: 0.9680 - false_negatives: 23.0000 - false_positives: 18.0000 - true_negatives: 622.0000 - true_positives: 617.0000 - val_loss: 0.2431 - val_Accuracy: 0.9125 - val_false_negatives: 9.0000 - val_false_positives: 19.0000 - val_true_negatives: 141.0000 - val_true_positives: 151.0000\n",
            "Epoch 38/100\n",
            "40/40 [==============================] - 17s 418ms/step - loss: 0.1145 - Accuracy: 0.9547 - false_negatives: 28.0000 - false_positives: 30.0000 - true_negatives: 610.0000 - true_positives: 612.0000 - val_loss: 0.2987 - val_Accuracy: 0.9250 - val_false_negatives: 16.0000 - val_false_positives: 8.0000 - val_true_negatives: 152.0000 - val_true_positives: 144.0000\n",
            "Epoch 39/100\n",
            "40/40 [==============================] - 17s 428ms/step - loss: 0.0820 - Accuracy: 0.9711 - false_negatives: 18.0000 - false_positives: 19.0000 - true_negatives: 621.0000 - true_positives: 622.0000 - val_loss: 0.3272 - val_Accuracy: 0.9156 - val_false_negatives: 18.0000 - val_false_positives: 9.0000 - val_true_negatives: 151.0000 - val_true_positives: 142.0000\n",
            "Epoch 40/100\n",
            "40/40 [==============================] - 17s 418ms/step - loss: 0.0633 - Accuracy: 0.9750 - false_negatives: 18.0000 - false_positives: 14.0000 - true_negatives: 626.0000 - true_positives: 622.0000 - val_loss: 0.2664 - val_Accuracy: 0.9344 - val_false_negatives: 15.0000 - val_false_positives: 6.0000 - val_true_negatives: 154.0000 - val_true_positives: 145.0000\n",
            "Epoch 41/100\n",
            "40/40 [==============================] - 17s 419ms/step - loss: 0.0745 - Accuracy: 0.9672 - false_negatives: 19.0000 - false_positives: 23.0000 - true_negatives: 617.0000 - true_positives: 621.0000 - val_loss: 0.2370 - val_Accuracy: 0.9375 - val_false_negatives: 15.0000 - val_false_positives: 5.0000 - val_true_negatives: 155.0000 - val_true_positives: 145.0000\n",
            "Epoch 42/100\n",
            "40/40 [==============================] - 17s 420ms/step - loss: 0.0707 - Accuracy: 0.9711 - false_negatives: 18.0000 - false_positives: 19.0000 - true_negatives: 621.0000 - true_positives: 622.0000 - val_loss: 0.2995 - val_Accuracy: 0.9094 - val_false_negatives: 8.0000 - val_false_positives: 21.0000 - val_true_negatives: 139.0000 - val_true_positives: 152.0000\n",
            "Epoch 43/100\n",
            "40/40 [==============================] - 17s 420ms/step - loss: 0.0863 - Accuracy: 0.9648 - false_negatives: 19.0000 - false_positives: 26.0000 - true_negatives: 614.0000 - true_positives: 621.0000 - val_loss: 0.1823 - val_Accuracy: 0.9500 - val_false_negatives: 10.0000 - val_false_positives: 6.0000 - val_true_negatives: 154.0000 - val_true_positives: 150.0000\n",
            "Epoch 44/100\n",
            "40/40 [==============================] - 17s 420ms/step - loss: 0.0696 - Accuracy: 0.9719 - false_negatives: 19.0000 - false_positives: 17.0000 - true_negatives: 623.0000 - true_positives: 621.0000 - val_loss: 0.2217 - val_Accuracy: 0.9375 - val_false_negatives: 10.0000 - val_false_positives: 10.0000 - val_true_negatives: 150.0000 - val_true_positives: 150.0000\n",
            "Epoch 45/100\n",
            "40/40 [==============================] - 17s 417ms/step - loss: 0.0598 - Accuracy: 0.9781 - false_negatives: 14.0000 - false_positives: 14.0000 - true_negatives: 626.0000 - true_positives: 626.0000 - val_loss: 0.2273 - val_Accuracy: 0.9469 - val_false_negatives: 7.0000 - val_false_positives: 10.0000 - val_true_negatives: 150.0000 - val_true_positives: 153.0000\n",
            "Epoch 46/100\n",
            "40/40 [==============================] - 17s 418ms/step - loss: 0.0503 - Accuracy: 0.9812 - false_negatives: 12.0000 - false_positives: 12.0000 - true_negatives: 628.0000 - true_positives: 628.0000 - val_loss: 0.1407 - val_Accuracy: 0.9500 - val_false_negatives: 10.0000 - val_false_positives: 6.0000 - val_true_negatives: 154.0000 - val_true_positives: 150.0000\n",
            "Epoch 47/100\n",
            "40/40 [==============================] - 17s 419ms/step - loss: 0.0856 - Accuracy: 0.9688 - false_negatives: 19.0000 - false_positives: 21.0000 - true_negatives: 619.0000 - true_positives: 621.0000 - val_loss: 0.2584 - val_Accuracy: 0.9375 - val_false_negatives: 15.0000 - val_false_positives: 5.0000 - val_true_negatives: 155.0000 - val_true_positives: 145.0000\n",
            "Epoch 48/100\n",
            "40/40 [==============================] - 17s 417ms/step - loss: 0.0836 - Accuracy: 0.9664 - false_negatives: 24.0000 - false_positives: 19.0000 - true_negatives: 621.0000 - true_positives: 616.0000 - val_loss: 0.2203 - val_Accuracy: 0.9375 - val_false_negatives: 8.0000 - val_false_positives: 12.0000 - val_true_negatives: 148.0000 - val_true_positives: 152.0000\n",
            "Epoch 49/100\n",
            "40/40 [==============================] - 17s 419ms/step - loss: 0.0558 - Accuracy: 0.9758 - false_negatives: 15.0000 - false_positives: 16.0000 - true_negatives: 624.0000 - true_positives: 625.0000 - val_loss: 0.8075 - val_Accuracy: 0.8750 - val_false_negatives: 30.0000 - val_false_positives: 10.0000 - val_true_negatives: 150.0000 - val_true_positives: 130.0000\n",
            "Epoch 50/100\n",
            "40/40 [==============================] - 17s 419ms/step - loss: 0.0648 - Accuracy: 0.9750 - false_negatives: 18.0000 - false_positives: 14.0000 - true_negatives: 626.0000 - true_positives: 622.0000 - val_loss: 0.3329 - val_Accuracy: 0.9219 - val_false_negatives: 15.0000 - val_false_positives: 10.0000 - val_true_negatives: 150.0000 - val_true_positives: 145.0000\n",
            "Epoch 51/100\n",
            "40/40 [==============================] - 17s 421ms/step - loss: 0.0588 - Accuracy: 0.9766 - false_negatives: 17.0000 - false_positives: 13.0000 - true_negatives: 627.0000 - true_positives: 623.0000 - val_loss: 0.1549 - val_Accuracy: 0.9625 - val_false_negatives: 9.0000 - val_false_positives: 3.0000 - val_true_negatives: 157.0000 - val_true_positives: 151.0000\n",
            "Epoch 52/100\n",
            "40/40 [==============================] - 17s 422ms/step - loss: 0.0644 - Accuracy: 0.9766 - false_negatives: 16.0000 - false_positives: 14.0000 - true_negatives: 626.0000 - true_positives: 624.0000 - val_loss: 0.1801 - val_Accuracy: 0.9531 - val_false_negatives: 10.0000 - val_false_positives: 5.0000 - val_true_negatives: 155.0000 - val_true_positives: 150.0000\n",
            "Epoch 53/100\n",
            "40/40 [==============================] - 17s 428ms/step - loss: 0.0830 - Accuracy: 0.9695 - false_negatives: 19.0000 - false_positives: 20.0000 - true_negatives: 620.0000 - true_positives: 621.0000 - val_loss: 0.2073 - val_Accuracy: 0.9563 - val_false_negatives: 8.0000 - val_false_positives: 6.0000 - val_true_negatives: 154.0000 - val_true_positives: 152.0000\n",
            "Epoch 54/100\n",
            "40/40 [==============================] - 17s 416ms/step - loss: 0.0594 - Accuracy: 0.9758 - false_negatives: 17.0000 - false_positives: 14.0000 - true_negatives: 626.0000 - true_positives: 623.0000 - val_loss: 0.2411 - val_Accuracy: 0.9469 - val_false_negatives: 14.0000 - val_false_positives: 3.0000 - val_true_negatives: 157.0000 - val_true_positives: 146.0000\n",
            "Epoch 55/100\n",
            "40/40 [==============================] - 17s 418ms/step - loss: 0.0455 - Accuracy: 0.9797 - false_negatives: 14.0000 - false_positives: 12.0000 - true_negatives: 628.0000 - true_positives: 626.0000 - val_loss: 0.2013 - val_Accuracy: 0.9438 - val_false_negatives: 8.0000 - val_false_positives: 10.0000 - val_true_negatives: 150.0000 - val_true_positives: 152.0000\n",
            "Epoch 56/100\n",
            "40/40 [==============================] - 17s 417ms/step - loss: 0.0576 - Accuracy: 0.9758 - false_negatives: 17.0000 - false_positives: 14.0000 - true_negatives: 626.0000 - true_positives: 623.0000 - val_loss: 0.1685 - val_Accuracy: 0.9500 - val_false_negatives: 8.0000 - val_false_positives: 8.0000 - val_true_negatives: 152.0000 - val_true_positives: 152.0000\n",
            "Epoch 57/100\n",
            "40/40 [==============================] - 17s 422ms/step - loss: 0.0565 - Accuracy: 0.9805 - false_negatives: 12.0000 - false_positives: 13.0000 - true_negatives: 627.0000 - true_positives: 628.0000 - val_loss: 0.2362 - val_Accuracy: 0.9500 - val_false_negatives: 14.0000 - val_false_positives: 2.0000 - val_true_negatives: 158.0000 - val_true_positives: 146.0000\n",
            "Epoch 58/100\n",
            "40/40 [==============================] - 17s 419ms/step - loss: 0.0591 - Accuracy: 0.9789 - false_negatives: 15.0000 - false_positives: 12.0000 - true_negatives: 628.0000 - true_positives: 625.0000 - val_loss: 0.2653 - val_Accuracy: 0.8969 - val_false_negatives: 8.0000 - val_false_positives: 25.0000 - val_true_negatives: 135.0000 - val_true_positives: 152.0000\n",
            "Epoch 59/100\n",
            "40/40 [==============================] - 17s 417ms/step - loss: 0.0998 - Accuracy: 0.9625 - false_negatives: 24.0000 - false_positives: 24.0000 - true_negatives: 616.0000 - true_positives: 616.0000 - val_loss: 0.1906 - val_Accuracy: 0.9438 - val_false_negatives: 12.0000 - val_false_positives: 6.0000 - val_true_negatives: 154.0000 - val_true_positives: 148.0000\n",
            "Epoch 60/100\n",
            "40/40 [==============================] - 17s 422ms/step - loss: 0.0671 - Accuracy: 0.9727 - false_negatives: 16.0000 - false_positives: 19.0000 - true_negatives: 621.0000 - true_positives: 624.0000 - val_loss: 0.2163 - val_Accuracy: 0.9344 - val_false_negatives: 9.0000 - val_false_positives: 12.0000 - val_true_negatives: 148.0000 - val_true_positives: 151.0000\n",
            "Epoch 61/100\n",
            "40/40 [==============================] - 17s 421ms/step - loss: 0.0388 - Accuracy: 0.9859 - false_negatives: 11.0000 - false_positives: 7.0000 - true_negatives: 633.0000 - true_positives: 629.0000 - val_loss: 0.1124 - val_Accuracy: 0.9594 - val_false_negatives: 5.0000 - val_false_positives: 8.0000 - val_true_negatives: 152.0000 - val_true_positives: 155.0000\n",
            "Epoch 62/100\n",
            "40/40 [==============================] - 17s 420ms/step - loss: 0.0438 - Accuracy: 0.9875 - false_negatives: 7.0000 - false_positives: 9.0000 - true_negatives: 631.0000 - true_positives: 633.0000 - val_loss: 0.2339 - val_Accuracy: 0.9344 - val_false_negatives: 18.0000 - val_false_positives: 3.0000 - val_true_negatives: 157.0000 - val_true_positives: 142.0000\n",
            "Epoch 63/100\n",
            "40/40 [==============================] - 17s 419ms/step - loss: 0.0475 - Accuracy: 0.9836 - false_negatives: 9.0000 - false_positives: 12.0000 - true_negatives: 628.0000 - true_positives: 631.0000 - val_loss: 0.4034 - val_Accuracy: 0.9187 - val_false_negatives: 19.0000 - val_false_positives: 7.0000 - val_true_negatives: 153.0000 - val_true_positives: 141.0000\n",
            "Epoch 64/100\n",
            "40/40 [==============================] - 17s 420ms/step - loss: 0.0384 - Accuracy: 0.9844 - false_negatives: 13.0000 - false_positives: 7.0000 - true_negatives: 633.0000 - true_positives: 627.0000 - val_loss: 0.2790 - val_Accuracy: 0.9062 - val_false_negatives: 9.0000 - val_false_positives: 21.0000 - val_true_negatives: 139.0000 - val_true_positives: 151.0000\n",
            "Epoch 65/100\n",
            "40/40 [==============================] - 17s 419ms/step - loss: 0.0457 - Accuracy: 0.9836 - false_negatives: 12.0000 - false_positives: 9.0000 - true_negatives: 631.0000 - true_positives: 628.0000 - val_loss: 0.2415 - val_Accuracy: 0.9375 - val_false_negatives: 11.0000 - val_false_positives: 9.0000 - val_true_negatives: 151.0000 - val_true_positives: 149.0000\n",
            "Epoch 66/100\n",
            "40/40 [==============================] - 17s 417ms/step - loss: 0.0455 - Accuracy: 0.9836 - false_negatives: 11.0000 - false_positives: 10.0000 - true_negatives: 630.0000 - true_positives: 629.0000 - val_loss: 0.1619 - val_Accuracy: 0.9594 - val_false_negatives: 12.0000 - val_false_positives: 1.0000 - val_true_negatives: 159.0000 - val_true_positives: 148.0000\n",
            "Epoch 67/100\n",
            "40/40 [==============================] - 17s 417ms/step - loss: 0.0323 - Accuracy: 0.9867 - false_negatives: 10.0000 - false_positives: 7.0000 - true_negatives: 633.0000 - true_positives: 630.0000 - val_loss: 0.2299 - val_Accuracy: 0.9187 - val_false_negatives: 7.0000 - val_false_positives: 19.0000 - val_true_negatives: 141.0000 - val_true_positives: 153.0000\n",
            "Epoch 68/100\n",
            "40/40 [==============================] - 17s 418ms/step - loss: 0.0345 - Accuracy: 0.9859 - false_negatives: 9.0000 - false_positives: 9.0000 - true_negatives: 631.0000 - true_positives: 631.0000 - val_loss: 0.3276 - val_Accuracy: 0.9281 - val_false_negatives: 15.0000 - val_false_positives: 8.0000 - val_true_negatives: 152.0000 - val_true_positives: 145.0000\n",
            "Epoch 69/100\n",
            "40/40 [==============================] - 17s 415ms/step - loss: 0.0424 - Accuracy: 0.9844 - false_negatives: 9.0000 - false_positives: 11.0000 - true_negatives: 629.0000 - true_positives: 631.0000 - val_loss: 0.1829 - val_Accuracy: 0.9563 - val_false_negatives: 9.0000 - val_false_positives: 5.0000 - val_true_negatives: 155.0000 - val_true_positives: 151.0000\n",
            "Epoch 70/100\n",
            "40/40 [==============================] - 17s 416ms/step - loss: 0.0245 - Accuracy: 0.9906 - false_negatives: 5.0000 - false_positives: 7.0000 - true_negatives: 633.0000 - true_positives: 635.0000 - val_loss: 0.2490 - val_Accuracy: 0.9531 - val_false_negatives: 12.0000 - val_false_positives: 3.0000 - val_true_negatives: 157.0000 - val_true_positives: 148.0000\n",
            "Epoch 71/100\n",
            "40/40 [==============================] - 17s 424ms/step - loss: 0.0288 - Accuracy: 0.9937 - false_negatives: 6.0000 - false_positives: 2.0000 - true_negatives: 638.0000 - true_positives: 634.0000 - val_loss: 0.4649 - val_Accuracy: 0.9344 - val_false_negatives: 16.0000 - val_false_positives: 5.0000 - val_true_negatives: 155.0000 - val_true_positives: 144.0000\n",
            "Epoch 72/100\n",
            "40/40 [==============================] - 17s 417ms/step - loss: 0.0861 - Accuracy: 0.9727 - false_negatives: 20.0000 - false_positives: 15.0000 - true_negatives: 625.0000 - true_positives: 620.0000 - val_loss: 0.1751 - val_Accuracy: 0.9625 - val_false_negatives: 7.0000 - val_false_positives: 5.0000 - val_true_negatives: 155.0000 - val_true_positives: 153.0000\n",
            "Epoch 73/100\n",
            "40/40 [==============================] - 17s 419ms/step - loss: 0.0358 - Accuracy: 0.9898 - false_negatives: 6.0000 - false_positives: 7.0000 - true_negatives: 633.0000 - true_positives: 634.0000 - val_loss: 0.5477 - val_Accuracy: 0.9250 - val_false_negatives: 21.0000 - val_false_positives: 3.0000 - val_true_negatives: 157.0000 - val_true_positives: 139.0000\n",
            "Epoch 74/100\n",
            "40/40 [==============================] - 17s 417ms/step - loss: 0.0552 - Accuracy: 0.9789 - false_negatives: 14.0000 - false_positives: 13.0000 - true_negatives: 627.0000 - true_positives: 626.0000 - val_loss: 0.2951 - val_Accuracy: 0.9312 - val_false_negatives: 15.0000 - val_false_positives: 7.0000 - val_true_negatives: 153.0000 - val_true_positives: 145.0000\n",
            "Epoch 75/100\n",
            "40/40 [==============================] - 17s 419ms/step - loss: 0.0378 - Accuracy: 0.9867 - false_negatives: 8.0000 - false_positives: 9.0000 - true_negatives: 631.0000 - true_positives: 632.0000 - val_loss: 0.2364 - val_Accuracy: 0.9438 - val_false_negatives: 10.0000 - val_false_positives: 8.0000 - val_true_negatives: 152.0000 - val_true_positives: 150.0000\n",
            "Epoch 76/100\n",
            "40/40 [==============================] - 17s 419ms/step - loss: 0.0645 - Accuracy: 0.9766 - false_negatives: 14.0000 - false_positives: 16.0000 - true_negatives: 624.0000 - true_positives: 626.0000 - val_loss: 0.2280 - val_Accuracy: 0.9563 - val_false_negatives: 12.0000 - val_false_positives: 2.0000 - val_true_negatives: 158.0000 - val_true_positives: 148.0000\n",
            "Epoch 77/100\n",
            "40/40 [==============================] - 17s 418ms/step - loss: 0.0383 - Accuracy: 0.9859 - false_negatives: 7.0000 - false_positives: 11.0000 - true_negatives: 629.0000 - true_positives: 633.0000 - val_loss: 0.1942 - val_Accuracy: 0.9500 - val_false_negatives: 4.0000 - val_false_positives: 12.0000 - val_true_negatives: 148.0000 - val_true_positives: 156.0000\n",
            "Epoch 78/100\n",
            "40/40 [==============================] - 17s 419ms/step - loss: 0.0250 - Accuracy: 0.9914 - false_negatives: 5.0000 - false_positives: 6.0000 - true_negatives: 634.0000 - true_positives: 635.0000 - val_loss: 0.1694 - val_Accuracy: 0.9625 - val_false_negatives: 8.0000 - val_false_positives: 4.0000 - val_true_negatives: 156.0000 - val_true_positives: 152.0000\n",
            "Epoch 79/100\n",
            "40/40 [==============================] - 17s 416ms/step - loss: 0.0166 - Accuracy: 0.9930 - false_negatives: 4.0000 - false_positives: 5.0000 - true_negatives: 635.0000 - true_positives: 636.0000 - val_loss: 0.2073 - val_Accuracy: 0.9563 - val_false_negatives: 8.0000 - val_false_positives: 6.0000 - val_true_negatives: 154.0000 - val_true_positives: 152.0000\n",
            "Epoch 80/100\n",
            "40/40 [==============================] - 17s 418ms/step - loss: 0.0311 - Accuracy: 0.9867 - false_negatives: 8.0000 - false_positives: 9.0000 - true_negatives: 631.0000 - true_positives: 632.0000 - val_loss: 0.1957 - val_Accuracy: 0.9594 - val_false_negatives: 10.0000 - val_false_positives: 3.0000 - val_true_negatives: 157.0000 - val_true_positives: 150.0000\n",
            "Epoch 81/100\n",
            "40/40 [==============================] - 17s 418ms/step - loss: 0.0134 - Accuracy: 0.9969 - false_negatives: 3.0000 - false_positives: 1.0000 - true_negatives: 639.0000 - true_positives: 637.0000 - val_loss: 0.1857 - val_Accuracy: 0.9594 - val_false_negatives: 8.0000 - val_false_positives: 5.0000 - val_true_negatives: 155.0000 - val_true_positives: 152.0000\n",
            "Epoch 82/100\n",
            "40/40 [==============================] - 17s 418ms/step - loss: 0.0186 - Accuracy: 0.9930 - false_negatives: 6.0000 - false_positives: 3.0000 - true_negatives: 637.0000 - true_positives: 634.0000 - val_loss: 0.1413 - val_Accuracy: 0.9594 - val_false_negatives: 7.0000 - val_false_positives: 6.0000 - val_true_negatives: 154.0000 - val_true_positives: 153.0000\n",
            "Epoch 83/100\n",
            "40/40 [==============================] - 17s 418ms/step - loss: 0.0359 - Accuracy: 0.9805 - false_negatives: 13.0000 - false_positives: 12.0000 - true_negatives: 628.0000 - true_positives: 627.0000 - val_loss: 0.1195 - val_Accuracy: 0.9563 - val_false_negatives: 6.0000 - val_false_positives: 8.0000 - val_true_negatives: 152.0000 - val_true_positives: 154.0000\n",
            "Epoch 84/100\n",
            "40/40 [==============================] - 17s 415ms/step - loss: 0.0619 - Accuracy: 0.9758 - false_negatives: 14.0000 - false_positives: 17.0000 - true_negatives: 623.0000 - true_positives: 626.0000 - val_loss: 0.6601 - val_Accuracy: 0.8906 - val_false_negatives: 24.0000 - val_false_positives: 11.0000 - val_true_negatives: 149.0000 - val_true_positives: 136.0000\n",
            "Epoch 85/100\n",
            "40/40 [==============================] - 17s 418ms/step - loss: 0.0477 - Accuracy: 0.9820 - false_negatives: 11.0000 - false_positives: 12.0000 - true_negatives: 628.0000 - true_positives: 629.0000 - val_loss: 0.2268 - val_Accuracy: 0.9469 - val_false_negatives: 6.0000 - val_false_positives: 11.0000 - val_true_negatives: 149.0000 - val_true_positives: 154.0000\n",
            "Epoch 86/100\n",
            "40/40 [==============================] - 17s 420ms/step - loss: 0.0740 - Accuracy: 0.9781 - false_negatives: 12.0000 - false_positives: 16.0000 - true_negatives: 624.0000 - true_positives: 628.0000 - val_loss: 0.1794 - val_Accuracy: 0.9688 - val_false_negatives: 5.0000 - val_false_positives: 5.0000 - val_true_negatives: 155.0000 - val_true_positives: 155.0000\n",
            "Epoch 87/100\n",
            "40/40 [==============================] - 17s 417ms/step - loss: 0.0807 - Accuracy: 0.9711 - false_negatives: 21.0000 - false_positives: 16.0000 - true_negatives: 624.0000 - true_positives: 619.0000 - val_loss: 0.1484 - val_Accuracy: 0.9469 - val_false_negatives: 8.0000 - val_false_positives: 9.0000 - val_true_negatives: 151.0000 - val_true_positives: 152.0000\n",
            "Epoch 88/100\n",
            "40/40 [==============================] - 17s 425ms/step - loss: 0.0396 - Accuracy: 0.9883 - false_negatives: 9.0000 - false_positives: 6.0000 - true_negatives: 634.0000 - true_positives: 631.0000 - val_loss: 0.1719 - val_Accuracy: 0.9594 - val_false_negatives: 7.0000 - val_false_positives: 6.0000 - val_true_negatives: 154.0000 - val_true_positives: 153.0000\n",
            "Epoch 89/100\n",
            "40/40 [==============================] - 17s 418ms/step - loss: 0.0259 - Accuracy: 0.9930 - false_negatives: 4.0000 - false_positives: 5.0000 - true_negatives: 635.0000 - true_positives: 636.0000 - val_loss: 0.2796 - val_Accuracy: 0.9500 - val_false_negatives: 15.0000 - val_false_positives: 1.0000 - val_true_negatives: 159.0000 - val_true_positives: 145.0000\n",
            "Epoch 90/100\n",
            "40/40 [==============================] - 17s 419ms/step - loss: 0.0597 - Accuracy: 0.9789 - false_negatives: 16.0000 - false_positives: 11.0000 - true_negatives: 629.0000 - true_positives: 624.0000 - val_loss: 0.2237 - val_Accuracy: 0.9438 - val_false_negatives: 12.0000 - val_false_positives: 6.0000 - val_true_negatives: 154.0000 - val_true_positives: 148.0000\n",
            "Epoch 91/100\n",
            "40/40 [==============================] - 17s 417ms/step - loss: 0.0442 - Accuracy: 0.9820 - false_negatives: 12.0000 - false_positives: 11.0000 - true_negatives: 629.0000 - true_positives: 628.0000 - val_loss: 0.2309 - val_Accuracy: 0.9469 - val_false_negatives: 15.0000 - val_false_positives: 2.0000 - val_true_negatives: 158.0000 - val_true_positives: 145.0000\n",
            "Epoch 92/100\n",
            "40/40 [==============================] - 17s 418ms/step - loss: 0.0227 - Accuracy: 0.9922 - false_negatives: 6.0000 - false_positives: 4.0000 - true_negatives: 636.0000 - true_positives: 634.0000 - val_loss: 0.1483 - val_Accuracy: 0.9688 - val_false_negatives: 8.0000 - val_false_positives: 2.0000 - val_true_negatives: 158.0000 - val_true_positives: 152.0000\n",
            "Epoch 93/100\n",
            "40/40 [==============================] - 17s 418ms/step - loss: 0.0255 - Accuracy: 0.9914 - false_negatives: 5.0000 - false_positives: 6.0000 - true_negatives: 634.0000 - true_positives: 635.0000 - val_loss: 0.3205 - val_Accuracy: 0.9406 - val_false_negatives: 16.0000 - val_false_positives: 3.0000 - val_true_negatives: 157.0000 - val_true_positives: 144.0000\n",
            "Epoch 94/100\n",
            "40/40 [==============================] - 17s 417ms/step - loss: 0.0191 - Accuracy: 0.9930 - false_negatives: 4.0000 - false_positives: 5.0000 - true_negatives: 635.0000 - true_positives: 636.0000 - val_loss: 0.1912 - val_Accuracy: 0.9563 - val_false_negatives: 11.0000 - val_false_positives: 3.0000 - val_true_negatives: 157.0000 - val_true_positives: 149.0000\n",
            "Epoch 95/100\n",
            "40/40 [==============================] - 17s 417ms/step - loss: 0.0220 - Accuracy: 0.9922 - false_negatives: 3.0000 - false_positives: 7.0000 - true_negatives: 633.0000 - true_positives: 637.0000 - val_loss: 0.1656 - val_Accuracy: 0.9625 - val_false_negatives: 10.0000 - val_false_positives: 2.0000 - val_true_negatives: 158.0000 - val_true_positives: 150.0000\n",
            "Epoch 96/100\n",
            "40/40 [==============================] - 17s 419ms/step - loss: 0.0192 - Accuracy: 0.9898 - false_negatives: 7.0000 - false_positives: 6.0000 - true_negatives: 634.0000 - true_positives: 633.0000 - val_loss: 0.2484 - val_Accuracy: 0.9563 - val_false_negatives: 7.0000 - val_false_positives: 7.0000 - val_true_negatives: 153.0000 - val_true_positives: 153.0000\n",
            "Epoch 97/100\n",
            "40/40 [==============================] - 17s 418ms/step - loss: 0.0309 - Accuracy: 0.9844 - false_negatives: 11.0000 - false_positives: 9.0000 - true_negatives: 631.0000 - true_positives: 629.0000 - val_loss: 0.2459 - val_Accuracy: 0.9469 - val_false_negatives: 8.0000 - val_false_positives: 9.0000 - val_true_negatives: 151.0000 - val_true_positives: 152.0000\n",
            "Epoch 98/100\n",
            "40/40 [==============================] - 17s 418ms/step - loss: 0.0339 - Accuracy: 0.9859 - false_negatives: 9.0000 - false_positives: 9.0000 - true_negatives: 631.0000 - true_positives: 631.0000 - val_loss: 0.1606 - val_Accuracy: 0.9625 - val_false_negatives: 11.0000 - val_false_positives: 1.0000 - val_true_negatives: 159.0000 - val_true_positives: 149.0000\n",
            "Epoch 99/100\n",
            "40/40 [==============================] - 17s 415ms/step - loss: 0.0172 - Accuracy: 0.9930 - false_negatives: 6.0000 - false_positives: 3.0000 - true_negatives: 637.0000 - true_positives: 634.0000 - val_loss: 0.1774 - val_Accuracy: 0.9594 - val_false_negatives: 11.0000 - val_false_positives: 2.0000 - val_true_negatives: 158.0000 - val_true_positives: 149.0000\n",
            "Epoch 100/100\n",
            "40/40 [==============================] - 17s 420ms/step - loss: 0.0266 - Accuracy: 0.9875 - false_negatives: 7.0000 - false_positives: 9.0000 - true_negatives: 631.0000 - true_positives: 633.0000 - val_loss: 0.2727 - val_Accuracy: 0.9656 - val_false_negatives: 10.0000 - val_false_positives: 1.0000 - val_true_negatives: 159.0000 - val_true_positives: 150.0000\n"
          ]
        }
      ]
    },
    {
      "cell_type": "markdown",
      "source": [
        "Plotting Traning Result"
      ],
      "metadata": {
        "id": "XZSFG8fXqz7c"
      }
    },
    {
      "cell_type": "code",
      "source": [
        "  #plotting\n",
        "  epochs = range(1, len(history.history['loss'])+1)\n",
        "  plt.title(f\"Grafik loss training iterasi {iterasi}\")\n",
        "  plt.plot(epochs, history.history['loss'], 'r', label='Training Loss')\n",
        "  plt.plot(epochs, history.history['val_loss'], 'b', label='Validation Loss')    \n",
        "  plt.xlabel(\"Epoch\")\n",
        "  plt.ylabel(\"Loss\")\n",
        "  plt.legend()\n",
        "  plt.show()\n"
      ],
      "metadata": {
        "id": "3dXbDrJpY1NK",
        "colab": {
          "base_uri": "https://localhost:8080/",
          "height": 295
        },
        "outputId": "49e9e1fc-2b25-4198-968f-a5016c028d91"
      },
      "execution_count": 12,
      "outputs": [
        {
          "output_type": "display_data",
          "data": {
            "text/plain": [
              "<Figure size 432x288 with 1 Axes>"
            ],
            "image/png": "[encoded data removed]"
          },
          "metadata": {
            "needs_background": "light"
          }
        }
      ]
    },
    {
      "cell_type": "code",
      "source": [
        "  #plotting\n",
        "  epochs = range(1, len(history.history['loss'])+1)\n",
        "  plt.title(f\"Grafik Akurasi training iterasi {iterasi}\")\n",
        "  plt.plot(epochs, history.history['Accuracy'], 'r', label='Training Accuracy')\n",
        "  plt.plot(epochs, history.history['val_Accuracy'], 'b', label='Validation Accuracy')    \n",
        "  plt.xlabel(\"Epoch\")\n",
        "  plt.ylabel(\"Accuracy\")\n",
        "  plt.legend()\n",
        "  plt.show()"
      ],
      "metadata": {
        "id": "j3xigprPwlSX",
        "colab": {
          "base_uri": "https://localhost:8080/",
          "height": 295
        },
        "outputId": "2d646532-5c73-417e-931a-e527ff3020d6"
      },
      "execution_count": 13,
      "outputs": [
        {
          "output_type": "display_data",
          "data": {
            "text/plain": [
              "<Figure size 432x288 with 1 Axes>"
            ],
            "image/png": "[encoded data removed]"
          },
          "metadata": {
            "needs_background": "light"
          }
        }
      ]
    },
    {
      "cell_type": "markdown",
      "metadata": {
        "id": "bTgk1-sdzmgy"
      },
      "source": [
        "**Validating** Network"
      ]
    },
    {
      "cell_type": "code",
      "source": [
        "import matplotlib.pyplot as plt\n",
        "from sklearn.datasets import make_classification\n",
        "from numpy import mean\n",
        "from sklearn.metrics import confusion_matrix, ConfusionMatrixDisplay, accuracy_score, classification_report, recall_score\n",
        "\n",
        "#Creating list for correct label\n",
        "correct_labels = []\n",
        "for i in range(len(image_labels_validation)):\n",
        "  pr = image_labels_validation[i]\n",
        "  output = label_binarizer.inverse_transform(pr)\n",
        "  correct_labels.append(output[0])\n",
        "\n",
        "#Creating list for predicted label\n",
        "predicted_labels = []\n",
        "for i in range(len(np_image_list_validation)):\n",
        "  test_img = np_image_list_validation[i]\n",
        "  test_img = np.expand_dims(test_img, axis=0)\n",
        "  pr=model.predict(test_img)\n",
        "  output = label_binarizer.inverse_transform(pr)\n",
        "  predicted_labels.append(output[0])\n",
        "\n",
        "#creating confusion matrix by comparing both list\n",
        "confusion_matrix = confusion_matrix(correct_labels, predicted_labels)\n",
        "disp = ConfusionMatrixDisplay(confusion_matrix=confusion_matrix)  \n",
        "disp.plot()\n",
        "plt.show()\n",
        "print('--------')\n",
        "\n",
        "FP = confusion_matrix.sum(axis=0) - np.diag(confusion_matrix)  \n",
        "FN = confusion_matrix.sum(axis=1) - np.diag(confusion_matrix)\n",
        "TP = np.diag(confusion_matrix)\n",
        "TN = confusion_matrix.sum() - (FP + FN + TP)\n",
        "\n",
        "# Sensitivity, hit rate, recall, or true positive rate\n",
        "sensitivity = TP/(TP+FN)\n",
        "# Specificity or true negative rate\n",
        "specificity = TN/(TN+FP) \n",
        "# Overall accuracy\n",
        "accuracy = (TP+TN)/(TP+FP+FN+TN)\n",
        "\n",
        "print(TP)\n",
        "print(TN)\n",
        "print(FP)\n",
        "print(FN)\n",
        "print('--------')\n",
        "print(accuracy)\n",
        "print(sensitivity)\n",
        "print(specificity)\n",
        "print('--------')\n",
        "\n"
      ],
      "metadata": {
        "colab": {
          "base_uri": "https://localhost:8080/",
          "height": 453
        },
        "id": "d_NBE4KkWuhu",
        "outputId": "1e49f0ff-438d-41a1-99c4-0802b69bbac3"
      },
      "execution_count": 14,
      "outputs": [
        {
          "output_type": "display_data",
          "data": {
            "text/plain": [
              "<Figure size 432x288 with 2 Axes>"
            ],
            "image/png": "[encoded data removed]"
          },
          "metadata": {
            "needs_background": "light"
          }
        },
        {
          "output_type": "stream",
          "name": "stdout",
          "text": [
            "--------\n",
            "[159 150]\n",
            "[150 159]\n",
            "[10  1]\n",
            "[ 1 10]\n",
            "--------\n",
            "[0.965625 0.965625]\n",
            "[0.99375 0.9375 ]\n",
            "[0.9375  0.99375]\n",
            "--------\n"
          ]
        }
      ]
    },
    {
      "cell_type": "markdown",
      "source": [
        "**Testing** Network"
      ],
      "metadata": {
        "id": "saJYjKqX9tRL"
      }
    },
    {
      "cell_type": "code",
      "source": [
        "import matplotlib.pyplot as plt\n",
        "from sklearn.datasets import make_classification\n",
        "from numpy import mean\n",
        "from sklearn.metrics import confusion_matrix, ConfusionMatrixDisplay, accuracy_score, classification_report, recall_score\n",
        "\n",
        "#Creating list for correct label\n",
        "correct_labels = []\n",
        "for i in range(len(image_labels_test)):\n",
        "  pr = image_labels_test[i]\n",
        "  output = label_binarizer.inverse_transform(pr)\n",
        "  correct_labels.append(output[0])\n",
        "\n",
        "#Creating list for predicted label\n",
        "predicted_labels = []\n",
        "for i in range(len(np_image_list_test)):\n",
        "  test_img = np_image_list_test[i]\n",
        "  test_img = np.expand_dims(test_img, axis=0)\n",
        "  pr=model.predict(test_img)\n",
        "  output = label_binarizer.inverse_transform(pr)\n",
        "  predicted_labels.append(output[0])\n",
        "\n",
        "#creating confusion matrix by comparing both list\n",
        "confusion_matrix = confusion_matrix(correct_labels, predicted_labels)\n",
        "disp = ConfusionMatrixDisplay(confusion_matrix=confusion_matrix)  \n",
        "disp.plot()\n",
        "plt.show()\n",
        "print('--------')\n",
        "\n",
        "FP = confusion_matrix.sum(axis=0) - np.diag(confusion_matrix)  \n",
        "FN = confusion_matrix.sum(axis=1) - np.diag(confusion_matrix)\n",
        "TP = np.diag(confusion_matrix)\n",
        "TN = confusion_matrix.sum() - (FP + FN + TP)\n",
        "\n",
        "# Sensitivity, hit rate, recall, or true positive rate\n",
        "sensitivity = TP/(TP+FN)\n",
        "# Specificity or true negative rate\n",
        "specificity = TN/(TN+FP) \n",
        "# Overall accuracy\n",
        "accuracy = (TP+TN)/(TP+FP+FN+TN)\n",
        "\n",
        "print(TP)\n",
        "print(TN)\n",
        "print(FP)\n",
        "print(FN)\n",
        "print('--------')\n",
        "print(accuracy)\n",
        "print(sensitivity)\n",
        "print(specificity)\n",
        "print('--------')"
      ],
      "metadata": {
        "colab": {
          "base_uri": "https://localhost:8080/",
          "height": 453
        },
        "id": "A7DR52hmTc75",
        "outputId": "17661774-b5b6-46b8-dee6-50b6d3b11fb8"
      },
      "execution_count": 15,
      "outputs": [
        {
          "output_type": "display_data",
          "data": {
            "text/plain": [
              "<Figure size 432x288 with 2 Axes>"
            ],
            "image/png": "[encoded data removed]"
          },
          "metadata": {
            "needs_background": "light"
          }
        },
        {
          "output_type": "stream",
          "name": "stdout",
          "text": [
            "--------\n",
            "[194 189]\n",
            "[189 194]\n",
            "[11  6]\n",
            "[ 6 11]\n",
            "--------\n",
            "[0.9575 0.9575]\n",
            "[0.97  0.945]\n",
            "[0.945 0.97 ]\n",
            "--------\n"
          ]
        }
      ]
    }
  ]
}