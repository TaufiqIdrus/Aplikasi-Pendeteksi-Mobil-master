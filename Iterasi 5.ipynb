{
  "nbformat": 4,
  "nbformat_minor": 0,
  "metadata": {
    "accelerator": "GPU",
    "colab": {
      "name": "Kodingan Skripsi 3",
      "provenance": [],
      "collapsed_sections": [],
      "include_colab_link": true
    },
    "kernelspec": {
      "display_name": "Python 3",
      "language": "python",
      "name": "python3"
    },
    "language_info": {
      "codemirror_mode": {
        "name": "ipython",
        "version": 3
      },
      "file_extension": ".py",
      "mimetype": "text/x-python",
      "name": "python",
      "nbconvert_exporter": "python",
      "pygments_lexer": "ipython3",
      "version": "3.6.6"
    }
  },
  "cells": [
    {
      "cell_type": "markdown",
      "metadata": {
        "id": "view-in-github",
        "colab_type": "text"
      },
      "source": [
        "<a href=\"https://colab.research.google.com/github/TaufiqIdrus/Aplikasi-Pendeteksi-Mobil-master/blob/master/Iterasi%205.ipynb\" target=\"_parent\"><img src=\"https://colab.research.google.com/assets/colab-badge.svg\" alt=\"Open In Colab\"/></a>"
      ]
    },
    {
      "cell_type": "markdown",
      "metadata": {
        "id": "yJT_kQA2lITS"
      },
      "source": [
        "**Identifikasi Penyakit Pada Tanaman Apel menggunakan Convolutional Neural Network**"
      ]
    },
    {
      "cell_type": "code",
      "metadata": {
        "id": "xXeOaYTUzmgT"
      },
      "source": [
        "import numpy as np\n",
        "import pickle\n",
        "import os\n",
        "import cv2\n",
        "import tensorflow as tf\n",
        "import keras\n",
        "from os import listdir\n",
        "from sklearn.preprocessing import LabelBinarizer\n",
        "from sklearn.model_selection import KFold\n",
        "from keras.models import Sequential\n",
        "from keras.layers.normalization import batch_normalization\n",
        "from keras.layers.convolutional import Conv2D\n",
        "from keras.layers.convolutional import MaxPooling2D\n",
        "from keras.layers.core import Activation, Flatten, Dropout, Dense\n",
        "from keras import backend as K\n",
        "from tensorflow.keras.optimizers import Adam\n",
        "from keras.preprocessing import image\n",
        "from sklearn.preprocessing import MultiLabelBinarizer\n",
        "from sklearn.model_selection import train_test_split\n",
        "import matplotlib.pyplot as plt\n",
        "from sklearn.datasets import make_classification\n",
        "from numpy import mean\n",
        "from sklearn.metrics import confusion_matrix, ConfusionMatrixDisplay, accuracy_score, classification_report, recall_score\n"
      ],
      "execution_count": 1,
      "outputs": []
    },
    {
      "cell_type": "markdown",
      "metadata": {
        "id": "fp8C0d28lQok"
      },
      "source": [
        "Importing and Preparing Dataset"
      ]
    },
    {
      "cell_type": "code",
      "metadata": {
        "id": "_0xehllADlUs",
        "colab": {
          "base_uri": "https://localhost:8080/"
        },
        "outputId": "6b25b015-6670-468a-8941-733fbff8c024"
      },
      "source": [
        "!pip install pyunpack\n",
        "!pip install patool\n",
        "from pyunpack import Archive\n",
        "Archive('/content/Fold 5.rar').extractall('/content/Datasets/')\n",
        "iterasi = 5\n",
        "width=256\n",
        "height=256\n",
        "default_image_size = tuple((height, width))\n",
        "directory_root_train = '/content/Datasets/Fold 5/Train'\n",
        "directory_root_validation = '/content/Datasets/Fold 5/Validation'\n",
        "directory_root_test = '/content/Datasets/Fold 5/Test'\n",
        "image_size = 0\n",
        "depth=3"
      ],
      "execution_count": 2,
      "outputs": [
        {
          "output_type": "stream",
          "name": "stdout",
          "text": [
            "Collecting pyunpack\n",
            "  Downloading pyunpack-0.2.2-py2.py3-none-any.whl (3.8 kB)\n",
            "Collecting entrypoint2\n",
            "  Downloading entrypoint2-1.0-py3-none-any.whl (9.8 kB)\n",
            "Collecting easyprocess\n",
            "  Downloading EasyProcess-1.1-py3-none-any.whl (8.7 kB)\n",
            "Installing collected packages: entrypoint2, easyprocess, pyunpack\n",
            "Successfully installed easyprocess-1.1 entrypoint2-1.0 pyunpack-0.2.2\n",
            "Collecting patool\n",
            "  Downloading patool-1.12-py2.py3-none-any.whl (77 kB)\n",
            "\u001b[K     |████████████████████████████████| 77 kB 3.2 MB/s \n",
            "\u001b[?25hInstalling collected packages: patool\n",
            "Successfully installed patool-1.12\n"
          ]
        }
      ]
    },
    {
      "cell_type": "code",
      "metadata": {
        "id": "KbAwJJTpzmge"
      },
      "source": [
        "def convert_image_to_array(image_dir):\n",
        "    try:\n",
        "        image = cv2.imread(image_dir)\n",
        "        if image is not None :\n",
        "            image = cv2.resize(image, default_image_size)   \n",
        "            return keras.preprocessing.image.img_to_array(image)\n",
        "        else :\n",
        "            return np.array([])\n",
        "    except Exception as e:\n",
        "        print(f\"Error : {e}\")\n",
        "        return None"
      ],
      "execution_count": 3,
      "outputs": []
    },
    {
      "cell_type": "markdown",
      "source": [
        "Converting **Training** Data to Array"
      ],
      "metadata": {
        "id": "bgXxUMO2cI_D"
      }
    },
    {
      "cell_type": "code",
      "metadata": {
        "id": "Erz6IjKXzmgg",
        "colab": {
          "base_uri": "https://localhost:8080/"
        },
        "outputId": "fabb3251-6ee0-4619-c447-bc903c57622c"
      },
      "source": [
        "image_list_train, label_list_train = [], []\n",
        "try:\n",
        "    print(\"[INFO] Loading images ...\")\n",
        "    root_dir = listdir(directory_root_train)\n",
        "\n",
        "    for plant_disease_folder in root_dir:\n",
        "        print(f\"[INFO] Processing {plant_disease_folder} ...\")\n",
        "        plant_disease_image_list = listdir(f\"{directory_root_train}/{plant_disease_folder}/\")\n",
        "      \n",
        "        for image in plant_disease_image_list:\n",
        "            image_directory = f\"{directory_root_train}/{plant_disease_folder}/{image}\"\n",
        "\n",
        "            if image_directory.endswith(\".jpg\") == True or image_directory.endswith(\".JPG\") == True:\n",
        "                image_list_train.append(convert_image_to_array(image_directory))\n",
        "                label_list_train.append(plant_disease_folder)\n",
        "    print(\"[INFO] Image loading completed\")\n",
        "\n",
        "except Exception as e:\n",
        "    print(f\"Error : {e}\")\n",
        "\n",
        "#image labeling\n",
        "image_size = len(image_list_train)\n",
        "label_binarizer = LabelBinarizer()\n",
        "image_labels_train = label_binarizer.fit_transform(label_list_train)\n",
        "pickle.dump(label_binarizer,open('label_transform_train.pkl', 'wb'))\n",
        "n_classes = len(label_binarizer.classes_)\n",
        "np_image_list_train = np.array(image_list_train, dtype=np.float16) / 255.0"
      ],
      "execution_count": 4,
      "outputs": [
        {
          "output_type": "stream",
          "name": "stdout",
          "text": [
            "[INFO] Loading images ...\n",
            "[INFO] Processing Apple___Black_rot ...\n",
            "[INFO] Processing Apple___Cedar_apple_rust ...\n",
            "[INFO] Processing Apple___healthy ...\n",
            "[INFO] Processing Apple___Apple_scab ...\n",
            "[INFO] Image loading completed\n"
          ]
        }
      ]
    },
    {
      "cell_type": "markdown",
      "source": [
        "Converting **Validation** Data to Array"
      ],
      "metadata": {
        "id": "7eEMGiqRd_E4"
      }
    },
    {
      "cell_type": "code",
      "source": [
        "image_list_validation, label_list_validation = [], []\n",
        "try:\n",
        "    print(\"[INFO] Loading images ...\")\n",
        "    root_dir = listdir(directory_root_validation)\n",
        "\n",
        "    for plant_disease_folder in root_dir:\n",
        "        print(f\"[INFO] Processing {plant_disease_folder} ...\")\n",
        "        plant_disease_image_list = listdir(f\"{directory_root_validation}/{plant_disease_folder}/\")\n",
        "      \n",
        "        for image in plant_disease_image_list:\n",
        "            image_directory = f\"{directory_root_validation}/{plant_disease_folder}/{image}\"\n",
        "\n",
        "            if image_directory.endswith(\".jpg\") == True or image_directory.endswith(\".JPG\") == True:\n",
        "                image_list_validation.append(convert_image_to_array(image_directory))\n",
        "                label_list_validation.append(plant_disease_folder)\n",
        "    print(\"[INFO] Image loading completed\")\n",
        "\n",
        "except Exception as e:\n",
        "    print(f\"Error : {e}\")\n",
        "\n",
        "#image labeling\n",
        "image_size = len(image_list_validation)\n",
        "label_binarizer = LabelBinarizer()\n",
        "image_labels_validation = label_binarizer.fit_transform(label_list_validation)\n",
        "pickle.dump(label_binarizer,open('label_transform_validation.pkl', 'wb'))\n",
        "n_classes = len(label_binarizer.classes_)\n",
        "np_image_list_validation = np.array(image_list_validation, dtype=np.float16) / 255.0"
      ],
      "metadata": {
        "id": "wfHDdR0ZeEuU",
        "colab": {
          "base_uri": "https://localhost:8080/"
        },
        "outputId": "f42381d7-6bfe-4f69-8061-e1f5dda6272e"
      },
      "execution_count": 5,
      "outputs": [
        {
          "output_type": "stream",
          "name": "stdout",
          "text": [
            "[INFO] Loading images ...\n",
            "[INFO] Processing Apple___Black_rot ...\n",
            "[INFO] Processing Apple___Cedar_apple_rust ...\n",
            "[INFO] Processing Apple___healthy ...\n",
            "[INFO] Processing Apple___Apple_scab ...\n",
            "[INFO] Image loading completed\n"
          ]
        }
      ]
    },
    {
      "cell_type": "markdown",
      "source": [
        "Converting **Testing** Data to Array"
      ],
      "metadata": {
        "id": "brwWyZVncTdg"
      }
    },
    {
      "cell_type": "code",
      "metadata": {
        "id": "uNPby5UMcaWY",
        "colab": {
          "base_uri": "https://localhost:8080/"
        },
        "outputId": "a0f90d01-0703-4030-8fcb-58c17436e4bc"
      },
      "source": [
        "image_list_test, label_list_test = [], []\n",
        "try:\n",
        "    print(\"[INFO] Loading images ...\")\n",
        "    root_dir = listdir(directory_root_test)\n",
        "\n",
        "    for plant_disease_folder in root_dir:\n",
        "        print(f\"[INFO] Processing {plant_disease_folder} ...\")\n",
        "        plant_disease_image_list = listdir(f\"{directory_root_test}/{plant_disease_folder}/\")\n",
        "      \n",
        "        for image in plant_disease_image_list:\n",
        "            image_directory = f\"{directory_root_test}/{plant_disease_folder}/{image}\"\n",
        "\n",
        "            if image_directory.endswith(\".jpg\") == True or image_directory.endswith(\".JPG\") == True:\n",
        "                image_list_test.append(convert_image_to_array(image_directory))\n",
        "                label_list_test.append(plant_disease_folder)\n",
        "    print(\"[INFO] Image loading completed\")\n",
        "\n",
        "except Exception as e:\n",
        "    print(f\"Error : {e}\")\n",
        "\n",
        "#image labeling\n",
        "image_size = len(image_list_test)\n",
        "label_binarizer = LabelBinarizer()\n",
        "image_labels_test = label_binarizer.fit_transform(label_list_test)\n",
        "pickle.dump(label_binarizer,open('label_transform_test.pkl', 'wb'))\n",
        "n_classes = len(label_binarizer.classes_)\n",
        "np_image_list_test = np.array(image_list_test, dtype=np.float16) / 255.0"
      ],
      "execution_count": 6,
      "outputs": [
        {
          "output_type": "stream",
          "name": "stdout",
          "text": [
            "[INFO] Loading images ...\n",
            "[INFO] Processing Apple___Black_rot ...\n",
            "[INFO] Processing Apple___Cedar_apple_rust ...\n",
            "[INFO] Processing Apple___healthy ...\n",
            "[INFO] Processing Apple___Apple_scab ...\n",
            "[INFO] Image loading completed\n"
          ]
        }
      ]
    },
    {
      "cell_type": "markdown",
      "metadata": {
        "id": "jYBTFN0CnAi7"
      },
      "source": [
        "Data Augmenting Initialization"
      ]
    },
    {
      "cell_type": "code",
      "metadata": {
        "id": "TLMxMK2Tzmgr"
      },
      "source": [
        "aug = keras.preprocessing.image.ImageDataGenerator(\n",
        "    rotation_range=25, \n",
        "    width_shift_range=0.1,\n",
        "    height_shift_range=0.1, \n",
        "    shear_range=0.2, \n",
        "    zoom_range=0.2,\n",
        "    horizontal_flip=True, \n",
        "    fill_mode=\"nearest\")"
      ],
      "execution_count": 7,
      "outputs": []
    },
    {
      "cell_type": "markdown",
      "metadata": {
        "id": "H1BfRyYNnGv_"
      },
      "source": [
        "Creating CNN Model"
      ]
    },
    {
      "cell_type": "code",
      "metadata": {
        "id": "WmLX4wm8zmgs"
      },
      "source": [
        "model = keras.models.Sequential()\n",
        "inputShape = (height, width, depth)\n",
        "\n",
        "model.add(Conv2D(32, (3, 3), padding=\"same\",input_shape=inputShape))\n",
        "model.add(Activation(\"relu\"))\n",
        "\n",
        "model.add(MaxPooling2D(pool_size=(3, 3)))\n",
        "\n",
        "model.add(Conv2D(64, (3, 3), padding=\"same\"))\n",
        "model.add(Activation(\"relu\"))\n",
        "\n",
        "model.add(MaxPooling2D(pool_size=(3, 3)))\n",
        "\n",
        "model.add(Conv2D(128, (3, 3), padding=\"same\"))\n",
        "model.add(Activation(\"relu\"))\n",
        "\n",
        "model.add(MaxPooling2D(pool_size=(2, 2)))\n",
        "\n",
        "model.add(Conv2D(256, (3, 3), padding=\"same\"))\n",
        "model.add(Activation(\"relu\"))\n",
        "\n",
        "model.add(MaxPooling2D(pool_size=(2, 2)))\n",
        "\n",
        "model.add(Flatten())\n",
        "\n",
        "model.add(Dense(1024))\n",
        "model.add(Activation(\"relu\"))\n",
        "\n",
        "model.add(Dense(n_classes))\n",
        "model.add(Activation(\"softmax\"))"
      ],
      "execution_count": 8,
      "outputs": []
    },
    {
      "cell_type": "markdown",
      "metadata": {
        "id": "Zfsu3lVfnXFG"
      },
      "source": [
        "**Training** Network"
      ]
    },
    {
      "cell_type": "code",
      "metadata": {
        "id": "rvwKwe3Lzmgv",
        "colab": {
          "base_uri": "https://localhost:8080/"
        },
        "outputId": "3d9909ab-9bf3-4ce1-f7df-0cbe2c5b3a4a"
      },
      "source": [
        "EPOCHS = 50\n",
        "INIT_LR = 1e-3\n",
        "BS = 32\n",
        "\n",
        "with tf.device('/GPU:0'):\n",
        "  opt = Adam(learning_rate=INIT_LR, decay=INIT_LR / EPOCHS)\n",
        "  model.compile(loss=\"categorical_crossentropy\", optimizer=opt,metrics=[\"Accuracy\", \"FalseNegatives\", \"FalsePositives\", \"TrueNegatives\", \"TruePositives\"])\n",
        "  \n",
        "  history = model.fit(\n",
        "      aug.flow(np_image_list_train, image_labels_train, batch_size=BS),\n",
        "      validation_data=(np_image_list_validation, image_labels_validation),\n",
        "      steps_per_epoch=len(np_image_list_train) // BS,\n",
        "      epochs=EPOCHS, \n",
        "      verbose=1,\n",
        "      )\n"
      ],
      "execution_count": 9,
      "outputs": [
        {
          "output_type": "stream",
          "name": "stdout",
          "text": [
            "Epoch 1/50\n",
            "63/63 [==============================] - 42s 489ms/step - loss: 0.8849 - Accuracy: 0.6528 - false_negatives: 992.0000 - false_positives: 314.0000 - true_negatives: 5674.0000 - true_positives: 1004.0000 - val_loss: 0.7323 - val_Accuracy: 0.7421 - val_false_negatives: 158.0000 - val_false_positives: 98.0000 - val_true_negatives: 1426.0000 - val_true_positives: 350.0000\n",
            "Epoch 2/50\n",
            "63/63 [==============================] - 29s 463ms/step - loss: 0.4883 - Accuracy: 0.8201 - false_negatives: 426.0000 - false_positives: 288.0000 - true_negatives: 5700.0000 - true_positives: 1570.0000 - val_loss: 0.4652 - val_Accuracy: 0.8287 - val_false_negatives: 95.0000 - val_false_positives: 74.0000 - val_true_negatives: 1450.0000 - val_true_positives: 413.0000\n",
            "Epoch 3/50\n",
            "63/63 [==============================] - 28s 451ms/step - loss: 0.3478 - Accuracy: 0.8647 - false_negatives: 306.0000 - false_positives: 228.0000 - true_negatives: 5760.0000 - true_positives: 1690.0000 - val_loss: 0.9341 - val_Accuracy: 0.7697 - val_false_negatives: 122.0000 - val_false_positives: 112.0000 - val_true_negatives: 1412.0000 - val_true_positives: 386.0000\n",
            "Epoch 4/50\n",
            "63/63 [==============================] - 30s 468ms/step - loss: 0.2713 - Accuracy: 0.9018 - false_negatives: 220.0000 - false_positives: 173.0000 - true_negatives: 5815.0000 - true_positives: 1776.0000 - val_loss: 0.2474 - val_Accuracy: 0.9134 - val_false_negatives: 45.0000 - val_false_positives: 43.0000 - val_true_negatives: 1481.0000 - val_true_positives: 463.0000\n",
            "Epoch 5/50\n",
            "63/63 [==============================] - 30s 477ms/step - loss: 0.2439 - Accuracy: 0.9148 - false_negatives: 196.0000 - false_positives: 156.0000 - true_negatives: 5832.0000 - true_positives: 1800.0000 - val_loss: 0.2179 - val_Accuracy: 0.9193 - val_false_negatives: 42.0000 - val_false_positives: 37.0000 - val_true_negatives: 1487.0000 - val_true_positives: 466.0000\n",
            "Epoch 6/50\n",
            "63/63 [==============================] - 31s 488ms/step - loss: 0.1818 - Accuracy: 0.9299 - false_negatives: 153.0000 - false_positives: 130.0000 - true_negatives: 5858.0000 - true_positives: 1843.0000 - val_loss: 0.2821 - val_Accuracy: 0.9193 - val_false_negatives: 45.0000 - val_false_positives: 41.0000 - val_true_negatives: 1483.0000 - val_true_positives: 463.0000\n",
            "Epoch 7/50\n",
            "63/63 [==============================] - 30s 468ms/step - loss: 0.1668 - Accuracy: 0.9384 - false_negatives: 127.0000 - false_positives: 120.0000 - true_negatives: 5868.0000 - true_positives: 1869.0000 - val_loss: 0.3833 - val_Accuracy: 0.8976 - val_false_negatives: 53.0000 - val_false_positives: 52.0000 - val_true_negatives: 1472.0000 - val_true_positives: 455.0000\n",
            "Epoch 8/50\n",
            "63/63 [==============================] - 29s 458ms/step - loss: 0.1920 - Accuracy: 0.9374 - false_negatives: 137.0000 - false_positives: 117.0000 - true_negatives: 5871.0000 - true_positives: 1859.0000 - val_loss: 0.4769 - val_Accuracy: 0.8957 - val_false_negatives: 53.0000 - val_false_positives: 52.0000 - val_true_negatives: 1472.0000 - val_true_positives: 455.0000\n",
            "Epoch 9/50\n",
            "63/63 [==============================] - 29s 464ms/step - loss: 0.1392 - Accuracy: 0.9469 - false_negatives: 110.0000 - false_positives: 96.0000 - true_negatives: 5892.0000 - true_positives: 1886.0000 - val_loss: 0.3497 - val_Accuracy: 0.8642 - val_false_negatives: 74.0000 - val_false_positives: 62.0000 - val_true_negatives: 1462.0000 - val_true_positives: 434.0000\n",
            "Epoch 10/50\n",
            "63/63 [==============================] - 28s 445ms/step - loss: 0.2033 - Accuracy: 0.9264 - false_negatives: 158.0000 - false_positives: 136.0000 - true_negatives: 5852.0000 - true_positives: 1838.0000 - val_loss: 0.3561 - val_Accuracy: 0.9134 - val_false_negatives: 44.0000 - val_false_positives: 44.0000 - val_true_negatives: 1480.0000 - val_true_positives: 464.0000\n",
            "Epoch 11/50\n",
            "63/63 [==============================] - 28s 450ms/step - loss: 0.1169 - Accuracy: 0.9559 - false_negatives: 91.0000 - false_positives: 84.0000 - true_negatives: 5904.0000 - true_positives: 1905.0000 - val_loss: 0.1149 - val_Accuracy: 0.9646 - val_false_negatives: 18.0000 - val_false_positives: 18.0000 - val_true_negatives: 1506.0000 - val_true_positives: 490.0000\n",
            "Epoch 12/50\n",
            "63/63 [==============================] - 29s 457ms/step - loss: 0.0859 - Accuracy: 0.9704 - false_negatives: 59.0000 - false_positives: 58.0000 - true_negatives: 5930.0000 - true_positives: 1937.0000 - val_loss: 0.1409 - val_Accuracy: 0.9508 - val_false_negatives: 26.0000 - val_false_positives: 23.0000 - val_true_negatives: 1501.0000 - val_true_positives: 482.0000\n",
            "Epoch 13/50\n",
            "63/63 [==============================] - 29s 461ms/step - loss: 0.1001 - Accuracy: 0.9664 - false_negatives: 70.0000 - false_positives: 64.0000 - true_negatives: 5924.0000 - true_positives: 1926.0000 - val_loss: 1.2422 - val_Accuracy: 0.7874 - val_false_negatives: 109.0000 - val_false_positives: 103.0000 - val_true_negatives: 1421.0000 - val_true_positives: 399.0000\n",
            "Epoch 14/50\n",
            "63/63 [==============================] - 28s 452ms/step - loss: 0.1098 - Accuracy: 0.9629 - false_negatives: 76.0000 - false_positives: 72.0000 - true_negatives: 5916.0000 - true_positives: 1920.0000 - val_loss: 0.3457 - val_Accuracy: 0.8799 - val_false_negatives: 61.0000 - val_false_positives: 59.0000 - val_true_negatives: 1465.0000 - val_true_positives: 447.0000\n",
            "Epoch 15/50\n",
            "63/63 [==============================] - 28s 448ms/step - loss: 0.0954 - Accuracy: 0.9659 - false_negatives: 70.0000 - false_positives: 68.0000 - true_negatives: 5920.0000 - true_positives: 1926.0000 - val_loss: 0.2272 - val_Accuracy: 0.9370 - val_false_negatives: 33.0000 - val_false_positives: 32.0000 - val_true_negatives: 1492.0000 - val_true_positives: 475.0000\n",
            "Epoch 16/50\n",
            "63/63 [==============================] - 28s 450ms/step - loss: 0.0623 - Accuracy: 0.9770 - false_negatives: 50.0000 - false_positives: 45.0000 - true_negatives: 5943.0000 - true_positives: 1946.0000 - val_loss: 0.1568 - val_Accuracy: 0.9606 - val_false_negatives: 21.0000 - val_false_positives: 20.0000 - val_true_negatives: 1504.0000 - val_true_positives: 487.0000\n",
            "Epoch 17/50\n",
            "63/63 [==============================] - 30s 468ms/step - loss: 0.1030 - Accuracy: 0.9624 - false_negatives: 76.0000 - false_positives: 74.0000 - true_negatives: 5914.0000 - true_positives: 1920.0000 - val_loss: 0.3852 - val_Accuracy: 0.9055 - val_false_negatives: 48.0000 - val_false_positives: 48.0000 - val_true_negatives: 1476.0000 - val_true_positives: 460.0000\n",
            "Epoch 18/50\n",
            "63/63 [==============================] - 29s 466ms/step - loss: 0.0571 - Accuracy: 0.9765 - false_negatives: 48.0000 - false_positives: 45.0000 - true_negatives: 5943.0000 - true_positives: 1948.0000 - val_loss: 0.1505 - val_Accuracy: 0.9567 - val_false_negatives: 22.0000 - val_false_positives: 22.0000 - val_true_negatives: 1502.0000 - val_true_positives: 486.0000\n",
            "Epoch 19/50\n",
            "63/63 [==============================] - 30s 471ms/step - loss: 0.0530 - Accuracy: 0.9805 - false_negatives: 39.0000 - false_positives: 38.0000 - true_negatives: 5950.0000 - true_positives: 1957.0000 - val_loss: 0.1118 - val_Accuracy: 0.9567 - val_false_negatives: 22.0000 - val_false_positives: 22.0000 - val_true_negatives: 1502.0000 - val_true_positives: 486.0000\n",
            "Epoch 20/50\n",
            "63/63 [==============================] - 29s 464ms/step - loss: 0.0515 - Accuracy: 0.9795 - false_negatives: 43.0000 - false_positives: 41.0000 - true_negatives: 5947.0000 - true_positives: 1953.0000 - val_loss: 0.2086 - val_Accuracy: 0.9469 - val_false_negatives: 28.0000 - val_false_positives: 27.0000 - val_true_negatives: 1497.0000 - val_true_positives: 480.0000\n",
            "Epoch 21/50\n",
            "63/63 [==============================] - 29s 458ms/step - loss: 0.0611 - Accuracy: 0.9800 - false_negatives: 40.0000 - false_positives: 40.0000 - true_negatives: 5948.0000 - true_positives: 1956.0000 - val_loss: 0.3759 - val_Accuracy: 0.8996 - val_false_negatives: 51.0000 - val_false_positives: 50.0000 - val_true_negatives: 1474.0000 - val_true_positives: 457.0000\n",
            "Epoch 22/50\n",
            "63/63 [==============================] - 30s 468ms/step - loss: 0.0941 - Accuracy: 0.9684 - false_negatives: 66.0000 - false_positives: 63.0000 - true_negatives: 5925.0000 - true_positives: 1930.0000 - val_loss: 0.1684 - val_Accuracy: 0.9311 - val_false_negatives: 38.0000 - val_false_positives: 34.0000 - val_true_negatives: 1490.0000 - val_true_positives: 470.0000\n",
            "Epoch 23/50\n",
            "63/63 [==============================] - 29s 465ms/step - loss: 0.0752 - Accuracy: 0.9664 - false_negatives: 67.0000 - false_positives: 64.0000 - true_negatives: 5924.0000 - true_positives: 1929.0000 - val_loss: 0.2387 - val_Accuracy: 0.9331 - val_false_negatives: 34.0000 - val_false_positives: 34.0000 - val_true_negatives: 1490.0000 - val_true_positives: 474.0000\n",
            "Epoch 24/50\n",
            "63/63 [==============================] - 29s 463ms/step - loss: 0.0349 - Accuracy: 0.9860 - false_negatives: 28.0000 - false_positives: 28.0000 - true_negatives: 5960.0000 - true_positives: 1968.0000 - val_loss: 0.1394 - val_Accuracy: 0.9587 - val_false_negatives: 21.0000 - val_false_positives: 21.0000 - val_true_negatives: 1503.0000 - val_true_positives: 487.0000\n",
            "Epoch 25/50\n",
            "63/63 [==============================] - 29s 459ms/step - loss: 0.0682 - Accuracy: 0.9802 - false_negatives: 41.0000 - false_positives: 40.0000 - true_negatives: 6008.0000 - true_positives: 1975.0000 - val_loss: 0.1800 - val_Accuracy: 0.9409 - val_false_negatives: 30.0000 - val_false_positives: 30.0000 - val_true_negatives: 1494.0000 - val_true_positives: 478.0000\n",
            "Epoch 26/50\n",
            "63/63 [==============================] - 29s 461ms/step - loss: 0.0547 - Accuracy: 0.9810 - false_negatives: 38.0000 - false_positives: 38.0000 - true_negatives: 5950.0000 - true_positives: 1958.0000 - val_loss: 0.0806 - val_Accuracy: 0.9744 - val_false_negatives: 13.0000 - val_false_positives: 13.0000 - val_true_negatives: 1511.0000 - val_true_positives: 495.0000\n",
            "Epoch 27/50\n",
            "63/63 [==============================] - 29s 460ms/step - loss: 0.0776 - Accuracy: 0.9704 - false_negatives: 60.0000 - false_positives: 58.0000 - true_negatives: 5930.0000 - true_positives: 1936.0000 - val_loss: 0.0811 - val_Accuracy: 0.9685 - val_false_negatives: 16.0000 - val_false_positives: 16.0000 - val_true_negatives: 1508.0000 - val_true_positives: 492.0000\n",
            "Epoch 28/50\n",
            "63/63 [==============================] - 29s 455ms/step - loss: 0.0590 - Accuracy: 0.9785 - false_negatives: 45.0000 - false_positives: 42.0000 - true_negatives: 5946.0000 - true_positives: 1951.0000 - val_loss: 0.0795 - val_Accuracy: 0.9705 - val_false_negatives: 16.0000 - val_false_positives: 15.0000 - val_true_negatives: 1509.0000 - val_true_positives: 492.0000\n",
            "Epoch 29/50\n",
            "63/63 [==============================] - 29s 462ms/step - loss: 0.0279 - Accuracy: 0.9915 - false_negatives: 17.0000 - false_positives: 16.0000 - true_negatives: 5972.0000 - true_positives: 1979.0000 - val_loss: 0.1066 - val_Accuracy: 0.9744 - val_false_negatives: 13.0000 - val_false_positives: 13.0000 - val_true_negatives: 1511.0000 - val_true_positives: 495.0000\n",
            "Epoch 30/50\n",
            "63/63 [==============================] - 29s 452ms/step - loss: 0.0425 - Accuracy: 0.9880 - false_negatives: 24.0000 - false_positives: 24.0000 - true_negatives: 5964.0000 - true_positives: 1972.0000 - val_loss: 0.0850 - val_Accuracy: 0.9724 - val_false_negatives: 14.0000 - val_false_positives: 14.0000 - val_true_negatives: 1510.0000 - val_true_positives: 494.0000\n",
            "Epoch 31/50\n",
            "63/63 [==============================] - 29s 453ms/step - loss: 0.0163 - Accuracy: 0.9935 - false_negatives: 13.0000 - false_positives: 12.0000 - true_negatives: 5976.0000 - true_positives: 1983.0000 - val_loss: 0.2304 - val_Accuracy: 0.9528 - val_false_negatives: 25.0000 - val_false_positives: 23.0000 - val_true_negatives: 1501.0000 - val_true_positives: 483.0000\n",
            "Epoch 32/50\n",
            "63/63 [==============================] - 29s 460ms/step - loss: 0.0149 - Accuracy: 0.9940 - false_negatives: 13.0000 - false_positives: 12.0000 - true_negatives: 5976.0000 - true_positives: 1983.0000 - val_loss: 0.1331 - val_Accuracy: 0.9646 - val_false_negatives: 18.0000 - val_false_positives: 18.0000 - val_true_negatives: 1506.0000 - val_true_positives: 490.0000\n",
            "Epoch 33/50\n",
            "63/63 [==============================] - 29s 458ms/step - loss: 0.0621 - Accuracy: 0.9785 - false_negatives: 44.0000 - false_positives: 43.0000 - true_negatives: 5945.0000 - true_positives: 1952.0000 - val_loss: 0.2479 - val_Accuracy: 0.9370 - val_false_negatives: 33.0000 - val_false_positives: 30.0000 - val_true_negatives: 1494.0000 - val_true_positives: 475.0000\n",
            "Epoch 34/50\n",
            "63/63 [==============================] - 29s 457ms/step - loss: 0.0277 - Accuracy: 0.9890 - false_negatives: 22.0000 - false_positives: 21.0000 - true_negatives: 5967.0000 - true_positives: 1974.0000 - val_loss: 0.1515 - val_Accuracy: 0.9646 - val_false_negatives: 18.0000 - val_false_positives: 18.0000 - val_true_negatives: 1506.0000 - val_true_positives: 490.0000\n",
            "Epoch 35/50\n",
            "63/63 [==============================] - 29s 455ms/step - loss: 0.0566 - Accuracy: 0.9790 - false_negatives: 43.0000 - false_positives: 42.0000 - true_negatives: 5946.0000 - true_positives: 1953.0000 - val_loss: 0.2131 - val_Accuracy: 0.9626 - val_false_negatives: 19.0000 - val_false_positives: 19.0000 - val_true_negatives: 1505.0000 - val_true_positives: 489.0000\n",
            "Epoch 36/50\n",
            "63/63 [==============================] - 29s 466ms/step - loss: 0.1167 - Accuracy: 0.9584 - false_negatives: 84.0000 - false_positives: 79.0000 - true_negatives: 5909.0000 - true_positives: 1912.0000 - val_loss: 0.0813 - val_Accuracy: 0.9744 - val_false_negatives: 13.0000 - val_false_positives: 12.0000 - val_true_negatives: 1512.0000 - val_true_positives: 495.0000\n",
            "Epoch 37/50\n",
            "63/63 [==============================] - 29s 463ms/step - loss: 0.0789 - Accuracy: 0.9770 - false_negatives: 46.0000 - false_positives: 46.0000 - true_negatives: 5942.0000 - true_positives: 1950.0000 - val_loss: 0.0680 - val_Accuracy: 0.9705 - val_false_negatives: 15.0000 - val_false_positives: 15.0000 - val_true_negatives: 1509.0000 - val_true_positives: 493.0000\n",
            "Epoch 38/50\n",
            "63/63 [==============================] - 29s 458ms/step - loss: 0.0366 - Accuracy: 0.9875 - false_negatives: 25.0000 - false_positives: 25.0000 - true_negatives: 5963.0000 - true_positives: 1971.0000 - val_loss: 0.0668 - val_Accuracy: 0.9764 - val_false_negatives: 12.0000 - val_false_positives: 12.0000 - val_true_negatives: 1512.0000 - val_true_positives: 496.0000\n",
            "Epoch 39/50\n",
            "63/63 [==============================] - 30s 473ms/step - loss: 0.0245 - Accuracy: 0.9910 - false_negatives: 18.0000 - false_positives: 18.0000 - true_negatives: 5970.0000 - true_positives: 1978.0000 - val_loss: 0.1429 - val_Accuracy: 0.9724 - val_false_negatives: 15.0000 - val_false_positives: 14.0000 - val_true_negatives: 1510.0000 - val_true_positives: 493.0000\n",
            "Epoch 40/50\n",
            "63/63 [==============================] - 31s 484ms/step - loss: 0.0563 - Accuracy: 0.9820 - false_negatives: 36.0000 - false_positives: 35.0000 - true_negatives: 5953.0000 - true_positives: 1960.0000 - val_loss: 0.1176 - val_Accuracy: 0.9705 - val_false_negatives: 15.0000 - val_false_positives: 15.0000 - val_true_negatives: 1509.0000 - val_true_positives: 493.0000\n",
            "Epoch 41/50\n",
            "63/63 [==============================] - 30s 477ms/step - loss: 0.0224 - Accuracy: 0.9935 - false_negatives: 13.0000 - false_positives: 13.0000 - true_negatives: 5975.0000 - true_positives: 1983.0000 - val_loss: 0.1246 - val_Accuracy: 0.9783 - val_false_negatives: 11.0000 - val_false_positives: 11.0000 - val_true_negatives: 1513.0000 - val_true_positives: 497.0000\n",
            "Epoch 42/50\n",
            "63/63 [==============================] - 30s 488ms/step - loss: 0.0382 - Accuracy: 0.9895 - false_negatives: 22.0000 - false_positives: 21.0000 - true_negatives: 5967.0000 - true_positives: 1974.0000 - val_loss: 0.0587 - val_Accuracy: 0.9843 - val_false_negatives: 8.0000 - val_false_positives: 8.0000 - val_true_negatives: 1516.0000 - val_true_positives: 500.0000\n",
            "Epoch 43/50\n",
            "63/63 [==============================] - 30s 481ms/step - loss: 0.0050 - Accuracy: 0.9995 - false_negatives: 1.0000 - false_positives: 1.0000 - true_negatives: 5987.0000 - true_positives: 1995.0000 - val_loss: 0.0586 - val_Accuracy: 0.9882 - val_false_negatives: 6.0000 - val_false_positives: 6.0000 - val_true_negatives: 1518.0000 - val_true_positives: 502.0000\n",
            "Epoch 44/50\n",
            "63/63 [==============================] - 30s 472ms/step - loss: 0.0146 - Accuracy: 0.9930 - false_negatives: 14.0000 - false_positives: 14.0000 - true_negatives: 5974.0000 - true_positives: 1982.0000 - val_loss: 0.0981 - val_Accuracy: 0.9764 - val_false_negatives: 13.0000 - val_false_positives: 12.0000 - val_true_negatives: 1512.0000 - val_true_positives: 495.0000\n",
            "Epoch 45/50\n",
            "63/63 [==============================] - 31s 487ms/step - loss: 0.0179 - Accuracy: 0.9930 - false_negatives: 14.0000 - false_positives: 14.0000 - true_negatives: 5974.0000 - true_positives: 1982.0000 - val_loss: 0.0517 - val_Accuracy: 0.9862 - val_false_negatives: 7.0000 - val_false_positives: 7.0000 - val_true_negatives: 1517.0000 - val_true_positives: 501.0000\n",
            "Epoch 46/50\n",
            "63/63 [==============================] - 30s 476ms/step - loss: 0.0030 - Accuracy: 1.0000 - false_negatives: 0.0000e+00 - false_positives: 0.0000e+00 - true_negatives: 5988.0000 - true_positives: 1996.0000 - val_loss: 0.0508 - val_Accuracy: 0.9783 - val_false_negatives: 11.0000 - val_false_positives: 11.0000 - val_true_negatives: 1513.0000 - val_true_positives: 497.0000\n",
            "Epoch 47/50\n",
            "63/63 [==============================] - 30s 478ms/step - loss: 0.0025 - Accuracy: 0.9995 - false_negatives: 1.0000 - false_positives: 1.0000 - true_negatives: 5987.0000 - true_positives: 1995.0000 - val_loss: 0.0616 - val_Accuracy: 0.9843 - val_false_negatives: 8.0000 - val_false_positives: 8.0000 - val_true_negatives: 1516.0000 - val_true_positives: 500.0000\n",
            "Epoch 48/50\n",
            "63/63 [==============================] - 30s 476ms/step - loss: 0.0127 - Accuracy: 0.9960 - false_negatives: 8.0000 - false_positives: 8.0000 - true_negatives: 5980.0000 - true_positives: 1988.0000 - val_loss: 0.2980 - val_Accuracy: 0.9606 - val_false_negatives: 20.0000 - val_false_positives: 20.0000 - val_true_negatives: 1504.0000 - val_true_positives: 488.0000\n",
            "Epoch 49/50\n",
            "63/63 [==============================] - 31s 489ms/step - loss: 0.1109 - Accuracy: 0.9654 - false_negatives: 69.0000 - false_positives: 68.0000 - true_negatives: 5920.0000 - true_positives: 1927.0000 - val_loss: 0.1709 - val_Accuracy: 0.9429 - val_false_negatives: 29.0000 - val_false_positives: 28.0000 - val_true_negatives: 1496.0000 - val_true_positives: 479.0000\n",
            "Epoch 50/50\n",
            "63/63 [==============================] - 31s 485ms/step - loss: 0.0569 - Accuracy: 0.9790 - false_negatives: 42.0000 - false_positives: 41.0000 - true_negatives: 5947.0000 - true_positives: 1954.0000 - val_loss: 0.0678 - val_Accuracy: 0.9823 - val_false_negatives: 9.0000 - val_false_positives: 9.0000 - val_true_negatives: 1515.0000 - val_true_positives: 499.0000\n"
          ]
        }
      ]
    },
    {
      "cell_type": "markdown",
      "source": [
        "Plotting Traning Result"
      ],
      "metadata": {
        "id": "XZSFG8fXqz7c"
      }
    },
    {
      "cell_type": "code",
      "source": [
        "  #plotting\n",
        "  epochs = range(1, len(history.history['loss'])+1)\n",
        "  plt.title(f\"Grafik loss training iterasi {iterasi}\")\n",
        "  plt.plot(epochs, history.history['loss'], 'r', label='Training Loss')\n",
        "  plt.plot(epochs, history.history['val_loss'], 'b', label='Validation Loss')    \n",
        "  plt.xlabel(\"Epoch\")\n",
        "  plt.ylabel(\"Loss\")\n",
        "  plt.legend()\n",
        "  plt.show()\n"
      ],
      "metadata": {
        "id": "3dXbDrJpY1NK",
        "colab": {
          "base_uri": "https://localhost:8080/",
          "height": 295
        },
        "outputId": "f2dad628-dc4a-47f0-ef57-f0d5a19891a4"
      },
      "execution_count": 10,
      "outputs": [
        {
          "output_type": "display_data",
          "data": {
            "image/png": "[encoded data removed]",
            "text/plain": [
              "<Figure size 432x288 with 1 Axes>"
            ]
          },
          "metadata": {
            "needs_background": "light"
          }
        }
      ]
    },
    {
      "cell_type": "code",
      "source": [
        "  #plotting\n",
        "  epochs = range(1, len(history.history['loss'])+1)\n",
        "  plt.title(f\"Grafik Akurasi training iterasi {iterasi}\")\n",
        "  plt.plot(epochs, history.history['Accuracy'], 'r', label='Training Accuracy')\n",
        "  plt.plot(epochs, history.history['val_Accuracy'], 'b', label='Validation Accuracy')    \n",
        "  plt.xlabel(\"Epoch\")\n",
        "  plt.ylabel(\"Accuracy\")\n",
        "  plt.legend()\n",
        "  plt.show()"
      ],
      "metadata": {
        "colab": {
          "base_uri": "https://localhost:8080/",
          "height": 295
        },
        "id": "j3xigprPwlSX",
        "outputId": "dcba13c8-c035-450d-b523-9ba20ff12dab"
      },
      "execution_count": 11,
      "outputs": [
        {
          "output_type": "display_data",
          "data": {
            "image/png": "[encoded data removed]",
            "text/plain": [
              "<Figure size 432x288 with 1 Axes>"
            ]
          },
          "metadata": {
            "needs_background": "light"
          }
        }
      ]
    },
    {
      "cell_type": "markdown",
      "metadata": {
        "id": "bTgk1-sdzmgy"
      },
      "source": [
        "**Validating** Network"
      ]
    },
    {
      "cell_type": "code",
      "source": [
        "import matplotlib.pyplot as plt\n",
        "from sklearn.datasets import make_classification\n",
        "from numpy import mean\n",
        "from sklearn.metrics import confusion_matrix, ConfusionMatrixDisplay, accuracy_score, classification_report, recall_score\n",
        "\n",
        "validation = model.predict(np_image_list_validation)\n",
        "\n",
        "predicted_labels = []\n",
        "correct_labels = []\n",
        "for i in range (len(validation)):\n",
        "  predicted_labels.append(np.argmax(validation[i]))\n",
        "\n",
        "for i in range (len(image_labels_validation)):\n",
        "  correct_labels.append(np.argmax(image_labels_validation[i]))\n",
        "\n",
        "\n",
        "confusion_matrix = confusion_matrix(correct_labels, predicted_labels)\n",
        "disp = ConfusionMatrixDisplay(confusion_matrix=confusion_matrix)  \n",
        "disp.plot()\n",
        "plt.show()\n",
        "print('--------')\n",
        "FP = confusion_matrix.sum(axis=0) - np.diag(confusion_matrix)  \n",
        "FN = confusion_matrix.sum(axis=1) - np.diag(confusion_matrix)\n",
        "TP = np.diag(confusion_matrix)\n",
        "TN = confusion_matrix.sum() - (FP + FN + TP)\n",
        "\n",
        "# Sensitivity, hit rate, recall, or true positive rate\n",
        "TPR = TP/(TP+FN)\n",
        "# Specificity or true negative rate\n",
        "TNR = TN/(TN+FP) \n",
        "# Overall accuracy\n",
        "ACC = (TP+TN)/(TP+FP+FN+TN)\n",
        "\n",
        "print(TP)\n",
        "print(TN)\n",
        "print(FP)\n",
        "print(FN)\n",
        "print('--------')\n",
        "print(ACC)\n",
        "print(TPR)\n",
        "print(TNR)\n",
        "print('--------')\n",
        "\n",
        "TP = sum(TP)\n",
        "TN = sum(TN)\n",
        "FP = sum(FP)\n",
        "FN = sum(FN)\n",
        "\n",
        "# Sensitivity, hit rate, recall, or true positive rate\n",
        "TPR = TP/(TP+FN)\n",
        "# Specificity or true negative rate\n",
        "TNR = TN/(TN+FP) \n",
        "# Overall accuracy\n",
        "ACC = (TP+TN)/(TP+FP+FN+TN)\n",
        "\n",
        "print(TP)\n",
        "print(TN)\n",
        "print(FP)\n",
        "print(FN)\n",
        "print('--------')\n",
        "print(ACC)\n",
        "print(TPR)\n",
        "print(TNR)\n"
      ],
      "metadata": {
        "colab": {
          "base_uri": "https://localhost:8080/",
          "height": 591
        },
        "id": "z9NBaYvZ61d7",
        "outputId": "09d1d656-b8bd-4d48-aa17-0e5d6141004b"
      },
      "execution_count": 12,
      "outputs": [
        {
          "output_type": "display_data",
          "data": {
            "image/png": "[encoded data removed]",
            "text/plain": [
              "<Figure size 432x288 with 2 Axes>"
            ]
          },
          "metadata": {
            "needs_background": "light"
          }
        },
        {
          "output_type": "stream",
          "name": "stdout",
          "text": [
            "--------\n",
            "[ 97  97  44 261]\n",
            "[402 408 464 241]\n",
            "[6 0 0 3]\n",
            "[3 3 0 3]\n",
            "--------\n",
            "[0.98228346 0.99409449 1.         0.98818898]\n",
            "[0.97       0.97       1.         0.98863636]\n",
            "[0.98529412 1.         1.         0.98770492]\n",
            "--------\n",
            "499\n",
            "1515\n",
            "9\n",
            "9\n",
            "--------\n",
            "0.9911417322834646\n",
            "0.9822834645669292\n",
            "0.9940944881889764\n"
          ]
        }
      ]
    },
    {
      "cell_type": "markdown",
      "source": [
        "**Testing** Network"
      ],
      "metadata": {
        "id": "saJYjKqX9tRL"
      }
    },
    {
      "cell_type": "code",
      "source": [
        "import matplotlib.pyplot as plt\n",
        "from sklearn.datasets import make_classification\n",
        "from numpy import mean\n",
        "from sklearn.metrics import confusion_matrix, ConfusionMatrixDisplay, accuracy_score, classification_report, recall_score\n",
        "\n",
        "test = model.predict(np_image_list_test)\n",
        "\n",
        "predicted_labels = []\n",
        "correct_labels = []\n",
        "for i in range (len(test)):\n",
        "  predicted_labels.append(np.argmax(test[i]))\n",
        "\n",
        "for i in range (len(image_labels_test)):\n",
        "  correct_labels.append(np.argmax(image_labels_test[i]))\n",
        "\n",
        "\n",
        "confusion_matrix = confusion_matrix(correct_labels, predicted_labels)\n",
        "disp = ConfusionMatrixDisplay(confusion_matrix=confusion_matrix)  \n",
        "disp.plot()\n",
        "plt.show()\n",
        "print('--------')\n",
        "FP = confusion_matrix.sum(axis=0) - np.diag(confusion_matrix)  \n",
        "FN = confusion_matrix.sum(axis=1) - np.diag(confusion_matrix)\n",
        "TP = np.diag(confusion_matrix)\n",
        "TN = confusion_matrix.sum() - (FP + FN + TP)\n",
        "\n",
        "# Sensitivity, hit rate, recall, or true positive rate\n",
        "TPR = TP/(TP+FN)\n",
        "# Specificity or true negative rate\n",
        "TNR = TN/(TN+FP) \n",
        "# Overall accuracy\n",
        "ACC = (TP+TN)/(TP+FP+FN+TN)\n",
        "\n",
        "print(TP)\n",
        "print(TN)\n",
        "print(FP)\n",
        "print(FN)\n",
        "print('--------')\n",
        "print(ACC)\n",
        "print(TPR)\n",
        "print(TNR)\n",
        "print('--------')\n",
        "\n",
        "TP = sum(TP)\n",
        "TN = sum(TN)\n",
        "FP = sum(FP)\n",
        "FN = sum(FN)\n",
        "\n",
        "# Sensitivity, hit rate, recall, or true positive rate\n",
        "TPR = TP/(TP+FN)\n",
        "# Specificity or true negative rate\n",
        "TNR = TN/(TN+FP) \n",
        "# Overall accuracy\n",
        "ACC = (TP+TN)/(TP+FP+FN+TN)\n",
        "\n",
        "print(TP)\n",
        "print(TN)\n",
        "print(FP)\n",
        "print(FN)\n",
        "print('--------')\n",
        "print(ACC)\n",
        "print(TPR)\n",
        "print(TNR)"
      ],
      "metadata": {
        "colab": {
          "base_uri": "https://localhost:8080/",
          "height": 591
        },
        "id": "3a1AYdsF4FoY",
        "outputId": "e7d31728-624c-479e-d84f-c6fcd52d38c5"
      },
      "execution_count": 13,
      "outputs": [
        {
          "output_type": "display_data",
          "data": {
            "image/png": "[encoded data removed]",
            "text/plain": [
              "<Figure size 432x288 with 2 Axes>"
            ]
          },
          "metadata": {
            "needs_background": "light"
          }
        },
        {
          "output_type": "stream",
          "name": "stdout",
          "text": [
            "--------\n",
            "[125 123  54 322]\n",
            "[501 508 579 304]\n",
            "[7 2 0 1]\n",
            "[1 1 1 7]\n",
            "--------\n",
            "[0.9873817  0.99526814 0.99842271 0.9873817 ]\n",
            "[0.99206349 0.99193548 0.98181818 0.9787234 ]\n",
            "[0.98622047 0.99607843 1.         0.99672131]\n",
            "--------\n",
            "624\n",
            "1892\n",
            "10\n",
            "10\n",
            "--------\n",
            "0.9921135646687698\n",
            "0.9842271293375394\n",
            "0.9947423764458465\n"
          ]
        }
      ]
    },
    {
      "cell_type": "code",
      "metadata": {
        "id": "AKd6Tu7mzmg2"
      },
      "source": [
        "# save the model to disk\n",
        "#print(\"[INFO] Saving model...\")\n",
        "# pickle.dump(model,open('cnn_model.pkl', 'wb'))\n",
        "model.save('/content/fold5.h5')    "
      ],
      "execution_count": 14,
      "outputs": []
    },
    {
      "cell_type": "code",
      "metadata": {
        "id": "O6iIKa7Jzmg7"
      },
      "source": [
        "#test_img = cv2.imread('/content/datasets/Apple/Apple___Black_rot/0139bc6d-391c-4fd1-bcae-cc74dabfddd7___JR_FrgE.S 2734.JPG')\n",
        "\n",
        "#plt.imshow(test_img)\n",
        "#test_img = test_img / 255\n",
        "#test_img = np.expand_dims(test_img, axis=0)\n",
        "#pr=model.predict(test_img)\n",
        "\n",
        "#print(pr)\n",
        "#output = label_binarizer.inverse_transform(pr)\n",
        "#print(output)\n"
      ],
      "execution_count": 15,
      "outputs": []
    }
  ]
}