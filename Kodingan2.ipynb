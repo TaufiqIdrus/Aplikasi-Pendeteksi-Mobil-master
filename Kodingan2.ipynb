{
  "nbformat": 4,
  "nbformat_minor": 0,
  "metadata": {
    "accelerator": "GPU",
    "colab": {
      "name": "Kodingan Skripsi 3",
      "provenance": [],
      "collapsed_sections": [],
      "include_colab_link": true
    },
    "kernelspec": {
      "display_name": "Python 3",
      "language": "python",
      "name": "python3"
    },
    "language_info": {
      "codemirror_mode": {
        "name": "ipython",
        "version": 3
      },
      "file_extension": ".py",
      "mimetype": "text/x-python",
      "name": "python",
      "nbconvert_exporter": "python",
      "pygments_lexer": "ipython3",
      "version": "3.6.6"
    }
  },
  "cells": [
    {
      "cell_type": "markdown",
      "metadata": {
        "id": "view-in-github",
        "colab_type": "text"
      },
      "source": [
        "<a href=\"https://colab.research.google.com/github/TaufiqIdrus/Aplikasi-Pendeteksi-Mobil-master/blob/master/Kodingan2.ipynb\" target=\"_parent\"><img src=\"https://colab.research.google.com/assets/colab-badge.svg\" alt=\"Open In Colab\"/></a>"
      ]
    },
    {
      "cell_type": "markdown",
      "metadata": {
        "id": "yJT_kQA2lITS"
      },
      "source": [
        "**Identifikasi Penyakit Pada Tanaman Apel menggunakan Convolutional Neural Network**"
      ]
    },
    {
      "cell_type": "code",
      "metadata": {
        "id": "xXeOaYTUzmgT"
      },
      "source": [
        "import numpy as np\n",
        "import pickle\n",
        "import os\n",
        "import cv2\n",
        "import tensorflow as tf\n",
        "import keras\n",
        "from os import listdir\n",
        "from sklearn.preprocessing import LabelBinarizer\n",
        "from sklearn.model_selection import KFold\n",
        "from keras.models import Sequential\n",
        "from keras.layers.normalization import batch_normalization\n",
        "from keras.layers.convolutional import Conv2D\n",
        "from keras.layers.convolutional import MaxPooling2D\n",
        "from keras.layers.core import Activation, Flatten, Dropout, Dense\n",
        "from keras import backend as K\n",
        "from tensorflow.keras.optimizers import Adam\n",
        "from keras.preprocessing import image\n",
        "from sklearn.preprocessing import MultiLabelBinarizer\n",
        "from sklearn.model_selection import train_test_split\n",
        "import matplotlib.pyplot as plt\n",
        "from sklearn.datasets import make_classification\n",
        "from numpy import mean\n",
        "from sklearn.metrics import confusion_matrix, ConfusionMatrixDisplay, accuracy_score, classification_report, recall_score\n"
      ],
      "execution_count": 1,
      "outputs": []
    },
    {
      "cell_type": "markdown",
      "metadata": {
        "id": "fp8C0d28lQok"
      },
      "source": [
        "Importing and Preparing Dataset"
      ]
    },
    {
      "cell_type": "code",
      "metadata": {
        "id": "_0xehllADlUs",
        "colab": {
          "base_uri": "https://localhost:8080/"
        },
        "outputId": "f907d0a5-087f-4518-a42a-cb39c72d1f42"
      },
      "source": [
        "!pip install pyunpack\n",
        "!pip install patool\n",
        "from pyunpack import Archive\n",
        "Archive('/content/fold2.rar').extractall('/content/Datasets/')\n",
        "iterasi = 2\n",
        "width=256\n",
        "height=256\n",
        "default_image_size = tuple((height, width))\n",
        "directory_root_train = '/content/Datasets/fold2/Train'\n",
        "directory_root_validation = '/content/Datasets/fold2/Validation'\n",
        "directory_root_test = '/content/Datasets/fold2/Test'\n",
        "image_size = 0\n",
        "depth=3"
      ],
      "execution_count": 2,
      "outputs": [
        {
          "output_type": "stream",
          "name": "stdout",
          "text": [
            "Looking in indexes: https://pypi.org/simple, https://us-python.pkg.dev/colab-wheels/public/simple/\n",
            "Collecting pyunpack\n",
            "  Downloading pyunpack-0.2.2-py2.py3-none-any.whl (3.8 kB)\n",
            "Collecting easyprocess\n",
            "  Downloading EasyProcess-1.1-py3-none-any.whl (8.7 kB)\n",
            "Collecting entrypoint2\n",
            "  Downloading entrypoint2-1.0-py3-none-any.whl (9.8 kB)\n",
            "Installing collected packages: entrypoint2, easyprocess, pyunpack\n",
            "Successfully installed easyprocess-1.1 entrypoint2-1.0 pyunpack-0.2.2\n",
            "Looking in indexes: https://pypi.org/simple, https://us-python.pkg.dev/colab-wheels/public/simple/\n",
            "Collecting patool\n",
            "  Downloading patool-1.12-py2.py3-none-any.whl (77 kB)\n",
            "\u001b[K     |████████████████████████████████| 77 kB 3.3 MB/s \n",
            "\u001b[?25hInstalling collected packages: patool\n",
            "Successfully installed patool-1.12\n"
          ]
        }
      ]
    },
    {
      "cell_type": "code",
      "metadata": {
        "id": "KbAwJJTpzmge"
      },
      "source": [
        "def convert_image_to_array(image_dir):\n",
        "    try:\n",
        "        image = cv2.imread(image_dir)\n",
        "        if image is not None :\n",
        "            image = cv2.resize(image, default_image_size)   \n",
        "            return keras.preprocessing.image.img_to_array(image)\n",
        "        else :\n",
        "            return np.array([])\n",
        "    except Exception as e:\n",
        "        print(f\"Error : {e}\")\n",
        "        return None"
      ],
      "execution_count": 3,
      "outputs": []
    },
    {
      "cell_type": "markdown",
      "source": [
        "Converting **Training** Data to Array"
      ],
      "metadata": {
        "id": "bgXxUMO2cI_D"
      }
    },
    {
      "cell_type": "code",
      "metadata": {
        "id": "Erz6IjKXzmgg",
        "colab": {
          "base_uri": "https://localhost:8080/"
        },
        "outputId": "bceb1f6a-e915-46d2-ff5b-8e6148abea18"
      },
      "source": [
        "image_list_train, label_list_train = [], []\n",
        "try:\n",
        "    print(\"[INFO] Loading images ...\")\n",
        "    root_dir = listdir(directory_root_train)\n",
        "\n",
        "    for plant_disease_folder in root_dir:\n",
        "        print(f\"[INFO] Processing {plant_disease_folder} ...\")\n",
        "        plant_disease_image_list = listdir(f\"{directory_root_train}/{plant_disease_folder}/\")\n",
        "      \n",
        "        for image in plant_disease_image_list:\n",
        "            image_directory = f\"{directory_root_train}/{plant_disease_folder}/{image}\"\n",
        "\n",
        "            if image_directory.endswith(\".jpg\") == True or image_directory.endswith(\".JPG\") == True:\n",
        "                image_list_train.append(convert_image_to_array(image_directory))\n",
        "                label_list_train.append(plant_disease_folder)\n",
        "    print(\"[INFO] Image loading completed\")\n",
        "\n",
        "except Exception as e:\n",
        "    print(f\"Error : {e}\")\n",
        "\n",
        "#image labeling\n",
        "image_size = len(image_list_train)\n",
        "label_binarizer = LabelBinarizer()\n",
        "image_labels_train = label_binarizer.fit_transform(label_list_train)\n",
        "pickle.dump(label_binarizer,open('label_transform_train.pkl', 'wb'))\n",
        "n_classes = len(label_binarizer.classes_)\n",
        "np_image_list_train = np.array(image_list_train, dtype=np.float16) / 255.0"
      ],
      "execution_count": 4,
      "outputs": [
        {
          "output_type": "stream",
          "name": "stdout",
          "text": [
            "[INFO] Loading images ...\n",
            "[INFO] Processing Diseased ...\n",
            "[INFO] Processing Healthy ...\n",
            "[INFO] Image loading completed\n"
          ]
        }
      ]
    },
    {
      "cell_type": "markdown",
      "source": [
        "Converting **Validation** Data to Array"
      ],
      "metadata": {
        "id": "7eEMGiqRd_E4"
      }
    },
    {
      "cell_type": "code",
      "source": [
        "image_list_validation, label_list_validation = [], []\n",
        "try:\n",
        "    print(\"[INFO] Loading images ...\")\n",
        "    root_dir = listdir(directory_root_validation)\n",
        "\n",
        "    for plant_disease_folder in root_dir:\n",
        "        print(f\"[INFO] Processing {plant_disease_folder} ...\")\n",
        "        plant_disease_image_list = listdir(f\"{directory_root_validation}/{plant_disease_folder}/\")\n",
        "      \n",
        "        for image in plant_disease_image_list:\n",
        "            image_directory = f\"{directory_root_validation}/{plant_disease_folder}/{image}\"\n",
        "\n",
        "            if image_directory.endswith(\".jpg\") == True or image_directory.endswith(\".JPG\") == True:\n",
        "                image_list_validation.append(convert_image_to_array(image_directory))\n",
        "                label_list_validation.append(plant_disease_folder)\n",
        "    print(\"[INFO] Image loading completed\")\n",
        "\n",
        "except Exception as e:\n",
        "    print(f\"Error : {e}\")\n",
        "\n",
        "#image labeling\n",
        "image_size = len(image_list_validation)\n",
        "label_binarizer = LabelBinarizer()\n",
        "image_labels_validation = label_binarizer.fit_transform(label_list_validation)\n",
        "pickle.dump(label_binarizer,open('label_transform_validation.pkl', 'wb'))\n",
        "n_classes = len(label_binarizer.classes_)\n",
        "np_image_list_validation = np.array(image_list_validation, dtype=np.float16) / 255.0"
      ],
      "metadata": {
        "id": "wfHDdR0ZeEuU",
        "colab": {
          "base_uri": "https://localhost:8080/"
        },
        "outputId": "15d41fff-5ae3-46aa-da0c-38be6c1cd928"
      },
      "execution_count": 5,
      "outputs": [
        {
          "output_type": "stream",
          "name": "stdout",
          "text": [
            "[INFO] Loading images ...\n",
            "[INFO] Processing Diseased ...\n",
            "[INFO] Processing Healthy ...\n",
            "[INFO] Image loading completed\n"
          ]
        }
      ]
    },
    {
      "cell_type": "markdown",
      "source": [
        "Converting **Testing** Data to Array"
      ],
      "metadata": {
        "id": "brwWyZVncTdg"
      }
    },
    {
      "cell_type": "code",
      "metadata": {
        "id": "uNPby5UMcaWY",
        "colab": {
          "base_uri": "https://localhost:8080/"
        },
        "outputId": "fe762efa-1a00-4f78-b92b-74b93278ba31"
      },
      "source": [
        "image_list_test, label_list_test = [], []\n",
        "try:\n",
        "    print(\"[INFO] Loading images ...\")\n",
        "    root_dir = listdir(directory_root_test)\n",
        "\n",
        "    for plant_disease_folder in root_dir:\n",
        "        print(f\"[INFO] Processing {plant_disease_folder} ...\")\n",
        "        plant_disease_image_list = listdir(f\"{directory_root_test}/{plant_disease_folder}/\")\n",
        "      \n",
        "        for image in plant_disease_image_list:\n",
        "            image_directory = f\"{directory_root_test}/{plant_disease_folder}/{image}\"\n",
        "\n",
        "            if image_directory.endswith(\".jpg\") == True or image_directory.endswith(\".JPG\") == True:\n",
        "                image_list_test.append(convert_image_to_array(image_directory))\n",
        "                label_list_test.append(plant_disease_folder)\n",
        "    print(\"[INFO] Image loading completed\")\n",
        "\n",
        "except Exception as e:\n",
        "    print(f\"Error : {e}\")\n",
        "\n",
        "#image labeling\n",
        "image_size = len(image_list_test)\n",
        "label_binarizer = LabelBinarizer()\n",
        "image_labels_test = label_binarizer.fit_transform(label_list_test)\n",
        "pickle.dump(label_binarizer,open('label_transform_test.pkl', 'wb'))\n",
        "n_classes = len(label_binarizer.classes_)\n",
        "np_image_list_test = np.array(image_list_test, dtype=np.float16) / 255.0"
      ],
      "execution_count": 6,
      "outputs": [
        {
          "output_type": "stream",
          "name": "stdout",
          "text": [
            "[INFO] Loading images ...\n",
            "[INFO] Processing Diseased ...\n",
            "[INFO] Processing Healthy ...\n",
            "[INFO] Image loading completed\n"
          ]
        }
      ]
    },
    {
      "cell_type": "markdown",
      "metadata": {
        "id": "jYBTFN0CnAi7"
      },
      "source": [
        "Data Augmenting Initialization"
      ]
    },
    {
      "cell_type": "code",
      "metadata": {
        "id": "TLMxMK2Tzmgr"
      },
      "source": [
        "aug = keras.preprocessing.image.ImageDataGenerator(\n",
        "    rotation_range=25, \n",
        "    width_shift_range=0.1,\n",
        "    height_shift_range=0.1, \n",
        "    shear_range=0.2, \n",
        "    zoom_range=0.2,\n",
        "    horizontal_flip=True, \n",
        "    fill_mode=\"nearest\")"
      ],
      "execution_count": 7,
      "outputs": []
    },
    {
      "cell_type": "markdown",
      "metadata": {
        "id": "H1BfRyYNnGv_"
      },
      "source": [
        "Creating CNN Model"
      ]
    },
    {
      "cell_type": "code",
      "metadata": {
        "id": "WmLX4wm8zmgs"
      },
      "source": [
        "model = keras.models.Sequential()\n",
        "inputShape = (height, width, depth)\n",
        "\n",
        "model.add(Conv2D(32, (3, 3), padding=\"same\",input_shape=inputShape))\n",
        "model.add(Activation(\"relu\"))\n",
        "\n",
        "model.add(MaxPooling2D(pool_size=(3, 3)))\n",
        "\n",
        "model.add(Conv2D(64, (3, 3), padding=\"same\"))\n",
        "model.add(Activation(\"relu\"))\n",
        "\n",
        "model.add(MaxPooling2D(pool_size=(3, 3)))\n",
        "\n",
        "model.add(Flatten())\n",
        "\n",
        "model.add(Dense(1024))\n",
        "model.add(Activation(\"relu\"))\n",
        "\n",
        "model.add(Dense(1))\n",
        "model.add(Activation(\"sigmoid\"))"
      ],
      "execution_count": 8,
      "outputs": []
    },
    {
      "cell_type": "code",
      "source": [
        "#model.summary()"
      ],
      "metadata": {
        "id": "RQIgaph8hW06"
      },
      "execution_count": 9,
      "outputs": []
    },
    {
      "cell_type": "code",
      "source": [
        "#from PIL import Image\n",
        "#from keras.utils.vis_utils import plot_model\n",
        "#plot_model(model, to_file='cnn_model.png', show_shapes=True, show_layer_names=True)\n",
        "#display(Image.open('cnn_model.png'))"
      ],
      "metadata": {
        "id": "T05gPuu1GudW"
      },
      "execution_count": 10,
      "outputs": []
    },
    {
      "cell_type": "markdown",
      "metadata": {
        "id": "Zfsu3lVfnXFG"
      },
      "source": [
        "**Training** Network"
      ]
    },
    {
      "cell_type": "code",
      "metadata": {
        "id": "rvwKwe3Lzmgv",
        "colab": {
          "base_uri": "https://localhost:8080/"
        },
        "outputId": "f93f7d30-5048-47ac-ff4e-307d0b417e6b"
      },
      "source": [
        "EPOCHS = 100\n",
        "INIT_LR = 1e-3\n",
        "BS = 32\n",
        "\n",
        "with tf.device('/GPU:0'):\n",
        "  opt = Adam(learning_rate=INIT_LR, decay=INIT_LR / EPOCHS)\n",
        "  model.compile(loss=\"binary_crossentropy\", optimizer=opt,metrics=[\"Accuracy\", \"FalseNegatives\", \"FalsePositives\", \"TrueNegatives\", \"TruePositives\"])\n",
        "  \n",
        "  history = model.fit(\n",
        "      aug.flow(np_image_list_train, image_labels_train, batch_size=BS),\n",
        "      validation_data=(np_image_list_validation, image_labels_validation),\n",
        "      steps_per_epoch=len(np_image_list_train) // BS,\n",
        "      epochs=EPOCHS, \n",
        "      verbose=1,\n",
        "      )\n"
      ],
      "execution_count": 11,
      "outputs": [
        {
          "output_type": "stream",
          "name": "stdout",
          "text": [
            "Epoch 1/100\n",
            "40/40 [==============================] - 34s 453ms/step - loss: 0.9764 - Accuracy: 0.6664 - false_negatives: 250.0000 - false_positives: 177.0000 - true_negatives: 463.0000 - true_positives: 390.0000 - val_loss: 0.3901 - val_Accuracy: 0.8313 - val_false_negatives: 23.0000 - val_false_positives: 31.0000 - val_true_negatives: 129.0000 - val_true_positives: 137.0000\n",
            "Epoch 2/100\n",
            "40/40 [==============================] - 18s 448ms/step - loss: 0.3568 - Accuracy: 0.8633 - false_negatives: 86.0000 - false_positives: 89.0000 - true_negatives: 551.0000 - true_positives: 554.0000 - val_loss: 0.3279 - val_Accuracy: 0.8813 - val_false_negatives: 17.0000 - val_false_positives: 21.0000 - val_true_negatives: 139.0000 - val_true_positives: 143.0000\n",
            "Epoch 3/100\n",
            "40/40 [==============================] - 18s 444ms/step - loss: 0.2797 - Accuracy: 0.8906 - false_negatives: 56.0000 - false_positives: 84.0000 - true_negatives: 556.0000 - true_positives: 584.0000 - val_loss: 0.2762 - val_Accuracy: 0.9062 - val_false_negatives: 13.0000 - val_false_positives: 17.0000 - val_true_negatives: 143.0000 - val_true_positives: 147.0000\n",
            "Epoch 4/100\n",
            "40/40 [==============================] - 18s 442ms/step - loss: 0.2616 - Accuracy: 0.9008 - false_negatives: 60.0000 - false_positives: 67.0000 - true_negatives: 573.0000 - true_positives: 580.0000 - val_loss: 0.2950 - val_Accuracy: 0.8750 - val_false_negatives: 13.0000 - val_false_positives: 27.0000 - val_true_negatives: 133.0000 - val_true_positives: 147.0000\n",
            "Epoch 5/100\n",
            "40/40 [==============================] - 19s 475ms/step - loss: 0.2121 - Accuracy: 0.9117 - false_negatives: 52.0000 - false_positives: 61.0000 - true_negatives: 579.0000 - true_positives: 588.0000 - val_loss: 0.2565 - val_Accuracy: 0.8969 - val_false_negatives: 25.0000 - val_false_positives: 8.0000 - val_true_negatives: 152.0000 - val_true_positives: 135.0000\n",
            "Epoch 6/100\n",
            "40/40 [==============================] - 18s 442ms/step - loss: 0.2090 - Accuracy: 0.9219 - false_negatives: 51.0000 - false_positives: 49.0000 - true_negatives: 591.0000 - true_positives: 589.0000 - val_loss: 0.3002 - val_Accuracy: 0.8906 - val_false_negatives: 12.0000 - val_false_positives: 23.0000 - val_true_negatives: 137.0000 - val_true_positives: 148.0000\n",
            "Epoch 7/100\n",
            "40/40 [==============================] - 18s 446ms/step - loss: 0.1783 - Accuracy: 0.9258 - false_negatives: 45.0000 - false_positives: 50.0000 - true_negatives: 590.0000 - true_positives: 595.0000 - val_loss: 0.2432 - val_Accuracy: 0.9062 - val_false_negatives: 10.0000 - val_false_positives: 20.0000 - val_true_negatives: 140.0000 - val_true_positives: 150.0000\n",
            "Epoch 8/100\n",
            "40/40 [==============================] - 18s 453ms/step - loss: 0.1763 - Accuracy: 0.9227 - false_negatives: 48.0000 - false_positives: 51.0000 - true_negatives: 589.0000 - true_positives: 592.0000 - val_loss: 0.2353 - val_Accuracy: 0.9062 - val_false_negatives: 14.0000 - val_false_positives: 16.0000 - val_true_negatives: 144.0000 - val_true_positives: 146.0000\n",
            "Epoch 9/100\n",
            "40/40 [==============================] - 18s 446ms/step - loss: 0.1803 - Accuracy: 0.9328 - false_negatives: 44.0000 - false_positives: 42.0000 - true_negatives: 598.0000 - true_positives: 596.0000 - val_loss: 0.2565 - val_Accuracy: 0.8938 - val_false_negatives: 14.0000 - val_false_positives: 20.0000 - val_true_negatives: 140.0000 - val_true_positives: 146.0000\n",
            "Epoch 10/100\n",
            "40/40 [==============================] - 18s 444ms/step - loss: 0.1655 - Accuracy: 0.9320 - false_negatives: 41.0000 - false_positives: 46.0000 - true_negatives: 594.0000 - true_positives: 599.0000 - val_loss: 0.2721 - val_Accuracy: 0.8813 - val_false_negatives: 12.0000 - val_false_positives: 26.0000 - val_true_negatives: 134.0000 - val_true_positives: 148.0000\n",
            "Epoch 11/100\n",
            "40/40 [==============================] - 18s 442ms/step - loss: 0.1945 - Accuracy: 0.9258 - false_negatives: 47.0000 - false_positives: 48.0000 - true_negatives: 592.0000 - true_positives: 593.0000 - val_loss: 0.3654 - val_Accuracy: 0.8594 - val_false_negatives: 8.0000 - val_false_positives: 37.0000 - val_true_negatives: 123.0000 - val_true_positives: 152.0000\n",
            "Epoch 12/100\n",
            "40/40 [==============================] - 18s 440ms/step - loss: 0.1440 - Accuracy: 0.9445 - false_negatives: 32.0000 - false_positives: 39.0000 - true_negatives: 601.0000 - true_positives: 608.0000 - val_loss: 0.2720 - val_Accuracy: 0.8938 - val_false_negatives: 18.0000 - val_false_positives: 16.0000 - val_true_negatives: 144.0000 - val_true_positives: 142.0000\n",
            "Epoch 13/100\n",
            "40/40 [==============================] - 18s 440ms/step - loss: 0.1276 - Accuracy: 0.9508 - false_negatives: 35.0000 - false_positives: 28.0000 - true_negatives: 612.0000 - true_positives: 605.0000 - val_loss: 0.2805 - val_Accuracy: 0.8844 - val_false_negatives: 20.0000 - val_false_positives: 17.0000 - val_true_negatives: 143.0000 - val_true_positives: 140.0000\n",
            "Epoch 14/100\n",
            "40/40 [==============================] - 18s 442ms/step - loss: 0.1355 - Accuracy: 0.9469 - false_negatives: 35.0000 - false_positives: 33.0000 - true_negatives: 607.0000 - true_positives: 605.0000 - val_loss: 0.2320 - val_Accuracy: 0.9094 - val_false_negatives: 21.0000 - val_false_positives: 8.0000 - val_true_negatives: 152.0000 - val_true_positives: 139.0000\n",
            "Epoch 15/100\n",
            "40/40 [==============================] - 18s 441ms/step - loss: 0.1350 - Accuracy: 0.9453 - false_negatives: 33.0000 - false_positives: 37.0000 - true_negatives: 603.0000 - true_positives: 607.0000 - val_loss: 0.2510 - val_Accuracy: 0.9031 - val_false_negatives: 27.0000 - val_false_positives: 4.0000 - val_true_negatives: 156.0000 - val_true_positives: 133.0000\n",
            "Epoch 16/100\n",
            "40/40 [==============================] - 18s 444ms/step - loss: 0.1184 - Accuracy: 0.9531 - false_negatives: 34.0000 - false_positives: 26.0000 - true_negatives: 614.0000 - true_positives: 606.0000 - val_loss: 0.3648 - val_Accuracy: 0.8562 - val_false_negatives: 0.0000e+00 - val_false_positives: 46.0000 - val_true_negatives: 114.0000 - val_true_positives: 160.0000\n",
            "Epoch 17/100\n",
            "40/40 [==============================] - 18s 441ms/step - loss: 0.1253 - Accuracy: 0.9508 - false_negatives: 35.0000 - false_positives: 28.0000 - true_negatives: 612.0000 - true_positives: 605.0000 - val_loss: 0.2405 - val_Accuracy: 0.9187 - val_false_negatives: 9.0000 - val_false_positives: 17.0000 - val_true_negatives: 143.0000 - val_true_positives: 151.0000\n",
            "Epoch 18/100\n",
            "40/40 [==============================] - 18s 441ms/step - loss: 0.1064 - Accuracy: 0.9531 - false_negatives: 33.0000 - false_positives: 27.0000 - true_negatives: 613.0000 - true_positives: 607.0000 - val_loss: 0.3207 - val_Accuracy: 0.8906 - val_false_negatives: 13.0000 - val_false_positives: 22.0000 - val_true_negatives: 138.0000 - val_true_positives: 147.0000\n",
            "Epoch 19/100\n",
            "40/40 [==============================] - 18s 446ms/step - loss: 0.1175 - Accuracy: 0.9523 - false_negatives: 32.0000 - false_positives: 29.0000 - true_negatives: 611.0000 - true_positives: 608.0000 - val_loss: 0.2237 - val_Accuracy: 0.9187 - val_false_negatives: 21.0000 - val_false_positives: 5.0000 - val_true_negatives: 155.0000 - val_true_positives: 139.0000\n",
            "Epoch 20/100\n",
            "40/40 [==============================] - 18s 443ms/step - loss: 0.1281 - Accuracy: 0.9469 - false_negatives: 32.0000 - false_positives: 36.0000 - true_negatives: 604.0000 - true_positives: 608.0000 - val_loss: 0.2281 - val_Accuracy: 0.9094 - val_false_negatives: 15.0000 - val_false_positives: 14.0000 - val_true_negatives: 146.0000 - val_true_positives: 145.0000\n",
            "Epoch 21/100\n",
            "40/40 [==============================] - 18s 444ms/step - loss: 0.1501 - Accuracy: 0.9367 - false_negatives: 35.0000 - false_positives: 46.0000 - true_negatives: 594.0000 - true_positives: 605.0000 - val_loss: 0.2046 - val_Accuracy: 0.9187 - val_false_negatives: 14.0000 - val_false_positives: 12.0000 - val_true_negatives: 148.0000 - val_true_positives: 146.0000\n",
            "Epoch 22/100\n",
            "40/40 [==============================] - 18s 451ms/step - loss: 0.1278 - Accuracy: 0.9516 - false_negatives: 31.0000 - false_positives: 31.0000 - true_negatives: 609.0000 - true_positives: 609.0000 - val_loss: 0.1818 - val_Accuracy: 0.9312 - val_false_negatives: 9.0000 - val_false_positives: 13.0000 - val_true_negatives: 147.0000 - val_true_positives: 151.0000\n",
            "Epoch 23/100\n",
            "40/40 [==============================] - 18s 443ms/step - loss: 0.1175 - Accuracy: 0.9602 - false_negatives: 28.0000 - false_positives: 23.0000 - true_negatives: 617.0000 - true_positives: 612.0000 - val_loss: 0.2742 - val_Accuracy: 0.8906 - val_false_negatives: 19.0000 - val_false_positives: 16.0000 - val_true_negatives: 144.0000 - val_true_positives: 141.0000\n",
            "Epoch 24/100\n",
            "40/40 [==============================] - 18s 445ms/step - loss: 0.1238 - Accuracy: 0.9469 - false_negatives: 33.0000 - false_positives: 35.0000 - true_negatives: 605.0000 - true_positives: 607.0000 - val_loss: 0.1954 - val_Accuracy: 0.9156 - val_false_negatives: 16.0000 - val_false_positives: 11.0000 - val_true_negatives: 149.0000 - val_true_positives: 144.0000\n",
            "Epoch 25/100\n",
            "40/40 [==============================] - 18s 446ms/step - loss: 0.1184 - Accuracy: 0.9477 - false_negatives: 34.0000 - false_positives: 33.0000 - true_negatives: 607.0000 - true_positives: 606.0000 - val_loss: 0.3715 - val_Accuracy: 0.8938 - val_false_negatives: 26.0000 - val_false_positives: 8.0000 - val_true_negatives: 152.0000 - val_true_positives: 134.0000\n",
            "Epoch 26/100\n",
            "40/40 [==============================] - 18s 445ms/step - loss: 0.1171 - Accuracy: 0.9555 - false_negatives: 33.0000 - false_positives: 24.0000 - true_negatives: 616.0000 - true_positives: 607.0000 - val_loss: 0.2102 - val_Accuracy: 0.9281 - val_false_negatives: 8.0000 - val_false_positives: 15.0000 - val_true_negatives: 145.0000 - val_true_positives: 152.0000\n",
            "Epoch 27/100\n",
            "40/40 [==============================] - 18s 442ms/step - loss: 0.1177 - Accuracy: 0.9523 - false_negatives: 31.0000 - false_positives: 30.0000 - true_negatives: 610.0000 - true_positives: 609.0000 - val_loss: 0.2065 - val_Accuracy: 0.9219 - val_false_negatives: 7.0000 - val_false_positives: 18.0000 - val_true_negatives: 142.0000 - val_true_positives: 153.0000\n",
            "Epoch 28/100\n",
            "40/40 [==============================] - 18s 440ms/step - loss: 0.1026 - Accuracy: 0.9633 - false_negatives: 27.0000 - false_positives: 20.0000 - true_negatives: 620.0000 - true_positives: 613.0000 - val_loss: 0.1798 - val_Accuracy: 0.9344 - val_false_negatives: 6.0000 - val_false_positives: 15.0000 - val_true_negatives: 145.0000 - val_true_positives: 154.0000\n",
            "Epoch 29/100\n",
            "40/40 [==============================] - 18s 444ms/step - loss: 0.1100 - Accuracy: 0.9500 - false_negatives: 30.0000 - false_positives: 34.0000 - true_negatives: 606.0000 - true_positives: 610.0000 - val_loss: 0.3158 - val_Accuracy: 0.9094 - val_false_negatives: 1.0000 - val_false_positives: 28.0000 - val_true_negatives: 132.0000 - val_true_positives: 159.0000\n",
            "Epoch 30/100\n",
            "40/40 [==============================] - 18s 441ms/step - loss: 0.1834 - Accuracy: 0.9414 - false_negatives: 38.0000 - false_positives: 37.0000 - true_negatives: 603.0000 - true_positives: 602.0000 - val_loss: 0.1679 - val_Accuracy: 0.9375 - val_false_negatives: 9.0000 - val_false_positives: 11.0000 - val_true_negatives: 149.0000 - val_true_positives: 151.0000\n",
            "Epoch 31/100\n",
            "40/40 [==============================] - 18s 442ms/step - loss: 0.1258 - Accuracy: 0.9578 - false_negatives: 25.0000 - false_positives: 29.0000 - true_negatives: 611.0000 - true_positives: 615.0000 - val_loss: 0.1677 - val_Accuracy: 0.9344 - val_false_negatives: 12.0000 - val_false_positives: 9.0000 - val_true_negatives: 151.0000 - val_true_positives: 148.0000\n",
            "Epoch 32/100\n",
            "40/40 [==============================] - 18s 441ms/step - loss: 0.1035 - Accuracy: 0.9570 - false_negatives: 31.0000 - false_positives: 24.0000 - true_negatives: 616.0000 - true_positives: 609.0000 - val_loss: 0.3047 - val_Accuracy: 0.9281 - val_false_negatives: 14.0000 - val_false_positives: 9.0000 - val_true_negatives: 151.0000 - val_true_positives: 146.0000\n",
            "Epoch 33/100\n",
            "40/40 [==============================] - 18s 443ms/step - loss: 0.0775 - Accuracy: 0.9734 - false_negatives: 20.0000 - false_positives: 14.0000 - true_negatives: 626.0000 - true_positives: 620.0000 - val_loss: 0.2105 - val_Accuracy: 0.9281 - val_false_negatives: 8.0000 - val_false_positives: 15.0000 - val_true_negatives: 145.0000 - val_true_positives: 152.0000\n",
            "Epoch 34/100\n",
            "40/40 [==============================] - 18s 442ms/step - loss: 0.1119 - Accuracy: 0.9539 - false_negatives: 36.0000 - false_positives: 23.0000 - true_negatives: 617.0000 - true_positives: 604.0000 - val_loss: 0.1666 - val_Accuracy: 0.9281 - val_false_negatives: 17.0000 - val_false_positives: 6.0000 - val_true_negatives: 154.0000 - val_true_positives: 143.0000\n",
            "Epoch 35/100\n",
            "40/40 [==============================] - 18s 438ms/step - loss: 0.1279 - Accuracy: 0.9453 - false_negatives: 32.0000 - false_positives: 38.0000 - true_negatives: 602.0000 - true_positives: 608.0000 - val_loss: 0.1480 - val_Accuracy: 0.9406 - val_false_negatives: 12.0000 - val_false_positives: 7.0000 - val_true_negatives: 153.0000 - val_true_positives: 148.0000\n",
            "Epoch 36/100\n",
            "40/40 [==============================] - 18s 439ms/step - loss: 0.1526 - Accuracy: 0.9430 - false_negatives: 38.0000 - false_positives: 35.0000 - true_negatives: 605.0000 - true_positives: 602.0000 - val_loss: 0.3127 - val_Accuracy: 0.8906 - val_false_negatives: 26.0000 - val_false_positives: 9.0000 - val_true_negatives: 151.0000 - val_true_positives: 134.0000\n",
            "Epoch 37/100\n",
            "40/40 [==============================] - 18s 442ms/step - loss: 0.1310 - Accuracy: 0.9430 - false_negatives: 38.0000 - false_positives: 35.0000 - true_negatives: 605.0000 - true_positives: 602.0000 - val_loss: 0.2674 - val_Accuracy: 0.9125 - val_false_negatives: 5.0000 - val_false_positives: 23.0000 - val_true_negatives: 137.0000 - val_true_positives: 155.0000\n",
            "Epoch 38/100\n",
            "40/40 [==============================] - 18s 443ms/step - loss: 0.1148 - Accuracy: 0.9539 - false_negatives: 27.0000 - false_positives: 32.0000 - true_negatives: 608.0000 - true_positives: 613.0000 - val_loss: 0.3617 - val_Accuracy: 0.9125 - val_false_negatives: 16.0000 - val_false_positives: 12.0000 - val_true_negatives: 148.0000 - val_true_positives: 144.0000\n",
            "Epoch 39/100\n",
            "40/40 [==============================] - 18s 449ms/step - loss: 0.0996 - Accuracy: 0.9648 - false_negatives: 25.0000 - false_positives: 20.0000 - true_negatives: 620.0000 - true_positives: 615.0000 - val_loss: 0.1894 - val_Accuracy: 0.9312 - val_false_negatives: 12.0000 - val_false_positives: 10.0000 - val_true_negatives: 150.0000 - val_true_positives: 148.0000\n",
            "Epoch 40/100\n",
            "40/40 [==============================] - 18s 442ms/step - loss: 0.0804 - Accuracy: 0.9703 - false_negatives: 22.0000 - false_positives: 16.0000 - true_negatives: 624.0000 - true_positives: 618.0000 - val_loss: 0.2117 - val_Accuracy: 0.9344 - val_false_negatives: 9.0000 - val_false_positives: 12.0000 - val_true_negatives: 148.0000 - val_true_positives: 151.0000\n",
            "Epoch 41/100\n",
            "40/40 [==============================] - 18s 441ms/step - loss: 0.0793 - Accuracy: 0.9750 - false_negatives: 18.0000 - false_positives: 14.0000 - true_negatives: 626.0000 - true_positives: 622.0000 - val_loss: 0.1977 - val_Accuracy: 0.9344 - val_false_negatives: 5.0000 - val_false_positives: 16.0000 - val_true_negatives: 144.0000 - val_true_positives: 155.0000\n",
            "Epoch 42/100\n",
            "40/40 [==============================] - 18s 443ms/step - loss: 0.0783 - Accuracy: 0.9719 - false_negatives: 20.0000 - false_positives: 16.0000 - true_negatives: 624.0000 - true_positives: 620.0000 - val_loss: 0.2900 - val_Accuracy: 0.9187 - val_false_negatives: 17.0000 - val_false_positives: 9.0000 - val_true_negatives: 151.0000 - val_true_positives: 143.0000\n",
            "Epoch 43/100\n",
            "40/40 [==============================] - 18s 444ms/step - loss: 0.0900 - Accuracy: 0.9688 - false_negatives: 19.0000 - false_positives: 21.0000 - true_negatives: 619.0000 - true_positives: 621.0000 - val_loss: 0.2177 - val_Accuracy: 0.9281 - val_false_negatives: 12.0000 - val_false_positives: 11.0000 - val_true_negatives: 149.0000 - val_true_positives: 148.0000\n",
            "Epoch 44/100\n",
            "40/40 [==============================] - 18s 445ms/step - loss: 0.0923 - Accuracy: 0.9641 - false_negatives: 27.0000 - false_positives: 19.0000 - true_negatives: 621.0000 - true_positives: 613.0000 - val_loss: 0.3737 - val_Accuracy: 0.8313 - val_false_negatives: 8.0000 - val_false_positives: 46.0000 - val_true_negatives: 114.0000 - val_true_positives: 152.0000\n",
            "Epoch 45/100\n",
            "40/40 [==============================] - 18s 445ms/step - loss: 0.0948 - Accuracy: 0.9648 - false_negatives: 21.0000 - false_positives: 24.0000 - true_negatives: 616.0000 - true_positives: 619.0000 - val_loss: 0.2008 - val_Accuracy: 0.9375 - val_false_negatives: 10.0000 - val_false_positives: 10.0000 - val_true_negatives: 150.0000 - val_true_positives: 150.0000\n",
            "Epoch 46/100\n",
            "40/40 [==============================] - 18s 441ms/step - loss: 0.0732 - Accuracy: 0.9742 - false_negatives: 19.0000 - false_positives: 14.0000 - true_negatives: 626.0000 - true_positives: 621.0000 - val_loss: 0.1869 - val_Accuracy: 0.9375 - val_false_negatives: 12.0000 - val_false_positives: 8.0000 - val_true_negatives: 152.0000 - val_true_positives: 148.0000\n",
            "Epoch 47/100\n",
            "40/40 [==============================] - 18s 443ms/step - loss: 0.0692 - Accuracy: 0.9719 - false_negatives: 16.0000 - false_positives: 20.0000 - true_negatives: 620.0000 - true_positives: 624.0000 - val_loss: 0.5049 - val_Accuracy: 0.8844 - val_false_negatives: 28.0000 - val_false_positives: 9.0000 - val_true_negatives: 151.0000 - val_true_positives: 132.0000\n",
            "Epoch 48/100\n",
            "40/40 [==============================] - 18s 441ms/step - loss: 0.0902 - Accuracy: 0.9633 - false_negatives: 21.0000 - false_positives: 26.0000 - true_negatives: 614.0000 - true_positives: 619.0000 - val_loss: 0.3329 - val_Accuracy: 0.8969 - val_false_negatives: 5.0000 - val_false_positives: 28.0000 - val_true_negatives: 132.0000 - val_true_positives: 155.0000\n",
            "Epoch 49/100\n",
            "40/40 [==============================] - 18s 440ms/step - loss: 0.0708 - Accuracy: 0.9703 - false_negatives: 20.0000 - false_positives: 18.0000 - true_negatives: 622.0000 - true_positives: 620.0000 - val_loss: 0.2009 - val_Accuracy: 0.9281 - val_false_negatives: 2.0000 - val_false_positives: 21.0000 - val_true_negatives: 139.0000 - val_true_positives: 158.0000\n",
            "Epoch 50/100\n",
            "40/40 [==============================] - 18s 443ms/step - loss: 0.0868 - Accuracy: 0.9633 - false_negatives: 22.0000 - false_positives: 25.0000 - true_negatives: 615.0000 - true_positives: 618.0000 - val_loss: 0.1418 - val_Accuracy: 0.9344 - val_false_negatives: 10.0000 - val_false_positives: 11.0000 - val_true_negatives: 149.0000 - val_true_positives: 150.0000\n",
            "Epoch 51/100\n",
            "40/40 [==============================] - 18s 449ms/step - loss: 0.0474 - Accuracy: 0.9844 - false_negatives: 10.0000 - false_positives: 10.0000 - true_negatives: 630.0000 - true_positives: 630.0000 - val_loss: 0.2200 - val_Accuracy: 0.9406 - val_false_negatives: 2.0000 - val_false_positives: 17.0000 - val_true_negatives: 143.0000 - val_true_positives: 158.0000\n",
            "Epoch 52/100\n",
            "40/40 [==============================] - 18s 445ms/step - loss: 0.0965 - Accuracy: 0.9625 - false_negatives: 24.0000 - false_positives: 24.0000 - true_negatives: 616.0000 - true_positives: 616.0000 - val_loss: 0.2035 - val_Accuracy: 0.9312 - val_false_negatives: 12.0000 - val_false_positives: 10.0000 - val_true_negatives: 150.0000 - val_true_positives: 148.0000\n",
            "Epoch 53/100\n",
            "40/40 [==============================] - 18s 442ms/step - loss: 0.0685 - Accuracy: 0.9742 - false_negatives: 16.0000 - false_positives: 17.0000 - true_negatives: 623.0000 - true_positives: 624.0000 - val_loss: 0.2585 - val_Accuracy: 0.9187 - val_false_negatives: 11.0000 - val_false_positives: 15.0000 - val_true_negatives: 145.0000 - val_true_positives: 149.0000\n",
            "Epoch 54/100\n",
            "40/40 [==============================] - 18s 441ms/step - loss: 0.0629 - Accuracy: 0.9758 - false_negatives: 16.0000 - false_positives: 15.0000 - true_negatives: 625.0000 - true_positives: 624.0000 - val_loss: 0.2507 - val_Accuracy: 0.9219 - val_false_negatives: 3.0000 - val_false_positives: 22.0000 - val_true_negatives: 138.0000 - val_true_positives: 157.0000\n",
            "Epoch 55/100\n",
            "40/40 [==============================] - 18s 440ms/step - loss: 0.0740 - Accuracy: 0.9703 - false_negatives: 18.0000 - false_positives: 20.0000 - true_negatives: 620.0000 - true_positives: 622.0000 - val_loss: 0.4984 - val_Accuracy: 0.9156 - val_false_negatives: 22.0000 - val_false_positives: 5.0000 - val_true_negatives: 155.0000 - val_true_positives: 138.0000\n",
            "Epoch 56/100\n",
            "40/40 [==============================] - 18s 442ms/step - loss: 0.0517 - Accuracy: 0.9820 - false_negatives: 13.0000 - false_positives: 10.0000 - true_negatives: 630.0000 - true_positives: 627.0000 - val_loss: 0.5678 - val_Accuracy: 0.9031 - val_false_negatives: 25.0000 - val_false_positives: 6.0000 - val_true_negatives: 154.0000 - val_true_positives: 135.0000\n",
            "Epoch 57/100\n",
            "40/40 [==============================] - 18s 442ms/step - loss: 0.0532 - Accuracy: 0.9781 - false_negatives: 15.0000 - false_positives: 13.0000 - true_negatives: 627.0000 - true_positives: 625.0000 - val_loss: 0.1794 - val_Accuracy: 0.9438 - val_false_negatives: 10.0000 - val_false_positives: 8.0000 - val_true_negatives: 152.0000 - val_true_positives: 150.0000\n",
            "Epoch 58/100\n",
            "40/40 [==============================] - 18s 443ms/step - loss: 0.0655 - Accuracy: 0.9758 - false_negatives: 15.0000 - false_positives: 16.0000 - true_negatives: 624.0000 - true_positives: 625.0000 - val_loss: 0.2790 - val_Accuracy: 0.9156 - val_false_negatives: 20.0000 - val_false_positives: 7.0000 - val_true_negatives: 153.0000 - val_true_positives: 140.0000\n",
            "Epoch 59/100\n",
            "40/40 [==============================] - 18s 441ms/step - loss: 0.0813 - Accuracy: 0.9617 - false_negatives: 27.0000 - false_positives: 22.0000 - true_negatives: 618.0000 - true_positives: 613.0000 - val_loss: 0.2172 - val_Accuracy: 0.9156 - val_false_negatives: 13.0000 - val_false_positives: 14.0000 - val_true_negatives: 146.0000 - val_true_positives: 147.0000\n",
            "Epoch 60/100\n",
            "40/40 [==============================] - 18s 442ms/step - loss: 0.0663 - Accuracy: 0.9758 - false_negatives: 17.0000 - false_positives: 14.0000 - true_negatives: 626.0000 - true_positives: 623.0000 - val_loss: 0.1897 - val_Accuracy: 0.9375 - val_false_negatives: 12.0000 - val_false_positives: 8.0000 - val_true_negatives: 152.0000 - val_true_positives: 148.0000\n",
            "Epoch 61/100\n",
            "40/40 [==============================] - 18s 445ms/step - loss: 0.0632 - Accuracy: 0.9734 - false_negatives: 18.0000 - false_positives: 16.0000 - true_negatives: 624.0000 - true_positives: 622.0000 - val_loss: 0.1917 - val_Accuracy: 0.9219 - val_false_negatives: 9.0000 - val_false_positives: 16.0000 - val_true_negatives: 144.0000 - val_true_positives: 151.0000\n",
            "Epoch 62/100\n",
            "40/40 [==============================] - 18s 441ms/step - loss: 0.0592 - Accuracy: 0.9797 - false_negatives: 12.0000 - false_positives: 14.0000 - true_negatives: 626.0000 - true_positives: 628.0000 - val_loss: 0.3237 - val_Accuracy: 0.9281 - val_false_negatives: 15.0000 - val_false_positives: 8.0000 - val_true_negatives: 152.0000 - val_true_positives: 145.0000\n",
            "Epoch 63/100\n",
            "40/40 [==============================] - 18s 437ms/step - loss: 0.0716 - Accuracy: 0.9789 - false_negatives: 13.0000 - false_positives: 14.0000 - true_negatives: 626.0000 - true_positives: 627.0000 - val_loss: 0.2511 - val_Accuracy: 0.9187 - val_false_negatives: 23.0000 - val_false_positives: 3.0000 - val_true_negatives: 157.0000 - val_true_positives: 137.0000\n",
            "Epoch 64/100\n",
            "40/40 [==============================] - 18s 442ms/step - loss: 0.0879 - Accuracy: 0.9641 - false_negatives: 25.0000 - false_positives: 21.0000 - true_negatives: 619.0000 - true_positives: 615.0000 - val_loss: 0.5445 - val_Accuracy: 0.8906 - val_false_negatives: 20.0000 - val_false_positives: 15.0000 - val_true_negatives: 145.0000 - val_true_positives: 140.0000\n",
            "Epoch 65/100\n",
            "40/40 [==============================] - 18s 441ms/step - loss: 0.0654 - Accuracy: 0.9789 - false_negatives: 11.0000 - false_positives: 16.0000 - true_negatives: 624.0000 - true_positives: 629.0000 - val_loss: 0.2150 - val_Accuracy: 0.9281 - val_false_negatives: 12.0000 - val_false_positives: 11.0000 - val_true_negatives: 149.0000 - val_true_positives: 148.0000\n",
            "Epoch 66/100\n",
            "40/40 [==============================] - 18s 440ms/step - loss: 0.0680 - Accuracy: 0.9750 - false_negatives: 17.0000 - false_positives: 15.0000 - true_negatives: 625.0000 - true_positives: 623.0000 - val_loss: 0.2641 - val_Accuracy: 0.9250 - val_false_negatives: 3.0000 - val_false_positives: 21.0000 - val_true_negatives: 139.0000 - val_true_positives: 157.0000\n",
            "Epoch 67/100\n",
            "40/40 [==============================] - 18s 440ms/step - loss: 0.0728 - Accuracy: 0.9727 - false_negatives: 19.0000 - false_positives: 16.0000 - true_negatives: 624.0000 - true_positives: 621.0000 - val_loss: 0.2625 - val_Accuracy: 0.9250 - val_false_negatives: 11.0000 - val_false_positives: 13.0000 - val_true_negatives: 147.0000 - val_true_positives: 149.0000\n",
            "Epoch 68/100\n",
            "40/40 [==============================] - 18s 440ms/step - loss: 0.0544 - Accuracy: 0.9766 - false_negatives: 18.0000 - false_positives: 12.0000 - true_negatives: 628.0000 - true_positives: 622.0000 - val_loss: 0.2117 - val_Accuracy: 0.9187 - val_false_negatives: 5.0000 - val_false_positives: 21.0000 - val_true_negatives: 139.0000 - val_true_positives: 155.0000\n",
            "Epoch 69/100\n",
            "40/40 [==============================] - 18s 442ms/step - loss: 0.0696 - Accuracy: 0.9711 - false_negatives: 18.0000 - false_positives: 19.0000 - true_negatives: 621.0000 - true_positives: 622.0000 - val_loss: 0.1787 - val_Accuracy: 0.9250 - val_false_negatives: 12.0000 - val_false_positives: 12.0000 - val_true_negatives: 148.0000 - val_true_positives: 148.0000\n",
            "Epoch 70/100\n",
            "40/40 [==============================] - 18s 445ms/step - loss: 0.0520 - Accuracy: 0.9781 - false_negatives: 12.0000 - false_positives: 16.0000 - true_negatives: 624.0000 - true_positives: 628.0000 - val_loss: 0.5180 - val_Accuracy: 0.9094 - val_false_negatives: 20.0000 - val_false_positives: 9.0000 - val_true_negatives: 151.0000 - val_true_positives: 140.0000\n",
            "Epoch 71/100\n",
            "40/40 [==============================] - 18s 439ms/step - loss: 0.0536 - Accuracy: 0.9805 - false_negatives: 11.0000 - false_positives: 14.0000 - true_negatives: 626.0000 - true_positives: 629.0000 - val_loss: 0.1116 - val_Accuracy: 0.9563 - val_false_negatives: 5.0000 - val_false_positives: 9.0000 - val_true_negatives: 151.0000 - val_true_positives: 155.0000\n",
            "Epoch 72/100\n",
            "40/40 [==============================] - 18s 436ms/step - loss: 0.0566 - Accuracy: 0.9758 - false_negatives: 18.0000 - false_positives: 13.0000 - true_negatives: 627.0000 - true_positives: 622.0000 - val_loss: 0.1579 - val_Accuracy: 0.9438 - val_false_negatives: 15.0000 - val_false_positives: 3.0000 - val_true_negatives: 157.0000 - val_true_positives: 145.0000\n",
            "Epoch 73/100\n",
            "40/40 [==============================] - 18s 439ms/step - loss: 0.0435 - Accuracy: 0.9805 - false_negatives: 13.0000 - false_positives: 12.0000 - true_negatives: 628.0000 - true_positives: 627.0000 - val_loss: 0.2066 - val_Accuracy: 0.9312 - val_false_negatives: 2.0000 - val_false_positives: 20.0000 - val_true_negatives: 140.0000 - val_true_positives: 158.0000\n",
            "Epoch 74/100\n",
            "40/40 [==============================] - 18s 443ms/step - loss: 0.0580 - Accuracy: 0.9789 - false_negatives: 13.0000 - false_positives: 14.0000 - true_negatives: 626.0000 - true_positives: 627.0000 - val_loss: 0.1542 - val_Accuracy: 0.9406 - val_false_negatives: 6.0000 - val_false_positives: 13.0000 - val_true_negatives: 147.0000 - val_true_positives: 154.0000\n",
            "Epoch 75/100\n",
            "40/40 [==============================] - 18s 440ms/step - loss: 0.0644 - Accuracy: 0.9742 - false_negatives: 17.0000 - false_positives: 16.0000 - true_negatives: 624.0000 - true_positives: 623.0000 - val_loss: 0.1866 - val_Accuracy: 0.9469 - val_false_negatives: 4.0000 - val_false_positives: 13.0000 - val_true_negatives: 147.0000 - val_true_positives: 156.0000\n",
            "Epoch 76/100\n",
            "40/40 [==============================] - 18s 441ms/step - loss: 0.0377 - Accuracy: 0.9859 - false_negatives: 9.0000 - false_positives: 9.0000 - true_negatives: 631.0000 - true_positives: 631.0000 - val_loss: 0.1473 - val_Accuracy: 0.9438 - val_false_negatives: 12.0000 - val_false_positives: 6.0000 - val_true_negatives: 154.0000 - val_true_positives: 148.0000\n",
            "Epoch 77/100\n",
            "40/40 [==============================] - 18s 439ms/step - loss: 0.0402 - Accuracy: 0.9844 - false_negatives: 11.0000 - false_positives: 9.0000 - true_negatives: 631.0000 - true_positives: 629.0000 - val_loss: 0.2292 - val_Accuracy: 0.9281 - val_false_negatives: 7.0000 - val_false_positives: 16.0000 - val_true_negatives: 144.0000 - val_true_positives: 153.0000\n",
            "Epoch 78/100\n",
            "40/40 [==============================] - 18s 444ms/step - loss: 0.0772 - Accuracy: 0.9719 - false_negatives: 16.0000 - false_positives: 20.0000 - true_negatives: 620.0000 - true_positives: 624.0000 - val_loss: 0.2042 - val_Accuracy: 0.9438 - val_false_negatives: 6.0000 - val_false_positives: 12.0000 - val_true_negatives: 148.0000 - val_true_positives: 154.0000\n",
            "Epoch 79/100\n",
            "40/40 [==============================] - 18s 439ms/step - loss: 0.0706 - Accuracy: 0.9766 - false_negatives: 15.0000 - false_positives: 15.0000 - true_negatives: 625.0000 - true_positives: 625.0000 - val_loss: 0.2231 - val_Accuracy: 0.9406 - val_false_negatives: 4.0000 - val_false_positives: 15.0000 - val_true_negatives: 145.0000 - val_true_positives: 156.0000\n",
            "Epoch 80/100\n",
            "40/40 [==============================] - 18s 439ms/step - loss: 0.0816 - Accuracy: 0.9688 - false_negatives: 21.0000 - false_positives: 19.0000 - true_negatives: 621.0000 - true_positives: 619.0000 - val_loss: 0.3112 - val_Accuracy: 0.9094 - val_false_negatives: 20.0000 - val_false_positives: 9.0000 - val_true_negatives: 151.0000 - val_true_positives: 140.0000\n",
            "Epoch 81/100\n",
            "40/40 [==============================] - 18s 437ms/step - loss: 0.0545 - Accuracy: 0.9820 - false_negatives: 11.0000 - false_positives: 12.0000 - true_negatives: 628.0000 - true_positives: 629.0000 - val_loss: 0.5648 - val_Accuracy: 0.8750 - val_false_negatives: 29.0000 - val_false_positives: 11.0000 - val_true_negatives: 149.0000 - val_true_positives: 131.0000\n",
            "Epoch 82/100\n",
            "40/40 [==============================] - 18s 439ms/step - loss: 0.0461 - Accuracy: 0.9836 - false_negatives: 10.0000 - false_positives: 11.0000 - true_negatives: 629.0000 - true_positives: 630.0000 - val_loss: 0.2395 - val_Accuracy: 0.9281 - val_false_negatives: 4.0000 - val_false_positives: 19.0000 - val_true_negatives: 141.0000 - val_true_positives: 156.0000\n",
            "Epoch 83/100\n",
            "40/40 [==============================] - 18s 443ms/step - loss: 0.0509 - Accuracy: 0.9797 - false_negatives: 13.0000 - false_positives: 13.0000 - true_negatives: 627.0000 - true_positives: 627.0000 - val_loss: 0.2083 - val_Accuracy: 0.9344 - val_false_negatives: 15.0000 - val_false_positives: 6.0000 - val_true_negatives: 154.0000 - val_true_positives: 145.0000\n",
            "Epoch 84/100\n",
            "40/40 [==============================] - 18s 440ms/step - loss: 0.0742 - Accuracy: 0.9719 - false_negatives: 17.0000 - false_positives: 19.0000 - true_negatives: 621.0000 - true_positives: 623.0000 - val_loss: 0.2649 - val_Accuracy: 0.9281 - val_false_negatives: 3.0000 - val_false_positives: 20.0000 - val_true_negatives: 140.0000 - val_true_positives: 157.0000\n",
            "Epoch 85/100\n",
            "40/40 [==============================] - 18s 438ms/step - loss: 0.0508 - Accuracy: 0.9828 - false_negatives: 13.0000 - false_positives: 9.0000 - true_negatives: 631.0000 - true_positives: 627.0000 - val_loss: 0.1615 - val_Accuracy: 0.9469 - val_false_negatives: 12.0000 - val_false_positives: 5.0000 - val_true_negatives: 155.0000 - val_true_positives: 148.0000\n",
            "Epoch 86/100\n",
            "40/40 [==============================] - 17s 436ms/step - loss: 0.0530 - Accuracy: 0.9758 - false_negatives: 17.0000 - false_positives: 14.0000 - true_negatives: 626.0000 - true_positives: 623.0000 - val_loss: 0.1681 - val_Accuracy: 0.9344 - val_false_negatives: 7.0000 - val_false_positives: 14.0000 - val_true_negatives: 146.0000 - val_true_positives: 153.0000\n",
            "Epoch 87/100\n",
            "40/40 [==============================] - 18s 440ms/step - loss: 0.0500 - Accuracy: 0.9820 - false_negatives: 11.0000 - false_positives: 12.0000 - true_negatives: 628.0000 - true_positives: 629.0000 - val_loss: 0.1607 - val_Accuracy: 0.9406 - val_false_negatives: 4.0000 - val_false_positives: 15.0000 - val_true_negatives: 145.0000 - val_true_positives: 156.0000\n",
            "Epoch 88/100\n",
            "40/40 [==============================] - 18s 443ms/step - loss: 0.0308 - Accuracy: 0.9875 - false_negatives: 8.0000 - false_positives: 8.0000 - true_negatives: 632.0000 - true_positives: 632.0000 - val_loss: 0.2223 - val_Accuracy: 0.9438 - val_false_negatives: 14.0000 - val_false_positives: 4.0000 - val_true_negatives: 156.0000 - val_true_positives: 146.0000\n",
            "Epoch 89/100\n",
            "40/40 [==============================] - 18s 439ms/step - loss: 0.0333 - Accuracy: 0.9898 - false_negatives: 9.0000 - false_positives: 4.0000 - true_negatives: 636.0000 - true_positives: 631.0000 - val_loss: 0.2669 - val_Accuracy: 0.9438 - val_false_negatives: 1.0000 - val_false_positives: 17.0000 - val_true_negatives: 143.0000 - val_true_positives: 159.0000\n",
            "Epoch 90/100\n",
            "40/40 [==============================] - 18s 442ms/step - loss: 0.0350 - Accuracy: 0.9844 - false_negatives: 13.0000 - false_positives: 7.0000 - true_negatives: 633.0000 - true_positives: 627.0000 - val_loss: 0.2328 - val_Accuracy: 0.9375 - val_false_negatives: 3.0000 - val_false_positives: 17.0000 - val_true_negatives: 143.0000 - val_true_positives: 157.0000\n",
            "Epoch 91/100\n",
            "40/40 [==============================] - 18s 441ms/step - loss: 0.0418 - Accuracy: 0.9852 - false_negatives: 7.0000 - false_positives: 12.0000 - true_negatives: 628.0000 - true_positives: 633.0000 - val_loss: 0.1452 - val_Accuracy: 0.9563 - val_false_negatives: 6.0000 - val_false_positives: 8.0000 - val_true_negatives: 152.0000 - val_true_positives: 154.0000\n",
            "Epoch 92/100\n",
            "40/40 [==============================] - 18s 441ms/step - loss: 0.0263 - Accuracy: 0.9922 - false_negatives: 5.0000 - false_positives: 5.0000 - true_negatives: 635.0000 - true_positives: 635.0000 - val_loss: 0.1957 - val_Accuracy: 0.9500 - val_false_negatives: 5.0000 - val_false_positives: 11.0000 - val_true_negatives: 149.0000 - val_true_positives: 155.0000\n",
            "Epoch 93/100\n",
            "40/40 [==============================] - 18s 442ms/step - loss: 0.0921 - Accuracy: 0.9664 - false_negatives: 25.0000 - false_positives: 18.0000 - true_negatives: 622.0000 - true_positives: 615.0000 - val_loss: 0.3282 - val_Accuracy: 0.9000 - val_false_negatives: 4.0000 - val_false_positives: 28.0000 - val_true_negatives: 132.0000 - val_true_positives: 156.0000\n",
            "Epoch 94/100\n",
            "40/40 [==============================] - 18s 444ms/step - loss: 0.0728 - Accuracy: 0.9750 - false_negatives: 15.0000 - false_positives: 17.0000 - true_negatives: 623.0000 - true_positives: 625.0000 - val_loss: 0.1412 - val_Accuracy: 0.9375 - val_false_negatives: 7.0000 - val_false_positives: 13.0000 - val_true_negatives: 147.0000 - val_true_positives: 153.0000\n",
            "Epoch 95/100\n",
            "40/40 [==============================] - 18s 442ms/step - loss: 0.0363 - Accuracy: 0.9836 - false_negatives: 9.0000 - false_positives: 12.0000 - true_negatives: 628.0000 - true_positives: 631.0000 - val_loss: 0.2083 - val_Accuracy: 0.9406 - val_false_negatives: 5.0000 - val_false_positives: 14.0000 - val_true_negatives: 146.0000 - val_true_positives: 155.0000\n",
            "Epoch 96/100\n",
            "40/40 [==============================] - 18s 440ms/step - loss: 0.0387 - Accuracy: 0.9875 - false_negatives: 8.0000 - false_positives: 8.0000 - true_negatives: 632.0000 - true_positives: 632.0000 - val_loss: 0.1977 - val_Accuracy: 0.9500 - val_false_negatives: 11.0000 - val_false_positives: 5.0000 - val_true_negatives: 155.0000 - val_true_positives: 149.0000\n",
            "Epoch 97/100\n",
            "40/40 [==============================] - 18s 443ms/step - loss: 0.0380 - Accuracy: 0.9852 - false_negatives: 9.0000 - false_positives: 10.0000 - true_negatives: 630.0000 - true_positives: 631.0000 - val_loss: 0.2316 - val_Accuracy: 0.9250 - val_false_negatives: 4.0000 - val_false_positives: 20.0000 - val_true_negatives: 140.0000 - val_true_positives: 156.0000\n",
            "Epoch 98/100\n",
            "40/40 [==============================] - 18s 442ms/step - loss: 0.0371 - Accuracy: 0.9820 - false_negatives: 12.0000 - false_positives: 11.0000 - true_negatives: 629.0000 - true_positives: 628.0000 - val_loss: 0.1997 - val_Accuracy: 0.9406 - val_false_negatives: 12.0000 - val_false_positives: 7.0000 - val_true_negatives: 153.0000 - val_true_positives: 148.0000\n",
            "Epoch 99/100\n",
            "40/40 [==============================] - 18s 440ms/step - loss: 0.0411 - Accuracy: 0.9836 - false_negatives: 11.0000 - false_positives: 10.0000 - true_negatives: 630.0000 - true_positives: 629.0000 - val_loss: 0.2439 - val_Accuracy: 0.9250 - val_false_negatives: 21.0000 - val_false_positives: 3.0000 - val_true_negatives: 157.0000 - val_true_positives: 139.0000\n",
            "Epoch 100/100\n",
            "40/40 [==============================] - 18s 441ms/step - loss: 0.0558 - Accuracy: 0.9773 - false_negatives: 14.0000 - false_positives: 15.0000 - true_negatives: 625.0000 - true_positives: 626.0000 - val_loss: 0.1881 - val_Accuracy: 0.9500 - val_false_negatives: 11.0000 - val_false_positives: 5.0000 - val_true_negatives: 155.0000 - val_true_positives: 149.0000\n"
          ]
        }
      ]
    },
    {
      "cell_type": "markdown",
      "source": [
        "Plotting Traning Result"
      ],
      "metadata": {
        "id": "XZSFG8fXqz7c"
      }
    },
    {
      "cell_type": "code",
      "source": [
        "  #plotting\n",
        "  epochs = range(1, len(history.history['loss'])+1)\n",
        "  plt.title(f\"Grafik loss training iterasi {iterasi}\")\n",
        "  plt.plot(epochs, history.history['loss'], 'r', label='Training Loss')\n",
        "  plt.plot(epochs, history.history['val_loss'], 'b', label='Validation Loss')    \n",
        "  plt.xlabel(\"Epoch\")\n",
        "  plt.ylabel(\"Loss\")\n",
        "  plt.legend()\n",
        "  plt.show()\n"
      ],
      "metadata": {
        "id": "3dXbDrJpY1NK",
        "colab": {
          "base_uri": "https://localhost:8080/",
          "height": 295
        },
        "outputId": "08ed2c97-720c-4c21-e765-9f280157432c"
      },
      "execution_count": 12,
      "outputs": [
        {
          "output_type": "display_data",
          "data": {
            "text/plain": [
              "<Figure size 432x288 with 1 Axes>"
            ],
            "image/png": "[encoded data removed]"
          },
          "metadata": {
            "needs_background": "light"
          }
        }
      ]
    },
    {
      "cell_type": "code",
      "source": [
        "  #plotting\n",
        "  epochs = range(1, len(history.history['loss'])+1)\n",
        "  plt.title(f\"Grafik Akurasi training iterasi {iterasi}\")\n",
        "  plt.plot(epochs, history.history['Accuracy'], 'r', label='Training Accuracy')\n",
        "  plt.plot(epochs, history.history['val_Accuracy'], 'b', label='Validation Accuracy')    \n",
        "  plt.xlabel(\"Epoch\")\n",
        "  plt.ylabel(\"Accuracy\")\n",
        "  plt.legend()\n",
        "  plt.show()"
      ],
      "metadata": {
        "id": "j3xigprPwlSX",
        "colab": {
          "base_uri": "https://localhost:8080/",
          "height": 295
        },
        "outputId": "bf537cd2-a49b-4ee7-b339-e991d79e7fc2"
      },
      "execution_count": 13,
      "outputs": [
        {
          "output_type": "display_data",
          "data": {
            "text/plain": [
              "<Figure size 432x288 with 1 Axes>"
            ],
            "image/png": "[encoded data removed]"
          },
          "metadata": {
            "needs_background": "light"
          }
        }
      ]
    },
    {
      "cell_type": "markdown",
      "metadata": {
        "id": "bTgk1-sdzmgy"
      },
      "source": [
        "**Validating** Network"
      ]
    },
    {
      "cell_type": "code",
      "source": [
        "import matplotlib.pyplot as plt\n",
        "from sklearn.datasets import make_classification\n",
        "from numpy import mean\n",
        "from sklearn.metrics import confusion_matrix, ConfusionMatrixDisplay, accuracy_score, classification_report, recall_score\n",
        "\n",
        "#Creating list for correct label\n",
        "correct_labels = []\n",
        "for i in range(len(image_labels_validation)):\n",
        "  pr = image_labels_validation[i]\n",
        "  output = label_binarizer.inverse_transform(pr)\n",
        "  correct_labels.append(output[0])\n",
        "\n",
        "#Creating list for predicted label\n",
        "predicted_labels = []\n",
        "for i in range(len(np_image_list_validation)):\n",
        "  test_img = np_image_list_validation[i]\n",
        "  test_img = np.expand_dims(test_img, axis=0)\n",
        "  pr=model.predict(test_img)\n",
        "  output = label_binarizer.inverse_transform(pr)\n",
        "  predicted_labels.append(output[0])\n",
        "\n",
        "#creating confusion matrix by comparing both list\n",
        "confusion_matrix = confusion_matrix(correct_labels, predicted_labels)\n",
        "disp = ConfusionMatrixDisplay(confusion_matrix=confusion_matrix)  \n",
        "disp.plot()\n",
        "plt.show()\n",
        "print('--------')\n",
        "\n",
        "FP = confusion_matrix.sum(axis=0) - np.diag(confusion_matrix)  \n",
        "FN = confusion_matrix.sum(axis=1) - np.diag(confusion_matrix)\n",
        "TP = np.diag(confusion_matrix)\n",
        "TN = confusion_matrix.sum() - (FP + FN + TP)\n",
        "\n",
        "# Sensitivity, hit rate, recall, or true positive rate\n",
        "sensitivity = TP/(TP+FN)\n",
        "# Specificity or true negative rate\n",
        "specificity = TN/(TN+FP) \n",
        "# Overall accuracy\n",
        "accuracy = (TP+TN)/(TP+FP+FN+TN)\n",
        "\n",
        "print(TP)\n",
        "print(TN)\n",
        "print(FP)\n",
        "print(FN)\n",
        "print('--------')\n",
        "print(accuracy)\n",
        "print(sensitivity)\n",
        "print(specificity)\n",
        "print('--------')\n",
        "\n"
      ],
      "metadata": {
        "colab": {
          "base_uri": "https://localhost:8080/",
          "height": 453
        },
        "id": "d_NBE4KkWuhu",
        "outputId": "38a65bc6-cae9-4c31-efad-30971da2871d"
      },
      "execution_count": 14,
      "outputs": [
        {
          "output_type": "display_data",
          "data": {
            "text/plain": [
              "<Figure size 432x288 with 2 Axes>"
            ],
            "image/png": "[encoded data removed]"
          },
          "metadata": {
            "needs_background": "light"
          }
        },
        {
          "output_type": "stream",
          "name": "stdout",
          "text": [
            "--------\n",
            "[155 149]\n",
            "[149 155]\n",
            "[11  5]\n",
            "[ 5 11]\n",
            "--------\n",
            "[0.95 0.95]\n",
            "[0.96875 0.93125]\n",
            "[0.93125 0.96875]\n",
            "--------\n"
          ]
        }
      ]
    },
    {
      "cell_type": "markdown",
      "source": [
        "**Testing** Network"
      ],
      "metadata": {
        "id": "saJYjKqX9tRL"
      }
    },
    {
      "cell_type": "code",
      "source": [
        "import matplotlib.pyplot as plt\n",
        "from sklearn.datasets import make_classification\n",
        "from numpy import mean\n",
        "from sklearn.metrics import confusion_matrix, ConfusionMatrixDisplay, accuracy_score, classification_report, recall_score\n",
        "\n",
        "#Creating list for correct label\n",
        "correct_labels = []\n",
        "for i in range(len(image_labels_test)):\n",
        "  pr = image_labels_test[i]\n",
        "  output = label_binarizer.inverse_transform(pr)\n",
        "  correct_labels.append(output[0])\n",
        "\n",
        "#Creating list for predicted label\n",
        "predicted_labels = []\n",
        "for i in range(len(np_image_list_test)):\n",
        "  test_img = np_image_list_test[i]\n",
        "  test_img = np.expand_dims(test_img, axis=0)\n",
        "  pr=model.predict(test_img)\n",
        "  output = label_binarizer.inverse_transform(pr)\n",
        "  predicted_labels.append(output[0])\n",
        "\n",
        "#creating confusion matrix by comparing both list\n",
        "confusion_matrix = confusion_matrix(correct_labels, predicted_labels)\n",
        "disp = ConfusionMatrixDisplay(confusion_matrix=confusion_matrix)  \n",
        "disp.plot()\n",
        "plt.show()\n",
        "print('--------')\n",
        "\n",
        "FP = confusion_matrix.sum(axis=0) - np.diag(confusion_matrix)  \n",
        "FN = confusion_matrix.sum(axis=1) - np.diag(confusion_matrix)\n",
        "TP = np.diag(confusion_matrix)\n",
        "TN = confusion_matrix.sum() - (FP + FN + TP)\n",
        "\n",
        "# Sensitivity, hit rate, recall, or true positive rate\n",
        "sensitivity = TP/(TP+FN)\n",
        "# Specificity or true negative rate\n",
        "specificity = TN/(TN+FP) \n",
        "# Overall accuracy\n",
        "accuracy = (TP+TN)/(TP+FP+FN+TN)\n",
        "\n",
        "print(TP)\n",
        "print(TN)\n",
        "print(FP)\n",
        "print(FN)\n",
        "print('--------')\n",
        "print(accuracy)\n",
        "print(sensitivity)\n",
        "print(specificity)\n",
        "print('--------')"
      ],
      "metadata": {
        "colab": {
          "base_uri": "https://localhost:8080/",
          "height": 453
        },
        "id": "A7DR52hmTc75",
        "outputId": "e94d747f-f762-47d8-d8d0-09756c7be9b4"
      },
      "execution_count": 15,
      "outputs": [
        {
          "output_type": "display_data",
          "data": {
            "text/plain": [
              "<Figure size 432x288 with 2 Axes>"
            ],
            "image/png": "[encoded data removed]"
          },
          "metadata": {
            "needs_background": "light"
          }
        },
        {
          "output_type": "stream",
          "name": "stdout",
          "text": [
            "--------\n",
            "[196 181]\n",
            "[181 196]\n",
            "[19  4]\n",
            "[ 4 19]\n",
            "--------\n",
            "[0.9425 0.9425]\n",
            "[0.98  0.905]\n",
            "[0.905 0.98 ]\n",
            "--------\n"
          ]
        }
      ]
    }
  ]
}