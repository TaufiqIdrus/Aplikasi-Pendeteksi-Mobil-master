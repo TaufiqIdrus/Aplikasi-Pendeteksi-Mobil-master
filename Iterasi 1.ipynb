{
  "nbformat": 4,
  "nbformat_minor": 0,
  "metadata": {
    "accelerator": "GPU",
    "colab": {
      "name": "Kodingan Skripsi 3",
      "provenance": [],
      "collapsed_sections": [],
      "include_colab_link": true
    },
    "kernelspec": {
      "display_name": "Python 3",
      "language": "python",
      "name": "python3"
    },
    "language_info": {
      "codemirror_mode": {
        "name": "ipython",
        "version": 3
      },
      "file_extension": ".py",
      "mimetype": "text/x-python",
      "name": "python",
      "nbconvert_exporter": "python",
      "pygments_lexer": "ipython3",
      "version": "3.6.6"
    }
  },
  "cells": [
    {
      "cell_type": "markdown",
      "metadata": {
        "id": "view-in-github",
        "colab_type": "text"
      },
      "source": [
        "<a href=\"https://colab.research.google.com/github/TaufiqIdrus/Aplikasi-Pendeteksi-Mobil-master/blob/master/Iterasi%201.ipynb\" target=\"_parent\"><img src=\"https://colab.research.google.com/assets/colab-badge.svg\" alt=\"Open In Colab\"/></a>"
      ]
    },
    {
      "cell_type": "markdown",
      "metadata": {
        "id": "yJT_kQA2lITS"
      },
      "source": [
        "**Identifikasi Penyakit Pada Tanaman Apel menggunakan Convolutional Neural Network**"
      ]
    },
    {
      "cell_type": "code",
      "metadata": {
        "id": "xXeOaYTUzmgT"
      },
      "source": [
        "import numpy as np\n",
        "import pickle\n",
        "import os\n",
        "import cv2\n",
        "import tensorflow as tf\n",
        "import keras\n",
        "from os import listdir\n",
        "from sklearn.preprocessing import LabelBinarizer\n",
        "from sklearn.model_selection import KFold\n",
        "from keras.models import Sequential\n",
        "from keras.layers.normalization import batch_normalization\n",
        "from keras.layers.convolutional import Conv2D\n",
        "from keras.layers.convolutional import MaxPooling2D\n",
        "from keras.layers.core import Activation, Flatten, Dropout, Dense\n",
        "from keras import backend as K\n",
        "from tensorflow.keras.optimizers import Adam\n",
        "from keras.preprocessing import image\n",
        "from sklearn.preprocessing import MultiLabelBinarizer\n",
        "from sklearn.model_selection import train_test_split\n",
        "import matplotlib.pyplot as plt\n",
        "from sklearn.datasets import make_classification\n",
        "from numpy import mean\n",
        "from sklearn.metrics import confusion_matrix, ConfusionMatrixDisplay, accuracy_score, classification_report, recall_score\n"
      ],
      "execution_count": 1,
      "outputs": []
    },
    {
      "cell_type": "markdown",
      "metadata": {
        "id": "fp8C0d28lQok"
      },
      "source": [
        "Importing and Preparing Dataset"
      ]
    },
    {
      "cell_type": "code",
      "metadata": {
        "id": "_0xehllADlUs",
        "colab": {
          "base_uri": "https://localhost:8080/"
        },
        "outputId": "f0fe909f-ccea-4ca0-b61d-398dd42552cc"
      },
      "source": [
        "!pip install pyunpack\n",
        "!pip install patool\n",
        "from pyunpack import Archive\n",
        "Archive('/content/Fold 1.rar').extractall('/content/Datasets/')\n",
        "iterasi = 1\n",
        "width=256\n",
        "height=256\n",
        "default_image_size = tuple((height, width))\n",
        "directory_root_train = '/content/Datasets/Fold 1/Train'\n",
        "directory_root_validation = '/content/Datasets/Fold 1/Validation'\n",
        "directory_root_test = '/content/Datasets/Fold 1/Test'\n",
        "image_size = 0\n",
        "depth=3"
      ],
      "execution_count": 2,
      "outputs": [
        {
          "output_type": "stream",
          "name": "stdout",
          "text": [
            "Collecting pyunpack\n",
            "  Downloading pyunpack-0.2.2-py2.py3-none-any.whl (3.8 kB)\n",
            "Collecting entrypoint2\n",
            "  Downloading entrypoint2-1.0-py3-none-any.whl (9.8 kB)\n",
            "Collecting easyprocess\n",
            "  Downloading EasyProcess-1.1-py3-none-any.whl (8.7 kB)\n",
            "Installing collected packages: entrypoint2, easyprocess, pyunpack\n",
            "Successfully installed easyprocess-1.1 entrypoint2-1.0 pyunpack-0.2.2\n",
            "Collecting patool\n",
            "  Downloading patool-1.12-py2.py3-none-any.whl (77 kB)\n",
            "\u001b[K     |████████████████████████████████| 77 kB 2.8 MB/s \n",
            "\u001b[?25hInstalling collected packages: patool\n",
            "Successfully installed patool-1.12\n"
          ]
        }
      ]
    },
    {
      "cell_type": "code",
      "metadata": {
        "id": "KbAwJJTpzmge"
      },
      "source": [
        "def convert_image_to_array(image_dir):\n",
        "    try:\n",
        "        image = cv2.imread(image_dir)\n",
        "        if image is not None :\n",
        "            image = cv2.resize(image, default_image_size)   \n",
        "            return keras.preprocessing.image.img_to_array(image)\n",
        "        else :\n",
        "            return np.array([])\n",
        "    except Exception as e:\n",
        "        print(f\"Error : {e}\")\n",
        "        return None"
      ],
      "execution_count": 3,
      "outputs": []
    },
    {
      "cell_type": "markdown",
      "source": [
        "Converting **Training** Data to Array"
      ],
      "metadata": {
        "id": "bgXxUMO2cI_D"
      }
    },
    {
      "cell_type": "code",
      "metadata": {
        "id": "Erz6IjKXzmgg",
        "colab": {
          "base_uri": "https://localhost:8080/"
        },
        "outputId": "e7f263c7-6a21-4060-93dd-b21a05156c23"
      },
      "source": [
        "image_list_train, label_list_train = [], []\n",
        "try:\n",
        "    print(\"[INFO] Loading images ...\")\n",
        "    root_dir = listdir(directory_root_train)\n",
        "\n",
        "    for plant_disease_folder in root_dir:\n",
        "        print(f\"[INFO] Processing {plant_disease_folder} ...\")\n",
        "        plant_disease_image_list = listdir(f\"{directory_root_train}/{plant_disease_folder}/\")\n",
        "      \n",
        "        for image in plant_disease_image_list:\n",
        "            image_directory = f\"{directory_root_train}/{plant_disease_folder}/{image}\"\n",
        "\n",
        "            if image_directory.endswith(\".jpg\") == True or image_directory.endswith(\".JPG\") == True:\n",
        "                image_list_train.append(convert_image_to_array(image_directory))\n",
        "                label_list_train.append(plant_disease_folder)\n",
        "    print(\"[INFO] Image loading completed\")\n",
        "\n",
        "except Exception as e:\n",
        "    print(f\"Error : {e}\")\n",
        "\n",
        "#image labeling\n",
        "image_size = len(image_list_train)\n",
        "label_binarizer = LabelBinarizer()\n",
        "image_labels_train = label_binarizer.fit_transform(label_list_train)\n",
        "pickle.dump(label_binarizer,open('label_transform_train.pkl', 'wb'))\n",
        "n_classes = len(label_binarizer.classes_)\n",
        "np_image_list_train = np.array(image_list_train, dtype=np.float16) / 255.0"
      ],
      "execution_count": 4,
      "outputs": [
        {
          "output_type": "stream",
          "name": "stdout",
          "text": [
            "[INFO] Loading images ...\n",
            "[INFO] Processing Apple___Black_rot ...\n",
            "[INFO] Processing Apple___Cedar_apple_rust ...\n",
            "[INFO] Processing Apple___healthy ...\n",
            "[INFO] Processing Apple___Apple_scab ...\n",
            "[INFO] Image loading completed\n"
          ]
        }
      ]
    },
    {
      "cell_type": "markdown",
      "source": [
        "Converting **Validation** Data to Array"
      ],
      "metadata": {
        "id": "7eEMGiqRd_E4"
      }
    },
    {
      "cell_type": "code",
      "source": [
        "image_list_validation, label_list_validation = [], []\n",
        "try:\n",
        "    print(\"[INFO] Loading images ...\")\n",
        "    root_dir = listdir(directory_root_validation)\n",
        "\n",
        "    for plant_disease_folder in root_dir:\n",
        "        print(f\"[INFO] Processing {plant_disease_folder} ...\")\n",
        "        plant_disease_image_list = listdir(f\"{directory_root_validation}/{plant_disease_folder}/\")\n",
        "      \n",
        "        for image in plant_disease_image_list:\n",
        "            image_directory = f\"{directory_root_validation}/{plant_disease_folder}/{image}\"\n",
        "\n",
        "            if image_directory.endswith(\".jpg\") == True or image_directory.endswith(\".JPG\") == True:\n",
        "                image_list_validation.append(convert_image_to_array(image_directory))\n",
        "                label_list_validation.append(plant_disease_folder)\n",
        "    print(\"[INFO] Image loading completed\")\n",
        "\n",
        "except Exception as e:\n",
        "    print(f\"Error : {e}\")\n",
        "\n",
        "#image labeling\n",
        "image_size = len(image_list_validation)\n",
        "label_binarizer = LabelBinarizer()\n",
        "image_labels_validation = label_binarizer.fit_transform(label_list_validation)\n",
        "pickle.dump(label_binarizer,open('label_transform_validation.pkl', 'wb'))\n",
        "n_classes = len(label_binarizer.classes_)\n",
        "np_image_list_validation = np.array(image_list_validation, dtype=np.float16) / 255.0"
      ],
      "metadata": {
        "id": "wfHDdR0ZeEuU",
        "colab": {
          "base_uri": "https://localhost:8080/"
        },
        "outputId": "dc42cfe2-5969-4973-f2fc-215eb26b6068"
      },
      "execution_count": 5,
      "outputs": [
        {
          "output_type": "stream",
          "name": "stdout",
          "text": [
            "[INFO] Loading images ...\n",
            "[INFO] Processing Apple___Black_rot ...\n",
            "[INFO] Processing Apple___Cedar_apple_rust ...\n",
            "[INFO] Processing Apple___healthy ...\n",
            "[INFO] Processing Apple___Apple_scab ...\n",
            "[INFO] Image loading completed\n"
          ]
        }
      ]
    },
    {
      "cell_type": "markdown",
      "source": [
        "Converting **Testing** Data to Array"
      ],
      "metadata": {
        "id": "brwWyZVncTdg"
      }
    },
    {
      "cell_type": "code",
      "metadata": {
        "id": "uNPby5UMcaWY",
        "colab": {
          "base_uri": "https://localhost:8080/"
        },
        "outputId": "73c6e2e2-2685-4b1a-ffb5-4e58c7a7f596"
      },
      "source": [
        "image_list_test, label_list_test = [], []\n",
        "try:\n",
        "    print(\"[INFO] Loading images ...\")\n",
        "    root_dir = listdir(directory_root_test)\n",
        "\n",
        "    for plant_disease_folder in root_dir:\n",
        "        print(f\"[INFO] Processing {plant_disease_folder} ...\")\n",
        "        plant_disease_image_list = listdir(f\"{directory_root_test}/{plant_disease_folder}/\")\n",
        "      \n",
        "        for image in plant_disease_image_list:\n",
        "            image_directory = f\"{directory_root_test}/{plant_disease_folder}/{image}\"\n",
        "\n",
        "            if image_directory.endswith(\".jpg\") == True or image_directory.endswith(\".JPG\") == True:\n",
        "                image_list_test.append(convert_image_to_array(image_directory))\n",
        "                label_list_test.append(plant_disease_folder)\n",
        "    print(\"[INFO] Image loading completed\")\n",
        "\n",
        "except Exception as e:\n",
        "    print(f\"Error : {e}\")\n",
        "\n",
        "#image labeling\n",
        "image_size = len(image_list_test)\n",
        "label_binarizer = LabelBinarizer()\n",
        "image_labels_test = label_binarizer.fit_transform(label_list_test)\n",
        "pickle.dump(label_binarizer,open('label_transform_test.pkl', 'wb'))\n",
        "n_classes = len(label_binarizer.classes_)\n",
        "np_image_list_test = np.array(image_list_test, dtype=np.float16) / 255.0"
      ],
      "execution_count": 6,
      "outputs": [
        {
          "output_type": "stream",
          "name": "stdout",
          "text": [
            "[INFO] Loading images ...\n",
            "[INFO] Processing Apple___Black_rot ...\n",
            "[INFO] Processing Apple___Cedar_apple_rust ...\n",
            "[INFO] Processing Apple___healthy ...\n",
            "[INFO] Processing Apple___Apple_scab ...\n",
            "[INFO] Image loading completed\n"
          ]
        }
      ]
    },
    {
      "cell_type": "markdown",
      "metadata": {
        "id": "jYBTFN0CnAi7"
      },
      "source": [
        "Data Augmenting Initialization"
      ]
    },
    {
      "cell_type": "code",
      "metadata": {
        "id": "TLMxMK2Tzmgr"
      },
      "source": [
        "aug = keras.preprocessing.image.ImageDataGenerator(\n",
        "    rotation_range=25, \n",
        "    width_shift_range=0.1,\n",
        "    height_shift_range=0.1, \n",
        "    shear_range=0.2, \n",
        "    zoom_range=0.2,\n",
        "    horizontal_flip=True, \n",
        "    fill_mode=\"nearest\")"
      ],
      "execution_count": 7,
      "outputs": []
    },
    {
      "cell_type": "markdown",
      "metadata": {
        "id": "H1BfRyYNnGv_"
      },
      "source": [
        "Creating CNN Model"
      ]
    },
    {
      "cell_type": "code",
      "metadata": {
        "id": "WmLX4wm8zmgs"
      },
      "source": [
        "model = keras.models.Sequential()\n",
        "inputShape = (height, width, depth)\n",
        "\n",
        "model.add(Conv2D(32, (3, 3), padding=\"same\",input_shape=inputShape))\n",
        "model.add(Activation(\"relu\"))\n",
        "\n",
        "model.add(MaxPooling2D(pool_size=(3, 3)))\n",
        "\n",
        "model.add(Conv2D(64, (3, 3), padding=\"same\"))\n",
        "model.add(Activation(\"relu\"))\n",
        "\n",
        "model.add(MaxPooling2D(pool_size=(3, 3)))\n",
        "\n",
        "model.add(Conv2D(128, (3, 3), padding=\"same\"))\n",
        "model.add(Activation(\"relu\"))\n",
        "\n",
        "model.add(MaxPooling2D(pool_size=(2, 2)))\n",
        "\n",
        "model.add(Conv2D(256, (3, 3), padding=\"same\"))\n",
        "model.add(Activation(\"relu\"))\n",
        "\n",
        "model.add(MaxPooling2D(pool_size=(2, 2)))\n",
        "\n",
        "model.add(Flatten())\n",
        "\n",
        "model.add(Dense(1024))\n",
        "model.add(Activation(\"relu\"))\n",
        "\n",
        "model.add(Dense(n_classes))\n",
        "model.add(Activation(\"softmax\"))"
      ],
      "execution_count": 8,
      "outputs": []
    },
    {
      "cell_type": "markdown",
      "metadata": {
        "id": "Zfsu3lVfnXFG"
      },
      "source": [
        "**Training** Network"
      ]
    },
    {
      "cell_type": "code",
      "metadata": {
        "id": "rvwKwe3Lzmgv",
        "colab": {
          "base_uri": "https://localhost:8080/"
        },
        "outputId": "9a6569df-5c64-4b67-c6f0-c30de0a40a17"
      },
      "source": [
        "EPOCHS = 50\n",
        "INIT_LR = 1e-3\n",
        "BS = 32\n",
        "\n",
        "with tf.device('/GPU:0'):\n",
        "  opt = Adam(learning_rate=INIT_LR, decay=INIT_LR / EPOCHS)\n",
        "  model.compile(loss=\"categorical_crossentropy\", optimizer=opt,metrics=[\"Accuracy\", \"FalseNegatives\", \"FalsePositives\", \"TrueNegatives\", \"TruePositives\"])\n",
        "  \n",
        "  history = model.fit(\n",
        "      aug.flow(np_image_list_train, image_labels_train, batch_size=BS),\n",
        "      validation_data=(np_image_list_validation, image_labels_validation),\n",
        "      steps_per_epoch=len(np_image_list_train) // BS,\n",
        "      epochs=EPOCHS, \n",
        "      verbose=1,\n",
        "      )\n"
      ],
      "execution_count": 9,
      "outputs": [
        {
          "output_type": "stream",
          "name": "stdout",
          "text": [
            "Epoch 1/50\n",
            "63/63 [==============================] - 44s 520ms/step - loss: 1.0758 - Accuracy: 0.5613 - false_negatives: 1281.0000 - false_positives: 375.0000 - true_negatives: 5616.0000 - true_positives: 716.0000 - val_loss: 0.9929 - val_Accuracy: 0.6647 - val_false_negatives: 191.0000 - val_false_positives: 145.0000 - val_true_negatives: 1376.0000 - val_true_positives: 316.0000\n",
            "Epoch 2/50\n",
            "63/63 [==============================] - 30s 479ms/step - loss: 0.5244 - Accuracy: 0.8017 - false_negatives: 476.0000 - false_positives: 308.0000 - true_negatives: 5683.0000 - true_positives: 1521.0000 - val_loss: 0.5416 - val_Accuracy: 0.8047 - val_false_negatives: 106.0000 - val_false_positives: 87.0000 - val_true_negatives: 1434.0000 - val_true_positives: 401.0000\n",
            "Epoch 3/50\n",
            "63/63 [==============================] - 30s 477ms/step - loss: 0.3536 - Accuracy: 0.8713 - false_negatives: 291.0000 - false_positives: 227.0000 - true_negatives: 5764.0000 - true_positives: 1706.0000 - val_loss: 0.8954 - val_Accuracy: 0.7929 - val_false_negatives: 112.0000 - val_false_positives: 100.0000 - val_true_negatives: 1421.0000 - val_true_positives: 395.0000\n",
            "Epoch 4/50\n",
            "63/63 [==============================] - 30s 483ms/step - loss: 0.3650 - Accuracy: 0.8593 - false_negatives: 314.0000 - false_positives: 234.0000 - true_negatives: 5757.0000 - true_positives: 1683.0000 - val_loss: 0.2276 - val_Accuracy: 0.9231 - val_false_negatives: 40.0000 - val_false_positives: 38.0000 - val_true_negatives: 1483.0000 - val_true_positives: 467.0000\n",
            "Epoch 5/50\n",
            "63/63 [==============================] - 30s 479ms/step - loss: 0.3082 - Accuracy: 0.8863 - false_negatives: 254.0000 - false_positives: 198.0000 - true_negatives: 5793.0000 - true_positives: 1743.0000 - val_loss: 0.5920 - val_Accuracy: 0.8087 - val_false_negatives: 104.0000 - val_false_positives: 89.0000 - val_true_negatives: 1432.0000 - val_true_positives: 403.0000\n",
            "Epoch 6/50\n",
            "63/63 [==============================] - 30s 478ms/step - loss: 0.2397 - Accuracy: 0.9104 - false_negatives: 194.0000 - false_positives: 155.0000 - true_negatives: 5836.0000 - true_positives: 1803.0000 - val_loss: 0.5686 - val_Accuracy: 0.8402 - val_false_negatives: 87.0000 - val_false_positives: 75.0000 - val_true_negatives: 1446.0000 - val_true_positives: 420.0000\n",
            "Epoch 7/50\n",
            "63/63 [==============================] - 30s 477ms/step - loss: 0.2456 - Accuracy: 0.9099 - false_negatives: 197.0000 - false_positives: 155.0000 - true_negatives: 5836.0000 - true_positives: 1800.0000 - val_loss: 0.3823 - val_Accuracy: 0.8679 - val_false_negatives: 67.0000 - val_false_positives: 61.0000 - val_true_negatives: 1460.0000 - val_true_positives: 440.0000\n",
            "Epoch 8/50\n",
            "63/63 [==============================] - 31s 485ms/step - loss: 0.2299 - Accuracy: 0.9104 - false_negatives: 192.0000 - false_positives: 157.0000 - true_negatives: 5834.0000 - true_positives: 1805.0000 - val_loss: 0.4107 - val_Accuracy: 0.8481 - val_false_negatives: 78.0000 - val_false_positives: 73.0000 - val_true_negatives: 1448.0000 - val_true_positives: 429.0000\n",
            "Epoch 9/50\n",
            "63/63 [==============================] - 31s 487ms/step - loss: 0.1869 - Accuracy: 0.9284 - false_negatives: 150.0000 - false_positives: 131.0000 - true_negatives: 5860.0000 - true_positives: 1847.0000 - val_loss: 0.4970 - val_Accuracy: 0.8442 - val_false_negatives: 82.0000 - val_false_positives: 78.0000 - val_true_negatives: 1443.0000 - val_true_positives: 425.0000\n",
            "Epoch 10/50\n",
            "63/63 [==============================] - 31s 485ms/step - loss: 0.1926 - Accuracy: 0.9269 - false_negatives: 159.0000 - false_positives: 133.0000 - true_negatives: 5858.0000 - true_positives: 1838.0000 - val_loss: 0.1333 - val_Accuracy: 0.9546 - val_false_negatives: 24.0000 - val_false_positives: 22.0000 - val_true_negatives: 1499.0000 - val_true_positives: 483.0000\n",
            "Epoch 11/50\n",
            "63/63 [==============================] - 30s 477ms/step - loss: 0.2046 - Accuracy: 0.9209 - false_negatives: 167.0000 - false_positives: 141.0000 - true_negatives: 5850.0000 - true_positives: 1830.0000 - val_loss: 0.2065 - val_Accuracy: 0.9310 - val_false_negatives: 37.0000 - val_false_positives: 33.0000 - val_true_negatives: 1488.0000 - val_true_positives: 470.0000\n",
            "Epoch 12/50\n",
            "63/63 [==============================] - 30s 483ms/step - loss: 0.1689 - Accuracy: 0.9364 - false_negatives: 136.0000 - false_positives: 119.0000 - true_negatives: 5872.0000 - true_positives: 1861.0000 - val_loss: 0.3396 - val_Accuracy: 0.9073 - val_false_negatives: 47.0000 - val_false_positives: 46.0000 - val_true_negatives: 1475.0000 - val_true_positives: 460.0000\n",
            "Epoch 13/50\n",
            "63/63 [==============================] - 31s 485ms/step - loss: 0.1523 - Accuracy: 0.9444 - false_negatives: 117.0000 - false_positives: 105.0000 - true_negatives: 5886.0000 - true_positives: 1880.0000 - val_loss: 0.1532 - val_Accuracy: 0.9467 - val_false_negatives: 27.0000 - val_false_positives: 26.0000 - val_true_negatives: 1495.0000 - val_true_positives: 480.0000\n",
            "Epoch 14/50\n",
            "63/63 [==============================] - 30s 476ms/step - loss: 0.1376 - Accuracy: 0.9464 - false_negatives: 112.0000 - false_positives: 103.0000 - true_negatives: 5888.0000 - true_positives: 1885.0000 - val_loss: 0.1725 - val_Accuracy: 0.9349 - val_false_negatives: 34.0000 - val_false_positives: 33.0000 - val_true_negatives: 1488.0000 - val_true_positives: 473.0000\n",
            "Epoch 15/50\n",
            "63/63 [==============================] - 31s 484ms/step - loss: 0.1388 - Accuracy: 0.9474 - false_negatives: 107.0000 - false_positives: 98.0000 - true_negatives: 5893.0000 - true_positives: 1890.0000 - val_loss: 0.1374 - val_Accuracy: 0.9507 - val_false_negatives: 25.0000 - val_false_positives: 25.0000 - val_true_negatives: 1496.0000 - val_true_positives: 482.0000\n",
            "Epoch 16/50\n",
            "63/63 [==============================] - 31s 489ms/step - loss: 0.1290 - Accuracy: 0.9524 - false_negatives: 98.0000 - false_positives: 92.0000 - true_negatives: 5899.0000 - true_positives: 1899.0000 - val_loss: 0.1511 - val_Accuracy: 0.9487 - val_false_negatives: 27.0000 - val_false_positives: 25.0000 - val_true_negatives: 1496.0000 - val_true_positives: 480.0000\n",
            "Epoch 17/50\n",
            "63/63 [==============================] - 30s 483ms/step - loss: 0.1119 - Accuracy: 0.9589 - false_negatives: 85.0000 - false_positives: 76.0000 - true_negatives: 5915.0000 - true_positives: 1912.0000 - val_loss: 0.1691 - val_Accuracy: 0.9408 - val_false_negatives: 31.0000 - val_false_positives: 29.0000 - val_true_negatives: 1492.0000 - val_true_positives: 476.0000\n",
            "Epoch 18/50\n",
            "63/63 [==============================] - 30s 481ms/step - loss: 0.1161 - Accuracy: 0.9599 - false_negatives: 86.0000 - false_positives: 74.0000 - true_negatives: 5917.0000 - true_positives: 1911.0000 - val_loss: 0.2372 - val_Accuracy: 0.9211 - val_false_negatives: 41.0000 - val_false_positives: 39.0000 - val_true_negatives: 1482.0000 - val_true_positives: 466.0000\n",
            "Epoch 19/50\n",
            "63/63 [==============================] - 30s 475ms/step - loss: 0.0829 - Accuracy: 0.9740 - false_negatives: 54.0000 - false_positives: 51.0000 - true_negatives: 5940.0000 - true_positives: 1943.0000 - val_loss: 0.1346 - val_Accuracy: 0.9527 - val_false_negatives: 24.0000 - val_false_positives: 24.0000 - val_true_negatives: 1497.0000 - val_true_positives: 483.0000\n",
            "Epoch 20/50\n",
            "63/63 [==============================] - 31s 486ms/step - loss: 0.1019 - Accuracy: 0.9624 - false_negatives: 76.0000 - false_positives: 73.0000 - true_negatives: 5918.0000 - true_positives: 1921.0000 - val_loss: 0.1195 - val_Accuracy: 0.9527 - val_false_negatives: 25.0000 - val_false_positives: 24.0000 - val_true_negatives: 1497.0000 - val_true_positives: 482.0000\n",
            "Epoch 21/50\n",
            "63/63 [==============================] - 30s 476ms/step - loss: 0.1109 - Accuracy: 0.9589 - false_negatives: 87.0000 - false_positives: 77.0000 - true_negatives: 5914.0000 - true_positives: 1910.0000 - val_loss: 0.0892 - val_Accuracy: 0.9665 - val_false_negatives: 17.0000 - val_false_positives: 17.0000 - val_true_negatives: 1504.0000 - val_true_positives: 490.0000\n",
            "Epoch 22/50\n",
            "63/63 [==============================] - 30s 474ms/step - loss: 0.0804 - Accuracy: 0.9705 - false_negatives: 60.0000 - false_positives: 57.0000 - true_negatives: 5934.0000 - true_positives: 1937.0000 - val_loss: 0.1556 - val_Accuracy: 0.9408 - val_false_negatives: 30.0000 - val_false_positives: 29.0000 - val_true_negatives: 1492.0000 - val_true_positives: 477.0000\n",
            "Epoch 23/50\n",
            "63/63 [==============================] - 30s 472ms/step - loss: 0.0925 - Accuracy: 0.9649 - false_negatives: 73.0000 - false_positives: 68.0000 - true_negatives: 5923.0000 - true_positives: 1924.0000 - val_loss: 0.1603 - val_Accuracy: 0.9408 - val_false_negatives: 32.0000 - val_false_positives: 29.0000 - val_true_negatives: 1492.0000 - val_true_positives: 475.0000\n",
            "Epoch 24/50\n",
            "63/63 [==============================] - 31s 489ms/step - loss: 0.1187 - Accuracy: 0.9494 - false_negatives: 103.0000 - false_positives: 97.0000 - true_negatives: 5894.0000 - true_positives: 1894.0000 - val_loss: 0.1160 - val_Accuracy: 0.9625 - val_false_negatives: 19.0000 - val_false_positives: 19.0000 - val_true_negatives: 1502.0000 - val_true_positives: 488.0000\n",
            "Epoch 25/50\n",
            "63/63 [==============================] - 31s 493ms/step - loss: 0.0857 - Accuracy: 0.9644 - false_negatives: 72.0000 - false_positives: 68.0000 - true_negatives: 5923.0000 - true_positives: 1925.0000 - val_loss: 0.0609 - val_Accuracy: 0.9744 - val_false_negatives: 14.0000 - val_false_positives: 13.0000 - val_true_negatives: 1508.0000 - val_true_positives: 493.0000\n",
            "Epoch 26/50\n",
            "63/63 [==============================] - 31s 486ms/step - loss: 0.0531 - Accuracy: 0.9820 - false_negatives: 38.0000 - false_positives: 34.0000 - true_negatives: 5957.0000 - true_positives: 1959.0000 - val_loss: 0.1743 - val_Accuracy: 0.9369 - val_false_negatives: 32.0000 - val_false_positives: 31.0000 - val_true_negatives: 1490.0000 - val_true_positives: 475.0000\n",
            "Epoch 27/50\n",
            "63/63 [==============================] - 31s 484ms/step - loss: 0.0968 - Accuracy: 0.9700 - false_negatives: 65.0000 - false_positives: 57.0000 - true_negatives: 5934.0000 - true_positives: 1932.0000 - val_loss: 0.1116 - val_Accuracy: 0.9586 - val_false_negatives: 22.0000 - val_false_positives: 21.0000 - val_true_negatives: 1500.0000 - val_true_positives: 485.0000\n",
            "Epoch 28/50\n",
            "63/63 [==============================] - 31s 487ms/step - loss: 0.0587 - Accuracy: 0.9785 - false_negatives: 45.0000 - false_positives: 43.0000 - true_negatives: 5948.0000 - true_positives: 1952.0000 - val_loss: 0.0522 - val_Accuracy: 0.9803 - val_false_negatives: 10.0000 - val_false_positives: 10.0000 - val_true_negatives: 1511.0000 - val_true_positives: 497.0000\n",
            "Epoch 29/50\n",
            "63/63 [==============================] - 31s 491ms/step - loss: 0.0396 - Accuracy: 0.9870 - false_negatives: 27.0000 - false_positives: 26.0000 - true_negatives: 5965.0000 - true_positives: 1970.0000 - val_loss: 0.0358 - val_Accuracy: 0.9882 - val_false_negatives: 6.0000 - val_false_positives: 6.0000 - val_true_negatives: 1515.0000 - val_true_positives: 501.0000\n",
            "Epoch 30/50\n",
            "63/63 [==============================] - 31s 488ms/step - loss: 0.0434 - Accuracy: 0.9835 - false_negatives: 33.0000 - false_positives: 33.0000 - true_negatives: 5958.0000 - true_positives: 1964.0000 - val_loss: 0.0968 - val_Accuracy: 0.9625 - val_false_negatives: 19.0000 - val_false_positives: 19.0000 - val_true_negatives: 1502.0000 - val_true_positives: 488.0000\n",
            "Epoch 31/50\n",
            "63/63 [==============================] - 31s 485ms/step - loss: 0.0812 - Accuracy: 0.9735 - false_negatives: 56.0000 - false_positives: 52.0000 - true_negatives: 5939.0000 - true_positives: 1941.0000 - val_loss: 0.1915 - val_Accuracy: 0.9270 - val_false_negatives: 37.0000 - val_false_positives: 32.0000 - val_true_negatives: 1489.0000 - val_true_positives: 470.0000\n",
            "Epoch 32/50\n",
            "63/63 [==============================] - 31s 491ms/step - loss: 0.0363 - Accuracy: 0.9850 - false_negatives: 30.0000 - false_positives: 28.0000 - true_negatives: 5963.0000 - true_positives: 1967.0000 - val_loss: 0.0735 - val_Accuracy: 0.9724 - val_false_negatives: 14.0000 - val_false_positives: 13.0000 - val_true_negatives: 1508.0000 - val_true_positives: 493.0000\n",
            "Epoch 33/50\n",
            "63/63 [==============================] - 30s 481ms/step - loss: 0.0568 - Accuracy: 0.9800 - false_negatives: 40.0000 - false_positives: 39.0000 - true_negatives: 5952.0000 - true_positives: 1957.0000 - val_loss: 0.0910 - val_Accuracy: 0.9645 - val_false_negatives: 18.0000 - val_false_positives: 18.0000 - val_true_negatives: 1503.0000 - val_true_positives: 489.0000\n",
            "Epoch 34/50\n",
            "63/63 [==============================] - 30s 481ms/step - loss: 0.0540 - Accuracy: 0.9800 - false_negatives: 40.0000 - false_positives: 39.0000 - true_negatives: 5952.0000 - true_positives: 1957.0000 - val_loss: 0.0648 - val_Accuracy: 0.9744 - val_false_negatives: 13.0000 - val_false_positives: 12.0000 - val_true_negatives: 1509.0000 - val_true_positives: 494.0000\n",
            "Epoch 35/50\n",
            "63/63 [==============================] - 31s 487ms/step - loss: 0.0203 - Accuracy: 0.9940 - false_negatives: 12.0000 - false_positives: 11.0000 - true_negatives: 5980.0000 - true_positives: 1985.0000 - val_loss: 0.0429 - val_Accuracy: 0.9882 - val_false_negatives: 6.0000 - val_false_positives: 6.0000 - val_true_negatives: 1515.0000 - val_true_positives: 501.0000\n",
            "Epoch 36/50\n",
            "63/63 [==============================] - 31s 484ms/step - loss: 0.0324 - Accuracy: 0.9880 - false_negatives: 24.0000 - false_positives: 24.0000 - true_negatives: 5967.0000 - true_positives: 1973.0000 - val_loss: 0.0844 - val_Accuracy: 0.9704 - val_false_negatives: 15.0000 - val_false_positives: 15.0000 - val_true_negatives: 1506.0000 - val_true_positives: 492.0000\n",
            "Epoch 37/50\n",
            "63/63 [==============================] - 31s 485ms/step - loss: 0.0381 - Accuracy: 0.9855 - false_negatives: 29.0000 - false_positives: 29.0000 - true_negatives: 5962.0000 - true_positives: 1968.0000 - val_loss: 0.0642 - val_Accuracy: 0.9822 - val_false_negatives: 10.0000 - val_false_positives: 9.0000 - val_true_negatives: 1512.0000 - val_true_positives: 497.0000\n",
            "Epoch 38/50\n",
            "63/63 [==============================] - 30s 479ms/step - loss: 0.0132 - Accuracy: 0.9965 - false_negatives: 8.0000 - false_positives: 7.0000 - true_negatives: 5984.0000 - true_positives: 1989.0000 - val_loss: 0.0242 - val_Accuracy: 0.9921 - val_false_negatives: 4.0000 - val_false_positives: 4.0000 - val_true_negatives: 1517.0000 - val_true_positives: 503.0000\n",
            "Epoch 39/50\n",
            "63/63 [==============================] - 31s 489ms/step - loss: 0.0603 - Accuracy: 0.9785 - false_negatives: 43.0000 - false_positives: 41.0000 - true_negatives: 5950.0000 - true_positives: 1954.0000 - val_loss: 0.0225 - val_Accuracy: 0.9941 - val_false_negatives: 3.0000 - val_false_positives: 3.0000 - val_true_negatives: 1518.0000 - val_true_positives: 504.0000\n",
            "Epoch 40/50\n",
            "63/63 [==============================] - 31s 492ms/step - loss: 0.0330 - Accuracy: 0.9905 - false_negatives: 19.0000 - false_positives: 19.0000 - true_negatives: 5972.0000 - true_positives: 1978.0000 - val_loss: 0.0375 - val_Accuracy: 0.9882 - val_false_negatives: 6.0000 - val_false_positives: 5.0000 - val_true_negatives: 1516.0000 - val_true_positives: 501.0000\n",
            "Epoch 41/50\n",
            "63/63 [==============================] - 30s 475ms/step - loss: 0.0404 - Accuracy: 0.9850 - false_negatives: 31.0000 - false_positives: 30.0000 - true_negatives: 5961.0000 - true_positives: 1966.0000 - val_loss: 0.0124 - val_Accuracy: 0.9961 - val_false_negatives: 2.0000 - val_false_positives: 2.0000 - val_true_negatives: 1519.0000 - val_true_positives: 505.0000\n",
            "Epoch 42/50\n",
            "63/63 [==============================] - 30s 479ms/step - loss: 0.0107 - Accuracy: 0.9970 - false_negatives: 6.0000 - false_positives: 5.0000 - true_negatives: 5986.0000 - true_positives: 1991.0000 - val_loss: 0.0270 - val_Accuracy: 0.9882 - val_false_negatives: 6.0000 - val_false_positives: 6.0000 - val_true_negatives: 1515.0000 - val_true_positives: 501.0000\n",
            "Epoch 43/50\n",
            "63/63 [==============================] - 31s 485ms/step - loss: 0.0199 - Accuracy: 0.9910 - false_negatives: 18.0000 - false_positives: 18.0000 - true_negatives: 5973.0000 - true_positives: 1979.0000 - val_loss: 0.0555 - val_Accuracy: 0.9763 - val_false_negatives: 12.0000 - val_false_positives: 12.0000 - val_true_negatives: 1509.0000 - val_true_positives: 495.0000\n",
            "Epoch 44/50\n",
            "63/63 [==============================] - 30s 481ms/step - loss: 0.0227 - Accuracy: 0.9915 - false_negatives: 17.0000 - false_positives: 17.0000 - true_negatives: 5974.0000 - true_positives: 1980.0000 - val_loss: 0.0839 - val_Accuracy: 0.9783 - val_false_negatives: 11.0000 - val_false_positives: 11.0000 - val_true_negatives: 1510.0000 - val_true_positives: 496.0000\n",
            "Epoch 45/50\n",
            "63/63 [==============================] - 31s 488ms/step - loss: 0.1123 - Accuracy: 0.9685 - false_negatives: 66.0000 - false_positives: 61.0000 - true_negatives: 5930.0000 - true_positives: 1931.0000 - val_loss: 0.0409 - val_Accuracy: 0.9882 - val_false_negatives: 9.0000 - val_false_positives: 5.0000 - val_true_negatives: 1516.0000 - val_true_positives: 498.0000\n",
            "Epoch 46/50\n",
            "63/63 [==============================] - 31s 484ms/step - loss: 0.0228 - Accuracy: 0.9925 - false_negatives: 16.0000 - false_positives: 15.0000 - true_negatives: 5976.0000 - true_positives: 1981.0000 - val_loss: 0.0430 - val_Accuracy: 0.9822 - val_false_negatives: 10.0000 - val_false_positives: 8.0000 - val_true_negatives: 1513.0000 - val_true_positives: 497.0000\n",
            "Epoch 47/50\n",
            "63/63 [==============================] - 30s 483ms/step - loss: 0.0397 - Accuracy: 0.9845 - false_negatives: 32.0000 - false_positives: 30.0000 - true_negatives: 5961.0000 - true_positives: 1965.0000 - val_loss: 0.0404 - val_Accuracy: 0.9882 - val_false_negatives: 6.0000 - val_false_positives: 6.0000 - val_true_negatives: 1515.0000 - val_true_positives: 501.0000\n",
            "Epoch 48/50\n",
            "63/63 [==============================] - 31s 490ms/step - loss: 0.0258 - Accuracy: 0.9915 - false_negatives: 18.0000 - false_positives: 16.0000 - true_negatives: 5975.0000 - true_positives: 1979.0000 - val_loss: 0.0387 - val_Accuracy: 0.9783 - val_false_negatives: 11.0000 - val_false_positives: 11.0000 - val_true_negatives: 1510.0000 - val_true_positives: 496.0000\n",
            "Epoch 49/50\n",
            "63/63 [==============================] - 31s 486ms/step - loss: 0.0405 - Accuracy: 0.9875 - false_negatives: 25.0000 - false_positives: 25.0000 - true_negatives: 5966.0000 - true_positives: 1972.0000 - val_loss: 0.0837 - val_Accuracy: 0.9724 - val_false_negatives: 14.0000 - val_false_positives: 14.0000 - val_true_negatives: 1507.0000 - val_true_positives: 493.0000\n",
            "Epoch 50/50\n",
            "63/63 [==============================] - 30s 480ms/step - loss: 0.0229 - Accuracy: 0.9910 - false_negatives: 18.0000 - false_positives: 17.0000 - true_negatives: 5974.0000 - true_positives: 1979.0000 - val_loss: 0.0229 - val_Accuracy: 0.9941 - val_false_negatives: 3.0000 - val_false_positives: 3.0000 - val_true_negatives: 1518.0000 - val_true_positives: 504.0000\n"
          ]
        }
      ]
    },
    {
      "cell_type": "markdown",
      "source": [
        "Plotting Traning Result"
      ],
      "metadata": {
        "id": "XZSFG8fXqz7c"
      }
    },
    {
      "cell_type": "code",
      "source": [
        "  #plotting\n",
        "  epochs = range(1, len(history.history['loss'])+1)\n",
        "  plt.title(f\"Grafik loss training iterasi {iterasi}\")\n",
        "  plt.plot(epochs, history.history['loss'], 'r', label='Training Loss')\n",
        "  plt.plot(epochs, history.history['val_loss'], 'b', label='Validation Loss')    \n",
        "  plt.xlabel(\"Epoch\")\n",
        "  plt.ylabel(\"Loss\")\n",
        "  plt.legend()\n",
        "  plt.show()\n"
      ],
      "metadata": {
        "id": "3dXbDrJpY1NK",
        "colab": {
          "base_uri": "https://localhost:8080/",
          "height": 295
        },
        "outputId": "f3c70ed4-d91b-42bf-ea3a-bbe23a3a61ce"
      },
      "execution_count": 10,
      "outputs": [
        {
          "output_type": "display_data",
          "data": {
            "image/png": "[encoded data removed]",
            "text/plain": [
              "<Figure size 432x288 with 1 Axes>"
            ]
          },
          "metadata": {
            "needs_background": "light"
          }
        }
      ]
    },
    {
      "cell_type": "code",
      "source": [
        "  #plotting\n",
        "  epochs = range(1, len(history.history['loss'])+1)\n",
        "  plt.title(f\"Grafik Akurasi training iterasi {iterasi}\")\n",
        "  plt.plot(epochs, history.history['Accuracy'], 'r', label='Training Accuracy')\n",
        "  plt.plot(epochs, history.history['val_Accuracy'], 'b', label='Validation Accuracy')    \n",
        "  plt.xlabel(\"Epoch\")\n",
        "  plt.ylabel(\"Accuracy\")\n",
        "  plt.legend()\n",
        "  plt.show()"
      ],
      "metadata": {
        "colab": {
          "base_uri": "https://localhost:8080/",
          "height": 295
        },
        "id": "j3xigprPwlSX",
        "outputId": "57b6e50c-105b-42f4-925c-2e5ae2cf3714"
      },
      "execution_count": 11,
      "outputs": [
        {
          "output_type": "display_data",
          "data": {
            "image/png": "[encoded data removed]",
            "text/plain": [
              "<Figure size 432x288 with 1 Axes>"
            ]
          },
          "metadata": {
            "needs_background": "light"
          }
        }
      ]
    },
    {
      "cell_type": "markdown",
      "metadata": {
        "id": "bTgk1-sdzmgy"
      },
      "source": [
        "**Validating** Network"
      ]
    },
    {
      "cell_type": "code",
      "source": [
        "import matplotlib.pyplot as plt\n",
        "from sklearn.datasets import make_classification\n",
        "from numpy import mean\n",
        "from sklearn.metrics import confusion_matrix, ConfusionMatrixDisplay, accuracy_score, classification_report, recall_score\n",
        "\n",
        "validation = model.predict(np_image_list_validation)\n",
        "\n",
        "predicted_labels = []\n",
        "correct_labels = []\n",
        "for i in range (len(validation)):\n",
        "  predicted_labels.append(np.argmax(validation[i]))\n",
        "\n",
        "for i in range (len(image_labels_validation)):\n",
        "  correct_labels.append(np.argmax(image_labels_validation[i]))\n",
        "\n",
        "\n",
        "confusion_matrix = confusion_matrix(correct_labels, predicted_labels)\n",
        "disp = ConfusionMatrixDisplay(confusion_matrix=confusion_matrix)  \n",
        "disp.plot()\n",
        "plt.show()\n",
        "print('--------')\n",
        "FP = confusion_matrix.sum(axis=0) - np.diag(confusion_matrix)  \n",
        "FN = confusion_matrix.sum(axis=1) - np.diag(confusion_matrix)\n",
        "TP = np.diag(confusion_matrix)\n",
        "TN = confusion_matrix.sum() - (FP + FN + TP)\n",
        "\n",
        "# Sensitivity, hit rate, recall, or true positive rate\n",
        "TPR = TP/(TP+FN)\n",
        "# Specificity or true negative rate\n",
        "TNR = TN/(TN+FP) \n",
        "# Overall accuracy\n",
        "ACC = (TP+TN)/(TP+FP+FN+TN)\n",
        "\n",
        "print(TP)\n",
        "print(TN)\n",
        "print(FP)\n",
        "print(FN)\n",
        "print('--------')\n",
        "print(ACC)\n",
        "print(TPR)\n",
        "print(TNR)\n",
        "print('--------')\n",
        "\n",
        "TP = sum(TP)\n",
        "TN = sum(TN)\n",
        "FP = sum(FP)\n",
        "FN = sum(FN)\n",
        "\n",
        "# Sensitivity, hit rate, recall, or true positive rate\n",
        "TPR = TP/(TP+FN)\n",
        "# Specificity or true negative rate\n",
        "TNR = TN/(TN+FP) \n",
        "# Overall accuracy\n",
        "ACC = (TP+TN)/(TP+FP+FN+TN)\n",
        "\n",
        "print(TP)\n",
        "print(TN)\n",
        "print(FP)\n",
        "print(FN)\n",
        "print('--------')\n",
        "print(ACC)\n",
        "print(TPR)\n",
        "print(TNR)\n"
      ],
      "metadata": {
        "colab": {
          "base_uri": "https://localhost:8080/",
          "height": 591
        },
        "id": "z9NBaYvZ61d7",
        "outputId": "4d3b8a22-2767-4f25-8951-5ddc1343b73c"
      },
      "execution_count": 12,
      "outputs": [
        {
          "output_type": "display_data",
          "data": {
            "image/png": "[encoded data removed]",
            "text/plain": [
              "<Figure size 432x288 with 2 Axes>"
            ]
          },
          "metadata": {
            "needs_background": "light"
          }
        },
        {
          "output_type": "stream",
          "name": "stdout",
          "text": [
            "--------\n",
            "[ 99  99  44 262]\n",
            "[405 407 463 243]\n",
            "[1 1 0 1]\n",
            "[2 0 0 1]\n",
            "--------\n",
            "[0.99408284 0.99802761 1.         0.99605523]\n",
            "[0.98019802 1.         1.         0.99619772]\n",
            "[0.99753695 0.99754902 1.         0.99590164]\n",
            "--------\n",
            "504\n",
            "1518\n",
            "3\n",
            "3\n",
            "--------\n",
            "0.9970414201183432\n",
            "0.9940828402366864\n",
            "0.9980276134122288\n"
          ]
        }
      ]
    },
    {
      "cell_type": "markdown",
      "source": [
        "**Testing** Network"
      ],
      "metadata": {
        "id": "saJYjKqX9tRL"
      }
    },
    {
      "cell_type": "code",
      "source": [
        "import matplotlib.pyplot as plt\n",
        "from sklearn.datasets import make_classification\n",
        "from numpy import mean\n",
        "from sklearn.metrics import confusion_matrix, ConfusionMatrixDisplay, accuracy_score, classification_report, recall_score\n",
        "\n",
        "test = model.predict(np_image_list_test)\n",
        "\n",
        "predicted_labels = []\n",
        "correct_labels = []\n",
        "for i in range (len(test)):\n",
        "  predicted_labels.append(np.argmax(test[i]))\n",
        "\n",
        "for i in range (len(image_labels_test)):\n",
        "  correct_labels.append(np.argmax(image_labels_test[i]))\n",
        "\n",
        "\n",
        "confusion_matrix = confusion_matrix(correct_labels, predicted_labels)\n",
        "disp = ConfusionMatrixDisplay(confusion_matrix=confusion_matrix)  \n",
        "disp.plot()\n",
        "plt.show()\n",
        "print('--------')\n",
        "FP = confusion_matrix.sum(axis=0) - np.diag(confusion_matrix)  \n",
        "FN = confusion_matrix.sum(axis=1) - np.diag(confusion_matrix)\n",
        "TP = np.diag(confusion_matrix)\n",
        "TN = confusion_matrix.sum() - (FP + FN + TP)\n",
        "\n",
        "# Sensitivity, hit rate, recall, or true positive rate\n",
        "TPR = TP/(TP+FN)\n",
        "# Specificity or true negative rate\n",
        "TNR = TN/(TN+FP) \n",
        "# Overall accuracy\n",
        "ACC = (TP+TN)/(TP+FP+FN+TN)\n",
        "\n",
        "print(TP)\n",
        "print(TN)\n",
        "print(FP)\n",
        "print(FN)\n",
        "print('--------')\n",
        "print(ACC)\n",
        "print(TPR)\n",
        "print(TNR)\n",
        "print('--------')\n",
        "\n",
        "TP = sum(TP)\n",
        "TN = sum(TN)\n",
        "FP = sum(FP)\n",
        "FN = sum(FN)\n",
        "\n",
        "# Sensitivity, hit rate, recall, or true positive rate\n",
        "TPR = TP/(TP+FN)\n",
        "# Specificity or true negative rate\n",
        "TNR = TN/(TN+FP) \n",
        "# Overall accuracy\n",
        "ACC = (TP+TN)/(TP+FP+FN+TN)\n",
        "\n",
        "print(TP)\n",
        "print(TN)\n",
        "print(FP)\n",
        "print(FN)\n",
        "print('--------')\n",
        "print(ACC)\n",
        "print(TPR)\n",
        "print(TNR)"
      ],
      "metadata": {
        "colab": {
          "base_uri": "https://localhost:8080/",
          "height": 591
        },
        "id": "3a1AYdsF4FoY",
        "outputId": "f2173ed1-d9c6-432e-81ca-1c1eeb527ab7"
      },
      "execution_count": 13,
      "outputs": [
        {
          "output_type": "display_data",
          "data": {
            "image/png": "[encoded data removed]",
            "text/plain": [
              "<Figure size 432x288 with 2 Axes>"
            ]
          },
          "metadata": {
            "needs_background": "light"
          }
        },
        {
          "output_type": "stream",
          "name": "stdout",
          "text": [
            "--------\n",
            "[124 124  55 327]\n",
            "[506 509 579 304]\n",
            "[2 1 0 1]\n",
            "[2 0 0 2]\n",
            "--------\n",
            "[0.99369085 0.99842271 1.         0.99526814]\n",
            "[0.98412698 1.         1.         0.99392097]\n",
            "[0.99606299 0.99803922 1.         0.99672131]\n",
            "--------\n",
            "630\n",
            "1898\n",
            "4\n",
            "4\n",
            "--------\n",
            "0.9968454258675079\n",
            "0.9936908517350158\n",
            "0.9978969505783386\n"
          ]
        }
      ]
    },
    {
      "cell_type": "code",
      "metadata": {
        "id": "AKd6Tu7mzmg2"
      },
      "source": [
        "# save the model to disk\n",
        "#print(\"[INFO] Saving model...\")\n",
        "# pickle.dump(model,open('cnn_model.pkl', 'wb'))\n",
        "model.save('/content/fold5.h5')    "
      ],
      "execution_count": 14,
      "outputs": []
    },
    {
      "cell_type": "code",
      "metadata": {
        "id": "O6iIKa7Jzmg7"
      },
      "source": [
        "#test_img = cv2.imread('/content/datasets/Apple/Apple___Black_rot/0139bc6d-391c-4fd1-bcae-cc74dabfddd7___JR_FrgE.S 2734.JPG')\n",
        "\n",
        "#plt.imshow(test_img)\n",
        "#test_img = test_img / 255\n",
        "#test_img = np.expand_dims(test_img, axis=0)\n",
        "#pr=model.predict(test_img)\n",
        "\n",
        "#print(pr)\n",
        "#output = label_binarizer.inverse_transform(pr)\n",
        "#print(output)\n"
      ],
      "execution_count": 15,
      "outputs": []
    }
  ]
}