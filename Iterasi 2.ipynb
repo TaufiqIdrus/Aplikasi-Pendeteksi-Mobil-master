{
  "nbformat": 4,
  "nbformat_minor": 0,
  "metadata": {
    "accelerator": "GPU",
    "colab": {
      "name": "Kodingan Skripsi 3",
      "provenance": [],
      "collapsed_sections": [],
      "include_colab_link": true
    },
    "kernelspec": {
      "display_name": "Python 3",
      "language": "python",
      "name": "python3"
    },
    "language_info": {
      "codemirror_mode": {
        "name": "ipython",
        "version": 3
      },
      "file_extension": ".py",
      "mimetype": "text/x-python",
      "name": "python",
      "nbconvert_exporter": "python",
      "pygments_lexer": "ipython3",
      "version": "3.6.6"
    }
  },
  "cells": [
    {
      "cell_type": "markdown",
      "metadata": {
        "id": "view-in-github",
        "colab_type": "text"
      },
      "source": [
        "<a href=\"https://colab.research.google.com/github/TaufiqIdrus/Aplikasi-Pendeteksi-Mobil-master/blob/master/Iterasi%202.ipynb\" target=\"_parent\"><img src=\"https://colab.research.google.com/assets/colab-badge.svg\" alt=\"Open In Colab\"/></a>"
      ]
    },
    {
      "cell_type": "markdown",
      "metadata": {
        "id": "yJT_kQA2lITS"
      },
      "source": [
        "**Identifikasi Penyakit Pada Tanaman Apel menggunakan Convolutional Neural Network**"
      ]
    },
    {
      "cell_type": "code",
      "metadata": {
        "id": "xXeOaYTUzmgT"
      },
      "source": [
        "import numpy as np\n",
        "import pickle\n",
        "import os\n",
        "import cv2\n",
        "import tensorflow as tf\n",
        "import keras\n",
        "from os import listdir\n",
        "from sklearn.preprocessing import LabelBinarizer\n",
        "from sklearn.model_selection import KFold\n",
        "from keras.models import Sequential\n",
        "from keras.layers.normalization import batch_normalization\n",
        "from keras.layers.convolutional import Conv2D\n",
        "from keras.layers.convolutional import MaxPooling2D\n",
        "from keras.layers.core import Activation, Flatten, Dropout, Dense\n",
        "from keras import backend as K\n",
        "from tensorflow.keras.optimizers import Adam\n",
        "from keras.preprocessing import image\n",
        "from sklearn.preprocessing import MultiLabelBinarizer\n",
        "from sklearn.model_selection import train_test_split\n",
        "import matplotlib.pyplot as plt\n",
        "from sklearn.datasets import make_classification\n",
        "from numpy import mean\n",
        "from sklearn.metrics import confusion_matrix, ConfusionMatrixDisplay, accuracy_score, classification_report, recall_score\n"
      ],
      "execution_count": 1,
      "outputs": []
    },
    {
      "cell_type": "markdown",
      "metadata": {
        "id": "fp8C0d28lQok"
      },
      "source": [
        "Importing and Preparing Dataset"
      ]
    },
    {
      "cell_type": "code",
      "metadata": {
        "id": "_0xehllADlUs",
        "colab": {
          "base_uri": "https://localhost:8080/"
        },
        "outputId": "cd046bd0-ab3f-4d0b-e072-6855a1fa7424"
      },
      "source": [
        "!pip install pyunpack\n",
        "!pip install patool\n",
        "from pyunpack import Archive\n",
        "Archive('/content/Fold 2.rar').extractall('/content/Datasets/')\n",
        "iterasi = 2\n",
        "width=256\n",
        "height=256\n",
        "default_image_size = tuple((height, width))\n",
        "directory_root_train = '/content/Datasets/Fold 2/Train'\n",
        "directory_root_validation = '/content/Datasets/Fold 2/Validation'\n",
        "directory_root_test = '/content/Datasets/Fold 2/Test'\n",
        "image_size = 0\n",
        "depth=3"
      ],
      "execution_count": 2,
      "outputs": [
        {
          "output_type": "stream",
          "name": "stdout",
          "text": [
            "Collecting pyunpack\n",
            "  Downloading pyunpack-0.2.2-py2.py3-none-any.whl (3.8 kB)\n",
            "Collecting entrypoint2\n",
            "  Downloading entrypoint2-1.0-py3-none-any.whl (9.8 kB)\n",
            "Collecting easyprocess\n",
            "  Downloading EasyProcess-1.1-py3-none-any.whl (8.7 kB)\n",
            "Installing collected packages: entrypoint2, easyprocess, pyunpack\n",
            "Successfully installed easyprocess-1.1 entrypoint2-1.0 pyunpack-0.2.2\n",
            "Collecting patool\n",
            "  Downloading patool-1.12-py2.py3-none-any.whl (77 kB)\n",
            "\u001b[K     |████████████████████████████████| 77 kB 3.6 MB/s \n",
            "\u001b[?25hInstalling collected packages: patool\n",
            "Successfully installed patool-1.12\n"
          ]
        }
      ]
    },
    {
      "cell_type": "code",
      "metadata": {
        "id": "KbAwJJTpzmge"
      },
      "source": [
        "def convert_image_to_array(image_dir):\n",
        "    try:\n",
        "        image = cv2.imread(image_dir)\n",
        "        if image is not None :\n",
        "            image = cv2.resize(image, default_image_size)   \n",
        "            return keras.preprocessing.image.img_to_array(image)\n",
        "        else :\n",
        "            return np.array([])\n",
        "    except Exception as e:\n",
        "        print(f\"Error : {e}\")\n",
        "        return None"
      ],
      "execution_count": 3,
      "outputs": []
    },
    {
      "cell_type": "markdown",
      "source": [
        "Converting **Training** Data to Array"
      ],
      "metadata": {
        "id": "bgXxUMO2cI_D"
      }
    },
    {
      "cell_type": "code",
      "metadata": {
        "id": "Erz6IjKXzmgg",
        "colab": {
          "base_uri": "https://localhost:8080/"
        },
        "outputId": "385de586-1795-448f-b85b-79531b7e10c3"
      },
      "source": [
        "image_list_train, label_list_train = [], []\n",
        "try:\n",
        "    print(\"[INFO] Loading images ...\")\n",
        "    root_dir = listdir(directory_root_train)\n",
        "\n",
        "    for plant_disease_folder in root_dir:\n",
        "        print(f\"[INFO] Processing {plant_disease_folder} ...\")\n",
        "        plant_disease_image_list = listdir(f\"{directory_root_train}/{plant_disease_folder}/\")\n",
        "      \n",
        "        for image in plant_disease_image_list:\n",
        "            image_directory = f\"{directory_root_train}/{plant_disease_folder}/{image}\"\n",
        "\n",
        "            if image_directory.endswith(\".jpg\") == True or image_directory.endswith(\".JPG\") == True:\n",
        "                image_list_train.append(convert_image_to_array(image_directory))\n",
        "                label_list_train.append(plant_disease_folder)\n",
        "    print(\"[INFO] Image loading completed\")\n",
        "\n",
        "except Exception as e:\n",
        "    print(f\"Error : {e}\")\n",
        "\n",
        "#image labeling\n",
        "image_size = len(image_list_train)\n",
        "label_binarizer = LabelBinarizer()\n",
        "image_labels_train = label_binarizer.fit_transform(label_list_train)\n",
        "pickle.dump(label_binarizer,open('label_transform_train.pkl', 'wb'))\n",
        "n_classes = len(label_binarizer.classes_)\n",
        "np_image_list_train = np.array(image_list_train, dtype=np.float16) / 255.0"
      ],
      "execution_count": 4,
      "outputs": [
        {
          "output_type": "stream",
          "name": "stdout",
          "text": [
            "[INFO] Loading images ...\n",
            "[INFO] Processing Apple___Black_rot ...\n",
            "[INFO] Processing Apple___Cedar_apple_rust ...\n",
            "[INFO] Processing Apple___healthy ...\n",
            "[INFO] Processing Apple___Apple_scab ...\n",
            "[INFO] Image loading completed\n"
          ]
        }
      ]
    },
    {
      "cell_type": "markdown",
      "source": [
        "Converting **Validation** Data to Array"
      ],
      "metadata": {
        "id": "7eEMGiqRd_E4"
      }
    },
    {
      "cell_type": "code",
      "source": [
        "image_list_validation, label_list_validation = [], []\n",
        "try:\n",
        "    print(\"[INFO] Loading images ...\")\n",
        "    root_dir = listdir(directory_root_validation)\n",
        "\n",
        "    for plant_disease_folder in root_dir:\n",
        "        print(f\"[INFO] Processing {plant_disease_folder} ...\")\n",
        "        plant_disease_image_list = listdir(f\"{directory_root_validation}/{plant_disease_folder}/\")\n",
        "      \n",
        "        for image in plant_disease_image_list:\n",
        "            image_directory = f\"{directory_root_validation}/{plant_disease_folder}/{image}\"\n",
        "\n",
        "            if image_directory.endswith(\".jpg\") == True or image_directory.endswith(\".JPG\") == True:\n",
        "                image_list_validation.append(convert_image_to_array(image_directory))\n",
        "                label_list_validation.append(plant_disease_folder)\n",
        "    print(\"[INFO] Image loading completed\")\n",
        "\n",
        "except Exception as e:\n",
        "    print(f\"Error : {e}\")\n",
        "\n",
        "#image labeling\n",
        "image_size = len(image_list_validation)\n",
        "label_binarizer = LabelBinarizer()\n",
        "image_labels_validation = label_binarizer.fit_transform(label_list_validation)\n",
        "pickle.dump(label_binarizer,open('label_transform_validation.pkl', 'wb'))\n",
        "n_classes = len(label_binarizer.classes_)\n",
        "np_image_list_validation = np.array(image_list_validation, dtype=np.float16) / 255.0"
      ],
      "metadata": {
        "id": "wfHDdR0ZeEuU",
        "colab": {
          "base_uri": "https://localhost:8080/"
        },
        "outputId": "0e020c85-d5e4-4ac8-fdc6-6cf17029965b"
      },
      "execution_count": 5,
      "outputs": [
        {
          "output_type": "stream",
          "name": "stdout",
          "text": [
            "[INFO] Loading images ...\n",
            "[INFO] Processing Apple___Black_rot ...\n",
            "[INFO] Processing Apple___Cedar_apple_rust ...\n",
            "[INFO] Processing Apple___healthy ...\n",
            "[INFO] Processing Apple___Apple_scab ...\n",
            "[INFO] Image loading completed\n"
          ]
        }
      ]
    },
    {
      "cell_type": "markdown",
      "source": [
        "Converting **Testing** Data to Array"
      ],
      "metadata": {
        "id": "brwWyZVncTdg"
      }
    },
    {
      "cell_type": "code",
      "metadata": {
        "id": "uNPby5UMcaWY",
        "colab": {
          "base_uri": "https://localhost:8080/"
        },
        "outputId": "f75909f4-77eb-4f20-c702-bdc5dcc07a64"
      },
      "source": [
        "image_list_test, label_list_test = [], []\n",
        "try:\n",
        "    print(\"[INFO] Loading images ...\")\n",
        "    root_dir = listdir(directory_root_test)\n",
        "\n",
        "    for plant_disease_folder in root_dir:\n",
        "        print(f\"[INFO] Processing {plant_disease_folder} ...\")\n",
        "        plant_disease_image_list = listdir(f\"{directory_root_test}/{plant_disease_folder}/\")\n",
        "      \n",
        "        for image in plant_disease_image_list:\n",
        "            image_directory = f\"{directory_root_test}/{plant_disease_folder}/{image}\"\n",
        "\n",
        "            if image_directory.endswith(\".jpg\") == True or image_directory.endswith(\".JPG\") == True:\n",
        "                image_list_test.append(convert_image_to_array(image_directory))\n",
        "                label_list_test.append(plant_disease_folder)\n",
        "    print(\"[INFO] Image loading completed\")\n",
        "\n",
        "except Exception as e:\n",
        "    print(f\"Error : {e}\")\n",
        "\n",
        "#image labeling\n",
        "image_size = len(image_list_test)\n",
        "label_binarizer = LabelBinarizer()\n",
        "image_labels_test = label_binarizer.fit_transform(label_list_test)\n",
        "pickle.dump(label_binarizer,open('label_transform_test.pkl', 'wb'))\n",
        "n_classes = len(label_binarizer.classes_)\n",
        "np_image_list_test = np.array(image_list_test, dtype=np.float16) / 255.0"
      ],
      "execution_count": 6,
      "outputs": [
        {
          "output_type": "stream",
          "name": "stdout",
          "text": [
            "[INFO] Loading images ...\n",
            "[INFO] Processing Apple___Black_rot ...\n",
            "[INFO] Processing Apple___Cedar_apple_rust ...\n",
            "[INFO] Processing Apple___healthy ...\n",
            "[INFO] Processing Apple___Apple_scab ...\n",
            "[INFO] Image loading completed\n"
          ]
        }
      ]
    },
    {
      "cell_type": "markdown",
      "metadata": {
        "id": "jYBTFN0CnAi7"
      },
      "source": [
        "Data Augmenting Initialization"
      ]
    },
    {
      "cell_type": "code",
      "metadata": {
        "id": "TLMxMK2Tzmgr"
      },
      "source": [
        "aug = keras.preprocessing.image.ImageDataGenerator(\n",
        "    rotation_range=25, \n",
        "    width_shift_range=0.1,\n",
        "    height_shift_range=0.1, \n",
        "    shear_range=0.2, \n",
        "    zoom_range=0.2,\n",
        "    horizontal_flip=True, \n",
        "    fill_mode=\"nearest\")"
      ],
      "execution_count": 7,
      "outputs": []
    },
    {
      "cell_type": "markdown",
      "metadata": {
        "id": "H1BfRyYNnGv_"
      },
      "source": [
        "Creating CNN Model"
      ]
    },
    {
      "cell_type": "code",
      "metadata": {
        "id": "WmLX4wm8zmgs"
      },
      "source": [
        "model = keras.models.Sequential()\n",
        "inputShape = (height, width, depth)\n",
        "\n",
        "model.add(Conv2D(32, (3, 3), padding=\"same\",input_shape=inputShape))\n",
        "model.add(Activation(\"relu\"))\n",
        "\n",
        "model.add(MaxPooling2D(pool_size=(3, 3)))\n",
        "\n",
        "model.add(Conv2D(64, (3, 3), padding=\"same\"))\n",
        "model.add(Activation(\"relu\"))\n",
        "\n",
        "model.add(MaxPooling2D(pool_size=(3, 3)))\n",
        "\n",
        "model.add(Conv2D(128, (3, 3), padding=\"same\"))\n",
        "model.add(Activation(\"relu\"))\n",
        "\n",
        "model.add(MaxPooling2D(pool_size=(2, 2)))\n",
        "\n",
        "model.add(Conv2D(256, (3, 3), padding=\"same\"))\n",
        "model.add(Activation(\"relu\"))\n",
        "\n",
        "model.add(MaxPooling2D(pool_size=(2, 2)))\n",
        "\n",
        "model.add(Flatten())\n",
        "\n",
        "model.add(Dense(1024))\n",
        "model.add(Activation(\"relu\"))\n",
        "\n",
        "model.add(Dense(n_classes))\n",
        "model.add(Activation(\"softmax\"))"
      ],
      "execution_count": 8,
      "outputs": []
    },
    {
      "cell_type": "markdown",
      "metadata": {
        "id": "Zfsu3lVfnXFG"
      },
      "source": [
        "**Training** Network"
      ]
    },
    {
      "cell_type": "code",
      "metadata": {
        "id": "rvwKwe3Lzmgv",
        "colab": {
          "base_uri": "https://localhost:8080/"
        },
        "outputId": "66493482-76db-4d8d-909b-0531d357f71f"
      },
      "source": [
        "EPOCHS = 50\n",
        "INIT_LR = 1e-3\n",
        "BS = 32\n",
        "\n",
        "with tf.device('/GPU:0'):\n",
        "  opt = Adam(learning_rate=INIT_LR, decay=INIT_LR / EPOCHS)\n",
        "  model.compile(loss=\"categorical_crossentropy\", optimizer=opt,metrics=[\"Accuracy\", \"FalseNegatives\", \"FalsePositives\", \"TrueNegatives\", \"TruePositives\"])\n",
        "  \n",
        "  history = model.fit(\n",
        "      aug.flow(np_image_list_train, image_labels_train, batch_size=BS),\n",
        "      validation_data=(np_image_list_validation, image_labels_validation),\n",
        "      steps_per_epoch=len(np_image_list_train) // BS,\n",
        "      epochs=EPOCHS, \n",
        "      verbose=1,\n",
        "      )\n"
      ],
      "execution_count": 9,
      "outputs": [
        {
          "output_type": "stream",
          "name": "stdout",
          "text": [
            "Epoch 1/50\n",
            "63/63 [==============================] - 45s 497ms/step - loss: 1.2089 - Accuracy: 0.5143 - false_negatives: 1532.0000 - false_positives: 336.0000 - true_negatives: 5655.0000 - true_positives: 465.0000 - val_loss: 0.9055 - val_Accuracy: 0.6312 - val_false_negatives: 306.0000 - val_false_positives: 36.0000 - val_true_negatives: 1485.0000 - val_true_positives: 201.0000\n",
            "Epoch 2/50\n",
            "63/63 [==============================] - 29s 462ms/step - loss: 0.6683 - Accuracy: 0.7481 - false_negatives: 665.0000 - false_positives: 322.0000 - true_negatives: 5669.0000 - true_positives: 1332.0000 - val_loss: 0.5030 - val_Accuracy: 0.8107 - val_false_negatives: 122.0000 - val_false_positives: 77.0000 - val_true_negatives: 1444.0000 - val_true_positives: 385.0000\n",
            "Epoch 3/50\n",
            "63/63 [==============================] - 29s 460ms/step - loss: 0.4473 - Accuracy: 0.8332 - false_negatives: 384.0000 - false_positives: 266.0000 - true_negatives: 5725.0000 - true_positives: 1613.0000 - val_loss: 0.2936 - val_Accuracy: 0.8974 - val_false_negatives: 58.0000 - val_false_positives: 45.0000 - val_true_negatives: 1476.0000 - val_true_positives: 449.0000\n",
            "Epoch 4/50\n",
            "63/63 [==============================] - 29s 465ms/step - loss: 0.3810 - Accuracy: 0.8508 - false_negatives: 341.0000 - false_positives: 259.0000 - true_negatives: 5732.0000 - true_positives: 1656.0000 - val_loss: 0.3631 - val_Accuracy: 0.8679 - val_false_negatives: 68.0000 - val_false_positives: 57.0000 - val_true_negatives: 1464.0000 - val_true_positives: 439.0000\n",
            "Epoch 5/50\n",
            "63/63 [==============================] - 29s 460ms/step - loss: 0.3452 - Accuracy: 0.8643 - false_negatives: 292.0000 - false_positives: 229.0000 - true_negatives: 5762.0000 - true_positives: 1705.0000 - val_loss: 0.4768 - val_Accuracy: 0.8422 - val_false_negatives: 86.0000 - val_false_positives: 70.0000 - val_true_negatives: 1451.0000 - val_true_positives: 421.0000\n",
            "Epoch 6/50\n",
            "63/63 [==============================] - 29s 467ms/step - loss: 0.2787 - Accuracy: 0.8943 - false_negatives: 228.0000 - false_positives: 189.0000 - true_negatives: 5802.0000 - true_positives: 1769.0000 - val_loss: 0.4652 - val_Accuracy: 0.8422 - val_false_negatives: 85.0000 - val_false_positives: 66.0000 - val_true_negatives: 1455.0000 - val_true_positives: 422.0000\n",
            "Epoch 7/50\n",
            "63/63 [==============================] - 29s 456ms/step - loss: 0.3216 - Accuracy: 0.8858 - false_negatives: 259.0000 - false_positives: 204.0000 - true_negatives: 5787.0000 - true_positives: 1738.0000 - val_loss: 0.2724 - val_Accuracy: 0.9053 - val_false_negatives: 56.0000 - val_false_positives: 43.0000 - val_true_negatives: 1478.0000 - val_true_positives: 451.0000\n",
            "Epoch 8/50\n",
            "63/63 [==============================] - 29s 464ms/step - loss: 0.2215 - Accuracy: 0.9199 - false_negatives: 173.0000 - false_positives: 146.0000 - true_negatives: 5845.0000 - true_positives: 1824.0000 - val_loss: 0.2502 - val_Accuracy: 0.9250 - val_false_negatives: 40.0000 - val_false_positives: 35.0000 - val_true_negatives: 1486.0000 - val_true_positives: 467.0000\n",
            "Epoch 9/50\n",
            "63/63 [==============================] - 29s 466ms/step - loss: 0.2195 - Accuracy: 0.9229 - false_negatives: 161.0000 - false_positives: 139.0000 - true_negatives: 5852.0000 - true_positives: 1836.0000 - val_loss: 0.1712 - val_Accuracy: 0.9329 - val_false_negatives: 35.0000 - val_false_positives: 32.0000 - val_true_negatives: 1489.0000 - val_true_positives: 472.0000\n",
            "Epoch 10/50\n",
            "63/63 [==============================] - 29s 456ms/step - loss: 0.1883 - Accuracy: 0.9369 - false_negatives: 137.0000 - false_positives: 122.0000 - true_negatives: 5869.0000 - true_positives: 1860.0000 - val_loss: 0.2383 - val_Accuracy: 0.9250 - val_false_negatives: 40.0000 - val_false_positives: 35.0000 - val_true_negatives: 1486.0000 - val_true_positives: 467.0000\n",
            "Epoch 11/50\n",
            "63/63 [==============================] - 29s 462ms/step - loss: 0.1891 - Accuracy: 0.9344 - false_negatives: 140.0000 - false_positives: 123.0000 - true_negatives: 5868.0000 - true_positives: 1857.0000 - val_loss: 0.4537 - val_Accuracy: 0.8718 - val_false_negatives: 67.0000 - val_false_positives: 63.0000 - val_true_negatives: 1458.0000 - val_true_positives: 440.0000\n",
            "Epoch 12/50\n",
            "63/63 [==============================] - 29s 456ms/step - loss: 0.2190 - Accuracy: 0.9209 - false_negatives: 171.0000 - false_positives: 147.0000 - true_negatives: 5844.0000 - true_positives: 1826.0000 - val_loss: 0.3406 - val_Accuracy: 0.8738 - val_false_negatives: 69.0000 - val_false_positives: 63.0000 - val_true_negatives: 1458.0000 - val_true_positives: 438.0000\n",
            "Epoch 13/50\n",
            "63/63 [==============================] - 29s 465ms/step - loss: 0.1491 - Accuracy: 0.9464 - false_negatives: 116.0000 - false_positives: 96.0000 - true_negatives: 5895.0000 - true_positives: 1881.0000 - val_loss: 0.1325 - val_Accuracy: 0.9586 - val_false_negatives: 21.0000 - val_false_positives: 20.0000 - val_true_negatives: 1501.0000 - val_true_positives: 486.0000\n",
            "Epoch 14/50\n",
            "63/63 [==============================] - 29s 452ms/step - loss: 0.1279 - Accuracy: 0.9504 - false_negatives: 104.0000 - false_positives: 92.0000 - true_negatives: 5899.0000 - true_positives: 1893.0000 - val_loss: 0.1836 - val_Accuracy: 0.9487 - val_false_negatives: 27.0000 - val_false_positives: 26.0000 - val_true_negatives: 1495.0000 - val_true_positives: 480.0000\n",
            "Epoch 15/50\n",
            "63/63 [==============================] - 29s 463ms/step - loss: 0.2444 - Accuracy: 0.9104 - false_negatives: 187.0000 - false_positives: 162.0000 - true_negatives: 5829.0000 - true_positives: 1810.0000 - val_loss: 0.3230 - val_Accuracy: 0.8817 - val_false_negatives: 64.0000 - val_false_positives: 53.0000 - val_true_negatives: 1468.0000 - val_true_positives: 443.0000\n",
            "Epoch 16/50\n",
            "63/63 [==============================] - 29s 460ms/step - loss: 0.1505 - Accuracy: 0.9489 - false_negatives: 109.0000 - false_positives: 96.0000 - true_negatives: 5895.0000 - true_positives: 1888.0000 - val_loss: 0.1446 - val_Accuracy: 0.9428 - val_false_negatives: 32.0000 - val_false_positives: 28.0000 - val_true_negatives: 1493.0000 - val_true_positives: 475.0000\n",
            "Epoch 17/50\n",
            "63/63 [==============================] - 29s 462ms/step - loss: 0.1359 - Accuracy: 0.9494 - false_negatives: 106.0000 - false_positives: 94.0000 - true_negatives: 5897.0000 - true_positives: 1891.0000 - val_loss: 0.1908 - val_Accuracy: 0.9467 - val_false_negatives: 30.0000 - val_false_positives: 25.0000 - val_true_negatives: 1496.0000 - val_true_positives: 477.0000\n",
            "Epoch 18/50\n",
            "63/63 [==============================] - 29s 458ms/step - loss: 0.1190 - Accuracy: 0.9584 - false_negatives: 87.0000 - false_positives: 82.0000 - true_negatives: 5909.0000 - true_positives: 1910.0000 - val_loss: 0.1661 - val_Accuracy: 0.9527 - val_false_negatives: 25.0000 - val_false_positives: 24.0000 - val_true_negatives: 1497.0000 - val_true_positives: 482.0000\n",
            "Epoch 19/50\n",
            "63/63 [==============================] - 29s 457ms/step - loss: 0.1061 - Accuracy: 0.9614 - false_negatives: 78.0000 - false_positives: 72.0000 - true_negatives: 5919.0000 - true_positives: 1919.0000 - val_loss: 0.1424 - val_Accuracy: 0.9606 - val_false_negatives: 20.0000 - val_false_positives: 18.0000 - val_true_negatives: 1503.0000 - val_true_positives: 487.0000\n",
            "Epoch 20/50\n",
            "63/63 [==============================] - 29s 467ms/step - loss: 0.1220 - Accuracy: 0.9534 - false_negatives: 97.0000 - false_positives: 84.0000 - true_negatives: 5907.0000 - true_positives: 1900.0000 - val_loss: 0.2971 - val_Accuracy: 0.9053 - val_false_negatives: 49.0000 - val_false_positives: 46.0000 - val_true_negatives: 1475.0000 - val_true_positives: 458.0000\n",
            "Epoch 21/50\n",
            "63/63 [==============================] - 29s 455ms/step - loss: 0.1353 - Accuracy: 0.9514 - false_negatives: 99.0000 - false_positives: 92.0000 - true_negatives: 5899.0000 - true_positives: 1898.0000 - val_loss: 0.3633 - val_Accuracy: 0.8600 - val_false_negatives: 76.0000 - val_false_positives: 65.0000 - val_true_negatives: 1456.0000 - val_true_positives: 431.0000\n",
            "Epoch 22/50\n",
            "63/63 [==============================] - 29s 459ms/step - loss: 0.1171 - Accuracy: 0.9504 - false_negatives: 103.0000 - false_positives: 92.0000 - true_negatives: 5899.0000 - true_positives: 1894.0000 - val_loss: 0.1558 - val_Accuracy: 0.9448 - val_false_negatives: 28.0000 - val_false_positives: 27.0000 - val_true_negatives: 1494.0000 - val_true_positives: 479.0000\n",
            "Epoch 23/50\n",
            "63/63 [==============================] - 29s 456ms/step - loss: 0.1149 - Accuracy: 0.9539 - false_negatives: 93.0000 - false_positives: 84.0000 - true_negatives: 5907.0000 - true_positives: 1904.0000 - val_loss: 0.1674 - val_Accuracy: 0.9546 - val_false_negatives: 24.0000 - val_false_positives: 23.0000 - val_true_negatives: 1498.0000 - val_true_positives: 483.0000\n",
            "Epoch 24/50\n",
            "63/63 [==============================] - 29s 457ms/step - loss: 0.0778 - Accuracy: 0.9725 - false_negatives: 57.0000 - false_positives: 54.0000 - true_negatives: 5937.0000 - true_positives: 1940.0000 - val_loss: 0.1407 - val_Accuracy: 0.9487 - val_false_negatives: 28.0000 - val_false_positives: 26.0000 - val_true_negatives: 1495.0000 - val_true_positives: 479.0000\n",
            "Epoch 25/50\n",
            "63/63 [==============================] - 29s 464ms/step - loss: 0.0605 - Accuracy: 0.9820 - false_negatives: 36.0000 - false_positives: 36.0000 - true_negatives: 5955.0000 - true_positives: 1961.0000 - val_loss: 0.3545 - val_Accuracy: 0.9132 - val_false_negatives: 44.0000 - val_false_positives: 42.0000 - val_true_negatives: 1479.0000 - val_true_positives: 463.0000\n",
            "Epoch 26/50\n",
            "63/63 [==============================] - 29s 457ms/step - loss: 0.0902 - Accuracy: 0.9670 - false_negatives: 69.0000 - false_positives: 64.0000 - true_negatives: 5927.0000 - true_positives: 1928.0000 - val_loss: 0.1613 - val_Accuracy: 0.9684 - val_false_negatives: 16.0000 - val_false_positives: 16.0000 - val_true_negatives: 1505.0000 - val_true_positives: 491.0000\n",
            "Epoch 27/50\n",
            "63/63 [==============================] - 29s 457ms/step - loss: 0.0766 - Accuracy: 0.9745 - false_negatives: 52.0000 - false_positives: 51.0000 - true_negatives: 5940.0000 - true_positives: 1945.0000 - val_loss: 0.1035 - val_Accuracy: 0.9684 - val_false_negatives: 16.0000 - val_false_positives: 16.0000 - val_true_negatives: 1505.0000 - val_true_positives: 491.0000\n",
            "Epoch 28/50\n",
            "63/63 [==============================] - 29s 463ms/step - loss: 0.0809 - Accuracy: 0.9705 - false_negatives: 61.0000 - false_positives: 58.0000 - true_negatives: 5933.0000 - true_positives: 1936.0000 - val_loss: 0.1984 - val_Accuracy: 0.9606 - val_false_negatives: 20.0000 - val_false_positives: 20.0000 - val_true_negatives: 1501.0000 - val_true_positives: 487.0000\n",
            "Epoch 29/50\n",
            "63/63 [==============================] - 29s 457ms/step - loss: 0.1037 - Accuracy: 0.9624 - false_negatives: 79.0000 - false_positives: 70.0000 - true_negatives: 5921.0000 - true_positives: 1918.0000 - val_loss: 0.3233 - val_Accuracy: 0.9014 - val_false_negatives: 51.0000 - val_false_positives: 45.0000 - val_true_negatives: 1476.0000 - val_true_positives: 456.0000\n",
            "Epoch 30/50\n",
            "63/63 [==============================] - 29s 461ms/step - loss: 0.0922 - Accuracy: 0.9654 - false_negatives: 72.0000 - false_positives: 64.0000 - true_negatives: 5927.0000 - true_positives: 1925.0000 - val_loss: 0.0537 - val_Accuracy: 0.9842 - val_false_negatives: 8.0000 - val_false_positives: 8.0000 - val_true_negatives: 1513.0000 - val_true_positives: 499.0000\n",
            "Epoch 31/50\n",
            "63/63 [==============================] - 29s 465ms/step - loss: 0.0829 - Accuracy: 0.9685 - false_negatives: 63.0000 - false_positives: 61.0000 - true_negatives: 5930.0000 - true_positives: 1934.0000 - val_loss: 0.1765 - val_Accuracy: 0.9408 - val_false_negatives: 30.0000 - val_false_positives: 27.0000 - val_true_negatives: 1494.0000 - val_true_positives: 477.0000\n",
            "Epoch 32/50\n",
            "63/63 [==============================] - 29s 459ms/step - loss: 0.1323 - Accuracy: 0.9549 - false_negatives: 93.0000 - false_positives: 82.0000 - true_negatives: 5909.0000 - true_positives: 1904.0000 - val_loss: 0.1251 - val_Accuracy: 0.9566 - val_false_negatives: 22.0000 - val_false_positives: 22.0000 - val_true_negatives: 1499.0000 - val_true_positives: 485.0000\n",
            "Epoch 33/50\n",
            "63/63 [==============================] - 29s 465ms/step - loss: 0.0632 - Accuracy: 0.9790 - false_negatives: 42.0000 - false_positives: 40.0000 - true_negatives: 5951.0000 - true_positives: 1955.0000 - val_loss: 0.1085 - val_Accuracy: 0.9586 - val_false_negatives: 21.0000 - val_false_positives: 19.0000 - val_true_negatives: 1502.0000 - val_true_positives: 486.0000\n",
            "Epoch 34/50\n",
            "63/63 [==============================] - 29s 462ms/step - loss: 0.0609 - Accuracy: 0.9785 - false_negatives: 43.0000 - false_positives: 41.0000 - true_negatives: 5950.0000 - true_positives: 1954.0000 - val_loss: 0.1437 - val_Accuracy: 0.9586 - val_false_negatives: 22.0000 - val_false_positives: 19.0000 - val_true_negatives: 1502.0000 - val_true_positives: 485.0000\n",
            "Epoch 35/50\n",
            "63/63 [==============================] - 29s 463ms/step - loss: 0.0542 - Accuracy: 0.9810 - false_negatives: 38.0000 - false_positives: 37.0000 - true_negatives: 5954.0000 - true_positives: 1959.0000 - val_loss: 0.0647 - val_Accuracy: 0.9763 - val_false_negatives: 12.0000 - val_false_positives: 12.0000 - val_true_negatives: 1509.0000 - val_true_positives: 495.0000\n",
            "Epoch 36/50\n",
            "63/63 [==============================] - 29s 456ms/step - loss: 0.0697 - Accuracy: 0.9720 - false_negatives: 56.0000 - false_positives: 56.0000 - true_negatives: 5935.0000 - true_positives: 1941.0000 - val_loss: 0.0689 - val_Accuracy: 0.9783 - val_false_negatives: 11.0000 - val_false_positives: 11.0000 - val_true_negatives: 1510.0000 - val_true_positives: 496.0000\n",
            "Epoch 37/50\n",
            "63/63 [==============================] - 29s 452ms/step - loss: 0.0259 - Accuracy: 0.9905 - false_negatives: 19.0000 - false_positives: 17.0000 - true_negatives: 5974.0000 - true_positives: 1978.0000 - val_loss: 0.0628 - val_Accuracy: 0.9763 - val_false_negatives: 12.0000 - val_false_positives: 11.0000 - val_true_negatives: 1510.0000 - val_true_positives: 495.0000\n",
            "Epoch 38/50\n",
            "63/63 [==============================] - 29s 464ms/step - loss: 0.0413 - Accuracy: 0.9850 - false_negatives: 30.0000 - false_positives: 28.0000 - true_negatives: 5963.0000 - true_positives: 1967.0000 - val_loss: 0.1211 - val_Accuracy: 0.9724 - val_false_negatives: 14.0000 - val_false_positives: 14.0000 - val_true_negatives: 1507.0000 - val_true_positives: 493.0000\n",
            "Epoch 39/50\n",
            "63/63 [==============================] - 29s 457ms/step - loss: 0.0442 - Accuracy: 0.9810 - false_negatives: 39.0000 - false_positives: 38.0000 - true_negatives: 5953.0000 - true_positives: 1958.0000 - val_loss: 0.0523 - val_Accuracy: 0.9763 - val_false_negatives: 12.0000 - val_false_positives: 12.0000 - val_true_negatives: 1509.0000 - val_true_positives: 495.0000\n",
            "Epoch 40/50\n",
            "63/63 [==============================] - 29s 465ms/step - loss: 0.0440 - Accuracy: 0.9845 - false_negatives: 31.0000 - false_positives: 31.0000 - true_negatives: 5960.0000 - true_positives: 1966.0000 - val_loss: 0.1850 - val_Accuracy: 0.9428 - val_false_negatives: 29.0000 - val_false_positives: 29.0000 - val_true_negatives: 1492.0000 - val_true_positives: 478.0000\n",
            "Epoch 41/50\n",
            "63/63 [==============================] - 29s 458ms/step - loss: 0.0721 - Accuracy: 0.9725 - false_negatives: 57.0000 - false_positives: 52.0000 - true_negatives: 5939.0000 - true_positives: 1940.0000 - val_loss: 0.3277 - val_Accuracy: 0.9310 - val_false_negatives: 35.0000 - val_false_positives: 35.0000 - val_true_negatives: 1486.0000 - val_true_positives: 472.0000\n",
            "Epoch 42/50\n",
            "63/63 [==============================] - 29s 460ms/step - loss: 0.1523 - Accuracy: 0.9539 - false_negatives: 99.0000 - false_positives: 88.0000 - true_negatives: 5960.0000 - true_positives: 1917.0000 - val_loss: 0.1217 - val_Accuracy: 0.9625 - val_false_negatives: 20.0000 - val_false_positives: 18.0000 - val_true_negatives: 1503.0000 - val_true_positives: 487.0000\n",
            "Epoch 43/50\n",
            "63/63 [==============================] - 29s 458ms/step - loss: 0.0395 - Accuracy: 0.9860 - false_negatives: 28.0000 - false_positives: 28.0000 - true_negatives: 5963.0000 - true_positives: 1969.0000 - val_loss: 0.0807 - val_Accuracy: 0.9724 - val_false_negatives: 16.0000 - val_false_positives: 13.0000 - val_true_negatives: 1508.0000 - val_true_positives: 491.0000\n",
            "Epoch 44/50\n",
            "63/63 [==============================] - 29s 460ms/step - loss: 0.0234 - Accuracy: 0.9910 - false_negatives: 18.0000 - false_positives: 17.0000 - true_negatives: 5974.0000 - true_positives: 1979.0000 - val_loss: 0.0600 - val_Accuracy: 0.9822 - val_false_negatives: 9.0000 - val_false_positives: 9.0000 - val_true_negatives: 1512.0000 - val_true_positives: 498.0000\n",
            "Epoch 45/50\n",
            "63/63 [==============================] - 29s 464ms/step - loss: 0.0417 - Accuracy: 0.9850 - false_negatives: 31.0000 - false_positives: 29.0000 - true_negatives: 5962.0000 - true_positives: 1966.0000 - val_loss: 0.0301 - val_Accuracy: 0.9901 - val_false_negatives: 5.0000 - val_false_positives: 5.0000 - val_true_negatives: 1516.0000 - val_true_positives: 502.0000\n",
            "Epoch 46/50\n",
            "63/63 [==============================] - 29s 457ms/step - loss: 0.0262 - Accuracy: 0.9900 - false_negatives: 20.0000 - false_positives: 20.0000 - true_negatives: 5971.0000 - true_positives: 1977.0000 - val_loss: 0.1739 - val_Accuracy: 0.9625 - val_false_negatives: 19.0000 - val_false_positives: 19.0000 - val_true_negatives: 1502.0000 - val_true_positives: 488.0000\n",
            "Epoch 47/50\n",
            "63/63 [==============================] - 29s 461ms/step - loss: 0.0254 - Accuracy: 0.9900 - false_negatives: 20.0000 - false_positives: 20.0000 - true_negatives: 5971.0000 - true_positives: 1977.0000 - val_loss: 0.0651 - val_Accuracy: 0.9862 - val_false_negatives: 7.0000 - val_false_positives: 7.0000 - val_true_negatives: 1514.0000 - val_true_positives: 500.0000\n",
            "Epoch 48/50\n",
            "63/63 [==============================] - 29s 459ms/step - loss: 0.1138 - Accuracy: 0.9609 - false_negatives: 79.0000 - false_positives: 76.0000 - true_negatives: 5915.0000 - true_positives: 1918.0000 - val_loss: 0.1764 - val_Accuracy: 0.9428 - val_false_negatives: 29.0000 - val_false_positives: 29.0000 - val_true_negatives: 1492.0000 - val_true_positives: 478.0000\n",
            "Epoch 49/50\n",
            "63/63 [==============================] - 29s 452ms/step - loss: 0.0718 - Accuracy: 0.9775 - false_negatives: 46.0000 - false_positives: 45.0000 - true_negatives: 5946.0000 - true_positives: 1951.0000 - val_loss: 0.0642 - val_Accuracy: 0.9862 - val_false_negatives: 7.0000 - val_false_positives: 7.0000 - val_true_negatives: 1514.0000 - val_true_positives: 500.0000\n",
            "Epoch 50/50\n",
            "63/63 [==============================] - 29s 462ms/step - loss: 0.0439 - Accuracy: 0.9840 - false_negatives: 33.0000 - false_positives: 31.0000 - true_negatives: 5960.0000 - true_positives: 1964.0000 - val_loss: 0.0733 - val_Accuracy: 0.9704 - val_false_negatives: 16.0000 - val_false_positives: 15.0000 - val_true_negatives: 1506.0000 - val_true_positives: 491.0000\n"
          ]
        }
      ]
    },
    {
      "cell_type": "markdown",
      "source": [
        "Plotting Traning Result"
      ],
      "metadata": {
        "id": "XZSFG8fXqz7c"
      }
    },
    {
      "cell_type": "code",
      "source": [
        "  #plotting\n",
        "  epochs = range(1, len(history.history['loss'])+1)\n",
        "  plt.title(f\"Grafik loss training iterasi {iterasi}\")\n",
        "  plt.plot(epochs, history.history['loss'], 'r', label='Training Loss')\n",
        "  plt.plot(epochs, history.history['val_loss'], 'b', label='Validation Loss')    \n",
        "  plt.xlabel(\"Epoch\")\n",
        "  plt.ylabel(\"Loss\")\n",
        "  plt.legend()\n",
        "  plt.show()\n"
      ],
      "metadata": {
        "id": "3dXbDrJpY1NK",
        "colab": {
          "base_uri": "https://localhost:8080/",
          "height": 295
        },
        "outputId": "03caf749-80e6-489c-cb2f-e37b03ffe27e"
      },
      "execution_count": 10,
      "outputs": [
        {
          "output_type": "display_data",
          "data": {
            "image/png": "[encoded data removed]",
            "text/plain": [
              "<Figure size 432x288 with 1 Axes>"
            ]
          },
          "metadata": {
            "needs_background": "light"
          }
        }
      ]
    },
    {
      "cell_type": "code",
      "source": [
        "  #plotting\n",
        "  epochs = range(1, len(history.history['loss'])+1)\n",
        "  plt.title(f\"Grafik Akurasi training iterasi {iterasi}\")\n",
        "  plt.plot(epochs, history.history['Accuracy'], 'r', label='Training Accuracy')\n",
        "  plt.plot(epochs, history.history['val_Accuracy'], 'b', label='Validation Accuracy')    \n",
        "  plt.xlabel(\"Epoch\")\n",
        "  plt.ylabel(\"Accuracy\")\n",
        "  plt.legend()\n",
        "  plt.show()"
      ],
      "metadata": {
        "colab": {
          "base_uri": "https://localhost:8080/",
          "height": 295
        },
        "id": "j3xigprPwlSX",
        "outputId": "b7921d26-27a7-4934-e82a-b87504c106c9"
      },
      "execution_count": 11,
      "outputs": [
        {
          "output_type": "display_data",
          "data": {
            "image/png": "[encoded data removed]",
            "text/plain": [
              "<Figure size 432x288 with 1 Axes>"
            ]
          },
          "metadata": {
            "needs_background": "light"
          }
        }
      ]
    },
    {
      "cell_type": "markdown",
      "metadata": {
        "id": "bTgk1-sdzmgy"
      },
      "source": [
        "**Validating** Network"
      ]
    },
    {
      "cell_type": "code",
      "source": [
        "import matplotlib.pyplot as plt\n",
        "from sklearn.datasets import make_classification\n",
        "from numpy import mean\n",
        "from sklearn.metrics import confusion_matrix, ConfusionMatrixDisplay, accuracy_score, classification_report, recall_score\n",
        "\n",
        "validation = model.predict(np_image_list_validation)\n",
        "\n",
        "predicted_labels = []\n",
        "correct_labels = []\n",
        "for i in range (len(validation)):\n",
        "  predicted_labels.append(np.argmax(validation[i]))\n",
        "\n",
        "for i in range (len(image_labels_validation)):\n",
        "  correct_labels.append(np.argmax(image_labels_validation[i]))\n",
        "\n",
        "\n",
        "confusion_matrix = confusion_matrix(correct_labels, predicted_labels)\n",
        "disp = ConfusionMatrixDisplay(confusion_matrix=confusion_matrix)  \n",
        "disp.plot()\n",
        "plt.show()\n",
        "print('--------')\n",
        "FP = confusion_matrix.sum(axis=0) - np.diag(confusion_matrix)  \n",
        "FN = confusion_matrix.sum(axis=1) - np.diag(confusion_matrix)\n",
        "TP = np.diag(confusion_matrix)\n",
        "TN = confusion_matrix.sum() - (FP + FN + TP)\n",
        "\n",
        "# Sensitivity, hit rate, recall, or true positive rate\n",
        "TPR = TP/(TP+FN)\n",
        "# Specificity or true negative rate\n",
        "TNR = TN/(TN+FP) \n",
        "# Overall accuracy\n",
        "ACC = (TP+TN)/(TP+FP+FN+TN)\n",
        "\n",
        "print(TP)\n",
        "print(TN)\n",
        "print(FP)\n",
        "print(FN)\n",
        "print('--------')\n",
        "print(ACC)\n",
        "print(TPR)\n",
        "print(TNR)\n",
        "print('--------')\n",
        "\n",
        "TP = sum(TP)\n",
        "TN = sum(TN)\n",
        "FP = sum(FP)\n",
        "FN = sum(FN)\n",
        "\n",
        "# Sensitivity, hit rate, recall, or true positive rate\n",
        "TPR = TP/(TP+FN)\n",
        "# Specificity or true negative rate\n",
        "TNR = TN/(TN+FP) \n",
        "# Overall accuracy\n",
        "ACC = (TP+TN)/(TP+FP+FN+TN)\n",
        "\n",
        "print(TP)\n",
        "print(TN)\n",
        "print(FP)\n",
        "print(FN)\n",
        "print('--------')\n",
        "print(ACC)\n",
        "print(TPR)\n",
        "print(TNR)\n"
      ],
      "metadata": {
        "colab": {
          "base_uri": "https://localhost:8080/",
          "height": 591
        },
        "id": "z9NBaYvZ61d7",
        "outputId": "a15660a1-8a9a-409c-923a-14b3683fed88"
      },
      "execution_count": 12,
      "outputs": [
        {
          "output_type": "display_data",
          "data": {
            "image/png": "[encoded data removed]",
            "text/plain": [
              "<Figure size 432x288 with 2 Axes>"
            ]
          },
          "metadata": {
            "needs_background": "light"
          }
        },
        {
          "output_type": "stream",
          "name": "stdout",
          "text": [
            "--------\n",
            "[ 95  99  39 259]\n",
            "[406 396 463 241]\n",
            "[ 0 12  0  3]\n",
            "[6 0 5 4]\n",
            "--------\n",
            "[0.98816568 0.97633136 0.99013807 0.98619329]\n",
            "[0.94059406 1.         0.88636364 0.98479087]\n",
            "[1.         0.97058824 1.         0.98770492]\n",
            "--------\n",
            "492\n",
            "1506\n",
            "15\n",
            "15\n",
            "--------\n",
            "0.985207100591716\n",
            "0.9704142011834319\n",
            "0.9901380670611439\n"
          ]
        }
      ]
    },
    {
      "cell_type": "markdown",
      "source": [
        "**Testing** Network"
      ],
      "metadata": {
        "id": "saJYjKqX9tRL"
      }
    },
    {
      "cell_type": "code",
      "source": [
        "import matplotlib.pyplot as plt\n",
        "from sklearn.datasets import make_classification\n",
        "from numpy import mean\n",
        "from sklearn.metrics import confusion_matrix, ConfusionMatrixDisplay, accuracy_score, classification_report, recall_score\n",
        "\n",
        "test = model.predict(np_image_list_test)\n",
        "\n",
        "predicted_labels = []\n",
        "correct_labels = []\n",
        "for i in range (len(test)):\n",
        "  predicted_labels.append(np.argmax(test[i]))\n",
        "\n",
        "for i in range (len(image_labels_test)):\n",
        "  correct_labels.append(np.argmax(image_labels_test[i]))\n",
        "\n",
        "\n",
        "confusion_matrix = confusion_matrix(correct_labels, predicted_labels)\n",
        "disp = ConfusionMatrixDisplay(confusion_matrix=confusion_matrix)  \n",
        "disp.plot()\n",
        "plt.show()\n",
        "print('--------')\n",
        "FP = confusion_matrix.sum(axis=0) - np.diag(confusion_matrix)  \n",
        "FN = confusion_matrix.sum(axis=1) - np.diag(confusion_matrix)\n",
        "TP = np.diag(confusion_matrix)\n",
        "TN = confusion_matrix.sum() - (FP + FN + TP)\n",
        "\n",
        "# Sensitivity, hit rate, recall, or true positive rate\n",
        "TPR = TP/(TP+FN)\n",
        "# Specificity or true negative rate\n",
        "TNR = TN/(TN+FP) \n",
        "# Overall accuracy\n",
        "ACC = (TP+TN)/(TP+FP+FN+TN)\n",
        "\n",
        "print(TP)\n",
        "print(TN)\n",
        "print(FP)\n",
        "print(FN)\n",
        "print('--------')\n",
        "print(ACC)\n",
        "print(TPR)\n",
        "print(TNR)\n",
        "print('--------')\n",
        "\n",
        "TP = sum(TP)\n",
        "TN = sum(TN)\n",
        "FP = sum(FP)\n",
        "FN = sum(FN)\n",
        "\n",
        "# Sensitivity, hit rate, recall, or true positive rate\n",
        "TPR = TP/(TP+FN)\n",
        "# Specificity or true negative rate\n",
        "TNR = TN/(TN+FP) \n",
        "# Overall accuracy\n",
        "ACC = (TP+TN)/(TP+FP+FN+TN)\n",
        "\n",
        "print(TP)\n",
        "print(TN)\n",
        "print(FP)\n",
        "print(FN)\n",
        "print('--------')\n",
        "print(ACC)\n",
        "print(TPR)\n",
        "print(TNR)"
      ],
      "metadata": {
        "colab": {
          "base_uri": "https://localhost:8080/",
          "height": 591
        },
        "id": "3a1AYdsF4FoY",
        "outputId": "f62a5c9d-5488-4664-e77e-7c110d418e2c"
      },
      "execution_count": 13,
      "outputs": [
        {
          "output_type": "display_data",
          "data": {
            "image/png": "[encoded data removed]",
            "text/plain": [
              "<Figure size 432x288 with 2 Axes>"
            ]
          },
          "metadata": {
            "needs_background": "light"
          }
        },
        {
          "output_type": "stream",
          "name": "stdout",
          "text": [
            "--------\n",
            "[118 124  50 317]\n",
            "[498 499 579 301]\n",
            "[10 11  0  4]\n",
            "[ 8  0  5 12]\n",
            "--------\n",
            "[0.97160883 0.98264984 0.99211356 0.97476341]\n",
            "[0.93650794 1.         0.90909091 0.96352584]\n",
            "[0.98031496 0.97843137 1.         0.98688525]\n",
            "--------\n",
            "609\n",
            "1877\n",
            "25\n",
            "25\n",
            "--------\n",
            "0.9802839116719243\n",
            "0.9605678233438486\n",
            "0.9868559411146162\n"
          ]
        }
      ]
    },
    {
      "cell_type": "code",
      "metadata": {
        "id": "AKd6Tu7mzmg2"
      },
      "source": [
        "# save the model to disk\n",
        "#print(\"[INFO] Saving model...\")\n",
        "# pickle.dump(model,open('cnn_model.pkl', 'wb'))\n",
        "model.save('/content/fold5.h5')    "
      ],
      "execution_count": 14,
      "outputs": []
    },
    {
      "cell_type": "code",
      "metadata": {
        "id": "O6iIKa7Jzmg7"
      },
      "source": [
        "#test_img = cv2.imread('/content/datasets/Apple/Apple___Black_rot/0139bc6d-391c-4fd1-bcae-cc74dabfddd7___JR_FrgE.S 2734.JPG')\n",
        "\n",
        "#plt.imshow(test_img)\n",
        "#test_img = test_img / 255\n",
        "#test_img = np.expand_dims(test_img, axis=0)\n",
        "#pr=model.predict(test_img)\n",
        "\n",
        "#print(pr)\n",
        "#output = label_binarizer.inverse_transform(pr)\n",
        "#print(output)\n"
      ],
      "execution_count": 15,
      "outputs": []
    }
  ]
}