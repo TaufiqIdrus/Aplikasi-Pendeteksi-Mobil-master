{
  "nbformat": 4,
  "nbformat_minor": 0,
  "metadata": {
    "accelerator": "GPU",
    "colab": {
      "name": "Kodingan Skripsi 3",
      "provenance": [],
      "collapsed_sections": [],
      "include_colab_link": true
    },
    "kernelspec": {
      "display_name": "Python 3",
      "language": "python",
      "name": "python3"
    },
    "language_info": {
      "codemirror_mode": {
        "name": "ipython",
        "version": 3
      },
      "file_extension": ".py",
      "mimetype": "text/x-python",
      "name": "python",
      "nbconvert_exporter": "python",
      "pygments_lexer": "ipython3",
      "version": "3.6.6"
    }
  },
  "cells": [
    {
      "cell_type": "markdown",
      "metadata": {
        "id": "view-in-github",
        "colab_type": "text"
      },
      "source": [
        "<a href=\"https://colab.research.google.com/github/TaufiqIdrus/Aplikasi-Pendeteksi-Mobil-master/blob/master/Kodingan5.ipynb\" target=\"_parent\"><img src=\"https://colab.research.google.com/assets/colab-badge.svg\" alt=\"Open In Colab\"/></a>"
      ]
    },
    {
      "cell_type": "markdown",
      "metadata": {
        "id": "yJT_kQA2lITS"
      },
      "source": [
        "**Identifikasi Penyakit Pada Tanaman Apel menggunakan Convolutional Neural Network**"
      ]
    },
    {
      "cell_type": "code",
      "metadata": {
        "id": "xXeOaYTUzmgT"
      },
      "source": [
        "import numpy as np\n",
        "import pickle\n",
        "import os\n",
        "import cv2\n",
        "import tensorflow as tf\n",
        "import keras\n",
        "from os import listdir\n",
        "from sklearn.preprocessing import LabelBinarizer\n",
        "from sklearn.model_selection import KFold\n",
        "from keras.models import Sequential\n",
        "from keras.layers.normalization import batch_normalization\n",
        "from keras.layers.convolutional import Conv2D\n",
        "from keras.layers.convolutional import MaxPooling2D\n",
        "from keras.layers.core import Activation, Flatten, Dropout, Dense\n",
        "from keras import backend as K\n",
        "from tensorflow.keras.optimizers import Adam\n",
        "from keras.preprocessing import image\n",
        "from sklearn.preprocessing import MultiLabelBinarizer\n",
        "from sklearn.model_selection import train_test_split\n",
        "import matplotlib.pyplot as plt\n",
        "from sklearn.datasets import make_classification\n",
        "from numpy import mean\n",
        "from sklearn.metrics import confusion_matrix, ConfusionMatrixDisplay, accuracy_score, classification_report, recall_score\n"
      ],
      "execution_count": 1,
      "outputs": []
    },
    {
      "cell_type": "markdown",
      "metadata": {
        "id": "fp8C0d28lQok"
      },
      "source": [
        "Importing and Preparing Dataset"
      ]
    },
    {
      "cell_type": "code",
      "metadata": {
        "id": "_0xehllADlUs",
        "colab": {
          "base_uri": "https://localhost:8080/"
        },
        "outputId": "4bdec0e3-bb36-482b-e3cb-180b750cee94"
      },
      "source": [
        "!pip install pyunpack\n",
        "!pip install patool\n",
        "from pyunpack import Archive\n",
        "Archive('/content/fold5.rar').extractall('/content/Datasets/')\n",
        "iterasi = 5\n",
        "width=256\n",
        "height=256\n",
        "default_image_size = tuple((height, width))\n",
        "directory_root_train = '/content/Datasets/fold5/Train'\n",
        "directory_root_validation = '/content/Datasets/fold5/Validation'\n",
        "directory_root_test = '/content/Datasets/fold5/Test'\n",
        "image_size = 0\n",
        "depth=3"
      ],
      "execution_count": 2,
      "outputs": [
        {
          "output_type": "stream",
          "name": "stdout",
          "text": [
            "Looking in indexes: https://pypi.org/simple, https://us-python.pkg.dev/colab-wheels/public/simple/\n",
            "Collecting pyunpack\n",
            "  Downloading pyunpack-0.2.2-py2.py3-none-any.whl (3.8 kB)\n",
            "Collecting easyprocess\n",
            "  Downloading EasyProcess-1.1-py3-none-any.whl (8.7 kB)\n",
            "Collecting entrypoint2\n",
            "  Downloading entrypoint2-1.0-py3-none-any.whl (9.8 kB)\n",
            "Installing collected packages: entrypoint2, easyprocess, pyunpack\n",
            "Successfully installed easyprocess-1.1 entrypoint2-1.0 pyunpack-0.2.2\n",
            "Looking in indexes: https://pypi.org/simple, https://us-python.pkg.dev/colab-wheels/public/simple/\n",
            "Collecting patool\n",
            "  Downloading patool-1.12-py2.py3-none-any.whl (77 kB)\n",
            "\u001b[K     |████████████████████████████████| 77 kB 4.4 MB/s \n",
            "\u001b[?25hInstalling collected packages: patool\n",
            "Successfully installed patool-1.12\n"
          ]
        }
      ]
    },
    {
      "cell_type": "code",
      "metadata": {
        "id": "KbAwJJTpzmge"
      },
      "source": [
        "def convert_image_to_array(image_dir):\n",
        "    try:\n",
        "        image = cv2.imread(image_dir)\n",
        "        if image is not None :\n",
        "            image = cv2.resize(image, default_image_size)   \n",
        "            return keras.preprocessing.image.img_to_array(image)\n",
        "        else :\n",
        "            return np.array([])\n",
        "    except Exception as e:\n",
        "        print(f\"Error : {e}\")\n",
        "        return None"
      ],
      "execution_count": 3,
      "outputs": []
    },
    {
      "cell_type": "markdown",
      "source": [
        "Converting **Training** Data to Array"
      ],
      "metadata": {
        "id": "bgXxUMO2cI_D"
      }
    },
    {
      "cell_type": "code",
      "metadata": {
        "id": "Erz6IjKXzmgg",
        "colab": {
          "base_uri": "https://localhost:8080/"
        },
        "outputId": "01829f16-ea2f-4b57-f0bd-c2eb476d004e"
      },
      "source": [
        "image_list_train, label_list_train = [], []\n",
        "try:\n",
        "    print(\"[INFO] Loading images ...\")\n",
        "    root_dir = listdir(directory_root_train)\n",
        "\n",
        "    for plant_disease_folder in root_dir:\n",
        "        print(f\"[INFO] Processing {plant_disease_folder} ...\")\n",
        "        plant_disease_image_list = listdir(f\"{directory_root_train}/{plant_disease_folder}/\")\n",
        "      \n",
        "        for image in plant_disease_image_list:\n",
        "            image_directory = f\"{directory_root_train}/{plant_disease_folder}/{image}\"\n",
        "\n",
        "            if image_directory.endswith(\".jpg\") == True or image_directory.endswith(\".JPG\") == True:\n",
        "                image_list_train.append(convert_image_to_array(image_directory))\n",
        "                label_list_train.append(plant_disease_folder)\n",
        "    print(\"[INFO] Image loading completed\")\n",
        "\n",
        "except Exception as e:\n",
        "    print(f\"Error : {e}\")\n",
        "\n",
        "#image labeling\n",
        "image_size = len(image_list_train)\n",
        "label_binarizer = LabelBinarizer()\n",
        "image_labels_train = label_binarizer.fit_transform(label_list_train)\n",
        "pickle.dump(label_binarizer,open('label_transform_train.pkl', 'wb'))\n",
        "n_classes = len(label_binarizer.classes_)\n",
        "np_image_list_train = np.array(image_list_train, dtype=np.float16) / 255.0"
      ],
      "execution_count": 4,
      "outputs": [
        {
          "output_type": "stream",
          "name": "stdout",
          "text": [
            "[INFO] Loading images ...\n",
            "[INFO] Processing Diseased ...\n",
            "[INFO] Processing Healthy ...\n",
            "[INFO] Image loading completed\n"
          ]
        }
      ]
    },
    {
      "cell_type": "markdown",
      "source": [
        "Converting **Validation** Data to Array"
      ],
      "metadata": {
        "id": "7eEMGiqRd_E4"
      }
    },
    {
      "cell_type": "code",
      "source": [
        "image_list_validation, label_list_validation = [], []\n",
        "try:\n",
        "    print(\"[INFO] Loading images ...\")\n",
        "    root_dir = listdir(directory_root_validation)\n",
        "\n",
        "    for plant_disease_folder in root_dir:\n",
        "        print(f\"[INFO] Processing {plant_disease_folder} ...\")\n",
        "        plant_disease_image_list = listdir(f\"{directory_root_validation}/{plant_disease_folder}/\")\n",
        "      \n",
        "        for image in plant_disease_image_list:\n",
        "            image_directory = f\"{directory_root_validation}/{plant_disease_folder}/{image}\"\n",
        "\n",
        "            if image_directory.endswith(\".jpg\") == True or image_directory.endswith(\".JPG\") == True:\n",
        "                image_list_validation.append(convert_image_to_array(image_directory))\n",
        "                label_list_validation.append(plant_disease_folder)\n",
        "    print(\"[INFO] Image loading completed\")\n",
        "\n",
        "except Exception as e:\n",
        "    print(f\"Error : {e}\")\n",
        "\n",
        "#image labeling\n",
        "image_size = len(image_list_validation)\n",
        "label_binarizer = LabelBinarizer()\n",
        "image_labels_validation = label_binarizer.fit_transform(label_list_validation)\n",
        "pickle.dump(label_binarizer,open('label_transform_validation.pkl', 'wb'))\n",
        "n_classes = len(label_binarizer.classes_)\n",
        "np_image_list_validation = np.array(image_list_validation, dtype=np.float16) / 255.0"
      ],
      "metadata": {
        "id": "wfHDdR0ZeEuU",
        "colab": {
          "base_uri": "https://localhost:8080/"
        },
        "outputId": "82b376db-0378-42dd-8747-2d5ff6036c0d"
      },
      "execution_count": 5,
      "outputs": [
        {
          "output_type": "stream",
          "name": "stdout",
          "text": [
            "[INFO] Loading images ...\n",
            "[INFO] Processing Diseased ...\n",
            "[INFO] Processing Healthy ...\n",
            "[INFO] Image loading completed\n"
          ]
        }
      ]
    },
    {
      "cell_type": "markdown",
      "source": [
        "Converting **Testing** Data to Array"
      ],
      "metadata": {
        "id": "brwWyZVncTdg"
      }
    },
    {
      "cell_type": "code",
      "metadata": {
        "id": "uNPby5UMcaWY",
        "colab": {
          "base_uri": "https://localhost:8080/"
        },
        "outputId": "48724280-6917-4980-c0cd-8a8004d1bd06"
      },
      "source": [
        "image_list_test, label_list_test = [], []\n",
        "try:\n",
        "    print(\"[INFO] Loading images ...\")\n",
        "    root_dir = listdir(directory_root_test)\n",
        "\n",
        "    for plant_disease_folder in root_dir:\n",
        "        print(f\"[INFO] Processing {plant_disease_folder} ...\")\n",
        "        plant_disease_image_list = listdir(f\"{directory_root_test}/{plant_disease_folder}/\")\n",
        "      \n",
        "        for image in plant_disease_image_list:\n",
        "            image_directory = f\"{directory_root_test}/{plant_disease_folder}/{image}\"\n",
        "\n",
        "            if image_directory.endswith(\".jpg\") == True or image_directory.endswith(\".JPG\") == True:\n",
        "                image_list_test.append(convert_image_to_array(image_directory))\n",
        "                label_list_test.append(plant_disease_folder)\n",
        "    print(\"[INFO] Image loading completed\")\n",
        "\n",
        "except Exception as e:\n",
        "    print(f\"Error : {e}\")\n",
        "\n",
        "#image labeling\n",
        "image_size = len(image_list_test)\n",
        "label_binarizer = LabelBinarizer()\n",
        "image_labels_test = label_binarizer.fit_transform(label_list_test)\n",
        "pickle.dump(label_binarizer,open('label_transform_test.pkl', 'wb'))\n",
        "n_classes = len(label_binarizer.classes_)\n",
        "np_image_list_test = np.array(image_list_test, dtype=np.float16) / 255.0"
      ],
      "execution_count": 6,
      "outputs": [
        {
          "output_type": "stream",
          "name": "stdout",
          "text": [
            "[INFO] Loading images ...\n",
            "[INFO] Processing Diseased ...\n",
            "[INFO] Processing Healthy ...\n",
            "[INFO] Image loading completed\n"
          ]
        }
      ]
    },
    {
      "cell_type": "markdown",
      "metadata": {
        "id": "jYBTFN0CnAi7"
      },
      "source": [
        "Data Augmenting Initialization"
      ]
    },
    {
      "cell_type": "code",
      "metadata": {
        "id": "TLMxMK2Tzmgr"
      },
      "source": [
        "aug = keras.preprocessing.image.ImageDataGenerator(\n",
        "    rotation_range=25, \n",
        "    width_shift_range=0.1,\n",
        "    height_shift_range=0.1, \n",
        "    shear_range=0.2, \n",
        "    zoom_range=0.2,\n",
        "    horizontal_flip=True, \n",
        "    fill_mode=\"nearest\")"
      ],
      "execution_count": 7,
      "outputs": []
    },
    {
      "cell_type": "markdown",
      "metadata": {
        "id": "H1BfRyYNnGv_"
      },
      "source": [
        "Creating CNN Model"
      ]
    },
    {
      "cell_type": "code",
      "metadata": {
        "id": "WmLX4wm8zmgs"
      },
      "source": [
        "model = keras.models.Sequential()\n",
        "inputShape = (height, width, depth)\n",
        "\n",
        "model.add(Conv2D(32, (3, 3), padding=\"same\",input_shape=inputShape))\n",
        "model.add(Activation(\"relu\"))\n",
        "\n",
        "model.add(MaxPooling2D(pool_size=(3, 3)))\n",
        "\n",
        "model.add(Conv2D(64, (3, 3), padding=\"same\"))\n",
        "model.add(Activation(\"relu\"))\n",
        "\n",
        "model.add(MaxPooling2D(pool_size=(3, 3)))\n",
        "\n",
        "model.add(Flatten())\n",
        "\n",
        "model.add(Dense(1024))\n",
        "model.add(Activation(\"relu\"))\n",
        "\n",
        "model.add(Dense(1))\n",
        "model.add(Activation(\"sigmoid\"))"
      ],
      "execution_count": 8,
      "outputs": []
    },
    {
      "cell_type": "code",
      "source": [
        "#model.summary()"
      ],
      "metadata": {
        "id": "RQIgaph8hW06"
      },
      "execution_count": 9,
      "outputs": []
    },
    {
      "cell_type": "code",
      "source": [
        "#from PIL import Image\n",
        "#from keras.utils.vis_utils import plot_model\n",
        "#plot_model(model, to_file='cnn_model.png', show_shapes=True, show_layer_names=True)\n",
        "#display(Image.open('cnn_model.png'))"
      ],
      "metadata": {
        "id": "T05gPuu1GudW"
      },
      "execution_count": 10,
      "outputs": []
    },
    {
      "cell_type": "markdown",
      "metadata": {
        "id": "Zfsu3lVfnXFG"
      },
      "source": [
        "**Training** Network"
      ]
    },
    {
      "cell_type": "code",
      "metadata": {
        "id": "rvwKwe3Lzmgv",
        "colab": {
          "base_uri": "https://localhost:8080/"
        },
        "outputId": "9eeffa75-5699-47bb-ba7b-808a710c8fe5"
      },
      "source": [
        "EPOCHS = 100\n",
        "INIT_LR = 1e-3\n",
        "BS = 32\n",
        "\n",
        "with tf.device('/GPU:0'):\n",
        "  opt = Adam(learning_rate=INIT_LR, decay=INIT_LR / EPOCHS)\n",
        "  model.compile(loss=\"binary_crossentropy\", optimizer=opt,metrics=[\"Accuracy\", \"FalseNegatives\", \"FalsePositives\", \"TrueNegatives\", \"TruePositives\"])\n",
        "  \n",
        "  history = model.fit(\n",
        "      aug.flow(np_image_list_train, image_labels_train, batch_size=BS),\n",
        "      validation_data=(np_image_list_validation, image_labels_validation),\n",
        "      steps_per_epoch=len(np_image_list_train) // BS,\n",
        "      epochs=EPOCHS, \n",
        "      verbose=1,\n",
        "      )\n"
      ],
      "execution_count": 11,
      "outputs": [
        {
          "output_type": "stream",
          "name": "stdout",
          "text": [
            "Epoch 1/100\n",
            "40/40 [==============================] - 33s 439ms/step - loss: 1.2304 - Accuracy: 0.6242 - false_negatives: 282.0000 - false_positives: 199.0000 - true_negatives: 441.0000 - true_positives: 358.0000 - val_loss: 0.4731 - val_Accuracy: 0.8156 - val_false_negatives: 5.0000 - val_false_positives: 54.0000 - val_true_negatives: 106.0000 - val_true_positives: 155.0000\n",
            "Epoch 2/100\n",
            "40/40 [==============================] - 17s 430ms/step - loss: 0.3645 - Accuracy: 0.8531 - false_negatives: 81.0000 - false_positives: 107.0000 - true_negatives: 533.0000 - true_positives: 559.0000 - val_loss: 0.2239 - val_Accuracy: 0.9156 - val_false_negatives: 13.0000 - val_false_positives: 14.0000 - val_true_negatives: 146.0000 - val_true_positives: 147.0000\n",
            "Epoch 3/100\n",
            "40/40 [==============================] - 17s 426ms/step - loss: 0.2656 - Accuracy: 0.8945 - false_negatives: 60.0000 - false_positives: 75.0000 - true_negatives: 565.0000 - true_positives: 580.0000 - val_loss: 0.1657 - val_Accuracy: 0.9375 - val_false_negatives: 9.0000 - val_false_positives: 11.0000 - val_true_negatives: 149.0000 - val_true_positives: 151.0000\n",
            "Epoch 4/100\n",
            "40/40 [==============================] - 17s 428ms/step - loss: 0.2101 - Accuracy: 0.9297 - false_negatives: 43.0000 - false_positives: 47.0000 - true_negatives: 593.0000 - true_positives: 597.0000 - val_loss: 0.1312 - val_Accuracy: 0.9406 - val_false_negatives: 5.0000 - val_false_positives: 14.0000 - val_true_negatives: 146.0000 - val_true_positives: 155.0000\n",
            "Epoch 5/100\n",
            "40/40 [==============================] - 17s 430ms/step - loss: 0.2258 - Accuracy: 0.9172 - false_negatives: 45.0000 - false_positives: 61.0000 - true_negatives: 579.0000 - true_positives: 595.0000 - val_loss: 0.1122 - val_Accuracy: 0.9563 - val_false_negatives: 8.0000 - val_false_positives: 6.0000 - val_true_negatives: 154.0000 - val_true_positives: 152.0000\n",
            "Epoch 6/100\n",
            "40/40 [==============================] - 19s 470ms/step - loss: 0.1846 - Accuracy: 0.9336 - false_negatives: 48.0000 - false_positives: 37.0000 - true_negatives: 603.0000 - true_positives: 592.0000 - val_loss: 0.0978 - val_Accuracy: 0.9625 - val_false_negatives: 4.0000 - val_false_positives: 8.0000 - val_true_negatives: 152.0000 - val_true_positives: 156.0000\n",
            "Epoch 7/100\n",
            "40/40 [==============================] - 17s 427ms/step - loss: 0.1593 - Accuracy: 0.9375 - false_negatives: 41.0000 - false_positives: 39.0000 - true_negatives: 601.0000 - true_positives: 599.0000 - val_loss: 0.1262 - val_Accuracy: 0.9563 - val_false_negatives: 14.0000 - val_false_positives: 0.0000e+00 - val_true_negatives: 160.0000 - val_true_positives: 146.0000\n",
            "Epoch 8/100\n",
            "40/40 [==============================] - 17s 426ms/step - loss: 0.1741 - Accuracy: 0.9344 - false_negatives: 42.0000 - false_positives: 42.0000 - true_negatives: 598.0000 - true_positives: 598.0000 - val_loss: 0.0873 - val_Accuracy: 0.9688 - val_false_negatives: 9.0000 - val_false_positives: 1.0000 - val_true_negatives: 159.0000 - val_true_positives: 151.0000\n",
            "Epoch 9/100\n",
            "40/40 [==============================] - 17s 429ms/step - loss: 0.1768 - Accuracy: 0.9328 - false_negatives: 43.0000 - false_positives: 43.0000 - true_negatives: 597.0000 - true_positives: 597.0000 - val_loss: 0.1298 - val_Accuracy: 0.9563 - val_false_negatives: 14.0000 - val_false_positives: 0.0000e+00 - val_true_negatives: 160.0000 - val_true_positives: 146.0000\n",
            "Epoch 10/100\n",
            "40/40 [==============================] - 17s 429ms/step - loss: 0.1387 - Accuracy: 0.9508 - false_negatives: 36.0000 - false_positives: 27.0000 - true_negatives: 613.0000 - true_positives: 604.0000 - val_loss: 0.0847 - val_Accuracy: 0.9656 - val_false_negatives: 11.0000 - val_false_positives: 0.0000e+00 - val_true_negatives: 160.0000 - val_true_positives: 149.0000\n",
            "Epoch 11/100\n",
            "40/40 [==============================] - 17s 428ms/step - loss: 0.1554 - Accuracy: 0.9469 - false_negatives: 33.0000 - false_positives: 35.0000 - true_negatives: 605.0000 - true_positives: 607.0000 - val_loss: 0.3453 - val_Accuracy: 0.9031 - val_false_negatives: 31.0000 - val_false_positives: 0.0000e+00 - val_true_negatives: 160.0000 - val_true_positives: 129.0000\n",
            "Epoch 12/100\n",
            "40/40 [==============================] - 17s 426ms/step - loss: 0.1311 - Accuracy: 0.9492 - false_negatives: 38.0000 - false_positives: 27.0000 - true_negatives: 613.0000 - true_positives: 602.0000 - val_loss: 0.1373 - val_Accuracy: 0.9563 - val_false_negatives: 14.0000 - val_false_positives: 0.0000e+00 - val_true_negatives: 160.0000 - val_true_positives: 146.0000\n",
            "Epoch 13/100\n",
            "40/40 [==============================] - 17s 426ms/step - loss: 0.1624 - Accuracy: 0.9297 - false_negatives: 51.0000 - false_positives: 39.0000 - true_negatives: 601.0000 - true_positives: 589.0000 - val_loss: 0.2462 - val_Accuracy: 0.9344 - val_false_negatives: 21.0000 - val_false_positives: 0.0000e+00 - val_true_negatives: 160.0000 - val_true_positives: 139.0000\n",
            "Epoch 14/100\n",
            "40/40 [==============================] - 17s 428ms/step - loss: 0.1403 - Accuracy: 0.9422 - false_negatives: 41.0000 - false_positives: 33.0000 - true_negatives: 607.0000 - true_positives: 599.0000 - val_loss: 0.0656 - val_Accuracy: 0.9719 - val_false_negatives: 9.0000 - val_false_positives: 0.0000e+00 - val_true_negatives: 160.0000 - val_true_positives: 151.0000\n",
            "Epoch 15/100\n",
            "40/40 [==============================] - 17s 425ms/step - loss: 0.1536 - Accuracy: 0.9367 - false_negatives: 41.0000 - false_positives: 40.0000 - true_negatives: 600.0000 - true_positives: 599.0000 - val_loss: 0.0593 - val_Accuracy: 0.9812 - val_false_negatives: 6.0000 - val_false_positives: 0.0000e+00 - val_true_negatives: 160.0000 - val_true_positives: 154.0000\n",
            "Epoch 16/100\n",
            "40/40 [==============================] - 17s 425ms/step - loss: 0.1210 - Accuracy: 0.9563 - false_negatives: 29.0000 - false_positives: 27.0000 - true_negatives: 613.0000 - true_positives: 611.0000 - val_loss: 0.3022 - val_Accuracy: 0.9125 - val_false_negatives: 28.0000 - val_false_positives: 0.0000e+00 - val_true_negatives: 160.0000 - val_true_positives: 132.0000\n",
            "Epoch 17/100\n",
            "40/40 [==============================] - 17s 425ms/step - loss: 0.1354 - Accuracy: 0.9516 - false_negatives: 31.0000 - false_positives: 31.0000 - true_negatives: 609.0000 - true_positives: 609.0000 - val_loss: 0.0451 - val_Accuracy: 0.9812 - val_false_negatives: 3.0000 - val_false_positives: 3.0000 - val_true_negatives: 157.0000 - val_true_positives: 157.0000\n",
            "Epoch 18/100\n",
            "40/40 [==============================] - 17s 426ms/step - loss: 0.1331 - Accuracy: 0.9531 - false_negatives: 28.0000 - false_positives: 32.0000 - true_negatives: 608.0000 - true_positives: 612.0000 - val_loss: 0.2070 - val_Accuracy: 0.9375 - val_false_negatives: 20.0000 - val_false_positives: 0.0000e+00 - val_true_negatives: 160.0000 - val_true_positives: 140.0000\n",
            "Epoch 19/100\n",
            "40/40 [==============================] - 17s 428ms/step - loss: 0.1298 - Accuracy: 0.9531 - false_negatives: 30.0000 - false_positives: 30.0000 - true_negatives: 610.0000 - true_positives: 610.0000 - val_loss: 0.0967 - val_Accuracy: 0.9625 - val_false_negatives: 12.0000 - val_false_positives: 0.0000e+00 - val_true_negatives: 160.0000 - val_true_positives: 148.0000\n",
            "Epoch 20/100\n",
            "40/40 [==============================] - 17s 436ms/step - loss: 0.1233 - Accuracy: 0.9570 - false_negatives: 25.0000 - false_positives: 30.0000 - true_negatives: 610.0000 - true_positives: 615.0000 - val_loss: 0.2925 - val_Accuracy: 0.9187 - val_false_negatives: 26.0000 - val_false_positives: 0.0000e+00 - val_true_negatives: 160.0000 - val_true_positives: 134.0000\n",
            "Epoch 21/100\n",
            "40/40 [==============================] - 17s 425ms/step - loss: 0.1496 - Accuracy: 0.9383 - false_negatives: 45.0000 - false_positives: 34.0000 - true_negatives: 606.0000 - true_positives: 595.0000 - val_loss: 0.3217 - val_Accuracy: 0.8906 - val_false_negatives: 35.0000 - val_false_positives: 0.0000e+00 - val_true_negatives: 160.0000 - val_true_positives: 125.0000\n",
            "Epoch 22/100\n",
            "40/40 [==============================] - 17s 426ms/step - loss: 0.0995 - Accuracy: 0.9617 - false_negatives: 27.0000 - false_positives: 22.0000 - true_negatives: 618.0000 - true_positives: 613.0000 - val_loss: 0.1621 - val_Accuracy: 0.9469 - val_false_negatives: 17.0000 - val_false_positives: 0.0000e+00 - val_true_negatives: 160.0000 - val_true_positives: 143.0000\n",
            "Epoch 23/100\n",
            "40/40 [==============================] - 17s 431ms/step - loss: 0.1026 - Accuracy: 0.9672 - false_negatives: 20.0000 - false_positives: 22.0000 - true_negatives: 618.0000 - true_positives: 620.0000 - val_loss: 0.4386 - val_Accuracy: 0.8844 - val_false_negatives: 37.0000 - val_false_positives: 0.0000e+00 - val_true_negatives: 160.0000 - val_true_positives: 123.0000\n",
            "Epoch 24/100\n",
            "40/40 [==============================] - 17s 427ms/step - loss: 0.1365 - Accuracy: 0.9477 - false_negatives: 38.0000 - false_positives: 29.0000 - true_negatives: 611.0000 - true_positives: 602.0000 - val_loss: 0.1433 - val_Accuracy: 0.9594 - val_false_negatives: 13.0000 - val_false_positives: 0.0000e+00 - val_true_negatives: 160.0000 - val_true_positives: 147.0000\n",
            "Epoch 25/100\n",
            "40/40 [==============================] - 17s 429ms/step - loss: 0.1400 - Accuracy: 0.9422 - false_negatives: 40.0000 - false_positives: 34.0000 - true_negatives: 606.0000 - true_positives: 600.0000 - val_loss: 0.1188 - val_Accuracy: 0.9688 - val_false_negatives: 10.0000 - val_false_positives: 0.0000e+00 - val_true_negatives: 160.0000 - val_true_positives: 150.0000\n",
            "Epoch 26/100\n",
            "40/40 [==============================] - 17s 427ms/step - loss: 0.0940 - Accuracy: 0.9625 - false_negatives: 27.0000 - false_positives: 21.0000 - true_negatives: 619.0000 - true_positives: 613.0000 - val_loss: 0.7960 - val_Accuracy: 0.8469 - val_false_negatives: 49.0000 - val_false_positives: 0.0000e+00 - val_true_negatives: 160.0000 - val_true_positives: 111.0000\n",
            "Epoch 27/100\n",
            "40/40 [==============================] - 17s 429ms/step - loss: 0.1046 - Accuracy: 0.9617 - false_negatives: 28.0000 - false_positives: 21.0000 - true_negatives: 619.0000 - true_positives: 612.0000 - val_loss: 0.0350 - val_Accuracy: 0.9906 - val_false_negatives: 3.0000 - val_false_positives: 0.0000e+00 - val_true_negatives: 160.0000 - val_true_positives: 157.0000\n",
            "Epoch 28/100\n",
            "40/40 [==============================] - 17s 431ms/step - loss: 0.1874 - Accuracy: 0.9352 - false_negatives: 46.0000 - false_positives: 37.0000 - true_negatives: 603.0000 - true_positives: 594.0000 - val_loss: 0.5085 - val_Accuracy: 0.8875 - val_false_negatives: 36.0000 - val_false_positives: 0.0000e+00 - val_true_negatives: 160.0000 - val_true_positives: 124.0000\n",
            "Epoch 29/100\n",
            "40/40 [==============================] - 17s 429ms/step - loss: 0.0931 - Accuracy: 0.9656 - false_negatives: 20.0000 - false_positives: 24.0000 - true_negatives: 616.0000 - true_positives: 620.0000 - val_loss: 0.1358 - val_Accuracy: 0.9563 - val_false_negatives: 14.0000 - val_false_positives: 0.0000e+00 - val_true_negatives: 160.0000 - val_true_positives: 146.0000\n",
            "Epoch 30/100\n",
            "40/40 [==============================] - 17s 431ms/step - loss: 0.0944 - Accuracy: 0.9633 - false_negatives: 23.0000 - false_positives: 24.0000 - true_negatives: 616.0000 - true_positives: 617.0000 - val_loss: 0.4337 - val_Accuracy: 0.9062 - val_false_negatives: 30.0000 - val_false_positives: 0.0000e+00 - val_true_negatives: 160.0000 - val_true_positives: 130.0000\n",
            "Epoch 31/100\n",
            "40/40 [==============================] - 17s 427ms/step - loss: 0.0863 - Accuracy: 0.9719 - false_negatives: 21.0000 - false_positives: 15.0000 - true_negatives: 625.0000 - true_positives: 619.0000 - val_loss: 0.2660 - val_Accuracy: 0.9406 - val_false_negatives: 19.0000 - val_false_positives: 0.0000e+00 - val_true_negatives: 160.0000 - val_true_positives: 141.0000\n",
            "Epoch 32/100\n",
            "40/40 [==============================] - 17s 431ms/step - loss: 0.0802 - Accuracy: 0.9664 - false_negatives: 21.0000 - false_positives: 22.0000 - true_negatives: 618.0000 - true_positives: 619.0000 - val_loss: 0.0304 - val_Accuracy: 0.9844 - val_false_negatives: 5.0000 - val_false_positives: 0.0000e+00 - val_true_negatives: 160.0000 - val_true_positives: 155.0000\n",
            "Epoch 33/100\n",
            "40/40 [==============================] - 18s 440ms/step - loss: 0.0933 - Accuracy: 0.9617 - false_negatives: 24.0000 - false_positives: 25.0000 - true_negatives: 615.0000 - true_positives: 616.0000 - val_loss: 0.2252 - val_Accuracy: 0.9375 - val_false_negatives: 20.0000 - val_false_positives: 0.0000e+00 - val_true_negatives: 160.0000 - val_true_positives: 140.0000\n",
            "Epoch 34/100\n",
            "40/40 [==============================] - 17s 430ms/step - loss: 0.0688 - Accuracy: 0.9703 - false_negatives: 19.0000 - false_positives: 19.0000 - true_negatives: 621.0000 - true_positives: 621.0000 - val_loss: 0.1895 - val_Accuracy: 0.9312 - val_false_negatives: 22.0000 - val_false_positives: 0.0000e+00 - val_true_negatives: 160.0000 - val_true_positives: 138.0000\n",
            "Epoch 35/100\n",
            "40/40 [==============================] - 17s 429ms/step - loss: 0.0820 - Accuracy: 0.9664 - false_negatives: 24.0000 - false_positives: 19.0000 - true_negatives: 621.0000 - true_positives: 616.0000 - val_loss: 0.8436 - val_Accuracy: 0.8562 - val_false_negatives: 46.0000 - val_false_positives: 0.0000e+00 - val_true_negatives: 160.0000 - val_true_positives: 114.0000\n",
            "Epoch 36/100\n",
            "40/40 [==============================] - 17s 427ms/step - loss: 0.0924 - Accuracy: 0.9656 - false_negatives: 23.0000 - false_positives: 21.0000 - true_negatives: 619.0000 - true_positives: 617.0000 - val_loss: 0.1912 - val_Accuracy: 0.9375 - val_false_negatives: 20.0000 - val_false_positives: 0.0000e+00 - val_true_negatives: 160.0000 - val_true_positives: 140.0000\n",
            "Epoch 37/100\n",
            "40/40 [==============================] - 18s 438ms/step - loss: 0.0757 - Accuracy: 0.9734 - false_negatives: 21.0000 - false_positives: 13.0000 - true_negatives: 627.0000 - true_positives: 619.0000 - val_loss: 0.5809 - val_Accuracy: 0.8906 - val_false_negatives: 35.0000 - val_false_positives: 0.0000e+00 - val_true_negatives: 160.0000 - val_true_positives: 125.0000\n",
            "Epoch 38/100\n",
            "40/40 [==============================] - 17s 427ms/step - loss: 0.0951 - Accuracy: 0.9617 - false_negatives: 25.0000 - false_positives: 24.0000 - true_negatives: 616.0000 - true_positives: 615.0000 - val_loss: 0.3944 - val_Accuracy: 0.9062 - val_false_negatives: 30.0000 - val_false_positives: 0.0000e+00 - val_true_negatives: 160.0000 - val_true_positives: 130.0000\n",
            "Epoch 39/100\n",
            "40/40 [==============================] - 17s 429ms/step - loss: 0.0933 - Accuracy: 0.9586 - false_negatives: 34.0000 - false_positives: 19.0000 - true_negatives: 621.0000 - true_positives: 606.0000 - val_loss: 0.1143 - val_Accuracy: 0.9594 - val_false_negatives: 13.0000 - val_false_positives: 0.0000e+00 - val_true_negatives: 160.0000 - val_true_positives: 147.0000\n",
            "Epoch 40/100\n",
            "40/40 [==============================] - 17s 430ms/step - loss: 0.0814 - Accuracy: 0.9719 - false_negatives: 17.0000 - false_positives: 19.0000 - true_negatives: 621.0000 - true_positives: 623.0000 - val_loss: 0.2276 - val_Accuracy: 0.9281 - val_false_negatives: 23.0000 - val_false_positives: 0.0000e+00 - val_true_negatives: 160.0000 - val_true_positives: 137.0000\n",
            "Epoch 41/100\n",
            "40/40 [==============================] - 17s 432ms/step - loss: 0.0853 - Accuracy: 0.9703 - false_negatives: 20.0000 - false_positives: 18.0000 - true_negatives: 622.0000 - true_positives: 620.0000 - val_loss: 0.1335 - val_Accuracy: 0.9531 - val_false_negatives: 15.0000 - val_false_positives: 0.0000e+00 - val_true_negatives: 160.0000 - val_true_positives: 145.0000\n",
            "Epoch 42/100\n",
            "40/40 [==============================] - 17s 430ms/step - loss: 0.0802 - Accuracy: 0.9734 - false_negatives: 20.0000 - false_positives: 14.0000 - true_negatives: 626.0000 - true_positives: 620.0000 - val_loss: 0.1635 - val_Accuracy: 0.9406 - val_false_negatives: 19.0000 - val_false_positives: 0.0000e+00 - val_true_negatives: 160.0000 - val_true_positives: 141.0000\n",
            "Epoch 43/100\n",
            "40/40 [==============================] - 17s 433ms/step - loss: 0.0707 - Accuracy: 0.9727 - false_negatives: 20.0000 - false_positives: 15.0000 - true_negatives: 625.0000 - true_positives: 620.0000 - val_loss: 0.3008 - val_Accuracy: 0.9219 - val_false_negatives: 25.0000 - val_false_positives: 0.0000e+00 - val_true_negatives: 160.0000 - val_true_positives: 135.0000\n",
            "Epoch 44/100\n",
            "40/40 [==============================] - 17s 432ms/step - loss: 0.0740 - Accuracy: 0.9695 - false_negatives: 20.0000 - false_positives: 19.0000 - true_negatives: 621.0000 - true_positives: 620.0000 - val_loss: 0.0752 - val_Accuracy: 0.9719 - val_false_negatives: 8.0000 - val_false_positives: 1.0000 - val_true_negatives: 159.0000 - val_true_positives: 152.0000\n",
            "Epoch 45/100\n",
            "40/40 [==============================] - 17s 429ms/step - loss: 0.1096 - Accuracy: 0.9555 - false_negatives: 24.0000 - false_positives: 33.0000 - true_negatives: 607.0000 - true_positives: 616.0000 - val_loss: 0.7756 - val_Accuracy: 0.8719 - val_false_negatives: 41.0000 - val_false_positives: 0.0000e+00 - val_true_negatives: 160.0000 - val_true_positives: 119.0000\n",
            "Epoch 46/100\n",
            "40/40 [==============================] - 17s 431ms/step - loss: 0.0672 - Accuracy: 0.9766 - false_negatives: 16.0000 - false_positives: 14.0000 - true_negatives: 626.0000 - true_positives: 624.0000 - val_loss: 0.1134 - val_Accuracy: 0.9594 - val_false_negatives: 13.0000 - val_false_positives: 0.0000e+00 - val_true_negatives: 160.0000 - val_true_positives: 147.0000\n",
            "Epoch 47/100\n",
            "40/40 [==============================] - 17s 430ms/step - loss: 0.0890 - Accuracy: 0.9633 - false_negatives: 23.0000 - false_positives: 24.0000 - true_negatives: 616.0000 - true_positives: 617.0000 - val_loss: 1.1250 - val_Accuracy: 0.8375 - val_false_negatives: 52.0000 - val_false_positives: 0.0000e+00 - val_true_negatives: 160.0000 - val_true_positives: 108.0000\n",
            "Epoch 48/100\n",
            "40/40 [==============================] - 17s 431ms/step - loss: 0.1066 - Accuracy: 0.9602 - false_negatives: 29.0000 - false_positives: 22.0000 - true_negatives: 618.0000 - true_positives: 611.0000 - val_loss: 0.0226 - val_Accuracy: 0.9937 - val_false_negatives: 2.0000 - val_false_positives: 0.0000e+00 - val_true_negatives: 160.0000 - val_true_positives: 158.0000\n",
            "Epoch 49/100\n",
            "40/40 [==============================] - 17s 428ms/step - loss: 0.0764 - Accuracy: 0.9742 - false_negatives: 19.0000 - false_positives: 14.0000 - true_negatives: 626.0000 - true_positives: 621.0000 - val_loss: 0.0560 - val_Accuracy: 0.9812 - val_false_negatives: 6.0000 - val_false_positives: 0.0000e+00 - val_true_negatives: 160.0000 - val_true_positives: 154.0000\n",
            "Epoch 50/100\n",
            "40/40 [==============================] - 17s 432ms/step - loss: 0.0519 - Accuracy: 0.9852 - false_negatives: 12.0000 - false_positives: 7.0000 - true_negatives: 633.0000 - true_positives: 628.0000 - val_loss: 0.0973 - val_Accuracy: 0.9625 - val_false_negatives: 12.0000 - val_false_positives: 0.0000e+00 - val_true_negatives: 160.0000 - val_true_positives: 148.0000\n",
            "Epoch 51/100\n",
            "40/40 [==============================] - 17s 434ms/step - loss: 0.0567 - Accuracy: 0.9812 - false_negatives: 13.0000 - false_positives: 11.0000 - true_negatives: 629.0000 - true_positives: 627.0000 - val_loss: 0.0736 - val_Accuracy: 0.9625 - val_false_negatives: 12.0000 - val_false_positives: 0.0000e+00 - val_true_negatives: 160.0000 - val_true_positives: 148.0000\n",
            "Epoch 52/100\n",
            "40/40 [==============================] - 17s 429ms/step - loss: 0.0639 - Accuracy: 0.9789 - false_negatives: 13.0000 - false_positives: 14.0000 - true_negatives: 626.0000 - true_positives: 627.0000 - val_loss: 0.1965 - val_Accuracy: 0.9281 - val_false_negatives: 23.0000 - val_false_positives: 0.0000e+00 - val_true_negatives: 160.0000 - val_true_positives: 137.0000\n",
            "Epoch 53/100\n",
            "40/40 [==============================] - 17s 433ms/step - loss: 0.0428 - Accuracy: 0.9852 - false_negatives: 11.0000 - false_positives: 8.0000 - true_negatives: 632.0000 - true_positives: 629.0000 - val_loss: 0.1040 - val_Accuracy: 0.9656 - val_false_negatives: 11.0000 - val_false_positives: 0.0000e+00 - val_true_negatives: 160.0000 - val_true_positives: 149.0000\n",
            "Epoch 54/100\n",
            "40/40 [==============================] - 17s 430ms/step - loss: 0.0593 - Accuracy: 0.9773 - false_negatives: 14.0000 - false_positives: 15.0000 - true_negatives: 625.0000 - true_positives: 626.0000 - val_loss: 0.0607 - val_Accuracy: 0.9688 - val_false_negatives: 10.0000 - val_false_positives: 0.0000e+00 - val_true_negatives: 160.0000 - val_true_positives: 150.0000\n",
            "Epoch 55/100\n",
            "40/40 [==============================] - 17s 433ms/step - loss: 0.0561 - Accuracy: 0.9773 - false_negatives: 19.0000 - false_positives: 10.0000 - true_negatives: 630.0000 - true_positives: 621.0000 - val_loss: 0.2181 - val_Accuracy: 0.9375 - val_false_negatives: 20.0000 - val_false_positives: 0.0000e+00 - val_true_negatives: 160.0000 - val_true_positives: 140.0000\n",
            "Epoch 56/100\n",
            "40/40 [==============================] - 17s 431ms/step - loss: 0.0709 - Accuracy: 0.9766 - false_negatives: 15.0000 - false_positives: 15.0000 - true_negatives: 625.0000 - true_positives: 625.0000 - val_loss: 0.0793 - val_Accuracy: 0.9688 - val_false_negatives: 10.0000 - val_false_positives: 0.0000e+00 - val_true_negatives: 160.0000 - val_true_positives: 150.0000\n",
            "Epoch 57/100\n",
            "40/40 [==============================] - 17s 432ms/step - loss: 0.0507 - Accuracy: 0.9836 - false_negatives: 12.0000 - false_positives: 9.0000 - true_negatives: 631.0000 - true_positives: 628.0000 - val_loss: 0.0674 - val_Accuracy: 0.9719 - val_false_negatives: 9.0000 - val_false_positives: 0.0000e+00 - val_true_negatives: 160.0000 - val_true_positives: 151.0000\n",
            "Epoch 58/100\n",
            "40/40 [==============================] - 17s 430ms/step - loss: 0.0355 - Accuracy: 0.9875 - false_negatives: 9.0000 - false_positives: 7.0000 - true_negatives: 633.0000 - true_positives: 631.0000 - val_loss: 0.4050 - val_Accuracy: 0.9125 - val_false_negatives: 28.0000 - val_false_positives: 0.0000e+00 - val_true_negatives: 160.0000 - val_true_positives: 132.0000\n",
            "Epoch 59/100\n",
            "40/40 [==============================] - 17s 434ms/step - loss: 0.0512 - Accuracy: 0.9773 - false_negatives: 14.0000 - false_positives: 15.0000 - true_negatives: 625.0000 - true_positives: 626.0000 - val_loss: 0.2256 - val_Accuracy: 0.9375 - val_false_negatives: 20.0000 - val_false_positives: 0.0000e+00 - val_true_negatives: 160.0000 - val_true_positives: 140.0000\n",
            "Epoch 60/100\n",
            "40/40 [==============================] - 17s 430ms/step - loss: 0.0452 - Accuracy: 0.9820 - false_negatives: 12.0000 - false_positives: 11.0000 - true_negatives: 629.0000 - true_positives: 628.0000 - val_loss: 0.0106 - val_Accuracy: 0.9969 - val_false_negatives: 1.0000 - val_false_positives: 0.0000e+00 - val_true_negatives: 160.0000 - val_true_positives: 159.0000\n",
            "Epoch 61/100\n",
            "40/40 [==============================] - 17s 431ms/step - loss: 0.0409 - Accuracy: 0.9867 - false_negatives: 7.0000 - false_positives: 10.0000 - true_negatives: 630.0000 - true_positives: 633.0000 - val_loss: 0.2836 - val_Accuracy: 0.9344 - val_false_negatives: 21.0000 - val_false_positives: 0.0000e+00 - val_true_negatives: 160.0000 - val_true_positives: 139.0000\n",
            "Epoch 62/100\n",
            "40/40 [==============================] - 17s 432ms/step - loss: 0.0384 - Accuracy: 0.9852 - false_negatives: 8.0000 - false_positives: 11.0000 - true_negatives: 629.0000 - true_positives: 632.0000 - val_loss: 0.2170 - val_Accuracy: 0.9375 - val_false_negatives: 20.0000 - val_false_positives: 0.0000e+00 - val_true_negatives: 160.0000 - val_true_positives: 140.0000\n",
            "Epoch 63/100\n",
            "40/40 [==============================] - 17s 430ms/step - loss: 0.0492 - Accuracy: 0.9789 - false_negatives: 15.0000 - false_positives: 12.0000 - true_negatives: 628.0000 - true_positives: 625.0000 - val_loss: 0.0355 - val_Accuracy: 0.9875 - val_false_negatives: 4.0000 - val_false_positives: 0.0000e+00 - val_true_negatives: 160.0000 - val_true_positives: 156.0000\n",
            "Epoch 64/100\n",
            "40/40 [==============================] - 17s 432ms/step - loss: 0.0736 - Accuracy: 0.9711 - false_negatives: 18.0000 - false_positives: 19.0000 - true_negatives: 621.0000 - true_positives: 622.0000 - val_loss: 0.0579 - val_Accuracy: 0.9875 - val_false_negatives: 4.0000 - val_false_positives: 0.0000e+00 - val_true_negatives: 160.0000 - val_true_positives: 156.0000\n",
            "Epoch 65/100\n",
            "40/40 [==============================] - 17s 430ms/step - loss: 0.0916 - Accuracy: 0.9688 - false_negatives: 21.0000 - false_positives: 19.0000 - true_negatives: 621.0000 - true_positives: 619.0000 - val_loss: 0.1128 - val_Accuracy: 0.9563 - val_false_negatives: 14.0000 - val_false_positives: 0.0000e+00 - val_true_negatives: 160.0000 - val_true_positives: 146.0000\n",
            "Epoch 66/100\n",
            "40/40 [==============================] - 17s 428ms/step - loss: 0.0640 - Accuracy: 0.9703 - false_negatives: 19.0000 - false_positives: 19.0000 - true_negatives: 621.0000 - true_positives: 621.0000 - val_loss: 0.3580 - val_Accuracy: 0.9062 - val_false_negatives: 30.0000 - val_false_positives: 0.0000e+00 - val_true_negatives: 160.0000 - val_true_positives: 130.0000\n",
            "Epoch 67/100\n",
            "40/40 [==============================] - 17s 430ms/step - loss: 0.0335 - Accuracy: 0.9867 - false_negatives: 10.0000 - false_positives: 7.0000 - true_negatives: 633.0000 - true_positives: 630.0000 - val_loss: 0.4254 - val_Accuracy: 0.9031 - val_false_negatives: 31.0000 - val_false_positives: 0.0000e+00 - val_true_negatives: 160.0000 - val_true_positives: 129.0000\n",
            "Epoch 68/100\n",
            "40/40 [==============================] - 17s 427ms/step - loss: 0.0388 - Accuracy: 0.9844 - false_negatives: 11.0000 - false_positives: 9.0000 - true_negatives: 631.0000 - true_positives: 629.0000 - val_loss: 0.0116 - val_Accuracy: 0.9906 - val_false_negatives: 3.0000 - val_false_positives: 0.0000e+00 - val_true_negatives: 160.0000 - val_true_positives: 157.0000\n",
            "Epoch 69/100\n",
            "40/40 [==============================] - 17s 430ms/step - loss: 0.0957 - Accuracy: 0.9664 - false_negatives: 21.0000 - false_positives: 22.0000 - true_negatives: 618.0000 - true_positives: 619.0000 - val_loss: 0.1004 - val_Accuracy: 0.9719 - val_false_negatives: 9.0000 - val_false_positives: 0.0000e+00 - val_true_negatives: 160.0000 - val_true_positives: 151.0000\n",
            "Epoch 70/100\n",
            "40/40 [==============================] - 17s 429ms/step - loss: 0.0482 - Accuracy: 0.9820 - false_negatives: 12.0000 - false_positives: 11.0000 - true_negatives: 629.0000 - true_positives: 628.0000 - val_loss: 0.0752 - val_Accuracy: 0.9844 - val_false_negatives: 5.0000 - val_false_positives: 0.0000e+00 - val_true_negatives: 160.0000 - val_true_positives: 155.0000\n",
            "Epoch 71/100\n",
            "40/40 [==============================] - 17s 427ms/step - loss: 0.0463 - Accuracy: 0.9828 - false_negatives: 8.0000 - false_positives: 14.0000 - true_negatives: 626.0000 - true_positives: 632.0000 - val_loss: 0.1496 - val_Accuracy: 0.9500 - val_false_negatives: 16.0000 - val_false_positives: 0.0000e+00 - val_true_negatives: 160.0000 - val_true_positives: 144.0000\n",
            "Epoch 72/100\n",
            "40/40 [==============================] - 17s 426ms/step - loss: 0.0339 - Accuracy: 0.9891 - false_negatives: 9.0000 - false_positives: 5.0000 - true_negatives: 635.0000 - true_positives: 631.0000 - val_loss: 0.0470 - val_Accuracy: 0.9844 - val_false_negatives: 5.0000 - val_false_positives: 0.0000e+00 - val_true_negatives: 160.0000 - val_true_positives: 155.0000\n",
            "Epoch 73/100\n",
            "40/40 [==============================] - 17s 429ms/step - loss: 0.0353 - Accuracy: 0.9867 - false_negatives: 7.0000 - false_positives: 10.0000 - true_negatives: 630.0000 - true_positives: 633.0000 - val_loss: 0.0508 - val_Accuracy: 0.9844 - val_false_negatives: 5.0000 - val_false_positives: 0.0000e+00 - val_true_negatives: 160.0000 - val_true_positives: 155.0000\n",
            "Epoch 74/100\n",
            "40/40 [==============================] - 17s 430ms/step - loss: 0.0276 - Accuracy: 0.9875 - false_negatives: 10.0000 - false_positives: 6.0000 - true_negatives: 634.0000 - true_positives: 630.0000 - val_loss: 0.0453 - val_Accuracy: 0.9875 - val_false_negatives: 4.0000 - val_false_positives: 0.0000e+00 - val_true_negatives: 160.0000 - val_true_positives: 156.0000\n",
            "Epoch 75/100\n",
            "40/40 [==============================] - 17s 429ms/step - loss: 0.0442 - Accuracy: 0.9828 - false_negatives: 11.0000 - false_positives: 11.0000 - true_negatives: 629.0000 - true_positives: 629.0000 - val_loss: 0.0629 - val_Accuracy: 0.9812 - val_false_negatives: 6.0000 - val_false_positives: 0.0000e+00 - val_true_negatives: 160.0000 - val_true_positives: 154.0000\n",
            "Epoch 76/100\n",
            "40/40 [==============================] - 17s 431ms/step - loss: 0.0282 - Accuracy: 0.9883 - false_negatives: 7.0000 - false_positives: 8.0000 - true_negatives: 632.0000 - true_positives: 633.0000 - val_loss: 0.2013 - val_Accuracy: 0.9406 - val_false_negatives: 19.0000 - val_false_positives: 0.0000e+00 - val_true_negatives: 160.0000 - val_true_positives: 141.0000\n",
            "Epoch 77/100\n",
            "40/40 [==============================] - 17s 428ms/step - loss: 0.0837 - Accuracy: 0.9648 - false_negatives: 25.0000 - false_positives: 20.0000 - true_negatives: 620.0000 - true_positives: 615.0000 - val_loss: 0.0100 - val_Accuracy: 0.9937 - val_false_negatives: 2.0000 - val_false_positives: 0.0000e+00 - val_true_negatives: 160.0000 - val_true_positives: 158.0000\n",
            "Epoch 78/100\n",
            "40/40 [==============================] - 17s 427ms/step - loss: 0.0415 - Accuracy: 0.9836 - false_negatives: 11.0000 - false_positives: 10.0000 - true_negatives: 630.0000 - true_positives: 629.0000 - val_loss: 0.2525 - val_Accuracy: 0.9594 - val_false_negatives: 13.0000 - val_false_positives: 0.0000e+00 - val_true_negatives: 160.0000 - val_true_positives: 147.0000\n",
            "Epoch 79/100\n",
            "40/40 [==============================] - 17s 428ms/step - loss: 0.0379 - Accuracy: 0.9859 - false_negatives: 9.0000 - false_positives: 9.0000 - true_negatives: 631.0000 - true_positives: 631.0000 - val_loss: 0.1379 - val_Accuracy: 0.9594 - val_false_negatives: 13.0000 - val_false_positives: 0.0000e+00 - val_true_negatives: 160.0000 - val_true_positives: 147.0000\n",
            "Epoch 80/100\n",
            "40/40 [==============================] - 17s 430ms/step - loss: 0.0562 - Accuracy: 0.9797 - false_negatives: 12.0000 - false_positives: 14.0000 - true_negatives: 626.0000 - true_positives: 628.0000 - val_loss: 0.2699 - val_Accuracy: 0.9062 - val_false_negatives: 30.0000 - val_false_positives: 0.0000e+00 - val_true_negatives: 160.0000 - val_true_positives: 130.0000\n",
            "Epoch 81/100\n",
            "40/40 [==============================] - 17s 425ms/step - loss: 0.0572 - Accuracy: 0.9781 - false_negatives: 13.0000 - false_positives: 15.0000 - true_negatives: 625.0000 - true_positives: 627.0000 - val_loss: 0.4631 - val_Accuracy: 0.9062 - val_false_negatives: 30.0000 - val_false_positives: 0.0000e+00 - val_true_negatives: 160.0000 - val_true_positives: 130.0000\n",
            "Epoch 82/100\n",
            "40/40 [==============================] - 17s 428ms/step - loss: 0.0347 - Accuracy: 0.9859 - false_negatives: 9.0000 - false_positives: 9.0000 - true_negatives: 631.0000 - true_positives: 631.0000 - val_loss: 0.1928 - val_Accuracy: 0.9563 - val_false_negatives: 14.0000 - val_false_positives: 0.0000e+00 - val_true_negatives: 160.0000 - val_true_positives: 146.0000\n",
            "Epoch 83/100\n",
            "40/40 [==============================] - 17s 427ms/step - loss: 0.0237 - Accuracy: 0.9922 - false_negatives: 5.0000 - false_positives: 5.0000 - true_negatives: 635.0000 - true_positives: 635.0000 - val_loss: 0.1425 - val_Accuracy: 0.9594 - val_false_negatives: 13.0000 - val_false_positives: 0.0000e+00 - val_true_negatives: 160.0000 - val_true_positives: 147.0000\n",
            "Epoch 84/100\n",
            "40/40 [==============================] - 17s 428ms/step - loss: 0.0391 - Accuracy: 0.9883 - false_negatives: 8.0000 - false_positives: 7.0000 - true_negatives: 633.0000 - true_positives: 632.0000 - val_loss: 0.1852 - val_Accuracy: 0.9563 - val_false_negatives: 14.0000 - val_false_positives: 0.0000e+00 - val_true_negatives: 160.0000 - val_true_positives: 146.0000\n",
            "Epoch 85/100\n",
            "40/40 [==============================] - 17s 429ms/step - loss: 0.0287 - Accuracy: 0.9914 - false_negatives: 6.0000 - false_positives: 5.0000 - true_negatives: 635.0000 - true_positives: 634.0000 - val_loss: 0.1226 - val_Accuracy: 0.9563 - val_false_negatives: 14.0000 - val_false_positives: 0.0000e+00 - val_true_negatives: 160.0000 - val_true_positives: 146.0000\n",
            "Epoch 86/100\n",
            "40/40 [==============================] - 17s 430ms/step - loss: 0.0313 - Accuracy: 0.9898 - false_negatives: 7.0000 - false_positives: 6.0000 - true_negatives: 634.0000 - true_positives: 633.0000 - val_loss: 0.1023 - val_Accuracy: 0.9719 - val_false_negatives: 9.0000 - val_false_positives: 0.0000e+00 - val_true_negatives: 160.0000 - val_true_positives: 151.0000\n",
            "Epoch 87/100\n",
            "40/40 [==============================] - 17s 429ms/step - loss: 0.0334 - Accuracy: 0.9891 - false_negatives: 7.0000 - false_positives: 7.0000 - true_negatives: 633.0000 - true_positives: 633.0000 - val_loss: 0.0712 - val_Accuracy: 0.9844 - val_false_negatives: 5.0000 - val_false_positives: 0.0000e+00 - val_true_negatives: 160.0000 - val_true_positives: 155.0000\n",
            "Epoch 88/100\n",
            "40/40 [==============================] - 17s 427ms/step - loss: 0.0255 - Accuracy: 0.9883 - false_negatives: 9.0000 - false_positives: 6.0000 - true_negatives: 634.0000 - true_positives: 631.0000 - val_loss: 0.1408 - val_Accuracy: 0.9688 - val_false_negatives: 10.0000 - val_false_positives: 0.0000e+00 - val_true_negatives: 160.0000 - val_true_positives: 150.0000\n",
            "Epoch 89/100\n",
            "40/40 [==============================] - 17s 429ms/step - loss: 0.0308 - Accuracy: 0.9859 - false_negatives: 11.0000 - false_positives: 7.0000 - true_negatives: 633.0000 - true_positives: 629.0000 - val_loss: 0.1544 - val_Accuracy: 0.9656 - val_false_negatives: 11.0000 - val_false_positives: 0.0000e+00 - val_true_negatives: 160.0000 - val_true_positives: 149.0000\n",
            "Epoch 90/100\n",
            "40/40 [==============================] - 17s 427ms/step - loss: 0.0314 - Accuracy: 0.9914 - false_negatives: 4.0000 - false_positives: 7.0000 - true_negatives: 633.0000 - true_positives: 636.0000 - val_loss: 0.3240 - val_Accuracy: 0.9500 - val_false_negatives: 16.0000 - val_false_positives: 0.0000e+00 - val_true_negatives: 160.0000 - val_true_positives: 144.0000\n",
            "Epoch 91/100\n",
            "40/40 [==============================] - 17s 429ms/step - loss: 0.0324 - Accuracy: 0.9891 - false_negatives: 6.0000 - false_positives: 8.0000 - true_negatives: 632.0000 - true_positives: 634.0000 - val_loss: 0.3233 - val_Accuracy: 0.9281 - val_false_negatives: 23.0000 - val_false_positives: 0.0000e+00 - val_true_negatives: 160.0000 - val_true_positives: 137.0000\n",
            "Epoch 92/100\n",
            "40/40 [==============================] - 17s 429ms/step - loss: 0.0353 - Accuracy: 0.9852 - false_negatives: 12.0000 - false_positives: 7.0000 - true_negatives: 633.0000 - true_positives: 628.0000 - val_loss: 0.0867 - val_Accuracy: 0.9688 - val_false_negatives: 10.0000 - val_false_positives: 0.0000e+00 - val_true_negatives: 160.0000 - val_true_positives: 150.0000\n",
            "Epoch 93/100\n",
            "40/40 [==============================] - 17s 429ms/step - loss: 0.0346 - Accuracy: 0.9898 - false_negatives: 7.0000 - false_positives: 6.0000 - true_negatives: 634.0000 - true_positives: 633.0000 - val_loss: 0.0109 - val_Accuracy: 0.9969 - val_false_negatives: 1.0000 - val_false_positives: 0.0000e+00 - val_true_negatives: 160.0000 - val_true_positives: 159.0000\n",
            "Epoch 94/100\n",
            "40/40 [==============================] - 17s 433ms/step - loss: 0.0223 - Accuracy: 0.9914 - false_negatives: 5.0000 - false_positives: 6.0000 - true_negatives: 634.0000 - true_positives: 635.0000 - val_loss: 0.1928 - val_Accuracy: 0.9531 - val_false_negatives: 15.0000 - val_false_positives: 0.0000e+00 - val_true_negatives: 160.0000 - val_true_positives: 145.0000\n",
            "Epoch 95/100\n",
            "40/40 [==============================] - 17s 432ms/step - loss: 0.0435 - Accuracy: 0.9844 - false_negatives: 11.0000 - false_positives: 9.0000 - true_negatives: 631.0000 - true_positives: 629.0000 - val_loss: 0.1001 - val_Accuracy: 0.9750 - val_false_negatives: 8.0000 - val_false_positives: 0.0000e+00 - val_true_negatives: 160.0000 - val_true_positives: 152.0000\n",
            "Epoch 96/100\n",
            "40/40 [==============================] - 17s 432ms/step - loss: 0.0376 - Accuracy: 0.9883 - false_negatives: 7.0000 - false_positives: 8.0000 - true_negatives: 632.0000 - true_positives: 633.0000 - val_loss: 0.0126 - val_Accuracy: 0.9937 - val_false_negatives: 1.0000 - val_false_positives: 1.0000 - val_true_negatives: 159.0000 - val_true_positives: 159.0000\n",
            "Epoch 97/100\n",
            "40/40 [==============================] - 17s 435ms/step - loss: 0.0267 - Accuracy: 0.9906 - false_negatives: 5.0000 - false_positives: 7.0000 - true_negatives: 633.0000 - true_positives: 635.0000 - val_loss: 0.0452 - val_Accuracy: 0.9844 - val_false_negatives: 5.0000 - val_false_positives: 0.0000e+00 - val_true_negatives: 160.0000 - val_true_positives: 155.0000\n",
            "Epoch 98/100\n",
            "40/40 [==============================] - 17s 431ms/step - loss: 0.0149 - Accuracy: 0.9953 - false_negatives: 3.0000 - false_positives: 3.0000 - true_negatives: 637.0000 - true_positives: 637.0000 - val_loss: 0.1893 - val_Accuracy: 0.9563 - val_false_negatives: 14.0000 - val_false_positives: 0.0000e+00 - val_true_negatives: 160.0000 - val_true_positives: 146.0000\n",
            "Epoch 99/100\n",
            "40/40 [==============================] - 17s 431ms/step - loss: 0.0237 - Accuracy: 0.9930 - false_negatives: 4.0000 - false_positives: 5.0000 - true_negatives: 635.0000 - true_positives: 636.0000 - val_loss: 0.0773 - val_Accuracy: 0.9781 - val_false_negatives: 7.0000 - val_false_positives: 0.0000e+00 - val_true_negatives: 160.0000 - val_true_positives: 153.0000\n",
            "Epoch 100/100\n",
            "40/40 [==============================] - 17s 430ms/step - loss: 0.0144 - Accuracy: 0.9961 - false_negatives: 1.0000 - false_positives: 4.0000 - true_negatives: 636.0000 - true_positives: 639.0000 - val_loss: 0.3560 - val_Accuracy: 0.9250 - val_false_negatives: 24.0000 - val_false_positives: 0.0000e+00 - val_true_negatives: 160.0000 - val_true_positives: 136.0000\n"
          ]
        }
      ]
    },
    {
      "cell_type": "markdown",
      "source": [
        "Plotting Traning Result"
      ],
      "metadata": {
        "id": "XZSFG8fXqz7c"
      }
    },
    {
      "cell_type": "code",
      "source": [
        "  #plotting\n",
        "  epochs = range(1, len(history.history['loss'])+1)\n",
        "  plt.title(f\"Grafik loss training iterasi {iterasi}\")\n",
        "  plt.plot(epochs, history.history['loss'], 'r', label='Training Loss')\n",
        "  plt.plot(epochs, history.history['val_loss'], 'b', label='Validation Loss')    \n",
        "  plt.xlabel(\"Epoch\")\n",
        "  plt.ylabel(\"Loss\")\n",
        "  plt.legend()\n",
        "  plt.show()\n"
      ],
      "metadata": {
        "id": "3dXbDrJpY1NK",
        "colab": {
          "base_uri": "https://localhost:8080/",
          "height": 295
        },
        "outputId": "9a84157e-c1e7-4e0b-a940-067cad5e56ee"
      },
      "execution_count": 12,
      "outputs": [
        {
          "output_type": "display_data",
          "data": {
            "text/plain": [
              "<Figure size 432x288 with 1 Axes>"
            ],
            "image/png": "[encoded data removed]"
          },
          "metadata": {
            "needs_background": "light"
          }
        }
      ]
    },
    {
      "cell_type": "code",
      "source": [
        "  #plotting\n",
        "  epochs = range(1, len(history.history['loss'])+1)\n",
        "  plt.title(f\"Grafik Akurasi training iterasi {iterasi}\")\n",
        "  plt.plot(epochs, history.history['Accuracy'], 'r', label='Training Accuracy')\n",
        "  plt.plot(epochs, history.history['val_Accuracy'], 'b', label='Validation Accuracy')    \n",
        "  plt.xlabel(\"Epoch\")\n",
        "  plt.ylabel(\"Accuracy\")\n",
        "  plt.legend()\n",
        "  plt.show()"
      ],
      "metadata": {
        "id": "j3xigprPwlSX",
        "colab": {
          "base_uri": "https://localhost:8080/",
          "height": 295
        },
        "outputId": "058f15d9-6298-4f2d-b744-72faf593456c"
      },
      "execution_count": 13,
      "outputs": [
        {
          "output_type": "display_data",
          "data": {
            "text/plain": [
              "<Figure size 432x288 with 1 Axes>"
            ],
            "image/png": "[encoded data removed]"
          },
          "metadata": {
            "needs_background": "light"
          }
        }
      ]
    },
    {
      "cell_type": "markdown",
      "metadata": {
        "id": "bTgk1-sdzmgy"
      },
      "source": [
        "**Validating** Network"
      ]
    },
    {
      "cell_type": "code",
      "source": [
        "import matplotlib.pyplot as plt\n",
        "from sklearn.datasets import make_classification\n",
        "from numpy import mean\n",
        "from sklearn.metrics import confusion_matrix, ConfusionMatrixDisplay, accuracy_score, classification_report, recall_score\n",
        "\n",
        "#Creating list for correct label\n",
        "correct_labels = []\n",
        "for i in range(len(image_labels_validation)):\n",
        "  pr = image_labels_validation[i]\n",
        "  output = label_binarizer.inverse_transform(pr)\n",
        "  correct_labels.append(output[0])\n",
        "\n",
        "#Creating list for predicted label\n",
        "predicted_labels = []\n",
        "for i in range(len(np_image_list_validation)):\n",
        "  test_img = np_image_list_validation[i]\n",
        "  test_img = np.expand_dims(test_img, axis=0)\n",
        "  pr=model.predict(test_img)\n",
        "  output = label_binarizer.inverse_transform(pr)\n",
        "  predicted_labels.append(output[0])\n",
        "\n",
        "#creating confusion matrix by comparing both list\n",
        "confusion_matrix = confusion_matrix(correct_labels, predicted_labels)\n",
        "disp = ConfusionMatrixDisplay(confusion_matrix=confusion_matrix)  \n",
        "disp.plot()\n",
        "plt.show()\n",
        "print('--------')\n",
        "\n",
        "FP = confusion_matrix.sum(axis=0) - np.diag(confusion_matrix)  \n",
        "FN = confusion_matrix.sum(axis=1) - np.diag(confusion_matrix)\n",
        "TP = np.diag(confusion_matrix)\n",
        "TN = confusion_matrix.sum() - (FP + FN + TP)\n",
        "\n",
        "# Sensitivity, hit rate, recall, or true positive rate\n",
        "sensitivity = TP/(TP+FN)\n",
        "# Specificity or true negative rate\n",
        "specificity = TN/(TN+FP) \n",
        "# Overall accuracy\n",
        "accuracy = (TP+TN)/(TP+FP+FN+TN)\n",
        "\n",
        "print(TP)\n",
        "print(TN)\n",
        "print(FP)\n",
        "print(FN)\n",
        "print('--------')\n",
        "print(accuracy)\n",
        "print(sensitivity)\n",
        "print(specificity)\n",
        "print('--------')\n",
        "\n"
      ],
      "metadata": {
        "colab": {
          "base_uri": "https://localhost:8080/",
          "height": 457
        },
        "id": "d_NBE4KkWuhu",
        "outputId": "32c7b8ae-1495-4aa0-9540-84069e3f9fab"
      },
      "execution_count": 14,
      "outputs": [
        {
          "output_type": "display_data",
          "data": {
            "text/plain": [
              "<Figure size 432x288 with 2 Axes>"
            ],
            "image/png": "[encoded data removed]"
          },
          "metadata": {
            "needs_background": "light"
          }
        },
        {
          "output_type": "stream",
          "name": "stdout",
          "text": [
            "--------\n",
            "[160 136]\n",
            "[136 160]\n",
            "[24  0]\n",
            "[ 0 24]\n",
            "--------\n",
            "[0.925 0.925]\n",
            "[1.   0.85]\n",
            "[0.85 1.  ]\n",
            "--------\n"
          ]
        }
      ]
    },
    {
      "cell_type": "markdown",
      "source": [
        "**Testing** Network"
      ],
      "metadata": {
        "id": "saJYjKqX9tRL"
      }
    },
    {
      "cell_type": "code",
      "source": [
        "import matplotlib.pyplot as plt\n",
        "from sklearn.datasets import make_classification\n",
        "from numpy import mean\n",
        "from sklearn.metrics import confusion_matrix, ConfusionMatrixDisplay, accuracy_score, classification_report, recall_score\n",
        "\n",
        "#Creating list for correct label\n",
        "correct_labels = []\n",
        "for i in range(len(image_labels_test)):\n",
        "  pr = image_labels_test[i]\n",
        "  output = label_binarizer.inverse_transform(pr)\n",
        "  correct_labels.append(output[0])\n",
        "\n",
        "#Creating list for predicted label\n",
        "predicted_labels = []\n",
        "for i in range(len(np_image_list_test)):\n",
        "  test_img = np_image_list_test[i]\n",
        "  test_img = np.expand_dims(test_img, axis=0)\n",
        "  pr=model.predict(test_img)\n",
        "  output = label_binarizer.inverse_transform(pr)\n",
        "  predicted_labels.append(output[0])\n",
        "\n",
        "#creating confusion matrix by comparing both list\n",
        "confusion_matrix = confusion_matrix(correct_labels, predicted_labels)\n",
        "disp = ConfusionMatrixDisplay(confusion_matrix=confusion_matrix)  \n",
        "disp.plot()\n",
        "plt.show()\n",
        "print('--------')\n",
        "\n",
        "FP = confusion_matrix.sum(axis=0) - np.diag(confusion_matrix)  \n",
        "FN = confusion_matrix.sum(axis=1) - np.diag(confusion_matrix)\n",
        "TP = np.diag(confusion_matrix)\n",
        "TN = confusion_matrix.sum() - (FP + FN + TP)\n",
        "\n",
        "# Sensitivity, hit rate, recall, or true positive rate\n",
        "sensitivity = TP/(TP+FN)\n",
        "# Specificity or true negative rate\n",
        "specificity = TN/(TN+FP) \n",
        "# Overall accuracy\n",
        "accuracy = (TP+TN)/(TP+FP+FN+TN)\n",
        "\n",
        "print(TP)\n",
        "print(TN)\n",
        "print(FP)\n",
        "print(FN)\n",
        "print('--------')\n",
        "print(accuracy)\n",
        "print(sensitivity)\n",
        "print(specificity)\n",
        "print('--------')"
      ],
      "metadata": {
        "colab": {
          "base_uri": "https://localhost:8080/",
          "height": 453
        },
        "id": "A7DR52hmTc75",
        "outputId": "28be9818-b478-41a8-ea8e-03c569316714"
      },
      "execution_count": 15,
      "outputs": [
        {
          "output_type": "display_data",
          "data": {
            "text/plain": [
              "<Figure size 432x288 with 2 Axes>"
            ],
            "image/png": "[encoded data removed]"
          },
          "metadata": {
            "needs_background": "light"
          }
        },
        {
          "output_type": "stream",
          "name": "stdout",
          "text": [
            "--------\n",
            "[199 173]\n",
            "[173 199]\n",
            "[27  1]\n",
            "[ 1 27]\n",
            "--------\n",
            "[0.93 0.93]\n",
            "[0.995 0.865]\n",
            "[0.865 0.995]\n",
            "--------\n"
          ]
        }
      ]
    }
  ]
}