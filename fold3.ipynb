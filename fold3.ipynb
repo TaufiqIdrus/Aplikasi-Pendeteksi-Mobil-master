{
  "nbformat": 4,
  "nbformat_minor": 0,
  "metadata": {
    "accelerator": "GPU",
    "colab": {
      "name": "Kodingan Skripsi 3",
      "provenance": [],
      "collapsed_sections": [],
      "include_colab_link": true
    },
    "kernelspec": {
      "display_name": "Python 3",
      "language": "python",
      "name": "python3"
    },
    "language_info": {
      "codemirror_mode": {
        "name": "ipython",
        "version": 3
      },
      "file_extension": ".py",
      "mimetype": "text/x-python",
      "name": "python",
      "nbconvert_exporter": "python",
      "pygments_lexer": "ipython3",
      "version": "3.6.6"
    }
  },
  "cells": [
    {
      "cell_type": "markdown",
      "metadata": {
        "id": "view-in-github",
        "colab_type": "text"
      },
      "source": [
        "<a href=\"https://colab.research.google.com/github/TaufiqIdrus/Aplikasi-Pendeteksi-Mobil-master/blob/master/fold3.ipynb\" target=\"_parent\"><img src=\"https://colab.research.google.com/assets/colab-badge.svg\" alt=\"Open In Colab\"/></a>"
      ]
    },
    {
      "cell_type": "markdown",
      "metadata": {
        "id": "yJT_kQA2lITS"
      },
      "source": [
        "**Identifikasi Penyakit Pada Tanaman Apel menggunakan Convolutional Neural Network**"
      ]
    },
    {
      "cell_type": "code",
      "metadata": {
        "id": "xXeOaYTUzmgT"
      },
      "source": [
        "import numpy as np\n",
        "import pickle\n",
        "import os\n",
        "import cv2\n",
        "import tensorflow as tf\n",
        "import keras\n",
        "from os import listdir\n",
        "from sklearn.preprocessing import LabelBinarizer\n",
        "from sklearn.model_selection import KFold\n",
        "from keras.models import Sequential\n",
        "from keras.layers.normalization import batch_normalization\n",
        "from keras.layers.convolutional import Conv2D\n",
        "from keras.layers.convolutional import MaxPooling2D\n",
        "from keras.layers.core import Activation, Flatten, Dropout, Dense\n",
        "from keras import backend as K\n",
        "from tensorflow.keras.optimizers import Adam\n",
        "from keras.preprocessing import image\n",
        "from sklearn.preprocessing import MultiLabelBinarizer\n",
        "from sklearn.model_selection import train_test_split\n",
        "import matplotlib.pyplot as plt\n",
        "from sklearn.datasets import make_classification\n",
        "from numpy import mean\n",
        "from sklearn.metrics import confusion_matrix, ConfusionMatrixDisplay, accuracy_score, classification_report, recall_score\n"
      ],
      "execution_count": 1,
      "outputs": []
    },
    {
      "cell_type": "markdown",
      "metadata": {
        "id": "fp8C0d28lQok"
      },
      "source": [
        "Importing and Preparing Dataset"
      ]
    },
    {
      "cell_type": "code",
      "metadata": {
        "id": "_0xehllADlUs",
        "colab": {
          "base_uri": "https://localhost:8080/"
        },
        "outputId": "eb54ac42-de9d-4060-f333-8eb04d150f22"
      },
      "source": [
        "!pip install pyunpack\n",
        "!pip install patool\n",
        "from pyunpack import Archive\n",
        "Archive('/content/fold3.rar').extractall('/content/Datasets/')\n",
        "iterasi = 3\n",
        "width=256\n",
        "height=256\n",
        "default_image_size = tuple((height, width))\n",
        "directory_root_train = '/content/Datasets/fold3/Train'\n",
        "directory_root_validation = '/content/Datasets/fold3/Validation'\n",
        "directory_root_test = '/content/Datasets/fold3/Test'\n",
        "image_size = 0\n",
        "depth=3"
      ],
      "execution_count": 2,
      "outputs": [
        {
          "output_type": "stream",
          "name": "stdout",
          "text": [
            "Requirement already satisfied: pyunpack in /usr/local/lib/python3.7/dist-packages (0.2.2)\n",
            "Requirement already satisfied: easyprocess in /usr/local/lib/python3.7/dist-packages (from pyunpack) (1.1)\n",
            "Requirement already satisfied: entrypoint2 in /usr/local/lib/python3.7/dist-packages (from pyunpack) (1.0)\n",
            "Requirement already satisfied: patool in /usr/local/lib/python3.7/dist-packages (1.12)\n"
          ]
        }
      ]
    },
    {
      "cell_type": "code",
      "metadata": {
        "id": "KbAwJJTpzmge"
      },
      "source": [
        "def convert_image_to_array(image_dir):\n",
        "    try:\n",
        "        image = cv2.imread(image_dir)\n",
        "        if image is not None :\n",
        "            image = cv2.resize(image, default_image_size)   \n",
        "            return keras.preprocessing.image.img_to_array(image)\n",
        "        else :\n",
        "            return np.array([])\n",
        "    except Exception as e:\n",
        "        print(f\"Error : {e}\")\n",
        "        return None"
      ],
      "execution_count": 3,
      "outputs": []
    },
    {
      "cell_type": "markdown",
      "source": [
        "Converting **Training** Data to Array"
      ],
      "metadata": {
        "id": "bgXxUMO2cI_D"
      }
    },
    {
      "cell_type": "code",
      "metadata": {
        "id": "Erz6IjKXzmgg",
        "colab": {
          "base_uri": "https://localhost:8080/"
        },
        "outputId": "d58237f5-5f73-4b1d-ddfd-68bd844905ef"
      },
      "source": [
        "image_list_train, label_list_train = [], []\n",
        "try:\n",
        "    print(\"[INFO] Loading images ...\")\n",
        "    root_dir = listdir(directory_root_train)\n",
        "\n",
        "    for plant_disease_folder in root_dir:\n",
        "        print(f\"[INFO] Processing {plant_disease_folder} ...\")\n",
        "        plant_disease_image_list = listdir(f\"{directory_root_train}/{plant_disease_folder}/\")\n",
        "      \n",
        "        for image in plant_disease_image_list:\n",
        "            image_directory = f\"{directory_root_train}/{plant_disease_folder}/{image}\"\n",
        "\n",
        "            if image_directory.endswith(\".jpg\") == True or image_directory.endswith(\".JPG\") == True:\n",
        "                image_list_train.append(convert_image_to_array(image_directory))\n",
        "                label_list_train.append(plant_disease_folder)\n",
        "    print(\"[INFO] Image loading completed\")\n",
        "\n",
        "except Exception as e:\n",
        "    print(f\"Error : {e}\")\n",
        "\n",
        "#image labeling\n",
        "image_size = len(image_list_train)\n",
        "label_binarizer = LabelBinarizer()\n",
        "image_labels_train = label_binarizer.fit_transform(label_list_train)\n",
        "pickle.dump(label_binarizer,open('label_transform_train.pkl', 'wb'))\n",
        "n_classes = len(label_binarizer.classes_)\n",
        "np_image_list_train = np.array(image_list_train, dtype=np.float16) / 255.0"
      ],
      "execution_count": 4,
      "outputs": [
        {
          "output_type": "stream",
          "name": "stdout",
          "text": [
            "[INFO] Loading images ...\n",
            "[INFO] Processing Healthy ...\n",
            "[INFO] Processing Diseased ...\n",
            "[INFO] Image loading completed\n"
          ]
        }
      ]
    },
    {
      "cell_type": "markdown",
      "source": [
        "Converting **Validation** Data to Array"
      ],
      "metadata": {
        "id": "7eEMGiqRd_E4"
      }
    },
    {
      "cell_type": "code",
      "source": [
        "image_list_validation, label_list_validation = [], []\n",
        "try:\n",
        "    print(\"[INFO] Loading images ...\")\n",
        "    root_dir = listdir(directory_root_validation)\n",
        "\n",
        "    for plant_disease_folder in root_dir:\n",
        "        print(f\"[INFO] Processing {plant_disease_folder} ...\")\n",
        "        plant_disease_image_list = listdir(f\"{directory_root_validation}/{plant_disease_folder}/\")\n",
        "      \n",
        "        for image in plant_disease_image_list:\n",
        "            image_directory = f\"{directory_root_validation}/{plant_disease_folder}/{image}\"\n",
        "\n",
        "            if image_directory.endswith(\".jpg\") == True or image_directory.endswith(\".JPG\") == True:\n",
        "                image_list_validation.append(convert_image_to_array(image_directory))\n",
        "                label_list_validation.append(plant_disease_folder)\n",
        "    print(\"[INFO] Image loading completed\")\n",
        "\n",
        "except Exception as e:\n",
        "    print(f\"Error : {e}\")\n",
        "\n",
        "#image labeling\n",
        "image_size = len(image_list_validation)\n",
        "label_binarizer = LabelBinarizer()\n",
        "image_labels_validation = label_binarizer.fit_transform(label_list_validation)\n",
        "pickle.dump(label_binarizer,open('label_transform_validation.pkl', 'wb'))\n",
        "n_classes = len(label_binarizer.classes_)\n",
        "np_image_list_validation = np.array(image_list_validation, dtype=np.float16) / 255.0"
      ],
      "metadata": {
        "id": "wfHDdR0ZeEuU",
        "colab": {
          "base_uri": "https://localhost:8080/"
        },
        "outputId": "feb486d4-7576-416e-bb78-6b75d5bf4c1c"
      },
      "execution_count": 5,
      "outputs": [
        {
          "output_type": "stream",
          "name": "stdout",
          "text": [
            "[INFO] Loading images ...\n",
            "[INFO] Processing Healthy ...\n",
            "[INFO] Processing Diseased ...\n",
            "[INFO] Image loading completed\n"
          ]
        }
      ]
    },
    {
      "cell_type": "markdown",
      "source": [
        "Converting **Testing** Data to Array"
      ],
      "metadata": {
        "id": "brwWyZVncTdg"
      }
    },
    {
      "cell_type": "code",
      "metadata": {
        "id": "uNPby5UMcaWY",
        "colab": {
          "base_uri": "https://localhost:8080/"
        },
        "outputId": "4dbb6771-132d-4c0c-e13b-186b9d4e0894"
      },
      "source": [
        "image_list_test, label_list_test = [], []\n",
        "try:\n",
        "    print(\"[INFO] Loading images ...\")\n",
        "    root_dir = listdir(directory_root_test)\n",
        "\n",
        "    for plant_disease_folder in root_dir:\n",
        "        print(f\"[INFO] Processing {plant_disease_folder} ...\")\n",
        "        plant_disease_image_list = listdir(f\"{directory_root_test}/{plant_disease_folder}/\")\n",
        "      \n",
        "        for image in plant_disease_image_list:\n",
        "            image_directory = f\"{directory_root_test}/{plant_disease_folder}/{image}\"\n",
        "\n",
        "            if image_directory.endswith(\".jpg\") == True or image_directory.endswith(\".JPG\") == True:\n",
        "                image_list_test.append(convert_image_to_array(image_directory))\n",
        "                label_list_test.append(plant_disease_folder)\n",
        "    print(\"[INFO] Image loading completed\")\n",
        "\n",
        "except Exception as e:\n",
        "    print(f\"Error : {e}\")\n",
        "\n",
        "#image labeling\n",
        "image_size = len(image_list_test)\n",
        "label_binarizer = LabelBinarizer()\n",
        "image_labels_test = label_binarizer.fit_transform(label_list_test)\n",
        "pickle.dump(label_binarizer,open('label_transform_test.pkl', 'wb'))\n",
        "n_classes = len(label_binarizer.classes_)\n",
        "np_image_list_test = np.array(image_list_test, dtype=np.float16) / 255.0"
      ],
      "execution_count": 6,
      "outputs": [
        {
          "output_type": "stream",
          "name": "stdout",
          "text": [
            "[INFO] Loading images ...\n",
            "[INFO] Processing Healthy ...\n",
            "[INFO] Processing Diseased ...\n",
            "[INFO] Image loading completed\n"
          ]
        }
      ]
    },
    {
      "cell_type": "markdown",
      "metadata": {
        "id": "jYBTFN0CnAi7"
      },
      "source": [
        "Data Augmenting Initialization"
      ]
    },
    {
      "cell_type": "code",
      "metadata": {
        "id": "TLMxMK2Tzmgr"
      },
      "source": [
        "aug = keras.preprocessing.image.ImageDataGenerator(\n",
        "    rotation_range=25, \n",
        "    width_shift_range=0.1,\n",
        "    height_shift_range=0.1, \n",
        "    shear_range=0.2, \n",
        "    zoom_range=0.2,\n",
        "    horizontal_flip=True, \n",
        "    fill_mode=\"nearest\")"
      ],
      "execution_count": 7,
      "outputs": []
    },
    {
      "cell_type": "markdown",
      "metadata": {
        "id": "H1BfRyYNnGv_"
      },
      "source": [
        "Creating CNN Model"
      ]
    },
    {
      "cell_type": "code",
      "metadata": {
        "id": "WmLX4wm8zmgs"
      },
      "source": [
        "model = keras.models.Sequential()\n",
        "inputShape = (height, width, depth)\n",
        "\n",
        "model.add(Conv2D(32, (3, 3), padding=\"same\",input_shape=inputShape))\n",
        "model.add(Activation(\"relu\"))\n",
        "\n",
        "model.add(MaxPooling2D(pool_size=(3, 3)))\n",
        "\n",
        "model.add(Conv2D(64, (3, 3), padding=\"same\"))\n",
        "model.add(Activation(\"relu\"))\n",
        "\n",
        "model.add(MaxPooling2D(pool_size=(3, 3)))\n",
        "\n",
        "model.add(Flatten())\n",
        "\n",
        "model.add(Dense(1024))\n",
        "model.add(Activation(\"relu\"))\n",
        "\n",
        "model.add(Dense(1))\n",
        "model.add(Activation(\"sigmoid\"))"
      ],
      "execution_count": 8,
      "outputs": []
    },
    {
      "cell_type": "code",
      "source": [
        "#model.summary()"
      ],
      "metadata": {
        "id": "RQIgaph8hW06"
      },
      "execution_count": 9,
      "outputs": []
    },
    {
      "cell_type": "code",
      "source": [
        "#from PIL import Image\n",
        "#from keras.utils.vis_utils import plot_model\n",
        "#plot_model(model, to_file='cnn_model.png', show_shapes=True, show_layer_names=True)\n",
        "#display(Image.open('cnn_model.png'))"
      ],
      "metadata": {
        "id": "T05gPuu1GudW"
      },
      "execution_count": 10,
      "outputs": []
    },
    {
      "cell_type": "markdown",
      "metadata": {
        "id": "Zfsu3lVfnXFG"
      },
      "source": [
        "**Training** Network"
      ]
    },
    {
      "cell_type": "code",
      "metadata": {
        "id": "rvwKwe3Lzmgv",
        "colab": {
          "base_uri": "https://localhost:8080/"
        },
        "outputId": "323ace81-8d43-45b1-89b2-363efe7c79fd"
      },
      "source": [
        "EPOCHS = 100\n",
        "INIT_LR = 1e-3\n",
        "BS = 32\n",
        "\n",
        "with tf.device('/GPU:0'):\n",
        "  opt = Adam(learning_rate=INIT_LR, decay=INIT_LR / EPOCHS)\n",
        "  model.compile(loss=\"binary_crossentropy\", optimizer=opt,metrics=[\"Accuracy\", \"FalseNegatives\", \"FalsePositives\", \"TrueNegatives\", \"TruePositives\"])\n",
        "  \n",
        "  history = model.fit(\n",
        "      aug.flow(np_image_list_train, image_labels_train, batch_size=BS),\n",
        "      validation_data=(np_image_list_validation, image_labels_validation),\n",
        "      steps_per_epoch=len(np_image_list_train) // BS,\n",
        "      epochs=EPOCHS, \n",
        "      verbose=1,\n",
        "      )\n"
      ],
      "execution_count": 11,
      "outputs": [
        {
          "output_type": "stream",
          "name": "stdout",
          "text": [
            "Epoch 1/100\n",
            "9/9 [==============================] - 14s 1s/step - loss: 2.9798 - Accuracy: 0.5243 - false_negatives: 74.0000 - false_positives: 63.0000 - true_negatives: 91.0000 - true_positives: 60.0000 - val_loss: 0.6494 - val_Accuracy: 0.5278 - val_false_negatives: 34.0000 - val_false_positives: 0.0000e+00 - val_true_negatives: 38.0000 - val_true_positives: 0.0000e+00\n",
            "Epoch 2/100\n",
            "9/9 [==============================] - 4s 436ms/step - loss: 0.6941 - Accuracy: 0.4965 - false_negatives: 128.0000 - false_positives: 17.0000 - true_negatives: 137.0000 - true_positives: 6.0000 - val_loss: 0.6715 - val_Accuracy: 0.7778 - val_false_negatives: 1.0000 - val_false_positives: 15.0000 - val_true_negatives: 23.0000 - val_true_positives: 33.0000\n",
            "Epoch 3/100\n",
            "9/9 [==============================] - 4s 435ms/step - loss: 0.6791 - Accuracy: 0.5729 - false_negatives: 95.0000 - false_positives: 28.0000 - true_negatives: 126.0000 - true_positives: 39.0000 - val_loss: 0.6425 - val_Accuracy: 0.8333 - val_false_negatives: 12.0000 - val_false_positives: 0.0000e+00 - val_true_negatives: 38.0000 - val_true_positives: 22.0000\n",
            "Epoch 4/100\n",
            "9/9 [==============================] - 4s 443ms/step - loss: 0.6738 - Accuracy: 0.5972 - false_negatives: 113.0000 - false_positives: 3.0000 - true_negatives: 151.0000 - true_positives: 21.0000 - val_loss: 0.6281 - val_Accuracy: 0.6389 - val_false_negatives: 0.0000e+00 - val_false_positives: 26.0000 - val_true_negatives: 12.0000 - val_true_positives: 34.0000\n",
            "Epoch 5/100\n",
            "9/9 [==============================] - 4s 435ms/step - loss: 0.6554 - Accuracy: 0.6215 - false_negatives: 63.0000 - false_positives: 46.0000 - true_negatives: 108.0000 - true_positives: 71.0000 - val_loss: 0.5713 - val_Accuracy: 0.8889 - val_false_negatives: 8.0000 - val_false_positives: 0.0000e+00 - val_true_negatives: 38.0000 - val_true_positives: 26.0000\n",
            "Epoch 6/100\n",
            "9/9 [==============================] - 4s 426ms/step - loss: 0.6381 - Accuracy: 0.5972 - false_negatives: 78.0000 - false_positives: 38.0000 - true_negatives: 116.0000 - true_positives: 56.0000 - val_loss: 0.5181 - val_Accuracy: 0.8611 - val_false_negatives: 2.0000 - val_false_positives: 8.0000 - val_true_negatives: 30.0000 - val_true_positives: 32.0000\n",
            "Epoch 7/100\n",
            "9/9 [==============================] - 4s 436ms/step - loss: 0.6197 - Accuracy: 0.6667 - false_negatives: 51.0000 - false_positives: 45.0000 - true_negatives: 109.0000 - true_positives: 83.0000 - val_loss: 0.4615 - val_Accuracy: 0.9167 - val_false_negatives: 2.0000 - val_false_positives: 4.0000 - val_true_negatives: 34.0000 - val_true_positives: 32.0000\n",
            "Epoch 8/100\n",
            "9/9 [==============================] - 4s 436ms/step - loss: 0.5833 - Accuracy: 0.6840 - false_negatives: 42.0000 - false_positives: 49.0000 - true_negatives: 105.0000 - true_positives: 92.0000 - val_loss: 0.4046 - val_Accuracy: 0.9444 - val_false_negatives: 2.0000 - val_false_positives: 2.0000 - val_true_negatives: 36.0000 - val_true_positives: 32.0000\n",
            "Epoch 9/100\n",
            "9/9 [==============================] - 4s 432ms/step - loss: 0.5423 - Accuracy: 0.7465 - false_negatives: 35.0000 - false_positives: 38.0000 - true_negatives: 116.0000 - true_positives: 99.0000 - val_loss: 0.3716 - val_Accuracy: 0.8611 - val_false_negatives: 1.0000 - val_false_positives: 9.0000 - val_true_negatives: 29.0000 - val_true_positives: 33.0000\n",
            "Epoch 10/100\n",
            "9/9 [==============================] - 4s 431ms/step - loss: 0.5708 - Accuracy: 0.7153 - false_negatives: 33.0000 - false_positives: 49.0000 - true_negatives: 105.0000 - true_positives: 101.0000 - val_loss: 0.5146 - val_Accuracy: 0.6111 - val_false_negatives: 28.0000 - val_false_positives: 0.0000e+00 - val_true_negatives: 38.0000 - val_true_positives: 6.0000\n",
            "Epoch 11/100\n",
            "9/9 [==============================] - 4s 430ms/step - loss: 0.5781 - Accuracy: 0.7083 - false_negatives: 43.0000 - false_positives: 41.0000 - true_negatives: 113.0000 - true_positives: 91.0000 - val_loss: 0.4234 - val_Accuracy: 0.7361 - val_false_negatives: 19.0000 - val_false_positives: 0.0000e+00 - val_true_negatives: 38.0000 - val_true_positives: 15.0000\n",
            "Epoch 12/100\n",
            "9/9 [==============================] - 4s 425ms/step - loss: 0.5441 - Accuracy: 0.6910 - false_negatives: 52.0000 - false_positives: 37.0000 - true_negatives: 117.0000 - true_positives: 82.0000 - val_loss: 0.3658 - val_Accuracy: 0.8889 - val_false_negatives: 1.0000 - val_false_positives: 7.0000 - val_true_negatives: 31.0000 - val_true_positives: 33.0000\n",
            "Epoch 13/100\n",
            "9/9 [==============================] - 4s 427ms/step - loss: 0.4847 - Accuracy: 0.7951 - false_negatives: 24.0000 - false_positives: 35.0000 - true_negatives: 119.0000 - true_positives: 110.0000 - val_loss: 0.3426 - val_Accuracy: 0.9583 - val_false_negatives: 3.0000 - val_false_positives: 0.0000e+00 - val_true_negatives: 38.0000 - val_true_positives: 31.0000\n",
            "Epoch 14/100\n",
            "9/9 [==============================] - 4s 432ms/step - loss: 0.4412 - Accuracy: 0.8056 - false_negatives: 24.0000 - false_positives: 32.0000 - true_negatives: 122.0000 - true_positives: 110.0000 - val_loss: 0.2516 - val_Accuracy: 0.9583 - val_false_negatives: 2.0000 - val_false_positives: 1.0000 - val_true_negatives: 37.0000 - val_true_positives: 32.0000\n",
            "Epoch 15/100\n",
            "9/9 [==============================] - 4s 433ms/step - loss: 0.4601 - Accuracy: 0.7778 - false_negatives: 23.0000 - false_positives: 41.0000 - true_negatives: 113.0000 - true_positives: 111.0000 - val_loss: 0.2637 - val_Accuracy: 0.9722 - val_false_negatives: 2.0000 - val_false_positives: 0.0000e+00 - val_true_negatives: 38.0000 - val_true_positives: 32.0000\n",
            "Epoch 16/100\n",
            "9/9 [==============================] - 4s 434ms/step - loss: 0.4216 - Accuracy: 0.8021 - false_negatives: 27.0000 - false_positives: 30.0000 - true_negatives: 124.0000 - true_positives: 107.0000 - val_loss: 0.3319 - val_Accuracy: 0.8750 - val_false_negatives: 8.0000 - val_false_positives: 1.0000 - val_true_negatives: 37.0000 - val_true_positives: 26.0000\n",
            "Epoch 17/100\n",
            "9/9 [==============================] - 4s 443ms/step - loss: 0.4352 - Accuracy: 0.8021 - false_negatives: 28.0000 - false_positives: 29.0000 - true_negatives: 125.0000 - true_positives: 106.0000 - val_loss: 0.2922 - val_Accuracy: 0.9028 - val_false_negatives: 1.0000 - val_false_positives: 6.0000 - val_true_negatives: 32.0000 - val_true_positives: 33.0000\n",
            "Epoch 18/100\n",
            "9/9 [==============================] - 4s 441ms/step - loss: 0.4699 - Accuracy: 0.7153 - false_negatives: 36.0000 - false_positives: 46.0000 - true_negatives: 108.0000 - true_positives: 98.0000 - val_loss: 0.3658 - val_Accuracy: 0.7917 - val_false_negatives: 14.0000 - val_false_positives: 1.0000 - val_true_negatives: 37.0000 - val_true_positives: 20.0000\n",
            "Epoch 19/100\n",
            "9/9 [==============================] - 5s 485ms/step - loss: 0.4140 - Accuracy: 0.8125 - false_negatives: 13.0000 - false_positives: 41.0000 - true_negatives: 113.0000 - true_positives: 121.0000 - val_loss: 0.3899 - val_Accuracy: 0.7500 - val_false_negatives: 18.0000 - val_false_positives: 0.0000e+00 - val_true_negatives: 38.0000 - val_true_positives: 16.0000\n",
            "Epoch 20/100\n",
            "9/9 [==============================] - 4s 428ms/step - loss: 0.3818 - Accuracy: 0.8264 - false_negatives: 20.0000 - false_positives: 30.0000 - true_negatives: 124.0000 - true_positives: 114.0000 - val_loss: 0.3350 - val_Accuracy: 0.8472 - val_false_negatives: 10.0000 - val_false_positives: 1.0000 - val_true_negatives: 37.0000 - val_true_positives: 24.0000\n",
            "Epoch 21/100\n",
            "9/9 [==============================] - 4s 430ms/step - loss: 0.4108 - Accuracy: 0.7986 - false_negatives: 17.0000 - false_positives: 41.0000 - true_negatives: 113.0000 - true_positives: 117.0000 - val_loss: 0.3682 - val_Accuracy: 0.8194 - val_false_negatives: 13.0000 - val_false_positives: 0.0000e+00 - val_true_negatives: 38.0000 - val_true_positives: 21.0000\n",
            "Epoch 22/100\n",
            "9/9 [==============================] - 4s 436ms/step - loss: 0.4213 - Accuracy: 0.7847 - false_negatives: 26.0000 - false_positives: 36.0000 - true_negatives: 118.0000 - true_positives: 108.0000 - val_loss: 0.2771 - val_Accuracy: 0.9167 - val_false_negatives: 5.0000 - val_false_positives: 1.0000 - val_true_negatives: 37.0000 - val_true_positives: 29.0000\n",
            "Epoch 23/100\n",
            "9/9 [==============================] - 4s 436ms/step - loss: 0.4232 - Accuracy: 0.8229 - false_negatives: 17.0000 - false_positives: 34.0000 - true_negatives: 120.0000 - true_positives: 117.0000 - val_loss: 0.2482 - val_Accuracy: 0.9028 - val_false_negatives: 1.0000 - val_false_positives: 6.0000 - val_true_negatives: 32.0000 - val_true_positives: 33.0000\n",
            "Epoch 24/100\n",
            "9/9 [==============================] - 4s 432ms/step - loss: 0.4046 - Accuracy: 0.8090 - false_negatives: 25.0000 - false_positives: 30.0000 - true_negatives: 124.0000 - true_positives: 109.0000 - val_loss: 0.2611 - val_Accuracy: 0.9306 - val_false_negatives: 4.0000 - val_false_positives: 1.0000 - val_true_negatives: 37.0000 - val_true_positives: 30.0000\n",
            "Epoch 25/100\n",
            "9/9 [==============================] - 4s 427ms/step - loss: 0.3735 - Accuracy: 0.8229 - false_negatives: 11.0000 - false_positives: 40.0000 - true_negatives: 114.0000 - true_positives: 123.0000 - val_loss: 0.3350 - val_Accuracy: 0.8194 - val_false_negatives: 12.0000 - val_false_positives: 1.0000 - val_true_negatives: 37.0000 - val_true_positives: 22.0000\n",
            "Epoch 26/100\n",
            "9/9 [==============================] - 4s 433ms/step - loss: 0.3741 - Accuracy: 0.8368 - false_negatives: 18.0000 - false_positives: 29.0000 - true_negatives: 125.0000 - true_positives: 116.0000 - val_loss: 0.2205 - val_Accuracy: 0.9306 - val_false_negatives: 4.0000 - val_false_positives: 1.0000 - val_true_negatives: 37.0000 - val_true_positives: 30.0000\n",
            "Epoch 27/100\n",
            "9/9 [==============================] - 4s 423ms/step - loss: 0.4180 - Accuracy: 0.7847 - false_negatives: 27.0000 - false_positives: 35.0000 - true_negatives: 119.0000 - true_positives: 107.0000 - val_loss: 0.2368 - val_Accuracy: 0.8889 - val_false_negatives: 0.0000e+00 - val_false_positives: 8.0000 - val_true_negatives: 30.0000 - val_true_positives: 34.0000\n",
            "Epoch 28/100\n",
            "9/9 [==============================] - 4s 427ms/step - loss: 0.4050 - Accuracy: 0.7986 - false_negatives: 30.0000 - false_positives: 28.0000 - true_negatives: 126.0000 - true_positives: 104.0000 - val_loss: 0.3033 - val_Accuracy: 0.8889 - val_false_negatives: 7.0000 - val_false_positives: 1.0000 - val_true_negatives: 37.0000 - val_true_positives: 27.0000\n",
            "Epoch 29/100\n",
            "9/9 [==============================] - 4s 432ms/step - loss: 0.4230 - Accuracy: 0.7951 - false_negatives: 16.0000 - false_positives: 43.0000 - true_negatives: 111.0000 - true_positives: 118.0000 - val_loss: 0.2420 - val_Accuracy: 0.8889 - val_false_negatives: 1.0000 - val_false_positives: 7.0000 - val_true_negatives: 31.0000 - val_true_positives: 33.0000\n",
            "Epoch 30/100\n",
            "9/9 [==============================] - 4s 427ms/step - loss: 0.3937 - Accuracy: 0.8160 - false_negatives: 24.0000 - false_positives: 29.0000 - true_negatives: 125.0000 - true_positives: 110.0000 - val_loss: 0.2321 - val_Accuracy: 0.9306 - val_false_negatives: 5.0000 - val_false_positives: 0.0000e+00 - val_true_negatives: 38.0000 - val_true_positives: 29.0000\n",
            "Epoch 31/100\n",
            "9/9 [==============================] - 4s 433ms/step - loss: 0.3931 - Accuracy: 0.8125 - false_negatives: 25.0000 - false_positives: 29.0000 - true_negatives: 125.0000 - true_positives: 109.0000 - val_loss: 0.2046 - val_Accuracy: 0.9583 - val_false_negatives: 2.0000 - val_false_positives: 1.0000 - val_true_negatives: 37.0000 - val_true_positives: 32.0000\n",
            "Epoch 32/100\n",
            "9/9 [==============================] - 4s 431ms/step - loss: 0.4281 - Accuracy: 0.7917 - false_negatives: 29.0000 - false_positives: 31.0000 - true_negatives: 123.0000 - true_positives: 105.0000 - val_loss: 0.3080 - val_Accuracy: 0.8889 - val_false_negatives: 7.0000 - val_false_positives: 1.0000 - val_true_negatives: 37.0000 - val_true_positives: 27.0000\n",
            "Epoch 33/100\n",
            "9/9 [==============================] - 4s 428ms/step - loss: 0.3583 - Accuracy: 0.8368 - false_negatives: 19.0000 - false_positives: 28.0000 - true_negatives: 126.0000 - true_positives: 115.0000 - val_loss: 0.2844 - val_Accuracy: 0.8889 - val_false_negatives: 5.0000 - val_false_positives: 3.0000 - val_true_negatives: 35.0000 - val_true_positives: 29.0000\n",
            "Epoch 34/100\n",
            "9/9 [==============================] - 4s 429ms/step - loss: 0.3550 - Accuracy: 0.8264 - false_negatives: 20.0000 - false_positives: 30.0000 - true_negatives: 124.0000 - true_positives: 114.0000 - val_loss: 0.2171 - val_Accuracy: 0.9028 - val_false_negatives: 4.0000 - val_false_positives: 3.0000 - val_true_negatives: 35.0000 - val_true_positives: 30.0000\n",
            "Epoch 35/100\n",
            "9/9 [==============================] - 4s 426ms/step - loss: 0.3694 - Accuracy: 0.8438 - false_negatives: 22.0000 - false_positives: 23.0000 - true_negatives: 131.0000 - true_positives: 112.0000 - val_loss: 0.2097 - val_Accuracy: 0.9167 - val_false_negatives: 3.0000 - val_false_positives: 3.0000 - val_true_negatives: 35.0000 - val_true_positives: 31.0000\n",
            "Epoch 36/100\n",
            "9/9 [==============================] - 4s 427ms/step - loss: 0.3617 - Accuracy: 0.8403 - false_negatives: 16.0000 - false_positives: 30.0000 - true_negatives: 124.0000 - true_positives: 118.0000 - val_loss: 0.3079 - val_Accuracy: 0.8889 - val_false_negatives: 7.0000 - val_false_positives: 1.0000 - val_true_negatives: 37.0000 - val_true_positives: 27.0000\n",
            "Epoch 37/100\n",
            "9/9 [==============================] - 4s 428ms/step - loss: 0.3547 - Accuracy: 0.8264 - false_negatives: 10.0000 - false_positives: 40.0000 - true_negatives: 114.0000 - true_positives: 124.0000 - val_loss: 0.3035 - val_Accuracy: 0.9028 - val_false_negatives: 6.0000 - val_false_positives: 1.0000 - val_true_negatives: 37.0000 - val_true_positives: 28.0000\n",
            "Epoch 38/100\n",
            "9/9 [==============================] - 4s 435ms/step - loss: 0.3356 - Accuracy: 0.8438 - false_negatives: 16.0000 - false_positives: 29.0000 - true_negatives: 125.0000 - true_positives: 118.0000 - val_loss: 0.2136 - val_Accuracy: 0.9028 - val_false_negatives: 5.0000 - val_false_positives: 2.0000 - val_true_negatives: 36.0000 - val_true_positives: 29.0000\n",
            "Epoch 39/100\n",
            "9/9 [==============================] - 4s 431ms/step - loss: 0.3387 - Accuracy: 0.8368 - false_negatives: 25.0000 - false_positives: 22.0000 - true_negatives: 132.0000 - true_positives: 109.0000 - val_loss: 0.1786 - val_Accuracy: 0.9583 - val_false_negatives: 1.0000 - val_false_positives: 2.0000 - val_true_negatives: 36.0000 - val_true_positives: 33.0000\n",
            "Epoch 40/100\n",
            "9/9 [==============================] - 4s 436ms/step - loss: 0.3685 - Accuracy: 0.8229 - false_negatives: 23.0000 - false_positives: 28.0000 - true_negatives: 126.0000 - true_positives: 111.0000 - val_loss: 0.2977 - val_Accuracy: 0.9167 - val_false_negatives: 5.0000 - val_false_positives: 1.0000 - val_true_negatives: 37.0000 - val_true_positives: 29.0000\n",
            "Epoch 41/100\n",
            "9/9 [==============================] - 4s 424ms/step - loss: 0.3512 - Accuracy: 0.8368 - false_negatives: 12.0000 - false_positives: 35.0000 - true_negatives: 119.0000 - true_positives: 122.0000 - val_loss: 0.4443 - val_Accuracy: 0.7778 - val_false_negatives: 15.0000 - val_false_positives: 1.0000 - val_true_negatives: 37.0000 - val_true_positives: 19.0000\n",
            "Epoch 42/100\n",
            "9/9 [==============================] - 4s 428ms/step - loss: 0.3467 - Accuracy: 0.8438 - false_negatives: 16.0000 - false_positives: 29.0000 - true_negatives: 125.0000 - true_positives: 118.0000 - val_loss: 0.2423 - val_Accuracy: 0.9306 - val_false_negatives: 3.0000 - val_false_positives: 2.0000 - val_true_negatives: 36.0000 - val_true_positives: 31.0000\n",
            "Epoch 43/100\n",
            "9/9 [==============================] - 4s 425ms/step - loss: 0.3347 - Accuracy: 0.8576 - false_negatives: 16.0000 - false_positives: 25.0000 - true_negatives: 129.0000 - true_positives: 118.0000 - val_loss: 0.2203 - val_Accuracy: 0.9306 - val_false_negatives: 4.0000 - val_false_positives: 1.0000 - val_true_negatives: 37.0000 - val_true_positives: 30.0000\n",
            "Epoch 44/100\n",
            "9/9 [==============================] - 4s 427ms/step - loss: 0.3398 - Accuracy: 0.8507 - false_negatives: 15.0000 - false_positives: 28.0000 - true_negatives: 126.0000 - true_positives: 119.0000 - val_loss: 0.2086 - val_Accuracy: 0.9306 - val_false_negatives: 4.0000 - val_false_positives: 1.0000 - val_true_negatives: 37.0000 - val_true_positives: 30.0000\n",
            "Epoch 45/100\n",
            "9/9 [==============================] - 4s 424ms/step - loss: 0.3551 - Accuracy: 0.8368 - false_negatives: 21.0000 - false_positives: 26.0000 - true_negatives: 128.0000 - true_positives: 113.0000 - val_loss: 0.2549 - val_Accuracy: 0.9028 - val_false_negatives: 7.0000 - val_false_positives: 0.0000e+00 - val_true_negatives: 38.0000 - val_true_positives: 27.0000\n",
            "Epoch 46/100\n",
            "9/9 [==============================] - 4s 435ms/step - loss: 0.3229 - Accuracy: 0.8403 - false_negatives: 13.0000 - false_positives: 33.0000 - true_negatives: 121.0000 - true_positives: 121.0000 - val_loss: 0.3161 - val_Accuracy: 0.8611 - val_false_negatives: 9.0000 - val_false_positives: 1.0000 - val_true_negatives: 37.0000 - val_true_positives: 25.0000\n",
            "Epoch 47/100\n",
            "9/9 [==============================] - 4s 427ms/step - loss: 0.3341 - Accuracy: 0.8438 - false_negatives: 22.0000 - false_positives: 23.0000 - true_negatives: 131.0000 - true_positives: 112.0000 - val_loss: 0.2480 - val_Accuracy: 0.9167 - val_false_negatives: 5.0000 - val_false_positives: 1.0000 - val_true_negatives: 37.0000 - val_true_positives: 29.0000\n",
            "Epoch 48/100\n",
            "9/9 [==============================] - 4s 431ms/step - loss: 0.3420 - Accuracy: 0.8438 - false_negatives: 16.0000 - false_positives: 29.0000 - true_negatives: 125.0000 - true_positives: 118.0000 - val_loss: 0.2208 - val_Accuracy: 0.9028 - val_false_negatives: 5.0000 - val_false_positives: 2.0000 - val_true_negatives: 36.0000 - val_true_positives: 29.0000\n",
            "Epoch 49/100\n",
            "9/9 [==============================] - 4s 429ms/step - loss: 0.3334 - Accuracy: 0.8542 - false_negatives: 15.0000 - false_positives: 27.0000 - true_negatives: 127.0000 - true_positives: 119.0000 - val_loss: 0.2578 - val_Accuracy: 0.9028 - val_false_negatives: 5.0000 - val_false_positives: 2.0000 - val_true_negatives: 36.0000 - val_true_positives: 29.0000\n",
            "Epoch 50/100\n",
            "9/9 [==============================] - 4s 427ms/step - loss: 0.3397 - Accuracy: 0.8299 - false_negatives: 22.0000 - false_positives: 27.0000 - true_negatives: 127.0000 - true_positives: 112.0000 - val_loss: 0.3483 - val_Accuracy: 0.8472 - val_false_negatives: 10.0000 - val_false_positives: 1.0000 - val_true_negatives: 37.0000 - val_true_positives: 24.0000\n",
            "Epoch 51/100\n",
            "9/9 [==============================] - 4s 422ms/step - loss: 0.3356 - Accuracy: 0.8472 - false_negatives: 19.0000 - false_positives: 25.0000 - true_negatives: 129.0000 - true_positives: 115.0000 - val_loss: 0.3091 - val_Accuracy: 0.8472 - val_false_negatives: 10.0000 - val_false_positives: 1.0000 - val_true_negatives: 37.0000 - val_true_positives: 24.0000\n",
            "Epoch 52/100\n",
            "9/9 [==============================] - 4s 430ms/step - loss: 0.3282 - Accuracy: 0.8611 - false_negatives: 13.0000 - false_positives: 27.0000 - true_negatives: 127.0000 - true_positives: 121.0000 - val_loss: 0.2658 - val_Accuracy: 0.9028 - val_false_negatives: 5.0000 - val_false_positives: 2.0000 - val_true_negatives: 36.0000 - val_true_positives: 29.0000\n",
            "Epoch 53/100\n",
            "9/9 [==============================] - 4s 428ms/step - loss: 0.3649 - Accuracy: 0.8229 - false_negatives: 20.0000 - false_positives: 31.0000 - true_negatives: 123.0000 - true_positives: 114.0000 - val_loss: 0.2148 - val_Accuracy: 0.9306 - val_false_negatives: 4.0000 - val_false_positives: 1.0000 - val_true_negatives: 37.0000 - val_true_positives: 30.0000\n",
            "Epoch 54/100\n",
            "9/9 [==============================] - 4s 434ms/step - loss: 0.3518 - Accuracy: 0.8368 - false_negatives: 25.0000 - false_positives: 22.0000 - true_negatives: 132.0000 - true_positives: 109.0000 - val_loss: 0.2230 - val_Accuracy: 0.9167 - val_false_negatives: 5.0000 - val_false_positives: 1.0000 - val_true_negatives: 37.0000 - val_true_positives: 29.0000\n",
            "Epoch 55/100\n",
            "9/9 [==============================] - 4s 432ms/step - loss: 0.3161 - Accuracy: 0.8611 - false_negatives: 16.0000 - false_positives: 24.0000 - true_negatives: 130.0000 - true_positives: 118.0000 - val_loss: 0.2900 - val_Accuracy: 0.8750 - val_false_negatives: 8.0000 - val_false_positives: 1.0000 - val_true_negatives: 37.0000 - val_true_positives: 26.0000\n",
            "Epoch 56/100\n",
            "9/9 [==============================] - 4s 426ms/step - loss: 0.3470 - Accuracy: 0.8542 - false_negatives: 16.0000 - false_positives: 26.0000 - true_negatives: 128.0000 - true_positives: 118.0000 - val_loss: 0.3175 - val_Accuracy: 0.8750 - val_false_negatives: 7.0000 - val_false_positives: 2.0000 - val_true_negatives: 36.0000 - val_true_positives: 27.0000\n",
            "Epoch 57/100\n",
            "9/9 [==============================] - 4s 425ms/step - loss: 0.3178 - Accuracy: 0.8646 - false_negatives: 12.0000 - false_positives: 27.0000 - true_negatives: 127.0000 - true_positives: 122.0000 - val_loss: 0.2498 - val_Accuracy: 0.8889 - val_false_negatives: 7.0000 - val_false_positives: 1.0000 - val_true_negatives: 37.0000 - val_true_positives: 27.0000\n",
            "Epoch 58/100\n",
            "9/9 [==============================] - 4s 427ms/step - loss: 0.3289 - Accuracy: 0.8576 - false_negatives: 18.0000 - false_positives: 23.0000 - true_negatives: 131.0000 - true_positives: 116.0000 - val_loss: 0.2678 - val_Accuracy: 0.9028 - val_false_negatives: 7.0000 - val_false_positives: 0.0000e+00 - val_true_negatives: 38.0000 - val_true_positives: 27.0000\n",
            "Epoch 59/100\n",
            "9/9 [==============================] - 4s 427ms/step - loss: 0.3182 - Accuracy: 0.8472 - false_negatives: 19.0000 - false_positives: 25.0000 - true_negatives: 129.0000 - true_positives: 115.0000 - val_loss: 0.3959 - val_Accuracy: 0.8333 - val_false_negatives: 12.0000 - val_false_positives: 0.0000e+00 - val_true_negatives: 38.0000 - val_true_positives: 22.0000\n",
            "Epoch 60/100\n",
            "9/9 [==============================] - 4s 433ms/step - loss: 0.3233 - Accuracy: 0.8472 - false_negatives: 19.0000 - false_positives: 25.0000 - true_negatives: 129.0000 - true_positives: 115.0000 - val_loss: 0.3017 - val_Accuracy: 0.8750 - val_false_negatives: 7.0000 - val_false_positives: 2.0000 - val_true_negatives: 36.0000 - val_true_positives: 27.0000\n",
            "Epoch 61/100\n",
            "9/9 [==============================] - 4s 427ms/step - loss: 0.3187 - Accuracy: 0.8785 - false_negatives: 13.0000 - false_positives: 22.0000 - true_negatives: 132.0000 - true_positives: 121.0000 - val_loss: 0.2296 - val_Accuracy: 0.9167 - val_false_negatives: 6.0000 - val_false_positives: 0.0000e+00 - val_true_negatives: 38.0000 - val_true_positives: 28.0000\n",
            "Epoch 62/100\n",
            "9/9 [==============================] - 4s 426ms/step - loss: 0.2914 - Accuracy: 0.8611 - false_negatives: 23.0000 - false_positives: 17.0000 - true_negatives: 137.0000 - true_positives: 111.0000 - val_loss: 0.2621 - val_Accuracy: 0.8750 - val_false_negatives: 7.0000 - val_false_positives: 2.0000 - val_true_negatives: 36.0000 - val_true_positives: 27.0000\n",
            "Epoch 63/100\n",
            "9/9 [==============================] - 4s 428ms/step - loss: 0.3086 - Accuracy: 0.8681 - false_negatives: 15.0000 - false_positives: 23.0000 - true_negatives: 131.0000 - true_positives: 119.0000 - val_loss: 0.2028 - val_Accuracy: 0.9028 - val_false_negatives: 4.0000 - val_false_positives: 3.0000 - val_true_negatives: 35.0000 - val_true_positives: 30.0000\n",
            "Epoch 64/100\n",
            "9/9 [==============================] - 4s 421ms/step - loss: 0.3319 - Accuracy: 0.8403 - false_negatives: 24.0000 - false_positives: 22.0000 - true_negatives: 132.0000 - true_positives: 110.0000 - val_loss: 0.2189 - val_Accuracy: 0.9306 - val_false_negatives: 1.0000 - val_false_positives: 4.0000 - val_true_negatives: 34.0000 - val_true_positives: 33.0000\n",
            "Epoch 65/100\n",
            "9/9 [==============================] - 4s 421ms/step - loss: 0.3262 - Accuracy: 0.8333 - false_negatives: 19.0000 - false_positives: 29.0000 - true_negatives: 125.0000 - true_positives: 115.0000 - val_loss: 0.1847 - val_Accuracy: 0.9444 - val_false_negatives: 2.0000 - val_false_positives: 2.0000 - val_true_negatives: 36.0000 - val_true_positives: 32.0000\n",
            "Epoch 66/100\n",
            "9/9 [==============================] - 4s 424ms/step - loss: 0.3010 - Accuracy: 0.8681 - false_negatives: 9.0000 - false_positives: 29.0000 - true_negatives: 125.0000 - true_positives: 125.0000 - val_loss: 0.2513 - val_Accuracy: 0.8889 - val_false_negatives: 7.0000 - val_false_positives: 1.0000 - val_true_negatives: 37.0000 - val_true_positives: 27.0000\n",
            "Epoch 67/100\n",
            "9/9 [==============================] - 4s 425ms/step - loss: 0.3089 - Accuracy: 0.8542 - false_negatives: 18.0000 - false_positives: 24.0000 - true_negatives: 130.0000 - true_positives: 116.0000 - val_loss: 0.3100 - val_Accuracy: 0.8611 - val_false_negatives: 8.0000 - val_false_positives: 2.0000 - val_true_negatives: 36.0000 - val_true_positives: 26.0000\n",
            "Epoch 68/100\n",
            "9/9 [==============================] - 4s 429ms/step - loss: 0.2841 - Accuracy: 0.8611 - false_negatives: 19.0000 - false_positives: 21.0000 - true_negatives: 133.0000 - true_positives: 115.0000 - val_loss: 0.3380 - val_Accuracy: 0.8194 - val_false_negatives: 13.0000 - val_false_positives: 0.0000e+00 - val_true_negatives: 38.0000 - val_true_positives: 21.0000\n",
            "Epoch 69/100\n",
            "9/9 [==============================] - 4s 432ms/step - loss: 0.3162 - Accuracy: 0.8646 - false_negatives: 15.0000 - false_positives: 24.0000 - true_negatives: 130.0000 - true_positives: 119.0000 - val_loss: 0.4156 - val_Accuracy: 0.7778 - val_false_negatives: 16.0000 - val_false_positives: 0.0000e+00 - val_true_negatives: 38.0000 - val_true_positives: 18.0000\n",
            "Epoch 70/100\n",
            "9/9 [==============================] - 4s 430ms/step - loss: 0.2887 - Accuracy: 0.8750 - false_negatives: 13.0000 - false_positives: 23.0000 - true_negatives: 131.0000 - true_positives: 121.0000 - val_loss: 0.2261 - val_Accuracy: 0.9306 - val_false_negatives: 4.0000 - val_false_positives: 1.0000 - val_true_negatives: 37.0000 - val_true_positives: 30.0000\n",
            "Epoch 71/100\n",
            "9/9 [==============================] - 4s 427ms/step - loss: 0.2553 - Accuracy: 0.8924 - false_negatives: 13.0000 - false_positives: 18.0000 - true_negatives: 136.0000 - true_positives: 121.0000 - val_loss: 0.1649 - val_Accuracy: 0.9167 - val_false_negatives: 3.0000 - val_false_positives: 3.0000 - val_true_negatives: 35.0000 - val_true_positives: 31.0000\n",
            "Epoch 72/100\n",
            "9/9 [==============================] - 4s 424ms/step - loss: 0.3319 - Accuracy: 0.8542 - false_negatives: 20.0000 - false_positives: 22.0000 - true_negatives: 132.0000 - true_positives: 114.0000 - val_loss: 0.1893 - val_Accuracy: 0.9167 - val_false_negatives: 3.0000 - val_false_positives: 3.0000 - val_true_negatives: 35.0000 - val_true_positives: 31.0000\n",
            "Epoch 73/100\n",
            "9/9 [==============================] - 4s 424ms/step - loss: 0.2864 - Accuracy: 0.8750 - false_negatives: 15.0000 - false_positives: 21.0000 - true_negatives: 133.0000 - true_positives: 119.0000 - val_loss: 0.2119 - val_Accuracy: 0.9167 - val_false_negatives: 5.0000 - val_false_positives: 1.0000 - val_true_negatives: 37.0000 - val_true_positives: 29.0000\n",
            "Epoch 74/100\n",
            "9/9 [==============================] - 4s 427ms/step - loss: 0.2568 - Accuracy: 0.8750 - false_negatives: 16.0000 - false_positives: 20.0000 - true_negatives: 134.0000 - true_positives: 118.0000 - val_loss: 0.1445 - val_Accuracy: 0.9444 - val_false_negatives: 1.0000 - val_false_positives: 3.0000 - val_true_negatives: 35.0000 - val_true_positives: 33.0000\n",
            "Epoch 75/100\n",
            "9/9 [==============================] - 4s 427ms/step - loss: 0.2907 - Accuracy: 0.8646 - false_negatives: 18.0000 - false_positives: 21.0000 - true_negatives: 133.0000 - true_positives: 116.0000 - val_loss: 0.1947 - val_Accuracy: 0.9444 - val_false_negatives: 1.0000 - val_false_positives: 3.0000 - val_true_negatives: 35.0000 - val_true_positives: 33.0000\n",
            "Epoch 76/100\n",
            "9/9 [==============================] - 4s 424ms/step - loss: 0.2895 - Accuracy: 0.8750 - false_negatives: 11.0000 - false_positives: 25.0000 - true_negatives: 129.0000 - true_positives: 123.0000 - val_loss: 0.2195 - val_Accuracy: 0.9028 - val_false_negatives: 6.0000 - val_false_positives: 1.0000 - val_true_negatives: 37.0000 - val_true_positives: 28.0000\n",
            "Epoch 77/100\n",
            "9/9 [==============================] - 4s 433ms/step - loss: 0.3176 - Accuracy: 0.8924 - false_negatives: 11.0000 - false_positives: 20.0000 - true_negatives: 134.0000 - true_positives: 123.0000 - val_loss: 0.2832 - val_Accuracy: 0.8472 - val_false_negatives: 10.0000 - val_false_positives: 1.0000 - val_true_negatives: 37.0000 - val_true_positives: 24.0000\n",
            "Epoch 78/100\n",
            "9/9 [==============================] - 4s 430ms/step - loss: 0.2641 - Accuracy: 0.8785 - false_negatives: 18.0000 - false_positives: 17.0000 - true_negatives: 137.0000 - true_positives: 116.0000 - val_loss: 0.2768 - val_Accuracy: 0.8750 - val_false_negatives: 7.0000 - val_false_positives: 2.0000 - val_true_negatives: 36.0000 - val_true_positives: 27.0000\n",
            "Epoch 79/100\n",
            "9/9 [==============================] - 4s 427ms/step - loss: 0.2746 - Accuracy: 0.8819 - false_negatives: 11.0000 - false_positives: 23.0000 - true_negatives: 131.0000 - true_positives: 123.0000 - val_loss: 0.5227 - val_Accuracy: 0.7222 - val_false_negatives: 20.0000 - val_false_positives: 0.0000e+00 - val_true_negatives: 38.0000 - val_true_positives: 14.0000\n",
            "Epoch 80/100\n",
            "9/9 [==============================] - 4s 427ms/step - loss: 0.3224 - Accuracy: 0.8611 - false_negatives: 18.0000 - false_positives: 22.0000 - true_negatives: 132.0000 - true_positives: 116.0000 - val_loss: 0.1898 - val_Accuracy: 0.9167 - val_false_negatives: 6.0000 - val_false_positives: 0.0000e+00 - val_true_negatives: 38.0000 - val_true_positives: 28.0000\n",
            "Epoch 81/100\n",
            "9/9 [==============================] - 4s 424ms/step - loss: 0.2875 - Accuracy: 0.8507 - false_negatives: 23.0000 - false_positives: 20.0000 - true_negatives: 134.0000 - true_positives: 111.0000 - val_loss: 0.2404 - val_Accuracy: 0.8611 - val_false_negatives: 7.0000 - val_false_positives: 3.0000 - val_true_negatives: 35.0000 - val_true_positives: 27.0000\n",
            "Epoch 82/100\n",
            "9/9 [==============================] - 4s 422ms/step - loss: 0.2876 - Accuracy: 0.8681 - false_negatives: 13.0000 - false_positives: 25.0000 - true_negatives: 129.0000 - true_positives: 121.0000 - val_loss: 0.2939 - val_Accuracy: 0.8333 - val_false_negatives: 12.0000 - val_false_positives: 0.0000e+00 - val_true_negatives: 38.0000 - val_true_positives: 22.0000\n",
            "Epoch 83/100\n",
            "9/9 [==============================] - 4s 425ms/step - loss: 0.3959 - Accuracy: 0.7986 - false_negatives: 28.0000 - false_positives: 30.0000 - true_negatives: 124.0000 - true_positives: 106.0000 - val_loss: 0.1934 - val_Accuracy: 0.9167 - val_false_negatives: 6.0000 - val_false_positives: 0.0000e+00 - val_true_negatives: 38.0000 - val_true_positives: 28.0000\n",
            "Epoch 84/100\n",
            "9/9 [==============================] - 4s 423ms/step - loss: 0.3419 - Accuracy: 0.8299 - false_negatives: 25.0000 - false_positives: 24.0000 - true_negatives: 130.0000 - true_positives: 109.0000 - val_loss: 0.2304 - val_Accuracy: 0.8889 - val_false_negatives: 5.0000 - val_false_positives: 3.0000 - val_true_negatives: 35.0000 - val_true_positives: 29.0000\n",
            "Epoch 85/100\n",
            "9/9 [==============================] - 4s 431ms/step - loss: 0.3025 - Accuracy: 0.8542 - false_negatives: 16.0000 - false_positives: 26.0000 - true_negatives: 128.0000 - true_positives: 118.0000 - val_loss: 0.2027 - val_Accuracy: 0.9028 - val_false_negatives: 3.0000 - val_false_positives: 4.0000 - val_true_negatives: 34.0000 - val_true_positives: 31.0000\n",
            "Epoch 86/100\n",
            "9/9 [==============================] - 4s 431ms/step - loss: 0.3222 - Accuracy: 0.8438 - false_negatives: 27.0000 - false_positives: 18.0000 - true_negatives: 136.0000 - true_positives: 107.0000 - val_loss: 0.1740 - val_Accuracy: 0.9306 - val_false_negatives: 2.0000 - val_false_positives: 3.0000 - val_true_negatives: 35.0000 - val_true_positives: 32.0000\n",
            "Epoch 87/100\n",
            "9/9 [==============================] - 4s 424ms/step - loss: 0.3230 - Accuracy: 0.8646 - false_negatives: 16.0000 - false_positives: 23.0000 - true_negatives: 131.0000 - true_positives: 118.0000 - val_loss: 0.1831 - val_Accuracy: 0.9167 - val_false_negatives: 2.0000 - val_false_positives: 4.0000 - val_true_negatives: 34.0000 - val_true_positives: 32.0000\n",
            "Epoch 88/100\n",
            "9/9 [==============================] - 4s 430ms/step - loss: 0.3002 - Accuracy: 0.8542 - false_negatives: 19.0000 - false_positives: 23.0000 - true_negatives: 131.0000 - true_positives: 115.0000 - val_loss: 0.2405 - val_Accuracy: 0.8889 - val_false_negatives: 7.0000 - val_false_positives: 1.0000 - val_true_negatives: 37.0000 - val_true_positives: 27.0000\n",
            "Epoch 89/100\n",
            "9/9 [==============================] - 4s 431ms/step - loss: 0.2706 - Accuracy: 0.8958 - false_negatives: 16.0000 - false_positives: 14.0000 - true_negatives: 140.0000 - true_positives: 118.0000 - val_loss: 0.1957 - val_Accuracy: 0.9167 - val_false_negatives: 4.0000 - val_false_positives: 2.0000 - val_true_negatives: 36.0000 - val_true_positives: 30.0000\n",
            "Epoch 90/100\n",
            "9/9 [==============================] - 4s 423ms/step - loss: 0.3331 - Accuracy: 0.8542 - false_negatives: 22.0000 - false_positives: 20.0000 - true_negatives: 134.0000 - true_positives: 112.0000 - val_loss: 0.2009 - val_Accuracy: 0.9028 - val_false_negatives: 4.0000 - val_false_positives: 3.0000 - val_true_negatives: 35.0000 - val_true_positives: 30.0000\n",
            "Epoch 91/100\n",
            "9/9 [==============================] - 4s 429ms/step - loss: 0.2843 - Accuracy: 0.8576 - false_negatives: 12.0000 - false_positives: 29.0000 - true_negatives: 125.0000 - true_positives: 122.0000 - val_loss: 0.2664 - val_Accuracy: 0.9028 - val_false_negatives: 7.0000 - val_false_positives: 0.0000e+00 - val_true_negatives: 38.0000 - val_true_positives: 27.0000\n",
            "Epoch 92/100\n",
            "9/9 [==============================] - 4s 435ms/step - loss: 0.2714 - Accuracy: 0.8785 - false_negatives: 17.0000 - false_positives: 18.0000 - true_negatives: 136.0000 - true_positives: 117.0000 - val_loss: 0.2418 - val_Accuracy: 0.8750 - val_false_negatives: 6.0000 - val_false_positives: 3.0000 - val_true_negatives: 35.0000 - val_true_positives: 28.0000\n",
            "Epoch 93/100\n",
            "9/9 [==============================] - 4s 433ms/step - loss: 0.2301 - Accuracy: 0.8993 - false_negatives: 7.0000 - false_positives: 22.0000 - true_negatives: 132.0000 - true_positives: 127.0000 - val_loss: 0.4851 - val_Accuracy: 0.8194 - val_false_negatives: 13.0000 - val_false_positives: 0.0000e+00 - val_true_negatives: 38.0000 - val_true_positives: 21.0000\n",
            "Epoch 94/100\n",
            "9/9 [==============================] - 4s 430ms/step - loss: 0.3175 - Accuracy: 0.8646 - false_negatives: 18.0000 - false_positives: 21.0000 - true_negatives: 133.0000 - true_positives: 116.0000 - val_loss: 0.3168 - val_Accuracy: 0.8472 - val_false_negatives: 10.0000 - val_false_positives: 1.0000 - val_true_negatives: 37.0000 - val_true_positives: 24.0000\n",
            "Epoch 95/100\n",
            "9/9 [==============================] - 4s 430ms/step - loss: 0.3068 - Accuracy: 0.8611 - false_negatives: 19.0000 - false_positives: 21.0000 - true_negatives: 133.0000 - true_positives: 115.0000 - val_loss: 0.1655 - val_Accuracy: 0.9444 - val_false_negatives: 1.0000 - val_false_positives: 3.0000 - val_true_negatives: 35.0000 - val_true_positives: 33.0000\n",
            "Epoch 96/100\n",
            "9/9 [==============================] - 4s 436ms/step - loss: 0.2863 - Accuracy: 0.8958 - false_negatives: 11.0000 - false_positives: 19.0000 - true_negatives: 135.0000 - true_positives: 123.0000 - val_loss: 0.2268 - val_Accuracy: 0.8889 - val_false_negatives: 6.0000 - val_false_positives: 2.0000 - val_true_negatives: 36.0000 - val_true_positives: 28.0000\n",
            "Epoch 97/100\n",
            "9/9 [==============================] - 4s 428ms/step - loss: 0.2837 - Accuracy: 0.8750 - false_negatives: 12.0000 - false_positives: 24.0000 - true_negatives: 130.0000 - true_positives: 122.0000 - val_loss: 0.2082 - val_Accuracy: 0.9028 - val_false_negatives: 5.0000 - val_false_positives: 2.0000 - val_true_negatives: 36.0000 - val_true_positives: 29.0000\n",
            "Epoch 98/100\n",
            "9/9 [==============================] - 4s 444ms/step - loss: 0.2339 - Accuracy: 0.9028 - false_negatives: 10.0000 - false_positives: 18.0000 - true_negatives: 136.0000 - true_positives: 124.0000 - val_loss: 0.2101 - val_Accuracy: 0.9028 - val_false_negatives: 5.0000 - val_false_positives: 2.0000 - val_true_negatives: 36.0000 - val_true_positives: 29.0000\n",
            "Epoch 99/100\n",
            "9/9 [==============================] - 4s 433ms/step - loss: 0.2291 - Accuracy: 0.8993 - false_negatives: 15.0000 - false_positives: 14.0000 - true_negatives: 140.0000 - true_positives: 119.0000 - val_loss: 0.2649 - val_Accuracy: 0.9028 - val_false_negatives: 6.0000 - val_false_positives: 1.0000 - val_true_negatives: 37.0000 - val_true_positives: 28.0000\n",
            "Epoch 100/100\n",
            "9/9 [==============================] - 4s 441ms/step - loss: 0.2172 - Accuracy: 0.8993 - false_negatives: 13.0000 - false_positives: 16.0000 - true_negatives: 138.0000 - true_positives: 121.0000 - val_loss: 0.1964 - val_Accuracy: 0.9028 - val_false_negatives: 4.0000 - val_false_positives: 3.0000 - val_true_negatives: 35.0000 - val_true_positives: 30.0000\n"
          ]
        }
      ]
    },
    {
      "cell_type": "markdown",
      "source": [
        "Plotting Traning Result"
      ],
      "metadata": {
        "id": "XZSFG8fXqz7c"
      }
    },
    {
      "cell_type": "code",
      "source": [
        "  #plotting\n",
        "  epochs = range(1, len(history.history['loss'])+1)\n",
        "  plt.title(f\"Grafik loss training iterasi {iterasi}\")\n",
        "  plt.plot(epochs, history.history['loss'], 'r', label='Training Loss')\n",
        "  plt.plot(epochs, history.history['val_loss'], 'b', label='Validation Loss')    \n",
        "  plt.xlabel(\"Epoch\")\n",
        "  plt.ylabel(\"Loss\")\n",
        "  plt.legend()\n",
        "  plt.show()\n"
      ],
      "metadata": {
        "id": "3dXbDrJpY1NK",
        "colab": {
          "base_uri": "https://localhost:8080/",
          "height": 295
        },
        "outputId": "2fbe81e9-1b28-410c-c3f3-879e737b0a2e"
      },
      "execution_count": 12,
      "outputs": [
        {
          "output_type": "display_data",
          "data": {
            "text/plain": [
              "<Figure size 432x288 with 1 Axes>"
            ],
            "image/png": "[encoded data removed]"
          },
          "metadata": {
            "needs_background": "light"
          }
        }
      ]
    },
    {
      "cell_type": "code",
      "source": [
        "  #plotting\n",
        "  epochs = range(1, len(history.history['loss'])+1)\n",
        "  plt.title(f\"Grafik Akurasi training iterasi {iterasi}\")\n",
        "  plt.plot(epochs, history.history['Accuracy'], 'r', label='Training Accuracy')\n",
        "  plt.plot(epochs, history.history['val_Accuracy'], 'b', label='Validation Accuracy')    \n",
        "  plt.xlabel(\"Epoch\")\n",
        "  plt.ylabel(\"Accuracy\")\n",
        "  plt.legend()\n",
        "  plt.show()"
      ],
      "metadata": {
        "id": "j3xigprPwlSX",
        "colab": {
          "base_uri": "https://localhost:8080/",
          "height": 295
        },
        "outputId": "3f62f8da-78c1-42b8-ca68-f95172d51c53"
      },
      "execution_count": 13,
      "outputs": [
        {
          "output_type": "display_data",
          "data": {
            "text/plain": [
              "<Figure size 432x288 with 1 Axes>"
            ],
            "image/png": "[encoded data removed]"
          },
          "metadata": {
            "needs_background": "light"
          }
        }
      ]
    },
    {
      "cell_type": "markdown",
      "metadata": {
        "id": "bTgk1-sdzmgy"
      },
      "source": [
        "**Validating** Network"
      ]
    },
    {
      "cell_type": "code",
      "source": [
        "import matplotlib.pyplot as plt\n",
        "from sklearn.datasets import make_classification\n",
        "from numpy import mean\n",
        "from sklearn.metrics import confusion_matrix, ConfusionMatrixDisplay, accuracy_score, classification_report, recall_score\n",
        "\n",
        "#Creating list for correct label\n",
        "correct_labels = []\n",
        "for i in range(len(image_labels_validation)):\n",
        "  pr = image_labels_validation[i]\n",
        "  output = label_binarizer.inverse_transform(pr)\n",
        "  correct_labels.append(output[0])\n",
        "\n",
        "#Creating list for predicted label\n",
        "predicted_labels = []\n",
        "for i in range(len(np_image_list_validation)):\n",
        "  test_img = np_image_list_validation[i]\n",
        "  test_img = np.expand_dims(test_img, axis=0)\n",
        "  pr=model.predict(test_img)\n",
        "  output = label_binarizer.inverse_transform(pr)\n",
        "  predicted_labels.append(output[0])\n",
        "\n",
        "#creating confusion matrix by comparing both list\n",
        "confusion_matrix = confusion_matrix(correct_labels, predicted_labels)\n",
        "disp = ConfusionMatrixDisplay(confusion_matrix=confusion_matrix)  \n",
        "disp.plot()\n",
        "plt.show()\n",
        "print('--------')\n",
        "\n",
        "FP = confusion_matrix.sum(axis=0) - np.diag(confusion_matrix)  \n",
        "FN = confusion_matrix.sum(axis=1) - np.diag(confusion_matrix)\n",
        "TP = np.diag(confusion_matrix)\n",
        "TN = confusion_matrix.sum() - (FP + FN + TP)\n",
        "\n",
        "# Sensitivity, hit rate, recall, or true positive rate\n",
        "sensitivity = TP/(TP+FN)\n",
        "# Specificity or true negative rate\n",
        "specificity = TN/(TN+FP) \n",
        "# Overall accuracy\n",
        "accuracy = (TP+TN)/(TP+FP+FN+TN)\n",
        "\n",
        "print(TP)\n",
        "print(TN)\n",
        "print(FP)\n",
        "print(FN)\n",
        "print('--------')\n",
        "print(accuracy)\n",
        "print(sensitivity)\n",
        "print(specificity)\n",
        "print('--------')"
      ],
      "metadata": {
        "colab": {
          "base_uri": "https://localhost:8080/",
          "height": 457
        },
        "id": "d_NBE4KkWuhu",
        "outputId": "2a69aa7d-7de0-4a3f-e423-97787ca99e6a"
      },
      "execution_count": 14,
      "outputs": [
        {
          "output_type": "display_data",
          "data": {
            "text/plain": [
              "<Figure size 432x288 with 2 Axes>"
            ],
            "image/png": "[encoded data removed]"
          },
          "metadata": {
            "needs_background": "light"
          }
        },
        {
          "output_type": "stream",
          "name": "stdout",
          "text": [
            "--------\n",
            "[35 30]\n",
            "[30 35]\n",
            "[4 3]\n",
            "[3 4]\n",
            "--------\n",
            "[0.90277778 0.90277778]\n",
            "[0.92105263 0.88235294]\n",
            "[0.88235294 0.92105263]\n",
            "--------\n"
          ]
        }
      ]
    },
    {
      "cell_type": "markdown",
      "source": [
        "**Testing** Network"
      ],
      "metadata": {
        "id": "saJYjKqX9tRL"
      }
    },
    {
      "cell_type": "code",
      "source": [
        "import matplotlib.pyplot as plt\n",
        "from sklearn.datasets import make_classification\n",
        "from numpy import mean\n",
        "from sklearn.metrics import confusion_matrix, ConfusionMatrixDisplay, accuracy_score, classification_report, recall_score\n",
        "\n",
        "#Creating list for correct label\n",
        "correct_labels = []\n",
        "for i in range(len(image_labels_test)):\n",
        "  pr = image_labels_test[i]\n",
        "  output = label_binarizer.inverse_transform(pr)\n",
        "  correct_labels.append(output[0])\n",
        "\n",
        "#Creating list for predicted label\n",
        "predicted_labels = []\n",
        "for i in range(len(np_image_list_test)):\n",
        "  test_img = np_image_list_test[i]\n",
        "  test_img = np.expand_dims(test_img, axis=0)\n",
        "  pr=model.predict(test_img)\n",
        "  output = label_binarizer.inverse_transform(pr)\n",
        "  predicted_labels.append(output[0])\n",
        "\n",
        "#creating confusion matrix by comparing both list\n",
        "confusion_matrix = confusion_matrix(correct_labels, predicted_labels)\n",
        "disp = ConfusionMatrixDisplay(confusion_matrix=confusion_matrix)  \n",
        "disp.plot()\n",
        "plt.show()\n",
        "print('--------')\n",
        "\n",
        "FP = confusion_matrix.sum(axis=0) - np.diag(confusion_matrix)  \n",
        "FN = confusion_matrix.sum(axis=1) - np.diag(confusion_matrix)\n",
        "TP = np.diag(confusion_matrix)\n",
        "TN = confusion_matrix.sum() - (FP + FN + TP)\n",
        "\n",
        "# Sensitivity, hit rate, recall, or true positive rate\n",
        "sensitivity = TP/(TP+FN)\n",
        "# Specificity or true negative rate\n",
        "specificity = TN/(TN+FP) \n",
        "# Overall accuracy\n",
        "accuracy = (TP+TN)/(TP+FP+FN+TN)\n",
        "\n",
        "print(TP)\n",
        "print(TN)\n",
        "print(FP)\n",
        "print(FN)\n",
        "print('--------')\n",
        "print(accuracy)\n",
        "print(sensitivity)\n",
        "print(specificity)\n",
        "print('--------')"
      ],
      "metadata": {
        "colab": {
          "base_uri": "https://localhost:8080/",
          "height": 453
        },
        "id": "A7DR52hmTc75",
        "outputId": "c851f06d-ea89-4697-95b6-4ec23b3aafcc"
      },
      "execution_count": 15,
      "outputs": [
        {
          "output_type": "display_data",
          "data": {
            "text/plain": [
              "<Figure size 432x288 with 2 Axes>"
            ],
            "image/png": "[encoded data removed]"
          },
          "metadata": {
            "needs_background": "light"
          }
        },
        {
          "output_type": "stream",
          "name": "stdout",
          "text": [
            "--------\n",
            "[31 37]\n",
            "[37 31]\n",
            "[ 5 17]\n",
            "[17  5]\n",
            "--------\n",
            "[0.75555556 0.75555556]\n",
            "[0.64583333 0.88095238]\n",
            "[0.88095238 0.64583333]\n",
            "--------\n"
          ]
        }
      ]
    }
  ]
}