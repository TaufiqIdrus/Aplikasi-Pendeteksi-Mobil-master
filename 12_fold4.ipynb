{
  "nbformat": 4,
  "nbformat_minor": 0,
  "metadata": {
    "accelerator": "GPU",
    "colab": {
      "name": "Kodingan Skripsi 3",
      "provenance": [],
      "collapsed_sections": [],
      "include_colab_link": true
    },
    "kernelspec": {
      "display_name": "Python 3",
      "language": "python",
      "name": "python3"
    },
    "language_info": {
      "codemirror_mode": {
        "name": "ipython",
        "version": 3
      },
      "file_extension": ".py",
      "mimetype": "text/x-python",
      "name": "python",
      "nbconvert_exporter": "python",
      "pygments_lexer": "ipython3",
      "version": "3.6.6"
    }
  },
  "cells": [
    {
      "cell_type": "markdown",
      "metadata": {
        "id": "view-in-github",
        "colab_type": "text"
      },
      "source": [
        "<a href=\"https://colab.research.google.com/github/TaufiqIdrus/Aplikasi-Pendeteksi-Mobil-master/blob/master/12_fold4.ipynb\" target=\"_parent\"><img src=\"https://colab.research.google.com/assets/colab-badge.svg\" alt=\"Open In Colab\"/></a>"
      ]
    },
    {
      "cell_type": "markdown",
      "metadata": {
        "id": "yJT_kQA2lITS"
      },
      "source": [
        "**Identifikasi Penyakit Pada Tanaman Apel menggunakan Convolutional Neural Network**"
      ]
    },
    {
      "cell_type": "code",
      "metadata": {
        "id": "xXeOaYTUzmgT"
      },
      "source": [
        "import numpy as np\n",
        "import pickle\n",
        "import os\n",
        "import cv2\n",
        "import tensorflow as tf\n",
        "import keras\n",
        "from os import listdir\n",
        "from sklearn.preprocessing import LabelBinarizer\n",
        "from keras.models import Sequential\n",
        "from keras.layers.convolutional import Conv2D\n",
        "from keras.layers.convolutional import MaxPooling2D\n",
        "from keras.layers.core import Activation, Flatten, Dropout, Dense\n",
        "from keras import backend as K\n",
        "from tensorflow.keras.optimizers import Adam\n",
        "from keras.preprocessing import image\n",
        "import matplotlib.pyplot as plt\n",
        "from sklearn.datasets import make_classification\n",
        "from numpy import mean\n"
      ],
      "execution_count": 1,
      "outputs": []
    },
    {
      "cell_type": "markdown",
      "metadata": {
        "id": "fp8C0d28lQok"
      },
      "source": [
        "Importing and Preparing Dataset"
      ]
    },
    {
      "cell_type": "code",
      "metadata": {
        "id": "_0xehllADlUs",
        "colab": {
          "base_uri": "https://localhost:8080/"
        },
        "outputId": "09a746c9-14e8-45bf-a8df-a9e13ad389cf"
      },
      "source": [
        "!pip install pyunpack\n",
        "!pip install patool\n",
        "from pyunpack import Archive\n",
        "Archive('/content/fold4.rar').extractall('/content/Datasets/')\n",
        "iterasi = 4\n",
        "width=60\n",
        "height=60\n",
        "default_image_size = tuple((height, width))\n",
        "directory_root_train = '/content/Datasets/fold4/Train'\n",
        "directory_root_validation = '/content/Datasets/fold4/Validation'\n",
        "directory_root_test = '/content/Datasets/fold4/Test'\n",
        "image_size = 0\n",
        "depth=3"
      ],
      "execution_count": 2,
      "outputs": [
        {
          "output_type": "stream",
          "name": "stdout",
          "text": [
            "Looking in indexes: https://pypi.org/simple, https://us-python.pkg.dev/colab-wheels/public/simple/\n",
            "Collecting pyunpack\n",
            "  Downloading pyunpack-0.3-py2.py3-none-any.whl (4.1 kB)\n",
            "Collecting entrypoint2\n",
            "  Downloading entrypoint2-1.1-py2.py3-none-any.whl (9.9 kB)\n",
            "Collecting easyprocess\n",
            "  Downloading EasyProcess-1.1-py3-none-any.whl (8.7 kB)\n",
            "Installing collected packages: entrypoint2, easyprocess, pyunpack\n",
            "Successfully installed easyprocess-1.1 entrypoint2-1.1 pyunpack-0.3\n",
            "Looking in indexes: https://pypi.org/simple, https://us-python.pkg.dev/colab-wheels/public/simple/\n",
            "Collecting patool\n",
            "  Downloading patool-1.12-py2.py3-none-any.whl (77 kB)\n",
            "\u001b[K     |████████████████████████████████| 77 kB 3.4 MB/s \n",
            "\u001b[?25hInstalling collected packages: patool\n",
            "Successfully installed patool-1.12\n"
          ]
        }
      ]
    },
    {
      "cell_type": "code",
      "metadata": {
        "id": "KbAwJJTpzmge"
      },
      "source": [
        "def convert_image_to_array(image_dir):\n",
        "    try:\n",
        "        image = cv2.imread(image_dir)\n",
        "        if image is not None :\n",
        "            image = cv2.resize(image, default_image_size)   \n",
        "            return keras.preprocessing.image.img_to_array(image)\n",
        "        else :\n",
        "            return np.array([])\n",
        "    except Exception as e:\n",
        "        print(f\"Error : {e}\")\n",
        "        return None"
      ],
      "execution_count": 3,
      "outputs": []
    },
    {
      "cell_type": "markdown",
      "source": [
        "Converting **Training** Data to Array"
      ],
      "metadata": {
        "id": "bgXxUMO2cI_D"
      }
    },
    {
      "cell_type": "code",
      "metadata": {
        "id": "Erz6IjKXzmgg",
        "colab": {
          "base_uri": "https://localhost:8080/"
        },
        "outputId": "d1c79b19-93fb-407e-e10f-e55f9c7af3dd"
      },
      "source": [
        "image_list_train, label_list_train = [], []\n",
        "try:\n",
        "    print(\"[INFO] Loading images ...\")\n",
        "    root_dir = listdir(directory_root_train)\n",
        "\n",
        "    for plant_disease_folder in root_dir:\n",
        "        print(f\"[INFO] Processing {plant_disease_folder} ...\")\n",
        "        plant_disease_image_list = listdir(f\"{directory_root_train}/{plant_disease_folder}/\")\n",
        "      \n",
        "        for image in plant_disease_image_list:\n",
        "            image_directory = f\"{directory_root_train}/{plant_disease_folder}/{image}\"\n",
        "\n",
        "            if image_directory.endswith(\".jpg\") == True or image_directory.endswith(\".JPG\") == True:\n",
        "                image_list_train.append(convert_image_to_array(image_directory))\n",
        "                label_list_train.append(plant_disease_folder)\n",
        "    print(\"[INFO] Image loading completed\")\n",
        "\n",
        "except Exception as e:\n",
        "    print(f\"Error : {e}\")\n",
        "\n",
        "#image labeling\n",
        "image_size = len(image_list_train)\n",
        "label_binarizer = LabelBinarizer()\n",
        "image_labels_train = label_binarizer.fit_transform(label_list_train)\n",
        "pickle.dump(label_binarizer,open('label_transform_train.pkl', 'wb'))\n",
        "n_classes = len(label_binarizer.classes_)\n",
        "np_image_list_train = np.array(image_list_train, dtype=np.float16) / 255.0"
      ],
      "execution_count": 4,
      "outputs": [
        {
          "output_type": "stream",
          "name": "stdout",
          "text": [
            "[INFO] Loading images ...\n",
            "[INFO] Processing apel_sehat ...\n",
            "[INFO] Processing apel_bercak_daun ...\n",
            "[INFO] Processing apel_cacar_daun ...\n",
            "[INFO] Processing apel_busuk_buah ...\n",
            "[INFO] Image loading completed\n"
          ]
        }
      ]
    },
    {
      "cell_type": "markdown",
      "source": [
        "Converting **Validation** Data to Array"
      ],
      "metadata": {
        "id": "7eEMGiqRd_E4"
      }
    },
    {
      "cell_type": "code",
      "source": [
        "image_list_validation, label_list_validation = [], []\n",
        "try:\n",
        "    print(\"[INFO] Loading images ...\")\n",
        "    root_dir = listdir(directory_root_validation)\n",
        "\n",
        "    for plant_disease_folder in root_dir:\n",
        "        print(f\"[INFO] Processing {plant_disease_folder} ...\")\n",
        "        plant_disease_image_list = listdir(f\"{directory_root_validation}/{plant_disease_folder}/\")\n",
        "      \n",
        "        for image in plant_disease_image_list:\n",
        "            image_directory = f\"{directory_root_validation}/{plant_disease_folder}/{image}\"\n",
        "\n",
        "            if image_directory.endswith(\".jpg\") == True or image_directory.endswith(\".JPG\") == True:\n",
        "                image_list_validation.append(convert_image_to_array(image_directory))\n",
        "                label_list_validation.append(plant_disease_folder)\n",
        "    print(\"[INFO] Image loading completed\")\n",
        "\n",
        "except Exception as e:\n",
        "    print(f\"Error : {e}\")\n",
        "\n",
        "#image labeling\n",
        "image_size = len(image_list_validation)\n",
        "label_binarizer = LabelBinarizer()\n",
        "image_labels_validation = label_binarizer.fit_transform(label_list_validation)\n",
        "pickle.dump(label_binarizer,open('label_transform_validation.pkl', 'wb'))\n",
        "n_classes = len(label_binarizer.classes_)\n",
        "np_image_list_validation = np.array(image_list_validation, dtype=np.float16) / 255.0"
      ],
      "metadata": {
        "id": "wfHDdR0ZeEuU",
        "colab": {
          "base_uri": "https://localhost:8080/"
        },
        "outputId": "7314948d-eff1-4d70-fff7-b76fa7b60631"
      },
      "execution_count": 5,
      "outputs": [
        {
          "output_type": "stream",
          "name": "stdout",
          "text": [
            "[INFO] Loading images ...\n",
            "[INFO] Processing apel_sehat ...\n",
            "[INFO] Processing apel_bercak_daun ...\n",
            "[INFO] Processing apel_cacar_daun ...\n",
            "[INFO] Processing apel_busuk_buah ...\n",
            "[INFO] Image loading completed\n"
          ]
        }
      ]
    },
    {
      "cell_type": "markdown",
      "source": [
        "Converting **Testing** Data to Array"
      ],
      "metadata": {
        "id": "brwWyZVncTdg"
      }
    },
    {
      "cell_type": "code",
      "metadata": {
        "id": "uNPby5UMcaWY",
        "colab": {
          "base_uri": "https://localhost:8080/"
        },
        "outputId": "448b9eb6-5178-4080-dad4-e45ae21fb047"
      },
      "source": [
        "image_list_test, label_list_test = [], []\n",
        "try:\n",
        "    print(\"[INFO] Loading images ...\")\n",
        "    root_dir = listdir(directory_root_test)\n",
        "\n",
        "    for plant_disease_folder in root_dir:\n",
        "        print(f\"[INFO] Processing {plant_disease_folder} ...\")\n",
        "        plant_disease_image_list = listdir(f\"{directory_root_test}/{plant_disease_folder}/\")\n",
        "      \n",
        "        for image in plant_disease_image_list:\n",
        "            image_directory = f\"{directory_root_test}/{plant_disease_folder}/{image}\"\n",
        "\n",
        "            if image_directory.endswith(\".jpg\") == True or image_directory.endswith(\".JPG\") == True:\n",
        "                image_list_test.append(convert_image_to_array(image_directory))\n",
        "                label_list_test.append(plant_disease_folder)\n",
        "    print(\"[INFO] Image loading completed\")\n",
        "\n",
        "except Exception as e:\n",
        "    print(f\"Error : {e}\")\n",
        "\n",
        "#image labeling\n",
        "image_size = len(image_list_test)\n",
        "label_binarizer = LabelBinarizer()\n",
        "image_labels_test = label_binarizer.fit_transform(label_list_test)\n",
        "pickle.dump(label_binarizer,open('label_transform_test.pkl', 'wb'))\n",
        "n_classes = len(label_binarizer.classes_)\n",
        "np_image_list_test = np.array(image_list_test, dtype=np.float16) / 255.0"
      ],
      "execution_count": 6,
      "outputs": [
        {
          "output_type": "stream",
          "name": "stdout",
          "text": [
            "[INFO] Loading images ...\n",
            "[INFO] Processing apel_sehat ...\n",
            "[INFO] Processing apel_bercak_daun ...\n",
            "[INFO] Processing apel_cacar_daun ...\n",
            "[INFO] Processing apel_busuk_buah ...\n",
            "[INFO] Image loading completed\n"
          ]
        }
      ]
    },
    {
      "cell_type": "markdown",
      "metadata": {
        "id": "jYBTFN0CnAi7"
      },
      "source": [
        "Data Augmenting Initialization"
      ]
    },
    {
      "cell_type": "code",
      "metadata": {
        "id": "TLMxMK2Tzmgr"
      },
      "source": [
        "aug = keras.preprocessing.image.ImageDataGenerator(\n",
        "    rotation_range=25, \n",
        "    width_shift_range=0.1,\n",
        "    height_shift_range=0.1, \n",
        "    shear_range=0.2, \n",
        "    zoom_range=0.2,\n",
        "    horizontal_flip=True, \n",
        "    fill_mode=\"nearest\")"
      ],
      "execution_count": 7,
      "outputs": []
    },
    {
      "cell_type": "markdown",
      "metadata": {
        "id": "H1BfRyYNnGv_"
      },
      "source": [
        "Creating CNN Model"
      ]
    },
    {
      "cell_type": "code",
      "metadata": {
        "id": "WmLX4wm8zmgs"
      },
      "source": [
        "model = keras.models.Sequential()\n",
        "inputShape = (height, width, depth)\n",
        "\n",
        "model.add(Conv2D(20, (5, 5), padding=\"same\",input_shape=inputShape))\n",
        "model.add(Activation(\"relu\"))\n",
        "\n",
        "model.add(MaxPooling2D(pool_size=(2, 2), strides=2))\n",
        "\n",
        "model.add(Conv2D(50, (5, 5), padding=\"same\"))\n",
        "model.add(Activation(\"relu\"))\n",
        "\n",
        "model.add(MaxPooling2D(pool_size=(2, 2),strides=2))\n",
        "\n",
        "model.add(Flatten())\n",
        "\n",
        "model.add(Dense(500))\n",
        "model.add(Activation(\"relu\"))\n",
        "\n",
        "model.add(Dense(4))\n",
        "model.add(Activation(\"softmax\"))"
      ],
      "execution_count": 8,
      "outputs": []
    },
    {
      "cell_type": "code",
      "source": [
        "#model.summary()"
      ],
      "metadata": {
        "id": "RQIgaph8hW06"
      },
      "execution_count": 9,
      "outputs": []
    },
    {
      "cell_type": "code",
      "source": [
        "#from PIL import Image\n",
        "#from keras.utils.vis_utils import plot_model\n",
        "#plot_model(model, to_file='cnn_model.png', show_shapes=True, show_layer_names=True)\n",
        "#display(Image.open('cnn_model.png'))"
      ],
      "metadata": {
        "id": "T05gPuu1GudW"
      },
      "execution_count": 10,
      "outputs": []
    },
    {
      "cell_type": "markdown",
      "metadata": {
        "id": "Zfsu3lVfnXFG"
      },
      "source": [
        "**Training** Network"
      ]
    },
    {
      "cell_type": "code",
      "metadata": {
        "id": "rvwKwe3Lzmgv",
        "colab": {
          "base_uri": "https://localhost:8080/"
        },
        "outputId": "bbe9aec1-e9be-4d98-c9c3-d24f5b9141fe"
      },
      "source": [
        "EPOCHS = 200\n",
        "INIT_LR = 1e-3\n",
        "BS = 8\n",
        "\n",
        "with tf.device('/GPU:0'):\n",
        "  opt = Adam(learning_rate=INIT_LR, decay=INIT_LR / EPOCHS)\n",
        "  model.compile(loss=\"categorical_crossentropy\", optimizer=opt,metrics=[\"Accuracy\", \"FalseNegatives\", \"FalsePositives\", \"TrueNegatives\", \"TruePositives\"])\n",
        "  \n",
        "  history = model.fit(\n",
        "      aug.flow(np_image_list_train, image_labels_train, batch_size=BS),\n",
        "      validation_data=(np_image_list_validation, image_labels_validation),\n",
        "      steps_per_epoch=len(np_image_list_train) // BS,\n",
        "      epochs=EPOCHS, \n",
        "      verbose=1,\n",
        "      )\n"
      ],
      "execution_count": 11,
      "outputs": [
        {
          "output_type": "stream",
          "name": "stdout",
          "text": [
            "Epoch 1/200\n",
            "44/44 [==============================] - 18s 58ms/step - loss: 1.3724 - Accuracy: 0.4224 - false_negatives: 334.0000 - false_positives: 23.0000 - true_negatives: 1021.0000 - true_positives: 14.0000 - val_loss: 1.2438 - val_Accuracy: 0.4545 - val_false_negatives: 88.0000 - val_false_positives: 0.0000e+00 - val_true_negatives: 264.0000 - val_true_positives: 0.0000e+00\n",
            "Epoch 2/200\n",
            "44/44 [==============================] - 1s 15ms/step - loss: 1.2412 - Accuracy: 0.4511 - false_negatives: 320.0000 - false_positives: 22.0000 - true_negatives: 1022.0000 - true_positives: 28.0000 - val_loss: 1.1909 - val_Accuracy: 0.4545 - val_false_negatives: 51.0000 - val_false_positives: 6.0000 - val_true_negatives: 258.0000 - val_true_positives: 37.0000\n",
            "Epoch 3/200\n",
            "44/44 [==============================] - 1s 14ms/step - loss: 1.2048 - Accuracy: 0.4511 - false_negatives: 274.0000 - false_positives: 48.0000 - true_negatives: 996.0000 - true_positives: 74.0000 - val_loss: 1.1374 - val_Accuracy: 0.4545 - val_false_negatives: 48.0000 - val_false_positives: 8.0000 - val_true_negatives: 256.0000 - val_true_positives: 40.0000\n",
            "Epoch 4/200\n",
            "44/44 [==============================] - 1s 14ms/step - loss: 1.1781 - Accuracy: 0.5086 - false_negatives: 258.0000 - false_positives: 52.0000 - true_negatives: 992.0000 - true_positives: 90.0000 - val_loss: 1.0919 - val_Accuracy: 0.4659 - val_false_negatives: 48.0000 - val_false_positives: 12.0000 - val_true_negatives: 252.0000 - val_true_positives: 40.0000\n",
            "Epoch 5/200\n",
            "44/44 [==============================] - 1s 15ms/step - loss: 1.0804 - Accuracy: 0.5316 - false_negatives: 238.0000 - false_positives: 39.0000 - true_negatives: 1005.0000 - true_positives: 110.0000 - val_loss: 1.2205 - val_Accuracy: 0.5227 - val_false_negatives: 48.0000 - val_false_positives: 28.0000 - val_true_negatives: 236.0000 - val_true_positives: 40.0000\n",
            "Epoch 6/200\n",
            "44/44 [==============================] - 1s 14ms/step - loss: 1.0700 - Accuracy: 0.5661 - false_negatives: 232.0000 - false_positives: 52.0000 - true_negatives: 992.0000 - true_positives: 116.0000 - val_loss: 1.1029 - val_Accuracy: 0.5909 - val_false_negatives: 48.0000 - val_false_positives: 22.0000 - val_true_negatives: 242.0000 - val_true_positives: 40.0000\n",
            "Epoch 7/200\n",
            "44/44 [==============================] - 1s 14ms/step - loss: 0.9642 - Accuracy: 0.6408 - false_negatives: 203.0000 - false_positives: 58.0000 - true_negatives: 986.0000 - true_positives: 145.0000 - val_loss: 0.8765 - val_Accuracy: 0.6818 - val_false_negatives: 45.0000 - val_false_positives: 8.0000 - val_true_negatives: 256.0000 - val_true_positives: 43.0000\n",
            "Epoch 8/200\n",
            "44/44 [==============================] - 1s 14ms/step - loss: 0.9679 - Accuracy: 0.6121 - false_negatives: 190.0000 - false_positives: 59.0000 - true_negatives: 985.0000 - true_positives: 158.0000 - val_loss: 1.0427 - val_Accuracy: 0.6136 - val_false_negatives: 46.0000 - val_false_positives: 20.0000 - val_true_negatives: 244.0000 - val_true_positives: 42.0000\n",
            "Epoch 9/200\n",
            "44/44 [==============================] - 1s 14ms/step - loss: 1.0219 - Accuracy: 0.6092 - false_negatives: 211.0000 - false_positives: 55.0000 - true_negatives: 989.0000 - true_positives: 137.0000 - val_loss: 0.9826 - val_Accuracy: 0.6364 - val_false_negatives: 39.0000 - val_false_positives: 16.0000 - val_true_negatives: 248.0000 - val_true_positives: 49.0000\n",
            "Epoch 10/200\n",
            "44/44 [==============================] - 1s 14ms/step - loss: 0.9313 - Accuracy: 0.6523 - false_negatives: 163.0000 - false_positives: 64.0000 - true_negatives: 980.0000 - true_positives: 185.0000 - val_loss: 0.9610 - val_Accuracy: 0.6818 - val_false_negatives: 43.0000 - val_false_positives: 10.0000 - val_true_negatives: 254.0000 - val_true_positives: 45.0000\n",
            "Epoch 11/200\n",
            "44/44 [==============================] - 1s 14ms/step - loss: 0.9187 - Accuracy: 0.6379 - false_negatives: 171.0000 - false_positives: 73.0000 - true_negatives: 971.0000 - true_positives: 177.0000 - val_loss: 0.9841 - val_Accuracy: 0.6932 - val_false_negatives: 32.0000 - val_false_positives: 19.0000 - val_true_negatives: 245.0000 - val_true_positives: 56.0000\n",
            "Epoch 12/200\n",
            "44/44 [==============================] - 1s 14ms/step - loss: 0.9130 - Accuracy: 0.6580 - false_negatives: 169.0000 - false_positives: 66.0000 - true_negatives: 978.0000 - true_positives: 179.0000 - val_loss: 0.8732 - val_Accuracy: 0.7045 - val_false_negatives: 34.0000 - val_false_positives: 13.0000 - val_true_negatives: 251.0000 - val_true_positives: 54.0000\n",
            "Epoch 13/200\n",
            "44/44 [==============================] - 1s 14ms/step - loss: 0.8563 - Accuracy: 0.6695 - false_negatives: 152.0000 - false_positives: 69.0000 - true_negatives: 975.0000 - true_positives: 196.0000 - val_loss: 0.9675 - val_Accuracy: 0.6818 - val_false_negatives: 33.0000 - val_false_positives: 22.0000 - val_true_negatives: 242.0000 - val_true_positives: 55.0000\n",
            "Epoch 14/200\n",
            "44/44 [==============================] - 1s 14ms/step - loss: 0.8705 - Accuracy: 0.6724 - false_negatives: 148.0000 - false_positives: 72.0000 - true_negatives: 972.0000 - true_positives: 200.0000 - val_loss: 0.8998 - val_Accuracy: 0.7273 - val_false_negatives: 30.0000 - val_false_positives: 16.0000 - val_true_negatives: 248.0000 - val_true_positives: 58.0000\n",
            "Epoch 15/200\n",
            "44/44 [==============================] - 1s 14ms/step - loss: 0.9179 - Accuracy: 0.6580 - false_negatives: 152.0000 - false_positives: 72.0000 - true_negatives: 972.0000 - true_positives: 196.0000 - val_loss: 1.0291 - val_Accuracy: 0.6023 - val_false_negatives: 48.0000 - val_false_positives: 16.0000 - val_true_negatives: 248.0000 - val_true_positives: 40.0000\n",
            "Epoch 16/200\n",
            "44/44 [==============================] - 1s 14ms/step - loss: 0.9472 - Accuracy: 0.6293 - false_negatives: 177.0000 - false_positives: 75.0000 - true_negatives: 969.0000 - true_positives: 171.0000 - val_loss: 1.0448 - val_Accuracy: 0.6477 - val_false_negatives: 34.0000 - val_false_positives: 21.0000 - val_true_negatives: 243.0000 - val_true_positives: 54.0000\n",
            "Epoch 17/200\n",
            "44/44 [==============================] - 1s 14ms/step - loss: 0.8307 - Accuracy: 0.6782 - false_negatives: 146.0000 - false_positives: 59.0000 - true_negatives: 985.0000 - true_positives: 202.0000 - val_loss: 0.9599 - val_Accuracy: 0.6818 - val_false_negatives: 33.0000 - val_false_positives: 18.0000 - val_true_negatives: 246.0000 - val_true_positives: 55.0000\n",
            "Epoch 18/200\n",
            "44/44 [==============================] - 1s 14ms/step - loss: 0.8187 - Accuracy: 0.6638 - false_negatives: 138.0000 - false_positives: 82.0000 - true_negatives: 962.0000 - true_positives: 210.0000 - val_loss: 1.0056 - val_Accuracy: 0.6023 - val_false_negatives: 41.0000 - val_false_positives: 24.0000 - val_true_negatives: 240.0000 - val_true_positives: 47.0000\n",
            "Epoch 19/200\n",
            "44/44 [==============================] - 1s 14ms/step - loss: 0.8368 - Accuracy: 0.6925 - false_negatives: 141.0000 - false_positives: 68.0000 - true_negatives: 976.0000 - true_positives: 207.0000 - val_loss: 0.8855 - val_Accuracy: 0.7273 - val_false_negatives: 32.0000 - val_false_positives: 18.0000 - val_true_negatives: 246.0000 - val_true_positives: 56.0000\n",
            "Epoch 20/200\n",
            "44/44 [==============================] - 1s 14ms/step - loss: 0.8470 - Accuracy: 0.6667 - false_negatives: 135.0000 - false_positives: 82.0000 - true_negatives: 962.0000 - true_positives: 213.0000 - val_loss: 0.9199 - val_Accuracy: 0.7045 - val_false_negatives: 34.0000 - val_false_positives: 19.0000 - val_true_negatives: 245.0000 - val_true_positives: 54.0000\n",
            "Epoch 21/200\n",
            "44/44 [==============================] - 1s 15ms/step - loss: 0.7867 - Accuracy: 0.7040 - false_negatives: 130.0000 - false_positives: 68.0000 - true_negatives: 976.0000 - true_positives: 218.0000 - val_loss: 0.9265 - val_Accuracy: 0.6818 - val_false_negatives: 36.0000 - val_false_positives: 24.0000 - val_true_negatives: 240.0000 - val_true_positives: 52.0000\n",
            "Epoch 22/200\n",
            "44/44 [==============================] - 1s 15ms/step - loss: 0.7958 - Accuracy: 0.7040 - false_negatives: 137.0000 - false_positives: 71.0000 - true_negatives: 973.0000 - true_positives: 211.0000 - val_loss: 1.1031 - val_Accuracy: 0.6591 - val_false_negatives: 31.0000 - val_false_positives: 28.0000 - val_true_negatives: 236.0000 - val_true_positives: 57.0000\n",
            "Epoch 23/200\n",
            "44/44 [==============================] - 1s 14ms/step - loss: 0.7867 - Accuracy: 0.7040 - false_negatives: 130.0000 - false_positives: 75.0000 - true_negatives: 969.0000 - true_positives: 218.0000 - val_loss: 0.9605 - val_Accuracy: 0.6932 - val_false_negatives: 28.0000 - val_false_positives: 22.0000 - val_true_negatives: 242.0000 - val_true_positives: 60.0000\n",
            "Epoch 24/200\n",
            "44/44 [==============================] - 1s 15ms/step - loss: 0.7993 - Accuracy: 0.6954 - false_negatives: 131.0000 - false_positives: 73.0000 - true_negatives: 971.0000 - true_positives: 217.0000 - val_loss: 0.9161 - val_Accuracy: 0.6591 - val_false_negatives: 32.0000 - val_false_positives: 19.0000 - val_true_negatives: 245.0000 - val_true_positives: 56.0000\n",
            "Epoch 25/200\n",
            "44/44 [==============================] - 1s 14ms/step - loss: 0.8666 - Accuracy: 0.6724 - false_negatives: 145.0000 - false_positives: 76.0000 - true_negatives: 968.0000 - true_positives: 203.0000 - val_loss: 0.9265 - val_Accuracy: 0.6932 - val_false_negatives: 28.0000 - val_false_positives: 18.0000 - val_true_negatives: 246.0000 - val_true_positives: 60.0000\n",
            "Epoch 26/200\n",
            "44/44 [==============================] - 1s 14ms/step - loss: 0.7539 - Accuracy: 0.7270 - false_negatives: 132.0000 - false_positives: 65.0000 - true_negatives: 979.0000 - true_positives: 216.0000 - val_loss: 0.8321 - val_Accuracy: 0.7386 - val_false_negatives: 25.0000 - val_false_positives: 19.0000 - val_true_negatives: 245.0000 - val_true_positives: 63.0000\n",
            "Epoch 27/200\n",
            "44/44 [==============================] - 1s 15ms/step - loss: 0.8388 - Accuracy: 0.6782 - false_negatives: 151.0000 - false_positives: 75.0000 - true_negatives: 969.0000 - true_positives: 197.0000 - val_loss: 0.8291 - val_Accuracy: 0.7159 - val_false_negatives: 28.0000 - val_false_positives: 15.0000 - val_true_negatives: 249.0000 - val_true_positives: 60.0000\n",
            "Epoch 28/200\n",
            "44/44 [==============================] - 1s 15ms/step - loss: 0.8073 - Accuracy: 0.6954 - false_negatives: 133.0000 - false_positives: 84.0000 - true_negatives: 960.0000 - true_positives: 215.0000 - val_loss: 0.9669 - val_Accuracy: 0.6364 - val_false_negatives: 35.0000 - val_false_positives: 28.0000 - val_true_negatives: 236.0000 - val_true_positives: 53.0000\n",
            "Epoch 29/200\n",
            "44/44 [==============================] - 1s 15ms/step - loss: 0.7740 - Accuracy: 0.7040 - false_negatives: 134.0000 - false_positives: 77.0000 - true_negatives: 967.0000 - true_positives: 214.0000 - val_loss: 0.9821 - val_Accuracy: 0.6477 - val_false_negatives: 39.0000 - val_false_positives: 23.0000 - val_true_negatives: 241.0000 - val_true_positives: 49.0000\n",
            "Epoch 30/200\n",
            "44/44 [==============================] - 1s 15ms/step - loss: 0.7910 - Accuracy: 0.7184 - false_negatives: 122.0000 - false_positives: 82.0000 - true_negatives: 962.0000 - true_positives: 226.0000 - val_loss: 0.9493 - val_Accuracy: 0.6818 - val_false_negatives: 31.0000 - val_false_positives: 23.0000 - val_true_negatives: 241.0000 - val_true_positives: 57.0000\n",
            "Epoch 31/200\n",
            "44/44 [==============================] - 1s 14ms/step - loss: 0.7506 - Accuracy: 0.7184 - false_negatives: 132.0000 - false_positives: 71.0000 - true_negatives: 973.0000 - true_positives: 216.0000 - val_loss: 0.8758 - val_Accuracy: 0.7273 - val_false_negatives: 27.0000 - val_false_positives: 18.0000 - val_true_negatives: 246.0000 - val_true_positives: 61.0000\n",
            "Epoch 32/200\n",
            "44/44 [==============================] - 1s 15ms/step - loss: 0.7464 - Accuracy: 0.7328 - false_negatives: 112.0000 - false_positives: 69.0000 - true_negatives: 975.0000 - true_positives: 236.0000 - val_loss: 0.9089 - val_Accuracy: 0.7273 - val_false_negatives: 28.0000 - val_false_positives: 21.0000 - val_true_negatives: 243.0000 - val_true_positives: 60.0000\n",
            "Epoch 33/200\n",
            "44/44 [==============================] - 1s 15ms/step - loss: 0.7053 - Accuracy: 0.7529 - false_negatives: 105.0000 - false_positives: 64.0000 - true_negatives: 980.0000 - true_positives: 243.0000 - val_loss: 0.8767 - val_Accuracy: 0.7386 - val_false_negatives: 27.0000 - val_false_positives: 16.0000 - val_true_negatives: 248.0000 - val_true_positives: 61.0000\n",
            "Epoch 34/200\n",
            "44/44 [==============================] - 1s 15ms/step - loss: 0.7305 - Accuracy: 0.7040 - false_negatives: 117.0000 - false_positives: 78.0000 - true_negatives: 966.0000 - true_positives: 231.0000 - val_loss: 1.0739 - val_Accuracy: 0.6591 - val_false_negatives: 34.0000 - val_false_positives: 27.0000 - val_true_negatives: 237.0000 - val_true_positives: 54.0000\n",
            "Epoch 35/200\n",
            "44/44 [==============================] - 1s 14ms/step - loss: 0.7690 - Accuracy: 0.7270 - false_negatives: 122.0000 - false_positives: 66.0000 - true_negatives: 978.0000 - true_positives: 226.0000 - val_loss: 0.8093 - val_Accuracy: 0.6818 - val_false_negatives: 30.0000 - val_false_positives: 19.0000 - val_true_negatives: 245.0000 - val_true_positives: 58.0000\n",
            "Epoch 36/200\n",
            "44/44 [==============================] - 1s 14ms/step - loss: 0.7264 - Accuracy: 0.7213 - false_negatives: 111.0000 - false_positives: 67.0000 - true_negatives: 977.0000 - true_positives: 237.0000 - val_loss: 0.8833 - val_Accuracy: 0.6591 - val_false_negatives: 34.0000 - val_false_positives: 19.0000 - val_true_negatives: 245.0000 - val_true_positives: 54.0000\n",
            "Epoch 37/200\n",
            "44/44 [==============================] - 1s 14ms/step - loss: 0.7720 - Accuracy: 0.7069 - false_negatives: 124.0000 - false_positives: 76.0000 - true_negatives: 968.0000 - true_positives: 224.0000 - val_loss: 0.8293 - val_Accuracy: 0.7159 - val_false_negatives: 26.0000 - val_false_positives: 18.0000 - val_true_negatives: 246.0000 - val_true_positives: 62.0000\n",
            "Epoch 38/200\n",
            "44/44 [==============================] - 1s 14ms/step - loss: 0.7726 - Accuracy: 0.7098 - false_negatives: 121.0000 - false_positives: 76.0000 - true_negatives: 968.0000 - true_positives: 227.0000 - val_loss: 0.9152 - val_Accuracy: 0.6705 - val_false_negatives: 31.0000 - val_false_positives: 25.0000 - val_true_negatives: 239.0000 - val_true_positives: 57.0000\n",
            "Epoch 39/200\n",
            "44/44 [==============================] - 1s 14ms/step - loss: 0.7709 - Accuracy: 0.7299 - false_negatives: 125.0000 - false_positives: 58.0000 - true_negatives: 986.0000 - true_positives: 223.0000 - val_loss: 0.8420 - val_Accuracy: 0.6818 - val_false_negatives: 30.0000 - val_false_positives: 20.0000 - val_true_negatives: 244.0000 - val_true_positives: 58.0000\n",
            "Epoch 40/200\n",
            "44/44 [==============================] - 1s 15ms/step - loss: 0.7312 - Accuracy: 0.7155 - false_negatives: 109.0000 - false_positives: 76.0000 - true_negatives: 968.0000 - true_positives: 239.0000 - val_loss: 0.7846 - val_Accuracy: 0.7045 - val_false_negatives: 31.0000 - val_false_positives: 15.0000 - val_true_negatives: 249.0000 - val_true_positives: 57.0000\n",
            "Epoch 41/200\n",
            "44/44 [==============================] - 1s 14ms/step - loss: 0.7099 - Accuracy: 0.7356 - false_negatives: 111.0000 - false_positives: 70.0000 - true_negatives: 974.0000 - true_positives: 237.0000 - val_loss: 0.8132 - val_Accuracy: 0.7614 - val_false_negatives: 27.0000 - val_false_positives: 14.0000 - val_true_negatives: 250.0000 - val_true_positives: 61.0000\n",
            "Epoch 42/200\n",
            "44/44 [==============================] - 1s 14ms/step - loss: 0.6864 - Accuracy: 0.7299 - false_negatives: 115.0000 - false_positives: 63.0000 - true_negatives: 981.0000 - true_positives: 233.0000 - val_loss: 0.8356 - val_Accuracy: 0.7045 - val_false_negatives: 30.0000 - val_false_positives: 18.0000 - val_true_negatives: 246.0000 - val_true_positives: 58.0000\n",
            "Epoch 43/200\n",
            "44/44 [==============================] - 1s 15ms/step - loss: 0.6847 - Accuracy: 0.7414 - false_negatives: 106.0000 - false_positives: 66.0000 - true_negatives: 978.0000 - true_positives: 242.0000 - val_loss: 0.9054 - val_Accuracy: 0.7045 - val_false_negatives: 29.0000 - val_false_positives: 20.0000 - val_true_negatives: 244.0000 - val_true_positives: 59.0000\n",
            "Epoch 44/200\n",
            "44/44 [==============================] - 1s 14ms/step - loss: 0.6766 - Accuracy: 0.7270 - false_negatives: 115.0000 - false_positives: 61.0000 - true_negatives: 983.0000 - true_positives: 233.0000 - val_loss: 0.9065 - val_Accuracy: 0.6932 - val_false_negatives: 28.0000 - val_false_positives: 19.0000 - val_true_negatives: 245.0000 - val_true_positives: 60.0000\n",
            "Epoch 45/200\n",
            "44/44 [==============================] - 1s 15ms/step - loss: 0.7316 - Accuracy: 0.7356 - false_negatives: 115.0000 - false_positives: 75.0000 - true_negatives: 969.0000 - true_positives: 233.0000 - val_loss: 0.8201 - val_Accuracy: 0.7386 - val_false_negatives: 29.0000 - val_false_positives: 16.0000 - val_true_negatives: 248.0000 - val_true_positives: 59.0000\n",
            "Epoch 46/200\n",
            "44/44 [==============================] - 1s 14ms/step - loss: 0.6990 - Accuracy: 0.7529 - false_negatives: 107.0000 - false_positives: 61.0000 - true_negatives: 983.0000 - true_positives: 241.0000 - val_loss: 1.0374 - val_Accuracy: 0.6136 - val_false_negatives: 37.0000 - val_false_positives: 26.0000 - val_true_negatives: 238.0000 - val_true_positives: 51.0000\n",
            "Epoch 47/200\n",
            "44/44 [==============================] - 1s 15ms/step - loss: 0.7369 - Accuracy: 0.7098 - false_negatives: 117.0000 - false_positives: 78.0000 - true_negatives: 966.0000 - true_positives: 231.0000 - val_loss: 0.8525 - val_Accuracy: 0.6932 - val_false_negatives: 30.0000 - val_false_positives: 17.0000 - val_true_negatives: 247.0000 - val_true_positives: 58.0000\n",
            "Epoch 48/200\n",
            "44/44 [==============================] - 1s 15ms/step - loss: 0.6373 - Accuracy: 0.7615 - false_negatives: 111.0000 - false_positives: 64.0000 - true_negatives: 980.0000 - true_positives: 237.0000 - val_loss: 0.9830 - val_Accuracy: 0.6705 - val_false_negatives: 32.0000 - val_false_positives: 20.0000 - val_true_negatives: 244.0000 - val_true_positives: 56.0000\n",
            "Epoch 49/200\n",
            "44/44 [==============================] - 1s 14ms/step - loss: 0.6369 - Accuracy: 0.7529 - false_negatives: 105.0000 - false_positives: 66.0000 - true_negatives: 978.0000 - true_positives: 243.0000 - val_loss: 0.8157 - val_Accuracy: 0.7159 - val_false_negatives: 28.0000 - val_false_positives: 20.0000 - val_true_negatives: 244.0000 - val_true_positives: 60.0000\n",
            "Epoch 50/200\n",
            "44/44 [==============================] - 1s 15ms/step - loss: 0.6679 - Accuracy: 0.7615 - false_negatives: 105.0000 - false_positives: 67.0000 - true_negatives: 977.0000 - true_positives: 243.0000 - val_loss: 0.9278 - val_Accuracy: 0.7045 - val_false_negatives: 28.0000 - val_false_positives: 21.0000 - val_true_negatives: 243.0000 - val_true_positives: 60.0000\n",
            "Epoch 51/200\n",
            "44/44 [==============================] - 1s 15ms/step - loss: 0.7222 - Accuracy: 0.7155 - false_negatives: 112.0000 - false_positives: 73.0000 - true_negatives: 971.0000 - true_positives: 236.0000 - val_loss: 0.9931 - val_Accuracy: 0.6477 - val_false_negatives: 33.0000 - val_false_positives: 22.0000 - val_true_negatives: 242.0000 - val_true_positives: 55.0000\n",
            "Epoch 52/200\n",
            "44/44 [==============================] - 1s 15ms/step - loss: 0.6847 - Accuracy: 0.7414 - false_negatives: 110.0000 - false_positives: 72.0000 - true_negatives: 972.0000 - true_positives: 238.0000 - val_loss: 0.9895 - val_Accuracy: 0.6932 - val_false_negatives: 28.0000 - val_false_positives: 24.0000 - val_true_negatives: 240.0000 - val_true_positives: 60.0000\n",
            "Epoch 53/200\n",
            "44/44 [==============================] - 1s 14ms/step - loss: 0.6474 - Accuracy: 0.7500 - false_negatives: 105.0000 - false_positives: 65.0000 - true_negatives: 979.0000 - true_positives: 243.0000 - val_loss: 1.0340 - val_Accuracy: 0.6591 - val_false_negatives: 35.0000 - val_false_positives: 25.0000 - val_true_negatives: 239.0000 - val_true_positives: 53.0000\n",
            "Epoch 54/200\n",
            "44/44 [==============================] - 1s 15ms/step - loss: 0.6260 - Accuracy: 0.7672 - false_negatives: 99.0000 - false_positives: 64.0000 - true_negatives: 980.0000 - true_positives: 249.0000 - val_loss: 0.8482 - val_Accuracy: 0.7273 - val_false_negatives: 28.0000 - val_false_positives: 20.0000 - val_true_negatives: 244.0000 - val_true_positives: 60.0000\n",
            "Epoch 55/200\n",
            "44/44 [==============================] - 1s 15ms/step - loss: 0.6607 - Accuracy: 0.7414 - false_negatives: 102.0000 - false_positives: 68.0000 - true_negatives: 976.0000 - true_positives: 246.0000 - val_loss: 0.8582 - val_Accuracy: 0.7159 - val_false_negatives: 26.0000 - val_false_positives: 22.0000 - val_true_negatives: 242.0000 - val_true_positives: 62.0000\n",
            "Epoch 56/200\n",
            "44/44 [==============================] - 1s 15ms/step - loss: 0.6632 - Accuracy: 0.7299 - false_negatives: 106.0000 - false_positives: 70.0000 - true_negatives: 974.0000 - true_positives: 242.0000 - val_loss: 0.8153 - val_Accuracy: 0.7159 - val_false_negatives: 29.0000 - val_false_positives: 20.0000 - val_true_negatives: 244.0000 - val_true_positives: 59.0000\n",
            "Epoch 57/200\n",
            "44/44 [==============================] - 1s 14ms/step - loss: 0.6164 - Accuracy: 0.7759 - false_negatives: 104.0000 - false_positives: 50.0000 - true_negatives: 994.0000 - true_positives: 244.0000 - val_loss: 0.7345 - val_Accuracy: 0.7841 - val_false_negatives: 23.0000 - val_false_positives: 16.0000 - val_true_negatives: 248.0000 - val_true_positives: 65.0000\n",
            "Epoch 58/200\n",
            "44/44 [==============================] - 1s 14ms/step - loss: 0.6020 - Accuracy: 0.7845 - false_negatives: 86.0000 - false_positives: 55.0000 - true_negatives: 989.0000 - true_positives: 262.0000 - val_loss: 0.7695 - val_Accuracy: 0.7273 - val_false_negatives: 28.0000 - val_false_positives: 18.0000 - val_true_negatives: 246.0000 - val_true_positives: 60.0000\n",
            "Epoch 59/200\n",
            "44/44 [==============================] - 1s 14ms/step - loss: 0.6836 - Accuracy: 0.7385 - false_negatives: 116.0000 - false_positives: 67.0000 - true_negatives: 977.0000 - true_positives: 232.0000 - val_loss: 0.7017 - val_Accuracy: 0.7500 - val_false_negatives: 27.0000 - val_false_positives: 13.0000 - val_true_negatives: 251.0000 - val_true_positives: 61.0000\n",
            "Epoch 60/200\n",
            "44/44 [==============================] - 1s 14ms/step - loss: 0.6261 - Accuracy: 0.7471 - false_negatives: 103.0000 - false_positives: 65.0000 - true_negatives: 979.0000 - true_positives: 245.0000 - val_loss: 0.7876 - val_Accuracy: 0.7273 - val_false_negatives: 32.0000 - val_false_positives: 16.0000 - val_true_negatives: 248.0000 - val_true_positives: 56.0000\n",
            "Epoch 61/200\n",
            "44/44 [==============================] - 1s 14ms/step - loss: 0.6508 - Accuracy: 0.7730 - false_negatives: 103.0000 - false_positives: 51.0000 - true_negatives: 993.0000 - true_positives: 245.0000 - val_loss: 0.7888 - val_Accuracy: 0.7273 - val_false_negatives: 28.0000 - val_false_positives: 17.0000 - val_true_negatives: 247.0000 - val_true_positives: 60.0000\n",
            "Epoch 62/200\n",
            "44/44 [==============================] - 1s 15ms/step - loss: 0.5975 - Accuracy: 0.7672 - false_negatives: 93.0000 - false_positives: 59.0000 - true_negatives: 985.0000 - true_positives: 255.0000 - val_loss: 0.9296 - val_Accuracy: 0.7045 - val_false_negatives: 29.0000 - val_false_positives: 22.0000 - val_true_negatives: 242.0000 - val_true_positives: 59.0000\n",
            "Epoch 63/200\n",
            "44/44 [==============================] - 1s 14ms/step - loss: 0.6599 - Accuracy: 0.7270 - false_negatives: 115.0000 - false_positives: 72.0000 - true_negatives: 972.0000 - true_positives: 233.0000 - val_loss: 0.9050 - val_Accuracy: 0.7386 - val_false_negatives: 30.0000 - val_false_positives: 21.0000 - val_true_negatives: 243.0000 - val_true_positives: 58.0000\n",
            "Epoch 64/200\n",
            "44/44 [==============================] - 1s 15ms/step - loss: 0.6239 - Accuracy: 0.7443 - false_negatives: 112.0000 - false_positives: 57.0000 - true_negatives: 987.0000 - true_positives: 236.0000 - val_loss: 0.9795 - val_Accuracy: 0.7045 - val_false_negatives: 26.0000 - val_false_positives: 22.0000 - val_true_negatives: 242.0000 - val_true_positives: 62.0000\n",
            "Epoch 65/200\n",
            "44/44 [==============================] - 1s 15ms/step - loss: 0.6760 - Accuracy: 0.7443 - false_negatives: 112.0000 - false_positives: 62.0000 - true_negatives: 982.0000 - true_positives: 236.0000 - val_loss: 0.8772 - val_Accuracy: 0.7386 - val_false_negatives: 24.0000 - val_false_positives: 22.0000 - val_true_negatives: 242.0000 - val_true_positives: 64.0000\n",
            "Epoch 66/200\n",
            "44/44 [==============================] - 1s 16ms/step - loss: 0.6431 - Accuracy: 0.7615 - false_negatives: 101.0000 - false_positives: 57.0000 - true_negatives: 987.0000 - true_positives: 247.0000 - val_loss: 0.9176 - val_Accuracy: 0.6591 - val_false_negatives: 35.0000 - val_false_positives: 21.0000 - val_true_negatives: 243.0000 - val_true_positives: 53.0000\n",
            "Epoch 67/200\n",
            "44/44 [==============================] - 1s 15ms/step - loss: 0.5922 - Accuracy: 0.7672 - false_negatives: 94.0000 - false_positives: 61.0000 - true_negatives: 983.0000 - true_positives: 254.0000 - val_loss: 1.0695 - val_Accuracy: 0.6364 - val_false_negatives: 37.0000 - val_false_positives: 21.0000 - val_true_negatives: 243.0000 - val_true_positives: 51.0000\n",
            "Epoch 68/200\n",
            "44/44 [==============================] - 1s 15ms/step - loss: 0.6371 - Accuracy: 0.7500 - false_negatives: 111.0000 - false_positives: 60.0000 - true_negatives: 984.0000 - true_positives: 237.0000 - val_loss: 0.7618 - val_Accuracy: 0.6932 - val_false_negatives: 30.0000 - val_false_positives: 22.0000 - val_true_negatives: 242.0000 - val_true_positives: 58.0000\n",
            "Epoch 69/200\n",
            "44/44 [==============================] - 1s 14ms/step - loss: 0.5738 - Accuracy: 0.7727 - false_negatives: 94.0000 - false_positives: 58.0000 - true_negatives: 998.0000 - true_positives: 258.0000 - val_loss: 0.7946 - val_Accuracy: 0.7727 - val_false_negatives: 22.0000 - val_false_positives: 14.0000 - val_true_negatives: 250.0000 - val_true_positives: 66.0000\n",
            "Epoch 70/200\n",
            "44/44 [==============================] - 1s 15ms/step - loss: 0.5868 - Accuracy: 0.7615 - false_negatives: 96.0000 - false_positives: 61.0000 - true_negatives: 983.0000 - true_positives: 252.0000 - val_loss: 0.7420 - val_Accuracy: 0.7386 - val_false_negatives: 25.0000 - val_false_positives: 18.0000 - val_true_negatives: 246.0000 - val_true_positives: 63.0000\n",
            "Epoch 71/200\n",
            "44/44 [==============================] - 1s 15ms/step - loss: 0.5548 - Accuracy: 0.7816 - false_negatives: 89.0000 - false_positives: 53.0000 - true_negatives: 991.0000 - true_positives: 259.0000 - val_loss: 0.9065 - val_Accuracy: 0.6932 - val_false_negatives: 29.0000 - val_false_positives: 22.0000 - val_true_negatives: 242.0000 - val_true_positives: 59.0000\n",
            "Epoch 72/200\n",
            "44/44 [==============================] - 1s 15ms/step - loss: 0.5268 - Accuracy: 0.7902 - false_negatives: 81.0000 - false_positives: 54.0000 - true_negatives: 990.0000 - true_positives: 267.0000 - val_loss: 0.9177 - val_Accuracy: 0.6818 - val_false_negatives: 29.0000 - val_false_positives: 24.0000 - val_true_negatives: 240.0000 - val_true_positives: 59.0000\n",
            "Epoch 73/200\n",
            "44/44 [==============================] - 1s 15ms/step - loss: 0.5894 - Accuracy: 0.7874 - false_negatives: 86.0000 - false_positives: 61.0000 - true_negatives: 983.0000 - true_positives: 262.0000 - val_loss: 0.8030 - val_Accuracy: 0.7045 - val_false_negatives: 26.0000 - val_false_positives: 22.0000 - val_true_negatives: 242.0000 - val_true_positives: 62.0000\n",
            "Epoch 74/200\n",
            "44/44 [==============================] - 1s 15ms/step - loss: 0.5550 - Accuracy: 0.7787 - false_negatives: 84.0000 - false_positives: 56.0000 - true_negatives: 988.0000 - true_positives: 264.0000 - val_loss: 0.9040 - val_Accuracy: 0.7273 - val_false_negatives: 26.0000 - val_false_positives: 19.0000 - val_true_negatives: 245.0000 - val_true_positives: 62.0000\n",
            "Epoch 75/200\n",
            "44/44 [==============================] - 1s 15ms/step - loss: 0.5429 - Accuracy: 0.7869 - false_negatives: 91.0000 - false_positives: 54.0000 - true_negatives: 1002.0000 - true_positives: 261.0000 - val_loss: 0.7975 - val_Accuracy: 0.7500 - val_false_negatives: 23.0000 - val_false_positives: 17.0000 - val_true_negatives: 247.0000 - val_true_positives: 65.0000\n",
            "Epoch 76/200\n",
            "44/44 [==============================] - 1s 15ms/step - loss: 0.5660 - Accuracy: 0.7759 - false_negatives: 93.0000 - false_positives: 62.0000 - true_negatives: 982.0000 - true_positives: 255.0000 - val_loss: 0.9071 - val_Accuracy: 0.7386 - val_false_negatives: 30.0000 - val_false_positives: 15.0000 - val_true_negatives: 249.0000 - val_true_positives: 58.0000\n",
            "Epoch 77/200\n",
            "44/44 [==============================] - 1s 15ms/step - loss: 0.5526 - Accuracy: 0.8132 - false_negatives: 93.0000 - false_positives: 46.0000 - true_negatives: 998.0000 - true_positives: 255.0000 - val_loss: 0.8266 - val_Accuracy: 0.7159 - val_false_negatives: 27.0000 - val_false_positives: 17.0000 - val_true_negatives: 247.0000 - val_true_positives: 61.0000\n",
            "Epoch 78/200\n",
            "44/44 [==============================] - 1s 15ms/step - loss: 0.6742 - Accuracy: 0.7328 - false_negatives: 103.0000 - false_positives: 63.0000 - true_negatives: 981.0000 - true_positives: 245.0000 - val_loss: 0.8758 - val_Accuracy: 0.7614 - val_false_negatives: 29.0000 - val_false_positives: 14.0000 - val_true_negatives: 250.0000 - val_true_positives: 59.0000\n",
            "Epoch 79/200\n",
            "44/44 [==============================] - 1s 14ms/step - loss: 0.5650 - Accuracy: 0.7787 - false_negatives: 95.0000 - false_positives: 49.0000 - true_negatives: 995.0000 - true_positives: 253.0000 - val_loss: 0.8130 - val_Accuracy: 0.7386 - val_false_negatives: 23.0000 - val_false_positives: 20.0000 - val_true_negatives: 244.0000 - val_true_positives: 65.0000\n",
            "Epoch 80/200\n",
            "44/44 [==============================] - 1s 14ms/step - loss: 0.5566 - Accuracy: 0.7787 - false_negatives: 85.0000 - false_positives: 56.0000 - true_negatives: 988.0000 - true_positives: 263.0000 - val_loss: 0.7313 - val_Accuracy: 0.7159 - val_false_negatives: 26.0000 - val_false_positives: 18.0000 - val_true_negatives: 246.0000 - val_true_positives: 62.0000\n",
            "Epoch 81/200\n",
            "44/44 [==============================] - 1s 15ms/step - loss: 0.6045 - Accuracy: 0.7443 - false_negatives: 108.0000 - false_positives: 65.0000 - true_negatives: 979.0000 - true_positives: 240.0000 - val_loss: 0.8482 - val_Accuracy: 0.7045 - val_false_negatives: 28.0000 - val_false_positives: 23.0000 - val_true_negatives: 241.0000 - val_true_positives: 60.0000\n",
            "Epoch 82/200\n",
            "44/44 [==============================] - 1s 15ms/step - loss: 0.5214 - Accuracy: 0.7845 - false_negatives: 85.0000 - false_positives: 57.0000 - true_negatives: 987.0000 - true_positives: 263.0000 - val_loss: 0.7739 - val_Accuracy: 0.7841 - val_false_negatives: 21.0000 - val_false_positives: 16.0000 - val_true_negatives: 248.0000 - val_true_positives: 67.0000\n",
            "Epoch 83/200\n",
            "44/44 [==============================] - 1s 15ms/step - loss: 0.5370 - Accuracy: 0.7874 - false_negatives: 86.0000 - false_positives: 54.0000 - true_negatives: 990.0000 - true_positives: 262.0000 - val_loss: 0.7848 - val_Accuracy: 0.7273 - val_false_negatives: 26.0000 - val_false_positives: 19.0000 - val_true_negatives: 245.0000 - val_true_positives: 62.0000\n",
            "Epoch 84/200\n",
            "44/44 [==============================] - 1s 15ms/step - loss: 0.5696 - Accuracy: 0.7816 - false_negatives: 87.0000 - false_positives: 53.0000 - true_negatives: 991.0000 - true_positives: 261.0000 - val_loss: 0.7862 - val_Accuracy: 0.7273 - val_false_negatives: 28.0000 - val_false_positives: 19.0000 - val_true_negatives: 245.0000 - val_true_positives: 60.0000\n",
            "Epoch 85/200\n",
            "44/44 [==============================] - 1s 14ms/step - loss: 0.5101 - Accuracy: 0.8103 - false_negatives: 75.0000 - false_positives: 54.0000 - true_negatives: 990.0000 - true_positives: 273.0000 - val_loss: 0.7598 - val_Accuracy: 0.7614 - val_false_negatives: 24.0000 - val_false_positives: 17.0000 - val_true_negatives: 247.0000 - val_true_positives: 64.0000\n",
            "Epoch 86/200\n",
            "44/44 [==============================] - 1s 15ms/step - loss: 0.5319 - Accuracy: 0.8132 - false_negatives: 87.0000 - false_positives: 45.0000 - true_negatives: 999.0000 - true_positives: 261.0000 - val_loss: 0.8551 - val_Accuracy: 0.7273 - val_false_negatives: 27.0000 - val_false_positives: 19.0000 - val_true_negatives: 245.0000 - val_true_positives: 61.0000\n",
            "Epoch 87/200\n",
            "44/44 [==============================] - 1s 15ms/step - loss: 0.5148 - Accuracy: 0.7989 - false_negatives: 79.0000 - false_positives: 58.0000 - true_negatives: 986.0000 - true_positives: 269.0000 - val_loss: 0.7559 - val_Accuracy: 0.7386 - val_false_negatives: 27.0000 - val_false_positives: 21.0000 - val_true_negatives: 243.0000 - val_true_positives: 61.0000\n",
            "Epoch 88/200\n",
            "44/44 [==============================] - 1s 14ms/step - loss: 0.5043 - Accuracy: 0.8017 - false_negatives: 82.0000 - false_positives: 56.0000 - true_negatives: 988.0000 - true_positives: 266.0000 - val_loss: 1.0234 - val_Accuracy: 0.7386 - val_false_negatives: 24.0000 - val_false_positives: 20.0000 - val_true_negatives: 244.0000 - val_true_positives: 64.0000\n",
            "Epoch 89/200\n",
            "44/44 [==============================] - 1s 15ms/step - loss: 0.4505 - Accuracy: 0.8161 - false_negatives: 76.0000 - false_positives: 50.0000 - true_negatives: 994.0000 - true_positives: 272.0000 - val_loss: 0.9869 - val_Accuracy: 0.7273 - val_false_negatives: 26.0000 - val_false_positives: 22.0000 - val_true_negatives: 242.0000 - val_true_positives: 62.0000\n",
            "Epoch 90/200\n",
            "44/44 [==============================] - 1s 15ms/step - loss: 0.4786 - Accuracy: 0.8046 - false_negatives: 78.0000 - false_positives: 55.0000 - true_negatives: 989.0000 - true_positives: 270.0000 - val_loss: 1.0644 - val_Accuracy: 0.6705 - val_false_negatives: 31.0000 - val_false_positives: 25.0000 - val_true_negatives: 239.0000 - val_true_positives: 57.0000\n",
            "Epoch 91/200\n",
            "44/44 [==============================] - 1s 15ms/step - loss: 0.5030 - Accuracy: 0.8132 - false_negatives: 78.0000 - false_positives: 51.0000 - true_negatives: 993.0000 - true_positives: 270.0000 - val_loss: 0.8811 - val_Accuracy: 0.7159 - val_false_negatives: 27.0000 - val_false_positives: 22.0000 - val_true_negatives: 242.0000 - val_true_positives: 61.0000\n",
            "Epoch 92/200\n",
            "44/44 [==============================] - 1s 15ms/step - loss: 0.5768 - Accuracy: 0.7787 - false_negatives: 95.0000 - false_positives: 58.0000 - true_negatives: 986.0000 - true_positives: 253.0000 - val_loss: 1.0198 - val_Accuracy: 0.6818 - val_false_negatives: 34.0000 - val_false_positives: 25.0000 - val_true_negatives: 239.0000 - val_true_positives: 54.0000\n",
            "Epoch 93/200\n",
            "44/44 [==============================] - 1s 15ms/step - loss: 0.6059 - Accuracy: 0.7816 - false_negatives: 89.0000 - false_positives: 53.0000 - true_negatives: 991.0000 - true_positives: 259.0000 - val_loss: 0.8768 - val_Accuracy: 0.7614 - val_false_negatives: 28.0000 - val_false_positives: 18.0000 - val_true_negatives: 246.0000 - val_true_positives: 60.0000\n",
            "Epoch 94/200\n",
            "44/44 [==============================] - 1s 15ms/step - loss: 0.5088 - Accuracy: 0.7931 - false_negatives: 76.0000 - false_positives: 51.0000 - true_negatives: 993.0000 - true_positives: 272.0000 - val_loss: 0.8550 - val_Accuracy: 0.6932 - val_false_negatives: 29.0000 - val_false_positives: 22.0000 - val_true_negatives: 242.0000 - val_true_positives: 59.0000\n",
            "Epoch 95/200\n",
            "44/44 [==============================] - 1s 15ms/step - loss: 0.5017 - Accuracy: 0.8103 - false_negatives: 85.0000 - false_positives: 45.0000 - true_negatives: 999.0000 - true_positives: 263.0000 - val_loss: 0.8079 - val_Accuracy: 0.7614 - val_false_negatives: 23.0000 - val_false_positives: 18.0000 - val_true_negatives: 246.0000 - val_true_positives: 65.0000\n",
            "Epoch 96/200\n",
            "44/44 [==============================] - 1s 15ms/step - loss: 0.4565 - Accuracy: 0.8218 - false_negatives: 72.0000 - false_positives: 46.0000 - true_negatives: 998.0000 - true_positives: 276.0000 - val_loss: 0.9632 - val_Accuracy: 0.7159 - val_false_negatives: 27.0000 - val_false_positives: 23.0000 - val_true_negatives: 241.0000 - val_true_positives: 61.0000\n",
            "Epoch 97/200\n",
            "44/44 [==============================] - 1s 15ms/step - loss: 0.4440 - Accuracy: 0.8420 - false_negatives: 62.0000 - false_positives: 43.0000 - true_negatives: 1001.0000 - true_positives: 286.0000 - val_loss: 1.0361 - val_Accuracy: 0.6932 - val_false_negatives: 28.0000 - val_false_positives: 23.0000 - val_true_negatives: 241.0000 - val_true_positives: 60.0000\n",
            "Epoch 98/200\n",
            "44/44 [==============================] - 1s 15ms/step - loss: 0.4775 - Accuracy: 0.8075 - false_negatives: 75.0000 - false_positives: 50.0000 - true_negatives: 994.0000 - true_positives: 273.0000 - val_loss: 0.9595 - val_Accuracy: 0.6932 - val_false_negatives: 28.0000 - val_false_positives: 24.0000 - val_true_negatives: 240.0000 - val_true_positives: 60.0000\n",
            "Epoch 99/200\n",
            "44/44 [==============================] - 1s 15ms/step - loss: 0.4440 - Accuracy: 0.8103 - false_negatives: 78.0000 - false_positives: 47.0000 - true_negatives: 997.0000 - true_positives: 270.0000 - val_loss: 0.9769 - val_Accuracy: 0.6818 - val_false_negatives: 30.0000 - val_false_positives: 22.0000 - val_true_negatives: 242.0000 - val_true_positives: 58.0000\n",
            "Epoch 100/200\n",
            "44/44 [==============================] - 1s 15ms/step - loss: 0.4863 - Accuracy: 0.8161 - false_negatives: 74.0000 - false_positives: 50.0000 - true_negatives: 994.0000 - true_positives: 274.0000 - val_loss: 0.8629 - val_Accuracy: 0.6932 - val_false_negatives: 28.0000 - val_false_positives: 20.0000 - val_true_negatives: 244.0000 - val_true_positives: 60.0000\n",
            "Epoch 101/200\n",
            "44/44 [==============================] - 1s 16ms/step - loss: 0.4886 - Accuracy: 0.8075 - false_negatives: 79.0000 - false_positives: 49.0000 - true_negatives: 995.0000 - true_positives: 269.0000 - val_loss: 0.8719 - val_Accuracy: 0.7045 - val_false_negatives: 28.0000 - val_false_positives: 21.0000 - val_true_negatives: 243.0000 - val_true_positives: 60.0000\n",
            "Epoch 102/200\n",
            "44/44 [==============================] - 1s 15ms/step - loss: 0.5716 - Accuracy: 0.7701 - false_negatives: 97.0000 - false_positives: 59.0000 - true_negatives: 985.0000 - true_positives: 251.0000 - val_loss: 0.8750 - val_Accuracy: 0.7273 - val_false_negatives: 27.0000 - val_false_positives: 20.0000 - val_true_negatives: 244.0000 - val_true_positives: 61.0000\n",
            "Epoch 103/200\n",
            "44/44 [==============================] - 1s 15ms/step - loss: 0.4909 - Accuracy: 0.8103 - false_negatives: 75.0000 - false_positives: 52.0000 - true_negatives: 992.0000 - true_positives: 273.0000 - val_loss: 0.9597 - val_Accuracy: 0.7500 - val_false_negatives: 24.0000 - val_false_positives: 18.0000 - val_true_negatives: 246.0000 - val_true_positives: 64.0000\n",
            "Epoch 104/200\n",
            "44/44 [==============================] - 1s 15ms/step - loss: 0.4418 - Accuracy: 0.8218 - false_negatives: 74.0000 - false_positives: 49.0000 - true_negatives: 995.0000 - true_positives: 274.0000 - val_loss: 0.8762 - val_Accuracy: 0.7045 - val_false_negatives: 26.0000 - val_false_positives: 21.0000 - val_true_negatives: 243.0000 - val_true_positives: 62.0000\n",
            "Epoch 105/200\n",
            "44/44 [==============================] - 1s 15ms/step - loss: 0.5003 - Accuracy: 0.8161 - false_negatives: 77.0000 - false_positives: 49.0000 - true_negatives: 995.0000 - true_positives: 271.0000 - val_loss: 0.9772 - val_Accuracy: 0.7159 - val_false_negatives: 27.0000 - val_false_positives: 23.0000 - val_true_negatives: 241.0000 - val_true_positives: 61.0000\n",
            "Epoch 106/200\n",
            "44/44 [==============================] - 1s 15ms/step - loss: 0.4346 - Accuracy: 0.8218 - false_negatives: 73.0000 - false_positives: 51.0000 - true_negatives: 993.0000 - true_positives: 275.0000 - val_loss: 0.9057 - val_Accuracy: 0.7045 - val_false_negatives: 26.0000 - val_false_positives: 21.0000 - val_true_negatives: 243.0000 - val_true_positives: 62.0000\n",
            "Epoch 107/200\n",
            "44/44 [==============================] - 1s 15ms/step - loss: 0.4189 - Accuracy: 0.8477 - false_negatives: 65.0000 - false_positives: 42.0000 - true_negatives: 1002.0000 - true_positives: 283.0000 - val_loss: 0.9859 - val_Accuracy: 0.7159 - val_false_negatives: 27.0000 - val_false_positives: 24.0000 - val_true_negatives: 240.0000 - val_true_positives: 61.0000\n",
            "Epoch 108/200\n",
            "44/44 [==============================] - 1s 15ms/step - loss: 0.4056 - Accuracy: 0.8563 - false_negatives: 58.0000 - false_positives: 41.0000 - true_negatives: 1003.0000 - true_positives: 290.0000 - val_loss: 0.8737 - val_Accuracy: 0.6818 - val_false_negatives: 28.0000 - val_false_positives: 23.0000 - val_true_negatives: 241.0000 - val_true_positives: 60.0000\n",
            "Epoch 109/200\n",
            "44/44 [==============================] - 1s 15ms/step - loss: 0.4493 - Accuracy: 0.8132 - false_negatives: 73.0000 - false_positives: 56.0000 - true_negatives: 988.0000 - true_positives: 275.0000 - val_loss: 0.8909 - val_Accuracy: 0.7386 - val_false_negatives: 23.0000 - val_false_positives: 19.0000 - val_true_negatives: 245.0000 - val_true_positives: 65.0000\n",
            "Epoch 110/200\n",
            "44/44 [==============================] - 1s 15ms/step - loss: 0.4136 - Accuracy: 0.8276 - false_negatives: 65.0000 - false_positives: 47.0000 - true_negatives: 997.0000 - true_positives: 283.0000 - val_loss: 0.7588 - val_Accuracy: 0.7614 - val_false_negatives: 23.0000 - val_false_positives: 17.0000 - val_true_negatives: 247.0000 - val_true_positives: 65.0000\n",
            "Epoch 111/200\n",
            "44/44 [==============================] - 1s 15ms/step - loss: 0.4198 - Accuracy: 0.8477 - false_negatives: 63.0000 - false_positives: 43.0000 - true_negatives: 1001.0000 - true_positives: 285.0000 - val_loss: 0.8886 - val_Accuracy: 0.7500 - val_false_negatives: 23.0000 - val_false_positives: 17.0000 - val_true_negatives: 247.0000 - val_true_positives: 65.0000\n",
            "Epoch 112/200\n",
            "44/44 [==============================] - 1s 15ms/step - loss: 0.4739 - Accuracy: 0.8017 - false_negatives: 78.0000 - false_positives: 53.0000 - true_negatives: 991.0000 - true_positives: 270.0000 - val_loss: 0.8236 - val_Accuracy: 0.7273 - val_false_negatives: 25.0000 - val_false_positives: 21.0000 - val_true_negatives: 243.0000 - val_true_positives: 63.0000\n",
            "Epoch 113/200\n",
            "44/44 [==============================] - 1s 23ms/step - loss: 0.4146 - Accuracy: 0.8534 - false_negatives: 66.0000 - false_positives: 38.0000 - true_negatives: 1006.0000 - true_positives: 282.0000 - val_loss: 1.0458 - val_Accuracy: 0.7386 - val_false_negatives: 24.0000 - val_false_positives: 19.0000 - val_true_negatives: 245.0000 - val_true_positives: 64.0000\n",
            "Epoch 114/200\n",
            "44/44 [==============================] - 1s 16ms/step - loss: 0.3938 - Accuracy: 0.8621 - false_negatives: 53.0000 - false_positives: 37.0000 - true_negatives: 1007.0000 - true_positives: 295.0000 - val_loss: 0.9300 - val_Accuracy: 0.7841 - val_false_negatives: 21.0000 - val_false_positives: 16.0000 - val_true_negatives: 248.0000 - val_true_positives: 67.0000\n",
            "Epoch 115/200\n",
            "44/44 [==============================] - 1s 16ms/step - loss: 0.3608 - Accuracy: 0.8649 - false_negatives: 55.0000 - false_positives: 36.0000 - true_negatives: 1008.0000 - true_positives: 293.0000 - val_loss: 0.8949 - val_Accuracy: 0.7273 - val_false_negatives: 24.0000 - val_false_positives: 21.0000 - val_true_negatives: 243.0000 - val_true_positives: 64.0000\n",
            "Epoch 116/200\n",
            "44/44 [==============================] - 1s 16ms/step - loss: 0.3938 - Accuracy: 0.8506 - false_negatives: 64.0000 - false_positives: 44.0000 - true_negatives: 1000.0000 - true_positives: 284.0000 - val_loss: 1.0093 - val_Accuracy: 0.7159 - val_false_negatives: 25.0000 - val_false_positives: 22.0000 - val_true_negatives: 242.0000 - val_true_positives: 63.0000\n",
            "Epoch 117/200\n",
            "44/44 [==============================] - 1s 16ms/step - loss: 0.4481 - Accuracy: 0.8103 - false_negatives: 73.0000 - false_positives: 58.0000 - true_negatives: 986.0000 - true_positives: 275.0000 - val_loss: 1.0341 - val_Accuracy: 0.6591 - val_false_negatives: 30.0000 - val_false_positives: 24.0000 - val_true_negatives: 240.0000 - val_true_positives: 58.0000\n",
            "Epoch 118/200\n",
            "44/44 [==============================] - 1s 16ms/step - loss: 0.4456 - Accuracy: 0.8276 - false_negatives: 72.0000 - false_positives: 44.0000 - true_negatives: 1000.0000 - true_positives: 276.0000 - val_loss: 0.8988 - val_Accuracy: 0.7386 - val_false_negatives: 24.0000 - val_false_positives: 19.0000 - val_true_negatives: 245.0000 - val_true_positives: 64.0000\n",
            "Epoch 119/200\n",
            "44/44 [==============================] - 1s 15ms/step - loss: 0.4425 - Accuracy: 0.8132 - false_negatives: 77.0000 - false_positives: 53.0000 - true_negatives: 991.0000 - true_positives: 271.0000 - val_loss: 0.9051 - val_Accuracy: 0.7045 - val_false_negatives: 26.0000 - val_false_positives: 25.0000 - val_true_negatives: 239.0000 - val_true_positives: 62.0000\n",
            "Epoch 120/200\n",
            "44/44 [==============================] - 1s 16ms/step - loss: 0.4015 - Accuracy: 0.8333 - false_negatives: 65.0000 - false_positives: 49.0000 - true_negatives: 995.0000 - true_positives: 283.0000 - val_loss: 0.9228 - val_Accuracy: 0.7045 - val_false_negatives: 27.0000 - val_false_positives: 21.0000 - val_true_negatives: 243.0000 - val_true_positives: 61.0000\n",
            "Epoch 121/200\n",
            "44/44 [==============================] - 1s 18ms/step - loss: 0.3970 - Accuracy: 0.8592 - false_negatives: 59.0000 - false_positives: 43.0000 - true_negatives: 1001.0000 - true_positives: 289.0000 - val_loss: 1.0740 - val_Accuracy: 0.6705 - val_false_negatives: 29.0000 - val_false_positives: 25.0000 - val_true_negatives: 239.0000 - val_true_positives: 59.0000\n",
            "Epoch 122/200\n",
            "44/44 [==============================] - 1s 16ms/step - loss: 0.3999 - Accuracy: 0.8477 - false_negatives: 58.0000 - false_positives: 42.0000 - true_negatives: 1002.0000 - true_positives: 290.0000 - val_loss: 0.9960 - val_Accuracy: 0.7386 - val_false_negatives: 24.0000 - val_false_positives: 21.0000 - val_true_negatives: 243.0000 - val_true_positives: 64.0000\n",
            "Epoch 123/200\n",
            "44/44 [==============================] - 1s 15ms/step - loss: 0.4019 - Accuracy: 0.8409 - false_negatives: 66.0000 - false_positives: 43.0000 - true_negatives: 1013.0000 - true_positives: 286.0000 - val_loss: 0.8515 - val_Accuracy: 0.7159 - val_false_negatives: 27.0000 - val_false_positives: 22.0000 - val_true_negatives: 242.0000 - val_true_positives: 61.0000\n",
            "Epoch 124/200\n",
            "44/44 [==============================] - 1s 15ms/step - loss: 0.3733 - Accuracy: 0.8592 - false_negatives: 60.0000 - false_positives: 41.0000 - true_negatives: 1003.0000 - true_positives: 288.0000 - val_loss: 1.0869 - val_Accuracy: 0.6818 - val_false_negatives: 29.0000 - val_false_positives: 24.0000 - val_true_negatives: 240.0000 - val_true_positives: 59.0000\n",
            "Epoch 125/200\n",
            "44/44 [==============================] - 1s 15ms/step - loss: 0.3624 - Accuracy: 0.8678 - false_negatives: 55.0000 - false_positives: 38.0000 - true_negatives: 1006.0000 - true_positives: 293.0000 - val_loss: 1.0388 - val_Accuracy: 0.6477 - val_false_negatives: 33.0000 - val_false_positives: 25.0000 - val_true_negatives: 239.0000 - val_true_positives: 55.0000\n",
            "Epoch 126/200\n",
            "44/44 [==============================] - 1s 15ms/step - loss: 0.3657 - Accuracy: 0.8592 - false_negatives: 55.0000 - false_positives: 43.0000 - true_negatives: 1001.0000 - true_positives: 293.0000 - val_loss: 0.9274 - val_Accuracy: 0.6932 - val_false_negatives: 29.0000 - val_false_positives: 23.0000 - val_true_negatives: 241.0000 - val_true_positives: 59.0000\n",
            "Epoch 127/200\n",
            "44/44 [==============================] - 1s 18ms/step - loss: 0.3910 - Accuracy: 0.8563 - false_negatives: 55.0000 - false_positives: 43.0000 - true_negatives: 1001.0000 - true_positives: 293.0000 - val_loss: 0.8979 - val_Accuracy: 0.7045 - val_false_negatives: 26.0000 - val_false_positives: 23.0000 - val_true_negatives: 241.0000 - val_true_positives: 62.0000\n",
            "Epoch 128/200\n",
            "44/44 [==============================] - 1s 15ms/step - loss: 0.3545 - Accuracy: 0.8764 - false_negatives: 51.0000 - false_positives: 39.0000 - true_negatives: 1005.0000 - true_positives: 297.0000 - val_loss: 0.8341 - val_Accuracy: 0.7273 - val_false_negatives: 24.0000 - val_false_positives: 22.0000 - val_true_negatives: 242.0000 - val_true_positives: 64.0000\n",
            "Epoch 129/200\n",
            "44/44 [==============================] - 1s 16ms/step - loss: 0.3828 - Accuracy: 0.8678 - false_negatives: 54.0000 - false_positives: 38.0000 - true_negatives: 1006.0000 - true_positives: 294.0000 - val_loss: 0.9085 - val_Accuracy: 0.7159 - val_false_negatives: 26.0000 - val_false_positives: 21.0000 - val_true_negatives: 243.0000 - val_true_positives: 62.0000\n",
            "Epoch 130/200\n",
            "44/44 [==============================] - 1s 16ms/step - loss: 0.3919 - Accuracy: 0.8190 - false_negatives: 69.0000 - false_positives: 52.0000 - true_negatives: 992.0000 - true_positives: 279.0000 - val_loss: 0.9777 - val_Accuracy: 0.7159 - val_false_negatives: 26.0000 - val_false_positives: 22.0000 - val_true_negatives: 242.0000 - val_true_positives: 62.0000\n",
            "Epoch 131/200\n",
            "44/44 [==============================] - 1s 15ms/step - loss: 0.2939 - Accuracy: 0.8879 - false_negatives: 42.0000 - false_positives: 31.0000 - true_negatives: 1013.0000 - true_positives: 306.0000 - val_loss: 1.0211 - val_Accuracy: 0.7045 - val_false_negatives: 28.0000 - val_false_positives: 22.0000 - val_true_negatives: 242.0000 - val_true_positives: 60.0000\n",
            "Epoch 132/200\n",
            "44/44 [==============================] - 1s 15ms/step - loss: 0.4457 - Accuracy: 0.8218 - false_negatives: 73.0000 - false_positives: 55.0000 - true_negatives: 989.0000 - true_positives: 275.0000 - val_loss: 0.9106 - val_Accuracy: 0.7500 - val_false_negatives: 25.0000 - val_false_positives: 20.0000 - val_true_negatives: 244.0000 - val_true_positives: 63.0000\n",
            "Epoch 133/200\n",
            "44/44 [==============================] - 1s 25ms/step - loss: 0.3680 - Accuracy: 0.8534 - false_negatives: 60.0000 - false_positives: 42.0000 - true_negatives: 1002.0000 - true_positives: 288.0000 - val_loss: 1.0675 - val_Accuracy: 0.6477 - val_false_negatives: 32.0000 - val_false_positives: 28.0000 - val_true_negatives: 236.0000 - val_true_positives: 56.0000\n",
            "Epoch 134/200\n",
            "44/44 [==============================] - 1s 24ms/step - loss: 0.3653 - Accuracy: 0.8649 - false_negatives: 58.0000 - false_positives: 39.0000 - true_negatives: 1005.0000 - true_positives: 290.0000 - val_loss: 0.9472 - val_Accuracy: 0.7159 - val_false_negatives: 25.0000 - val_false_positives: 21.0000 - val_true_negatives: 243.0000 - val_true_positives: 63.0000\n",
            "Epoch 135/200\n",
            "44/44 [==============================] - 1s 30ms/step - loss: 0.3654 - Accuracy: 0.8448 - false_negatives: 59.0000 - false_positives: 44.0000 - true_negatives: 1000.0000 - true_positives: 289.0000 - val_loss: 1.2083 - val_Accuracy: 0.6591 - val_false_negatives: 31.0000 - val_false_positives: 26.0000 - val_true_negatives: 238.0000 - val_true_positives: 57.0000\n",
            "Epoch 136/200\n",
            "44/44 [==============================] - 1s 32ms/step - loss: 0.3473 - Accuracy: 0.8649 - false_negatives: 56.0000 - false_positives: 41.0000 - true_negatives: 1003.0000 - true_positives: 292.0000 - val_loss: 0.9099 - val_Accuracy: 0.7045 - val_false_negatives: 26.0000 - val_false_positives: 21.0000 - val_true_negatives: 243.0000 - val_true_positives: 62.0000\n",
            "Epoch 137/200\n",
            "44/44 [==============================] - 1s 23ms/step - loss: 0.3996 - Accuracy: 0.8707 - false_negatives: 56.0000 - false_positives: 40.0000 - true_negatives: 1004.0000 - true_positives: 292.0000 - val_loss: 1.1429 - val_Accuracy: 0.6591 - val_false_negatives: 30.0000 - val_false_positives: 25.0000 - val_true_negatives: 239.0000 - val_true_positives: 58.0000\n",
            "Epoch 138/200\n",
            "44/44 [==============================] - 1s 16ms/step - loss: 0.3573 - Accuracy: 0.8506 - false_negatives: 56.0000 - false_positives: 46.0000 - true_negatives: 998.0000 - true_positives: 292.0000 - val_loss: 0.9232 - val_Accuracy: 0.7159 - val_false_negatives: 25.0000 - val_false_positives: 24.0000 - val_true_negatives: 240.0000 - val_true_positives: 63.0000\n",
            "Epoch 139/200\n",
            "44/44 [==============================] - 1s 15ms/step - loss: 0.3298 - Accuracy: 0.8764 - false_negatives: 46.0000 - false_positives: 38.0000 - true_negatives: 1006.0000 - true_positives: 302.0000 - val_loss: 0.8516 - val_Accuracy: 0.7614 - val_false_negatives: 22.0000 - val_false_positives: 17.0000 - val_true_negatives: 247.0000 - val_true_positives: 66.0000\n",
            "Epoch 140/200\n",
            "44/44 [==============================] - 1s 16ms/step - loss: 0.3451 - Accuracy: 0.8534 - false_negatives: 57.0000 - false_positives: 45.0000 - true_negatives: 999.0000 - true_positives: 291.0000 - val_loss: 1.2255 - val_Accuracy: 0.7045 - val_false_negatives: 28.0000 - val_false_positives: 23.0000 - val_true_negatives: 241.0000 - val_true_positives: 60.0000\n",
            "Epoch 141/200\n",
            "44/44 [==============================] - 1s 15ms/step - loss: 0.3693 - Accuracy: 0.8636 - false_negatives: 57.0000 - false_positives: 40.0000 - true_negatives: 1016.0000 - true_positives: 295.0000 - val_loss: 1.1140 - val_Accuracy: 0.6818 - val_false_negatives: 29.0000 - val_false_positives: 25.0000 - val_true_negatives: 239.0000 - val_true_positives: 59.0000\n",
            "Epoch 142/200\n",
            "44/44 [==============================] - 1s 15ms/step - loss: 0.2903 - Accuracy: 0.9052 - false_negatives: 41.0000 - false_positives: 30.0000 - true_negatives: 1014.0000 - true_positives: 307.0000 - val_loss: 1.1426 - val_Accuracy: 0.6591 - val_false_negatives: 30.0000 - val_false_positives: 26.0000 - val_true_negatives: 238.0000 - val_true_positives: 58.0000\n",
            "Epoch 143/200\n",
            "44/44 [==============================] - 1s 16ms/step - loss: 0.3100 - Accuracy: 0.8851 - false_negatives: 43.0000 - false_positives: 35.0000 - true_negatives: 1009.0000 - true_positives: 305.0000 - val_loss: 0.9319 - val_Accuracy: 0.7159 - val_false_negatives: 27.0000 - val_false_positives: 21.0000 - val_true_negatives: 243.0000 - val_true_positives: 61.0000\n",
            "Epoch 144/200\n",
            "44/44 [==============================] - 1s 16ms/step - loss: 0.4084 - Accuracy: 0.8420 - false_negatives: 60.0000 - false_positives: 51.0000 - true_negatives: 993.0000 - true_positives: 288.0000 - val_loss: 1.4250 - val_Accuracy: 0.6023 - val_false_negatives: 38.0000 - val_false_positives: 27.0000 - val_true_negatives: 237.0000 - val_true_positives: 50.0000\n",
            "Epoch 145/200\n",
            "44/44 [==============================] - 1s 15ms/step - loss: 0.3702 - Accuracy: 0.8592 - false_negatives: 53.0000 - false_positives: 42.0000 - true_negatives: 1002.0000 - true_positives: 295.0000 - val_loss: 0.9449 - val_Accuracy: 0.7273 - val_false_negatives: 27.0000 - val_false_positives: 22.0000 - val_true_negatives: 242.0000 - val_true_positives: 61.0000\n",
            "Epoch 146/200\n",
            "44/44 [==============================] - 1s 16ms/step - loss: 0.2747 - Accuracy: 0.8864 - false_negatives: 44.0000 - false_positives: 36.0000 - true_negatives: 1020.0000 - true_positives: 308.0000 - val_loss: 1.1123 - val_Accuracy: 0.6818 - val_false_negatives: 30.0000 - val_false_positives: 26.0000 - val_true_negatives: 238.0000 - val_true_positives: 58.0000\n",
            "Epoch 147/200\n",
            "44/44 [==============================] - 1s 15ms/step - loss: 0.3429 - Accuracy: 0.8621 - false_negatives: 53.0000 - false_positives: 38.0000 - true_negatives: 1006.0000 - true_positives: 295.0000 - val_loss: 1.1046 - val_Accuracy: 0.7159 - val_false_negatives: 29.0000 - val_false_positives: 23.0000 - val_true_negatives: 241.0000 - val_true_positives: 59.0000\n",
            "Epoch 148/200\n",
            "44/44 [==============================] - 1s 16ms/step - loss: 0.2766 - Accuracy: 0.8707 - false_negatives: 47.0000 - false_positives: 37.0000 - true_negatives: 1007.0000 - true_positives: 301.0000 - val_loss: 1.0578 - val_Accuracy: 0.7500 - val_false_negatives: 25.0000 - val_false_positives: 21.0000 - val_true_negatives: 243.0000 - val_true_positives: 63.0000\n",
            "Epoch 149/200\n",
            "44/44 [==============================] - 1s 16ms/step - loss: 0.2915 - Accuracy: 0.8707 - false_negatives: 47.0000 - false_positives: 37.0000 - true_negatives: 1007.0000 - true_positives: 301.0000 - val_loss: 1.0718 - val_Accuracy: 0.7159 - val_false_negatives: 26.0000 - val_false_positives: 22.0000 - val_true_negatives: 242.0000 - val_true_positives: 62.0000\n",
            "Epoch 150/200\n",
            "44/44 [==============================] - 1s 16ms/step - loss: 0.3432 - Accuracy: 0.8477 - false_negatives: 59.0000 - false_positives: 44.0000 - true_negatives: 1000.0000 - true_positives: 289.0000 - val_loss: 1.0186 - val_Accuracy: 0.7273 - val_false_negatives: 26.0000 - val_false_positives: 22.0000 - val_true_negatives: 242.0000 - val_true_positives: 62.0000\n",
            "Epoch 151/200\n",
            "44/44 [==============================] - 1s 15ms/step - loss: 0.3087 - Accuracy: 0.8793 - false_negatives: 46.0000 - false_positives: 37.0000 - true_negatives: 1007.0000 - true_positives: 302.0000 - val_loss: 0.9471 - val_Accuracy: 0.7500 - val_false_negatives: 23.0000 - val_false_positives: 21.0000 - val_true_negatives: 243.0000 - val_true_positives: 65.0000\n",
            "Epoch 152/200\n",
            "44/44 [==============================] - 1s 16ms/step - loss: 0.3497 - Accuracy: 0.8534 - false_negatives: 58.0000 - false_positives: 45.0000 - true_negatives: 999.0000 - true_positives: 290.0000 - val_loss: 0.8697 - val_Accuracy: 0.7045 - val_false_negatives: 30.0000 - val_false_positives: 20.0000 - val_true_negatives: 244.0000 - val_true_positives: 58.0000\n",
            "Epoch 153/200\n",
            "44/44 [==============================] - 1s 15ms/step - loss: 0.2702 - Accuracy: 0.9138 - false_negatives: 34.0000 - false_positives: 25.0000 - true_negatives: 1019.0000 - true_positives: 314.0000 - val_loss: 0.9343 - val_Accuracy: 0.7614 - val_false_negatives: 21.0000 - val_false_positives: 18.0000 - val_true_negatives: 246.0000 - val_true_positives: 67.0000\n",
            "Epoch 154/200\n",
            "44/44 [==============================] - 1s 16ms/step - loss: 0.3139 - Accuracy: 0.8764 - false_negatives: 49.0000 - false_positives: 34.0000 - true_negatives: 1010.0000 - true_positives: 299.0000 - val_loss: 0.9836 - val_Accuracy: 0.7386 - val_false_negatives: 24.0000 - val_false_positives: 21.0000 - val_true_negatives: 243.0000 - val_true_positives: 64.0000\n",
            "Epoch 155/200\n",
            "44/44 [==============================] - 1s 16ms/step - loss: 0.2848 - Accuracy: 0.8793 - false_negatives: 46.0000 - false_positives: 37.0000 - true_negatives: 1007.0000 - true_positives: 302.0000 - val_loss: 0.8706 - val_Accuracy: 0.7727 - val_false_negatives: 21.0000 - val_false_positives: 18.0000 - val_true_negatives: 246.0000 - val_true_positives: 67.0000\n",
            "Epoch 156/200\n",
            "44/44 [==============================] - 1s 15ms/step - loss: 0.3219 - Accuracy: 0.8793 - false_negatives: 49.0000 - false_positives: 37.0000 - true_negatives: 1007.0000 - true_positives: 299.0000 - val_loss: 0.8943 - val_Accuracy: 0.7727 - val_false_negatives: 22.0000 - val_false_positives: 18.0000 - val_true_negatives: 246.0000 - val_true_positives: 66.0000\n",
            "Epoch 157/200\n",
            "44/44 [==============================] - 1s 15ms/step - loss: 0.3044 - Accuracy: 0.8966 - false_negatives: 41.0000 - false_positives: 31.0000 - true_negatives: 1013.0000 - true_positives: 307.0000 - val_loss: 0.9061 - val_Accuracy: 0.7727 - val_false_negatives: 20.0000 - val_false_positives: 17.0000 - val_true_negatives: 247.0000 - val_true_positives: 68.0000\n",
            "Epoch 158/200\n",
            "44/44 [==============================] - 1s 17ms/step - loss: 0.2637 - Accuracy: 0.9023 - false_negatives: 37.0000 - false_positives: 31.0000 - true_negatives: 1013.0000 - true_positives: 311.0000 - val_loss: 0.9833 - val_Accuracy: 0.7500 - val_false_negatives: 23.0000 - val_false_positives: 22.0000 - val_true_negatives: 242.0000 - val_true_positives: 65.0000\n",
            "Epoch 159/200\n",
            "44/44 [==============================] - 1s 16ms/step - loss: 0.3416 - Accuracy: 0.8621 - false_negatives: 55.0000 - false_positives: 41.0000 - true_negatives: 1003.0000 - true_positives: 293.0000 - val_loss: 1.1132 - val_Accuracy: 0.6818 - val_false_negatives: 30.0000 - val_false_positives: 26.0000 - val_true_negatives: 238.0000 - val_true_positives: 58.0000\n",
            "Epoch 160/200\n",
            "44/44 [==============================] - 1s 16ms/step - loss: 0.3346 - Accuracy: 0.8678 - false_negatives: 51.0000 - false_positives: 42.0000 - true_negatives: 1002.0000 - true_positives: 297.0000 - val_loss: 1.1183 - val_Accuracy: 0.6932 - val_false_negatives: 27.0000 - val_false_positives: 24.0000 - val_true_negatives: 240.0000 - val_true_positives: 61.0000\n",
            "Epoch 161/200\n",
            "44/44 [==============================] - 1s 16ms/step - loss: 0.3695 - Accuracy: 0.8736 - false_negatives: 52.0000 - false_positives: 39.0000 - true_negatives: 1005.0000 - true_positives: 296.0000 - val_loss: 1.3628 - val_Accuracy: 0.7045 - val_false_negatives: 28.0000 - val_false_positives: 26.0000 - val_true_negatives: 238.0000 - val_true_positives: 60.0000\n",
            "Epoch 162/200\n",
            "44/44 [==============================] - 1s 16ms/step - loss: 0.2705 - Accuracy: 0.8851 - false_negatives: 42.0000 - false_positives: 36.0000 - true_negatives: 1008.0000 - true_positives: 306.0000 - val_loss: 1.1625 - val_Accuracy: 0.6818 - val_false_negatives: 29.0000 - val_false_positives: 25.0000 - val_true_negatives: 239.0000 - val_true_positives: 59.0000\n",
            "Epoch 163/200\n",
            "44/44 [==============================] - 1s 15ms/step - loss: 0.2613 - Accuracy: 0.9080 - false_negatives: 35.0000 - false_positives: 31.0000 - true_negatives: 1013.0000 - true_positives: 313.0000 - val_loss: 1.1266 - val_Accuracy: 0.6705 - val_false_negatives: 30.0000 - val_false_positives: 24.0000 - val_true_negatives: 240.0000 - val_true_positives: 58.0000\n",
            "Epoch 164/200\n",
            "44/44 [==============================] - 1s 15ms/step - loss: 0.2773 - Accuracy: 0.8851 - false_negatives: 43.0000 - false_positives: 36.0000 - true_negatives: 1008.0000 - true_positives: 305.0000 - val_loss: 0.9554 - val_Accuracy: 0.7386 - val_false_negatives: 24.0000 - val_false_positives: 21.0000 - val_true_negatives: 243.0000 - val_true_positives: 64.0000\n",
            "Epoch 165/200\n",
            "44/44 [==============================] - 1s 16ms/step - loss: 0.2608 - Accuracy: 0.9253 - false_negatives: 31.0000 - false_positives: 25.0000 - true_negatives: 1019.0000 - true_positives: 317.0000 - val_loss: 1.1239 - val_Accuracy: 0.6818 - val_false_negatives: 28.0000 - val_false_positives: 25.0000 - val_true_negatives: 239.0000 - val_true_positives: 60.0000\n",
            "Epoch 166/200\n",
            "44/44 [==============================] - 1s 15ms/step - loss: 0.2818 - Accuracy: 0.9052 - false_negatives: 42.0000 - false_positives: 26.0000 - true_negatives: 1018.0000 - true_positives: 306.0000 - val_loss: 1.6990 - val_Accuracy: 0.6136 - val_false_negatives: 38.0000 - val_false_positives: 29.0000 - val_true_negatives: 235.0000 - val_true_positives: 50.0000\n",
            "Epoch 167/200\n",
            "44/44 [==============================] - 1s 15ms/step - loss: 0.2379 - Accuracy: 0.9138 - false_negatives: 36.0000 - false_positives: 24.0000 - true_negatives: 1020.0000 - true_positives: 312.0000 - val_loss: 1.0462 - val_Accuracy: 0.7386 - val_false_negatives: 27.0000 - val_false_positives: 20.0000 - val_true_negatives: 244.0000 - val_true_positives: 61.0000\n",
            "Epoch 168/200\n",
            "44/44 [==============================] - 1s 16ms/step - loss: 0.2605 - Accuracy: 0.8879 - false_negatives: 41.0000 - false_positives: 34.0000 - true_negatives: 1010.0000 - true_positives: 307.0000 - val_loss: 0.9406 - val_Accuracy: 0.7159 - val_false_negatives: 27.0000 - val_false_positives: 21.0000 - val_true_negatives: 243.0000 - val_true_positives: 61.0000\n",
            "Epoch 169/200\n",
            "44/44 [==============================] - 1s 16ms/step - loss: 0.2458 - Accuracy: 0.8966 - false_negatives: 39.0000 - false_positives: 34.0000 - true_negatives: 1010.0000 - true_positives: 309.0000 - val_loss: 1.0013 - val_Accuracy: 0.7614 - val_false_negatives: 22.0000 - val_false_positives: 19.0000 - val_true_negatives: 245.0000 - val_true_positives: 66.0000\n",
            "Epoch 170/200\n",
            "44/44 [==============================] - 1s 16ms/step - loss: 0.2449 - Accuracy: 0.9080 - false_negatives: 34.0000 - false_positives: 25.0000 - true_negatives: 1019.0000 - true_positives: 314.0000 - val_loss: 1.1013 - val_Accuracy: 0.7159 - val_false_negatives: 25.0000 - val_false_positives: 22.0000 - val_true_negatives: 242.0000 - val_true_positives: 63.0000\n",
            "Epoch 171/200\n",
            "44/44 [==============================] - 1s 15ms/step - loss: 0.2665 - Accuracy: 0.8937 - false_negatives: 43.0000 - false_positives: 32.0000 - true_negatives: 1012.0000 - true_positives: 305.0000 - val_loss: 1.1148 - val_Accuracy: 0.7159 - val_false_negatives: 25.0000 - val_false_positives: 22.0000 - val_true_negatives: 242.0000 - val_true_positives: 63.0000\n",
            "Epoch 172/200\n",
            "44/44 [==============================] - 1s 16ms/step - loss: 0.3045 - Accuracy: 0.8793 - false_negatives: 44.0000 - false_positives: 39.0000 - true_negatives: 1005.0000 - true_positives: 304.0000 - val_loss: 1.1705 - val_Accuracy: 0.7045 - val_false_negatives: 26.0000 - val_false_positives: 22.0000 - val_true_negatives: 242.0000 - val_true_positives: 62.0000\n",
            "Epoch 173/200\n",
            "44/44 [==============================] - 1s 16ms/step - loss: 0.2497 - Accuracy: 0.9195 - false_negatives: 32.0000 - false_positives: 26.0000 - true_negatives: 1018.0000 - true_positives: 316.0000 - val_loss: 1.3017 - val_Accuracy: 0.6705 - val_false_negatives: 30.0000 - val_false_positives: 27.0000 - val_true_negatives: 237.0000 - val_true_positives: 58.0000\n",
            "Epoch 174/200\n",
            "44/44 [==============================] - 1s 15ms/step - loss: 0.2032 - Accuracy: 0.9253 - false_negatives: 27.0000 - false_positives: 24.0000 - true_negatives: 1020.0000 - true_positives: 321.0000 - val_loss: 1.3398 - val_Accuracy: 0.6932 - val_false_negatives: 29.0000 - val_false_positives: 25.0000 - val_true_negatives: 239.0000 - val_true_positives: 59.0000\n",
            "Epoch 175/200\n",
            "44/44 [==============================] - 1s 16ms/step - loss: 0.2335 - Accuracy: 0.9080 - false_negatives: 35.0000 - false_positives: 27.0000 - true_negatives: 1017.0000 - true_positives: 313.0000 - val_loss: 1.3117 - val_Accuracy: 0.6932 - val_false_negatives: 27.0000 - val_false_positives: 25.0000 - val_true_negatives: 239.0000 - val_true_positives: 61.0000\n",
            "Epoch 176/200\n",
            "44/44 [==============================] - 1s 16ms/step - loss: 0.2090 - Accuracy: 0.9138 - false_negatives: 30.0000 - false_positives: 24.0000 - true_negatives: 1020.0000 - true_positives: 318.0000 - val_loss: 1.1041 - val_Accuracy: 0.7386 - val_false_negatives: 24.0000 - val_false_positives: 20.0000 - val_true_negatives: 244.0000 - val_true_positives: 64.0000\n",
            "Epoch 177/200\n",
            "44/44 [==============================] - 1s 16ms/step - loss: 0.1729 - Accuracy: 0.9425 - false_negatives: 21.0000 - false_positives: 13.0000 - true_negatives: 1031.0000 - true_positives: 327.0000 - val_loss: 1.1747 - val_Accuracy: 0.6591 - val_false_negatives: 31.0000 - val_false_positives: 24.0000 - val_true_negatives: 240.0000 - val_true_positives: 57.0000\n",
            "Epoch 178/200\n",
            "44/44 [==============================] - 1s 16ms/step - loss: 0.2376 - Accuracy: 0.8994 - false_negatives: 37.0000 - false_positives: 31.0000 - true_negatives: 1013.0000 - true_positives: 311.0000 - val_loss: 1.2032 - val_Accuracy: 0.6705 - val_false_negatives: 32.0000 - val_false_positives: 25.0000 - val_true_negatives: 239.0000 - val_true_positives: 56.0000\n",
            "Epoch 179/200\n",
            "44/44 [==============================] - 1s 17ms/step - loss: 0.2747 - Accuracy: 0.8851 - false_negatives: 46.0000 - false_positives: 35.0000 - true_negatives: 1009.0000 - true_positives: 302.0000 - val_loss: 1.0043 - val_Accuracy: 0.7386 - val_false_negatives: 24.0000 - val_false_positives: 18.0000 - val_true_negatives: 246.0000 - val_true_positives: 64.0000\n",
            "Epoch 180/200\n",
            "44/44 [==============================] - 1s 16ms/step - loss: 0.2261 - Accuracy: 0.9138 - false_negatives: 33.0000 - false_positives: 29.0000 - true_negatives: 1015.0000 - true_positives: 315.0000 - val_loss: 1.2369 - val_Accuracy: 0.6705 - val_false_negatives: 32.0000 - val_false_positives: 24.0000 - val_true_negatives: 240.0000 - val_true_positives: 56.0000\n",
            "Epoch 181/200\n",
            "44/44 [==============================] - 1s 16ms/step - loss: 0.2254 - Accuracy: 0.9080 - false_negatives: 35.0000 - false_positives: 30.0000 - true_negatives: 1014.0000 - true_positives: 313.0000 - val_loss: 1.3039 - val_Accuracy: 0.6705 - val_false_negatives: 31.0000 - val_false_positives: 28.0000 - val_true_negatives: 236.0000 - val_true_positives: 57.0000\n",
            "Epoch 182/200\n",
            "44/44 [==============================] - 1s 16ms/step - loss: 0.2648 - Accuracy: 0.8736 - false_negatives: 47.0000 - false_positives: 42.0000 - true_negatives: 1002.0000 - true_positives: 301.0000 - val_loss: 1.3500 - val_Accuracy: 0.6818 - val_false_negatives: 30.0000 - val_false_positives: 26.0000 - val_true_negatives: 238.0000 - val_true_positives: 58.0000\n",
            "Epoch 183/200\n",
            "44/44 [==============================] - 1s 17ms/step - loss: 0.3662 - Accuracy: 0.8707 - false_negatives: 49.0000 - false_positives: 41.0000 - true_negatives: 1003.0000 - true_positives: 299.0000 - val_loss: 1.0454 - val_Accuracy: 0.7386 - val_false_negatives: 25.0000 - val_false_positives: 19.0000 - val_true_negatives: 245.0000 - val_true_positives: 63.0000\n",
            "Epoch 184/200\n",
            "44/44 [==============================] - 1s 16ms/step - loss: 0.2675 - Accuracy: 0.9052 - false_negatives: 41.0000 - false_positives: 29.0000 - true_negatives: 1015.0000 - true_positives: 307.0000 - val_loss: 1.1231 - val_Accuracy: 0.6705 - val_false_negatives: 31.0000 - val_false_positives: 22.0000 - val_true_negatives: 242.0000 - val_true_positives: 57.0000\n",
            "Epoch 185/200\n",
            "44/44 [==============================] - 1s 16ms/step - loss: 0.2217 - Accuracy: 0.9310 - false_negatives: 28.0000 - false_positives: 23.0000 - true_negatives: 1021.0000 - true_positives: 320.0000 - val_loss: 1.1109 - val_Accuracy: 0.7500 - val_false_negatives: 22.0000 - val_false_positives: 19.0000 - val_true_negatives: 245.0000 - val_true_positives: 66.0000\n",
            "Epoch 186/200\n",
            "44/44 [==============================] - 1s 16ms/step - loss: 0.2439 - Accuracy: 0.9023 - false_negatives: 36.0000 - false_positives: 28.0000 - true_negatives: 1016.0000 - true_positives: 312.0000 - val_loss: 1.2051 - val_Accuracy: 0.7045 - val_false_negatives: 26.0000 - val_false_positives: 21.0000 - val_true_negatives: 243.0000 - val_true_positives: 62.0000\n",
            "Epoch 187/200\n",
            "44/44 [==============================] - 1s 16ms/step - loss: 0.2604 - Accuracy: 0.8937 - false_negatives: 40.0000 - false_positives: 33.0000 - true_negatives: 1011.0000 - true_positives: 308.0000 - val_loss: 1.2166 - val_Accuracy: 0.6477 - val_false_negatives: 31.0000 - val_false_positives: 29.0000 - val_true_negatives: 235.0000 - val_true_positives: 57.0000\n",
            "Epoch 188/200\n",
            "44/44 [==============================] - 1s 16ms/step - loss: 0.2873 - Accuracy: 0.9052 - false_negatives: 40.0000 - false_positives: 29.0000 - true_negatives: 1015.0000 - true_positives: 308.0000 - val_loss: 1.0854 - val_Accuracy: 0.7614 - val_false_negatives: 22.0000 - val_false_positives: 20.0000 - val_true_negatives: 244.0000 - val_true_positives: 66.0000\n",
            "Epoch 189/200\n",
            "44/44 [==============================] - 1s 16ms/step - loss: 0.2458 - Accuracy: 0.9080 - false_negatives: 35.0000 - false_positives: 26.0000 - true_negatives: 1018.0000 - true_positives: 313.0000 - val_loss: 1.2138 - val_Accuracy: 0.7386 - val_false_negatives: 23.0000 - val_false_positives: 22.0000 - val_true_negatives: 242.0000 - val_true_positives: 65.0000\n",
            "Epoch 190/200\n",
            "44/44 [==============================] - 1s 17ms/step - loss: 0.1906 - Accuracy: 0.9282 - false_negatives: 27.0000 - false_positives: 24.0000 - true_negatives: 1020.0000 - true_positives: 321.0000 - val_loss: 1.1547 - val_Accuracy: 0.7386 - val_false_negatives: 25.0000 - val_false_positives: 21.0000 - val_true_negatives: 243.0000 - val_true_positives: 63.0000\n",
            "Epoch 191/200\n",
            "44/44 [==============================] - 1s 16ms/step - loss: 0.2105 - Accuracy: 0.9368 - false_negatives: 23.0000 - false_positives: 20.0000 - true_negatives: 1024.0000 - true_positives: 325.0000 - val_loss: 1.4337 - val_Accuracy: 0.6818 - val_false_negatives: 28.0000 - val_false_positives: 23.0000 - val_true_negatives: 241.0000 - val_true_positives: 60.0000\n",
            "Epoch 192/200\n",
            "44/44 [==============================] - 1s 16ms/step - loss: 0.1598 - Accuracy: 0.9483 - false_negatives: 21.0000 - false_positives: 17.0000 - true_negatives: 1027.0000 - true_positives: 327.0000 - val_loss: 1.8498 - val_Accuracy: 0.6705 - val_false_negatives: 30.0000 - val_false_positives: 26.0000 - val_true_negatives: 238.0000 - val_true_positives: 58.0000\n",
            "Epoch 193/200\n",
            "44/44 [==============================] - 1s 16ms/step - loss: 0.2354 - Accuracy: 0.9138 - false_negatives: 32.0000 - false_positives: 30.0000 - true_negatives: 1014.0000 - true_positives: 316.0000 - val_loss: 1.2639 - val_Accuracy: 0.6818 - val_false_negatives: 28.0000 - val_false_positives: 24.0000 - val_true_negatives: 240.0000 - val_true_positives: 60.0000\n",
            "Epoch 194/200\n",
            "44/44 [==============================] - 1s 16ms/step - loss: 0.2354 - Accuracy: 0.8994 - false_negatives: 38.0000 - false_positives: 29.0000 - true_negatives: 1015.0000 - true_positives: 310.0000 - val_loss: 1.1600 - val_Accuracy: 0.6705 - val_false_negatives: 29.0000 - val_false_positives: 28.0000 - val_true_negatives: 236.0000 - val_true_positives: 59.0000\n",
            "Epoch 195/200\n",
            "44/44 [==============================] - 1s 16ms/step - loss: 0.3079 - Accuracy: 0.8851 - false_negatives: 40.0000 - false_positives: 35.0000 - true_negatives: 1009.0000 - true_positives: 308.0000 - val_loss: 1.0430 - val_Accuracy: 0.7045 - val_false_negatives: 27.0000 - val_false_positives: 24.0000 - val_true_negatives: 240.0000 - val_true_positives: 61.0000\n",
            "Epoch 196/200\n",
            "44/44 [==============================] - 1s 16ms/step - loss: 0.2725 - Accuracy: 0.9167 - false_negatives: 32.0000 - false_positives: 27.0000 - true_negatives: 1017.0000 - true_positives: 316.0000 - val_loss: 1.0949 - val_Accuracy: 0.7273 - val_false_negatives: 24.0000 - val_false_positives: 21.0000 - val_true_negatives: 243.0000 - val_true_positives: 64.0000\n",
            "Epoch 197/200\n",
            "44/44 [==============================] - 1s 22ms/step - loss: 0.2301 - Accuracy: 0.9253 - false_negatives: 28.0000 - false_positives: 22.0000 - true_negatives: 1022.0000 - true_positives: 320.0000 - val_loss: 1.2955 - val_Accuracy: 0.7045 - val_false_negatives: 27.0000 - val_false_positives: 25.0000 - val_true_negatives: 239.0000 - val_true_positives: 61.0000\n",
            "Epoch 198/200\n",
            "44/44 [==============================] - 1s 21ms/step - loss: 0.1520 - Accuracy: 0.9397 - false_negatives: 24.0000 - false_positives: 20.0000 - true_negatives: 1024.0000 - true_positives: 324.0000 - val_loss: 1.0924 - val_Accuracy: 0.7386 - val_false_negatives: 23.0000 - val_false_positives: 22.0000 - val_true_negatives: 242.0000 - val_true_positives: 65.0000\n",
            "Epoch 199/200\n",
            "44/44 [==============================] - 1s 16ms/step - loss: 0.2159 - Accuracy: 0.9368 - false_negatives: 23.0000 - false_positives: 18.0000 - true_negatives: 1026.0000 - true_positives: 325.0000 - val_loss: 1.5802 - val_Accuracy: 0.6250 - val_false_negatives: 33.0000 - val_false_positives: 30.0000 - val_true_negatives: 234.0000 - val_true_positives: 55.0000\n",
            "Epoch 200/200\n",
            "44/44 [==============================] - 1s 16ms/step - loss: 0.2377 - Accuracy: 0.9195 - false_negatives: 31.0000 - false_positives: 26.0000 - true_negatives: 1018.0000 - true_positives: 317.0000 - val_loss: 1.1276 - val_Accuracy: 0.7500 - val_false_negatives: 24.0000 - val_false_positives: 21.0000 - val_true_negatives: 243.0000 - val_true_positives: 64.0000\n"
          ]
        }
      ]
    },
    {
      "cell_type": "markdown",
      "source": [
        "Plotting Traning Result"
      ],
      "metadata": {
        "id": "XZSFG8fXqz7c"
      }
    },
    {
      "cell_type": "code",
      "source": [
        "  #plotting\n",
        "  epochs = range(1, len(history.history['loss'])+1)\n",
        "  plt.title(f\"Grafik loss training iterasi {iterasi}\")\n",
        "  plt.plot(epochs, history.history['loss'], 'r', label='Training Loss')\n",
        "  plt.plot(epochs, history.history['val_loss'], 'b', label='Validation Loss')    \n",
        "  plt.xlabel(\"Epoch\")\n",
        "  plt.ylabel(\"Loss\")\n",
        "  plt.legend()\n",
        "  plt.show()\n"
      ],
      "metadata": {
        "id": "3dXbDrJpY1NK",
        "colab": {
          "base_uri": "https://localhost:8080/",
          "height": 295
        },
        "outputId": "2f685541-56a4-457e-b343-46929a2e258e"
      },
      "execution_count": 12,
      "outputs": [
        {
          "output_type": "display_data",
          "data": {
            "text/plain": [
              "<Figure size 432x288 with 1 Axes>"
            ],
            "image/png": "[encoded data removed]"
          },
          "metadata": {
            "needs_background": "light"
          }
        }
      ]
    },
    {
      "cell_type": "code",
      "source": [
        "  #plotting\n",
        "  epochs = range(1, len(history.history['loss'])+1)\n",
        "  plt.title(f\"Grafik Akurasi training iterasi {iterasi}\")\n",
        "  plt.plot(epochs, history.history['Accuracy'], 'r', label='Training Accuracy')\n",
        "  plt.plot(epochs, history.history['val_Accuracy'], 'b', label='Validation Accuracy')    \n",
        "  plt.xlabel(\"Epoch\")\n",
        "  plt.ylabel(\"Accuracy\")\n",
        "  plt.legend()\n",
        "  plt.show()"
      ],
      "metadata": {
        "id": "j3xigprPwlSX",
        "colab": {
          "base_uri": "https://localhost:8080/",
          "height": 295
        },
        "outputId": "75ae0b34-3991-4811-bae4-a03c6e2b1336"
      },
      "execution_count": 13,
      "outputs": [
        {
          "output_type": "display_data",
          "data": {
            "text/plain": [
              "<Figure size 432x288 with 1 Axes>"
            ],
            "image/png": "[encoded data removed]"
          },
          "metadata": {
            "needs_background": "light"
          }
        }
      ]
    },
    {
      "cell_type": "code",
      "source": [
        "import matplotlib.pyplot as plt\n",
        "from sklearn.datasets import make_classification\n",
        "from numpy import mean\n",
        "from sklearn.metrics import confusion_matrix, ConfusionMatrixDisplay, accuracy_score, classification_report, recall_score\n",
        "\n",
        "validation = model.predict(np_image_list_validation)\n",
        "\n",
        "predicted_labels = []\n",
        "correct_labels = []\n",
        "for i in range (len(validation)):\n",
        "  predicted_labels.append(np.argmax(validation[i]))\n",
        "\n",
        "for i in range (len(image_labels_validation)):\n",
        "  correct_labels.append(np.argmax(image_labels_validation[i]))\n",
        "\n",
        "\n",
        "confusion_matrix = confusion_matrix(correct_labels, predicted_labels)\n",
        "disp = ConfusionMatrixDisplay(confusion_matrix=confusion_matrix)  \n",
        "disp.plot()\n",
        "plt.show()\n",
        "print('--------')\n",
        "FP = confusion_matrix.sum(axis=0) - np.diag(confusion_matrix)  \n",
        "FN = confusion_matrix.sum(axis=1) - np.diag(confusion_matrix)\n",
        "TP = np.diag(confusion_matrix)\n",
        "TN = confusion_matrix.sum() - (FP + FN + TP)\n",
        "\n",
        "# Sensitivity, hit rate, recall, or true positive rate\n",
        "TPR = TP/(TP+FN)\n",
        "# Specificity or true negative rate\n",
        "TNR = TN/(TN+FP) \n",
        "# Overall accuracy\n",
        "ACC = (TP+TN)/(TP+FP+FN+TN)\n",
        "\n",
        "print(TP)\n",
        "print(TN)\n",
        "print(FP)\n",
        "print(FN)\n",
        "print('--------')\n",
        "print(ACC)\n",
        "print(TPR)\n",
        "print(TNR)\n",
        "print('--------')\n",
        "\n",
        "TP = sum(TP)\n",
        "TN = sum(TN)\n",
        "FP = sum(FP)\n",
        "FN = sum(FN)\n",
        "\n",
        "# Sensitivity, hit rate, recall, or true positive rate\n",
        "TPR = TP/(TP+FN)\n",
        "# Specificity or true negative rate\n",
        "TNR = TN/(TN+FP) \n",
        "# Overall accuracy\n",
        "ACC = (TP+TN)/(TP+FP+FN+TN)\n",
        "\n",
        "print(TP)\n",
        "print(TN)\n",
        "print(FP)\n",
        "print(FN)\n",
        "print('--------')\n",
        "print(ACC)\n",
        "print(TPR)\n",
        "print(TNR)"
      ],
      "metadata": {
        "colab": {
          "base_uri": "https://localhost:8080/",
          "height": 595
        },
        "id": "y0RigLm76Rpg",
        "outputId": "2a8785a1-6b2c-46a3-d4d5-028005f795bb"
      },
      "execution_count": 14,
      "outputs": [
        {
          "output_type": "display_data",
          "data": {
            "text/plain": [
              "<Figure size 432x288 with 2 Axes>"
            ],
            "image/png": "[encoded data removed]"
          },
          "metadata": {
            "needs_background": "light"
          }
        },
        {
          "output_type": "stream",
          "name": "stdout",
          "text": [
            "--------\n",
            "[ 0  5 21 40]\n",
            "[74 72 55 41]\n",
            "[4 3 8 7]\n",
            "[10  8  4  0]\n",
            "--------\n",
            "[0.84090909 0.875      0.86363636 0.92045455]\n",
            "[0.         0.38461538 0.84       1.        ]\n",
            "[0.94871795 0.96       0.87301587 0.85416667]\n",
            "--------\n",
            "66\n",
            "242\n",
            "22\n",
            "22\n",
            "--------\n",
            "0.875\n",
            "0.75\n",
            "0.9166666666666666\n"
          ]
        }
      ]
    },
    {
      "cell_type": "code",
      "source": [
        "import matplotlib.pyplot as plt\n",
        "from sklearn.datasets import make_classification\n",
        "from numpy import mean\n",
        "from sklearn.metrics import confusion_matrix, ConfusionMatrixDisplay, accuracy_score, classification_report, recall_score\n",
        "\n",
        "test = model.predict(np_image_list_test)\n",
        "\n",
        "predicted_labels = []\n",
        "correct_labels = []\n",
        "for i in range (len(test)):\n",
        "  predicted_labels.append(np.argmax(test[i]))\n",
        "\n",
        "for i in range (len(image_labels_test)):\n",
        "  correct_labels.append(np.argmax(image_labels_test[i]))\n",
        "\n",
        "\n",
        "confusion_matrix = confusion_matrix(correct_labels, predicted_labels)\n",
        "disp = ConfusionMatrixDisplay(confusion_matrix=confusion_matrix)  \n",
        "disp.plot()\n",
        "plt.show()\n",
        "print('--------')\n",
        "FP = confusion_matrix.sum(axis=0) - np.diag(confusion_matrix)  \n",
        "FN = confusion_matrix.sum(axis=1) - np.diag(confusion_matrix)\n",
        "TP = np.diag(confusion_matrix)\n",
        "TN = confusion_matrix.sum() - (FP + FN + TP)\n",
        "\n",
        "# Sensitivity, hit rate, recall, or true positive rate\n",
        "TPR = TP/(TP+FN)\n",
        "# Specificity or true negative rate\n",
        "TNR = TN/(TN+FP) \n",
        "# Overall accuracy\n",
        "ACC = (TP+TN)/(TP+FP+FN+TN)\n",
        "\n",
        "print(TP)\n",
        "print(TN)\n",
        "print(FP)\n",
        "print(FN)\n",
        "print('--------')\n",
        "print(ACC)\n",
        "print(TPR)\n",
        "print(TNR)\n",
        "print('--------')\n",
        "\n",
        "TP = sum(TP)\n",
        "TN = sum(TN)\n",
        "FP = sum(FP)\n",
        "FN = sum(FN)\n",
        "\n",
        "# Sensitivity, hit rate, recall, or true positive rate\n",
        "TPR = TP/(TP+FN)\n",
        "# Specificity or true negative rate\n",
        "TNR = TN/(TN+FP) \n",
        "# Overall accuracy\n",
        "ACC = (TP+TN)/(TP+FP+FN+TN)\n",
        "\n",
        "print(TP)\n",
        "print(TN)\n",
        "print(FP)\n",
        "print(FN)\n",
        "print('--------')\n",
        "print(ACC)\n",
        "print(TPR)\n",
        "print(TNR)"
      ],
      "metadata": {
        "colab": {
          "base_uri": "https://localhost:8080/",
          "height": 591
        },
        "id": "xufCN02P5v4A",
        "outputId": "1e94c07b-a9d9-4bb6-ee12-07013c61a250"
      },
      "execution_count": 15,
      "outputs": [
        {
          "output_type": "display_data",
          "data": {
            "text/plain": [
              "<Figure size 432x288 with 2 Axes>"
            ],
            "image/png": "[encoded data removed]"
          },
          "metadata": {
            "needs_background": "light"
          }
        },
        {
          "output_type": "stream",
          "name": "stdout",
          "text": [
            "--------\n",
            "[ 3  6 13 41]\n",
            "[89 89 68 37]\n",
            "[ 9  5 10 23]\n",
            "[ 9 10 19  9]\n",
            "--------\n",
            "[0.83636364 0.86363636 0.73636364 0.70909091]\n",
            "[0.25    0.375   0.40625 0.82   ]\n",
            "[0.90816327 0.94680851 0.87179487 0.61666667]\n",
            "--------\n",
            "63\n",
            "283\n",
            "47\n",
            "47\n",
            "--------\n",
            "0.7863636363636364\n",
            "0.5727272727272728\n",
            "0.8575757575757575\n"
          ]
        }
      ]
    },
    {
      "cell_type": "markdown",
      "metadata": {
        "id": "bTgk1-sdzmgy"
      },
      "source": [
        "**Validating** Network"
      ]
    },
    {
      "cell_type": "code",
      "source": [
        "\n"
      ],
      "metadata": {
        "id": "d_NBE4KkWuhu"
      },
      "execution_count": 15,
      "outputs": []
    },
    {
      "cell_type": "markdown",
      "source": [
        "**Testing** Network"
      ],
      "metadata": {
        "id": "saJYjKqX9tRL"
      }
    },
    {
      "cell_type": "code",
      "source": [
        "\n"
      ],
      "metadata": {
        "id": "A7DR52hmTc75"
      },
      "execution_count": 15,
      "outputs": []
    },
    {
      "cell_type": "code",
      "source": [
        "test_img = cv2.imread('/content/Datasets/fold4/Test/apel_sehat/apel_sehat (1).jpg')\n",
        "\n",
        "plt.imshow(test_img)\n",
        "test_img = test_img / 255\n",
        "test_img = np.expand_dims(test_img, axis=0)\n",
        "pr=model.predict(test_img)\n",
        "\n",
        "print(pr)\n",
        "output = label_binarizer.inverse_transform(pr)\n",
        "print(output)"
      ],
      "metadata": {
        "colab": {
          "base_uri": "https://localhost:8080/",
          "height": 303
        },
        "id": "zkMI6CwJArvo",
        "outputId": "15764b2a-1b33-4a9b-c38b-dae6fcb38a21"
      },
      "execution_count": 16,
      "outputs": [
        {
          "output_type": "stream",
          "name": "stdout",
          "text": [
            "[[2.7773916e-03 4.0894371e-04 2.4773101e-03 9.9433631e-01]]\n",
            "['apel_sehat']\n"
          ]
        },
        {
          "output_type": "display_data",
          "data": {
            "text/plain": [
              "<Figure size 432x288 with 1 Axes>"
            ],
            "image/png": "[encoded data removed]"
          },
          "metadata": {
            "needs_background": "light"
          }
        }
      ]
    },
    {
      "cell_type": "code",
      "source": [
        "# save the model to disk\n",
        "#print(\"[INFO] Saving model...\")\n",
        "#pickle.dump(model,open('cnn_model.pkl', 'wb'))\n",
        "#model.save('/content/fold1.h5')"
      ],
      "metadata": {
        "id": "Wr_b8qBuCAIS"
      },
      "execution_count": 17,
      "outputs": []
    }
  ]
}